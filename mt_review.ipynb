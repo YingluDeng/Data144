{
 "cells": [
  {
   "cell_type": "code",
   "execution_count": 1,
   "metadata": {},
   "outputs": [],
   "source": [
    "import numpy as np\n",
    "import pandas as pd"
   ]
  },
  {
   "cell_type": "code",
   "execution_count": 2,
   "metadata": {},
   "outputs": [
    {
     "data": {
      "text/html": [
       "<div>\n",
       "<style scoped>\n",
       "    .dataframe tbody tr th:only-of-type {\n",
       "        vertical-align: middle;\n",
       "    }\n",
       "\n",
       "    .dataframe tbody tr th {\n",
       "        vertical-align: top;\n",
       "    }\n",
       "\n",
       "    .dataframe thead th {\n",
       "        text-align: right;\n",
       "    }\n",
       "</style>\n",
       "<table border=\"1\" class=\"dataframe\">\n",
       "  <thead>\n",
       "    <tr style=\"text-align: right;\">\n",
       "      <th></th>\n",
       "      <th>Quiz Question ID</th>\n",
       "      <th>Student Name</th>\n",
       "      <th>Answer Score</th>\n",
       "      <th>QTY</th>\n",
       "    </tr>\n",
       "  </thead>\n",
       "  <tbody>\n",
       "    <tr>\n",
       "      <th>0</th>\n",
       "      <td>DATA_TRANSFORM1</td>\n",
       "      <td>Geoff Hinton</td>\n",
       "      <td>1</td>\n",
       "      <td>37</td>\n",
       "    </tr>\n",
       "    <tr>\n",
       "      <th>1</th>\n",
       "      <td>KMEANS2</td>\n",
       "      <td>Geoff Hinton</td>\n",
       "      <td>2</td>\n",
       "      <td>11</td>\n",
       "    </tr>\n",
       "    <tr>\n",
       "      <th>2</th>\n",
       "      <td>DATA_TRANSFORM1</td>\n",
       "      <td>Grace Hopper</td>\n",
       "      <td>4</td>\n",
       "      <td>14</td>\n",
       "    </tr>\n",
       "    <tr>\n",
       "      <th>3</th>\n",
       "      <td>KMEANS2</td>\n",
       "      <td>Grace Hopper</td>\n",
       "      <td>1</td>\n",
       "      <td>14</td>\n",
       "    </tr>\n",
       "    <tr>\n",
       "      <th>4</th>\n",
       "      <td>DATA_TRANSFORM1</td>\n",
       "      <td>Dennis Hopper</td>\n",
       "      <td>7</td>\n",
       "      <td>52</td>\n",
       "    </tr>\n",
       "    <tr>\n",
       "      <th>5</th>\n",
       "      <td>KMEANS2</td>\n",
       "      <td>Dennis Hopper</td>\n",
       "      <td>8</td>\n",
       "      <td>366</td>\n",
       "    </tr>\n",
       "    <tr>\n",
       "      <th>6</th>\n",
       "      <td>SPECTRAL3</td>\n",
       "      <td>Dennis Hopper</td>\n",
       "      <td>1</td>\n",
       "      <td>90</td>\n",
       "    </tr>\n",
       "  </tbody>\n",
       "</table>\n",
       "</div>"
      ],
      "text/plain": [
       "  Quiz Question ID   Student Name  Answer Score  QTY\n",
       "0  DATA_TRANSFORM1   Geoff Hinton             1   37\n",
       "1          KMEANS2   Geoff Hinton             2   11\n",
       "2  DATA_TRANSFORM1   Grace Hopper             4   14\n",
       "3          KMEANS2   Grace Hopper             1   14\n",
       "4  DATA_TRANSFORM1  Dennis Hopper             7   52\n",
       "5          KMEANS2  Dennis Hopper             8  366\n",
       "6        SPECTRAL3  Dennis Hopper             1   90"
      ]
     },
     "execution_count": 2,
     "metadata": {},
     "output_type": "execute_result"
    }
   ],
   "source": [
    "d = {'Quiz Question ID': [\"DATA_TRANSFORM1\", \"KMEANS2\", \"DATA_TRANSFORM1\", \"KMEANS2\", \"DATA_TRANSFORM1\", \"KMEANS2\", \"SPECTRAL3\"], \n",
    "     'Student Name': [\"Geoff Hinton\", \"Geoff Hinton\", \"Grace Hopper\", \"Grace Hopper\", \"Dennis Hopper\", \"Dennis Hopper\", \"Dennis Hopper\"],\n",
    "     'Answer Score': [1, 2, 4, 1, 7, 8, 1], \n",
    "     'QTY': [37, 11, 14, 14, 52, 366, 90]}\n",
    "df = pd.DataFrame(data=d)\n",
    "df"
   ]
  },
  {
   "cell_type": "code",
   "execution_count": 3,
   "metadata": {},
   "outputs": [],
   "source": [
    "#population mean\n",
    "#population sd\n",
    "#z-score"
   ]
  },
  {
   "cell_type": "code",
   "execution_count": 4,
   "metadata": {},
   "outputs": [
    {
     "data": {
      "text/plain": [
       "150.0"
      ]
     },
     "execution_count": 4,
     "metadata": {},
     "output_type": "execute_result"
    }
   ],
   "source": [
    "#percent correct for Geoff Hinton\n",
    "sum(df[df[\"Student Name\"] == \"Geoff Hinton\"][\"Answer Score\"]) / len(df[df[\"Student Name\"] == \"Geoff Hinton\"]) * 100"
   ]
  },
  {
   "cell_type": "code",
   "execution_count": 5,
   "metadata": {},
   "outputs": [
    {
     "data": {
      "text/plain": [
       "3"
      ]
     },
     "execution_count": 5,
     "metadata": {},
     "output_type": "execute_result"
    }
   ],
   "source": [
    "len(df['Quiz Question ID'].unique())"
   ]
  },
  {
   "cell_type": "code",
   "execution_count": 6,
   "metadata": {},
   "outputs": [],
   "source": [
    "df['total'] = df['Answer Score'] * df['QTY']"
   ]
  },
  {
   "cell_type": "code",
   "execution_count": 7,
   "metadata": {},
   "outputs": [
    {
     "data": {
      "text/html": [
       "<div>\n",
       "<style scoped>\n",
       "    .dataframe tbody tr th:only-of-type {\n",
       "        vertical-align: middle;\n",
       "    }\n",
       "\n",
       "    .dataframe tbody tr th {\n",
       "        vertical-align: top;\n",
       "    }\n",
       "\n",
       "    .dataframe thead th {\n",
       "        text-align: right;\n",
       "    }\n",
       "</style>\n",
       "<table border=\"1\" class=\"dataframe\">\n",
       "  <thead>\n",
       "    <tr style=\"text-align: right;\">\n",
       "      <th></th>\n",
       "      <th>Quiz Question ID</th>\n",
       "      <th>Student Name</th>\n",
       "      <th>Answer Score</th>\n",
       "      <th>QTY</th>\n",
       "      <th>total</th>\n",
       "    </tr>\n",
       "  </thead>\n",
       "  <tbody>\n",
       "    <tr>\n",
       "      <th>5</th>\n",
       "      <td>KMEANS2</td>\n",
       "      <td>Dennis Hopper</td>\n",
       "      <td>8</td>\n",
       "      <td>366</td>\n",
       "      <td>2928</td>\n",
       "    </tr>\n",
       "    <tr>\n",
       "      <th>4</th>\n",
       "      <td>DATA_TRANSFORM1</td>\n",
       "      <td>Dennis Hopper</td>\n",
       "      <td>7</td>\n",
       "      <td>52</td>\n",
       "      <td>364</td>\n",
       "    </tr>\n",
       "    <tr>\n",
       "      <th>6</th>\n",
       "      <td>SPECTRAL3</td>\n",
       "      <td>Dennis Hopper</td>\n",
       "      <td>1</td>\n",
       "      <td>90</td>\n",
       "      <td>90</td>\n",
       "    </tr>\n",
       "    <tr>\n",
       "      <th>2</th>\n",
       "      <td>DATA_TRANSFORM1</td>\n",
       "      <td>Grace Hopper</td>\n",
       "      <td>4</td>\n",
       "      <td>14</td>\n",
       "      <td>56</td>\n",
       "    </tr>\n",
       "    <tr>\n",
       "      <th>0</th>\n",
       "      <td>DATA_TRANSFORM1</td>\n",
       "      <td>Geoff Hinton</td>\n",
       "      <td>1</td>\n",
       "      <td>37</td>\n",
       "      <td>37</td>\n",
       "    </tr>\n",
       "    <tr>\n",
       "      <th>1</th>\n",
       "      <td>KMEANS2</td>\n",
       "      <td>Geoff Hinton</td>\n",
       "      <td>2</td>\n",
       "      <td>11</td>\n",
       "      <td>22</td>\n",
       "    </tr>\n",
       "    <tr>\n",
       "      <th>3</th>\n",
       "      <td>KMEANS2</td>\n",
       "      <td>Grace Hopper</td>\n",
       "      <td>1</td>\n",
       "      <td>14</td>\n",
       "      <td>14</td>\n",
       "    </tr>\n",
       "  </tbody>\n",
       "</table>\n",
       "</div>"
      ],
      "text/plain": [
       "  Quiz Question ID   Student Name  Answer Score  QTY  total\n",
       "5          KMEANS2  Dennis Hopper             8  366   2928\n",
       "4  DATA_TRANSFORM1  Dennis Hopper             7   52    364\n",
       "6        SPECTRAL3  Dennis Hopper             1   90     90\n",
       "2  DATA_TRANSFORM1   Grace Hopper             4   14     56\n",
       "0  DATA_TRANSFORM1   Geoff Hinton             1   37     37\n",
       "1          KMEANS2   Geoff Hinton             2   11     22\n",
       "3          KMEANS2   Grace Hopper             1   14     14"
      ]
     },
     "execution_count": 7,
     "metadata": {},
     "output_type": "execute_result"
    }
   ],
   "source": [
    "df.sort_values(by=['total'], ascending=False)"
   ]
  },
  {
   "cell_type": "code",
   "execution_count": 8,
   "metadata": {},
   "outputs": [
    {
     "data": {
      "text/html": [
       "<div>\n",
       "<style scoped>\n",
       "    .dataframe tbody tr th:only-of-type {\n",
       "        vertical-align: middle;\n",
       "    }\n",
       "\n",
       "    .dataframe tbody tr th {\n",
       "        vertical-align: top;\n",
       "    }\n",
       "\n",
       "    .dataframe thead th {\n",
       "        text-align: right;\n",
       "    }\n",
       "</style>\n",
       "<table border=\"1\" class=\"dataframe\">\n",
       "  <thead>\n",
       "    <tr style=\"text-align: right;\">\n",
       "      <th></th>\n",
       "      <th>Quiz Question ID</th>\n",
       "      <th>Student Name</th>\n",
       "      <th>Answer Score</th>\n",
       "      <th>QTY</th>\n",
       "      <th>total</th>\n",
       "    </tr>\n",
       "  </thead>\n",
       "  <tbody>\n",
       "    <tr>\n",
       "      <th>5</th>\n",
       "      <td>KMEANS2</td>\n",
       "      <td>Dennis Hopper</td>\n",
       "      <td>8</td>\n",
       "      <td>366</td>\n",
       "      <td>2928</td>\n",
       "    </tr>\n",
       "    <tr>\n",
       "      <th>4</th>\n",
       "      <td>DATA_TRANSFORM1</td>\n",
       "      <td>Dennis Hopper</td>\n",
       "      <td>7</td>\n",
       "      <td>52</td>\n",
       "      <td>364</td>\n",
       "    </tr>\n",
       "    <tr>\n",
       "      <th>6</th>\n",
       "      <td>SPECTRAL3</td>\n",
       "      <td>Dennis Hopper</td>\n",
       "      <td>1</td>\n",
       "      <td>90</td>\n",
       "      <td>90</td>\n",
       "    </tr>\n",
       "    <tr>\n",
       "      <th>2</th>\n",
       "      <td>DATA_TRANSFORM1</td>\n",
       "      <td>Grace Hopper</td>\n",
       "      <td>4</td>\n",
       "      <td>14</td>\n",
       "      <td>56</td>\n",
       "    </tr>\n",
       "    <tr>\n",
       "      <th>0</th>\n",
       "      <td>DATA_TRANSFORM1</td>\n",
       "      <td>Geoff Hinton</td>\n",
       "      <td>1</td>\n",
       "      <td>37</td>\n",
       "      <td>37</td>\n",
       "    </tr>\n",
       "  </tbody>\n",
       "</table>\n",
       "</div>"
      ],
      "text/plain": [
       "  Quiz Question ID   Student Name  Answer Score  QTY  total\n",
       "5          KMEANS2  Dennis Hopper             8  366   2928\n",
       "4  DATA_TRANSFORM1  Dennis Hopper             7   52    364\n",
       "6        SPECTRAL3  Dennis Hopper             1   90     90\n",
       "2  DATA_TRANSFORM1   Grace Hopper             4   14     56\n",
       "0  DATA_TRANSFORM1   Geoff Hinton             1   37     37"
      ]
     },
     "execution_count": 8,
     "metadata": {},
     "output_type": "execute_result"
    }
   ],
   "source": [
    "df.sort_values(by=['total'], ascending=False)[:5]"
   ]
  },
  {
   "cell_type": "code",
   "execution_count": 9,
   "metadata": {},
   "outputs": [],
   "source": [
    "# df['total'] = df['UNIT_PRICE'] * df['QTY']; \n",
    "# df.sort_values(by=['total'], ascending=False)"
   ]
  },
  {
   "cell_type": "code",
   "execution_count": null,
   "metadata": {},
   "outputs": [],
   "source": []
  }
 ],
 "metadata": {
  "kernelspec": {
   "display_name": "Python 3",
   "language": "python",
   "name": "python3"
  },
  "language_info": {
   "codemirror_mode": {
    "name": "ipython",
    "version": 3
   },
   "file_extension": ".py",
   "mimetype": "text/x-python",
   "name": "python",
   "nbconvert_exporter": "python",
   "pygments_lexer": "ipython3",
   "version": "3.7.6"
  }
 },
 "nbformat": 4,
 "nbformat_minor": 4
}
