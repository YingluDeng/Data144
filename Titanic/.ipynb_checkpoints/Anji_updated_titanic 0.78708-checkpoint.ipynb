{
 "cells": [
  {
   "cell_type": "code",
   "execution_count": null,
   "metadata": {
    "_cell_guid": "b1076dfc-b9ad-4769-8c92-a6c4dae69d19",
    "_uuid": "8f2839f25d086af736a60e9eeb907d3b93b6e0e5",
    "cell_id": "00000-9ee8848a-c353-488c-a3e5-ffb2733fc45c",
    "deepnote_cell_type": "code",
    "deepnote_to_be_reexecuted": false,
    "execution_millis": 2884,
    "execution_start": 1633265447902,
    "id": "WTcCXR70L8LL",
    "source_hash": "eb4d3b83"
   },
   "outputs": [],
   "source": [
    "#load the library\n",
    "import numpy as np\n",
    "import pandas as pd\n",
    "import re\n",
    "import seaborn as sns\n",
    "import sklearn.datasets\n",
    "import sklearn.metrics\n",
    "from sklearn.model_selection import train_test_split\n",
    "from sklearn import preprocessing\n",
    "from sklearn.metrics import log_loss\n",
    "from sklearn.model_selection import StratifiedKFold\n",
    "from sklearn.preprocessing import QuantileTransformer\n",
    "from sklearn.metrics import accuracy_score\n",
    "import lightgbm as lgb\n",
    "import optuna\n",
    "import warnings\n",
    "from tqdm import tqdm\n",
    "import time\n",
    "from sklearn.decomposition import TruncatedSVD, PCA\n",
    "import joblib\n",
    "import matplotlib.pyplot as plt\n",
    "warnings.filterwarnings('ignore')"
   ]
  },
  {
   "cell_type": "code",
   "execution_count": null,
   "metadata": {
    "cell_id": "00001-8cefaaa1-4e6e-4b79-92bf-86d70e7644c0",
    "deepnote_cell_type": "code",
    "deepnote_to_be_reexecuted": false,
    "execution_millis": 6,
    "execution_start": 1633265450797,
    "id": "iNPo6Y58L8LQ",
    "source_hash": "5b4743e5"
   },
   "outputs": [],
   "source": [
    "#transfrom categorical data to numbers\n",
    "def label_encoding(train: pd.DataFrame, test: pd.DataFrame, encode_cols):\n",
    "    n_train = len(train)\n",
    "    train = pd.concat([train, test], sort=False).reset_index(drop=True)\n",
    "    for f in encode_cols:\n",
    "        try:\n",
    "            lbl = preprocessing.LabelEncoder()\n",
    "            train[f] = lbl.fit_transform(list(train[f].values))\n",
    "        except:\n",
    "            print(f)\n",
    "    test = train[n_train:].reset_index(drop=True)\n",
    "    train = train[:n_train]\n",
    "    return train, test"
   ]
  },
  {
   "cell_type": "code",
   "execution_count": null,
   "metadata": {
    "_cell_guid": "79c7e3d0-c299-4dcb-8224-4455121ee9b0",
    "_uuid": "d629ff2d2480ee46fbb7e2d37f6b5fab8052498a",
    "cell_id": "00002-2ffdf32d-9a93-4c1e-8f9b-d3459fdbb99b",
    "deepnote_cell_type": "code",
    "deepnote_to_be_reexecuted": false,
    "execution_millis": 114,
    "execution_start": 1633265450811,
    "id": "mWc0guWSL8LR",
    "source_hash": "db30f56e"
   },
   "outputs": [],
   "source": [
    "#import data\n",
    "train = pd.read_csv('train.csv')\n",
    "test = pd.read_csv('test.csv')\n",
    "sub = pd.read_csv('gender_submission.csv')"
   ]
  },
  {
   "cell_type": "code",
   "execution_count": null,
   "metadata": {
    "cell_id": "00003-4b968452-599b-4c86-88bc-11c71fbe55da",
    "deepnote_cell_type": "code",
    "deepnote_to_be_reexecuted": false,
    "execution_millis": 34,
    "execution_start": 1633265450966,
    "id": "ST4ntq5vL8LR",
    "outputId": "e60f431d-4ea3-459c-d344-7022fd522482",
    "source_hash": "e1f0b45"
   },
   "outputs": [
    {
     "data": {
      "application/vnd.deepnote.dataframe.v2+json": {
       "column_count": 12,
       "columns": [
        {
         "dtype": "int64",
         "name": "PassengerId",
         "stats": {
          "histogram": [
           {
            "bin_end": 1.4,
            "bin_start": 1,
            "count": 1
           },
           {
            "bin_end": 1.8,
            "bin_start": 1.4,
            "count": 0
           },
           {
            "bin_end": 2.2,
            "bin_start": 1.8,
            "count": 1
           },
           {
            "bin_end": 2.6,
            "bin_start": 2.2,
            "count": 0
           },
           {
            "bin_end": 3,
            "bin_start": 2.6,
            "count": 0
           },
           {
            "bin_end": 3.4000000000000004,
            "bin_start": 3,
            "count": 1
           },
           {
            "bin_end": 3.8000000000000003,
            "bin_start": 3.4000000000000004,
            "count": 0
           },
           {
            "bin_end": 4.2,
            "bin_start": 3.8000000000000003,
            "count": 1
           },
           {
            "bin_end": 4.6,
            "bin_start": 4.2,
            "count": 0
           },
           {
            "bin_end": 5,
            "bin_start": 4.6,
            "count": 1
           }
          ],
          "max": "5",
          "min": "1",
          "nan_count": 0,
          "unique_count": 5
         }
        },
        {
         "dtype": "int64",
         "name": "Survived",
         "stats": {
          "histogram": [
           {
            "bin_end": 0.1,
            "bin_start": 0,
            "count": 2
           },
           {
            "bin_end": 0.2,
            "bin_start": 0.1,
            "count": 0
           },
           {
            "bin_end": 0.30000000000000004,
            "bin_start": 0.2,
            "count": 0
           },
           {
            "bin_end": 0.4,
            "bin_start": 0.30000000000000004,
            "count": 0
           },
           {
            "bin_end": 0.5,
            "bin_start": 0.4,
            "count": 0
           },
           {
            "bin_end": 0.6000000000000001,
            "bin_start": 0.5,
            "count": 0
           },
           {
            "bin_end": 0.7000000000000001,
            "bin_start": 0.6000000000000001,
            "count": 0
           },
           {
            "bin_end": 0.8,
            "bin_start": 0.7000000000000001,
            "count": 0
           },
           {
            "bin_end": 0.9,
            "bin_start": 0.8,
            "count": 0
           },
           {
            "bin_end": 1,
            "bin_start": 0.9,
            "count": 3
           }
          ],
          "max": "1",
          "min": "0",
          "nan_count": 0,
          "unique_count": 2
         }
        },
        {
         "dtype": "int64",
         "name": "Pclass",
         "stats": {
          "histogram": [
           {
            "bin_end": 1.2,
            "bin_start": 1,
            "count": 2
           },
           {
            "bin_end": 1.4,
            "bin_start": 1.2,
            "count": 0
           },
           {
            "bin_end": 1.6,
            "bin_start": 1.4,
            "count": 0
           },
           {
            "bin_end": 1.8,
            "bin_start": 1.6,
            "count": 0
           },
           {
            "bin_end": 2,
            "bin_start": 1.8,
            "count": 0
           },
           {
            "bin_end": 2.2,
            "bin_start": 2,
            "count": 0
           },
           {
            "bin_end": 2.4000000000000004,
            "bin_start": 2.2,
            "count": 0
           },
           {
            "bin_end": 2.6,
            "bin_start": 2.4000000000000004,
            "count": 0
           },
           {
            "bin_end": 2.8,
            "bin_start": 2.6,
            "count": 0
           },
           {
            "bin_end": 3,
            "bin_start": 2.8,
            "count": 3
           }
          ],
          "max": "3",
          "min": "1",
          "nan_count": 0,
          "unique_count": 2
         }
        },
        {
         "dtype": "object",
         "name": "Name",
         "stats": {
          "categories": [
           {
            "count": 1,
            "name": "Braund, Mr. Owen Harris"
           },
           {
            "count": 1,
            "name": "Cumings, Mrs. John Bradley (Florence Briggs Thayer)"
           },
           {
            "count": 3,
            "name": "3 others"
           }
          ],
          "nan_count": 0,
          "unique_count": 5
         }
        },
        {
         "dtype": "object",
         "name": "Sex",
         "stats": {
          "categories": [
           {
            "count": 3,
            "name": "female"
           },
           {
            "count": 2,
            "name": "male"
           }
          ],
          "nan_count": 0,
          "unique_count": 2
         }
        },
        {
         "dtype": "float64",
         "name": "Age",
         "stats": {
          "histogram": [
           {
            "bin_end": 23.6,
            "bin_start": 22,
            "count": 1
           },
           {
            "bin_end": 25.2,
            "bin_start": 23.6,
            "count": 0
           },
           {
            "bin_end": 26.8,
            "bin_start": 25.2,
            "count": 1
           },
           {
            "bin_end": 28.4,
            "bin_start": 26.8,
            "count": 0
           },
           {
            "bin_end": 30,
            "bin_start": 28.4,
            "count": 0
           },
           {
            "bin_end": 31.6,
            "bin_start": 30,
            "count": 0
           },
           {
            "bin_end": 33.2,
            "bin_start": 31.6,
            "count": 0
           },
           {
            "bin_end": 34.8,
            "bin_start": 33.2,
            "count": 0
           },
           {
            "bin_end": 36.4,
            "bin_start": 34.8,
            "count": 2
           },
           {
            "bin_end": 38,
            "bin_start": 36.4,
            "count": 1
           }
          ],
          "max": "38.0",
          "min": "22.0",
          "nan_count": 0,
          "unique_count": 4
         }
        },
        {
         "dtype": "int64",
         "name": "SibSp",
         "stats": {
          "histogram": [
           {
            "bin_end": 0.1,
            "bin_start": 0,
            "count": 2
           },
           {
            "bin_end": 0.2,
            "bin_start": 0.1,
            "count": 0
           },
           {
            "bin_end": 0.30000000000000004,
            "bin_start": 0.2,
            "count": 0
           },
           {
            "bin_end": 0.4,
            "bin_start": 0.30000000000000004,
            "count": 0
           },
           {
            "bin_end": 0.5,
            "bin_start": 0.4,
            "count": 0
           },
           {
            "bin_end": 0.6000000000000001,
            "bin_start": 0.5,
            "count": 0
           },
           {
            "bin_end": 0.7000000000000001,
            "bin_start": 0.6000000000000001,
            "count": 0
           },
           {
            "bin_end": 0.8,
            "bin_start": 0.7000000000000001,
            "count": 0
           },
           {
            "bin_end": 0.9,
            "bin_start": 0.8,
            "count": 0
           },
           {
            "bin_end": 1,
            "bin_start": 0.9,
            "count": 3
           }
          ],
          "max": "1",
          "min": "0",
          "nan_count": 0,
          "unique_count": 2
         }
        },
        {
         "dtype": "int64",
         "name": "Parch",
         "stats": {
          "histogram": [
           {
            "bin_end": -0.4,
            "bin_start": -0.5,
            "count": 0
           },
           {
            "bin_end": -0.3,
            "bin_start": -0.4,
            "count": 0
           },
           {
            "bin_end": -0.19999999999999996,
            "bin_start": -0.3,
            "count": 0
           },
           {
            "bin_end": -0.09999999999999998,
            "bin_start": -0.19999999999999996,
            "count": 0
           },
           {
            "bin_end": 0,
            "bin_start": -0.09999999999999998,
            "count": 0
           },
           {
            "bin_end": 0.10000000000000009,
            "bin_start": 0,
            "count": 5
           },
           {
            "bin_end": 0.20000000000000007,
            "bin_start": 0.10000000000000009,
            "count": 0
           },
           {
            "bin_end": 0.30000000000000004,
            "bin_start": 0.20000000000000007,
            "count": 0
           },
           {
            "bin_end": 0.4,
            "bin_start": 0.30000000000000004,
            "count": 0
           },
           {
            "bin_end": 0.5,
            "bin_start": 0.4,
            "count": 0
           }
          ],
          "max": "0",
          "min": "0",
          "nan_count": 0,
          "unique_count": 1
         }
        },
        {
         "dtype": "object",
         "name": "Ticket",
         "stats": {
          "categories": [
           {
            "count": 1,
            "name": "A/5 21171"
           },
           {
            "count": 1,
            "name": "PC 17599"
           },
           {
            "count": 3,
            "name": "3 others"
           }
          ],
          "nan_count": 0,
          "unique_count": 5
         }
        },
        {
         "dtype": "float64",
         "name": "Fare",
         "stats": {
          "histogram": [
           {
            "bin_end": 13.65333,
            "bin_start": 7.25,
            "count": 3
           },
           {
            "bin_end": 20.05666,
            "bin_start": 13.65333,
            "count": 0
           },
           {
            "bin_end": 26.459989999999998,
            "bin_start": 20.05666,
            "count": 0
           },
           {
            "bin_end": 32.86332,
            "bin_start": 26.459989999999998,
            "count": 0
           },
           {
            "bin_end": 39.26665,
            "bin_start": 32.86332,
            "count": 0
           },
           {
            "bin_end": 45.669979999999995,
            "bin_start": 39.26665,
            "count": 0
           },
           {
            "bin_end": 52.07331,
            "bin_start": 45.669979999999995,
            "count": 0
           },
           {
            "bin_end": 58.476639999999996,
            "bin_start": 52.07331,
            "count": 1
           },
           {
            "bin_end": 64.87996999999999,
            "bin_start": 58.476639999999996,
            "count": 0
           },
           {
            "bin_end": 71.2833,
            "bin_start": 64.87996999999999,
            "count": 1
           }
          ],
          "max": "71.2833",
          "min": "7.25",
          "nan_count": 0,
          "unique_count": 5
         }
        },
        {
         "dtype": "object",
         "name": "Cabin",
         "stats": {
          "categories": [
           {
            "count": 1,
            "name": "C85"
           },
           {
            "count": 1,
            "name": "C123"
           },
           {
            "count": 3,
            "name": "Missing"
           }
          ],
          "nan_count": 3,
          "unique_count": 2
         }
        },
        {
         "dtype": "object",
         "name": "Embarked",
         "stats": {
          "categories": [
           {
            "count": 4,
            "name": "S"
           },
           {
            "count": 1,
            "name": "C"
           }
          ],
          "nan_count": 0,
          "unique_count": 2
         }
        },
        {
         "dtype": "int64",
         "name": "_deepnote_index_column"
        }
       ],
       "row_count": 5,
       "rows_bottom": null,
       "rows_top": [
        {
         "Age": 22,
         "Cabin": "nan",
         "Embarked": "S",
         "Fare": 7.25,
         "Name": "Braund, Mr. Owen Harris",
         "Parch": 0,
         "PassengerId": 1,
         "Pclass": 3,
         "Sex": "male",
         "SibSp": 1,
         "Survived": 0,
         "Ticket": "A/5 21171",
         "_deepnote_index_column": 0
        },
        {
         "Age": 38,
         "Cabin": "C85",
         "Embarked": "C",
         "Fare": 71.2833,
         "Name": "Cumings, Mrs. John Bradley (Florence Briggs Thayer)",
         "Parch": 0,
         "PassengerId": 2,
         "Pclass": 1,
         "Sex": "female",
         "SibSp": 1,
         "Survived": 1,
         "Ticket": "PC 17599",
         "_deepnote_index_column": 1
        },
        {
         "Age": 26,
         "Cabin": "nan",
         "Embarked": "S",
         "Fare": 7.925,
         "Name": "Heikkinen, Miss. Laina",
         "Parch": 0,
         "PassengerId": 3,
         "Pclass": 3,
         "Sex": "female",
         "SibSp": 0,
         "Survived": 1,
         "Ticket": "STON/O2. 3101282",
         "_deepnote_index_column": 2
        },
        {
         "Age": 35,
         "Cabin": "C123",
         "Embarked": "S",
         "Fare": 53.1,
         "Name": "Futrelle, Mrs. Jacques Heath (Lily May Peel)",
         "Parch": 0,
         "PassengerId": 4,
         "Pclass": 1,
         "Sex": "female",
         "SibSp": 1,
         "Survived": 1,
         "Ticket": "113803",
         "_deepnote_index_column": 3
        },
        {
         "Age": 35,
         "Cabin": "nan",
         "Embarked": "S",
         "Fare": 8.05,
         "Name": "Allen, Mr. William Henry",
         "Parch": 0,
         "PassengerId": 5,
         "Pclass": 3,
         "Sex": "male",
         "SibSp": 0,
         "Survived": 0,
         "Ticket": "373450",
         "_deepnote_index_column": 4
        }
       ]
      },
      "text/html": [
       "<div>\n",
       "<style scoped>\n",
       "    .dataframe tbody tr th:only-of-type {\n",
       "        vertical-align: middle;\n",
       "    }\n",
       "\n",
       "    .dataframe tbody tr th {\n",
       "        vertical-align: top;\n",
       "    }\n",
       "\n",
       "    .dataframe thead th {\n",
       "        text-align: right;\n",
       "    }\n",
       "</style>\n",
       "<table border=\"1\" class=\"dataframe\">\n",
       "  <thead>\n",
       "    <tr style=\"text-align: right;\">\n",
       "      <th></th>\n",
       "      <th>PassengerId</th>\n",
       "      <th>Survived</th>\n",
       "      <th>Pclass</th>\n",
       "      <th>Name</th>\n",
       "      <th>Sex</th>\n",
       "      <th>Age</th>\n",
       "      <th>SibSp</th>\n",
       "      <th>Parch</th>\n",
       "      <th>Ticket</th>\n",
       "      <th>Fare</th>\n",
       "      <th>Cabin</th>\n",
       "      <th>Embarked</th>\n",
       "    </tr>\n",
       "  </thead>\n",
       "  <tbody>\n",
       "    <tr>\n",
       "      <th>0</th>\n",
       "      <td>1</td>\n",
       "      <td>0</td>\n",
       "      <td>3</td>\n",
       "      <td>Braund, Mr. Owen Harris</td>\n",
       "      <td>male</td>\n",
       "      <td>22.0</td>\n",
       "      <td>1</td>\n",
       "      <td>0</td>\n",
       "      <td>A/5 21171</td>\n",
       "      <td>7.2500</td>\n",
       "      <td>NaN</td>\n",
       "      <td>S</td>\n",
       "    </tr>\n",
       "    <tr>\n",
       "      <th>1</th>\n",
       "      <td>2</td>\n",
       "      <td>1</td>\n",
       "      <td>1</td>\n",
       "      <td>Cumings, Mrs. John Bradley (Florence Briggs Th...</td>\n",
       "      <td>female</td>\n",
       "      <td>38.0</td>\n",
       "      <td>1</td>\n",
       "      <td>0</td>\n",
       "      <td>PC 17599</td>\n",
       "      <td>71.2833</td>\n",
       "      <td>C85</td>\n",
       "      <td>C</td>\n",
       "    </tr>\n",
       "    <tr>\n",
       "      <th>2</th>\n",
       "      <td>3</td>\n",
       "      <td>1</td>\n",
       "      <td>3</td>\n",
       "      <td>Heikkinen, Miss. Laina</td>\n",
       "      <td>female</td>\n",
       "      <td>26.0</td>\n",
       "      <td>0</td>\n",
       "      <td>0</td>\n",
       "      <td>STON/O2. 3101282</td>\n",
       "      <td>7.9250</td>\n",
       "      <td>NaN</td>\n",
       "      <td>S</td>\n",
       "    </tr>\n",
       "    <tr>\n",
       "      <th>3</th>\n",
       "      <td>4</td>\n",
       "      <td>1</td>\n",
       "      <td>1</td>\n",
       "      <td>Futrelle, Mrs. Jacques Heath (Lily May Peel)</td>\n",
       "      <td>female</td>\n",
       "      <td>35.0</td>\n",
       "      <td>1</td>\n",
       "      <td>0</td>\n",
       "      <td>113803</td>\n",
       "      <td>53.1000</td>\n",
       "      <td>C123</td>\n",
       "      <td>S</td>\n",
       "    </tr>\n",
       "    <tr>\n",
       "      <th>4</th>\n",
       "      <td>5</td>\n",
       "      <td>0</td>\n",
       "      <td>3</td>\n",
       "      <td>Allen, Mr. William Henry</td>\n",
       "      <td>male</td>\n",
       "      <td>35.0</td>\n",
       "      <td>0</td>\n",
       "      <td>0</td>\n",
       "      <td>373450</td>\n",
       "      <td>8.0500</td>\n",
       "      <td>NaN</td>\n",
       "      <td>S</td>\n",
       "    </tr>\n",
       "  </tbody>\n",
       "</table>\n",
       "</div>"
      ],
      "text/plain": [
       "   PassengerId  Survived  Pclass  \\\n",
       "0            1         0       3   \n",
       "1            2         1       1   \n",
       "2            3         1       3   \n",
       "3            4         1       1   \n",
       "4            5         0       3   \n",
       "\n",
       "                                                Name     Sex   Age  SibSp  \\\n",
       "0                            Braund, Mr. Owen Harris    male  22.0      1   \n",
       "1  Cumings, Mrs. John Bradley (Florence Briggs Th...  female  38.0      1   \n",
       "2                             Heikkinen, Miss. Laina  female  26.0      0   \n",
       "3       Futrelle, Mrs. Jacques Heath (Lily May Peel)  female  35.0      1   \n",
       "4                           Allen, Mr. William Henry    male  35.0      0   \n",
       "\n",
       "   Parch            Ticket     Fare Cabin Embarked  \n",
       "0      0         A/5 21171   7.2500   NaN        S  \n",
       "1      0          PC 17599  71.2833   C85        C  \n",
       "2      0  STON/O2. 3101282   7.9250   NaN        S  \n",
       "3      0            113803  53.1000  C123        S  \n",
       "4      0            373450   8.0500   NaN        S  "
      ]
     },
     "execution_count": 4,
     "metadata": {},
     "output_type": "execute_result"
    }
   ],
   "source": [
    "train.head()"
   ]
  },
  {
   "cell_type": "code",
   "execution_count": null,
   "metadata": {
    "cell_id": "00004-760d30e8-d6f6-4de5-b70b-ce9aa0bd062e",
    "deepnote_cell_type": "code",
    "deepnote_to_be_reexecuted": false,
    "execution_millis": 54,
    "execution_start": 1633265451002,
    "id": "jzAN3bN9L8LS",
    "outputId": "1dfaa7b6-6b48-4d26-f41a-aaa27dc9b967",
    "source_hash": "476785e4"
   },
   "outputs": [
    {
     "data": {
      "application/vnd.deepnote.dataframe.v2+json": {
       "column_count": 11,
       "columns": [
        {
         "dtype": "int64",
         "name": "PassengerId",
         "stats": {
          "histogram": [
           {
            "bin_end": 892.4,
            "bin_start": 892,
            "count": 1
           },
           {
            "bin_end": 892.8,
            "bin_start": 892.4,
            "count": 0
           },
           {
            "bin_end": 893.2,
            "bin_start": 892.8,
            "count": 1
           },
           {
            "bin_end": 893.6,
            "bin_start": 893.2,
            "count": 0
           },
           {
            "bin_end": 894,
            "bin_start": 893.6,
            "count": 0
           },
           {
            "bin_end": 894.4,
            "bin_start": 894,
            "count": 1
           },
           {
            "bin_end": 894.8,
            "bin_start": 894.4,
            "count": 0
           },
           {
            "bin_end": 895.2,
            "bin_start": 894.8,
            "count": 1
           },
           {
            "bin_end": 895.6,
            "bin_start": 895.2,
            "count": 0
           },
           {
            "bin_end": 896,
            "bin_start": 895.6,
            "count": 1
           }
          ],
          "max": "896",
          "min": "892",
          "nan_count": 0,
          "unique_count": 5
         }
        },
        {
         "dtype": "int64",
         "name": "Pclass",
         "stats": {
          "histogram": [
           {
            "bin_end": 2.1,
            "bin_start": 2,
            "count": 1
           },
           {
            "bin_end": 2.2,
            "bin_start": 2.1,
            "count": 0
           },
           {
            "bin_end": 2.3,
            "bin_start": 2.2,
            "count": 0
           },
           {
            "bin_end": 2.4,
            "bin_start": 2.3,
            "count": 0
           },
           {
            "bin_end": 2.5,
            "bin_start": 2.4,
            "count": 0
           },
           {
            "bin_end": 2.6,
            "bin_start": 2.5,
            "count": 0
           },
           {
            "bin_end": 2.7,
            "bin_start": 2.6,
            "count": 0
           },
           {
            "bin_end": 2.8,
            "bin_start": 2.7,
            "count": 0
           },
           {
            "bin_end": 2.9,
            "bin_start": 2.8,
            "count": 0
           },
           {
            "bin_end": 3,
            "bin_start": 2.9,
            "count": 4
           }
          ],
          "max": "3",
          "min": "2",
          "nan_count": 0,
          "unique_count": 2
         }
        },
        {
         "dtype": "object",
         "name": "Name",
         "stats": {
          "categories": [
           {
            "count": 1,
            "name": "Kelly, Mr. James"
           },
           {
            "count": 1,
            "name": "Wilkes, Mrs. James (Ellen Needs)"
           },
           {
            "count": 3,
            "name": "3 others"
           }
          ],
          "nan_count": 0,
          "unique_count": 5
         }
        },
        {
         "dtype": "object",
         "name": "Sex",
         "stats": {
          "categories": [
           {
            "count": 3,
            "name": "male"
           },
           {
            "count": 2,
            "name": "female"
           }
          ],
          "nan_count": 0,
          "unique_count": 2
         }
        },
        {
         "dtype": "float64",
         "name": "Age",
         "stats": {
          "histogram": [
           {
            "bin_end": 26,
            "bin_start": 22,
            "count": 1
           },
           {
            "bin_end": 30,
            "bin_start": 26,
            "count": 1
           },
           {
            "bin_end": 34,
            "bin_start": 30,
            "count": 0
           },
           {
            "bin_end": 38,
            "bin_start": 34,
            "count": 1
           },
           {
            "bin_end": 42,
            "bin_start": 38,
            "count": 0
           },
           {
            "bin_end": 46,
            "bin_start": 42,
            "count": 0
           },
           {
            "bin_end": 50,
            "bin_start": 46,
            "count": 1
           },
           {
            "bin_end": 54,
            "bin_start": 50,
            "count": 0
           },
           {
            "bin_end": 58,
            "bin_start": 54,
            "count": 0
           },
           {
            "bin_end": 62,
            "bin_start": 58,
            "count": 1
           }
          ],
          "max": "62.0",
          "min": "22.0",
          "nan_count": 0,
          "unique_count": 5
         }
        },
        {
         "dtype": "int64",
         "name": "SibSp",
         "stats": {
          "histogram": [
           {
            "bin_end": 0.1,
            "bin_start": 0,
            "count": 3
           },
           {
            "bin_end": 0.2,
            "bin_start": 0.1,
            "count": 0
           },
           {
            "bin_end": 0.30000000000000004,
            "bin_start": 0.2,
            "count": 0
           },
           {
            "bin_end": 0.4,
            "bin_start": 0.30000000000000004,
            "count": 0
           },
           {
            "bin_end": 0.5,
            "bin_start": 0.4,
            "count": 0
           },
           {
            "bin_end": 0.6000000000000001,
            "bin_start": 0.5,
            "count": 0
           },
           {
            "bin_end": 0.7000000000000001,
            "bin_start": 0.6000000000000001,
            "count": 0
           },
           {
            "bin_end": 0.8,
            "bin_start": 0.7000000000000001,
            "count": 0
           },
           {
            "bin_end": 0.9,
            "bin_start": 0.8,
            "count": 0
           },
           {
            "bin_end": 1,
            "bin_start": 0.9,
            "count": 2
           }
          ],
          "max": "1",
          "min": "0",
          "nan_count": 0,
          "unique_count": 2
         }
        },
        {
         "dtype": "int64",
         "name": "Parch",
         "stats": {
          "histogram": [
           {
            "bin_end": 0.1,
            "bin_start": 0,
            "count": 4
           },
           {
            "bin_end": 0.2,
            "bin_start": 0.1,
            "count": 0
           },
           {
            "bin_end": 0.30000000000000004,
            "bin_start": 0.2,
            "count": 0
           },
           {
            "bin_end": 0.4,
            "bin_start": 0.30000000000000004,
            "count": 0
           },
           {
            "bin_end": 0.5,
            "bin_start": 0.4,
            "count": 0
           },
           {
            "bin_end": 0.6000000000000001,
            "bin_start": 0.5,
            "count": 0
           },
           {
            "bin_end": 0.7000000000000001,
            "bin_start": 0.6000000000000001,
            "count": 0
           },
           {
            "bin_end": 0.8,
            "bin_start": 0.7000000000000001,
            "count": 0
           },
           {
            "bin_end": 0.9,
            "bin_start": 0.8,
            "count": 0
           },
           {
            "bin_end": 1,
            "bin_start": 0.9,
            "count": 1
           }
          ],
          "max": "1",
          "min": "0",
          "nan_count": 0,
          "unique_count": 2
         }
        },
        {
         "dtype": "object",
         "name": "Ticket",
         "stats": {
          "categories": [
           {
            "count": 1,
            "name": "330911"
           },
           {
            "count": 1,
            "name": "363272"
           },
           {
            "count": 3,
            "name": "3 others"
           }
          ],
          "nan_count": 0,
          "unique_count": 5
         }
        },
        {
         "dtype": "float64",
         "name": "Fare",
         "stats": {
          "histogram": [
           {
            "bin_end": 7.52875,
            "bin_start": 7,
            "count": 1
           },
           {
            "bin_end": 8.0575,
            "bin_start": 7.52875,
            "count": 1
           },
           {
            "bin_end": 8.58625,
            "bin_start": 8.0575,
            "count": 0
           },
           {
            "bin_end": 9.115,
            "bin_start": 8.58625,
            "count": 1
           },
           {
            "bin_end": 9.64375,
            "bin_start": 9.115,
            "count": 0
           },
           {
            "bin_end": 10.1725,
            "bin_start": 9.64375,
            "count": 1
           },
           {
            "bin_end": 10.70125,
            "bin_start": 10.1725,
            "count": 0
           },
           {
            "bin_end": 11.23,
            "bin_start": 10.70125,
            "count": 0
           },
           {
            "bin_end": 11.75875,
            "bin_start": 11.23,
            "count": 0
           },
           {
            "bin_end": 12.2875,
            "bin_start": 11.75875,
            "count": 1
           }
          ],
          "max": "12.2875",
          "min": "7.0",
          "nan_count": 0,
          "unique_count": 5
         }
        },
        {
         "dtype": "object",
         "name": "Cabin",
         "stats": {
          "categories": [
           {
            "count": 5,
            "name": "Missing"
           }
          ],
          "nan_count": 5,
          "unique_count": 0
         }
        },
        {
         "dtype": "object",
         "name": "Embarked",
         "stats": {
          "categories": [
           {
            "count": 3,
            "name": "S"
           },
           {
            "count": 2,
            "name": "Q"
           }
          ],
          "nan_count": 0,
          "unique_count": 2
         }
        },
        {
         "dtype": "int64",
         "name": "_deepnote_index_column"
        }
       ],
       "row_count": 5,
       "rows_bottom": null,
       "rows_top": [
        {
         "Age": 34.5,
         "Cabin": "nan",
         "Embarked": "Q",
         "Fare": 7.8292,
         "Name": "Kelly, Mr. James",
         "Parch": 0,
         "PassengerId": 892,
         "Pclass": 3,
         "Sex": "male",
         "SibSp": 0,
         "Ticket": "330911",
         "_deepnote_index_column": 0
        },
        {
         "Age": 47,
         "Cabin": "nan",
         "Embarked": "S",
         "Fare": 7,
         "Name": "Wilkes, Mrs. James (Ellen Needs)",
         "Parch": 0,
         "PassengerId": 893,
         "Pclass": 3,
         "Sex": "female",
         "SibSp": 1,
         "Ticket": "363272",
         "_deepnote_index_column": 1
        },
        {
         "Age": 62,
         "Cabin": "nan",
         "Embarked": "Q",
         "Fare": 9.6875,
         "Name": "Myles, Mr. Thomas Francis",
         "Parch": 0,
         "PassengerId": 894,
         "Pclass": 2,
         "Sex": "male",
         "SibSp": 0,
         "Ticket": "240276",
         "_deepnote_index_column": 2
        },
        {
         "Age": 27,
         "Cabin": "nan",
         "Embarked": "S",
         "Fare": 8.6625,
         "Name": "Wirz, Mr. Albert",
         "Parch": 0,
         "PassengerId": 895,
         "Pclass": 3,
         "Sex": "male",
         "SibSp": 0,
         "Ticket": "315154",
         "_deepnote_index_column": 3
        },
        {
         "Age": 22,
         "Cabin": "nan",
         "Embarked": "S",
         "Fare": 12.2875,
         "Name": "Hirvonen, Mrs. Alexander (Helga E Lindqvist)",
         "Parch": 1,
         "PassengerId": 896,
         "Pclass": 3,
         "Sex": "female",
         "SibSp": 1,
         "Ticket": "3101298",
         "_deepnote_index_column": 4
        }
       ]
      },
      "text/html": [
       "<div>\n",
       "<style scoped>\n",
       "    .dataframe tbody tr th:only-of-type {\n",
       "        vertical-align: middle;\n",
       "    }\n",
       "\n",
       "    .dataframe tbody tr th {\n",
       "        vertical-align: top;\n",
       "    }\n",
       "\n",
       "    .dataframe thead th {\n",
       "        text-align: right;\n",
       "    }\n",
       "</style>\n",
       "<table border=\"1\" class=\"dataframe\">\n",
       "  <thead>\n",
       "    <tr style=\"text-align: right;\">\n",
       "      <th></th>\n",
       "      <th>PassengerId</th>\n",
       "      <th>Pclass</th>\n",
       "      <th>Name</th>\n",
       "      <th>Sex</th>\n",
       "      <th>Age</th>\n",
       "      <th>SibSp</th>\n",
       "      <th>Parch</th>\n",
       "      <th>Ticket</th>\n",
       "      <th>Fare</th>\n",
       "      <th>Cabin</th>\n",
       "      <th>Embarked</th>\n",
       "    </tr>\n",
       "  </thead>\n",
       "  <tbody>\n",
       "    <tr>\n",
       "      <th>0</th>\n",
       "      <td>892</td>\n",
       "      <td>3</td>\n",
       "      <td>Kelly, Mr. James</td>\n",
       "      <td>male</td>\n",
       "      <td>34.5</td>\n",
       "      <td>0</td>\n",
       "      <td>0</td>\n",
       "      <td>330911</td>\n",
       "      <td>7.8292</td>\n",
       "      <td>NaN</td>\n",
       "      <td>Q</td>\n",
       "    </tr>\n",
       "    <tr>\n",
       "      <th>1</th>\n",
       "      <td>893</td>\n",
       "      <td>3</td>\n",
       "      <td>Wilkes, Mrs. James (Ellen Needs)</td>\n",
       "      <td>female</td>\n",
       "      <td>47.0</td>\n",
       "      <td>1</td>\n",
       "      <td>0</td>\n",
       "      <td>363272</td>\n",
       "      <td>7.0000</td>\n",
       "      <td>NaN</td>\n",
       "      <td>S</td>\n",
       "    </tr>\n",
       "    <tr>\n",
       "      <th>2</th>\n",
       "      <td>894</td>\n",
       "      <td>2</td>\n",
       "      <td>Myles, Mr. Thomas Francis</td>\n",
       "      <td>male</td>\n",
       "      <td>62.0</td>\n",
       "      <td>0</td>\n",
       "      <td>0</td>\n",
       "      <td>240276</td>\n",
       "      <td>9.6875</td>\n",
       "      <td>NaN</td>\n",
       "      <td>Q</td>\n",
       "    </tr>\n",
       "    <tr>\n",
       "      <th>3</th>\n",
       "      <td>895</td>\n",
       "      <td>3</td>\n",
       "      <td>Wirz, Mr. Albert</td>\n",
       "      <td>male</td>\n",
       "      <td>27.0</td>\n",
       "      <td>0</td>\n",
       "      <td>0</td>\n",
       "      <td>315154</td>\n",
       "      <td>8.6625</td>\n",
       "      <td>NaN</td>\n",
       "      <td>S</td>\n",
       "    </tr>\n",
       "    <tr>\n",
       "      <th>4</th>\n",
       "      <td>896</td>\n",
       "      <td>3</td>\n",
       "      <td>Hirvonen, Mrs. Alexander (Helga E Lindqvist)</td>\n",
       "      <td>female</td>\n",
       "      <td>22.0</td>\n",
       "      <td>1</td>\n",
       "      <td>1</td>\n",
       "      <td>3101298</td>\n",
       "      <td>12.2875</td>\n",
       "      <td>NaN</td>\n",
       "      <td>S</td>\n",
       "    </tr>\n",
       "  </tbody>\n",
       "</table>\n",
       "</div>"
      ],
      "text/plain": [
       "   PassengerId  Pclass                                          Name     Sex  \\\n",
       "0          892       3                              Kelly, Mr. James    male   \n",
       "1          893       3              Wilkes, Mrs. James (Ellen Needs)  female   \n",
       "2          894       2                     Myles, Mr. Thomas Francis    male   \n",
       "3          895       3                              Wirz, Mr. Albert    male   \n",
       "4          896       3  Hirvonen, Mrs. Alexander (Helga E Lindqvist)  female   \n",
       "\n",
       "    Age  SibSp  Parch   Ticket     Fare Cabin Embarked  \n",
       "0  34.5      0      0   330911   7.8292   NaN        Q  \n",
       "1  47.0      1      0   363272   7.0000   NaN        S  \n",
       "2  62.0      0      0   240276   9.6875   NaN        Q  \n",
       "3  27.0      0      0   315154   8.6625   NaN        S  \n",
       "4  22.0      1      1  3101298  12.2875   NaN        S  "
      ]
     },
     "execution_count": 5,
     "metadata": {},
     "output_type": "execute_result"
    }
   ],
   "source": [
    "test.head()"
   ]
  },
  {
   "cell_type": "code",
   "execution_count": null,
   "metadata": {
    "cell_id": "00005-cb130e6c-5c1b-432d-b335-e22eee059349",
    "deepnote_cell_type": "code",
    "deepnote_to_be_reexecuted": false,
    "execution_millis": 9,
    "execution_start": 1633265451083,
    "id": "h3q2UPx4L8LT",
    "outputId": "d118ec8a-dd45-4946-ec98-efe9737a1228",
    "source_hash": "8006965d"
   },
   "outputs": [
    {
     "data": {
      "application/vnd.deepnote.dataframe.v2+json": {
       "column_count": 2,
       "columns": [
        {
         "dtype": "int64",
         "name": "PassengerId",
         "stats": {
          "histogram": [
           {
            "bin_end": 892.4,
            "bin_start": 892,
            "count": 1
           },
           {
            "bin_end": 892.8,
            "bin_start": 892.4,
            "count": 0
           },
           {
            "bin_end": 893.2,
            "bin_start": 892.8,
            "count": 1
           },
           {
            "bin_end": 893.6,
            "bin_start": 893.2,
            "count": 0
           },
           {
            "bin_end": 894,
            "bin_start": 893.6,
            "count": 0
           },
           {
            "bin_end": 894.4,
            "bin_start": 894,
            "count": 1
           },
           {
            "bin_end": 894.8,
            "bin_start": 894.4,
            "count": 0
           },
           {
            "bin_end": 895.2,
            "bin_start": 894.8,
            "count": 1
           },
           {
            "bin_end": 895.6,
            "bin_start": 895.2,
            "count": 0
           },
           {
            "bin_end": 896,
            "bin_start": 895.6,
            "count": 1
           }
          ],
          "max": "896",
          "min": "892",
          "nan_count": 0,
          "unique_count": 5
         }
        },
        {
         "dtype": "int64",
         "name": "Survived",
         "stats": {
          "histogram": [
           {
            "bin_end": 0.1,
            "bin_start": 0,
            "count": 3
           },
           {
            "bin_end": 0.2,
            "bin_start": 0.1,
            "count": 0
           },
           {
            "bin_end": 0.30000000000000004,
            "bin_start": 0.2,
            "count": 0
           },
           {
            "bin_end": 0.4,
            "bin_start": 0.30000000000000004,
            "count": 0
           },
           {
            "bin_end": 0.5,
            "bin_start": 0.4,
            "count": 0
           },
           {
            "bin_end": 0.6000000000000001,
            "bin_start": 0.5,
            "count": 0
           },
           {
            "bin_end": 0.7000000000000001,
            "bin_start": 0.6000000000000001,
            "count": 0
           },
           {
            "bin_end": 0.8,
            "bin_start": 0.7000000000000001,
            "count": 0
           },
           {
            "bin_end": 0.9,
            "bin_start": 0.8,
            "count": 0
           },
           {
            "bin_end": 1,
            "bin_start": 0.9,
            "count": 2
           }
          ],
          "max": "1",
          "min": "0",
          "nan_count": 0,
          "unique_count": 2
         }
        },
        {
         "dtype": "int64",
         "name": "_deepnote_index_column"
        }
       ],
       "row_count": 5,
       "rows_bottom": null,
       "rows_top": [
        {
         "PassengerId": 892,
         "Survived": 0,
         "_deepnote_index_column": 0
        },
        {
         "PassengerId": 893,
         "Survived": 1,
         "_deepnote_index_column": 1
        },
        {
         "PassengerId": 894,
         "Survived": 0,
         "_deepnote_index_column": 2
        },
        {
         "PassengerId": 895,
         "Survived": 0,
         "_deepnote_index_column": 3
        },
        {
         "PassengerId": 896,
         "Survived": 1,
         "_deepnote_index_column": 4
        }
       ]
      },
      "text/html": [
       "<div>\n",
       "<style scoped>\n",
       "    .dataframe tbody tr th:only-of-type {\n",
       "        vertical-align: middle;\n",
       "    }\n",
       "\n",
       "    .dataframe tbody tr th {\n",
       "        vertical-align: top;\n",
       "    }\n",
       "\n",
       "    .dataframe thead th {\n",
       "        text-align: right;\n",
       "    }\n",
       "</style>\n",
       "<table border=\"1\" class=\"dataframe\">\n",
       "  <thead>\n",
       "    <tr style=\"text-align: right;\">\n",
       "      <th></th>\n",
       "      <th>PassengerId</th>\n",
       "      <th>Survived</th>\n",
       "    </tr>\n",
       "  </thead>\n",
       "  <tbody>\n",
       "    <tr>\n",
       "      <th>0</th>\n",
       "      <td>892</td>\n",
       "      <td>0</td>\n",
       "    </tr>\n",
       "    <tr>\n",
       "      <th>1</th>\n",
       "      <td>893</td>\n",
       "      <td>1</td>\n",
       "    </tr>\n",
       "    <tr>\n",
       "      <th>2</th>\n",
       "      <td>894</td>\n",
       "      <td>0</td>\n",
       "    </tr>\n",
       "    <tr>\n",
       "      <th>3</th>\n",
       "      <td>895</td>\n",
       "      <td>0</td>\n",
       "    </tr>\n",
       "    <tr>\n",
       "      <th>4</th>\n",
       "      <td>896</td>\n",
       "      <td>1</td>\n",
       "    </tr>\n",
       "  </tbody>\n",
       "</table>\n",
       "</div>"
      ],
      "text/plain": [
       "   PassengerId  Survived\n",
       "0          892         0\n",
       "1          893         1\n",
       "2          894         0\n",
       "3          895         0\n",
       "4          896         1"
      ]
     },
     "execution_count": 6,
     "metadata": {},
     "output_type": "execute_result"
    }
   ],
   "source": [
    "sub.head()"
   ]
  },
  {
   "cell_type": "markdown",
   "metadata": {
    "cell_id": "00006-7102b8ab-88a5-4268-9b6d-faf1bf8629e6",
    "deepnote_cell_type": "markdown",
    "id": "a3WZ8xENL8LT"
   },
   "source": [
    "## Fill NAs"
   ]
  },
  {
   "cell_type": "code",
   "execution_count": null,
   "metadata": {
    "cell_id": "00007-685a18b5-5908-4902-ad61-495d68c53892",
    "deepnote_cell_type": "code",
    "deepnote_to_be_reexecuted": false,
    "execution_millis": 8,
    "execution_start": 1633265451084,
    "id": "tdAymjDdL8LW",
    "outputId": "e364a0da-8681-4d40-ed6b-69c2f9848a41",
    "source_hash": "a5af19a1"
   },
   "outputs": [
    {
     "data": {
      "text/plain": [
       "True"
      ]
     },
     "execution_count": 7,
     "metadata": {},
     "output_type": "execute_result"
    }
   ],
   "source": [
    "sub.PassengerId.to_list() == test.PassengerId.to_list()"
   ]
  },
  {
   "cell_type": "code",
   "execution_count": null,
   "metadata": {
    "cell_id": "00008-75ec754c-b4bf-40f7-8bc9-169c96ebf3db",
    "deepnote_cell_type": "code",
    "deepnote_to_be_reexecuted": false,
    "execution_millis": 11,
    "execution_start": 1633265451090,
    "id": "vNCmsqVpL8LX",
    "outputId": "33f9b89c-3972-4ad9-b143-2e53ec84a2c7",
    "source_hash": "993ab2a5"
   },
   "outputs": [
    {
     "data": {
      "text/plain": [
       "PassengerId      0\n",
       "Survived         0\n",
       "Pclass           0\n",
       "Name             0\n",
       "Sex              0\n",
       "Age            177\n",
       "SibSp            0\n",
       "Parch            0\n",
       "Ticket           0\n",
       "Fare             0\n",
       "Cabin          687\n",
       "Embarked         2\n",
       "dtype: int64"
      ]
     },
     "execution_count": 8,
     "metadata": {},
     "output_type": "execute_result"
    }
   ],
   "source": [
    "train.isna().sum()"
   ]
  },
  {
   "cell_type": "code",
   "execution_count": null,
   "metadata": {
    "cell_id": "00009-94803e1d-1186-4925-9fa2-0eaeb5fe6664",
    "deepnote_cell_type": "code",
    "deepnote_to_be_reexecuted": false,
    "execution_millis": 0,
    "execution_start": 1633265451146,
    "source_hash": "32a81af8",
    "tags": []
   },
   "outputs": [],
   "source": [
    "g1 = train[(train['Parch']==0)&(train['SibSp']==0)&(train['Pclass']==1)]['Age']\n",
    "g2 = train[((train['Parch']!=0)|(train['SibSp']!=0))&(train['Pclass']==1)]['Age']\n",
    "g3 = train[(train['Parch']==0)&(train['SibSp']==0)&(train['Pclass']==2)]['Age']\n",
    "g4 = train[((train['Parch']!=0)|(train['SibSp']!=0))&(train['Pclass']==2)]['Age']\n",
    "g5 = train[(train['Parch']==0)&(train['SibSp']==0)&(train['Pclass']==3)]['Age']\n",
    "g6 = train[((train['Parch']!=0)|(train['SibSp']!=0))&(train['Pclass']==3)]['Age']\n",
    "av1 = np.mean(g1)\n",
    "av2 = np.mean(g2)\n",
    "av3 = np.mean(g3)\n",
    "av4 = np.mean(g4)\n",
    "av5 = np.mean(g5)\n",
    "av6 = np.mean(g6)"
   ]
  },
  {
   "cell_type": "code",
   "execution_count": null,
   "metadata": {
    "cell_id": "00009-9c5ce7b0-6835-44df-8db9-9b9386e1284a",
    "deepnote_cell_type": "code",
    "deepnote_to_be_reexecuted": false,
    "execution_millis": 41,
    "execution_start": 1633265451146,
    "id": "U5lUBdPML8LY",
    "source_hash": "d6bd6e7d"
   },
   "outputs": [],
   "source": [
    "## fill age\n",
    "train['Age'] = np.where(\n",
    "    (train['Age'].isna()) & (train['Parch']==0) & (train['SibSp']==0) & (train['Pclass']==1), av1, train['Age'])\n",
    "\n",
    "train['Age'] = np.where(\n",
    "    (train['Age'].isna()) & (train['Parch']==0) & (train['SibSp']==0) & (train['Pclass']==2), av3, train['Age'])\n",
    "\n",
    "train['Age'] = np.where(\n",
    "    (train['Age'].isna()) & (train['Parch']==0) & (train['SibSp']==0) & (train['Pclass']==3), av5, train['Age'])\n",
    "\n",
    "train['Age'] = np.where(\n",
    "    (train['Age'].isna()) & ((train['Parch']!=0)|(train['SibSp']!=0))&(train['Pclass']==1), av2, train['Age'])\n",
    "\n",
    "train['Age'] = np.where(\n",
    "    (train['Age'].isna()) & ((train['Parch']!=0)|(train['SibSp']!=0))&(train['Pclass']==2), av4, train['Age'])\n",
    "\n",
    "train['Age'] = np.where(\n",
    "    (train['Age'].isna()) & ((train['Parch']!=0)|(train['SibSp']!=0))&(train['Pclass']==3), av6, train['Age'])\n",
    "\n"
   ]
  },
  {
   "cell_type": "code",
   "execution_count": null,
   "metadata": {
    "cell_id": "00011-86d80c3c-9bf0-46a8-bfd8-fcd594a05137",
    "deepnote_cell_type": "code",
    "deepnote_to_be_reexecuted": false,
    "execution_millis": 0,
    "execution_start": 1633265451188,
    "source_hash": "df085531",
    "tags": []
   },
   "outputs": [],
   "source": [
    "train.Cabin = train.Cabin.fillna('Unknown')"
   ]
  },
  {
   "cell_type": "code",
   "execution_count": null,
   "metadata": {
    "cell_id": "00012-9c9880d8-a680-4595-ab75-871c51519170",
    "deepnote_cell_type": "code",
    "deepnote_to_be_reexecuted": false,
    "execution_millis": 10,
    "execution_start": 1633265451188,
    "source_hash": "6939d7d6",
    "tags": []
   },
   "outputs": [
    {
     "data": {
      "text/plain": [
       "S    23\n",
       "C    22\n",
       "Name: Embarked, dtype: int64"
      ]
     },
     "execution_count": 12,
     "metadata": {},
     "output_type": "execute_result"
    }
   ],
   "source": [
    "train[(train['Cabin'].str[0]=='B')]['Embarked'].value_counts()"
   ]
  },
  {
   "cell_type": "code",
   "execution_count": null,
   "metadata": {
    "cell_id": "00011-f1bea979-0ba1-4014-9120-1990f735b9fa",
    "deepnote_cell_type": "code",
    "deepnote_to_be_reexecuted": false,
    "execution_millis": 0,
    "execution_start": 1633265451189,
    "id": "TKPV-6knL8LZ",
    "source_hash": "110841dd"
   },
   "outputs": [],
   "source": [
    "train.Embarked = train.Embarked.fillna('Unknown')"
   ]
  },
  {
   "cell_type": "code",
   "execution_count": null,
   "metadata": {
    "cell_id": "00012-30d65af5-4b9a-43b0-8dee-43aabc1bb6b0",
    "deepnote_cell_type": "code",
    "deepnote_to_be_reexecuted": false,
    "execution_millis": 8,
    "execution_start": 1633265451226,
    "id": "p9rYe51bL8LZ",
    "outputId": "8c937c87-7ae4-40d1-b302-5e3f7292ecf2",
    "source_hash": "993ab2a5"
   },
   "outputs": [
    {
     "data": {
      "text/plain": [
       "PassengerId    0\n",
       "Survived       0\n",
       "Pclass         0\n",
       "Name           0\n",
       "Sex            0\n",
       "Age            0\n",
       "SibSp          0\n",
       "Parch          0\n",
       "Ticket         0\n",
       "Fare           0\n",
       "Cabin          0\n",
       "Embarked       0\n",
       "dtype: int64"
      ]
     },
     "execution_count": 14,
     "metadata": {},
     "output_type": "execute_result"
    }
   ],
   "source": [
    "train.isna().sum()"
   ]
  },
  {
   "cell_type": "code",
   "execution_count": null,
   "metadata": {
    "cell_id": "00013-fb329875-3f74-455d-97ae-92d29a1bf607",
    "deepnote_cell_type": "code",
    "deepnote_to_be_reexecuted": false,
    "execution_millis": 7,
    "execution_start": 1633265451227,
    "id": "SeDkvXVWL8La",
    "outputId": "4ad2cac7-4737-4aaa-dab0-e00fa0edb998",
    "source_hash": "5ddd71"
   },
   "outputs": [
    {
     "data": {
      "text/plain": [
       "PassengerId      0\n",
       "Pclass           0\n",
       "Name             0\n",
       "Sex              0\n",
       "Age             86\n",
       "SibSp            0\n",
       "Parch            0\n",
       "Ticket           0\n",
       "Fare             1\n",
       "Cabin          327\n",
       "Embarked         0\n",
       "dtype: int64"
      ]
     },
     "execution_count": 15,
     "metadata": {},
     "output_type": "execute_result"
    }
   ],
   "source": [
    "test.isna().sum()"
   ]
  },
  {
   "cell_type": "code",
   "execution_count": null,
   "metadata": {
    "cell_id": "00015-ef240dfe-9c91-44c7-828e-2a9a0eed92ab",
    "deepnote_cell_type": "code",
    "deepnote_to_be_reexecuted": false,
    "execution_millis": 29,
    "execution_start": 1633265451229,
    "source_hash": "43bea511",
    "tags": []
   },
   "outputs": [],
   "source": [
    "# fill test age\n",
    "g1 = test[(test['Parch']==0)&(test['SibSp']==0)&(test['Pclass']==1)]['Age']\n",
    "g2 = test[((test['Parch']!=0)|(test['SibSp']!=0))&(test['Pclass']==1)]['Age']\n",
    "g3 = test[(test['Parch']==0)&(test['SibSp']==0)&(test['Pclass']==2)]['Age']\n",
    "g4 = test[((test['Parch']!=0)|(test['SibSp']!=0))&(test['Pclass']==2)]['Age']\n",
    "g5 = test[(test['Parch']==0)&(test['SibSp']==0)&(test['Pclass']==3)]['Age']\n",
    "g6 = test[((test['Parch']!=0)|(test['SibSp']!=0))&(test['Pclass']==3)]['Age']\n",
    "av1 = np.mean(g1)\n",
    "av2 = np.mean(g2)\n",
    "av3 = np.mean(g3)\n",
    "av4 = np.mean(g4)\n",
    "av5 = np.mean(g5)\n",
    "av6 = np.mean(g6)\n",
    "\n",
    "test['Age'] = np.where(\n",
    "    (test['Age'].isna()) & (test['Parch']==0) & (test['SibSp']==0) & (test['Pclass']==1), av1, test['Age'])\n",
    "\n",
    "test['Age'] = np.where(\n",
    "    (test['Age'].isna()) & (test['Parch']==0) & (test['SibSp']==0) & (test['Pclass']==2), av3, test['Age'])\n",
    "\n",
    "test['Age'] = np.where(\n",
    "    (test['Age'].isna()) & (test['Parch']==0) & (test['SibSp']==0) & (test['Pclass']==3), av5, test['Age'])\n",
    "\n",
    "test['Age'] = np.where(\n",
    "    (test['Age'].isna()) & ((test['Parch']!=0)|(test['SibSp']!=0))&(test['Pclass']==1), av2, test['Age'])\n",
    "\n",
    "test['Age'] = np.where(\n",
    "    (test['Age'].isna()) & ((test['Parch']!=0)|(test['SibSp']!=0))&(test['Pclass']==2), av4, test['Age'])\n",
    "\n",
    "test['Age'] = np.where(\n",
    "    (test['Age'].isna()) & ((test['Parch']!=0)|(test['SibSp']!=0))&(test['Pclass']==3), av6, test['Age'])\n",
    "\n"
   ]
  },
  {
   "cell_type": "code",
   "execution_count": null,
   "metadata": {
    "cell_id": "00016-60c65cf3-49a6-450d-9975-4b2a65b03369",
    "deepnote_cell_type": "code",
    "deepnote_to_be_reexecuted": false,
    "execution_millis": 6,
    "execution_start": 1633265451264,
    "source_hash": "fbfd031c",
    "tags": []
   },
   "outputs": [],
   "source": [
    "test.Cabin = test.Cabin.fillna('Unknown')"
   ]
  },
  {
   "cell_type": "code",
   "execution_count": null,
   "metadata": {
    "cell_id": "00014-8e7d920a-444e-4f1c-ac4c-8970bf01cdce",
    "deepnote_cell_type": "code",
    "deepnote_to_be_reexecuted": false,
    "execution_millis": 0,
    "execution_start": 1633265451310,
    "id": "qXE78YFAL8La",
    "source_hash": "3f260a06"
   },
   "outputs": [],
   "source": [
    "test.Fare = test.Fare.fillna(np.mean(test.Fare))"
   ]
  },
  {
   "cell_type": "code",
   "execution_count": null,
   "metadata": {
    "cell_id": "00016-941db04a-bddb-4cf2-8152-52252679d089",
    "deepnote_cell_type": "code",
    "deepnote_to_be_reexecuted": false,
    "execution_millis": 9,
    "execution_start": 1633265451310,
    "id": "aUve3QjaL8Lb",
    "outputId": "1c595adb-abaf-4dc5-d27f-c35e95a0be62",
    "source_hash": "5ddd71"
   },
   "outputs": [
    {
     "data": {
      "text/plain": [
       "PassengerId    0\n",
       "Pclass         0\n",
       "Name           0\n",
       "Sex            0\n",
       "Age            0\n",
       "SibSp          0\n",
       "Parch          0\n",
       "Ticket         0\n",
       "Fare           0\n",
       "Cabin          0\n",
       "Embarked       0\n",
       "dtype: int64"
      ]
     },
     "execution_count": 19,
     "metadata": {},
     "output_type": "execute_result"
    }
   ],
   "source": [
    "test.isna().sum()"
   ]
  },
  {
   "cell_type": "markdown",
   "metadata": {
    "cell_id": "00017-5eb44147-471c-4b66-933a-95975dc71113",
    "deepnote_cell_type": "markdown",
    "id": "h2PIVePFL8Lb"
   },
   "source": [
    "## Split folds"
   ]
  },
  {
   "cell_type": "code",
   "execution_count": null,
   "metadata": {
    "cell_id": "00018-2057943a-18ff-4465-8201-3cacb4072d18",
    "deepnote_cell_type": "code",
    "deepnote_to_be_reexecuted": false,
    "execution_millis": 0,
    "execution_start": 1633265451311,
    "id": "5I3enfm0L8Lb",
    "source_hash": "24dca851"
   },
   "outputs": [],
   "source": [
    "#do k fold validation\n",
    "skf = StratifiedKFold(n_splits=5, shuffle=True, random_state=42)"
   ]
  },
  {
   "cell_type": "code",
   "execution_count": null,
   "metadata": {
    "cell_id": "00019-1a8bc0f7-c722-4f4e-b47f-3591ea10d93c",
    "deepnote_cell_type": "code",
    "deepnote_to_be_reexecuted": false,
    "execution_millis": 9,
    "execution_start": 1633265451312,
    "id": "-If6JDPdL8Lc",
    "source_hash": "1c5e0ec5"
   },
   "outputs": [],
   "source": [
    "train['fold'] = -999\n",
    "for fold_id, (train_index, valid_index) in enumerate(skf.split(X=train, y=train.Survived.values)):\n",
    "    train.loc[valid_index, 'fold'] = fold_id"
   ]
  },
  {
   "cell_type": "code",
   "execution_count": null,
   "metadata": {
    "cell_id": "00020-f444298b-a3d5-4e52-9c58-4e760f820de9",
    "deepnote_cell_type": "code",
    "deepnote_to_be_reexecuted": false,
    "execution_millis": 6,
    "execution_start": 1633265451325,
    "id": "Joyy_7ckL8Lc",
    "outputId": "a54ea187-8deb-4b94-f9bb-5d48ec26a4f8",
    "source_hash": "487e4573"
   },
   "outputs": [
    {
     "data": {
      "text/plain": [
       "0    179\n",
       "1    178\n",
       "2    178\n",
       "3    178\n",
       "4    178\n",
       "Name: fold, dtype: int64"
      ]
     },
     "execution_count": 22,
     "metadata": {},
     "output_type": "execute_result"
    }
   ],
   "source": [
    "train.fold.value_counts()"
   ]
  },
  {
   "cell_type": "markdown",
   "metadata": {
    "cell_id": "00021-5ae58405-db26-4eed-9175-1eda0fac07a1",
    "deepnote_cell_type": "markdown",
    "id": "T1344bF7L8Lc"
   },
   "source": [
    "## Feature Engineering"
   ]
  },
  {
   "cell_type": "markdown",
   "metadata": {
    "cell_id": "00022-8c260542-7b70-4244-86a7-ddf9d3662249",
    "deepnote_cell_type": "markdown",
    "id": "LYTPFOJoL8Ld"
   },
   "source": [
    "#### 1. Name Title (Change the name to title and label encoding)"
   ]
  },
  {
   "cell_type": "code",
   "execution_count": null,
   "metadata": {
    "cell_id": "00023-799a7313-1303-4cb4-ac00-60e6ceadabe1",
    "deepnote_cell_type": "code",
    "deepnote_to_be_reexecuted": false,
    "execution_millis": 0,
    "execution_start": 1633265451383,
    "id": "cEF-RnPjL8Ld",
    "outputId": "b3f436fc-ab73-4f8f-93ee-eb298f6aa516",
    "source_hash": "409ebd00"
   },
   "outputs": [],
   "source": [
    "def find_title(entry):\n",
    "    pattern = r'[a-zA-Z]+\\.'\n",
    "    return re.findall(pattern, entry)[0][:-1]\n",
    "\n",
    "temp = train[['Name']]\n",
    "temp['title'] =  temp['Name'].apply(find_title)\n",
    "train = pd.merge(train, temp, on = 'Name')"
   ]
  },
  {
   "cell_type": "code",
   "execution_count": null,
   "metadata": {
    "cell_id": "00024-83866958-ad97-4763-a5f8-b6103aa387d3",
    "deepnote_cell_type": "code",
    "deepnote_to_be_reexecuted": false,
    "execution_millis": 7,
    "execution_start": 1633265451383,
    "id": "RtmcRQTqL8Ld",
    "outputId": "1815893d-f316-48e9-8e42-5774ea20eb18",
    "source_hash": "dd94553e"
   },
   "outputs": [
    {
     "data": {
      "text/plain": [
       "Mr          517\n",
       "Miss        182\n",
       "Mrs         125\n",
       "Master       40\n",
       "Dr            7\n",
       "Rev           6\n",
       "Major         2\n",
       "Col           2\n",
       "Mlle          2\n",
       "Lady          1\n",
       "Don           1\n",
       "Ms            1\n",
       "Sir           1\n",
       "Mme           1\n",
       "Jonkheer      1\n",
       "Capt          1\n",
       "Countess      1\n",
       "Name: title, dtype: int64"
      ]
     },
     "execution_count": 24,
     "metadata": {},
     "output_type": "execute_result"
    }
   ],
   "source": [
    "train['title'].value_counts()"
   ]
  },
  {
   "cell_type": "code",
   "execution_count": null,
   "metadata": {
    "cell_id": "00025-af83226c-c095-4ca9-a2e8-2ba481942f96",
    "deepnote_cell_type": "code",
    "deepnote_to_be_reexecuted": false,
    "execution_millis": 0,
    "execution_start": 1633265451384,
    "id": "EIQwa28AL8Le",
    "outputId": "c9fbc8c5-67b1-4945-d44e-a12385d88b95",
    "source_hash": "52e1e4a7"
   },
   "outputs": [],
   "source": [
    "def conversion_title(entry):\n",
    "    if entry == 'Miss':\n",
    "        return 'Miss'\n",
    "    elif entry == 'Mrs':\n",
    "        return 'Mrs'\n",
    "    elif entry == 'Mr':\n",
    "        return 'Mr'\n",
    "    elif entry == 'Master':\n",
    "        return 'Master'\n",
    "    elif entry == 'Dr':\n",
    "        return 'Dr'\n",
    "    elif entry == 'Rev':\n",
    "        return 'Rev'\n",
    "    else:\n",
    "        return 'ELSE'\n",
    "train['title'] = train['title'].apply(conversion_title)"
   ]
  },
  {
   "cell_type": "code",
   "execution_count": null,
   "metadata": {
    "cell_id": "00027-e6a8131d-ecf7-49f1-862b-f37342340162",
    "deepnote_cell_type": "code",
    "deepnote_to_be_reexecuted": false,
    "execution_millis": 8,
    "execution_start": 1633265451394,
    "id": "cnORdZdvL8Le",
    "source_hash": "f26cfa94"
   },
   "outputs": [],
   "source": [
    "temp = test[['Name']]\n",
    "temp['title'] = temp['Name'].apply(find_title)\n",
    "test = pd.merge(test, temp, on = 'Name')\n",
    "test['title'] = test['title'].apply(conversion_title)"
   ]
  },
  {
   "cell_type": "code",
   "execution_count": null,
   "metadata": {
    "cell_id": "00028-b0121297-87ac-4b65-a54f-9d3a1145102f",
    "deepnote_cell_type": "code",
    "deepnote_to_be_reexecuted": false,
    "execution_millis": 5,
    "execution_start": 1633265451407,
    "id": "6hGAyGeWL8Lf",
    "source_hash": "91dbab28"
   },
   "outputs": [],
   "source": [
    "train = train.drop('Name', axis=1)\n",
    "test = test.drop('Name', axis=1)"
   ]
  },
  {
   "cell_type": "code",
   "execution_count": null,
   "metadata": {
    "cell_id": "00029-217f32de-b7c0-4f20-8434-4d03902eebc9",
    "deepnote_cell_type": "code",
    "deepnote_to_be_reexecuted": false,
    "execution_millis": 22,
    "execution_start": 1633265451461,
    "id": "hZqO0oG4L8Lf",
    "outputId": "fa0af483-7748-43f1-c8b3-f3fe8ee7e687",
    "source_hash": "e1f0b45"
   },
   "outputs": [
    {
     "data": {
      "application/vnd.deepnote.dataframe.v2+json": {
       "column_count": 13,
       "columns": [
        {
         "dtype": "int64",
         "name": "PassengerId",
         "stats": {
          "histogram": [
           {
            "bin_end": 1.4,
            "bin_start": 1,
            "count": 1
           },
           {
            "bin_end": 1.8,
            "bin_start": 1.4,
            "count": 0
           },
           {
            "bin_end": 2.2,
            "bin_start": 1.8,
            "count": 1
           },
           {
            "bin_end": 2.6,
            "bin_start": 2.2,
            "count": 0
           },
           {
            "bin_end": 3,
            "bin_start": 2.6,
            "count": 0
           },
           {
            "bin_end": 3.4000000000000004,
            "bin_start": 3,
            "count": 1
           },
           {
            "bin_end": 3.8000000000000003,
            "bin_start": 3.4000000000000004,
            "count": 0
           },
           {
            "bin_end": 4.2,
            "bin_start": 3.8000000000000003,
            "count": 1
           },
           {
            "bin_end": 4.6,
            "bin_start": 4.2,
            "count": 0
           },
           {
            "bin_end": 5,
            "bin_start": 4.6,
            "count": 1
           }
          ],
          "max": "5",
          "min": "1",
          "nan_count": 0,
          "unique_count": 5
         }
        },
        {
         "dtype": "int64",
         "name": "Survived",
         "stats": {
          "histogram": [
           {
            "bin_end": 0.1,
            "bin_start": 0,
            "count": 2
           },
           {
            "bin_end": 0.2,
            "bin_start": 0.1,
            "count": 0
           },
           {
            "bin_end": 0.30000000000000004,
            "bin_start": 0.2,
            "count": 0
           },
           {
            "bin_end": 0.4,
            "bin_start": 0.30000000000000004,
            "count": 0
           },
           {
            "bin_end": 0.5,
            "bin_start": 0.4,
            "count": 0
           },
           {
            "bin_end": 0.6000000000000001,
            "bin_start": 0.5,
            "count": 0
           },
           {
            "bin_end": 0.7000000000000001,
            "bin_start": 0.6000000000000001,
            "count": 0
           },
           {
            "bin_end": 0.8,
            "bin_start": 0.7000000000000001,
            "count": 0
           },
           {
            "bin_end": 0.9,
            "bin_start": 0.8,
            "count": 0
           },
           {
            "bin_end": 1,
            "bin_start": 0.9,
            "count": 3
           }
          ],
          "max": "1",
          "min": "0",
          "nan_count": 0,
          "unique_count": 2
         }
        },
        {
         "dtype": "int64",
         "name": "Pclass",
         "stats": {
          "histogram": [
           {
            "bin_end": 1.2,
            "bin_start": 1,
            "count": 2
           },
           {
            "bin_end": 1.4,
            "bin_start": 1.2,
            "count": 0
           },
           {
            "bin_end": 1.6,
            "bin_start": 1.4,
            "count": 0
           },
           {
            "bin_end": 1.8,
            "bin_start": 1.6,
            "count": 0
           },
           {
            "bin_end": 2,
            "bin_start": 1.8,
            "count": 0
           },
           {
            "bin_end": 2.2,
            "bin_start": 2,
            "count": 0
           },
           {
            "bin_end": 2.4000000000000004,
            "bin_start": 2.2,
            "count": 0
           },
           {
            "bin_end": 2.6,
            "bin_start": 2.4000000000000004,
            "count": 0
           },
           {
            "bin_end": 2.8,
            "bin_start": 2.6,
            "count": 0
           },
           {
            "bin_end": 3,
            "bin_start": 2.8,
            "count": 3
           }
          ],
          "max": "3",
          "min": "1",
          "nan_count": 0,
          "unique_count": 2
         }
        },
        {
         "dtype": "object",
         "name": "Sex",
         "stats": {
          "categories": [
           {
            "count": 3,
            "name": "female"
           },
           {
            "count": 2,
            "name": "male"
           }
          ],
          "nan_count": 0,
          "unique_count": 2
         }
        },
        {
         "dtype": "float64",
         "name": "Age",
         "stats": {
          "histogram": [
           {
            "bin_end": 23.6,
            "bin_start": 22,
            "count": 1
           },
           {
            "bin_end": 25.2,
            "bin_start": 23.6,
            "count": 0
           },
           {
            "bin_end": 26.8,
            "bin_start": 25.2,
            "count": 1
           },
           {
            "bin_end": 28.4,
            "bin_start": 26.8,
            "count": 0
           },
           {
            "bin_end": 30,
            "bin_start": 28.4,
            "count": 0
           },
           {
            "bin_end": 31.6,
            "bin_start": 30,
            "count": 0
           },
           {
            "bin_end": 33.2,
            "bin_start": 31.6,
            "count": 0
           },
           {
            "bin_end": 34.8,
            "bin_start": 33.2,
            "count": 0
           },
           {
            "bin_end": 36.4,
            "bin_start": 34.8,
            "count": 2
           },
           {
            "bin_end": 38,
            "bin_start": 36.4,
            "count": 1
           }
          ],
          "max": "38.0",
          "min": "22.0",
          "nan_count": 0,
          "unique_count": 4
         }
        },
        {
         "dtype": "int64",
         "name": "SibSp",
         "stats": {
          "histogram": [
           {
            "bin_end": 0.1,
            "bin_start": 0,
            "count": 2
           },
           {
            "bin_end": 0.2,
            "bin_start": 0.1,
            "count": 0
           },
           {
            "bin_end": 0.30000000000000004,
            "bin_start": 0.2,
            "count": 0
           },
           {
            "bin_end": 0.4,
            "bin_start": 0.30000000000000004,
            "count": 0
           },
           {
            "bin_end": 0.5,
            "bin_start": 0.4,
            "count": 0
           },
           {
            "bin_end": 0.6000000000000001,
            "bin_start": 0.5,
            "count": 0
           },
           {
            "bin_end": 0.7000000000000001,
            "bin_start": 0.6000000000000001,
            "count": 0
           },
           {
            "bin_end": 0.8,
            "bin_start": 0.7000000000000001,
            "count": 0
           },
           {
            "bin_end": 0.9,
            "bin_start": 0.8,
            "count": 0
           },
           {
            "bin_end": 1,
            "bin_start": 0.9,
            "count": 3
           }
          ],
          "max": "1",
          "min": "0",
          "nan_count": 0,
          "unique_count": 2
         }
        },
        {
         "dtype": "int64",
         "name": "Parch",
         "stats": {
          "histogram": [
           {
            "bin_end": -0.4,
            "bin_start": -0.5,
            "count": 0
           },
           {
            "bin_end": -0.3,
            "bin_start": -0.4,
            "count": 0
           },
           {
            "bin_end": -0.19999999999999996,
            "bin_start": -0.3,
            "count": 0
           },
           {
            "bin_end": -0.09999999999999998,
            "bin_start": -0.19999999999999996,
            "count": 0
           },
           {
            "bin_end": 0,
            "bin_start": -0.09999999999999998,
            "count": 0
           },
           {
            "bin_end": 0.10000000000000009,
            "bin_start": 0,
            "count": 5
           },
           {
            "bin_end": 0.20000000000000007,
            "bin_start": 0.10000000000000009,
            "count": 0
           },
           {
            "bin_end": 0.30000000000000004,
            "bin_start": 0.20000000000000007,
            "count": 0
           },
           {
            "bin_end": 0.4,
            "bin_start": 0.30000000000000004,
            "count": 0
           },
           {
            "bin_end": 0.5,
            "bin_start": 0.4,
            "count": 0
           }
          ],
          "max": "0",
          "min": "0",
          "nan_count": 0,
          "unique_count": 1
         }
        },
        {
         "dtype": "object",
         "name": "Ticket",
         "stats": {
          "categories": [
           {
            "count": 1,
            "name": "A/5 21171"
           },
           {
            "count": 1,
            "name": "PC 17599"
           },
           {
            "count": 3,
            "name": "3 others"
           }
          ],
          "nan_count": 0,
          "unique_count": 5
         }
        },
        {
         "dtype": "float64",
         "name": "Fare",
         "stats": {
          "histogram": [
           {
            "bin_end": 13.65333,
            "bin_start": 7.25,
            "count": 3
           },
           {
            "bin_end": 20.05666,
            "bin_start": 13.65333,
            "count": 0
           },
           {
            "bin_end": 26.459989999999998,
            "bin_start": 20.05666,
            "count": 0
           },
           {
            "bin_end": 32.86332,
            "bin_start": 26.459989999999998,
            "count": 0
           },
           {
            "bin_end": 39.26665,
            "bin_start": 32.86332,
            "count": 0
           },
           {
            "bin_end": 45.669979999999995,
            "bin_start": 39.26665,
            "count": 0
           },
           {
            "bin_end": 52.07331,
            "bin_start": 45.669979999999995,
            "count": 0
           },
           {
            "bin_end": 58.476639999999996,
            "bin_start": 52.07331,
            "count": 1
           },
           {
            "bin_end": 64.87996999999999,
            "bin_start": 58.476639999999996,
            "count": 0
           },
           {
            "bin_end": 71.2833,
            "bin_start": 64.87996999999999,
            "count": 1
           }
          ],
          "max": "71.2833",
          "min": "7.25",
          "nan_count": 0,
          "unique_count": 5
         }
        },
        {
         "dtype": "object",
         "name": "Cabin",
         "stats": {
          "categories": [
           {
            "count": 3,
            "name": "Unknown"
           },
           {
            "count": 1,
            "name": "C85"
           },
           {
            "count": 1,
            "name": "C123"
           }
          ],
          "nan_count": 0,
          "unique_count": 3
         }
        },
        {
         "dtype": "object",
         "name": "Embarked",
         "stats": {
          "categories": [
           {
            "count": 4,
            "name": "S"
           },
           {
            "count": 1,
            "name": "C"
           }
          ],
          "nan_count": 0,
          "unique_count": 2
         }
        },
        {
         "dtype": "int64",
         "name": "fold",
         "stats": {
          "histogram": [
           {
            "bin_end": 0.4,
            "bin_start": 0,
            "count": 1
           },
           {
            "bin_end": 0.8,
            "bin_start": 0.4,
            "count": 0
           },
           {
            "bin_end": 1.2000000000000002,
            "bin_start": 0.8,
            "count": 1
           },
           {
            "bin_end": 1.6,
            "bin_start": 1.2000000000000002,
            "count": 0
           },
           {
            "bin_end": 2,
            "bin_start": 1.6,
            "count": 0
           },
           {
            "bin_end": 2.4000000000000004,
            "bin_start": 2,
            "count": 0
           },
           {
            "bin_end": 2.8000000000000003,
            "bin_start": 2.4000000000000004,
            "count": 0
           },
           {
            "bin_end": 3.2,
            "bin_start": 2.8000000000000003,
            "count": 2
           },
           {
            "bin_end": 3.6,
            "bin_start": 3.2,
            "count": 0
           },
           {
            "bin_end": 4,
            "bin_start": 3.6,
            "count": 1
           }
          ],
          "max": "4",
          "min": "0",
          "nan_count": 0,
          "unique_count": 4
         }
        },
        {
         "dtype": "object",
         "name": "title",
         "stats": {
          "categories": [
           {
            "count": 2,
            "name": "Mr"
           },
           {
            "count": 2,
            "name": "Mrs"
           },
           {
            "count": 1,
            "name": "Miss"
           }
          ],
          "nan_count": 0,
          "unique_count": 3
         }
        },
        {
         "dtype": "int64",
         "name": "_deepnote_index_column"
        }
       ],
       "row_count": 5,
       "rows_bottom": null,
       "rows_top": [
        {
         "Age": 22,
         "Cabin": "Unknown",
         "Embarked": "S",
         "Fare": 7.25,
         "Parch": 0,
         "PassengerId": 1,
         "Pclass": 3,
         "Sex": "male",
         "SibSp": 1,
         "Survived": 0,
         "Ticket": "A/5 21171",
         "_deepnote_index_column": 0,
         "fold": 1,
         "title": "Mr"
        },
        {
         "Age": 38,
         "Cabin": "C85",
         "Embarked": "C",
         "Fare": 71.2833,
         "Parch": 0,
         "PassengerId": 2,
         "Pclass": 1,
         "Sex": "female",
         "SibSp": 1,
         "Survived": 1,
         "Ticket": "PC 17599",
         "_deepnote_index_column": 1,
         "fold": 4,
         "title": "Mrs"
        },
        {
         "Age": 26,
         "Cabin": "Unknown",
         "Embarked": "S",
         "Fare": 7.925,
         "Parch": 0,
         "PassengerId": 3,
         "Pclass": 3,
         "Sex": "female",
         "SibSp": 0,
         "Survived": 1,
         "Ticket": "STON/O2. 3101282",
         "_deepnote_index_column": 2,
         "fold": 3,
         "title": "Miss"
        },
        {
         "Age": 35,
         "Cabin": "C123",
         "Embarked": "S",
         "Fare": 53.1,
         "Parch": 0,
         "PassengerId": 4,
         "Pclass": 1,
         "Sex": "female",
         "SibSp": 1,
         "Survived": 1,
         "Ticket": "113803",
         "_deepnote_index_column": 3,
         "fold": 3,
         "title": "Mrs"
        },
        {
         "Age": 35,
         "Cabin": "Unknown",
         "Embarked": "S",
         "Fare": 8.05,
         "Parch": 0,
         "PassengerId": 5,
         "Pclass": 3,
         "Sex": "male",
         "SibSp": 0,
         "Survived": 0,
         "Ticket": "373450",
         "_deepnote_index_column": 4,
         "fold": 0,
         "title": "Mr"
        }
       ]
      },
      "text/html": [
       "<div>\n",
       "<style scoped>\n",
       "    .dataframe tbody tr th:only-of-type {\n",
       "        vertical-align: middle;\n",
       "    }\n",
       "\n",
       "    .dataframe tbody tr th {\n",
       "        vertical-align: top;\n",
       "    }\n",
       "\n",
       "    .dataframe thead th {\n",
       "        text-align: right;\n",
       "    }\n",
       "</style>\n",
       "<table border=\"1\" class=\"dataframe\">\n",
       "  <thead>\n",
       "    <tr style=\"text-align: right;\">\n",
       "      <th></th>\n",
       "      <th>PassengerId</th>\n",
       "      <th>Survived</th>\n",
       "      <th>Pclass</th>\n",
       "      <th>Sex</th>\n",
       "      <th>Age</th>\n",
       "      <th>SibSp</th>\n",
       "      <th>Parch</th>\n",
       "      <th>Ticket</th>\n",
       "      <th>Fare</th>\n",
       "      <th>Cabin</th>\n",
       "      <th>Embarked</th>\n",
       "      <th>fold</th>\n",
       "      <th>title</th>\n",
       "    </tr>\n",
       "  </thead>\n",
       "  <tbody>\n",
       "    <tr>\n",
       "      <th>0</th>\n",
       "      <td>1</td>\n",
       "      <td>0</td>\n",
       "      <td>3</td>\n",
       "      <td>male</td>\n",
       "      <td>22.0</td>\n",
       "      <td>1</td>\n",
       "      <td>0</td>\n",
       "      <td>A/5 21171</td>\n",
       "      <td>7.2500</td>\n",
       "      <td>Unknown</td>\n",
       "      <td>S</td>\n",
       "      <td>1</td>\n",
       "      <td>Mr</td>\n",
       "    </tr>\n",
       "    <tr>\n",
       "      <th>1</th>\n",
       "      <td>2</td>\n",
       "      <td>1</td>\n",
       "      <td>1</td>\n",
       "      <td>female</td>\n",
       "      <td>38.0</td>\n",
       "      <td>1</td>\n",
       "      <td>0</td>\n",
       "      <td>PC 17599</td>\n",
       "      <td>71.2833</td>\n",
       "      <td>C85</td>\n",
       "      <td>C</td>\n",
       "      <td>4</td>\n",
       "      <td>Mrs</td>\n",
       "    </tr>\n",
       "    <tr>\n",
       "      <th>2</th>\n",
       "      <td>3</td>\n",
       "      <td>1</td>\n",
       "      <td>3</td>\n",
       "      <td>female</td>\n",
       "      <td>26.0</td>\n",
       "      <td>0</td>\n",
       "      <td>0</td>\n",
       "      <td>STON/O2. 3101282</td>\n",
       "      <td>7.9250</td>\n",
       "      <td>Unknown</td>\n",
       "      <td>S</td>\n",
       "      <td>3</td>\n",
       "      <td>Miss</td>\n",
       "    </tr>\n",
       "    <tr>\n",
       "      <th>3</th>\n",
       "      <td>4</td>\n",
       "      <td>1</td>\n",
       "      <td>1</td>\n",
       "      <td>female</td>\n",
       "      <td>35.0</td>\n",
       "      <td>1</td>\n",
       "      <td>0</td>\n",
       "      <td>113803</td>\n",
       "      <td>53.1000</td>\n",
       "      <td>C123</td>\n",
       "      <td>S</td>\n",
       "      <td>3</td>\n",
       "      <td>Mrs</td>\n",
       "    </tr>\n",
       "    <tr>\n",
       "      <th>4</th>\n",
       "      <td>5</td>\n",
       "      <td>0</td>\n",
       "      <td>3</td>\n",
       "      <td>male</td>\n",
       "      <td>35.0</td>\n",
       "      <td>0</td>\n",
       "      <td>0</td>\n",
       "      <td>373450</td>\n",
       "      <td>8.0500</td>\n",
       "      <td>Unknown</td>\n",
       "      <td>S</td>\n",
       "      <td>0</td>\n",
       "      <td>Mr</td>\n",
       "    </tr>\n",
       "  </tbody>\n",
       "</table>\n",
       "</div>"
      ],
      "text/plain": [
       "   PassengerId  Survived  Pclass     Sex   Age  SibSp  Parch  \\\n",
       "0            1         0       3    male  22.0      1      0   \n",
       "1            2         1       1  female  38.0      1      0   \n",
       "2            3         1       3  female  26.0      0      0   \n",
       "3            4         1       1  female  35.0      1      0   \n",
       "4            5         0       3    male  35.0      0      0   \n",
       "\n",
       "             Ticket     Fare    Cabin Embarked  fold title  \n",
       "0         A/5 21171   7.2500  Unknown        S     1    Mr  \n",
       "1          PC 17599  71.2833      C85        C     4   Mrs  \n",
       "2  STON/O2. 3101282   7.9250  Unknown        S     3  Miss  \n",
       "3            113803  53.1000     C123        S     3   Mrs  \n",
       "4            373450   8.0500  Unknown        S     0    Mr  "
      ]
     },
     "execution_count": 28,
     "metadata": {},
     "output_type": "execute_result"
    }
   ],
   "source": [
    "train.head()"
   ]
  },
  {
   "cell_type": "code",
   "execution_count": null,
   "metadata": {
    "cell_id": "00030-59a91fda-3607-48e2-9a47-b00ef68508bc",
    "deepnote_cell_type": "code",
    "deepnote_to_be_reexecuted": false,
    "execution_millis": 8,
    "execution_start": 1633265451534,
    "id": "5tCHT0PJL8Lf",
    "outputId": "689a3400-db7c-4e3f-c662-f716398d61d1",
    "source_hash": "476785e4"
   },
   "outputs": [
    {
     "data": {
      "application/vnd.deepnote.dataframe.v2+json": {
       "column_count": 11,
       "columns": [
        {
         "dtype": "int64",
         "name": "PassengerId",
         "stats": {
          "histogram": [
           {
            "bin_end": 892.4,
            "bin_start": 892,
            "count": 1
           },
           {
            "bin_end": 892.8,
            "bin_start": 892.4,
            "count": 0
           },
           {
            "bin_end": 893.2,
            "bin_start": 892.8,
            "count": 1
           },
           {
            "bin_end": 893.6,
            "bin_start": 893.2,
            "count": 0
           },
           {
            "bin_end": 894,
            "bin_start": 893.6,
            "count": 0
           },
           {
            "bin_end": 894.4,
            "bin_start": 894,
            "count": 1
           },
           {
            "bin_end": 894.8,
            "bin_start": 894.4,
            "count": 0
           },
           {
            "bin_end": 895.2,
            "bin_start": 894.8,
            "count": 1
           },
           {
            "bin_end": 895.6,
            "bin_start": 895.2,
            "count": 0
           },
           {
            "bin_end": 896,
            "bin_start": 895.6,
            "count": 1
           }
          ],
          "max": "896",
          "min": "892",
          "nan_count": 0,
          "unique_count": 5
         }
        },
        {
         "dtype": "int64",
         "name": "Pclass",
         "stats": {
          "histogram": [
           {
            "bin_end": 2.1,
            "bin_start": 2,
            "count": 1
           },
           {
            "bin_end": 2.2,
            "bin_start": 2.1,
            "count": 0
           },
           {
            "bin_end": 2.3,
            "bin_start": 2.2,
            "count": 0
           },
           {
            "bin_end": 2.4,
            "bin_start": 2.3,
            "count": 0
           },
           {
            "bin_end": 2.5,
            "bin_start": 2.4,
            "count": 0
           },
           {
            "bin_end": 2.6,
            "bin_start": 2.5,
            "count": 0
           },
           {
            "bin_end": 2.7,
            "bin_start": 2.6,
            "count": 0
           },
           {
            "bin_end": 2.8,
            "bin_start": 2.7,
            "count": 0
           },
           {
            "bin_end": 2.9,
            "bin_start": 2.8,
            "count": 0
           },
           {
            "bin_end": 3,
            "bin_start": 2.9,
            "count": 4
           }
          ],
          "max": "3",
          "min": "2",
          "nan_count": 0,
          "unique_count": 2
         }
        },
        {
         "dtype": "object",
         "name": "Sex",
         "stats": {
          "categories": [
           {
            "count": 3,
            "name": "male"
           },
           {
            "count": 2,
            "name": "female"
           }
          ],
          "nan_count": 0,
          "unique_count": 2
         }
        },
        {
         "dtype": "float64",
         "name": "Age",
         "stats": {
          "histogram": [
           {
            "bin_end": 26,
            "bin_start": 22,
            "count": 1
           },
           {
            "bin_end": 30,
            "bin_start": 26,
            "count": 1
           },
           {
            "bin_end": 34,
            "bin_start": 30,
            "count": 0
           },
           {
            "bin_end": 38,
            "bin_start": 34,
            "count": 1
           },
           {
            "bin_end": 42,
            "bin_start": 38,
            "count": 0
           },
           {
            "bin_end": 46,
            "bin_start": 42,
            "count": 0
           },
           {
            "bin_end": 50,
            "bin_start": 46,
            "count": 1
           },
           {
            "bin_end": 54,
            "bin_start": 50,
            "count": 0
           },
           {
            "bin_end": 58,
            "bin_start": 54,
            "count": 0
           },
           {
            "bin_end": 62,
            "bin_start": 58,
            "count": 1
           }
          ],
          "max": "62.0",
          "min": "22.0",
          "nan_count": 0,
          "unique_count": 5
         }
        },
        {
         "dtype": "int64",
         "name": "SibSp",
         "stats": {
          "histogram": [
           {
            "bin_end": 0.1,
            "bin_start": 0,
            "count": 3
           },
           {
            "bin_end": 0.2,
            "bin_start": 0.1,
            "count": 0
           },
           {
            "bin_end": 0.30000000000000004,
            "bin_start": 0.2,
            "count": 0
           },
           {
            "bin_end": 0.4,
            "bin_start": 0.30000000000000004,
            "count": 0
           },
           {
            "bin_end": 0.5,
            "bin_start": 0.4,
            "count": 0
           },
           {
            "bin_end": 0.6000000000000001,
            "bin_start": 0.5,
            "count": 0
           },
           {
            "bin_end": 0.7000000000000001,
            "bin_start": 0.6000000000000001,
            "count": 0
           },
           {
            "bin_end": 0.8,
            "bin_start": 0.7000000000000001,
            "count": 0
           },
           {
            "bin_end": 0.9,
            "bin_start": 0.8,
            "count": 0
           },
           {
            "bin_end": 1,
            "bin_start": 0.9,
            "count": 2
           }
          ],
          "max": "1",
          "min": "0",
          "nan_count": 0,
          "unique_count": 2
         }
        },
        {
         "dtype": "int64",
         "name": "Parch",
         "stats": {
          "histogram": [
           {
            "bin_end": 0.1,
            "bin_start": 0,
            "count": 4
           },
           {
            "bin_end": 0.2,
            "bin_start": 0.1,
            "count": 0
           },
           {
            "bin_end": 0.30000000000000004,
            "bin_start": 0.2,
            "count": 0
           },
           {
            "bin_end": 0.4,
            "bin_start": 0.30000000000000004,
            "count": 0
           },
           {
            "bin_end": 0.5,
            "bin_start": 0.4,
            "count": 0
           },
           {
            "bin_end": 0.6000000000000001,
            "bin_start": 0.5,
            "count": 0
           },
           {
            "bin_end": 0.7000000000000001,
            "bin_start": 0.6000000000000001,
            "count": 0
           },
           {
            "bin_end": 0.8,
            "bin_start": 0.7000000000000001,
            "count": 0
           },
           {
            "bin_end": 0.9,
            "bin_start": 0.8,
            "count": 0
           },
           {
            "bin_end": 1,
            "bin_start": 0.9,
            "count": 1
           }
          ],
          "max": "1",
          "min": "0",
          "nan_count": 0,
          "unique_count": 2
         }
        },
        {
         "dtype": "object",
         "name": "Ticket",
         "stats": {
          "categories": [
           {
            "count": 1,
            "name": "330911"
           },
           {
            "count": 1,
            "name": "363272"
           },
           {
            "count": 3,
            "name": "3 others"
           }
          ],
          "nan_count": 0,
          "unique_count": 5
         }
        },
        {
         "dtype": "float64",
         "name": "Fare",
         "stats": {
          "histogram": [
           {
            "bin_end": 7.52875,
            "bin_start": 7,
            "count": 1
           },
           {
            "bin_end": 8.0575,
            "bin_start": 7.52875,
            "count": 1
           },
           {
            "bin_end": 8.58625,
            "bin_start": 8.0575,
            "count": 0
           },
           {
            "bin_end": 9.115,
            "bin_start": 8.58625,
            "count": 1
           },
           {
            "bin_end": 9.64375,
            "bin_start": 9.115,
            "count": 0
           },
           {
            "bin_end": 10.1725,
            "bin_start": 9.64375,
            "count": 1
           },
           {
            "bin_end": 10.70125,
            "bin_start": 10.1725,
            "count": 0
           },
           {
            "bin_end": 11.23,
            "bin_start": 10.70125,
            "count": 0
           },
           {
            "bin_end": 11.75875,
            "bin_start": 11.23,
            "count": 0
           },
           {
            "bin_end": 12.2875,
            "bin_start": 11.75875,
            "count": 1
           }
          ],
          "max": "12.2875",
          "min": "7.0",
          "nan_count": 0,
          "unique_count": 5
         }
        },
        {
         "dtype": "object",
         "name": "Cabin",
         "stats": {
          "categories": [
           {
            "count": 5,
            "name": "Unknown"
           }
          ],
          "nan_count": 0,
          "unique_count": 1
         }
        },
        {
         "dtype": "object",
         "name": "Embarked",
         "stats": {
          "categories": [
           {
            "count": 3,
            "name": "S"
           },
           {
            "count": 2,
            "name": "Q"
           }
          ],
          "nan_count": 0,
          "unique_count": 2
         }
        },
        {
         "dtype": "object",
         "name": "title",
         "stats": {
          "categories": [
           {
            "count": 3,
            "name": "Mr"
           },
           {
            "count": 2,
            "name": "Mrs"
           }
          ],
          "nan_count": 0,
          "unique_count": 2
         }
        },
        {
         "dtype": "int64",
         "name": "_deepnote_index_column"
        }
       ],
       "row_count": 5,
       "rows_bottom": null,
       "rows_top": [
        {
         "Age": 34.5,
         "Cabin": "Unknown",
         "Embarked": "Q",
         "Fare": 7.8292,
         "Parch": 0,
         "PassengerId": 892,
         "Pclass": 3,
         "Sex": "male",
         "SibSp": 0,
         "Ticket": "330911",
         "_deepnote_index_column": 0,
         "title": "Mr"
        },
        {
         "Age": 47,
         "Cabin": "Unknown",
         "Embarked": "S",
         "Fare": 7,
         "Parch": 0,
         "PassengerId": 893,
         "Pclass": 3,
         "Sex": "female",
         "SibSp": 1,
         "Ticket": "363272",
         "_deepnote_index_column": 1,
         "title": "Mrs"
        },
        {
         "Age": 62,
         "Cabin": "Unknown",
         "Embarked": "Q",
         "Fare": 9.6875,
         "Parch": 0,
         "PassengerId": 894,
         "Pclass": 2,
         "Sex": "male",
         "SibSp": 0,
         "Ticket": "240276",
         "_deepnote_index_column": 2,
         "title": "Mr"
        },
        {
         "Age": 27,
         "Cabin": "Unknown",
         "Embarked": "S",
         "Fare": 8.6625,
         "Parch": 0,
         "PassengerId": 895,
         "Pclass": 3,
         "Sex": "male",
         "SibSp": 0,
         "Ticket": "315154",
         "_deepnote_index_column": 3,
         "title": "Mr"
        },
        {
         "Age": 22,
         "Cabin": "Unknown",
         "Embarked": "S",
         "Fare": 12.2875,
         "Parch": 1,
         "PassengerId": 896,
         "Pclass": 3,
         "Sex": "female",
         "SibSp": 1,
         "Ticket": "3101298",
         "_deepnote_index_column": 4,
         "title": "Mrs"
        }
       ]
      },
      "text/html": [
       "<div>\n",
       "<style scoped>\n",
       "    .dataframe tbody tr th:only-of-type {\n",
       "        vertical-align: middle;\n",
       "    }\n",
       "\n",
       "    .dataframe tbody tr th {\n",
       "        vertical-align: top;\n",
       "    }\n",
       "\n",
       "    .dataframe thead th {\n",
       "        text-align: right;\n",
       "    }\n",
       "</style>\n",
       "<table border=\"1\" class=\"dataframe\">\n",
       "  <thead>\n",
       "    <tr style=\"text-align: right;\">\n",
       "      <th></th>\n",
       "      <th>PassengerId</th>\n",
       "      <th>Pclass</th>\n",
       "      <th>Sex</th>\n",
       "      <th>Age</th>\n",
       "      <th>SibSp</th>\n",
       "      <th>Parch</th>\n",
       "      <th>Ticket</th>\n",
       "      <th>Fare</th>\n",
       "      <th>Cabin</th>\n",
       "      <th>Embarked</th>\n",
       "      <th>title</th>\n",
       "    </tr>\n",
       "  </thead>\n",
       "  <tbody>\n",
       "    <tr>\n",
       "      <th>0</th>\n",
       "      <td>892</td>\n",
       "      <td>3</td>\n",
       "      <td>male</td>\n",
       "      <td>34.5</td>\n",
       "      <td>0</td>\n",
       "      <td>0</td>\n",
       "      <td>330911</td>\n",
       "      <td>7.8292</td>\n",
       "      <td>Unknown</td>\n",
       "      <td>Q</td>\n",
       "      <td>Mr</td>\n",
       "    </tr>\n",
       "    <tr>\n",
       "      <th>1</th>\n",
       "      <td>893</td>\n",
       "      <td>3</td>\n",
       "      <td>female</td>\n",
       "      <td>47.0</td>\n",
       "      <td>1</td>\n",
       "      <td>0</td>\n",
       "      <td>363272</td>\n",
       "      <td>7.0000</td>\n",
       "      <td>Unknown</td>\n",
       "      <td>S</td>\n",
       "      <td>Mrs</td>\n",
       "    </tr>\n",
       "    <tr>\n",
       "      <th>2</th>\n",
       "      <td>894</td>\n",
       "      <td>2</td>\n",
       "      <td>male</td>\n",
       "      <td>62.0</td>\n",
       "      <td>0</td>\n",
       "      <td>0</td>\n",
       "      <td>240276</td>\n",
       "      <td>9.6875</td>\n",
       "      <td>Unknown</td>\n",
       "      <td>Q</td>\n",
       "      <td>Mr</td>\n",
       "    </tr>\n",
       "    <tr>\n",
       "      <th>3</th>\n",
       "      <td>895</td>\n",
       "      <td>3</td>\n",
       "      <td>male</td>\n",
       "      <td>27.0</td>\n",
       "      <td>0</td>\n",
       "      <td>0</td>\n",
       "      <td>315154</td>\n",
       "      <td>8.6625</td>\n",
       "      <td>Unknown</td>\n",
       "      <td>S</td>\n",
       "      <td>Mr</td>\n",
       "    </tr>\n",
       "    <tr>\n",
       "      <th>4</th>\n",
       "      <td>896</td>\n",
       "      <td>3</td>\n",
       "      <td>female</td>\n",
       "      <td>22.0</td>\n",
       "      <td>1</td>\n",
       "      <td>1</td>\n",
       "      <td>3101298</td>\n",
       "      <td>12.2875</td>\n",
       "      <td>Unknown</td>\n",
       "      <td>S</td>\n",
       "      <td>Mrs</td>\n",
       "    </tr>\n",
       "  </tbody>\n",
       "</table>\n",
       "</div>"
      ],
      "text/plain": [
       "   PassengerId  Pclass     Sex   Age  SibSp  Parch   Ticket     Fare    Cabin  \\\n",
       "0          892       3    male  34.5      0      0   330911   7.8292  Unknown   \n",
       "1          893       3  female  47.0      1      0   363272   7.0000  Unknown   \n",
       "2          894       2    male  62.0      0      0   240276   9.6875  Unknown   \n",
       "3          895       3    male  27.0      0      0   315154   8.6625  Unknown   \n",
       "4          896       3  female  22.0      1      1  3101298  12.2875  Unknown   \n",
       "\n",
       "  Embarked title  \n",
       "0        Q    Mr  \n",
       "1        S   Mrs  \n",
       "2        Q    Mr  \n",
       "3        S    Mr  \n",
       "4        S   Mrs  "
      ]
     },
     "execution_count": 29,
     "metadata": {},
     "output_type": "execute_result"
    }
   ],
   "source": [
    "test.head()"
   ]
  },
  {
   "cell_type": "markdown",
   "metadata": {
    "cell_id": "00031-94a1a15e-e398-4365-9255-74ee214f54ab",
    "deepnote_cell_type": "markdown",
    "id": "gjrKELvUL8Lg"
   },
   "source": [
    "#### 2.  Cut the Age and Fare column to different bins "
   ]
  },
  {
   "cell_type": "code",
   "execution_count": null,
   "metadata": {
    "cell_id": "00032-4fcaacb5-1371-419c-8b00-044430b44ef7",
    "deepnote_cell_type": "code",
    "deepnote_to_be_reexecuted": false,
    "execution_millis": 28,
    "execution_start": 1633265451585,
    "id": "ITZU1O6ZL8Lg",
    "outputId": "9d0bafce-e405-49cc-dab2-a36f4ea2d5f2",
    "source_hash": "3dc5e06b"
   },
   "outputs": [
    {
     "data": {
      "application/vnd.deepnote.dataframe.v2+json": {
       "column_count": 8,
       "columns": [
        {
         "dtype": "float64",
         "name": "PassengerId",
         "stats": {
          "histogram": [
           {
            "bin_end": 90,
            "bin_start": 1,
            "count": 1
           },
           {
            "bin_end": 179,
            "bin_start": 90,
            "count": 0
           },
           {
            "bin_end": 268,
            "bin_start": 179,
            "count": 2
           },
           {
            "bin_end": 357,
            "bin_start": 268,
            "count": 0
           },
           {
            "bin_end": 446,
            "bin_start": 357,
            "count": 0
           },
           {
            "bin_end": 535,
            "bin_start": 446,
            "count": 2
           },
           {
            "bin_end": 624,
            "bin_start": 535,
            "count": 0
           },
           {
            "bin_end": 713,
            "bin_start": 624,
            "count": 1
           },
           {
            "bin_end": 802,
            "bin_start": 713,
            "count": 0
           },
           {
            "bin_end": 891,
            "bin_start": 802,
            "count": 2
           }
          ],
          "max": "891.0",
          "min": "1.0",
          "nan_count": 0,
          "unique_count": 6
         }
        },
        {
         "dtype": "float64",
         "name": "Survived",
         "stats": {
          "histogram": [
           {
            "bin_end": 89.1,
            "bin_start": 0,
            "count": 7
           },
           {
            "bin_end": 178.2,
            "bin_start": 89.1,
            "count": 0
           },
           {
            "bin_end": 267.29999999999995,
            "bin_start": 178.2,
            "count": 0
           },
           {
            "bin_end": 356.4,
            "bin_start": 267.29999999999995,
            "count": 0
           },
           {
            "bin_end": 445.5,
            "bin_start": 356.4,
            "count": 0
           },
           {
            "bin_end": 534.5999999999999,
            "bin_start": 445.5,
            "count": 0
           },
           {
            "bin_end": 623.6999999999999,
            "bin_start": 534.5999999999999,
            "count": 0
           },
           {
            "bin_end": 712.8,
            "bin_start": 623.6999999999999,
            "count": 0
           },
           {
            "bin_end": 801.9,
            "bin_start": 712.8,
            "count": 0
           },
           {
            "bin_end": 891,
            "bin_start": 801.9,
            "count": 1
           }
          ],
          "max": "891.0",
          "min": "0.0",
          "nan_count": 0,
          "unique_count": 5
         }
        },
        {
         "dtype": "float64",
         "name": "Pclass",
         "stats": {
          "histogram": [
           {
            "bin_end": 89.85246411687935,
            "bin_start": 0.836071240977049,
            "count": 7
           },
           {
            "bin_end": 178.86885699278164,
            "bin_start": 89.85246411687935,
            "count": 0
           },
           {
            "bin_end": 267.88524986868396,
            "bin_start": 178.86885699278164,
            "count": 0
           },
           {
            "bin_end": 356.90164274458624,
            "bin_start": 267.88524986868396,
            "count": 0
           },
           {
            "bin_end": 445.9180356204885,
            "bin_start": 356.90164274458624,
            "count": 0
           },
           {
            "bin_end": 534.9344284963909,
            "bin_start": 445.9180356204885,
            "count": 0
           },
           {
            "bin_end": 623.9508213722931,
            "bin_start": 534.9344284963909,
            "count": 0
           },
           {
            "bin_end": 712.9672142481954,
            "bin_start": 623.9508213722931,
            "count": 0
           },
           {
            "bin_end": 801.9836071240977,
            "bin_start": 712.9672142481954,
            "count": 0
           },
           {
            "bin_end": 891,
            "bin_start": 801.9836071240977,
            "count": 1
           }
          ],
          "max": "891.0",
          "min": "0.836071240977049",
          "nan_count": 0,
          "unique_count": 6
         }
        },
        {
         "dtype": "float64",
         "name": "Age",
         "stats": {
          "histogram": [
           {
            "bin_end": 89.47800000000001,
            "bin_start": 0.42,
            "count": 7
           },
           {
            "bin_end": 178.536,
            "bin_start": 89.47800000000001,
            "count": 0
           },
           {
            "bin_end": 267.59400000000005,
            "bin_start": 178.536,
            "count": 0
           },
           {
            "bin_end": 356.65200000000004,
            "bin_start": 267.59400000000005,
            "count": 0
           },
           {
            "bin_end": 445.71000000000004,
            "bin_start": 356.65200000000004,
            "count": 0
           },
           {
            "bin_end": 534.768,
            "bin_start": 445.71000000000004,
            "count": 0
           },
           {
            "bin_end": 623.826,
            "bin_start": 534.768,
            "count": 0
           },
           {
            "bin_end": 712.884,
            "bin_start": 623.826,
            "count": 0
           },
           {
            "bin_end": 801.942,
            "bin_start": 712.884,
            "count": 0
           },
           {
            "bin_end": 891,
            "bin_start": 801.942,
            "count": 1
           }
          ],
          "max": "891.0",
          "min": "0.42",
          "nan_count": 0,
          "unique_count": 8
         }
        },
        {
         "dtype": "float64",
         "name": "SibSp",
         "stats": {
          "histogram": [
           {
            "bin_end": 89.1,
            "bin_start": 0,
            "count": 7
           },
           {
            "bin_end": 178.2,
            "bin_start": 89.1,
            "count": 0
           },
           {
            "bin_end": 267.29999999999995,
            "bin_start": 178.2,
            "count": 0
           },
           {
            "bin_end": 356.4,
            "bin_start": 267.29999999999995,
            "count": 0
           },
           {
            "bin_end": 445.5,
            "bin_start": 356.4,
            "count": 0
           },
           {
            "bin_end": 534.5999999999999,
            "bin_start": 445.5,
            "count": 0
           },
           {
            "bin_end": 623.6999999999999,
            "bin_start": 534.5999999999999,
            "count": 0
           },
           {
            "bin_end": 712.8,
            "bin_start": 623.6999999999999,
            "count": 0
           },
           {
            "bin_end": 801.9,
            "bin_start": 712.8,
            "count": 0
           },
           {
            "bin_end": 891,
            "bin_start": 801.9,
            "count": 1
           }
          ],
          "max": "891.0",
          "min": "0.0",
          "nan_count": 0,
          "unique_count": 6
         }
        },
        {
         "dtype": "float64",
         "name": "Parch",
         "stats": {
          "histogram": [
           {
            "bin_end": 89.1,
            "bin_start": 0,
            "count": 7
           },
           {
            "bin_end": 178.2,
            "bin_start": 89.1,
            "count": 0
           },
           {
            "bin_end": 267.29999999999995,
            "bin_start": 178.2,
            "count": 0
           },
           {
            "bin_end": 356.4,
            "bin_start": 267.29999999999995,
            "count": 0
           },
           {
            "bin_end": 445.5,
            "bin_start": 356.4,
            "count": 0
           },
           {
            "bin_end": 534.5999999999999,
            "bin_start": 445.5,
            "count": 0
           },
           {
            "bin_end": 623.6999999999999,
            "bin_start": 534.5999999999999,
            "count": 0
           },
           {
            "bin_end": 712.8,
            "bin_start": 623.6999999999999,
            "count": 0
           },
           {
            "bin_end": 801.9,
            "bin_start": 712.8,
            "count": 0
           },
           {
            "bin_end": 891,
            "bin_start": 801.9,
            "count": 1
           }
          ],
          "max": "891.0",
          "min": "0.0",
          "nan_count": 0,
          "unique_count": 5
         }
        },
        {
         "dtype": "float64",
         "name": "Fare",
         "stats": {
          "histogram": [
           {
            "bin_end": 89.1,
            "bin_start": 0,
            "count": 6
           },
           {
            "bin_end": 178.2,
            "bin_start": 89.1,
            "count": 0
           },
           {
            "bin_end": 267.29999999999995,
            "bin_start": 178.2,
            "count": 0
           },
           {
            "bin_end": 356.4,
            "bin_start": 267.29999999999995,
            "count": 0
           },
           {
            "bin_end": 445.5,
            "bin_start": 356.4,
            "count": 0
           },
           {
            "bin_end": 534.5999999999999,
            "bin_start": 445.5,
            "count": 1
           },
           {
            "bin_end": 623.6999999999999,
            "bin_start": 534.5999999999999,
            "count": 0
           },
           {
            "bin_end": 712.8,
            "bin_start": 623.6999999999999,
            "count": 0
           },
           {
            "bin_end": 801.9,
            "bin_start": 712.8,
            "count": 0
           },
           {
            "bin_end": 891,
            "bin_start": 801.9,
            "count": 1
           }
          ],
          "max": "891.0",
          "min": "0.0",
          "nan_count": 0,
          "unique_count": 8
         }
        },
        {
         "dtype": "float64",
         "name": "fold",
         "stats": {
          "histogram": [
           {
            "bin_end": 89.1,
            "bin_start": 0,
            "count": 7
           },
           {
            "bin_end": 178.2,
            "bin_start": 89.1,
            "count": 0
           },
           {
            "bin_end": 267.29999999999995,
            "bin_start": 178.2,
            "count": 0
           },
           {
            "bin_end": 356.4,
            "bin_start": 267.29999999999995,
            "count": 0
           },
           {
            "bin_end": 445.5,
            "bin_start": 356.4,
            "count": 0
           },
           {
            "bin_end": 534.5999999999999,
            "bin_start": 445.5,
            "count": 0
           },
           {
            "bin_end": 623.6999999999999,
            "bin_start": 534.5999999999999,
            "count": 0
           },
           {
            "bin_end": 712.8,
            "bin_start": 623.6999999999999,
            "count": 0
           },
           {
            "bin_end": 801.9,
            "bin_start": 712.8,
            "count": 0
           },
           {
            "bin_end": 891,
            "bin_start": 801.9,
            "count": 1
           }
          ],
          "max": "891.0",
          "min": "0.0",
          "nan_count": 0,
          "unique_count": 8
         }
        },
        {
         "dtype": "object",
         "name": "_deepnote_index_column"
        }
       ],
       "row_count": 8,
       "rows_bottom": null,
       "rows_top": [
        {
         "Age": 891,
         "Fare": 891,
         "Parch": 891,
         "PassengerId": 891,
         "Pclass": 891,
         "SibSp": 891,
         "Survived": 891,
         "_deepnote_index_column": "count",
         "fold": 891
        },
        {
         "Age": 29.514790428134532,
         "Fare": 32.204207968574636,
         "Parch": 0.38159371492704824,
         "PassengerId": 446,
         "Pclass": 2.308641975308642,
         "SibSp": 0.5230078563411896,
         "Survived": 0.3838383838383838,
         "_deepnote_index_column": "mean",
         "fold": 1.9977553310886644
        },
        {
         "Age": 13.309635882769463,
         "Fare": 49.6934285971809,
         "Parch": 0.8060572211299483,
         "PassengerId": 257.3538420152301,
         "Pclass": 0.836071240977049,
         "SibSp": 1.1027434322934317,
         "Survived": 0.4865924542648575,
         "_deepnote_index_column": "std",
         "fold": 1.4157998932838889
        },
        {
         "Age": 0.42,
         "Fare": 0,
         "Parch": 0,
         "PassengerId": 1,
         "Pclass": 1,
         "SibSp": 0,
         "Survived": 0,
         "_deepnote_index_column": "min",
         "fold": 0
        },
        {
         "Age": 21,
         "Fare": 7.9104,
         "Parch": 0,
         "PassengerId": 223.5,
         "Pclass": 2,
         "SibSp": 0,
         "Survived": 0,
         "_deepnote_index_column": "25%",
         "fold": 1
        },
        {
         "Age": 28.235555555555557,
         "Fare": 14.4542,
         "Parch": 0,
         "PassengerId": 446,
         "Pclass": 3,
         "SibSp": 0,
         "Survived": 0,
         "_deepnote_index_column": "50%",
         "fold": 2
        },
        {
         "Age": 36,
         "Fare": 31,
         "Parch": 0,
         "PassengerId": 668.5,
         "Pclass": 3,
         "SibSp": 1,
         "Survived": 1,
         "_deepnote_index_column": "75%",
         "fold": 3
        },
        {
         "Age": 80,
         "Fare": 512.3292,
         "Parch": 6,
         "PassengerId": 891,
         "Pclass": 3,
         "SibSp": 8,
         "Survived": 1,
         "_deepnote_index_column": "max",
         "fold": 4
        }
       ]
      },
      "text/html": [
       "<div>\n",
       "<style scoped>\n",
       "    .dataframe tbody tr th:only-of-type {\n",
       "        vertical-align: middle;\n",
       "    }\n",
       "\n",
       "    .dataframe tbody tr th {\n",
       "        vertical-align: top;\n",
       "    }\n",
       "\n",
       "    .dataframe thead th {\n",
       "        text-align: right;\n",
       "    }\n",
       "</style>\n",
       "<table border=\"1\" class=\"dataframe\">\n",
       "  <thead>\n",
       "    <tr style=\"text-align: right;\">\n",
       "      <th></th>\n",
       "      <th>PassengerId</th>\n",
       "      <th>Survived</th>\n",
       "      <th>Pclass</th>\n",
       "      <th>Age</th>\n",
       "      <th>SibSp</th>\n",
       "      <th>Parch</th>\n",
       "      <th>Fare</th>\n",
       "      <th>fold</th>\n",
       "    </tr>\n",
       "  </thead>\n",
       "  <tbody>\n",
       "    <tr>\n",
       "      <th>count</th>\n",
       "      <td>891.000000</td>\n",
       "      <td>891.000000</td>\n",
       "      <td>891.000000</td>\n",
       "      <td>891.000000</td>\n",
       "      <td>891.000000</td>\n",
       "      <td>891.000000</td>\n",
       "      <td>891.000000</td>\n",
       "      <td>891.000000</td>\n",
       "    </tr>\n",
       "    <tr>\n",
       "      <th>mean</th>\n",
       "      <td>446.000000</td>\n",
       "      <td>0.383838</td>\n",
       "      <td>2.308642</td>\n",
       "      <td>29.514790</td>\n",
       "      <td>0.523008</td>\n",
       "      <td>0.381594</td>\n",
       "      <td>32.204208</td>\n",
       "      <td>1.997755</td>\n",
       "    </tr>\n",
       "    <tr>\n",
       "      <th>std</th>\n",
       "      <td>257.353842</td>\n",
       "      <td>0.486592</td>\n",
       "      <td>0.836071</td>\n",
       "      <td>13.309636</td>\n",
       "      <td>1.102743</td>\n",
       "      <td>0.806057</td>\n",
       "      <td>49.693429</td>\n",
       "      <td>1.415800</td>\n",
       "    </tr>\n",
       "    <tr>\n",
       "      <th>min</th>\n",
       "      <td>1.000000</td>\n",
       "      <td>0.000000</td>\n",
       "      <td>1.000000</td>\n",
       "      <td>0.420000</td>\n",
       "      <td>0.000000</td>\n",
       "      <td>0.000000</td>\n",
       "      <td>0.000000</td>\n",
       "      <td>0.000000</td>\n",
       "    </tr>\n",
       "    <tr>\n",
       "      <th>25%</th>\n",
       "      <td>223.500000</td>\n",
       "      <td>0.000000</td>\n",
       "      <td>2.000000</td>\n",
       "      <td>21.000000</td>\n",
       "      <td>0.000000</td>\n",
       "      <td>0.000000</td>\n",
       "      <td>7.910400</td>\n",
       "      <td>1.000000</td>\n",
       "    </tr>\n",
       "    <tr>\n",
       "      <th>50%</th>\n",
       "      <td>446.000000</td>\n",
       "      <td>0.000000</td>\n",
       "      <td>3.000000</td>\n",
       "      <td>28.235556</td>\n",
       "      <td>0.000000</td>\n",
       "      <td>0.000000</td>\n",
       "      <td>14.454200</td>\n",
       "      <td>2.000000</td>\n",
       "    </tr>\n",
       "    <tr>\n",
       "      <th>75%</th>\n",
       "      <td>668.500000</td>\n",
       "      <td>1.000000</td>\n",
       "      <td>3.000000</td>\n",
       "      <td>36.000000</td>\n",
       "      <td>1.000000</td>\n",
       "      <td>0.000000</td>\n",
       "      <td>31.000000</td>\n",
       "      <td>3.000000</td>\n",
       "    </tr>\n",
       "    <tr>\n",
       "      <th>max</th>\n",
       "      <td>891.000000</td>\n",
       "      <td>1.000000</td>\n",
       "      <td>3.000000</td>\n",
       "      <td>80.000000</td>\n",
       "      <td>8.000000</td>\n",
       "      <td>6.000000</td>\n",
       "      <td>512.329200</td>\n",
       "      <td>4.000000</td>\n",
       "    </tr>\n",
       "  </tbody>\n",
       "</table>\n",
       "</div>"
      ],
      "text/plain": [
       "       PassengerId    Survived      Pclass         Age       SibSp  \\\n",
       "count   891.000000  891.000000  891.000000  891.000000  891.000000   \n",
       "mean    446.000000    0.383838    2.308642   29.514790    0.523008   \n",
       "std     257.353842    0.486592    0.836071   13.309636    1.102743   \n",
       "min       1.000000    0.000000    1.000000    0.420000    0.000000   \n",
       "25%     223.500000    0.000000    2.000000   21.000000    0.000000   \n",
       "50%     446.000000    0.000000    3.000000   28.235556    0.000000   \n",
       "75%     668.500000    1.000000    3.000000   36.000000    1.000000   \n",
       "max     891.000000    1.000000    3.000000   80.000000    8.000000   \n",
       "\n",
       "            Parch        Fare        fold  \n",
       "count  891.000000  891.000000  891.000000  \n",
       "mean     0.381594   32.204208    1.997755  \n",
       "std      0.806057   49.693429    1.415800  \n",
       "min      0.000000    0.000000    0.000000  \n",
       "25%      0.000000    7.910400    1.000000  \n",
       "50%      0.000000   14.454200    2.000000  \n",
       "75%      0.000000   31.000000    3.000000  \n",
       "max      6.000000  512.329200    4.000000  "
      ]
     },
     "execution_count": 30,
     "metadata": {},
     "output_type": "execute_result"
    }
   ],
   "source": [
    "train.describe()"
   ]
  },
  {
   "cell_type": "code",
   "execution_count": null,
   "metadata": {
    "cell_id": "00033-0bec4f3e-4673-487e-b617-e282c0ac8748",
    "deepnote_cell_type": "code",
    "deepnote_to_be_reexecuted": false,
    "execution_millis": 53,
    "execution_start": 1633265451625,
    "id": "JZHRSCG0L8Lg",
    "outputId": "d10633bc-89b7-4977-cc20-240f3dd7880d",
    "source_hash": "9782bf47"
   },
   "outputs": [
    {
     "data": {
      "application/vnd.deepnote.dataframe.v2+json": {
       "column_count": 6,
       "columns": [
        {
         "dtype": "float64",
         "name": "PassengerId",
         "stats": {
          "histogram": [
           {
            "bin_end": 239.62941184426595,
            "bin_start": 120.81045760473994,
            "count": 1
           },
           {
            "bin_end": 358.44836608379194,
            "bin_start": 239.62941184426595,
            "count": 0
           },
           {
            "bin_end": 477.26732032331796,
            "bin_start": 358.44836608379194,
            "count": 1
           },
           {
            "bin_end": 596.086274562844,
            "bin_start": 477.26732032331796,
            "count": 0
           },
           {
            "bin_end": 714.90522880237,
            "bin_start": 596.086274562844,
            "count": 0
           },
           {
            "bin_end": 833.7241830418959,
            "bin_start": 714.90522880237,
            "count": 0
           },
           {
            "bin_end": 952.543137281422,
            "bin_start": 833.7241830418959,
            "count": 1
           },
           {
            "bin_end": 1071.362091520948,
            "bin_start": 952.543137281422,
            "count": 1
           },
           {
            "bin_end": 1190.181045760474,
            "bin_start": 1071.362091520948,
            "count": 2
           },
           {
            "bin_end": 1309,
            "bin_start": 1190.181045760474,
            "count": 2
           }
          ],
          "max": "1309.0",
          "min": "120.81045760473994",
          "nan_count": 0,
          "unique_count": 7
         }
        },
        {
         "dtype": "float64",
         "name": "Pclass",
         "stats": {
          "histogram": [
           {
            "bin_end": 42.557653796767646,
            "bin_start": 0.8418375519640503,
            "count": 7
           },
           {
            "bin_end": 84.27347004157124,
            "bin_start": 42.557653796767646,
            "count": 0
           },
           {
            "bin_end": 125.98928628637485,
            "bin_start": 84.27347004157124,
            "count": 0
           },
           {
            "bin_end": 167.70510253117845,
            "bin_start": 125.98928628637485,
            "count": 0
           },
           {
            "bin_end": 209.42091877598205,
            "bin_start": 167.70510253117845,
            "count": 0
           },
           {
            "bin_end": 251.13673502078566,
            "bin_start": 209.42091877598205,
            "count": 0
           },
           {
            "bin_end": 292.8525512655892,
            "bin_start": 251.13673502078566,
            "count": 0
           },
           {
            "bin_end": 334.5683675103928,
            "bin_start": 292.8525512655892,
            "count": 0
           },
           {
            "bin_end": 376.2841837551964,
            "bin_start": 334.5683675103928,
            "count": 0
           },
           {
            "bin_end": 418,
            "bin_start": 376.2841837551964,
            "count": 1
           }
          ],
          "max": "418.0",
          "min": "0.8418375519640503",
          "nan_count": 0,
          "unique_count": 5
         }
        },
        {
         "dtype": "float64",
         "name": "Age",
         "stats": {
          "histogram": [
           {
            "bin_end": 41.953,
            "bin_start": 0.17,
            "count": 6
           },
           {
            "bin_end": 83.736,
            "bin_start": 41.953,
            "count": 1
           },
           {
            "bin_end": 125.519,
            "bin_start": 83.736,
            "count": 0
           },
           {
            "bin_end": 167.302,
            "bin_start": 125.519,
            "count": 0
           },
           {
            "bin_end": 209.085,
            "bin_start": 167.302,
            "count": 0
           },
           {
            "bin_end": 250.868,
            "bin_start": 209.085,
            "count": 0
           },
           {
            "bin_end": 292.651,
            "bin_start": 250.868,
            "count": 0
           },
           {
            "bin_end": 334.434,
            "bin_start": 292.651,
            "count": 0
           },
           {
            "bin_end": 376.21700000000004,
            "bin_start": 334.434,
            "count": 0
           },
           {
            "bin_end": 418,
            "bin_start": 376.21700000000004,
            "count": 1
           }
          ],
          "max": "418.0",
          "min": "0.17",
          "nan_count": 0,
          "unique_count": 8
         }
        },
        {
         "dtype": "float64",
         "name": "SibSp",
         "stats": {
          "histogram": [
           {
            "bin_end": 41.8,
            "bin_start": 0,
            "count": 7
           },
           {
            "bin_end": 83.6,
            "bin_start": 41.8,
            "count": 0
           },
           {
            "bin_end": 125.39999999999999,
            "bin_start": 83.6,
            "count": 0
           },
           {
            "bin_end": 167.2,
            "bin_start": 125.39999999999999,
            "count": 0
           },
           {
            "bin_end": 209,
            "bin_start": 167.2,
            "count": 0
           },
           {
            "bin_end": 250.79999999999998,
            "bin_start": 209,
            "count": 0
           },
           {
            "bin_end": 292.59999999999997,
            "bin_start": 250.79999999999998,
            "count": 0
           },
           {
            "bin_end": 334.4,
            "bin_start": 292.59999999999997,
            "count": 0
           },
           {
            "bin_end": 376.2,
            "bin_start": 334.4,
            "count": 0
           },
           {
            "bin_end": 418,
            "bin_start": 376.2,
            "count": 1
           }
          ],
          "max": "418.0",
          "min": "0.0",
          "nan_count": 0,
          "unique_count": 6
         }
        },
        {
         "dtype": "float64",
         "name": "Parch",
         "stats": {
          "histogram": [
           {
            "bin_end": 41.8,
            "bin_start": 0,
            "count": 7
           },
           {
            "bin_end": 83.6,
            "bin_start": 41.8,
            "count": 0
           },
           {
            "bin_end": 125.39999999999999,
            "bin_start": 83.6,
            "count": 0
           },
           {
            "bin_end": 167.2,
            "bin_start": 125.39999999999999,
            "count": 0
           },
           {
            "bin_end": 209,
            "bin_start": 167.2,
            "count": 0
           },
           {
            "bin_end": 250.79999999999998,
            "bin_start": 209,
            "count": 0
           },
           {
            "bin_end": 292.59999999999997,
            "bin_start": 250.79999999999998,
            "count": 0
           },
           {
            "bin_end": 334.4,
            "bin_start": 292.59999999999997,
            "count": 0
           },
           {
            "bin_end": 376.2,
            "bin_start": 334.4,
            "count": 0
           },
           {
            "bin_end": 418,
            "bin_start": 376.2,
            "count": 1
           }
          ],
          "max": "418.0",
          "min": "0.0",
          "nan_count": 0,
          "unique_count": 5
         }
        },
        {
         "dtype": "float64",
         "name": "Fare",
         "stats": {
          "histogram": [
           {
            "bin_end": 51.23292,
            "bin_start": 0,
            "count": 5
           },
           {
            "bin_end": 102.46584,
            "bin_start": 51.23292,
            "count": 1
           },
           {
            "bin_end": 153.69876,
            "bin_start": 102.46584,
            "count": 0
           },
           {
            "bin_end": 204.93168,
            "bin_start": 153.69876,
            "count": 0
           },
           {
            "bin_end": 256.1646,
            "bin_start": 204.93168,
            "count": 0
           },
           {
            "bin_end": 307.39752,
            "bin_start": 256.1646,
            "count": 0
           },
           {
            "bin_end": 358.63044,
            "bin_start": 307.39752,
            "count": 0
           },
           {
            "bin_end": 409.86336,
            "bin_start": 358.63044,
            "count": 0
           },
           {
            "bin_end": 461.09628,
            "bin_start": 409.86336,
            "count": 1
           },
           {
            "bin_end": 512.3292,
            "bin_start": 461.09628,
            "count": 1
           }
          ],
          "max": "512.3292",
          "min": "0.0",
          "nan_count": 0,
          "unique_count": 8
         }
        },
        {
         "dtype": "object",
         "name": "_deepnote_index_column"
        }
       ],
       "row_count": 8,
       "rows_bottom": null,
       "rows_top": [
        {
         "Age": 418,
         "Fare": 418,
         "Parch": 418,
         "PassengerId": 418,
         "Pclass": 418,
         "SibSp": 418,
         "_deepnote_index_column": "count"
        },
        {
         "Age": 29.471071718538838,
         "Fare": 35.627188489208635,
         "Parch": 0.3923444976076555,
         "PassengerId": 1100.5,
         "Pclass": 2.2655502392344498,
         "SibSp": 0.4473684210526316,
         "_deepnote_index_column": "mean"
        },
        {
         "Age": 12.949363119667094,
         "Fare": 55.840500479541035,
         "Parch": 0.9814288785371691,
         "PassengerId": 120.81045760473994,
         "Pclass": 0.8418375519640503,
         "SibSp": 0.8967595611217135,
         "_deepnote_index_column": "std"
        },
        {
         "Age": 0.17,
         "Fare": 0,
         "Parch": 0,
         "PassengerId": 892,
         "Pclass": 1,
         "SibSp": 0,
         "_deepnote_index_column": "min"
        },
        {
         "Age": 21.25,
         "Fare": 7.8958,
         "Parch": 0,
         "PassengerId": 996.25,
         "Pclass": 1,
         "SibSp": 0,
         "_deepnote_index_column": "25%"
        },
        {
         "Age": 26.121052631578948,
         "Fare": 14.4542,
         "Parch": 0,
         "PassengerId": 1100.5,
         "Pclass": 3,
         "SibSp": 0,
         "_deepnote_index_column": "50%"
        },
        {
         "Age": 36.375,
         "Fare": 31.5,
         "Parch": 0,
         "PassengerId": 1204.75,
         "Pclass": 3,
         "SibSp": 1,
         "_deepnote_index_column": "75%"
        },
        {
         "Age": 76,
         "Fare": 512.3292,
         "Parch": 9,
         "PassengerId": 1309,
         "Pclass": 3,
         "SibSp": 8,
         "_deepnote_index_column": "max"
        }
       ]
      },
      "text/html": [
       "<div>\n",
       "<style scoped>\n",
       "    .dataframe tbody tr th:only-of-type {\n",
       "        vertical-align: middle;\n",
       "    }\n",
       "\n",
       "    .dataframe tbody tr th {\n",
       "        vertical-align: top;\n",
       "    }\n",
       "\n",
       "    .dataframe thead th {\n",
       "        text-align: right;\n",
       "    }\n",
       "</style>\n",
       "<table border=\"1\" class=\"dataframe\">\n",
       "  <thead>\n",
       "    <tr style=\"text-align: right;\">\n",
       "      <th></th>\n",
       "      <th>PassengerId</th>\n",
       "      <th>Pclass</th>\n",
       "      <th>Age</th>\n",
       "      <th>SibSp</th>\n",
       "      <th>Parch</th>\n",
       "      <th>Fare</th>\n",
       "    </tr>\n",
       "  </thead>\n",
       "  <tbody>\n",
       "    <tr>\n",
       "      <th>count</th>\n",
       "      <td>418.000000</td>\n",
       "      <td>418.000000</td>\n",
       "      <td>418.000000</td>\n",
       "      <td>418.000000</td>\n",
       "      <td>418.000000</td>\n",
       "      <td>418.000000</td>\n",
       "    </tr>\n",
       "    <tr>\n",
       "      <th>mean</th>\n",
       "      <td>1100.500000</td>\n",
       "      <td>2.265550</td>\n",
       "      <td>29.471072</td>\n",
       "      <td>0.447368</td>\n",
       "      <td>0.392344</td>\n",
       "      <td>35.627188</td>\n",
       "    </tr>\n",
       "    <tr>\n",
       "      <th>std</th>\n",
       "      <td>120.810458</td>\n",
       "      <td>0.841838</td>\n",
       "      <td>12.949363</td>\n",
       "      <td>0.896760</td>\n",
       "      <td>0.981429</td>\n",
       "      <td>55.840500</td>\n",
       "    </tr>\n",
       "    <tr>\n",
       "      <th>min</th>\n",
       "      <td>892.000000</td>\n",
       "      <td>1.000000</td>\n",
       "      <td>0.170000</td>\n",
       "      <td>0.000000</td>\n",
       "      <td>0.000000</td>\n",
       "      <td>0.000000</td>\n",
       "    </tr>\n",
       "    <tr>\n",
       "      <th>25%</th>\n",
       "      <td>996.250000</td>\n",
       "      <td>1.000000</td>\n",
       "      <td>21.250000</td>\n",
       "      <td>0.000000</td>\n",
       "      <td>0.000000</td>\n",
       "      <td>7.895800</td>\n",
       "    </tr>\n",
       "    <tr>\n",
       "      <th>50%</th>\n",
       "      <td>1100.500000</td>\n",
       "      <td>3.000000</td>\n",
       "      <td>26.121053</td>\n",
       "      <td>0.000000</td>\n",
       "      <td>0.000000</td>\n",
       "      <td>14.454200</td>\n",
       "    </tr>\n",
       "    <tr>\n",
       "      <th>75%</th>\n",
       "      <td>1204.750000</td>\n",
       "      <td>3.000000</td>\n",
       "      <td>36.375000</td>\n",
       "      <td>1.000000</td>\n",
       "      <td>0.000000</td>\n",
       "      <td>31.500000</td>\n",
       "    </tr>\n",
       "    <tr>\n",
       "      <th>max</th>\n",
       "      <td>1309.000000</td>\n",
       "      <td>3.000000</td>\n",
       "      <td>76.000000</td>\n",
       "      <td>8.000000</td>\n",
       "      <td>9.000000</td>\n",
       "      <td>512.329200</td>\n",
       "    </tr>\n",
       "  </tbody>\n",
       "</table>\n",
       "</div>"
      ],
      "text/plain": [
       "       PassengerId      Pclass         Age       SibSp       Parch        Fare\n",
       "count   418.000000  418.000000  418.000000  418.000000  418.000000  418.000000\n",
       "mean   1100.500000    2.265550   29.471072    0.447368    0.392344   35.627188\n",
       "std     120.810458    0.841838   12.949363    0.896760    0.981429   55.840500\n",
       "min     892.000000    1.000000    0.170000    0.000000    0.000000    0.000000\n",
       "25%     996.250000    1.000000   21.250000    0.000000    0.000000    7.895800\n",
       "50%    1100.500000    3.000000   26.121053    0.000000    0.000000   14.454200\n",
       "75%    1204.750000    3.000000   36.375000    1.000000    0.000000   31.500000\n",
       "max    1309.000000    3.000000   76.000000    8.000000    9.000000  512.329200"
      ]
     },
     "execution_count": 31,
     "metadata": {},
     "output_type": "execute_result"
    }
   ],
   "source": [
    "test.describe()"
   ]
  },
  {
   "cell_type": "code",
   "execution_count": null,
   "metadata": {
    "cell_id": "00034-3fd4d624-6473-4c32-9606-ac43916c85cf",
    "deepnote_cell_type": "code",
    "deepnote_to_be_reexecuted": false,
    "execution_millis": 17,
    "execution_start": 1633265451675,
    "id": "bj05OudtL8Lg",
    "source_hash": "a742a94c"
   },
   "outputs": [],
   "source": [
    "train['Fare'] = pd.qcut(train['Fare'], 10)\n",
    "test['Fare'] = pd.qcut(test['Fare'], 10)\n",
    "train['Age'] = pd.qcut(train['Age'], 10)\n",
    "test['Age'] = pd.qcut(test['Age'], 10)"
   ]
  },
  {
   "cell_type": "code",
   "execution_count": null,
   "metadata": {
    "cell_id": "00035-65b4fdeb-3751-4299-96e4-bdb179eb984e",
    "deepnote_cell_type": "code",
    "deepnote_to_be_reexecuted": false,
    "execution_millis": 1,
    "execution_start": 1633265451747,
    "id": "Bmeb81lqL8Lg",
    "source_hash": "b623e53d"
   },
   "outputs": [],
   "source": []
  },
  {
   "cell_type": "code",
   "execution_count": null,
   "metadata": {
    "cell_id": "00039-61de1fdb-e34a-4fc8-9f1f-10edb23bc314",
    "deepnote_cell_type": "code",
    "deepnote_to_be_reexecuted": false,
    "execution_millis": 33,
    "execution_start": 1633265451748,
    "id": "wlxyGbAVL8Lh",
    "outputId": "503aeacc-d60a-40d9-c3d4-28f35628cc63",
    "source_hash": "e1f0b45"
   },
   "outputs": [
    {
     "data": {
      "application/vnd.deepnote.dataframe.v2+json": {
       "column_count": 13,
       "columns": [
        {
         "dtype": "int64",
         "name": "PassengerId",
         "stats": {
          "histogram": [
           {
            "bin_end": 1.4,
            "bin_start": 1,
            "count": 1
           },
           {
            "bin_end": 1.8,
            "bin_start": 1.4,
            "count": 0
           },
           {
            "bin_end": 2.2,
            "bin_start": 1.8,
            "count": 1
           },
           {
            "bin_end": 2.6,
            "bin_start": 2.2,
            "count": 0
           },
           {
            "bin_end": 3,
            "bin_start": 2.6,
            "count": 0
           },
           {
            "bin_end": 3.4000000000000004,
            "bin_start": 3,
            "count": 1
           },
           {
            "bin_end": 3.8000000000000003,
            "bin_start": 3.4000000000000004,
            "count": 0
           },
           {
            "bin_end": 4.2,
            "bin_start": 3.8000000000000003,
            "count": 1
           },
           {
            "bin_end": 4.6,
            "bin_start": 4.2,
            "count": 0
           },
           {
            "bin_end": 5,
            "bin_start": 4.6,
            "count": 1
           }
          ],
          "max": "5",
          "min": "1",
          "nan_count": 0,
          "unique_count": 5
         }
        },
        {
         "dtype": "int64",
         "name": "Survived",
         "stats": {
          "histogram": [
           {
            "bin_end": 0.1,
            "bin_start": 0,
            "count": 2
           },
           {
            "bin_end": 0.2,
            "bin_start": 0.1,
            "count": 0
           },
           {
            "bin_end": 0.30000000000000004,
            "bin_start": 0.2,
            "count": 0
           },
           {
            "bin_end": 0.4,
            "bin_start": 0.30000000000000004,
            "count": 0
           },
           {
            "bin_end": 0.5,
            "bin_start": 0.4,
            "count": 0
           },
           {
            "bin_end": 0.6000000000000001,
            "bin_start": 0.5,
            "count": 0
           },
           {
            "bin_end": 0.7000000000000001,
            "bin_start": 0.6000000000000001,
            "count": 0
           },
           {
            "bin_end": 0.8,
            "bin_start": 0.7000000000000001,
            "count": 0
           },
           {
            "bin_end": 0.9,
            "bin_start": 0.8,
            "count": 0
           },
           {
            "bin_end": 1,
            "bin_start": 0.9,
            "count": 3
           }
          ],
          "max": "1",
          "min": "0",
          "nan_count": 0,
          "unique_count": 2
         }
        },
        {
         "dtype": "int64",
         "name": "Pclass",
         "stats": {
          "histogram": [
           {
            "bin_end": 1.2,
            "bin_start": 1,
            "count": 2
           },
           {
            "bin_end": 1.4,
            "bin_start": 1.2,
            "count": 0
           },
           {
            "bin_end": 1.6,
            "bin_start": 1.4,
            "count": 0
           },
           {
            "bin_end": 1.8,
            "bin_start": 1.6,
            "count": 0
           },
           {
            "bin_end": 2,
            "bin_start": 1.8,
            "count": 0
           },
           {
            "bin_end": 2.2,
            "bin_start": 2,
            "count": 0
           },
           {
            "bin_end": 2.4000000000000004,
            "bin_start": 2.2,
            "count": 0
           },
           {
            "bin_end": 2.6,
            "bin_start": 2.4000000000000004,
            "count": 0
           },
           {
            "bin_end": 2.8,
            "bin_start": 2.6,
            "count": 0
           },
           {
            "bin_end": 3,
            "bin_start": 2.8,
            "count": 3
           }
          ],
          "max": "3",
          "min": "1",
          "nan_count": 0,
          "unique_count": 2
         }
        },
        {
         "dtype": "object",
         "name": "Sex",
         "stats": {
          "categories": [
           {
            "count": 3,
            "name": "female"
           },
           {
            "count": 2,
            "name": "male"
           }
          ],
          "nan_count": 0,
          "unique_count": 2
         }
        },
        {
         "dtype": "category",
         "name": "Age",
         "stats": {
          "categories": [
           {
            "count": 3,
            "name": "(34.0, 40.0]"
           },
           {
            "count": 1,
            "name": "(19.784, 22.0]"
           },
           {
            "count": 1,
            "name": "(22.0, 27.0]"
           }
          ],
          "nan_count": 0,
          "unique_count": 3
         }
        },
        {
         "dtype": "int64",
         "name": "SibSp",
         "stats": {
          "histogram": [
           {
            "bin_end": 0.1,
            "bin_start": 0,
            "count": 2
           },
           {
            "bin_end": 0.2,
            "bin_start": 0.1,
            "count": 0
           },
           {
            "bin_end": 0.30000000000000004,
            "bin_start": 0.2,
            "count": 0
           },
           {
            "bin_end": 0.4,
            "bin_start": 0.30000000000000004,
            "count": 0
           },
           {
            "bin_end": 0.5,
            "bin_start": 0.4,
            "count": 0
           },
           {
            "bin_end": 0.6000000000000001,
            "bin_start": 0.5,
            "count": 0
           },
           {
            "bin_end": 0.7000000000000001,
            "bin_start": 0.6000000000000001,
            "count": 0
           },
           {
            "bin_end": 0.8,
            "bin_start": 0.7000000000000001,
            "count": 0
           },
           {
            "bin_end": 0.9,
            "bin_start": 0.8,
            "count": 0
           },
           {
            "bin_end": 1,
            "bin_start": 0.9,
            "count": 3
           }
          ],
          "max": "1",
          "min": "0",
          "nan_count": 0,
          "unique_count": 2
         }
        },
        {
         "dtype": "int64",
         "name": "Parch",
         "stats": {
          "histogram": [
           {
            "bin_end": -0.4,
            "bin_start": -0.5,
            "count": 0
           },
           {
            "bin_end": -0.3,
            "bin_start": -0.4,
            "count": 0
           },
           {
            "bin_end": -0.19999999999999996,
            "bin_start": -0.3,
            "count": 0
           },
           {
            "bin_end": -0.09999999999999998,
            "bin_start": -0.19999999999999996,
            "count": 0
           },
           {
            "bin_end": 0,
            "bin_start": -0.09999999999999998,
            "count": 0
           },
           {
            "bin_end": 0.10000000000000009,
            "bin_start": 0,
            "count": 5
           },
           {
            "bin_end": 0.20000000000000007,
            "bin_start": 0.10000000000000009,
            "count": 0
           },
           {
            "bin_end": 0.30000000000000004,
            "bin_start": 0.20000000000000007,
            "count": 0
           },
           {
            "bin_end": 0.4,
            "bin_start": 0.30000000000000004,
            "count": 0
           },
           {
            "bin_end": 0.5,
            "bin_start": 0.4,
            "count": 0
           }
          ],
          "max": "0",
          "min": "0",
          "nan_count": 0,
          "unique_count": 1
         }
        },
        {
         "dtype": "object",
         "name": "Ticket",
         "stats": {
          "categories": [
           {
            "count": 1,
            "name": "A/5 21171"
           },
           {
            "count": 1,
            "name": "PC 17599"
           },
           {
            "count": 3,
            "name": "3 others"
           }
          ],
          "nan_count": 0,
          "unique_count": 5
         }
        },
        {
         "dtype": "category",
         "name": "Fare",
         "stats": {
          "categories": [
           {
            "count": 2,
            "name": "(39.688, 77.958]"
           },
           {
            "count": 2,
            "name": "(7.854, 8.05]"
           },
           {
            "count": 1,
            "name": "(-0.001, 7.55]"
           }
          ],
          "nan_count": 0,
          "unique_count": 3
         }
        },
        {
         "dtype": "object",
         "name": "Cabin",
         "stats": {
          "categories": [
           {
            "count": 3,
            "name": "Unknown"
           },
           {
            "count": 1,
            "name": "C85"
           },
           {
            "count": 1,
            "name": "C123"
           }
          ],
          "nan_count": 0,
          "unique_count": 3
         }
        },
        {
         "dtype": "object",
         "name": "Embarked",
         "stats": {
          "categories": [
           {
            "count": 4,
            "name": "S"
           },
           {
            "count": 1,
            "name": "C"
           }
          ],
          "nan_count": 0,
          "unique_count": 2
         }
        },
        {
         "dtype": "int64",
         "name": "fold",
         "stats": {
          "histogram": [
           {
            "bin_end": 0.4,
            "bin_start": 0,
            "count": 1
           },
           {
            "bin_end": 0.8,
            "bin_start": 0.4,
            "count": 0
           },
           {
            "bin_end": 1.2000000000000002,
            "bin_start": 0.8,
            "count": 1
           },
           {
            "bin_end": 1.6,
            "bin_start": 1.2000000000000002,
            "count": 0
           },
           {
            "bin_end": 2,
            "bin_start": 1.6,
            "count": 0
           },
           {
            "bin_end": 2.4000000000000004,
            "bin_start": 2,
            "count": 0
           },
           {
            "bin_end": 2.8000000000000003,
            "bin_start": 2.4000000000000004,
            "count": 0
           },
           {
            "bin_end": 3.2,
            "bin_start": 2.8000000000000003,
            "count": 2
           },
           {
            "bin_end": 3.6,
            "bin_start": 3.2,
            "count": 0
           },
           {
            "bin_end": 4,
            "bin_start": 3.6,
            "count": 1
           }
          ],
          "max": "4",
          "min": "0",
          "nan_count": 0,
          "unique_count": 4
         }
        },
        {
         "dtype": "object",
         "name": "title",
         "stats": {
          "categories": [
           {
            "count": 2,
            "name": "Mr"
           },
           {
            "count": 2,
            "name": "Mrs"
           },
           {
            "count": 1,
            "name": "Miss"
           }
          ],
          "nan_count": 0,
          "unique_count": 3
         }
        },
        {
         "dtype": "int64",
         "name": "_deepnote_index_column"
        }
       ],
       "row_count": 5,
       "rows_bottom": null,
       "rows_top": [
        {
         "Age": "(19.784, 22.0]",
         "Cabin": "Unknown",
         "Embarked": "S",
         "Fare": "(-0.001, 7.55]",
         "Parch": 0,
         "PassengerId": 1,
         "Pclass": 3,
         "Sex": "male",
         "SibSp": 1,
         "Survived": 0,
         "Ticket": "A/5 21171",
         "_deepnote_index_column": 0,
         "fold": 1,
         "title": "Mr"
        },
        {
         "Age": "(34.0, 40.0]",
         "Cabin": "C85",
         "Embarked": "C",
         "Fare": "(39.688, 77.958]",
         "Parch": 0,
         "PassengerId": 2,
         "Pclass": 1,
         "Sex": "female",
         "SibSp": 1,
         "Survived": 1,
         "Ticket": "PC 17599",
         "_deepnote_index_column": 1,
         "fold": 4,
         "title": "Mrs"
        },
        {
         "Age": "(22.0, 27.0]",
         "Cabin": "Unknown",
         "Embarked": "S",
         "Fare": "(7.854, 8.05]",
         "Parch": 0,
         "PassengerId": 3,
         "Pclass": 3,
         "Sex": "female",
         "SibSp": 0,
         "Survived": 1,
         "Ticket": "STON/O2. 3101282",
         "_deepnote_index_column": 2,
         "fold": 3,
         "title": "Miss"
        },
        {
         "Age": "(34.0, 40.0]",
         "Cabin": "C123",
         "Embarked": "S",
         "Fare": "(39.688, 77.958]",
         "Parch": 0,
         "PassengerId": 4,
         "Pclass": 1,
         "Sex": "female",
         "SibSp": 1,
         "Survived": 1,
         "Ticket": "113803",
         "_deepnote_index_column": 3,
         "fold": 3,
         "title": "Mrs"
        },
        {
         "Age": "(34.0, 40.0]",
         "Cabin": "Unknown",
         "Embarked": "S",
         "Fare": "(7.854, 8.05]",
         "Parch": 0,
         "PassengerId": 5,
         "Pclass": 3,
         "Sex": "male",
         "SibSp": 0,
         "Survived": 0,
         "Ticket": "373450",
         "_deepnote_index_column": 4,
         "fold": 0,
         "title": "Mr"
        }
       ]
      },
      "text/html": [
       "<div>\n",
       "<style scoped>\n",
       "    .dataframe tbody tr th:only-of-type {\n",
       "        vertical-align: middle;\n",
       "    }\n",
       "\n",
       "    .dataframe tbody tr th {\n",
       "        vertical-align: top;\n",
       "    }\n",
       "\n",
       "    .dataframe thead th {\n",
       "        text-align: right;\n",
       "    }\n",
       "</style>\n",
       "<table border=\"1\" class=\"dataframe\">\n",
       "  <thead>\n",
       "    <tr style=\"text-align: right;\">\n",
       "      <th></th>\n",
       "      <th>PassengerId</th>\n",
       "      <th>Survived</th>\n",
       "      <th>Pclass</th>\n",
       "      <th>Sex</th>\n",
       "      <th>Age</th>\n",
       "      <th>SibSp</th>\n",
       "      <th>Parch</th>\n",
       "      <th>Ticket</th>\n",
       "      <th>Fare</th>\n",
       "      <th>Cabin</th>\n",
       "      <th>Embarked</th>\n",
       "      <th>fold</th>\n",
       "      <th>title</th>\n",
       "    </tr>\n",
       "  </thead>\n",
       "  <tbody>\n",
       "    <tr>\n",
       "      <th>0</th>\n",
       "      <td>1</td>\n",
       "      <td>0</td>\n",
       "      <td>3</td>\n",
       "      <td>male</td>\n",
       "      <td>(19.784, 22.0]</td>\n",
       "      <td>1</td>\n",
       "      <td>0</td>\n",
       "      <td>A/5 21171</td>\n",
       "      <td>(-0.001, 7.55]</td>\n",
       "      <td>Unknown</td>\n",
       "      <td>S</td>\n",
       "      <td>1</td>\n",
       "      <td>Mr</td>\n",
       "    </tr>\n",
       "    <tr>\n",
       "      <th>1</th>\n",
       "      <td>2</td>\n",
       "      <td>1</td>\n",
       "      <td>1</td>\n",
       "      <td>female</td>\n",
       "      <td>(34.0, 40.0]</td>\n",
       "      <td>1</td>\n",
       "      <td>0</td>\n",
       "      <td>PC 17599</td>\n",
       "      <td>(39.688, 77.958]</td>\n",
       "      <td>C85</td>\n",
       "      <td>C</td>\n",
       "      <td>4</td>\n",
       "      <td>Mrs</td>\n",
       "    </tr>\n",
       "    <tr>\n",
       "      <th>2</th>\n",
       "      <td>3</td>\n",
       "      <td>1</td>\n",
       "      <td>3</td>\n",
       "      <td>female</td>\n",
       "      <td>(22.0, 27.0]</td>\n",
       "      <td>0</td>\n",
       "      <td>0</td>\n",
       "      <td>STON/O2. 3101282</td>\n",
       "      <td>(7.854, 8.05]</td>\n",
       "      <td>Unknown</td>\n",
       "      <td>S</td>\n",
       "      <td>3</td>\n",
       "      <td>Miss</td>\n",
       "    </tr>\n",
       "    <tr>\n",
       "      <th>3</th>\n",
       "      <td>4</td>\n",
       "      <td>1</td>\n",
       "      <td>1</td>\n",
       "      <td>female</td>\n",
       "      <td>(34.0, 40.0]</td>\n",
       "      <td>1</td>\n",
       "      <td>0</td>\n",
       "      <td>113803</td>\n",
       "      <td>(39.688, 77.958]</td>\n",
       "      <td>C123</td>\n",
       "      <td>S</td>\n",
       "      <td>3</td>\n",
       "      <td>Mrs</td>\n",
       "    </tr>\n",
       "    <tr>\n",
       "      <th>4</th>\n",
       "      <td>5</td>\n",
       "      <td>0</td>\n",
       "      <td>3</td>\n",
       "      <td>male</td>\n",
       "      <td>(34.0, 40.0]</td>\n",
       "      <td>0</td>\n",
       "      <td>0</td>\n",
       "      <td>373450</td>\n",
       "      <td>(7.854, 8.05]</td>\n",
       "      <td>Unknown</td>\n",
       "      <td>S</td>\n",
       "      <td>0</td>\n",
       "      <td>Mr</td>\n",
       "    </tr>\n",
       "  </tbody>\n",
       "</table>\n",
       "</div>"
      ],
      "text/plain": [
       "   PassengerId  Survived  Pclass     Sex             Age  SibSp  Parch  \\\n",
       "0            1         0       3    male  (19.784, 22.0]      1      0   \n",
       "1            2         1       1  female    (34.0, 40.0]      1      0   \n",
       "2            3         1       3  female    (22.0, 27.0]      0      0   \n",
       "3            4         1       1  female    (34.0, 40.0]      1      0   \n",
       "4            5         0       3    male    (34.0, 40.0]      0      0   \n",
       "\n",
       "             Ticket              Fare    Cabin Embarked  fold title  \n",
       "0         A/5 21171    (-0.001, 7.55]  Unknown        S     1    Mr  \n",
       "1          PC 17599  (39.688, 77.958]      C85        C     4   Mrs  \n",
       "2  STON/O2. 3101282     (7.854, 8.05]  Unknown        S     3  Miss  \n",
       "3            113803  (39.688, 77.958]     C123        S     3   Mrs  \n",
       "4            373450     (7.854, 8.05]  Unknown        S     0    Mr  "
      ]
     },
     "execution_count": 33,
     "metadata": {},
     "output_type": "execute_result"
    }
   ],
   "source": [
    "train.head()"
   ]
  },
  {
   "cell_type": "code",
   "execution_count": null,
   "metadata": {
    "cell_id": "00040-4523e15f-8e52-4d1a-a330-bd7dcd1a21f7",
    "deepnote_cell_type": "code",
    "deepnote_to_be_reexecuted": false,
    "execution_millis": 41,
    "execution_start": 1633265451821,
    "id": "1QwZIVMML8Li",
    "outputId": "d1fca8d6-4114-49f2-c18d-f7a066b4623f",
    "source_hash": "476785e4"
   },
   "outputs": [
    {
     "data": {
      "application/vnd.deepnote.dataframe.v2+json": {
       "column_count": 11,
       "columns": [
        {
         "dtype": "int64",
         "name": "PassengerId",
         "stats": {
          "histogram": [
           {
            "bin_end": 892.4,
            "bin_start": 892,
            "count": 1
           },
           {
            "bin_end": 892.8,
            "bin_start": 892.4,
            "count": 0
           },
           {
            "bin_end": 893.2,
            "bin_start": 892.8,
            "count": 1
           },
           {
            "bin_end": 893.6,
            "bin_start": 893.2,
            "count": 0
           },
           {
            "bin_end": 894,
            "bin_start": 893.6,
            "count": 0
           },
           {
            "bin_end": 894.4,
            "bin_start": 894,
            "count": 1
           },
           {
            "bin_end": 894.8,
            "bin_start": 894.4,
            "count": 0
           },
           {
            "bin_end": 895.2,
            "bin_start": 894.8,
            "count": 1
           },
           {
            "bin_end": 895.6,
            "bin_start": 895.2,
            "count": 0
           },
           {
            "bin_end": 896,
            "bin_start": 895.6,
            "count": 1
           }
          ],
          "max": "896",
          "min": "892",
          "nan_count": 0,
          "unique_count": 5
         }
        },
        {
         "dtype": "int64",
         "name": "Pclass",
         "stats": {
          "histogram": [
           {
            "bin_end": 2.1,
            "bin_start": 2,
            "count": 1
           },
           {
            "bin_end": 2.2,
            "bin_start": 2.1,
            "count": 0
           },
           {
            "bin_end": 2.3,
            "bin_start": 2.2,
            "count": 0
           },
           {
            "bin_end": 2.4,
            "bin_start": 2.3,
            "count": 0
           },
           {
            "bin_end": 2.5,
            "bin_start": 2.4,
            "count": 0
           },
           {
            "bin_end": 2.6,
            "bin_start": 2.5,
            "count": 0
           },
           {
            "bin_end": 2.7,
            "bin_start": 2.6,
            "count": 0
           },
           {
            "bin_end": 2.8,
            "bin_start": 2.7,
            "count": 0
           },
           {
            "bin_end": 2.9,
            "bin_start": 2.8,
            "count": 0
           },
           {
            "bin_end": 3,
            "bin_start": 2.9,
            "count": 4
           }
          ],
          "max": "3",
          "min": "2",
          "nan_count": 0,
          "unique_count": 2
         }
        },
        {
         "dtype": "object",
         "name": "Sex",
         "stats": {
          "categories": [
           {
            "count": 3,
            "name": "male"
           },
           {
            "count": 2,
            "name": "female"
           }
          ],
          "nan_count": 0,
          "unique_count": 2
         }
        },
        {
         "dtype": "category",
         "name": "Age",
         "stats": {
          "categories": [
           {
            "count": 1,
            "name": "(33.0, 39.429]"
           },
           {
            "count": 1,
            "name": "(39.429, 48.0]"
           },
           {
            "count": 3,
            "name": "3 others"
           }
          ],
          "nan_count": 0,
          "unique_count": 5
         }
        },
        {
         "dtype": "int64",
         "name": "SibSp",
         "stats": {
          "histogram": [
           {
            "bin_end": 0.1,
            "bin_start": 0,
            "count": 3
           },
           {
            "bin_end": 0.2,
            "bin_start": 0.1,
            "count": 0
           },
           {
            "bin_end": 0.30000000000000004,
            "bin_start": 0.2,
            "count": 0
           },
           {
            "bin_end": 0.4,
            "bin_start": 0.30000000000000004,
            "count": 0
           },
           {
            "bin_end": 0.5,
            "bin_start": 0.4,
            "count": 0
           },
           {
            "bin_end": 0.6000000000000001,
            "bin_start": 0.5,
            "count": 0
           },
           {
            "bin_end": 0.7000000000000001,
            "bin_start": 0.6000000000000001,
            "count": 0
           },
           {
            "bin_end": 0.8,
            "bin_start": 0.7000000000000001,
            "count": 0
           },
           {
            "bin_end": 0.9,
            "bin_start": 0.8,
            "count": 0
           },
           {
            "bin_end": 1,
            "bin_start": 0.9,
            "count": 2
           }
          ],
          "max": "1",
          "min": "0",
          "nan_count": 0,
          "unique_count": 2
         }
        },
        {
         "dtype": "int64",
         "name": "Parch",
         "stats": {
          "histogram": [
           {
            "bin_end": 0.1,
            "bin_start": 0,
            "count": 4
           },
           {
            "bin_end": 0.2,
            "bin_start": 0.1,
            "count": 0
           },
           {
            "bin_end": 0.30000000000000004,
            "bin_start": 0.2,
            "count": 0
           },
           {
            "bin_end": 0.4,
            "bin_start": 0.30000000000000004,
            "count": 0
           },
           {
            "bin_end": 0.5,
            "bin_start": 0.4,
            "count": 0
           },
           {
            "bin_end": 0.6000000000000001,
            "bin_start": 0.5,
            "count": 0
           },
           {
            "bin_end": 0.7000000000000001,
            "bin_start": 0.6000000000000001,
            "count": 0
           },
           {
            "bin_end": 0.8,
            "bin_start": 0.7000000000000001,
            "count": 0
           },
           {
            "bin_end": 0.9,
            "bin_start": 0.8,
            "count": 0
           },
           {
            "bin_end": 1,
            "bin_start": 0.9,
            "count": 1
           }
          ],
          "max": "1",
          "min": "0",
          "nan_count": 0,
          "unique_count": 2
         }
        },
        {
         "dtype": "object",
         "name": "Ticket",
         "stats": {
          "categories": [
           {
            "count": 1,
            "name": "330911"
           },
           {
            "count": 1,
            "name": "363272"
           },
           {
            "count": 3,
            "name": "3 others"
           }
          ],
          "nan_count": 0,
          "unique_count": 5
         }
        },
        {
         "dtype": "category",
         "name": "Fare",
         "stats": {
          "categories": [
           {
            "count": 2,
            "name": "(8.05, 11.342]"
           },
           {
            "count": 1,
            "name": "(7.796, 8.05]"
           },
           {
            "count": 2,
            "name": "2 others"
           }
          ],
          "nan_count": 0,
          "unique_count": 4
         }
        },
        {
         "dtype": "object",
         "name": "Cabin",
         "stats": {
          "categories": [
           {
            "count": 5,
            "name": "Unknown"
           }
          ],
          "nan_count": 0,
          "unique_count": 1
         }
        },
        {
         "dtype": "object",
         "name": "Embarked",
         "stats": {
          "categories": [
           {
            "count": 3,
            "name": "S"
           },
           {
            "count": 2,
            "name": "Q"
           }
          ],
          "nan_count": 0,
          "unique_count": 2
         }
        },
        {
         "dtype": "object",
         "name": "title",
         "stats": {
          "categories": [
           {
            "count": 3,
            "name": "Mr"
           },
           {
            "count": 2,
            "name": "Mrs"
           }
          ],
          "nan_count": 0,
          "unique_count": 2
         }
        },
        {
         "dtype": "int64",
         "name": "_deepnote_index_column"
        }
       ],
       "row_count": 5,
       "rows_bottom": null,
       "rows_top": [
        {
         "Age": "(33.0, 39.429]",
         "Cabin": "Unknown",
         "Embarked": "Q",
         "Fare": "(7.796, 8.05]",
         "Parch": 0,
         "PassengerId": 892,
         "Pclass": 3,
         "Sex": "male",
         "SibSp": 0,
         "Ticket": "330911",
         "_deepnote_index_column": 0,
         "title": "Mr"
        },
        {
         "Age": "(39.429, 48.0]",
         "Cabin": "Unknown",
         "Embarked": "S",
         "Fare": "(-0.001, 7.644]",
         "Parch": 0,
         "PassengerId": 893,
         "Pclass": 3,
         "Sex": "female",
         "SibSp": 1,
         "Ticket": "363272",
         "_deepnote_index_column": 1,
         "title": "Mrs"
        },
        {
         "Age": "(48.0, 76.0]",
         "Cabin": "Unknown",
         "Embarked": "Q",
         "Fare": "(8.05, 11.342]",
         "Parch": 0,
         "PassengerId": 894,
         "Pclass": 2,
         "Sex": "male",
         "SibSp": 0,
         "Ticket": "240276",
         "_deepnote_index_column": 2,
         "title": "Mr"
        },
        {
         "Age": "(26.121, 29.0]",
         "Cabin": "Unknown",
         "Embarked": "S",
         "Fare": "(8.05, 11.342]",
         "Parch": 0,
         "PassengerId": 895,
         "Pclass": 3,
         "Sex": "male",
         "SibSp": 0,
         "Ticket": "315154",
         "_deepnote_index_column": 3,
         "title": "Mr"
        },
        {
         "Age": "(20.129, 23.0]",
         "Cabin": "Unknown",
         "Embarked": "S",
         "Fare": "(11.342, 14.454]",
         "Parch": 1,
         "PassengerId": 896,
         "Pclass": 3,
         "Sex": "female",
         "SibSp": 1,
         "Ticket": "3101298",
         "_deepnote_index_column": 4,
         "title": "Mrs"
        }
       ]
      },
      "text/html": [
       "<div>\n",
       "<style scoped>\n",
       "    .dataframe tbody tr th:only-of-type {\n",
       "        vertical-align: middle;\n",
       "    }\n",
       "\n",
       "    .dataframe tbody tr th {\n",
       "        vertical-align: top;\n",
       "    }\n",
       "\n",
       "    .dataframe thead th {\n",
       "        text-align: right;\n",
       "    }\n",
       "</style>\n",
       "<table border=\"1\" class=\"dataframe\">\n",
       "  <thead>\n",
       "    <tr style=\"text-align: right;\">\n",
       "      <th></th>\n",
       "      <th>PassengerId</th>\n",
       "      <th>Pclass</th>\n",
       "      <th>Sex</th>\n",
       "      <th>Age</th>\n",
       "      <th>SibSp</th>\n",
       "      <th>Parch</th>\n",
       "      <th>Ticket</th>\n",
       "      <th>Fare</th>\n",
       "      <th>Cabin</th>\n",
       "      <th>Embarked</th>\n",
       "      <th>title</th>\n",
       "    </tr>\n",
       "  </thead>\n",
       "  <tbody>\n",
       "    <tr>\n",
       "      <th>0</th>\n",
       "      <td>892</td>\n",
       "      <td>3</td>\n",
       "      <td>male</td>\n",
       "      <td>(33.0, 39.429]</td>\n",
       "      <td>0</td>\n",
       "      <td>0</td>\n",
       "      <td>330911</td>\n",
       "      <td>(7.796, 8.05]</td>\n",
       "      <td>Unknown</td>\n",
       "      <td>Q</td>\n",
       "      <td>Mr</td>\n",
       "    </tr>\n",
       "    <tr>\n",
       "      <th>1</th>\n",
       "      <td>893</td>\n",
       "      <td>3</td>\n",
       "      <td>female</td>\n",
       "      <td>(39.429, 48.0]</td>\n",
       "      <td>1</td>\n",
       "      <td>0</td>\n",
       "      <td>363272</td>\n",
       "      <td>(-0.001, 7.644]</td>\n",
       "      <td>Unknown</td>\n",
       "      <td>S</td>\n",
       "      <td>Mrs</td>\n",
       "    </tr>\n",
       "    <tr>\n",
       "      <th>2</th>\n",
       "      <td>894</td>\n",
       "      <td>2</td>\n",
       "      <td>male</td>\n",
       "      <td>(48.0, 76.0]</td>\n",
       "      <td>0</td>\n",
       "      <td>0</td>\n",
       "      <td>240276</td>\n",
       "      <td>(8.05, 11.342]</td>\n",
       "      <td>Unknown</td>\n",
       "      <td>Q</td>\n",
       "      <td>Mr</td>\n",
       "    </tr>\n",
       "    <tr>\n",
       "      <th>3</th>\n",
       "      <td>895</td>\n",
       "      <td>3</td>\n",
       "      <td>male</td>\n",
       "      <td>(26.121, 29.0]</td>\n",
       "      <td>0</td>\n",
       "      <td>0</td>\n",
       "      <td>315154</td>\n",
       "      <td>(8.05, 11.342]</td>\n",
       "      <td>Unknown</td>\n",
       "      <td>S</td>\n",
       "      <td>Mr</td>\n",
       "    </tr>\n",
       "    <tr>\n",
       "      <th>4</th>\n",
       "      <td>896</td>\n",
       "      <td>3</td>\n",
       "      <td>female</td>\n",
       "      <td>(20.129, 23.0]</td>\n",
       "      <td>1</td>\n",
       "      <td>1</td>\n",
       "      <td>3101298</td>\n",
       "      <td>(11.342, 14.454]</td>\n",
       "      <td>Unknown</td>\n",
       "      <td>S</td>\n",
       "      <td>Mrs</td>\n",
       "    </tr>\n",
       "  </tbody>\n",
       "</table>\n",
       "</div>"
      ],
      "text/plain": [
       "   PassengerId  Pclass     Sex             Age  SibSp  Parch   Ticket  \\\n",
       "0          892       3    male  (33.0, 39.429]      0      0   330911   \n",
       "1          893       3  female  (39.429, 48.0]      1      0   363272   \n",
       "2          894       2    male    (48.0, 76.0]      0      0   240276   \n",
       "3          895       3    male  (26.121, 29.0]      0      0   315154   \n",
       "4          896       3  female  (20.129, 23.0]      1      1  3101298   \n",
       "\n",
       "               Fare    Cabin Embarked title  \n",
       "0     (7.796, 8.05]  Unknown        Q    Mr  \n",
       "1   (-0.001, 7.644]  Unknown        S   Mrs  \n",
       "2    (8.05, 11.342]  Unknown        Q    Mr  \n",
       "3    (8.05, 11.342]  Unknown        S    Mr  \n",
       "4  (11.342, 14.454]  Unknown        S   Mrs  "
      ]
     },
     "execution_count": 34,
     "metadata": {},
     "output_type": "execute_result"
    }
   ],
   "source": [
    "test.head()"
   ]
  },
  {
   "cell_type": "markdown",
   "metadata": {
    "cell_id": "00039-32ab6369-893a-4066-99c5-7bcaa711587e",
    "deepnote_cell_type": "text-cell-h3",
    "is_collapsed": false,
    "tags": []
   },
   "source": [
    "### 3. clean ticket "
   ]
  },
  {
   "cell_type": "code",
   "execution_count": null,
   "metadata": {
    "cell_id": "00039-048ab624-99c2-4a17-9e5e-fe3e8a2f1c41",
    "deepnote_cell_type": "code",
    "deepnote_to_be_reexecuted": false,
    "execution_millis": 0,
    "execution_start": 1633265451910,
    "source_hash": "b30a3309",
    "tags": []
   },
   "outputs": [],
   "source": [
    "# Ticket  value_counts first\n",
    "def ticket_extract(entry):\n",
    "    pattern = r'[A-Z]+'\n",
    "    extracted = ''.join(re.findall(pattern, entry))\n",
    "    if extracted == '':\n",
    "        return 'Number'\n",
    "    elif extracted == 'PC':\n",
    "        return extracted\n",
    "    elif extracted == 'CA':\n",
    "        return extracted\n",
    "    else:\n",
    "        return 'ELSE'\n",
    "\n",
    "train['Ticket'] = train['Ticket'].apply(ticket_extract)\n",
    "test['Ticket'] = test['Ticket'].apply(ticket_extract)"
   ]
  },
  {
   "cell_type": "markdown",
   "metadata": {
    "cell_id": "00041-f11b2999-3d53-494d-b7e1-f92b0a4e5a87",
    "deepnote_cell_type": "text-cell-h3",
    "is_collapsed": false,
    "tags": []
   },
   "source": [
    "### 4. clean number of family members "
   ]
  },
  {
   "cell_type": "code",
   "execution_count": null,
   "metadata": {
    "cell_id": "00041-30d8d883-68fe-4e81-bc1a-da4a60e5d1cc",
    "deepnote_cell_type": "code",
    "deepnote_to_be_reexecuted": false,
    "execution_millis": 0,
    "execution_start": 1633265451911,
    "source_hash": "9efc34c5",
    "tags": []
   },
   "outputs": [],
   "source": [
    "#train['Alone'] = np.where((train['SibSp']==0)&(train['Parch']==0), 1, 0)\n",
    "#test['Alone'] = np.where((test['SibSp']==0)&(test['Parch']==0), 1, 0)"
   ]
  },
  {
   "cell_type": "code",
   "execution_count": null,
   "metadata": {
    "cell_id": "00044-aee18320-eb7f-4cb4-bf86-36d34f91f674",
    "deepnote_cell_type": "code",
    "deepnote_to_be_reexecuted": false,
    "execution_millis": 43,
    "execution_start": 1633265451911,
    "source_hash": "7fce5f02",
    "tags": []
   },
   "outputs": [],
   "source": [
    "train['Family_size'] = np.zeros(len(train))\n",
    "\n",
    "train['Family_size'] = np.where((train['SibSp']+train['Parch'])<3, 0, train['Family_size'])\n",
    "train['Family_size'] = np.where((train['SibSp']+train['Parch']<5) & (train['SibSp']+train['Parch']>=3), 1, train['Family_size'])\n",
    "train['Family_size'] = np.where((train['SibSp']+train['Parch'])>=5, 2, train['Family_size'])\n",
    "\n",
    "test['Family_size'] = np.zeros(len(test))\n",
    "test['Family_size'] = np.where((test['SibSp']+test['Parch'])<3, 0, test['Family_size'])\n",
    "test['Family_size'] = np.where((test['SibSp']+test['Parch']<5) & (test['SibSp']+test['Parch']>=3), 1, test['Family_size'])\n",
    "test['Family_size'] = np.where((test['SibSp']+test['Parch'])>=5, 2, test['Family_size'])"
   ]
  },
  {
   "cell_type": "code",
   "execution_count": null,
   "metadata": {
    "cell_id": "00045-4559d392-84d7-4d65-9cf4-5df0ce3aa968",
    "deepnote_cell_type": "code",
    "deepnote_to_be_reexecuted": false,
    "execution_millis": 910627,
    "execution_start": 1633265451955,
    "source_hash": "b623e53d",
    "tags": []
   },
   "outputs": [],
   "source": []
  },
  {
   "cell_type": "code",
   "execution_count": null,
   "metadata": {
    "cell_id": "00043-cbd4a10d-8af4-4121-aab2-54a59f5e409e",
    "deepnote_cell_type": "code",
    "deepnote_to_be_reexecuted": false,
    "execution_millis": 0,
    "execution_start": 1633265451955,
    "source_hash": "1e6ae352",
    "tags": []
   },
   "outputs": [],
   "source": [
    "train = train.drop(columns = ['SibSp', 'Parch'])\n",
    "test = test.drop(columns = ['SibSp', 'Parch'])"
   ]
  },
  {
   "cell_type": "code",
   "execution_count": null,
   "metadata": {
    "cell_id": "00044-8b1d1a89-1fac-40d8-865e-79dc8e353671",
    "deepnote_cell_type": "code",
    "deepnote_to_be_reexecuted": false,
    "execution_millis": 62,
    "execution_start": 1633265451956,
    "source_hash": "e1f0b45",
    "tags": []
   },
   "outputs": [
    {
     "data": {
      "application/vnd.deepnote.dataframe.v2+json": {
       "column_count": 12,
       "columns": [
        {
         "dtype": "int64",
         "name": "PassengerId",
         "stats": {
          "histogram": [
           {
            "bin_end": 1.4,
            "bin_start": 1,
            "count": 1
           },
           {
            "bin_end": 1.8,
            "bin_start": 1.4,
            "count": 0
           },
           {
            "bin_end": 2.2,
            "bin_start": 1.8,
            "count": 1
           },
           {
            "bin_end": 2.6,
            "bin_start": 2.2,
            "count": 0
           },
           {
            "bin_end": 3,
            "bin_start": 2.6,
            "count": 0
           },
           {
            "bin_end": 3.4000000000000004,
            "bin_start": 3,
            "count": 1
           },
           {
            "bin_end": 3.8000000000000003,
            "bin_start": 3.4000000000000004,
            "count": 0
           },
           {
            "bin_end": 4.2,
            "bin_start": 3.8000000000000003,
            "count": 1
           },
           {
            "bin_end": 4.6,
            "bin_start": 4.2,
            "count": 0
           },
           {
            "bin_end": 5,
            "bin_start": 4.6,
            "count": 1
           }
          ],
          "max": "5",
          "min": "1",
          "nan_count": 0,
          "unique_count": 5
         }
        },
        {
         "dtype": "int64",
         "name": "Survived",
         "stats": {
          "histogram": [
           {
            "bin_end": 0.1,
            "bin_start": 0,
            "count": 2
           },
           {
            "bin_end": 0.2,
            "bin_start": 0.1,
            "count": 0
           },
           {
            "bin_end": 0.30000000000000004,
            "bin_start": 0.2,
            "count": 0
           },
           {
            "bin_end": 0.4,
            "bin_start": 0.30000000000000004,
            "count": 0
           },
           {
            "bin_end": 0.5,
            "bin_start": 0.4,
            "count": 0
           },
           {
            "bin_end": 0.6000000000000001,
            "bin_start": 0.5,
            "count": 0
           },
           {
            "bin_end": 0.7000000000000001,
            "bin_start": 0.6000000000000001,
            "count": 0
           },
           {
            "bin_end": 0.8,
            "bin_start": 0.7000000000000001,
            "count": 0
           },
           {
            "bin_end": 0.9,
            "bin_start": 0.8,
            "count": 0
           },
           {
            "bin_end": 1,
            "bin_start": 0.9,
            "count": 3
           }
          ],
          "max": "1",
          "min": "0",
          "nan_count": 0,
          "unique_count": 2
         }
        },
        {
         "dtype": "int64",
         "name": "Pclass",
         "stats": {
          "histogram": [
           {
            "bin_end": 1.2,
            "bin_start": 1,
            "count": 2
           },
           {
            "bin_end": 1.4,
            "bin_start": 1.2,
            "count": 0
           },
           {
            "bin_end": 1.6,
            "bin_start": 1.4,
            "count": 0
           },
           {
            "bin_end": 1.8,
            "bin_start": 1.6,
            "count": 0
           },
           {
            "bin_end": 2,
            "bin_start": 1.8,
            "count": 0
           },
           {
            "bin_end": 2.2,
            "bin_start": 2,
            "count": 0
           },
           {
            "bin_end": 2.4000000000000004,
            "bin_start": 2.2,
            "count": 0
           },
           {
            "bin_end": 2.6,
            "bin_start": 2.4000000000000004,
            "count": 0
           },
           {
            "bin_end": 2.8,
            "bin_start": 2.6,
            "count": 0
           },
           {
            "bin_end": 3,
            "bin_start": 2.8,
            "count": 3
           }
          ],
          "max": "3",
          "min": "1",
          "nan_count": 0,
          "unique_count": 2
         }
        },
        {
         "dtype": "object",
         "name": "Sex",
         "stats": {
          "categories": [
           {
            "count": 3,
            "name": "female"
           },
           {
            "count": 2,
            "name": "male"
           }
          ],
          "nan_count": 0,
          "unique_count": 2
         }
        },
        {
         "dtype": "category",
         "name": "Age",
         "stats": {
          "categories": [
           {
            "count": 3,
            "name": "(34.0, 40.0]"
           },
           {
            "count": 1,
            "name": "(19.784, 22.0]"
           },
           {
            "count": 1,
            "name": "(22.0, 27.0]"
           }
          ],
          "nan_count": 0,
          "unique_count": 3
         }
        },
        {
         "dtype": "object",
         "name": "Ticket",
         "stats": {
          "categories": [
           {
            "count": 2,
            "name": "ELSE"
           },
           {
            "count": 2,
            "name": "Number"
           },
           {
            "count": 1,
            "name": "PC"
           }
          ],
          "nan_count": 0,
          "unique_count": 3
         }
        },
        {
         "dtype": "category",
         "name": "Fare",
         "stats": {
          "categories": [
           {
            "count": 2,
            "name": "(39.688, 77.958]"
           },
           {
            "count": 2,
            "name": "(7.854, 8.05]"
           },
           {
            "count": 1,
            "name": "(-0.001, 7.55]"
           }
          ],
          "nan_count": 0,
          "unique_count": 3
         }
        },
        {
         "dtype": "object",
         "name": "Cabin",
         "stats": {
          "categories": [
           {
            "count": 3,
            "name": "Unknown"
           },
           {
            "count": 1,
            "name": "C85"
           },
           {
            "count": 1,
            "name": "C123"
           }
          ],
          "nan_count": 0,
          "unique_count": 3
         }
        },
        {
         "dtype": "object",
         "name": "Embarked",
         "stats": {
          "categories": [
           {
            "count": 4,
            "name": "S"
           },
           {
            "count": 1,
            "name": "C"
           }
          ],
          "nan_count": 0,
          "unique_count": 2
         }
        },
        {
         "dtype": "int64",
         "name": "fold",
         "stats": {
          "histogram": [
           {
            "bin_end": 0.4,
            "bin_start": 0,
            "count": 1
           },
           {
            "bin_end": 0.8,
            "bin_start": 0.4,
            "count": 0
           },
           {
            "bin_end": 1.2000000000000002,
            "bin_start": 0.8,
            "count": 1
           },
           {
            "bin_end": 1.6,
            "bin_start": 1.2000000000000002,
            "count": 0
           },
           {
            "bin_end": 2,
            "bin_start": 1.6,
            "count": 0
           },
           {
            "bin_end": 2.4000000000000004,
            "bin_start": 2,
            "count": 0
           },
           {
            "bin_end": 2.8000000000000003,
            "bin_start": 2.4000000000000004,
            "count": 0
           },
           {
            "bin_end": 3.2,
            "bin_start": 2.8000000000000003,
            "count": 2
           },
           {
            "bin_end": 3.6,
            "bin_start": 3.2,
            "count": 0
           },
           {
            "bin_end": 4,
            "bin_start": 3.6,
            "count": 1
           }
          ],
          "max": "4",
          "min": "0",
          "nan_count": 0,
          "unique_count": 4
         }
        },
        {
         "dtype": "object",
         "name": "title",
         "stats": {
          "categories": [
           {
            "count": 2,
            "name": "Mr"
           },
           {
            "count": 2,
            "name": "Mrs"
           },
           {
            "count": 1,
            "name": "Miss"
           }
          ],
          "nan_count": 0,
          "unique_count": 3
         }
        },
        {
         "dtype": "float64",
         "name": "Family_size",
         "stats": {
          "histogram": [
           {
            "bin_end": -0.4,
            "bin_start": -0.5,
            "count": 0
           },
           {
            "bin_end": -0.3,
            "bin_start": -0.4,
            "count": 0
           },
           {
            "bin_end": -0.19999999999999996,
            "bin_start": -0.3,
            "count": 0
           },
           {
            "bin_end": -0.09999999999999998,
            "bin_start": -0.19999999999999996,
            "count": 0
           },
           {
            "bin_end": 0,
            "bin_start": -0.09999999999999998,
            "count": 0
           },
           {
            "bin_end": 0.10000000000000009,
            "bin_start": 0,
            "count": 5
           },
           {
            "bin_end": 0.20000000000000007,
            "bin_start": 0.10000000000000009,
            "count": 0
           },
           {
            "bin_end": 0.30000000000000004,
            "bin_start": 0.20000000000000007,
            "count": 0
           },
           {
            "bin_end": 0.4,
            "bin_start": 0.30000000000000004,
            "count": 0
           },
           {
            "bin_end": 0.5,
            "bin_start": 0.4,
            "count": 0
           }
          ],
          "max": "0.0",
          "min": "0.0",
          "nan_count": 0,
          "unique_count": 1
         }
        },
        {
         "dtype": "int64",
         "name": "_deepnote_index_column"
        }
       ],
       "row_count": 5,
       "rows_bottom": null,
       "rows_top": [
        {
         "Age": "(19.784, 22.0]",
         "Cabin": "Unknown",
         "Embarked": "S",
         "Family_size": 0,
         "Fare": "(-0.001, 7.55]",
         "PassengerId": 1,
         "Pclass": 3,
         "Sex": "male",
         "Survived": 0,
         "Ticket": "ELSE",
         "_deepnote_index_column": 0,
         "fold": 1,
         "title": "Mr"
        },
        {
         "Age": "(34.0, 40.0]",
         "Cabin": "C85",
         "Embarked": "C",
         "Family_size": 0,
         "Fare": "(39.688, 77.958]",
         "PassengerId": 2,
         "Pclass": 1,
         "Sex": "female",
         "Survived": 1,
         "Ticket": "PC",
         "_deepnote_index_column": 1,
         "fold": 4,
         "title": "Mrs"
        },
        {
         "Age": "(22.0, 27.0]",
         "Cabin": "Unknown",
         "Embarked": "S",
         "Family_size": 0,
         "Fare": "(7.854, 8.05]",
         "PassengerId": 3,
         "Pclass": 3,
         "Sex": "female",
         "Survived": 1,
         "Ticket": "ELSE",
         "_deepnote_index_column": 2,
         "fold": 3,
         "title": "Miss"
        },
        {
         "Age": "(34.0, 40.0]",
         "Cabin": "C123",
         "Embarked": "S",
         "Family_size": 0,
         "Fare": "(39.688, 77.958]",
         "PassengerId": 4,
         "Pclass": 1,
         "Sex": "female",
         "Survived": 1,
         "Ticket": "Number",
         "_deepnote_index_column": 3,
         "fold": 3,
         "title": "Mrs"
        },
        {
         "Age": "(34.0, 40.0]",
         "Cabin": "Unknown",
         "Embarked": "S",
         "Family_size": 0,
         "Fare": "(7.854, 8.05]",
         "PassengerId": 5,
         "Pclass": 3,
         "Sex": "male",
         "Survived": 0,
         "Ticket": "Number",
         "_deepnote_index_column": 4,
         "fold": 0,
         "title": "Mr"
        }
       ]
      },
      "text/html": [
       "<div>\n",
       "<style scoped>\n",
       "    .dataframe tbody tr th:only-of-type {\n",
       "        vertical-align: middle;\n",
       "    }\n",
       "\n",
       "    .dataframe tbody tr th {\n",
       "        vertical-align: top;\n",
       "    }\n",
       "\n",
       "    .dataframe thead th {\n",
       "        text-align: right;\n",
       "    }\n",
       "</style>\n",
       "<table border=\"1\" class=\"dataframe\">\n",
       "  <thead>\n",
       "    <tr style=\"text-align: right;\">\n",
       "      <th></th>\n",
       "      <th>PassengerId</th>\n",
       "      <th>Survived</th>\n",
       "      <th>Pclass</th>\n",
       "      <th>Sex</th>\n",
       "      <th>Age</th>\n",
       "      <th>Ticket</th>\n",
       "      <th>Fare</th>\n",
       "      <th>Cabin</th>\n",
       "      <th>Embarked</th>\n",
       "      <th>fold</th>\n",
       "      <th>title</th>\n",
       "      <th>Family_size</th>\n",
       "    </tr>\n",
       "  </thead>\n",
       "  <tbody>\n",
       "    <tr>\n",
       "      <th>0</th>\n",
       "      <td>1</td>\n",
       "      <td>0</td>\n",
       "      <td>3</td>\n",
       "      <td>male</td>\n",
       "      <td>(19.784, 22.0]</td>\n",
       "      <td>ELSE</td>\n",
       "      <td>(-0.001, 7.55]</td>\n",
       "      <td>Unknown</td>\n",
       "      <td>S</td>\n",
       "      <td>1</td>\n",
       "      <td>Mr</td>\n",
       "      <td>0.0</td>\n",
       "    </tr>\n",
       "    <tr>\n",
       "      <th>1</th>\n",
       "      <td>2</td>\n",
       "      <td>1</td>\n",
       "      <td>1</td>\n",
       "      <td>female</td>\n",
       "      <td>(34.0, 40.0]</td>\n",
       "      <td>PC</td>\n",
       "      <td>(39.688, 77.958]</td>\n",
       "      <td>C85</td>\n",
       "      <td>C</td>\n",
       "      <td>4</td>\n",
       "      <td>Mrs</td>\n",
       "      <td>0.0</td>\n",
       "    </tr>\n",
       "    <tr>\n",
       "      <th>2</th>\n",
       "      <td>3</td>\n",
       "      <td>1</td>\n",
       "      <td>3</td>\n",
       "      <td>female</td>\n",
       "      <td>(22.0, 27.0]</td>\n",
       "      <td>ELSE</td>\n",
       "      <td>(7.854, 8.05]</td>\n",
       "      <td>Unknown</td>\n",
       "      <td>S</td>\n",
       "      <td>3</td>\n",
       "      <td>Miss</td>\n",
       "      <td>0.0</td>\n",
       "    </tr>\n",
       "    <tr>\n",
       "      <th>3</th>\n",
       "      <td>4</td>\n",
       "      <td>1</td>\n",
       "      <td>1</td>\n",
       "      <td>female</td>\n",
       "      <td>(34.0, 40.0]</td>\n",
       "      <td>Number</td>\n",
       "      <td>(39.688, 77.958]</td>\n",
       "      <td>C123</td>\n",
       "      <td>S</td>\n",
       "      <td>3</td>\n",
       "      <td>Mrs</td>\n",
       "      <td>0.0</td>\n",
       "    </tr>\n",
       "    <tr>\n",
       "      <th>4</th>\n",
       "      <td>5</td>\n",
       "      <td>0</td>\n",
       "      <td>3</td>\n",
       "      <td>male</td>\n",
       "      <td>(34.0, 40.0]</td>\n",
       "      <td>Number</td>\n",
       "      <td>(7.854, 8.05]</td>\n",
       "      <td>Unknown</td>\n",
       "      <td>S</td>\n",
       "      <td>0</td>\n",
       "      <td>Mr</td>\n",
       "      <td>0.0</td>\n",
       "    </tr>\n",
       "  </tbody>\n",
       "</table>\n",
       "</div>"
      ],
      "text/plain": [
       "   PassengerId  Survived  Pclass     Sex             Age  Ticket  \\\n",
       "0            1         0       3    male  (19.784, 22.0]    ELSE   \n",
       "1            2         1       1  female    (34.0, 40.0]      PC   \n",
       "2            3         1       3  female    (22.0, 27.0]    ELSE   \n",
       "3            4         1       1  female    (34.0, 40.0]  Number   \n",
       "4            5         0       3    male    (34.0, 40.0]  Number   \n",
       "\n",
       "               Fare    Cabin Embarked  fold title  Family_size  \n",
       "0    (-0.001, 7.55]  Unknown        S     1    Mr          0.0  \n",
       "1  (39.688, 77.958]      C85        C     4   Mrs          0.0  \n",
       "2     (7.854, 8.05]  Unknown        S     3  Miss          0.0  \n",
       "3  (39.688, 77.958]     C123        S     3   Mrs          0.0  \n",
       "4     (7.854, 8.05]  Unknown        S     0    Mr          0.0  "
      ]
     },
     "execution_count": 39,
     "metadata": {},
     "output_type": "execute_result"
    }
   ],
   "source": [
    "train.head()"
   ]
  },
  {
   "cell_type": "markdown",
   "metadata": {
    "cell_id": "00048-776cd351-99a6-4e9d-b434-67a9356f9c77",
    "deepnote_cell_type": "text-cell-h3",
    "is_collapsed": false,
    "tags": []
   },
   "source": [
    "### 6. Cabin number"
   ]
  },
  {
   "cell_type": "code",
   "execution_count": null,
   "metadata": {
    "cell_id": "00047-f6dc61c1-2ace-4faa-acda-6b9426b45537",
    "deepnote_cell_type": "code",
    "deepnote_to_be_reexecuted": false,
    "execution_millis": 1,
    "execution_start": 1633265452044,
    "source_hash": "80bd90c",
    "tags": []
   },
   "outputs": [],
   "source": [
    "train['Cabin Num'] = train['Cabin'].str.extract(r'([0-9]+)').fillna(0).astype(float)\n",
    "test['Cabin Num'] = test['Cabin'].str.extract(r'([0-9]+)').fillna(0).astype(float)"
   ]
  },
  {
   "cell_type": "code",
   "execution_count": null,
   "metadata": {
    "cell_id": "00050-71f175e6-e34c-4e68-99df-c39e97803489",
    "deepnote_cell_type": "code",
    "deepnote_to_be_reexecuted": false,
    "execution_millis": 0,
    "execution_start": 1633265452045,
    "source_hash": "b461c656",
    "tags": []
   },
   "outputs": [],
   "source": [
    "train['Cabin Num'] = (train['Cabin Num']-np.mean(train['Cabin Num']))/np.std(train['Cabin Num'])\n",
    "test['Cabin Num'] = (test['Cabin Num']-np.mean(test['Cabin Num']))/np.std(test['Cabin Num'])\n"
   ]
  },
  {
   "cell_type": "markdown",
   "metadata": {
    "cell_id": "00043-fd3ccdb1-8813-451c-ba17-848037afc334",
    "deepnote_cell_type": "text-cell-h3",
    "is_collapsed": false,
    "tags": []
   },
   "source": [
    "### 5. Extract cabin value"
   ]
  },
  {
   "cell_type": "code",
   "execution_count": null,
   "metadata": {
    "cell_id": "00043-40d86e5e-ba6d-44b4-b6df-8d7131044fe4",
    "deepnote_cell_type": "code",
    "deepnote_to_be_reexecuted": false,
    "execution_millis": 0,
    "execution_start": 1633265452046,
    "source_hash": "4b673a54",
    "tags": []
   },
   "outputs": [],
   "source": [
    "#cabin  get first letter\n",
    "def cabin(entry):\n",
    "    rare_list = ['A', 'F', 'G', 'T']\n",
    "    if entry=='Unknown':\n",
    "        return 'NAN'\n",
    "    elif entry[0] in rare_list:\n",
    "        return 'Rare'\n",
    "    else:\n",
    "         return entry[0]\n",
    "train['Cabin'] = train['Cabin'].apply(cabin)\n",
    "test['Cabin'] = test['Cabin'].apply(cabin)"
   ]
  },
  {
   "cell_type": "markdown",
   "metadata": {
    "cell_id": "00041-b1efb05c-ef59-46fa-b7ec-d332d215b60d",
    "deepnote_cell_type": "markdown",
    "id": "H2C3VeABL8Li"
   },
   "source": [
    "## Label Encoding"
   ]
  },
  {
   "cell_type": "code",
   "execution_count": null,
   "metadata": {
    "cell_id": "00044-9cf2adce-7f36-4ef1-b573-dbd9bca369cd",
    "deepnote_cell_type": "code",
    "deepnote_to_be_reexecuted": false,
    "execution_millis": 3,
    "execution_start": 1633265452052,
    "id": "VxO3DNfZL8Li",
    "source_hash": "31ecd161"
   },
   "outputs": [],
   "source": [
    "train = train.drop('PassengerId', axis=1)\n",
    "test = test.drop('PassengerId', axis=1)"
   ]
  },
  {
   "cell_type": "code",
   "execution_count": null,
   "metadata": {
    "cell_id": "00049-9ce599f6-63ce-45e8-bc89-66b2ccd0bc59",
    "deepnote_cell_type": "code",
    "deepnote_to_be_reexecuted": false,
    "execution_millis": 48,
    "execution_start": 1633265452105,
    "source_hash": "e1f0b45",
    "tags": []
   },
   "outputs": [
    {
     "data": {
      "application/vnd.deepnote.dataframe.v2+json": {
       "column_count": 12,
       "columns": [
        {
         "dtype": "int64",
         "name": "Survived",
         "stats": {
          "histogram": [
           {
            "bin_end": 0.1,
            "bin_start": 0,
            "count": 2
           },
           {
            "bin_end": 0.2,
            "bin_start": 0.1,
            "count": 0
           },
           {
            "bin_end": 0.30000000000000004,
            "bin_start": 0.2,
            "count": 0
           },
           {
            "bin_end": 0.4,
            "bin_start": 0.30000000000000004,
            "count": 0
           },
           {
            "bin_end": 0.5,
            "bin_start": 0.4,
            "count": 0
           },
           {
            "bin_end": 0.6000000000000001,
            "bin_start": 0.5,
            "count": 0
           },
           {
            "bin_end": 0.7000000000000001,
            "bin_start": 0.6000000000000001,
            "count": 0
           },
           {
            "bin_end": 0.8,
            "bin_start": 0.7000000000000001,
            "count": 0
           },
           {
            "bin_end": 0.9,
            "bin_start": 0.8,
            "count": 0
           },
           {
            "bin_end": 1,
            "bin_start": 0.9,
            "count": 3
           }
          ],
          "max": "1",
          "min": "0",
          "nan_count": 0,
          "unique_count": 2
         }
        },
        {
         "dtype": "int64",
         "name": "Pclass",
         "stats": {
          "histogram": [
           {
            "bin_end": 1.2,
            "bin_start": 1,
            "count": 2
           },
           {
            "bin_end": 1.4,
            "bin_start": 1.2,
            "count": 0
           },
           {
            "bin_end": 1.6,
            "bin_start": 1.4,
            "count": 0
           },
           {
            "bin_end": 1.8,
            "bin_start": 1.6,
            "count": 0
           },
           {
            "bin_end": 2,
            "bin_start": 1.8,
            "count": 0
           },
           {
            "bin_end": 2.2,
            "bin_start": 2,
            "count": 0
           },
           {
            "bin_end": 2.4000000000000004,
            "bin_start": 2.2,
            "count": 0
           },
           {
            "bin_end": 2.6,
            "bin_start": 2.4000000000000004,
            "count": 0
           },
           {
            "bin_end": 2.8,
            "bin_start": 2.6,
            "count": 0
           },
           {
            "bin_end": 3,
            "bin_start": 2.8,
            "count": 3
           }
          ],
          "max": "3",
          "min": "1",
          "nan_count": 0,
          "unique_count": 2
         }
        },
        {
         "dtype": "object",
         "name": "Sex",
         "stats": {
          "categories": [
           {
            "count": 3,
            "name": "female"
           },
           {
            "count": 2,
            "name": "male"
           }
          ],
          "nan_count": 0,
          "unique_count": 2
         }
        },
        {
         "dtype": "category",
         "name": "Age",
         "stats": {
          "categories": [
           {
            "count": 3,
            "name": "(34.0, 40.0]"
           },
           {
            "count": 1,
            "name": "(19.784, 22.0]"
           },
           {
            "count": 1,
            "name": "(22.0, 27.0]"
           }
          ],
          "nan_count": 0,
          "unique_count": 3
         }
        },
        {
         "dtype": "object",
         "name": "Ticket",
         "stats": {
          "categories": [
           {
            "count": 2,
            "name": "ELSE"
           },
           {
            "count": 2,
            "name": "Number"
           },
           {
            "count": 1,
            "name": "PC"
           }
          ],
          "nan_count": 0,
          "unique_count": 3
         }
        },
        {
         "dtype": "category",
         "name": "Fare",
         "stats": {
          "categories": [
           {
            "count": 2,
            "name": "(39.688, 77.958]"
           },
           {
            "count": 2,
            "name": "(7.854, 8.05]"
           },
           {
            "count": 1,
            "name": "(-0.001, 7.55]"
           }
          ],
          "nan_count": 0,
          "unique_count": 3
         }
        },
        {
         "dtype": "object",
         "name": "Cabin",
         "stats": {
          "categories": [
           {
            "count": 3,
            "name": "NAN"
           },
           {
            "count": 2,
            "name": "C"
           }
          ],
          "nan_count": 0,
          "unique_count": 2
         }
        },
        {
         "dtype": "object",
         "name": "Embarked",
         "stats": {
          "categories": [
           {
            "count": 4,
            "name": "S"
           },
           {
            "count": 1,
            "name": "C"
           }
          ],
          "nan_count": 0,
          "unique_count": 2
         }
        },
        {
         "dtype": "int64",
         "name": "fold",
         "stats": {
          "histogram": [
           {
            "bin_end": 0.4,
            "bin_start": 0,
            "count": 1
           },
           {
            "bin_end": 0.8,
            "bin_start": 0.4,
            "count": 0
           },
           {
            "bin_end": 1.2000000000000002,
            "bin_start": 0.8,
            "count": 1
           },
           {
            "bin_end": 1.6,
            "bin_start": 1.2000000000000002,
            "count": 0
           },
           {
            "bin_end": 2,
            "bin_start": 1.6,
            "count": 0
           },
           {
            "bin_end": 2.4000000000000004,
            "bin_start": 2,
            "count": 0
           },
           {
            "bin_end": 2.8000000000000003,
            "bin_start": 2.4000000000000004,
            "count": 0
           },
           {
            "bin_end": 3.2,
            "bin_start": 2.8000000000000003,
            "count": 2
           },
           {
            "bin_end": 3.6,
            "bin_start": 3.2,
            "count": 0
           },
           {
            "bin_end": 4,
            "bin_start": 3.6,
            "count": 1
           }
          ],
          "max": "4",
          "min": "0",
          "nan_count": 0,
          "unique_count": 4
         }
        },
        {
         "dtype": "object",
         "name": "title",
         "stats": {
          "categories": [
           {
            "count": 2,
            "name": "Mr"
           },
           {
            "count": 2,
            "name": "Mrs"
           },
           {
            "count": 1,
            "name": "Miss"
           }
          ],
          "nan_count": 0,
          "unique_count": 3
         }
        },
        {
         "dtype": "float64",
         "name": "Family_size",
         "stats": {
          "histogram": [
           {
            "bin_end": -0.4,
            "bin_start": -0.5,
            "count": 0
           },
           {
            "bin_end": -0.3,
            "bin_start": -0.4,
            "count": 0
           },
           {
            "bin_end": -0.19999999999999996,
            "bin_start": -0.3,
            "count": 0
           },
           {
            "bin_end": -0.09999999999999998,
            "bin_start": -0.19999999999999996,
            "count": 0
           },
           {
            "bin_end": 0,
            "bin_start": -0.09999999999999998,
            "count": 0
           },
           {
            "bin_end": 0.10000000000000009,
            "bin_start": 0,
            "count": 5
           },
           {
            "bin_end": 0.20000000000000007,
            "bin_start": 0.10000000000000009,
            "count": 0
           },
           {
            "bin_end": 0.30000000000000004,
            "bin_start": 0.20000000000000007,
            "count": 0
           },
           {
            "bin_end": 0.4,
            "bin_start": 0.30000000000000004,
            "count": 0
           },
           {
            "bin_end": 0.5,
            "bin_start": 0.4,
            "count": 0
           }
          ],
          "max": "0.0",
          "min": "0.0",
          "nan_count": 0,
          "unique_count": 1
         }
        },
        {
         "dtype": "float64",
         "name": "Cabin Num",
         "stats": {
          "histogram": [
           {
            "bin_end": 0.03593624689082864,
            "bin_start": -0.4213215152717843,
            "count": 3
           },
           {
            "bin_end": 0.4931940090534416,
            "bin_start": 0.03593624689082864,
            "count": 0
           },
           {
            "bin_end": 0.9504517712160546,
            "bin_start": 0.4931940090534416,
            "count": 0
           },
           {
            "bin_end": 1.4077095333786676,
            "bin_start": 0.9504517712160546,
            "count": 0
           },
           {
            "bin_end": 1.8649672955412804,
            "bin_start": 1.4077095333786676,
            "count": 0
           },
           {
            "bin_end": 2.3222250577038936,
            "bin_start": 1.8649672955412804,
            "count": 0
           },
           {
            "bin_end": 2.7794828198665065,
            "bin_start": 2.3222250577038936,
            "count": 1
           },
           {
            "bin_end": 3.2367405820291193,
            "bin_start": 2.7794828198665065,
            "count": 0
           },
           {
            "bin_end": 3.6939983441917326,
            "bin_start": 3.2367405820291193,
            "count": 0
           },
           {
            "bin_end": 4.151256106354345,
            "bin_start": 3.6939983441917326,
            "count": 1
           }
          ],
          "max": "4.151256106354345",
          "min": "-0.4213215152717843",
          "nan_count": 0,
          "unique_count": 3
         }
        },
        {
         "dtype": "int64",
         "name": "_deepnote_index_column"
        }
       ],
       "row_count": 5,
       "rows_bottom": null,
       "rows_top": [
        {
         "Age": "(19.784, 22.0]",
         "Cabin": "NAN",
         "Cabin Num": -0.4213215152717843,
         "Embarked": "S",
         "Family_size": 0,
         "Fare": "(-0.001, 7.55]",
         "Pclass": 3,
         "Sex": "male",
         "Survived": 0,
         "Ticket": "ELSE",
         "_deepnote_index_column": 0,
         "fold": 1,
         "title": "Mr"
        },
        {
         "Age": "(34.0, 40.0]",
         "Cabin": "C",
         "Cabin Num": 2.738589849266598,
         "Embarked": "C",
         "Family_size": 0,
         "Fare": "(39.688, 77.958]",
         "Pclass": 1,
         "Sex": "female",
         "Survived": 1,
         "Ticket": "PC",
         "_deepnote_index_column": 1,
         "fold": 4,
         "title": "Mrs"
        },
        {
         "Age": "(22.0, 27.0]",
         "Cabin": "NAN",
         "Cabin Num": -0.4213215152717843,
         "Embarked": "S",
         "Family_size": 0,
         "Fare": "(7.854, 8.05]",
         "Pclass": 3,
         "Sex": "female",
         "Survived": 1,
         "Ticket": "ELSE",
         "_deepnote_index_column": 2,
         "fold": 3,
         "title": "Miss"
        },
        {
         "Age": "(34.0, 40.0]",
         "Cabin": "C",
         "Cabin Num": 4.151256106354345,
         "Embarked": "S",
         "Family_size": 0,
         "Fare": "(39.688, 77.958]",
         "Pclass": 1,
         "Sex": "female",
         "Survived": 1,
         "Ticket": "Number",
         "_deepnote_index_column": 3,
         "fold": 3,
         "title": "Mrs"
        },
        {
         "Age": "(34.0, 40.0]",
         "Cabin": "NAN",
         "Cabin Num": -0.4213215152717843,
         "Embarked": "S",
         "Family_size": 0,
         "Fare": "(7.854, 8.05]",
         "Pclass": 3,
         "Sex": "male",
         "Survived": 0,
         "Ticket": "Number",
         "_deepnote_index_column": 4,
         "fold": 0,
         "title": "Mr"
        }
       ]
      },
      "text/html": [
       "<div>\n",
       "<style scoped>\n",
       "    .dataframe tbody tr th:only-of-type {\n",
       "        vertical-align: middle;\n",
       "    }\n",
       "\n",
       "    .dataframe tbody tr th {\n",
       "        vertical-align: top;\n",
       "    }\n",
       "\n",
       "    .dataframe thead th {\n",
       "        text-align: right;\n",
       "    }\n",
       "</style>\n",
       "<table border=\"1\" class=\"dataframe\">\n",
       "  <thead>\n",
       "    <tr style=\"text-align: right;\">\n",
       "      <th></th>\n",
       "      <th>Survived</th>\n",
       "      <th>Pclass</th>\n",
       "      <th>Sex</th>\n",
       "      <th>Age</th>\n",
       "      <th>Ticket</th>\n",
       "      <th>Fare</th>\n",
       "      <th>Cabin</th>\n",
       "      <th>Embarked</th>\n",
       "      <th>fold</th>\n",
       "      <th>title</th>\n",
       "      <th>Family_size</th>\n",
       "      <th>Cabin Num</th>\n",
       "    </tr>\n",
       "  </thead>\n",
       "  <tbody>\n",
       "    <tr>\n",
       "      <th>0</th>\n",
       "      <td>0</td>\n",
       "      <td>3</td>\n",
       "      <td>male</td>\n",
       "      <td>(19.784, 22.0]</td>\n",
       "      <td>ELSE</td>\n",
       "      <td>(-0.001, 7.55]</td>\n",
       "      <td>NAN</td>\n",
       "      <td>S</td>\n",
       "      <td>1</td>\n",
       "      <td>Mr</td>\n",
       "      <td>0.0</td>\n",
       "      <td>-0.421322</td>\n",
       "    </tr>\n",
       "    <tr>\n",
       "      <th>1</th>\n",
       "      <td>1</td>\n",
       "      <td>1</td>\n",
       "      <td>female</td>\n",
       "      <td>(34.0, 40.0]</td>\n",
       "      <td>PC</td>\n",
       "      <td>(39.688, 77.958]</td>\n",
       "      <td>C</td>\n",
       "      <td>C</td>\n",
       "      <td>4</td>\n",
       "      <td>Mrs</td>\n",
       "      <td>0.0</td>\n",
       "      <td>2.738590</td>\n",
       "    </tr>\n",
       "    <tr>\n",
       "      <th>2</th>\n",
       "      <td>1</td>\n",
       "      <td>3</td>\n",
       "      <td>female</td>\n",
       "      <td>(22.0, 27.0]</td>\n",
       "      <td>ELSE</td>\n",
       "      <td>(7.854, 8.05]</td>\n",
       "      <td>NAN</td>\n",
       "      <td>S</td>\n",
       "      <td>3</td>\n",
       "      <td>Miss</td>\n",
       "      <td>0.0</td>\n",
       "      <td>-0.421322</td>\n",
       "    </tr>\n",
       "    <tr>\n",
       "      <th>3</th>\n",
       "      <td>1</td>\n",
       "      <td>1</td>\n",
       "      <td>female</td>\n",
       "      <td>(34.0, 40.0]</td>\n",
       "      <td>Number</td>\n",
       "      <td>(39.688, 77.958]</td>\n",
       "      <td>C</td>\n",
       "      <td>S</td>\n",
       "      <td>3</td>\n",
       "      <td>Mrs</td>\n",
       "      <td>0.0</td>\n",
       "      <td>4.151256</td>\n",
       "    </tr>\n",
       "    <tr>\n",
       "      <th>4</th>\n",
       "      <td>0</td>\n",
       "      <td>3</td>\n",
       "      <td>male</td>\n",
       "      <td>(34.0, 40.0]</td>\n",
       "      <td>Number</td>\n",
       "      <td>(7.854, 8.05]</td>\n",
       "      <td>NAN</td>\n",
       "      <td>S</td>\n",
       "      <td>0</td>\n",
       "      <td>Mr</td>\n",
       "      <td>0.0</td>\n",
       "      <td>-0.421322</td>\n",
       "    </tr>\n",
       "  </tbody>\n",
       "</table>\n",
       "</div>"
      ],
      "text/plain": [
       "   Survived  Pclass     Sex             Age  Ticket              Fare Cabin  \\\n",
       "0         0       3    male  (19.784, 22.0]    ELSE    (-0.001, 7.55]   NAN   \n",
       "1         1       1  female    (34.0, 40.0]      PC  (39.688, 77.958]     C   \n",
       "2         1       3  female    (22.0, 27.0]    ELSE     (7.854, 8.05]   NAN   \n",
       "3         1       1  female    (34.0, 40.0]  Number  (39.688, 77.958]     C   \n",
       "4         0       3    male    (34.0, 40.0]  Number     (7.854, 8.05]   NAN   \n",
       "\n",
       "  Embarked  fold title  Family_size  Cabin Num  \n",
       "0        S     1    Mr          0.0  -0.421322  \n",
       "1        C     4   Mrs          0.0   2.738590  \n",
       "2        S     3  Miss          0.0  -0.421322  \n",
       "3        S     3   Mrs          0.0   4.151256  \n",
       "4        S     0    Mr          0.0  -0.421322  "
      ]
     },
     "execution_count": 44,
     "metadata": {},
     "output_type": "execute_result"
    }
   ],
   "source": [
    "train.head()"
   ]
  },
  {
   "cell_type": "code",
   "execution_count": null,
   "metadata": {
    "cell_id": "00045-9927934e-e193-4197-8013-52283e7fb24f",
    "deepnote_cell_type": "code",
    "deepnote_to_be_reexecuted": false,
    "execution_millis": 0,
    "execution_start": 1633265452137,
    "id": "MEYMKEPVL8Li",
    "source_hash": "5b4743e5"
   },
   "outputs": [],
   "source": [
    "#transfrom categorical data to numbers\n",
    "def label_encoding(train: pd.DataFrame, test: pd.DataFrame, encode_cols):\n",
    "    n_train = len(train)\n",
    "    train = pd.concat([train, test], sort=False).reset_index(drop=True)\n",
    "    for f in encode_cols:\n",
    "        try:\n",
    "            lbl = preprocessing.LabelEncoder()\n",
    "            train[f] = lbl.fit_transform(list(train[f].values))\n",
    "        except:\n",
    "            print(f)\n",
    "    test = train[n_train:].reset_index(drop=True)\n",
    "    train = train[:n_train]\n",
    "    return train, test"
   ]
  },
  {
   "cell_type": "code",
   "execution_count": null,
   "metadata": {
    "cell_id": "00057-3b07a7ae-5bc9-445b-bb56-b6c6ce0d8a87",
    "deepnote_cell_type": "code",
    "deepnote_to_be_reexecuted": false,
    "execution_millis": 0,
    "execution_start": 1633265452186,
    "source_hash": "5d4eb03",
    "tags": []
   },
   "outputs": [],
   "source": [
    "train, test = label_encoding(train, test, ['Sex', 'Ticket', 'Embarked', 'Age', 'Cabin Num', 'Fare','Cabin'])"
   ]
  },
  {
   "cell_type": "code",
   "execution_count": null,
   "metadata": {
    "cell_id": "00058-0ba5bebb-b840-4a20-ad5e-d3eeade38837",
    "deepnote_cell_type": "code",
    "deepnote_to_be_reexecuted": false,
    "execution_millis": 0,
    "execution_start": 1633265452230,
    "source_hash": "64b414b3",
    "tags": []
   },
   "outputs": [],
   "source": [
    "train = pd.get_dummies(train)\n",
    "test= pd.get_dummies(test)"
   ]
  },
  {
   "cell_type": "code",
   "execution_count": null,
   "metadata": {
    "cell_id": "00051-7962d5ec-b350-455c-94ad-0937484bab16",
    "deepnote_cell_type": "code",
    "deepnote_to_be_reexecuted": false,
    "execution_millis": 47,
    "execution_start": 1633265452230,
    "source_hash": "e1f0b45",
    "tags": []
   },
   "outputs": [
    {
     "data": {
      "application/vnd.deepnote.dataframe.v2+json": {
       "column_count": 18,
       "columns": [
        {
         "dtype": "float64",
         "name": "Survived",
         "stats": {
          "histogram": [
           {
            "bin_end": 0.1,
            "bin_start": 0,
            "count": 2
           },
           {
            "bin_end": 0.2,
            "bin_start": 0.1,
            "count": 0
           },
           {
            "bin_end": 0.30000000000000004,
            "bin_start": 0.2,
            "count": 0
           },
           {
            "bin_end": 0.4,
            "bin_start": 0.30000000000000004,
            "count": 0
           },
           {
            "bin_end": 0.5,
            "bin_start": 0.4,
            "count": 0
           },
           {
            "bin_end": 0.6000000000000001,
            "bin_start": 0.5,
            "count": 0
           },
           {
            "bin_end": 0.7000000000000001,
            "bin_start": 0.6000000000000001,
            "count": 0
           },
           {
            "bin_end": 0.8,
            "bin_start": 0.7000000000000001,
            "count": 0
           },
           {
            "bin_end": 0.9,
            "bin_start": 0.8,
            "count": 0
           },
           {
            "bin_end": 1,
            "bin_start": 0.9,
            "count": 3
           }
          ],
          "max": "1.0",
          "min": "0.0",
          "nan_count": 0,
          "unique_count": 2
         }
        },
        {
         "dtype": "int64",
         "name": "Pclass",
         "stats": {
          "histogram": [
           {
            "bin_end": 1.2,
            "bin_start": 1,
            "count": 2
           },
           {
            "bin_end": 1.4,
            "bin_start": 1.2,
            "count": 0
           },
           {
            "bin_end": 1.6,
            "bin_start": 1.4,
            "count": 0
           },
           {
            "bin_end": 1.8,
            "bin_start": 1.6,
            "count": 0
           },
           {
            "bin_end": 2,
            "bin_start": 1.8,
            "count": 0
           },
           {
            "bin_end": 2.2,
            "bin_start": 2,
            "count": 0
           },
           {
            "bin_end": 2.4000000000000004,
            "bin_start": 2.2,
            "count": 0
           },
           {
            "bin_end": 2.6,
            "bin_start": 2.4000000000000004,
            "count": 0
           },
           {
            "bin_end": 2.8,
            "bin_start": 2.6,
            "count": 0
           },
           {
            "bin_end": 3,
            "bin_start": 2.8,
            "count": 3
           }
          ],
          "max": "3",
          "min": "1",
          "nan_count": 0,
          "unique_count": 2
         }
        },
        {
         "dtype": "int64",
         "name": "Sex",
         "stats": {
          "histogram": [
           {
            "bin_end": 0.1,
            "bin_start": 0,
            "count": 3
           },
           {
            "bin_end": 0.2,
            "bin_start": 0.1,
            "count": 0
           },
           {
            "bin_end": 0.30000000000000004,
            "bin_start": 0.2,
            "count": 0
           },
           {
            "bin_end": 0.4,
            "bin_start": 0.30000000000000004,
            "count": 0
           },
           {
            "bin_end": 0.5,
            "bin_start": 0.4,
            "count": 0
           },
           {
            "bin_end": 0.6000000000000001,
            "bin_start": 0.5,
            "count": 0
           },
           {
            "bin_end": 0.7000000000000001,
            "bin_start": 0.6000000000000001,
            "count": 0
           },
           {
            "bin_end": 0.8,
            "bin_start": 0.7000000000000001,
            "count": 0
           },
           {
            "bin_end": 0.9,
            "bin_start": 0.8,
            "count": 0
           },
           {
            "bin_end": 1,
            "bin_start": 0.9,
            "count": 2
           }
          ],
          "max": "1",
          "min": "0",
          "nan_count": 0,
          "unique_count": 2
         }
        },
        {
         "dtype": "int64",
         "name": "Age",
         "stats": {
          "histogram": [
           {
            "bin_end": 5.1,
            "bin_start": 4,
            "count": 1
           },
           {
            "bin_end": 6.2,
            "bin_start": 5.1,
            "count": 1
           },
           {
            "bin_end": 7.300000000000001,
            "bin_start": 6.2,
            "count": 0
           },
           {
            "bin_end": 8.4,
            "bin_start": 7.300000000000001,
            "count": 0
           },
           {
            "bin_end": 9.5,
            "bin_start": 8.4,
            "count": 0
           },
           {
            "bin_end": 10.600000000000001,
            "bin_start": 9.5,
            "count": 0
           },
           {
            "bin_end": 11.700000000000001,
            "bin_start": 10.600000000000001,
            "count": 0
           },
           {
            "bin_end": 12.8,
            "bin_start": 11.700000000000001,
            "count": 0
           },
           {
            "bin_end": 13.9,
            "bin_start": 12.8,
            "count": 0
           },
           {
            "bin_end": 15,
            "bin_start": 13.9,
            "count": 3
           }
          ],
          "max": "15",
          "min": "4",
          "nan_count": 0,
          "unique_count": 3
         }
        },
        {
         "dtype": "int64",
         "name": "Ticket",
         "stats": {
          "histogram": [
           {
            "bin_end": 1.2,
            "bin_start": 1,
            "count": 2
           },
           {
            "bin_end": 1.4,
            "bin_start": 1.2,
            "count": 0
           },
           {
            "bin_end": 1.6,
            "bin_start": 1.4,
            "count": 0
           },
           {
            "bin_end": 1.8,
            "bin_start": 1.6,
            "count": 0
           },
           {
            "bin_end": 2,
            "bin_start": 1.8,
            "count": 0
           },
           {
            "bin_end": 2.2,
            "bin_start": 2,
            "count": 2
           },
           {
            "bin_end": 2.4000000000000004,
            "bin_start": 2.2,
            "count": 0
           },
           {
            "bin_end": 2.6,
            "bin_start": 2.4000000000000004,
            "count": 0
           },
           {
            "bin_end": 2.8,
            "bin_start": 2.6,
            "count": 0
           },
           {
            "bin_end": 3,
            "bin_start": 2.8,
            "count": 1
           }
          ],
          "max": "3",
          "min": "1",
          "nan_count": 0,
          "unique_count": 3
         }
        },
        {
         "dtype": "int64",
         "name": "Fare",
         "stats": {
          "histogram": [
           {
            "bin_end": 1.5,
            "bin_start": 0,
            "count": 1
           },
           {
            "bin_end": 3,
            "bin_start": 1.5,
            "count": 0
           },
           {
            "bin_end": 4.5,
            "bin_start": 3,
            "count": 0
           },
           {
            "bin_end": 6,
            "bin_start": 4.5,
            "count": 2
           },
           {
            "bin_end": 7.5,
            "bin_start": 6,
            "count": 0
           },
           {
            "bin_end": 9,
            "bin_start": 7.5,
            "count": 0
           },
           {
            "bin_end": 10.5,
            "bin_start": 9,
            "count": 0
           },
           {
            "bin_end": 12,
            "bin_start": 10.5,
            "count": 0
           },
           {
            "bin_end": 13.5,
            "bin_start": 12,
            "count": 0
           },
           {
            "bin_end": 15,
            "bin_start": 13.5,
            "count": 2
           }
          ],
          "max": "15",
          "min": "0",
          "nan_count": 0,
          "unique_count": 3
         }
        },
        {
         "dtype": "int64",
         "name": "Cabin",
         "stats": {
          "histogram": [
           {
            "bin_end": 1.3,
            "bin_start": 1,
            "count": 2
           },
           {
            "bin_end": 1.6,
            "bin_start": 1.3,
            "count": 0
           },
           {
            "bin_end": 1.9,
            "bin_start": 1.6,
            "count": 0
           },
           {
            "bin_end": 2.2,
            "bin_start": 1.9,
            "count": 0
           },
           {
            "bin_end": 2.5,
            "bin_start": 2.2,
            "count": 0
           },
           {
            "bin_end": 2.8,
            "bin_start": 2.5,
            "count": 0
           },
           {
            "bin_end": 3.1,
            "bin_start": 2.8,
            "count": 0
           },
           {
            "bin_end": 3.4,
            "bin_start": 3.1,
            "count": 0
           },
           {
            "bin_end": 3.6999999999999997,
            "bin_start": 3.4,
            "count": 0
           },
           {
            "bin_end": 4,
            "bin_start": 3.6999999999999997,
            "count": 3
           }
          ],
          "max": "4",
          "min": "1",
          "nan_count": 0,
          "unique_count": 2
         }
        },
        {
         "dtype": "int64",
         "name": "Embarked",
         "stats": {
          "histogram": [
           {
            "bin_end": 0.2,
            "bin_start": 0,
            "count": 1
           },
           {
            "bin_end": 0.4,
            "bin_start": 0.2,
            "count": 0
           },
           {
            "bin_end": 0.6000000000000001,
            "bin_start": 0.4,
            "count": 0
           },
           {
            "bin_end": 0.8,
            "bin_start": 0.6000000000000001,
            "count": 0
           },
           {
            "bin_end": 1,
            "bin_start": 0.8,
            "count": 0
           },
           {
            "bin_end": 1.2000000000000002,
            "bin_start": 1,
            "count": 0
           },
           {
            "bin_end": 1.4000000000000001,
            "bin_start": 1.2000000000000002,
            "count": 0
           },
           {
            "bin_end": 1.6,
            "bin_start": 1.4000000000000001,
            "count": 0
           },
           {
            "bin_end": 1.8,
            "bin_start": 1.6,
            "count": 0
           },
           {
            "bin_end": 2,
            "bin_start": 1.8,
            "count": 4
           }
          ],
          "max": "2",
          "min": "0",
          "nan_count": 0,
          "unique_count": 2
         }
        },
        {
         "dtype": "float64",
         "name": "fold",
         "stats": {
          "histogram": [
           {
            "bin_end": 0.4,
            "bin_start": 0,
            "count": 1
           },
           {
            "bin_end": 0.8,
            "bin_start": 0.4,
            "count": 0
           },
           {
            "bin_end": 1.2000000000000002,
            "bin_start": 0.8,
            "count": 1
           },
           {
            "bin_end": 1.6,
            "bin_start": 1.2000000000000002,
            "count": 0
           },
           {
            "bin_end": 2,
            "bin_start": 1.6,
            "count": 0
           },
           {
            "bin_end": 2.4000000000000004,
            "bin_start": 2,
            "count": 0
           },
           {
            "bin_end": 2.8000000000000003,
            "bin_start": 2.4000000000000004,
            "count": 0
           },
           {
            "bin_end": 3.2,
            "bin_start": 2.8000000000000003,
            "count": 2
           },
           {
            "bin_end": 3.6,
            "bin_start": 3.2,
            "count": 0
           },
           {
            "bin_end": 4,
            "bin_start": 3.6,
            "count": 1
           }
          ],
          "max": "4.0",
          "min": "0.0",
          "nan_count": 0,
          "unique_count": 4
         }
        },
        {
         "dtype": "float64",
         "name": "Family_size",
         "stats": {
          "histogram": [
           {
            "bin_end": -0.4,
            "bin_start": -0.5,
            "count": 0
           },
           {
            "bin_end": -0.3,
            "bin_start": -0.4,
            "count": 0
           },
           {
            "bin_end": -0.19999999999999996,
            "bin_start": -0.3,
            "count": 0
           },
           {
            "bin_end": -0.09999999999999998,
            "bin_start": -0.19999999999999996,
            "count": 0
           },
           {
            "bin_end": 0,
            "bin_start": -0.09999999999999998,
            "count": 0
           },
           {
            "bin_end": 0.10000000000000009,
            "bin_start": 0,
            "count": 5
           },
           {
            "bin_end": 0.20000000000000007,
            "bin_start": 0.10000000000000009,
            "count": 0
           },
           {
            "bin_end": 0.30000000000000004,
            "bin_start": 0.20000000000000007,
            "count": 0
           },
           {
            "bin_end": 0.4,
            "bin_start": 0.30000000000000004,
            "count": 0
           },
           {
            "bin_end": 0.5,
            "bin_start": 0.4,
            "count": 0
           }
          ],
          "max": "0.0",
          "min": "0.0",
          "nan_count": 0,
          "unique_count": 1
         }
        },
        {
         "dtype": "int64",
         "name": "Cabin Num",
         "stats": {
          "histogram": [
           {
            "bin_end": 14.2,
            "bin_start": 0,
            "count": 3
           },
           {
            "bin_end": 28.4,
            "bin_start": 14.2,
            "count": 0
           },
           {
            "bin_end": 42.599999999999994,
            "bin_start": 28.4,
            "count": 0
           },
           {
            "bin_end": 56.8,
            "bin_start": 42.599999999999994,
            "count": 0
           },
           {
            "bin_end": 71,
            "bin_start": 56.8,
            "count": 0
           },
           {
            "bin_end": 85.19999999999999,
            "bin_start": 71,
            "count": 0
           },
           {
            "bin_end": 99.39999999999999,
            "bin_start": 85.19999999999999,
            "count": 0
           },
           {
            "bin_end": 113.6,
            "bin_start": 99.39999999999999,
            "count": 1
           },
           {
            "bin_end": 127.8,
            "bin_start": 113.6,
            "count": 0
           },
           {
            "bin_end": 142,
            "bin_start": 127.8,
            "count": 1
           }
          ],
          "max": "142",
          "min": "0",
          "nan_count": 0,
          "unique_count": 3
         }
        },
        {
         "dtype": "uint8",
         "name": "title_Dr",
         "stats": {
          "histogram": [
           {
            "bin_end": -0.4,
            "bin_start": -0.5,
            "count": 0
           },
           {
            "bin_end": -0.3,
            "bin_start": -0.4,
            "count": 0
           },
           {
            "bin_end": -0.19999999999999996,
            "bin_start": -0.3,
            "count": 0
           },
           {
            "bin_end": -0.09999999999999998,
            "bin_start": -0.19999999999999996,
            "count": 0
           },
           {
            "bin_end": 0,
            "bin_start": -0.09999999999999998,
            "count": 0
           },
           {
            "bin_end": 0.10000000000000009,
            "bin_start": 0,
            "count": 5
           },
           {
            "bin_end": 0.20000000000000007,
            "bin_start": 0.10000000000000009,
            "count": 0
           },
           {
            "bin_end": 0.30000000000000004,
            "bin_start": 0.20000000000000007,
            "count": 0
           },
           {
            "bin_end": 0.4,
            "bin_start": 0.30000000000000004,
            "count": 0
           },
           {
            "bin_end": 0.5,
            "bin_start": 0.4,
            "count": 0
           }
          ],
          "max": "0",
          "min": "0",
          "nan_count": 0,
          "unique_count": 1
         }
        },
        {
         "dtype": "uint8",
         "name": "title_ELSE",
         "stats": {
          "histogram": [
           {
            "bin_end": -0.4,
            "bin_start": -0.5,
            "count": 0
           },
           {
            "bin_end": -0.3,
            "bin_start": -0.4,
            "count": 0
           },
           {
            "bin_end": -0.19999999999999996,
            "bin_start": -0.3,
            "count": 0
           },
           {
            "bin_end": -0.09999999999999998,
            "bin_start": -0.19999999999999996,
            "count": 0
           },
           {
            "bin_end": 0,
            "bin_start": -0.09999999999999998,
            "count": 0
           },
           {
            "bin_end": 0.10000000000000009,
            "bin_start": 0,
            "count": 5
           },
           {
            "bin_end": 0.20000000000000007,
            "bin_start": 0.10000000000000009,
            "count": 0
           },
           {
            "bin_end": 0.30000000000000004,
            "bin_start": 0.20000000000000007,
            "count": 0
           },
           {
            "bin_end": 0.4,
            "bin_start": 0.30000000000000004,
            "count": 0
           },
           {
            "bin_end": 0.5,
            "bin_start": 0.4,
            "count": 0
           }
          ],
          "max": "0",
          "min": "0",
          "nan_count": 0,
          "unique_count": 1
         }
        },
        {
         "dtype": "uint8",
         "name": "title_Master",
         "stats": {
          "histogram": [
           {
            "bin_end": -0.4,
            "bin_start": -0.5,
            "count": 0
           },
           {
            "bin_end": -0.3,
            "bin_start": -0.4,
            "count": 0
           },
           {
            "bin_end": -0.19999999999999996,
            "bin_start": -0.3,
            "count": 0
           },
           {
            "bin_end": -0.09999999999999998,
            "bin_start": -0.19999999999999996,
            "count": 0
           },
           {
            "bin_end": 0,
            "bin_start": -0.09999999999999998,
            "count": 0
           },
           {
            "bin_end": 0.10000000000000009,
            "bin_start": 0,
            "count": 5
           },
           {
            "bin_end": 0.20000000000000007,
            "bin_start": 0.10000000000000009,
            "count": 0
           },
           {
            "bin_end": 0.30000000000000004,
            "bin_start": 0.20000000000000007,
            "count": 0
           },
           {
            "bin_end": 0.4,
            "bin_start": 0.30000000000000004,
            "count": 0
           },
           {
            "bin_end": 0.5,
            "bin_start": 0.4,
            "count": 0
           }
          ],
          "max": "0",
          "min": "0",
          "nan_count": 0,
          "unique_count": 1
         }
        },
        {
         "dtype": "uint8",
         "name": "title_Miss",
         "stats": {
          "histogram": [
           {
            "bin_end": 0.1,
            "bin_start": 0,
            "count": 4
           },
           {
            "bin_end": 0.2,
            "bin_start": 0.1,
            "count": 0
           },
           {
            "bin_end": 0.30000000000000004,
            "bin_start": 0.2,
            "count": 0
           },
           {
            "bin_end": 0.4,
            "bin_start": 0.30000000000000004,
            "count": 0
           },
           {
            "bin_end": 0.5,
            "bin_start": 0.4,
            "count": 0
           },
           {
            "bin_end": 0.6000000000000001,
            "bin_start": 0.5,
            "count": 0
           },
           {
            "bin_end": 0.7000000000000001,
            "bin_start": 0.6000000000000001,
            "count": 0
           },
           {
            "bin_end": 0.8,
            "bin_start": 0.7000000000000001,
            "count": 0
           },
           {
            "bin_end": 0.9,
            "bin_start": 0.8,
            "count": 0
           },
           {
            "bin_end": 1,
            "bin_start": 0.9,
            "count": 1
           }
          ],
          "max": "1",
          "min": "0",
          "nan_count": 0,
          "unique_count": 2
         }
        },
        {
         "dtype": "uint8",
         "name": "title_Mr",
         "stats": {
          "histogram": [
           {
            "bin_end": 0.1,
            "bin_start": 0,
            "count": 3
           },
           {
            "bin_end": 0.2,
            "bin_start": 0.1,
            "count": 0
           },
           {
            "bin_end": 0.30000000000000004,
            "bin_start": 0.2,
            "count": 0
           },
           {
            "bin_end": 0.4,
            "bin_start": 0.30000000000000004,
            "count": 0
           },
           {
            "bin_end": 0.5,
            "bin_start": 0.4,
            "count": 0
           },
           {
            "bin_end": 0.6000000000000001,
            "bin_start": 0.5,
            "count": 0
           },
           {
            "bin_end": 0.7000000000000001,
            "bin_start": 0.6000000000000001,
            "count": 0
           },
           {
            "bin_end": 0.8,
            "bin_start": 0.7000000000000001,
            "count": 0
           },
           {
            "bin_end": 0.9,
            "bin_start": 0.8,
            "count": 0
           },
           {
            "bin_end": 1,
            "bin_start": 0.9,
            "count": 2
           }
          ],
          "max": "1",
          "min": "0",
          "nan_count": 0,
          "unique_count": 2
         }
        },
        {
         "dtype": "uint8",
         "name": "title_Mrs",
         "stats": {
          "histogram": [
           {
            "bin_end": 0.1,
            "bin_start": 0,
            "count": 3
           },
           {
            "bin_end": 0.2,
            "bin_start": 0.1,
            "count": 0
           },
           {
            "bin_end": 0.30000000000000004,
            "bin_start": 0.2,
            "count": 0
           },
           {
            "bin_end": 0.4,
            "bin_start": 0.30000000000000004,
            "count": 0
           },
           {
            "bin_end": 0.5,
            "bin_start": 0.4,
            "count": 0
           },
           {
            "bin_end": 0.6000000000000001,
            "bin_start": 0.5,
            "count": 0
           },
           {
            "bin_end": 0.7000000000000001,
            "bin_start": 0.6000000000000001,
            "count": 0
           },
           {
            "bin_end": 0.8,
            "bin_start": 0.7000000000000001,
            "count": 0
           },
           {
            "bin_end": 0.9,
            "bin_start": 0.8,
            "count": 0
           },
           {
            "bin_end": 1,
            "bin_start": 0.9,
            "count": 2
           }
          ],
          "max": "1",
          "min": "0",
          "nan_count": 0,
          "unique_count": 2
         }
        },
        {
         "dtype": "uint8",
         "name": "title_Rev",
         "stats": {
          "histogram": [
           {
            "bin_end": -0.4,
            "bin_start": -0.5,
            "count": 0
           },
           {
            "bin_end": -0.3,
            "bin_start": -0.4,
            "count": 0
           },
           {
            "bin_end": -0.19999999999999996,
            "bin_start": -0.3,
            "count": 0
           },
           {
            "bin_end": -0.09999999999999998,
            "bin_start": -0.19999999999999996,
            "count": 0
           },
           {
            "bin_end": 0,
            "bin_start": -0.09999999999999998,
            "count": 0
           },
           {
            "bin_end": 0.10000000000000009,
            "bin_start": 0,
            "count": 5
           },
           {
            "bin_end": 0.20000000000000007,
            "bin_start": 0.10000000000000009,
            "count": 0
           },
           {
            "bin_end": 0.30000000000000004,
            "bin_start": 0.20000000000000007,
            "count": 0
           },
           {
            "bin_end": 0.4,
            "bin_start": 0.30000000000000004,
            "count": 0
           },
           {
            "bin_end": 0.5,
            "bin_start": 0.4,
            "count": 0
           }
          ],
          "max": "0",
          "min": "0",
          "nan_count": 0,
          "unique_count": 1
         }
        },
        {
         "dtype": "int64",
         "name": "_deepnote_index_column"
        }
       ],
       "row_count": 5,
       "rows_bottom": null,
       "rows_top": [
        {
         "Age": 4,
         "Cabin": 4,
         "Cabin Num": 0,
         "Embarked": 2,
         "Family_size": 0,
         "Fare": 0,
         "Pclass": 3,
         "Sex": 1,
         "Survived": 0,
         "Ticket": 1,
         "_deepnote_index_column": 0,
         "fold": 1,
         "title_Dr": 0,
         "title_ELSE": 0,
         "title_Master": 0,
         "title_Miss": 0,
         "title_Mr": 1,
         "title_Mrs": 0,
         "title_Rev": 0
        },
        {
         "Age": 15,
         "Cabin": 1,
         "Cabin Num": 113,
         "Embarked": 0,
         "Family_size": 0,
         "Fare": 15,
         "Pclass": 1,
         "Sex": 0,
         "Survived": 1,
         "Ticket": 3,
         "_deepnote_index_column": 1,
         "fold": 4,
         "title_Dr": 0,
         "title_ELSE": 0,
         "title_Master": 0,
         "title_Miss": 0,
         "title_Mr": 0,
         "title_Mrs": 1,
         "title_Rev": 0
        },
        {
         "Age": 6,
         "Cabin": 4,
         "Cabin Num": 0,
         "Embarked": 2,
         "Family_size": 0,
         "Fare": 5,
         "Pclass": 3,
         "Sex": 0,
         "Survived": 1,
         "Ticket": 1,
         "_deepnote_index_column": 2,
         "fold": 3,
         "title_Dr": 0,
         "title_ELSE": 0,
         "title_Master": 0,
         "title_Miss": 1,
         "title_Mr": 0,
         "title_Mrs": 0,
         "title_Rev": 0
        },
        {
         "Age": 15,
         "Cabin": 1,
         "Cabin Num": 142,
         "Embarked": 2,
         "Family_size": 0,
         "Fare": 15,
         "Pclass": 1,
         "Sex": 0,
         "Survived": 1,
         "Ticket": 2,
         "_deepnote_index_column": 3,
         "fold": 3,
         "title_Dr": 0,
         "title_ELSE": 0,
         "title_Master": 0,
         "title_Miss": 0,
         "title_Mr": 0,
         "title_Mrs": 1,
         "title_Rev": 0
        },
        {
         "Age": 15,
         "Cabin": 4,
         "Cabin Num": 0,
         "Embarked": 2,
         "Family_size": 0,
         "Fare": 5,
         "Pclass": 3,
         "Sex": 1,
         "Survived": 0,
         "Ticket": 2,
         "_deepnote_index_column": 4,
         "fold": 0,
         "title_Dr": 0,
         "title_ELSE": 0,
         "title_Master": 0,
         "title_Miss": 0,
         "title_Mr": 1,
         "title_Mrs": 0,
         "title_Rev": 0
        }
       ]
      },
      "text/html": [
       "<div>\n",
       "<style scoped>\n",
       "    .dataframe tbody tr th:only-of-type {\n",
       "        vertical-align: middle;\n",
       "    }\n",
       "\n",
       "    .dataframe tbody tr th {\n",
       "        vertical-align: top;\n",
       "    }\n",
       "\n",
       "    .dataframe thead th {\n",
       "        text-align: right;\n",
       "    }\n",
       "</style>\n",
       "<table border=\"1\" class=\"dataframe\">\n",
       "  <thead>\n",
       "    <tr style=\"text-align: right;\">\n",
       "      <th></th>\n",
       "      <th>Survived</th>\n",
       "      <th>Pclass</th>\n",
       "      <th>Sex</th>\n",
       "      <th>Age</th>\n",
       "      <th>Ticket</th>\n",
       "      <th>Fare</th>\n",
       "      <th>Cabin</th>\n",
       "      <th>Embarked</th>\n",
       "      <th>fold</th>\n",
       "      <th>Family_size</th>\n",
       "      <th>Cabin Num</th>\n",
       "      <th>title_Dr</th>\n",
       "      <th>title_ELSE</th>\n",
       "      <th>title_Master</th>\n",
       "      <th>title_Miss</th>\n",
       "      <th>title_Mr</th>\n",
       "      <th>title_Mrs</th>\n",
       "      <th>title_Rev</th>\n",
       "    </tr>\n",
       "  </thead>\n",
       "  <tbody>\n",
       "    <tr>\n",
       "      <th>0</th>\n",
       "      <td>0.0</td>\n",
       "      <td>3</td>\n",
       "      <td>1</td>\n",
       "      <td>4</td>\n",
       "      <td>1</td>\n",
       "      <td>0</td>\n",
       "      <td>4</td>\n",
       "      <td>2</td>\n",
       "      <td>1.0</td>\n",
       "      <td>0.0</td>\n",
       "      <td>0</td>\n",
       "      <td>0</td>\n",
       "      <td>0</td>\n",
       "      <td>0</td>\n",
       "      <td>0</td>\n",
       "      <td>1</td>\n",
       "      <td>0</td>\n",
       "      <td>0</td>\n",
       "    </tr>\n",
       "    <tr>\n",
       "      <th>1</th>\n",
       "      <td>1.0</td>\n",
       "      <td>1</td>\n",
       "      <td>0</td>\n",
       "      <td>15</td>\n",
       "      <td>3</td>\n",
       "      <td>15</td>\n",
       "      <td>1</td>\n",
       "      <td>0</td>\n",
       "      <td>4.0</td>\n",
       "      <td>0.0</td>\n",
       "      <td>113</td>\n",
       "      <td>0</td>\n",
       "      <td>0</td>\n",
       "      <td>0</td>\n",
       "      <td>0</td>\n",
       "      <td>0</td>\n",
       "      <td>1</td>\n",
       "      <td>0</td>\n",
       "    </tr>\n",
       "    <tr>\n",
       "      <th>2</th>\n",
       "      <td>1.0</td>\n",
       "      <td>3</td>\n",
       "      <td>0</td>\n",
       "      <td>6</td>\n",
       "      <td>1</td>\n",
       "      <td>5</td>\n",
       "      <td>4</td>\n",
       "      <td>2</td>\n",
       "      <td>3.0</td>\n",
       "      <td>0.0</td>\n",
       "      <td>0</td>\n",
       "      <td>0</td>\n",
       "      <td>0</td>\n",
       "      <td>0</td>\n",
       "      <td>1</td>\n",
       "      <td>0</td>\n",
       "      <td>0</td>\n",
       "      <td>0</td>\n",
       "    </tr>\n",
       "    <tr>\n",
       "      <th>3</th>\n",
       "      <td>1.0</td>\n",
       "      <td>1</td>\n",
       "      <td>0</td>\n",
       "      <td>15</td>\n",
       "      <td>2</td>\n",
       "      <td>15</td>\n",
       "      <td>1</td>\n",
       "      <td>2</td>\n",
       "      <td>3.0</td>\n",
       "      <td>0.0</td>\n",
       "      <td>142</td>\n",
       "      <td>0</td>\n",
       "      <td>0</td>\n",
       "      <td>0</td>\n",
       "      <td>0</td>\n",
       "      <td>0</td>\n",
       "      <td>1</td>\n",
       "      <td>0</td>\n",
       "    </tr>\n",
       "    <tr>\n",
       "      <th>4</th>\n",
       "      <td>0.0</td>\n",
       "      <td>3</td>\n",
       "      <td>1</td>\n",
       "      <td>15</td>\n",
       "      <td>2</td>\n",
       "      <td>5</td>\n",
       "      <td>4</td>\n",
       "      <td>2</td>\n",
       "      <td>0.0</td>\n",
       "      <td>0.0</td>\n",
       "      <td>0</td>\n",
       "      <td>0</td>\n",
       "      <td>0</td>\n",
       "      <td>0</td>\n",
       "      <td>0</td>\n",
       "      <td>1</td>\n",
       "      <td>0</td>\n",
       "      <td>0</td>\n",
       "    </tr>\n",
       "  </tbody>\n",
       "</table>\n",
       "</div>"
      ],
      "text/plain": [
       "   Survived  Pclass  Sex  Age  Ticket  Fare  Cabin  Embarked  fold  \\\n",
       "0       0.0       3    1    4       1     0      4         2   1.0   \n",
       "1       1.0       1    0   15       3    15      1         0   4.0   \n",
       "2       1.0       3    0    6       1     5      4         2   3.0   \n",
       "3       1.0       1    0   15       2    15      1         2   3.0   \n",
       "4       0.0       3    1   15       2     5      4         2   0.0   \n",
       "\n",
       "   Family_size  Cabin Num  title_Dr  title_ELSE  title_Master  title_Miss  \\\n",
       "0          0.0          0         0           0             0           0   \n",
       "1          0.0        113         0           0             0           0   \n",
       "2          0.0          0         0           0             0           1   \n",
       "3          0.0        142         0           0             0           0   \n",
       "4          0.0          0         0           0             0           0   \n",
       "\n",
       "   title_Mr  title_Mrs  title_Rev  \n",
       "0         1          0          0  \n",
       "1         0          1          0  \n",
       "2         0          0          0  \n",
       "3         0          1          0  \n",
       "4         1          0          0  "
      ]
     },
     "execution_count": 48,
     "metadata": {},
     "output_type": "execute_result"
    }
   ],
   "source": [
    "train.head()"
   ]
  },
  {
   "cell_type": "code",
   "execution_count": null,
   "metadata": {
    "cell_id": "00045-1ccf2e7f-78d7-4b98-b478-c4b7ff0755e3",
    "deepnote_cell_type": "code",
    "deepnote_to_be_reexecuted": false,
    "execution_millis": 56,
    "execution_start": 1633265452290,
    "source_hash": "476785e4",
    "tags": []
   },
   "outputs": [
    {
     "data": {
      "application/vnd.deepnote.dataframe.v2+json": {
       "column_count": 18,
       "columns": [
        {
         "dtype": "float64",
         "name": "Survived",
         "stats": {
          "histogram": [
           {
            "bin_end": 0.1,
            "bin_start": 0,
            "count": 0
           },
           {
            "bin_end": 0.2,
            "bin_start": 0.1,
            "count": 0
           },
           {
            "bin_end": 0.30000000000000004,
            "bin_start": 0.2,
            "count": 0
           },
           {
            "bin_end": 0.4,
            "bin_start": 0.30000000000000004,
            "count": 0
           },
           {
            "bin_end": 0.5,
            "bin_start": 0.4,
            "count": 0
           },
           {
            "bin_end": 0.6000000000000001,
            "bin_start": 0.5,
            "count": 0
           },
           {
            "bin_end": 0.7000000000000001,
            "bin_start": 0.6000000000000001,
            "count": 0
           },
           {
            "bin_end": 0.8,
            "bin_start": 0.7000000000000001,
            "count": 0
           },
           {
            "bin_end": 0.9,
            "bin_start": 0.8,
            "count": 0
           },
           {
            "bin_end": 1,
            "bin_start": 0.9,
            "count": 0
           }
          ],
          "max": null,
          "min": null,
          "nan_count": 5,
          "unique_count": 0
         }
        },
        {
         "dtype": "int64",
         "name": "Pclass",
         "stats": {
          "histogram": [
           {
            "bin_end": 2.1,
            "bin_start": 2,
            "count": 1
           },
           {
            "bin_end": 2.2,
            "bin_start": 2.1,
            "count": 0
           },
           {
            "bin_end": 2.3,
            "bin_start": 2.2,
            "count": 0
           },
           {
            "bin_end": 2.4,
            "bin_start": 2.3,
            "count": 0
           },
           {
            "bin_end": 2.5,
            "bin_start": 2.4,
            "count": 0
           },
           {
            "bin_end": 2.6,
            "bin_start": 2.5,
            "count": 0
           },
           {
            "bin_end": 2.7,
            "bin_start": 2.6,
            "count": 0
           },
           {
            "bin_end": 2.8,
            "bin_start": 2.7,
            "count": 0
           },
           {
            "bin_end": 2.9,
            "bin_start": 2.8,
            "count": 0
           },
           {
            "bin_end": 3,
            "bin_start": 2.9,
            "count": 4
           }
          ],
          "max": "3",
          "min": "2",
          "nan_count": 0,
          "unique_count": 2
         }
        },
        {
         "dtype": "int64",
         "name": "Sex",
         "stats": {
          "histogram": [
           {
            "bin_end": 0.1,
            "bin_start": 0,
            "count": 2
           },
           {
            "bin_end": 0.2,
            "bin_start": 0.1,
            "count": 0
           },
           {
            "bin_end": 0.30000000000000004,
            "bin_start": 0.2,
            "count": 0
           },
           {
            "bin_end": 0.4,
            "bin_start": 0.30000000000000004,
            "count": 0
           },
           {
            "bin_end": 0.5,
            "bin_start": 0.4,
            "count": 0
           },
           {
            "bin_end": 0.6000000000000001,
            "bin_start": 0.5,
            "count": 0
           },
           {
            "bin_end": 0.7000000000000001,
            "bin_start": 0.6000000000000001,
            "count": 0
           },
           {
            "bin_end": 0.8,
            "bin_start": 0.7000000000000001,
            "count": 0
           },
           {
            "bin_end": 0.9,
            "bin_start": 0.8,
            "count": 0
           },
           {
            "bin_end": 1,
            "bin_start": 0.9,
            "count": 3
           }
          ],
          "max": "1",
          "min": "0",
          "nan_count": 0,
          "unique_count": 2
         }
        },
        {
         "dtype": "int64",
         "name": "Age",
         "stats": {
          "histogram": [
           {
            "bin_end": 6.4,
            "bin_start": 5,
            "count": 1
           },
           {
            "bin_end": 7.8,
            "bin_start": 6.4,
            "count": 0
           },
           {
            "bin_end": 9.2,
            "bin_start": 7.8,
            "count": 1
           },
           {
            "bin_end": 10.6,
            "bin_start": 9.2,
            "count": 0
           },
           {
            "bin_end": 12,
            "bin_start": 10.6,
            "count": 0
           },
           {
            "bin_end": 13.399999999999999,
            "bin_start": 12,
            "count": 0
           },
           {
            "bin_end": 14.799999999999999,
            "bin_start": 13.399999999999999,
            "count": 1
           },
           {
            "bin_end": 16.2,
            "bin_start": 14.799999999999999,
            "count": 1
           },
           {
            "bin_end": 17.6,
            "bin_start": 16.2,
            "count": 0
           },
           {
            "bin_end": 19,
            "bin_start": 17.6,
            "count": 1
           }
          ],
          "max": "19",
          "min": "5",
          "nan_count": 0,
          "unique_count": 5
         }
        },
        {
         "dtype": "int64",
         "name": "Ticket",
         "stats": {
          "histogram": [
           {
            "bin_end": 1.6,
            "bin_start": 1.5,
            "count": 0
           },
           {
            "bin_end": 1.7,
            "bin_start": 1.6,
            "count": 0
           },
           {
            "bin_end": 1.8,
            "bin_start": 1.7,
            "count": 0
           },
           {
            "bin_end": 1.9,
            "bin_start": 1.8,
            "count": 0
           },
           {
            "bin_end": 2,
            "bin_start": 1.9,
            "count": 0
           },
           {
            "bin_end": 2.1,
            "bin_start": 2,
            "count": 5
           },
           {
            "bin_end": 2.2,
            "bin_start": 2.1,
            "count": 0
           },
           {
            "bin_end": 2.3,
            "bin_start": 2.2,
            "count": 0
           },
           {
            "bin_end": 2.4,
            "bin_start": 2.3,
            "count": 0
           },
           {
            "bin_end": 2.5,
            "bin_start": 2.4,
            "count": 0
           }
          ],
          "max": "2",
          "min": "2",
          "nan_count": 0,
          "unique_count": 1
         }
        },
        {
         "dtype": "int64",
         "name": "Fare",
         "stats": {
          "histogram": [
           {
            "bin_end": 1.8,
            "bin_start": 1,
            "count": 1
           },
           {
            "bin_end": 2.6,
            "bin_start": 1.8,
            "count": 0
           },
           {
            "bin_end": 3.4000000000000004,
            "bin_start": 2.6,
            "count": 0
           },
           {
            "bin_end": 4.2,
            "bin_start": 3.4000000000000004,
            "count": 1
           },
           {
            "bin_end": 5,
            "bin_start": 4.2,
            "count": 0
           },
           {
            "bin_end": 5.800000000000001,
            "bin_start": 5,
            "count": 0
           },
           {
            "bin_end": 6.6000000000000005,
            "bin_start": 5.800000000000001,
            "count": 0
           },
           {
            "bin_end": 7.4,
            "bin_start": 6.6000000000000005,
            "count": 2
           },
           {
            "bin_end": 8.2,
            "bin_start": 7.4,
            "count": 0
           },
           {
            "bin_end": 9,
            "bin_start": 8.2,
            "count": 1
           }
          ],
          "max": "9",
          "min": "1",
          "nan_count": 0,
          "unique_count": 4
         }
        },
        {
         "dtype": "int64",
         "name": "Cabin",
         "stats": {
          "histogram": [
           {
            "bin_end": 3.6,
            "bin_start": 3.5,
            "count": 0
           },
           {
            "bin_end": 3.7,
            "bin_start": 3.6,
            "count": 0
           },
           {
            "bin_end": 3.8,
            "bin_start": 3.7,
            "count": 0
           },
           {
            "bin_end": 3.9,
            "bin_start": 3.8,
            "count": 0
           },
           {
            "bin_end": 4,
            "bin_start": 3.9,
            "count": 0
           },
           {
            "bin_end": 4.1,
            "bin_start": 4,
            "count": 5
           },
           {
            "bin_end": 4.2,
            "bin_start": 4.1,
            "count": 0
           },
           {
            "bin_end": 4.3,
            "bin_start": 4.2,
            "count": 0
           },
           {
            "bin_end": 4.4,
            "bin_start": 4.3,
            "count": 0
           },
           {
            "bin_end": 4.5,
            "bin_start": 4.4,
            "count": 0
           }
          ],
          "max": "4",
          "min": "4",
          "nan_count": 0,
          "unique_count": 1
         }
        },
        {
         "dtype": "int64",
         "name": "Embarked",
         "stats": {
          "histogram": [
           {
            "bin_end": 1.1,
            "bin_start": 1,
            "count": 2
           },
           {
            "bin_end": 1.2,
            "bin_start": 1.1,
            "count": 0
           },
           {
            "bin_end": 1.3,
            "bin_start": 1.2,
            "count": 0
           },
           {
            "bin_end": 1.4,
            "bin_start": 1.3,
            "count": 0
           },
           {
            "bin_end": 1.5,
            "bin_start": 1.4,
            "count": 0
           },
           {
            "bin_end": 1.6,
            "bin_start": 1.5,
            "count": 0
           },
           {
            "bin_end": 1.7000000000000002,
            "bin_start": 1.6,
            "count": 0
           },
           {
            "bin_end": 1.8,
            "bin_start": 1.7000000000000002,
            "count": 0
           },
           {
            "bin_end": 1.9,
            "bin_start": 1.8,
            "count": 0
           },
           {
            "bin_end": 2,
            "bin_start": 1.9,
            "count": 3
           }
          ],
          "max": "2",
          "min": "1",
          "nan_count": 0,
          "unique_count": 2
         }
        },
        {
         "dtype": "float64",
         "name": "fold",
         "stats": {
          "histogram": [
           {
            "bin_end": 0.1,
            "bin_start": 0,
            "count": 0
           },
           {
            "bin_end": 0.2,
            "bin_start": 0.1,
            "count": 0
           },
           {
            "bin_end": 0.30000000000000004,
            "bin_start": 0.2,
            "count": 0
           },
           {
            "bin_end": 0.4,
            "bin_start": 0.30000000000000004,
            "count": 0
           },
           {
            "bin_end": 0.5,
            "bin_start": 0.4,
            "count": 0
           },
           {
            "bin_end": 0.6000000000000001,
            "bin_start": 0.5,
            "count": 0
           },
           {
            "bin_end": 0.7000000000000001,
            "bin_start": 0.6000000000000001,
            "count": 0
           },
           {
            "bin_end": 0.8,
            "bin_start": 0.7000000000000001,
            "count": 0
           },
           {
            "bin_end": 0.9,
            "bin_start": 0.8,
            "count": 0
           },
           {
            "bin_end": 1,
            "bin_start": 0.9,
            "count": 0
           }
          ],
          "max": null,
          "min": null,
          "nan_count": 5,
          "unique_count": 0
         }
        },
        {
         "dtype": "float64",
         "name": "Family_size",
         "stats": {
          "histogram": [
           {
            "bin_end": -0.4,
            "bin_start": -0.5,
            "count": 0
           },
           {
            "bin_end": -0.3,
            "bin_start": -0.4,
            "count": 0
           },
           {
            "bin_end": -0.19999999999999996,
            "bin_start": -0.3,
            "count": 0
           },
           {
            "bin_end": -0.09999999999999998,
            "bin_start": -0.19999999999999996,
            "count": 0
           },
           {
            "bin_end": 0,
            "bin_start": -0.09999999999999998,
            "count": 0
           },
           {
            "bin_end": 0.10000000000000009,
            "bin_start": 0,
            "count": 5
           },
           {
            "bin_end": 0.20000000000000007,
            "bin_start": 0.10000000000000009,
            "count": 0
           },
           {
            "bin_end": 0.30000000000000004,
            "bin_start": 0.20000000000000007,
            "count": 0
           },
           {
            "bin_end": 0.4,
            "bin_start": 0.30000000000000004,
            "count": 0
           },
           {
            "bin_end": 0.5,
            "bin_start": 0.4,
            "count": 0
           }
          ],
          "max": "0.0",
          "min": "0.0",
          "nan_count": 0,
          "unique_count": 1
         }
        },
        {
         "dtype": "int64",
         "name": "Cabin Num",
         "stats": {
          "histogram": [
           {
            "bin_end": 0.6,
            "bin_start": 0.5,
            "count": 0
           },
           {
            "bin_end": 0.7,
            "bin_start": 0.6,
            "count": 0
           },
           {
            "bin_end": 0.8,
            "bin_start": 0.7,
            "count": 0
           },
           {
            "bin_end": 0.9,
            "bin_start": 0.8,
            "count": 0
           },
           {
            "bin_end": 1,
            "bin_start": 0.9,
            "count": 0
           },
           {
            "bin_end": 1.1,
            "bin_start": 1,
            "count": 5
           },
           {
            "bin_end": 1.2000000000000002,
            "bin_start": 1.1,
            "count": 0
           },
           {
            "bin_end": 1.3,
            "bin_start": 1.2000000000000002,
            "count": 0
           },
           {
            "bin_end": 1.4,
            "bin_start": 1.3,
            "count": 0
           },
           {
            "bin_end": 1.5,
            "bin_start": 1.4,
            "count": 0
           }
          ],
          "max": "1",
          "min": "1",
          "nan_count": 0,
          "unique_count": 1
         }
        },
        {
         "dtype": "uint8",
         "name": "title_Dr",
         "stats": {
          "histogram": [
           {
            "bin_end": -0.4,
            "bin_start": -0.5,
            "count": 0
           },
           {
            "bin_end": -0.3,
            "bin_start": -0.4,
            "count": 0
           },
           {
            "bin_end": -0.19999999999999996,
            "bin_start": -0.3,
            "count": 0
           },
           {
            "bin_end": -0.09999999999999998,
            "bin_start": -0.19999999999999996,
            "count": 0
           },
           {
            "bin_end": 0,
            "bin_start": -0.09999999999999998,
            "count": 0
           },
           {
            "bin_end": 0.10000000000000009,
            "bin_start": 0,
            "count": 5
           },
           {
            "bin_end": 0.20000000000000007,
            "bin_start": 0.10000000000000009,
            "count": 0
           },
           {
            "bin_end": 0.30000000000000004,
            "bin_start": 0.20000000000000007,
            "count": 0
           },
           {
            "bin_end": 0.4,
            "bin_start": 0.30000000000000004,
            "count": 0
           },
           {
            "bin_end": 0.5,
            "bin_start": 0.4,
            "count": 0
           }
          ],
          "max": "0",
          "min": "0",
          "nan_count": 0,
          "unique_count": 1
         }
        },
        {
         "dtype": "uint8",
         "name": "title_ELSE",
         "stats": {
          "histogram": [
           {
            "bin_end": -0.4,
            "bin_start": -0.5,
            "count": 0
           },
           {
            "bin_end": -0.3,
            "bin_start": -0.4,
            "count": 0
           },
           {
            "bin_end": -0.19999999999999996,
            "bin_start": -0.3,
            "count": 0
           },
           {
            "bin_end": -0.09999999999999998,
            "bin_start": -0.19999999999999996,
            "count": 0
           },
           {
            "bin_end": 0,
            "bin_start": -0.09999999999999998,
            "count": 0
           },
           {
            "bin_end": 0.10000000000000009,
            "bin_start": 0,
            "count": 5
           },
           {
            "bin_end": 0.20000000000000007,
            "bin_start": 0.10000000000000009,
            "count": 0
           },
           {
            "bin_end": 0.30000000000000004,
            "bin_start": 0.20000000000000007,
            "count": 0
           },
           {
            "bin_end": 0.4,
            "bin_start": 0.30000000000000004,
            "count": 0
           },
           {
            "bin_end": 0.5,
            "bin_start": 0.4,
            "count": 0
           }
          ],
          "max": "0",
          "min": "0",
          "nan_count": 0,
          "unique_count": 1
         }
        },
        {
         "dtype": "uint8",
         "name": "title_Master",
         "stats": {
          "histogram": [
           {
            "bin_end": -0.4,
            "bin_start": -0.5,
            "count": 0
           },
           {
            "bin_end": -0.3,
            "bin_start": -0.4,
            "count": 0
           },
           {
            "bin_end": -0.19999999999999996,
            "bin_start": -0.3,
            "count": 0
           },
           {
            "bin_end": -0.09999999999999998,
            "bin_start": -0.19999999999999996,
            "count": 0
           },
           {
            "bin_end": 0,
            "bin_start": -0.09999999999999998,
            "count": 0
           },
           {
            "bin_end": 0.10000000000000009,
            "bin_start": 0,
            "count": 5
           },
           {
            "bin_end": 0.20000000000000007,
            "bin_start": 0.10000000000000009,
            "count": 0
           },
           {
            "bin_end": 0.30000000000000004,
            "bin_start": 0.20000000000000007,
            "count": 0
           },
           {
            "bin_end": 0.4,
            "bin_start": 0.30000000000000004,
            "count": 0
           },
           {
            "bin_end": 0.5,
            "bin_start": 0.4,
            "count": 0
           }
          ],
          "max": "0",
          "min": "0",
          "nan_count": 0,
          "unique_count": 1
         }
        },
        {
         "dtype": "uint8",
         "name": "title_Miss",
         "stats": {
          "histogram": [
           {
            "bin_end": -0.4,
            "bin_start": -0.5,
            "count": 0
           },
           {
            "bin_end": -0.3,
            "bin_start": -0.4,
            "count": 0
           },
           {
            "bin_end": -0.19999999999999996,
            "bin_start": -0.3,
            "count": 0
           },
           {
            "bin_end": -0.09999999999999998,
            "bin_start": -0.19999999999999996,
            "count": 0
           },
           {
            "bin_end": 0,
            "bin_start": -0.09999999999999998,
            "count": 0
           },
           {
            "bin_end": 0.10000000000000009,
            "bin_start": 0,
            "count": 5
           },
           {
            "bin_end": 0.20000000000000007,
            "bin_start": 0.10000000000000009,
            "count": 0
           },
           {
            "bin_end": 0.30000000000000004,
            "bin_start": 0.20000000000000007,
            "count": 0
           },
           {
            "bin_end": 0.4,
            "bin_start": 0.30000000000000004,
            "count": 0
           },
           {
            "bin_end": 0.5,
            "bin_start": 0.4,
            "count": 0
           }
          ],
          "max": "0",
          "min": "0",
          "nan_count": 0,
          "unique_count": 1
         }
        },
        {
         "dtype": "uint8",
         "name": "title_Mr",
         "stats": {
          "histogram": [
           {
            "bin_end": 0.1,
            "bin_start": 0,
            "count": 2
           },
           {
            "bin_end": 0.2,
            "bin_start": 0.1,
            "count": 0
           },
           {
            "bin_end": 0.30000000000000004,
            "bin_start": 0.2,
            "count": 0
           },
           {
            "bin_end": 0.4,
            "bin_start": 0.30000000000000004,
            "count": 0
           },
           {
            "bin_end": 0.5,
            "bin_start": 0.4,
            "count": 0
           },
           {
            "bin_end": 0.6000000000000001,
            "bin_start": 0.5,
            "count": 0
           },
           {
            "bin_end": 0.7000000000000001,
            "bin_start": 0.6000000000000001,
            "count": 0
           },
           {
            "bin_end": 0.8,
            "bin_start": 0.7000000000000001,
            "count": 0
           },
           {
            "bin_end": 0.9,
            "bin_start": 0.8,
            "count": 0
           },
           {
            "bin_end": 1,
            "bin_start": 0.9,
            "count": 3
           }
          ],
          "max": "1",
          "min": "0",
          "nan_count": 0,
          "unique_count": 2
         }
        },
        {
         "dtype": "uint8",
         "name": "title_Mrs",
         "stats": {
          "histogram": [
           {
            "bin_end": 0.1,
            "bin_start": 0,
            "count": 3
           },
           {
            "bin_end": 0.2,
            "bin_start": 0.1,
            "count": 0
           },
           {
            "bin_end": 0.30000000000000004,
            "bin_start": 0.2,
            "count": 0
           },
           {
            "bin_end": 0.4,
            "bin_start": 0.30000000000000004,
            "count": 0
           },
           {
            "bin_end": 0.5,
            "bin_start": 0.4,
            "count": 0
           },
           {
            "bin_end": 0.6000000000000001,
            "bin_start": 0.5,
            "count": 0
           },
           {
            "bin_end": 0.7000000000000001,
            "bin_start": 0.6000000000000001,
            "count": 0
           },
           {
            "bin_end": 0.8,
            "bin_start": 0.7000000000000001,
            "count": 0
           },
           {
            "bin_end": 0.9,
            "bin_start": 0.8,
            "count": 0
           },
           {
            "bin_end": 1,
            "bin_start": 0.9,
            "count": 2
           }
          ],
          "max": "1",
          "min": "0",
          "nan_count": 0,
          "unique_count": 2
         }
        },
        {
         "dtype": "uint8",
         "name": "title_Rev",
         "stats": {
          "histogram": [
           {
            "bin_end": -0.4,
            "bin_start": -0.5,
            "count": 0
           },
           {
            "bin_end": -0.3,
            "bin_start": -0.4,
            "count": 0
           },
           {
            "bin_end": -0.19999999999999996,
            "bin_start": -0.3,
            "count": 0
           },
           {
            "bin_end": -0.09999999999999998,
            "bin_start": -0.19999999999999996,
            "count": 0
           },
           {
            "bin_end": 0,
            "bin_start": -0.09999999999999998,
            "count": 0
           },
           {
            "bin_end": 0.10000000000000009,
            "bin_start": 0,
            "count": 5
           },
           {
            "bin_end": 0.20000000000000007,
            "bin_start": 0.10000000000000009,
            "count": 0
           },
           {
            "bin_end": 0.30000000000000004,
            "bin_start": 0.20000000000000007,
            "count": 0
           },
           {
            "bin_end": 0.4,
            "bin_start": 0.30000000000000004,
            "count": 0
           },
           {
            "bin_end": 0.5,
            "bin_start": 0.4,
            "count": 0
           }
          ],
          "max": "0",
          "min": "0",
          "nan_count": 0,
          "unique_count": 1
         }
        },
        {
         "dtype": "int64",
         "name": "_deepnote_index_column"
        }
       ],
       "row_count": 5,
       "rows_bottom": null,
       "rows_top": [
        {
         "Age": 14,
         "Cabin": 4,
         "Cabin Num": 1,
         "Embarked": 1,
         "Family_size": 0,
         "Fare": 4,
         "Pclass": 3,
         "Sex": 1,
         "Survived": "nan",
         "Ticket": 2,
         "_deepnote_index_column": 0,
         "fold": "nan",
         "title_Dr": 0,
         "title_ELSE": 0,
         "title_Master": 0,
         "title_Miss": 0,
         "title_Mr": 1,
         "title_Mrs": 0,
         "title_Rev": 0
        },
        {
         "Age": 16,
         "Cabin": 4,
         "Cabin Num": 1,
         "Embarked": 2,
         "Family_size": 0,
         "Fare": 1,
         "Pclass": 3,
         "Sex": 0,
         "Survived": "nan",
         "Ticket": 2,
         "_deepnote_index_column": 1,
         "fold": "nan",
         "title_Dr": 0,
         "title_ELSE": 0,
         "title_Master": 0,
         "title_Miss": 0,
         "title_Mr": 0,
         "title_Mrs": 1,
         "title_Rev": 0
        },
        {
         "Age": 19,
         "Cabin": 4,
         "Cabin Num": 1,
         "Embarked": 1,
         "Family_size": 0,
         "Fare": 7,
         "Pclass": 2,
         "Sex": 1,
         "Survived": "nan",
         "Ticket": 2,
         "_deepnote_index_column": 2,
         "fold": "nan",
         "title_Dr": 0,
         "title_ELSE": 0,
         "title_Master": 0,
         "title_Miss": 0,
         "title_Mr": 1,
         "title_Mrs": 0,
         "title_Rev": 0
        },
        {
         "Age": 9,
         "Cabin": 4,
         "Cabin Num": 1,
         "Embarked": 2,
         "Family_size": 0,
         "Fare": 7,
         "Pclass": 3,
         "Sex": 1,
         "Survived": "nan",
         "Ticket": 2,
         "_deepnote_index_column": 3,
         "fold": "nan",
         "title_Dr": 0,
         "title_ELSE": 0,
         "title_Master": 0,
         "title_Miss": 0,
         "title_Mr": 1,
         "title_Mrs": 0,
         "title_Rev": 0
        },
        {
         "Age": 5,
         "Cabin": 4,
         "Cabin Num": 1,
         "Embarked": 2,
         "Family_size": 0,
         "Fare": 9,
         "Pclass": 3,
         "Sex": 0,
         "Survived": "nan",
         "Ticket": 2,
         "_deepnote_index_column": 4,
         "fold": "nan",
         "title_Dr": 0,
         "title_ELSE": 0,
         "title_Master": 0,
         "title_Miss": 0,
         "title_Mr": 0,
         "title_Mrs": 1,
         "title_Rev": 0
        }
       ]
      },
      "text/html": [
       "<div>\n",
       "<style scoped>\n",
       "    .dataframe tbody tr th:only-of-type {\n",
       "        vertical-align: middle;\n",
       "    }\n",
       "\n",
       "    .dataframe tbody tr th {\n",
       "        vertical-align: top;\n",
       "    }\n",
       "\n",
       "    .dataframe thead th {\n",
       "        text-align: right;\n",
       "    }\n",
       "</style>\n",
       "<table border=\"1\" class=\"dataframe\">\n",
       "  <thead>\n",
       "    <tr style=\"text-align: right;\">\n",
       "      <th></th>\n",
       "      <th>Survived</th>\n",
       "      <th>Pclass</th>\n",
       "      <th>Sex</th>\n",
       "      <th>Age</th>\n",
       "      <th>Ticket</th>\n",
       "      <th>Fare</th>\n",
       "      <th>Cabin</th>\n",
       "      <th>Embarked</th>\n",
       "      <th>fold</th>\n",
       "      <th>Family_size</th>\n",
       "      <th>Cabin Num</th>\n",
       "      <th>title_Dr</th>\n",
       "      <th>title_ELSE</th>\n",
       "      <th>title_Master</th>\n",
       "      <th>title_Miss</th>\n",
       "      <th>title_Mr</th>\n",
       "      <th>title_Mrs</th>\n",
       "      <th>title_Rev</th>\n",
       "    </tr>\n",
       "  </thead>\n",
       "  <tbody>\n",
       "    <tr>\n",
       "      <th>0</th>\n",
       "      <td>NaN</td>\n",
       "      <td>3</td>\n",
       "      <td>1</td>\n",
       "      <td>14</td>\n",
       "      <td>2</td>\n",
       "      <td>4</td>\n",
       "      <td>4</td>\n",
       "      <td>1</td>\n",
       "      <td>NaN</td>\n",
       "      <td>0.0</td>\n",
       "      <td>1</td>\n",
       "      <td>0</td>\n",
       "      <td>0</td>\n",
       "      <td>0</td>\n",
       "      <td>0</td>\n",
       "      <td>1</td>\n",
       "      <td>0</td>\n",
       "      <td>0</td>\n",
       "    </tr>\n",
       "    <tr>\n",
       "      <th>1</th>\n",
       "      <td>NaN</td>\n",
       "      <td>3</td>\n",
       "      <td>0</td>\n",
       "      <td>16</td>\n",
       "      <td>2</td>\n",
       "      <td>1</td>\n",
       "      <td>4</td>\n",
       "      <td>2</td>\n",
       "      <td>NaN</td>\n",
       "      <td>0.0</td>\n",
       "      <td>1</td>\n",
       "      <td>0</td>\n",
       "      <td>0</td>\n",
       "      <td>0</td>\n",
       "      <td>0</td>\n",
       "      <td>0</td>\n",
       "      <td>1</td>\n",
       "      <td>0</td>\n",
       "    </tr>\n",
       "    <tr>\n",
       "      <th>2</th>\n",
       "      <td>NaN</td>\n",
       "      <td>2</td>\n",
       "      <td>1</td>\n",
       "      <td>19</td>\n",
       "      <td>2</td>\n",
       "      <td>7</td>\n",
       "      <td>4</td>\n",
       "      <td>1</td>\n",
       "      <td>NaN</td>\n",
       "      <td>0.0</td>\n",
       "      <td>1</td>\n",
       "      <td>0</td>\n",
       "      <td>0</td>\n",
       "      <td>0</td>\n",
       "      <td>0</td>\n",
       "      <td>1</td>\n",
       "      <td>0</td>\n",
       "      <td>0</td>\n",
       "    </tr>\n",
       "    <tr>\n",
       "      <th>3</th>\n",
       "      <td>NaN</td>\n",
       "      <td>3</td>\n",
       "      <td>1</td>\n",
       "      <td>9</td>\n",
       "      <td>2</td>\n",
       "      <td>7</td>\n",
       "      <td>4</td>\n",
       "      <td>2</td>\n",
       "      <td>NaN</td>\n",
       "      <td>0.0</td>\n",
       "      <td>1</td>\n",
       "      <td>0</td>\n",
       "      <td>0</td>\n",
       "      <td>0</td>\n",
       "      <td>0</td>\n",
       "      <td>1</td>\n",
       "      <td>0</td>\n",
       "      <td>0</td>\n",
       "    </tr>\n",
       "    <tr>\n",
       "      <th>4</th>\n",
       "      <td>NaN</td>\n",
       "      <td>3</td>\n",
       "      <td>0</td>\n",
       "      <td>5</td>\n",
       "      <td>2</td>\n",
       "      <td>9</td>\n",
       "      <td>4</td>\n",
       "      <td>2</td>\n",
       "      <td>NaN</td>\n",
       "      <td>0.0</td>\n",
       "      <td>1</td>\n",
       "      <td>0</td>\n",
       "      <td>0</td>\n",
       "      <td>0</td>\n",
       "      <td>0</td>\n",
       "      <td>0</td>\n",
       "      <td>1</td>\n",
       "      <td>0</td>\n",
       "    </tr>\n",
       "  </tbody>\n",
       "</table>\n",
       "</div>"
      ],
      "text/plain": [
       "   Survived  Pclass  Sex  Age  Ticket  Fare  Cabin  Embarked  fold  \\\n",
       "0       NaN       3    1   14       2     4      4         1   NaN   \n",
       "1       NaN       3    0   16       2     1      4         2   NaN   \n",
       "2       NaN       2    1   19       2     7      4         1   NaN   \n",
       "3       NaN       3    1    9       2     7      4         2   NaN   \n",
       "4       NaN       3    0    5       2     9      4         2   NaN   \n",
       "\n",
       "   Family_size  Cabin Num  title_Dr  title_ELSE  title_Master  title_Miss  \\\n",
       "0          0.0          1         0           0             0           0   \n",
       "1          0.0          1         0           0             0           0   \n",
       "2          0.0          1         0           0             0           0   \n",
       "3          0.0          1         0           0             0           0   \n",
       "4          0.0          1         0           0             0           0   \n",
       "\n",
       "   title_Mr  title_Mrs  title_Rev  \n",
       "0         1          0          0  \n",
       "1         0          1          0  \n",
       "2         1          0          0  \n",
       "3         1          0          0  \n",
       "4         0          1          0  "
      ]
     },
     "execution_count": 49,
     "metadata": {},
     "output_type": "execute_result"
    }
   ],
   "source": [
    "test.head()"
   ]
  },
  {
   "cell_type": "markdown",
   "metadata": {
    "cell_id": "00046-4cc3cd41-69eb-46c3-9456-9b70df177ce9",
    "deepnote_cell_type": "markdown",
    "id": "BExlhHd_L8Lj"
   },
   "source": [
    "# Building Model"
   ]
  },
  {
   "cell_type": "markdown",
   "metadata": {
    "cell_id": "00047-c69f6fff-7072-4dc7-91c6-2d37f0cde1a5",
    "deepnote_cell_type": "markdown",
    "id": "FnXYmkbGL8Lj"
   },
   "source": [
    "## LGB"
   ]
  },
  {
   "cell_type": "code",
   "execution_count": null,
   "metadata": {
    "cell_id": "00048-dc93a15d-4b02-47da-8088-ba61702f3e3a",
    "deepnote_cell_type": "code",
    "deepnote_to_be_reexecuted": false,
    "execution_millis": 0,
    "execution_start": 1633265452406,
    "id": "BPb1yzNNL8Lj",
    "source_hash": "ea1d7fa6"
   },
   "outputs": [],
   "source": [
    "def optuna_lgb(n_trials=100):\n",
    "    \n",
    "    def objective(trial):\n",
    "\n",
    "        params = {\n",
    "            \"objective\": \"binary\",\n",
    "            \"metric\": \"binary_logloss\",\n",
    "            \"verbosity\": -1,\n",
    "            \"boosting_type\": \"gbdt\",\n",
    "            \"lambda_l1\": trial.suggest_float(\"lambda_l1\", 1e-5, 10, log=True),\n",
    "            \"lambda_l2\": trial.suggest_float(\"lambda_l2\", 1e-5, 10, log=True),\n",
    "            \"num_leaves\": trial.suggest_int(\"num_leaves\", 2, 62),\n",
    "            \"feature_fraction\": trial.suggest_float(\"feature_fraction\", 0.4, 0.9),\n",
    "            \"bagging_fraction\": trial.suggest_float(\"bagging_fraction\", 0.4, 0.9),\n",
    "            \"bagging_freq\": trial.suggest_int(\"bagging_freq\", 2, 9),\n",
    "            \"min_child_samples\": trial.suggest_int(\"min_child_samples\", 33, 93),\n",
    "            \"max_depth\": trial.suggest_int(\"max_depth\", 2, 7)\n",
    "        }\n",
    "\n",
    "        # initialize oof \n",
    "        oof_train = np.zeros((len(train),))\n",
    "\n",
    "        for i in range(5):\n",
    "            train_x = train.query(f'fold!={i}').drop(['fold', 'Survived'], axis=1)\n",
    "            train_y = train.query(f'fold!={i}').Survived\n",
    "\n",
    "            valid_x = train.query(f'fold=={i}').drop(['fold', 'Survived'], axis=1)\n",
    "            valid_y = train.query(f'fold=={i}').Survived\n",
    "            \n",
    "            lgb_train = lgb.Dataset(train_x,\n",
    "                                    train_y)\n",
    "\n",
    "            lgb_eval = lgb.Dataset(valid_x,\n",
    "                                   valid_y,\n",
    "                                   reference=lgb_train)\n",
    "\n",
    "            gbm = lgb.train(params,\n",
    "                            lgb_train,\n",
    "                            valid_sets=[lgb_train, lgb_eval],\n",
    "                            num_boost_round=5000,\n",
    "                            verbose_eval=-1, \n",
    "                            early_stopping_rounds=1000\n",
    "                            )\n",
    "            oof_preds = gbm.predict(valid_x, num_iteration=gbm.best_iteration)\n",
    "            oof_train[valid_x.index] = gbm.predict(valid_x,\n",
    "                                                   num_iteration=gbm.best_iteration)\n",
    "            \n",
    "            \n",
    "        return accuracy_score(train.Survived, oof_train.round())\n",
    "    \n",
    "    study = optuna.create_study(direction=\"maximize\")\n",
    "    study.optimize(objective, n_trials=n_trials)\n",
    "\n",
    "    print(\"Number of finished trials: {}\".format(len(study.trials)))\n",
    "\n",
    "    print(\"Best trial:\")\n",
    "    trial = study.best_trial\n",
    "\n",
    "    print(\"  Value: {}\".format(trial.value))\n",
    "\n",
    "    print(\"  Params: \")\n",
    "    for key, value in trial.params.items():\n",
    "        print(\"    {}: {}\".format(key, value))\n",
    "    \n",
    "    best_params = {\n",
    "        \"objective\": \"binary\",\n",
    "        \"metric\": \"binary_logloss\",\n",
    "        \"verbosity\": -1,\n",
    "        \"boosting_type\": \"gbdt\",\n",
    "    }\n",
    "    best_params.update(study.best_params)\n",
    "    ## save trained model\n",
    "    # initialize oof \n",
    "    oof_train = np.zeros((len(train),))\n",
    "    print('*'*50)\n",
    "    print('Exporting best models')\n",
    "    print('*' * 50)\n",
    "    # split folds using RSGKF\n",
    "    for i in range(5):\n",
    "        train_x = train.query(f'fold!={i}').drop(['fold', 'Survived'], axis=1)\n",
    "        train_y = train.query(f'fold!={i}').Survived\n",
    "\n",
    "        valid_x = train.query(f'fold=={i}').drop(['fold', 'Survived'], axis=1)\n",
    "        valid_y = train.query(f'fold=={i}').Survived\n",
    "\n",
    "        lgb_train = lgb.Dataset(train_x,\n",
    "                                train_y)\n",
    "\n",
    "        lgb_eval = lgb.Dataset(valid_x,\n",
    "                               valid_y,\n",
    "                               reference=lgb_train)\n",
    "\n",
    "        gbm = lgb.train(best_params,\n",
    "                        lgb_train,\n",
    "                        valid_sets=[lgb_train, lgb_eval],\n",
    "                        num_boost_round=50000,\n",
    "                        verbose_eval=-1, \n",
    "                        early_stopping_rounds=1001\n",
    "                        )\n",
    "\n",
    "        oof_preds = gbm.predict(valid_x, num_iteration=gbm.best_iteration)\n",
    "        oof_train[valid_x.index] = gbm.predict(valid_x, num_iteration=gbm.best_iteration)\n",
    "\n",
    "        joblib.dump(gbm, f'lgb_fold{i}.pkl')"
   ]
  },
  {
   "cell_type": "code",
   "execution_count": null,
   "metadata": {
    "cell_id": "00049-e59799fb-b5bb-40c7-a781-5a1119703415",
    "deepnote_cell_type": "code",
    "deepnote_to_be_reexecuted": false,
    "execution_millis": 872568,
    "execution_start": 1633265526047,
    "id": "XXtPZ3g0L8Lj",
    "outputId": "ef032a4e-65da-4185-aafd-ec1e780c9cf2",
    "source_hash": "cdd14bd2"
   },
   "outputs": [
    {
     "name": "stderr",
     "output_type": "stream",
     "text": [
      "Early stopping, best iteration is:\n",
      "[127]\ttraining's binary_logloss: 0.361735\tvalid_1's binary_logloss: 0.455804\n",
      "Training until validation scores don't improve for 1000 rounds\n",
      "Early stopping, best iteration is:\n",
      "[649]\ttraining's binary_logloss: 0.312182\tvalid_1's binary_logloss: 0.397094\n",
      "Training until validation scores don't improve for 1000 rounds\n",
      "\u001b[32m[I 2021-10-03 12:58:29,789]\u001b[0m Trial 39 finished with value: 0.8316498316498316 and parameters: {'lambda_l1': 0.0001895787116162189, 'lambda_l2': 0.008932702538828505, 'num_leaves': 43, 'feature_fraction': 0.6987224163891123, 'bagging_fraction': 0.67945154902962, 'bagging_freq': 5, 'min_child_samples': 67, 'max_depth': 6}. Best is trial 4 with value: 0.8372615039281706.\u001b[0m\n",
      "Early stopping, best iteration is:\n",
      "[1401]\ttraining's binary_logloss: 0.276952\tvalid_1's binary_logloss: 0.369364\n",
      "Training until validation scores don't improve for 1000 rounds\n",
      "Early stopping, best iteration is:\n",
      "[962]\ttraining's binary_logloss: 0.358434\tvalid_1's binary_logloss: 0.401693\n",
      "Training until validation scores don't improve for 1000 rounds\n",
      "Early stopping, best iteration is:\n",
      "[825]\ttraining's binary_logloss: 0.362968\tvalid_1's binary_logloss: 0.386262\n",
      "Training until validation scores don't improve for 1000 rounds\n",
      "Early stopping, best iteration is:\n",
      "[189]\ttraining's binary_logloss: 0.383841\tvalid_1's binary_logloss: 0.466955\n",
      "Training until validation scores don't improve for 1000 rounds\n",
      "Early stopping, best iteration is:\n",
      "[1232]\ttraining's binary_logloss: 0.343538\tvalid_1's binary_logloss: 0.421971\n",
      "Training until validation scores don't improve for 1000 rounds\n",
      "\u001b[32m[I 2021-10-03 12:58:38,184]\u001b[0m Trial 40 finished with value: 0.8372615039281706 and parameters: {'lambda_l1': 0.11676562732929953, 'lambda_l2': 0.0007262834266034789, 'num_leaves': 37, 'feature_fraction': 0.4412226318311072, 'bagging_fraction': 0.6241693376581987, 'bagging_freq': 7, 'min_child_samples': 79, 'max_depth': 4}. Best is trial 4 with value: 0.8372615039281706.\u001b[0m\n",
      "Early stopping, best iteration is:\n",
      "[1951]\ttraining's binary_logloss: 0.33307\tvalid_1's binary_logloss: 0.392993\n",
      "Training until validation scores don't improve for 1000 rounds\n",
      "Early stopping, best iteration is:\n",
      "[959]\ttraining's binary_logloss: 0.366316\tvalid_1's binary_logloss: 0.403848\n",
      "Training until validation scores don't improve for 1000 rounds\n",
      "Early stopping, best iteration is:\n",
      "[573]\ttraining's binary_logloss: 0.379165\tvalid_1's binary_logloss: 0.386777\n",
      "Training until validation scores don't improve for 1000 rounds\n",
      "Early stopping, best iteration is:\n",
      "[189]\ttraining's binary_logloss: 0.3875\tvalid_1's binary_logloss: 0.467318\n",
      "Training until validation scores don't improve for 1000 rounds\n",
      "Early stopping, best iteration is:\n",
      "[1224]\ttraining's binary_logloss: 0.352675\tvalid_1's binary_logloss: 0.417508\n",
      "Training until validation scores don't improve for 1000 rounds\n",
      "\u001b[32m[I 2021-10-03 12:58:47,902]\u001b[0m Trial 41 finished with value: 0.8327721661054994 and parameters: {'lambda_l1': 0.3495937613664371, 'lambda_l2': 0.000755491623711984, 'num_leaves': 36, 'feature_fraction': 0.42915234039852707, 'bagging_fraction': 0.6069864701999759, 'bagging_freq': 7, 'min_child_samples': 80, 'max_depth': 4}. Best is trial 4 with value: 0.8372615039281706.\u001b[0m\n",
      "Early stopping, best iteration is:\n",
      "[1463]\ttraining's binary_logloss: 0.351432\tvalid_1's binary_logloss: 0.398795\n",
      "Training until validation scores don't improve for 1000 rounds\n",
      "Early stopping, best iteration is:\n",
      "[1688]\ttraining's binary_logloss: 0.321491\tvalid_1's binary_logloss: 0.40054\n",
      "Training until validation scores don't improve for 1000 rounds\n",
      "Early stopping, best iteration is:\n",
      "[1785]\ttraining's binary_logloss: 0.309391\tvalid_1's binary_logloss: 0.388404\n",
      "Training until validation scores don't improve for 1000 rounds\n",
      "Early stopping, best iteration is:\n",
      "[61]\ttraining's binary_logloss: 0.400439\tvalid_1's binary_logloss: 0.471111\n",
      "Training until validation scores don't improve for 1000 rounds\n",
      "Early stopping, best iteration is:\n",
      "[1458]\ttraining's binary_logloss: 0.316952\tvalid_1's binary_logloss: 0.409759\n",
      "Training until validation scores don't improve for 1000 rounds\n",
      "Early stopping, best iteration is:\n",
      "[2816]\ttraining's binary_logloss: 0.294011\tvalid_1's binary_logloss: 0.382484\n",
      "\u001b[32m[I 2021-10-03 12:58:58,672]\u001b[0m Trial 42 finished with value: 0.8305274971941639 and parameters: {'lambda_l1': 0.13727496639380146, 'lambda_l2': 0.0020123609076505592, 'num_leaves': 32, 'feature_fraction': 0.5718244238449409, 'bagging_fraction': 0.6383216252957588, 'bagging_freq': 8, 'min_child_samples': 75, 'max_depth': 5}. Best is trial 4 with value: 0.8372615039281706.\u001b[0m\n",
      "Training until validation scores don't improve for 1000 rounds\n",
      "Early stopping, best iteration is:\n",
      "[1490]\ttraining's binary_logloss: 0.323253\tvalid_1's binary_logloss: 0.396593\n",
      "Training until validation scores don't improve for 1000 rounds\n",
      "Early stopping, best iteration is:\n",
      "[574]\ttraining's binary_logloss: 0.35872\tvalid_1's binary_logloss: 0.387895\n",
      "Training until validation scores don't improve for 1000 rounds\n",
      "Early stopping, best iteration is:\n",
      "[35]\ttraining's binary_logloss: 0.41993\tvalid_1's binary_logloss: 0.467468\n",
      "Training until validation scores don't improve for 1000 rounds\n",
      "Early stopping, best iteration is:\n",
      "[369]\ttraining's binary_logloss: 0.368286\tvalid_1's binary_logloss: 0.411922\n",
      "Training until validation scores don't improve for 1000 rounds\n",
      "Early stopping, best iteration is:\n",
      "[1956]\ttraining's binary_logloss: 0.305305\tvalid_1's binary_logloss: 0.385368\n",
      "\u001b[32m[I 2021-10-03 12:59:07,178]\u001b[0m Trial 43 finished with value: 0.8271604938271605 and parameters: {'lambda_l1': 0.05225428266808531, 'lambda_l2': 5.907447644706161e-05, 'num_leaves': 58, 'feature_fraction': 0.44578972732051053, 'bagging_fraction': 0.7192448305924121, 'bagging_freq': 7, 'min_child_samples': 80, 'max_depth': 4}. Best is trial 4 with value: 0.8372615039281706.\u001b[0m\n",
      "Training until validation scores don't improve for 1000 rounds\n",
      "Early stopping, best iteration is:\n",
      "[1512]\ttraining's binary_logloss: 0.375335\tvalid_1's binary_logloss: 0.405924\n",
      "Training until validation scores don't improve for 1000 rounds\n",
      "Early stopping, best iteration is:\n",
      "[1778]\ttraining's binary_logloss: 0.370261\tvalid_1's binary_logloss: 0.393409\n",
      "Training until validation scores don't improve for 1000 rounds\n",
      "Early stopping, best iteration is:\n",
      "[168]\ttraining's binary_logloss: 0.396209\tvalid_1's binary_logloss: 0.468239\n",
      "Training until validation scores don't improve for 1000 rounds\n",
      "Early stopping, best iteration is:\n",
      "[458]\ttraining's binary_logloss: 0.396066\tvalid_1's binary_logloss: 0.438216\n",
      "Training until validation scores don't improve for 1000 rounds\n",
      "\u001b[32m[I 2021-10-03 12:59:16,782]\u001b[0m Trial 44 finished with value: 0.8271604938271605 and parameters: {'lambda_l1': 2.055956901779395, 'lambda_l2': 0.000376164846039253, 'num_leaves': 38, 'feature_fraction': 0.4944829348806102, 'bagging_fraction': 0.684842254625431, 'bagging_freq': 6, 'min_child_samples': 85, 'max_depth': 3}. Best is trial 4 with value: 0.8372615039281706.\u001b[0m\n",
      "Early stopping, best iteration is:\n",
      "[436]\ttraining's binary_logloss: 0.395272\tvalid_1's binary_logloss: 0.410482\n",
      "Training until validation scores don't improve for 1000 rounds\n",
      "Early stopping, best iteration is:\n",
      "[967]\ttraining's binary_logloss: 0.34202\tvalid_1's binary_logloss: 0.397649\n",
      "Training until validation scores don't improve for 1000 rounds\n",
      "Early stopping, best iteration is:\n",
      "[1359]\ttraining's binary_logloss: 0.324619\tvalid_1's binary_logloss: 0.386443\n",
      "Training until validation scores don't improve for 1000 rounds\n",
      "Early stopping, best iteration is:\n",
      "[189]\ttraining's binary_logloss: 0.373966\tvalid_1's binary_logloss: 0.470355\n",
      "Training until validation scores don't improve for 1000 rounds\n",
      "Early stopping, best iteration is:\n",
      "[673]\ttraining's binary_logloss: 0.346956\tvalid_1's binary_logloss: 0.416449\n",
      "Training until validation scores don't improve for 1000 rounds\n",
      "Early stopping, best iteration is:\n",
      "[2464]\ttraining's binary_logloss: 0.302366\tvalid_1's binary_logloss: 0.384303\n",
      "\u001b[32m[I 2021-10-03 12:59:27,100]\u001b[0m Trial 45 finished with value: 0.8327721661054994 and parameters: {'lambda_l1': 0.013057785727222583, 'lambda_l2': 0.07104873492739, 'num_leaves': 41, 'feature_fraction': 0.5857658594650356, 'bagging_fraction': 0.6357477270018214, 'bagging_freq': 7, 'min_child_samples': 77, 'max_depth': 4}. Best is trial 4 with value: 0.8372615039281706.\u001b[0m\n",
      "Training until validation scores don't improve for 1000 rounds\n",
      "Early stopping, best iteration is:\n",
      "[298]\ttraining's binary_logloss: 0.412819\tvalid_1's binary_logloss: 0.422105\n",
      "Training until validation scores don't improve for 1000 rounds\n",
      "Early stopping, best iteration is:\n",
      "[774]\ttraining's binary_logloss: 0.408448\tvalid_1's binary_logloss: 0.410414\n",
      "Training until validation scores don't improve for 1000 rounds\n",
      "Early stopping, best iteration is:\n",
      "[84]\ttraining's binary_logloss: 0.415447\tvalid_1's binary_logloss: 0.469399\n",
      "Training until validation scores don't improve for 1000 rounds\n",
      "Early stopping, best iteration is:\n",
      "[92]\ttraining's binary_logloss: 0.42472\tvalid_1's binary_logloss: 0.443226\n",
      "Training until validation scores don't improve for 1000 rounds\n",
      "\u001b[32m[I 2021-10-03 12:59:30,896]\u001b[0m Trial 46 finished with value: 0.8047138047138047 and parameters: {'lambda_l1': 5.422640550723467, 'lambda_l2': 8.330968902422874e-05, 'num_leaves': 19, 'feature_fraction': 0.6050878217252581, 'bagging_fraction': 0.7809560163976013, 'bagging_freq': 6, 'min_child_samples': 89, 'max_depth': 5}. Best is trial 4 with value: 0.8372615039281706.\u001b[0m\n",
      "Early stopping, best iteration is:\n",
      "[556]\ttraining's binary_logloss: 0.412247\tvalid_1's binary_logloss: 0.413468\n",
      "Training until validation scores don't improve for 1000 rounds\n",
      "Early stopping, best iteration is:\n",
      "[269]\ttraining's binary_logloss: 0.351085\tvalid_1's binary_logloss: 0.38467\n",
      "Training until validation scores don't improve for 1000 rounds\n",
      "Early stopping, best iteration is:\n",
      "[225]\ttraining's binary_logloss: 0.354198\tvalid_1's binary_logloss: 0.388764\n",
      "Training until validation scores don't improve for 1000 rounds\n",
      "Early stopping, best iteration is:\n",
      "[127]\ttraining's binary_logloss: 0.358882\tvalid_1's binary_logloss: 0.457337\n",
      "Training until validation scores don't improve for 1000 rounds\n",
      "Early stopping, best iteration is:\n",
      "[65]\ttraining's binary_logloss: 0.385931\tvalid_1's binary_logloss: 0.407511\n",
      "Training until validation scores don't improve for 1000 rounds\n",
      "\u001b[32m[I 2021-10-03 12:59:36,190]\u001b[0m Trial 47 finished with value: 0.8395061728395061 and parameters: {'lambda_l1': 0.90884368108893, 'lambda_l2': 2.3852644340613774e-05, 'num_leaves': 51, 'feature_fraction': 0.7709084219532263, 'bagging_fraction': 0.5900896651956206, 'bagging_freq': 9, 'min_child_samples': 36, 'max_depth': 3}. Best is trial 47 with value: 0.8395061728395061.\u001b[0m\n",
      "Early stopping, best iteration is:\n",
      "[1016]\ttraining's binary_logloss: 0.293749\tvalid_1's binary_logloss: 0.380254\n",
      "Training until validation scores don't improve for 1000 rounds\n",
      "Early stopping, best iteration is:\n",
      "[157]\ttraining's binary_logloss: 0.376251\tvalid_1's binary_logloss: 0.393542\n",
      "Training until validation scores don't improve for 1000 rounds\n",
      "Early stopping, best iteration is:\n",
      "[626]\ttraining's binary_logloss: 0.33872\tvalid_1's binary_logloss: 0.386491\n",
      "Training until validation scores don't improve for 1000 rounds\n",
      "Early stopping, best iteration is:\n",
      "[113]\ttraining's binary_logloss: 0.373611\tvalid_1's binary_logloss: 0.455492\n",
      "Training until validation scores don't improve for 1000 rounds\n",
      "Early stopping, best iteration is:\n",
      "[68]\ttraining's binary_logloss: 0.392736\tvalid_1's binary_logloss: 0.410411\n",
      "Training until validation scores don't improve for 1000 rounds\n",
      "\u001b[32m[I 2021-10-03 12:59:40,889]\u001b[0m Trial 48 finished with value: 0.8305274971941639 and parameters: {'lambda_l1': 0.0058067827421056945, 'lambda_l2': 2.216915252475604e-05, 'num_leaves': 56, 'feature_fraction': 0.7658490480566136, 'bagging_fraction': 0.5896871645931759, 'bagging_freq': 8, 'min_child_samples': 36, 'max_depth': 2}. Best is trial 47 with value: 0.8395061728395061.\u001b[0m\n",
      "Early stopping, best iteration is:\n",
      "[882]\ttraining's binary_logloss: 0.326405\tvalid_1's binary_logloss: 0.39896\n",
      "Training until validation scores don't improve for 1000 rounds\n",
      "Early stopping, best iteration is:\n",
      "[429]\ttraining's binary_logloss: 0.342169\tvalid_1's binary_logloss: 0.40456\n",
      "Training until validation scores don't improve for 1000 rounds\n",
      "Early stopping, best iteration is:\n",
      "[182]\ttraining's binary_logloss: 0.373569\tvalid_1's binary_logloss: 0.390333\n",
      "Training until validation scores don't improve for 1000 rounds\n",
      "Early stopping, best iteration is:\n",
      "[227]\ttraining's binary_logloss: 0.343586\tvalid_1's binary_logloss: 0.449367\n",
      "Training until validation scores don't improve for 1000 rounds\n",
      "Early stopping, best iteration is:\n",
      "[216]\ttraining's binary_logloss: 0.361289\tvalid_1's binary_logloss: 0.409134\n",
      "Training until validation scores don't improve for 1000 rounds\n",
      "\u001b[32m[I 2021-10-03 12:59:46,680]\u001b[0m Trial 49 finished with value: 0.8428731762065096 and parameters: {'lambda_l1': 0.10422682449695764, 'lambda_l2': 1.350200609861455e-05, 'num_leaves': 47, 'feature_fraction': 0.8664710509689142, 'bagging_fraction': 0.4035087096504778, 'bagging_freq': 9, 'min_child_samples': 39, 'max_depth': 3}. Best is trial 49 with value: 0.8428731762065096.\u001b[0m\n",
      "Early stopping, best iteration is:\n",
      "[1693]\ttraining's binary_logloss: 0.293383\tvalid_1's binary_logloss: 0.378401\n",
      "Training until validation scores don't improve for 1000 rounds\n",
      "Early stopping, best iteration is:\n",
      "[712]\ttraining's binary_logloss: 0.323711\tvalid_1's binary_logloss: 0.405857\n",
      "Training until validation scores don't improve for 1000 rounds\n",
      "Early stopping, best iteration is:\n",
      "[716]\ttraining's binary_logloss: 0.326527\tvalid_1's binary_logloss: 0.395098\n",
      "Training until validation scores don't improve for 1000 rounds\n",
      "Early stopping, best iteration is:\n",
      "[225]\ttraining's binary_logloss: 0.344399\tvalid_1's binary_logloss: 0.454176\n",
      "Training until validation scores don't improve for 1000 rounds\n",
      "Early stopping, best iteration is:\n",
      "[431]\ttraining's binary_logloss: 0.342525\tvalid_1's binary_logloss: 0.400165\n",
      "Training until validation scores don't improve for 1000 rounds\n",
      "\u001b[32m[I 2021-10-03 12:59:55,096]\u001b[0m Trial 50 finished with value: 0.8249158249158249 and parameters: {'lambda_l1': 0.029075373312301592, 'lambda_l2': 1.1550034346305906e-05, 'num_leaves': 48, 'feature_fraction': 0.872836287986517, 'bagging_fraction': 0.41029906772762154, 'bagging_freq': 9, 'min_child_samples': 38, 'max_depth': 3}. Best is trial 49 with value: 0.8428731762065096.\u001b[0m\n",
      "Early stopping, best iteration is:\n",
      "[567]\ttraining's binary_logloss: 0.332497\tvalid_1's binary_logloss: 0.392414\n",
      "Training until validation scores don't improve for 1000 rounds\n",
      "Early stopping, best iteration is:\n",
      "[207]\ttraining's binary_logloss: 0.362056\tvalid_1's binary_logloss: 0.382688\n",
      "Training until validation scores don't improve for 1000 rounds\n",
      "Early stopping, best iteration is:\n",
      "[684]\ttraining's binary_logloss: 0.322422\tvalid_1's binary_logloss: 0.380956\n",
      "Training until validation scores don't improve for 1000 rounds\n",
      "Early stopping, best iteration is:\n",
      "[228]\ttraining's binary_logloss: 0.343057\tvalid_1's binary_logloss: 0.455817\n",
      "Training until validation scores don't improve for 1000 rounds\n",
      "Early stopping, best iteration is:\n",
      "[862]\ttraining's binary_logloss: 0.304171\tvalid_1's binary_logloss: 0.38577\n",
      "Training until validation scores don't improve for 1000 rounds\n",
      "\u001b[32m[I 2021-10-03 13:00:01,072]\u001b[0m Trial 51 finished with value: 0.8406285072951739 and parameters: {'lambda_l1': 0.09443622683319598, 'lambda_l2': 3.206989883356852e-05, 'num_leaves': 53, 'feature_fraction': 0.8522978204928431, 'bagging_fraction': 0.4651973829016188, 'bagging_freq': 9, 'min_child_samples': 41, 'max_depth': 3}. Best is trial 49 with value: 0.8428731762065096.\u001b[0m\n",
      "Early stopping, best iteration is:\n",
      "[936]\ttraining's binary_logloss: 0.306552\tvalid_1's binary_logloss: 0.373294\n",
      "Training until validation scores don't improve for 1000 rounds\n",
      "Early stopping, best iteration is:\n",
      "[389]\ttraining's binary_logloss: 0.347853\tvalid_1's binary_logloss: 0.385649\n",
      "Training until validation scores don't improve for 1000 rounds\n",
      "Early stopping, best iteration is:\n",
      "[179]\ttraining's binary_logloss: 0.37303\tvalid_1's binary_logloss: 0.38162\n",
      "Training until validation scores don't improve for 1000 rounds\n",
      "Early stopping, best iteration is:\n",
      "[69]\ttraining's binary_logloss: 0.382755\tvalid_1's binary_logloss: 0.459406\n",
      "Training until validation scores don't improve for 1000 rounds\n",
      "Early stopping, best iteration is:\n",
      "[541]\ttraining's binary_logloss: 0.328436\tvalid_1's binary_logloss: 0.393452\n",
      "Training until validation scores don't improve for 1000 rounds\n",
      "\u001b[32m[I 2021-10-03 13:00:06,578]\u001b[0m Trial 52 finished with value: 0.8361391694725028 and parameters: {'lambda_l1': 0.09403382487664998, 'lambda_l2': 2.84986761279113e-05, 'num_leaves': 52, 'feature_fraction': 0.8539720807534793, 'bagging_fraction': 0.45005755653179025, 'bagging_freq': 9, 'min_child_samples': 43, 'max_depth': 3}. Best is trial 49 with value: 0.8428731762065096.\u001b[0m\n",
      "Early stopping, best iteration is:\n",
      "[936]\ttraining's binary_logloss: 0.317795\tvalid_1's binary_logloss: 0.385514\n",
      "Training until validation scores don't improve for 1000 rounds\n",
      "Early stopping, best iteration is:\n",
      "[1367]\ttraining's binary_logloss: 0.334149\tvalid_1's binary_logloss: 0.389346\n",
      "Training until validation scores don't improve for 1000 rounds\n",
      "Early stopping, best iteration is:\n",
      "[872]\ttraining's binary_logloss: 0.345538\tvalid_1's binary_logloss: 0.387904\n",
      "Training until validation scores don't improve for 1000 rounds\n",
      "Early stopping, best iteration is:\n",
      "[226]\ttraining's binary_logloss: 0.362541\tvalid_1's binary_logloss: 0.456636\n",
      "Training until validation scores don't improve for 1000 rounds\n",
      "Early stopping, best iteration is:\n",
      "[480]\ttraining's binary_logloss: 0.350829\tvalid_1's binary_logloss: 0.40288\n",
      "Training until validation scores don't improve for 1000 rounds\n",
      "\u001b[32m[I 2021-10-03 13:00:13,184]\u001b[0m Trial 53 finished with value: 0.8338945005611672 and parameters: {'lambda_l1': 0.0949586881158178, 'lambda_l2': 1.8067285433841393e-05, 'num_leaves': 50, 'feature_fraction': 0.850716162436151, 'bagging_fraction': 0.4701185709959588, 'bagging_freq': 9, 'min_child_samples': 41, 'max_depth': 2}. Best is trial 49 with value: 0.8428731762065096.\u001b[0m\n",
      "Early stopping, best iteration is:\n",
      "[1690]\ttraining's binary_logloss: 0.324863\tvalid_1's binary_logloss: 0.380473\n",
      "Training until validation scores don't improve for 1000 rounds\n",
      "Early stopping, best iteration is:\n",
      "[664]\ttraining's binary_logloss: 0.338646\tvalid_1's binary_logloss: 0.394694\n",
      "Training until validation scores don't improve for 1000 rounds\n",
      "Early stopping, best iteration is:\n",
      "[831]\ttraining's binary_logloss: 0.335314\tvalid_1's binary_logloss: 0.391007\n",
      "Training until validation scores don't improve for 1000 rounds\n",
      "Early stopping, best iteration is:\n",
      "[202]\ttraining's binary_logloss: 0.359631\tvalid_1's binary_logloss: 0.454744\n",
      "Training until validation scores don't improve for 1000 rounds\n",
      "Early stopping, best iteration is:\n",
      "[2504]\ttraining's binary_logloss: 0.281438\tvalid_1's binary_logloss: 0.410005\n",
      "Training until validation scores don't improve for 1000 rounds\n",
      "\u001b[32m[I 2021-10-03 13:00:21,774]\u001b[0m Trial 54 finished with value: 0.835016835016835 and parameters: {'lambda_l1': 0.19053522539941087, 'lambda_l2': 3.4231277847456805e-05, 'num_leaves': 60, 'feature_fraction': 0.7974771355405236, 'bagging_fraction': 0.41267239428699715, 'bagging_freq': 8, 'min_child_samples': 47, 'max_depth': 3}. Best is trial 49 with value: 0.8428731762065096.\u001b[0m\n",
      "Early stopping, best iteration is:\n",
      "[1048]\ttraining's binary_logloss: 0.326385\tvalid_1's binary_logloss: 0.393187\n",
      "Training until validation scores don't improve for 1000 rounds\n",
      "Early stopping, best iteration is:\n",
      "[711]\ttraining's binary_logloss: 0.313434\tvalid_1's binary_logloss: 0.380636\n",
      "Training until validation scores don't improve for 1000 rounds\n",
      "Early stopping, best iteration is:\n",
      "[219]\ttraining's binary_logloss: 0.362317\tvalid_1's binary_logloss: 0.385643\n",
      "Training until validation scores don't improve for 1000 rounds\n",
      "Early stopping, best iteration is:\n",
      "[243]\ttraining's binary_logloss: 0.332735\tvalid_1's binary_logloss: 0.456458\n",
      "Training until validation scores don't improve for 1000 rounds\n",
      "Early stopping, best iteration is:\n",
      "[120]\ttraining's binary_logloss: 0.367717\tvalid_1's binary_logloss: 0.405445\n",
      "Training until validation scores don't improve for 1000 rounds\n",
      "\u001b[32m[I 2021-10-03 13:00:27,400]\u001b[0m Trial 55 finished with value: 0.8226711560044894 and parameters: {'lambda_l1': 0.05287215606306147, 'lambda_l2': 0.00016847144204913352, 'num_leaves': 47, 'feature_fraction': 0.7675580164562208, 'bagging_fraction': 0.44097988925232545, 'bagging_freq': 9, 'min_child_samples': 34, 'max_depth': 3}. Best is trial 49 with value: 0.8428731762065096.\u001b[0m\n",
      "Early stopping, best iteration is:\n",
      "[990]\ttraining's binary_logloss: 0.2927\tvalid_1's binary_logloss: 0.393337\n",
      "Training until validation scores don't improve for 1000 rounds\n",
      "Early stopping, best iteration is:\n",
      "[387]\ttraining's binary_logloss: 0.375791\tvalid_1's binary_logloss: 0.393535\n",
      "Training until validation scores don't improve for 1000 rounds\n",
      "Early stopping, best iteration is:\n",
      "[1740]\ttraining's binary_logloss: 0.331742\tvalid_1's binary_logloss: 0.377426\n",
      "Training until validation scores don't improve for 1000 rounds\n",
      "Early stopping, best iteration is:\n",
      "[68]\ttraining's binary_logloss: 0.395506\tvalid_1's binary_logloss: 0.462833\n",
      "Training until validation scores don't improve for 1000 rounds\n",
      "Early stopping, best iteration is:\n",
      "[430]\ttraining's binary_logloss: 0.364601\tvalid_1's binary_logloss: 0.401044\n",
      "Training until validation scores don't improve for 1000 rounds\n",
      "Early stopping, best iteration is:\n",
      "[1690]\ttraining's binary_logloss: 0.340683\tvalid_1's binary_logloss: 0.384559\n",
      "\u001b[32m[I 2021-10-03 13:00:42,636]\u001b[0m Trial 56 finished with value: 0.8406285072951739 and parameters: {'lambda_l1': 0.5619281015157288, 'lambda_l2': 0.2825466288353703, 'num_leaves': 52, 'feature_fraction': 0.839598848431738, 'bagging_fraction': 0.446074309126283, 'bagging_freq': 9, 'min_child_samples': 44, 'max_depth': 2}. Best is trial 49 with value: 0.8428731762065096.\u001b[0m\n",
      "Training until validation scores don't improve for 1000 rounds\n",
      "Early stopping, best iteration is:\n",
      "[530]\ttraining's binary_logloss: 0.3558\tvalid_1's binary_logloss: 0.391887\n",
      "Training until validation scores don't improve for 1000 rounds\n",
      "Early stopping, best iteration is:\n",
      "[702]\ttraining's binary_logloss: 0.350763\tvalid_1's binary_logloss: 0.39323\n",
      "Training until validation scores don't improve for 1000 rounds\n",
      "Early stopping, best iteration is:\n",
      "[131]\ttraining's binary_logloss: 0.368939\tvalid_1's binary_logloss: 0.454493\n",
      "Training until validation scores don't improve for 1000 rounds\n",
      "Early stopping, best iteration is:\n",
      "[117]\ttraining's binary_logloss: 0.386084\tvalid_1's binary_logloss: 0.411091\n",
      "Training until validation scores don't improve for 1000 rounds\n",
      "\u001b[32m[I 2021-10-03 13:00:48,586]\u001b[0m Trial 57 finished with value: 0.8294051627384961 and parameters: {'lambda_l1': 0.457286647328654, 'lambda_l2': 0.6228580813007882, 'num_leaves': 55, 'feature_fraction': 0.8863679113157388, 'bagging_fraction': 0.5044645050354825, 'bagging_freq': 9, 'min_child_samples': 38, 'max_depth': 2}. Best is trial 49 with value: 0.8428731762065096.\u001b[0m\n",
      "Early stopping, best iteration is:\n",
      "[1003]\ttraining's binary_logloss: 0.337671\tvalid_1's binary_logloss: 0.38812\n",
      "Training until validation scores don't improve for 1000 rounds\n",
      "Early stopping, best iteration is:\n",
      "[1827]\ttraining's binary_logloss: 0.348036\tvalid_1's binary_logloss: 0.384914\n",
      "Training until validation scores don't improve for 1000 rounds\n",
      "Early stopping, best iteration is:\n",
      "[2589]\ttraining's binary_logloss: 0.329355\tvalid_1's binary_logloss: 0.381021\n",
      "Training until validation scores don't improve for 1000 rounds\n",
      "Early stopping, best iteration is:\n",
      "[226]\ttraining's binary_logloss: 0.378846\tvalid_1's binary_logloss: 0.467199\n",
      "Training until validation scores don't improve for 1000 rounds\n",
      "Early stopping, best iteration is:\n",
      "[1628]\ttraining's binary_logloss: 0.343898\tvalid_1's binary_logloss: 0.403218\n",
      "Training until validation scores don't improve for 1000 rounds\n",
      "\u001b[32m[I 2021-10-03 13:00:57,575]\u001b[0m Trial 58 finished with value: 0.8327721661054994 and parameters: {'lambda_l1': 7.859514738199818e-05, 'lambda_l2': 8.374609696368564, 'num_leaves': 45, 'feature_fraction': 0.8329334681308793, 'bagging_fraction': 0.4316972081632475, 'bagging_freq': 9, 'min_child_samples': 45, 'max_depth': 2}. Best is trial 49 with value: 0.8428731762065096.\u001b[0m\n",
      "Early stopping, best iteration is:\n",
      "[1693]\ttraining's binary_logloss: 0.350913\tvalid_1's binary_logloss: 0.391583\n",
      "Training until validation scores don't improve for 1000 rounds\n",
      "Early stopping, best iteration is:\n",
      "[472]\ttraining's binary_logloss: 0.354797\tvalid_1's binary_logloss: 0.385653\n",
      "Training until validation scores don't improve for 1000 rounds\n",
      "Early stopping, best iteration is:\n",
      "[845]\ttraining's binary_logloss: 0.339863\tvalid_1's binary_logloss: 0.39415\n",
      "Training until validation scores don't improve for 1000 rounds\n",
      "Early stopping, best iteration is:\n",
      "[114]\ttraining's binary_logloss: 0.372504\tvalid_1's binary_logloss: 0.454928\n",
      "Training until validation scores don't improve for 1000 rounds\n",
      "Early stopping, best iteration is:\n",
      "[103]\ttraining's binary_logloss: 0.386687\tvalid_1's binary_logloss: 0.409112\n",
      "Training until validation scores don't improve for 1000 rounds\n",
      "\u001b[32m[I 2021-10-03 13:01:05,496]\u001b[0m Trial 59 finished with value: 0.8271604938271605 and parameters: {'lambda_l1': 0.24466338428472695, 'lambda_l2': 0.14645201449856649, 'num_leaves': 52, 'feature_fraction': 0.8038644344369156, 'bagging_fraction': 0.49972800666433426, 'bagging_freq': 8, 'min_child_samples': 36, 'max_depth': 2}. Best is trial 49 with value: 0.8428731762065096.\u001b[0m\n",
      "Early stopping, best iteration is:\n",
      "[891]\ttraining's binary_logloss: 0.338896\tvalid_1's binary_logloss: 0.391053\n",
      "Training until validation scores don't improve for 1000 rounds\n",
      "Early stopping, best iteration is:\n",
      "[208]\ttraining's binary_logloss: 0.357967\tvalid_1's binary_logloss: 0.382604\n",
      "Training until validation scores don't improve for 1000 rounds\n",
      "Early stopping, best iteration is:\n",
      "[299]\ttraining's binary_logloss: 0.354981\tvalid_1's binary_logloss: 0.385505\n",
      "Training until validation scores don't improve for 1000 rounds\n",
      "Early stopping, best iteration is:\n",
      "[128]\ttraining's binary_logloss: 0.357514\tvalid_1's binary_logloss: 0.452453\n",
      "Training until validation scores don't improve for 1000 rounds\n",
      "Early stopping, best iteration is:\n",
      "[114]\ttraining's binary_logloss: 0.371728\tvalid_1's binary_logloss: 0.410986\n",
      "Training until validation scores don't improve for 1000 rounds\n",
      "\u001b[32m[I 2021-10-03 13:01:13,290]\u001b[0m Trial 60 finished with value: 0.8338945005611672 and parameters: {'lambda_l1': 0.8437706276538445, 'lambda_l2': 0.015508336418020617, 'num_leaves': 46, 'feature_fraction': 0.8989853112259778, 'bagging_fraction': 0.4598466682524651, 'bagging_freq': 9, 'min_child_samples': 33, 'max_depth': 3}. Best is trial 49 with value: 0.8428731762065096.\u001b[0m\n",
      "Early stopping, best iteration is:\n",
      "[936]\ttraining's binary_logloss: 0.308064\tvalid_1's binary_logloss: 0.384665\n",
      "Training until validation scores don't improve for 1000 rounds\n",
      "Early stopping, best iteration is:\n",
      "[655]\ttraining's binary_logloss: 0.330963\tvalid_1's binary_logloss: 0.397784\n",
      "Training until validation scores don't improve for 1000 rounds\n",
      "Early stopping, best iteration is:\n",
      "[753]\ttraining's binary_logloss: 0.326073\tvalid_1's binary_logloss: 0.388295\n",
      "Training until validation scores don't improve for 1000 rounds\n",
      "Early stopping, best iteration is:\n",
      "[216]\ttraining's binary_logloss: 0.34716\tvalid_1's binary_logloss: 0.441551\n",
      "Training until validation scores don't improve for 1000 rounds\n",
      "Early stopping, best iteration is:\n",
      "[104]\ttraining's binary_logloss: 0.38146\tvalid_1's binary_logloss: 0.400467\n",
      "Training until validation scores don't improve for 1000 rounds\n",
      "Early stopping, best iteration is:\n",
      "[2229]\ttraining's binary_logloss: 0.277994\tvalid_1's binary_logloss: 0.379563\n",
      "\u001b[32m[I 2021-10-03 13:01:21,693]\u001b[0m Trial 61 finished with value: 0.8338945005611672 and parameters: {'lambda_l1': 0.02148732515489847, 'lambda_l2': 0.585106067900838, 'num_leaves': 58, 'feature_fraction': 0.839235531232228, 'bagging_fraction': 0.4011955418638566, 'bagging_freq': 8, 'min_child_samples': 40, 'max_depth': 3}. Best is trial 49 with value: 0.8428731762065096.\u001b[0m\n",
      "Training until validation scores don't improve for 1000 rounds\n",
      "Early stopping, best iteration is:\n",
      "[1916]\ttraining's binary_logloss: 0.295546\tvalid_1's binary_logloss: 0.394184\n",
      "Training until validation scores don't improve for 1000 rounds\n",
      "Early stopping, best iteration is:\n",
      "[702]\ttraining's binary_logloss: 0.331385\tvalid_1's binary_logloss: 0.379696\n",
      "Training until validation scores don't improve for 1000 rounds\n",
      "Early stopping, best iteration is:\n",
      "[64]\ttraining's binary_logloss: 0.389018\tvalid_1's binary_logloss: 0.45439\n",
      "Training until validation scores don't improve for 1000 rounds\n",
      "Early stopping, best iteration is:\n",
      "[293]\ttraining's binary_logloss: 0.356424\tvalid_1's binary_logloss: 0.414181\n",
      "Training until validation scores don't improve for 1000 rounds\n",
      "Early stopping, best iteration is:\n",
      "[1692]\ttraining's binary_logloss: 0.2952\tvalid_1's binary_logloss: 0.376266\n",
      "\u001b[32m[I 2021-10-03 13:01:29,576]\u001b[0m Trial 62 finished with value: 0.8327721661054994 and parameters: {'lambda_l1': 0.14721832652078207, 'lambda_l2': 3.4947951278075022, 'num_leaves': 49, 'feature_fraction': 0.8743684373778835, 'bagging_fraction': 0.5374272187417214, 'bagging_freq': 9, 'min_child_samples': 47, 'max_depth': 3}. Best is trial 49 with value: 0.8428731762065096.\u001b[0m\n",
      "Training until validation scores don't improve for 1000 rounds\n",
      "Early stopping, best iteration is:\n",
      "[284]\ttraining's binary_logloss: 0.358089\tvalid_1's binary_logloss: 0.39105\n",
      "Training until validation scores don't improve for 1000 rounds\n",
      "Early stopping, best iteration is:\n",
      "[205]\ttraining's binary_logloss: 0.366239\tvalid_1's binary_logloss: 0.386697\n",
      "Training until validation scores don't improve for 1000 rounds\n",
      "Early stopping, best iteration is:\n",
      "[57]\ttraining's binary_logloss: 0.383019\tvalid_1's binary_logloss: 0.459842\n",
      "Training until validation scores don't improve for 1000 rounds\n",
      "Early stopping, best iteration is:\n",
      "[101]\ttraining's binary_logloss: 0.379457\tvalid_1's binary_logloss: 0.404073\n",
      "Training until validation scores don't improve for 1000 rounds\n",
      "\u001b[32m[I 2021-10-03 13:01:47,689]\u001b[0m Trial 63 finished with value: 0.8249158249158249 and parameters: {'lambda_l1': 0.33024882703153224, 'lambda_l2': 4.2541545657512194e-05, 'num_leaves': 54, 'feature_fraction': 0.7802322109270577, 'bagging_fraction': 0.6215408154333749, 'bagging_freq': 8, 'min_child_samples': 51, 'max_depth': 3}. Best is trial 49 with value: 0.8428731762065096.\u001b[0m\n",
      "Early stopping, best iteration is:\n",
      "[790]\ttraining's binary_logloss: 0.315228\tvalid_1's binary_logloss: 0.384119\n",
      "Training until validation scores don't improve for 1000 rounds\n",
      "Early stopping, best iteration is:\n",
      "[748]\ttraining's binary_logloss: 0.296799\tvalid_1's binary_logloss: 0.383399\n",
      "Training until validation scores don't improve for 1000 rounds\n",
      "Early stopping, best iteration is:\n",
      "[722]\ttraining's binary_logloss: 0.293924\tvalid_1's binary_logloss: 0.377434\n",
      "Training until validation scores don't improve for 1000 rounds\n",
      "Early stopping, best iteration is:\n",
      "[128]\ttraining's binary_logloss: 0.353512\tvalid_1's binary_logloss: 0.454784\n",
      "Training until validation scores don't improve for 1000 rounds\n",
      "Early stopping, best iteration is:\n",
      "[69]\ttraining's binary_logloss: 0.380343\tvalid_1's binary_logloss: 0.407068\n",
      "Training until validation scores don't improve for 1000 rounds\n",
      "\u001b[32m[I 2021-10-03 13:01:56,885]\u001b[0m Trial 64 finished with value: 0.8417508417508418 and parameters: {'lambda_l1': 0.03574027424264512, 'lambda_l2': 1.669602083779944e-05, 'num_leaves': 62, 'feature_fraction': 0.730292100291316, 'bagging_fraction': 0.5781514667812492, 'bagging_freq': 9, 'min_child_samples': 38, 'max_depth': 3}. Best is trial 49 with value: 0.8428731762065096.\u001b[0m\n",
      "Early stopping, best iteration is:\n",
      "[1010]\ttraining's binary_logloss: 0.27195\tvalid_1's binary_logloss: 0.391444\n",
      "Training until validation scores don't improve for 1000 rounds\n",
      "Early stopping, best iteration is:\n",
      "[1611]\ttraining's binary_logloss: 0.338749\tvalid_1's binary_logloss: 0.39698\n",
      "Training until validation scores don't improve for 1000 rounds\n",
      "Early stopping, best iteration is:\n",
      "[1710]\ttraining's binary_logloss: 0.326627\tvalid_1's binary_logloss: 0.391613\n",
      "Training until validation scores don't improve for 1000 rounds\n",
      "Early stopping, best iteration is:\n",
      "[226]\ttraining's binary_logloss: 0.368285\tvalid_1's binary_logloss: 0.455547\n",
      "Training until validation scores don't improve for 1000 rounds\n",
      "Early stopping, best iteration is:\n",
      "[1539]\ttraining's binary_logloss: 0.326383\tvalid_1's binary_logloss: 0.40153\n",
      "Training until validation scores don't improve for 1000 rounds\n",
      "\u001b[32m[I 2021-10-03 13:02:21,601]\u001b[0m Trial 65 finished with value: 0.8282828282828283 and parameters: {'lambda_l1': 0.6068203508243634, 'lambda_l2': 1.7931061956790614e-05, 'num_leaves': 56, 'feature_fraction': 0.7349014163286081, 'bagging_fraction': 0.4199269954911472, 'bagging_freq': 9, 'min_child_samples': 39, 'max_depth': 2}. Best is trial 49 with value: 0.8428731762065096.\u001b[0m\n",
      "Early stopping, best iteration is:\n",
      "[417]\ttraining's binary_logloss: 0.374163\tvalid_1's binary_logloss: 0.400591\n",
      "Training until validation scores don't improve for 1000 rounds\n",
      "Early stopping, best iteration is:\n",
      "[322]\ttraining's binary_logloss: 0.329868\tvalid_1's binary_logloss: 0.379266\n",
      "Training until validation scores don't improve for 1000 rounds\n",
      "Early stopping, best iteration is:\n",
      "[725]\ttraining's binary_logloss: 0.284908\tvalid_1's binary_logloss: 0.385968\n",
      "Training until validation scores don't improve for 1000 rounds\n",
      "Early stopping, best iteration is:\n",
      "[124]\ttraining's binary_logloss: 0.350427\tvalid_1's binary_logloss: 0.453544\n",
      "Training until validation scores don't improve for 1000 rounds\n",
      "Early stopping, best iteration is:\n",
      "[71]\ttraining's binary_logloss: 0.37545\tvalid_1's binary_logloss: 0.408\n",
      "Training until validation scores don't improve for 1000 rounds\n",
      "\u001b[32m[I 2021-10-03 13:02:27,874]\u001b[0m Trial 66 finished with value: 0.8316498316498316 and parameters: {'lambda_l1': 1.1117477466454519e-05, 'lambda_l2': 1.0485262078502631e-05, 'num_leaves': 60, 'feature_fraction': 0.8250618831547806, 'bagging_fraction': 0.5741231324080972, 'bagging_freq': 9, 'min_child_samples': 36, 'max_depth': 3}. Best is trial 49 with value: 0.8428731762065096.\u001b[0m\n",
      "Early stopping, best iteration is:\n",
      "[994]\ttraining's binary_logloss: 0.263108\tvalid_1's binary_logloss: 0.385216\n",
      "Training until validation scores don't improve for 1000 rounds\n",
      "Early stopping, best iteration is:\n",
      "[810]\ttraining's binary_logloss: 0.350934\tvalid_1's binary_logloss: 0.4041\n",
      "Training until validation scores don't improve for 1000 rounds\n",
      "Early stopping, best iteration is:\n",
      "[702]\ttraining's binary_logloss: 0.351979\tvalid_1's binary_logloss: 0.379863\n",
      "Training until validation scores don't improve for 1000 rounds\n",
      "Early stopping, best iteration is:\n",
      "[64]\ttraining's binary_logloss: 0.393978\tvalid_1's binary_logloss: 0.458947\n",
      "Training until validation scores don't improve for 1000 rounds\n",
      "Early stopping, best iteration is:\n",
      "[540]\ttraining's binary_logloss: 0.357585\tvalid_1's binary_logloss: 0.404306\n",
      "Training until validation scores don't improve for 1000 rounds\n",
      "\u001b[32m[I 2021-10-03 13:02:34,490]\u001b[0m Trial 67 finished with value: 0.8316498316498316 and parameters: {'lambda_l1': 0.0004465277613905577, 'lambda_l2': 8.526377041916424e-05, 'num_leaves': 51, 'feature_fraction': 0.7411239591335312, 'bagging_fraction': 0.5434518468902481, 'bagging_freq': 9, 'min_child_samples': 50, 'max_depth': 2}. Best is trial 49 with value: 0.8428731762065096.\u001b[0m\n",
      "Early stopping, best iteration is:\n",
      "[999]\ttraining's binary_logloss: 0.341454\tvalid_1's binary_logloss: 0.383297\n",
      "Training until validation scores don't improve for 1000 rounds\n",
      "Early stopping, best iteration is:\n",
      "[1917]\ttraining's binary_logloss: 0.283376\tvalid_1's binary_logloss: 0.381783\n",
      "Training until validation scores don't improve for 1000 rounds\n",
      "Early stopping, best iteration is:\n",
      "[683]\ttraining's binary_logloss: 0.327094\tvalid_1's binary_logloss: 0.386564\n",
      "Training until validation scores don't improve for 1000 rounds\n",
      "Early stopping, best iteration is:\n",
      "[125]\ttraining's binary_logloss: 0.367665\tvalid_1's binary_logloss: 0.457589\n",
      "Training until validation scores don't improve for 1000 rounds\n",
      "Early stopping, best iteration is:\n",
      "[541]\ttraining's binary_logloss: 0.319739\tvalid_1's binary_logloss: 0.387051\n",
      "Training until validation scores don't improve for 1000 rounds\n",
      "\u001b[32m[I 2021-10-03 13:02:43,272]\u001b[0m Trial 68 finished with value: 0.8294051627384961 and parameters: {'lambda_l1': 0.00305568140570079, 'lambda_l2': 0.24922377878346744, 'num_leaves': 57, 'feature_fraction': 0.7930126023658346, 'bagging_fraction': 0.47953265135910433, 'bagging_freq': 9, 'min_child_samples': 45, 'max_depth': 3}. Best is trial 49 with value: 0.8428731762065096.\u001b[0m\n",
      "Early stopping, best iteration is:\n",
      "[936]\ttraining's binary_logloss: 0.317066\tvalid_1's binary_logloss: 0.390345\n",
      "Training until validation scores don't improve for 1000 rounds\n",
      "Early stopping, best iteration is:\n",
      "[1306]\ttraining's binary_logloss: 0.290461\tvalid_1's binary_logloss: 0.385031\n",
      "Training until validation scores don't improve for 1000 rounds\n",
      "Early stopping, best iteration is:\n",
      "[545]\ttraining's binary_logloss: 0.324482\tvalid_1's binary_logloss: 0.379981\n",
      "Training until validation scores don't improve for 1000 rounds\n",
      "Early stopping, best iteration is:\n",
      "[47]\ttraining's binary_logloss: 0.388409\tvalid_1's binary_logloss: 0.456736\n",
      "Training until validation scores don't improve for 1000 rounds\n",
      "Early stopping, best iteration is:\n",
      "[95]\ttraining's binary_logloss: 0.376954\tvalid_1's binary_logloss: 0.409204\n",
      "Training until validation scores don't improve for 1000 rounds\n",
      "\u001b[32m[I 2021-10-03 13:02:52,772]\u001b[0m Trial 69 finished with value: 0.8338945005611672 and parameters: {'lambda_l1': 0.11846314890545973, 'lambda_l2': 0.03442754131662719, 'num_leaves': 53, 'feature_fraction': 0.7514423534164818, 'bagging_fraction': 0.5161874362750043, 'bagging_freq': 7, 'min_child_samples': 42, 'max_depth': 3}. Best is trial 49 with value: 0.8428731762065096.\u001b[0m\n",
      "Early stopping, best iteration is:\n",
      "[778]\ttraining's binary_logloss: 0.309406\tvalid_1's binary_logloss: 0.379217\n",
      "Training until validation scores don't improve for 1000 rounds\n",
      "Early stopping, best iteration is:\n",
      "[1449]\ttraining's binary_logloss: 0.282196\tvalid_1's binary_logloss: 0.385407\n",
      "Training until validation scores don't improve for 1000 rounds\n",
      "Early stopping, best iteration is:\n",
      "[127]\ttraining's binary_logloss: 0.372723\tvalid_1's binary_logloss: 0.382732\n",
      "Training until validation scores don't improve for 1000 rounds\n",
      "Early stopping, best iteration is:\n",
      "[226]\ttraining's binary_logloss: 0.33361\tvalid_1's binary_logloss: 0.450244\n",
      "Training until validation scores don't improve for 1000 rounds\n",
      "Early stopping, best iteration is:\n",
      "[771]\ttraining's binary_logloss: 0.295751\tvalid_1's binary_logloss: 0.397832\n",
      "Training until validation scores don't improve for 1000 rounds\n",
      "\u001b[32m[I 2021-10-03 13:02:59,586]\u001b[0m Trial 70 finished with value: 0.8338945005611672 and parameters: {'lambda_l1': 0.00856581946234846, 'lambda_l2': 0.0034221193969830644, 'num_leaves': 38, 'feature_fraction': 0.7129707645594499, 'bagging_fraction': 0.48951301968451943, 'bagging_freq': 8, 'min_child_samples': 38, 'max_depth': 3}. Best is trial 49 with value: 0.8428731762065096.\u001b[0m\n",
      "Early stopping, best iteration is:\n",
      "[882]\ttraining's binary_logloss: 0.299534\tvalid_1's binary_logloss: 0.376554\n",
      "Training until validation scores don't improve for 1000 rounds\n",
      "Early stopping, best iteration is:\n",
      "[200]\ttraining's binary_logloss: 0.370199\tvalid_1's binary_logloss: 0.384067\n",
      "Training until validation scores don't improve for 1000 rounds\n",
      "Early stopping, best iteration is:\n",
      "[223]\ttraining's binary_logloss: 0.369525\tvalid_1's binary_logloss: 0.382291\n",
      "Training until validation scores don't improve for 1000 rounds\n",
      "Early stopping, best iteration is:\n",
      "[227]\ttraining's binary_logloss: 0.347349\tvalid_1's binary_logloss: 0.462321\n",
      "Training until validation scores don't improve for 1000 rounds\n",
      "Early stopping, best iteration is:\n",
      "[431]\ttraining's binary_logloss: 0.339987\tvalid_1's binary_logloss: 0.396864\n",
      "Training until validation scores don't improve for 1000 rounds\n",
      "\u001b[32m[I 2021-10-03 13:03:04,601]\u001b[0m Trial 71 finished with value: 0.835016835016835 and parameters: {'lambda_l1': 0.08088448488661659, 'lambda_l2': 3.432833290258232e-05, 'num_leaves': 52, 'feature_fraction': 0.8562184973642533, 'bagging_fraction': 0.4518872871576687, 'bagging_freq': 9, 'min_child_samples': 43, 'max_depth': 3}. Best is trial 49 with value: 0.8428731762065096.\u001b[0m\n",
      "Early stopping, best iteration is:\n",
      "[548]\ttraining's binary_logloss: 0.332834\tvalid_1's binary_logloss: 0.388451\n",
      "Training until validation scores don't improve for 1000 rounds\n",
      "Early stopping, best iteration is:\n",
      "[784]\ttraining's binary_logloss: 0.353477\tvalid_1's binary_logloss: 0.400306\n",
      "Training until validation scores don't improve for 1000 rounds\n",
      "Early stopping, best iteration is:\n",
      "[650]\ttraining's binary_logloss: 0.357256\tvalid_1's binary_logloss: 0.380709\n",
      "Training until validation scores don't improve for 1000 rounds\n",
      "Early stopping, best iteration is:\n",
      "[59]\ttraining's binary_logloss: 0.404321\tvalid_1's binary_logloss: 0.465514\n",
      "Training until validation scores don't improve for 1000 rounds\n",
      "Early stopping, best iteration is:\n",
      "[769]\ttraining's binary_logloss: 0.345225\tvalid_1's binary_logloss: 0.418645\n",
      "Training until validation scores don't improve for 1000 rounds\n",
      "\u001b[32m[I 2021-10-03 13:03:11,492]\u001b[0m Trial 72 finished with value: 0.8361391694725028 and parameters: {'lambda_l1': 0.0402680466475185, 'lambda_l2': 6.070245422966524e-05, 'num_leaves': 62, 'feature_fraction': 0.6623525574660576, 'bagging_fraction': 0.5636187749282022, 'bagging_freq': 8, 'min_child_samples': 71, 'max_depth': 4}. Best is trial 49 with value: 0.8428731762065096.\u001b[0m\n",
      "Early stopping, best iteration is:\n",
      "[1504]\ttraining's binary_logloss: 0.324343\tvalid_1's binary_logloss: 0.392206\n",
      "Training until validation scores don't improve for 1000 rounds\n",
      "Early stopping, best iteration is:\n",
      "[205]\ttraining's binary_logloss: 0.365741\tvalid_1's binary_logloss: 0.385728\n",
      "Training until validation scores don't improve for 1000 rounds\n",
      "Early stopping, best iteration is:\n",
      "[711]\ttraining's binary_logloss: 0.320098\tvalid_1's binary_logloss: 0.386905\n",
      "Training until validation scores don't improve for 1000 rounds\n",
      "Early stopping, best iteration is:\n",
      "[225]\ttraining's binary_logloss: 0.343686\tvalid_1's binary_logloss: 0.460738\n",
      "Training until validation scores don't improve for 1000 rounds\n",
      "Early stopping, best iteration is:\n",
      "[432]\ttraining's binary_logloss: 0.334739\tvalid_1's binary_logloss: 0.390419\n",
      "Training until validation scores don't improve for 1000 rounds\n",
      "Early stopping, best iteration is:\n",
      "[1690]\ttraining's binary_logloss: 0.288243\tvalid_1's binary_logloss: 0.380996\n",
      "\u001b[32m[I 2021-10-03 13:03:18,095]\u001b[0m Trial 73 finished with value: 0.8282828282828283 and parameters: {'lambda_l1': 0.07846533480784958, 'lambda_l2': 2.5983410773442806e-05, 'num_leaves': 49, 'feature_fraction': 0.8193893274876065, 'bagging_fraction': 0.442939527259534, 'bagging_freq': 9, 'min_child_samples': 40, 'max_depth': 3}. Best is trial 49 with value: 0.8428731762065096.\u001b[0m\n",
      "Training until validation scores don't improve for 1000 rounds\n",
      "Early stopping, best iteration is:\n",
      "[207]\ttraining's binary_logloss: 0.376872\tvalid_1's binary_logloss: 0.405892\n",
      "Training until validation scores don't improve for 1000 rounds\n",
      "Early stopping, best iteration is:\n",
      "[184]\ttraining's binary_logloss: 0.379511\tvalid_1's binary_logloss: 0.388561\n",
      "Training until validation scores don't improve for 1000 rounds\n",
      "Early stopping, best iteration is:\n",
      "[227]\ttraining's binary_logloss: 0.3491\tvalid_1's binary_logloss: 0.458726\n",
      "Training until validation scores don't improve for 1000 rounds\n",
      "Early stopping, best iteration is:\n",
      "[432]\ttraining's binary_logloss: 0.349078\tvalid_1's binary_logloss: 0.396668\n",
      "Training until validation scores don't improve for 1000 rounds\n",
      "Early stopping, best iteration is:\n",
      "[1484]\ttraining's binary_logloss: 0.298208\tvalid_1's binary_logloss: 0.396979\n",
      "\u001b[32m[I 2021-10-03 13:03:23,713]\u001b[0m Trial 74 finished with value: 0.8294051627384961 and parameters: {'lambda_l1': 0.019019638564618326, 'lambda_l2': 1.475525281755319e-05, 'num_leaves': 43, 'feature_fraction': 0.8664004329321613, 'bagging_fraction': 0.42706104933630684, 'bagging_freq': 9, 'min_child_samples': 44, 'max_depth': 3}. Best is trial 49 with value: 0.8428731762065096.\u001b[0m\n",
      "Training until validation scores don't improve for 1000 rounds\n",
      "Early stopping, best iteration is:\n",
      "[385]\ttraining's binary_logloss: 0.364816\tvalid_1's binary_logloss: 0.387641\n",
      "Training until validation scores don't improve for 1000 rounds\n",
      "Early stopping, best iteration is:\n",
      "[299]\ttraining's binary_logloss: 0.373176\tvalid_1's binary_logloss: 0.393254\n",
      "Training until validation scores don't improve for 1000 rounds\n",
      "Early stopping, best iteration is:\n",
      "[129]\ttraining's binary_logloss: 0.373877\tvalid_1's binary_logloss: 0.451945\n",
      "Training until validation scores don't improve for 1000 rounds\n",
      "Early stopping, best iteration is:\n",
      "[425]\ttraining's binary_logloss: 0.355172\tvalid_1's binary_logloss: 0.417779\n",
      "Training until validation scores don't improve for 1000 rounds\n",
      "\u001b[32m[I 2021-10-03 13:03:29,469]\u001b[0m Trial 75 finished with value: 0.8271604938271605 and parameters: {'lambda_l1': 0.24226771248716203, 'lambda_l2': 1.5494694712645986e-05, 'num_leaves': 55, 'feature_fraction': 0.8494339910725275, 'bagging_fraction': 0.4591811089068446, 'bagging_freq': 9, 'min_child_samples': 35, 'max_depth': 2}. Best is trial 49 with value: 0.8428731762065096.\u001b[0m\n",
      "Early stopping, best iteration is:\n",
      "[1690]\ttraining's binary_logloss: 0.319447\tvalid_1's binary_logloss: 0.373648\n",
      "Training until validation scores don't improve for 1000 rounds\n",
      "Early stopping, best iteration is:\n",
      "[1099]\ttraining's binary_logloss: 0.313115\tvalid_1's binary_logloss: 0.396373\n",
      "Training until validation scores don't improve for 1000 rounds\n",
      "Early stopping, best iteration is:\n",
      "[649]\ttraining's binary_logloss: 0.329105\tvalid_1's binary_logloss: 0.381823\n",
      "Training until validation scores don't improve for 1000 rounds\n",
      "Early stopping, best iteration is:\n",
      "[57]\ttraining's binary_logloss: 0.394839\tvalid_1's binary_logloss: 0.462252\n",
      "Training until validation scores don't improve for 1000 rounds\n",
      "Early stopping, best iteration is:\n",
      "[769]\ttraining's binary_logloss: 0.319744\tvalid_1's binary_logloss: 0.406089\n",
      "Training until validation scores don't improve for 1000 rounds\n",
      "\u001b[32m[I 2021-10-03 13:03:36,996]\u001b[0m Trial 76 finished with value: 0.8327721661054994 and parameters: {'lambda_l1': 0.04174730058974299, 'lambda_l2': 5.694519039989297e-05, 'num_leaves': 62, 'feature_fraction': 0.7843838872273936, 'bagging_fraction': 0.6006451336435643, 'bagging_freq': 8, 'min_child_samples': 65, 'max_depth': 4}. Best is trial 49 with value: 0.8428731762065096.\u001b[0m\n",
      "Early stopping, best iteration is:\n",
      "[968]\ttraining's binary_logloss: 0.309386\tvalid_1's binary_logloss: 0.380069\n",
      "Training until validation scores don't improve for 1000 rounds\n",
      "Early stopping, best iteration is:\n",
      "[1105]\ttraining's binary_logloss: 0.258553\tvalid_1's binary_logloss: 0.384071\n",
      "Training until validation scores don't improve for 1000 rounds\n",
      "Early stopping, best iteration is:\n",
      "[197]\ttraining's binary_logloss: 0.339009\tvalid_1's binary_logloss: 0.380901\n",
      "Training until validation scores don't improve for 1000 rounds\n",
      "Early stopping, best iteration is:\n",
      "[113]\ttraining's binary_logloss: 0.34071\tvalid_1's binary_logloss: 0.449054\n",
      "Training until validation scores don't improve for 1000 rounds\n",
      "Early stopping, best iteration is:\n",
      "[64]\ttraining's binary_logloss: 0.375134\tvalid_1's binary_logloss: 0.405804\n",
      "Training until validation scores don't improve for 1000 rounds\n",
      "\u001b[32m[I 2021-10-03 13:03:43,484]\u001b[0m Trial 77 finished with value: 0.835016835016835 and parameters: {'lambda_l1': 0.014278525990539128, 'lambda_l2': 0.0001010295648495653, 'num_leaves': 59, 'feature_fraction': 0.6653371458376748, 'bagging_fraction': 0.5687314976620844, 'bagging_freq': 8, 'min_child_samples': 37, 'max_depth': 4}. Best is trial 49 with value: 0.8428731762065096.\u001b[0m\n",
      "Early stopping, best iteration is:\n",
      "[881]\ttraining's binary_logloss: 0.256172\tvalid_1's binary_logloss: 0.379953\n",
      "Training until validation scores don't improve for 1000 rounds\n",
      "Early stopping, best iteration is:\n",
      "[1098]\ttraining's binary_logloss: 0.294211\tvalid_1's binary_logloss: 0.389118\n",
      "Training until validation scores don't improve for 1000 rounds\n",
      "Early stopping, best iteration is:\n",
      "[624]\ttraining's binary_logloss: 0.315462\tvalid_1's binary_logloss: 0.37679\n",
      "Training until validation scores don't improve for 1000 rounds\n",
      "Early stopping, best iteration is:\n",
      "[55]\ttraining's binary_logloss: 0.380451\tvalid_1's binary_logloss: 0.455317\n",
      "Training until validation scores don't improve for 1000 rounds\n",
      "Early stopping, best iteration is:\n",
      "[63]\ttraining's binary_logloss: 0.383769\tvalid_1's binary_logloss: 0.407587\n",
      "Training until validation scores don't improve for 1000 rounds\n",
      "\u001b[32m[I 2021-10-03 13:03:51,778]\u001b[0m Trial 78 finished with value: 0.8316498316498316 and parameters: {'lambda_l1': 1.2029292276324843, 'lambda_l2': 0.0011716670475406395, 'num_leaves': 60, 'feature_fraction': 0.7076510061034992, 'bagging_fraction': 0.5606878339263032, 'bagging_freq': 8, 'min_child_samples': 33, 'max_depth': 4}. Best is trial 49 with value: 0.8428731762065096.\u001b[0m\n",
      "Early stopping, best iteration is:\n",
      "[887]\ttraining's binary_logloss: 0.290199\tvalid_1's binary_logloss: 0.385977\n",
      "Training until validation scores don't improve for 1000 rounds\n",
      "Early stopping, best iteration is:\n",
      "[1491]\ttraining's binary_logloss: 0.310609\tvalid_1's binary_logloss: 0.390327\n",
      "Training until validation scores don't improve for 1000 rounds\n",
      "Early stopping, best iteration is:\n",
      "[1109]\ttraining's binary_logloss: 0.321833\tvalid_1's binary_logloss: 0.382254\n",
      "Training until validation scores don't improve for 1000 rounds\n",
      "Early stopping, best iteration is:\n",
      "[189]\ttraining's binary_logloss: 0.364579\tvalid_1's binary_logloss: 0.471206\n",
      "Training until validation scores don't improve for 1000 rounds\n",
      "Early stopping, best iteration is:\n",
      "[1275]\ttraining's binary_logloss: 0.313908\tvalid_1's binary_logloss: 0.40844\n",
      "Training until validation scores don't improve for 1000 rounds\n",
      "Early stopping, best iteration is:\n",
      "[3318]\ttraining's binary_logloss: 0.273225\tvalid_1's binary_logloss: 0.374892\n",
      "\u001b[32m[I 2021-10-03 13:04:02,269]\u001b[0m Trial 79 finished with value: 0.8204264870931538 and parameters: {'lambda_l1': 0.17547551494132782, 'lambda_l2': 0.00015172143815067387, 'num_leaves': 57, 'feature_fraction': 0.6210055329496323, 'bagging_fraction': 0.6591779153313694, 'bagging_freq': 7, 'min_child_samples': 73, 'max_depth': 4}. Best is trial 49 with value: 0.8428731762065096.\u001b[0m\n",
      "Training until validation scores don't improve for 1000 rounds\n",
      "Early stopping, best iteration is:\n",
      "[203]\ttraining's binary_logloss: 0.37632\tvalid_1's binary_logloss: 0.398571\n",
      "Training until validation scores don't improve for 1000 rounds\n",
      "Early stopping, best iteration is:\n",
      "[997]\ttraining's binary_logloss: 0.326469\tvalid_1's binary_logloss: 0.386172\n",
      "Training until validation scores don't improve for 1000 rounds\n",
      "Early stopping, best iteration is:\n",
      "[72]\ttraining's binary_logloss: 0.385225\tvalid_1's binary_logloss: 0.446884\n",
      "Training until validation scores don't improve for 1000 rounds\n",
      "Early stopping, best iteration is:\n",
      "[72]\ttraining's binary_logloss: 0.396962\tvalid_1's binary_logloss: 0.410007\n",
      "Training until validation scores don't improve for 1000 rounds\n",
      "\u001b[32m[I 2021-10-03 13:04:07,992]\u001b[0m Trial 80 finished with value: 0.8361391694725028 and parameters: {'lambda_l1': 0.03282848955525056, 'lambda_l2': 1.5164087780195787, 'num_leaves': 60, 'feature_fraction': 0.8122146082757793, 'bagging_fraction': 0.6299441400540992, 'bagging_freq': 9, 'min_child_samples': 41, 'max_depth': 2}. Best is trial 49 with value: 0.8428731762065096.\u001b[0m\n",
      "Early stopping, best iteration is:\n",
      "[1849]\ttraining's binary_logloss: 0.300644\tvalid_1's binary_logloss: 0.384258\n",
      "Training until validation scores don't improve for 1000 rounds\n",
      "Early stopping, best iteration is:\n",
      "[520]\ttraining's binary_logloss: 0.317879\tvalid_1's binary_logloss: 0.380461\n",
      "Training until validation scores don't improve for 1000 rounds\n",
      "Early stopping, best iteration is:\n",
      "[689]\ttraining's binary_logloss: 0.297783\tvalid_1's binary_logloss: 0.386064\n",
      "Training until validation scores don't improve for 1000 rounds\n",
      "Early stopping, best iteration is:\n",
      "[65]\ttraining's binary_logloss: 0.373326\tvalid_1's binary_logloss: 0.458213\n",
      "Training until validation scores don't improve for 1000 rounds\n",
      "Early stopping, best iteration is:\n",
      "[65]\ttraining's binary_logloss: 0.384875\tvalid_1's binary_logloss: 0.406434\n",
      "Training until validation scores don't improve for 1000 rounds\n",
      "\u001b[32m[I 2021-10-03 13:04:13,588]\u001b[0m Trial 81 finished with value: 0.8406285072951739 and parameters: {'lambda_l1': 0.0653845386440507, 'lambda_l2': 2.648650777135104e-05, 'num_leaves': 62, 'feature_fraction': 0.8826031922739963, 'bagging_fraction': 0.5898527919560644, 'bagging_freq': 9, 'min_child_samples': 43, 'max_depth': 3}. Best is trial 49 with value: 0.8428731762065096.\u001b[0m\n",
      "Early stopping, best iteration is:\n",
      "[1014]\ttraining's binary_logloss: 0.277148\tvalid_1's binary_logloss: 0.371211\n",
      "Training until validation scores don't improve for 1000 rounds\n",
      "Early stopping, best iteration is:\n",
      "[261]\ttraining's binary_logloss: 0.344513\tvalid_1's binary_logloss: 0.387508\n",
      "Training until validation scores don't improve for 1000 rounds\n",
      "Early stopping, best iteration is:\n",
      "[223]\ttraining's binary_logloss: 0.351905\tvalid_1's binary_logloss: 0.389464\n",
      "Training until validation scores don't improve for 1000 rounds\n",
      "Early stopping, best iteration is:\n",
      "[66]\ttraining's binary_logloss: 0.370208\tvalid_1's binary_logloss: 0.451162\n",
      "Training until validation scores don't improve for 1000 rounds\n",
      "Early stopping, best iteration is:\n",
      "[63]\ttraining's binary_logloss: 0.386151\tvalid_1's binary_logloss: 0.405829\n",
      "Training until validation scores don't improve for 1000 rounds\n",
      "\u001b[32m[I 2021-10-03 13:04:18,788]\u001b[0m Trial 82 finished with value: 0.8316498316498316 and parameters: {'lambda_l1': 0.06915400022291394, 'lambda_l2': 2.7078829560269436e-05, 'num_leaves': 53, 'feature_fraction': 0.8803241491965541, 'bagging_fraction': 0.6123119384740301, 'bagging_freq': 9, 'min_child_samples': 43, 'max_depth': 3}. Best is trial 49 with value: 0.8428731762065096.\u001b[0m\n",
      "Early stopping, best iteration is:\n",
      "[934]\ttraining's binary_logloss: 0.281712\tvalid_1's binary_logloss: 0.392023\n",
      "Training until validation scores don't improve for 1000 rounds\n",
      "Early stopping, best iteration is:\n",
      "[521]\ttraining's binary_logloss: 0.331036\tvalid_1's binary_logloss: 0.389295\n",
      "Training until validation scores don't improve for 1000 rounds\n",
      "Early stopping, best iteration is:\n",
      "[702]\ttraining's binary_logloss: 0.316322\tvalid_1's binary_logloss: 0.385006\n",
      "Training until validation scores don't improve for 1000 rounds\n",
      "Early stopping, best iteration is:\n",
      "[127]\ttraining's binary_logloss: 0.359297\tvalid_1's binary_logloss: 0.453275\n",
      "Training until validation scores don't improve for 1000 rounds\n",
      "Early stopping, best iteration is:\n",
      "[129]\ttraining's binary_logloss: 0.370545\tvalid_1's binary_logloss: 0.410727\n",
      "Training until validation scores don't improve for 1000 rounds\n",
      "\u001b[32m[I 2021-10-03 13:04:24,593]\u001b[0m Trial 83 finished with value: 0.8439955106621774 and parameters: {'lambda_l1': 0.6127093977124544, 'lambda_l2': 1.4635819597085713e-05, 'num_leaves': 47, 'feature_fraction': 0.8388205131242815, 'bagging_fraction': 0.5855083887743326, 'bagging_freq': 9, 'min_child_samples': 45, 'max_depth': 3}. Best is trial 83 with value: 0.8439955106621774.\u001b[0m\n",
      "Early stopping, best iteration is:\n",
      "[1013]\ttraining's binary_logloss: 0.297257\tvalid_1's binary_logloss: 0.373133\n",
      "Training until validation scores don't improve for 1000 rounds\n",
      "Early stopping, best iteration is:\n",
      "[522]\ttraining's binary_logloss: 0.334443\tvalid_1's binary_logloss: 0.390153\n",
      "Training until validation scores don't improve for 1000 rounds\n",
      "Early stopping, best iteration is:\n",
      "[702]\ttraining's binary_logloss: 0.321158\tvalid_1's binary_logloss: 0.384173\n",
      "Training until validation scores don't improve for 1000 rounds\n",
      "Early stopping, best iteration is:\n",
      "[126]\ttraining's binary_logloss: 0.36316\tvalid_1's binary_logloss: 0.457109\n",
      "Training until validation scores don't improve for 1000 rounds\n",
      "Early stopping, best iteration is:\n",
      "[862]\ttraining's binary_logloss: 0.304848\tvalid_1's binary_logloss: 0.407543\n",
      "Training until validation scores don't improve for 1000 rounds\n",
      "\u001b[32m[I 2021-10-03 13:04:31,090]\u001b[0m Trial 84 finished with value: 0.8316498316498316 and parameters: {'lambda_l1': 0.4708833995753268, 'lambda_l2': 1.311343178800598e-05, 'num_leaves': 47, 'feature_fraction': 0.8380992931351433, 'bagging_fraction': 0.5877484437730492, 'bagging_freq': 9, 'min_child_samples': 49, 'max_depth': 3}. Best is trial 83 with value: 0.8439955106621774.\u001b[0m\n",
      "Early stopping, best iteration is:\n",
      "[996]\ttraining's binary_logloss: 0.303974\tvalid_1's binary_logloss: 0.372325\n",
      "Training until validation scores don't improve for 1000 rounds\n",
      "Early stopping, best iteration is:\n",
      "[310]\ttraining's binary_logloss: 0.353285\tvalid_1's binary_logloss: 0.390841\n",
      "Training until validation scores don't improve for 1000 rounds\n",
      "Early stopping, best iteration is:\n",
      "[909]\ttraining's binary_logloss: 0.300629\tvalid_1's binary_logloss: 0.384119\n",
      "Training until validation scores don't improve for 1000 rounds\n",
      "Early stopping, best iteration is:\n",
      "[65]\ttraining's binary_logloss: 0.377913\tvalid_1's binary_logloss: 0.453983\n",
      "Training until validation scores don't improve for 1000 rounds\n",
      "Early stopping, best iteration is:\n",
      "[113]\ttraining's binary_logloss: 0.373505\tvalid_1's binary_logloss: 0.403977\n",
      "Training until validation scores don't improve for 1000 rounds\n",
      "\u001b[32m[I 2021-10-03 13:04:36,891]\u001b[0m Trial 85 finished with value: 0.8316498316498316 and parameters: {'lambda_l1': 0.7436662864813195, 'lambda_l2': 1.9204678952264786e-05, 'num_leaves': 41, 'feature_fraction': 0.89194129666807, 'bagging_fraction': 0.5946251172152223, 'bagging_freq': 9, 'min_child_samples': 45, 'max_depth': 3}. Best is trial 83 with value: 0.8439955106621774.\u001b[0m\n",
      "Early stopping, best iteration is:\n",
      "[1017]\ttraining's binary_logloss: 0.296263\tvalid_1's binary_logloss: 0.384612\n",
      "Training until validation scores don't improve for 1000 rounds\n",
      "Early stopping, best iteration is:\n",
      "[1077]\ttraining's binary_logloss: 0.342592\tvalid_1's binary_logloss: 0.393683\n",
      "Training until validation scores don't improve for 1000 rounds\n",
      "Early stopping, best iteration is:\n",
      "[149]\ttraining's binary_logloss: 0.390495\tvalid_1's binary_logloss: 0.398443\n",
      "Training until validation scores don't improve for 1000 rounds\n",
      "Early stopping, best iteration is:\n",
      "[138]\ttraining's binary_logloss: 0.375136\tvalid_1's binary_logloss: 0.448726\n",
      "Training until validation scores don't improve for 1000 rounds\n",
      "Early stopping, best iteration is:\n",
      "[2002]\ttraining's binary_logloss: 0.320986\tvalid_1's binary_logloss: 0.405708\n",
      "Training until validation scores don't improve for 1000 rounds\n",
      "\u001b[32m[I 2021-10-03 13:04:43,968]\u001b[0m Trial 86 finished with value: 0.835016835016835 and parameters: {'lambda_l1': 2.022177007177451, 'lambda_l2': 1.0200245944659197e-05, 'num_leaves': 45, 'feature_fraction': 0.8666762125320537, 'bagging_fraction': 0.5812196470314068, 'bagging_freq': 6, 'min_child_samples': 55, 'max_depth': 3}. Best is trial 83 with value: 0.8439955106621774.\u001b[0m\n",
      "Early stopping, best iteration is:\n",
      "[1252]\ttraining's binary_logloss: 0.339255\tvalid_1's binary_logloss: 0.383323\n",
      "Training until validation scores don't improve for 1000 rounds\n",
      "Early stopping, best iteration is:\n",
      "[1611]\ttraining's binary_logloss: 0.291158\tvalid_1's binary_logloss: 0.385285\n",
      "Training until validation scores don't improve for 1000 rounds\n",
      "Early stopping, best iteration is:\n",
      "[213]\ttraining's binary_logloss: 0.365536\tvalid_1's binary_logloss: 0.386058\n",
      "Training until validation scores don't improve for 1000 rounds\n",
      "Early stopping, best iteration is:\n",
      "[69]\ttraining's binary_logloss: 0.375563\tvalid_1's binary_logloss: 0.455445\n",
      "Training until validation scores don't improve for 1000 rounds\n",
      "Early stopping, best iteration is:\n",
      "[540]\ttraining's binary_logloss: 0.325475\tvalid_1's binary_logloss: 0.398943\n",
      "Training until validation scores don't improve for 1000 rounds\n",
      "\u001b[32m[I 2021-10-03 13:04:53,900]\u001b[0m Trial 87 finished with value: 0.8327721661054994 and parameters: {'lambda_l1': 0.341124146728939, 'lambda_l2': 0.00022017480518865415, 'num_leaves': 49, 'feature_fraction': 0.8600713644761001, 'bagging_fraction': 0.6204432960100713, 'bagging_freq': 9, 'min_child_samples': 53, 'max_depth': 3}. Best is trial 83 with value: 0.8439955106621774.\u001b[0m\n",
      "Early stopping, best iteration is:\n",
      "[1089]\ttraining's binary_logloss: 0.302277\tvalid_1's binary_logloss: 0.385511\n",
      "Training until validation scores don't improve for 1000 rounds\n",
      "Early stopping, best iteration is:\n",
      "[468]\ttraining's binary_logloss: 0.316375\tvalid_1's binary_logloss: 0.383127\n",
      "Training until validation scores don't improve for 1000 rounds\n",
      "Early stopping, best iteration is:\n",
      "[151]\ttraining's binary_logloss: 0.362665\tvalid_1's binary_logloss: 0.376315\n",
      "Training until validation scores don't improve for 1000 rounds\n",
      "Early stopping, best iteration is:\n",
      "[72]\ttraining's binary_logloss: 0.362035\tvalid_1's binary_logloss: 0.455913\n",
      "Training until validation scores don't improve for 1000 rounds\n",
      "Early stopping, best iteration is:\n",
      "[69]\ttraining's binary_logloss: 0.378118\tvalid_1's binary_logloss: 0.40761\n",
      "Training until validation scores don't improve for 1000 rounds\n",
      "\u001b[32m[I 2021-10-03 13:04:59,774]\u001b[0m Trial 88 finished with value: 0.8372615039281706 and parameters: {'lambda_l1': 0.11903624010196467, 'lambda_l2': 0.008718606857773276, 'num_leaves': 57, 'feature_fraction': 0.8260383282447856, 'bagging_fraction': 0.6446968229659309, 'bagging_freq': 9, 'min_child_samples': 40, 'max_depth': 3}. Best is trial 83 with value: 0.8439955106621774.\u001b[0m\n",
      "Early stopping, best iteration is:\n",
      "[1089]\ttraining's binary_logloss: 0.263711\tvalid_1's binary_logloss: 0.389967\n",
      "Training until validation scores don't improve for 1000 rounds\n",
      "Early stopping, best iteration is:\n",
      "[444]\ttraining's binary_logloss: 0.281824\tvalid_1's binary_logloss: 0.37737\n",
      "Training until validation scores don't improve for 1000 rounds\n",
      "Early stopping, best iteration is:\n",
      "[158]\ttraining's binary_logloss: 0.330786\tvalid_1's binary_logloss: 0.377625\n",
      "Training until validation scores don't improve for 1000 rounds\n",
      "Early stopping, best iteration is:\n",
      "[30]\ttraining's binary_logloss: 0.387265\tvalid_1's binary_logloss: 0.460727\n",
      "Training until validation scores don't improve for 1000 rounds\n",
      "Early stopping, best iteration is:\n",
      "[121]\ttraining's binary_logloss: 0.333313\tvalid_1's binary_logloss: 0.406879\n",
      "Training until validation scores don't improve for 1000 rounds\n",
      "\u001b[32m[I 2021-10-03 13:05:07,004]\u001b[0m Trial 89 finished with value: 0.8327721661054994 and parameters: {'lambda_l1': 0.15073646813856634, 'lambda_l2': 0.008883482805405627, 'num_leaves': 51, 'feature_fraction': 0.820053888882243, 'bagging_fraction': 0.6517309766873665, 'bagging_freq': 9, 'min_child_samples': 40, 'max_depth': 6}. Best is trial 83 with value: 0.8439955106621774.\u001b[0m\n",
      "Early stopping, best iteration is:\n",
      "[1081]\ttraining's binary_logloss: 0.213195\tvalid_1's binary_logloss: 0.378437\n",
      "Training until validation scores don't improve for 1000 rounds\n",
      "Early stopping, best iteration is:\n",
      "[202]\ttraining's binary_logloss: 0.377684\tvalid_1's binary_logloss: 0.393014\n",
      "Training until validation scores don't improve for 1000 rounds\n",
      "Early stopping, best iteration is:\n",
      "[228]\ttraining's binary_logloss: 0.374553\tvalid_1's binary_logloss: 0.392007\n",
      "Training until validation scores don't improve for 1000 rounds\n",
      "Early stopping, best iteration is:\n",
      "[69]\ttraining's binary_logloss: 0.38483\tvalid_1's binary_logloss: 0.448441\n",
      "Training until validation scores don't improve for 1000 rounds\n",
      "Early stopping, best iteration is:\n",
      "[46]\ttraining's binary_logloss: 0.405987\tvalid_1's binary_logloss: 0.420664\n",
      "Training until validation scores don't improve for 1000 rounds\n",
      "\u001b[32m[I 2021-10-03 13:05:15,483]\u001b[0m Trial 90 finished with value: 0.8305274971941639 and parameters: {'lambda_l1': 0.06439524797654086, 'lambda_l2': 0.00043900814807438555, 'num_leaves': 57, 'feature_fraction': 0.8323987943742421, 'bagging_fraction': 0.6754621826690792, 'bagging_freq': 9, 'min_child_samples': 47, 'max_depth': 2}. Best is trial 83 with value: 0.8439955106621774.\u001b[0m\n",
      "Early stopping, best iteration is:\n",
      "[1557]\ttraining's binary_logloss: 0.305807\tvalid_1's binary_logloss: 0.392053\n",
      "Training until validation scores don't improve for 1000 rounds\n",
      "Early stopping, best iteration is:\n",
      "[318]\ttraining's binary_logloss: 0.340239\tvalid_1's binary_logloss: 0.383461\n",
      "Training until validation scores don't improve for 1000 rounds\n",
      "Early stopping, best iteration is:\n",
      "[221]\ttraining's binary_logloss: 0.349736\tvalid_1's binary_logloss: 0.392976\n",
      "Training until validation scores don't improve for 1000 rounds\n",
      "Early stopping, best iteration is:\n",
      "[130]\ttraining's binary_logloss: 0.351428\tvalid_1's binary_logloss: 0.453999\n",
      "Training until validation scores don't improve for 1000 rounds\n",
      "Early stopping, best iteration is:\n",
      "[118]\ttraining's binary_logloss: 0.363988\tvalid_1's binary_logloss: 0.405044\n",
      "Training until validation scores don't improve for 1000 rounds\n",
      "\u001b[32m[I 2021-10-03 13:05:20,989]\u001b[0m Trial 91 finished with value: 0.8305274971941639 and parameters: {'lambda_l1': 0.2839919513058849, 'lambda_l2': 4.179185369129642e-05, 'num_leaves': 54, 'feature_fraction': 0.8445051510107147, 'bagging_fraction': 0.602755616872844, 'bagging_freq': 9, 'min_child_samples': 39, 'max_depth': 3}. Best is trial 83 with value: 0.8439955106621774.\u001b[0m\n",
      "Early stopping, best iteration is:\n",
      "[1009]\ttraining's binary_logloss: 0.278892\tvalid_1's binary_logloss: 0.386152\n",
      "Training until validation scores don't improve for 1000 rounds\n",
      "Early stopping, best iteration is:\n",
      "[630]\ttraining's binary_logloss: 0.325228\tvalid_1's binary_logloss: 0.398646\n",
      "Training until validation scores don't improve for 1000 rounds\n",
      "Early stopping, best iteration is:\n",
      "[94]\ttraining's binary_logloss: 0.381252\tvalid_1's binary_logloss: 0.40047\n",
      "Training until validation scores don't improve for 1000 rounds\n",
      "Early stopping, best iteration is:\n",
      "[74]\ttraining's binary_logloss: 0.369533\tvalid_1's binary_logloss: 0.454466\n",
      "Training until validation scores don't improve for 1000 rounds\n",
      "Early stopping, best iteration is:\n",
      "[71]\ttraining's binary_logloss: 0.38363\tvalid_1's binary_logloss: 0.412598\n",
      "Training until validation scores don't improve for 1000 rounds\n",
      "\u001b[32m[I 2021-10-03 13:05:32,187]\u001b[0m Trial 92 finished with value: 0.8305274971941639 and parameters: {'lambda_l1': 1.3556909635287469, 'lambda_l2': 0.0816787118843912, 'num_leaves': 61, 'feature_fraction': 0.8091678528834417, 'bagging_fraction': 0.644817636499948, 'bagging_freq': 9, 'min_child_samples': 37, 'max_depth': 3}. Best is trial 83 with value: 0.8439955106621774.\u001b[0m\n",
      "Early stopping, best iteration is:\n",
      "[1089]\ttraining's binary_logloss: 0.295115\tvalid_1's binary_logloss: 0.377204\n",
      "Training until validation scores don't improve for 1000 rounds\n",
      "Early stopping, best iteration is:\n",
      "[329]\ttraining's binary_logloss: 0.340067\tvalid_1's binary_logloss: 0.385878\n",
      "Training until validation scores don't improve for 1000 rounds\n",
      "Early stopping, best iteration is:\n",
      "[225]\ttraining's binary_logloss: 0.354295\tvalid_1's binary_logloss: 0.38549\n",
      "Training until validation scores don't improve for 1000 rounds\n",
      "Early stopping, best iteration is:\n",
      "[64]\ttraining's binary_logloss: 0.374247\tvalid_1's binary_logloss: 0.45248\n",
      "Training until validation scores don't improve for 1000 rounds\n",
      "Early stopping, best iteration is:\n",
      "[65]\ttraining's binary_logloss: 0.385701\tvalid_1's binary_logloss: 0.406761\n",
      "Training until validation scores don't improve for 1000 rounds\n",
      "\u001b[32m[I 2021-10-03 13:05:37,692]\u001b[0m Trial 93 finished with value: 0.8294051627384961 and parameters: {'lambda_l1': 0.10445381348366438, 'lambda_l2': 0.012715185599308872, 'num_leaves': 62, 'feature_fraction': 0.7817051422362765, 'bagging_fraction': 0.616143577366325, 'bagging_freq': 9, 'min_child_samples': 41, 'max_depth': 3}. Best is trial 83 with value: 0.8439955106621774.\u001b[0m\n",
      "Early stopping, best iteration is:\n",
      "[883]\ttraining's binary_logloss: 0.286891\tvalid_1's binary_logloss: 0.388198\n",
      "Training until validation scores don't improve for 1000 rounds\n",
      "Early stopping, best iteration is:\n",
      "[1431]\ttraining's binary_logloss: 0.289223\tvalid_1's binary_logloss: 0.387814\n",
      "Training until validation scores don't improve for 1000 rounds\n",
      "Early stopping, best iteration is:\n",
      "[711]\ttraining's binary_logloss: 0.310945\tvalid_1's binary_logloss: 0.390799\n",
      "Training until validation scores don't improve for 1000 rounds\n",
      "Early stopping, best iteration is:\n",
      "[67]\ttraining's binary_logloss: 0.376657\tvalid_1's binary_logloss: 0.454519\n",
      "Training until validation scores don't improve for 1000 rounds\n",
      "Early stopping, best iteration is:\n",
      "[676]\ttraining's binary_logloss: 0.310491\tvalid_1's binary_logloss: 0.418603\n",
      "Training until validation scores don't improve for 1000 rounds\n",
      "Early stopping, best iteration is:\n",
      "[2227]\ttraining's binary_logloss: 0.250939\tvalid_1's binary_logloss: 0.389215\n",
      "\u001b[32m[I 2021-10-03 13:05:56,992]\u001b[0m Trial 94 finished with value: 0.8327721661054994 and parameters: {'lambda_l1': 0.5937239777963037, 'lambda_l2': 0.005529058951269376, 'num_leaves': 58, 'feature_fraction': 0.4162272121211509, 'bagging_fraction': 0.6882778822228118, 'bagging_freq': 8, 'min_child_samples': 35, 'max_depth': 3}. Best is trial 83 with value: 0.8439955106621774.\u001b[0m\n",
      "Training until validation scores don't improve for 1000 rounds\n",
      "Early stopping, best iteration is:\n",
      "[1055]\ttraining's binary_logloss: 0.295727\tvalid_1's binary_logloss: 0.383501\n",
      "Training until validation scores don't improve for 1000 rounds\n",
      "Early stopping, best iteration is:\n",
      "[389]\ttraining's binary_logloss: 0.332481\tvalid_1's binary_logloss: 0.374933\n",
      "Training until validation scores don't improve for 1000 rounds\n",
      "Early stopping, best iteration is:\n",
      "[137]\ttraining's binary_logloss: 0.351487\tvalid_1's binary_logloss: 0.448215\n",
      "Training until validation scores don't improve for 1000 rounds\n",
      "Early stopping, best iteration is:\n",
      "[65]\ttraining's binary_logloss: 0.384533\tvalid_1's binary_logloss: 0.407366\n",
      "Training until validation scores don't improve for 1000 rounds\n",
      "\u001b[32m[I 2021-10-03 13:06:03,076]\u001b[0m Trial 95 finished with value: 0.8249158249158249 and parameters: {'lambda_l1': 0.18774579320899312, 'lambda_l2': 2.182195541238592e-05, 'num_leaves': 56, 'feature_fraction': 0.8860634904743381, 'bagging_fraction': 0.5381735299339648, 'bagging_freq': 5, 'min_child_samples': 42, 'max_depth': 3}. Best is trial 83 with value: 0.8439955106621774.\u001b[0m\n",
      "Early stopping, best iteration is:\n",
      "[940]\ttraining's binary_logloss: 0.292647\tvalid_1's binary_logloss: 0.377731\n",
      "Training until validation scores don't improve for 1000 rounds\n",
      "Early stopping, best iteration is:\n",
      "[1232]\ttraining's binary_logloss: 0.33284\tvalid_1's binary_logloss: 0.395347\n",
      "Training until validation scores don't improve for 1000 rounds\n",
      "Early stopping, best iteration is:\n",
      "[2006]\ttraining's binary_logloss: 0.313617\tvalid_1's binary_logloss: 0.388825\n",
      "Training until validation scores don't improve for 1000 rounds\n",
      "Early stopping, best iteration is:\n",
      "[242]\ttraining's binary_logloss: 0.362189\tvalid_1's binary_logloss: 0.45409\n",
      "Training until validation scores don't improve for 1000 rounds\n",
      "Early stopping, best iteration is:\n",
      "[1692]\ttraining's binary_logloss: 0.319803\tvalid_1's binary_logloss: 0.406591\n",
      "Training until validation scores don't improve for 1000 rounds\n",
      "Early stopping, best iteration is:\n",
      "[1691]\ttraining's binary_logloss: 0.321222\tvalid_1's binary_logloss: 0.379377\n",
      "\u001b[32m[I 2021-10-03 13:06:11,900]\u001b[0m Trial 96 finished with value: 0.8395061728395061 and parameters: {'lambda_l1': 0.026968674908304676, 'lambda_l2': 0.032403384044290225, 'num_leaves': 59, 'feature_fraction': 0.8261359558018425, 'bagging_fraction': 0.6272871212391764, 'bagging_freq': 9, 'min_child_samples': 60, 'max_depth': 2}. Best is trial 83 with value: 0.8439955106621774.\u001b[0m\n",
      "Training until validation scores don't improve for 1000 rounds\n",
      "Early stopping, best iteration is:\n",
      "[463]\ttraining's binary_logloss: 0.370765\tvalid_1's binary_logloss: 0.39903\n",
      "Training until validation scores don't improve for 1000 rounds\n",
      "Early stopping, best iteration is:\n",
      "[625]\ttraining's binary_logloss: 0.357632\tvalid_1's binary_logloss: 0.381722\n",
      "Training until validation scores don't improve for 1000 rounds\n",
      "Early stopping, best iteration is:\n",
      "[65]\ttraining's binary_logloss: 0.395213\tvalid_1's binary_logloss: 0.457514\n",
      "Training until validation scores don't improve for 1000 rounds\n",
      "Early stopping, best iteration is:\n",
      "[1504]\ttraining's binary_logloss: 0.33096\tvalid_1's binary_logloss: 0.408912\n",
      "Training until validation scores don't improve for 1000 rounds\n",
      "Early stopping, best iteration is:\n",
      "[2651]\ttraining's binary_logloss: 0.311927\tvalid_1's binary_logloss: 0.378602\n",
      "\u001b[32m[I 2021-10-03 13:06:22,673]\u001b[0m Trial 97 finished with value: 0.8260381593714927 and parameters: {'lambda_l1': 0.02366848520501162, 'lambda_l2': 0.3331504783992256, 'num_leaves': 59, 'feature_fraction': 0.872159464373317, 'bagging_fraction': 0.5800190002066369, 'bagging_freq': 8, 'min_child_samples': 61, 'max_depth': 2}. Best is trial 83 with value: 0.8439955106621774.\u001b[0m\n",
      "Training until validation scores don't improve for 1000 rounds\n",
      "Early stopping, best iteration is:\n",
      "[393]\ttraining's binary_logloss: 0.387539\tvalid_1's binary_logloss: 0.402846\n",
      "Training until validation scores don't improve for 1000 rounds\n",
      "Early stopping, best iteration is:\n",
      "[329]\ttraining's binary_logloss: 0.391988\tvalid_1's binary_logloss: 0.405777\n",
      "Training until validation scores don't improve for 1000 rounds\n",
      "Early stopping, best iteration is:\n",
      "[208]\ttraining's binary_logloss: 0.376054\tvalid_1's binary_logloss: 0.450708\n",
      "Training until validation scores don't improve for 1000 rounds\n",
      "Early stopping, best iteration is:\n",
      "[714]\ttraining's binary_logloss: 0.372232\tvalid_1's binary_logloss: 0.414413\n",
      "Training until validation scores don't improve for 1000 rounds\n",
      "\u001b[32m[I 2021-10-03 13:06:27,677]\u001b[0m Trial 98 finished with value: 0.8271604938271605 and parameters: {'lambda_l1': 2.960795440617538, 'lambda_l2': 0.05287754724813323, 'num_leaves': 59, 'feature_fraction': 0.82854245258666, 'bagging_fraction': 0.5544259697424158, 'bagging_freq': 9, 'min_child_samples': 46, 'max_depth': 2}. Best is trial 83 with value: 0.8439955106621774.\u001b[0m\n",
      "Early stopping, best iteration is:\n",
      "[992]\ttraining's binary_logloss: 0.370988\tvalid_1's binary_logloss: 0.400424\n",
      "Training until validation scores don't improve for 1000 rounds\n",
      "Early stopping, best iteration is:\n",
      "[200]\ttraining's binary_logloss: 0.376022\tvalid_1's binary_logloss: 0.395615\n",
      "Training until validation scores don't improve for 1000 rounds\n",
      "Early stopping, best iteration is:\n",
      "[225]\ttraining's binary_logloss: 0.374748\tvalid_1's binary_logloss: 0.386321\n",
      "Training until validation scores don't improve for 1000 rounds\n",
      "Early stopping, best iteration is:\n",
      "[74]\ttraining's binary_logloss: 0.381979\tvalid_1's binary_logloss: 0.44846\n",
      "Training until validation scores don't improve for 1000 rounds\n",
      "Early stopping, best iteration is:\n",
      "[71]\ttraining's binary_logloss: 0.395798\tvalid_1's binary_logloss: 0.413708\n",
      "Training until validation scores don't improve for 1000 rounds\n",
      "\u001b[32m[I 2021-10-03 13:06:32,402]\u001b[0m Trial 99 finished with value: 0.8294051627384961 and parameters: {'lambda_l1': 0.04374088066099195, 'lambda_l2': 0.020928413566735405, 'num_leaves': 55, 'feature_fraction': 0.7582654875576268, 'bagging_fraction': 0.6319751228921383, 'bagging_freq': 9, 'min_child_samples': 44, 'max_depth': 2}. Best is trial 83 with value: 0.8439955106621774.\u001b[0m\n",
      "Early stopping, best iteration is:\n",
      "[1089]\ttraining's binary_logloss: 0.324535\tvalid_1's binary_logloss: 0.391945\n",
      "Number of finished trials: 100\n",
      "Best trial:\n",
      "  Value: 0.8439955106621774\n",
      "  Params: \n",
      "    lambda_l1: 0.6127093977124544\n",
      "    lambda_l2: 1.4635819597085713e-05\n",
      "    num_leaves: 47\n",
      "    feature_fraction: 0.8388205131242815\n",
      "    bagging_fraction: 0.5855083887743326\n",
      "    bagging_freq: 9\n",
      "    min_child_samples: 45\n",
      "    max_depth: 3\n",
      "**************************************************\n",
      "Exporting best models\n",
      "**************************************************\n",
      "Training until validation scores don't improve for 1001 rounds\n",
      "Early stopping, best iteration is:\n",
      "[521]\ttraining's binary_logloss: 0.331036\tvalid_1's binary_logloss: 0.389295\n",
      "Training until validation scores don't improve for 1001 rounds\n",
      "Early stopping, best iteration is:\n",
      "[702]\ttraining's binary_logloss: 0.316322\tvalid_1's binary_logloss: 0.385006\n",
      "Training until validation scores don't improve for 1001 rounds\n",
      "Early stopping, best iteration is:\n",
      "[127]\ttraining's binary_logloss: 0.359297\tvalid_1's binary_logloss: 0.453275\n",
      "Training until validation scores don't improve for 1001 rounds\n",
      "Early stopping, best iteration is:\n",
      "[129]\ttraining's binary_logloss: 0.370545\tvalid_1's binary_logloss: 0.410727\n",
      "Training until validation scores don't improve for 1001 rounds\n",
      "Early stopping, best iteration is:\n",
      "[1013]\ttraining's binary_logloss: 0.297257\tvalid_1's binary_logloss: 0.373133\n"
     ]
    }
   ],
   "source": [
    "optuna_lgb()"
   ]
  },
  {
   "cell_type": "markdown",
   "metadata": {
    "cell_id": "00050-86d00ef8-576f-4849-9c16-824908353491",
    "deepnote_cell_type": "markdown",
    "id": "RCkXAOnxL8Lk"
   },
   "source": [
    "## XGBoost"
   ]
  },
  {
   "cell_type": "code",
   "execution_count": null,
   "metadata": {
    "cell_id": "00051-1ff7f2eb-aeae-4a3c-bd2d-f8ecdcd724d2",
    "deepnote_cell_type": "code",
    "deepnote_to_be_reexecuted": true,
    "execution_millis": 53863,
    "execution_start": 1633264616584,
    "id": "C9NgxHbDL8Lk",
    "outputId": "078df67f-66ff-4633-b391-08efdc11c3ad",
    "source_hash": "6bd16997"
   },
   "outputs": [
    {
     "name": "stderr",
     "output_type": "stream",
     "text": [
      "[6]\tvalidation-auc:0.87801\n",
      "[7]\tvalidation-auc:0.87654\n",
      "[8]\tvalidation-auc:0.87179\n",
      "[9]\tvalidation-auc:0.87286\n",
      "[0]\tvalidation-auc:0.82487\n",
      "[1]\tvalidation-auc:0.85308\n",
      "[2]\tvalidation-auc:0.85054\n",
      "[3]\tvalidation-auc:0.84880\n",
      "[4]\tvalidation-auc:0.85107\n",
      "[5]\tvalidation-auc:0.84626\n",
      "[6]\tvalidation-auc:0.82995\n",
      "[7]\tvalidation-auc:0.82874\n",
      "[8]\tvalidation-auc:0.82707\n",
      "[9]\tvalidation-auc:0.83135\n",
      "[0]\tvalidation-auc:0.86350\n",
      "[1]\tvalidation-auc:0.86190\n",
      "[2]\tvalidation-auc:0.86150\n",
      "[3]\tvalidation-auc:0.86110\n",
      "[4]\tvalidation-auc:0.86143\n",
      "[5]\tvalidation-auc:0.86023\n",
      "[6]\tvalidation-auc:0.86805\n",
      "[7]\tvalidation-auc:0.86765\n",
      "[8]\tvalidation-auc:0.86704\n",
      "[9]\tvalidation-auc:0.86678\n",
      "[0]\tvalidation-auc:0.84823\n",
      "[1]\tvalidation-auc:0.84756\n",
      "[2]\tvalidation-auc:0.85627\n",
      "[3]\tvalidation-auc:0.85840\n",
      "[4]\tvalidation-auc:0.86132\n",
      "[5]\tvalidation-auc:0.86139\n",
      "[6]\tvalidation-auc:0.86252\n",
      "[7]\tvalidation-auc:0.86518\n",
      "[8]\tvalidation-auc:0.86637\n",
      "[9]\tvalidation-auc:0.86451\n",
      "\u001b[32m[I 2021-10-03 12:37:26,970]\u001b[0m Trial 60 finished with value: 0.8146067415730337 and parameters: {'booster': 'dart', 'lambda': 4.85331680298883e-07, 'alpha': 0.01812493413654589, 'max_depth': 5, 'eta': 0.08262537184150962, 'gamma': 0.48071564527211014, 'grow_policy': 'depthwise', 'sample_type': 'weighted', 'normalize_type': 'forest', 'rate_drop': 0.00037443921132358695, 'skip_drop': 5.888435333611357e-06}. Best is trial 17 with value: 0.8314606741573034.\u001b[0m\n",
      "[0]\tvalidation-auc:0.89736\n",
      "[1]\tvalidation-auc:0.90692\n",
      "[2]\tvalidation-auc:0.90586\n",
      "[3]\tvalidation-auc:0.90692\n",
      "[4]\tvalidation-auc:0.90771\n",
      "[5]\tvalidation-auc:0.90771\n",
      "[6]\tvalidation-auc:0.90527\n",
      "[7]\tvalidation-auc:0.90712\n",
      "[8]\tvalidation-auc:0.90804\n",
      "[9]\tvalidation-auc:0.90988\n",
      "[0]\tvalidation-auc:0.88382\n",
      "[1]\tvalidation-auc:0.88255\n",
      "[2]\tvalidation-auc:0.87039\n",
      "[3]\tvalidation-auc:0.86664\n",
      "IOPub message rate exceeded.\n",
      "The notebook server will temporarily stop sending output\n",
      "to the client in order to avoid crashing it.\n",
      "To change this limit, set the config variable\n",
      "`--NotebookApp.iopub_msg_rate_limit`.\n",
      "\n",
      "Current values:\n",
      "NotebookApp.iopub_msg_rate_limit=50.0 (msgs/sec)\n",
      "NotebookApp.rate_limit_window=3.0 (secs)\n",
      "\n",
      "[0]\tvalidation-auc:0.86832\n",
      "[1]\tvalidation-auc:0.86832\n",
      "[2]\tvalidation-auc:0.86832\n",
      "[3]\tvalidation-auc:0.86832\n",
      "[4]\tvalidation-auc:0.86832\n",
      "[5]\tvalidation-auc:0.86832\n",
      "[6]\tvalidation-auc:0.86832\n",
      "[7]\tvalidation-auc:0.86832\n",
      "[8]\tvalidation-auc:0.86832\n",
      "[9]\tvalidation-auc:0.86832\n",
      "[0]\tvalidation-auc:0.85321\n",
      "[1]\tvalidation-auc:0.85321\n",
      "[2]\tvalidation-auc:0.85321\n",
      "[3]\tvalidation-auc:0.85321\n",
      "[4]\tvalidation-auc:0.85321\n",
      "[5]\tvalidation-auc:0.85321\n",
      "[6]\tvalidation-auc:0.85321\n",
      "[7]\tvalidation-auc:0.85321\n",
      "[8]\tvalidation-auc:0.85321\n",
      "[9]\tvalidation-auc:0.85321\n",
      "\u001b[32m[I 2021-10-03 12:37:28,590]\u001b[0m Trial 62 finished with value: 0.8258426966292135 and parameters: {'booster': 'gbtree', 'lambda': 3.731661238568383e-08, 'alpha': 0.04989419513003384, 'max_depth': 4, 'eta': 0.002182930345966282, 'gamma': 1.2524159313383428e-05, 'grow_policy': 'depthwise'}. Best is trial 17 with value: 0.8314606741573034.\u001b[0m\n",
      "[0]\tvalidation-auc:0.86555\n",
      "[1]\tvalidation-auc:0.86555\n",
      "[2]\tvalidation-auc:0.86555\n",
      "[3]\tvalidation-auc:0.86555\n",
      "[4]\tvalidation-auc:0.86555\n",
      "[5]\tvalidation-auc:0.86555\n",
      "\u001b[32m[I 2021-10-03 12:37:28,704]\u001b[0m Trial 63 pruned. Trial was pruned at iteration 5.\u001b[0m\n",
      "[0]\tvalidation-auc:0.89802\n",
      "[1]\tvalidation-auc:0.90659\n",
      "[2]\tvalidation-auc:0.90534\n",
      "[3]\tvalidation-auc:0.90389\n",
      "[4]\tvalidation-auc:0.90507\n",
      "[5]\tvalidation-auc:0.90389\n",
      "[6]\tvalidation-auc:0.90415\n",
      "[7]\tvalidation-auc:0.90560\n",
      "[8]\tvalidation-auc:0.90455\n",
      "[9]\tvalidation-auc:0.90507\n",
      "[0]\tvalidation-auc:0.86504\n",
      "[1]\tvalidation-auc:0.86517\n",
      "[2]\tvalidation-auc:0.86517\n",
      "[3]\tvalidation-auc:0.86504\n",
      "[4]\tvalidation-auc:0.86491\n",
      "[5]\tvalidation-auc:0.86491\n",
      "[6]\tvalidation-auc:0.86477\n",
      "[7]\tvalidation-auc:0.87065\n",
      "[8]\tvalidation-auc:0.87079\n",
      "[9]\tvalidation-auc:0.87065\n",
      "[0]\tvalidation-auc:0.81705\n",
      "[1]\tvalidation-auc:0.82273\n",
      "[2]\tvalidation-auc:0.82487\n",
      "[3]\tvalidation-auc:0.82300\n",
      "[4]\tvalidation-auc:0.82380\n",
      "[5]\tvalidation-auc:0.82781\n",
      "[6]\tvalidation-auc:0.82995\n",
      "[7]\tvalidation-auc:0.82914\n",
      "[8]\tvalidation-auc:0.82968\n",
      "[9]\tvalidation-auc:0.82861\n",
      "[0]\tvalidation-auc:0.86504\n",
      "[1]\tvalidation-auc:0.86344\n",
      "[2]\tvalidation-auc:0.86564\n",
      "[3]\tvalidation-auc:0.86564\n",
      "[4]\tvalidation-auc:0.86564\n",
      "[5]\tvalidation-auc:0.86564\n",
      "[6]\tvalidation-auc:0.86564\n",
      "[7]\tvalidation-auc:0.86564\n",
      "[8]\tvalidation-auc:0.86564\n",
      "[9]\tvalidation-auc:0.86564\n",
      "[0]\tvalidation-auc:0.84716\n",
      "[1]\tvalidation-auc:0.84676\n",
      "[2]\tvalidation-auc:0.84650\n",
      "[3]\tvalidation-auc:0.84650\n",
      "[4]\tvalidation-auc:0.84650\n",
      "[5]\tvalidation-auc:0.84650\n",
      "[6]\tvalidation-auc:0.84650\n",
      "[7]\tvalidation-auc:0.84842\n",
      "[8]\tvalidation-auc:0.85447\n",
      "[9]\tvalidation-auc:0.85441\n",
      "\u001b[32m[I 2021-10-03 12:37:29,574]\u001b[0m Trial 64 finished with value: 0.8202247191011236 and parameters: {'booster': 'gbtree', 'lambda': 0.0009617709976788073, 'alpha': 3.643626320827828e-05, 'max_depth': 5, 'eta': 0.016936968438293207, 'gamma': 1.0213775324701063e-05, 'grow_policy': 'lossguide'}. Best is trial 17 with value: 0.8314606741573034.\u001b[0m\n",
      "[0]\tvalidation-auc:0.89802\n",
      "[1]\tvalidation-auc:0.90520\n",
      "[2]\tvalidation-auc:0.90665\n",
      "[3]\tvalidation-auc:0.90402\n",
      "[4]\tvalidation-auc:0.90613\n",
      "[5]\tvalidation-auc:0.90481\n",
      "[6]\tvalidation-auc:0.90586\n",
      "[7]\tvalidation-auc:0.90725\n",
      "[8]\tvalidation-auc:0.90738\n",
      "[9]\tvalidation-auc:0.90738\n",
      "[0]\tvalidation-auc:0.86504\n",
      "[1]\tvalidation-auc:0.86517\n",
      "[2]\tvalidation-auc:0.86517\n",
      "[3]\tvalidation-auc:0.86491\n",
      "[4]\tvalidation-auc:0.86557\n",
      "[5]\tvalidation-auc:0.86798\n",
      "[6]\tvalidation-auc:0.86758\n",
      "[7]\tvalidation-auc:0.86885\n",
      "[8]\tvalidation-auc:0.86885\n",
      "[9]\tvalidation-auc:0.86979\n",
      "[0]\tvalidation-auc:0.81705\n",
      "[1]\tvalidation-auc:0.82019\n",
      "[2]\tvalidation-auc:0.81939\n",
      "[3]\tvalidation-auc:0.82781\n",
      "[4]\tvalidation-auc:0.84599\n",
      "[5]\tvalidation-auc:0.84639\n",
      "[6]\tvalidation-auc:0.82741\n",
      "[7]\tvalidation-auc:0.85167\n",
      "[8]\tvalidation-auc:0.85047\n",
      "[9]\tvalidation-auc:0.83296\n",
      "[0]\tvalidation-auc:0.86504\n",
      "[1]\tvalidation-auc:0.86564\n",
      "[2]\tvalidation-auc:0.86564\n",
      "[3]\tvalidation-auc:0.86564\n",
      "[4]\tvalidation-auc:0.86564\n",
      "[5]\tvalidation-auc:0.86457\n",
      "[6]\tvalidation-auc:0.86444\n",
      "[7]\tvalidation-auc:0.86424\n",
      "[8]\tvalidation-auc:0.86317\n",
      "[9]\tvalidation-auc:0.86437\n",
      "[0]\tvalidation-auc:0.84716\n",
      "[1]\tvalidation-auc:0.84676\n",
      "[2]\tvalidation-auc:0.84676\n",
      "[3]\tvalidation-auc:0.84676\n",
      "[4]\tvalidation-auc:0.84676\n",
      "[5]\tvalidation-auc:0.85687\n",
      "[6]\tvalidation-auc:0.85926\n",
      "[7]\tvalidation-auc:0.86192\n",
      "[8]\tvalidation-auc:0.86139\n",
      "[9]\tvalidation-auc:0.86219\n",
      "\u001b[32m[I 2021-10-03 12:37:30,480]\u001b[0m Trial 65 finished with value: 0.8258426966292135 and parameters: {'booster': 'dart', 'lambda': 0.0004013964707723722, 'alpha': 1.6057030141749645e-06, 'max_depth': 5, 'eta': 0.05189365254432956, 'gamma': 6.10068349762778e-07, 'grow_policy': 'lossguide', 'sample_type': 'uniform', 'normalize_type': 'forest', 'rate_drop': 0.4454608892255955, 'skip_drop': 6.292123912132045e-08}. Best is trial 17 with value: 0.8314606741573034.\u001b[0m\n",
      "[0]\tvalidation-auc:0.89736\n",
      "[1]\tvalidation-auc:0.90692\n",
      "[2]\tvalidation-auc:0.90586\n",
      "[3]\tvalidation-auc:0.90692\n",
      "[4]\tvalidation-auc:0.90771\n",
      "[5]\tvalidation-auc:0.90771\n",
      "[6]\tvalidation-auc:0.90540\n",
      "[7]\tvalidation-auc:0.90712\n",
      "[8]\tvalidation-auc:0.90725\n",
      "IOPub message rate exceeded.\n",
      "The notebook server will temporarily stop sending output\n",
      "to the client in order to avoid crashing it.\n",
      "To change this limit, set the config variable\n",
      "`--NotebookApp.iopub_msg_rate_limit`.\n",
      "\n",
      "Current values:\n",
      "NotebookApp.iopub_msg_rate_limit=50.0 (msgs/sec)\n",
      "NotebookApp.rate_limit_window=3.0 (secs)\n",
      "\n",
      "[4]\tvalidation-auc:0.81631\n",
      "[5]\tvalidation-auc:0.81671\n",
      "[6]\tvalidation-auc:0.81691\n",
      "[7]\tvalidation-auc:0.81678\n",
      "[8]\tvalidation-auc:0.81678\n",
      "[9]\tvalidation-auc:0.81671\n",
      "[0]\tvalidation-auc:0.86832\n",
      "[1]\tvalidation-auc:0.86832\n",
      "[2]\tvalidation-auc:0.86832\n",
      "[3]\tvalidation-auc:0.86832\n",
      "[4]\tvalidation-auc:0.86832\n",
      "[5]\tvalidation-auc:0.86832\n",
      "[6]\tvalidation-auc:0.86832\n",
      "[7]\tvalidation-auc:0.86832\n",
      "[8]\tvalidation-auc:0.86832\n",
      "[9]\tvalidation-auc:0.86832\n",
      "[0]\tvalidation-auc:0.85321\n",
      "[1]\tvalidation-auc:0.85321\n",
      "[2]\tvalidation-auc:0.85321\n",
      "[3]\tvalidation-auc:0.85321\n",
      "[4]\tvalidation-auc:0.85321\n",
      "[5]\tvalidation-auc:0.85321\n",
      "[6]\tvalidation-auc:0.85321\n",
      "[7]\tvalidation-auc:0.85321\n",
      "[8]\tvalidation-auc:0.85321\n",
      "[9]\tvalidation-auc:0.85494\n",
      "\u001b[32m[I 2021-10-03 12:37:32,274]\u001b[0m Trial 68 finished with value: 0.8258426966292135 and parameters: {'booster': 'dart', 'lambda': 2.5424672157217165e-06, 'alpha': 5.986530328163185e-06, 'max_depth': 4, 'eta': 0.008651769048656593, 'gamma': 0.000586807412841958, 'grow_policy': 'depthwise', 'sample_type': 'weighted', 'normalize_type': 'tree', 'rate_drop': 0.0010972391867099568, 'skip_drop': 1.1970937584777183e-05}. Best is trial 17 with value: 0.8314606741573034.\u001b[0m\n",
      "[0]\tvalidation-auc:0.89736\n",
      "[1]\tvalidation-auc:0.90507\n",
      "[2]\tvalidation-auc:0.90520\n",
      "[3]\tvalidation-auc:0.90599\n",
      "[4]\tvalidation-auc:0.90613\n",
      "[5]\tvalidation-auc:0.90771\n",
      "[6]\tvalidation-auc:0.90408\n",
      "[7]\tvalidation-auc:0.90718\n",
      "[8]\tvalidation-auc:0.91034\n",
      "[9]\tvalidation-auc:0.91047\n",
      "[0]\tvalidation-auc:0.88382\n",
      "[1]\tvalidation-auc:0.88255\n",
      "[2]\tvalidation-auc:0.87039\n",
      "[3]\tvalidation-auc:0.86771\n",
      "[4]\tvalidation-auc:0.87447\n",
      "[5]\tvalidation-auc:0.87487\n",
      "[6]\tvalidation-auc:0.87340\n",
      "[7]\tvalidation-auc:0.87380\n",
      "[8]\tvalidation-auc:0.87159\n",
      "[9]\tvalidation-auc:0.87152\n",
      "[0]\tvalidation-auc:0.81504\n",
      "[1]\tvalidation-auc:0.81551\n",
      "[2]\tvalidation-auc:0.81611\n",
      "[3]\tvalidation-auc:0.81805\n",
      "[4]\tvalidation-auc:0.81771\n",
      "[5]\tvalidation-auc:0.81551\n",
      "[6]\tvalidation-auc:0.81705\n",
      "[7]\tvalidation-auc:0.81912\n",
      "[8]\tvalidation-auc:0.81357\n",
      "[9]\tvalidation-auc:0.81564\n",
      "[0]\tvalidation-auc:0.86832\n",
      "[1]\tvalidation-auc:0.86832\n",
      "[2]\tvalidation-auc:0.86798\n",
      "[3]\tvalidation-auc:0.86504\n",
      "[4]\tvalidation-auc:0.86671\n",
      "[5]\tvalidation-auc:0.86624\n",
      "[6]\tvalidation-auc:0.86985\n",
      "[7]\tvalidation-auc:0.86985\n",
      "[8]\tvalidation-auc:0.86878\n",
      "[9]\tvalidation-auc:0.86731\n",
      "[0]\tvalidation-auc:0.85321\n",
      "[1]\tvalidation-auc:0.86438\n",
      "[2]\tvalidation-auc:0.86219\n",
      "[3]\tvalidation-auc:0.86259\n",
      "[4]\tvalidation-auc:0.86618\n",
      "[5]\tvalidation-auc:0.86711\n",
      "[6]\tvalidation-auc:0.86863\n",
      "[7]\tvalidation-auc:0.86671\n",
      "[8]\tvalidation-auc:0.86664\n",
      "[9]\tvalidation-auc:0.87083\n",
      "\u001b[32m[I 2021-10-03 12:37:33,179]\u001b[0m Trial 69 finished with value: 0.8202247191011236 and parameters: {'booster': 'dart', 'lambda': 9.136688304128347e-07, 'alpha': 1.2717542143149302e-06, 'max_depth': 4, 'eta': 0.12119997689108794, 'gamma': 1.3446370695992782e-05, 'grow_policy': 'lossguide', 'sample_type': 'weighted', 'normalize_type': 'tree', 'rate_drop': 0.009516947289393717, 'skip_drop': 0.0038531084499119485}. Best is trial 17 with value: 0.8314606741573034.\u001b[0m\n",
      "[0]\tvalidation-auc:0.84539\n",
      "[1]\tvalidation-auc:0.84539\n",
      "[2]\tvalidation-auc:0.84539\n",
      "[3]\tvalidation-auc:0.84539\n",
      "[4]\tvalidation-auc:0.85883\n",
      "\u001b[32m[I 2021-10-03 12:37:33,277]\u001b[0m Trial 70 pruned. Trial was pruned at iteration 5.\u001b[0m\n",
      "[0]\tvalidation-auc:0.89802\n",
      "[1]\tvalidation-auc:0.90659\n",
      "[2]\tvalidation-auc:0.90698\n",
      "[3]\tvalidation-auc:0.90553\n",
      "[4]\tvalidation-auc:0.90507\n",
      "[5]\tvalidation-auc:0.90520\n",
      "[6]\tvalidation-auc:0.90375\n",
      "[7]\tvalidation-auc:0.90389\n",
      "[8]\tvalidation-auc:0.90375\n",
      "[9]\tvalidation-auc:0.90481\n",
      "[0]\tvalidation-auc:0.86504\n",
      "[1]\tvalidation-auc:0.86517\n",
      "[2]\tvalidation-auc:0.86517\n",
      "[3]\tvalidation-auc:0.86504\n",
      "[4]\tvalidation-auc:0.86504\n",
      "[5]\tvalidation-auc:0.86504\n",
      "[6]\tvalidation-auc:0.86504\n",
      "[7]\tvalidation-auc:0.86544\n",
      "[8]\tvalidation-auc:0.86544\n",
      "[9]\tvalidation-auc:0.86477\n",
      "[0]\tvalidation-auc:0.82086\n",
      "[1]\tvalidation-auc:0.82527\n",
      "[2]\tvalidation-auc:0.82647\n",
      "[3]\tvalidation-auc:0.82767\n",
      "[4]\tvalidation-auc:0.83061\n",
      "[5]\tvalidation-auc:0.82821\n",
      "[6]\tvalidation-auc:0.82554\n",
      "[7]\tvalidation-auc:0.82714\n",
      "[8]\tvalidation-auc:0.82554\n",
      "[9]\tvalidation-auc:0.82554\n",
      "[0]\tvalidation-auc:0.86504\n",
      "[1]\tvalidation-auc:0.86344\n",
      "[2]\tvalidation-auc:0.86344\n",
      "[3]\tvalidation-auc:0.86344\n",
      "[4]\tvalidation-auc:0.86564\n",
      "[5]\tvalidation-auc:0.86564\n",
      "[6]\tvalidation-auc:0.86564\n",
      "[7]\tvalidation-auc:0.86564\n",
      "[8]\tvalidation-auc:0.86564\n",
      "[9]\tvalidation-auc:0.86564\n",
      "[0]\tvalidation-auc:0.84716\n",
      "[1]\tvalidation-auc:0.84676\n",
      "[2]\tvalidation-auc:0.84650\n",
      "[3]\tvalidation-auc:0.84650\n",
      "[4]\tvalidation-auc:0.84650\n",
      "[5]\tvalidation-auc:0.84650\n",
      "[6]\tvalidation-auc:0.84650\n",
      "[7]\tvalidation-auc:0.84650\n",
      "[8]\tvalidation-auc:0.84650\n",
      "[9]\tvalidation-auc:0.84650\n",
      "\u001b[32m[I 2021-10-03 12:37:34,189]\u001b[0m Trial 71 finished with value: 0.8258426966292135 and parameters: {'booster': 'dart', 'lambda': 0.0052368367744415265, 'alpha': 1.4032478816360485e-05, 'max_depth': 5, 'eta': 0.008165944524531362, 'gamma': 4.3705988221491084e-05, 'grow_policy': 'lossguide', 'sample_type': 'uniform', 'normalize_type': 'forest', 'rate_drop': 0.04113680417083692, 'skip_drop': 4.1713221736171466e-06}. Best is trial 17 with value: 0.8314606741573034.\u001b[0m\n",
      "[0]\tvalidation-auc:0.88643\n",
      "[1]\tvalidation-auc:0.88485\n",
      "[2]\tvalidation-auc:0.88603\n",
      "[3]\tvalidation-auc:0.88590\n",
      "[4]\tvalidation-auc:0.88577\n",
      "IOPub message rate exceeded.\n",
      "The notebook server will temporarily stop sending output\n",
      "to the client in order to avoid crashing it.\n",
      "To change this limit, set the config variable\n",
      "`--NotebookApp.iopub_msg_rate_limit`.\n",
      "\n",
      "Current values:\n",
      "NotebookApp.iopub_msg_rate_limit=50.0 (msgs/sec)\n",
      "NotebookApp.rate_limit_window=3.0 (secs)\n",
      "\n",
      "[9]\tvalidation-auc:0.90665\n",
      "[0]\tvalidation-auc:0.86504\n",
      "[1]\tvalidation-auc:0.86598\n",
      "[2]\tvalidation-auc:0.87921\n",
      "[3]\tvalidation-auc:0.88135\n",
      "[4]\tvalidation-auc:0.87707\n",
      "[5]\tvalidation-auc:0.87600\n",
      "[6]\tvalidation-auc:0.87440\n",
      "[7]\tvalidation-auc:0.87594\n",
      "[8]\tvalidation-auc:0.88068\n",
      "[9]\tvalidation-auc:0.88229\n",
      "[0]\tvalidation-auc:0.81705\n",
      "[1]\tvalidation-auc:0.84813\n",
      "[2]\tvalidation-auc:0.82914\n",
      "[3]\tvalidation-auc:0.83569\n",
      "[4]\tvalidation-auc:0.84592\n",
      "[5]\tvalidation-auc:0.84011\n",
      "[6]\tvalidation-auc:0.83008\n",
      "[7]\tvalidation-auc:0.82694\n",
      "[8]\tvalidation-auc:0.83102\n",
      "[9]\tvalidation-auc:0.83262\n",
      "[0]\tvalidation-auc:0.86504\n",
      "[1]\tvalidation-auc:0.86190\n",
      "[2]\tvalidation-auc:0.86003\n",
      "[3]\tvalidation-auc:0.85742\n",
      "[4]\tvalidation-auc:0.86832\n",
      "[5]\tvalidation-auc:0.86604\n",
      "[6]\tvalidation-auc:0.86938\n",
      "[7]\tvalidation-auc:0.86805\n",
      "[8]\tvalidation-auc:0.86671\n",
      "[9]\tvalidation-auc:0.87634\n",
      "[0]\tvalidation-auc:0.84716\n",
      "[1]\tvalidation-auc:0.85833\n",
      "[2]\tvalidation-auc:0.86152\n",
      "[3]\tvalidation-auc:0.86631\n",
      "[4]\tvalidation-auc:0.86518\n",
      "[5]\tvalidation-auc:0.86730\n",
      "[6]\tvalidation-auc:0.86219\n",
      "[7]\tvalidation-auc:0.86232\n",
      "[8]\tvalidation-auc:0.86531\n",
      "[9]\tvalidation-auc:0.86511\n",
      "\u001b[32m[I 2021-10-03 12:37:36,089]\u001b[0m Trial 74 finished with value: 0.8033707865168539 and parameters: {'booster': 'dart', 'lambda': 0.0017493695830286876, 'alpha': 2.5497444109608903e-07, 'max_depth': 5, 'eta': 0.21574328151106806, 'gamma': 6.632361106264565e-06, 'grow_policy': 'lossguide', 'sample_type': 'uniform', 'normalize_type': 'forest', 'rate_drop': 0.024402605042929185, 'skip_drop': 4.057365080397497e-08}. Best is trial 17 with value: 0.8314606741573034.\u001b[0m\n",
      "[0]\tvalidation-auc:0.89559\n",
      "[1]\tvalidation-auc:0.89539\n",
      "[2]\tvalidation-auc:0.89526\n",
      "[3]\tvalidation-auc:0.89526\n",
      "[4]\tvalidation-auc:0.89526\n",
      "\u001b[32m[I 2021-10-03 12:37:36,207]\u001b[0m Trial 75 pruned. Trial was pruned at iteration 5.\u001b[0m\n",
      "[0]\tvalidation-auc:0.86555\n",
      "[1]\tvalidation-auc:0.86555\n",
      "[2]\tvalidation-auc:0.86555\n",
      "[3]\tvalidation-auc:0.86555\n",
      "[4]\tvalidation-auc:0.86555\n",
      "[5]\tvalidation-auc:0.86555\n",
      "\u001b[32m[I 2021-10-03 12:37:36,341]\u001b[0m Trial 76 pruned. Trial was pruned at iteration 5.\u001b[0m\n",
      "[0]\tvalidation-auc:0.89736\n",
      "[1]\tvalidation-auc:0.90257\n",
      "[2]\tvalidation-auc:0.90777\n",
      "[3]\tvalidation-auc:0.90382\n",
      "[4]\tvalidation-auc:0.89736\n",
      "[5]\tvalidation-auc:0.89644\n",
      "[6]\tvalidation-auc:0.89572\n",
      "[7]\tvalidation-auc:0.90375\n",
      "[8]\tvalidation-auc:0.90955\n",
      "[9]\tvalidation-auc:0.90784\n",
      "[0]\tvalidation-auc:0.88382\n",
      "[1]\tvalidation-auc:0.87754\n",
      "[2]\tvalidation-auc:0.87975\n",
      "[3]\tvalidation-auc:0.88583\n",
      "[4]\tvalidation-auc:0.88416\n",
      "[5]\tvalidation-auc:0.88148\n",
      "[6]\tvalidation-auc:0.89178\n",
      "[7]\tvalidation-auc:0.88529\n",
      "[8]\tvalidation-auc:0.89131\n",
      "[9]\tvalidation-auc:0.89953\n",
      "[0]\tvalidation-auc:0.82346\n",
      "[1]\tvalidation-auc:0.81176\n",
      "[2]\tvalidation-auc:0.81558\n",
      "[3]\tvalidation-auc:0.84057\n",
      "[4]\tvalidation-auc:0.84893\n",
      "[5]\tvalidation-auc:0.84138\n",
      "[6]\tvalidation-auc:0.83897\n",
      "[7]\tvalidation-auc:0.82868\n",
      "[8]\tvalidation-auc:0.81999\n",
      "[9]\tvalidation-auc:0.81364\n",
      "[0]\tvalidation-auc:0.86832\n",
      "[1]\tvalidation-auc:0.86791\n",
      "[2]\tvalidation-auc:0.86283\n",
      "[3]\tvalidation-auc:0.87500\n",
      "[4]\tvalidation-auc:0.87774\n",
      "[5]\tvalidation-auc:0.87654\n",
      "[6]\tvalidation-auc:0.88128\n",
      "[7]\tvalidation-auc:0.87567\n",
      "[8]\tvalidation-auc:0.87152\n",
      "[9]\tvalidation-auc:0.87119\n",
      "[0]\tvalidation-auc:0.85321\n",
      "[1]\tvalidation-auc:0.86830\n",
      "[2]\tvalidation-auc:0.86977\n",
      "[3]\tvalidation-auc:0.86471\n",
      "[4]\tvalidation-auc:0.86930\n",
      "[5]\tvalidation-auc:0.86730\n",
      "[6]\tvalidation-auc:0.86777\n",
      "[7]\tvalidation-auc:0.86172\n",
      "[8]\tvalidation-auc:0.86086\n",
      "[9]\tvalidation-auc:0.85899\n",
      "\u001b[32m[I 2021-10-03 12:37:37,298]\u001b[0m Trial 77 finished with value: 0.8146067415730337 and parameters: {'booster': 'dart', 'lambda': 0.025671907661555988, 'alpha': 2.0250150030148883e-06, 'max_depth': 4, 'eta': 0.5702846089786248, 'gamma': 5.6986814795142914e-08, 'grow_policy': 'lossguide', 'sample_type': 'weighted', 'normalize_type': 'tree', 'rate_drop': 0.0034809693088214168, 'skip_drop': 1.0541425295651058e-08}. Best is trial 17 with value: 0.8314606741573034.\u001b[0m\n",
      "[0]\tvalidation-auc:0.73096\n",
      "[1]\tvalidation-auc:0.76423\n",
      "[2]\tvalidation-auc:0.76871\n",
      "[3]\tvalidation-auc:0.77187\n",
      "[4]\tvalidation-auc:0.76607\n",
      "[5]\tvalidation-auc:0.75343\n",
      "\u001b[32m[I 2021-10-03 12:37:37,399]\u001b[0m Trial 78 pruned. Trial was pruned at iteration 5.\u001b[0m\n",
      "[0]\tvalidation-auc:0.90125\n",
      "[1]\tvalidation-auc:0.90277\n",
      "[2]\tvalidation-auc:0.90678\n",
      "[3]\tvalidation-auc:0.90553\n",
      "[4]\tvalidation-auc:0.90461\n",
      "[5]\tvalidation-auc:0.90481\n",
      "[6]\tvalidation-auc:0.90455\n",
      "[7]\tvalidation-auc:0.90626\n",
      "[8]\tvalidation-auc:0.90982\n",
      "[9]\tvalidation-auc:0.90982\n",
      "[0]\tvalidation-auc:0.88382\n",
      "[1]\tvalidation-auc:0.88416\n",
      "[2]\tvalidation-auc:0.87199\n",
      "[3]\tvalidation-auc:0.87500\n",
      "[4]\tvalidation-auc:0.87861\n",
      "[5]\tvalidation-auc:0.87560\n",
      "[6]\tvalidation-auc:0.87694\n",
      "[7]\tvalidation-auc:0.87640\n",
      "[8]\tvalidation-auc:0.87500\n",
      "[9]\tvalidation-auc:0.87640\n",
      "[0]\tvalidation-auc:0.82346\n",
      "[1]\tvalidation-auc:0.83516\n",
      "[2]\tvalidation-auc:0.83817\n",
      "[3]\tvalidation-auc:0.83803\n",
      "[4]\tvalidation-auc:0.81778\n",
      "[5]\tvalidation-auc:0.81664\n",
      "IOPub message rate exceeded.\n",
      "The notebook server will temporarily stop sending output\n",
      "to the client in order to avoid crashing it.\n",
      "To change this limit, set the config variable\n",
      "`--NotebookApp.iopub_msg_rate_limit`.\n",
      "\n",
      "Current values:\n",
      "NotebookApp.iopub_msg_rate_limit=50.0 (msgs/sec)\n",
      "NotebookApp.rate_limit_window=3.0 (secs)\n",
      "\n",
      "[0]\tvalidation-auc:0.86036\n",
      "[1]\tvalidation-auc:0.86029\n",
      "[2]\tvalidation-auc:0.85976\n",
      "[3]\tvalidation-auc:0.86751\n",
      "[4]\tvalidation-auc:0.86571\n",
      "[5]\tvalidation-auc:0.86818\n",
      "[6]\tvalidation-auc:0.86818\n",
      "[7]\tvalidation-auc:0.87005\n",
      "[8]\tvalidation-auc:0.86938\n",
      "[9]\tvalidation-auc:0.87059\n",
      "[0]\tvalidation-auc:0.84916\n",
      "[1]\tvalidation-auc:0.85853\n",
      "[2]\tvalidation-auc:0.85215\n",
      "[3]\tvalidation-auc:0.85321\n",
      "[4]\tvalidation-auc:0.85640\n",
      "[5]\tvalidation-auc:0.85281\n",
      "[6]\tvalidation-auc:0.85860\n",
      "[7]\tvalidation-auc:0.85886\n",
      "[8]\tvalidation-auc:0.85846\n",
      "[9]\tvalidation-auc:0.85820\n",
      "\u001b[32m[I 2021-10-03 12:37:39,176]\u001b[0m Trial 80 finished with value: 0.8258426966292135 and parameters: {'booster': 'dart', 'lambda': 0.26539862675530257, 'alpha': 4.536519030895734e-07, 'max_depth': 5, 'eta': 0.035521645311325845, 'gamma': 0.0013006013268663224, 'grow_policy': 'depthwise', 'sample_type': 'weighted', 'normalize_type': 'forest', 'rate_drop': 6.934559060287144e-07, 'skip_drop': 0.42447850451860886}. Best is trial 17 with value: 0.8314606741573034.\u001b[0m\n",
      "[0]\tvalidation-auc:0.89690\n",
      "[1]\tvalidation-auc:0.89420\n",
      "[2]\tvalidation-auc:0.89901\n",
      "[3]\tvalidation-auc:0.89928\n",
      "[4]\tvalidation-auc:0.90020\n",
      "\u001b[32m[I 2021-10-03 12:37:39,278]\u001b[0m Trial 81 pruned. Trial was pruned at iteration 5.\u001b[0m\n",
      "[0]\tvalidation-auc:0.89736\n",
      "[1]\tvalidation-auc:0.89736\n",
      "[2]\tvalidation-auc:0.90560\n",
      "[3]\tvalidation-auc:0.90665\n",
      "[4]\tvalidation-auc:0.89809\n",
      "[5]\tvalidation-auc:0.90560\n",
      "[6]\tvalidation-auc:0.90665\n",
      "[7]\tvalidation-auc:0.90560\n",
      "[8]\tvalidation-auc:0.90560\n",
      "[9]\tvalidation-auc:0.90665\n",
      "[0]\tvalidation-auc:0.88382\n",
      "[1]\tvalidation-auc:0.88382\n",
      "[2]\tvalidation-auc:0.88382\n",
      "[3]\tvalidation-auc:0.88382\n",
      "[4]\tvalidation-auc:0.88382\n",
      "[5]\tvalidation-auc:0.88382\n",
      "[6]\tvalidation-auc:0.88382\n",
      "[7]\tvalidation-auc:0.88382\n",
      "[8]\tvalidation-auc:0.88382\n",
      "[9]\tvalidation-auc:0.88382\n",
      "[0]\tvalidation-auc:0.81491\n",
      "[1]\tvalidation-auc:0.81464\n",
      "[2]\tvalidation-auc:0.81651\n",
      "[3]\tvalidation-auc:0.81624\n",
      "[4]\tvalidation-auc:0.81624\n",
      "[5]\tvalidation-auc:0.81624\n",
      "[6]\tvalidation-auc:0.81624\n",
      "[7]\tvalidation-auc:0.81671\n",
      "[8]\tvalidation-auc:0.81631\n",
      "[9]\tvalidation-auc:0.81631\n",
      "[0]\tvalidation-auc:0.86832\n",
      "[1]\tvalidation-auc:0.86832\n",
      "[2]\tvalidation-auc:0.86832\n",
      "[3]\tvalidation-auc:0.86832\n",
      "[4]\tvalidation-auc:0.86832\n",
      "[5]\tvalidation-auc:0.86832\n",
      "[6]\tvalidation-auc:0.86832\n",
      "[7]\tvalidation-auc:0.86832\n",
      "[8]\tvalidation-auc:0.86832\n",
      "[9]\tvalidation-auc:0.86832\n",
      "[0]\tvalidation-auc:0.85321\n",
      "[1]\tvalidation-auc:0.85321\n",
      "[2]\tvalidation-auc:0.85321\n",
      "[3]\tvalidation-auc:0.85321\n",
      "[4]\tvalidation-auc:0.85321\n",
      "[5]\tvalidation-auc:0.85321\n",
      "[6]\tvalidation-auc:0.85321\n",
      "[7]\tvalidation-auc:0.85321\n",
      "[8]\tvalidation-auc:0.85321\n",
      "[9]\tvalidation-auc:0.85321\n",
      "\u001b[32m[I 2021-10-03 12:37:40,184]\u001b[0m Trial 82 finished with value: 0.8258426966292135 and parameters: {'booster': 'dart', 'lambda': 6.217027918111109e-05, 'alpha': 8.64947654029062e-05, 'max_depth': 4, 'eta': 0.005752758170643897, 'gamma': 0.004431823287959903, 'grow_policy': 'depthwise', 'sample_type': 'uniform', 'normalize_type': 'tree', 'rate_drop': 1.44713143483796e-05, 'skip_drop': 1.6950164558632385e-05}. Best is trial 17 with value: 0.8314606741573034.\u001b[0m\n",
      "[0]\tvalidation-auc:0.90125\n",
      "[1]\tvalidation-auc:0.90599\n",
      "[2]\tvalidation-auc:0.90349\n",
      "[3]\tvalidation-auc:0.90599\n",
      "[4]\tvalidation-auc:0.90336\n",
      "[5]\tvalidation-auc:0.90599\n",
      "[6]\tvalidation-auc:0.90586\n",
      "[7]\tvalidation-auc:0.90599\n",
      "[8]\tvalidation-auc:0.90586\n",
      "\u001b[32m[I 2021-10-03 12:37:40,298]\u001b[0m Trial 83 pruned. Trial was pruned at iteration 9.\u001b[0m\n",
      "[0]\tvalidation-auc:0.86555\n",
      "[1]\tvalidation-auc:0.86555\n",
      "[2]\tvalidation-auc:0.86555\n",
      "[3]\tvalidation-auc:0.86555\n",
      "[4]\tvalidation-auc:0.86555\n",
      "[5]\tvalidation-auc:0.86555\n",
      "\u001b[32m[I 2021-10-03 12:37:40,472]\u001b[0m Trial 84 pruned. Trial was pruned at iteration 5.\u001b[0m\n",
      "[0]\tvalidation-auc:0.89993\n",
      "[1]\tvalidation-auc:0.90712\n",
      "[2]\tvalidation-auc:0.90751\n",
      "[3]\tvalidation-auc:0.90389\n",
      "[4]\tvalidation-auc:0.90507\n",
      "[5]\tvalidation-auc:0.90520\n",
      "[6]\tvalidation-auc:0.90336\n",
      "[7]\tvalidation-auc:0.90389\n",
      "[8]\tvalidation-auc:0.90375\n",
      "[9]\tvalidation-auc:0.90481\n",
      "[0]\tvalidation-auc:0.86504\n",
      "[1]\tvalidation-auc:0.86517\n",
      "[2]\tvalidation-auc:0.86517\n",
      "[3]\tvalidation-auc:0.86504\n",
      "[4]\tvalidation-auc:0.86504\n",
      "[5]\tvalidation-auc:0.86504\n",
      "[6]\tvalidation-auc:0.86544\n",
      "[7]\tvalidation-auc:0.86544\n",
      "[8]\tvalidation-auc:0.86477\n",
      "[9]\tvalidation-auc:0.86477\n",
      "[0]\tvalidation-auc:0.81658\n",
      "[1]\tvalidation-auc:0.82373\n",
      "[2]\tvalidation-auc:0.82493\n",
      "[3]\tvalidation-auc:0.82533\n",
      "[4]\tvalidation-auc:0.82667\n",
      "[5]\tvalidation-auc:0.82386\n",
      "[6]\tvalidation-auc:0.82420\n",
      "[7]\tvalidation-auc:0.82427\n",
      "[8]\tvalidation-auc:0.82427\n",
      "[9]\tvalidation-auc:0.82968\n",
      "[0]\tvalidation-auc:0.86504\n",
      "[1]\tvalidation-auc:0.86344\n",
      "[2]\tvalidation-auc:0.86344\n",
      "[3]\tvalidation-auc:0.86344\n",
      "[4]\tvalidation-auc:0.86564\n",
      "[5]\tvalidation-auc:0.86564\n",
      "[6]\tvalidation-auc:0.86564\n",
      "[7]\tvalidation-auc:0.86564\n",
      "[8]\tvalidation-auc:0.86564\n",
      "[9]\tvalidation-auc:0.86564\n",
      "[0]\tvalidation-auc:0.84756\n",
      "[1]\tvalidation-auc:0.84710\n",
      "[2]\tvalidation-auc:0.84676\n",
      "[3]\tvalidation-auc:0.84676\n",
      "[4]\tvalidation-auc:0.84676\n",
      "IOPub message rate exceeded.\n",
      "The notebook server will temporarily stop sending output\n",
      "to the client in order to avoid crashing it.\n",
      "To change this limit, set the config variable\n",
      "`--NotebookApp.iopub_msg_rate_limit`.\n",
      "\n",
      "Current values:\n",
      "NotebookApp.iopub_msg_rate_limit=50.0 (msgs/sec)\n",
      "NotebookApp.rate_limit_window=3.0 (secs)\n",
      "\n",
      "[9]\tvalidation-auc:0.86491\n",
      "\u001b[32m[I 2021-10-03 12:37:42,400]\u001b[0m Trial 87 finished with value: 0.8314606741573034 and parameters: {'booster': 'dart', 'lambda': 0.0005243803112736027, 'alpha': 1.3083632606274026e-06, 'max_depth': 4, 'eta': 0.013667767710958246, 'gamma': 4.902276900208558e-07, 'grow_policy': 'lossguide', 'sample_type': 'uniform', 'normalize_type': 'forest', 'rate_drop': 0.0004912397173939965, 'skip_drop': 3.342476011546571e-05}. Best is trial 17 with value: 0.8314606741573034.\u001b[0m\n",
      "[0]\tvalidation-auc:0.85349\n",
      "[1]\tvalidation-auc:0.86087\n",
      "[2]\tvalidation-auc:0.86627\n",
      "[3]\tvalidation-auc:0.87194\n",
      "[4]\tvalidation-auc:0.87536\n",
      "\u001b[32m[I 2021-10-03 12:37:42,511]\u001b[0m Trial 88 pruned. Trial was pruned at iteration 5.\u001b[0m\n",
      "[0]\tvalidation-auc:0.89783\n",
      "[1]\tvalidation-auc:0.89736\n",
      "[2]\tvalidation-auc:0.90560\n",
      "[3]\tvalidation-auc:0.90665\n",
      "[4]\tvalidation-auc:0.90560\n",
      "[5]\tvalidation-auc:0.90560\n",
      "[6]\tvalidation-auc:0.90665\n",
      "[7]\tvalidation-auc:0.90560\n",
      "[8]\tvalidation-auc:0.90678\n",
      "[9]\tvalidation-auc:0.90678\n",
      "[0]\tvalidation-auc:0.88382\n",
      "[1]\tvalidation-auc:0.88382\n",
      "[2]\tvalidation-auc:0.88382\n",
      "[3]\tvalidation-auc:0.88382\n",
      "[4]\tvalidation-auc:0.88382\n",
      "[5]\tvalidation-auc:0.88382\n",
      "[6]\tvalidation-auc:0.88349\n",
      "[7]\tvalidation-auc:0.88349\n",
      "[8]\tvalidation-auc:0.88349\n",
      "[9]\tvalidation-auc:0.88349\n",
      "[0]\tvalidation-auc:0.81404\n",
      "[1]\tvalidation-auc:0.81464\n",
      "[2]\tvalidation-auc:0.81651\n",
      "[3]\tvalidation-auc:0.81631\n",
      "[4]\tvalidation-auc:0.81624\n",
      "[5]\tvalidation-auc:0.81671\n",
      "[6]\tvalidation-auc:0.81685\n",
      "[7]\tvalidation-auc:0.81671\n",
      "[8]\tvalidation-auc:0.81671\n",
      "[9]\tvalidation-auc:0.81377\n",
      "[0]\tvalidation-auc:0.86832\n",
      "[1]\tvalidation-auc:0.86832\n",
      "[2]\tvalidation-auc:0.86832\n",
      "[3]\tvalidation-auc:0.86832\n",
      "[4]\tvalidation-auc:0.86832\n",
      "[5]\tvalidation-auc:0.86832\n",
      "[6]\tvalidation-auc:0.86832\n",
      "[7]\tvalidation-auc:0.86832\n",
      "[8]\tvalidation-auc:0.86832\n",
      "[9]\tvalidation-auc:0.86832\n",
      "[0]\tvalidation-auc:0.85321\n",
      "[1]\tvalidation-auc:0.85321\n",
      "[2]\tvalidation-auc:0.85321\n",
      "[3]\tvalidation-auc:0.85321\n",
      "[4]\tvalidation-auc:0.85321\n",
      "[5]\tvalidation-auc:0.85321\n",
      "[6]\tvalidation-auc:0.85321\n",
      "[7]\tvalidation-auc:0.85321\n",
      "[8]\tvalidation-auc:0.85321\n",
      "[9]\tvalidation-auc:0.85494\n",
      "\u001b[32m[I 2021-10-03 12:37:43,469]\u001b[0m Trial 89 finished with value: 0.8258426966292135 and parameters: {'booster': 'dart', 'lambda': 3.251160066922199e-06, 'alpha': 3.7877905420529394e-05, 'max_depth': 4, 'eta': 0.009074387412846998, 'gamma': 0.056577008798004466, 'grow_policy': 'lossguide', 'sample_type': 'uniform', 'normalize_type': 'forest', 'rate_drop': 0.00011682195037490701, 'skip_drop': 3.1971398482120404e-05}. Best is trial 17 with value: 0.8314606741573034.\u001b[0m\n",
      "[0]\tvalidation-auc:0.86555\n",
      "[1]\tvalidation-auc:0.86555\n",
      "[2]\tvalidation-auc:0.86555\n",
      "[3]\tvalidation-auc:0.86555\n",
      "[4]\tvalidation-auc:0.86555\n",
      "\u001b[32m[I 2021-10-03 12:37:43,575]\u001b[0m Trial 90 pruned. Trial was pruned at iteration 5.\u001b[0m\n",
      "[0]\tvalidation-auc:0.89736\n",
      "[1]\tvalidation-auc:0.89736\n",
      "[2]\tvalidation-auc:0.90560\n",
      "[3]\tvalidation-auc:0.90665\n",
      "[4]\tvalidation-auc:0.89809\n",
      "[5]\tvalidation-auc:0.90560\n",
      "[6]\tvalidation-auc:0.90665\n",
      "[7]\tvalidation-auc:0.90560\n",
      "[8]\tvalidation-auc:0.90560\n",
      "[9]\tvalidation-auc:0.90665\n",
      "[0]\tvalidation-auc:0.88382\n",
      "[1]\tvalidation-auc:0.88382\n",
      "[2]\tvalidation-auc:0.88382\n",
      "[3]\tvalidation-auc:0.88382\n",
      "[4]\tvalidation-auc:0.88382\n",
      "[5]\tvalidation-auc:0.88382\n",
      "[6]\tvalidation-auc:0.88382\n",
      "[7]\tvalidation-auc:0.88382\n",
      "[8]\tvalidation-auc:0.88382\n",
      "[9]\tvalidation-auc:0.88382\n",
      "[0]\tvalidation-auc:0.81491\n",
      "[1]\tvalidation-auc:0.81464\n",
      "[2]\tvalidation-auc:0.81651\n",
      "[3]\tvalidation-auc:0.81624\n",
      "[4]\tvalidation-auc:0.81624\n",
      "[5]\tvalidation-auc:0.81624\n",
      "[6]\tvalidation-auc:0.81624\n",
      "[7]\tvalidation-auc:0.81671\n",
      "[8]\tvalidation-auc:0.81631\n",
      "[9]\tvalidation-auc:0.81671\n",
      "[0]\tvalidation-auc:0.86832\n",
      "[1]\tvalidation-auc:0.86832\n",
      "[2]\tvalidation-auc:0.86832\n",
      "[3]\tvalidation-auc:0.86832\n",
      "[4]\tvalidation-auc:0.86832\n",
      "[5]\tvalidation-auc:0.86832\n",
      "[6]\tvalidation-auc:0.86832\n",
      "[7]\tvalidation-auc:0.86832\n",
      "[8]\tvalidation-auc:0.86832\n",
      "[9]\tvalidation-auc:0.86832\n",
      "[0]\tvalidation-auc:0.85321\n",
      "[1]\tvalidation-auc:0.85321\n",
      "[2]\tvalidation-auc:0.85321\n",
      "[3]\tvalidation-auc:0.85321\n",
      "[4]\tvalidation-auc:0.85321\n",
      "[5]\tvalidation-auc:0.85321\n",
      "[6]\tvalidation-auc:0.85321\n",
      "[7]\tvalidation-auc:0.85321\n",
      "[8]\tvalidation-auc:0.85321\n",
      "[9]\tvalidation-auc:0.85321\n",
      "\u001b[32m[I 2021-10-03 12:37:44,489]\u001b[0m Trial 91 finished with value: 0.8258426966292135 and parameters: {'booster': 'dart', 'lambda': 3.997664084115465e-08, 'alpha': 0.0031108738261424428, 'max_depth': 4, 'eta': 0.006175129712479162, 'gamma': 0.08404559736310496, 'grow_policy': 'lossguide', 'sample_type': 'uniform', 'normalize_type': 'forest', 'rate_drop': 9.400835019226847e-05, 'skip_drop': 6.242028406419888e-05}. Best is trial 17 with value: 0.8314606741573034.\u001b[0m\n",
      "[0]\tvalidation-auc:0.89736\n",
      "[1]\tvalidation-auc:0.90599\n",
      "[2]\tvalidation-auc:0.90560\n",
      "[3]\tvalidation-auc:0.90665\n",
      "[4]\tvalidation-auc:0.90560\n",
      "[5]\tvalidation-auc:0.90678\n",
      "[6]\tvalidation-auc:0.90678\n",
      "[7]\tvalidation-auc:0.90790\n",
      "[8]\tvalidation-auc:0.90896\n",
      "[9]\tvalidation-auc:0.90738\n",
      "[0]\tvalidation-auc:0.88382\n",
      "[1]\tvalidation-auc:0.88382\n",
      "[2]\tvalidation-auc:0.88382\n",
      "[3]\tvalidation-auc:0.88382\n",
      "[4]\tvalidation-auc:0.88349\n",
      "[5]\tvalidation-auc:0.88349\n",
      "[6]\tvalidation-auc:0.88349\n",
      "[7]\tvalidation-auc:0.88416\n",
      "[8]\tvalidation-auc:0.88416\n",
      "[9]\tvalidation-auc:0.88349\n",
      "[0]\tvalidation-auc:0.81491\n",
      "[1]\tvalidation-auc:0.81464\n",
      "[2]\tvalidation-auc:0.81651\n",
      "[3]\tvalidation-auc:0.81671\n",
      "[4]\tvalidation-auc:0.81671\n",
      "IOPub message rate exceeded.\n",
      "The notebook server will temporarily stop sending output\n",
      "to the client in order to avoid crashing it.\n",
      "To change this limit, set the config variable\n",
      "`--NotebookApp.iopub_msg_rate_limit`.\n",
      "\n",
      "Current values:\n",
      "NotebookApp.iopub_msg_rate_limit=50.0 (msgs/sec)\n",
      "NotebookApp.rate_limit_window=3.0 (secs)\n",
      "\n",
      "[0]\tvalidation-auc:0.86725\n",
      "[1]\tvalidation-auc:0.86725\n",
      "[2]\tvalidation-auc:0.86725\n",
      "[3]\tvalidation-auc:0.86725\n",
      "[4]\tvalidation-auc:0.86725\n",
      "[5]\tvalidation-auc:0.86725\n",
      "[6]\tvalidation-auc:0.86725\n",
      "[7]\tvalidation-auc:0.86725\n",
      "[8]\tvalidation-auc:0.86725\n",
      "[9]\tvalidation-auc:0.86725\n",
      "[0]\tvalidation-auc:0.85321\n",
      "[1]\tvalidation-auc:0.85321\n",
      "[2]\tvalidation-auc:0.85321\n",
      "[3]\tvalidation-auc:0.85321\n",
      "[4]\tvalidation-auc:0.85321\n",
      "[5]\tvalidation-auc:0.85321\n",
      "[6]\tvalidation-auc:0.85707\n",
      "[7]\tvalidation-auc:0.85494\n",
      "[8]\tvalidation-auc:0.86491\n",
      "[9]\tvalidation-auc:0.86491\n",
      "\u001b[32m[I 2021-10-03 12:37:46,301]\u001b[0m Trial 93 finished with value: 0.8314606741573034 and parameters: {'booster': 'dart', 'lambda': 3.6540563079817734e-08, 'alpha': 0.002867807864667495, 'max_depth': 4, 'eta': 0.014926632368565942, 'gamma': 0.5877669901253205, 'grow_policy': 'depthwise', 'sample_type': 'uniform', 'normalize_type': 'forest', 'rate_drop': 0.000565104297714575, 'skip_drop': 0.000137009555063639}. Best is trial 17 with value: 0.8314606741573034.\u001b[0m\n",
      "[0]\tvalidation-auc:0.89736\n",
      "[1]\tvalidation-auc:0.90599\n",
      "[2]\tvalidation-auc:0.90560\n",
      "[3]\tvalidation-auc:0.90665\n",
      "[4]\tvalidation-auc:0.90560\n",
      "[5]\tvalidation-auc:0.90678\n",
      "[6]\tvalidation-auc:0.90678\n",
      "[7]\tvalidation-auc:0.90771\n",
      "[8]\tvalidation-auc:0.90896\n",
      "[9]\tvalidation-auc:0.90738\n",
      "[0]\tvalidation-auc:0.88382\n",
      "[1]\tvalidation-auc:0.88382\n",
      "[2]\tvalidation-auc:0.88382\n",
      "[3]\tvalidation-auc:0.88382\n",
      "[4]\tvalidation-auc:0.88349\n",
      "[5]\tvalidation-auc:0.88349\n",
      "[6]\tvalidation-auc:0.88349\n",
      "[7]\tvalidation-auc:0.88416\n",
      "[8]\tvalidation-auc:0.88416\n",
      "[9]\tvalidation-auc:0.88349\n",
      "[0]\tvalidation-auc:0.81491\n",
      "[1]\tvalidation-auc:0.81464\n",
      "[2]\tvalidation-auc:0.81651\n",
      "[3]\tvalidation-auc:0.81671\n",
      "[4]\tvalidation-auc:0.81671\n",
      "[5]\tvalidation-auc:0.81685\n",
      "[6]\tvalidation-auc:0.81430\n",
      "[7]\tvalidation-auc:0.81671\n",
      "[8]\tvalidation-auc:0.81404\n",
      "[9]\tvalidation-auc:0.81430\n",
      "[0]\tvalidation-auc:0.86832\n",
      "[1]\tvalidation-auc:0.86832\n",
      "[2]\tvalidation-auc:0.86832\n",
      "[3]\tvalidation-auc:0.86832\n",
      "[4]\tvalidation-auc:0.86832\n",
      "[5]\tvalidation-auc:0.86832\n",
      "[6]\tvalidation-auc:0.86832\n",
      "[7]\tvalidation-auc:0.86832\n",
      "[8]\tvalidation-auc:0.86832\n",
      "[9]\tvalidation-auc:0.86832\n",
      "[0]\tvalidation-auc:0.85321\n",
      "[1]\tvalidation-auc:0.85321\n",
      "[2]\tvalidation-auc:0.85321\n",
      "[3]\tvalidation-auc:0.85321\n",
      "[4]\tvalidation-auc:0.85321\n",
      "[5]\tvalidation-auc:0.85321\n",
      "[6]\tvalidation-auc:0.85707\n",
      "[7]\tvalidation-auc:0.85494\n",
      "[8]\tvalidation-auc:0.85707\n",
      "[9]\tvalidation-auc:0.86491\n",
      "\u001b[32m[I 2021-10-03 12:37:47,191]\u001b[0m Trial 94 finished with value: 0.8314606741573034 and parameters: {'booster': 'dart', 'lambda': 2.684428512496811e-08, 'alpha': 0.0027934771923474725, 'max_depth': 4, 'eta': 0.014373545980513382, 'gamma': 0.347665826181007, 'grow_policy': 'depthwise', 'sample_type': 'uniform', 'normalize_type': 'forest', 'rate_drop': 0.0003932150409923984, 'skip_drop': 0.0001993326251356074}. Best is trial 17 with value: 0.8314606741573034.\u001b[0m\n",
      "[0]\tvalidation-auc:0.89736\n",
      "[1]\tvalidation-auc:0.90599\n",
      "[2]\tvalidation-auc:0.90560\n",
      "[3]\tvalidation-auc:0.90665\n",
      "[4]\tvalidation-auc:0.90560\n",
      "[5]\tvalidation-auc:0.90678\n",
      "[6]\tvalidation-auc:0.90771\n",
      "[7]\tvalidation-auc:0.90790\n",
      "[8]\tvalidation-auc:0.90738\n",
      "[9]\tvalidation-auc:0.90738\n",
      "[0]\tvalidation-auc:0.88382\n",
      "[1]\tvalidation-auc:0.88382\n",
      "[2]\tvalidation-auc:0.88382\n",
      "[3]\tvalidation-auc:0.88382\n",
      "[4]\tvalidation-auc:0.88382\n",
      "[5]\tvalidation-auc:0.88349\n",
      "[6]\tvalidation-auc:0.88349\n",
      "[7]\tvalidation-auc:0.88349\n",
      "[8]\tvalidation-auc:0.88349\n",
      "[9]\tvalidation-auc:0.88349\n",
      "[0]\tvalidation-auc:0.82346\n",
      "[1]\tvalidation-auc:0.81464\n",
      "[2]\tvalidation-auc:0.81651\n",
      "[3]\tvalidation-auc:0.81671\n",
      "[4]\tvalidation-auc:0.81671\n",
      "[5]\tvalidation-auc:0.81377\n",
      "[6]\tvalidation-auc:0.81377\n",
      "[7]\tvalidation-auc:0.81671\n",
      "[8]\tvalidation-auc:0.81404\n",
      "[9]\tvalidation-auc:0.81430\n",
      "[0]\tvalidation-auc:0.86832\n",
      "[1]\tvalidation-auc:0.86832\n",
      "[2]\tvalidation-auc:0.86832\n",
      "[3]\tvalidation-auc:0.86832\n",
      "[4]\tvalidation-auc:0.86832\n",
      "[5]\tvalidation-auc:0.86832\n",
      "[6]\tvalidation-auc:0.86832\n",
      "[7]\tvalidation-auc:0.86832\n",
      "[8]\tvalidation-auc:0.86832\n",
      "[9]\tvalidation-auc:0.86832\n",
      "[0]\tvalidation-auc:0.85321\n",
      "[1]\tvalidation-auc:0.85321\n",
      "[2]\tvalidation-auc:0.85321\n",
      "[3]\tvalidation-auc:0.85321\n",
      "[4]\tvalidation-auc:0.85321\n",
      "[5]\tvalidation-auc:0.85707\n",
      "[6]\tvalidation-auc:0.85707\n",
      "[7]\tvalidation-auc:0.85707\n",
      "[8]\tvalidation-auc:0.86491\n",
      "[9]\tvalidation-auc:0.86564\n",
      "\u001b[32m[I 2021-10-03 12:37:48,087]\u001b[0m Trial 95 finished with value: 0.8258426966292135 and parameters: {'booster': 'dart', 'lambda': 2.3164569052838487e-07, 'alpha': 0.005770763151272351, 'max_depth': 4, 'eta': 0.015955459241644772, 'gamma': 0.391739877177327, 'grow_policy': 'depthwise', 'sample_type': 'uniform', 'normalize_type': 'forest', 'rate_drop': 0.002326027449129923, 'skip_drop': 0.00013469040887659857}. Best is trial 17 with value: 0.8314606741573034.\u001b[0m\n",
      "[0]\tvalidation-auc:0.89736\n",
      "[1]\tvalidation-auc:0.90599\n",
      "[2]\tvalidation-auc:0.90560\n",
      "[3]\tvalidation-auc:0.90665\n",
      "[4]\tvalidation-auc:0.90560\n",
      "[5]\tvalidation-auc:0.90678\n",
      "[6]\tvalidation-auc:0.90771\n",
      "[7]\tvalidation-auc:0.90790\n",
      "[8]\tvalidation-auc:0.90896\n",
      "[9]\tvalidation-auc:0.90738\n",
      "[0]\tvalidation-auc:0.88382\n",
      "[1]\tvalidation-auc:0.88382\n",
      "[2]\tvalidation-auc:0.88382\n",
      "[3]\tvalidation-auc:0.88382\n",
      "[4]\tvalidation-auc:0.88349\n",
      "[5]\tvalidation-auc:0.88349\n",
      "[6]\tvalidation-auc:0.88349\n",
      "[7]\tvalidation-auc:0.88416\n",
      "[8]\tvalidation-auc:0.88416\n",
      "IOPub message rate exceeded.\n",
      "The notebook server will temporarily stop sending output\n",
      "to the client in order to avoid crashing it.\n",
      "To change this limit, set the config variable\n",
      "`--NotebookApp.iopub_msg_rate_limit`.\n",
      "\n",
      "Current values:\n",
      "NotebookApp.iopub_msg_rate_limit=50.0 (msgs/sec)\n",
      "NotebookApp.rate_limit_window=3.0 (secs)\n",
      "\n",
      "[0]\tvalidation-auc:0.81491\n",
      "[1]\tvalidation-auc:0.81544\n",
      "[2]\tvalidation-auc:0.81404\n",
      "[3]\tvalidation-auc:0.83483\n",
      "[4]\tvalidation-auc:0.81872\n",
      "[5]\tvalidation-auc:0.81858\n",
      "[6]\tvalidation-auc:0.81765\n",
      "[7]\tvalidation-auc:0.81872\n",
      "[8]\tvalidation-auc:0.81738\n",
      "[9]\tvalidation-auc:0.81725\n",
      "[0]\tvalidation-auc:0.86832\n",
      "[1]\tvalidation-auc:0.86832\n",
      "[2]\tvalidation-auc:0.86832\n",
      "[3]\tvalidation-auc:0.86798\n",
      "[4]\tvalidation-auc:0.86892\n",
      "[5]\tvalidation-auc:0.86798\n",
      "[6]\tvalidation-auc:0.86778\n",
      "[7]\tvalidation-auc:0.86771\n",
      "[8]\tvalidation-auc:0.86524\n",
      "[9]\tvalidation-auc:0.86598\n",
      "[0]\tvalidation-auc:0.85321\n",
      "[1]\tvalidation-auc:0.85614\n",
      "[2]\tvalidation-auc:0.86544\n",
      "[3]\tvalidation-auc:0.85933\n",
      "[4]\tvalidation-auc:0.85673\n",
      "[5]\tvalidation-auc:0.85826\n",
      "[6]\tvalidation-auc:0.86238\n",
      "[7]\tvalidation-auc:0.85966\n",
      "[8]\tvalidation-auc:0.85873\n",
      "[9]\tvalidation-auc:0.86232\n",
      "\u001b[32m[I 2021-10-03 12:37:50,104]\u001b[0m Trial 98 finished with value: 0.8258426966292135 and parameters: {'booster': 'gbtree', 'lambda': 1.274907672497667e-07, 'alpha': 0.00342031664157743, 'max_depth': 4, 'eta': 0.07525564989520916, 'gamma': 0.25260513004954616, 'grow_policy': 'depthwise'}. Best is trial 17 with value: 0.8314606741573034.\u001b[0m\n",
      "[0]\tvalidation-auc:0.86555\n",
      "[1]\tvalidation-auc:0.86555\n",
      "[2]\tvalidation-auc:0.86555\n",
      "[3]\tvalidation-auc:0.86555\n",
      "[4]\tvalidation-auc:0.86555\n",
      "[5]\tvalidation-auc:0.86555\n",
      "\u001b[32m[I 2021-10-03 12:37:50,311]\u001b[0m Trial 99 pruned. Trial was pruned at iteration 5.\u001b[0m\n",
      "FrozenTrial(number=17, values=[0.8314606741573034], datetime_start=datetime.datetime(2021, 10, 3, 12, 37, 5, 288815), datetime_complete=datetime.datetime(2021, 10, 3, 12, 37, 6, 185429), params={'booster': 'dart', 'lambda': 0.001659826509827184, 'alpha': 4.6851548528451845e-06, 'max_depth': 4, 'eta': 0.03642406752426057, 'gamma': 5.739686412915303e-06, 'grow_policy': 'lossguide', 'sample_type': 'uniform', 'normalize_type': 'tree', 'rate_drop': 0.03415476777463969, 'skip_drop': 1.8246950742715343e-08}, distributions={'booster': CategoricalDistribution(choices=('gbtree', 'gblinear', 'dart')), 'lambda': LogUniformDistribution(high=1.0, low=1e-08), 'alpha': LogUniformDistribution(high=1.0, low=1e-08), 'max_depth': IntUniformDistribution(high=9, low=1, step=1), 'eta': LogUniformDistribution(high=1.0, low=1e-08), 'gamma': LogUniformDistribution(high=1.0, low=1e-08), 'grow_policy': CategoricalDistribution(choices=('depthwise', 'lossguide')), 'sample_type': CategoricalDistribution(choices=('uniform', 'weighted')), 'normalize_type': CategoricalDistribution(choices=('tree', 'forest')), 'rate_drop': LogUniformDistribution(high=1.0, low=1e-08), 'skip_drop': LogUniformDistribution(high=1.0, low=1e-08)}, user_attrs={}, system_attrs={}, intermediate_values={0: 0.897365, 1: 0.905995, 2: 0.906522, 3: 0.90975, 4: 0.908037, 5: 0.908432, 6: 0.9083, 7: 0.906983, 8: 0.905468, 9: 0.907444}, trial_id=17, state=TrialState.COMPLETE, value=None)\n"
     ]
    }
   ],
   "source": [
    "#optuna example\n",
    "#https://github.com/optuna/optuna-examples/blob/main/xgboost/xgboost_integration.py\n",
    "import xgboost as xgb\n",
    "def objective(trial):\n",
    "    param = {\n",
    "            \"verbosity\": 0,\n",
    "            \"objective\": \"binary:logistic\",  #binary:logistic\n",
    "            \"eval_metric\": \"auc\",  #map\n",
    "            \"booster\": trial.suggest_categorical(\"booster\", [\"gbtree\", \"gblinear\", \"dart\"]),\n",
    "            \"lambda\": trial.suggest_float(\"lambda\", 1e-8, 1.0, log=True),\n",
    "            \"alpha\": trial.suggest_float(\"alpha\", 1e-8, 1.0, log=True),\n",
    "        }\n",
    "\n",
    "    if param[\"booster\"] == \"gbtree\" or param[\"booster\"] == \"dart\":\n",
    "        param[\"max_depth\"] = trial.suggest_int(\"max_depth\", 1, 9)\n",
    "        param[\"eta\"] = trial.suggest_float(\"eta\", 1e-8, 1.0, log=True)\n",
    "        param[\"gamma\"] = trial.suggest_float(\"gamma\", 1e-8, 1.0, log=True)\n",
    "        param[\"grow_policy\"] = trial.suggest_categorical(\"grow_policy\", [\"depthwise\", \"lossguide\"])\n",
    "    if param[\"booster\"] == \"dart\":\n",
    "        param[\"sample_type\"] = trial.suggest_categorical(\"sample_type\", [\"uniform\", \"weighted\"])\n",
    "        param[\"normalize_type\"] = trial.suggest_categorical(\"normalize_type\", [\"tree\", \"forest\"])\n",
    "        param[\"rate_drop\"] = trial.suggest_float(\"rate_drop\", 1e-8, 1.0, log=True)\n",
    "        param[\"skip_drop\"] = trial.suggest_float(\"skip_drop\", 1e-8, 1.0, log=True)\n",
    "\n",
    "    for i in range(5):\n",
    "        train_x = train.query(f'fold!={i}').drop(['fold', 'Survived'], axis=1)\n",
    "        train_y = train.query(f'fold!={i}').Survived\n",
    "\n",
    "        valid_x = train.query(f'fold=={i}').drop(['fold', 'Survived'], axis=1)\n",
    "        valid_y = train.query(f'fold=={i}').Survived\n",
    "\n",
    "        dtrain = xgb.DMatrix(train_x, label=train_y)\n",
    "        dvalid = xgb.DMatrix(valid_x, label=valid_y)\n",
    "        \n",
    "        accuracy = []\n",
    "        # Add a callback for pruning.\n",
    "        pruning_callback = optuna.integration.XGBoostPruningCallback(trial, \"validation-auc\")\n",
    "        bst = xgb.train(param, dtrain, evals=[(dvalid, \"validation\")], callbacks=[pruning_callback])\n",
    "        preds = bst.predict(dvalid)\n",
    "        pred_labels = np.rint(preds)\n",
    "        accuracy.append(sklearn.metrics.accuracy_score(valid_y, pred_labels))\n",
    "        \n",
    "        \n",
    "        joblib.dump(bst, f'xgboost_fold{i}.pkl')\n",
    "    return np.mean(accuracy)\n",
    "\n",
    "    \n",
    "if __name__ == \"__main__\":\n",
    "    study = optuna.create_study(\n",
    "        pruner=optuna.pruners.MedianPruner(n_warmup_steps=5), direction=\"maximize\"\n",
    "    )\n",
    "    study.optimize(objective, n_trials=100)\n",
    "    print(study.best_trial)"
   ]
  },
  {
   "cell_type": "markdown",
   "metadata": {
    "cell_id": "00060-1fe17c39-06ca-47d2-a6df-62e439193f95",
    "deepnote_cell_type": "text-cell-h3",
    "is_collapsed": false,
    "tags": []
   },
   "source": [
    "### Logistic"
   ]
  },
  {
   "cell_type": "code",
   "execution_count": null,
   "metadata": {
    "cell_id": "00061-5a247cae-871b-4809-9fcb-c6fd300300b7",
    "deepnote_cell_type": "code",
    "deepnote_to_be_reexecuted": false,
    "execution_millis": 105902,
    "execution_start": 1633266398682,
    "source_hash": "2f3b61af",
    "tags": []
   },
   "outputs": [
    {
     "name": "stderr",
     "output_type": "stream",
     "text": [
      "\u001b[32m[I 2021-10-03 13:06:38,677]\u001b[0m A new study created in memory with name: no-name-5d10eb6a-edaa-4fd5-9272-7ad6b88b18bf\u001b[0m\n",
      "\u001b[32m[I 2021-10-03 13:06:39,084]\u001b[0m Trial 0 finished with value: 0.6123595505617978 and parameters: {'logreg_c': 8.439924122911414e-09}. Best is trial 0 with value: 0.6123595505617978.\u001b[0m\n",
      "\u001b[32m[I 2021-10-03 13:06:39,584]\u001b[0m Trial 1 finished with value: 0.6123595505617978 and parameters: {'logreg_c': 1.9074766503214344e-10}. Best is trial 0 with value: 0.6123595505617978.\u001b[0m\n",
      "\u001b[32m[I 2021-10-03 13:06:40,671]\u001b[0m Trial 2 finished with value: 0.8146067415730337 and parameters: {'logreg_c': 112213.66829628668}. Best is trial 2 with value: 0.8146067415730337.\u001b[0m\n",
      "\u001b[32m[I 2021-10-03 13:06:41,182]\u001b[0m Trial 3 finished with value: 0.6123595505617978 and parameters: {'logreg_c': 1.1411550103568469e-08}. Best is trial 2 with value: 0.8146067415730337.\u001b[0m\n",
      "\u001b[32m[I 2021-10-03 13:06:42,192]\u001b[0m Trial 4 finished with value: 0.8202247191011236 and parameters: {'logreg_c': 9330898728.880873}. Best is trial 4 with value: 0.8202247191011236.\u001b[0m\n",
      "\u001b[32m[I 2021-10-03 13:06:43,294]\u001b[0m Trial 5 finished with value: 0.8258426966292135 and parameters: {'logreg_c': 58.36310822350013}. Best is trial 5 with value: 0.8258426966292135.\u001b[0m\n",
      "\u001b[32m[I 2021-10-03 13:06:44,386]\u001b[0m Trial 6 finished with value: 0.8258426966292135 and parameters: {'logreg_c': 3206856.3483628132}. Best is trial 5 with value: 0.8258426966292135.\u001b[0m\n",
      "\u001b[32m[I 2021-10-03 13:06:44,991]\u001b[0m Trial 7 finished with value: 0.6910112359550562 and parameters: {'logreg_c': 0.0004954686633122948}. Best is trial 5 with value: 0.8258426966292135.\u001b[0m\n",
      "\u001b[32m[I 2021-10-03 13:06:45,513]\u001b[0m Trial 8 finished with value: 0.6573033707865169 and parameters: {'logreg_c': 6.860088556584815e-06}. Best is trial 5 with value: 0.8258426966292135.\u001b[0m\n",
      "\u001b[32m[I 2021-10-03 13:06:46,084]\u001b[0m Trial 9 finished with value: 0.6123595505617978 and parameters: {'logreg_c': 3.3742261495592143e-10}. Best is trial 5 with value: 0.8258426966292135.\u001b[0m\n",
      "\u001b[32m[I 2021-10-03 13:06:47,202]\u001b[0m Trial 10 finished with value: 0.8258426966292135 and parameters: {'logreg_c': 78.36137737602279}. Best is trial 5 with value: 0.8258426966292135.\u001b[0m\n",
      "\u001b[32m[I 2021-10-03 13:06:48,284]\u001b[0m Trial 11 finished with value: 0.8202247191011236 and parameters: {'logreg_c': 490842.7546075999}. Best is trial 5 with value: 0.8258426966292135.\u001b[0m\n",
      "\u001b[32m[I 2021-10-03 13:06:49,386]\u001b[0m Trial 12 finished with value: 0.8202247191011236 and parameters: {'logreg_c': 30.75537240826866}. Best is trial 5 with value: 0.8258426966292135.\u001b[0m\n",
      "\u001b[32m[I 2021-10-03 13:06:50,687]\u001b[0m Trial 13 finished with value: 0.8202247191011236 and parameters: {'logreg_c': 2590063.4516218062}. Best is trial 5 with value: 0.8258426966292135.\u001b[0m\n",
      "\u001b[32m[I 2021-10-03 13:06:51,770]\u001b[0m Trial 14 finished with value: 0.8089887640449438 and parameters: {'logreg_c': 0.08858149832671545}. Best is trial 5 with value: 0.8258426966292135.\u001b[0m\n",
      "\u001b[32m[I 2021-10-03 13:06:52,871]\u001b[0m Trial 15 finished with value: 0.8258426966292135 and parameters: {'logreg_c': 6763025435.614711}. Best is trial 5 with value: 0.8258426966292135.\u001b[0m\n",
      "\u001b[32m[I 2021-10-03 13:06:53,893]\u001b[0m Trial 16 finished with value: 0.8202247191011236 and parameters: {'logreg_c': 3720.0676816429914}. Best is trial 5 with value: 0.8258426966292135.\u001b[0m\n",
      "\u001b[32m[I 2021-10-03 13:06:54,998]\u001b[0m Trial 17 finished with value: 0.8314606741573034 and parameters: {'logreg_c': 15151155.362635363}. Best is trial 17 with value: 0.8314606741573034.\u001b[0m\n",
      "\u001b[32m[I 2021-10-03 13:06:56,092]\u001b[0m Trial 18 finished with value: 0.8258426966292135 and parameters: {'logreg_c': 7727261489.08769}. Best is trial 17 with value: 0.8314606741573034.\u001b[0m\n",
      "\u001b[32m[I 2021-10-03 13:06:57,198]\u001b[0m Trial 19 finished with value: 0.8314606741573034 and parameters: {'logreg_c': 104170985.49692622}. Best is trial 17 with value: 0.8314606741573034.\u001b[0m\n",
      "\u001b[32m[I 2021-10-03 13:06:58,289]\u001b[0m Trial 20 finished with value: 0.8202247191011236 and parameters: {'logreg_c': 50945485.55279614}. Best is trial 17 with value: 0.8314606741573034.\u001b[0m\n",
      "\u001b[32m[I 2021-10-03 13:06:59,371]\u001b[0m Trial 21 finished with value: 0.8202247191011236 and parameters: {'logreg_c': 4035.325467967849}. Best is trial 17 with value: 0.8314606741573034.\u001b[0m\n",
      "\u001b[32m[I 2021-10-03 13:07:00,471]\u001b[0m Trial 22 finished with value: 0.8202247191011236 and parameters: {'logreg_c': 81709555.30721617}. Best is trial 17 with value: 0.8314606741573034.\u001b[0m\n",
      "\u001b[32m[I 2021-10-03 13:07:01,570]\u001b[0m Trial 23 finished with value: 0.8146067415730337 and parameters: {'logreg_c': 124678764.32238173}. Best is trial 17 with value: 0.8314606741573034.\u001b[0m\n",
      "\u001b[32m[I 2021-10-03 13:07:02,688]\u001b[0m Trial 24 finished with value: 0.7078651685393258 and parameters: {'logreg_c': 0.0116843173286962}. Best is trial 17 with value: 0.8314606741573034.\u001b[0m\n",
      "\u001b[32m[I 2021-10-03 13:07:03,886]\u001b[0m Trial 25 finished with value: 0.8258426966292135 and parameters: {'logreg_c': 6233.650315957997}. Best is trial 17 with value: 0.8314606741573034.\u001b[0m\n",
      "\u001b[32m[I 2021-10-03 13:07:05,090]\u001b[0m Trial 26 finished with value: 0.8202247191011236 and parameters: {'logreg_c': 30461.89685745726}. Best is trial 17 with value: 0.8314606741573034.\u001b[0m\n",
      "\u001b[32m[I 2021-10-03 13:07:06,187]\u001b[0m Trial 27 finished with value: 0.8202247191011236 and parameters: {'logreg_c': 27.637520703809013}. Best is trial 17 with value: 0.8314606741573034.\u001b[0m\n",
      "\u001b[32m[I 2021-10-03 13:07:07,370]\u001b[0m Trial 28 finished with value: 0.8202247191011236 and parameters: {'logreg_c': 1626.7727013692454}. Best is trial 17 with value: 0.8314606741573034.\u001b[0m\n",
      "\u001b[32m[I 2021-10-03 13:07:08,568]\u001b[0m Trial 29 finished with value: 0.8202247191011236 and parameters: {'logreg_c': 0.35462038134495233}. Best is trial 17 with value: 0.8314606741573034.\u001b[0m\n",
      "\u001b[32m[I 2021-10-03 13:07:09,087]\u001b[0m Trial 30 finished with value: 0.6853932584269663 and parameters: {'logreg_c': 0.0001246428799095842}. Best is trial 17 with value: 0.8314606741573034.\u001b[0m\n",
      "\u001b[32m[I 2021-10-03 13:07:10,177]\u001b[0m Trial 31 finished with value: 0.8258426966292135 and parameters: {'logreg_c': 618729004.9330516}. Best is trial 17 with value: 0.8314606741573034.\u001b[0m\n",
      "\u001b[32m[I 2021-10-03 13:07:11,800]\u001b[0m Trial 32 finished with value: 0.8258426966292135 and parameters: {'logreg_c': 6829761.640463952}. Best is trial 17 with value: 0.8314606741573034.\u001b[0m\n",
      "\u001b[32m[I 2021-10-03 13:07:13,076]\u001b[0m Trial 33 finished with value: 0.8202247191011236 and parameters: {'logreg_c': 5085189.236207567}. Best is trial 17 with value: 0.8314606741573034.\u001b[0m\n",
      "\u001b[32m[I 2021-10-03 13:07:14,170]\u001b[0m Trial 34 finished with value: 0.8258426966292135 and parameters: {'logreg_c': 9443201594.733374}. Best is trial 17 with value: 0.8314606741573034.\u001b[0m\n",
      "\u001b[32m[I 2021-10-03 13:07:15,196]\u001b[0m Trial 35 finished with value: 0.8202247191011236 and parameters: {'logreg_c': 475559144.6995315}. Best is trial 17 with value: 0.8314606741573034.\u001b[0m\n",
      "\u001b[32m[I 2021-10-03 13:07:16,370]\u001b[0m Trial 36 finished with value: 0.8258426966292135 and parameters: {'logreg_c': 194555.19316584663}. Best is trial 17 with value: 0.8314606741573034.\u001b[0m\n",
      "\u001b[32m[I 2021-10-03 13:07:17,496]\u001b[0m Trial 37 finished with value: 0.8258426966292135 and parameters: {'logreg_c': 7010454204.728456}. Best is trial 17 with value: 0.8314606741573034.\u001b[0m\n",
      "\u001b[32m[I 2021-10-03 13:07:18,587]\u001b[0m Trial 38 finished with value: 0.8146067415730337 and parameters: {'logreg_c': 865961596.6312169}. Best is trial 17 with value: 0.8314606741573034.\u001b[0m\n",
      "\u001b[32m[I 2021-10-03 13:07:19,095]\u001b[0m Trial 39 finished with value: 0.6123595505617978 and parameters: {'logreg_c': 7.407034498305164e-07}. Best is trial 17 with value: 0.8314606741573034.\u001b[0m\n",
      "\u001b[32m[I 2021-10-03 13:07:20,198]\u001b[0m Trial 40 finished with value: 0.8202247191011236 and parameters: {'logreg_c': 10648995.832671713}. Best is trial 17 with value: 0.8314606741573034.\u001b[0m\n",
      "\u001b[32m[I 2021-10-03 13:07:21,296]\u001b[0m Trial 41 finished with value: 0.8202247191011236 and parameters: {'logreg_c': 221.4561745595647}. Best is trial 17 with value: 0.8314606741573034.\u001b[0m\n",
      "\u001b[32m[I 2021-10-03 13:07:22,615]\u001b[0m Trial 42 finished with value: 0.8202247191011236 and parameters: {'logreg_c': 35537.69282256024}. Best is trial 17 with value: 0.8314606741573034.\u001b[0m\n",
      "\u001b[32m[I 2021-10-03 13:07:23,804]\u001b[0m Trial 43 finished with value: 0.8202247191011236 and parameters: {'logreg_c': 363973.61083610635}. Best is trial 17 with value: 0.8314606741573034.\u001b[0m\n",
      "\u001b[32m[I 2021-10-03 13:07:24,971]\u001b[0m Trial 44 finished with value: 0.8258426966292135 and parameters: {'logreg_c': 1397613223.3490074}. Best is trial 17 with value: 0.8314606741573034.\u001b[0m\n",
      "\u001b[32m[I 2021-10-03 13:07:26,005]\u001b[0m Trial 45 finished with value: 0.8258426966292135 and parameters: {'logreg_c': 2161365229.445933}. Best is trial 17 with value: 0.8314606741573034.\u001b[0m\n",
      "\u001b[32m[I 2021-10-03 13:07:27,186]\u001b[0m Trial 46 finished with value: 0.8202247191011236 and parameters: {'logreg_c': 1383784174.0042212}. Best is trial 17 with value: 0.8314606741573034.\u001b[0m\n",
      "\u001b[32m[I 2021-10-03 13:07:28,290]\u001b[0m Trial 47 finished with value: 0.8202247191011236 and parameters: {'logreg_c': 15994349.623586332}. Best is trial 17 with value: 0.8314606741573034.\u001b[0m\n",
      "\u001b[32m[I 2021-10-03 13:07:29,390]\u001b[0m Trial 48 finished with value: 0.8202247191011236 and parameters: {'logreg_c': 4837084949.258176}. Best is trial 17 with value: 0.8314606741573034.\u001b[0m\n",
      "\u001b[32m[I 2021-10-03 13:07:30,583]\u001b[0m Trial 49 finished with value: 0.8202247191011236 and parameters: {'logreg_c': 200005394.03868303}. Best is trial 17 with value: 0.8314606741573034.\u001b[0m\n",
      "\u001b[32m[I 2021-10-03 13:07:31,686]\u001b[0m Trial 50 finished with value: 0.8258426966292135 and parameters: {'logreg_c': 1880891.7754879748}. Best is trial 17 with value: 0.8314606741573034.\u001b[0m\n",
      "\u001b[32m[I 2021-10-03 13:07:32,808]\u001b[0m Trial 51 finished with value: 0.8202247191011236 and parameters: {'logreg_c': 29883429.266719908}. Best is trial 17 with value: 0.8314606741573034.\u001b[0m\n",
      "\u001b[32m[I 2021-10-03 13:07:33,981]\u001b[0m Trial 52 finished with value: 0.8258426966292135 and parameters: {'logreg_c': 162944817.0542647}. Best is trial 17 with value: 0.8314606741573034.\u001b[0m\n",
      "\u001b[32m[I 2021-10-03 13:07:35,088]\u001b[0m Trial 53 finished with value: 0.8258426966292135 and parameters: {'logreg_c': 219613519.39192808}. Best is trial 17 with value: 0.8314606741573034.\u001b[0m\n",
      "\u001b[32m[I 2021-10-03 13:07:36,194]\u001b[0m Trial 54 finished with value: 0.8202247191011236 and parameters: {'logreg_c': 1052904.1226905829}. Best is trial 17 with value: 0.8314606741573034.\u001b[0m\n",
      "\u001b[32m[I 2021-10-03 13:07:37,285]\u001b[0m Trial 55 finished with value: 0.8202247191011236 and parameters: {'logreg_c': 182284.6941600688}. Best is trial 17 with value: 0.8314606741573034.\u001b[0m\n",
      "\u001b[32m[I 2021-10-03 13:07:38,299]\u001b[0m Trial 56 finished with value: 0.8258426966292135 and parameters: {'logreg_c': 9622586884.786028}. Best is trial 17 with value: 0.8314606741573034.\u001b[0m\n",
      "\u001b[32m[I 2021-10-03 13:07:39,401]\u001b[0m Trial 57 finished with value: 0.8202247191011236 and parameters: {'logreg_c': 32146.94034120393}. Best is trial 17 with value: 0.8314606741573034.\u001b[0m\n",
      "\u001b[32m[I 2021-10-03 13:07:40,492]\u001b[0m Trial 58 finished with value: 0.8202247191011236 and parameters: {'logreg_c': 34975637.36421936}. Best is trial 17 with value: 0.8314606741573034.\u001b[0m\n",
      "\u001b[32m[I 2021-10-03 13:07:41,586]\u001b[0m Trial 59 finished with value: 0.8146067415730337 and parameters: {'logreg_c': 2101507711.4190593}. Best is trial 17 with value: 0.8314606741573034.\u001b[0m\n",
      "\u001b[32m[I 2021-10-03 13:07:42,671]\u001b[0m Trial 60 finished with value: 0.8202247191011236 and parameters: {'logreg_c': 5424200.295931607}. Best is trial 17 with value: 0.8314606741573034.\u001b[0m\n",
      "\u001b[32m[I 2021-10-03 13:07:43,796]\u001b[0m Trial 61 finished with value: 0.8314606741573034 and parameters: {'logreg_c': 157395514.61539984}. Best is trial 17 with value: 0.8314606741573034.\u001b[0m\n",
      "\u001b[32m[I 2021-10-03 13:07:44,885]\u001b[0m Trial 62 finished with value: 0.8202247191011236 and parameters: {'logreg_c': 672832.689235772}. Best is trial 17 with value: 0.8314606741573034.\u001b[0m\n",
      "\u001b[32m[I 2021-10-03 13:07:45,987]\u001b[0m Trial 63 finished with value: 0.8314606741573034 and parameters: {'logreg_c': 911.6046198466753}. Best is trial 17 with value: 0.8314606741573034.\u001b[0m\n",
      "\u001b[32m[I 2021-10-03 13:07:47,290]\u001b[0m Trial 64 finished with value: 0.8258426966292135 and parameters: {'logreg_c': 179179815.7624464}. Best is trial 17 with value: 0.8314606741573034.\u001b[0m\n",
      "\u001b[32m[I 2021-10-03 13:07:48,296]\u001b[0m Trial 65 finished with value: 0.8202247191011236 and parameters: {'logreg_c': 6.122123877421971}. Best is trial 17 with value: 0.8314606741573034.\u001b[0m\n",
      "\u001b[32m[I 2021-10-03 13:07:49,268]\u001b[0m Trial 66 finished with value: 0.8202247191011236 and parameters: {'logreg_c': 685.5823386005986}. Best is trial 17 with value: 0.8314606741573034.\u001b[0m\n",
      "\u001b[32m[I 2021-10-03 13:07:50,071]\u001b[0m Trial 67 finished with value: 0.8202247191011236 and parameters: {'logreg_c': 17529986.767507095}. Best is trial 17 with value: 0.8314606741573034.\u001b[0m\n",
      "\u001b[32m[I 2021-10-03 13:07:50,912]\u001b[0m Trial 68 finished with value: 0.8146067415730337 and parameters: {'logreg_c': 1352522512.5890408}. Best is trial 17 with value: 0.8314606741573034.\u001b[0m\n",
      "\u001b[32m[I 2021-10-03 13:07:51,715]\u001b[0m Trial 69 finished with value: 0.8202247191011236 and parameters: {'logreg_c': 105888.03865731777}. Best is trial 17 with value: 0.8314606741573034.\u001b[0m\n",
      "\u001b[32m[I 2021-10-03 13:07:52,586]\u001b[0m Trial 70 finished with value: 0.8202247191011236 and parameters: {'logreg_c': 1622135.6665026932}. Best is trial 17 with value: 0.8314606741573034.\u001b[0m\n",
      "\u001b[32m[I 2021-10-03 13:07:53,485]\u001b[0m Trial 71 finished with value: 0.8202247191011236 and parameters: {'logreg_c': 129709676.00798595}. Best is trial 17 with value: 0.8314606741573034.\u001b[0m\n",
      "\u001b[32m[I 2021-10-03 13:07:54,505]\u001b[0m Trial 72 finished with value: 0.8202247191011236 and parameters: {'logreg_c': 438478203.861648}. Best is trial 17 with value: 0.8314606741573034.\u001b[0m\n",
      "\u001b[32m[I 2021-10-03 13:07:55,694]\u001b[0m Trial 73 finished with value: 0.8202247191011236 and parameters: {'logreg_c': 3097482939.6901574}. Best is trial 17 with value: 0.8314606741573034.\u001b[0m\n",
      "\u001b[32m[I 2021-10-03 13:07:56,889]\u001b[0m Trial 74 finished with value: 0.8202247191011236 and parameters: {'logreg_c': 50294709.394693166}. Best is trial 17 with value: 0.8314606741573034.\u001b[0m\n",
      "\u001b[32m[I 2021-10-03 13:07:58,195]\u001b[0m Trial 75 finished with value: 0.8146067415730337 and parameters: {'logreg_c': 68633683.0590456}. Best is trial 17 with value: 0.8314606741573034.\u001b[0m\n",
      "\u001b[32m[I 2021-10-03 13:07:59,285]\u001b[0m Trial 76 finished with value: 0.8202247191011236 and parameters: {'logreg_c': 9713.153830352821}. Best is trial 17 with value: 0.8314606741573034.\u001b[0m\n",
      "\u001b[32m[I 2021-10-03 13:08:00,385]\u001b[0m Trial 77 finished with value: 0.8314606741573034 and parameters: {'logreg_c': 9623981754.59454}. Best is trial 17 with value: 0.8314606741573034.\u001b[0m\n",
      "\u001b[32m[I 2021-10-03 13:08:01,492]\u001b[0m Trial 78 finished with value: 0.7752808988764045 and parameters: {'logreg_c': 0.05398218148252489}. Best is trial 17 with value: 0.8314606741573034.\u001b[0m\n",
      "\u001b[32m[I 2021-10-03 13:08:02,604]\u001b[0m Trial 79 finished with value: 0.8202247191011236 and parameters: {'logreg_c': 2455972.1024222816}. Best is trial 17 with value: 0.8314606741573034.\u001b[0m\n",
      "\u001b[32m[I 2021-10-03 13:08:03,788]\u001b[0m Trial 80 finished with value: 0.8314606741573034 and parameters: {'logreg_c': 6.462631517288528}. Best is trial 17 with value: 0.8314606741573034.\u001b[0m\n",
      "\u001b[32m[I 2021-10-03 13:08:04,900]\u001b[0m Trial 81 finished with value: 0.8258426966292135 and parameters: {'logreg_c': 2.3447198142346704}. Best is trial 17 with value: 0.8314606741573034.\u001b[0m\n",
      "\u001b[32m[I 2021-10-03 13:08:06,101]\u001b[0m Trial 82 finished with value: 0.8258426966292135 and parameters: {'logreg_c': 249.61410814983356}. Best is trial 17 with value: 0.8314606741573034.\u001b[0m\n",
      "\u001b[32m[I 2021-10-03 13:08:07,198]\u001b[0m Trial 83 finished with value: 0.8258426966292135 and parameters: {'logreg_c': 202.67123923541018}. Best is trial 17 with value: 0.8314606741573034.\u001b[0m\n",
      "\u001b[32m[I 2021-10-03 13:08:08,293]\u001b[0m Trial 84 finished with value: 0.8202247191011236 and parameters: {'logreg_c': 12.226891301766244}. Best is trial 17 with value: 0.8314606741573034.\u001b[0m\n",
      "\u001b[32m[I 2021-10-03 13:08:09,381]\u001b[0m Trial 85 finished with value: 0.8258426966292135 and parameters: {'logreg_c': 0.5012586694970623}. Best is trial 17 with value: 0.8314606741573034.\u001b[0m\n",
      "\u001b[32m[I 2021-10-03 13:08:10,085]\u001b[0m Trial 86 finished with value: 0.6966292134831461 and parameters: {'logreg_c': 0.001868824424517767}. Best is trial 17 with value: 0.8314606741573034.\u001b[0m\n",
      "\u001b[32m[I 2021-10-03 13:08:11,195]\u001b[0m Trial 87 finished with value: 0.8202247191011236 and parameters: {'logreg_c': 441925651.22369355}. Best is trial 17 with value: 0.8314606741573034.\u001b[0m\n",
      "\u001b[32m[I 2021-10-03 13:08:12,271]\u001b[0m Trial 88 finished with value: 0.8202247191011236 and parameters: {'logreg_c': 9937.123413914764}. Best is trial 17 with value: 0.8314606741573034.\u001b[0m\n",
      "\u001b[32m[I 2021-10-03 13:08:13,286]\u001b[0m Trial 89 finished with value: 0.8202247191011236 and parameters: {'logreg_c': 621324319.509633}. Best is trial 17 with value: 0.8314606741573034.\u001b[0m\n",
      "\u001b[32m[I 2021-10-03 13:08:14,385]\u001b[0m Trial 90 finished with value: 0.8202247191011236 and parameters: {'logreg_c': 8962420126.442923}. Best is trial 17 with value: 0.8314606741573034.\u001b[0m\n",
      "\u001b[32m[I 2021-10-03 13:08:15,396]\u001b[0m Trial 91 finished with value: 0.8202247191011236 and parameters: {'logreg_c': 296199828.96108776}. Best is trial 17 with value: 0.8314606741573034.\u001b[0m\n",
      "\u001b[32m[I 2021-10-03 13:08:16,598]\u001b[0m Trial 92 finished with value: 0.8202247191011236 and parameters: {'logreg_c': 7330037.2480905065}. Best is trial 17 with value: 0.8314606741573034.\u001b[0m\n",
      "\u001b[32m[I 2021-10-03 13:08:17,693]\u001b[0m Trial 93 finished with value: 0.8202247191011236 and parameters: {'logreg_c': 3541412342.2291913}. Best is trial 17 with value: 0.8314606741573034.\u001b[0m\n",
      "\u001b[32m[I 2021-10-03 13:08:18,887]\u001b[0m Trial 94 finished with value: 0.8202247191011236 and parameters: {'logreg_c': 19538872.885550473}. Best is trial 17 with value: 0.8314606741573034.\u001b[0m\n",
      "\u001b[32m[I 2021-10-03 13:08:19,985]\u001b[0m Trial 95 finished with value: 0.8202247191011236 and parameters: {'logreg_c': 177059.6200575246}. Best is trial 17 with value: 0.8314606741573034.\u001b[0m\n",
      "\u001b[32m[I 2021-10-03 13:08:21,095]\u001b[0m Trial 96 finished with value: 0.8202247191011236 and parameters: {'logreg_c': 82558124.58813204}. Best is trial 17 with value: 0.8314606741573034.\u001b[0m\n",
      "\u001b[32m[I 2021-10-03 13:08:22,296]\u001b[0m Trial 97 finished with value: 0.8146067415730337 and parameters: {'logreg_c': 868805226.215692}. Best is trial 17 with value: 0.8314606741573034.\u001b[0m\n",
      "\u001b[32m[I 2021-10-03 13:08:23,470]\u001b[0m Trial 98 finished with value: 0.8202247191011236 and parameters: {'logreg_c': 518516.24806466606}. Best is trial 17 with value: 0.8314606741573034.\u001b[0m\n",
      "\u001b[32m[I 2021-10-03 13:08:24,496]\u001b[0m Trial 99 finished with value: 0.8202247191011236 and parameters: {'logreg_c': 8105875.834326547}. Best is trial 17 with value: 0.8314606741573034.\u001b[0m\n",
      "Number of finished trials: 100\n",
      "Best trial:\n",
      "  Value: 0.8314606741573034\n",
      "  Params: \n",
      "    logreg_c: 15151155.362635363\n"
     ]
    }
   ],
   "source": [
    "#logistic\n",
    "from sklearn import linear_model\n",
    "\n",
    "#Step 1. Define an objective function to be maximized.\n",
    "def objective(trial):\n",
    "\n",
    "    classifier_name = 'LogReg'\n",
    "    logreg_c = trial.suggest_float(\"logreg_c\", 1e-10, 1e10, log=True)\n",
    "    classifier_obj = linear_model.LogisticRegression(C=logreg_c)\n",
    "        \n",
    "    for i in range(5):\n",
    "        train_x = train.query(f'fold!={i}').drop(['fold', 'Survived'], axis=1)\n",
    "        train_y = train.query(f'fold!={i}').Survived\n",
    "\n",
    "        valid_x = train.query(f'fold=={i}').drop(['fold', 'Survived'], axis=1)\n",
    "        valid_y = train.query(f'fold=={i}').Survived\n",
    "    \n",
    "        #save the five fold accuracy\n",
    "        accuracy = []\n",
    "\n",
    "        gbm = classifier_obj\n",
    "        gbm.fit(train_x, train_y)\n",
    "        preds = gbm.predict(valid_x)\n",
    "        pred_labels = np.rint(preds)\n",
    "        accuracy.append(accuracy_score(valid_y, pred_labels))\n",
    "                \n",
    "        #save the best model for each fold \n",
    "        joblib.dump(gbm, f'logistic_fold{i}.pkl')\n",
    "        \n",
    "    return np.mean(accuracy)\n",
    "\n",
    "if __name__ == \"__main__\":\n",
    "    study = optuna.create_study(direction=\"maximize\")\n",
    "    study.optimize(objective, n_trials=100, timeout=600)\n",
    "\n",
    "    print(\"Number of finished trials: {}\".format(len(study.trials)))\n",
    "\n",
    "    print(\"Best trial:\")\n",
    "    trial = study.best_trial\n",
    "\n",
    "    print(\"  Value: {}\".format(trial.value))\n",
    "\n",
    "    print(\"  Params: \")\n",
    "    for key, value in trial.params.items():\n",
    "        print(\"    {}: {}\".format(key, value))"
   ]
  },
  {
   "cell_type": "markdown",
   "metadata": {
    "cell_id": "00062-d7e31d0d-3f27-4063-b1ff-ac8e7c3b9079",
    "deepnote_cell_type": "text-cell-h3",
    "is_collapsed": false,
    "tags": []
   },
   "source": [
    "### Catboost"
   ]
  },
  {
   "cell_type": "code",
   "execution_count": null,
   "metadata": {
    "cell_id": "00063-3bf23da2-69dc-401f-b92f-257e6159fe8a",
    "deepnote_cell_type": "code",
    "deepnote_to_be_reexecuted": false,
    "execution_millis": 283058,
    "execution_start": 1633266504583,
    "source_hash": "d0286765",
    "tags": []
   },
   "outputs": [
    {
     "name": "stderr",
     "output_type": "stream",
     "text": [
      "\u001b[32m[I 2021-10-03 13:08:24,691]\u001b[0m A new study created in memory with name: no-name-15ab1b0f-08e1-47e8-b6be-f4e20cc0912e\u001b[0m\n",
      "\u001b[32m[I 2021-10-03 13:08:31,783]\u001b[0m Trial 0 finished with value: 0.8089887640449438 and parameters: {'objective': 'Logloss', 'colsample_bylevel': 0.055062637218881695, 'depth': 8, 'boosting_type': 'Ordered', 'bootstrap_type': 'Bayesian', 'bagging_temperature': 3.6933611318320017}. Best is trial 0 with value: 0.8089887640449438.\u001b[0m\n",
      "\u001b[32m[I 2021-10-03 13:08:37,234]\u001b[0m Trial 1 finished with value: 0.8146067415730337 and parameters: {'objective': 'CrossEntropy', 'colsample_bylevel': 0.08407485346821005, 'depth': 10, 'boosting_type': 'Ordered', 'bootstrap_type': 'MVS'}. Best is trial 1 with value: 0.8146067415730337.\u001b[0m\n",
      "\u001b[32m[I 2021-10-03 13:08:39,011]\u001b[0m Trial 2 finished with value: 0.8258426966292135 and parameters: {'objective': 'Logloss', 'colsample_bylevel': 0.01250352878243508, 'depth': 9, 'boosting_type': 'Plain', 'bootstrap_type': 'Bayesian', 'bagging_temperature': 9.190912206263489}. Best is trial 2 with value: 0.8258426966292135.\u001b[0m\n",
      "\u001b[32m[I 2021-10-03 13:08:45,993]\u001b[0m Trial 3 finished with value: 0.8258426966292135 and parameters: {'objective': 'CrossEntropy', 'colsample_bylevel': 0.09376954569033953, 'depth': 10, 'boosting_type': 'Ordered', 'bootstrap_type': 'Bayesian', 'bagging_temperature': 8.995498670116092}. Best is trial 2 with value: 0.8258426966292135.\u001b[0m\n",
      "\u001b[32m[I 2021-10-03 13:08:53,031]\u001b[0m Trial 4 finished with value: 0.8146067415730337 and parameters: {'objective': 'Logloss', 'colsample_bylevel': 0.03773233126379757, 'depth': 5, 'boosting_type': 'Ordered', 'bootstrap_type': 'MVS'}. Best is trial 2 with value: 0.8258426966292135.\u001b[0m\n",
      "\u001b[32m[I 2021-10-03 13:08:59,214]\u001b[0m Trial 5 finished with value: 0.8202247191011236 and parameters: {'objective': 'Logloss', 'colsample_bylevel': 0.09092405927289225, 'depth': 3, 'boosting_type': 'Ordered', 'bootstrap_type': 'MVS'}. Best is trial 2 with value: 0.8258426966292135.\u001b[0m\n",
      "\u001b[32m[I 2021-10-03 13:09:04,539]\u001b[0m Trial 6 finished with value: 0.8258426966292135 and parameters: {'objective': 'CrossEntropy', 'colsample_bylevel': 0.09058514948713035, 'depth': 9, 'boosting_type': 'Ordered', 'bootstrap_type': 'MVS'}. Best is trial 2 with value: 0.8258426966292135.\u001b[0m\n",
      "\u001b[32m[I 2021-10-03 13:09:06,148]\u001b[0m Trial 7 finished with value: 0.8202247191011236 and parameters: {'objective': 'Logloss', 'colsample_bylevel': 0.016198140310914745, 'depth': 9, 'boosting_type': 'Plain', 'bootstrap_type': 'Bernoulli', 'subsample': 0.3482742319492169}. Best is trial 2 with value: 0.8258426966292135.\u001b[0m\n",
      "\u001b[32m[I 2021-10-03 13:09:08,024]\u001b[0m Trial 8 finished with value: 0.8314606741573034 and parameters: {'objective': 'Logloss', 'colsample_bylevel': 0.042452650121309256, 'depth': 10, 'boosting_type': 'Plain', 'bootstrap_type': 'MVS'}. Best is trial 8 with value: 0.8314606741573034.\u001b[0m\n",
      "\u001b[32m[I 2021-10-03 13:09:15,549]\u001b[0m Trial 9 finished with value: 0.8258426966292135 and parameters: {'objective': 'Logloss', 'colsample_bylevel': 0.05679943350079526, 'depth': 5, 'boosting_type': 'Ordered', 'bootstrap_type': 'Bernoulli', 'subsample': 0.4825542185901064}. Best is trial 8 with value: 0.8314606741573034.\u001b[0m\n",
      "\u001b[32m[I 2021-10-03 13:09:17,560]\u001b[0m Trial 10 finished with value: 0.8146067415730337 and parameters: {'objective': 'CrossEntropy', 'colsample_bylevel': 0.03777223361608809, 'depth': 12, 'boosting_type': 'Plain', 'bootstrap_type': 'MVS'}. Best is trial 8 with value: 0.8314606741573034.\u001b[0m\n",
      "\u001b[32m[I 2021-10-03 13:09:19,370]\u001b[0m Trial 11 finished with value: 0.8146067415730337 and parameters: {'objective': 'Logloss', 'colsample_bylevel': 0.015868389030398153, 'depth': 12, 'boosting_type': 'Plain', 'bootstrap_type': 'Bayesian', 'bagging_temperature': 9.599286183070692}. Best is trial 8 with value: 0.8314606741573034.\u001b[0m\n",
      "\u001b[32m[I 2021-10-03 13:09:21,405]\u001b[0m Trial 12 finished with value: 0.8258426966292135 and parameters: {'objective': 'Logloss', 'colsample_bylevel': 0.03135947619545187, 'depth': 7, 'boosting_type': 'Plain', 'bootstrap_type': 'Bayesian', 'bagging_temperature': 6.049082589705376}. Best is trial 8 with value: 0.8314606741573034.\u001b[0m\n",
      "\u001b[32m[I 2021-10-03 13:09:23,622]\u001b[0m Trial 13 finished with value: 0.8089887640449438 and parameters: {'objective': 'Logloss', 'colsample_bylevel': 0.07095361815952128, 'depth': 1, 'boosting_type': 'Plain', 'bootstrap_type': 'Bayesian', 'bagging_temperature': 0.4470249737123124}. Best is trial 8 with value: 0.8314606741573034.\u001b[0m\n",
      "\u001b[32m[I 2021-10-03 13:09:25,342]\u001b[0m Trial 14 finished with value: 0.797752808988764 and parameters: {'objective': 'Logloss', 'colsample_bylevel': 0.028630756273115586, 'depth': 11, 'boosting_type': 'Plain', 'bootstrap_type': 'Bernoulli', 'subsample': 0.8800455722023632}. Best is trial 8 with value: 0.8314606741573034.\u001b[0m\n",
      "\u001b[32m[I 2021-10-03 13:09:27,440]\u001b[0m Trial 15 finished with value: 0.8033707865168539 and parameters: {'objective': 'Logloss', 'colsample_bylevel': 0.046246174547771614, 'depth': 6, 'boosting_type': 'Plain', 'bootstrap_type': 'Bayesian', 'bagging_temperature': 6.589258410835308}. Best is trial 8 with value: 0.8314606741573034.\u001b[0m\n",
      "\u001b[32m[I 2021-10-03 13:09:29,211]\u001b[0m Trial 16 finished with value: 0.8033707865168539 and parameters: {'objective': 'Logloss', 'colsample_bylevel': 0.010333440476950236, 'depth': 8, 'boosting_type': 'Plain', 'bootstrap_type': 'MVS'}. Best is trial 8 with value: 0.8314606741573034.\u001b[0m\n",
      "\u001b[32m[I 2021-10-03 13:09:31,156]\u001b[0m Trial 17 finished with value: 0.848314606741573 and parameters: {'objective': 'Logloss', 'colsample_bylevel': 0.06700801207938462, 'depth': 10, 'boosting_type': 'Plain', 'bootstrap_type': 'Bayesian', 'bagging_temperature': 3.202966772019119}. Best is trial 17 with value: 0.848314606741573.\u001b[0m\n",
      "\u001b[32m[I 2021-10-03 13:09:32,908]\u001b[0m Trial 18 finished with value: 0.8314606741573034 and parameters: {'objective': 'CrossEntropy', 'colsample_bylevel': 0.0697118565328455, 'depth': 11, 'boosting_type': 'Plain', 'bootstrap_type': 'MVS'}. Best is trial 17 with value: 0.848314606741573.\u001b[0m\n",
      "\u001b[32m[I 2021-10-03 13:09:34,547]\u001b[0m Trial 19 finished with value: 0.8370786516853933 and parameters: {'objective': 'CrossEntropy', 'colsample_bylevel': 0.0737400983566646, 'depth': 12, 'boosting_type': 'Plain', 'bootstrap_type': 'Bernoulli', 'subsample': 0.146533215873363}. Best is trial 17 with value: 0.848314606741573.\u001b[0m\n",
      "\u001b[32m[I 2021-10-03 13:09:36,248]\u001b[0m Trial 20 finished with value: 0.8370786516853933 and parameters: {'objective': 'CrossEntropy', 'colsample_bylevel': 0.07019534383066636, 'depth': 12, 'boosting_type': 'Plain', 'bootstrap_type': 'Bernoulli', 'subsample': 0.12296892289834106}. Best is trial 17 with value: 0.848314606741573.\u001b[0m\n",
      "\u001b[32m[I 2021-10-03 13:09:37,946]\u001b[0m Trial 21 finished with value: 0.8370786516853933 and parameters: {'objective': 'CrossEntropy', 'colsample_bylevel': 0.06974402069307466, 'depth': 12, 'boosting_type': 'Plain', 'bootstrap_type': 'Bernoulli', 'subsample': 0.1109032275777737}. Best is trial 17 with value: 0.848314606741573.\u001b[0m\n",
      "\u001b[32m[I 2021-10-03 13:09:39,894]\u001b[0m Trial 22 finished with value: 0.8426966292134831 and parameters: {'objective': 'CrossEntropy', 'colsample_bylevel': 0.08185139181548942, 'depth': 11, 'boosting_type': 'Plain', 'bootstrap_type': 'Bernoulli', 'subsample': 0.10579870459201207}. Best is trial 17 with value: 0.848314606741573.\u001b[0m\n",
      "\u001b[32m[I 2021-10-03 13:09:41,637]\u001b[0m Trial 23 finished with value: 0.8258426966292135 and parameters: {'objective': 'CrossEntropy', 'colsample_bylevel': 0.07994783196376067, 'depth': 11, 'boosting_type': 'Plain', 'bootstrap_type': 'Bernoulli', 'subsample': 0.2739558946918691}. Best is trial 17 with value: 0.848314606741573.\u001b[0m\n",
      "\u001b[32m[I 2021-10-03 13:09:43,291]\u001b[0m Trial 24 finished with value: 0.8258426966292135 and parameters: {'objective': 'CrossEntropy', 'colsample_bylevel': 0.06276887181616281, 'depth': 11, 'boosting_type': 'Plain', 'bootstrap_type': 'Bernoulli', 'subsample': 0.7033315075732632}. Best is trial 17 with value: 0.848314606741573.\u001b[0m\n",
      "\u001b[32m[I 2021-10-03 13:09:45,084]\u001b[0m Trial 25 finished with value: 0.8426966292134831 and parameters: {'objective': 'CrossEntropy', 'colsample_bylevel': 0.08133257599511134, 'depth': 10, 'boosting_type': 'Plain', 'bootstrap_type': 'Bernoulli', 'subsample': 0.3427221689651065}. Best is trial 17 with value: 0.848314606741573.\u001b[0m\n",
      "\u001b[32m[I 2021-10-03 13:09:46,955]\u001b[0m Trial 26 finished with value: 0.8314606741573034 and parameters: {'objective': 'CrossEntropy', 'colsample_bylevel': 0.0814286316278809, 'depth': 8, 'boosting_type': 'Plain', 'bootstrap_type': 'Bernoulli', 'subsample': 0.41213803592053844}. Best is trial 17 with value: 0.848314606741573.\u001b[0m\n",
      "\u001b[32m[I 2021-10-03 13:09:48,691]\u001b[0m Trial 27 finished with value: 0.8202247191011236 and parameters: {'objective': 'CrossEntropy', 'colsample_bylevel': 0.0629166879721977, 'depth': 7, 'boosting_type': 'Plain', 'bootstrap_type': 'Bernoulli', 'subsample': 0.5732430121768233}. Best is trial 17 with value: 0.848314606741573.\u001b[0m\n",
      "\u001b[32m[I 2021-10-03 13:09:50,339]\u001b[0m Trial 28 finished with value: 0.8370786516853933 and parameters: {'objective': 'CrossEntropy', 'colsample_bylevel': 0.09906807527100309, 'depth': 10, 'boosting_type': 'Plain', 'bootstrap_type': 'Bernoulli', 'subsample': 0.26581098827889366}. Best is trial 17 with value: 0.848314606741573.\u001b[0m\n",
      "\u001b[32m[I 2021-10-03 13:09:52,355]\u001b[0m Trial 29 finished with value: 0.8146067415730337 and parameters: {'objective': 'CrossEntropy', 'colsample_bylevel': 0.05272660538757282, 'depth': 9, 'boosting_type': 'Plain', 'bootstrap_type': 'Bayesian', 'bagging_temperature': 2.1721861470886843}. Best is trial 17 with value: 0.848314606741573.\u001b[0m\n",
      "\u001b[32m[I 2021-10-03 13:09:54,493]\u001b[0m Trial 30 finished with value: 0.8426966292134831 and parameters: {'objective': 'CrossEntropy', 'colsample_bylevel': 0.07730524102362092, 'depth': 8, 'boosting_type': 'Plain', 'bootstrap_type': 'Bayesian', 'bagging_temperature': 3.3971444374805846}. Best is trial 17 with value: 0.848314606741573.\u001b[0m\n",
      "\u001b[32m[I 2021-10-03 13:09:56,697]\u001b[0m Trial 31 finished with value: 0.8539325842696629 and parameters: {'objective': 'CrossEntropy', 'colsample_bylevel': 0.07792100766286185, 'depth': 8, 'boosting_type': 'Plain', 'bootstrap_type': 'Bayesian', 'bagging_temperature': 3.5845553229478737}. Best is trial 31 with value: 0.8539325842696629.\u001b[0m\n",
      "\u001b[32m[I 2021-10-03 13:09:58,640]\u001b[0m Trial 32 finished with value: 0.8370786516853933 and parameters: {'objective': 'CrossEntropy', 'colsample_bylevel': 0.07728678428656421, 'depth': 8, 'boosting_type': 'Plain', 'bootstrap_type': 'Bayesian', 'bagging_temperature': 3.56816834922162}. Best is trial 31 with value: 0.8539325842696629.\u001b[0m\n",
      "\u001b[32m[I 2021-10-03 13:10:00,698]\u001b[0m Trial 33 finished with value: 0.8258426966292135 and parameters: {'objective': 'CrossEntropy', 'colsample_bylevel': 0.0873832998997767, 'depth': 6, 'boosting_type': 'Plain', 'bootstrap_type': 'Bayesian', 'bagging_temperature': 3.646450734454745}. Best is trial 31 with value: 0.8539325842696629.\u001b[0m\n",
      "\u001b[32m[I 2021-10-03 13:10:09,319]\u001b[0m Trial 34 finished with value: 0.8033707865168539 and parameters: {'objective': 'CrossEntropy', 'colsample_bylevel': 0.06314803875172605, 'depth': 7, 'boosting_type': 'Ordered', 'bootstrap_type': 'Bayesian', 'bagging_temperature': 1.865246591914841}. Best is trial 31 with value: 0.8539325842696629.\u001b[0m\n",
      "\u001b[32m[I 2021-10-03 13:10:11,495]\u001b[0m Trial 35 finished with value: 0.8539325842696629 and parameters: {'objective': 'CrossEntropy', 'colsample_bylevel': 0.08507265221042046, 'depth': 9, 'boosting_type': 'Plain', 'bootstrap_type': 'Bayesian', 'bagging_temperature': 4.9664939455472155}. Best is trial 31 with value: 0.8539325842696629.\u001b[0m\n",
      "\u001b[32m[I 2021-10-03 13:10:16,953]\u001b[0m Trial 36 finished with value: 0.8146067415730337 and parameters: {'objective': 'CrossEntropy', 'colsample_bylevel': 0.09786526872343557, 'depth': 8, 'boosting_type': 'Ordered', 'bootstrap_type': 'Bayesian', 'bagging_temperature': 4.940297507832339}. Best is trial 31 with value: 0.8539325842696629.\u001b[0m\n",
      "\u001b[32m[I 2021-10-03 13:10:18,856]\u001b[0m Trial 37 finished with value: 0.848314606741573 and parameters: {'objective': 'CrossEntropy', 'colsample_bylevel': 0.08686897509678085, 'depth': 10, 'boosting_type': 'Plain', 'bootstrap_type': 'Bayesian', 'bagging_temperature': 5.197509090620712}. Best is trial 31 with value: 0.8539325842696629.\u001b[0m\n",
      "\u001b[32m[I 2021-10-03 13:10:25,526]\u001b[0m Trial 38 finished with value: 0.8146067415730337 and parameters: {'objective': 'CrossEntropy', 'colsample_bylevel': 0.08804275722763297, 'depth': 9, 'boosting_type': 'Ordered', 'bootstrap_type': 'Bayesian', 'bagging_temperature': 5.047457409328691}. Best is trial 31 with value: 0.8539325842696629.\u001b[0m\n",
      "\u001b[32m[I 2021-10-03 13:10:27,425]\u001b[0m Trial 39 finished with value: 0.8539325842696629 and parameters: {'objective': 'Logloss', 'colsample_bylevel': 0.09540861387410157, 'depth': 9, 'boosting_type': 'Plain', 'bootstrap_type': 'Bayesian', 'bagging_temperature': 5.164026177061086}. Best is trial 31 with value: 0.8539325842696629.\u001b[0m\n",
      "\u001b[32m[I 2021-10-03 13:10:29,439]\u001b[0m Trial 40 finished with value: 0.8370786516853933 and parameters: {'objective': 'CrossEntropy', 'colsample_bylevel': 0.09372318574079429, 'depth': 9, 'boosting_type': 'Plain', 'bootstrap_type': 'Bayesian', 'bagging_temperature': 5.392211211416205}. Best is trial 31 with value: 0.8539325842696629.\u001b[0m\n",
      "\u001b[32m[I 2021-10-03 13:10:31,713]\u001b[0m Trial 41 finished with value: 0.8539325842696629 and parameters: {'objective': 'Logloss', 'colsample_bylevel': 0.08616325068283133, 'depth': 10, 'boosting_type': 'Plain', 'bootstrap_type': 'Bayesian', 'bagging_temperature': 6.792892895434569}. Best is trial 31 with value: 0.8539325842696629.\u001b[0m\n",
      "\u001b[32m[I 2021-10-03 13:10:34,058]\u001b[0m Trial 42 finished with value: 0.8370786516853933 and parameters: {'objective': 'Logloss', 'colsample_bylevel': 0.0861447884644679, 'depth': 9, 'boosting_type': 'Plain', 'bootstrap_type': 'Bayesian', 'bagging_temperature': 6.707117136117311}. Best is trial 31 with value: 0.8539325842696629.\u001b[0m\n",
      "\u001b[32m[I 2021-10-03 13:10:36,057]\u001b[0m Trial 43 finished with value: 0.8202247191011236 and parameters: {'objective': 'Logloss', 'colsample_bylevel': 0.09414690936292912, 'depth': 10, 'boosting_type': 'Plain', 'bootstrap_type': 'Bayesian', 'bagging_temperature': 7.630643250770118}. Best is trial 31 with value: 0.8539325842696629.\u001b[0m\n",
      "\u001b[32m[I 2021-10-03 13:10:37,775]\u001b[0m Trial 44 finished with value: 0.8595505617977528 and parameters: {'objective': 'Logloss', 'colsample_bylevel': 0.09069460391268805, 'depth': 9, 'boosting_type': 'Plain', 'bootstrap_type': 'Bayesian', 'bagging_temperature': 4.463040845533523}. Best is trial 44 with value: 0.8595505617977528.\u001b[0m\n",
      "\u001b[32m[I 2021-10-03 13:10:44,697]\u001b[0m Trial 45 finished with value: 0.8426966292134831 and parameters: {'objective': 'Logloss', 'colsample_bylevel': 0.0921478850737289, 'depth': 7, 'boosting_type': 'Ordered', 'bootstrap_type': 'Bayesian', 'bagging_temperature': 4.585456456641375}. Best is trial 44 with value: 0.8595505617977528.\u001b[0m\n",
      "\u001b[32m[I 2021-10-03 13:10:46,727]\u001b[0m Trial 46 finished with value: 0.848314606741573 and parameters: {'objective': 'Logloss', 'colsample_bylevel': 0.09597872297562557, 'depth': 9, 'boosting_type': 'Plain', 'bootstrap_type': 'Bayesian', 'bagging_temperature': 4.38263786861702}. Best is trial 44 with value: 0.8595505617977528.\u001b[0m\n",
      "\u001b[32m[I 2021-10-03 13:10:48,873]\u001b[0m Trial 47 finished with value: 0.848314606741573 and parameters: {'objective': 'Logloss', 'colsample_bylevel': 0.09054834814981272, 'depth': 4, 'boosting_type': 'Plain', 'bootstrap_type': 'Bayesian', 'bagging_temperature': 7.790995600373479}. Best is trial 44 with value: 0.8595505617977528.\u001b[0m\n",
      "\u001b[32m[I 2021-10-03 13:10:51,129]\u001b[0m Trial 48 finished with value: 0.8426966292134831 and parameters: {'objective': 'Logloss', 'colsample_bylevel': 0.07641891343669037, 'depth': 8, 'boosting_type': 'Plain', 'bootstrap_type': 'Bayesian', 'bagging_temperature': 6.323991965232805}. Best is trial 44 with value: 0.8595505617977528.\u001b[0m\n",
      "\u001b[32m[I 2021-10-03 13:10:58,638]\u001b[0m Trial 49 finished with value: 0.8258426966292135 and parameters: {'objective': 'Logloss', 'colsample_bylevel': 0.08419181749404257, 'depth': 9, 'boosting_type': 'Ordered', 'bootstrap_type': 'Bayesian', 'bagging_temperature': 5.874023249294773}. Best is trial 44 with value: 0.8595505617977528.\u001b[0m\n",
      "\u001b[32m[I 2021-10-03 13:11:00,388]\u001b[0m Trial 50 finished with value: 0.848314606741573 and parameters: {'objective': 'Logloss', 'colsample_bylevel': 0.0998989627790747, 'depth': 6, 'boosting_type': 'Plain', 'bootstrap_type': 'Bayesian', 'bagging_temperature': 2.4632316263859693}. Best is trial 44 with value: 0.8595505617977528.\u001b[0m\n",
      "\u001b[32m[I 2021-10-03 13:11:02,043]\u001b[0m Trial 51 finished with value: 0.8314606741573034 and parameters: {'objective': 'Logloss', 'colsample_bylevel': 0.09051765319744465, 'depth': 5, 'boosting_type': 'Plain', 'bootstrap_type': 'Bayesian', 'bagging_temperature': 2.640210756797865}. Best is trial 44 with value: 0.8595505617977528.\u001b[0m\n",
      "\u001b[32m[I 2021-10-03 13:11:03,936]\u001b[0m Trial 52 finished with value: 0.848314606741573 and parameters: {'objective': 'Logloss', 'colsample_bylevel': 0.09976448241547153, 'depth': 7, 'boosting_type': 'Plain', 'bootstrap_type': 'Bayesian', 'bagging_temperature': 4.150884062749915}. Best is trial 44 with value: 0.8595505617977528.\u001b[0m\n",
      "\u001b[32m[I 2021-10-03 13:11:06,102]\u001b[0m Trial 53 finished with value: 0.848314606741573 and parameters: {'objective': 'Logloss', 'colsample_bylevel': 0.09457703440910284, 'depth': 7, 'boosting_type': 'Plain', 'bootstrap_type': 'Bayesian', 'bagging_temperature': 4.3473443320010725}. Best is trial 44 with value: 0.8595505617977528.\u001b[0m\n",
      "\u001b[32m[I 2021-10-03 13:11:08,798]\u001b[0m Trial 54 finished with value: 0.8033707865168539 and parameters: {'objective': 'Logloss', 'colsample_bylevel': 0.08941803474800798, 'depth': 1, 'boosting_type': 'Plain', 'bootstrap_type': 'Bayesian', 'bagging_temperature': 4.16520558334279}. Best is trial 44 with value: 0.8595505617977528.\u001b[0m\n",
      "\u001b[32m[I 2021-10-03 13:11:11,309]\u001b[0m Trial 55 finished with value: 0.8370786516853933 and parameters: {'objective': 'Logloss', 'colsample_bylevel': 0.08453742725947729, 'depth': 6, 'boosting_type': 'Plain', 'bootstrap_type': 'MVS'}. Best is trial 44 with value: 0.8595505617977528.\u001b[0m\n",
      "\u001b[32m[I 2021-10-03 13:11:13,981]\u001b[0m Trial 56 finished with value: 0.8539325842696629 and parameters: {'objective': 'Logloss', 'colsample_bylevel': 0.09488501782909746, 'depth': 8, 'boosting_type': 'Plain', 'bootstrap_type': 'Bayesian', 'bagging_temperature': 5.584099844335277}. Best is trial 44 with value: 0.8595505617977528.\u001b[0m\n",
      "\u001b[32m[I 2021-10-03 13:11:16,106]\u001b[0m Trial 57 finished with value: 0.8370786516853933 and parameters: {'objective': 'Logloss', 'colsample_bylevel': 0.07440045876198745, 'depth': 9, 'boosting_type': 'Plain', 'bootstrap_type': 'Bayesian', 'bagging_temperature': 7.2799531300121565}. Best is trial 44 with value: 0.8595505617977528.\u001b[0m\n",
      "\u001b[32m[I 2021-10-03 13:11:18,477]\u001b[0m Trial 58 finished with value: 0.8370786516853933 and parameters: {'objective': 'Logloss', 'colsample_bylevel': 0.09209602189974174, 'depth': 8, 'boosting_type': 'Plain', 'bootstrap_type': 'Bayesian', 'bagging_temperature': 5.477802721465405}. Best is trial 44 with value: 0.8595505617977528.\u001b[0m\n",
      "\u001b[32m[I 2021-10-03 13:11:20,757]\u001b[0m Trial 59 finished with value: 0.8314606741573034 and parameters: {'objective': 'Logloss', 'colsample_bylevel': 0.09639507903038619, 'depth': 10, 'boosting_type': 'Plain', 'bootstrap_type': 'MVS'}. Best is trial 44 with value: 0.8595505617977528.\u001b[0m\n",
      "\u001b[32m[I 2021-10-03 13:11:23,348]\u001b[0m Trial 60 finished with value: 0.8258426966292135 and parameters: {'objective': 'Logloss', 'colsample_bylevel': 0.0840430097507266, 'depth': 2, 'boosting_type': 'Plain', 'bootstrap_type': 'Bayesian', 'bagging_temperature': 8.472088107351547}. Best is trial 44 with value: 0.8595505617977528.\u001b[0m\n",
      "\u001b[32m[I 2021-10-03 13:11:25,744]\u001b[0m Trial 61 finished with value: 0.8539325842696629 and parameters: {'objective': 'Logloss', 'colsample_bylevel': 0.08768333352439577, 'depth': 10, 'boosting_type': 'Plain', 'bootstrap_type': 'Bayesian', 'bagging_temperature': 5.68633740427788}. Best is trial 44 with value: 0.8595505617977528.\u001b[0m\n",
      "\u001b[32m[I 2021-10-03 13:11:28,088]\u001b[0m Trial 62 finished with value: 0.8370786516853933 and parameters: {'objective': 'Logloss', 'colsample_bylevel': 0.08925734523814993, 'depth': 10, 'boosting_type': 'Plain', 'bootstrap_type': 'Bayesian', 'bagging_temperature': 5.788604103562028}. Best is trial 44 with value: 0.8595505617977528.\u001b[0m\n",
      "\u001b[32m[I 2021-10-03 13:11:30,450]\u001b[0m Trial 63 finished with value: 0.848314606741573 and parameters: {'objective': 'Logloss', 'colsample_bylevel': 0.0797911224672465, 'depth': 11, 'boosting_type': 'Plain', 'bootstrap_type': 'Bayesian', 'bagging_temperature': 7.082902292818595}. Best is trial 44 with value: 0.8595505617977528.\u001b[0m\n",
      "\u001b[32m[I 2021-10-03 13:11:32,607]\u001b[0m Trial 64 finished with value: 0.8426966292134831 and parameters: {'objective': 'Logloss', 'colsample_bylevel': 0.08333956664721676, 'depth': 9, 'boosting_type': 'Plain', 'bootstrap_type': 'Bayesian', 'bagging_temperature': 6.117464655797855}. Best is trial 44 with value: 0.8595505617977528.\u001b[0m\n",
      "\u001b[32m[I 2021-10-03 13:11:34,642]\u001b[0m Trial 65 finished with value: 0.8426966292134831 and parameters: {'objective': 'Logloss', 'colsample_bylevel': 0.09329123629787578, 'depth': 8, 'boosting_type': 'Plain', 'bootstrap_type': 'Bayesian', 'bagging_temperature': 4.825788445977662}. Best is trial 44 with value: 0.8595505617977528.\u001b[0m\n",
      "\u001b[32m[I 2021-10-03 13:11:36,852]\u001b[0m Trial 66 finished with value: 0.8314606741573034 and parameters: {'objective': 'Logloss', 'colsample_bylevel': 0.07872047461227803, 'depth': 10, 'boosting_type': 'Plain', 'bootstrap_type': 'Bayesian', 'bagging_temperature': 5.673774824994176}. Best is trial 44 with value: 0.8595505617977528.\u001b[0m\n",
      "\u001b[32m[I 2021-10-03 13:11:39,199]\u001b[0m Trial 67 finished with value: 0.8426966292134831 and parameters: {'objective': 'Logloss', 'colsample_bylevel': 0.07266164876465699, 'depth': 11, 'boosting_type': 'Plain', 'bootstrap_type': 'Bayesian', 'bagging_temperature': 6.723404495544541}. Best is trial 44 with value: 0.8595505617977528.\u001b[0m\n",
      "\u001b[32m[I 2021-10-03 13:11:41,447]\u001b[0m Trial 68 finished with value: 0.8426966292134831 and parameters: {'objective': 'Logloss', 'colsample_bylevel': 0.09627528232526915, 'depth': 9, 'boosting_type': 'Plain', 'bootstrap_type': 'MVS'}. Best is trial 44 with value: 0.8595505617977528.\u001b[0m\n",
      "\u001b[32m[I 2021-10-03 13:11:43,641]\u001b[0m Trial 69 finished with value: 0.8258426966292135 and parameters: {'objective': 'Logloss', 'colsample_bylevel': 0.08610949962003604, 'depth': 10, 'boosting_type': 'Plain', 'bootstrap_type': 'Bayesian', 'bagging_temperature': 3.076145092085359}. Best is trial 44 with value: 0.8595505617977528.\u001b[0m\n",
      "\u001b[32m[I 2021-10-03 13:11:52,641]\u001b[0m Trial 70 finished with value: 0.8089887640449438 and parameters: {'objective': 'Logloss', 'colsample_bylevel': 0.06618538093149874, 'depth': 8, 'boosting_type': 'Ordered', 'bootstrap_type': 'Bayesian', 'bagging_temperature': 3.9496907236476324}. Best is trial 44 with value: 0.8595505617977528.\u001b[0m\n",
      "\u001b[32m[I 2021-10-03 13:11:54,618]\u001b[0m Trial 71 finished with value: 0.8258426966292135 and parameters: {'objective': 'Logloss', 'colsample_bylevel': 0.09653712795296655, 'depth': 6, 'boosting_type': 'Plain', 'bootstrap_type': 'Bayesian', 'bagging_temperature': 1.4197679661464742}. Best is trial 44 with value: 0.8595505617977528.\u001b[0m\n",
      "\u001b[32m[I 2021-10-03 13:11:56,865]\u001b[0m Trial 72 finished with value: 0.8426966292134831 and parameters: {'objective': 'Logloss', 'colsample_bylevel': 0.08138125714312379, 'depth': 11, 'boosting_type': 'Plain', 'bootstrap_type': 'Bayesian', 'bagging_temperature': 7.043795509204241}. Best is trial 44 with value: 0.8595505617977528.\u001b[0m\n",
      "\u001b[32m[I 2021-10-03 13:11:59,026]\u001b[0m Trial 73 finished with value: 0.8258426966292135 and parameters: {'objective': 'Logloss', 'colsample_bylevel': 0.02553464028101603, 'depth': 12, 'boosting_type': 'Plain', 'bootstrap_type': 'Bayesian', 'bagging_temperature': 8.176399889879884}. Best is trial 44 with value: 0.8595505617977528.\u001b[0m\n",
      "\u001b[32m[I 2021-10-03 13:12:01,239]\u001b[0m Trial 74 finished with value: 0.8314606741573034 and parameters: {'objective': 'Logloss', 'colsample_bylevel': 0.09953495552958155, 'depth': 5, 'boosting_type': 'Plain', 'bootstrap_type': 'Bayesian', 'bagging_temperature': 2.844514861355645}. Best is trial 44 with value: 0.8595505617977528.\u001b[0m\n",
      "\u001b[32m[I 2021-10-03 13:12:03,417]\u001b[0m Trial 75 finished with value: 0.8426966292134831 and parameters: {'objective': 'CrossEntropy', 'colsample_bylevel': 0.09561376224623616, 'depth': 9, 'boosting_type': 'Plain', 'bootstrap_type': 'Bayesian', 'bagging_temperature': 5.008749978987725}. Best is trial 44 with value: 0.8595505617977528.\u001b[0m\n",
      "\u001b[32m[I 2021-10-03 13:12:05,604]\u001b[0m Trial 76 finished with value: 0.8370786516853933 and parameters: {'objective': 'CrossEntropy', 'colsample_bylevel': 0.0873303679550915, 'depth': 10, 'boosting_type': 'Plain', 'bootstrap_type': 'Bayesian', 'bagging_temperature': 5.239483255871262}. Best is trial 44 with value: 0.8595505617977528.\u001b[0m\n",
      "\u001b[32m[I 2021-10-03 13:12:07,956]\u001b[0m Trial 77 finished with value: 0.8202247191011236 and parameters: {'objective': 'Logloss', 'colsample_bylevel': 0.09088394569535795, 'depth': 3, 'boosting_type': 'Plain', 'bootstrap_type': 'Bayesian', 'bagging_temperature': 7.869835231215374}. Best is trial 44 with value: 0.8595505617977528.\u001b[0m\n",
      "\u001b[32m[I 2021-10-03 13:12:10,308]\u001b[0m Trial 78 finished with value: 0.8426966292134831 and parameters: {'objective': 'CrossEntropy', 'colsample_bylevel': 0.05658080366686344, 'depth': 10, 'boosting_type': 'Plain', 'bootstrap_type': 'Bayesian', 'bagging_temperature': 4.719267255455602}. Best is trial 44 with value: 0.8595505617977528.\u001b[0m\n",
      "\u001b[32m[I 2021-10-03 13:12:12,564]\u001b[0m Trial 79 finished with value: 0.8426966292134831 and parameters: {'objective': 'CrossEntropy', 'colsample_bylevel': 0.08603073440099701, 'depth': 9, 'boosting_type': 'Plain', 'bootstrap_type': 'Bayesian', 'bagging_temperature': 3.7864387858236337}. Best is trial 44 with value: 0.8595505617977528.\u001b[0m\n",
      "\u001b[32m[I 2021-10-03 13:12:20,759]\u001b[0m Trial 80 finished with value: 0.8146067415730337 and parameters: {'objective': 'CrossEntropy', 'colsample_bylevel': 0.08832207040508272, 'depth': 8, 'boosting_type': 'Ordered', 'bootstrap_type': 'Bayesian', 'bagging_temperature': 6.3642986529424075}. Best is trial 44 with value: 0.8595505617977528.\u001b[0m\n",
      "\u001b[32m[I 2021-10-03 13:12:23,001]\u001b[0m Trial 81 finished with value: 0.8539325842696629 and parameters: {'objective': 'CrossEntropy', 'colsample_bylevel': 0.09253415695333181, 'depth': 9, 'boosting_type': 'Plain', 'bootstrap_type': 'Bayesian', 'bagging_temperature': 4.524167920212667}. Best is trial 44 with value: 0.8595505617977528.\u001b[0m\n",
      "\u001b[32m[I 2021-10-03 13:12:25,195]\u001b[0m Trial 82 finished with value: 0.8258426966292135 and parameters: {'objective': 'CrossEntropy', 'colsample_bylevel': 0.06519459795419157, 'depth': 10, 'boosting_type': 'Plain', 'bootstrap_type': 'Bayesian', 'bagging_temperature': 3.3013536817991476}. Best is trial 44 with value: 0.8595505617977528.\u001b[0m\n",
      "\u001b[32m[I 2021-10-03 13:12:27,539]\u001b[0m Trial 83 finished with value: 0.8539325842696629 and parameters: {'objective': 'CrossEntropy', 'colsample_bylevel': 0.09281131419407249, 'depth': 9, 'boosting_type': 'Plain', 'bootstrap_type': 'Bayesian', 'bagging_temperature': 4.547495707685675}. Best is trial 44 with value: 0.8595505617977528.\u001b[0m\n",
      "\u001b[32m[I 2021-10-03 13:12:29,589]\u001b[0m Trial 84 finished with value: 0.8426966292134831 and parameters: {'objective': 'CrossEntropy', 'colsample_bylevel': 0.09298534646402104, 'depth': 9, 'boosting_type': 'Plain', 'bootstrap_type': 'Bayesian', 'bagging_temperature': 4.52287920588251}. Best is trial 44 with value: 0.8595505617977528.\u001b[0m\n",
      "\u001b[32m[I 2021-10-03 13:12:31,500]\u001b[0m Trial 85 finished with value: 0.848314606741573 and parameters: {'objective': 'CrossEntropy', 'colsample_bylevel': 0.09177055597519786, 'depth': 8, 'boosting_type': 'Plain', 'bootstrap_type': 'Bayesian', 'bagging_temperature': 5.444296933151829}. Best is trial 44 with value: 0.8595505617977528.\u001b[0m\n",
      "\u001b[32m[I 2021-10-03 13:12:33,316]\u001b[0m Trial 86 finished with value: 0.8314606741573034 and parameters: {'objective': 'CrossEntropy', 'colsample_bylevel': 0.08258183399106182, 'depth': 9, 'boosting_type': 'Plain', 'bootstrap_type': 'MVS'}. Best is trial 44 with value: 0.8595505617977528.\u001b[0m\n",
      "\u001b[32m[I 2021-10-03 13:12:35,259]\u001b[0m Trial 87 finished with value: 0.8539325842696629 and parameters: {'objective': 'CrossEntropy', 'colsample_bylevel': 0.09773779398889643, 'depth': 9, 'boosting_type': 'Plain', 'bootstrap_type': 'Bayesian', 'bagging_temperature': 3.648716338987519}. Best is trial 44 with value: 0.8595505617977528.\u001b[0m\n",
      "\u001b[32m[I 2021-10-03 13:12:37,460]\u001b[0m Trial 88 finished with value: 0.8426966292134831 and parameters: {'objective': 'CrossEntropy', 'colsample_bylevel': 0.09728292394751707, 'depth': 9, 'boosting_type': 'Plain', 'bootstrap_type': 'Bayesian', 'bagging_temperature': 4.819278742831864}. Best is trial 44 with value: 0.8595505617977528.\u001b[0m\n",
      "\u001b[32m[I 2021-10-03 13:12:39,331]\u001b[0m Trial 89 finished with value: 0.8426966292134831 and parameters: {'objective': 'CrossEntropy', 'colsample_bylevel': 0.08923491812113579, 'depth': 8, 'boosting_type': 'Plain', 'bootstrap_type': 'Bayesian', 'bagging_temperature': 3.6921084364901247}. Best is trial 44 with value: 0.8595505617977528.\u001b[0m\n",
      "\u001b[32m[I 2021-10-03 13:12:41,333]\u001b[0m Trial 90 finished with value: 0.8314606741573034 and parameters: {'objective': 'CrossEntropy', 'colsample_bylevel': 0.050604736393100425, 'depth': 11, 'boosting_type': 'Plain', 'bootstrap_type': 'Bayesian', 'bagging_temperature': 6.106666549321574}. Best is trial 44 with value: 0.8595505617977528.\u001b[0m\n",
      "\u001b[32m[I 2021-10-03 13:12:43,446]\u001b[0m Trial 91 finished with value: 0.8370786516853933 and parameters: {'objective': 'CrossEntropy', 'colsample_bylevel': 0.09759464166607701, 'depth': 9, 'boosting_type': 'Plain', 'bootstrap_type': 'Bayesian', 'bagging_temperature': 4.179339241607835}. Best is trial 44 with value: 0.8595505617977528.\u001b[0m\n",
      "\u001b[32m[I 2021-10-03 13:12:46,337]\u001b[0m Trial 92 finished with value: 0.8426966292134831 and parameters: {'objective': 'CrossEntropy', 'colsample_bylevel': 0.09425699170186624, 'depth': 9, 'boosting_type': 'Plain', 'bootstrap_type': 'Bayesian', 'bagging_temperature': 5.172033348607753}. Best is trial 44 with value: 0.8595505617977528.\u001b[0m\n",
      "\u001b[32m[I 2021-10-03 13:12:48,761]\u001b[0m Trial 93 finished with value: 0.8539325842696629 and parameters: {'objective': 'CrossEntropy', 'colsample_bylevel': 0.0856401897900808, 'depth': 10, 'boosting_type': 'Plain', 'bootstrap_type': 'Bayesian', 'bagging_temperature': 4.54575081407767}. Best is trial 44 with value: 0.8595505617977528.\u001b[0m\n",
      "\u001b[32m[I 2021-10-03 13:12:50,935]\u001b[0m Trial 94 finished with value: 0.8370786516853933 and parameters: {'objective': 'CrossEntropy', 'colsample_bylevel': 0.0849621110285082, 'depth': 8, 'boosting_type': 'Plain', 'bootstrap_type': 'Bayesian', 'bagging_temperature': 4.552530046443738}. Best is trial 44 with value: 0.8595505617977528.\u001b[0m\n",
      "\u001b[32m[I 2021-10-03 13:12:53,166]\u001b[0m Trial 95 finished with value: 0.8370786516853933 and parameters: {'objective': 'CrossEntropy', 'colsample_bylevel': 0.09063977028528543, 'depth': 10, 'boosting_type': 'Plain', 'bootstrap_type': 'Bayesian', 'bagging_temperature': 3.9483203232277178}. Best is trial 44 with value: 0.8595505617977528.\u001b[0m\n",
      "\u001b[32m[I 2021-10-03 13:12:55,745]\u001b[0m Trial 96 finished with value: 0.8426966292134831 and parameters: {'objective': 'CrossEntropy', 'colsample_bylevel': 0.07923486946277104, 'depth': 10, 'boosting_type': 'Plain', 'bootstrap_type': 'Bernoulli', 'subsample': 0.9574837753285659}. Best is trial 44 with value: 0.8595505617977528.\u001b[0m\n",
      "\u001b[32m[I 2021-10-03 13:12:57,928]\u001b[0m Trial 97 finished with value: 0.848314606741573 and parameters: {'objective': 'CrossEntropy', 'colsample_bylevel': 0.08738902574268473, 'depth': 10, 'boosting_type': 'Plain', 'bootstrap_type': 'Bayesian', 'bagging_temperature': 5.689562210663122}. Best is trial 44 with value: 0.8595505617977528.\u001b[0m\n",
      "\u001b[32m[I 2021-10-03 13:13:05,551]\u001b[0m Trial 98 finished with value: 0.8258426966292135 and parameters: {'objective': 'CrossEntropy', 'colsample_bylevel': 0.09275540377567147, 'depth': 7, 'boosting_type': 'Ordered', 'bootstrap_type': 'Bayesian', 'bagging_temperature': 4.953454134816027}. Best is trial 44 with value: 0.8595505617977528.\u001b[0m\n",
      "\u001b[32m[I 2021-10-03 13:13:07,595]\u001b[0m Trial 99 finished with value: 0.848314606741573 and parameters: {'objective': 'Logloss', 'colsample_bylevel': 0.09460455098716186, 'depth': 9, 'boosting_type': 'Plain', 'bootstrap_type': 'Bayesian', 'bagging_temperature': 4.351785277822695}. Best is trial 44 with value: 0.8595505617977528.\u001b[0m\n",
      "Number of finished trials: 100\n",
      "Best trial:\n",
      "  Value: 0.8595505617977528\n",
      "  Params: \n",
      "    objective: Logloss\n",
      "    colsample_bylevel: 0.09069460391268805\n",
      "    depth: 9\n",
      "    boosting_type: Plain\n",
      "    bootstrap_type: Bayesian\n",
      "    bagging_temperature: 4.463040845533523\n"
     ]
    }
   ],
   "source": [
    "#optuna catboost example\n",
    "#https://github.com/optuna/optuna-examples/blob/main/catboost/catboost_simple.py\n",
    "import catboost as cb\n",
    "def objective(trial):\n",
    "    param = {\n",
    "        \"objective\": trial.suggest_categorical(\"objective\", [\"Logloss\", \"CrossEntropy\"]),\n",
    "        \"colsample_bylevel\": trial.suggest_float(\"colsample_bylevel\", 0.01, 0.1),\n",
    "        \"depth\": trial.suggest_int(\"depth\", 1, 12),\n",
    "        \"boosting_type\": trial.suggest_categorical(\"boosting_type\", [\"Ordered\", \"Plain\"]),\n",
    "        \"bootstrap_type\": trial.suggest_categorical(\n",
    "            \"bootstrap_type\", [\"Bayesian\", \"Bernoulli\", \"MVS\"]\n",
    "        ),\n",
    "        \"used_ram_limit\": \"3gb\",\n",
    "    }\n",
    "\n",
    "    if param[\"bootstrap_type\"] == \"Bayesian\":\n",
    "        param[\"bagging_temperature\"] = trial.suggest_float(\"bagging_temperature\", 0, 10)\n",
    "    elif param[\"bootstrap_type\"] == \"Bernoulli\":\n",
    "        param[\"subsample\"] = trial.suggest_float(\"subsample\", 0.1, 1)\n",
    "\n",
    "    for i in range(5):\n",
    "        train_x = train.query(f'fold!={i}').drop(['fold', 'Survived'], axis=1)\n",
    "        train_y = train.query(f'fold!={i}').Survived\n",
    "\n",
    "        valid_x = train.query(f'fold=={i}').drop(['fold', 'Survived'], axis=1)\n",
    "        valid_y = train.query(f'fold=={i}').Survived\n",
    "        \n",
    "        #save the five fold accuracy\n",
    "        accuracy = []\n",
    "        \n",
    "        gbm = cb.CatBoostClassifier(**param)\n",
    "        gbm.fit(train_x, train_y, eval_set=[(valid_x, valid_y)], verbose=0, early_stopping_rounds=100)\n",
    "        preds = gbm.predict(valid_x)\n",
    "        pred_labels = np.rint(preds)\n",
    "        accuracy.append(accuracy_score(valid_y, pred_labels))\n",
    "        \n",
    "        #save the best model for each fold \n",
    "        joblib.dump(gbm, f'catboost_fold{i}.pkl')\n",
    "    return np.mean(accuracy)\n",
    "\n",
    "if __name__ == \"__main__\":\n",
    "    study = optuna.create_study(direction=\"maximize\")\n",
    "    study.optimize(objective, n_trials=100, timeout=600)\n",
    "\n",
    "    print(\"Number of finished trials: {}\".format(len(study.trials)))\n",
    "\n",
    "    print(\"Best trial:\")\n",
    "    trial = study.best_trial\n",
    "\n",
    "    print(\"  Value: {}\".format(trial.value))\n",
    "\n",
    "    print(\"  Params: \")\n",
    "    for key, value in trial.params.items():\n",
    "        print(\"    {}: {}\".format(key, value))"
   ]
  },
  {
   "cell_type": "markdown",
   "metadata": {
    "cell_id": "00060-17e9db58-ae46-4888-bd4b-ac3601e88d03",
    "deepnote_cell_type": "text-cell-p",
    "is_collapsed": false,
    "tags": []
   },
   "source": []
  },
  {
   "cell_type": "markdown",
   "metadata": {
    "cell_id": "00052-d950e938-9f79-4e37-aa07-4ef37dfb5242",
    "deepnote_cell_type": "markdown",
    "id": "v4d2_k5xL8Lk"
   },
   "source": [
    "## Ensemble lgb and xgboost"
   ]
  },
  {
   "cell_type": "code",
   "execution_count": null,
   "metadata": {
    "cell_id": "00053-ba98df56-25bd-4039-998b-ef69da6769dc",
    "deepnote_cell_type": "code",
    "deepnote_to_be_reexecuted": false,
    "execution_millis": 4,
    "execution_start": 1633266787649,
    "id": "Q7cd-wmrL8Lk",
    "source_hash": "f3eb278a"
   },
   "outputs": [],
   "source": [
    "X_train = train.drop(['Survived', 'fold'], axis=1).values\n",
    "y_train = train[['Survived']].values"
   ]
  },
  {
   "cell_type": "code",
   "execution_count": null,
   "metadata": {
    "cell_id": "00054-6642aa25-0181-45c0-b91d-01f193d024d2",
    "deepnote_cell_type": "code",
    "deepnote_to_be_reexecuted": false,
    "execution_millis": 0,
    "execution_start": 1633266787658,
    "id": "kP-m4G0lL8Ll",
    "source_hash": "286e5f26"
   },
   "outputs": [],
   "source": [
    "test2 = test.drop(['Survived', 'fold'], axis=1).values"
   ]
  },
  {
   "cell_type": "code",
   "execution_count": null,
   "metadata": {
    "cell_id": "00074-2c5d7085-a465-44a6-96df-48d275e16b4f",
    "deepnote_cell_type": "code",
    "deepnote_to_be_reexecuted": true,
    "execution_millis": 99,
    "execution_start": 1633265334600,
    "source_hash": "b623e53d",
    "tags": []
   },
   "outputs": [
    {
     "data": {
      "application/vnd.deepnote.dataframe.v2+json": {
       "column_count": 18,
       "columns": [
        {
         "dtype": "float64",
         "name": "Survived",
         "stats": {
          "histogram": [
           {
            "bin_end": 0.1,
            "bin_start": 0,
            "count": 0
           },
           {
            "bin_end": 0.2,
            "bin_start": 0.1,
            "count": 0
           },
           {
            "bin_end": 0.30000000000000004,
            "bin_start": 0.2,
            "count": 0
           },
           {
            "bin_end": 0.4,
            "bin_start": 0.30000000000000004,
            "count": 0
           },
           {
            "bin_end": 0.5,
            "bin_start": 0.4,
            "count": 0
           },
           {
            "bin_end": 0.6000000000000001,
            "bin_start": 0.5,
            "count": 0
           },
           {
            "bin_end": 0.7000000000000001,
            "bin_start": 0.6000000000000001,
            "count": 0
           },
           {
            "bin_end": 0.8,
            "bin_start": 0.7000000000000001,
            "count": 0
           },
           {
            "bin_end": 0.9,
            "bin_start": 0.8,
            "count": 0
           },
           {
            "bin_end": 1,
            "bin_start": 0.9,
            "count": 0
           }
          ],
          "max": null,
          "min": null,
          "nan_count": 418,
          "unique_count": 0
         }
        },
        {
         "dtype": "int64",
         "name": "Pclass",
         "stats": {
          "histogram": [
           {
            "bin_end": 1.2,
            "bin_start": 1,
            "count": 107
           },
           {
            "bin_end": 1.4,
            "bin_start": 1.2,
            "count": 0
           },
           {
            "bin_end": 1.6,
            "bin_start": 1.4,
            "count": 0
           },
           {
            "bin_end": 1.8,
            "bin_start": 1.6,
            "count": 0
           },
           {
            "bin_end": 2,
            "bin_start": 1.8,
            "count": 0
           },
           {
            "bin_end": 2.2,
            "bin_start": 2,
            "count": 93
           },
           {
            "bin_end": 2.4000000000000004,
            "bin_start": 2.2,
            "count": 0
           },
           {
            "bin_end": 2.6,
            "bin_start": 2.4000000000000004,
            "count": 0
           },
           {
            "bin_end": 2.8,
            "bin_start": 2.6,
            "count": 0
           },
           {
            "bin_end": 3,
            "bin_start": 2.8,
            "count": 218
           }
          ],
          "max": "3",
          "min": "1",
          "nan_count": 0,
          "unique_count": 3
         }
        },
        {
         "dtype": "int64",
         "name": "Sex",
         "stats": {
          "histogram": [
           {
            "bin_end": 0.1,
            "bin_start": 0,
            "count": 152
           },
           {
            "bin_end": 0.2,
            "bin_start": 0.1,
            "count": 0
           },
           {
            "bin_end": 0.30000000000000004,
            "bin_start": 0.2,
            "count": 0
           },
           {
            "bin_end": 0.4,
            "bin_start": 0.30000000000000004,
            "count": 0
           },
           {
            "bin_end": 0.5,
            "bin_start": 0.4,
            "count": 0
           },
           {
            "bin_end": 0.6000000000000001,
            "bin_start": 0.5,
            "count": 0
           },
           {
            "bin_end": 0.7000000000000001,
            "bin_start": 0.6000000000000001,
            "count": 0
           },
           {
            "bin_end": 0.8,
            "bin_start": 0.7000000000000001,
            "count": 0
           },
           {
            "bin_end": 0.9,
            "bin_start": 0.8,
            "count": 0
           },
           {
            "bin_end": 1,
            "bin_start": 0.9,
            "count": 266
           }
          ],
          "max": "1",
          "min": "0",
          "nan_count": 0,
          "unique_count": 2
         }
        },
        {
         "dtype": "int64",
         "name": "Age",
         "stats": {
          "histogram": [
           {
            "bin_end": 1.9,
            "bin_start": 0,
            "count": 54
           },
           {
            "bin_end": 3.8,
            "bin_start": 1.9,
            "count": 34
           },
           {
            "bin_end": 5.699999999999999,
            "bin_start": 3.8,
            "count": 45
           },
           {
            "bin_end": 7.6,
            "bin_start": 5.699999999999999,
            "count": 40
           },
           {
            "bin_end": 9.5,
            "bin_start": 7.6,
            "count": 84
           },
           {
            "bin_end": 11.399999999999999,
            "bin_start": 9.5,
            "count": 0
           },
           {
            "bin_end": 13.299999999999999,
            "bin_start": 11.399999999999999,
            "count": 40
           },
           {
            "bin_end": 15.2,
            "bin_start": 13.299999999999999,
            "count": 39
           },
           {
            "bin_end": 17.099999999999998,
            "bin_start": 15.2,
            "count": 43
           },
           {
            "bin_end": 19,
            "bin_start": 17.099999999999998,
            "count": 39
           }
          ],
          "max": "19",
          "min": "0",
          "nan_count": 0,
          "unique_count": 10
         }
        },
        {
         "dtype": "int64",
         "name": "Ticket",
         "stats": {
          "histogram": [
           {
            "bin_end": 0.3,
            "bin_start": 0,
            "count": 27
           },
           {
            "bin_end": 0.6,
            "bin_start": 0.3,
            "count": 0
           },
           {
            "bin_end": 0.8999999999999999,
            "bin_start": 0.6,
            "count": 0
           },
           {
            "bin_end": 1.2,
            "bin_start": 0.8999999999999999,
            "count": 63
           },
           {
            "bin_end": 1.5,
            "bin_start": 1.2,
            "count": 0
           },
           {
            "bin_end": 1.7999999999999998,
            "bin_start": 1.5,
            "count": 0
           },
           {
            "bin_end": 2.1,
            "bin_start": 1.7999999999999998,
            "count": 296
           },
           {
            "bin_end": 2.4,
            "bin_start": 2.1,
            "count": 0
           },
           {
            "bin_end": 2.6999999999999997,
            "bin_start": 2.4,
            "count": 0
           },
           {
            "bin_end": 3,
            "bin_start": 2.6999999999999997,
            "count": 32
           }
          ],
          "max": "3",
          "min": "0",
          "nan_count": 0,
          "unique_count": 4
         }
        },
        {
         "dtype": "int64",
         "name": "Fare",
         "stats": {
          "histogram": [
           {
            "bin_end": 2.7,
            "bin_start": 1,
            "count": 42
           },
           {
            "bin_end": 4.4,
            "bin_start": 2.7,
            "count": 94
           },
           {
            "bin_end": 6.1,
            "bin_start": 4.4,
            "count": 0
           },
           {
            "bin_end": 7.8,
            "bin_start": 6.1,
            "count": 31
           },
           {
            "bin_end": 9.5,
            "bin_start": 7.8,
            "count": 43
           },
           {
            "bin_end": 11.2,
            "bin_start": 9.5,
            "count": 83
           },
           {
            "bin_end": 12.9,
            "bin_start": 11.2,
            "count": 0
           },
           {
            "bin_end": 14.6,
            "bin_start": 12.9,
            "count": 41
           },
           {
            "bin_end": 16.299999999999997,
            "bin_start": 14.6,
            "count": 43
           },
           {
            "bin_end": 18,
            "bin_start": 16.299999999999997,
            "count": 41
           }
          ],
          "max": "18",
          "min": "1",
          "nan_count": 0,
          "unique_count": 10
         }
        },
        {
         "dtype": "int64",
         "name": "Cabin",
         "stats": {
          "histogram": [
           {
            "bin_end": 0.5,
            "bin_start": 0,
            "count": 18
           },
           {
            "bin_end": 1,
            "bin_start": 0.5,
            "count": 0
           },
           {
            "bin_end": 1.5,
            "bin_start": 1,
            "count": 35
           },
           {
            "bin_end": 2,
            "bin_start": 1.5,
            "count": 0
           },
           {
            "bin_end": 2.5,
            "bin_start": 2,
            "count": 13
           },
           {
            "bin_end": 3,
            "bin_start": 2.5,
            "count": 0
           },
           {
            "bin_end": 3.5,
            "bin_start": 3,
            "count": 9
           },
           {
            "bin_end": 4,
            "bin_start": 3.5,
            "count": 0
           },
           {
            "bin_end": 4.5,
            "bin_start": 4,
            "count": 327
           },
           {
            "bin_end": 5,
            "bin_start": 4.5,
            "count": 16
           }
          ],
          "max": "5",
          "min": "0",
          "nan_count": 0,
          "unique_count": 6
         }
        },
        {
         "dtype": "int64",
         "name": "Embarked",
         "stats": {
          "histogram": [
           {
            "bin_end": 0.2,
            "bin_start": 0,
            "count": 102
           },
           {
            "bin_end": 0.4,
            "bin_start": 0.2,
            "count": 0
           },
           {
            "bin_end": 0.6000000000000001,
            "bin_start": 0.4,
            "count": 0
           },
           {
            "bin_end": 0.8,
            "bin_start": 0.6000000000000001,
            "count": 0
           },
           {
            "bin_end": 1,
            "bin_start": 0.8,
            "count": 0
           },
           {
            "bin_end": 1.2000000000000002,
            "bin_start": 1,
            "count": 46
           },
           {
            "bin_end": 1.4000000000000001,
            "bin_start": 1.2000000000000002,
            "count": 0
           },
           {
            "bin_end": 1.6,
            "bin_start": 1.4000000000000001,
            "count": 0
           },
           {
            "bin_end": 1.8,
            "bin_start": 1.6,
            "count": 0
           },
           {
            "bin_end": 2,
            "bin_start": 1.8,
            "count": 270
           }
          ],
          "max": "2",
          "min": "0",
          "nan_count": 0,
          "unique_count": 3
         }
        },
        {
         "dtype": "float64",
         "name": "fold",
         "stats": {
          "histogram": [
           {
            "bin_end": 0.1,
            "bin_start": 0,
            "count": 0
           },
           {
            "bin_end": 0.2,
            "bin_start": 0.1,
            "count": 0
           },
           {
            "bin_end": 0.30000000000000004,
            "bin_start": 0.2,
            "count": 0
           },
           {
            "bin_end": 0.4,
            "bin_start": 0.30000000000000004,
            "count": 0
           },
           {
            "bin_end": 0.5,
            "bin_start": 0.4,
            "count": 0
           },
           {
            "bin_end": 0.6000000000000001,
            "bin_start": 0.5,
            "count": 0
           },
           {
            "bin_end": 0.7000000000000001,
            "bin_start": 0.6000000000000001,
            "count": 0
           },
           {
            "bin_end": 0.8,
            "bin_start": 0.7000000000000001,
            "count": 0
           },
           {
            "bin_end": 0.9,
            "bin_start": 0.8,
            "count": 0
           },
           {
            "bin_end": 1,
            "bin_start": 0.9,
            "count": 0
           }
          ],
          "max": null,
          "min": null,
          "nan_count": 418,
          "unique_count": 0
         }
        },
        {
         "dtype": "float64",
         "name": "Family_size",
         "stats": {
          "histogram": [
           {
            "bin_end": 0.2,
            "bin_start": 0,
            "count": 384
           },
           {
            "bin_end": 0.4,
            "bin_start": 0.2,
            "count": 0
           },
           {
            "bin_end": 0.6000000000000001,
            "bin_start": 0.4,
            "count": 0
           },
           {
            "bin_end": 0.8,
            "bin_start": 0.6000000000000001,
            "count": 0
           },
           {
            "bin_end": 1,
            "bin_start": 0.8,
            "count": 0
           },
           {
            "bin_end": 1.2000000000000002,
            "bin_start": 1,
            "count": 21
           },
           {
            "bin_end": 1.4000000000000001,
            "bin_start": 1.2000000000000002,
            "count": 0
           },
           {
            "bin_end": 1.6,
            "bin_start": 1.4000000000000001,
            "count": 0
           },
           {
            "bin_end": 1.8,
            "bin_start": 1.6,
            "count": 0
           },
           {
            "bin_end": 2,
            "bin_start": 1.8,
            "count": 13
           }
          ],
          "max": "2.0",
          "min": "0.0",
          "nan_count": 0,
          "unique_count": 3
         }
        },
        {
         "dtype": "int64",
         "name": "Cabin Num",
         "stats": {
          "histogram": [
           {
            "bin_end": 10.3,
            "bin_start": 0,
            "count": 341
           },
           {
            "bin_end": 20.6,
            "bin_start": 10.3,
            "count": 7
           },
           {
            "bin_end": 30.900000000000002,
            "bin_start": 20.6,
            "count": 13
           },
           {
            "bin_end": 41.2,
            "bin_start": 30.900000000000002,
            "count": 13
           },
           {
            "bin_end": 51.5,
            "bin_start": 41.2,
            "count": 13
           },
           {
            "bin_end": 61.800000000000004,
            "bin_start": 51.5,
            "count": 11
           },
           {
            "bin_end": 72.10000000000001,
            "bin_start": 61.800000000000004,
            "count": 7
           },
           {
            "bin_end": 82.4,
            "bin_start": 72.10000000000001,
            "count": 4
           },
           {
            "bin_end": 92.7,
            "bin_start": 82.4,
            "count": 5
           },
           {
            "bin_end": 103,
            "bin_start": 92.7,
            "count": 4
           }
          ],
          "max": "103",
          "min": "0",
          "nan_count": 0,
          "unique_count": 58
         }
        },
        {
         "dtype": "uint8",
         "name": "title_Dr",
         "stats": {
          "histogram": [
           {
            "bin_end": 0.1,
            "bin_start": 0,
            "count": 417
           },
           {
            "bin_end": 0.2,
            "bin_start": 0.1,
            "count": 0
           },
           {
            "bin_end": 0.30000000000000004,
            "bin_start": 0.2,
            "count": 0
           },
           {
            "bin_end": 0.4,
            "bin_start": 0.30000000000000004,
            "count": 0
           },
           {
            "bin_end": 0.5,
            "bin_start": 0.4,
            "count": 0
           },
           {
            "bin_end": 0.6000000000000001,
            "bin_start": 0.5,
            "count": 0
           },
           {
            "bin_end": 0.7000000000000001,
            "bin_start": 0.6000000000000001,
            "count": 0
           },
           {
            "bin_end": 0.8,
            "bin_start": 0.7000000000000001,
            "count": 0
           },
           {
            "bin_end": 0.9,
            "bin_start": 0.8,
            "count": 0
           },
           {
            "bin_end": 1,
            "bin_start": 0.9,
            "count": 1
           }
          ],
          "max": "1",
          "min": "0",
          "nan_count": 0,
          "unique_count": 2
         }
        },
        {
         "dtype": "uint8",
         "name": "title_ELSE",
         "stats": {
          "histogram": [
           {
            "bin_end": 0.1,
            "bin_start": 0,
            "count": 414
           },
           {
            "bin_end": 0.2,
            "bin_start": 0.1,
            "count": 0
           },
           {
            "bin_end": 0.30000000000000004,
            "bin_start": 0.2,
            "count": 0
           },
           {
            "bin_end": 0.4,
            "bin_start": 0.30000000000000004,
            "count": 0
           },
           {
            "bin_end": 0.5,
            "bin_start": 0.4,
            "count": 0
           },
           {
            "bin_end": 0.6000000000000001,
            "bin_start": 0.5,
            "count": 0
           },
           {
            "bin_end": 0.7000000000000001,
            "bin_start": 0.6000000000000001,
            "count": 0
           },
           {
            "bin_end": 0.8,
            "bin_start": 0.7000000000000001,
            "count": 0
           },
           {
            "bin_end": 0.9,
            "bin_start": 0.8,
            "count": 0
           },
           {
            "bin_end": 1,
            "bin_start": 0.9,
            "count": 4
           }
          ],
          "max": "1",
          "min": "0",
          "nan_count": 0,
          "unique_count": 2
         }
        },
        {
         "dtype": "uint8",
         "name": "title_Master",
         "stats": {
          "histogram": [
           {
            "bin_end": 0.1,
            "bin_start": 0,
            "count": 397
           },
           {
            "bin_end": 0.2,
            "bin_start": 0.1,
            "count": 0
           },
           {
            "bin_end": 0.30000000000000004,
            "bin_start": 0.2,
            "count": 0
           },
           {
            "bin_end": 0.4,
            "bin_start": 0.30000000000000004,
            "count": 0
           },
           {
            "bin_end": 0.5,
            "bin_start": 0.4,
            "count": 0
           },
           {
            "bin_end": 0.6000000000000001,
            "bin_start": 0.5,
            "count": 0
           },
           {
            "bin_end": 0.7000000000000001,
            "bin_start": 0.6000000000000001,
            "count": 0
           },
           {
            "bin_end": 0.8,
            "bin_start": 0.7000000000000001,
            "count": 0
           },
           {
            "bin_end": 0.9,
            "bin_start": 0.8,
            "count": 0
           },
           {
            "bin_end": 1,
            "bin_start": 0.9,
            "count": 21
           }
          ],
          "max": "1",
          "min": "0",
          "nan_count": 0,
          "unique_count": 2
         }
        },
        {
         "dtype": "uint8",
         "name": "title_Miss",
         "stats": {
          "histogram": [
           {
            "bin_end": 0.1,
            "bin_start": 0,
            "count": 340
           },
           {
            "bin_end": 0.2,
            "bin_start": 0.1,
            "count": 0
           },
           {
            "bin_end": 0.30000000000000004,
            "bin_start": 0.2,
            "count": 0
           },
           {
            "bin_end": 0.4,
            "bin_start": 0.30000000000000004,
            "count": 0
           },
           {
            "bin_end": 0.5,
            "bin_start": 0.4,
            "count": 0
           },
           {
            "bin_end": 0.6000000000000001,
            "bin_start": 0.5,
            "count": 0
           },
           {
            "bin_end": 0.7000000000000001,
            "bin_start": 0.6000000000000001,
            "count": 0
           },
           {
            "bin_end": 0.8,
            "bin_start": 0.7000000000000001,
            "count": 0
           },
           {
            "bin_end": 0.9,
            "bin_start": 0.8,
            "count": 0
           },
           {
            "bin_end": 1,
            "bin_start": 0.9,
            "count": 78
           }
          ],
          "max": "1",
          "min": "0",
          "nan_count": 0,
          "unique_count": 2
         }
        },
        {
         "dtype": "uint8",
         "name": "title_Mr",
         "stats": {
          "histogram": [
           {
            "bin_end": 0.1,
            "bin_start": 0,
            "count": 178
           },
           {
            "bin_end": 0.2,
            "bin_start": 0.1,
            "count": 0
           },
           {
            "bin_end": 0.30000000000000004,
            "bin_start": 0.2,
            "count": 0
           },
           {
            "bin_end": 0.4,
            "bin_start": 0.30000000000000004,
            "count": 0
           },
           {
            "bin_end": 0.5,
            "bin_start": 0.4,
            "count": 0
           },
           {
            "bin_end": 0.6000000000000001,
            "bin_start": 0.5,
            "count": 0
           },
           {
            "bin_end": 0.7000000000000001,
            "bin_start": 0.6000000000000001,
            "count": 0
           },
           {
            "bin_end": 0.8,
            "bin_start": 0.7000000000000001,
            "count": 0
           },
           {
            "bin_end": 0.9,
            "bin_start": 0.8,
            "count": 0
           },
           {
            "bin_end": 1,
            "bin_start": 0.9,
            "count": 240
           }
          ],
          "max": "1",
          "min": "0",
          "nan_count": 0,
          "unique_count": 2
         }
        },
        {
         "dtype": "uint8",
         "name": "title_Mrs",
         "stats": {
          "histogram": [
           {
            "bin_end": 0.1,
            "bin_start": 0,
            "count": 346
           },
           {
            "bin_end": 0.2,
            "bin_start": 0.1,
            "count": 0
           },
           {
            "bin_end": 0.30000000000000004,
            "bin_start": 0.2,
            "count": 0
           },
           {
            "bin_end": 0.4,
            "bin_start": 0.30000000000000004,
            "count": 0
           },
           {
            "bin_end": 0.5,
            "bin_start": 0.4,
            "count": 0
           },
           {
            "bin_end": 0.6000000000000001,
            "bin_start": 0.5,
            "count": 0
           },
           {
            "bin_end": 0.7000000000000001,
            "bin_start": 0.6000000000000001,
            "count": 0
           },
           {
            "bin_end": 0.8,
            "bin_start": 0.7000000000000001,
            "count": 0
           },
           {
            "bin_end": 0.9,
            "bin_start": 0.8,
            "count": 0
           },
           {
            "bin_end": 1,
            "bin_start": 0.9,
            "count": 72
           }
          ],
          "max": "1",
          "min": "0",
          "nan_count": 0,
          "unique_count": 2
         }
        },
        {
         "dtype": "uint8",
         "name": "title_Rev",
         "stats": {
          "histogram": [
           {
            "bin_end": 0.1,
            "bin_start": 0,
            "count": 416
           },
           {
            "bin_end": 0.2,
            "bin_start": 0.1,
            "count": 0
           },
           {
            "bin_end": 0.30000000000000004,
            "bin_start": 0.2,
            "count": 0
           },
           {
            "bin_end": 0.4,
            "bin_start": 0.30000000000000004,
            "count": 0
           },
           {
            "bin_end": 0.5,
            "bin_start": 0.4,
            "count": 0
           },
           {
            "bin_end": 0.6000000000000001,
            "bin_start": 0.5,
            "count": 0
           },
           {
            "bin_end": 0.7000000000000001,
            "bin_start": 0.6000000000000001,
            "count": 0
           },
           {
            "bin_end": 0.8,
            "bin_start": 0.7000000000000001,
            "count": 0
           },
           {
            "bin_end": 0.9,
            "bin_start": 0.8,
            "count": 0
           },
           {
            "bin_end": 1,
            "bin_start": 0.9,
            "count": 2
           }
          ],
          "max": "1",
          "min": "0",
          "nan_count": 0,
          "unique_count": 2
         }
        },
        {
         "dtype": "int64",
         "name": "_deepnote_index_column"
        }
       ],
       "row_count": 418,
       "rows_bottom": [
        {
         "Age": 5,
         "Cabin": 0,
         "Cabin Num": 22,
         "Embarked": 2,
         "Family_size": 0,
         "Fare": 18,
         "Pclass": 1,
         "Sex": 1,
         "Survived": "nan",
         "Ticket": 2,
         "_deepnote_index_column": 390,
         "fold": "nan",
         "title_Dr": 0,
         "title_ELSE": 0,
         "title_Master": 0,
         "title_Miss": 0,
         "title_Mr": 1,
         "title_Mrs": 0,
         "title_Rev": 0
        },
        {
         "Age": 19,
         "Cabin": 2,
         "Cabin Num": 25,
         "Embarked": 2,
         "Family_size": 0,
         "Fare": 13,
         "Pclass": 1,
         "Sex": 0,
         "Survived": "nan",
         "Ticket": 3,
         "_deepnote_index_column": 391,
         "fold": "nan",
         "title_Dr": 0,
         "title_ELSE": 0,
         "title_Master": 0,
         "title_Miss": 0,
         "title_Mr": 0,
         "title_Mrs": 1,
         "title_Rev": 0
        },
        {
         "Age": 0,
         "Cabin": 4,
         "Cabin Num": 0,
         "Embarked": 2,
         "Family_size": 0,
         "Fare": 10,
         "Pclass": 3,
         "Sex": 1,
         "Survived": "nan",
         "Ticket": 0,
         "_deepnote_index_column": 392,
         "fold": "nan",
         "title_Dr": 0,
         "title_ELSE": 0,
         "title_Master": 1,
         "title_Miss": 0,
         "title_Mr": 0,
         "title_Mrs": 0,
         "title_Rev": 0
        },
        {
         "Age": 16,
         "Cabin": 4,
         "Cabin Num": 0,
         "Embarked": 2,
         "Family_size": 0,
         "Fare": 7,
         "Pclass": 2,
         "Sex": 1,
         "Survived": "nan",
         "Ticket": 0,
         "_deepnote_index_column": 393,
         "fold": "nan",
         "title_Dr": 0,
         "title_ELSE": 0,
         "title_Master": 0,
         "title_Miss": 0,
         "title_Mr": 1,
         "title_Mrs": 0,
         "title_Rev": 0
        },
        {
         "Age": 9,
         "Cabin": 4,
         "Cabin Num": 0,
         "Embarked": 2,
         "Family_size": 1,
         "Fare": 11,
         "Pclass": 3,
         "Sex": 1,
         "Survived": "nan",
         "Ticket": 2,
         "_deepnote_index_column": 394,
         "fold": "nan",
         "title_Dr": 0,
         "title_ELSE": 0,
         "title_Master": 0,
         "title_Miss": 0,
         "title_Mr": 1,
         "title_Mrs": 0,
         "title_Rev": 0
        },
        {
         "Age": 0,
         "Cabin": 1,
         "Cabin Num": 28,
         "Embarked": 2,
         "Family_size": 0,
         "Fare": 16,
         "Pclass": 1,
         "Sex": 0,
         "Survived": "nan",
         "Ticket": 2,
         "_deepnote_index_column": 395,
         "fold": "nan",
         "title_Dr": 0,
         "title_ELSE": 0,
         "title_Master": 0,
         "title_Miss": 0,
         "title_Mr": 0,
         "title_Mrs": 1,
         "title_Rev": 0
        },
        {
         "Age": 7,
         "Cabin": 4,
         "Cabin Num": 0,
         "Embarked": 1,
         "Family_size": 0,
         "Fare": 1,
         "Pclass": 3,
         "Sex": 1,
         "Survived": "nan",
         "Ticket": 2,
         "_deepnote_index_column": 396,
         "fold": "nan",
         "title_Dr": 0,
         "title_ELSE": 0,
         "title_Master": 0,
         "title_Miss": 0,
         "title_Mr": 1,
         "title_Mrs": 0,
         "title_Rev": 0
        },
        {
         "Age": 16,
         "Cabin": 0,
         "Cabin Num": 38,
         "Embarked": 0,
         "Family_size": 0,
         "Fare": 16,
         "Pclass": 1,
         "Sex": 0,
         "Survived": "nan",
         "Ticket": 2,
         "_deepnote_index_column": 397,
         "fold": "nan",
         "title_Dr": 0,
         "title_ELSE": 0,
         "title_Master": 0,
         "title_Miss": 0,
         "title_Mr": 0,
         "title_Mrs": 1,
         "title_Rev": 0
        },
        {
         "Age": 5,
         "Cabin": 4,
         "Cabin Num": 0,
         "Embarked": 2,
         "Family_size": 0,
         "Fare": 3,
         "Pclass": 3,
         "Sex": 1,
         "Survived": "nan",
         "Ticket": 2,
         "_deepnote_index_column": 398,
         "fold": "nan",
         "title_Dr": 0,
         "title_ELSE": 0,
         "title_Master": 0,
         "title_Miss": 0,
         "title_Mr": 1,
         "title_Mrs": 0,
         "title_Rev": 0
        },
        {
         "Age": 12,
         "Cabin": 4,
         "Cabin Num": 0,
         "Embarked": 1,
         "Family_size": 0,
         "Fare": 3,
         "Pclass": 3,
         "Sex": 1,
         "Survived": "nan",
         "Ticket": 2,
         "_deepnote_index_column": 399,
         "fold": "nan",
         "title_Dr": 0,
         "title_ELSE": 0,
         "title_Master": 0,
         "title_Miss": 0,
         "title_Mr": 1,
         "title_Mrs": 0,
         "title_Rev": 0
        },
        {
         "Age": 12,
         "Cabin": 1,
         "Cabin Num": 6,
         "Embarked": 2,
         "Family_size": 0,
         "Fare": 18,
         "Pclass": 1,
         "Sex": 0,
         "Survived": "nan",
         "Ticket": 2,
         "_deepnote_index_column": 400,
         "fold": "nan",
         "title_Dr": 0,
         "title_ELSE": 0,
         "title_Master": 0,
         "title_Miss": 1,
         "title_Mr": 0,
         "title_Mrs": 0,
         "title_Rev": 0
        },
        {
         "Age": 14,
         "Cabin": 4,
         "Cabin Num": 0,
         "Embarked": 2,
         "Family_size": 0,
         "Fare": 10,
         "Pclass": 2,
         "Sex": 1,
         "Survived": "nan",
         "Ticket": 2,
         "_deepnote_index_column": 401,
         "fold": "nan",
         "title_Dr": 0,
         "title_ELSE": 0,
         "title_Master": 0,
         "title_Miss": 0,
         "title_Mr": 1,
         "title_Mrs": 0,
         "title_Rev": 0
        },
        {
         "Age": 5,
         "Cabin": 4,
         "Cabin Num": 0,
         "Embarked": 0,
         "Family_size": 0,
         "Fare": 16,
         "Pclass": 1,
         "Sex": 0,
         "Survived": "nan",
         "Ticket": 2,
         "_deepnote_index_column": 402,
         "fold": "nan",
         "title_Dr": 0,
         "title_ELSE": 0,
         "title_Master": 0,
         "title_Miss": 1,
         "title_Mr": 0,
         "title_Mrs": 0,
         "title_Rev": 0
        },
        {
         "Age": 0,
         "Cabin": 4,
         "Cabin Num": 0,
         "Embarked": 2,
         "Family_size": 0,
         "Fare": 16,
         "Pclass": 1,
         "Sex": 1,
         "Survived": "nan",
         "Ticket": 2,
         "_deepnote_index_column": 403,
         "fold": "nan",
         "title_Dr": 0,
         "title_ELSE": 0,
         "title_Master": 0,
         "title_Miss": 0,
         "title_Mr": 1,
         "title_Mrs": 0,
         "title_Rev": 0
        },
        {
         "Age": 16,
         "Cabin": 2,
         "Cabin Num": 37,
         "Embarked": 0,
         "Family_size": 0,
         "Fare": 13,
         "Pclass": 1,
         "Sex": 1,
         "Survived": "nan",
         "Ticket": 2,
         "_deepnote_index_column": 404,
         "fold": "nan",
         "title_Dr": 0,
         "title_ELSE": 0,
         "title_Master": 0,
         "title_Miss": 0,
         "title_Mr": 1,
         "title_Mrs": 0,
         "title_Rev": 0
        },
        {
         "Age": 3,
         "Cabin": 2,
         "Cabin Num": 35,
         "Embarked": 0,
         "Family_size": 0,
         "Fare": 9,
         "Pclass": 2,
         "Sex": 1,
         "Survived": "nan",
         "Ticket": 1,
         "_deepnote_index_column": 405,
         "fold": "nan",
         "title_Dr": 0,
         "title_ELSE": 0,
         "title_Master": 0,
         "title_Miss": 0,
         "title_Mr": 1,
         "title_Mrs": 0,
         "title_Rev": 0
        },
        {
         "Age": 5,
         "Cabin": 4,
         "Cabin Num": 0,
         "Embarked": 2,
         "Family_size": 0,
         "Fare": 7,
         "Pclass": 2,
         "Sex": 1,
         "Survived": "nan",
         "Ticket": 2,
         "_deepnote_index_column": 406,
         "fold": "nan",
         "title_Dr": 0,
         "title_ELSE": 0,
         "title_Master": 0,
         "title_Miss": 0,
         "title_Mr": 1,
         "title_Mrs": 0,
         "title_Rev": 0
        },
        {
         "Age": 19,
         "Cabin": 1,
         "Cabin Num": 70,
         "Embarked": 0,
         "Family_size": 0,
         "Fare": 18,
         "Pclass": 1,
         "Sex": 1,
         "Survived": "nan",
         "Ticket": 2,
         "_deepnote_index_column": 407,
         "fold": "nan",
         "title_Dr": 0,
         "title_ELSE": 0,
         "title_Master": 0,
         "title_Miss": 0,
         "title_Mr": 1,
         "title_Mrs": 0,
         "title_Rev": 0
        },
        {
         "Age": 8,
         "Cabin": 4,
         "Cabin Num": 0,
         "Embarked": 1,
         "Family_size": 0,
         "Fare": 3,
         "Pclass": 3,
         "Sex": 0,
         "Survived": "nan",
         "Ticket": 2,
         "_deepnote_index_column": 408,
         "fold": "nan",
         "title_Dr": 0,
         "title_ELSE": 0,
         "title_Master": 0,
         "title_Miss": 1,
         "title_Mr": 0,
         "title_Mrs": 0,
         "title_Rev": 0
        },
        {
         "Age": 0,
         "Cabin": 4,
         "Cabin Num": 0,
         "Embarked": 2,
         "Family_size": 0,
         "Fare": 9,
         "Pclass": 3,
         "Sex": 0,
         "Survived": "nan",
         "Ticket": 1,
         "_deepnote_index_column": 409,
         "fold": "nan",
         "title_Dr": 0,
         "title_ELSE": 0,
         "title_Master": 0,
         "title_Miss": 1,
         "title_Mr": 0,
         "title_Mrs": 0,
         "title_Rev": 0
        },
        {
         "Age": 8,
         "Cabin": 4,
         "Cabin Num": 0,
         "Embarked": 1,
         "Family_size": 0,
         "Fare": 3,
         "Pclass": 3,
         "Sex": 0,
         "Survived": "nan",
         "Ticket": 2,
         "_deepnote_index_column": 410,
         "fold": "nan",
         "title_Dr": 0,
         "title_ELSE": 0,
         "title_Master": 0,
         "title_Miss": 1,
         "title_Mr": 0,
         "title_Mrs": 0,
         "title_Rev": 0
        },
        {
         "Age": 14,
         "Cabin": 1,
         "Cabin Num": 68,
         "Embarked": 1,
         "Family_size": 0,
         "Fare": 18,
         "Pclass": 1,
         "Sex": 0,
         "Survived": "nan",
         "Ticket": 2,
         "_deepnote_index_column": 411,
         "fold": "nan",
         "title_Dr": 0,
         "title_ELSE": 0,
         "title_Master": 0,
         "title_Miss": 0,
         "title_Mr": 0,
         "title_Mrs": 1,
         "title_Rev": 0
        },
        {
         "Age": 9,
         "Cabin": 4,
         "Cabin Num": 0,
         "Embarked": 2,
         "Family_size": 0,
         "Fare": 3,
         "Pclass": 3,
         "Sex": 0,
         "Survived": "nan",
         "Ticket": 2,
         "_deepnote_index_column": 412,
         "fold": "nan",
         "title_Dr": 0,
         "title_ELSE": 0,
         "title_Master": 0,
         "title_Miss": 1,
         "title_Mr": 0,
         "title_Mrs": 0,
         "title_Rev": 0
        },
        {
         "Age": 8,
         "Cabin": 4,
         "Cabin Num": 0,
         "Embarked": 2,
         "Family_size": 0,
         "Fare": 4,
         "Pclass": 3,
         "Sex": 1,
         "Survived": "nan",
         "Ticket": 1,
         "_deepnote_index_column": 413,
         "fold": "nan",
         "title_Dr": 0,
         "title_ELSE": 0,
         "title_Master": 0,
         "title_Miss": 0,
         "title_Mr": 1,
         "title_Mrs": 0,
         "title_Rev": 0
        },
        {
         "Age": 14,
         "Cabin": 1,
         "Cabin Num": 90,
         "Embarked": 0,
         "Family_size": 0,
         "Fare": 18,
         "Pclass": 1,
         "Sex": 0,
         "Survived": "nan",
         "Ticket": 3,
         "_deepnote_index_column": 414,
         "fold": "nan",
         "title_Dr": 0,
         "title_ELSE": 1,
         "title_Master": 0,
         "title_Miss": 0,
         "title_Mr": 0,
         "title_Mrs": 0,
         "title_Rev": 0
        },
        {
         "Age": 14,
         "Cabin": 4,
         "Cabin Num": 0,
         "Embarked": 2,
         "Family_size": 0,
         "Fare": 1,
         "Pclass": 3,
         "Sex": 1,
         "Survived": "nan",
         "Ticket": 1,
         "_deepnote_index_column": 415,
         "fold": "nan",
         "title_Dr": 0,
         "title_ELSE": 0,
         "title_Master": 0,
         "title_Miss": 0,
         "title_Mr": 1,
         "title_Mrs": 0,
         "title_Rev": 0
        },
        {
         "Age": 8,
         "Cabin": 4,
         "Cabin Num": 0,
         "Embarked": 2,
         "Family_size": 0,
         "Fare": 4,
         "Pclass": 3,
         "Sex": 1,
         "Survived": "nan",
         "Ticket": 2,
         "_deepnote_index_column": 416,
         "fold": "nan",
         "title_Dr": 0,
         "title_ELSE": 0,
         "title_Master": 0,
         "title_Miss": 0,
         "title_Mr": 1,
         "title_Mrs": 0,
         "title_Rev": 0
        },
        {
         "Age": 3,
         "Cabin": 4,
         "Cabin Num": 0,
         "Embarked": 0,
         "Family_size": 0,
         "Fare": 11,
         "Pclass": 3,
         "Sex": 1,
         "Survived": "nan",
         "Ticket": 2,
         "_deepnote_index_column": 417,
         "fold": "nan",
         "title_Dr": 0,
         "title_ELSE": 0,
         "title_Master": 1,
         "title_Miss": 0,
         "title_Mr": 0,
         "title_Mrs": 0,
         "title_Rev": 0
        }
       ],
       "rows_top": [
        {
         "Age": 14,
         "Cabin": 4,
         "Cabin Num": 0,
         "Embarked": 1,
         "Family_size": 0,
         "Fare": 4,
         "Pclass": 3,
         "Sex": 1,
         "Survived": "nan",
         "Ticket": 2,
         "_deepnote_index_column": 0,
         "fold": "nan",
         "title_Dr": 0,
         "title_ELSE": 0,
         "title_Master": 0,
         "title_Miss": 0,
         "title_Mr": 1,
         "title_Mrs": 0,
         "title_Rev": 0
        },
        {
         "Age": 16,
         "Cabin": 4,
         "Cabin Num": 0,
         "Embarked": 2,
         "Family_size": 0,
         "Fare": 1,
         "Pclass": 3,
         "Sex": 0,
         "Survived": "nan",
         "Ticket": 2,
         "_deepnote_index_column": 1,
         "fold": "nan",
         "title_Dr": 0,
         "title_ELSE": 0,
         "title_Master": 0,
         "title_Miss": 0,
         "title_Mr": 0,
         "title_Mrs": 1,
         "title_Rev": 0
        },
        {
         "Age": 19,
         "Cabin": 4,
         "Cabin Num": 0,
         "Embarked": 1,
         "Family_size": 0,
         "Fare": 7,
         "Pclass": 2,
         "Sex": 1,
         "Survived": "nan",
         "Ticket": 2,
         "_deepnote_index_column": 2,
         "fold": "nan",
         "title_Dr": 0,
         "title_ELSE": 0,
         "title_Master": 0,
         "title_Miss": 0,
         "title_Mr": 1,
         "title_Mrs": 0,
         "title_Rev": 0
        },
        {
         "Age": 9,
         "Cabin": 4,
         "Cabin Num": 0,
         "Embarked": 2,
         "Family_size": 0,
         "Fare": 7,
         "Pclass": 3,
         "Sex": 1,
         "Survived": "nan",
         "Ticket": 2,
         "_deepnote_index_column": 3,
         "fold": "nan",
         "title_Dr": 0,
         "title_ELSE": 0,
         "title_Master": 0,
         "title_Miss": 0,
         "title_Mr": 1,
         "title_Mrs": 0,
         "title_Rev": 0
        },
        {
         "Age": 5,
         "Cabin": 4,
         "Cabin Num": 0,
         "Embarked": 2,
         "Family_size": 0,
         "Fare": 9,
         "Pclass": 3,
         "Sex": 0,
         "Survived": "nan",
         "Ticket": 2,
         "_deepnote_index_column": 4,
         "fold": "nan",
         "title_Dr": 0,
         "title_ELSE": 0,
         "title_Master": 0,
         "title_Miss": 0,
         "title_Mr": 0,
         "title_Mrs": 1,
         "title_Rev": 0
        },
        {
         "Age": 0,
         "Cabin": 4,
         "Cabin Num": 0,
         "Embarked": 2,
         "Family_size": 0,
         "Fare": 7,
         "Pclass": 3,
         "Sex": 1,
         "Survived": "nan",
         "Ticket": 2,
         "_deepnote_index_column": 5,
         "fold": "nan",
         "title_Dr": 0,
         "title_ELSE": 0,
         "title_Master": 0,
         "title_Miss": 0,
         "title_Mr": 1,
         "title_Mrs": 0,
         "title_Rev": 0
        },
        {
         "Age": 12,
         "Cabin": 4,
         "Cabin Num": 0,
         "Embarked": 1,
         "Family_size": 0,
         "Fare": 1,
         "Pclass": 3,
         "Sex": 0,
         "Survived": "nan",
         "Ticket": 2,
         "_deepnote_index_column": 6,
         "fold": "nan",
         "title_Dr": 0,
         "title_ELSE": 0,
         "title_Master": 0,
         "title_Miss": 1,
         "title_Mr": 0,
         "title_Mrs": 0,
         "title_Rev": 0
        },
        {
         "Age": 7,
         "Cabin": 4,
         "Cabin Num": 0,
         "Embarked": 2,
         "Family_size": 0,
         "Fare": 13,
         "Pclass": 2,
         "Sex": 1,
         "Survived": "nan",
         "Ticket": 2,
         "_deepnote_index_column": 7,
         "fold": "nan",
         "title_Dr": 0,
         "title_ELSE": 0,
         "title_Master": 0,
         "title_Miss": 0,
         "title_Mr": 1,
         "title_Mrs": 0,
         "title_Rev": 0
        },
        {
         "Age": 0,
         "Cabin": 4,
         "Cabin Num": 0,
         "Embarked": 0,
         "Family_size": 0,
         "Fare": 1,
         "Pclass": 3,
         "Sex": 0,
         "Survived": "nan",
         "Ticket": 2,
         "_deepnote_index_column": 8,
         "fold": "nan",
         "title_Dr": 0,
         "title_ELSE": 0,
         "title_Master": 0,
         "title_Miss": 0,
         "title_Mr": 0,
         "title_Mrs": 1,
         "title_Rev": 0
        },
        {
         "Age": 5,
         "Cabin": 4,
         "Cabin Num": 0,
         "Embarked": 2,
         "Family_size": 0,
         "Fare": 11,
         "Pclass": 3,
         "Sex": 1,
         "Survived": "nan",
         "Ticket": 1,
         "_deepnote_index_column": 9,
         "fold": "nan",
         "title_Dr": 0,
         "title_ELSE": 0,
         "title_Master": 0,
         "title_Miss": 0,
         "title_Mr": 1,
         "title_Mrs": 0,
         "title_Rev": 0
        },
        {
         "Age": 8,
         "Cabin": 4,
         "Cabin Num": 0,
         "Embarked": 2,
         "Family_size": 0,
         "Fare": 4,
         "Pclass": 3,
         "Sex": 1,
         "Survived": "nan",
         "Ticket": 2,
         "_deepnote_index_column": 10,
         "fold": "nan",
         "title_Dr": 0,
         "title_ELSE": 0,
         "title_Master": 0,
         "title_Miss": 0,
         "title_Mr": 1,
         "title_Mrs": 0,
         "title_Rev": 0
        },
        {
         "Age": 16,
         "Cabin": 4,
         "Cabin Num": 0,
         "Embarked": 2,
         "Family_size": 0,
         "Fare": 11,
         "Pclass": 1,
         "Sex": 1,
         "Survived": "nan",
         "Ticket": 2,
         "_deepnote_index_column": 11,
         "fold": "nan",
         "title_Dr": 0,
         "title_ELSE": 0,
         "title_Master": 0,
         "title_Miss": 0,
         "title_Mr": 1,
         "title_Mrs": 0,
         "title_Rev": 0
        },
        {
         "Age": 5,
         "Cabin": 0,
         "Cabin Num": 42,
         "Embarked": 2,
         "Family_size": 0,
         "Fare": 18,
         "Pclass": 1,
         "Sex": 0,
         "Survived": "nan",
         "Ticket": 2,
         "_deepnote_index_column": 12,
         "fold": "nan",
         "title_Dr": 0,
         "title_ELSE": 0,
         "title_Master": 0,
         "title_Miss": 0,
         "title_Mr": 0,
         "title_Mrs": 1,
         "title_Rev": 0
        },
        {
         "Age": 19,
         "Cabin": 4,
         "Cabin Num": 0,
         "Embarked": 2,
         "Family_size": 0,
         "Fare": 11,
         "Pclass": 2,
         "Sex": 1,
         "Survived": "nan",
         "Ticket": 2,
         "_deepnote_index_column": 13,
         "fold": "nan",
         "title_Dr": 0,
         "title_ELSE": 0,
         "title_Master": 0,
         "title_Miss": 0,
         "title_Mr": 1,
         "title_Mrs": 0,
         "title_Rev": 0
        },
        {
         "Age": 16,
         "Cabin": 3,
         "Cabin Num": 28,
         "Embarked": 2,
         "Family_size": 0,
         "Fare": 16,
         "Pclass": 1,
         "Sex": 0,
         "Survived": "nan",
         "Ticket": 1,
         "_deepnote_index_column": 14,
         "fold": "nan",
         "title_Dr": 0,
         "title_ELSE": 0,
         "title_Master": 0,
         "title_Miss": 0,
         "title_Mr": 0,
         "title_Mrs": 1,
         "title_Rev": 0
        },
        {
         "Age": 7,
         "Cabin": 4,
         "Cabin Num": 0,
         "Embarked": 0,
         "Family_size": 0,
         "Fare": 13,
         "Pclass": 2,
         "Sex": 0,
         "Survived": "nan",
         "Ticket": 1,
         "_deepnote_index_column": 15,
         "fold": "nan",
         "title_Dr": 0,
         "title_ELSE": 0,
         "title_Master": 0,
         "title_Miss": 0,
         "title_Mr": 0,
         "title_Mrs": 1,
         "title_Rev": 0
        },
        {
         "Age": 14,
         "Cabin": 4,
         "Cabin Num": 0,
         "Embarked": 1,
         "Family_size": 0,
         "Fare": 9,
         "Pclass": 2,
         "Sex": 1,
         "Survived": "nan",
         "Ticket": 2,
         "_deepnote_index_column": 16,
         "fold": "nan",
         "title_Dr": 0,
         "title_ELSE": 0,
         "title_Master": 0,
         "title_Miss": 0,
         "title_Mr": 1,
         "title_Mrs": 0,
         "title_Rev": 0
        },
        {
         "Age": 5,
         "Cabin": 4,
         "Cabin Num": 0,
         "Embarked": 0,
         "Family_size": 0,
         "Fare": 1,
         "Pclass": 3,
         "Sex": 1,
         "Survived": "nan",
         "Ticket": 2,
         "_deepnote_index_column": 17,
         "fold": "nan",
         "title_Dr": 0,
         "title_ELSE": 0,
         "title_Master": 0,
         "title_Miss": 0,
         "title_Mr": 1,
         "title_Mrs": 0,
         "title_Rev": 0
        },
        {
         "Age": 9,
         "Cabin": 4,
         "Cabin Num": 0,
         "Embarked": 2,
         "Family_size": 0,
         "Fare": 4,
         "Pclass": 3,
         "Sex": 0,
         "Survived": "nan",
         "Ticket": 1,
         "_deepnote_index_column": 18,
         "fold": "nan",
         "title_Dr": 0,
         "title_ELSE": 0,
         "title_Master": 0,
         "title_Miss": 1,
         "title_Mr": 0,
         "title_Mrs": 0,
         "title_Rev": 0
        },
        {
         "Age": 16,
         "Cabin": 4,
         "Cabin Num": 0,
         "Embarked": 0,
         "Family_size": 0,
         "Fare": 1,
         "Pclass": 3,
         "Sex": 0,
         "Survived": "nan",
         "Ticket": 2,
         "_deepnote_index_column": 19,
         "fold": "nan",
         "title_Dr": 0,
         "title_ELSE": 0,
         "title_Master": 0,
         "title_Miss": 0,
         "title_Mr": 0,
         "title_Mrs": 1,
         "title_Rev": 0
        },
        {
         "Age": 19,
         "Cabin": 4,
         "Cabin Num": 0,
         "Embarked": 0,
         "Family_size": 0,
         "Fare": 16,
         "Pclass": 1,
         "Sex": 1,
         "Survived": "nan",
         "Ticket": 3,
         "_deepnote_index_column": 20,
         "fold": "nan",
         "title_Dr": 0,
         "title_ELSE": 0,
         "title_Master": 0,
         "title_Miss": 0,
         "title_Mr": 1,
         "title_Mrs": 0,
         "title_Rev": 0
        },
        {
         "Age": 0,
         "Cabin": 4,
         "Cabin Num": 0,
         "Embarked": 2,
         "Family_size": 0,
         "Fare": 1,
         "Pclass": 3,
         "Sex": 1,
         "Survived": "nan",
         "Ticket": 1,
         "_deepnote_index_column": 21,
         "fold": "nan",
         "title_Dr": 0,
         "title_ELSE": 0,
         "title_Master": 1,
         "title_Miss": 0,
         "title_Mr": 0,
         "title_Mrs": 0,
         "title_Rev": 0
        },
        {
         "Age": 14,
         "Cabin": 4,
         "Cabin Num": 0,
         "Embarked": 2,
         "Family_size": 0,
         "Fare": 13,
         "Pclass": 1,
         "Sex": 0,
         "Survived": "nan",
         "Ticket": 3,
         "_deepnote_index_column": 22,
         "fold": "nan",
         "title_Dr": 0,
         "title_ELSE": 0,
         "title_Master": 0,
         "title_Miss": 0,
         "title_Mr": 0,
         "title_Mrs": 1,
         "title_Rev": 0
        },
        {
         "Age": 5,
         "Cabin": 4,
         "Cabin Num": 0,
         "Embarked": 0,
         "Family_size": 0,
         "Fare": 16,
         "Pclass": 1,
         "Sex": 1,
         "Survived": "nan",
         "Ticket": 3,
         "_deepnote_index_column": 23,
         "fold": "nan",
         "title_Dr": 0,
         "title_ELSE": 0,
         "title_Master": 0,
         "title_Miss": 0,
         "title_Mr": 1,
         "title_Mrs": 0,
         "title_Rev": 0
        },
        {
         "Age": 16,
         "Cabin": 0,
         "Cabin Num": 54,
         "Embarked": 0,
         "Family_size": 1,
         "Fare": 18,
         "Pclass": 1,
         "Sex": 0,
         "Survived": "nan",
         "Ticket": 3,
         "_deepnote_index_column": 24,
         "fold": "nan",
         "title_Dr": 0,
         "title_ELSE": 0,
         "title_Master": 0,
         "title_Miss": 0,
         "title_Mr": 0,
         "title_Mrs": 1,
         "title_Rev": 0
        },
        {
         "Age": 19,
         "Cabin": 4,
         "Cabin Num": 0,
         "Embarked": 2,
         "Family_size": 0,
         "Fare": 10,
         "Pclass": 3,
         "Sex": 1,
         "Survived": "nan",
         "Ticket": 1,
         "_deepnote_index_column": 25,
         "fold": "nan",
         "title_Dr": 0,
         "title_ELSE": 0,
         "title_Master": 0,
         "title_Miss": 0,
         "title_Mr": 1,
         "title_Mrs": 0,
         "title_Rev": 0
        },
        {
         "Age": 5,
         "Cabin": 0,
         "Cabin Num": 33,
         "Embarked": 0,
         "Family_size": 0,
         "Fare": 16,
         "Pclass": 1,
         "Sex": 0,
         "Survived": "nan",
         "Ticket": 2,
         "_deepnote_index_column": 26,
         "fold": "nan",
         "title_Dr": 0,
         "title_ELSE": 0,
         "title_Master": 0,
         "title_Miss": 1,
         "title_Mr": 0,
         "title_Mrs": 0,
         "title_Rev": 0
        }
       ]
      },
      "text/html": [
       "<div>\n",
       "<style scoped>\n",
       "    .dataframe tbody tr th:only-of-type {\n",
       "        vertical-align: middle;\n",
       "    }\n",
       "\n",
       "    .dataframe tbody tr th {\n",
       "        vertical-align: top;\n",
       "    }\n",
       "\n",
       "    .dataframe thead th {\n",
       "        text-align: right;\n",
       "    }\n",
       "</style>\n",
       "<table border=\"1\" class=\"dataframe\">\n",
       "  <thead>\n",
       "    <tr style=\"text-align: right;\">\n",
       "      <th></th>\n",
       "      <th>Survived</th>\n",
       "      <th>Pclass</th>\n",
       "      <th>Sex</th>\n",
       "      <th>Age</th>\n",
       "      <th>Ticket</th>\n",
       "      <th>Fare</th>\n",
       "      <th>Cabin</th>\n",
       "      <th>Embarked</th>\n",
       "      <th>fold</th>\n",
       "      <th>Family_size</th>\n",
       "      <th>Cabin Num</th>\n",
       "      <th>title_Dr</th>\n",
       "      <th>title_ELSE</th>\n",
       "      <th>title_Master</th>\n",
       "      <th>title_Miss</th>\n",
       "      <th>title_Mr</th>\n",
       "      <th>title_Mrs</th>\n",
       "      <th>title_Rev</th>\n",
       "    </tr>\n",
       "  </thead>\n",
       "  <tbody>\n",
       "    <tr>\n",
       "      <th>0</th>\n",
       "      <td>NaN</td>\n",
       "      <td>3</td>\n",
       "      <td>1</td>\n",
       "      <td>14</td>\n",
       "      <td>2</td>\n",
       "      <td>4</td>\n",
       "      <td>4</td>\n",
       "      <td>1</td>\n",
       "      <td>NaN</td>\n",
       "      <td>0.0</td>\n",
       "      <td>0</td>\n",
       "      <td>0</td>\n",
       "      <td>0</td>\n",
       "      <td>0</td>\n",
       "      <td>0</td>\n",
       "      <td>1</td>\n",
       "      <td>0</td>\n",
       "      <td>0</td>\n",
       "    </tr>\n",
       "    <tr>\n",
       "      <th>1</th>\n",
       "      <td>NaN</td>\n",
       "      <td>3</td>\n",
       "      <td>0</td>\n",
       "      <td>16</td>\n",
       "      <td>2</td>\n",
       "      <td>1</td>\n",
       "      <td>4</td>\n",
       "      <td>2</td>\n",
       "      <td>NaN</td>\n",
       "      <td>0.0</td>\n",
       "      <td>0</td>\n",
       "      <td>0</td>\n",
       "      <td>0</td>\n",
       "      <td>0</td>\n",
       "      <td>0</td>\n",
       "      <td>0</td>\n",
       "      <td>1</td>\n",
       "      <td>0</td>\n",
       "    </tr>\n",
       "    <tr>\n",
       "      <th>2</th>\n",
       "      <td>NaN</td>\n",
       "      <td>2</td>\n",
       "      <td>1</td>\n",
       "      <td>19</td>\n",
       "      <td>2</td>\n",
       "      <td>7</td>\n",
       "      <td>4</td>\n",
       "      <td>1</td>\n",
       "      <td>NaN</td>\n",
       "      <td>0.0</td>\n",
       "      <td>0</td>\n",
       "      <td>0</td>\n",
       "      <td>0</td>\n",
       "      <td>0</td>\n",
       "      <td>0</td>\n",
       "      <td>1</td>\n",
       "      <td>0</td>\n",
       "      <td>0</td>\n",
       "    </tr>\n",
       "    <tr>\n",
       "      <th>3</th>\n",
       "      <td>NaN</td>\n",
       "      <td>3</td>\n",
       "      <td>1</td>\n",
       "      <td>9</td>\n",
       "      <td>2</td>\n",
       "      <td>7</td>\n",
       "      <td>4</td>\n",
       "      <td>2</td>\n",
       "      <td>NaN</td>\n",
       "      <td>0.0</td>\n",
       "      <td>0</td>\n",
       "      <td>0</td>\n",
       "      <td>0</td>\n",
       "      <td>0</td>\n",
       "      <td>0</td>\n",
       "      <td>1</td>\n",
       "      <td>0</td>\n",
       "      <td>0</td>\n",
       "    </tr>\n",
       "    <tr>\n",
       "      <th>4</th>\n",
       "      <td>NaN</td>\n",
       "      <td>3</td>\n",
       "      <td>0</td>\n",
       "      <td>5</td>\n",
       "      <td>2</td>\n",
       "      <td>9</td>\n",
       "      <td>4</td>\n",
       "      <td>2</td>\n",
       "      <td>NaN</td>\n",
       "      <td>0.0</td>\n",
       "      <td>0</td>\n",
       "      <td>0</td>\n",
       "      <td>0</td>\n",
       "      <td>0</td>\n",
       "      <td>0</td>\n",
       "      <td>0</td>\n",
       "      <td>1</td>\n",
       "      <td>0</td>\n",
       "    </tr>\n",
       "    <tr>\n",
       "      <th>...</th>\n",
       "      <td>...</td>\n",
       "      <td>...</td>\n",
       "      <td>...</td>\n",
       "      <td>...</td>\n",
       "      <td>...</td>\n",
       "      <td>...</td>\n",
       "      <td>...</td>\n",
       "      <td>...</td>\n",
       "      <td>...</td>\n",
       "      <td>...</td>\n",
       "      <td>...</td>\n",
       "      <td>...</td>\n",
       "      <td>...</td>\n",
       "      <td>...</td>\n",
       "      <td>...</td>\n",
       "      <td>...</td>\n",
       "      <td>...</td>\n",
       "      <td>...</td>\n",
       "    </tr>\n",
       "    <tr>\n",
       "      <th>413</th>\n",
       "      <td>NaN</td>\n",
       "      <td>3</td>\n",
       "      <td>1</td>\n",
       "      <td>8</td>\n",
       "      <td>1</td>\n",
       "      <td>4</td>\n",
       "      <td>4</td>\n",
       "      <td>2</td>\n",
       "      <td>NaN</td>\n",
       "      <td>0.0</td>\n",
       "      <td>0</td>\n",
       "      <td>0</td>\n",
       "      <td>0</td>\n",
       "      <td>0</td>\n",
       "      <td>0</td>\n",
       "      <td>1</td>\n",
       "      <td>0</td>\n",
       "      <td>0</td>\n",
       "    </tr>\n",
       "    <tr>\n",
       "      <th>414</th>\n",
       "      <td>NaN</td>\n",
       "      <td>1</td>\n",
       "      <td>0</td>\n",
       "      <td>14</td>\n",
       "      <td>3</td>\n",
       "      <td>18</td>\n",
       "      <td>1</td>\n",
       "      <td>0</td>\n",
       "      <td>NaN</td>\n",
       "      <td>0.0</td>\n",
       "      <td>90</td>\n",
       "      <td>0</td>\n",
       "      <td>1</td>\n",
       "      <td>0</td>\n",
       "      <td>0</td>\n",
       "      <td>0</td>\n",
       "      <td>0</td>\n",
       "      <td>0</td>\n",
       "    </tr>\n",
       "    <tr>\n",
       "      <th>415</th>\n",
       "      <td>NaN</td>\n",
       "      <td>3</td>\n",
       "      <td>1</td>\n",
       "      <td>14</td>\n",
       "      <td>1</td>\n",
       "      <td>1</td>\n",
       "      <td>4</td>\n",
       "      <td>2</td>\n",
       "      <td>NaN</td>\n",
       "      <td>0.0</td>\n",
       "      <td>0</td>\n",
       "      <td>0</td>\n",
       "      <td>0</td>\n",
       "      <td>0</td>\n",
       "      <td>0</td>\n",
       "      <td>1</td>\n",
       "      <td>0</td>\n",
       "      <td>0</td>\n",
       "    </tr>\n",
       "    <tr>\n",
       "      <th>416</th>\n",
       "      <td>NaN</td>\n",
       "      <td>3</td>\n",
       "      <td>1</td>\n",
       "      <td>8</td>\n",
       "      <td>2</td>\n",
       "      <td>4</td>\n",
       "      <td>4</td>\n",
       "      <td>2</td>\n",
       "      <td>NaN</td>\n",
       "      <td>0.0</td>\n",
       "      <td>0</td>\n",
       "      <td>0</td>\n",
       "      <td>0</td>\n",
       "      <td>0</td>\n",
       "      <td>0</td>\n",
       "      <td>1</td>\n",
       "      <td>0</td>\n",
       "      <td>0</td>\n",
       "    </tr>\n",
       "    <tr>\n",
       "      <th>417</th>\n",
       "      <td>NaN</td>\n",
       "      <td>3</td>\n",
       "      <td>1</td>\n",
       "      <td>3</td>\n",
       "      <td>2</td>\n",
       "      <td>11</td>\n",
       "      <td>4</td>\n",
       "      <td>0</td>\n",
       "      <td>NaN</td>\n",
       "      <td>0.0</td>\n",
       "      <td>0</td>\n",
       "      <td>0</td>\n",
       "      <td>0</td>\n",
       "      <td>1</td>\n",
       "      <td>0</td>\n",
       "      <td>0</td>\n",
       "      <td>0</td>\n",
       "      <td>0</td>\n",
       "    </tr>\n",
       "  </tbody>\n",
       "</table>\n",
       "<p>418 rows × 18 columns</p>\n",
       "</div>"
      ],
      "text/plain": [
       "     Survived  Pclass  Sex  Age  Ticket  Fare  Cabin  Embarked  fold  \\\n",
       "0         NaN       3    1   14       2     4      4         1   NaN   \n",
       "1         NaN       3    0   16       2     1      4         2   NaN   \n",
       "2         NaN       2    1   19       2     7      4         1   NaN   \n",
       "3         NaN       3    1    9       2     7      4         2   NaN   \n",
       "4         NaN       3    0    5       2     9      4         2   NaN   \n",
       "..        ...     ...  ...  ...     ...   ...    ...       ...   ...   \n",
       "413       NaN       3    1    8       1     4      4         2   NaN   \n",
       "414       NaN       1    0   14       3    18      1         0   NaN   \n",
       "415       NaN       3    1   14       1     1      4         2   NaN   \n",
       "416       NaN       3    1    8       2     4      4         2   NaN   \n",
       "417       NaN       3    1    3       2    11      4         0   NaN   \n",
       "\n",
       "     Family_size  Cabin Num  title_Dr  title_ELSE  title_Master  title_Miss  \\\n",
       "0            0.0          0         0           0             0           0   \n",
       "1            0.0          0         0           0             0           0   \n",
       "2            0.0          0         0           0             0           0   \n",
       "3            0.0          0         0           0             0           0   \n",
       "4            0.0          0         0           0             0           0   \n",
       "..           ...        ...       ...         ...           ...         ...   \n",
       "413          0.0          0         0           0             0           0   \n",
       "414          0.0         90         0           1             0           0   \n",
       "415          0.0          0         0           0             0           0   \n",
       "416          0.0          0         0           0             0           0   \n",
       "417          0.0          0         0           0             1           0   \n",
       "\n",
       "     title_Mr  title_Mrs  title_Rev  \n",
       "0           1          0          0  \n",
       "1           0          1          0  \n",
       "2           1          0          0  \n",
       "3           1          0          0  \n",
       "4           0          1          0  \n",
       "..        ...        ...        ...  \n",
       "413         1          0          0  \n",
       "414         0          0          0  \n",
       "415         1          0          0  \n",
       "416         1          0          0  \n",
       "417         0          0          0  \n",
       "\n",
       "[418 rows x 18 columns]"
      ]
     },
     "execution_count": 248,
     "metadata": {},
     "output_type": "execute_result"
    }
   ],
   "source": []
  },
  {
   "cell_type": "code",
   "execution_count": null,
   "metadata": {
    "cell_id": "00055-dcde84bb-2acf-4eb2-873b-1adf6220a912",
    "deepnote_cell_type": "code",
    "deepnote_to_be_reexecuted": false,
    "execution_millis": 629,
    "execution_start": 1633266787667,
    "id": "YkkUBix-L8Ll",
    "source_hash": "1202c875"
   },
   "outputs": [],
   "source": [
    "#get the mean of best fold in lgb\n",
    "lgb_pred = np.zeros(418)\n",
    "for i in range(5):\n",
    "    model = joblib.load(f'./lgb_fold{i}.pkl')\n",
    "    lgb_pred += model.predict(test2) / 5\n",
    "    \n",
    "lgb_pred = lgb_pred.round().astype(int)"
   ]
  },
  {
   "cell_type": "code",
   "execution_count": null,
   "metadata": {
    "cell_id": "00056-e3bdf786-559f-4035-a3c9-109a9fa943b5",
    "deepnote_cell_type": "code",
    "deepnote_to_be_reexecuted": true,
    "execution_millis": 1096,
    "execution_start": 1633265029291,
    "id": "n_ymLVwML8Ll",
    "source_hash": "76816c23"
   },
   "outputs": [],
   "source": [
    "#get the mean of best fold in xgboost\n",
    "xgboost_pred = np.zeros(418)\n",
    "for i in range(5):\n",
    "    model = joblib.load(f'./xgboost_fold{i}.pkl')\n",
    "    model = xgb.XGBClassifier()\n",
    "    model.fit(X_train, y_train)\n",
    "    xgboost_pred += model.predict_proba(test2)[:,1] / 5\n",
    "    \n",
    "xgboost_pred = xgboost_pred.round().astype(int)"
   ]
  },
  {
   "cell_type": "code",
   "execution_count": null,
   "metadata": {
    "cell_id": "00068-61ab6373-d401-46a0-a2f7-97a877cb51ac",
    "deepnote_cell_type": "code",
    "deepnote_to_be_reexecuted": false,
    "execution_millis": 16,
    "execution_start": 1633266788306,
    "source_hash": "e2cb140d",
    "tags": []
   },
   "outputs": [],
   "source": [
    "#get the mean of best fold in logistic  0.8426966292134831 0.78947 selected nice\n",
    "logistic_pred = np.zeros(418)\n",
    "for i in range(5):\n",
    "    model = joblib.load(f'./logistic_fold{i}.pkl')\n",
    "    logistic_pred += model.predict(test2) / 5\n",
    "    \n",
    "logistic_pred = logistic_pred.round().astype(int)"
   ]
  },
  {
   "cell_type": "code",
   "execution_count": null,
   "metadata": {
    "cell_id": "00071-3605637a-dd1c-49e0-bdce-4beae213a744",
    "deepnote_cell_type": "code",
    "deepnote_to_be_reexecuted": false,
    "execution_millis": 30,
    "execution_start": 1633266788327,
    "source_hash": "58d06d11",
    "tags": []
   },
   "outputs": [],
   "source": [
    "#get the mean of best fold in catboost  0.8426966292134831  nice  0.77990 selected\n",
    "catboost_pred = np.zeros(418)\n",
    "for i in range(5):\n",
    "    model = joblib.load(f'./catboost_fold{i}.pkl')\n",
    "    catboost_pred += model.predict(test2) / 5\n",
    "    \n",
    "catboost_pred = catboost_pred.round().astype(int)"
   ]
  },
  {
   "cell_type": "code",
   "execution_count": null,
   "metadata": {
    "cell_id": "00057-bdb85ccc-21a6-4f19-9c66-ed96b2f6831d",
    "deepnote_cell_type": "code",
    "deepnote_to_be_reexecuted": false,
    "execution_millis": 4,
    "execution_start": 1633267015889,
    "id": "bmFJbv-4L8Ll",
    "source_hash": "69cdc06f"
   },
   "outputs": [],
   "source": [
    "#combine\n",
    "f_pro = (lgb_pred + xgboost_pred + catboost_pred + logistic_pred)/4    #predict probability [0, 1]\n"
   ]
  },
  {
   "cell_type": "code",
   "execution_count": null,
   "metadata": {
    "cell_id": "00058-dd6e70f4-ca13-430b-947f-9c1b39f76f36",
    "deepnote_cell_type": "code",
    "deepnote_to_be_reexecuted": false,
    "execution_millis": 6,
    "execution_start": 1633267017760,
    "id": "9OflF4aDL8Lm",
    "source_hash": "5657d436"
   },
   "outputs": [],
   "source": [
    "pred = []\n",
    "for i in f_pro:\n",
    "    if i > 0.5:\n",
    "        pred.append(1)\n",
    "    else:\n",
    "        pred.append(0)"
   ]
  },
  {
   "cell_type": "code",
   "execution_count": null,
   "metadata": {
    "cell_id": "00059-3635f330-b3d2-4396-a593-c31678d51937",
    "deepnote_cell_type": "code",
    "deepnote_to_be_reexecuted": false,
    "execution_millis": 1,
    "execution_start": 1633267019857,
    "id": "sHkn2NRoL8Lm",
    "source_hash": "97562538"
   },
   "outputs": [],
   "source": [
    "sub.Survived = pred"
   ]
  },
  {
   "cell_type": "code",
   "execution_count": null,
   "metadata": {
    "cell_id": "00060-78ea0b21-1192-4299-9e85-31ca5261722c",
    "deepnote_cell_type": "code",
    "deepnote_to_be_reexecuted": true,
    "execution_millis": 38,
    "execution_start": 1633264191765,
    "id": "sW_VfRz7L8Lm",
    "outputId": "9861fc3a-6db5-4d41-e2e1-12b5601ec94f",
    "source_hash": "d977bc2a"
   },
   "outputs": [
    {
     "data": {
      "application/vnd.deepnote.dataframe.v2+json": {
       "column_count": 2,
       "columns": [
        {
         "dtype": "int64",
         "name": "PassengerId",
         "stats": {
          "histogram": [
           {
            "bin_end": 933.7,
            "bin_start": 892,
            "count": 42
           },
           {
            "bin_end": 975.4,
            "bin_start": 933.7,
            "count": 42
           },
           {
            "bin_end": 1017.1,
            "bin_start": 975.4,
            "count": 42
           },
           {
            "bin_end": 1058.8,
            "bin_start": 1017.1,
            "count": 41
           },
           {
            "bin_end": 1100.5,
            "bin_start": 1058.8,
            "count": 42
           },
           {
            "bin_end": 1142.2,
            "bin_start": 1100.5,
            "count": 42
           },
           {
            "bin_end": 1183.9,
            "bin_start": 1142.2,
            "count": 41
           },
           {
            "bin_end": 1225.6,
            "bin_start": 1183.9,
            "count": 42
           },
           {
            "bin_end": 1267.3,
            "bin_start": 1225.6,
            "count": 42
           },
           {
            "bin_end": 1309,
            "bin_start": 1267.3,
            "count": 42
           }
          ],
          "max": "1309",
          "min": "892",
          "nan_count": 0,
          "unique_count": 418
         }
        },
        {
         "dtype": "int64",
         "name": "Survived",
         "stats": {
          "histogram": [
           {
            "bin_end": 0.1,
            "bin_start": 0,
            "count": 264
           },
           {
            "bin_end": 0.2,
            "bin_start": 0.1,
            "count": 0
           },
           {
            "bin_end": 0.30000000000000004,
            "bin_start": 0.2,
            "count": 0
           },
           {
            "bin_end": 0.4,
            "bin_start": 0.30000000000000004,
            "count": 0
           },
           {
            "bin_end": 0.5,
            "bin_start": 0.4,
            "count": 0
           },
           {
            "bin_end": 0.6000000000000001,
            "bin_start": 0.5,
            "count": 0
           },
           {
            "bin_end": 0.7000000000000001,
            "bin_start": 0.6000000000000001,
            "count": 0
           },
           {
            "bin_end": 0.8,
            "bin_start": 0.7000000000000001,
            "count": 0
           },
           {
            "bin_end": 0.9,
            "bin_start": 0.8,
            "count": 0
           },
           {
            "bin_end": 1,
            "bin_start": 0.9,
            "count": 154
           }
          ],
          "max": "1",
          "min": "0",
          "nan_count": 0,
          "unique_count": 2
         }
        },
        {
         "dtype": "int64",
         "name": "_deepnote_index_column"
        }
       ],
       "row_count": 418,
       "rows_bottom": null,
       "rows_top": [
        {
         "PassengerId": 892,
         "Survived": 0,
         "_deepnote_index_column": 0
        },
        {
         "PassengerId": 893,
         "Survived": 0,
         "_deepnote_index_column": 1
        },
        {
         "PassengerId": 894,
         "Survived": 0,
         "_deepnote_index_column": 2
        },
        {
         "PassengerId": 895,
         "Survived": 0,
         "_deepnote_index_column": 3
        },
        {
         "PassengerId": 896,
         "Survived": 0,
         "_deepnote_index_column": 4
        },
        {
         "PassengerId": 897,
         "Survived": 0,
         "_deepnote_index_column": 5
        },
        {
         "PassengerId": 898,
         "Survived": 1,
         "_deepnote_index_column": 6
        },
        {
         "PassengerId": 899,
         "Survived": 0,
         "_deepnote_index_column": 7
        },
        {
         "PassengerId": 900,
         "Survived": 1,
         "_deepnote_index_column": 8
        },
        {
         "PassengerId": 901,
         "Survived": 0,
         "_deepnote_index_column": 9
        },
        {
         "PassengerId": 902,
         "Survived": 0,
         "_deepnote_index_column": 10
        },
        {
         "PassengerId": 903,
         "Survived": 0,
         "_deepnote_index_column": 11
        },
        {
         "PassengerId": 904,
         "Survived": 1,
         "_deepnote_index_column": 12
        },
        {
         "PassengerId": 905,
         "Survived": 0,
         "_deepnote_index_column": 13
        },
        {
         "PassengerId": 906,
         "Survived": 1,
         "_deepnote_index_column": 14
        },
        {
         "PassengerId": 907,
         "Survived": 1,
         "_deepnote_index_column": 15
        },
        {
         "PassengerId": 908,
         "Survived": 0,
         "_deepnote_index_column": 16
        },
        {
         "PassengerId": 909,
         "Survived": 0,
         "_deepnote_index_column": 17
        },
        {
         "PassengerId": 910,
         "Survived": 0,
         "_deepnote_index_column": 18
        },
        {
         "PassengerId": 911,
         "Survived": 1,
         "_deepnote_index_column": 19
        },
        {
         "PassengerId": 912,
         "Survived": 0,
         "_deepnote_index_column": 20
        },
        {
         "PassengerId": 913,
         "Survived": 1,
         "_deepnote_index_column": 21
        },
        {
         "PassengerId": 914,
         "Survived": 1,
         "_deepnote_index_column": 22
        },
        {
         "PassengerId": 915,
         "Survived": 0,
         "_deepnote_index_column": 23
        },
        {
         "PassengerId": 916,
         "Survived": 1,
         "_deepnote_index_column": 24
        },
        {
         "PassengerId": 917,
         "Survived": 0,
         "_deepnote_index_column": 25
        },
        {
         "PassengerId": 918,
         "Survived": 1,
         "_deepnote_index_column": 26
        },
        {
         "PassengerId": 919,
         "Survived": 0,
         "_deepnote_index_column": 27
        },
        {
         "PassengerId": 920,
         "Survived": 0,
         "_deepnote_index_column": 28
        },
        {
         "PassengerId": 921,
         "Survived": 0,
         "_deepnote_index_column": 29
        },
        {
         "PassengerId": 922,
         "Survived": 0,
         "_deepnote_index_column": 30
        },
        {
         "PassengerId": 923,
         "Survived": 0,
         "_deepnote_index_column": 31
        },
        {
         "PassengerId": 924,
         "Survived": 0,
         "_deepnote_index_column": 32
        },
        {
         "PassengerId": 925,
         "Survived": 0,
         "_deepnote_index_column": 33
        },
        {
         "PassengerId": 926,
         "Survived": 0,
         "_deepnote_index_column": 34
        },
        {
         "PassengerId": 927,
         "Survived": 0,
         "_deepnote_index_column": 35
        },
        {
         "PassengerId": 928,
         "Survived": 0,
         "_deepnote_index_column": 36
        },
        {
         "PassengerId": 929,
         "Survived": 0,
         "_deepnote_index_column": 37
        },
        {
         "PassengerId": 930,
         "Survived": 0,
         "_deepnote_index_column": 38
        },
        {
         "PassengerId": 931,
         "Survived": 0,
         "_deepnote_index_column": 39
        },
        {
         "PassengerId": 932,
         "Survived": 0,
         "_deepnote_index_column": 40
        },
        {
         "PassengerId": 933,
         "Survived": 0,
         "_deepnote_index_column": 41
        },
        {
         "PassengerId": 934,
         "Survived": 0,
         "_deepnote_index_column": 42
        },
        {
         "PassengerId": 935,
         "Survived": 1,
         "_deepnote_index_column": 43
        },
        {
         "PassengerId": 936,
         "Survived": 1,
         "_deepnote_index_column": 44
        },
        {
         "PassengerId": 937,
         "Survived": 0,
         "_deepnote_index_column": 45
        },
        {
         "PassengerId": 938,
         "Survived": 0,
         "_deepnote_index_column": 46
        },
        {
         "PassengerId": 939,
         "Survived": 0,
         "_deepnote_index_column": 47
        },
        {
         "PassengerId": 940,
         "Survived": 1,
         "_deepnote_index_column": 48
        },
        {
         "PassengerId": 941,
         "Survived": 1,
         "_deepnote_index_column": 49
        },
        {
         "PassengerId": 942,
         "Survived": 0,
         "_deepnote_index_column": 50
        },
        {
         "PassengerId": 943,
         "Survived": 0,
         "_deepnote_index_column": 51
        },
        {
         "PassengerId": 944,
         "Survived": 1,
         "_deepnote_index_column": 52
        },
        {
         "PassengerId": 945,
         "Survived": 1,
         "_deepnote_index_column": 53
        },
        {
         "PassengerId": 946,
         "Survived": 0,
         "_deepnote_index_column": 54
        },
        {
         "PassengerId": 947,
         "Survived": 0,
         "_deepnote_index_column": 55
        },
        {
         "PassengerId": 948,
         "Survived": 0,
         "_deepnote_index_column": 56
        },
        {
         "PassengerId": 949,
         "Survived": 0,
         "_deepnote_index_column": 57
        },
        {
         "PassengerId": 950,
         "Survived": 0,
         "_deepnote_index_column": 58
        },
        {
         "PassengerId": 951,
         "Survived": 1,
         "_deepnote_index_column": 59
        },
        {
         "PassengerId": 952,
         "Survived": 0,
         "_deepnote_index_column": 60
        },
        {
         "PassengerId": 953,
         "Survived": 0,
         "_deepnote_index_column": 61
        },
        {
         "PassengerId": 954,
         "Survived": 0,
         "_deepnote_index_column": 62
        },
        {
         "PassengerId": 955,
         "Survived": 1,
         "_deepnote_index_column": 63
        },
        {
         "PassengerId": 956,
         "Survived": 1,
         "_deepnote_index_column": 64
        },
        {
         "PassengerId": 957,
         "Survived": 1,
         "_deepnote_index_column": 65
        },
        {
         "PassengerId": 958,
         "Survived": 1,
         "_deepnote_index_column": 66
        },
        {
         "PassengerId": 959,
         "Survived": 0,
         "_deepnote_index_column": 67
        },
        {
         "PassengerId": 960,
         "Survived": 1,
         "_deepnote_index_column": 68
        },
        {
         "PassengerId": 961,
         "Survived": 1,
         "_deepnote_index_column": 69
        },
        {
         "PassengerId": 962,
         "Survived": 1,
         "_deepnote_index_column": 70
        },
        {
         "PassengerId": 963,
         "Survived": 0,
         "_deepnote_index_column": 71
        },
        {
         "PassengerId": 964,
         "Survived": 0,
         "_deepnote_index_column": 72
        },
        {
         "PassengerId": 965,
         "Survived": 1,
         "_deepnote_index_column": 73
        },
        {
         "PassengerId": 966,
         "Survived": 1,
         "_deepnote_index_column": 74
        },
        {
         "PassengerId": 967,
         "Survived": 1,
         "_deepnote_index_column": 75
        },
        {
         "PassengerId": 968,
         "Survived": 0,
         "_deepnote_index_column": 76
        },
        {
         "PassengerId": 969,
         "Survived": 1,
         "_deepnote_index_column": 77
        },
        {
         "PassengerId": 970,
         "Survived": 0,
         "_deepnote_index_column": 78
        },
        {
         "PassengerId": 971,
         "Survived": 1,
         "_deepnote_index_column": 79
        },
        {
         "PassengerId": 972,
         "Survived": 1,
         "_deepnote_index_column": 80
        },
        {
         "PassengerId": 973,
         "Survived": 0,
         "_deepnote_index_column": 81
        },
        {
         "PassengerId": 974,
         "Survived": 0,
         "_deepnote_index_column": 82
        },
        {
         "PassengerId": 975,
         "Survived": 0,
         "_deepnote_index_column": 83
        },
        {
         "PassengerId": 976,
         "Survived": 0,
         "_deepnote_index_column": 84
        },
        {
         "PassengerId": 977,
         "Survived": 0,
         "_deepnote_index_column": 85
        },
        {
         "PassengerId": 978,
         "Survived": 1,
         "_deepnote_index_column": 86
        },
        {
         "PassengerId": 979,
         "Survived": 1,
         "_deepnote_index_column": 87
        },
        {
         "PassengerId": 980,
         "Survived": 1,
         "_deepnote_index_column": 88
        },
        {
         "PassengerId": 981,
         "Survived": 1,
         "_deepnote_index_column": 89
        },
        {
         "PassengerId": 982,
         "Survived": 0,
         "_deepnote_index_column": 90
        },
        {
         "PassengerId": 983,
         "Survived": 0,
         "_deepnote_index_column": 91
        },
        {
         "PassengerId": 984,
         "Survived": 1,
         "_deepnote_index_column": 92
        },
        {
         "PassengerId": 985,
         "Survived": 0,
         "_deepnote_index_column": 93
        },
        {
         "PassengerId": 986,
         "Survived": 0,
         "_deepnote_index_column": 94
        },
        {
         "PassengerId": 987,
         "Survived": 0,
         "_deepnote_index_column": 95
        },
        {
         "PassengerId": 988,
         "Survived": 1,
         "_deepnote_index_column": 96
        },
        {
         "PassengerId": 989,
         "Survived": 0,
         "_deepnote_index_column": 97
        },
        {
         "PassengerId": 990,
         "Survived": 1,
         "_deepnote_index_column": 98
        },
        {
         "PassengerId": 991,
         "Survived": 0,
         "_deepnote_index_column": 99
        },
        {
         "PassengerId": 992,
         "Survived": 1,
         "_deepnote_index_column": 100
        },
        {
         "PassengerId": 993,
         "Survived": 0,
         "_deepnote_index_column": 101
        },
        {
         "PassengerId": 994,
         "Survived": 0,
         "_deepnote_index_column": 102
        },
        {
         "PassengerId": 995,
         "Survived": 0,
         "_deepnote_index_column": 103
        },
        {
         "PassengerId": 996,
         "Survived": 1,
         "_deepnote_index_column": 104
        },
        {
         "PassengerId": 997,
         "Survived": 0,
         "_deepnote_index_column": 105
        },
        {
         "PassengerId": 998,
         "Survived": 0,
         "_deepnote_index_column": 106
        },
        {
         "PassengerId": 999,
         "Survived": 0,
         "_deepnote_index_column": 107
        },
        {
         "PassengerId": 1000,
         "Survived": 0,
         "_deepnote_index_column": 108
        },
        {
         "PassengerId": 1001,
         "Survived": 0,
         "_deepnote_index_column": 109
        },
        {
         "PassengerId": 1002,
         "Survived": 0,
         "_deepnote_index_column": 110
        },
        {
         "PassengerId": 1003,
         "Survived": 1,
         "_deepnote_index_column": 111
        },
        {
         "PassengerId": 1004,
         "Survived": 1,
         "_deepnote_index_column": 112
        },
        {
         "PassengerId": 1005,
         "Survived": 1,
         "_deepnote_index_column": 113
        },
        {
         "PassengerId": 1006,
         "Survived": 1,
         "_deepnote_index_column": 114
        },
        {
         "PassengerId": 1007,
         "Survived": 0,
         "_deepnote_index_column": 115
        },
        {
         "PassengerId": 1008,
         "Survived": 0,
         "_deepnote_index_column": 116
        },
        {
         "PassengerId": 1009,
         "Survived": 1,
         "_deepnote_index_column": 117
        },
        {
         "PassengerId": 1010,
         "Survived": 0,
         "_deepnote_index_column": 118
        },
        {
         "PassengerId": 1011,
         "Survived": 1,
         "_deepnote_index_column": 119
        },
        {
         "PassengerId": 1012,
         "Survived": 1,
         "_deepnote_index_column": 120
        },
        {
         "PassengerId": 1013,
         "Survived": 0,
         "_deepnote_index_column": 121
        },
        {
         "PassengerId": 1014,
         "Survived": 1,
         "_deepnote_index_column": 122
        },
        {
         "PassengerId": 1015,
         "Survived": 0,
         "_deepnote_index_column": 123
        },
        {
         "PassengerId": 1016,
         "Survived": 0,
         "_deepnote_index_column": 124
        },
        {
         "PassengerId": 1017,
         "Survived": 1,
         "_deepnote_index_column": 125
        },
        {
         "PassengerId": 1018,
         "Survived": 0,
         "_deepnote_index_column": 126
        },
        {
         "PassengerId": 1019,
         "Survived": 1,
         "_deepnote_index_column": 127
        },
        {
         "PassengerId": 1020,
         "Survived": 0,
         "_deepnote_index_column": 128
        },
        {
         "PassengerId": 1021,
         "Survived": 0,
         "_deepnote_index_column": 129
        },
        {
         "PassengerId": 1022,
         "Survived": 0,
         "_deepnote_index_column": 130
        },
        {
         "PassengerId": 1023,
         "Survived": 1,
         "_deepnote_index_column": 131
        },
        {
         "PassengerId": 1024,
         "Survived": 0,
         "_deepnote_index_column": 132
        },
        {
         "PassengerId": 1025,
         "Survived": 0,
         "_deepnote_index_column": 133
        },
        {
         "PassengerId": 1026,
         "Survived": 0,
         "_deepnote_index_column": 134
        },
        {
         "PassengerId": 1027,
         "Survived": 0,
         "_deepnote_index_column": 135
        },
        {
         "PassengerId": 1028,
         "Survived": 0,
         "_deepnote_index_column": 136
        },
        {
         "PassengerId": 1029,
         "Survived": 0,
         "_deepnote_index_column": 137
        },
        {
         "PassengerId": 1030,
         "Survived": 1,
         "_deepnote_index_column": 138
        },
        {
         "PassengerId": 1031,
         "Survived": 0,
         "_deepnote_index_column": 139
        },
        {
         "PassengerId": 1032,
         "Survived": 0,
         "_deepnote_index_column": 140
        },
        {
         "PassengerId": 1033,
         "Survived": 1,
         "_deepnote_index_column": 141
        },
        {
         "PassengerId": 1034,
         "Survived": 0,
         "_deepnote_index_column": 142
        },
        {
         "PassengerId": 1035,
         "Survived": 0,
         "_deepnote_index_column": 143
        },
        {
         "PassengerId": 1036,
         "Survived": 0,
         "_deepnote_index_column": 144
        },
        {
         "PassengerId": 1037,
         "Survived": 0,
         "_deepnote_index_column": 145
        },
        {
         "PassengerId": 1038,
         "Survived": 0,
         "_deepnote_index_column": 146
        },
        {
         "PassengerId": 1039,
         "Survived": 0,
         "_deepnote_index_column": 147
        },
        {
         "PassengerId": 1040,
         "Survived": 0,
         "_deepnote_index_column": 148
        },
        {
         "PassengerId": 1041,
         "Survived": 0,
         "_deepnote_index_column": 149
        },
        {
         "PassengerId": 1042,
         "Survived": 1,
         "_deepnote_index_column": 150
        },
        {
         "PassengerId": 1043,
         "Survived": 0,
         "_deepnote_index_column": 151
        },
        {
         "PassengerId": 1044,
         "Survived": 0,
         "_deepnote_index_column": 152
        },
        {
         "PassengerId": 1045,
         "Survived": 0,
         "_deepnote_index_column": 153
        },
        {
         "PassengerId": 1046,
         "Survived": 0,
         "_deepnote_index_column": 154
        },
        {
         "PassengerId": 1047,
         "Survived": 0,
         "_deepnote_index_column": 155
        },
        {
         "PassengerId": 1048,
         "Survived": 1,
         "_deepnote_index_column": 156
        },
        {
         "PassengerId": 1049,
         "Survived": 0,
         "_deepnote_index_column": 157
        },
        {
         "PassengerId": 1050,
         "Survived": 0,
         "_deepnote_index_column": 158
        },
        {
         "PassengerId": 1051,
         "Survived": 1,
         "_deepnote_index_column": 159
        },
        {
         "PassengerId": 1052,
         "Survived": 1,
         "_deepnote_index_column": 160
        },
        {
         "PassengerId": 1053,
         "Survived": 1,
         "_deepnote_index_column": 161
        },
        {
         "PassengerId": 1054,
         "Survived": 1,
         "_deepnote_index_column": 162
        },
        {
         "PassengerId": 1055,
         "Survived": 0,
         "_deepnote_index_column": 163
        },
        {
         "PassengerId": 1056,
         "Survived": 0,
         "_deepnote_index_column": 164
        },
        {
         "PassengerId": 1057,
         "Survived": 0,
         "_deepnote_index_column": 165
        },
        {
         "PassengerId": 1058,
         "Survived": 0,
         "_deepnote_index_column": 166
        },
        {
         "PassengerId": 1059,
         "Survived": 0,
         "_deepnote_index_column": 167
        },
        {
         "PassengerId": 1060,
         "Survived": 1,
         "_deepnote_index_column": 168
        },
        {
         "PassengerId": 1061,
         "Survived": 0,
         "_deepnote_index_column": 169
        },
        {
         "PassengerId": 1062,
         "Survived": 0,
         "_deepnote_index_column": 170
        },
        {
         "PassengerId": 1063,
         "Survived": 0,
         "_deepnote_index_column": 171
        },
        {
         "PassengerId": 1064,
         "Survived": 0,
         "_deepnote_index_column": 172
        },
        {
         "PassengerId": 1065,
         "Survived": 0,
         "_deepnote_index_column": 173
        },
        {
         "PassengerId": 1066,
         "Survived": 0,
         "_deepnote_index_column": 174
        },
        {
         "PassengerId": 1067,
         "Survived": 1,
         "_deepnote_index_column": 175
        },
        {
         "PassengerId": 1068,
         "Survived": 1,
         "_deepnote_index_column": 176
        },
        {
         "PassengerId": 1069,
         "Survived": 0,
         "_deepnote_index_column": 177
        },
        {
         "PassengerId": 1070,
         "Survived": 1,
         "_deepnote_index_column": 178
        },
        {
         "PassengerId": 1071,
         "Survived": 1,
         "_deepnote_index_column": 179
        },
        {
         "PassengerId": 1072,
         "Survived": 0,
         "_deepnote_index_column": 180
        },
        {
         "PassengerId": 1073,
         "Survived": 1,
         "_deepnote_index_column": 181
        },
        {
         "PassengerId": 1074,
         "Survived": 1,
         "_deepnote_index_column": 182
        },
        {
         "PassengerId": 1075,
         "Survived": 0,
         "_deepnote_index_column": 183
        },
        {
         "PassengerId": 1076,
         "Survived": 1,
         "_deepnote_index_column": 184
        },
        {
         "PassengerId": 1077,
         "Survived": 0,
         "_deepnote_index_column": 185
        },
        {
         "PassengerId": 1078,
         "Survived": 1,
         "_deepnote_index_column": 186
        },
        {
         "PassengerId": 1079,
         "Survived": 0,
         "_deepnote_index_column": 187
        },
        {
         "PassengerId": 1080,
         "Survived": 0,
         "_deepnote_index_column": 188
        },
        {
         "PassengerId": 1081,
         "Survived": 0,
         "_deepnote_index_column": 189
        },
        {
         "PassengerId": 1082,
         "Survived": 0,
         "_deepnote_index_column": 190
        },
        {
         "PassengerId": 1083,
         "Survived": 0,
         "_deepnote_index_column": 191
        },
        {
         "PassengerId": 1084,
         "Survived": 1,
         "_deepnote_index_column": 192
        },
        {
         "PassengerId": 1085,
         "Survived": 0,
         "_deepnote_index_column": 193
        },
        {
         "PassengerId": 1086,
         "Survived": 1,
         "_deepnote_index_column": 194
        },
        {
         "PassengerId": 1087,
         "Survived": 0,
         "_deepnote_index_column": 195
        },
        {
         "PassengerId": 1088,
         "Survived": 1,
         "_deepnote_index_column": 196
        },
        {
         "PassengerId": 1089,
         "Survived": 1,
         "_deepnote_index_column": 197
        },
        {
         "PassengerId": 1090,
         "Survived": 0,
         "_deepnote_index_column": 198
        },
        {
         "PassengerId": 1091,
         "Survived": 1,
         "_deepnote_index_column": 199
        },
        {
         "PassengerId": 1092,
         "Survived": 1,
         "_deepnote_index_column": 200
        },
        {
         "PassengerId": 1093,
         "Survived": 1,
         "_deepnote_index_column": 201
        },
        {
         "PassengerId": 1094,
         "Survived": 1,
         "_deepnote_index_column": 202
        },
        {
         "PassengerId": 1095,
         "Survived": 1,
         "_deepnote_index_column": 203
        },
        {
         "PassengerId": 1096,
         "Survived": 0,
         "_deepnote_index_column": 204
        },
        {
         "PassengerId": 1097,
         "Survived": 0,
         "_deepnote_index_column": 205
        },
        {
         "PassengerId": 1098,
         "Survived": 1,
         "_deepnote_index_column": 206
        },
        {
         "PassengerId": 1099,
         "Survived": 0,
         "_deepnote_index_column": 207
        },
        {
         "PassengerId": 1100,
         "Survived": 1,
         "_deepnote_index_column": 208
        },
        {
         "PassengerId": 1101,
         "Survived": 0,
         "_deepnote_index_column": 209
        },
        {
         "PassengerId": 1102,
         "Survived": 0,
         "_deepnote_index_column": 210
        },
        {
         "PassengerId": 1103,
         "Survived": 0,
         "_deepnote_index_column": 211
        },
        {
         "PassengerId": 1104,
         "Survived": 0,
         "_deepnote_index_column": 212
        },
        {
         "PassengerId": 1105,
         "Survived": 1,
         "_deepnote_index_column": 213
        },
        {
         "PassengerId": 1106,
         "Survived": 0,
         "_deepnote_index_column": 214
        },
        {
         "PassengerId": 1107,
         "Survived": 0,
         "_deepnote_index_column": 215
        },
        {
         "PassengerId": 1108,
         "Survived": 1,
         "_deepnote_index_column": 216
        },
        {
         "PassengerId": 1109,
         "Survived": 0,
         "_deepnote_index_column": 217
        },
        {
         "PassengerId": 1110,
         "Survived": 1,
         "_deepnote_index_column": 218
        },
        {
         "PassengerId": 1111,
         "Survived": 0,
         "_deepnote_index_column": 219
        },
        {
         "PassengerId": 1112,
         "Survived": 1,
         "_deepnote_index_column": 220
        },
        {
         "PassengerId": 1113,
         "Survived": 0,
         "_deepnote_index_column": 221
        },
        {
         "PassengerId": 1114,
         "Survived": 1,
         "_deepnote_index_column": 222
        },
        {
         "PassengerId": 1115,
         "Survived": 0,
         "_deepnote_index_column": 223
        },
        {
         "PassengerId": 1116,
         "Survived": 1,
         "_deepnote_index_column": 224
        },
        {
         "PassengerId": 1117,
         "Survived": 1,
         "_deepnote_index_column": 225
        },
        {
         "PassengerId": 1118,
         "Survived": 0,
         "_deepnote_index_column": 226
        },
        {
         "PassengerId": 1119,
         "Survived": 1,
         "_deepnote_index_column": 227
        },
        {
         "PassengerId": 1120,
         "Survived": 0,
         "_deepnote_index_column": 228
        },
        {
         "PassengerId": 1121,
         "Survived": 0,
         "_deepnote_index_column": 229
        },
        {
         "PassengerId": 1122,
         "Survived": 0,
         "_deepnote_index_column": 230
        },
        {
         "PassengerId": 1123,
         "Survived": 1,
         "_deepnote_index_column": 231
        },
        {
         "PassengerId": 1124,
         "Survived": 0,
         "_deepnote_index_column": 232
        },
        {
         "PassengerId": 1125,
         "Survived": 0,
         "_deepnote_index_column": 233
        },
        {
         "PassengerId": 1126,
         "Survived": 0,
         "_deepnote_index_column": 234
        },
        {
         "PassengerId": 1127,
         "Survived": 0,
         "_deepnote_index_column": 235
        },
        {
         "PassengerId": 1128,
         "Survived": 0,
         "_deepnote_index_column": 236
        },
        {
         "PassengerId": 1129,
         "Survived": 0,
         "_deepnote_index_column": 237
        },
        {
         "PassengerId": 1130,
         "Survived": 1,
         "_deepnote_index_column": 238
        },
        {
         "PassengerId": 1131,
         "Survived": 1,
         "_deepnote_index_column": 239
        },
        {
         "PassengerId": 1132,
         "Survived": 1,
         "_deepnote_index_column": 240
        },
        {
         "PassengerId": 1133,
         "Survived": 1,
         "_deepnote_index_column": 241
        },
        {
         "PassengerId": 1134,
         "Survived": 1,
         "_deepnote_index_column": 242
        },
        {
         "PassengerId": 1135,
         "Survived": 0,
         "_deepnote_index_column": 243
        },
        {
         "PassengerId": 1136,
         "Survived": 0,
         "_deepnote_index_column": 244
        },
        {
         "PassengerId": 1137,
         "Survived": 1,
         "_deepnote_index_column": 245
        },
        {
         "PassengerId": 1138,
         "Survived": 1,
         "_deepnote_index_column": 246
        },
        {
         "PassengerId": 1139,
         "Survived": 0,
         "_deepnote_index_column": 247
        },
        {
         "PassengerId": 1140,
         "Survived": 1,
         "_deepnote_index_column": 248
        },
        {
         "PassengerId": 1141,
         "Survived": 1,
         "_deepnote_index_column": 249
        },
        {
         "PassengerId": 1142,
         "Survived": 1,
         "_deepnote_index_column": 250
        },
        {
         "PassengerId": 1143,
         "Survived": 0,
         "_deepnote_index_column": 251
        },
        {
         "PassengerId": 1144,
         "Survived": 0,
         "_deepnote_index_column": 252
        },
        {
         "PassengerId": 1145,
         "Survived": 0,
         "_deepnote_index_column": 253
        },
        {
         "PassengerId": 1146,
         "Survived": 0,
         "_deepnote_index_column": 254
        },
        {
         "PassengerId": 1147,
         "Survived": 0,
         "_deepnote_index_column": 255
        },
        {
         "PassengerId": 1148,
         "Survived": 0,
         "_deepnote_index_column": 256
        },
        {
         "PassengerId": 1149,
         "Survived": 0,
         "_deepnote_index_column": 257
        },
        {
         "PassengerId": 1150,
         "Survived": 1,
         "_deepnote_index_column": 258
        },
        {
         "PassengerId": 1151,
         "Survived": 0,
         "_deepnote_index_column": 259
        },
        {
         "PassengerId": 1152,
         "Survived": 0,
         "_deepnote_index_column": 260
        },
        {
         "PassengerId": 1153,
         "Survived": 0,
         "_deepnote_index_column": 261
        },
        {
         "PassengerId": 1154,
         "Survived": 1,
         "_deepnote_index_column": 262
        },
        {
         "PassengerId": 1155,
         "Survived": 1,
         "_deepnote_index_column": 263
        },
        {
         "PassengerId": 1156,
         "Survived": 0,
         "_deepnote_index_column": 264
        },
        {
         "PassengerId": 1157,
         "Survived": 0,
         "_deepnote_index_column": 265
        },
        {
         "PassengerId": 1158,
         "Survived": 0,
         "_deepnote_index_column": 266
        },
        {
         "PassengerId": 1159,
         "Survived": 0,
         "_deepnote_index_column": 267
        },
        {
         "PassengerId": 1160,
         "Survived": 1,
         "_deepnote_index_column": 268
        },
        {
         "PassengerId": 1161,
         "Survived": 0,
         "_deepnote_index_column": 269
        },
        {
         "PassengerId": 1162,
         "Survived": 0,
         "_deepnote_index_column": 270
        },
        {
         "PassengerId": 1163,
         "Survived": 0,
         "_deepnote_index_column": 271
        },
        {
         "PassengerId": 1164,
         "Survived": 1,
         "_deepnote_index_column": 272
        },
        {
         "PassengerId": 1165,
         "Survived": 1,
         "_deepnote_index_column": 273
        },
        {
         "PassengerId": 1166,
         "Survived": 0,
         "_deepnote_index_column": 274
        },
        {
         "PassengerId": 1167,
         "Survived": 1,
         "_deepnote_index_column": 275
        },
        {
         "PassengerId": 1168,
         "Survived": 0,
         "_deepnote_index_column": 276
        },
        {
         "PassengerId": 1169,
         "Survived": 0,
         "_deepnote_index_column": 277
        },
        {
         "PassengerId": 1170,
         "Survived": 0,
         "_deepnote_index_column": 278
        },
        {
         "PassengerId": 1171,
         "Survived": 0,
         "_deepnote_index_column": 279
        },
        {
         "PassengerId": 1172,
         "Survived": 0,
         "_deepnote_index_column": 280
        },
        {
         "PassengerId": 1173,
         "Survived": 1,
         "_deepnote_index_column": 281
        },
        {
         "PassengerId": 1174,
         "Survived": 1,
         "_deepnote_index_column": 282
        },
        {
         "PassengerId": 1175,
         "Survived": 1,
         "_deepnote_index_column": 283
        },
        {
         "PassengerId": 1176,
         "Survived": 1,
         "_deepnote_index_column": 284
        },
        {
         "PassengerId": 1177,
         "Survived": 0,
         "_deepnote_index_column": 285
        },
        {
         "PassengerId": 1178,
         "Survived": 0,
         "_deepnote_index_column": 286
        },
        {
         "PassengerId": 1179,
         "Survived": 1,
         "_deepnote_index_column": 287
        },
        {
         "PassengerId": 1180,
         "Survived": 0,
         "_deepnote_index_column": 288
        },
        {
         "PassengerId": 1181,
         "Survived": 0,
         "_deepnote_index_column": 289
        },
        {
         "PassengerId": 1182,
         "Survived": 0,
         "_deepnote_index_column": 290
        },
        {
         "PassengerId": 1183,
         "Survived": 1,
         "_deepnote_index_column": 291
        },
        {
         "PassengerId": 1184,
         "Survived": 0,
         "_deepnote_index_column": 292
        },
        {
         "PassengerId": 1185,
         "Survived": 1,
         "_deepnote_index_column": 293
        },
        {
         "PassengerId": 1186,
         "Survived": 0,
         "_deepnote_index_column": 294
        },
        {
         "PassengerId": 1187,
         "Survived": 0,
         "_deepnote_index_column": 295
        },
        {
         "PassengerId": 1188,
         "Survived": 1,
         "_deepnote_index_column": 296
        },
        {
         "PassengerId": 1189,
         "Survived": 0,
         "_deepnote_index_column": 297
        },
        {
         "PassengerId": 1190,
         "Survived": 0,
         "_deepnote_index_column": 298
        },
        {
         "PassengerId": 1191,
         "Survived": 0,
         "_deepnote_index_column": 299
        },
        {
         "PassengerId": 1192,
         "Survived": 0,
         "_deepnote_index_column": 300
        },
        {
         "PassengerId": 1193,
         "Survived": 0,
         "_deepnote_index_column": 301
        },
        {
         "PassengerId": 1194,
         "Survived": 0,
         "_deepnote_index_column": 302
        },
        {
         "PassengerId": 1195,
         "Survived": 0,
         "_deepnote_index_column": 303
        },
        {
         "PassengerId": 1196,
         "Survived": 1,
         "_deepnote_index_column": 304
        },
        {
         "PassengerId": 1197,
         "Survived": 1,
         "_deepnote_index_column": 305
        },
        {
         "PassengerId": 1198,
         "Survived": 0,
         "_deepnote_index_column": 306
        },
        {
         "PassengerId": 1199,
         "Survived": 0,
         "_deepnote_index_column": 307
        },
        {
         "PassengerId": 1200,
         "Survived": 0,
         "_deepnote_index_column": 308
        },
        {
         "PassengerId": 1201,
         "Survived": 0,
         "_deepnote_index_column": 309
        },
        {
         "PassengerId": 1202,
         "Survived": 0,
         "_deepnote_index_column": 310
        },
        {
         "PassengerId": 1203,
         "Survived": 0,
         "_deepnote_index_column": 311
        },
        {
         "PassengerId": 1204,
         "Survived": 0,
         "_deepnote_index_column": 312
        },
        {
         "PassengerId": 1205,
         "Survived": 1,
         "_deepnote_index_column": 313
        },
        {
         "PassengerId": 1206,
         "Survived": 1,
         "_deepnote_index_column": 314
        },
        {
         "PassengerId": 1207,
         "Survived": 1,
         "_deepnote_index_column": 315
        },
        {
         "PassengerId": 1208,
         "Survived": 0,
         "_deepnote_index_column": 316
        },
        {
         "PassengerId": 1209,
         "Survived": 0,
         "_deepnote_index_column": 317
        },
        {
         "PassengerId": 1210,
         "Survived": 0,
         "_deepnote_index_column": 318
        },
        {
         "PassengerId": 1211,
         "Survived": 0,
         "_deepnote_index_column": 319
        },
        {
         "PassengerId": 1212,
         "Survived": 0,
         "_deepnote_index_column": 320
        },
        {
         "PassengerId": 1213,
         "Survived": 0,
         "_deepnote_index_column": 321
        },
        {
         "PassengerId": 1214,
         "Survived": 0,
         "_deepnote_index_column": 322
        },
        {
         "PassengerId": 1215,
         "Survived": 0,
         "_deepnote_index_column": 323
        },
        {
         "PassengerId": 1216,
         "Survived": 1,
         "_deepnote_index_column": 324
        },
        {
         "PassengerId": 1217,
         "Survived": 0,
         "_deepnote_index_column": 325
        },
        {
         "PassengerId": 1218,
         "Survived": 1,
         "_deepnote_index_column": 326
        },
        {
         "PassengerId": 1219,
         "Survived": 0,
         "_deepnote_index_column": 327
        },
        {
         "PassengerId": 1220,
         "Survived": 0,
         "_deepnote_index_column": 328
        },
        {
         "PassengerId": 1221,
         "Survived": 0,
         "_deepnote_index_column": 329
        },
        {
         "PassengerId": 1222,
         "Survived": 1,
         "_deepnote_index_column": 330
        },
        {
         "PassengerId": 1223,
         "Survived": 0,
         "_deepnote_index_column": 331
        },
        {
         "PassengerId": 1224,
         "Survived": 0,
         "_deepnote_index_column": 332
        },
        {
         "PassengerId": 1225,
         "Survived": 1,
         "_deepnote_index_column": 333
        },
        {
         "PassengerId": 1226,
         "Survived": 0,
         "_deepnote_index_column": 334
        },
        {
         "PassengerId": 1227,
         "Survived": 0,
         "_deepnote_index_column": 335
        },
        {
         "PassengerId": 1228,
         "Survived": 0,
         "_deepnote_index_column": 336
        },
        {
         "PassengerId": 1229,
         "Survived": 0,
         "_deepnote_index_column": 337
        },
        {
         "PassengerId": 1230,
         "Survived": 0,
         "_deepnote_index_column": 338
        },
        {
         "PassengerId": 1231,
         "Survived": 0,
         "_deepnote_index_column": 339
        },
        {
         "PassengerId": 1232,
         "Survived": 0,
         "_deepnote_index_column": 340
        },
        {
         "PassengerId": 1233,
         "Survived": 0,
         "_deepnote_index_column": 341
        },
        {
         "PassengerId": 1234,
         "Survived": 0,
         "_deepnote_index_column": 342
        },
        {
         "PassengerId": 1235,
         "Survived": 1,
         "_deepnote_index_column": 343
        },
        {
         "PassengerId": 1236,
         "Survived": 1,
         "_deepnote_index_column": 344
        },
        {
         "PassengerId": 1237,
         "Survived": 1,
         "_deepnote_index_column": 345
        },
        {
         "PassengerId": 1238,
         "Survived": 0,
         "_deepnote_index_column": 346
        },
        {
         "PassengerId": 1239,
         "Survived": 1,
         "_deepnote_index_column": 347
        },
        {
         "PassengerId": 1240,
         "Survived": 0,
         "_deepnote_index_column": 348
        },
        {
         "PassengerId": 1241,
         "Survived": 1,
         "_deepnote_index_column": 349
        },
        {
         "PassengerId": 1242,
         "Survived": 1,
         "_deepnote_index_column": 350
        },
        {
         "PassengerId": 1243,
         "Survived": 0,
         "_deepnote_index_column": 351
        },
        {
         "PassengerId": 1244,
         "Survived": 0,
         "_deepnote_index_column": 352
        },
        {
         "PassengerId": 1245,
         "Survived": 0,
         "_deepnote_index_column": 353
        },
        {
         "PassengerId": 1246,
         "Survived": 0,
         "_deepnote_index_column": 354
        },
        {
         "PassengerId": 1247,
         "Survived": 0,
         "_deepnote_index_column": 355
        },
        {
         "PassengerId": 1248,
         "Survived": 1,
         "_deepnote_index_column": 356
        },
        {
         "PassengerId": 1249,
         "Survived": 0,
         "_deepnote_index_column": 357
        },
        {
         "PassengerId": 1250,
         "Survived": 0,
         "_deepnote_index_column": 358
        },
        {
         "PassengerId": 1251,
         "Survived": 0,
         "_deepnote_index_column": 359
        },
        {
         "PassengerId": 1252,
         "Survived": 0,
         "_deepnote_index_column": 360
        },
        {
         "PassengerId": 1253,
         "Survived": 1,
         "_deepnote_index_column": 361
        },
        {
         "PassengerId": 1254,
         "Survived": 1,
         "_deepnote_index_column": 362
        },
        {
         "PassengerId": 1255,
         "Survived": 0,
         "_deepnote_index_column": 363
        },
        {
         "PassengerId": 1256,
         "Survived": 1,
         "_deepnote_index_column": 364
        },
        {
         "PassengerId": 1257,
         "Survived": 0,
         "_deepnote_index_column": 365
        },
        {
         "PassengerId": 1258,
         "Survived": 0,
         "_deepnote_index_column": 366
        },
        {
         "PassengerId": 1259,
         "Survived": 1,
         "_deepnote_index_column": 367
        },
        {
         "PassengerId": 1260,
         "Survived": 1,
         "_deepnote_index_column": 368
        },
        {
         "PassengerId": 1261,
         "Survived": 0,
         "_deepnote_index_column": 369
        },
        {
         "PassengerId": 1262,
         "Survived": 0,
         "_deepnote_index_column": 370
        },
        {
         "PassengerId": 1263,
         "Survived": 1,
         "_deepnote_index_column": 371
        },
        {
         "PassengerId": 1264,
         "Survived": 0,
         "_deepnote_index_column": 372
        },
        {
         "PassengerId": 1265,
         "Survived": 0,
         "_deepnote_index_column": 373
        },
        {
         "PassengerId": 1266,
         "Survived": 1,
         "_deepnote_index_column": 374
        },
        {
         "PassengerId": 1267,
         "Survived": 1,
         "_deepnote_index_column": 375
        },
        {
         "PassengerId": 1268,
         "Survived": 0,
         "_deepnote_index_column": 376
        },
        {
         "PassengerId": 1269,
         "Survived": 0,
         "_deepnote_index_column": 377
        },
        {
         "PassengerId": 1270,
         "Survived": 0,
         "_deepnote_index_column": 378
        },
        {
         "PassengerId": 1271,
         "Survived": 0,
         "_deepnote_index_column": 379
        },
        {
         "PassengerId": 1272,
         "Survived": 0,
         "_deepnote_index_column": 380
        },
        {
         "PassengerId": 1273,
         "Survived": 0,
         "_deepnote_index_column": 381
        },
        {
         "PassengerId": 1274,
         "Survived": 1,
         "_deepnote_index_column": 382
        },
        {
         "PassengerId": 1275,
         "Survived": 1,
         "_deepnote_index_column": 383
        },
        {
         "PassengerId": 1276,
         "Survived": 0,
         "_deepnote_index_column": 384
        },
        {
         "PassengerId": 1277,
         "Survived": 1,
         "_deepnote_index_column": 385
        },
        {
         "PassengerId": 1278,
         "Survived": 0,
         "_deepnote_index_column": 386
        },
        {
         "PassengerId": 1279,
         "Survived": 0,
         "_deepnote_index_column": 387
        },
        {
         "PassengerId": 1280,
         "Survived": 0,
         "_deepnote_index_column": 388
        },
        {
         "PassengerId": 1281,
         "Survived": 0,
         "_deepnote_index_column": 389
        },
        {
         "PassengerId": 1282,
         "Survived": 0,
         "_deepnote_index_column": 390
        },
        {
         "PassengerId": 1283,
         "Survived": 1,
         "_deepnote_index_column": 391
        },
        {
         "PassengerId": 1284,
         "Survived": 1,
         "_deepnote_index_column": 392
        },
        {
         "PassengerId": 1285,
         "Survived": 0,
         "_deepnote_index_column": 393
        },
        {
         "PassengerId": 1286,
         "Survived": 0,
         "_deepnote_index_column": 394
        },
        {
         "PassengerId": 1287,
         "Survived": 1,
         "_deepnote_index_column": 395
        },
        {
         "PassengerId": 1288,
         "Survived": 0,
         "_deepnote_index_column": 396
        },
        {
         "PassengerId": 1289,
         "Survived": 1,
         "_deepnote_index_column": 397
        },
        {
         "PassengerId": 1290,
         "Survived": 0,
         "_deepnote_index_column": 398
        },
        {
         "PassengerId": 1291,
         "Survived": 0,
         "_deepnote_index_column": 399
        },
        {
         "PassengerId": 1292,
         "Survived": 1,
         "_deepnote_index_column": 400
        },
        {
         "PassengerId": 1293,
         "Survived": 0,
         "_deepnote_index_column": 401
        },
        {
         "PassengerId": 1294,
         "Survived": 1,
         "_deepnote_index_column": 402
        },
        {
         "PassengerId": 1295,
         "Survived": 0,
         "_deepnote_index_column": 403
        },
        {
         "PassengerId": 1296,
         "Survived": 1,
         "_deepnote_index_column": 404
        },
        {
         "PassengerId": 1297,
         "Survived": 1,
         "_deepnote_index_column": 405
        },
        {
         "PassengerId": 1298,
         "Survived": 0,
         "_deepnote_index_column": 406
        },
        {
         "PassengerId": 1299,
         "Survived": 0,
         "_deepnote_index_column": 407
        },
        {
         "PassengerId": 1300,
         "Survived": 1,
         "_deepnote_index_column": 408
        },
        {
         "PassengerId": 1301,
         "Survived": 1,
         "_deepnote_index_column": 409
        },
        {
         "PassengerId": 1302,
         "Survived": 1,
         "_deepnote_index_column": 410
        },
        {
         "PassengerId": 1303,
         "Survived": 1,
         "_deepnote_index_column": 411
        },
        {
         "PassengerId": 1304,
         "Survived": 1,
         "_deepnote_index_column": 412
        },
        {
         "PassengerId": 1305,
         "Survived": 0,
         "_deepnote_index_column": 413
        },
        {
         "PassengerId": 1306,
         "Survived": 1,
         "_deepnote_index_column": 414
        },
        {
         "PassengerId": 1307,
         "Survived": 0,
         "_deepnote_index_column": 415
        },
        {
         "PassengerId": 1308,
         "Survived": 0,
         "_deepnote_index_column": 416
        },
        {
         "PassengerId": 1309,
         "Survived": 1,
         "_deepnote_index_column": 417
        }
       ]
      },
      "text/html": [
       "<div>\n",
       "<style scoped>\n",
       "    .dataframe tbody tr th:only-of-type {\n",
       "        vertical-align: middle;\n",
       "    }\n",
       "\n",
       "    .dataframe tbody tr th {\n",
       "        vertical-align: top;\n",
       "    }\n",
       "\n",
       "    .dataframe thead th {\n",
       "        text-align: right;\n",
       "    }\n",
       "</style>\n",
       "<table border=\"1\" class=\"dataframe\">\n",
       "  <thead>\n",
       "    <tr style=\"text-align: right;\">\n",
       "      <th></th>\n",
       "      <th>PassengerId</th>\n",
       "      <th>Survived</th>\n",
       "    </tr>\n",
       "  </thead>\n",
       "  <tbody>\n",
       "    <tr>\n",
       "      <th>0</th>\n",
       "      <td>892</td>\n",
       "      <td>0</td>\n",
       "    </tr>\n",
       "    <tr>\n",
       "      <th>1</th>\n",
       "      <td>893</td>\n",
       "      <td>0</td>\n",
       "    </tr>\n",
       "    <tr>\n",
       "      <th>2</th>\n",
       "      <td>894</td>\n",
       "      <td>0</td>\n",
       "    </tr>\n",
       "    <tr>\n",
       "      <th>3</th>\n",
       "      <td>895</td>\n",
       "      <td>0</td>\n",
       "    </tr>\n",
       "    <tr>\n",
       "      <th>4</th>\n",
       "      <td>896</td>\n",
       "      <td>0</td>\n",
       "    </tr>\n",
       "    <tr>\n",
       "      <th>...</th>\n",
       "      <td>...</td>\n",
       "      <td>...</td>\n",
       "    </tr>\n",
       "    <tr>\n",
       "      <th>413</th>\n",
       "      <td>1305</td>\n",
       "      <td>0</td>\n",
       "    </tr>\n",
       "    <tr>\n",
       "      <th>414</th>\n",
       "      <td>1306</td>\n",
       "      <td>1</td>\n",
       "    </tr>\n",
       "    <tr>\n",
       "      <th>415</th>\n",
       "      <td>1307</td>\n",
       "      <td>0</td>\n",
       "    </tr>\n",
       "    <tr>\n",
       "      <th>416</th>\n",
       "      <td>1308</td>\n",
       "      <td>0</td>\n",
       "    </tr>\n",
       "    <tr>\n",
       "      <th>417</th>\n",
       "      <td>1309</td>\n",
       "      <td>1</td>\n",
       "    </tr>\n",
       "  </tbody>\n",
       "</table>\n",
       "<p>418 rows × 2 columns</p>\n",
       "</div>"
      ],
      "text/plain": [
       "     PassengerId  Survived\n",
       "0            892         0\n",
       "1            893         0\n",
       "2            894         0\n",
       "3            895         0\n",
       "4            896         0\n",
       "..           ...       ...\n",
       "413         1305         0\n",
       "414         1306         1\n",
       "415         1307         0\n",
       "416         1308         0\n",
       "417         1309         1\n",
       "\n",
       "[418 rows x 2 columns]"
      ]
     },
     "execution_count": 183,
     "metadata": {},
     "output_type": "execute_result"
    }
   ],
   "source": [
    "sub"
   ]
  },
  {
   "cell_type": "code",
   "execution_count": null,
   "metadata": {
    "cell_id": "00061-177fcdd7-b12d-4f93-9eba-98545cc0b71f",
    "deepnote_cell_type": "code",
    "deepnote_to_be_reexecuted": false,
    "execution_millis": 4,
    "execution_start": 1633267031457,
    "id": "99KujNUQL8Lm",
    "source_hash": "b264e9cb"
   },
   "outputs": [],
   "source": [
    "sub.to_csv('submission_lastly.csv', index=False)"
   ]
  },
  {
   "cell_type": "code",
   "execution_count": null,
   "metadata": {
    "cell_id": "00062-4b292bc4-dee0-476c-87f0-6552a481e648",
    "deepnote_cell_type": "code",
    "deepnote_to_be_reexecuted": true,
    "id": "hdxlipA3L8Lm",
    "source_hash": "b623e53d"
   },
   "outputs": [],
   "source": []
  },
  {
   "cell_type": "markdown",
   "metadata": {
    "created_in_deepnote_cell": true,
    "deepnote_cell_type": "markdown",
    "tags": []
   },
   "source": [
    "<a style='text-decoration:none;line-height:16px;display:flex;color:#5B5B62;padding:10px;justify-content:end;' href='https://deepnote.com?utm_source=created-in-deepnote-cell&projectId=6f45f37b-2499-4526-9eb4-651deeca3084' target=\"_blank\">\n",
    "<img alt='Created in deepnote.com' style='display:inline;max-height:16px;margin:0px;margin-right:7.5px;' src='data:image/svg+xml;base64,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' > </img>\n",
    "Created in <span style='font-weight:600;margin-left:4px;'>Deepnote</span></a>"
   ]
  }
 ],
 "metadata": {
  "colab": {
   "name": "titanic_0.82634.ipynb",
   "provenance": []
  },
  "deepnote": {},
  "deepnote_execution_queue": [],
  "deepnote_notebook_id": "f2cf0a64-0330-4f45-bdb1-eb2c31e5a468",
  "kernelspec": {
   "display_name": "Python 3",
   "language": "python",
   "name": "python3"
  },
  "language_info": {
   "codemirror_mode": {
    "name": "ipython",
    "version": 3
   },
   "file_extension": ".py",
   "mimetype": "text/x-python",
   "name": "python",
   "nbconvert_exporter": "python",
   "pygments_lexer": "ipython3",
   "version": "3.7.6"
  }
 },
 "nbformat": 4,
 "nbformat_minor": 1
}
