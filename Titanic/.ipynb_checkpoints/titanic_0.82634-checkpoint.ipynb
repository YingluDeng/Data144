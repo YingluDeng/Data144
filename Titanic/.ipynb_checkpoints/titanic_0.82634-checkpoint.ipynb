{
 "cells": [
  {
   "cell_type": "code",
   "execution_count": 490,
   "metadata": {
    "_cell_guid": "b1076dfc-b9ad-4769-8c92-a6c4dae69d19",
    "_uuid": "8f2839f25d086af736a60e9eeb907d3b93b6e0e5"
   },
   "outputs": [],
   "source": [
    "#load the library\n",
    "import numpy as np\n",
    "import pandas as pd\n",
    "\n",
    "import sklearn.datasets\n",
    "import sklearn.metrics\n",
    "from sklearn.model_selection import train_test_split\n",
    "from sklearn import preprocessing\n",
    "from sklearn.metrics import log_loss\n",
    "from sklearn.model_selection import StratifiedKFold\n",
    "from sklearn.preprocessing import QuantileTransformer\n",
    "from sklearn.metrics import accuracy_score\n",
    "import lightgbm as lgb\n",
    "import optuna\n",
    "import warnings\n",
    "from tqdm import tqdm\n",
    "import time\n",
    "from sklearn.decomposition import TruncatedSVD, PCA\n",
    "import joblib\n",
    "import matplotlib.pyplot as plt\n",
    "warnings.filterwarnings('ignore')"
   ]
  },
  {
   "cell_type": "code",
   "execution_count": 491,
   "metadata": {},
   "outputs": [],
   "source": [
    "#transfrom categorical data to numbers\n",
    "def label_encoding(train: pd.DataFrame, test: pd.DataFrame, encode_cols):\n",
    "    n_train = len(train)\n",
    "    train = pd.concat([train, test], sort=False).reset_index(drop=True)\n",
    "    for f in encode_cols:\n",
    "        try:\n",
    "            lbl = preprocessing.LabelEncoder()\n",
    "            train[f] = lbl.fit_transform(list(train[f].values))\n",
    "        except:\n",
    "            print(f)\n",
    "    test = train[n_train:].reset_index(drop=True)\n",
    "    train = train[:n_train]\n",
    "    return train, test"
   ]
  },
  {
   "cell_type": "code",
   "execution_count": 492,
   "metadata": {
    "_cell_guid": "79c7e3d0-c299-4dcb-8224-4455121ee9b0",
    "_uuid": "d629ff2d2480ee46fbb7e2d37f6b5fab8052498a"
   },
   "outputs": [],
   "source": [
    "#import data\n",
    "train = pd.read_csv('train.csv')\n",
    "test = pd.read_csv('test.csv')\n",
    "sub = pd.read_csv('gender_submission.csv')"
   ]
  },
  {
   "cell_type": "code",
   "execution_count": 493,
   "metadata": {},
   "outputs": [
    {
     "data": {
      "text/html": [
       "<div>\n",
       "<style scoped>\n",
       "    .dataframe tbody tr th:only-of-type {\n",
       "        vertical-align: middle;\n",
       "    }\n",
       "\n",
       "    .dataframe tbody tr th {\n",
       "        vertical-align: top;\n",
       "    }\n",
       "\n",
       "    .dataframe thead th {\n",
       "        text-align: right;\n",
       "    }\n",
       "</style>\n",
       "<table border=\"1\" class=\"dataframe\">\n",
       "  <thead>\n",
       "    <tr style=\"text-align: right;\">\n",
       "      <th></th>\n",
       "      <th>PassengerId</th>\n",
       "      <th>Survived</th>\n",
       "      <th>Pclass</th>\n",
       "      <th>Name</th>\n",
       "      <th>Sex</th>\n",
       "      <th>Age</th>\n",
       "      <th>SibSp</th>\n",
       "      <th>Parch</th>\n",
       "      <th>Ticket</th>\n",
       "      <th>Fare</th>\n",
       "      <th>Cabin</th>\n",
       "      <th>Embarked</th>\n",
       "    </tr>\n",
       "  </thead>\n",
       "  <tbody>\n",
       "    <tr>\n",
       "      <th>0</th>\n",
       "      <td>1</td>\n",
       "      <td>0</td>\n",
       "      <td>3</td>\n",
       "      <td>Braund, Mr. Owen Harris</td>\n",
       "      <td>male</td>\n",
       "      <td>22.0</td>\n",
       "      <td>1</td>\n",
       "      <td>0</td>\n",
       "      <td>A/5 21171</td>\n",
       "      <td>7.2500</td>\n",
       "      <td>NaN</td>\n",
       "      <td>S</td>\n",
       "    </tr>\n",
       "    <tr>\n",
       "      <th>1</th>\n",
       "      <td>2</td>\n",
       "      <td>1</td>\n",
       "      <td>1</td>\n",
       "      <td>Cumings, Mrs. John Bradley (Florence Briggs Th...</td>\n",
       "      <td>female</td>\n",
       "      <td>38.0</td>\n",
       "      <td>1</td>\n",
       "      <td>0</td>\n",
       "      <td>PC 17599</td>\n",
       "      <td>71.2833</td>\n",
       "      <td>C85</td>\n",
       "      <td>C</td>\n",
       "    </tr>\n",
       "    <tr>\n",
       "      <th>2</th>\n",
       "      <td>3</td>\n",
       "      <td>1</td>\n",
       "      <td>3</td>\n",
       "      <td>Heikkinen, Miss. Laina</td>\n",
       "      <td>female</td>\n",
       "      <td>26.0</td>\n",
       "      <td>0</td>\n",
       "      <td>0</td>\n",
       "      <td>STON/O2. 3101282</td>\n",
       "      <td>7.9250</td>\n",
       "      <td>NaN</td>\n",
       "      <td>S</td>\n",
       "    </tr>\n",
       "    <tr>\n",
       "      <th>3</th>\n",
       "      <td>4</td>\n",
       "      <td>1</td>\n",
       "      <td>1</td>\n",
       "      <td>Futrelle, Mrs. Jacques Heath (Lily May Peel)</td>\n",
       "      <td>female</td>\n",
       "      <td>35.0</td>\n",
       "      <td>1</td>\n",
       "      <td>0</td>\n",
       "      <td>113803</td>\n",
       "      <td>53.1000</td>\n",
       "      <td>C123</td>\n",
       "      <td>S</td>\n",
       "    </tr>\n",
       "    <tr>\n",
       "      <th>4</th>\n",
       "      <td>5</td>\n",
       "      <td>0</td>\n",
       "      <td>3</td>\n",
       "      <td>Allen, Mr. William Henry</td>\n",
       "      <td>male</td>\n",
       "      <td>35.0</td>\n",
       "      <td>0</td>\n",
       "      <td>0</td>\n",
       "      <td>373450</td>\n",
       "      <td>8.0500</td>\n",
       "      <td>NaN</td>\n",
       "      <td>S</td>\n",
       "    </tr>\n",
       "  </tbody>\n",
       "</table>\n",
       "</div>"
      ],
      "text/plain": [
       "   PassengerId  Survived  Pclass  \\\n",
       "0            1         0       3   \n",
       "1            2         1       1   \n",
       "2            3         1       3   \n",
       "3            4         1       1   \n",
       "4            5         0       3   \n",
       "\n",
       "                                                Name     Sex   Age  SibSp  \\\n",
       "0                            Braund, Mr. Owen Harris    male  22.0      1   \n",
       "1  Cumings, Mrs. John Bradley (Florence Briggs Th...  female  38.0      1   \n",
       "2                             Heikkinen, Miss. Laina  female  26.0      0   \n",
       "3       Futrelle, Mrs. Jacques Heath (Lily May Peel)  female  35.0      1   \n",
       "4                           Allen, Mr. William Henry    male  35.0      0   \n",
       "\n",
       "   Parch            Ticket     Fare Cabin Embarked  \n",
       "0      0         A/5 21171   7.2500   NaN        S  \n",
       "1      0          PC 17599  71.2833   C85        C  \n",
       "2      0  STON/O2. 3101282   7.9250   NaN        S  \n",
       "3      0            113803  53.1000  C123        S  \n",
       "4      0            373450   8.0500   NaN        S  "
      ]
     },
     "execution_count": 493,
     "metadata": {},
     "output_type": "execute_result"
    }
   ],
   "source": [
    "train.head()"
   ]
  },
  {
   "cell_type": "code",
   "execution_count": 494,
   "metadata": {},
   "outputs": [
    {
     "data": {
      "text/html": [
       "<div>\n",
       "<style scoped>\n",
       "    .dataframe tbody tr th:only-of-type {\n",
       "        vertical-align: middle;\n",
       "    }\n",
       "\n",
       "    .dataframe tbody tr th {\n",
       "        vertical-align: top;\n",
       "    }\n",
       "\n",
       "    .dataframe thead th {\n",
       "        text-align: right;\n",
       "    }\n",
       "</style>\n",
       "<table border=\"1\" class=\"dataframe\">\n",
       "  <thead>\n",
       "    <tr style=\"text-align: right;\">\n",
       "      <th></th>\n",
       "      <th>PassengerId</th>\n",
       "      <th>Pclass</th>\n",
       "      <th>Name</th>\n",
       "      <th>Sex</th>\n",
       "      <th>Age</th>\n",
       "      <th>SibSp</th>\n",
       "      <th>Parch</th>\n",
       "      <th>Ticket</th>\n",
       "      <th>Fare</th>\n",
       "      <th>Cabin</th>\n",
       "      <th>Embarked</th>\n",
       "    </tr>\n",
       "  </thead>\n",
       "  <tbody>\n",
       "    <tr>\n",
       "      <th>0</th>\n",
       "      <td>892</td>\n",
       "      <td>3</td>\n",
       "      <td>Kelly, Mr. James</td>\n",
       "      <td>male</td>\n",
       "      <td>34.5</td>\n",
       "      <td>0</td>\n",
       "      <td>0</td>\n",
       "      <td>330911</td>\n",
       "      <td>7.8292</td>\n",
       "      <td>NaN</td>\n",
       "      <td>Q</td>\n",
       "    </tr>\n",
       "    <tr>\n",
       "      <th>1</th>\n",
       "      <td>893</td>\n",
       "      <td>3</td>\n",
       "      <td>Wilkes, Mrs. James (Ellen Needs)</td>\n",
       "      <td>female</td>\n",
       "      <td>47.0</td>\n",
       "      <td>1</td>\n",
       "      <td>0</td>\n",
       "      <td>363272</td>\n",
       "      <td>7.0000</td>\n",
       "      <td>NaN</td>\n",
       "      <td>S</td>\n",
       "    </tr>\n",
       "    <tr>\n",
       "      <th>2</th>\n",
       "      <td>894</td>\n",
       "      <td>2</td>\n",
       "      <td>Myles, Mr. Thomas Francis</td>\n",
       "      <td>male</td>\n",
       "      <td>62.0</td>\n",
       "      <td>0</td>\n",
       "      <td>0</td>\n",
       "      <td>240276</td>\n",
       "      <td>9.6875</td>\n",
       "      <td>NaN</td>\n",
       "      <td>Q</td>\n",
       "    </tr>\n",
       "    <tr>\n",
       "      <th>3</th>\n",
       "      <td>895</td>\n",
       "      <td>3</td>\n",
       "      <td>Wirz, Mr. Albert</td>\n",
       "      <td>male</td>\n",
       "      <td>27.0</td>\n",
       "      <td>0</td>\n",
       "      <td>0</td>\n",
       "      <td>315154</td>\n",
       "      <td>8.6625</td>\n",
       "      <td>NaN</td>\n",
       "      <td>S</td>\n",
       "    </tr>\n",
       "    <tr>\n",
       "      <th>4</th>\n",
       "      <td>896</td>\n",
       "      <td>3</td>\n",
       "      <td>Hirvonen, Mrs. Alexander (Helga E Lindqvist)</td>\n",
       "      <td>female</td>\n",
       "      <td>22.0</td>\n",
       "      <td>1</td>\n",
       "      <td>1</td>\n",
       "      <td>3101298</td>\n",
       "      <td>12.2875</td>\n",
       "      <td>NaN</td>\n",
       "      <td>S</td>\n",
       "    </tr>\n",
       "  </tbody>\n",
       "</table>\n",
       "</div>"
      ],
      "text/plain": [
       "   PassengerId  Pclass                                          Name     Sex  \\\n",
       "0          892       3                              Kelly, Mr. James    male   \n",
       "1          893       3              Wilkes, Mrs. James (Ellen Needs)  female   \n",
       "2          894       2                     Myles, Mr. Thomas Francis    male   \n",
       "3          895       3                              Wirz, Mr. Albert    male   \n",
       "4          896       3  Hirvonen, Mrs. Alexander (Helga E Lindqvist)  female   \n",
       "\n",
       "    Age  SibSp  Parch   Ticket     Fare Cabin Embarked  \n",
       "0  34.5      0      0   330911   7.8292   NaN        Q  \n",
       "1  47.0      1      0   363272   7.0000   NaN        S  \n",
       "2  62.0      0      0   240276   9.6875   NaN        Q  \n",
       "3  27.0      0      0   315154   8.6625   NaN        S  \n",
       "4  22.0      1      1  3101298  12.2875   NaN        S  "
      ]
     },
     "execution_count": 494,
     "metadata": {},
     "output_type": "execute_result"
    }
   ],
   "source": [
    "test.head()"
   ]
  },
  {
   "cell_type": "code",
   "execution_count": 495,
   "metadata": {},
   "outputs": [
    {
     "data": {
      "text/html": [
       "<div>\n",
       "<style scoped>\n",
       "    .dataframe tbody tr th:only-of-type {\n",
       "        vertical-align: middle;\n",
       "    }\n",
       "\n",
       "    .dataframe tbody tr th {\n",
       "        vertical-align: top;\n",
       "    }\n",
       "\n",
       "    .dataframe thead th {\n",
       "        text-align: right;\n",
       "    }\n",
       "</style>\n",
       "<table border=\"1\" class=\"dataframe\">\n",
       "  <thead>\n",
       "    <tr style=\"text-align: right;\">\n",
       "      <th></th>\n",
       "      <th>PassengerId</th>\n",
       "      <th>Survived</th>\n",
       "    </tr>\n",
       "  </thead>\n",
       "  <tbody>\n",
       "    <tr>\n",
       "      <th>0</th>\n",
       "      <td>892</td>\n",
       "      <td>0</td>\n",
       "    </tr>\n",
       "    <tr>\n",
       "      <th>1</th>\n",
       "      <td>893</td>\n",
       "      <td>1</td>\n",
       "    </tr>\n",
       "    <tr>\n",
       "      <th>2</th>\n",
       "      <td>894</td>\n",
       "      <td>0</td>\n",
       "    </tr>\n",
       "    <tr>\n",
       "      <th>3</th>\n",
       "      <td>895</td>\n",
       "      <td>0</td>\n",
       "    </tr>\n",
       "    <tr>\n",
       "      <th>4</th>\n",
       "      <td>896</td>\n",
       "      <td>1</td>\n",
       "    </tr>\n",
       "  </tbody>\n",
       "</table>\n",
       "</div>"
      ],
      "text/plain": [
       "   PassengerId  Survived\n",
       "0          892         0\n",
       "1          893         1\n",
       "2          894         0\n",
       "3          895         0\n",
       "4          896         1"
      ]
     },
     "execution_count": 495,
     "metadata": {},
     "output_type": "execute_result"
    }
   ],
   "source": [
    "sub.head()"
   ]
  },
  {
   "cell_type": "markdown",
   "metadata": {},
   "source": [
    "## Fill NAs"
   ]
  },
  {
   "cell_type": "code",
   "execution_count": 496,
   "metadata": {},
   "outputs": [
    {
     "data": {
      "text/plain": [
       "True"
      ]
     },
     "execution_count": 496,
     "metadata": {},
     "output_type": "execute_result"
    }
   ],
   "source": [
    "sub.PassengerId.to_list() == test.PassengerId.to_list()"
   ]
  },
  {
   "cell_type": "code",
   "execution_count": 497,
   "metadata": {},
   "outputs": [
    {
     "data": {
      "text/plain": [
       "PassengerId      0\n",
       "Survived         0\n",
       "Pclass           0\n",
       "Name             0\n",
       "Sex              0\n",
       "Age            177\n",
       "SibSp            0\n",
       "Parch            0\n",
       "Ticket           0\n",
       "Fare             0\n",
       "Cabin          687\n",
       "Embarked         2\n",
       "dtype: int64"
      ]
     },
     "execution_count": 497,
     "metadata": {},
     "output_type": "execute_result"
    }
   ],
   "source": [
    "train.isna().sum()"
   ]
  },
  {
   "cell_type": "code",
   "execution_count": 498,
   "metadata": {},
   "outputs": [],
   "source": [
    "## fill age\n",
    "train.Age = train.Age.fillna(0)"
   ]
  },
  {
   "cell_type": "code",
   "execution_count": 499,
   "metadata": {},
   "outputs": [],
   "source": [
    "train.Cabin = train.Cabin.fillna('Unknown')"
   ]
  },
  {
   "cell_type": "code",
   "execution_count": 500,
   "metadata": {},
   "outputs": [],
   "source": [
    "train.Embarked = train.Embarked.fillna('Unknown')"
   ]
  },
  {
   "cell_type": "code",
   "execution_count": 501,
   "metadata": {},
   "outputs": [
    {
     "data": {
      "text/plain": [
       "PassengerId    0\n",
       "Survived       0\n",
       "Pclass         0\n",
       "Name           0\n",
       "Sex            0\n",
       "Age            0\n",
       "SibSp          0\n",
       "Parch          0\n",
       "Ticket         0\n",
       "Fare           0\n",
       "Cabin          0\n",
       "Embarked       0\n",
       "dtype: int64"
      ]
     },
     "execution_count": 501,
     "metadata": {},
     "output_type": "execute_result"
    }
   ],
   "source": [
    "train.isna().sum()"
   ]
  },
  {
   "cell_type": "code",
   "execution_count": 502,
   "metadata": {},
   "outputs": [
    {
     "data": {
      "text/plain": [
       "PassengerId      0\n",
       "Pclass           0\n",
       "Name             0\n",
       "Sex              0\n",
       "Age             86\n",
       "SibSp            0\n",
       "Parch            0\n",
       "Ticket           0\n",
       "Fare             1\n",
       "Cabin          327\n",
       "Embarked         0\n",
       "dtype: int64"
      ]
     },
     "execution_count": 502,
     "metadata": {},
     "output_type": "execute_result"
    }
   ],
   "source": [
    "test.isna().sum()"
   ]
  },
  {
   "cell_type": "code",
   "execution_count": 503,
   "metadata": {},
   "outputs": [],
   "source": [
    "test.Age = test.Age.fillna(0)\n",
    "test.Fare = test.Fare.fillna(np.mean(test.Fare))"
   ]
  },
  {
   "cell_type": "code",
   "execution_count": 504,
   "metadata": {},
   "outputs": [],
   "source": [
    "test.Cabin = test.Cabin.fillna('Unknown')"
   ]
  },
  {
   "cell_type": "code",
   "execution_count": 505,
   "metadata": {},
   "outputs": [
    {
     "data": {
      "text/plain": [
       "PassengerId    0\n",
       "Pclass         0\n",
       "Name           0\n",
       "Sex            0\n",
       "Age            0\n",
       "SibSp          0\n",
       "Parch          0\n",
       "Ticket         0\n",
       "Fare           0\n",
       "Cabin          0\n",
       "Embarked       0\n",
       "dtype: int64"
      ]
     },
     "execution_count": 505,
     "metadata": {},
     "output_type": "execute_result"
    }
   ],
   "source": [
    "test.isna().sum()"
   ]
  },
  {
   "cell_type": "markdown",
   "metadata": {},
   "source": [
    "## Split folds"
   ]
  },
  {
   "cell_type": "code",
   "execution_count": 506,
   "metadata": {},
   "outputs": [],
   "source": [
    "#do k fold validation\n",
    "skf = StratifiedKFold(n_splits=5, shuffle=True, random_state=42)"
   ]
  },
  {
   "cell_type": "code",
   "execution_count": 507,
   "metadata": {},
   "outputs": [],
   "source": [
    "train['fold'] = -999\n",
    "for fold_id, (train_index, valid_index) in enumerate(skf.split(X=train, y=train.Survived.values)):\n",
    "    train.loc[valid_index, 'fold'] = fold_id"
   ]
  },
  {
   "cell_type": "code",
   "execution_count": 508,
   "metadata": {},
   "outputs": [
    {
     "data": {
      "text/plain": [
       "0    179\n",
       "1    178\n",
       "2    178\n",
       "3    178\n",
       "4    178\n",
       "Name: fold, dtype: int64"
      ]
     },
     "execution_count": 508,
     "metadata": {},
     "output_type": "execute_result"
    }
   ],
   "source": [
    "train.fold.value_counts()"
   ]
  },
  {
   "cell_type": "markdown",
   "metadata": {},
   "source": [
    "## Feature Engineering"
   ]
  },
  {
   "cell_type": "markdown",
   "metadata": {},
   "source": [
    "#### 1. Name Title (Change the name to title and label encoding)"
   ]
  },
  {
   "cell_type": "code",
   "execution_count": 509,
   "metadata": {},
   "outputs": [
    {
     "data": {
      "text/html": [
       "<div>\n",
       "<style scoped>\n",
       "    .dataframe tbody tr th:only-of-type {\n",
       "        vertical-align: middle;\n",
       "    }\n",
       "\n",
       "    .dataframe tbody tr th {\n",
       "        vertical-align: top;\n",
       "    }\n",
       "\n",
       "    .dataframe thead th {\n",
       "        text-align: right;\n",
       "    }\n",
       "</style>\n",
       "<table border=\"1\" class=\"dataframe\">\n",
       "  <thead>\n",
       "    <tr style=\"text-align: right;\">\n",
       "      <th>Sex</th>\n",
       "      <th>female</th>\n",
       "      <th>male</th>\n",
       "    </tr>\n",
       "    <tr>\n",
       "      <th>Title</th>\n",
       "      <th></th>\n",
       "      <th></th>\n",
       "    </tr>\n",
       "  </thead>\n",
       "  <tbody>\n",
       "    <tr>\n",
       "      <th>Capt</th>\n",
       "      <td>0</td>\n",
       "      <td>1</td>\n",
       "    </tr>\n",
       "    <tr>\n",
       "      <th>Col</th>\n",
       "      <td>0</td>\n",
       "      <td>2</td>\n",
       "    </tr>\n",
       "    <tr>\n",
       "      <th>Countess</th>\n",
       "      <td>1</td>\n",
       "      <td>0</td>\n",
       "    </tr>\n",
       "    <tr>\n",
       "      <th>Don</th>\n",
       "      <td>0</td>\n",
       "      <td>1</td>\n",
       "    </tr>\n",
       "    <tr>\n",
       "      <th>Dr</th>\n",
       "      <td>1</td>\n",
       "      <td>6</td>\n",
       "    </tr>\n",
       "    <tr>\n",
       "      <th>Jonkheer</th>\n",
       "      <td>0</td>\n",
       "      <td>1</td>\n",
       "    </tr>\n",
       "    <tr>\n",
       "      <th>Lady</th>\n",
       "      <td>1</td>\n",
       "      <td>0</td>\n",
       "    </tr>\n",
       "    <tr>\n",
       "      <th>Major</th>\n",
       "      <td>0</td>\n",
       "      <td>2</td>\n",
       "    </tr>\n",
       "    <tr>\n",
       "      <th>Master</th>\n",
       "      <td>0</td>\n",
       "      <td>40</td>\n",
       "    </tr>\n",
       "    <tr>\n",
       "      <th>Miss</th>\n",
       "      <td>182</td>\n",
       "      <td>0</td>\n",
       "    </tr>\n",
       "    <tr>\n",
       "      <th>Mlle</th>\n",
       "      <td>2</td>\n",
       "      <td>0</td>\n",
       "    </tr>\n",
       "    <tr>\n",
       "      <th>Mme</th>\n",
       "      <td>1</td>\n",
       "      <td>0</td>\n",
       "    </tr>\n",
       "    <tr>\n",
       "      <th>Mr</th>\n",
       "      <td>0</td>\n",
       "      <td>517</td>\n",
       "    </tr>\n",
       "    <tr>\n",
       "      <th>Mrs</th>\n",
       "      <td>125</td>\n",
       "      <td>0</td>\n",
       "    </tr>\n",
       "    <tr>\n",
       "      <th>Ms</th>\n",
       "      <td>1</td>\n",
       "      <td>0</td>\n",
       "    </tr>\n",
       "    <tr>\n",
       "      <th>Rev</th>\n",
       "      <td>0</td>\n",
       "      <td>6</td>\n",
       "    </tr>\n",
       "    <tr>\n",
       "      <th>Sir</th>\n",
       "      <td>0</td>\n",
       "      <td>1</td>\n",
       "    </tr>\n",
       "  </tbody>\n",
       "</table>\n",
       "</div>"
      ],
      "text/plain": [
       "Sex       female  male\n",
       "Title                 \n",
       "Capt           0     1\n",
       "Col            0     2\n",
       "Countess       1     0\n",
       "Don            0     1\n",
       "Dr             1     6\n",
       "Jonkheer       0     1\n",
       "Lady           1     0\n",
       "Major          0     2\n",
       "Master         0    40\n",
       "Miss         182     0\n",
       "Mlle           2     0\n",
       "Mme            1     0\n",
       "Mr             0   517\n",
       "Mrs          125     0\n",
       "Ms             1     0\n",
       "Rev            0     6\n",
       "Sir            0     1"
      ]
     },
     "execution_count": 509,
     "metadata": {},
     "output_type": "execute_result"
    }
   ],
   "source": [
    "train['Title'] = train.Name.str.extract(' ([A-Za-z]+)\\.', expand=False)\n",
    "pd.crosstab(train['Title'], train['Sex'])"
   ]
  },
  {
   "cell_type": "code",
   "execution_count": 510,
   "metadata": {},
   "outputs": [
    {
     "data": {
      "text/html": [
       "<div>\n",
       "<style scoped>\n",
       "    .dataframe tbody tr th:only-of-type {\n",
       "        vertical-align: middle;\n",
       "    }\n",
       "\n",
       "    .dataframe tbody tr th {\n",
       "        vertical-align: top;\n",
       "    }\n",
       "\n",
       "    .dataframe thead th {\n",
       "        text-align: right;\n",
       "    }\n",
       "</style>\n",
       "<table border=\"1\" class=\"dataframe\">\n",
       "  <thead>\n",
       "    <tr style=\"text-align: right;\">\n",
       "      <th></th>\n",
       "      <th>Title</th>\n",
       "      <th>Survived</th>\n",
       "    </tr>\n",
       "  </thead>\n",
       "  <tbody>\n",
       "    <tr>\n",
       "      <th>0</th>\n",
       "      <td>Master</td>\n",
       "      <td>0.575000</td>\n",
       "    </tr>\n",
       "    <tr>\n",
       "      <th>1</th>\n",
       "      <td>Miss</td>\n",
       "      <td>0.702703</td>\n",
       "    </tr>\n",
       "    <tr>\n",
       "      <th>2</th>\n",
       "      <td>Mr</td>\n",
       "      <td>0.156673</td>\n",
       "    </tr>\n",
       "    <tr>\n",
       "      <th>3</th>\n",
       "      <td>Mrs</td>\n",
       "      <td>0.793651</td>\n",
       "    </tr>\n",
       "    <tr>\n",
       "      <th>4</th>\n",
       "      <td>Rare</td>\n",
       "      <td>0.347826</td>\n",
       "    </tr>\n",
       "  </tbody>\n",
       "</table>\n",
       "</div>"
      ],
      "text/plain": [
       "    Title  Survived\n",
       "0  Master  0.575000\n",
       "1    Miss  0.702703\n",
       "2      Mr  0.156673\n",
       "3     Mrs  0.793651\n",
       "4    Rare  0.347826"
      ]
     },
     "execution_count": 510,
     "metadata": {},
     "output_type": "execute_result"
    }
   ],
   "source": [
    "train['Title'] = train['Title'].replace(['Lady', 'Countess','Capt', 'Col', 'Don', \n",
    "                                             'Dr', 'Major', 'Rev', 'Sir', 'Jonkheer', 'Dona'], 'Rare')\n",
    "train['Title'] = train['Title'].replace('Mlle', 'Miss')\n",
    "train['Title'] = train['Title'].replace('Ms', 'Miss')\n",
    "train['Title'] = train['Title'].replace('Mme', 'Mrs')\n",
    "    \n",
    "train[['Title', 'Survived']].groupby(['Title'], as_index=False).mean()"
   ]
  },
  {
   "cell_type": "code",
   "execution_count": 511,
   "metadata": {},
   "outputs": [
    {
     "data": {
      "text/html": [
       "<div>\n",
       "<style scoped>\n",
       "    .dataframe tbody tr th:only-of-type {\n",
       "        vertical-align: middle;\n",
       "    }\n",
       "\n",
       "    .dataframe tbody tr th {\n",
       "        vertical-align: top;\n",
       "    }\n",
       "\n",
       "    .dataframe thead th {\n",
       "        text-align: right;\n",
       "    }\n",
       "</style>\n",
       "<table border=\"1\" class=\"dataframe\">\n",
       "  <thead>\n",
       "    <tr style=\"text-align: right;\">\n",
       "      <th>Sex</th>\n",
       "      <th>female</th>\n",
       "      <th>male</th>\n",
       "    </tr>\n",
       "    <tr>\n",
       "      <th>Title</th>\n",
       "      <th></th>\n",
       "      <th></th>\n",
       "    </tr>\n",
       "  </thead>\n",
       "  <tbody>\n",
       "    <tr>\n",
       "      <th>Col</th>\n",
       "      <td>0</td>\n",
       "      <td>2</td>\n",
       "    </tr>\n",
       "    <tr>\n",
       "      <th>Dona</th>\n",
       "      <td>1</td>\n",
       "      <td>0</td>\n",
       "    </tr>\n",
       "    <tr>\n",
       "      <th>Dr</th>\n",
       "      <td>0</td>\n",
       "      <td>1</td>\n",
       "    </tr>\n",
       "    <tr>\n",
       "      <th>Master</th>\n",
       "      <td>0</td>\n",
       "      <td>21</td>\n",
       "    </tr>\n",
       "    <tr>\n",
       "      <th>Miss</th>\n",
       "      <td>78</td>\n",
       "      <td>0</td>\n",
       "    </tr>\n",
       "    <tr>\n",
       "      <th>Mr</th>\n",
       "      <td>0</td>\n",
       "      <td>240</td>\n",
       "    </tr>\n",
       "    <tr>\n",
       "      <th>Mrs</th>\n",
       "      <td>72</td>\n",
       "      <td>0</td>\n",
       "    </tr>\n",
       "    <tr>\n",
       "      <th>Ms</th>\n",
       "      <td>1</td>\n",
       "      <td>0</td>\n",
       "    </tr>\n",
       "    <tr>\n",
       "      <th>Rev</th>\n",
       "      <td>0</td>\n",
       "      <td>2</td>\n",
       "    </tr>\n",
       "  </tbody>\n",
       "</table>\n",
       "</div>"
      ],
      "text/plain": [
       "Sex     female  male\n",
       "Title               \n",
       "Col          0     2\n",
       "Dona         1     0\n",
       "Dr           0     1\n",
       "Master       0    21\n",
       "Miss        78     0\n",
       "Mr           0   240\n",
       "Mrs         72     0\n",
       "Ms           1     0\n",
       "Rev          0     2"
      ]
     },
     "execution_count": 511,
     "metadata": {},
     "output_type": "execute_result"
    }
   ],
   "source": [
    "test['Title'] = test.Name.str.extract(' ([A-Za-z]+)\\.', expand=False)\n",
    "pd.crosstab(test['Title'], test['Sex'])"
   ]
  },
  {
   "cell_type": "code",
   "execution_count": 512,
   "metadata": {},
   "outputs": [],
   "source": [
    "test['Title'] = test['Title'].replace(['Lady', 'Countess','Capt', 'Col', 'Don', \n",
    "                                             'Dr', 'Major', 'Rev', 'Sir', 'Jonkheer', 'Dona'], 'Rare')\n",
    "\n",
    "test['Title'] = test['Title'].replace('Mlle', 'Miss')\n",
    "test['Title'] = test['Title'].replace('Ms', 'Miss')\n",
    "test['Title'] = test['Title'].replace('Mme', 'Mrs')"
   ]
  },
  {
   "cell_type": "code",
   "execution_count": 513,
   "metadata": {},
   "outputs": [],
   "source": [
    "title_mapping = {\"Mr\": 1, \"Miss\": 2, \"Mrs\": 3, \"Master\": 4, \"Rare\": 5}\n",
    "\n",
    "train['Title'] = train['Title'].map(title_mapping)\n",
    "train['Title'] = train['Title'].fillna(0)\n",
    "test['Title'] = test['Title'].map(title_mapping)\n",
    "test['Title'] = test['Title'].fillna(0)"
   ]
  },
  {
   "cell_type": "code",
   "execution_count": 514,
   "metadata": {},
   "outputs": [],
   "source": [
    "# train = train.drop('Name', axis=1)\n",
    "# test = test.drop('Name', axis=1)"
   ]
  },
  {
   "cell_type": "code",
   "execution_count": 515,
   "metadata": {},
   "outputs": [
    {
     "data": {
      "text/html": [
       "<div>\n",
       "<style scoped>\n",
       "    .dataframe tbody tr th:only-of-type {\n",
       "        vertical-align: middle;\n",
       "    }\n",
       "\n",
       "    .dataframe tbody tr th {\n",
       "        vertical-align: top;\n",
       "    }\n",
       "\n",
       "    .dataframe thead th {\n",
       "        text-align: right;\n",
       "    }\n",
       "</style>\n",
       "<table border=\"1\" class=\"dataframe\">\n",
       "  <thead>\n",
       "    <tr style=\"text-align: right;\">\n",
       "      <th></th>\n",
       "      <th>PassengerId</th>\n",
       "      <th>Survived</th>\n",
       "      <th>Pclass</th>\n",
       "      <th>Name</th>\n",
       "      <th>Sex</th>\n",
       "      <th>Age</th>\n",
       "      <th>SibSp</th>\n",
       "      <th>Parch</th>\n",
       "      <th>Ticket</th>\n",
       "      <th>Fare</th>\n",
       "      <th>Cabin</th>\n",
       "      <th>Embarked</th>\n",
       "      <th>fold</th>\n",
       "      <th>Title</th>\n",
       "    </tr>\n",
       "  </thead>\n",
       "  <tbody>\n",
       "    <tr>\n",
       "      <th>0</th>\n",
       "      <td>1</td>\n",
       "      <td>0</td>\n",
       "      <td>3</td>\n",
       "      <td>Braund, Mr. Owen Harris</td>\n",
       "      <td>male</td>\n",
       "      <td>22.0</td>\n",
       "      <td>1</td>\n",
       "      <td>0</td>\n",
       "      <td>A/5 21171</td>\n",
       "      <td>7.2500</td>\n",
       "      <td>Unknown</td>\n",
       "      <td>S</td>\n",
       "      <td>1</td>\n",
       "      <td>1</td>\n",
       "    </tr>\n",
       "    <tr>\n",
       "      <th>1</th>\n",
       "      <td>2</td>\n",
       "      <td>1</td>\n",
       "      <td>1</td>\n",
       "      <td>Cumings, Mrs. John Bradley (Florence Briggs Th...</td>\n",
       "      <td>female</td>\n",
       "      <td>38.0</td>\n",
       "      <td>1</td>\n",
       "      <td>0</td>\n",
       "      <td>PC 17599</td>\n",
       "      <td>71.2833</td>\n",
       "      <td>C85</td>\n",
       "      <td>C</td>\n",
       "      <td>4</td>\n",
       "      <td>3</td>\n",
       "    </tr>\n",
       "    <tr>\n",
       "      <th>2</th>\n",
       "      <td>3</td>\n",
       "      <td>1</td>\n",
       "      <td>3</td>\n",
       "      <td>Heikkinen, Miss. Laina</td>\n",
       "      <td>female</td>\n",
       "      <td>26.0</td>\n",
       "      <td>0</td>\n",
       "      <td>0</td>\n",
       "      <td>STON/O2. 3101282</td>\n",
       "      <td>7.9250</td>\n",
       "      <td>Unknown</td>\n",
       "      <td>S</td>\n",
       "      <td>3</td>\n",
       "      <td>2</td>\n",
       "    </tr>\n",
       "    <tr>\n",
       "      <th>3</th>\n",
       "      <td>4</td>\n",
       "      <td>1</td>\n",
       "      <td>1</td>\n",
       "      <td>Futrelle, Mrs. Jacques Heath (Lily May Peel)</td>\n",
       "      <td>female</td>\n",
       "      <td>35.0</td>\n",
       "      <td>1</td>\n",
       "      <td>0</td>\n",
       "      <td>113803</td>\n",
       "      <td>53.1000</td>\n",
       "      <td>C123</td>\n",
       "      <td>S</td>\n",
       "      <td>3</td>\n",
       "      <td>3</td>\n",
       "    </tr>\n",
       "    <tr>\n",
       "      <th>4</th>\n",
       "      <td>5</td>\n",
       "      <td>0</td>\n",
       "      <td>3</td>\n",
       "      <td>Allen, Mr. William Henry</td>\n",
       "      <td>male</td>\n",
       "      <td>35.0</td>\n",
       "      <td>0</td>\n",
       "      <td>0</td>\n",
       "      <td>373450</td>\n",
       "      <td>8.0500</td>\n",
       "      <td>Unknown</td>\n",
       "      <td>S</td>\n",
       "      <td>0</td>\n",
       "      <td>1</td>\n",
       "    </tr>\n",
       "  </tbody>\n",
       "</table>\n",
       "</div>"
      ],
      "text/plain": [
       "   PassengerId  Survived  Pclass  \\\n",
       "0            1         0       3   \n",
       "1            2         1       1   \n",
       "2            3         1       3   \n",
       "3            4         1       1   \n",
       "4            5         0       3   \n",
       "\n",
       "                                                Name     Sex   Age  SibSp  \\\n",
       "0                            Braund, Mr. Owen Harris    male  22.0      1   \n",
       "1  Cumings, Mrs. John Bradley (Florence Briggs Th...  female  38.0      1   \n",
       "2                             Heikkinen, Miss. Laina  female  26.0      0   \n",
       "3       Futrelle, Mrs. Jacques Heath (Lily May Peel)  female  35.0      1   \n",
       "4                           Allen, Mr. William Henry    male  35.0      0   \n",
       "\n",
       "   Parch            Ticket     Fare    Cabin Embarked  fold  Title  \n",
       "0      0         A/5 21171   7.2500  Unknown        S     1      1  \n",
       "1      0          PC 17599  71.2833      C85        C     4      3  \n",
       "2      0  STON/O2. 3101282   7.9250  Unknown        S     3      2  \n",
       "3      0            113803  53.1000     C123        S     3      3  \n",
       "4      0            373450   8.0500  Unknown        S     0      1  "
      ]
     },
     "execution_count": 515,
     "metadata": {},
     "output_type": "execute_result"
    }
   ],
   "source": [
    "train.head()"
   ]
  },
  {
   "cell_type": "code",
   "execution_count": 516,
   "metadata": {},
   "outputs": [
    {
     "data": {
      "text/html": [
       "<div>\n",
       "<style scoped>\n",
       "    .dataframe tbody tr th:only-of-type {\n",
       "        vertical-align: middle;\n",
       "    }\n",
       "\n",
       "    .dataframe tbody tr th {\n",
       "        vertical-align: top;\n",
       "    }\n",
       "\n",
       "    .dataframe thead th {\n",
       "        text-align: right;\n",
       "    }\n",
       "</style>\n",
       "<table border=\"1\" class=\"dataframe\">\n",
       "  <thead>\n",
       "    <tr style=\"text-align: right;\">\n",
       "      <th></th>\n",
       "      <th>PassengerId</th>\n",
       "      <th>Pclass</th>\n",
       "      <th>Name</th>\n",
       "      <th>Sex</th>\n",
       "      <th>Age</th>\n",
       "      <th>SibSp</th>\n",
       "      <th>Parch</th>\n",
       "      <th>Ticket</th>\n",
       "      <th>Fare</th>\n",
       "      <th>Cabin</th>\n",
       "      <th>Embarked</th>\n",
       "      <th>Title</th>\n",
       "    </tr>\n",
       "  </thead>\n",
       "  <tbody>\n",
       "    <tr>\n",
       "      <th>0</th>\n",
       "      <td>892</td>\n",
       "      <td>3</td>\n",
       "      <td>Kelly, Mr. James</td>\n",
       "      <td>male</td>\n",
       "      <td>34.5</td>\n",
       "      <td>0</td>\n",
       "      <td>0</td>\n",
       "      <td>330911</td>\n",
       "      <td>7.8292</td>\n",
       "      <td>Unknown</td>\n",
       "      <td>Q</td>\n",
       "      <td>1</td>\n",
       "    </tr>\n",
       "    <tr>\n",
       "      <th>1</th>\n",
       "      <td>893</td>\n",
       "      <td>3</td>\n",
       "      <td>Wilkes, Mrs. James (Ellen Needs)</td>\n",
       "      <td>female</td>\n",
       "      <td>47.0</td>\n",
       "      <td>1</td>\n",
       "      <td>0</td>\n",
       "      <td>363272</td>\n",
       "      <td>7.0000</td>\n",
       "      <td>Unknown</td>\n",
       "      <td>S</td>\n",
       "      <td>3</td>\n",
       "    </tr>\n",
       "    <tr>\n",
       "      <th>2</th>\n",
       "      <td>894</td>\n",
       "      <td>2</td>\n",
       "      <td>Myles, Mr. Thomas Francis</td>\n",
       "      <td>male</td>\n",
       "      <td>62.0</td>\n",
       "      <td>0</td>\n",
       "      <td>0</td>\n",
       "      <td>240276</td>\n",
       "      <td>9.6875</td>\n",
       "      <td>Unknown</td>\n",
       "      <td>Q</td>\n",
       "      <td>1</td>\n",
       "    </tr>\n",
       "    <tr>\n",
       "      <th>3</th>\n",
       "      <td>895</td>\n",
       "      <td>3</td>\n",
       "      <td>Wirz, Mr. Albert</td>\n",
       "      <td>male</td>\n",
       "      <td>27.0</td>\n",
       "      <td>0</td>\n",
       "      <td>0</td>\n",
       "      <td>315154</td>\n",
       "      <td>8.6625</td>\n",
       "      <td>Unknown</td>\n",
       "      <td>S</td>\n",
       "      <td>1</td>\n",
       "    </tr>\n",
       "    <tr>\n",
       "      <th>4</th>\n",
       "      <td>896</td>\n",
       "      <td>3</td>\n",
       "      <td>Hirvonen, Mrs. Alexander (Helga E Lindqvist)</td>\n",
       "      <td>female</td>\n",
       "      <td>22.0</td>\n",
       "      <td>1</td>\n",
       "      <td>1</td>\n",
       "      <td>3101298</td>\n",
       "      <td>12.2875</td>\n",
       "      <td>Unknown</td>\n",
       "      <td>S</td>\n",
       "      <td>3</td>\n",
       "    </tr>\n",
       "  </tbody>\n",
       "</table>\n",
       "</div>"
      ],
      "text/plain": [
       "   PassengerId  Pclass                                          Name     Sex  \\\n",
       "0          892       3                              Kelly, Mr. James    male   \n",
       "1          893       3              Wilkes, Mrs. James (Ellen Needs)  female   \n",
       "2          894       2                     Myles, Mr. Thomas Francis    male   \n",
       "3          895       3                              Wirz, Mr. Albert    male   \n",
       "4          896       3  Hirvonen, Mrs. Alexander (Helga E Lindqvist)  female   \n",
       "\n",
       "    Age  SibSp  Parch   Ticket     Fare    Cabin Embarked  Title  \n",
       "0  34.5      0      0   330911   7.8292  Unknown        Q      1  \n",
       "1  47.0      1      0   363272   7.0000  Unknown        S      3  \n",
       "2  62.0      0      0   240276   9.6875  Unknown        Q      1  \n",
       "3  27.0      0      0   315154   8.6625  Unknown        S      1  \n",
       "4  22.0      1      1  3101298  12.2875  Unknown        S      3  "
      ]
     },
     "execution_count": 516,
     "metadata": {},
     "output_type": "execute_result"
    }
   ],
   "source": [
    "test.head()"
   ]
  },
  {
   "cell_type": "markdown",
   "metadata": {},
   "source": [
    "#### 2.  Cut the Age and Fare column to different bins "
   ]
  },
  {
   "cell_type": "code",
   "execution_count": 517,
   "metadata": {},
   "outputs": [
    {
     "data": {
      "text/html": [
       "<div>\n",
       "<style scoped>\n",
       "    .dataframe tbody tr th:only-of-type {\n",
       "        vertical-align: middle;\n",
       "    }\n",
       "\n",
       "    .dataframe tbody tr th {\n",
       "        vertical-align: top;\n",
       "    }\n",
       "\n",
       "    .dataframe thead th {\n",
       "        text-align: right;\n",
       "    }\n",
       "</style>\n",
       "<table border=\"1\" class=\"dataframe\">\n",
       "  <thead>\n",
       "    <tr style=\"text-align: right;\">\n",
       "      <th></th>\n",
       "      <th>PassengerId</th>\n",
       "      <th>Survived</th>\n",
       "      <th>Pclass</th>\n",
       "      <th>Age</th>\n",
       "      <th>SibSp</th>\n",
       "      <th>Parch</th>\n",
       "      <th>Fare</th>\n",
       "      <th>fold</th>\n",
       "      <th>Title</th>\n",
       "    </tr>\n",
       "  </thead>\n",
       "  <tbody>\n",
       "    <tr>\n",
       "      <th>count</th>\n",
       "      <td>891.000000</td>\n",
       "      <td>891.000000</td>\n",
       "      <td>891.000000</td>\n",
       "      <td>891.000000</td>\n",
       "      <td>891.000000</td>\n",
       "      <td>891.000000</td>\n",
       "      <td>891.000000</td>\n",
       "      <td>891.000000</td>\n",
       "      <td>891.000000</td>\n",
       "    </tr>\n",
       "    <tr>\n",
       "      <th>mean</th>\n",
       "      <td>446.000000</td>\n",
       "      <td>0.383838</td>\n",
       "      <td>2.308642</td>\n",
       "      <td>23.799293</td>\n",
       "      <td>0.523008</td>\n",
       "      <td>0.381594</td>\n",
       "      <td>32.204208</td>\n",
       "      <td>1.997755</td>\n",
       "      <td>1.728395</td>\n",
       "    </tr>\n",
       "    <tr>\n",
       "      <th>std</th>\n",
       "      <td>257.353842</td>\n",
       "      <td>0.486592</td>\n",
       "      <td>0.836071</td>\n",
       "      <td>17.596074</td>\n",
       "      <td>1.102743</td>\n",
       "      <td>0.806057</td>\n",
       "      <td>49.693429</td>\n",
       "      <td>1.415800</td>\n",
       "      <td>1.030039</td>\n",
       "    </tr>\n",
       "    <tr>\n",
       "      <th>min</th>\n",
       "      <td>1.000000</td>\n",
       "      <td>0.000000</td>\n",
       "      <td>1.000000</td>\n",
       "      <td>0.000000</td>\n",
       "      <td>0.000000</td>\n",
       "      <td>0.000000</td>\n",
       "      <td>0.000000</td>\n",
       "      <td>0.000000</td>\n",
       "      <td>1.000000</td>\n",
       "    </tr>\n",
       "    <tr>\n",
       "      <th>25%</th>\n",
       "      <td>223.500000</td>\n",
       "      <td>0.000000</td>\n",
       "      <td>2.000000</td>\n",
       "      <td>6.000000</td>\n",
       "      <td>0.000000</td>\n",
       "      <td>0.000000</td>\n",
       "      <td>7.910400</td>\n",
       "      <td>1.000000</td>\n",
       "      <td>1.000000</td>\n",
       "    </tr>\n",
       "    <tr>\n",
       "      <th>50%</th>\n",
       "      <td>446.000000</td>\n",
       "      <td>0.000000</td>\n",
       "      <td>3.000000</td>\n",
       "      <td>24.000000</td>\n",
       "      <td>0.000000</td>\n",
       "      <td>0.000000</td>\n",
       "      <td>14.454200</td>\n",
       "      <td>2.000000</td>\n",
       "      <td>1.000000</td>\n",
       "    </tr>\n",
       "    <tr>\n",
       "      <th>75%</th>\n",
       "      <td>668.500000</td>\n",
       "      <td>1.000000</td>\n",
       "      <td>3.000000</td>\n",
       "      <td>35.000000</td>\n",
       "      <td>1.000000</td>\n",
       "      <td>0.000000</td>\n",
       "      <td>31.000000</td>\n",
       "      <td>3.000000</td>\n",
       "      <td>2.000000</td>\n",
       "    </tr>\n",
       "    <tr>\n",
       "      <th>max</th>\n",
       "      <td>891.000000</td>\n",
       "      <td>1.000000</td>\n",
       "      <td>3.000000</td>\n",
       "      <td>80.000000</td>\n",
       "      <td>8.000000</td>\n",
       "      <td>6.000000</td>\n",
       "      <td>512.329200</td>\n",
       "      <td>4.000000</td>\n",
       "      <td>5.000000</td>\n",
       "    </tr>\n",
       "  </tbody>\n",
       "</table>\n",
       "</div>"
      ],
      "text/plain": [
       "       PassengerId    Survived      Pclass         Age       SibSp  \\\n",
       "count   891.000000  891.000000  891.000000  891.000000  891.000000   \n",
       "mean    446.000000    0.383838    2.308642   23.799293    0.523008   \n",
       "std     257.353842    0.486592    0.836071   17.596074    1.102743   \n",
       "min       1.000000    0.000000    1.000000    0.000000    0.000000   \n",
       "25%     223.500000    0.000000    2.000000    6.000000    0.000000   \n",
       "50%     446.000000    0.000000    3.000000   24.000000    0.000000   \n",
       "75%     668.500000    1.000000    3.000000   35.000000    1.000000   \n",
       "max     891.000000    1.000000    3.000000   80.000000    8.000000   \n",
       "\n",
       "            Parch        Fare        fold       Title  \n",
       "count  891.000000  891.000000  891.000000  891.000000  \n",
       "mean     0.381594   32.204208    1.997755    1.728395  \n",
       "std      0.806057   49.693429    1.415800    1.030039  \n",
       "min      0.000000    0.000000    0.000000    1.000000  \n",
       "25%      0.000000    7.910400    1.000000    1.000000  \n",
       "50%      0.000000   14.454200    2.000000    1.000000  \n",
       "75%      0.000000   31.000000    3.000000    2.000000  \n",
       "max      6.000000  512.329200    4.000000    5.000000  "
      ]
     },
     "execution_count": 517,
     "metadata": {},
     "output_type": "execute_result"
    }
   ],
   "source": [
    "train.describe()"
   ]
  },
  {
   "cell_type": "code",
   "execution_count": 518,
   "metadata": {},
   "outputs": [
    {
     "data": {
      "text/html": [
       "<div>\n",
       "<style scoped>\n",
       "    .dataframe tbody tr th:only-of-type {\n",
       "        vertical-align: middle;\n",
       "    }\n",
       "\n",
       "    .dataframe tbody tr th {\n",
       "        vertical-align: top;\n",
       "    }\n",
       "\n",
       "    .dataframe thead th {\n",
       "        text-align: right;\n",
       "    }\n",
       "</style>\n",
       "<table border=\"1\" class=\"dataframe\">\n",
       "  <thead>\n",
       "    <tr style=\"text-align: right;\">\n",
       "      <th></th>\n",
       "      <th>PassengerId</th>\n",
       "      <th>Pclass</th>\n",
       "      <th>Age</th>\n",
       "      <th>SibSp</th>\n",
       "      <th>Parch</th>\n",
       "      <th>Fare</th>\n",
       "      <th>Title</th>\n",
       "    </tr>\n",
       "  </thead>\n",
       "  <tbody>\n",
       "    <tr>\n",
       "      <th>count</th>\n",
       "      <td>418.000000</td>\n",
       "      <td>418.000000</td>\n",
       "      <td>418.000000</td>\n",
       "      <td>418.000000</td>\n",
       "      <td>418.000000</td>\n",
       "      <td>418.000000</td>\n",
       "      <td>418.000000</td>\n",
       "    </tr>\n",
       "    <tr>\n",
       "      <th>mean</th>\n",
       "      <td>1100.500000</td>\n",
       "      <td>2.265550</td>\n",
       "      <td>24.044258</td>\n",
       "      <td>0.447368</td>\n",
       "      <td>0.392344</td>\n",
       "      <td>35.627188</td>\n",
       "      <td>1.741627</td>\n",
       "    </tr>\n",
       "    <tr>\n",
       "      <th>std</th>\n",
       "      <td>120.810458</td>\n",
       "      <td>0.841838</td>\n",
       "      <td>17.599608</td>\n",
       "      <td>0.896760</td>\n",
       "      <td>0.981429</td>\n",
       "      <td>55.840500</td>\n",
       "      <td>1.006091</td>\n",
       "    </tr>\n",
       "    <tr>\n",
       "      <th>min</th>\n",
       "      <td>892.000000</td>\n",
       "      <td>1.000000</td>\n",
       "      <td>0.000000</td>\n",
       "      <td>0.000000</td>\n",
       "      <td>0.000000</td>\n",
       "      <td>0.000000</td>\n",
       "      <td>1.000000</td>\n",
       "    </tr>\n",
       "    <tr>\n",
       "      <th>25%</th>\n",
       "      <td>996.250000</td>\n",
       "      <td>1.000000</td>\n",
       "      <td>9.000000</td>\n",
       "      <td>0.000000</td>\n",
       "      <td>0.000000</td>\n",
       "      <td>7.895800</td>\n",
       "      <td>1.000000</td>\n",
       "    </tr>\n",
       "    <tr>\n",
       "      <th>50%</th>\n",
       "      <td>1100.500000</td>\n",
       "      <td>3.000000</td>\n",
       "      <td>24.000000</td>\n",
       "      <td>0.000000</td>\n",
       "      <td>0.000000</td>\n",
       "      <td>14.454200</td>\n",
       "      <td>1.000000</td>\n",
       "    </tr>\n",
       "    <tr>\n",
       "      <th>75%</th>\n",
       "      <td>1204.750000</td>\n",
       "      <td>3.000000</td>\n",
       "      <td>35.750000</td>\n",
       "      <td>1.000000</td>\n",
       "      <td>0.000000</td>\n",
       "      <td>31.500000</td>\n",
       "      <td>2.000000</td>\n",
       "    </tr>\n",
       "    <tr>\n",
       "      <th>max</th>\n",
       "      <td>1309.000000</td>\n",
       "      <td>3.000000</td>\n",
       "      <td>76.000000</td>\n",
       "      <td>8.000000</td>\n",
       "      <td>9.000000</td>\n",
       "      <td>512.329200</td>\n",
       "      <td>5.000000</td>\n",
       "    </tr>\n",
       "  </tbody>\n",
       "</table>\n",
       "</div>"
      ],
      "text/plain": [
       "       PassengerId      Pclass         Age       SibSp       Parch  \\\n",
       "count   418.000000  418.000000  418.000000  418.000000  418.000000   \n",
       "mean   1100.500000    2.265550   24.044258    0.447368    0.392344   \n",
       "std     120.810458    0.841838   17.599608    0.896760    0.981429   \n",
       "min     892.000000    1.000000    0.000000    0.000000    0.000000   \n",
       "25%     996.250000    1.000000    9.000000    0.000000    0.000000   \n",
       "50%    1100.500000    3.000000   24.000000    0.000000    0.000000   \n",
       "75%    1204.750000    3.000000   35.750000    1.000000    0.000000   \n",
       "max    1309.000000    3.000000   76.000000    8.000000    9.000000   \n",
       "\n",
       "             Fare       Title  \n",
       "count  418.000000  418.000000  \n",
       "mean    35.627188    1.741627  \n",
       "std     55.840500    1.006091  \n",
       "min      0.000000    1.000000  \n",
       "25%      7.895800    1.000000  \n",
       "50%     14.454200    1.000000  \n",
       "75%     31.500000    2.000000  \n",
       "max    512.329200    5.000000  "
      ]
     },
     "execution_count": 518,
     "metadata": {},
     "output_type": "execute_result"
    }
   ],
   "source": [
    "test.describe()"
   ]
  },
  {
   "cell_type": "code",
   "execution_count": 519,
   "metadata": {},
   "outputs": [],
   "source": [
    "train['Fare'] = pd.qcut(train['Fare'], 10)\n",
    "test['Fare'] = pd.qcut(test['Fare'], 10)"
   ]
  },
  {
   "cell_type": "code",
   "execution_count": 520,
   "metadata": {},
   "outputs": [],
   "source": [
    "train['Age'] = pd.qcut(train['Age'], 10, duplicates='drop')\n",
    "test['Age'] = pd.qcut(test['Age'], 10, duplicates='drop')"
   ]
  },
  {
   "cell_type": "code",
   "execution_count": 521,
   "metadata": {},
   "outputs": [
    {
     "data": {
      "text/plain": [
       "numpy.int64"
      ]
     },
     "execution_count": 521,
     "metadata": {},
     "output_type": "execute_result"
    }
   ],
   "source": [
    "type(train['SibSp'][0])"
   ]
  },
  {
   "cell_type": "code",
   "execution_count": 522,
   "metadata": {},
   "outputs": [],
   "source": [
    "train['SibSp'] = pd.qcut(train['SibSp'], 4, duplicates='drop')\n",
    "test['SibSp'] = pd.qcut(test['SibSp'], 4, duplicates='drop')"
   ]
  },
  {
   "cell_type": "code",
   "execution_count": 523,
   "metadata": {},
   "outputs": [],
   "source": [
    "train['Fare'] = str(train['Fare'])\n",
    "test['Fare'] = str(test['Fare'])\n",
    "\n",
    "train['Age'] = str(train['Age'])\n",
    "test['Age'] = str(test['Age'])\n",
    "\n",
    "train['SibSp'] = str(train['SibSp'])\n",
    "test['SibSp'] = str(test['SibSp'])"
   ]
  },
  {
   "cell_type": "code",
   "execution_count": 524,
   "metadata": {},
   "outputs": [
    {
     "data": {
      "text/html": [
       "<div>\n",
       "<style scoped>\n",
       "    .dataframe tbody tr th:only-of-type {\n",
       "        vertical-align: middle;\n",
       "    }\n",
       "\n",
       "    .dataframe tbody tr th {\n",
       "        vertical-align: top;\n",
       "    }\n",
       "\n",
       "    .dataframe thead th {\n",
       "        text-align: right;\n",
       "    }\n",
       "</style>\n",
       "<table border=\"1\" class=\"dataframe\">\n",
       "  <thead>\n",
       "    <tr style=\"text-align: right;\">\n",
       "      <th></th>\n",
       "      <th>PassengerId</th>\n",
       "      <th>Survived</th>\n",
       "      <th>Pclass</th>\n",
       "      <th>Name</th>\n",
       "      <th>Sex</th>\n",
       "      <th>Age</th>\n",
       "      <th>SibSp</th>\n",
       "      <th>Parch</th>\n",
       "      <th>Ticket</th>\n",
       "      <th>Fare</th>\n",
       "      <th>Cabin</th>\n",
       "      <th>Embarked</th>\n",
       "      <th>fold</th>\n",
       "      <th>Title</th>\n",
       "    </tr>\n",
       "  </thead>\n",
       "  <tbody>\n",
       "    <tr>\n",
       "      <th>0</th>\n",
       "      <td>1</td>\n",
       "      <td>0</td>\n",
       "      <td>3</td>\n",
       "      <td>Braund, Mr. Owen Harris</td>\n",
       "      <td>male</td>\n",
       "      <td>0        (20.5, 24.0]\\n1        (32.5, 38.0]\\n...</td>\n",
       "      <td>0      (-0.001, 1.0]\\n1      (-0.001, 1.0]\\n2 ...</td>\n",
       "      <td>0</td>\n",
       "      <td>A/5 21171</td>\n",
       "      <td>0        (-0.001, 7.55]\\n1      (39.688, 77.95...</td>\n",
       "      <td>Unknown</td>\n",
       "      <td>S</td>\n",
       "      <td>1</td>\n",
       "      <td>1</td>\n",
       "    </tr>\n",
       "    <tr>\n",
       "      <th>1</th>\n",
       "      <td>2</td>\n",
       "      <td>1</td>\n",
       "      <td>1</td>\n",
       "      <td>Cumings, Mrs. John Bradley (Florence Briggs Th...</td>\n",
       "      <td>female</td>\n",
       "      <td>0        (20.5, 24.0]\\n1        (32.5, 38.0]\\n...</td>\n",
       "      <td>0      (-0.001, 1.0]\\n1      (-0.001, 1.0]\\n2 ...</td>\n",
       "      <td>0</td>\n",
       "      <td>PC 17599</td>\n",
       "      <td>0        (-0.001, 7.55]\\n1      (39.688, 77.95...</td>\n",
       "      <td>C85</td>\n",
       "      <td>C</td>\n",
       "      <td>4</td>\n",
       "      <td>3</td>\n",
       "    </tr>\n",
       "    <tr>\n",
       "      <th>2</th>\n",
       "      <td>3</td>\n",
       "      <td>1</td>\n",
       "      <td>3</td>\n",
       "      <td>Heikkinen, Miss. Laina</td>\n",
       "      <td>female</td>\n",
       "      <td>0        (20.5, 24.0]\\n1        (32.5, 38.0]\\n...</td>\n",
       "      <td>0      (-0.001, 1.0]\\n1      (-0.001, 1.0]\\n2 ...</td>\n",
       "      <td>0</td>\n",
       "      <td>STON/O2. 3101282</td>\n",
       "      <td>0        (-0.001, 7.55]\\n1      (39.688, 77.95...</td>\n",
       "      <td>Unknown</td>\n",
       "      <td>S</td>\n",
       "      <td>3</td>\n",
       "      <td>2</td>\n",
       "    </tr>\n",
       "    <tr>\n",
       "      <th>3</th>\n",
       "      <td>4</td>\n",
       "      <td>1</td>\n",
       "      <td>1</td>\n",
       "      <td>Futrelle, Mrs. Jacques Heath (Lily May Peel)</td>\n",
       "      <td>female</td>\n",
       "      <td>0        (20.5, 24.0]\\n1        (32.5, 38.0]\\n...</td>\n",
       "      <td>0      (-0.001, 1.0]\\n1      (-0.001, 1.0]\\n2 ...</td>\n",
       "      <td>0</td>\n",
       "      <td>113803</td>\n",
       "      <td>0        (-0.001, 7.55]\\n1      (39.688, 77.95...</td>\n",
       "      <td>C123</td>\n",
       "      <td>S</td>\n",
       "      <td>3</td>\n",
       "      <td>3</td>\n",
       "    </tr>\n",
       "    <tr>\n",
       "      <th>4</th>\n",
       "      <td>5</td>\n",
       "      <td>0</td>\n",
       "      <td>3</td>\n",
       "      <td>Allen, Mr. William Henry</td>\n",
       "      <td>male</td>\n",
       "      <td>0        (20.5, 24.0]\\n1        (32.5, 38.0]\\n...</td>\n",
       "      <td>0      (-0.001, 1.0]\\n1      (-0.001, 1.0]\\n2 ...</td>\n",
       "      <td>0</td>\n",
       "      <td>373450</td>\n",
       "      <td>0        (-0.001, 7.55]\\n1      (39.688, 77.95...</td>\n",
       "      <td>Unknown</td>\n",
       "      <td>S</td>\n",
       "      <td>0</td>\n",
       "      <td>1</td>\n",
       "    </tr>\n",
       "  </tbody>\n",
       "</table>\n",
       "</div>"
      ],
      "text/plain": [
       "   PassengerId  Survived  Pclass  \\\n",
       "0            1         0       3   \n",
       "1            2         1       1   \n",
       "2            3         1       3   \n",
       "3            4         1       1   \n",
       "4            5         0       3   \n",
       "\n",
       "                                                Name     Sex  \\\n",
       "0                            Braund, Mr. Owen Harris    male   \n",
       "1  Cumings, Mrs. John Bradley (Florence Briggs Th...  female   \n",
       "2                             Heikkinen, Miss. Laina  female   \n",
       "3       Futrelle, Mrs. Jacques Heath (Lily May Peel)  female   \n",
       "4                           Allen, Mr. William Henry    male   \n",
       "\n",
       "                                                 Age  \\\n",
       "0  0        (20.5, 24.0]\\n1        (32.5, 38.0]\\n...   \n",
       "1  0        (20.5, 24.0]\\n1        (32.5, 38.0]\\n...   \n",
       "2  0        (20.5, 24.0]\\n1        (32.5, 38.0]\\n...   \n",
       "3  0        (20.5, 24.0]\\n1        (32.5, 38.0]\\n...   \n",
       "4  0        (20.5, 24.0]\\n1        (32.5, 38.0]\\n...   \n",
       "\n",
       "                                               SibSp  Parch            Ticket  \\\n",
       "0  0      (-0.001, 1.0]\\n1      (-0.001, 1.0]\\n2 ...      0         A/5 21171   \n",
       "1  0      (-0.001, 1.0]\\n1      (-0.001, 1.0]\\n2 ...      0          PC 17599   \n",
       "2  0      (-0.001, 1.0]\\n1      (-0.001, 1.0]\\n2 ...      0  STON/O2. 3101282   \n",
       "3  0      (-0.001, 1.0]\\n1      (-0.001, 1.0]\\n2 ...      0            113803   \n",
       "4  0      (-0.001, 1.0]\\n1      (-0.001, 1.0]\\n2 ...      0            373450   \n",
       "\n",
       "                                                Fare    Cabin Embarked  fold  \\\n",
       "0  0        (-0.001, 7.55]\\n1      (39.688, 77.95...  Unknown        S     1   \n",
       "1  0        (-0.001, 7.55]\\n1      (39.688, 77.95...      C85        C     4   \n",
       "2  0        (-0.001, 7.55]\\n1      (39.688, 77.95...  Unknown        S     3   \n",
       "3  0        (-0.001, 7.55]\\n1      (39.688, 77.95...     C123        S     3   \n",
       "4  0        (-0.001, 7.55]\\n1      (39.688, 77.95...  Unknown        S     0   \n",
       "\n",
       "   Title  \n",
       "0      1  \n",
       "1      3  \n",
       "2      2  \n",
       "3      3  \n",
       "4      1  "
      ]
     },
     "execution_count": 524,
     "metadata": {},
     "output_type": "execute_result"
    }
   ],
   "source": [
    "train.head()"
   ]
  },
  {
   "cell_type": "code",
   "execution_count": 525,
   "metadata": {},
   "outputs": [
    {
     "data": {
      "text/html": [
       "<div>\n",
       "<style scoped>\n",
       "    .dataframe tbody tr th:only-of-type {\n",
       "        vertical-align: middle;\n",
       "    }\n",
       "\n",
       "    .dataframe tbody tr th {\n",
       "        vertical-align: top;\n",
       "    }\n",
       "\n",
       "    .dataframe thead th {\n",
       "        text-align: right;\n",
       "    }\n",
       "</style>\n",
       "<table border=\"1\" class=\"dataframe\">\n",
       "  <thead>\n",
       "    <tr style=\"text-align: right;\">\n",
       "      <th></th>\n",
       "      <th>PassengerId</th>\n",
       "      <th>Pclass</th>\n",
       "      <th>Name</th>\n",
       "      <th>Sex</th>\n",
       "      <th>Age</th>\n",
       "      <th>SibSp</th>\n",
       "      <th>Parch</th>\n",
       "      <th>Ticket</th>\n",
       "      <th>Fare</th>\n",
       "      <th>Cabin</th>\n",
       "      <th>Embarked</th>\n",
       "      <th>Title</th>\n",
       "    </tr>\n",
       "  </thead>\n",
       "  <tbody>\n",
       "    <tr>\n",
       "      <th>0</th>\n",
       "      <td>892</td>\n",
       "      <td>3</td>\n",
       "      <td>Kelly, Mr. James</td>\n",
       "      <td>male</td>\n",
       "      <td>0        (31.9, 39.0]\\n1        (39.0, 48.0]\\n...</td>\n",
       "      <td>0      (-0.001, 1.0]\\n1      (-0.001, 1.0]\\n2 ...</td>\n",
       "      <td>0</td>\n",
       "      <td>330911</td>\n",
       "      <td>0         (7.796, 8.05]\\n1       (-0.001, 7.64...</td>\n",
       "      <td>Unknown</td>\n",
       "      <td>Q</td>\n",
       "      <td>1</td>\n",
       "    </tr>\n",
       "    <tr>\n",
       "      <th>1</th>\n",
       "      <td>893</td>\n",
       "      <td>3</td>\n",
       "      <td>Wilkes, Mrs. James (Ellen Needs)</td>\n",
       "      <td>female</td>\n",
       "      <td>0        (31.9, 39.0]\\n1        (39.0, 48.0]\\n...</td>\n",
       "      <td>0      (-0.001, 1.0]\\n1      (-0.001, 1.0]\\n2 ...</td>\n",
       "      <td>0</td>\n",
       "      <td>363272</td>\n",
       "      <td>0         (7.796, 8.05]\\n1       (-0.001, 7.64...</td>\n",
       "      <td>Unknown</td>\n",
       "      <td>S</td>\n",
       "      <td>3</td>\n",
       "    </tr>\n",
       "    <tr>\n",
       "      <th>2</th>\n",
       "      <td>894</td>\n",
       "      <td>2</td>\n",
       "      <td>Myles, Mr. Thomas Francis</td>\n",
       "      <td>male</td>\n",
       "      <td>0        (31.9, 39.0]\\n1        (39.0, 48.0]\\n...</td>\n",
       "      <td>0      (-0.001, 1.0]\\n1      (-0.001, 1.0]\\n2 ...</td>\n",
       "      <td>0</td>\n",
       "      <td>240276</td>\n",
       "      <td>0         (7.796, 8.05]\\n1       (-0.001, 7.64...</td>\n",
       "      <td>Unknown</td>\n",
       "      <td>Q</td>\n",
       "      <td>1</td>\n",
       "    </tr>\n",
       "    <tr>\n",
       "      <th>3</th>\n",
       "      <td>895</td>\n",
       "      <td>3</td>\n",
       "      <td>Wirz, Mr. Albert</td>\n",
       "      <td>male</td>\n",
       "      <td>0        (31.9, 39.0]\\n1        (39.0, 48.0]\\n...</td>\n",
       "      <td>0      (-0.001, 1.0]\\n1      (-0.001, 1.0]\\n2 ...</td>\n",
       "      <td>0</td>\n",
       "      <td>315154</td>\n",
       "      <td>0         (7.796, 8.05]\\n1       (-0.001, 7.64...</td>\n",
       "      <td>Unknown</td>\n",
       "      <td>S</td>\n",
       "      <td>1</td>\n",
       "    </tr>\n",
       "    <tr>\n",
       "      <th>4</th>\n",
       "      <td>896</td>\n",
       "      <td>3</td>\n",
       "      <td>Hirvonen, Mrs. Alexander (Helga E Lindqvist)</td>\n",
       "      <td>female</td>\n",
       "      <td>0        (31.9, 39.0]\\n1        (39.0, 48.0]\\n...</td>\n",
       "      <td>0      (-0.001, 1.0]\\n1      (-0.001, 1.0]\\n2 ...</td>\n",
       "      <td>1</td>\n",
       "      <td>3101298</td>\n",
       "      <td>0         (7.796, 8.05]\\n1       (-0.001, 7.64...</td>\n",
       "      <td>Unknown</td>\n",
       "      <td>S</td>\n",
       "      <td>3</td>\n",
       "    </tr>\n",
       "  </tbody>\n",
       "</table>\n",
       "</div>"
      ],
      "text/plain": [
       "   PassengerId  Pclass                                          Name     Sex  \\\n",
       "0          892       3                              Kelly, Mr. James    male   \n",
       "1          893       3              Wilkes, Mrs. James (Ellen Needs)  female   \n",
       "2          894       2                     Myles, Mr. Thomas Francis    male   \n",
       "3          895       3                              Wirz, Mr. Albert    male   \n",
       "4          896       3  Hirvonen, Mrs. Alexander (Helga E Lindqvist)  female   \n",
       "\n",
       "                                                 Age  \\\n",
       "0  0        (31.9, 39.0]\\n1        (39.0, 48.0]\\n...   \n",
       "1  0        (31.9, 39.0]\\n1        (39.0, 48.0]\\n...   \n",
       "2  0        (31.9, 39.0]\\n1        (39.0, 48.0]\\n...   \n",
       "3  0        (31.9, 39.0]\\n1        (39.0, 48.0]\\n...   \n",
       "4  0        (31.9, 39.0]\\n1        (39.0, 48.0]\\n...   \n",
       "\n",
       "                                               SibSp  Parch   Ticket  \\\n",
       "0  0      (-0.001, 1.0]\\n1      (-0.001, 1.0]\\n2 ...      0   330911   \n",
       "1  0      (-0.001, 1.0]\\n1      (-0.001, 1.0]\\n2 ...      0   363272   \n",
       "2  0      (-0.001, 1.0]\\n1      (-0.001, 1.0]\\n2 ...      0   240276   \n",
       "3  0      (-0.001, 1.0]\\n1      (-0.001, 1.0]\\n2 ...      0   315154   \n",
       "4  0      (-0.001, 1.0]\\n1      (-0.001, 1.0]\\n2 ...      1  3101298   \n",
       "\n",
       "                                                Fare    Cabin Embarked  Title  \n",
       "0  0         (7.796, 8.05]\\n1       (-0.001, 7.64...  Unknown        Q      1  \n",
       "1  0         (7.796, 8.05]\\n1       (-0.001, 7.64...  Unknown        S      3  \n",
       "2  0         (7.796, 8.05]\\n1       (-0.001, 7.64...  Unknown        Q      1  \n",
       "3  0         (7.796, 8.05]\\n1       (-0.001, 7.64...  Unknown        S      1  \n",
       "4  0         (7.796, 8.05]\\n1       (-0.001, 7.64...  Unknown        S      3  "
      ]
     },
     "execution_count": 525,
     "metadata": {},
     "output_type": "execute_result"
    }
   ],
   "source": [
    "test.head()"
   ]
  },
  {
   "cell_type": "markdown",
   "metadata": {},
   "source": [
    "## Label Encoding"
   ]
  },
  {
   "cell_type": "code",
   "execution_count": 526,
   "metadata": {},
   "outputs": [],
   "source": [
    "# train.Name = train.Name.str.extract('([A-Za-z]+)\\.', expand=False)\n",
    "# test.Name = test.Name.str.extract('([A-Za-z]+)\\.', expand=False)"
   ]
  },
  {
   "cell_type": "code",
   "execution_count": 527,
   "metadata": {},
   "outputs": [],
   "source": [
    "train = train.drop('Name', axis=1)\n",
    "test = test.drop('Name', axis=1)"
   ]
  },
  {
   "cell_type": "code",
   "execution_count": 528,
   "metadata": {},
   "outputs": [],
   "source": [
    "train = train.drop('PassengerId', axis=1)\n",
    "test = test.drop('PassengerId', axis=1)"
   ]
  },
  {
   "cell_type": "code",
   "execution_count": 529,
   "metadata": {},
   "outputs": [],
   "source": [
    "train, test = label_encoding(train, test, ['Sex', 'Ticket', 'Cabin', 'Embarked', 'Age', 'Fare', 'SibSp'] )"
   ]
  },
  {
   "cell_type": "markdown",
   "metadata": {},
   "source": [
    "# Building Model"
   ]
  },
  {
   "cell_type": "markdown",
   "metadata": {},
   "source": [
    "## LGB"
   ]
  },
  {
   "cell_type": "code",
   "execution_count": 530,
   "metadata": {},
   "outputs": [],
   "source": [
    "def optuna_lgb(n_trials=100):\n",
    "    \n",
    "    def objective(trial):\n",
    "\n",
    "        params = {\n",
    "            \"objective\": \"binary\",\n",
    "            \"metric\": \"binary_logloss\",\n",
    "            \"verbosity\": -1,\n",
    "            \"boosting_type\": \"gbdt\",\n",
    "            \"lambda_l1\": trial.suggest_float(\"lambda_l1\", 1e-5, 10, log=True),\n",
    "            \"lambda_l2\": trial.suggest_float(\"lambda_l2\", 1e-5, 10, log=True),\n",
    "            \"num_leaves\": trial.suggest_int(\"num_leaves\", 2, 62),\n",
    "            \"feature_fraction\": trial.suggest_float(\"feature_fraction\", 0.4, 0.9),\n",
    "            \"bagging_fraction\": trial.suggest_float(\"bagging_fraction\", 0.4, 0.9),\n",
    "            \"bagging_freq\": trial.suggest_int(\"bagging_freq\", 2, 9),\n",
    "            \"min_child_samples\": trial.suggest_int(\"min_child_samples\", 33, 93),\n",
    "            \"max_depth\": trial.suggest_int(\"max_depth\", 2, 7)\n",
    "        }\n",
    "\n",
    "        # initialize oof \n",
    "        oof_train = np.zeros((len(train),))\n",
    "\n",
    "        for i in range(5):\n",
    "            train_x = train.query(f'fold!={i}').drop(['fold', 'Survived'], axis=1)\n",
    "            train_y = train.query(f'fold!={i}').Survived\n",
    "\n",
    "            valid_x = train.query(f'fold=={i}').drop(['fold', 'Survived'], axis=1)\n",
    "            valid_y = train.query(f'fold=={i}').Survived\n",
    "            \n",
    "            lgb_train = lgb.Dataset(train_x,\n",
    "                                    train_y)\n",
    "\n",
    "            lgb_eval = lgb.Dataset(valid_x,\n",
    "                                   valid_y,\n",
    "                                   reference=lgb_train)\n",
    "\n",
    "            gbm = lgb.train(params,\n",
    "                            lgb_train,\n",
    "                            valid_sets=[lgb_train, lgb_eval],\n",
    "                            num_boost_round=5000,\n",
    "                            verbose_eval=-1, \n",
    "                            early_stopping_rounds=1000\n",
    "                            )\n",
    "            oof_preds = gbm.predict(valid_x, num_iteration=gbm.best_iteration)\n",
    "            oof_train[valid_x.index] = gbm.predict(valid_x,\n",
    "                                                   num_iteration=gbm.best_iteration)\n",
    "            \n",
    "            \n",
    "        return accuracy_score(train.Survived, oof_train.round())\n",
    "    \n",
    "    study = optuna.create_study(direction=\"maximize\")\n",
    "    study.optimize(objective, n_trials=n_trials)\n",
    "\n",
    "    print(\"Number of finished trials: {}\".format(len(study.trials)))\n",
    "\n",
    "    print(\"Best trial:\")\n",
    "    trial = study.best_trial\n",
    "\n",
    "    print(\"  Value: {}\".format(trial.value))\n",
    "\n",
    "    print(\"  Params: \")\n",
    "    for key, value in trial.params.items():\n",
    "        print(\"    {}: {}\".format(key, value))\n",
    "    \n",
    "    best_params = {\n",
    "        \"objective\": \"binary\",\n",
    "        \"metric\": \"binary_logloss\",\n",
    "        \"verbosity\": -1,\n",
    "        \"boosting_type\": \"gbdt\",\n",
    "    }\n",
    "    best_params.update(study.best_params)\n",
    "    ## save trained model\n",
    "    # initialize oof \n",
    "    oof_train = np.zeros((len(train),))\n",
    "    print('*'*50)\n",
    "    print('Exporting best models')\n",
    "    print('*' * 50)\n",
    "    # split folds using RSGKF\n",
    "    for i in range(5):\n",
    "        train_x = train.query(f'fold!={i}').drop(['fold', 'Survived'], axis=1)\n",
    "        train_y = train.query(f'fold!={i}').Survived\n",
    "\n",
    "        valid_x = train.query(f'fold=={i}').drop(['fold', 'Survived'], axis=1)\n",
    "        valid_y = train.query(f'fold=={i}').Survived\n",
    "\n",
    "        lgb_train = lgb.Dataset(train_x,\n",
    "                                train_y)\n",
    "\n",
    "        lgb_eval = lgb.Dataset(valid_x,\n",
    "                               valid_y,\n",
    "                               reference=lgb_train)\n",
    "\n",
    "        gbm = lgb.train(best_params,\n",
    "                        lgb_train,\n",
    "                        valid_sets=[lgb_train, lgb_eval],\n",
    "                        num_boost_round=50000,\n",
    "                        verbose_eval=-1, \n",
    "                        early_stopping_rounds=1001\n",
    "                        )\n",
    "\n",
    "        oof_preds = gbm.predict(valid_x, num_iteration=gbm.best_iteration)\n",
    "        oof_train[valid_x.index] = gbm.predict(valid_x, num_iteration=gbm.best_iteration)\n",
    "\n",
    "        joblib.dump(gbm, f'lgb_fold{i}.pkl')"
   ]
  },
  {
   "cell_type": "code",
   "execution_count": 531,
   "metadata": {},
   "outputs": [
    {
     "name": "stderr",
     "output_type": "stream",
     "text": [
      "\u001b[32m[I 2021-09-29 21:38:03,817]\u001b[0m A new study created in memory with name: no-name-b97fd285-858b-4895-a5e7-8865f0ca1b89\u001b[0m\n"
     ]
    },
    {
     "name": "stdout",
     "output_type": "stream",
     "text": [
      "Training until validation scores don't improve for 1000 rounds\n",
      "Early stopping, best iteration is:\n",
      "[994]\ttraining's binary_logloss: 0.311942\tvalid_1's binary_logloss: 0.418485\n",
      "Training until validation scores don't improve for 1000 rounds\n",
      "Early stopping, best iteration is:\n",
      "[534]\ttraining's binary_logloss: 0.343015\tvalid_1's binary_logloss: 0.397548\n",
      "Training until validation scores don't improve for 1000 rounds\n",
      "Early stopping, best iteration is:\n",
      "[289]\ttraining's binary_logloss: 0.35012\tvalid_1's binary_logloss: 0.458008\n",
      "Training until validation scores don't improve for 1000 rounds\n",
      "Early stopping, best iteration is:\n",
      "[249]\ttraining's binary_logloss: 0.363511\tvalid_1's binary_logloss: 0.41981\n",
      "Training until validation scores don't improve for 1000 rounds\n"
     ]
    },
    {
     "name": "stderr",
     "output_type": "stream",
     "text": [
      "\u001b[32m[I 2021-09-29 21:38:06,683]\u001b[0m Trial 0 finished with value: 0.8204264870931538 and parameters: {'lambda_l1': 0.005794033851821291, 'lambda_l2': 0.03875277016641211, 'num_leaves': 13, 'feature_fraction': 0.5837671818536389, 'bagging_fraction': 0.7176192754707575, 'bagging_freq': 7, 'min_child_samples': 81, 'max_depth': 7}. Best is trial 0 with value: 0.8204264870931538.\u001b[0m\n"
     ]
    },
    {
     "name": "stdout",
     "output_type": "stream",
     "text": [
      "Early stopping, best iteration is:\n",
      "[43]\ttraining's binary_logloss: 0.419704\tvalid_1's binary_logloss: 0.426858\n",
      "Training until validation scores don't improve for 1000 rounds\n",
      "Early stopping, best iteration is:\n",
      "[1388]\ttraining's binary_logloss: 0.327017\tvalid_1's binary_logloss: 0.414966\n",
      "Training until validation scores don't improve for 1000 rounds\n",
      "Early stopping, best iteration is:\n",
      "[645]\ttraining's binary_logloss: 0.360907\tvalid_1's binary_logloss: 0.401099\n",
      "Training until validation scores don't improve for 1000 rounds\n",
      "Early stopping, best iteration is:\n",
      "[287]\ttraining's binary_logloss: 0.373856\tvalid_1's binary_logloss: 0.45912\n",
      "Training until validation scores don't improve for 1000 rounds\n",
      "Early stopping, best iteration is:\n",
      "[1106]\ttraining's binary_logloss: 0.329146\tvalid_1's binary_logloss: 0.424297\n",
      "Training until validation scores don't improve for 1000 rounds\n"
     ]
    },
    {
     "name": "stderr",
     "output_type": "stream",
     "text": [
      "\u001b[32m[I 2021-09-29 21:38:09,220]\u001b[0m Trial 1 finished with value: 0.8181818181818182 and parameters: {'lambda_l1': 0.0003872498601730089, 'lambda_l2': 1.910334391808761, 'num_leaves': 6, 'feature_fraction': 0.43117693479123564, 'bagging_fraction': 0.7432071402574179, 'bagging_freq': 7, 'min_child_samples': 92, 'max_depth': 4}. Best is trial 0 with value: 0.8204264870931538.\u001b[0m\n"
     ]
    },
    {
     "name": "stdout",
     "output_type": "stream",
     "text": [
      "Early stopping, best iteration is:\n",
      "[45]\ttraining's binary_logloss: 0.431121\tvalid_1's binary_logloss: 0.425601\n",
      "Training until validation scores don't improve for 1000 rounds\n",
      "Early stopping, best iteration is:\n",
      "[1183]\ttraining's binary_logloss: 0.296574\tvalid_1's binary_logloss: 0.413874\n",
      "Training until validation scores don't improve for 1000 rounds\n",
      "Early stopping, best iteration is:\n",
      "[448]\ttraining's binary_logloss: 0.351701\tvalid_1's binary_logloss: 0.394168\n",
      "Training until validation scores don't improve for 1000 rounds\n",
      "Early stopping, best iteration is:\n",
      "[217]\ttraining's binary_logloss: 0.363863\tvalid_1's binary_logloss: 0.442454\n",
      "Training until validation scores don't improve for 1000 rounds\n",
      "Early stopping, best iteration is:\n",
      "[106]\ttraining's binary_logloss: 0.39433\tvalid_1's binary_logloss: 0.420241\n",
      "Training until validation scores don't improve for 1000 rounds\n"
     ]
    },
    {
     "name": "stderr",
     "output_type": "stream",
     "text": [
      "\u001b[32m[I 2021-09-29 21:38:12,428]\u001b[0m Trial 2 finished with value: 0.819304152637486 and parameters: {'lambda_l1': 0.0019901172190423377, 'lambda_l2': 3.513886564336787, 'num_leaves': 18, 'feature_fraction': 0.5669373344608551, 'bagging_fraction': 0.47310539336367785, 'bagging_freq': 8, 'min_child_samples': 44, 'max_depth': 5}. Best is trial 0 with value: 0.8204264870931538.\u001b[0m\n"
     ]
    },
    {
     "name": "stdout",
     "output_type": "stream",
     "text": [
      "Early stopping, best iteration is:\n",
      "[96]\ttraining's binary_logloss: 0.400298\tvalid_1's binary_logloss: 0.416162\n",
      "Training until validation scores don't improve for 1000 rounds\n",
      "Early stopping, best iteration is:\n",
      "[284]\ttraining's binary_logloss: 0.361785\tvalid_1's binary_logloss: 0.418735\n",
      "Training until validation scores don't improve for 1000 rounds\n",
      "Early stopping, best iteration is:\n",
      "[417]\ttraining's binary_logloss: 0.352966\tvalid_1's binary_logloss: 0.391848\n",
      "Training until validation scores don't improve for 1000 rounds\n",
      "Early stopping, best iteration is:\n",
      "[308]\ttraining's binary_logloss: 0.352255\tvalid_1's binary_logloss: 0.449818\n",
      "Training until validation scores don't improve for 1000 rounds\n",
      "Early stopping, best iteration is:\n",
      "[156]\ttraining's binary_logloss: 0.382438\tvalid_1's binary_logloss: 0.422387\n",
      "Training until validation scores don't improve for 1000 rounds\n"
     ]
    },
    {
     "name": "stderr",
     "output_type": "stream",
     "text": [
      "\u001b[32m[I 2021-09-29 21:38:14,628]\u001b[0m Trial 3 finished with value: 0.8159371492704826 and parameters: {'lambda_l1': 8.11011097237839e-05, 'lambda_l2': 2.481060442748116, 'num_leaves': 20, 'feature_fraction': 0.6561042955496552, 'bagging_fraction': 0.8802110037087176, 'bagging_freq': 2, 'min_child_samples': 89, 'max_depth': 3}. Best is trial 0 with value: 0.8204264870931538.\u001b[0m\n"
     ]
    },
    {
     "name": "stdout",
     "output_type": "stream",
     "text": [
      "Early stopping, best iteration is:\n",
      "[44]\ttraining's binary_logloss: 0.414673\tvalid_1's binary_logloss: 0.426501\n",
      "Training until validation scores don't improve for 1000 rounds\n",
      "Early stopping, best iteration is:\n",
      "[212]\ttraining's binary_logloss: 0.367304\tvalid_1's binary_logloss: 0.418824\n",
      "Training until validation scores don't improve for 1000 rounds\n",
      "Early stopping, best iteration is:\n",
      "[686]\ttraining's binary_logloss: 0.319473\tvalid_1's binary_logloss: 0.392013\n",
      "Training until validation scores don't improve for 1000 rounds\n",
      "Early stopping, best iteration is:\n",
      "[360]\ttraining's binary_logloss: 0.338689\tvalid_1's binary_logloss: 0.445362\n",
      "Training until validation scores don't improve for 1000 rounds\n",
      "Early stopping, best iteration is:\n",
      "[114]\ttraining's binary_logloss: 0.389466\tvalid_1's binary_logloss: 0.430279\n",
      "Training until validation scores don't improve for 1000 rounds\n"
     ]
    },
    {
     "name": "stderr",
     "output_type": "stream",
     "text": [
      "\u001b[32m[I 2021-09-29 21:38:16,907]\u001b[0m Trial 4 finished with value: 0.813692480359147 and parameters: {'lambda_l1': 0.0001326988094011218, 'lambda_l2': 0.6602327103004761, 'num_leaves': 40, 'feature_fraction': 0.5769834430281032, 'bagging_fraction': 0.6258607613937941, 'bagging_freq': 9, 'min_child_samples': 64, 'max_depth': 7}. Best is trial 0 with value: 0.8204264870931538.\u001b[0m\n"
     ]
    },
    {
     "name": "stdout",
     "output_type": "stream",
     "text": [
      "Early stopping, best iteration is:\n",
      "[45]\ttraining's binary_logloss: 0.417638\tvalid_1's binary_logloss: 0.422466\n",
      "Training until validation scores don't improve for 1000 rounds\n",
      "Early stopping, best iteration is:\n",
      "[62]\ttraining's binary_logloss: 0.364148\tvalid_1's binary_logloss: 0.418402\n",
      "Training until validation scores don't improve for 1000 rounds\n",
      "Early stopping, best iteration is:\n",
      "[115]\ttraining's binary_logloss: 0.342969\tvalid_1's binary_logloss: 0.404454\n",
      "Training until validation scores don't improve for 1000 rounds\n",
      "Early stopping, best iteration is:\n",
      "[73]\ttraining's binary_logloss: 0.353749\tvalid_1's binary_logloss: 0.45321\n",
      "Training until validation scores don't improve for 1000 rounds\n",
      "Early stopping, best iteration is:\n",
      "[159]\ttraining's binary_logloss: 0.317102\tvalid_1's binary_logloss: 0.415097\n",
      "Training until validation scores don't improve for 1000 rounds\n"
     ]
    },
    {
     "name": "stderr",
     "output_type": "stream",
     "text": [
      "\u001b[32m[I 2021-09-29 21:38:19,583]\u001b[0m Trial 5 finished with value: 0.8237934904601572 and parameters: {'lambda_l1': 3.612896817733853e-05, 'lambda_l2': 0.00017694528151525587, 'num_leaves': 21, 'feature_fraction': 0.42223511947131376, 'bagging_fraction': 0.863878071990066, 'bagging_freq': 5, 'min_child_samples': 39, 'max_depth': 7}. Best is trial 5 with value: 0.8237934904601572.\u001b[0m\n"
     ]
    },
    {
     "name": "stdout",
     "output_type": "stream",
     "text": [
      "Early stopping, best iteration is:\n",
      "[32]\ttraining's binary_logloss: 0.396456\tvalid_1's binary_logloss: 0.426065\n",
      "Training until validation scores don't improve for 1000 rounds\n",
      "Early stopping, best iteration is:\n",
      "[428]\ttraining's binary_logloss: 0.33881\tvalid_1's binary_logloss: 0.416191\n",
      "Training until validation scores don't improve for 1000 rounds\n",
      "Early stopping, best iteration is:\n",
      "[225]\ttraining's binary_logloss: 0.369193\tvalid_1's binary_logloss: 0.389984\n",
      "Training until validation scores don't improve for 1000 rounds\n",
      "Early stopping, best iteration is:\n",
      "[306]\ttraining's binary_logloss: 0.345276\tvalid_1's binary_logloss: 0.450454\n",
      "Training until validation scores don't improve for 1000 rounds\n",
      "Early stopping, best iteration is:\n",
      "[516]\ttraining's binary_logloss: 0.327795\tvalid_1's binary_logloss: 0.41651\n",
      "Training until validation scores don't improve for 1000 rounds\n"
     ]
    },
    {
     "name": "stderr",
     "output_type": "stream",
     "text": [
      "\u001b[32m[I 2021-09-29 21:38:22,160]\u001b[0m Trial 6 finished with value: 0.8181818181818182 and parameters: {'lambda_l1': 0.0022006000610266373, 'lambda_l2': 0.00937876644920131, 'num_leaves': 54, 'feature_fraction': 0.531902779068537, 'bagging_fraction': 0.7576790070873749, 'bagging_freq': 3, 'min_child_samples': 71, 'max_depth': 3}. Best is trial 5 with value: 0.8237934904601572.\u001b[0m\n"
     ]
    },
    {
     "name": "stdout",
     "output_type": "stream",
     "text": [
      "Early stopping, best iteration is:\n",
      "[74]\ttraining's binary_logloss: 0.396958\tvalid_1's binary_logloss: 0.421534\n",
      "Training until validation scores don't improve for 1000 rounds\n",
      "Early stopping, best iteration is:\n",
      "[162]\ttraining's binary_logloss: 0.391515\tvalid_1's binary_logloss: 0.42027\n",
      "Training until validation scores don't improve for 1000 rounds\n",
      "Early stopping, best iteration is:\n",
      "[452]\ttraining's binary_logloss: 0.367988\tvalid_1's binary_logloss: 0.396316\n",
      "Training until validation scores don't improve for 1000 rounds\n",
      "Early stopping, best iteration is:\n",
      "[176]\ttraining's binary_logloss: 0.378142\tvalid_1's binary_logloss: 0.455427\n",
      "Training until validation scores don't improve for 1000 rounds\n",
      "Early stopping, best iteration is:\n",
      "[334]\ttraining's binary_logloss: 0.372764\tvalid_1's binary_logloss: 0.407043\n",
      "Training until validation scores don't improve for 1000 rounds\n"
     ]
    },
    {
     "name": "stderr",
     "output_type": "stream",
     "text": [
      "\u001b[32m[I 2021-09-29 21:38:24,489]\u001b[0m Trial 7 finished with value: 0.8170594837261503 and parameters: {'lambda_l1': 0.5029777698321681, 'lambda_l2': 8.738996424482629, 'num_leaves': 20, 'feature_fraction': 0.6101819954993313, 'bagging_fraction': 0.7228724801365564, 'bagging_freq': 6, 'min_child_samples': 41, 'max_depth': 2}. Best is trial 5 with value: 0.8237934904601572.\u001b[0m\n"
     ]
    },
    {
     "name": "stdout",
     "output_type": "stream",
     "text": [
      "Early stopping, best iteration is:\n",
      "[41]\ttraining's binary_logloss: 0.426182\tvalid_1's binary_logloss: 0.418626\n",
      "Training until validation scores don't improve for 1000 rounds\n",
      "Early stopping, best iteration is:\n",
      "[677]\ttraining's binary_logloss: 0.361936\tvalid_1's binary_logloss: 0.420055\n",
      "Training until validation scores don't improve for 1000 rounds\n",
      "Early stopping, best iteration is:\n",
      "[950]\ttraining's binary_logloss: 0.353824\tvalid_1's binary_logloss: 0.39255\n",
      "Training until validation scores don't improve for 1000 rounds\n",
      "Early stopping, best iteration is:\n",
      "[1063]\ttraining's binary_logloss: 0.334933\tvalid_1's binary_logloss: 0.446048\n",
      "Training until validation scores don't improve for 1000 rounds\n",
      "Early stopping, best iteration is:\n",
      "[1194]\ttraining's binary_logloss: 0.336411\tvalid_1's binary_logloss: 0.426649\n",
      "Training until validation scores don't improve for 1000 rounds\n"
     ]
    },
    {
     "name": "stderr",
     "output_type": "stream",
     "text": [
      "\u001b[32m[I 2021-09-29 21:38:27,751]\u001b[0m Trial 8 finished with value: 0.8159371492704826 and parameters: {'lambda_l1': 1.6994305588078147, 'lambda_l2': 0.15602537273350517, 'num_leaves': 36, 'feature_fraction': 0.40832976633282014, 'bagging_fraction': 0.5989489289495991, 'bagging_freq': 5, 'min_child_samples': 63, 'max_depth': 5}. Best is trial 5 with value: 0.8237934904601572.\u001b[0m\n"
     ]
    },
    {
     "name": "stdout",
     "output_type": "stream",
     "text": [
      "Early stopping, best iteration is:\n",
      "[363]\ttraining's binary_logloss: 0.382621\tvalid_1's binary_logloss: 0.424216\n",
      "Training until validation scores don't improve for 1000 rounds\n",
      "Early stopping, best iteration is:\n",
      "[296]\ttraining's binary_logloss: 0.421423\tvalid_1's binary_logloss: 0.428367\n",
      "Training until validation scores don't improve for 1000 rounds\n",
      "Early stopping, best iteration is:\n",
      "[624]\ttraining's binary_logloss: 0.394711\tvalid_1's binary_logloss: 0.42257\n",
      "Training until validation scores don't improve for 1000 rounds\n",
      "Early stopping, best iteration is:\n",
      "[462]\ttraining's binary_logloss: 0.396707\tvalid_1's binary_logloss: 0.451215\n",
      "Training until validation scores don't improve for 1000 rounds\n",
      "Early stopping, best iteration is:\n",
      "[628]\ttraining's binary_logloss: 0.394983\tvalid_1's binary_logloss: 0.435798\n",
      "Training until validation scores don't improve for 1000 rounds\n"
     ]
    },
    {
     "name": "stderr",
     "output_type": "stream",
     "text": [
      "\u001b[32m[I 2021-09-29 21:38:30,160]\u001b[0m Trial 9 finished with value: 0.8035914702581369 and parameters: {'lambda_l1': 4.403431680202815e-05, 'lambda_l2': 0.017175231033675704, 'num_leaves': 48, 'feature_fraction': 0.7935660601254171, 'bagging_fraction': 0.40112072639560653, 'bagging_freq': 8, 'min_child_samples': 85, 'max_depth': 6}. Best is trial 5 with value: 0.8237934904601572.\u001b[0m\n"
     ]
    },
    {
     "name": "stdout",
     "output_type": "stream",
     "text": [
      "Early stopping, best iteration is:\n",
      "[98]\ttraining's binary_logloss: 0.446074\tvalid_1's binary_logloss: 0.417147\n",
      "Training until validation scores don't improve for 1000 rounds\n",
      "Early stopping, best iteration is:\n",
      "[26]\ttraining's binary_logloss: 0.388153\tvalid_1's binary_logloss: 0.409003\n",
      "Training until validation scores don't improve for 1000 rounds\n",
      "Early stopping, best iteration is:\n",
      "[76]\ttraining's binary_logloss: 0.322997\tvalid_1's binary_logloss: 0.407692\n",
      "Training until validation scores don't improve for 1000 rounds\n",
      "Early stopping, best iteration is:\n",
      "[24]\ttraining's binary_logloss: 0.384508\tvalid_1's binary_logloss: 0.462363\n",
      "Training until validation scores don't improve for 1000 rounds\n",
      "Early stopping, best iteration is:\n",
      "[75]\ttraining's binary_logloss: 0.318298\tvalid_1's binary_logloss: 0.407109\n",
      "Training until validation scores don't improve for 1000 rounds\n"
     ]
    },
    {
     "name": "stderr",
     "output_type": "stream",
     "text": [
      "\u001b[32m[I 2021-09-29 21:38:33,262]\u001b[0m Trial 10 finished with value: 0.8125701459034792 and parameters: {'lambda_l1': 0.13345228092809153, 'lambda_l2': 7.458197091301831e-05, 'num_leaves': 29, 'feature_fraction': 0.8711522057306147, 'bagging_fraction': 0.8915524610246989, 'bagging_freq': 4, 'min_child_samples': 33, 'max_depth': 7}. Best is trial 5 with value: 0.8237934904601572.\u001b[0m\n"
     ]
    },
    {
     "name": "stdout",
     "output_type": "stream",
     "text": [
      "Early stopping, best iteration is:\n",
      "[24]\ttraining's binary_logloss: 0.38945\tvalid_1's binary_logloss: 0.427807\n",
      "Training until validation scores don't improve for 1000 rounds\n",
      "Early stopping, best iteration is:\n",
      "[696]\ttraining's binary_logloss: 0.320702\tvalid_1's binary_logloss: 0.419322\n",
      "Training until validation scores don't improve for 1000 rounds\n",
      "Early stopping, best iteration is:\n",
      "[450]\ttraining's binary_logloss: 0.344573\tvalid_1's binary_logloss: 0.386198\n",
      "Training until validation scores don't improve for 1000 rounds\n",
      "Early stopping, best iteration is:\n",
      "[263]\ttraining's binary_logloss: 0.354175\tvalid_1's binary_logloss: 0.457214\n",
      "Training until validation scores don't improve for 1000 rounds\n",
      "Early stopping, best iteration is:\n",
      "[444]\ttraining's binary_logloss: 0.335762\tvalid_1's binary_logloss: 0.421292\n",
      "Training until validation scores don't improve for 1000 rounds\n"
     ]
    },
    {
     "name": "stderr",
     "output_type": "stream",
     "text": [
      "\u001b[32m[I 2021-09-29 21:38:36,055]\u001b[0m Trial 11 finished with value: 0.819304152637486 and parameters: {'lambda_l1': 0.045262000294122445, 'lambda_l2': 7.743784966286098e-05, 'num_leaves': 11, 'feature_fraction': 0.4905087877771776, 'bagging_fraction': 0.8327101893691944, 'bagging_freq': 6, 'min_child_samples': 78, 'max_depth': 7}. Best is trial 5 with value: 0.8237934904601572.\u001b[0m\n"
     ]
    },
    {
     "name": "stdout",
     "output_type": "stream",
     "text": [
      "Early stopping, best iteration is:\n",
      "[32]\ttraining's binary_logloss: 0.428025\tvalid_1's binary_logloss: 0.426559\n",
      "Training until validation scores don't improve for 1000 rounds\n",
      "Early stopping, best iteration is:\n",
      "[78]\ttraining's binary_logloss: 0.378466\tvalid_1's binary_logloss: 0.414644\n",
      "Training until validation scores don't improve for 1000 rounds\n",
      "Early stopping, best iteration is:\n",
      "[65]\ttraining's binary_logloss: 0.386718\tvalid_1's binary_logloss: 0.409675\n",
      "Training until validation scores don't improve for 1000 rounds\n",
      "Early stopping, best iteration is:\n",
      "[139]\ttraining's binary_logloss: 0.348962\tvalid_1's binary_logloss: 0.461114\n",
      "Training until validation scores don't improve for 1000 rounds\n",
      "Early stopping, best iteration is:\n",
      "[70]\ttraining's binary_logloss: 0.381654\tvalid_1's binary_logloss: 0.411963\n",
      "Training until validation scores don't improve for 1000 rounds\n"
     ]
    },
    {
     "name": "stderr",
     "output_type": "stream",
     "text": [
      "\u001b[32m[I 2021-09-29 21:38:38,702]\u001b[0m Trial 12 finished with value: 0.8125701459034792 and parameters: {'lambda_l1': 0.013152671590487374, 'lambda_l2': 0.0009920966401444327, 'num_leaves': 5, 'feature_fraction': 0.6946241870173213, 'bagging_fraction': 0.8174494684597491, 'bagging_freq': 5, 'min_child_samples': 51, 'max_depth': 6}. Best is trial 5 with value: 0.8237934904601572.\u001b[0m\n"
     ]
    },
    {
     "name": "stdout",
     "output_type": "stream",
     "text": [
      "Early stopping, best iteration is:\n",
      "[32]\ttraining's binary_logloss: 0.40822\tvalid_1's binary_logloss: 0.420247\n",
      "Training until validation scores don't improve for 1000 rounds\n",
      "Early stopping, best iteration is:\n",
      "[43]\ttraining's binary_logloss: 0.409841\tvalid_1's binary_logloss: 0.415547\n",
      "Training until validation scores don't improve for 1000 rounds\n",
      "Early stopping, best iteration is:\n",
      "[386]\ttraining's binary_logloss: 0.32508\tvalid_1's binary_logloss: 0.392903\n",
      "Training until validation scores don't improve for 1000 rounds\n",
      "Early stopping, best iteration is:\n",
      "[190]\ttraining's binary_logloss: 0.343576\tvalid_1's binary_logloss: 0.451434\n",
      "Training until validation scores don't improve for 1000 rounds\n",
      "Early stopping, best iteration is:\n",
      "[91]\ttraining's binary_logloss: 0.384815\tvalid_1's binary_logloss: 0.42075\n",
      "Training until validation scores don't improve for 1000 rounds\n"
     ]
    },
    {
     "name": "stderr",
     "output_type": "stream",
     "text": [
      "\u001b[32m[I 2021-09-29 21:38:41,485]\u001b[0m Trial 13 finished with value: 0.8148148148148148 and parameters: {'lambda_l1': 1.2883747263591253e-05, 'lambda_l2': 0.00143128236094485, 'num_leaves': 27, 'feature_fraction': 0.7353698025289025, 'bagging_fraction': 0.555287328742657, 'bagging_freq': 7, 'min_child_samples': 53, 'max_depth': 6}. Best is trial 5 with value: 0.8237934904601572.\u001b[0m\n"
     ]
    },
    {
     "name": "stdout",
     "output_type": "stream",
     "text": [
      "Early stopping, best iteration is:\n",
      "[82]\ttraining's binary_logloss: 0.387514\tvalid_1's binary_logloss: 0.424158\n",
      "Training until validation scores don't improve for 1000 rounds\n",
      "Early stopping, best iteration is:\n",
      "[309]\ttraining's binary_logloss: 0.422726\tvalid_1's binary_logloss: 0.430818\n",
      "Training until validation scores don't improve for 1000 rounds\n",
      "Early stopping, best iteration is:\n",
      "[208]\ttraining's binary_logloss: 0.429743\tvalid_1's binary_logloss: 0.423411\n",
      "Training until validation scores don't improve for 1000 rounds\n",
      "Early stopping, best iteration is:\n",
      "[969]\ttraining's binary_logloss: 0.410343\tvalid_1's binary_logloss: 0.465977\n",
      "Training until validation scores don't improve for 1000 rounds\n",
      "Early stopping, best iteration is:\n",
      "[122]\ttraining's binary_logloss: 0.429996\tvalid_1's binary_logloss: 0.447802\n",
      "Training until validation scores don't improve for 1000 rounds\n"
     ]
    },
    {
     "name": "stderr",
     "output_type": "stream",
     "text": [
      "\u001b[32m[I 2021-09-29 21:38:43,164]\u001b[0m Trial 14 finished with value: 0.7957351290684624 and parameters: {'lambda_l1': 7.342608935236305, 'lambda_l2': 0.056490531197086316, 'num_leaves': 13, 'feature_fraction': 0.4673368512841066, 'bagging_fraction': 0.6793330524422584, 'bagging_freq': 4, 'min_child_samples': 79, 'max_depth': 7}. Best is trial 5 with value: 0.8237934904601572.\u001b[0m\n"
     ]
    },
    {
     "name": "stdout",
     "output_type": "stream",
     "text": [
      "Early stopping, best iteration is:\n",
      "[176]\ttraining's binary_logloss: 0.429893\tvalid_1's binary_logloss: 0.421684\n",
      "Training until validation scores don't improve for 1000 rounds\n",
      "Early stopping, best iteration is:\n",
      "[42]\ttraining's binary_logloss: 0.381741\tvalid_1's binary_logloss: 0.415003\n",
      "Training until validation scores don't improve for 1000 rounds\n",
      "Early stopping, best iteration is:\n",
      "[85]\ttraining's binary_logloss: 0.35336\tvalid_1's binary_logloss: 0.402851\n",
      "Training until validation scores don't improve for 1000 rounds\n",
      "Early stopping, best iteration is:\n",
      "[42]\ttraining's binary_logloss: 0.372358\tvalid_1's binary_logloss: 0.456749\n",
      "Training until validation scores don't improve for 1000 rounds\n",
      "Early stopping, best iteration is:\n",
      "[105]\ttraining's binary_logloss: 0.338125\tvalid_1's binary_logloss: 0.408626\n",
      "Training until validation scores don't improve for 1000 rounds\n"
     ]
    },
    {
     "name": "stderr",
     "output_type": "stream",
     "text": [
      "\u001b[32m[I 2021-09-29 21:38:46,001]\u001b[0m Trial 15 finished with value: 0.8204264870931538 and parameters: {'lambda_l1': 0.0009441579228985742, 'lambda_l2': 1.119850242244415e-05, 'num_leaves': 25, 'feature_fraction': 0.4883531571405118, 'bagging_fraction': 0.8115190806990218, 'bagging_freq': 7, 'min_child_samples': 34, 'max_depth': 6}. Best is trial 5 with value: 0.8237934904601572.\u001b[0m\n"
     ]
    },
    {
     "name": "stdout",
     "output_type": "stream",
     "text": [
      "Early stopping, best iteration is:\n",
      "[33]\ttraining's binary_logloss: 0.390407\tvalid_1's binary_logloss: 0.424275\n",
      "Training until validation scores don't improve for 1000 rounds\n",
      "Early stopping, best iteration is:\n",
      "[242]\ttraining's binary_logloss: 0.375735\tvalid_1's binary_logloss: 0.418752\n",
      "Training until validation scores don't improve for 1000 rounds\n",
      "Early stopping, best iteration is:\n",
      "[685]\ttraining's binary_logloss: 0.342612\tvalid_1's binary_logloss: 0.395937\n",
      "Training until validation scores don't improve for 1000 rounds\n",
      "Early stopping, best iteration is:\n",
      "[1189]\ttraining's binary_logloss: 0.303214\tvalid_1's binary_logloss: 0.452008\n",
      "Training until validation scores don't improve for 1000 rounds\n",
      "Early stopping, best iteration is:\n",
      "[288]\ttraining's binary_logloss: 0.369114\tvalid_1's binary_logloss: 0.415306\n",
      "Training until validation scores don't improve for 1000 rounds\n"
     ]
    },
    {
     "name": "stderr",
     "output_type": "stream",
     "text": [
      "\u001b[32m[I 2021-09-29 21:38:48,500]\u001b[0m Trial 16 finished with value: 0.8249158249158249 and parameters: {'lambda_l1': 1.498333299812602e-05, 'lambda_l2': 0.0013763160964383055, 'num_leaves': 4, 'feature_fraction': 0.4052103977733542, 'bagging_fraction': 0.6782067593717558, 'bagging_freq': 9, 'min_child_samples': 71, 'max_depth': 7}. Best is trial 16 with value: 0.8249158249158249.\u001b[0m\n"
     ]
    },
    {
     "name": "stdout",
     "output_type": "stream",
     "text": [
      "Early stopping, best iteration is:\n",
      "[46]\ttraining's binary_logloss: 0.424042\tvalid_1's binary_logloss: 0.426902\n",
      "Training until validation scores don't improve for 1000 rounds\n",
      "Early stopping, best iteration is:\n",
      "[1332]\ttraining's binary_logloss: 0.329973\tvalid_1's binary_logloss: 0.418362\n",
      "Training until validation scores don't improve for 1000 rounds\n",
      "Early stopping, best iteration is:\n",
      "[503]\ttraining's binary_logloss: 0.372828\tvalid_1's binary_logloss: 0.406198\n",
      "Training until validation scores don't improve for 1000 rounds\n",
      "Early stopping, best iteration is:\n",
      "[340]\ttraining's binary_logloss: 0.372651\tvalid_1's binary_logloss: 0.452075\n",
      "Training until validation scores don't improve for 1000 rounds\n",
      "Early stopping, best iteration is:\n",
      "[1224]\ttraining's binary_logloss: 0.32702\tvalid_1's binary_logloss: 0.419539\n",
      "Training until validation scores don't improve for 1000 rounds\n"
     ]
    },
    {
     "name": "stderr",
     "output_type": "stream",
     "text": [
      "\u001b[32m[I 2021-09-29 21:38:51,328]\u001b[0m Trial 17 finished with value: 0.8170594837261503 and parameters: {'lambda_l1': 1.0242766525962102e-05, 'lambda_l2': 0.0006511910430515324, 'num_leaves': 4, 'feature_fraction': 0.4072098128409623, 'bagging_fraction': 0.54111730554467, 'bagging_freq': 9, 'min_child_samples': 72, 'max_depth': 5}. Best is trial 16 with value: 0.8249158249158249.\u001b[0m\n"
     ]
    },
    {
     "name": "stdout",
     "output_type": "stream",
     "text": [
      "Early stopping, best iteration is:\n",
      "[108]\ttraining's binary_logloss: 0.409959\tvalid_1's binary_logloss: 0.426876\n",
      "Training until validation scores don't improve for 1000 rounds\n",
      "Early stopping, best iteration is:\n",
      "[476]\ttraining's binary_logloss: 0.324794\tvalid_1's binary_logloss: 0.417265\n",
      "Training until validation scores don't improve for 1000 rounds\n",
      "Early stopping, best iteration is:\n",
      "[305]\ttraining's binary_logloss: 0.347636\tvalid_1's binary_logloss: 0.389582\n",
      "Training until validation scores don't improve for 1000 rounds\n",
      "Early stopping, best iteration is:\n",
      "[413]\ttraining's binary_logloss: 0.320172\tvalid_1's binary_logloss: 0.455165\n",
      "Training until validation scores don't improve for 1000 rounds\n",
      "Early stopping, best iteration is:\n",
      "[300]\ttraining's binary_logloss: 0.34122\tvalid_1's binary_logloss: 0.426396\n",
      "Training until validation scores don't improve for 1000 rounds\n"
     ]
    },
    {
     "name": "stderr",
     "output_type": "stream",
     "text": [
      "\u001b[32m[I 2021-09-29 21:38:54,038]\u001b[0m Trial 18 finished with value: 0.819304152637486 and parameters: {'lambda_l1': 2.048896261089619e-05, 'lambda_l2': 8.264879091326503e-05, 'num_leaves': 61, 'feature_fraction': 0.4021871891798404, 'bagging_fraction': 0.6608758073372026, 'bagging_freq': 4, 'min_child_samples': 56, 'max_depth': 6}. Best is trial 16 with value: 0.8249158249158249.\u001b[0m\n"
     ]
    },
    {
     "name": "stdout",
     "output_type": "stream",
     "text": [
      "Early stopping, best iteration is:\n",
      "[90]\ttraining's binary_logloss: 0.387866\tvalid_1's binary_logloss: 0.423487\n",
      "Training until validation scores don't improve for 1000 rounds\n",
      "Early stopping, best iteration is:\n",
      "[893]\ttraining's binary_logloss: 0.362201\tvalid_1's binary_logloss: 0.416963\n",
      "Training until validation scores don't improve for 1000 rounds\n",
      "Early stopping, best iteration is:\n",
      "[468]\ttraining's binary_logloss: 0.386049\tvalid_1's binary_logloss: 0.409715\n",
      "Training until validation scores don't improve for 1000 rounds\n",
      "Early stopping, best iteration is:\n",
      "[139]\ttraining's binary_logloss: 0.402429\tvalid_1's binary_logloss: 0.461634\n",
      "Training until validation scores don't improve for 1000 rounds\n",
      "Early stopping, best iteration is:\n",
      "[429]\ttraining's binary_logloss: 0.383742\tvalid_1's binary_logloss: 0.420817\n",
      "Training until validation scores don't improve for 1000 rounds\n"
     ]
    },
    {
     "name": "stderr",
     "output_type": "stream",
     "text": [
      "\u001b[32m[I 2021-09-29 21:38:56,426]\u001b[0m Trial 19 finished with value: 0.8170594837261503 and parameters: {'lambda_l1': 0.00027740323093972775, 'lambda_l2': 0.004519288240861206, 'num_leaves': 36, 'feature_fraction': 0.4617218282509953, 'bagging_fraction': 0.4563453675314685, 'bagging_freq': 2, 'min_child_samples': 71, 'max_depth': 4}. Best is trial 16 with value: 0.8249158249158249.\u001b[0m\n"
     ]
    },
    {
     "name": "stdout",
     "output_type": "stream",
     "text": [
      "Early stopping, best iteration is:\n",
      "[87]\ttraining's binary_logloss: 0.425999\tvalid_1's binary_logloss: 0.419162\n",
      "Training until validation scores don't improve for 1000 rounds\n",
      "Early stopping, best iteration is:\n",
      "[164]\ttraining's binary_logloss: 0.417188\tvalid_1's binary_logloss: 0.434273\n",
      "Training until validation scores don't improve for 1000 rounds\n",
      "Early stopping, best iteration is:\n",
      "[1287]\ttraining's binary_logloss: 0.387152\tvalid_1's binary_logloss: 0.40258\n",
      "Training until validation scores don't improve for 1000 rounds\n",
      "Early stopping, best iteration is:\n",
      "[1761]\ttraining's binary_logloss: 0.360352\tvalid_1's binary_logloss: 0.447232\n",
      "Training until validation scores don't improve for 1000 rounds\n",
      "Early stopping, best iteration is:\n",
      "[242]\ttraining's binary_logloss: 0.409898\tvalid_1's binary_logloss: 0.437605\n",
      "Training until validation scores don't improve for 1000 rounds\n"
     ]
    },
    {
     "name": "stderr",
     "output_type": "stream",
     "text": [
      "\u001b[32m[I 2021-09-29 21:38:58,614]\u001b[0m Trial 20 finished with value: 0.8092031425364759 and parameters: {'lambda_l1': 4.7595243493455095e-05, 'lambda_l2': 1.0465256262269306e-05, 'num_leaves': 2, 'feature_fraction': 0.8971111138245931, 'bagging_fraction': 0.7857343001529553, 'bagging_freq': 3, 'min_child_samples': 58, 'max_depth': 7}. Best is trial 16 with value: 0.8249158249158249.\u001b[0m\n"
     ]
    },
    {
     "name": "stdout",
     "output_type": "stream",
     "text": [
      "Early stopping, best iteration is:\n",
      "[202]\ttraining's binary_logloss: 0.416348\tvalid_1's binary_logloss: 0.425359\n",
      "Training until validation scores don't improve for 1000 rounds\n",
      "Early stopping, best iteration is:\n",
      "[583]\ttraining's binary_logloss: 0.340002\tvalid_1's binary_logloss: 0.414065\n",
      "Training until validation scores don't improve for 1000 rounds\n",
      "Early stopping, best iteration is:\n",
      "[609]\ttraining's binary_logloss: 0.340665\tvalid_1's binary_logloss: 0.396351\n",
      "Training until validation scores don't improve for 1000 rounds\n",
      "Early stopping, best iteration is:\n",
      "[199]\ttraining's binary_logloss: 0.36789\tvalid_1's binary_logloss: 0.459206\n",
      "Training until validation scores don't improve for 1000 rounds\n",
      "Early stopping, best iteration is:\n",
      "[488]\ttraining's binary_logloss: 0.340098\tvalid_1's binary_logloss: 0.416236\n",
      "Training until validation scores don't improve for 1000 rounds\n"
     ]
    },
    {
     "name": "stderr",
     "output_type": "stream",
     "text": [
      "\u001b[32m[I 2021-09-29 21:39:01,284]\u001b[0m Trial 21 finished with value: 0.819304152637486 and parameters: {'lambda_l1': 0.006777854895406126, 'lambda_l2': 0.00024496389752392145, 'num_leaves': 13, 'feature_fraction': 0.5189841280467777, 'bagging_fraction': 0.6993476979245434, 'bagging_freq': 8, 'min_child_samples': 81, 'max_depth': 7}. Best is trial 16 with value: 0.8249158249158249.\u001b[0m\n"
     ]
    },
    {
     "name": "stdout",
     "output_type": "stream",
     "text": [
      "Early stopping, best iteration is:\n",
      "[204]\ttraining's binary_logloss: 0.376993\tvalid_1's binary_logloss: 0.422474\n",
      "Training until validation scores don't improve for 1000 rounds\n",
      "Early stopping, best iteration is:\n",
      "[177]\ttraining's binary_logloss: 0.388337\tvalid_1's binary_logloss: 0.413131\n",
      "Training until validation scores don't improve for 1000 rounds\n",
      "Early stopping, best iteration is:\n",
      "[461]\ttraining's binary_logloss: 0.355061\tvalid_1's binary_logloss: 0.395809\n",
      "Training until validation scores don't improve for 1000 rounds\n",
      "Early stopping, best iteration is:\n",
      "[504]\ttraining's binary_logloss: 0.337101\tvalid_1's binary_logloss: 0.457109\n",
      "Training until validation scores don't improve for 1000 rounds\n",
      "Early stopping, best iteration is:\n",
      "[816]\ttraining's binary_logloss: 0.321768\tvalid_1's binary_logloss: 0.42551\n",
      "Training until validation scores don't improve for 1000 rounds\n"
     ]
    },
    {
     "name": "stderr",
     "output_type": "stream",
     "text": [
      "\u001b[32m[I 2021-09-29 21:39:03,740]\u001b[0m Trial 22 finished with value: 0.8159371492704826 and parameters: {'lambda_l1': 1.0442445943659217e-05, 'lambda_l2': 0.05007419603229125, 'num_leaves': 8, 'feature_fraction': 0.6304925206436197, 'bagging_fraction': 0.6043245698672666, 'bagging_freq': 6, 'min_child_samples': 74, 'max_depth': 7}. Best is trial 16 with value: 0.8249158249158249.\u001b[0m\n"
     ]
    },
    {
     "name": "stdout",
     "output_type": "stream",
     "text": [
      "Early stopping, best iteration is:\n",
      "[35]\ttraining's binary_logloss: 0.426155\tvalid_1's binary_logloss: 0.423934\n",
      "Training until validation scores don't improve for 1000 rounds\n",
      "Early stopping, best iteration is:\n",
      "[189]\ttraining's binary_logloss: 0.359328\tvalid_1's binary_logloss: 0.420188\n",
      "Training until validation scores don't improve for 1000 rounds\n",
      "Early stopping, best iteration is:\n",
      "[204]\ttraining's binary_logloss: 0.362978\tvalid_1's binary_logloss: 0.395439\n",
      "Training until validation scores don't improve for 1000 rounds\n",
      "Early stopping, best iteration is:\n",
      "[307]\ttraining's binary_logloss: 0.331529\tvalid_1's binary_logloss: 0.457476\n",
      "Training until validation scores don't improve for 1000 rounds\n",
      "Early stopping, best iteration is:\n",
      "[288]\ttraining's binary_logloss: 0.340226\tvalid_1's binary_logloss: 0.417317\n",
      "Training until validation scores don't improve for 1000 rounds\n"
     ]
    },
    {
     "name": "stderr",
     "output_type": "stream",
     "text": [
      "\u001b[32m[I 2021-09-29 21:39:06,063]\u001b[0m Trial 23 finished with value: 0.8125701459034792 and parameters: {'lambda_l1': 0.012727289746618867, 'lambda_l2': 0.0032152443229937363, 'num_leaves': 15, 'feature_fraction': 0.44409384360907905, 'bagging_fraction': 0.8560300954326248, 'bagging_freq': 9, 'min_child_samples': 66, 'max_depth': 6}. Best is trial 16 with value: 0.8249158249158249.\u001b[0m\n"
     ]
    },
    {
     "name": "stdout",
     "output_type": "stream",
     "text": [
      "Early stopping, best iteration is:\n",
      "[40]\ttraining's binary_logloss: 0.408056\tvalid_1's binary_logloss: 0.426101\n",
      "Training until validation scores don't improve for 1000 rounds\n",
      "Early stopping, best iteration is:\n",
      "[600]\ttraining's binary_logloss: 0.333786\tvalid_1's binary_logloss: 0.415388\n",
      "Training until validation scores don't improve for 1000 rounds\n",
      "Early stopping, best iteration is:\n",
      "[375]\ttraining's binary_logloss: 0.355275\tvalid_1's binary_logloss: 0.39098\n",
      "Training until validation scores don't improve for 1000 rounds\n",
      "Early stopping, best iteration is:\n",
      "[285]\ttraining's binary_logloss: 0.350963\tvalid_1's binary_logloss: 0.457344\n",
      "Training until validation scores don't improve for 1000 rounds\n",
      "Early stopping, best iteration is:\n",
      "[263]\ttraining's binary_logloss: 0.359801\tvalid_1's binary_logloss: 0.422144\n",
      "Training until validation scores don't improve for 1000 rounds\n"
     ]
    },
    {
     "name": "stderr",
     "output_type": "stream",
     "text": [
      "\u001b[32m[I 2021-09-29 21:39:08,378]\u001b[0m Trial 24 finished with value: 0.8204264870931538 and parameters: {'lambda_l1': 0.0002837323408934021, 'lambda_l2': 0.0002136227981567142, 'num_leaves': 23, 'feature_fraction': 0.5350759922317897, 'bagging_fraction': 0.7818771081393587, 'bagging_freq': 5, 'min_child_samples': 87, 'max_depth': 7}. Best is trial 16 with value: 0.8249158249158249.\u001b[0m\n"
     ]
    },
    {
     "name": "stdout",
     "output_type": "stream",
     "text": [
      "Early stopping, best iteration is:\n",
      "[30]\ttraining's binary_logloss: 0.429009\tvalid_1's binary_logloss: 0.426111\n",
      "Training until validation scores don't improve for 1000 rounds\n",
      "Early stopping, best iteration is:\n",
      "[1055]\ttraining's binary_logloss: 0.307484\tvalid_1's binary_logloss: 0.423019\n",
      "Training until validation scores don't improve for 1000 rounds\n",
      "Early stopping, best iteration is:\n",
      "[533]\ttraining's binary_logloss: 0.345673\tvalid_1's binary_logloss: 0.396181\n",
      "Training until validation scores don't improve for 1000 rounds\n",
      "Early stopping, best iteration is:\n",
      "[177]\ttraining's binary_logloss: 0.373917\tvalid_1's binary_logloss: 0.459954\n",
      "Training until validation scores don't improve for 1000 rounds\n",
      "Early stopping, best iteration is:\n",
      "[247]\ttraining's binary_logloss: 0.36783\tvalid_1's binary_logloss: 0.431679\n",
      "Training until validation scores don't improve for 1000 rounds\n"
     ]
    },
    {
     "name": "stderr",
     "output_type": "stream",
     "text": [
      "\u001b[32m[I 2021-09-29 21:39:10,773]\u001b[0m Trial 25 finished with value: 0.8159371492704826 and parameters: {'lambda_l1': 0.11129383412537923, 'lambda_l2': 0.019866483710468216, 'num_leaves': 9, 'feature_fraction': 0.7856860510335402, 'bagging_fraction': 0.6948520575671557, 'bagging_freq': 7, 'min_child_samples': 84, 'max_depth': 6}. Best is trial 16 with value: 0.8249158249158249.\u001b[0m\n"
     ]
    },
    {
     "name": "stdout",
     "output_type": "stream",
     "text": [
      "Early stopping, best iteration is:\n",
      "[40]\ttraining's binary_logloss: 0.423645\tvalid_1's binary_logloss: 0.424864\n",
      "Training until validation scores don't improve for 1000 rounds\n",
      "Early stopping, best iteration is:\n",
      "[218]\ttraining's binary_logloss: 0.361117\tvalid_1's binary_logloss: 0.417382\n",
      "Training until validation scores don't improve for 1000 rounds\n",
      "Early stopping, best iteration is:\n",
      "[487]\ttraining's binary_logloss: 0.331398\tvalid_1's binary_logloss: 0.394817\n",
      "Training until validation scores don't improve for 1000 rounds\n",
      "Early stopping, best iteration is:\n",
      "[315]\ttraining's binary_logloss: 0.333788\tvalid_1's binary_logloss: 0.453727\n",
      "Training until validation scores don't improve for 1000 rounds\n",
      "Early stopping, best iteration is:\n",
      "[256]\ttraining's binary_logloss: 0.351206\tvalid_1's binary_logloss: 0.425654\n",
      "Training until validation scores don't improve for 1000 rounds\n"
     ]
    },
    {
     "name": "stderr",
     "output_type": "stream",
     "text": [
      "\u001b[32m[I 2021-09-29 21:39:13,067]\u001b[0m Trial 26 finished with value: 0.8170594837261503 and parameters: {'lambda_l1': 2.962689602173806e-05, 'lambda_l2': 0.21427041624526375, 'num_leaves': 17, 'feature_fraction': 0.6780547273392734, 'bagging_fraction': 0.6416006895082056, 'bagging_freq': 8, 'min_child_samples': 68, 'max_depth': 7}. Best is trial 16 with value: 0.8249158249158249.\u001b[0m\n"
     ]
    },
    {
     "name": "stdout",
     "output_type": "stream",
     "text": [
      "Early stopping, best iteration is:\n",
      "[42]\ttraining's binary_logloss: 0.4184\tvalid_1's binary_logloss: 0.426109\n",
      "Training until validation scores don't improve for 1000 rounds\n",
      "Early stopping, best iteration is:\n",
      "[2478]\ttraining's binary_logloss: 0.38014\tvalid_1's binary_logloss: 0.424468\n",
      "Training until validation scores don't improve for 1000 rounds\n",
      "Early stopping, best iteration is:\n",
      "[1166]\ttraining's binary_logloss: 0.401317\tvalid_1's binary_logloss: 0.416181\n",
      "Training until validation scores don't improve for 1000 rounds\n",
      "Early stopping, best iteration is:\n",
      "[2712]\ttraining's binary_logloss: 0.365554\tvalid_1's binary_logloss: 0.448131\n",
      "Training until validation scores don't improve for 1000 rounds\n",
      "Early stopping, best iteration is:\n",
      "[198]\ttraining's binary_logloss: 0.423238\tvalid_1's binary_logloss: 0.448188\n",
      "Training until validation scores don't improve for 1000 rounds\n"
     ]
    },
    {
     "name": "stderr",
     "output_type": "stream",
     "text": [
      "\u001b[32m[I 2021-09-29 21:39:15,798]\u001b[0m Trial 27 finished with value: 0.813692480359147 and parameters: {'lambda_l1': 0.0006748600669266113, 'lambda_l2': 0.00042470164198152104, 'num_leaves': 2, 'feature_fraction': 0.5891840418350216, 'bagging_fraction': 0.5639628605227924, 'bagging_freq': 6, 'min_child_samples': 77, 'max_depth': 5}. Best is trial 16 with value: 0.8249158249158249.\u001b[0m\n"
     ]
    },
    {
     "name": "stdout",
     "output_type": "stream",
     "text": [
      "Early stopping, best iteration is:\n",
      "[96]\ttraining's binary_logloss: 0.43519\tvalid_1's binary_logloss: 0.420182\n",
      "Training until validation scores don't improve for 1000 rounds\n",
      "Early stopping, best iteration is:\n",
      "[165]\ttraining's binary_logloss: 0.374726\tvalid_1's binary_logloss: 0.421241\n",
      "Training until validation scores don't improve for 1000 rounds\n",
      "Early stopping, best iteration is:\n",
      "[381]\ttraining's binary_logloss: 0.346712\tvalid_1's binary_logloss: 0.382969\n",
      "Training until validation scores don't improve for 1000 rounds\n",
      "Early stopping, best iteration is:\n",
      "[285]\ttraining's binary_logloss: 0.346917\tvalid_1's binary_logloss: 0.450713\n",
      "Training until validation scores don't improve for 1000 rounds\n",
      "Early stopping, best iteration is:\n",
      "[175]\ttraining's binary_logloss: 0.371541\tvalid_1's binary_logloss: 0.423163\n",
      "Training until validation scores don't improve for 1000 rounds\n"
     ]
    },
    {
     "name": "stderr",
     "output_type": "stream",
     "text": [
      "\u001b[32m[I 2021-09-29 21:39:17,991]\u001b[0m Trial 28 finished with value: 0.8125701459034792 and parameters: {'lambda_l1': 0.00012094831454294145, 'lambda_l2': 3.078428191823589e-05, 'num_leaves': 22, 'feature_fraction': 0.505853975251874, 'bagging_fraction': 0.7247505258749657, 'bagging_freq': 5, 'min_child_samples': 76, 'max_depth': 6}. Best is trial 16 with value: 0.8249158249158249.\u001b[0m\n"
     ]
    },
    {
     "name": "stdout",
     "output_type": "stream",
     "text": [
      "Early stopping, best iteration is:\n",
      "[30]\ttraining's binary_logloss: 0.425164\tvalid_1's binary_logloss: 0.425576\n",
      "Training until validation scores don't improve for 1000 rounds\n",
      "Early stopping, best iteration is:\n",
      "[409]\ttraining's binary_logloss: 0.36165\tvalid_1's binary_logloss: 0.411595\n",
      "Training until validation scores don't improve for 1000 rounds\n",
      "Early stopping, best iteration is:\n",
      "[645]\ttraining's binary_logloss: 0.350495\tvalid_1's binary_logloss: 0.398671\n",
      "Training until validation scores don't improve for 1000 rounds\n",
      "Early stopping, best iteration is:\n",
      "[433]\ttraining's binary_logloss: 0.351784\tvalid_1's binary_logloss: 0.457429\n",
      "Training until validation scores don't improve for 1000 rounds\n",
      "Early stopping, best iteration is:\n",
      "[522]\ttraining's binary_logloss: 0.349797\tvalid_1's binary_logloss: 0.425663\n",
      "Training until validation scores don't improve for 1000 rounds\n"
     ]
    },
    {
     "name": "stderr",
     "output_type": "stream",
     "text": [
      "\u001b[32m[I 2021-09-29 21:39:20,489]\u001b[0m Trial 29 finished with value: 0.8181818181818182 and parameters: {'lambda_l1': 0.0028859004419216354, 'lambda_l2': 0.003180881057717439, 'num_leaves': 31, 'feature_fraction': 0.4259396594047795, 'bagging_fraction': 0.7619076883985618, 'bagging_freq': 7, 'min_child_samples': 90, 'max_depth': 7}. Best is trial 16 with value: 0.8249158249158249.\u001b[0m\n"
     ]
    },
    {
     "name": "stdout",
     "output_type": "stream",
     "text": [
      "Early stopping, best iteration is:\n",
      "[45]\ttraining's binary_logloss: 0.424716\tvalid_1's binary_logloss: 0.4253\n",
      "Training until validation scores don't improve for 1000 rounds\n",
      "Early stopping, best iteration is:\n",
      "[176]\ttraining's binary_logloss: 0.434344\tvalid_1's binary_logloss: 0.435808\n",
      "Training until validation scores don't improve for 1000 rounds\n",
      "Early stopping, best iteration is:\n",
      "[630]\ttraining's binary_logloss: 0.432129\tvalid_1's binary_logloss: 0.424031\n",
      "Training until validation scores don't improve for 1000 rounds\n",
      "Early stopping, best iteration is:\n",
      "[1861]\ttraining's binary_logloss: 0.409209\tvalid_1's binary_logloss: 0.466979\n",
      "Training until validation scores don't improve for 1000 rounds\n",
      "Early stopping, best iteration is:\n",
      "[115]\ttraining's binary_logloss: 0.43637\tvalid_1's binary_logloss: 0.453569\n",
      "Training until validation scores don't improve for 1000 rounds\n"
     ]
    },
    {
     "name": "stderr",
     "output_type": "stream",
     "text": [
      "\u001b[32m[I 2021-09-29 21:39:22,204]\u001b[0m Trial 30 finished with value: 0.7833894500561167 and parameters: {'lambda_l1': 9.716081214820633, 'lambda_l2': 0.0018692712241757295, 'num_leaves': 7, 'feature_fraction': 0.5512203977931733, 'bagging_fraction': 0.7148253257302714, 'bagging_freq': 9, 'min_child_samples': 93, 'max_depth': 6}. Best is trial 16 with value: 0.8249158249158249.\u001b[0m\n"
     ]
    },
    {
     "name": "stdout",
     "output_type": "stream",
     "text": [
      "Early stopping, best iteration is:\n",
      "[241]\ttraining's binary_logloss: 0.432178\tvalid_1's binary_logloss: 0.418304\n",
      "Training until validation scores don't improve for 1000 rounds\n",
      "Early stopping, best iteration is:\n",
      "[585]\ttraining's binary_logloss: 0.33108\tvalid_1's binary_logloss: 0.418686\n",
      "Training until validation scores don't improve for 1000 rounds\n",
      "Early stopping, best iteration is:\n",
      "[375]\ttraining's binary_logloss: 0.353089\tvalid_1's binary_logloss: 0.388334\n",
      "Training until validation scores don't improve for 1000 rounds\n",
      "Early stopping, best iteration is:\n",
      "[285]\ttraining's binary_logloss: 0.348926\tvalid_1's binary_logloss: 0.458842\n",
      "Training until validation scores don't improve for 1000 rounds\n",
      "Early stopping, best iteration is:\n",
      "[263]\ttraining's binary_logloss: 0.356352\tvalid_1's binary_logloss: 0.422276\n",
      "Training until validation scores don't improve for 1000 rounds\n"
     ]
    },
    {
     "name": "stderr",
     "output_type": "stream",
     "text": [
      "\u001b[32m[I 2021-09-29 21:39:24,650]\u001b[0m Trial 31 finished with value: 0.8170594837261503 and parameters: {'lambda_l1': 0.0002914950636884548, 'lambda_l2': 0.00021371487520080475, 'num_leaves': 26, 'feature_fraction': 0.5408582293638161, 'bagging_fraction': 0.7796133498488149, 'bagging_freq': 5, 'min_child_samples': 85, 'max_depth': 7}. Best is trial 16 with value: 0.8249158249158249.\u001b[0m\n"
     ]
    },
    {
     "name": "stdout",
     "output_type": "stream",
     "text": [
      "Early stopping, best iteration is:\n",
      "[30]\ttraining's binary_logloss: 0.428244\tvalid_1's binary_logloss: 0.428116\n",
      "Training until validation scores don't improve for 1000 rounds\n",
      "Early stopping, best iteration is:\n",
      "[390]\ttraining's binary_logloss: 0.335715\tvalid_1's binary_logloss: 0.423003\n",
      "Training until validation scores don't improve for 1000 rounds\n",
      "Early stopping, best iteration is:\n",
      "[300]\ttraining's binary_logloss: 0.353162\tvalid_1's binary_logloss: 0.390382\n",
      "Training until validation scores don't improve for 1000 rounds\n",
      "Early stopping, best iteration is:\n",
      "[344]\ttraining's binary_logloss: 0.333305\tvalid_1's binary_logloss: 0.453603\n",
      "Training until validation scores don't improve for 1000 rounds\n",
      "Early stopping, best iteration is:\n",
      "[240]\ttraining's binary_logloss: 0.352636\tvalid_1's binary_logloss: 0.423845\n",
      "Training until validation scores don't improve for 1000 rounds\n"
     ]
    },
    {
     "name": "stderr",
     "output_type": "stream",
     "text": [
      "\u001b[32m[I 2021-09-29 21:39:27,127]\u001b[0m Trial 32 finished with value: 0.8237934904601572 and parameters: {'lambda_l1': 0.0005620566115307356, 'lambda_l2': 0.00019344389052557113, 'num_leaves': 23, 'feature_fraction': 0.6107139597328262, 'bagging_fraction': 0.8540157039525125, 'bagging_freq': 4, 'min_child_samples': 82, 'max_depth': 7}. Best is trial 16 with value: 0.8249158249158249.\u001b[0m\n"
     ]
    },
    {
     "name": "stdout",
     "output_type": "stream",
     "text": [
      "Early stopping, best iteration is:\n",
      "[44]\ttraining's binary_logloss: 0.410897\tvalid_1's binary_logloss: 0.421391\n",
      "Training until validation scores don't improve for 1000 rounds\n",
      "Early stopping, best iteration is:\n",
      "[428]\ttraining's binary_logloss: 0.330035\tvalid_1's binary_logloss: 0.418492\n",
      "Training until validation scores don't improve for 1000 rounds\n",
      "Early stopping, best iteration is:\n",
      "[267]\ttraining's binary_logloss: 0.354427\tvalid_1's binary_logloss: 0.391396\n",
      "Training until validation scores don't improve for 1000 rounds\n",
      "Early stopping, best iteration is:\n",
      "[132]\ttraining's binary_logloss: 0.364753\tvalid_1's binary_logloss: 0.457142\n",
      "Training until validation scores don't improve for 1000 rounds\n",
      "Early stopping, best iteration is:\n",
      "[180]\ttraining's binary_logloss: 0.361139\tvalid_1's binary_logloss: 0.421667\n",
      "Training until validation scores don't improve for 1000 rounds\n"
     ]
    },
    {
     "name": "stderr",
     "output_type": "stream",
     "text": [
      "\u001b[32m[I 2021-09-29 21:39:29,469]\u001b[0m Trial 33 finished with value: 0.8215488215488216 and parameters: {'lambda_l1': 0.001037646932370918, 'lambda_l2': 0.0004847973937637037, 'num_leaves': 17, 'feature_fraction': 0.6171154162582413, 'bagging_fraction': 0.8668326889460023, 'bagging_freq': 3, 'min_child_samples': 81, 'max_depth': 7}. Best is trial 16 with value: 0.8249158249158249.\u001b[0m\n"
     ]
    },
    {
     "name": "stdout",
     "output_type": "stream",
     "text": [
      "Early stopping, best iteration is:\n",
      "[35]\ttraining's binary_logloss: 0.415811\tvalid_1's binary_logloss: 0.420958\n",
      "Training until validation scores don't improve for 1000 rounds\n",
      "Early stopping, best iteration is:\n",
      "[38]\ttraining's binary_logloss: 0.409704\tvalid_1's binary_logloss: 0.422923\n",
      "Training until validation scores don't improve for 1000 rounds\n",
      "Early stopping, best iteration is:\n",
      "[213]\ttraining's binary_logloss: 0.357508\tvalid_1's binary_logloss: 0.390043\n",
      "Training until validation scores don't improve for 1000 rounds\n",
      "Early stopping, best iteration is:\n",
      "[178]\ttraining's binary_logloss: 0.349849\tvalid_1's binary_logloss: 0.455\n",
      "Training until validation scores don't improve for 1000 rounds\n",
      "Early stopping, best iteration is:\n",
      "[222]\ttraining's binary_logloss: 0.345637\tvalid_1's binary_logloss: 0.422543\n",
      "Training until validation scores don't improve for 1000 rounds\n"
     ]
    },
    {
     "name": "stderr",
     "output_type": "stream",
     "text": [
      "\u001b[32m[I 2021-09-29 21:39:31,637]\u001b[0m Trial 34 finished with value: 0.8103254769921436 and parameters: {'lambda_l1': 0.0008613976085876301, 'lambda_l2': 2.8748152566999954e-05, 'num_leaves': 16, 'feature_fraction': 0.7151960559724077, 'bagging_fraction': 0.8614779415898184, 'bagging_freq': 3, 'min_child_samples': 82, 'max_depth': 7}. Best is trial 16 with value: 0.8249158249158249.\u001b[0m\n"
     ]
    },
    {
     "name": "stdout",
     "output_type": "stream",
     "text": [
      "Early stopping, best iteration is:\n",
      "[35]\ttraining's binary_logloss: 0.412174\tvalid_1's binary_logloss: 0.419307\n",
      "Training until validation scores don't improve for 1000 rounds\n",
      "Early stopping, best iteration is:\n",
      "[84]\ttraining's binary_logloss: 0.351598\tvalid_1's binary_logloss: 0.418401\n",
      "Training until validation scores don't improve for 1000 rounds\n",
      "Early stopping, best iteration is:\n",
      "[92]\ttraining's binary_logloss: 0.351151\tvalid_1's binary_logloss: 0.408009\n",
      "Training until validation scores don't improve for 1000 rounds\n",
      "Early stopping, best iteration is:\n",
      "[59]\ttraining's binary_logloss: 0.355449\tvalid_1's binary_logloss: 0.45939\n",
      "Training until validation scores don't improve for 1000 rounds\n",
      "Early stopping, best iteration is:\n",
      "[140]\ttraining's binary_logloss: 0.324787\tvalid_1's binary_logloss: 0.415889\n",
      "Training until validation scores don't improve for 1000 rounds\n"
     ]
    },
    {
     "name": "stderr",
     "output_type": "stream",
     "text": [
      "\u001b[32m[I 2021-09-29 21:39:34,298]\u001b[0m Trial 35 finished with value: 0.813692480359147 and parameters: {'lambda_l1': 9.168128878566272e-05, 'lambda_l2': 0.0005041662753789289, 'num_leaves': 21, 'feature_fraction': 0.6345275438622101, 'bagging_fraction': 0.854090970274124, 'bagging_freq': 4, 'min_child_samples': 43, 'max_depth': 7}. Best is trial 16 with value: 0.8249158249158249.\u001b[0m\n"
     ]
    },
    {
     "name": "stdout",
     "output_type": "stream",
     "text": [
      "Early stopping, best iteration is:\n",
      "[38]\ttraining's binary_logloss: 0.385024\tvalid_1's binary_logloss: 0.425062\n",
      "Training until validation scores don't improve for 1000 rounds\n",
      "Early stopping, best iteration is:\n",
      "[153]\ttraining's binary_logloss: 0.354758\tvalid_1's binary_logloss: 0.422682\n",
      "Training until validation scores don't improve for 1000 rounds\n",
      "Early stopping, best iteration is:\n",
      "[213]\ttraining's binary_logloss: 0.344184\tvalid_1's binary_logloss: 0.389176\n",
      "Training until validation scores don't improve for 1000 rounds\n",
      "Early stopping, best iteration is:\n",
      "[132]\ttraining's binary_logloss: 0.351637\tvalid_1's binary_logloss: 0.458201\n",
      "Training until validation scores don't improve for 1000 rounds\n",
      "Early stopping, best iteration is:\n",
      "[143]\ttraining's binary_logloss: 0.357379\tvalid_1's binary_logloss: 0.420567\n",
      "Training until validation scores don't improve for 1000 rounds\n"
     ]
    },
    {
     "name": "stderr",
     "output_type": "stream",
     "text": [
      "\u001b[32m[I 2021-09-29 21:39:36,750]\u001b[0m Trial 36 finished with value: 0.813692480359147 and parameters: {'lambda_l1': 0.002867576915551202, 'lambda_l2': 0.00014874050588687204, 'num_leaves': 36, 'feature_fraction': 0.6086904249474756, 'bagging_fraction': 0.8925212123289462, 'bagging_freq': 3, 'min_child_samples': 67, 'max_depth': 6}. Best is trial 16 with value: 0.8249158249158249.\u001b[0m\n"
     ]
    },
    {
     "name": "stdout",
     "output_type": "stream",
     "text": [
      "Early stopping, best iteration is:\n",
      "[40]\ttraining's binary_logloss: 0.402599\tvalid_1's binary_logloss: 0.423319\n",
      "Training until validation scores don't improve for 1000 rounds\n",
      "Early stopping, best iteration is:\n",
      "[72]\ttraining's binary_logloss: 0.38979\tvalid_1's binary_logloss: 0.417828\n",
      "Training until validation scores don't improve for 1000 rounds\n",
      "Early stopping, best iteration is:\n",
      "[134]\ttraining's binary_logloss: 0.375748\tvalid_1's binary_logloss: 0.404781\n",
      "Training until validation scores don't improve for 1000 rounds\n",
      "Early stopping, best iteration is:\n",
      "[158]\ttraining's binary_logloss: 0.359759\tvalid_1's binary_logloss: 0.463088\n",
      "Training until validation scores don't improve for 1000 rounds\n",
      "Early stopping, best iteration is:\n",
      "[355]\ttraining's binary_logloss: 0.340443\tvalid_1's binary_logloss: 0.407239\n",
      "Training until validation scores don't improve for 1000 rounds\n"
     ]
    },
    {
     "name": "stderr",
     "output_type": "stream",
     "text": [
      "\u001b[32m[I 2021-09-29 21:39:38,593]\u001b[0m Trial 37 finished with value: 0.8069584736251403 and parameters: {'lambda_l1': 0.00014645364920594123, 'lambda_l2': 2.5390614592302603e-05, 'num_leaves': 18, 'feature_fraction': 0.6533295761762535, 'bagging_fraction': 0.829407510465933, 'bagging_freq': 2, 'min_child_samples': 38, 'max_depth': 2}. Best is trial 16 with value: 0.8249158249158249.\u001b[0m\n"
     ]
    },
    {
     "name": "stdout",
     "output_type": "stream",
     "text": [
      "Early stopping, best iteration is:\n",
      "[38]\ttraining's binary_logloss: 0.407851\tvalid_1's binary_logloss: 0.418243\n",
      "Training until validation scores don't improve for 1000 rounds\n",
      "Early stopping, best iteration is:\n",
      "[43]\ttraining's binary_logloss: 0.391241\tvalid_1's binary_logloss: 0.414222\n",
      "Training until validation scores don't improve for 1000 rounds\n",
      "Early stopping, best iteration is:\n",
      "[87]\ttraining's binary_logloss: 0.373142\tvalid_1's binary_logloss: 0.407146\n",
      "Training until validation scores don't improve for 1000 rounds\n",
      "Early stopping, best iteration is:\n",
      "[230]\ttraining's binary_logloss: 0.321087\tvalid_1's binary_logloss: 0.450833\n",
      "Training until validation scores don't improve for 1000 rounds\n",
      "Early stopping, best iteration is:\n",
      "[240]\ttraining's binary_logloss: 0.332268\tvalid_1's binary_logloss: 0.412103\n",
      "Training until validation scores don't improve for 1000 rounds\n"
     ]
    },
    {
     "name": "stderr",
     "output_type": "stream",
     "text": [
      "\u001b[32m[I 2021-09-29 21:39:40,889]\u001b[0m Trial 38 finished with value: 0.8148148148148148 and parameters: {'lambda_l1': 0.0014077371595322239, 'lambda_l2': 0.0008869304939265641, 'num_leaves': 31, 'feature_fraction': 0.7478188789159933, 'bagging_fraction': 0.8881283366948645, 'bagging_freq': 4, 'min_child_samples': 48, 'max_depth': 3}. Best is trial 16 with value: 0.8249158249158249.\u001b[0m\n"
     ]
    },
    {
     "name": "stdout",
     "output_type": "stream",
     "text": [
      "Early stopping, best iteration is:\n",
      "[42]\ttraining's binary_logloss: 0.392018\tvalid_1's binary_logloss: 0.423349\n",
      "Training until validation scores don't improve for 1000 rounds\n",
      "Early stopping, best iteration is:\n",
      "[93]\ttraining's binary_logloss: 0.37428\tvalid_1's binary_logloss: 0.422322\n",
      "Training until validation scores don't improve for 1000 rounds\n",
      "Early stopping, best iteration is:\n",
      "[225]\ttraining's binary_logloss: 0.341076\tvalid_1's binary_logloss: 0.389019\n",
      "Training until validation scores don't improve for 1000 rounds\n",
      "Early stopping, best iteration is:\n",
      "[98]\ttraining's binary_logloss: 0.362978\tvalid_1's binary_logloss: 0.454658\n",
      "Training until validation scores don't improve for 1000 rounds\n",
      "Early stopping, best iteration is:\n",
      "[226]\ttraining's binary_logloss: 0.338266\tvalid_1's binary_logloss: 0.422551\n",
      "Training until validation scores don't improve for 1000 rounds\n"
     ]
    },
    {
     "name": "stderr",
     "output_type": "stream",
     "text": [
      "\u001b[32m[I 2021-09-29 21:39:43,765]\u001b[0m Trial 39 finished with value: 0.8148148148148148 and parameters: {'lambda_l1': 0.0004834661631216502, 'lambda_l2': 0.005327817946333344, 'num_leaves': 42, 'feature_fraction': 0.5769323431240908, 'bagging_fraction': 0.8017896496048581, 'bagging_freq': 3, 'min_child_samples': 61, 'max_depth': 5}. Best is trial 16 with value: 0.8249158249158249.\u001b[0m\n"
     ]
    },
    {
     "name": "stdout",
     "output_type": "stream",
     "text": [
      "Early stopping, best iteration is:\n",
      "[40]\ttraining's binary_logloss: 0.404022\tvalid_1's binary_logloss: 0.423853\n",
      "Training until validation scores don't improve for 1000 rounds\n",
      "Early stopping, best iteration is:\n",
      "[28]\ttraining's binary_logloss: 0.421643\tvalid_1's binary_logloss: 0.422962\n",
      "Training until validation scores don't improve for 1000 rounds\n",
      "Early stopping, best iteration is:\n",
      "[300]\ttraining's binary_logloss: 0.348623\tvalid_1's binary_logloss: 0.390791\n",
      "Training until validation scores don't improve for 1000 rounds\n",
      "Early stopping, best iteration is:\n",
      "[141]\ttraining's binary_logloss: 0.365172\tvalid_1's binary_logloss: 0.455186\n",
      "Training until validation scores don't improve for 1000 rounds\n",
      "Early stopping, best iteration is:\n",
      "[212]\ttraining's binary_logloss: 0.356103\tvalid_1's binary_logloss: 0.431409\n",
      "Training until validation scores don't improve for 1000 rounds\n"
     ]
    },
    {
     "name": "stderr",
     "output_type": "stream",
     "text": [
      "\u001b[32m[I 2021-09-29 21:39:45,923]\u001b[0m Trial 40 finished with value: 0.8170594837261503 and parameters: {'lambda_l1': 6.593048706725846e-05, 'lambda_l2': 0.001955288464507813, 'num_leaves': 24, 'feature_fraction': 0.8221889313377796, 'bagging_fraction': 0.8577437616889746, 'bagging_freq': 4, 'min_child_samples': 89, 'max_depth': 4}. Best is trial 16 with value: 0.8249158249158249.\u001b[0m\n"
     ]
    },
    {
     "name": "stdout",
     "output_type": "stream",
     "text": [
      "Early stopping, best iteration is:\n",
      "[28]\ttraining's binary_logloss: 0.423682\tvalid_1's binary_logloss: 0.424399\n",
      "Training until validation scores don't improve for 1000 rounds\n",
      "Early stopping, best iteration is:\n",
      "[992]\ttraining's binary_logloss: 0.315086\tvalid_1's binary_logloss: 0.413221\n",
      "Training until validation scores don't improve for 1000 rounds\n",
      "Early stopping, best iteration is:\n",
      "[375]\ttraining's binary_logloss: 0.358099\tvalid_1's binary_logloss: 0.391348\n",
      "Training until validation scores don't improve for 1000 rounds\n",
      "Early stopping, best iteration is:\n",
      "[190]\ttraining's binary_logloss: 0.366946\tvalid_1's binary_logloss: 0.456964\n",
      "Training until validation scores don't improve for 1000 rounds\n",
      "Early stopping, best iteration is:\n",
      "[370]\ttraining's binary_logloss: 0.348923\tvalid_1's binary_logloss: 0.427502\n",
      "Training until validation scores don't improve for 1000 rounds\n"
     ]
    },
    {
     "name": "stderr",
     "output_type": "stream",
     "text": [
      "\u001b[32m[I 2021-09-29 21:39:48,352]\u001b[0m Trial 41 finished with value: 0.819304152637486 and parameters: {'lambda_l1': 0.00021909475759227502, 'lambda_l2': 0.00030083970537832087, 'num_leaves': 21, 'feature_fraction': 0.559414124411647, 'bagging_fraction': 0.7619041779249326, 'bagging_freq': 5, 'min_child_samples': 87, 'max_depth': 7}. Best is trial 16 with value: 0.8249158249158249.\u001b[0m\n"
     ]
    },
    {
     "name": "stdout",
     "output_type": "stream",
     "text": [
      "Early stopping, best iteration is:\n",
      "[30]\ttraining's binary_logloss: 0.429591\tvalid_1's binary_logloss: 0.425941\n",
      "Training until validation scores don't improve for 1000 rounds\n",
      "Early stopping, best iteration is:\n",
      "[887]\ttraining's binary_logloss: 0.312931\tvalid_1's binary_logloss: 0.411325\n",
      "Training until validation scores don't improve for 1000 rounds\n",
      "Early stopping, best iteration is:\n",
      "[447]\ttraining's binary_logloss: 0.345869\tvalid_1's binary_logloss: 0.397696\n",
      "Training until validation scores don't improve for 1000 rounds\n",
      "Early stopping, best iteration is:\n",
      "[396]\ttraining's binary_logloss: 0.337118\tvalid_1's binary_logloss: 0.457514\n",
      "Training until validation scores don't improve for 1000 rounds\n",
      "Early stopping, best iteration is:\n",
      "[483]\ttraining's binary_logloss: 0.333121\tvalid_1's binary_logloss: 0.422249\n",
      "Training until validation scores don't improve for 1000 rounds\n"
     ]
    },
    {
     "name": "stderr",
     "output_type": "stream",
     "text": [
      "\u001b[32m[I 2021-09-29 21:39:50,974]\u001b[0m Trial 42 finished with value: 0.8226711560044894 and parameters: {'lambda_l1': 0.005383789171659768, 'lambda_l2': 0.01497829883287001, 'num_leaves': 10, 'feature_fraction': 0.6118756768234882, 'bagging_fraction': 0.7442592961549801, 'bagging_freq': 3, 'min_child_samples': 82, 'max_depth': 7}. Best is trial 16 with value: 0.8249158249158249.\u001b[0m\n"
     ]
    },
    {
     "name": "stdout",
     "output_type": "stream",
     "text": [
      "Early stopping, best iteration is:\n",
      "[72]\ttraining's binary_logloss: 0.403659\tvalid_1's binary_logloss: 0.427793\n",
      "Training until validation scores don't improve for 1000 rounds\n",
      "Early stopping, best iteration is:\n",
      "[538]\ttraining's binary_logloss: 0.323192\tvalid_1's binary_logloss: 0.413335\n",
      "Training until validation scores don't improve for 1000 rounds\n",
      "Early stopping, best iteration is:\n",
      "[415]\ttraining's binary_logloss: 0.339249\tvalid_1's binary_logloss: 0.391011\n",
      "Training until validation scores don't improve for 1000 rounds\n",
      "Early stopping, best iteration is:\n",
      "[172]\ttraining's binary_logloss: 0.362224\tvalid_1's binary_logloss: 0.448302\n",
      "Training until validation scores don't improve for 1000 rounds\n",
      "Early stopping, best iteration is:\n",
      "[566]\ttraining's binary_logloss: 0.317387\tvalid_1's binary_logloss: 0.420528\n",
      "Training until validation scores don't improve for 1000 rounds\n"
     ]
    },
    {
     "name": "stderr",
     "output_type": "stream",
     "text": [
      "\u001b[32m[I 2021-09-29 21:39:53,597]\u001b[0m Trial 43 finished with value: 0.8237934904601572 and parameters: {'lambda_l1': 0.0048162421969733145, 'lambda_l2': 0.008529394808260185, 'num_leaves': 11, 'feature_fraction': 0.5978913606242896, 'bagging_fraction': 0.7333706908330999, 'bagging_freq': 2, 'min_child_samples': 74, 'max_depth': 7}. Best is trial 16 with value: 0.8249158249158249.\u001b[0m\n"
     ]
    },
    {
     "name": "stdout",
     "output_type": "stream",
     "text": [
      "Early stopping, best iteration is:\n",
      "[46]\ttraining's binary_logloss: 0.408548\tvalid_1's binary_logloss: 0.425146\n",
      "Training until validation scores don't improve for 1000 rounds\n",
      "Early stopping, best iteration is:\n",
      "[239]\ttraining's binary_logloss: 0.349064\tvalid_1's binary_logloss: 0.420643\n",
      "Training until validation scores don't improve for 1000 rounds\n",
      "Early stopping, best iteration is:\n",
      "[295]\ttraining's binary_logloss: 0.341215\tvalid_1's binary_logloss: 0.391901\n",
      "Training until validation scores don't improve for 1000 rounds\n",
      "Early stopping, best iteration is:\n",
      "[366]\ttraining's binary_logloss: 0.321746\tvalid_1's binary_logloss: 0.457384\n",
      "Training until validation scores don't improve for 1000 rounds\n",
      "Early stopping, best iteration is:\n",
      "[322]\ttraining's binary_logloss: 0.33095\tvalid_1's binary_logloss: 0.422818\n",
      "Training until validation scores don't improve for 1000 rounds\n"
     ]
    },
    {
     "name": "stderr",
     "output_type": "stream",
     "text": [
      "\u001b[32m[I 2021-09-29 21:39:56,124]\u001b[0m Trial 44 finished with value: 0.8226711560044894 and parameters: {'lambda_l1': 0.03936171152461374, 'lambda_l2': 0.015752137599542408, 'num_leaves': 11, 'feature_fraction': 0.6702444210191641, 'bagging_fraction': 0.7406526217536296, 'bagging_freq': 2, 'min_child_samples': 73, 'max_depth': 7}. Best is trial 16 with value: 0.8249158249158249.\u001b[0m\n"
     ]
    },
    {
     "name": "stdout",
     "output_type": "stream",
     "text": [
      "Early stopping, best iteration is:\n",
      "[48]\ttraining's binary_logloss: 0.406174\tvalid_1's binary_logloss: 0.424031\n",
      "Training until validation scores don't improve for 1000 rounds\n",
      "Early stopping, best iteration is:\n",
      "[32]\ttraining's binary_logloss: 0.41556\tvalid_1's binary_logloss: 0.419932\n",
      "Training until validation scores don't improve for 1000 rounds\n",
      "Early stopping, best iteration is:\n",
      "[294]\ttraining's binary_logloss: 0.348331\tvalid_1's binary_logloss: 0.392154\n",
      "Training until validation scores don't improve for 1000 rounds\n",
      "Early stopping, best iteration is:\n",
      "[151]\ttraining's binary_logloss: 0.362927\tvalid_1's binary_logloss: 0.454651\n",
      "Training until validation scores don't improve for 1000 rounds\n",
      "Early stopping, best iteration is:\n",
      "[435]\ttraining's binary_logloss: 0.322022\tvalid_1's binary_logloss: 0.430855\n",
      "Training until validation scores don't improve for 1000 rounds\n"
     ]
    },
    {
     "name": "stderr",
     "output_type": "stream",
     "text": [
      "\u001b[32m[I 2021-09-29 21:39:58,447]\u001b[0m Trial 45 finished with value: 0.8125701459034792 and parameters: {'lambda_l1': 0.023818673162012093, 'lambda_l2': 0.008456347105480313, 'num_leaves': 13, 'feature_fraction': 0.6664246577295445, 'bagging_fraction': 0.6706970242917648, 'bagging_freq': 2, 'min_child_samples': 69, 'max_depth': 6}. Best is trial 16 with value: 0.8249158249158249.\u001b[0m\n"
     ]
    },
    {
     "name": "stdout",
     "output_type": "stream",
     "text": [
      "Early stopping, best iteration is:\n",
      "[46]\ttraining's binary_logloss: 0.409183\tvalid_1's binary_logloss: 0.422423\n",
      "Training until validation scores don't improve for 1000 rounds\n",
      "Early stopping, best iteration is:\n",
      "[399]\ttraining's binary_logloss: 0.333828\tvalid_1's binary_logloss: 0.420561\n",
      "Training until validation scores don't improve for 1000 rounds\n",
      "Early stopping, best iteration is:\n",
      "[296]\ttraining's binary_logloss: 0.350385\tvalid_1's binary_logloss: 0.394589\n",
      "Training until validation scores don't improve for 1000 rounds\n",
      "Early stopping, best iteration is:\n",
      "[140]\ttraining's binary_logloss: 0.367808\tvalid_1's binary_logloss: 0.453121\n",
      "Training until validation scores don't improve for 1000 rounds\n",
      "Early stopping, best iteration is:\n",
      "[316]\ttraining's binary_logloss: 0.340235\tvalid_1's binary_logloss: 0.427339\n",
      "Training until validation scores don't improve for 1000 rounds\n"
     ]
    },
    {
     "name": "stderr",
     "output_type": "stream",
     "text": [
      "\u001b[32m[I 2021-09-29 21:40:00,800]\u001b[0m Trial 46 finished with value: 0.8181818181818182 and parameters: {'lambda_l1': 0.05648341664565398, 'lambda_l2': 0.028247061979315438, 'num_leaves': 5, 'feature_fraction': 0.7158993232972335, 'bagging_fraction': 0.7267660748418461, 'bagging_freq': 2, 'min_child_samples': 74, 'max_depth': 7}. Best is trial 16 with value: 0.8249158249158249.\u001b[0m\n"
     ]
    },
    {
     "name": "stdout",
     "output_type": "stream",
     "text": [
      "Early stopping, best iteration is:\n",
      "[140]\ttraining's binary_logloss: 0.372999\tvalid_1's binary_logloss: 0.424337\n",
      "Training until validation scores don't improve for 1000 rounds\n",
      "Early stopping, best iteration is:\n",
      "[400]\ttraining's binary_logloss: 0.332608\tvalid_1's binary_logloss: 0.418711\n",
      "Training until validation scores don't improve for 1000 rounds\n",
      "Early stopping, best iteration is:\n",
      "[388]\ttraining's binary_logloss: 0.338713\tvalid_1's binary_logloss: 0.391007\n",
      "Training until validation scores don't improve for 1000 rounds\n",
      "Early stopping, best iteration is:\n",
      "[230]\ttraining's binary_logloss: 0.347436\tvalid_1's binary_logloss: 0.450695\n",
      "Training until validation scores don't improve for 1000 rounds\n",
      "Early stopping, best iteration is:\n",
      "[352]\ttraining's binary_logloss: 0.333245\tvalid_1's binary_logloss: 0.421397\n",
      "Training until validation scores don't improve for 1000 rounds\n"
     ]
    },
    {
     "name": "stderr",
     "output_type": "stream",
     "text": [
      "\u001b[32m[I 2021-09-29 21:40:03,242]\u001b[0m Trial 47 finished with value: 0.8204264870931538 and parameters: {'lambda_l1': 0.3671663183291128, 'lambda_l2': 0.07671680789511916, 'num_leaves': 11, 'feature_fraction': 0.6778476269804016, 'bagging_fraction': 0.6400235624610549, 'bagging_freq': 2, 'min_child_samples': 64, 'max_depth': 7}. Best is trial 16 with value: 0.8249158249158249.\u001b[0m\n"
     ]
    },
    {
     "name": "stdout",
     "output_type": "stream",
     "text": [
      "Early stopping, best iteration is:\n",
      "[46]\ttraining's binary_logloss: 0.408931\tvalid_1's binary_logloss: 0.422153\n",
      "Training until validation scores don't improve for 1000 rounds\n",
      "Early stopping, best iteration is:\n",
      "[157]\ttraining's binary_logloss: 0.37213\tvalid_1's binary_logloss: 0.419266\n",
      "Training until validation scores don't improve for 1000 rounds\n",
      "Early stopping, best iteration is:\n",
      "[455]\ttraining's binary_logloss: 0.335343\tvalid_1's binary_logloss: 0.395466\n",
      "Training until validation scores don't improve for 1000 rounds\n",
      "Early stopping, best iteration is:\n",
      "[161]\ttraining's binary_logloss: 0.364059\tvalid_1's binary_logloss: 0.456731\n",
      "Training until validation scores don't improve for 1000 rounds\n",
      "Early stopping, best iteration is:\n",
      "[429]\ttraining's binary_logloss: 0.325677\tvalid_1's binary_logloss: 0.426646\n",
      "Training until validation scores don't improve for 1000 rounds\n"
     ]
    },
    {
     "name": "stderr",
     "output_type": "stream",
     "text": [
      "\u001b[32m[I 2021-09-29 21:40:05,499]\u001b[0m Trial 48 finished with value: 0.8125701459034792 and parameters: {'lambda_l1': 0.025569743392479655, 'lambda_l2': 0.008979583802452291, 'num_leaves': 19, 'feature_fraction': 0.7001047101092668, 'bagging_fraction': 0.6997078840479776, 'bagging_freq': 6, 'min_child_samples': 75, 'max_depth': 6}. Best is trial 16 with value: 0.8249158249158249.\u001b[0m\n"
     ]
    },
    {
     "name": "stdout",
     "output_type": "stream",
     "text": [
      "Early stopping, best iteration is:\n",
      "[33]\ttraining's binary_logloss: 0.425034\tvalid_1's binary_logloss: 0.426513\n",
      "Training until validation scores don't improve for 1000 rounds\n",
      "Early stopping, best iteration is:\n",
      "[836]\ttraining's binary_logloss: 0.346807\tvalid_1's binary_logloss: 0.416989\n",
      "Training until validation scores don't improve for 1000 rounds\n",
      "Early stopping, best iteration is:\n",
      "[792]\ttraining's binary_logloss: 0.355625\tvalid_1's binary_logloss: 0.396956\n",
      "Training until validation scores don't improve for 1000 rounds\n",
      "Early stopping, best iteration is:\n",
      "[588]\ttraining's binary_logloss: 0.351661\tvalid_1's binary_logloss: 0.449244\n",
      "Training until validation scores don't improve for 1000 rounds\n",
      "Early stopping, best iteration is:\n",
      "[541]\ttraining's binary_logloss: 0.364293\tvalid_1's binary_logloss: 0.416422\n",
      "Training until validation scores don't improve for 1000 rounds\n"
     ]
    },
    {
     "name": "stderr",
     "output_type": "stream",
     "text": [
      "\u001b[32m[I 2021-09-29 21:40:07,945]\u001b[0m Trial 49 finished with value: 0.8181818181818182 and parameters: {'lambda_l1': 0.004973301503250879, 'lambda_l2': 0.27303271626220704, 'num_leaves': 3, 'feature_fraction': 0.588240712271912, 'bagging_fraction': 0.623847370440837, 'bagging_freq': 2, 'min_child_samples': 71, 'max_depth': 7}. Best is trial 16 with value: 0.8249158249158249.\u001b[0m\n"
     ]
    },
    {
     "name": "stdout",
     "output_type": "stream",
     "text": [
      "Early stopping, best iteration is:\n",
      "[46]\ttraining's binary_logloss: 0.42307\tvalid_1's binary_logloss: 0.420997\n",
      "Training until validation scores don't improve for 1000 rounds\n",
      "Early stopping, best iteration is:\n",
      "[85]\ttraining's binary_logloss: 0.383559\tvalid_1's binary_logloss: 0.420809\n",
      "Training until validation scores don't improve for 1000 rounds\n",
      "Early stopping, best iteration is:\n",
      "[159]\ttraining's binary_logloss: 0.364069\tvalid_1's binary_logloss: 0.38969\n",
      "Training until validation scores don't improve for 1000 rounds\n",
      "Early stopping, best iteration is:\n",
      "[140]\ttraining's binary_logloss: 0.359602\tvalid_1's binary_logloss: 0.45394\n",
      "Training until validation scores don't improve for 1000 rounds\n",
      "Early stopping, best iteration is:\n",
      "[300]\ttraining's binary_logloss: 0.335821\tvalid_1's binary_logloss: 0.421772\n",
      "Training until validation scores don't improve for 1000 rounds\n"
     ]
    },
    {
     "name": "stderr",
     "output_type": "stream",
     "text": [
      "\u001b[32m[I 2021-09-29 21:40:10,298]\u001b[0m Trial 50 finished with value: 0.8204264870931538 and parameters: {'lambda_l1': 2.2552240921693057e-05, 'lambda_l2': 0.0012094828975158436, 'num_leaves': 28, 'feature_fraction': 0.43106410446793786, 'bagging_fraction': 0.8019210636022329, 'bagging_freq': 4, 'min_child_samples': 61, 'max_depth': 6}. Best is trial 16 with value: 0.8249158249158249.\u001b[0m\n"
     ]
    },
    {
     "name": "stdout",
     "output_type": "stream",
     "text": [
      "Early stopping, best iteration is:\n",
      "[56]\ttraining's binary_logloss: 0.39647\tvalid_1's binary_logloss: 0.426581\n",
      "Training until validation scores don't improve for 1000 rounds\n",
      "Early stopping, best iteration is:\n",
      "[428]\ttraining's binary_logloss: 0.339049\tvalid_1's binary_logloss: 0.417941\n",
      "Training until validation scores don't improve for 1000 rounds\n",
      "Early stopping, best iteration is:\n",
      "[447]\ttraining's binary_logloss: 0.3412\tvalid_1's binary_logloss: 0.393353\n",
      "Training until validation scores don't improve for 1000 rounds\n",
      "Early stopping, best iteration is:\n",
      "[397]\ttraining's binary_logloss: 0.332581\tvalid_1's binary_logloss: 0.457456\n",
      "Training until validation scores don't improve for 1000 rounds\n",
      "Early stopping, best iteration is:\n",
      "[482]\ttraining's binary_logloss: 0.32954\tvalid_1's binary_logloss: 0.420877\n",
      "Training until validation scores don't improve for 1000 rounds\n"
     ]
    },
    {
     "name": "stderr",
     "output_type": "stream",
     "text": [
      "\u001b[32m[I 2021-09-29 21:40:12,901]\u001b[0m Trial 51 finished with value: 0.8271604938271605 and parameters: {'lambda_l1': 0.006425615808516421, 'lambda_l2': 0.01559102932372894, 'num_leaves': 10, 'feature_fraction': 0.6364948724969803, 'bagging_fraction': 0.7432627392810817, 'bagging_freq': 3, 'min_child_samples': 79, 'max_depth': 7}. Best is trial 51 with value: 0.8271604938271605.\u001b[0m\n"
     ]
    },
    {
     "name": "stdout",
     "output_type": "stream",
     "text": [
      "Early stopping, best iteration is:\n",
      "[70]\ttraining's binary_logloss: 0.403609\tvalid_1's binary_logloss: 0.428739\n",
      "Training until validation scores don't improve for 1000 rounds\n",
      "Early stopping, best iteration is:\n",
      "[428]\ttraining's binary_logloss: 0.332628\tvalid_1's binary_logloss: 0.417115\n",
      "Training until validation scores don't improve for 1000 rounds\n",
      "Early stopping, best iteration is:\n",
      "[336]\ttraining's binary_logloss: 0.348431\tvalid_1's binary_logloss: 0.393443\n",
      "Training until validation scores don't improve for 1000 rounds\n",
      "Early stopping, best iteration is:\n",
      "[238]\ttraining's binary_logloss: 0.347712\tvalid_1's binary_logloss: 0.452616\n",
      "Training until validation scores don't improve for 1000 rounds\n",
      "Early stopping, best iteration is:\n",
      "[544]\ttraining's binary_logloss: 0.314528\tvalid_1's binary_logloss: 0.42423\n",
      "Training until validation scores don't improve for 1000 rounds\n"
     ]
    },
    {
     "name": "stderr",
     "output_type": "stream",
     "text": [
      "\u001b[32m[I 2021-09-29 21:40:15,356]\u001b[0m Trial 52 finished with value: 0.8204264870931538 and parameters: {'lambda_l1': 0.023196063002335586, 'lambda_l2': 0.00010427117442176512, 'num_leaves': 14, 'feature_fraction': 0.6393888672275262, 'bagging_fraction': 0.7343405449427808, 'bagging_freq': 3, 'min_child_samples': 72, 'max_depth': 7}. Best is trial 51 with value: 0.8271604938271605.\u001b[0m\n"
     ]
    },
    {
     "name": "stdout",
     "output_type": "stream",
     "text": [
      "Early stopping, best iteration is:\n",
      "[72]\ttraining's binary_logloss: 0.397093\tvalid_1's binary_logloss: 0.422967\n",
      "Training until validation scores don't improve for 1000 rounds\n",
      "Early stopping, best iteration is:\n",
      "[26]\ttraining's binary_logloss: 0.426482\tvalid_1's binary_logloss: 0.422436\n",
      "Training until validation scores don't improve for 1000 rounds\n",
      "Early stopping, best iteration is:\n",
      "[306]\ttraining's binary_logloss: 0.352554\tvalid_1's binary_logloss: 0.391761\n",
      "Training until validation scores don't improve for 1000 rounds\n",
      "Early stopping, best iteration is:\n",
      "[311]\ttraining's binary_logloss: 0.336585\tvalid_1's binary_logloss: 0.454184\n",
      "Training until validation scores don't improve for 1000 rounds\n",
      "Early stopping, best iteration is:\n",
      "[712]\ttraining's binary_logloss: 0.304226\tvalid_1's binary_logloss: 0.428356\n",
      "Training until validation scores don't improve for 1000 rounds\n"
     ]
    },
    {
     "name": "stderr",
     "output_type": "stream",
     "text": [
      "\u001b[32m[I 2021-09-29 21:40:17,623]\u001b[0m Trial 53 finished with value: 0.8181818181818182 and parameters: {'lambda_l1': 0.07906991621693524, 'lambda_l2': 0.013732388128765956, 'num_leaves': 7, 'feature_fraction': 0.7515399383829362, 'bagging_fraction': 0.7487542729546542, 'bagging_freq': 4, 'min_child_samples': 79, 'max_depth': 7}. Best is trial 51 with value: 0.8271604938271605.\u001b[0m\n"
     ]
    },
    {
     "name": "stdout",
     "output_type": "stream",
     "text": [
      "Early stopping, best iteration is:\n",
      "[28]\ttraining's binary_logloss: 0.42868\tvalid_1's binary_logloss: 0.42557\n",
      "Training until validation scores don't improve for 1000 rounds\n",
      "Early stopping, best iteration is:\n",
      "[765]\ttraining's binary_logloss: 0.322578\tvalid_1's binary_logloss: 0.417513\n",
      "Training until validation scores don't improve for 1000 rounds\n",
      "Early stopping, best iteration is:\n",
      "[279]\ttraining's binary_logloss: 0.366725\tvalid_1's binary_logloss: 0.398824\n",
      "Training until validation scores don't improve for 1000 rounds\n",
      "Early stopping, best iteration is:\n",
      "[81]\ttraining's binary_logloss: 0.390639\tvalid_1's binary_logloss: 0.45916\n",
      "Training until validation scores don't improve for 1000 rounds\n",
      "Early stopping, best iteration is:\n",
      "[739]\ttraining's binary_logloss: 0.317087\tvalid_1's binary_logloss: 0.424023\n",
      "Training until validation scores don't improve for 1000 rounds\n"
     ]
    },
    {
     "name": "stderr",
     "output_type": "stream",
     "text": [
      "\u001b[32m[I 2021-09-29 21:40:20,113]\u001b[0m Trial 54 finished with value: 0.8159371492704826 and parameters: {'lambda_l1': 0.006494998571409731, 'lambda_l2': 0.08132925584669909, 'num_leaves': 10, 'feature_fraction': 0.6078538292163835, 'bagging_fraction': 0.6892064029716456, 'bagging_freq': 3, 'min_child_samples': 79, 'max_depth': 7}. Best is trial 51 with value: 0.8271604938271605.\u001b[0m\n"
     ]
    },
    {
     "name": "stdout",
     "output_type": "stream",
     "text": [
      "Early stopping, best iteration is:\n",
      "[72]\ttraining's binary_logloss: 0.407197\tvalid_1's binary_logloss: 0.42649\n",
      "Training until validation scores don't improve for 1000 rounds\n",
      "Early stopping, best iteration is:\n",
      "[843]\ttraining's binary_logloss: 0.343176\tvalid_1's binary_logloss: 0.416216\n",
      "Training until validation scores don't improve for 1000 rounds\n",
      "Early stopping, best iteration is:\n",
      "[474]\ttraining's binary_logloss: 0.367842\tvalid_1's binary_logloss: 0.39786\n",
      "Training until validation scores don't improve for 1000 rounds\n",
      "Early stopping, best iteration is:\n",
      "[548]\ttraining's binary_logloss: 0.344679\tvalid_1's binary_logloss: 0.459854\n",
      "Training until validation scores don't improve for 1000 rounds\n",
      "Early stopping, best iteration is:\n",
      "[741]\ttraining's binary_logloss: 0.337818\tvalid_1's binary_logloss: 0.423836\n",
      "Training until validation scores don't improve for 1000 rounds\n"
     ]
    },
    {
     "name": "stderr",
     "output_type": "stream",
     "text": [
      "\u001b[32m[I 2021-09-29 21:40:22,595]\u001b[0m Trial 55 finished with value: 0.8181818181818182 and parameters: {'lambda_l1': 0.004046523835859771, 'lambda_l2': 0.027603370776828066, 'num_leaves': 7, 'feature_fraction': 0.47651935956756847, 'bagging_fraction': 0.6580302754266316, 'bagging_freq': 3, 'min_child_samples': 83, 'max_depth': 7}. Best is trial 51 with value: 0.8271604938271605.\u001b[0m\n"
     ]
    },
    {
     "name": "stdout",
     "output_type": "stream",
     "text": [
      "Early stopping, best iteration is:\n",
      "[72]\ttraining's binary_logloss: 0.418027\tvalid_1's binary_logloss: 0.424815\n",
      "Training until validation scores don't improve for 1000 rounds\n",
      "Early stopping, best iteration is:\n",
      "[405]\ttraining's binary_logloss: 0.337429\tvalid_1's binary_logloss: 0.419082\n",
      "Training until validation scores don't improve for 1000 rounds\n",
      "Early stopping, best iteration is:\n",
      "[311]\ttraining's binary_logloss: 0.352279\tvalid_1's binary_logloss: 0.38648\n",
      "Training until validation scores don't improve for 1000 rounds\n",
      "Early stopping, best iteration is:\n",
      "[128]\ttraining's binary_logloss: 0.370135\tvalid_1's binary_logloss: 0.458351\n",
      "Training until validation scores don't improve for 1000 rounds\n",
      "Early stopping, best iteration is:\n",
      "[296]\ttraining's binary_logloss: 0.346535\tvalid_1's binary_logloss: 0.421533\n",
      "Training until validation scores don't improve for 1000 rounds\n"
     ]
    },
    {
     "name": "stderr",
     "output_type": "stream",
     "text": [
      "\u001b[32m[I 2021-09-29 21:40:24,919]\u001b[0m Trial 56 finished with value: 0.8170594837261503 and parameters: {'lambda_l1': 0.0017857111091329778, 'lambda_l2': 0.005649434364376764, 'num_leaves': 12, 'feature_fraction': 0.5723839062912414, 'bagging_fraction': 0.7738825021264206, 'bagging_freq': 4, 'min_child_samples': 77, 'max_depth': 7}. Best is trial 51 with value: 0.8271604938271605.\u001b[0m\n"
     ]
    },
    {
     "name": "stdout",
     "output_type": "stream",
     "text": [
      "Early stopping, best iteration is:\n",
      "[43]\ttraining's binary_logloss: 0.414145\tvalid_1's binary_logloss: 0.424847\n",
      "Training until validation scores don't improve for 1000 rounds\n",
      "Early stopping, best iteration is:\n",
      "[32]\ttraining's binary_logloss: 0.414744\tvalid_1's binary_logloss: 0.422988\n",
      "Training until validation scores don't improve for 1000 rounds\n",
      "Early stopping, best iteration is:\n",
      "[224]\ttraining's binary_logloss: 0.360364\tvalid_1's binary_logloss: 0.387708\n",
      "Training until validation scores don't improve for 1000 rounds\n",
      "Early stopping, best iteration is:\n",
      "[233]\ttraining's binary_logloss: 0.344049\tvalid_1's binary_logloss: 0.454245\n",
      "Training until validation scores don't improve for 1000 rounds\n",
      "Early stopping, best iteration is:\n",
      "[558]\ttraining's binary_logloss: 0.312713\tvalid_1's binary_logloss: 0.420081\n",
      "Training until validation scores don't improve for 1000 rounds\n"
     ]
    },
    {
     "name": "stderr",
     "output_type": "stream",
     "text": [
      "\u001b[32m[I 2021-09-29 21:40:27,239]\u001b[0m Trial 57 finished with value: 0.8159371492704826 and parameters: {'lambda_l1': 0.24893006214800245, 'lambda_l2': 0.0022664944814013988, 'num_leaves': 5, 'feature_fraction': 0.670556690248346, 'bagging_fraction': 0.8324351341097214, 'bagging_freq': 2, 'min_child_samples': 73, 'max_depth': 6}. Best is trial 51 with value: 0.8271604938271605.\u001b[0m\n"
     ]
    },
    {
     "name": "stdout",
     "output_type": "stream",
     "text": [
      "Early stopping, best iteration is:\n",
      "[28]\ttraining's binary_logloss: 0.422545\tvalid_1's binary_logloss: 0.42624\n",
      "Training until validation scores don't improve for 1000 rounds\n",
      "Early stopping, best iteration is:\n",
      "[415]\ttraining's binary_logloss: 0.348939\tvalid_1's binary_logloss: 0.423273\n",
      "Training until validation scores don't improve for 1000 rounds\n",
      "Early stopping, best iteration is:\n",
      "[377]\ttraining's binary_logloss: 0.356743\tvalid_1's binary_logloss: 0.388357\n",
      "Training until validation scores don't improve for 1000 rounds\n",
      "Early stopping, best iteration is:\n",
      "[129]\ttraining's binary_logloss: 0.382564\tvalid_1's binary_logloss: 0.455111\n",
      "Training until validation scores don't improve for 1000 rounds\n",
      "Early stopping, best iteration is:\n",
      "[371]\ttraining's binary_logloss: 0.349292\tvalid_1's binary_logloss: 0.422332\n",
      "Training until validation scores don't improve for 1000 rounds\n"
     ]
    },
    {
     "name": "stderr",
     "output_type": "stream",
     "text": [
      "\u001b[32m[I 2021-09-29 21:40:29,462]\u001b[0m Trial 58 finished with value: 0.8114478114478114 and parameters: {'lambda_l1': 0.011268789156810725, 'lambda_l2': 4.6647634145413544e-05, 'num_leaves': 9, 'feature_fraction': 0.59329873400187, 'bagging_fraction': 0.7105058039143429, 'bagging_freq': 5, 'min_child_samples': 81, 'max_depth': 7}. Best is trial 51 with value: 0.8271604938271605.\u001b[0m\n"
     ]
    },
    {
     "name": "stdout",
     "output_type": "stream",
     "text": [
      "Early stopping, best iteration is:\n",
      "[117]\ttraining's binary_logloss: 0.391498\tvalid_1's binary_logloss: 0.424626\n",
      "Training until validation scores don't improve for 1000 rounds\n",
      "Early stopping, best iteration is:\n",
      "[428]\ttraining's binary_logloss: 0.337225\tvalid_1's binary_logloss: 0.415423\n",
      "Training until validation scores don't improve for 1000 rounds\n",
      "Early stopping, best iteration is:\n",
      "[342]\ttraining's binary_logloss: 0.349025\tvalid_1's binary_logloss: 0.391895\n",
      "Training until validation scores don't improve for 1000 rounds\n",
      "Early stopping, best iteration is:\n",
      "[431]\ttraining's binary_logloss: 0.322681\tvalid_1's binary_logloss: 0.452307\n",
      "Training until validation scores don't improve for 1000 rounds\n",
      "Early stopping, best iteration is:\n",
      "[285]\ttraining's binary_logloss: 0.347986\tvalid_1's binary_logloss: 0.421083\n",
      "Training until validation scores don't improve for 1000 rounds\n"
     ]
    },
    {
     "name": "stderr",
     "output_type": "stream",
     "text": [
      "\u001b[32m[I 2021-09-29 21:40:31,969]\u001b[0m Trial 59 finished with value: 0.8249158249158249 and parameters: {'lambda_l1': 1.4265415496390105e-05, 'lambda_l2': 0.0007826712763632837, 'num_leaves': 16, 'feature_fraction': 0.5121248177642268, 'bagging_fraction': 0.6770252749580015, 'bagging_freq': 3, 'min_child_samples': 70, 'max_depth': 6}. Best is trial 51 with value: 0.8271604938271605.\u001b[0m\n"
     ]
    },
    {
     "name": "stdout",
     "output_type": "stream",
     "text": [
      "Early stopping, best iteration is:\n",
      "[72]\ttraining's binary_logloss: 0.400864\tvalid_1's binary_logloss: 0.425352\n",
      "Training until validation scores don't improve for 1000 rounds\n",
      "Early stopping, best iteration is:\n",
      "[446]\ttraining's binary_logloss: 0.345311\tvalid_1's binary_logloss: 0.421872\n",
      "Training until validation scores don't improve for 1000 rounds\n",
      "Early stopping, best iteration is:\n",
      "[581]\ttraining's binary_logloss: 0.335775\tvalid_1's binary_logloss: 0.387688\n",
      "Training until validation scores don't improve for 1000 rounds\n",
      "Early stopping, best iteration is:\n",
      "[345]\ttraining's binary_logloss: 0.34543\tvalid_1's binary_logloss: 0.454947\n",
      "Training until validation scores don't improve for 1000 rounds\n",
      "Early stopping, best iteration is:\n",
      "[414]\ttraining's binary_logloss: 0.342447\tvalid_1's binary_logloss: 0.417997\n",
      "Training until validation scores don't improve for 1000 rounds\n"
     ]
    },
    {
     "name": "stderr",
     "output_type": "stream",
     "text": [
      "\u001b[32m[I 2021-09-29 21:40:34,482]\u001b[0m Trial 60 finished with value: 0.813692480359147 and parameters: {'lambda_l1': 3.579924446988113e-05, 'lambda_l2': 0.0008212654771431528, 'num_leaves': 15, 'feature_fraction': 0.4559311013824012, 'bagging_fraction': 0.6719339919873218, 'bagging_freq': 3, 'min_child_samples': 69, 'max_depth': 6}. Best is trial 51 with value: 0.8271604938271605.\u001b[0m\n"
     ]
    },
    {
     "name": "stdout",
     "output_type": "stream",
     "text": [
      "Early stopping, best iteration is:\n",
      "[125]\ttraining's binary_logloss: 0.389615\tvalid_1's binary_logloss: 0.427996\n",
      "Training until validation scores don't improve for 1000 rounds\n",
      "Early stopping, best iteration is:\n",
      "[116]\ttraining's binary_logloss: 0.380992\tvalid_1's binary_logloss: 0.420292\n",
      "Training until validation scores don't improve for 1000 rounds\n",
      "Early stopping, best iteration is:\n",
      "[342]\ttraining's binary_logloss: 0.340894\tvalid_1's binary_logloss: 0.387638\n",
      "Training until validation scores don't improve for 1000 rounds\n",
      "Early stopping, best iteration is:\n",
      "[431]\ttraining's binary_logloss: 0.313925\tvalid_1's binary_logloss: 0.448844\n",
      "Training until validation scores don't improve for 1000 rounds\n",
      "Early stopping, best iteration is:\n",
      "[285]\ttraining's binary_logloss: 0.338638\tvalid_1's binary_logloss: 0.423386\n",
      "Training until validation scores don't improve for 1000 rounds\n"
     ]
    },
    {
     "name": "stderr",
     "output_type": "stream",
     "text": [
      "\u001b[32m[I 2021-09-29 21:40:36,890]\u001b[0m Trial 61 finished with value: 0.8148148148148148 and parameters: {'lambda_l1': 1.3883423584637054e-05, 'lambda_l2': 0.003877492907968299, 'num_leaves': 20, 'feature_fraction': 0.5118660394332872, 'bagging_fraction': 0.6822339263545886, 'bagging_freq': 3, 'min_child_samples': 65, 'max_depth': 7}. Best is trial 51 with value: 0.8271604938271605.\u001b[0m\n"
     ]
    },
    {
     "name": "stdout",
     "output_type": "stream",
     "text": [
      "Early stopping, best iteration is:\n",
      "[75]\ttraining's binary_logloss: 0.395409\tvalid_1's binary_logloss: 0.420752\n",
      "Training until validation scores don't improve for 1000 rounds\n",
      "Early stopping, best iteration is:\n",
      "[644]\ttraining's binary_logloss: 0.32814\tvalid_1's binary_logloss: 0.41788\n",
      "Training until validation scores don't improve for 1000 rounds\n",
      "Early stopping, best iteration is:\n",
      "[308]\ttraining's binary_logloss: 0.364373\tvalid_1's binary_logloss: 0.396562\n",
      "Training until validation scores don't improve for 1000 rounds\n",
      "Early stopping, best iteration is:\n",
      "[460]\ttraining's binary_logloss: 0.332073\tvalid_1's binary_logloss: 0.452655\n",
      "Training until validation scores don't improve for 1000 rounds\n",
      "Early stopping, best iteration is:\n",
      "[585]\ttraining's binary_logloss: 0.326114\tvalid_1's binary_logloss: 0.421307\n",
      "Training until validation scores don't improve for 1000 rounds\n"
     ]
    },
    {
     "name": "stderr",
     "output_type": "stream",
     "text": [
      "\u001b[32m[I 2021-09-29 21:40:39,374]\u001b[0m Trial 62 finished with value: 0.8249158249158249 and parameters: {'lambda_l1': 1.6697765816298332e-05, 'lambda_l2': 0.00011151164747777704, 'num_leaves': 15, 'feature_fraction': 0.6264428656151797, 'bagging_fraction': 0.6209427333268286, 'bagging_freq': 4, 'min_child_samples': 70, 'max_depth': 7}. Best is trial 51 with value: 0.8271604938271605.\u001b[0m\n"
     ]
    },
    {
     "name": "stdout",
     "output_type": "stream",
     "text": [
      "Early stopping, best iteration is:\n",
      "[47]\ttraining's binary_logloss: 0.414595\tvalid_1's binary_logloss: 0.421722\n",
      "Training until validation scores don't improve for 1000 rounds\n",
      "Early stopping, best iteration is:\n",
      "[661]\ttraining's binary_logloss: 0.334661\tvalid_1's binary_logloss: 0.415402\n",
      "Training until validation scores don't improve for 1000 rounds\n",
      "Early stopping, best iteration is:\n",
      "[759]\ttraining's binary_logloss: 0.327895\tvalid_1's binary_logloss: 0.393239\n",
      "Training until validation scores don't improve for 1000 rounds\n",
      "Early stopping, best iteration is:\n",
      "[344]\ttraining's binary_logloss: 0.350266\tvalid_1's binary_logloss: 0.45303\n",
      "Training until validation scores don't improve for 1000 rounds\n",
      "Early stopping, best iteration is:\n",
      "[544]\ttraining's binary_logloss: 0.335813\tvalid_1's binary_logloss: 0.421202\n",
      "Training until validation scores don't improve for 1000 rounds\n"
     ]
    },
    {
     "name": "stderr",
     "output_type": "stream",
     "text": [
      "\u001b[32m[I 2021-09-29 21:40:41,891]\u001b[0m Trial 63 finished with value: 0.8271604938271605 and parameters: {'lambda_l1': 1.5947351069580255e-05, 'lambda_l2': 0.0001471261468053776, 'num_leaves': 18, 'feature_fraction': 0.40465832318051553, 'bagging_fraction': 0.6301051005158417, 'bagging_freq': 4, 'min_child_samples': 69, 'max_depth': 6}. Best is trial 51 with value: 0.8271604938271605.\u001b[0m\n"
     ]
    },
    {
     "name": "stdout",
     "output_type": "stream",
     "text": [
      "Early stopping, best iteration is:\n",
      "[56]\ttraining's binary_logloss: 0.41479\tvalid_1's binary_logloss: 0.429081\n",
      "Training until validation scores don't improve for 1000 rounds\n",
      "Early stopping, best iteration is:\n",
      "[597]\ttraining's binary_logloss: 0.347307\tvalid_1's binary_logloss: 0.414758\n",
      "Training until validation scores don't improve for 1000 rounds\n",
      "Early stopping, best iteration is:\n",
      "[324]\ttraining's binary_logloss: 0.371595\tvalid_1's binary_logloss: 0.400601\n",
      "Training until validation scores don't improve for 1000 rounds\n",
      "Early stopping, best iteration is:\n",
      "[168]\ttraining's binary_logloss: 0.38168\tvalid_1's binary_logloss: 0.450182\n",
      "Training until validation scores don't improve for 1000 rounds\n",
      "Early stopping, best iteration is:\n",
      "[544]\ttraining's binary_logloss: 0.344006\tvalid_1's binary_logloss: 0.419982\n",
      "Training until validation scores don't improve for 1000 rounds\n"
     ]
    },
    {
     "name": "stderr",
     "output_type": "stream",
     "text": [
      "\u001b[32m[I 2021-09-29 21:40:44,423]\u001b[0m Trial 64 finished with value: 0.819304152637486 and parameters: {'lambda_l1': 1.676104579390977e-05, 'lambda_l2': 0.000122450279707049, 'num_leaves': 16, 'feature_fraction': 0.41421589417511434, 'bagging_fraction': 0.5924052675862962, 'bagging_freq': 4, 'min_child_samples': 70, 'max_depth': 5}. Best is trial 51 with value: 0.8271604938271605.\u001b[0m\n"
     ]
    },
    {
     "name": "stdout",
     "output_type": "stream",
     "text": [
      "Early stopping, best iteration is:\n",
      "[48]\ttraining's binary_logloss: 0.421334\tvalid_1's binary_logloss: 0.424856\n",
      "Training until validation scores don't improve for 1000 rounds\n",
      "Early stopping, best iteration is:\n",
      "[290]\ttraining's binary_logloss: 0.359148\tvalid_1's binary_logloss: 0.415773\n",
      "Training until validation scores don't improve for 1000 rounds\n",
      "Early stopping, best iteration is:\n",
      "[383]\ttraining's binary_logloss: 0.351099\tvalid_1's binary_logloss: 0.387844\n",
      "Training until validation scores don't improve for 1000 rounds\n",
      "Early stopping, best iteration is:\n",
      "[375]\ttraining's binary_logloss: 0.340732\tvalid_1's binary_logloss: 0.447998\n",
      "Training until validation scores don't improve for 1000 rounds\n",
      "Early stopping, best iteration is:\n",
      "[376]\ttraining's binary_logloss: 0.344373\tvalid_1's binary_logloss: 0.422381\n",
      "Training until validation scores don't improve for 1000 rounds\n"
     ]
    },
    {
     "name": "stderr",
     "output_type": "stream",
     "text": [
      "\u001b[32m[I 2021-09-29 21:40:46,863]\u001b[0m Trial 65 finished with value: 0.8159371492704826 and parameters: {'lambda_l1': 6.0776718185403335e-05, 'lambda_l2': 0.0002854743962925821, 'num_leaves': 23, 'feature_fraction': 0.4016360418918355, 'bagging_fraction': 0.6152693717720488, 'bagging_freq': 5, 'min_child_samples': 62, 'max_depth': 5}. Best is trial 51 with value: 0.8271604938271605.\u001b[0m\n"
     ]
    },
    {
     "name": "stdout",
     "output_type": "stream",
     "text": [
      "Early stopping, best iteration is:\n",
      "[336]\ttraining's binary_logloss: 0.348119\tvalid_1's binary_logloss: 0.427223\n",
      "Training until validation scores don't improve for 1000 rounds\n",
      "Early stopping, best iteration is:\n",
      "[596]\ttraining's binary_logloss: 0.328233\tvalid_1's binary_logloss: 0.417075\n",
      "Training until validation scores don't improve for 1000 rounds\n",
      "Early stopping, best iteration is:\n",
      "[308]\ttraining's binary_logloss: 0.359024\tvalid_1's binary_logloss: 0.39123\n",
      "Training until validation scores don't improve for 1000 rounds\n",
      "Early stopping, best iteration is:\n",
      "[344]\ttraining's binary_logloss: 0.341523\tvalid_1's binary_logloss: 0.447453\n",
      "Training until validation scores don't improve for 1000 rounds\n",
      "Early stopping, best iteration is:\n",
      "[547]\ttraining's binary_logloss: 0.325112\tvalid_1's binary_logloss: 0.421582\n",
      "Training until validation scores don't improve for 1000 rounds\n"
     ]
    },
    {
     "name": "stderr",
     "output_type": "stream",
     "text": [
      "\u001b[32m[I 2021-09-29 21:40:49,517]\u001b[0m Trial 66 finished with value: 0.8204264870931538 and parameters: {'lambda_l1': 2.215451499654224e-05, 'lambda_l2': 4.521737346480142e-05, 'num_leaves': 25, 'feature_fraction': 0.44747589308189584, 'bagging_fraction': 0.5923409450111004, 'bagging_freq': 4, 'min_child_samples': 59, 'max_depth': 6}. Best is trial 51 with value: 0.8271604938271605.\u001b[0m\n"
     ]
    },
    {
     "name": "stdout",
     "output_type": "stream",
     "text": [
      "Early stopping, best iteration is:\n",
      "[47]\ttraining's binary_logloss: 0.414608\tvalid_1's binary_logloss: 0.425906\n",
      "Training until validation scores don't improve for 1000 rounds\n",
      "Early stopping, best iteration is:\n",
      "[750]\ttraining's binary_logloss: 0.346466\tvalid_1's binary_logloss: 0.41036\n",
      "Training until validation scores don't improve for 1000 rounds\n",
      "Early stopping, best iteration is:\n",
      "[326]\ttraining's binary_logloss: 0.383692\tvalid_1's binary_logloss: 0.404825\n",
      "Training until validation scores don't improve for 1000 rounds\n",
      "Early stopping, best iteration is:\n",
      "[190]\ttraining's binary_logloss: 0.382229\tvalid_1's binary_logloss: 0.453519\n",
      "Training until validation scores don't improve for 1000 rounds\n",
      "Early stopping, best iteration is:\n",
      "[680]\ttraining's binary_logloss: 0.343576\tvalid_1's binary_logloss: 0.415983\n",
      "Training until validation scores don't improve for 1000 rounds\n"
     ]
    },
    {
     "name": "stderr",
     "output_type": "stream",
     "text": [
      "\u001b[32m[I 2021-09-29 21:40:51,964]\u001b[0m Trial 67 finished with value: 0.8114478114478114 and parameters: {'lambda_l1': 1.217544993580894e-05, 'lambda_l2': 6.0096076787962296e-05, 'num_leaves': 13, 'feature_fraction': 0.49594625029956274, 'bagging_fraction': 0.5223686058098753, 'bagging_freq': 5, 'min_child_samples': 67, 'max_depth': 6}. Best is trial 51 with value: 0.8271604938271605.\u001b[0m\n"
     ]
    },
    {
     "name": "stdout",
     "output_type": "stream",
     "text": [
      "Early stopping, best iteration is:\n",
      "[60]\ttraining's binary_logloss: 0.421332\tvalid_1's binary_logloss: 0.424041\n",
      "Training until validation scores don't improve for 1000 rounds\n",
      "Early stopping, best iteration is:\n",
      "[1242]\ttraining's binary_logloss: 0.325074\tvalid_1's binary_logloss: 0.41876\n",
      "Training until validation scores don't improve for 1000 rounds\n",
      "Early stopping, best iteration is:\n",
      "[573]\ttraining's binary_logloss: 0.364465\tvalid_1's binary_logloss: 0.398832\n",
      "Training until validation scores don't improve for 1000 rounds\n",
      "Early stopping, best iteration is:\n",
      "[390]\ttraining's binary_logloss: 0.363838\tvalid_1's binary_logloss: 0.459069\n",
      "Training until validation scores don't improve for 1000 rounds\n",
      "Early stopping, best iteration is:\n",
      "[809]\ttraining's binary_logloss: 0.336327\tvalid_1's binary_logloss: 0.427364\n",
      "Training until validation scores don't improve for 1000 rounds\n"
     ]
    },
    {
     "name": "stderr",
     "output_type": "stream",
     "text": [
      "\u001b[32m[I 2021-09-29 21:40:54,758]\u001b[0m Trial 68 finished with value: 0.8148148148148148 and parameters: {'lambda_l1': 3.9710506039193795e-05, 'lambda_l2': 1.8241728458643237e-05, 'num_leaves': 18, 'feature_fraction': 0.4213392232121843, 'bagging_fraction': 0.5765328766000137, 'bagging_freq': 3, 'min_child_samples': 76, 'max_depth': 4}. Best is trial 51 with value: 0.8271604938271605.\u001b[0m\n"
     ]
    },
    {
     "name": "stdout",
     "output_type": "stream",
     "text": [
      "Early stopping, best iteration is:\n",
      "[127]\ttraining's binary_logloss: 0.404711\tvalid_1's binary_logloss: 0.424814\n",
      "Training until validation scores don't improve for 1000 rounds\n",
      "Early stopping, best iteration is:\n",
      "[104]\ttraining's binary_logloss: 0.389329\tvalid_1's binary_logloss: 0.419602\n",
      "Training until validation scores don't improve for 1000 rounds\n",
      "Early stopping, best iteration is:\n",
      "[308]\ttraining's binary_logloss: 0.353388\tvalid_1's binary_logloss: 0.396043\n",
      "Training until validation scores don't improve for 1000 rounds\n",
      "Early stopping, best iteration is:\n",
      "[167]\ttraining's binary_logloss: 0.362958\tvalid_1's binary_logloss: 0.452325\n",
      "Training until validation scores don't improve for 1000 rounds\n",
      "Early stopping, best iteration is:\n",
      "[295]\ttraining's binary_logloss: 0.344604\tvalid_1's binary_logloss: 0.422335\n",
      "Training until validation scores don't improve for 1000 rounds\n"
     ]
    },
    {
     "name": "stderr",
     "output_type": "stream",
     "text": [
      "\u001b[32m[I 2021-09-29 21:40:57,025]\u001b[0m Trial 69 finished with value: 0.819304152637486 and parameters: {'lambda_l1': 0.0001750429194651668, 'lambda_l2': 0.00042891748106399275, 'num_leaves': 15, 'feature_fraction': 0.6462241526692333, 'bagging_fraction': 0.6337342012471059, 'bagging_freq': 4, 'min_child_samples': 70, 'max_depth': 6}. Best is trial 51 with value: 0.8271604938271605.\u001b[0m\n"
     ]
    },
    {
     "name": "stdout",
     "output_type": "stream",
     "text": [
      "Early stopping, best iteration is:\n",
      "[48]\ttraining's binary_logloss: 0.415354\tvalid_1's binary_logloss: 0.423427\n",
      "Training until validation scores don't improve for 1000 rounds\n",
      "Early stopping, best iteration is:\n",
      "[390]\ttraining's binary_logloss: 0.338317\tvalid_1's binary_logloss: 0.413764\n",
      "Training until validation scores don't improve for 1000 rounds\n",
      "Early stopping, best iteration is:\n",
      "[381]\ttraining's binary_logloss: 0.340885\tvalid_1's binary_logloss: 0.3853\n",
      "Training until validation scores don't improve for 1000 rounds\n",
      "Early stopping, best iteration is:\n",
      "[136]\ttraining's binary_logloss: 0.367381\tvalid_1's binary_logloss: 0.448746\n",
      "Training until validation scores don't improve for 1000 rounds\n",
      "Early stopping, best iteration is:\n",
      "[372]\ttraining's binary_logloss: 0.33547\tvalid_1's binary_logloss: 0.422544\n",
      "Training until validation scores don't improve for 1000 rounds\n"
     ]
    },
    {
     "name": "stderr",
     "output_type": "stream",
     "text": [
      "\u001b[32m[I 2021-09-29 21:40:59,351]\u001b[0m Trial 70 finished with value: 0.8170594837261503 and parameters: {'lambda_l1': 1.0012056518279357e-05, 'lambda_l2': 0.0001576251621507943, 'num_leaves': 33, 'feature_fraction': 0.5258881118972228, 'bagging_fraction': 0.6464707213556365, 'bagging_freq': 5, 'min_child_samples': 66, 'max_depth': 7}. Best is trial 51 with value: 0.8271604938271605.\u001b[0m\n"
     ]
    },
    {
     "name": "stdout",
     "output_type": "stream",
     "text": [
      "Early stopping, best iteration is:\n",
      "[30]\ttraining's binary_logloss: 0.427387\tvalid_1's binary_logloss: 0.425311\n",
      "Training until validation scores don't improve for 1000 rounds\n",
      "Early stopping, best iteration is:\n",
      "[1257]\ttraining's binary_logloss: 0.314589\tvalid_1's binary_logloss: 0.415008\n",
      "Training until validation scores don't improve for 1000 rounds\n",
      "Early stopping, best iteration is:\n",
      "[308]\ttraining's binary_logloss: 0.377862\tvalid_1's binary_logloss: 0.398579\n",
      "Training until validation scores don't improve for 1000 rounds\n",
      "Early stopping, best iteration is:\n",
      "[344]\ttraining's binary_logloss: 0.361926\tvalid_1's binary_logloss: 0.449851\n",
      "Training until validation scores don't improve for 1000 rounds\n",
      "Early stopping, best iteration is:\n",
      "[544]\ttraining's binary_logloss: 0.345768\tvalid_1's binary_logloss: 0.414788\n",
      "Training until validation scores don't improve for 1000 rounds\n"
     ]
    },
    {
     "name": "stderr",
     "output_type": "stream",
     "text": [
      "\u001b[32m[I 2021-09-29 21:41:01,814]\u001b[0m Trial 71 finished with value: 0.8204264870931538 and parameters: {'lambda_l1': 2.353923766795799e-05, 'lambda_l2': 7.961052900347985e-05, 'num_leaves': 17, 'feature_fraction': 0.40012990802804943, 'bagging_fraction': 0.6182455046132214, 'bagging_freq': 4, 'min_child_samples': 75, 'max_depth': 7}. Best is trial 51 with value: 0.8271604938271605.\u001b[0m\n"
     ]
    },
    {
     "name": "stdout",
     "output_type": "stream",
     "text": [
      "Early stopping, best iteration is:\n",
      "[48]\ttraining's binary_logloss: 0.421772\tvalid_1's binary_logloss: 0.428808\n",
      "Training until validation scores don't improve for 1000 rounds\n",
      "Early stopping, best iteration is:\n",
      "[605]\ttraining's binary_logloss: 0.34781\tvalid_1's binary_logloss: 0.412585\n",
      "Training until validation scores don't improve for 1000 rounds\n",
      "Early stopping, best iteration is:\n",
      "[370]\ttraining's binary_logloss: 0.368386\tvalid_1's binary_logloss: 0.401906\n",
      "Training until validation scores don't improve for 1000 rounds\n",
      "Early stopping, best iteration is:\n",
      "[168]\ttraining's binary_logloss: 0.382483\tvalid_1's binary_logloss: 0.454253\n",
      "Training until validation scores don't improve for 1000 rounds\n",
      "Early stopping, best iteration is:\n",
      "[548]\ttraining's binary_logloss: 0.342671\tvalid_1's binary_logloss: 0.421111\n",
      "Training until validation scores don't improve for 1000 rounds\n"
     ]
    },
    {
     "name": "stderr",
     "output_type": "stream",
     "text": [
      "\u001b[32m[I 2021-09-29 21:41:04,147]\u001b[0m Trial 72 finished with value: 0.8125701459034792 and parameters: {'lambda_l1': 7.177386654527836e-05, 'lambda_l2': 0.0006719243632969689, 'num_leaves': 19, 'feature_fraction': 0.4719893936962991, 'bagging_fraction': 0.6604650414196171, 'bagging_freq': 4, 'min_child_samples': 78, 'max_depth': 7}. Best is trial 51 with value: 0.8271604938271605.\u001b[0m\n"
     ]
    },
    {
     "name": "stdout",
     "output_type": "stream",
     "text": [
      "Early stopping, best iteration is:\n",
      "[56]\ttraining's binary_logloss: 0.420484\tvalid_1's binary_logloss: 0.429103\n",
      "Training until validation scores don't improve for 1000 rounds\n",
      "Early stopping, best iteration is:\n",
      "[127]\ttraining's binary_logloss: 0.365113\tvalid_1's binary_logloss: 0.418934\n",
      "Training until validation scores don't improve for 1000 rounds\n",
      "Early stopping, best iteration is:\n",
      "[181]\ttraining's binary_logloss: 0.358143\tvalid_1's binary_logloss: 0.393912\n",
      "Training until validation scores don't improve for 1000 rounds\n",
      "Early stopping, best iteration is:\n",
      "[192]\ttraining's binary_logloss: 0.339429\tvalid_1's binary_logloss: 0.460449\n",
      "Training until validation scores don't improve for 1000 rounds\n",
      "Early stopping, best iteration is:\n",
      "[190]\ttraining's binary_logloss: 0.349278\tvalid_1's binary_logloss: 0.42058\n",
      "Training until validation scores don't improve for 1000 rounds\n"
     ]
    },
    {
     "name": "stderr",
     "output_type": "stream",
     "text": [
      "\u001b[32m[I 2021-09-29 21:41:06,587]\u001b[0m Trial 73 finished with value: 0.8080808080808081 and parameters: {'lambda_l1': 3.0505903175012396e-05, 'lambda_l2': 0.000336459685545299, 'num_leaves': 21, 'feature_fraction': 0.6247231394937612, 'bagging_fraction': 0.8739673170301472, 'bagging_freq': 6, 'min_child_samples': 68, 'max_depth': 7}. Best is trial 51 with value: 0.8271604938271605.\u001b[0m\n"
     ]
    },
    {
     "name": "stdout",
     "output_type": "stream",
     "text": [
      "Early stopping, best iteration is:\n",
      "[36]\ttraining's binary_logloss: 0.407254\tvalid_1's binary_logloss: 0.422743\n",
      "Training until validation scores don't improve for 1000 rounds\n",
      "Early stopping, best iteration is:\n",
      "[1012]\ttraining's binary_logloss: 0.312797\tvalid_1's binary_logloss: 0.415117\n",
      "Training until validation scores don't improve for 1000 rounds\n",
      "Early stopping, best iteration is:\n",
      "[419]\ttraining's binary_logloss: 0.355729\tvalid_1's binary_logloss: 0.401105\n",
      "Training until validation scores don't improve for 1000 rounds\n",
      "Early stopping, best iteration is:\n",
      "[460]\ttraining's binary_logloss: 0.338421\tvalid_1's binary_logloss: 0.448445\n",
      "Training until validation scores don't improve for 1000 rounds\n",
      "Early stopping, best iteration is:\n",
      "[579]\ttraining's binary_logloss: 0.33435\tvalid_1's binary_logloss: 0.421361\n",
      "Training until validation scores don't improve for 1000 rounds\n"
     ]
    },
    {
     "name": "stderr",
     "output_type": "stream",
     "text": [
      "\u001b[32m[I 2021-09-29 21:41:09,183]\u001b[0m Trial 74 finished with value: 0.8237934904601572 and parameters: {'lambda_l1': 0.00010583826298332086, 'lambda_l2': 0.00013801787825637297, 'num_leaves': 14, 'feature_fraction': 0.5529556264633801, 'bagging_fraction': 0.6054360063580082, 'bagging_freq': 4, 'min_child_samples': 72, 'max_depth': 7}. Best is trial 51 with value: 0.8271604938271605.\u001b[0m\n"
     ]
    },
    {
     "name": "stdout",
     "output_type": "stream",
     "text": [
      "Early stopping, best iteration is:\n",
      "[48]\ttraining's binary_logloss: 0.41791\tvalid_1's binary_logloss: 0.420003\n",
      "Training until validation scores don't improve for 1000 rounds\n",
      "Early stopping, best iteration is:\n",
      "[968]\ttraining's binary_logloss: 0.325493\tvalid_1's binary_logloss: 0.414834\n",
      "Training until validation scores don't improve for 1000 rounds\n",
      "Early stopping, best iteration is:\n",
      "[579]\ttraining's binary_logloss: 0.353417\tvalid_1's binary_logloss: 0.40435\n",
      "Training until validation scores don't improve for 1000 rounds\n",
      "Early stopping, best iteration is:\n",
      "[108]\ttraining's binary_logloss: 0.395464\tvalid_1's binary_logloss: 0.455955\n",
      "Training until validation scores don't improve for 1000 rounds\n",
      "Early stopping, best iteration is:\n",
      "[288]\ttraining's binary_logloss: 0.374693\tvalid_1's binary_logloss: 0.420176\n",
      "Training until validation scores don't improve for 1000 rounds\n"
     ]
    },
    {
     "name": "stderr",
     "output_type": "stream",
     "text": [
      "\u001b[32m[I 2021-09-29 21:41:11,534]\u001b[0m Trial 75 finished with value: 0.8125701459034792 and parameters: {'lambda_l1': 0.0005118312395131331, 'lambda_l2': 0.00019720503198416238, 'num_leaves': 9, 'feature_fraction': 0.5480897907009253, 'bagging_fraction': 0.5389072643851076, 'bagging_freq': 3, 'min_child_samples': 72, 'max_depth': 7}. Best is trial 51 with value: 0.8271604938271605.\u001b[0m\n"
     ]
    },
    {
     "name": "stdout",
     "output_type": "stream",
     "text": [
      "Early stopping, best iteration is:\n",
      "[48]\ttraining's binary_logloss: 0.426972\tvalid_1's binary_logloss: 0.41986\n",
      "Training until validation scores don't improve for 1000 rounds\n",
      "Early stopping, best iteration is:\n",
      "[472]\ttraining's binary_logloss: 0.337126\tvalid_1's binary_logloss: 0.418232\n",
      "Training until validation scores don't improve for 1000 rounds\n",
      "Early stopping, best iteration is:\n",
      "[308]\ttraining's binary_logloss: 0.359972\tvalid_1's binary_logloss: 0.389672\n",
      "Training until validation scores don't improve for 1000 rounds\n",
      "Early stopping, best iteration is:\n",
      "[460]\ttraining's binary_logloss: 0.327229\tvalid_1's binary_logloss: 0.44812\n",
      "Training until validation scores don't improve for 1000 rounds\n",
      "Early stopping, best iteration is:\n",
      "[303]\ttraining's binary_logloss: 0.352265\tvalid_1's binary_logloss: 0.417496\n",
      "Training until validation scores don't improve for 1000 rounds\n"
     ]
    },
    {
     "name": "stderr",
     "output_type": "stream",
     "text": [
      "\u001b[32m[I 2021-09-29 21:41:13,879]\u001b[0m Trial 76 finished with value: 0.8215488215488216 and parameters: {'lambda_l1': 0.0001038691229660423, 'lambda_l2': 0.00010784274508391337, 'num_leaves': 23, 'feature_fraction': 0.5663568288615708, 'bagging_fraction': 0.5765366131689216, 'bagging_freq': 4, 'min_child_samples': 63, 'max_depth': 6}. Best is trial 51 with value: 0.8271604938271605.\u001b[0m\n"
     ]
    },
    {
     "name": "stdout",
     "output_type": "stream",
     "text": [
      "Early stopping, best iteration is:\n",
      "[48]\ttraining's binary_logloss: 0.415858\tvalid_1's binary_logloss: 0.417622\n",
      "Training until validation scores don't improve for 1000 rounds\n",
      "Early stopping, best iteration is:\n",
      "[746]\ttraining's binary_logloss: 0.363994\tvalid_1's binary_logloss: 0.422552\n",
      "Training until validation scores don't improve for 1000 rounds\n",
      "Early stopping, best iteration is:\n",
      "[464]\ttraining's binary_logloss: 0.37946\tvalid_1's binary_logloss: 0.405145\n",
      "Training until validation scores don't improve for 1000 rounds\n",
      "Early stopping, best iteration is:\n",
      "[201]\ttraining's binary_logloss: 0.38891\tvalid_1's binary_logloss: 0.459717\n",
      "Training until validation scores don't improve for 1000 rounds\n",
      "Early stopping, best iteration is:\n",
      "[1011]\ttraining's binary_logloss: 0.341525\tvalid_1's binary_logloss: 0.420483\n",
      "Training until validation scores don't improve for 1000 rounds\n"
     ]
    },
    {
     "name": "stderr",
     "output_type": "stream",
     "text": [
      "\u001b[32m[I 2021-09-29 21:41:16,413]\u001b[0m Trial 77 finished with value: 0.8092031425364759 and parameters: {'lambda_l1': 4.8269832583033415e-05, 'lambda_l2': 1.611477912083758e-05, 'num_leaves': 14, 'feature_fraction': 0.4863204702008695, 'bagging_fraction': 0.5988730536924303, 'bagging_freq': 5, 'min_child_samples': 85, 'max_depth': 5}. Best is trial 51 with value: 0.8271604938271605.\u001b[0m\n"
     ]
    },
    {
     "name": "stdout",
     "output_type": "stream",
     "text": [
      "Early stopping, best iteration is:\n",
      "[61]\ttraining's binary_logloss: 0.427847\tvalid_1's binary_logloss: 0.426146\n",
      "Training until validation scores don't improve for 1000 rounds\n",
      "Early stopping, best iteration is:\n",
      "[428]\ttraining's binary_logloss: 0.329127\tvalid_1's binary_logloss: 0.420126\n",
      "Training until validation scores don't improve for 1000 rounds\n",
      "Early stopping, best iteration is:\n",
      "[225]\ttraining's binary_logloss: 0.36144\tvalid_1's binary_logloss: 0.386717\n",
      "Training until validation scores don't improve for 1000 rounds\n",
      "Early stopping, best iteration is:\n",
      "[257]\ttraining's binary_logloss: 0.34174\tvalid_1's binary_logloss: 0.452893\n",
      "Training until validation scores don't improve for 1000 rounds\n",
      "Early stopping, best iteration is:\n",
      "[283]\ttraining's binary_logloss: 0.342647\tvalid_1's binary_logloss: 0.423522\n",
      "Training until validation scores don't improve for 1000 rounds\n"
     ]
    },
    {
     "name": "stderr",
     "output_type": "stream",
     "text": [
      "\u001b[32m[I 2021-09-29 21:41:18,957]\u001b[0m Trial 78 finished with value: 0.8181818181818182 and parameters: {'lambda_l1': 0.00852757986018042, 'lambda_l2': 0.0013841256534033353, 'num_leaves': 26, 'feature_fraction': 0.5975746297670452, 'bagging_fraction': 0.8441866180203035, 'bagging_freq': 3, 'min_child_samples': 79, 'max_depth': 7}. Best is trial 51 with value: 0.8271604938271605.\u001b[0m\n"
     ]
    },
    {
     "name": "stdout",
     "output_type": "stream",
     "text": [
      "Early stopping, best iteration is:\n",
      "[35]\ttraining's binary_logloss: 0.416035\tvalid_1's binary_logloss: 0.421182\n",
      "Training until validation scores don't improve for 1000 rounds\n",
      "Early stopping, best iteration is:\n",
      "[472]\ttraining's binary_logloss: 0.344292\tvalid_1's binary_logloss: 0.416343\n",
      "Training until validation scores don't improve for 1000 rounds\n",
      "Early stopping, best iteration is:\n",
      "[308]\ttraining's binary_logloss: 0.36692\tvalid_1's binary_logloss: 0.401388\n",
      "Training until validation scores don't improve for 1000 rounds\n",
      "Early stopping, best iteration is:\n",
      "[460]\ttraining's binary_logloss: 0.336045\tvalid_1's binary_logloss: 0.455184\n",
      "Training until validation scores don't improve for 1000 rounds\n",
      "Early stopping, best iteration is:\n",
      "[704]\ttraining's binary_logloss: 0.322416\tvalid_1's binary_logloss: 0.416995\n",
      "Training until validation scores don't improve for 1000 rounds\n"
     ]
    },
    {
     "name": "stderr",
     "output_type": "stream",
     "text": [
      "\u001b[32m[I 2021-09-29 21:41:21,349]\u001b[0m Trial 79 finished with value: 0.8170594837261503 and parameters: {'lambda_l1': 0.0031403934260192503, 'lambda_l2': 0.0006040180902843578, 'num_leaves': 12, 'feature_fraction': 0.6249543246467311, 'bagging_fraction': 0.6322842353176589, 'bagging_freq': 4, 'min_child_samples': 74, 'max_depth': 7}. Best is trial 51 with value: 0.8271604938271605.\u001b[0m\n"
     ]
    },
    {
     "name": "stdout",
     "output_type": "stream",
     "text": [
      "Early stopping, best iteration is:\n",
      "[46]\ttraining's binary_logloss: 0.417157\tvalid_1's binary_logloss: 0.425665\n",
      "Training until validation scores don't improve for 1000 rounds\n",
      "Early stopping, best iteration is:\n",
      "[2131]\ttraining's binary_logloss: 0.378972\tvalid_1's binary_logloss: 0.425375\n",
      "Training until validation scores don't improve for 1000 rounds\n",
      "Early stopping, best iteration is:\n",
      "[2095]\ttraining's binary_logloss: 0.388525\tvalid_1's binary_logloss: 0.408697\n",
      "Training until validation scores don't improve for 1000 rounds\n",
      "Early stopping, best iteration is:\n",
      "[1081]\ttraining's binary_logloss: 0.390249\tvalid_1's binary_logloss: 0.446957\n",
      "Training until validation scores don't improve for 1000 rounds\n",
      "Early stopping, best iteration is:\n",
      "[193]\ttraining's binary_logloss: 0.417874\tvalid_1's binary_logloss: 0.441521\n",
      "Training until validation scores don't improve for 1000 rounds\n"
     ]
    },
    {
     "name": "stderr",
     "output_type": "stream",
     "text": [
      "\u001b[32m[I 2021-09-29 21:41:23,950]\u001b[0m Trial 80 finished with value: 0.8125701459034792 and parameters: {'lambda_l1': 1.7403420307664587e-05, 'lambda_l2': 5.3677496009216665e-05, 'num_leaves': 2, 'feature_fraction': 0.44369282889254436, 'bagging_fraction': 0.6116841208117314, 'bagging_freq': 5, 'min_child_samples': 70, 'max_depth': 6}. Best is trial 51 with value: 0.8271604938271605.\u001b[0m\n"
     ]
    },
    {
     "name": "stdout",
     "output_type": "stream",
     "text": [
      "Early stopping, best iteration is:\n",
      "[125]\ttraining's binary_logloss: 0.430211\tvalid_1's binary_logloss: 0.418699\n",
      "Training until validation scores don't improve for 1000 rounds\n",
      "Early stopping, best iteration is:\n",
      "[644]\ttraining's binary_logloss: 0.333032\tvalid_1's binary_logloss: 0.417053\n",
      "Training until validation scores don't improve for 1000 rounds\n",
      "Early stopping, best iteration is:\n",
      "[304]\ttraining's binary_logloss: 0.366221\tvalid_1's binary_logloss: 0.395643\n",
      "Training until validation scores don't improve for 1000 rounds\n",
      "Early stopping, best iteration is:\n",
      "[571]\ttraining's binary_logloss: 0.322725\tvalid_1's binary_logloss: 0.454386\n",
      "Training until validation scores don't improve for 1000 rounds\n",
      "Early stopping, best iteration is:\n",
      "[692]\ttraining's binary_logloss: 0.320394\tvalid_1's binary_logloss: 0.419865\n",
      "Training until validation scores don't improve for 1000 rounds\n"
     ]
    },
    {
     "name": "stderr",
     "output_type": "stream",
     "text": [
      "\u001b[32m[I 2021-09-29 21:41:26,612]\u001b[0m Trial 81 finished with value: 0.8226711560044894 and parameters: {'lambda_l1': 1.0189470224340912e-05, 'lambda_l2': 0.0001914984581527449, 'num_leaves': 19, 'feature_fraction': 0.6021686281510606, 'bagging_fraction': 0.6573987736222271, 'bagging_freq': 4, 'min_child_samples': 76, 'max_depth': 7}. Best is trial 51 with value: 0.8271604938271605.\u001b[0m\n"
     ]
    },
    {
     "name": "stdout",
     "output_type": "stream",
     "text": [
      "Early stopping, best iteration is:\n",
      "[46]\ttraining's binary_logloss: 0.415414\tvalid_1's binary_logloss: 0.424578\n",
      "Training until validation scores don't improve for 1000 rounds\n",
      "Early stopping, best iteration is:\n",
      "[228]\ttraining's binary_logloss: 0.363267\tvalid_1's binary_logloss: 0.422842\n",
      "Training until validation scores don't improve for 1000 rounds\n",
      "Early stopping, best iteration is:\n",
      "[308]\ttraining's binary_logloss: 0.359812\tvalid_1's binary_logloss: 0.390519\n",
      "Training until validation scores don't improve for 1000 rounds\n",
      "Early stopping, best iteration is:\n",
      "[460]\ttraining's binary_logloss: 0.326002\tvalid_1's binary_logloss: 0.450462\n",
      "Training until validation scores don't improve for 1000 rounds\n",
      "Early stopping, best iteration is:\n",
      "[548]\ttraining's binary_logloss: 0.324735\tvalid_1's binary_logloss: 0.418247\n",
      "Training until validation scores don't improve for 1000 rounds\n"
     ]
    },
    {
     "name": "stderr",
     "output_type": "stream",
     "text": [
      "\u001b[32m[I 2021-09-29 21:41:28,961]\u001b[0m Trial 82 finished with value: 0.8226711560044894 and parameters: {'lambda_l1': 4.525418254346643e-05, 'lambda_l2': 0.0003095663985567513, 'num_leaves': 16, 'feature_fraction': 0.582415525550271, 'bagging_fraction': 0.7087643297383901, 'bagging_freq': 4, 'min_child_samples': 68, 'max_depth': 3}. Best is trial 51 with value: 0.8271604938271605.\u001b[0m\n"
     ]
    },
    {
     "name": "stdout",
     "output_type": "stream",
     "text": [
      "Early stopping, best iteration is:\n",
      "[97]\ttraining's binary_logloss: 0.390353\tvalid_1's binary_logloss: 0.417356\n",
      "Training until validation scores don't improve for 1000 rounds\n",
      "Early stopping, best iteration is:\n",
      "[190]\ttraining's binary_logloss: 0.352997\tvalid_1's binary_logloss: 0.417842\n",
      "Training until validation scores don't improve for 1000 rounds\n",
      "Early stopping, best iteration is:\n",
      "[219]\ttraining's binary_logloss: 0.352361\tvalid_1's binary_logloss: 0.39055\n",
      "Training until validation scores don't improve for 1000 rounds\n",
      "Early stopping, best iteration is:\n",
      "[132]\ttraining's binary_logloss: 0.353757\tvalid_1's binary_logloss: 0.457617\n",
      "Training until validation scores don't improve for 1000 rounds\n",
      "Early stopping, best iteration is:\n",
      "[534]\ttraining's binary_logloss: 0.302685\tvalid_1's binary_logloss: 0.423458\n",
      "Training until validation scores don't improve for 1000 rounds\n"
     ]
    },
    {
     "name": "stderr",
     "output_type": "stream",
     "text": [
      "\u001b[32m[I 2021-09-29 21:41:31,501]\u001b[0m Trial 83 finished with value: 0.813692480359147 and parameters: {'lambda_l1': 3.084897791609587e-05, 'lambda_l2': 0.00014240459173048566, 'num_leaves': 14, 'feature_fraction': 0.554467918744761, 'bagging_fraction': 0.8990362452622869, 'bagging_freq': 3, 'min_child_samples': 73, 'max_depth': 7}. Best is trial 51 with value: 0.8271604938271605.\u001b[0m\n"
     ]
    },
    {
     "name": "stdout",
     "output_type": "stream",
     "text": [
      "Early stopping, best iteration is:\n",
      "[40]\ttraining's binary_logloss: 0.404976\tvalid_1's binary_logloss: 0.424845\n",
      "Training until validation scores don't improve for 1000 rounds\n",
      "Early stopping, best iteration is:\n",
      "[192]\ttraining's binary_logloss: 0.363186\tvalid_1's binary_logloss: 0.416732\n",
      "Training until validation scores don't improve for 1000 rounds\n",
      "Early stopping, best iteration is:\n",
      "[233]\ttraining's binary_logloss: 0.360899\tvalid_1's binary_logloss: 0.395566\n",
      "Training until validation scores don't improve for 1000 rounds\n",
      "Early stopping, best iteration is:\n",
      "[212]\ttraining's binary_logloss: 0.348607\tvalid_1's binary_logloss: 0.453227\n",
      "Training until validation scores don't improve for 1000 rounds\n",
      "Early stopping, best iteration is:\n",
      "[240]\ttraining's binary_logloss: 0.347624\tvalid_1's binary_logloss: 0.418951\n",
      "Training until validation scores don't improve for 1000 rounds\n"
     ]
    },
    {
     "name": "stderr",
     "output_type": "stream",
     "text": [
      "\u001b[32m[I 2021-09-29 21:41:33,699]\u001b[0m Trial 84 finished with value: 0.8080808080808081 and parameters: {'lambda_l1': 1.4851851206368231e-05, 'lambda_l2': 0.0026954092609675416, 'num_leaves': 11, 'feature_fraction': 0.6248631365730271, 'bagging_fraction': 0.6775620296572089, 'bagging_freq': 8, 'min_child_samples': 65, 'max_depth': 7}. Best is trial 51 with value: 0.8271604938271605.\u001b[0m\n"
     ]
    },
    {
     "name": "stdout",
     "output_type": "stream",
     "text": [
      "Early stopping, best iteration is:\n",
      "[42]\ttraining's binary_logloss: 0.413804\tvalid_1's binary_logloss: 0.419157\n",
      "Training until validation scores don't improve for 1000 rounds\n",
      "Early stopping, best iteration is:\n",
      "[38]\ttraining's binary_logloss: 0.390173\tvalid_1's binary_logloss: 0.409879\n",
      "Training until validation scores don't improve for 1000 rounds\n",
      "Early stopping, best iteration is:\n",
      "[127]\ttraining's binary_logloss: 0.337078\tvalid_1's binary_logloss: 0.396346\n",
      "Training until validation scores don't improve for 1000 rounds\n",
      "Early stopping, best iteration is:\n",
      "[37]\ttraining's binary_logloss: 0.380966\tvalid_1's binary_logloss: 0.463804\n",
      "Training until validation scores don't improve for 1000 rounds\n",
      "Early stopping, best iteration is:\n",
      "[33]\ttraining's binary_logloss: 0.397202\tvalid_1's binary_logloss: 0.414315\n",
      "Training until validation scores don't improve for 1000 rounds\n"
     ]
    },
    {
     "name": "stderr",
     "output_type": "stream",
     "text": [
      "\u001b[32m[I 2021-09-29 21:41:36,425]\u001b[0m Trial 85 finished with value: 0.8148148148148148 and parameters: {'lambda_l1': 0.0012832294214117543, 'lambda_l2': 0.006670664066311473, 'num_leaves': 8, 'feature_fraction': 0.6601009194717745, 'bagging_fraction': 0.645774747084487, 'bagging_freq': 6, 'min_child_samples': 36, 'max_depth': 7}. Best is trial 51 with value: 0.8271604938271605.\u001b[0m\n"
     ]
    },
    {
     "name": "stdout",
     "output_type": "stream",
     "text": [
      "Early stopping, best iteration is:\n",
      "[33]\ttraining's binary_logloss: 0.393106\tvalid_1's binary_logloss: 0.419142\n",
      "Training until validation scores don't improve for 1000 rounds\n",
      "Early stopping, best iteration is:\n",
      "[332]\ttraining's binary_logloss: 0.34336\tvalid_1's binary_logloss: 0.423427\n",
      "Training until validation scores don't improve for 1000 rounds\n",
      "Early stopping, best iteration is:\n",
      "[306]\ttraining's binary_logloss: 0.354102\tvalid_1's binary_logloss: 0.38832\n",
      "Training until validation scores don't improve for 1000 rounds\n",
      "Early stopping, best iteration is:\n",
      "[128]\ttraining's binary_logloss: 0.37041\tvalid_1's binary_logloss: 0.455417\n",
      "Training until validation scores don't improve for 1000 rounds\n",
      "Early stopping, best iteration is:\n",
      "[547]\ttraining's binary_logloss: 0.317568\tvalid_1's binary_logloss: 0.417897\n",
      "Training until validation scores don't improve for 1000 rounds\n"
     ]
    },
    {
     "name": "stderr",
     "output_type": "stream",
     "text": [
      "\u001b[32m[I 2021-09-29 21:41:39,092]\u001b[0m Trial 86 finished with value: 0.8170594837261503 and parameters: {'lambda_l1': 0.00039055854524410805, 'lambda_l2': 9.741275847615159e-05, 'num_leaves': 17, 'feature_fraction': 0.5366806968091393, 'bagging_fraction': 0.7010166318817751, 'bagging_freq': 4, 'min_child_samples': 71, 'max_depth': 7}. Best is trial 51 with value: 0.8271604938271605.\u001b[0m\n"
     ]
    },
    {
     "name": "stdout",
     "output_type": "stream",
     "text": [
      "Early stopping, best iteration is:\n",
      "[43]\ttraining's binary_logloss: 0.412658\tvalid_1's binary_logloss: 0.421032\n",
      "Training until validation scores don't improve for 1000 rounds\n",
      "Early stopping, best iteration is:\n",
      "[228]\ttraining's binary_logloss: 0.348292\tvalid_1's binary_logloss: 0.425935\n",
      "Training until validation scores don't improve for 1000 rounds\n",
      "Early stopping, best iteration is:\n",
      "[310]\ttraining's binary_logloss: 0.340229\tvalid_1's binary_logloss: 0.389746\n",
      "Training until validation scores don't improve for 1000 rounds\n",
      "Early stopping, best iteration is:\n",
      "[120]\ttraining's binary_logloss: 0.363066\tvalid_1's binary_logloss: 0.457705\n",
      "Training until validation scores don't improve for 1000 rounds\n",
      "Early stopping, best iteration is:\n",
      "[241]\ttraining's binary_logloss: 0.342873\tvalid_1's binary_logloss: 0.425844\n",
      "Training until validation scores don't improve for 1000 rounds\n"
     ]
    },
    {
     "name": "stderr",
     "output_type": "stream",
     "text": [
      "\u001b[32m[I 2021-09-29 21:41:42,019]\u001b[0m Trial 87 finished with value: 0.8114478114478114 and parameters: {'lambda_l1': 8.690132052302156e-05, 'lambda_l2': 3.857607945120856e-05, 'num_leaves': 6, 'feature_fraction': 0.691778003778364, 'bagging_fraction': 0.821615297712288, 'bagging_freq': 4, 'min_child_samples': 78, 'max_depth': 7}. Best is trial 51 with value: 0.8271604938271605.\u001b[0m\n"
     ]
    },
    {
     "name": "stdout",
     "output_type": "stream",
     "text": [
      "Early stopping, best iteration is:\n",
      "[28]\ttraining's binary_logloss: 0.424369\tvalid_1's binary_logloss: 0.42547\n",
      "Training until validation scores don't improve for 1000 rounds\n",
      "Early stopping, best iteration is:\n",
      "[140]\ttraining's binary_logloss: 0.399838\tvalid_1's binary_logloss: 0.420132\n",
      "Training until validation scores don't improve for 1000 rounds\n",
      "Early stopping, best iteration is:\n",
      "[404]\ttraining's binary_logloss: 0.374602\tvalid_1's binary_logloss: 0.401943\n",
      "Training until validation scores don't improve for 1000 rounds\n",
      "Early stopping, best iteration is:\n",
      "[136]\ttraining's binary_logloss: 0.389628\tvalid_1's binary_logloss: 0.454701\n",
      "Training until validation scores don't improve for 1000 rounds\n",
      "Early stopping, best iteration is:\n",
      "[370]\ttraining's binary_logloss: 0.370076\tvalid_1's binary_logloss: 0.424164\n",
      "Training until validation scores don't improve for 1000 rounds\n"
     ]
    },
    {
     "name": "stderr",
     "output_type": "stream",
     "text": [
      "\u001b[32m[I 2021-09-29 21:41:44,521]\u001b[0m Trial 88 finished with value: 0.8035914702581369 and parameters: {'lambda_l1': 0.0006709253710644555, 'lambda_l2': 6.53369222250231e-05, 'num_leaves': 20, 'feature_fraction': 0.6356038329197596, 'bagging_fraction': 0.5806832338615521, 'bagging_freq': 5, 'min_child_samples': 80, 'max_depth': 7}. Best is trial 51 with value: 0.8271604938271605.\u001b[0m\n"
     ]
    },
    {
     "name": "stdout",
     "output_type": "stream",
     "text": [
      "Early stopping, best iteration is:\n",
      "[59]\ttraining's binary_logloss: 0.425479\tvalid_1's binary_logloss: 0.421615\n",
      "Training until validation scores don't improve for 1000 rounds\n",
      "Early stopping, best iteration is:\n",
      "[828]\ttraining's binary_logloss: 0.328752\tvalid_1's binary_logloss: 0.417038\n",
      "Training until validation scores don't improve for 1000 rounds\n",
      "Early stopping, best iteration is:\n",
      "[416]\ttraining's binary_logloss: 0.361812\tvalid_1's binary_logloss: 0.396456\n",
      "Training until validation scores don't improve for 1000 rounds\n",
      "Early stopping, best iteration is:\n",
      "[468]\ttraining's binary_logloss: 0.339958\tvalid_1's binary_logloss: 0.457255\n",
      "Training until validation scores don't improve for 1000 rounds\n",
      "Early stopping, best iteration is:\n",
      "[582]\ttraining's binary_logloss: 0.338267\tvalid_1's binary_logloss: 0.425402\n",
      "Training until validation scores don't improve for 1000 rounds\n"
     ]
    },
    {
     "name": "stderr",
     "output_type": "stream",
     "text": [
      "\u001b[32m[I 2021-09-29 21:41:48,071]\u001b[0m Trial 89 finished with value: 0.8226711560044894 and parameters: {'lambda_l1': 0.00016928412722315027, 'lambda_l2': 0.0009220326535735326, 'num_leaves': 22, 'feature_fraction': 0.41326914106137425, 'bagging_fraction': 0.6271881385653113, 'bagging_freq': 2, 'min_child_samples': 72, 'max_depth': 7}. Best is trial 51 with value: 0.8271604938271605.\u001b[0m\n"
     ]
    },
    {
     "name": "stdout",
     "output_type": "stream",
     "text": [
      "Early stopping, best iteration is:\n",
      "[123]\ttraining's binary_logloss: 0.396583\tvalid_1's binary_logloss: 0.426874\n",
      "Training until validation scores don't improve for 1000 rounds\n",
      "Early stopping, best iteration is:\n",
      "[450]\ttraining's binary_logloss: 0.367146\tvalid_1's binary_logloss: 0.422415\n",
      "Training until validation scores don't improve for 1000 rounds\n",
      "Early stopping, best iteration is:\n",
      "[581]\ttraining's binary_logloss: 0.359833\tvalid_1's binary_logloss: 0.401039\n",
      "Training until validation scores don't improve for 1000 rounds\n",
      "Early stopping, best iteration is:\n",
      "[108]\ttraining's binary_logloss: 0.396047\tvalid_1's binary_logloss: 0.458312\n",
      "Training until validation scores don't improve for 1000 rounds\n",
      "Early stopping, best iteration is:\n",
      "[632]\ttraining's binary_logloss: 0.345525\tvalid_1's binary_logloss: 0.419761\n",
      "Training until validation scores don't improve for 1000 rounds\n"
     ]
    },
    {
     "name": "stderr",
     "output_type": "stream",
     "text": [
      "\u001b[32m[I 2021-09-29 21:41:51,829]\u001b[0m Trial 90 finished with value: 0.8058361391694725 and parameters: {'lambda_l1': 0.01694468210118799, 'lambda_l2': 0.0003842935116764462, 'num_leaves': 4, 'feature_fraction': 0.5719197126389132, 'bagging_fraction': 0.5563238494242649, 'bagging_freq': 3, 'min_child_samples': 75, 'max_depth': 6}. Best is trial 51 with value: 0.8271604938271605.\u001b[0m\n"
     ]
    },
    {
     "name": "stdout",
     "output_type": "stream",
     "text": [
      "Early stopping, best iteration is:\n",
      "[36]\ttraining's binary_logloss: 0.440659\tvalid_1's binary_logloss: 0.419805\n",
      "Training until validation scores don't improve for 1000 rounds\n",
      "Early stopping, best iteration is:\n",
      "[42]\ttraining's binary_logloss: 0.413032\tvalid_1's binary_logloss: 0.424294\n",
      "Training until validation scores don't improve for 1000 rounds\n",
      "Early stopping, best iteration is:\n",
      "[371]\ttraining's binary_logloss: 0.349807\tvalid_1's binary_logloss: 0.391029\n",
      "Training until validation scores don't improve for 1000 rounds\n",
      "Early stopping, best iteration is:\n",
      "[528]\ttraining's binary_logloss: 0.321004\tvalid_1's binary_logloss: 0.454488\n",
      "Training until validation scores don't improve for 1000 rounds\n",
      "Early stopping, best iteration is:\n",
      "[378]\ttraining's binary_logloss: 0.341625\tvalid_1's binary_logloss: 0.420363\n",
      "Training until validation scores don't improve for 1000 rounds\n"
     ]
    },
    {
     "name": "stderr",
     "output_type": "stream",
     "text": [
      "\u001b[32m[I 2021-09-29 21:41:54,285]\u001b[0m Trial 91 finished with value: 0.8148148148148148 and parameters: {'lambda_l1': 5.25506731081251e-05, 'lambda_l2': 0.0003062913569722102, 'num_leaves': 16, 'feature_fraction': 0.5885743699327868, 'bagging_fraction': 0.7169311285413367, 'bagging_freq': 4, 'min_child_samples': 68, 'max_depth': 3}. Best is trial 51 with value: 0.8271604938271605.\u001b[0m\n"
     ]
    },
    {
     "name": "stdout",
     "output_type": "stream",
     "text": [
      "Early stopping, best iteration is:\n",
      "[48]\ttraining's binary_logloss: 0.413141\tvalid_1's binary_logloss: 0.419078\n",
      "Training until validation scores don't improve for 1000 rounds\n",
      "Early stopping, best iteration is:\n",
      "[590]\ttraining's binary_logloss: 0.329455\tvalid_1's binary_logloss: 0.419171\n",
      "Training until validation scores don't improve for 1000 rounds\n",
      "Early stopping, best iteration is:\n",
      "[308]\ttraining's binary_logloss: 0.359835\tvalid_1's binary_logloss: 0.393876\n",
      "Training until validation scores don't improve for 1000 rounds\n",
      "Early stopping, best iteration is:\n",
      "[160]\ttraining's binary_logloss: 0.368333\tvalid_1's binary_logloss: 0.452521\n",
      "Training until validation scores don't improve for 1000 rounds\n",
      "Early stopping, best iteration is:\n",
      "[547]\ttraining's binary_logloss: 0.324598\tvalid_1's binary_logloss: 0.42242\n",
      "Training until validation scores don't improve for 1000 rounds\n"
     ]
    },
    {
     "name": "stderr",
     "output_type": "stream",
     "text": [
      "\u001b[32m[I 2021-09-29 21:41:56,743]\u001b[0m Trial 92 finished with value: 0.8226711560044894 and parameters: {'lambda_l1': 1.0685830463993011e-05, 'lambda_l2': 0.00017398837556561263, 'num_leaves': 18, 'feature_fraction': 0.6478109479749249, 'bagging_fraction': 0.6598127421028751, 'bagging_freq': 4, 'min_child_samples': 77, 'max_depth': 7}. Best is trial 51 with value: 0.8271604938271605.\u001b[0m\n"
     ]
    },
    {
     "name": "stdout",
     "output_type": "stream",
     "text": [
      "Early stopping, best iteration is:\n",
      "[48]\ttraining's binary_logloss: 0.415433\tvalid_1's binary_logloss: 0.429075\n",
      "Training until validation scores don't improve for 1000 rounds\n",
      "Early stopping, best iteration is:\n",
      "[837]\ttraining's binary_logloss: 0.300752\tvalid_1's binary_logloss: 0.42135\n",
      "Training until validation scores don't improve for 1000 rounds\n",
      "Early stopping, best iteration is:\n",
      "[336]\ttraining's binary_logloss: 0.34988\tvalid_1's binary_logloss: 0.39433\n",
      "Training until validation scores don't improve for 1000 rounds\n",
      "Early stopping, best iteration is:\n",
      "[416]\ttraining's binary_logloss: 0.324741\tvalid_1's binary_logloss: 0.455524\n",
      "Training until validation scores don't improve for 1000 rounds\n",
      "Early stopping, best iteration is:\n",
      "[481]\ttraining's binary_logloss: 0.324438\tvalid_1's binary_logloss: 0.424486\n",
      "Training until validation scores don't improve for 1000 rounds\n"
     ]
    },
    {
     "name": "stderr",
     "output_type": "stream",
     "text": [
      "\u001b[32m[I 2021-09-29 21:41:59,498]\u001b[0m Trial 93 finished with value: 0.819304152637486 and parameters: {'lambda_l1': 0.0021623127052143925, 'lambda_l2': 0.026250541785561285, 'num_leaves': 10, 'feature_fraction': 0.6458175974031263, 'bagging_fraction': 0.7451438424915867, 'bagging_freq': 3, 'min_child_samples': 82, 'max_depth': 7}. Best is trial 51 with value: 0.8271604938271605.\u001b[0m\n"
     ]
    },
    {
     "name": "stdout",
     "output_type": "stream",
     "text": [
      "Early stopping, best iteration is:\n",
      "[71]\ttraining's binary_logloss: 0.400872\tvalid_1's binary_logloss: 0.425142\n",
      "Training until validation scores don't improve for 1000 rounds\n",
      "Early stopping, best iteration is:\n",
      "[332]\ttraining's binary_logloss: 0.368722\tvalid_1's binary_logloss: 0.423727\n",
      "Training until validation scores don't improve for 1000 rounds\n",
      "Early stopping, best iteration is:\n",
      "[305]\ttraining's binary_logloss: 0.378644\tvalid_1's binary_logloss: 0.393506\n",
      "Training until validation scores don't improve for 1000 rounds\n",
      "Early stopping, best iteration is:\n",
      "[528]\ttraining's binary_logloss: 0.347349\tvalid_1's binary_logloss: 0.444692\n",
      "Training until validation scores don't improve for 1000 rounds\n",
      "Early stopping, best iteration is:\n",
      "[385]\ttraining's binary_logloss: 0.361916\tvalid_1's binary_logloss: 0.412854\n",
      "Training until validation scores don't improve for 1000 rounds\n"
     ]
    },
    {
     "name": "stderr",
     "output_type": "stream",
     "text": [
      "\u001b[32m[I 2021-09-29 21:42:02,125]\u001b[0m Trial 94 finished with value: 0.8237934904601572 and parameters: {'lambda_l1': 2.3833184738920095e-05, 'lambda_l2': 0.00023250167584559135, 'num_leaves': 12, 'feature_fraction': 0.5830546948728501, 'bagging_fraction': 0.7047927801589932, 'bagging_freq': 4, 'min_child_samples': 67, 'max_depth': 2}. Best is trial 51 with value: 0.8271604938271605.\u001b[0m\n"
     ]
    },
    {
     "name": "stdout",
     "output_type": "stream",
     "text": [
      "Early stopping, best iteration is:\n",
      "[46]\ttraining's binary_logloss: 0.419366\tvalid_1's binary_logloss: 0.416704\n",
      "Training until validation scores don't improve for 1000 rounds\n",
      "Early stopping, best iteration is:\n",
      "[31]\ttraining's binary_logloss: 0.421066\tvalid_1's binary_logloss: 0.423221\n",
      "Training until validation scores don't improve for 1000 rounds\n",
      "Early stopping, best iteration is:\n",
      "[385]\ttraining's binary_logloss: 0.331691\tvalid_1's binary_logloss: 0.391229\n",
      "Training until validation scores don't improve for 1000 rounds\n",
      "Early stopping, best iteration is:\n",
      "[116]\ttraining's binary_logloss: 0.366504\tvalid_1's binary_logloss: 0.453215\n",
      "Training until validation scores don't improve for 1000 rounds\n",
      "Early stopping, best iteration is:\n",
      "[176]\ttraining's binary_logloss: 0.358643\tvalid_1's binary_logloss: 0.416236\n",
      "Training until validation scores don't improve for 1000 rounds\n"
     ]
    },
    {
     "name": "stderr",
     "output_type": "stream",
     "text": [
      "\u001b[32m[I 2021-09-29 21:42:04,618]\u001b[0m Trial 95 finished with value: 0.8114478114478114 and parameters: {'lambda_l1': 2.6260208236960054e-05, 'lambda_l2': 0.0005187514138891854, 'num_leaves': 13, 'feature_fraction': 0.5599225833274046, 'bagging_fraction': 0.729025412322937, 'bagging_freq': 5, 'min_child_samples': 65, 'max_depth': 7}. Best is trial 51 with value: 0.8271604938271605.\u001b[0m\n"
     ]
    },
    {
     "name": "stdout",
     "output_type": "stream",
     "text": [
      "Early stopping, best iteration is:\n",
      "[30]\ttraining's binary_logloss: 0.420572\tvalid_1's binary_logloss: 0.424059\n",
      "Training until validation scores don't improve for 1000 rounds\n",
      "Early stopping, best iteration is:\n",
      "[1664]\ttraining's binary_logloss: 0.367085\tvalid_1's binary_logloss: 0.422185\n",
      "Training until validation scores don't improve for 1000 rounds\n",
      "Early stopping, best iteration is:\n",
      "[1577]\ttraining's binary_logloss: 0.372825\tvalid_1's binary_logloss: 0.408988\n",
      "Training until validation scores don't improve for 1000 rounds\n",
      "Early stopping, best iteration is:\n",
      "[853]\ttraining's binary_logloss: 0.378029\tvalid_1's binary_logloss: 0.45848\n",
      "Training until validation scores don't improve for 1000 rounds\n",
      "Early stopping, best iteration is:\n",
      "[1045]\ttraining's binary_logloss: 0.378443\tvalid_1's binary_logloss: 0.431348\n",
      "Training until validation scores don't improve for 1000 rounds\n"
     ]
    },
    {
     "name": "stderr",
     "output_type": "stream",
     "text": [
      "\u001b[32m[I 2021-09-29 21:42:07,355]\u001b[0m Trial 96 finished with value: 0.8114478114478114 and parameters: {'lambda_l1': 2.8238998267395665, 'lambda_l2': 0.011768642778889232, 'num_leaves': 12, 'feature_fraction': 0.6025171729067097, 'bagging_fraction': 0.6917060501857863, 'bagging_freq': 4, 'min_child_samples': 87, 'max_depth': 2}. Best is trial 51 with value: 0.8271604938271605.\u001b[0m\n"
     ]
    },
    {
     "name": "stdout",
     "output_type": "stream",
     "text": [
      "Early stopping, best iteration is:\n",
      "[76]\ttraining's binary_logloss: 0.424979\tvalid_1's binary_logloss: 0.420185\n",
      "Training until validation scores don't improve for 1000 rounds\n",
      "Early stopping, best iteration is:\n",
      "[132]\ttraining's binary_logloss: 0.381487\tvalid_1's binary_logloss: 0.422416\n",
      "Training until validation scores don't improve for 1000 rounds\n",
      "Early stopping, best iteration is:\n",
      "[382]\ttraining's binary_logloss: 0.34366\tvalid_1's binary_logloss: 0.38512\n",
      "Training until validation scores don't improve for 1000 rounds\n",
      "Early stopping, best iteration is:\n",
      "[281]\ttraining's binary_logloss: 0.343483\tvalid_1's binary_logloss: 0.449453\n",
      "Training until validation scores don't improve for 1000 rounds\n",
      "Early stopping, best iteration is:\n",
      "[266]\ttraining's binary_logloss: 0.349876\tvalid_1's binary_logloss: 0.420882\n",
      "Training until validation scores don't improve for 1000 rounds\n"
     ]
    },
    {
     "name": "stderr",
     "output_type": "stream",
     "text": [
      "\u001b[32m[I 2021-09-29 21:42:09,823]\u001b[0m Trial 97 finished with value: 0.819304152637486 and parameters: {'lambda_l1': 1.744428694188185e-05, 'lambda_l2': 0.00024689968201245825, 'num_leaves': 8, 'feature_fraction': 0.5457599785217725, 'bagging_fraction': 0.6695087165600642, 'bagging_freq': 5, 'min_child_samples': 69, 'max_depth': 7}. Best is trial 51 with value: 0.8271604938271605.\u001b[0m\n"
     ]
    },
    {
     "name": "stdout",
     "output_type": "stream",
     "text": [
      "Early stopping, best iteration is:\n",
      "[30]\ttraining's binary_logloss: 0.424688\tvalid_1's binary_logloss: 0.425168\n",
      "Training until validation scores don't improve for 1000 rounds\n",
      "Early stopping, best iteration is:\n",
      "[466]\ttraining's binary_logloss: 0.325363\tvalid_1's binary_logloss: 0.421556\n",
      "Training until validation scores don't improve for 1000 rounds\n",
      "Early stopping, best iteration is:\n",
      "[264]\ttraining's binary_logloss: 0.352184\tvalid_1's binary_logloss: 0.38723\n",
      "Training until validation scores don't improve for 1000 rounds\n",
      "Early stopping, best iteration is:\n",
      "[378]\ttraining's binary_logloss: 0.322627\tvalid_1's binary_logloss: 0.452881\n",
      "Training until validation scores don't improve for 1000 rounds\n",
      "Early stopping, best iteration is:\n",
      "[209]\ttraining's binary_logloss: 0.353186\tvalid_1's binary_logloss: 0.427442\n",
      "Training until validation scores don't improve for 1000 rounds\n"
     ]
    },
    {
     "name": "stderr",
     "output_type": "stream",
     "text": [
      "\u001b[32m[I 2021-09-29 21:42:12,516]\u001b[0m Trial 98 finished with value: 0.8204264870931538 and parameters: {'lambda_l1': 0.000131323613648466, 'lambda_l2': 0.0017365295275146185, 'num_leaves': 15, 'feature_fraction': 0.6199222069366288, 'bagging_fraction': 0.7934759455540573, 'bagging_freq': 4, 'min_child_samples': 73, 'max_depth': 6}. Best is trial 51 with value: 0.8271604938271605.\u001b[0m\n"
     ]
    },
    {
     "name": "stdout",
     "output_type": "stream",
     "text": [
      "Early stopping, best iteration is:\n",
      "[43]\ttraining's binary_logloss: 0.408384\tvalid_1's binary_logloss: 0.421006\n",
      "Training until validation scores don't improve for 1000 rounds\n",
      "Early stopping, best iteration is:\n",
      "[428]\ttraining's binary_logloss: 0.327281\tvalid_1's binary_logloss: 0.418169\n",
      "Training until validation scores don't improve for 1000 rounds\n",
      "Early stopping, best iteration is:\n",
      "[225]\ttraining's binary_logloss: 0.358514\tvalid_1's binary_logloss: 0.387531\n",
      "Training until validation scores don't improve for 1000 rounds\n",
      "Early stopping, best iteration is:\n",
      "[132]\ttraining's binary_logloss: 0.365364\tvalid_1's binary_logloss: 0.452775\n",
      "Training until validation scores don't improve for 1000 rounds\n",
      "Early stopping, best iteration is:\n",
      "[226]\ttraining's binary_logloss: 0.352359\tvalid_1's binary_logloss: 0.420475\n",
      "Training until validation scores don't improve for 1000 rounds\n"
     ]
    },
    {
     "name": "stderr",
     "output_type": "stream",
     "text": [
      "\u001b[32m[I 2021-09-29 21:42:14,904]\u001b[0m Trial 99 finished with value: 0.8237934904601572 and parameters: {'lambda_l1': 3.5455447831628834e-05, 'lambda_l2': 8.934864336308641e-05, 'num_leaves': 29, 'feature_fraction': 0.5198238153208465, 'bagging_fraction': 0.7531377226918319, 'bagging_freq': 3, 'min_child_samples': 67, 'max_depth': 4}. Best is trial 51 with value: 0.8271604938271605.\u001b[0m\n"
     ]
    },
    {
     "name": "stdout",
     "output_type": "stream",
     "text": [
      "Early stopping, best iteration is:\n",
      "[74]\ttraining's binary_logloss: 0.391085\tvalid_1's binary_logloss: 0.419954\n",
      "Number of finished trials: 100\n",
      "Best trial:\n",
      "  Value: 0.8271604938271605\n",
      "  Params: \n",
      "    lambda_l1: 0.006425615808516421\n",
      "    lambda_l2: 0.01559102932372894\n",
      "    num_leaves: 10\n",
      "    feature_fraction: 0.6364948724969803\n",
      "    bagging_fraction: 0.7432627392810817\n",
      "    bagging_freq: 3\n",
      "    min_child_samples: 79\n",
      "    max_depth: 7\n",
      "**************************************************\n",
      "Exporting best models\n",
      "**************************************************\n",
      "Training until validation scores don't improve for 1001 rounds\n",
      "Early stopping, best iteration is:\n",
      "[428]\ttraining's binary_logloss: 0.339049\tvalid_1's binary_logloss: 0.417941\n",
      "Training until validation scores don't improve for 1001 rounds\n",
      "Early stopping, best iteration is:\n",
      "[447]\ttraining's binary_logloss: 0.3412\tvalid_1's binary_logloss: 0.393353\n",
      "Training until validation scores don't improve for 1001 rounds\n",
      "Early stopping, best iteration is:\n",
      "[397]\ttraining's binary_logloss: 0.332581\tvalid_1's binary_logloss: 0.457456\n",
      "Training until validation scores don't improve for 1001 rounds\n",
      "Early stopping, best iteration is:\n",
      "[482]\ttraining's binary_logloss: 0.32954\tvalid_1's binary_logloss: 0.420877\n",
      "Training until validation scores don't improve for 1001 rounds\n",
      "Early stopping, best iteration is:\n",
      "[70]\ttraining's binary_logloss: 0.403609\tvalid_1's binary_logloss: 0.428739\n"
     ]
    }
   ],
   "source": [
    "optuna_lgb()"
   ]
  },
  {
   "cell_type": "markdown",
   "metadata": {},
   "source": [
    "## XGBoost"
   ]
  },
  {
   "cell_type": "code",
   "execution_count": 542,
   "metadata": {},
   "outputs": [
    {
     "name": "stderr",
     "output_type": "stream",
     "text": [
      "\u001b[32m[I 2021-09-29 21:45:46,809]\u001b[0m A new study created in memory with name: no-name-77f20850-9f31-42fc-aefa-178358702e90\u001b[0m\n"
     ]
    },
    {
     "name": "stdout",
     "output_type": "stream",
     "text": [
      "[0]\tvalidation-auc:0.84038\n",
      "[1]\tvalidation-auc:0.87622\n",
      "[2]\tvalidation-auc:0.86061\n",
      "[3]\tvalidation-auc:0.87404\n",
      "[4]\tvalidation-auc:0.86166\n",
      "[5]\tvalidation-auc:0.87470\n",
      "[6]\tvalidation-auc:0.87484\n",
      "[7]\tvalidation-auc:0.87516\n",
      "[8]\tvalidation-auc:0.86159\n",
      "[9]\tvalidation-auc:0.87530\n",
      "[0]\tvalidation-auc:0.85983\n",
      "[1]\tvalidation-auc:0.85729\n",
      "[2]\tvalidation-auc:0.85689\n",
      "[3]\tvalidation-auc:0.83977\n",
      "[4]\tvalidation-auc:0.83964\n",
      "[5]\tvalidation-auc:0.83950\n",
      "[6]\tvalidation-auc:0.83937\n",
      "[7]\tvalidation-auc:0.83897\n",
      "[8]\tvalidation-auc:0.83884\n",
      "[9]\tvalidation-auc:0.83897\n",
      "[0]\tvalidation-auc:0.83884\n",
      "[1]\tvalidation-auc:0.83590\n",
      "[2]\tvalidation-auc:0.83496\n",
      "[3]\tvalidation-auc:0.83523\n",
      "[4]\tvalidation-auc:0.83536\n",
      "[5]\tvalidation-auc:0.83536\n",
      "[6]\tvalidation-auc:0.83456\n",
      "[7]\tvalidation-auc:0.83456\n",
      "[8]\tvalidation-auc:0.83456\n",
      "[9]\tvalidation-auc:0.83456\n",
      "[0]\tvalidation-auc:0.85515\n",
      "[1]\tvalidation-auc:0.85301\n",
      "[2]\tvalidation-auc:0.85247\n",
      "[3]\tvalidation-auc:0.85140\n",
      "[4]\tvalidation-auc:0.85140\n",
      "[5]\tvalidation-auc:0.85127\n",
      "[6]\tvalidation-auc:0.85127\n",
      "[7]\tvalidation-auc:0.85241\n",
      "[8]\tvalidation-auc:0.85348\n",
      "[9]\tvalidation-auc:0.85428\n",
      "[0]\tvalidation-auc:0.84065\n",
      "[1]\tvalidation-auc:0.84517\n",
      "[2]\tvalidation-auc:0.84065\n",
      "[3]\tvalidation-auc:0.84424\n",
      "[4]\tvalidation-auc:0.84011\n",
      "[5]\tvalidation-auc:0.84397\n",
      "[6]\tvalidation-auc:0.84370\n",
      "[7]\tvalidation-auc:0.84384\n",
      "[8]\tvalidation-auc:0.84370\n",
      "[9]\tvalidation-auc:0.84370\n"
     ]
    },
    {
     "name": "stderr",
     "output_type": "stream",
     "text": [
      "\u001b[32m[I 2021-09-29 21:45:47,327]\u001b[0m Trial 0 finished with value: 0.8146067415730337 and parameters: {'booster': 'dart', 'lambda': 1.0911638285634326e-05, 'alpha': 0.06923187489246937, 'max_depth': 6, 'eta': 0.0006749258164111665, 'gamma': 0.0313958256247939, 'grow_policy': 'depthwise', 'sample_type': 'weighted', 'normalize_type': 'forest', 'rate_drop': 0.00021556806288768605, 'skip_drop': 0.022072480574348075}. Best is trial 0 with value: 0.8146067415730337.\u001b[0m\n"
     ]
    },
    {
     "name": "stdout",
     "output_type": "stream",
     "text": [
      "[0]\tvalidation-auc:0.83083\n",
      "[1]\tvalidation-auc:0.83676\n",
      "[2]\tvalidation-auc:0.84532\n",
      "[3]\tvalidation-auc:0.84835\n",
      "[4]\tvalidation-auc:0.85362\n",
      "[5]\tvalidation-auc:0.85665\n",
      "[6]\tvalidation-auc:0.85863\n",
      "[7]\tvalidation-auc:0.85797\n",
      "[8]\tvalidation-auc:0.85916\n",
      "[9]\tvalidation-auc:0.85955\n",
      "[0]\tvalidation-auc:0.81832\n",
      "[1]\tvalidation-auc:0.83275\n",
      "[2]\tvalidation-auc:0.83850\n",
      "[3]\tvalidation-auc:0.83944\n",
      "[4]\tvalidation-auc:0.84024\n",
      "[5]\tvalidation-auc:0.84158\n",
      "[6]\tvalidation-auc:0.84131\n",
      "[7]\tvalidation-auc:0.84104\n",
      "[8]\tvalidation-auc:0.84171\n",
      "[9]\tvalidation-auc:0.84051\n",
      "[0]\tvalidation-auc:0.75923\n",
      "[1]\tvalidation-auc:0.77086\n",
      "[2]\tvalidation-auc:0.78155\n",
      "[3]\tvalidation-auc:0.79211\n",
      "[4]\tvalidation-auc:0.81016\n",
      "[5]\tvalidation-auc:0.81270\n",
      "[6]\tvalidation-auc:0.81243\n",
      "[7]\tvalidation-auc:0.81150\n",
      "[8]\tvalidation-auc:0.81243\n",
      "[9]\tvalidation-auc:0.81404\n",
      "[0]\tvalidation-auc:0.81591\n",
      "[1]\tvalidation-auc:0.80602\n",
      "[2]\tvalidation-auc:0.80682\n",
      "[3]\tvalidation-auc:0.81698\n",
      "[4]\tvalidation-auc:0.81925\n",
      "[5]\tvalidation-auc:0.82193\n",
      "[6]\tvalidation-auc:0.82246\n",
      "[7]\tvalidation-auc:0.82620\n",
      "[8]\tvalidation-auc:0.82834\n",
      "[9]\tvalidation-auc:0.83008\n",
      "[0]\tvalidation-auc:0.86125\n",
      "[1]\tvalidation-auc:0.86883\n",
      "[2]\tvalidation-auc:0.88240\n",
      "[3]\tvalidation-auc:0.88160\n",
      "[4]\tvalidation-auc:0.87801\n",
      "[5]\tvalidation-auc:0.87814\n",
      "[6]\tvalidation-auc:0.87987\n",
      "[7]\tvalidation-auc:0.87934\n",
      "[8]\tvalidation-auc:0.87974\n",
      "[9]\tvalidation-auc:0.87921\n"
     ]
    },
    {
     "name": "stderr",
     "output_type": "stream",
     "text": [
      "\u001b[32m[I 2021-09-29 21:45:47,572]\u001b[0m Trial 1 finished with value: 0.8089887640449438 and parameters: {'booster': 'gblinear', 'lambda': 6.787166572634024e-05, 'alpha': 4.902320323562994e-07}. Best is trial 0 with value: 0.8146067415730337.\u001b[0m\n"
     ]
    },
    {
     "name": "stdout",
     "output_type": "stream",
     "text": [
      "[0]\tvalidation-auc:0.83373\n",
      "[1]\tvalidation-auc:0.83610\n",
      "[2]\tvalidation-auc:0.82859\n",
      "[3]\tvalidation-auc:0.83109\n",
      "[4]\tvalidation-auc:0.82543\n",
      "[5]\tvalidation-auc:0.82727\n",
      "[6]\tvalidation-auc:0.82569\n",
      "[7]\tvalidation-auc:0.82925\n",
      "[8]\tvalidation-auc:0.82964\n",
      "[9]\tvalidation-auc:0.83030\n",
      "[0]\tvalidation-auc:0.84465\n",
      "[1]\tvalidation-auc:0.84545\n",
      "[2]\tvalidation-auc:0.84545\n",
      "[3]\tvalidation-auc:0.84519\n",
      "[4]\tvalidation-auc:0.84318\n",
      "[5]\tvalidation-auc:0.84238\n",
      "[6]\tvalidation-auc:0.84225\n",
      "[7]\tvalidation-auc:0.84238\n",
      "[8]\tvalidation-auc:0.84104\n",
      "[9]\tvalidation-auc:0.84037\n",
      "[0]\tvalidation-auc:0.75374\n",
      "[1]\tvalidation-auc:0.75508\n",
      "[2]\tvalidation-auc:0.76190\n",
      "[3]\tvalidation-auc:0.76431\n",
      "[4]\tvalidation-auc:0.76831\n",
      "[5]\tvalidation-auc:0.76992\n",
      "[6]\tvalidation-auc:0.77233\n",
      "[7]\tvalidation-auc:0.77366\n",
      "[8]\tvalidation-auc:0.77326\n",
      "[9]\tvalidation-auc:0.77406\n",
      "[0]\tvalidation-auc:0.82460\n",
      "[1]\tvalidation-auc:0.82152\n",
      "[2]\tvalidation-auc:0.82246\n",
      "[3]\tvalidation-auc:0.82393\n",
      "[4]\tvalidation-auc:0.82513\n",
      "[5]\tvalidation-auc:0.82821\n",
      "[6]\tvalidation-auc:0.82848\n",
      "[7]\tvalidation-auc:0.82848\n",
      "[8]\tvalidation-auc:0.83061\n",
      "[9]\tvalidation-auc:0.83075\n",
      "[0]\tvalidation-auc:0.80727\n",
      "[1]\tvalidation-auc:0.86511\n",
      "[2]\tvalidation-auc:0.86711\n",
      "[3]\tvalidation-auc:0.86711\n",
      "[4]\tvalidation-auc:0.86445\n",
      "[5]\tvalidation-auc:0.86352\n",
      "[6]\tvalidation-auc:0.86298\n",
      "[7]\tvalidation-auc:0.86445\n",
      "[8]\tvalidation-auc:0.86431\n",
      "[9]\tvalidation-auc:0.86445\n"
     ]
    },
    {
     "name": "stderr",
     "output_type": "stream",
     "text": [
      "\u001b[32m[I 2021-09-29 21:45:47,792]\u001b[0m Trial 2 finished with value: 0.7359550561797753 and parameters: {'booster': 'gblinear', 'lambda': 0.20077853294059067, 'alpha': 0.00014065074321757231}. Best is trial 0 with value: 0.8146067415730337.\u001b[0m\n"
     ]
    },
    {
     "name": "stdout",
     "output_type": "stream",
     "text": [
      "[0]\tvalidation-auc:0.84499\n",
      "[1]\tvalidation-auc:0.84941\n",
      "[2]\tvalidation-auc:0.84341\n",
      "[3]\tvalidation-auc:0.84308\n",
      "[4]\tvalidation-auc:0.84881\n",
      "[5]\tvalidation-auc:0.84802\n",
      "[6]\tvalidation-auc:0.85277\n",
      "[7]\tvalidation-auc:0.84980\n",
      "[8]\tvalidation-auc:0.85408\n",
      "[9]\tvalidation-auc:0.85099\n",
      "[0]\tvalidation-auc:0.82279\n",
      "[1]\tvalidation-auc:0.81979\n",
      "[2]\tvalidation-auc:0.82146\n",
      "[3]\tvalidation-auc:0.82032\n",
      "[4]\tvalidation-auc:0.82433\n",
      "[5]\tvalidation-auc:0.82460\n",
      "[6]\tvalidation-auc:0.81972\n",
      "[7]\tvalidation-auc:0.82380\n",
      "[8]\tvalidation-auc:0.82346\n",
      "[9]\tvalidation-auc:0.82440\n",
      "[0]\tvalidation-auc:0.81183\n",
      "[1]\tvalidation-auc:0.81150\n",
      "[2]\tvalidation-auc:0.81190\n",
      "[3]\tvalidation-auc:0.81070\n",
      "[4]\tvalidation-auc:0.81163\n",
      "[5]\tvalidation-auc:0.81029\n",
      "[6]\tvalidation-auc:0.81390\n",
      "[7]\tvalidation-auc:0.81056\n",
      "[8]\tvalidation-auc:0.81297\n",
      "[9]\tvalidation-auc:0.81497\n",
      "[0]\tvalidation-auc:0.85074\n",
      "[1]\tvalidation-auc:0.84993\n",
      "[2]\tvalidation-auc:0.85013\n",
      "[3]\tvalidation-auc:0.85201\n",
      "[4]\tvalidation-auc:0.85134\n",
      "[5]\tvalidation-auc:0.85247\n",
      "[6]\tvalidation-auc:0.85060\n",
      "[7]\tvalidation-auc:0.85154\n",
      "[8]\tvalidation-auc:0.85314\n",
      "[9]\tvalidation-auc:0.85301\n",
      "[0]\tvalidation-auc:0.83473\n",
      "[1]\tvalidation-auc:0.84503\n",
      "[2]\tvalidation-auc:0.84144\n",
      "[3]\tvalidation-auc:0.84257\n",
      "[4]\tvalidation-auc:0.85208\n",
      "[5]\tvalidation-auc:0.85680\n",
      "[6]\tvalidation-auc:0.84530\n",
      "[7]\tvalidation-auc:0.85268\n",
      "[8]\tvalidation-auc:0.85348\n",
      "[9]\tvalidation-auc:0.85846\n"
     ]
    },
    {
     "name": "stderr",
     "output_type": "stream",
     "text": [
      "\u001b[32m[I 2021-09-29 21:45:48,357]\u001b[0m Trial 3 finished with value: 0.8146067415730337 and parameters: {'booster': 'dart', 'lambda': 0.004670708935677625, 'alpha': 1.6102382376120907e-06, 'max_depth': 8, 'eta': 4.448846466261992e-06, 'gamma': 0.046761485481332216, 'grow_policy': 'lossguide', 'sample_type': 'weighted', 'normalize_type': 'forest', 'rate_drop': 1.1465156301274964e-07, 'skip_drop': 3.144962457259461e-05}. Best is trial 0 with value: 0.8146067415730337.\u001b[0m\n"
     ]
    },
    {
     "name": "stdout",
     "output_type": "stream",
     "text": [
      "[0]\tvalidation-auc:0.77582\n",
      "[1]\tvalidation-auc:0.77582\n",
      "[2]\tvalidation-auc:0.77582\n",
      "[3]\tvalidation-auc:0.77582\n",
      "[4]\tvalidation-auc:0.77582\n",
      "[5]\tvalidation-auc:0.77582\n",
      "[6]\tvalidation-auc:0.77582\n",
      "[7]\tvalidation-auc:0.77582\n",
      "[8]\tvalidation-auc:0.77582\n",
      "[9]\tvalidation-auc:0.79961\n",
      "[0]\tvalidation-auc:0.74799\n",
      "[1]\tvalidation-auc:0.74799\n",
      "[2]\tvalidation-auc:0.74799\n",
      "[3]\tvalidation-auc:0.74799\n",
      "[4]\tvalidation-auc:0.79044\n",
      "[5]\tvalidation-auc:0.79044\n",
      "[6]\tvalidation-auc:0.79044\n",
      "[7]\tvalidation-auc:0.79044\n",
      "[8]\tvalidation-auc:0.79044\n",
      "[9]\tvalidation-auc:0.79044\n",
      "[0]\tvalidation-auc:0.75468\n",
      "[1]\tvalidation-auc:0.75468\n",
      "[2]\tvalidation-auc:0.75468\n",
      "[3]\tvalidation-auc:0.75468\n",
      "[4]\tvalidation-auc:0.75468\n",
      "[5]\tvalidation-auc:0.75468\n",
      "[6]\tvalidation-auc:0.75468\n",
      "[7]\tvalidation-auc:0.75468\n",
      "[8]\tvalidation-auc:0.75468\n",
      "[9]\tvalidation-auc:0.75468\n",
      "[0]\tvalidation-auc:0.75013\n",
      "[1]\tvalidation-auc:0.75013\n",
      "[2]\tvalidation-auc:0.77112\n",
      "[3]\tvalidation-auc:0.77112\n",
      "[4]\tvalidation-auc:0.77112\n",
      "[5]\tvalidation-auc:0.77112\n",
      "[6]\tvalidation-auc:0.77112\n",
      "[7]\tvalidation-auc:0.77112\n",
      "[8]\tvalidation-auc:0.77112\n",
      "[9]\tvalidation-auc:0.77112\n",
      "[0]\tvalidation-auc:0.80754\n",
      "[1]\tvalidation-auc:0.80754\n",
      "[2]\tvalidation-auc:0.80754\n",
      "[3]\tvalidation-auc:0.80754\n",
      "[4]\tvalidation-auc:0.80754\n",
      "[5]\tvalidation-auc:0.80754\n",
      "[6]\tvalidation-auc:0.80754\n",
      "[7]\tvalidation-auc:0.80754\n",
      "[8]\tvalidation-auc:0.80754\n",
      "[9]\tvalidation-auc:0.80754\n"
     ]
    },
    {
     "name": "stderr",
     "output_type": "stream",
     "text": [
      "\u001b[32m[I 2021-09-29 21:45:48,750]\u001b[0m Trial 4 finished with value: 0.8033707865168539 and parameters: {'booster': 'dart', 'lambda': 0.002031684474818976, 'alpha': 5.625455438688028e-08, 'max_depth': 1, 'eta': 0.018940766578879376, 'gamma': 0.06843954014050552, 'grow_policy': 'lossguide', 'sample_type': 'uniform', 'normalize_type': 'tree', 'rate_drop': 0.00010718314122840589, 'skip_drop': 0.003969888531707794}. Best is trial 0 with value: 0.8146067415730337.\u001b[0m\n"
     ]
    },
    {
     "name": "stdout",
     "output_type": "stream",
     "text": [
      "[0]\tvalidation-auc:0.50000\n",
      "[1]\tvalidation-auc:0.79611\n",
      "[2]\tvalidation-auc:0.78702\n",
      "[3]\tvalidation-auc:0.86304\n",
      "[4]\tvalidation-auc:0.86759\n",
      "[5]\tvalidation-auc:0.88452\n",
      "[6]\tvalidation-auc:0.87681\n",
      "[7]\tvalidation-auc:0.87339\n",
      "[8]\tvalidation-auc:0.85646\n",
      "[9]\tvalidation-auc:0.86054\n",
      "[0]\tvalidation-auc:0.50000\n",
      "[1]\tvalidation-auc:0.72727\n",
      "[2]\tvalidation-auc:0.74305\n",
      "[3]\tvalidation-auc:0.83035\n",
      "[4]\tvalidation-auc:0.83583\n",
      "[5]\tvalidation-auc:0.86317\n",
      "[6]\tvalidation-auc:0.84900\n",
      "[7]\tvalidation-auc:0.84632\n",
      "[8]\tvalidation-auc:0.83456\n",
      "[9]\tvalidation-auc:0.84231\n",
      "[0]\tvalidation-auc:0.50000\n",
      "[1]\tvalidation-auc:0.74652\n",
      "[2]\tvalidation-auc:0.74652\n",
      "[3]\tvalidation-auc:0.82734\n",
      "[4]\tvalidation-auc:0.81791\n",
      "[5]\tvalidation-auc:0.83904\n",
      "[6]\tvalidation-auc:0.83723\n",
      "[7]\tvalidation-auc:0.82607\n",
      "[8]\tvalidation-auc:0.82767\n",
      "[9]\tvalidation-auc:0.83088\n",
      "[0]\tvalidation-auc:0.50000\n",
      "[1]\tvalidation-auc:0.80254\n",
      "[2]\tvalidation-auc:0.80254\n",
      "[3]\tvalidation-auc:0.83229\n",
      "[4]\tvalidation-auc:0.82186\n",
      "[5]\tvalidation-auc:0.85301\n",
      "[6]\tvalidation-auc:0.85615\n",
      "[7]\tvalidation-auc:0.84612\n",
      "[8]\tvalidation-auc:0.84599\n",
      "[9]\tvalidation-auc:0.84218\n",
      "[0]\tvalidation-auc:0.50000\n",
      "[1]\tvalidation-auc:0.73867\n",
      "[2]\tvalidation-auc:0.78746\n",
      "[3]\tvalidation-auc:0.84763\n",
      "[4]\tvalidation-auc:0.84670\n",
      "[5]\tvalidation-auc:0.87010\n",
      "[6]\tvalidation-auc:0.85414\n",
      "[7]\tvalidation-auc:0.84769\n",
      "[8]\tvalidation-auc:0.85195\n",
      "[9]\tvalidation-auc:0.86744\n"
     ]
    },
    {
     "name": "stderr",
     "output_type": "stream",
     "text": [
      "\u001b[32m[I 2021-09-29 21:45:49,364]\u001b[0m Trial 5 finished with value: 0.8202247191011236 and parameters: {'booster': 'dart', 'lambda': 2.058948131492346e-06, 'alpha': 0.7425187020685793, 'max_depth': 9, 'eta': 3.359268445721081e-08, 'gamma': 0.2050132561989456, 'grow_policy': 'lossguide', 'sample_type': 'weighted', 'normalize_type': 'forest', 'rate_drop': 5.912494278325187e-06, 'skip_drop': 0.002493803627618973}. Best is trial 5 with value: 0.8202247191011236.\u001b[0m\n"
     ]
    },
    {
     "name": "stdout",
     "output_type": "stream",
     "text": [
      "[0]\tvalidation-auc:0.88544\n",
      "[1]\tvalidation-auc:0.88854\n",
      "[2]\tvalidation-auc:0.88854\n",
      "[3]\tvalidation-auc:0.88854\n",
      "[4]\tvalidation-auc:0.88854\n",
      "[5]\tvalidation-auc:0.88854\n",
      "[6]\tvalidation-auc:0.88854\n",
      "[7]\tvalidation-auc:0.88854\n",
      "[8]\tvalidation-auc:0.88867\n",
      "[9]\tvalidation-auc:0.88880\n",
      "[0]\tvalidation-auc:0.84104\n",
      "[1]\tvalidation-auc:0.84104\n",
      "[2]\tvalidation-auc:0.84104\n",
      "[3]\tvalidation-auc:0.84104\n",
      "[4]\tvalidation-auc:0.84104\n",
      "[5]\tvalidation-auc:0.83616\n",
      "[6]\tvalidation-auc:0.83616\n",
      "[7]\tvalidation-auc:0.83616\n",
      "[8]\tvalidation-auc:0.83616\n",
      "[9]\tvalidation-auc:0.83616\n",
      "[0]\tvalidation-auc:0.86905\n",
      "[1]\tvalidation-auc:0.86905\n",
      "[2]\tvalidation-auc:0.86905\n",
      "[3]\tvalidation-auc:0.86905\n",
      "[4]\tvalidation-auc:0.86905\n",
      "[5]\tvalidation-auc:0.86905\n",
      "[6]\tvalidation-auc:0.86905\n",
      "[7]\tvalidation-auc:0.86905\n",
      "[8]\tvalidation-auc:0.86905\n",
      "[9]\tvalidation-auc:0.86905\n",
      "[0]\tvalidation-auc:0.83175\n",
      "[1]\tvalidation-auc:0.83175\n",
      "[2]\tvalidation-auc:0.83175\n",
      "[3]\tvalidation-auc:0.83175\n",
      "[4]\tvalidation-auc:0.83175\n",
      "[5]\tvalidation-auc:0.83175\n",
      "[6]\tvalidation-auc:0.83175\n",
      "[7]\tvalidation-auc:0.83175\n",
      "[8]\tvalidation-auc:0.83175\n",
      "[9]\tvalidation-auc:0.83175\n",
      "[0]\tvalidation-auc:0.84330\n",
      "[1]\tvalidation-auc:0.84330\n",
      "[2]\tvalidation-auc:0.84330\n",
      "[3]\tvalidation-auc:0.84330\n",
      "[4]\tvalidation-auc:0.84330\n",
      "[5]\tvalidation-auc:0.84330\n",
      "[6]\tvalidation-auc:0.84330\n",
      "[7]\tvalidation-auc:0.84330\n",
      "[8]\tvalidation-auc:0.84330\n",
      "[9]\tvalidation-auc:0.84330\n"
     ]
    },
    {
     "name": "stderr",
     "output_type": "stream",
     "text": [
      "\u001b[32m[I 2021-09-29 21:45:49,821]\u001b[0m Trial 6 finished with value: 0.8033707865168539 and parameters: {'booster': 'dart', 'lambda': 6.0449955938207454e-06, 'alpha': 3.338348947467133e-07, 'max_depth': 4, 'eta': 2.3623764166505597e-05, 'gamma': 5.427640457767718e-08, 'grow_policy': 'lossguide', 'sample_type': 'uniform', 'normalize_type': 'tree', 'rate_drop': 0.05307275756032165, 'skip_drop': 1.2426731124226913e-06}. Best is trial 5 with value: 0.8202247191011236.\u001b[0m\n"
     ]
    },
    {
     "name": "stdout",
     "output_type": "stream",
     "text": [
      "[0]\tvalidation-auc:0.82371\n",
      "[1]\tvalidation-auc:0.82793\n",
      "[2]\tvalidation-auc:0.82371\n",
      "[3]\tvalidation-auc:0.83426\n",
      "[4]\tvalidation-auc:0.84071\n",
      "[5]\tvalidation-auc:0.84835\n"
     ]
    },
    {
     "name": "stderr",
     "output_type": "stream",
     "text": [
      "\u001b[32m[I 2021-09-29 21:45:49,855]\u001b[0m Trial 7 pruned. Trial was pruned at iteration 5.\u001b[0m\n"
     ]
    },
    {
     "name": "stdout",
     "output_type": "stream",
     "text": [
      "[0]\tvalidation-auc:0.83702\n",
      "[1]\tvalidation-auc:0.85059\n",
      "[2]\tvalidation-auc:0.82325\n",
      "[3]\tvalidation-auc:0.83109\n",
      "[4]\tvalidation-auc:0.85935\n",
      "[5]\tvalidation-auc:0.82602\n",
      "[6]\tvalidation-auc:0.85349\n",
      "[7]\tvalidation-auc:0.83841\n",
      "[8]\tvalidation-auc:0.82964\n"
     ]
    },
    {
     "name": "stderr",
     "output_type": "stream",
     "text": [
      "\u001b[32m[I 2021-09-29 21:45:49,941]\u001b[0m Trial 8 pruned. Trial was pruned at iteration 9.\u001b[0m\n"
     ]
    },
    {
     "name": "stdout",
     "output_type": "stream",
     "text": [
      "[0]\tvalidation-auc:0.90231\n",
      "[1]\tvalidation-auc:0.89769\n",
      "[2]\tvalidation-auc:0.89901\n",
      "[3]\tvalidation-auc:0.89980\n",
      "[4]\tvalidation-auc:0.89848\n",
      "[5]\tvalidation-auc:0.89848\n",
      "[6]\tvalidation-auc:0.89822\n",
      "[7]\tvalidation-auc:0.89848\n",
      "[8]\tvalidation-auc:0.89868\n",
      "[9]\tvalidation-auc:0.89875\n",
      "[0]\tvalidation-auc:0.87059\n",
      "[1]\tvalidation-auc:0.87413\n",
      "[2]\tvalidation-auc:0.87473\n",
      "[3]\tvalidation-auc:0.87473\n",
      "[4]\tvalidation-auc:0.87580\n",
      "[5]\tvalidation-auc:0.87567\n",
      "[6]\tvalidation-auc:0.87500\n",
      "[7]\tvalidation-auc:0.87500\n",
      "[8]\tvalidation-auc:0.87580\n",
      "[9]\tvalidation-auc:0.87553\n",
      "[0]\tvalidation-auc:0.86290\n",
      "[1]\tvalidation-auc:0.86290\n",
      "[2]\tvalidation-auc:0.86290\n",
      "[3]\tvalidation-auc:0.86424\n",
      "[4]\tvalidation-auc:0.86624\n",
      "[5]\tvalidation-auc:0.86638\n",
      "[6]\tvalidation-auc:0.86664\n",
      "[7]\tvalidation-auc:0.86678\n",
      "[8]\tvalidation-auc:0.86584\n",
      "[9]\tvalidation-auc:0.86624\n",
      "[0]\tvalidation-auc:0.86143\n",
      "[1]\tvalidation-auc:0.86290\n",
      "[2]\tvalidation-auc:0.86290\n",
      "[3]\tvalidation-auc:0.86404\n",
      "[4]\tvalidation-auc:0.86577\n",
      "[5]\tvalidation-auc:0.86591\n",
      "[6]\tvalidation-auc:0.86511\n",
      "[7]\tvalidation-auc:0.86504\n",
      "[8]\tvalidation-auc:0.86504\n",
      "[9]\tvalidation-auc:0.86477\n",
      "[0]\tvalidation-auc:0.87854\n",
      "[1]\tvalidation-auc:0.88233\n",
      "[2]\tvalidation-auc:0.88286\n",
      "[3]\tvalidation-auc:0.88273\n",
      "[4]\tvalidation-auc:0.88299\n",
      "[5]\tvalidation-auc:0.88299\n",
      "[6]\tvalidation-auc:0.88299\n",
      "[7]\tvalidation-auc:0.88339\n",
      "[8]\tvalidation-auc:0.88339\n",
      "[9]\tvalidation-auc:0.88339\n"
     ]
    },
    {
     "name": "stderr",
     "output_type": "stream",
     "text": [
      "\u001b[32m[I 2021-09-29 21:45:50,466]\u001b[0m Trial 9 finished with value: 0.8370786516853933 and parameters: {'booster': 'dart', 'lambda': 0.09885022089484578, 'alpha': 0.9913011111421189, 'max_depth': 7, 'eta': 0.01793382428864828, 'gamma': 0.00218269276467672, 'grow_policy': 'depthwise', 'sample_type': 'weighted', 'normalize_type': 'forest', 'rate_drop': 0.022254827613756557, 'skip_drop': 0.001054336255417377}. Best is trial 9 with value: 0.8370786516853933.\u001b[0m\n"
     ]
    },
    {
     "name": "stdout",
     "output_type": "stream",
     "text": [
      "[0]\tvalidation-auc:0.88557\n",
      "[1]\tvalidation-auc:0.89776\n",
      "[2]\tvalidation-auc:0.88788\n",
      "[3]\tvalidation-auc:0.88551\n",
      "[4]\tvalidation-auc:0.89150\n",
      "[5]\tvalidation-auc:0.88636\n",
      "[6]\tvalidation-auc:0.88913\n",
      "[7]\tvalidation-auc:0.88544\n",
      "[8]\tvalidation-auc:0.88650\n",
      "[9]\tvalidation-auc:0.88742\n",
      "[0]\tvalidation-auc:0.83790\n",
      "[1]\tvalidation-auc:0.84091\n",
      "[2]\tvalidation-auc:0.85261\n",
      "[3]\tvalidation-auc:0.86872\n",
      "[4]\tvalidation-auc:0.86858\n",
      "[5]\tvalidation-auc:0.87687\n",
      "[6]\tvalidation-auc:0.89031\n",
      "[7]\tvalidation-auc:0.89031\n",
      "[8]\tvalidation-auc:0.87787\n",
      "[9]\tvalidation-auc:0.87908\n",
      "[0]\tvalidation-auc:0.86905\n",
      "[1]\tvalidation-auc:0.87293\n",
      "[2]\tvalidation-auc:0.87112\n",
      "[3]\tvalidation-auc:0.86965\n",
      "[4]\tvalidation-auc:0.87179\n",
      "[5]\tvalidation-auc:0.87072\n",
      "[6]\tvalidation-auc:0.87413\n",
      "[7]\tvalidation-auc:0.87179\n",
      "[8]\tvalidation-auc:0.86912\n",
      "[9]\tvalidation-auc:0.86818\n",
      "[0]\tvalidation-auc:0.83162\n",
      "[1]\tvalidation-auc:0.84666\n",
      "[2]\tvalidation-auc:0.86898\n",
      "[3]\tvalidation-auc:0.86377\n",
      "[4]\tvalidation-auc:0.86952\n",
      "[5]\tvalidation-auc:0.87152\n",
      "[6]\tvalidation-auc:0.86979\n",
      "[7]\tvalidation-auc:0.87406\n",
      "[8]\tvalidation-auc:0.87079\n",
      "[9]\tvalidation-auc:0.86437\n",
      "[0]\tvalidation-auc:0.84384\n",
      "[1]\tvalidation-auc:0.83945\n",
      "[2]\tvalidation-auc:0.83892\n",
      "[3]\tvalidation-auc:0.85354\n",
      "[4]\tvalidation-auc:0.84955\n",
      "[5]\tvalidation-auc:0.85428\n",
      "[6]\tvalidation-auc:0.84803\n",
      "[7]\tvalidation-auc:0.84417\n",
      "[8]\tvalidation-auc:0.84470\n",
      "[9]\tvalidation-auc:0.84045\n"
     ]
    },
    {
     "name": "stderr",
     "output_type": "stream",
     "text": [
      "\u001b[32m[I 2021-09-29 21:45:50,779]\u001b[0m Trial 10 finished with value: 0.8258426966292135 and parameters: {'booster': 'gbtree', 'lambda': 1.1794772844890431e-08, 'alpha': 0.0004139244241075367, 'max_depth': 4, 'eta': 0.3759906987016799, 'gamma': 0.00010117915022592747, 'grow_policy': 'depthwise'}. Best is trial 9 with value: 0.8370786516853933.\u001b[0m\n"
     ]
    },
    {
     "name": "stdout",
     "output_type": "stream",
     "text": [
      "[0]\tvalidation-auc:0.88557\n",
      "[1]\tvalidation-auc:0.89414\n",
      "[2]\tvalidation-auc:0.89750\n",
      "[3]\tvalidation-auc:0.90758\n",
      "[4]\tvalidation-auc:0.90402\n",
      "[5]\tvalidation-auc:0.90204\n",
      "[6]\tvalidation-auc:0.89783\n",
      "[7]\tvalidation-auc:0.90165\n",
      "[8]\tvalidation-auc:0.89848\n",
      "[9]\tvalidation-auc:0.89881\n",
      "[0]\tvalidation-auc:0.83790\n",
      "[1]\tvalidation-auc:0.86765\n",
      "[2]\tvalidation-auc:0.88837\n",
      "[3]\tvalidation-auc:0.88677\n",
      "[4]\tvalidation-auc:0.89071\n",
      "[5]\tvalidation-auc:0.88636\n",
      "[6]\tvalidation-auc:0.88837\n",
      "[7]\tvalidation-auc:0.88489\n",
      "[8]\tvalidation-auc:0.88115\n",
      "[9]\tvalidation-auc:0.88229\n",
      "[0]\tvalidation-auc:0.86905\n",
      "[1]\tvalidation-auc:0.87560\n",
      "[2]\tvalidation-auc:0.87553\n",
      "[3]\tvalidation-auc:0.87239\n",
      "[4]\tvalidation-auc:0.87426\n",
      "[5]\tvalidation-auc:0.86531\n",
      "[6]\tvalidation-auc:0.86110\n",
      "[7]\tvalidation-auc:0.85802\n",
      "[8]\tvalidation-auc:0.86217\n",
      "[9]\tvalidation-auc:0.85328\n",
      "[0]\tvalidation-auc:0.83162\n",
      "[1]\tvalidation-auc:0.85602\n",
      "[2]\tvalidation-auc:0.85749\n",
      "[3]\tvalidation-auc:0.86103\n",
      "[4]\tvalidation-auc:0.85595\n",
      "[5]\tvalidation-auc:0.84927\n",
      "[6]\tvalidation-auc:0.85100\n",
      "[7]\tvalidation-auc:0.85261\n",
      "[8]\tvalidation-auc:0.85468\n",
      "[9]\tvalidation-auc:0.85054\n",
      "[0]\tvalidation-auc:0.84384\n",
      "[1]\tvalidation-auc:0.86990\n",
      "[2]\tvalidation-auc:0.85002\n",
      "[3]\tvalidation-auc:0.84663\n",
      "[4]\tvalidation-auc:0.84011\n",
      "[5]\tvalidation-auc:0.83320\n",
      "[6]\tvalidation-auc:0.83872\n",
      "[7]\tvalidation-auc:0.85461\n",
      "[8]\tvalidation-auc:0.84922\n",
      "[9]\tvalidation-auc:0.83520\n"
     ]
    },
    {
     "name": "stderr",
     "output_type": "stream",
     "text": [
      "\u001b[32m[I 2021-09-29 21:45:51,082]\u001b[0m Trial 11 finished with value: 0.7752808988764045 and parameters: {'booster': 'gbtree', 'lambda': 1.480476878178752e-08, 'alpha': 0.00028536604178530574, 'max_depth': 4, 'eta': 0.8653258269167486, 'gamma': 0.00010063748176694707, 'grow_policy': 'depthwise'}. Best is trial 9 with value: 0.8370786516853933.\u001b[0m\n"
     ]
    },
    {
     "name": "stdout",
     "output_type": "stream",
     "text": [
      "[0]\tvalidation-auc:0.84084\n",
      "[1]\tvalidation-auc:0.85376\n",
      "[2]\tvalidation-auc:0.89987\n",
      "[3]\tvalidation-auc:0.89354\n",
      "[4]\tvalidation-auc:0.88254\n",
      "[5]\tvalidation-auc:0.88393\n",
      "[6]\tvalidation-auc:0.88366\n",
      "[7]\tvalidation-auc:0.88458\n",
      "[8]\tvalidation-auc:0.88320\n",
      "[9]\tvalidation-auc:0.88142\n",
      "[0]\tvalidation-auc:0.79793\n",
      "[1]\tvalidation-auc:0.85174\n",
      "[2]\tvalidation-auc:0.85742\n",
      "[3]\tvalidation-auc:0.86838\n",
      "[4]\tvalidation-auc:0.88342\n",
      "[5]\tvalidation-auc:0.89098\n",
      "[6]\tvalidation-auc:0.88870\n",
      "[7]\tvalidation-auc:0.88503\n",
      "[8]\tvalidation-auc:0.88890\n",
      "[9]\tvalidation-auc:0.88723\n",
      "[0]\tvalidation-auc:0.80575\n",
      "[1]\tvalidation-auc:0.82533\n",
      "[2]\tvalidation-auc:0.82808\n",
      "[3]\tvalidation-auc:0.85087\n",
      "[4]\tvalidation-auc:0.83857\n",
      "[5]\tvalidation-auc:0.83643\n",
      "[6]\tvalidation-auc:0.84098\n",
      "[7]\tvalidation-auc:0.84418\n",
      "[8]\tvalidation-auc:0.84913\n",
      "[9]\tvalidation-auc:0.85100\n",
      "[0]\tvalidation-auc:0.82373\n",
      "[1]\tvalidation-auc:0.84144\n",
      "[2]\tvalidation-auc:0.85381\n",
      "[3]\tvalidation-auc:0.86277\n",
      "[4]\tvalidation-auc:0.85936\n",
      "[5]\tvalidation-auc:0.85809\n",
      "[6]\tvalidation-auc:0.85936\n",
      "[7]\tvalidation-auc:0.85669\n",
      "[8]\tvalidation-auc:0.86016\n",
      "[9]\tvalidation-auc:0.86410\n",
      "[0]\tvalidation-auc:0.85866\n",
      "[1]\tvalidation-auc:0.88027\n",
      "[2]\tvalidation-auc:0.87369\n",
      "[3]\tvalidation-auc:0.86026\n",
      "[4]\tvalidation-auc:0.85939\n",
      "[5]\tvalidation-auc:0.85634\n",
      "[6]\tvalidation-auc:0.85866\n",
      "[7]\tvalidation-auc:0.86039\n",
      "[8]\tvalidation-auc:0.86338\n",
      "[9]\tvalidation-auc:0.86890\n"
     ]
    },
    {
     "name": "stderr",
     "output_type": "stream",
     "text": [
      "\u001b[32m[I 2021-09-29 21:45:51,373]\u001b[0m Trial 12 finished with value: 0.797752808988764 and parameters: {'booster': 'gbtree', 'lambda': 1.0940943777531735e-08, 'alpha': 0.9676480445818681, 'max_depth': 2, 'eta': 0.9835153865939144, 'gamma': 0.00010090402736923849, 'grow_policy': 'depthwise'}. Best is trial 9 with value: 0.8370786516853933.\u001b[0m\n"
     ]
    },
    {
     "name": "stdout",
     "output_type": "stream",
     "text": [
      "[0]\tvalidation-auc:0.88702\n",
      "[1]\tvalidation-auc:0.88887\n",
      "[2]\tvalidation-auc:0.88913\n",
      "[3]\tvalidation-auc:0.88913\n",
      "[4]\tvalidation-auc:0.89012\n",
      "[5]\tvalidation-auc:0.89071\n",
      "[6]\tvalidation-auc:0.89032\n",
      "[7]\tvalidation-auc:0.88999\n",
      "[8]\tvalidation-auc:0.88920\n",
      "[9]\tvalidation-auc:0.89012\n",
      "[0]\tvalidation-auc:0.87500\n",
      "[1]\tvalidation-auc:0.87413\n",
      "[2]\tvalidation-auc:0.87587\n",
      "[3]\tvalidation-auc:0.87667\n",
      "[4]\tvalidation-auc:0.87574\n",
      "[5]\tvalidation-auc:0.87560\n",
      "[6]\tvalidation-auc:0.87547\n",
      "[7]\tvalidation-auc:0.87533\n",
      "[8]\tvalidation-auc:0.87520\n",
      "[9]\tvalidation-auc:0.87520\n",
      "[0]\tvalidation-auc:0.86992\n",
      "[1]\tvalidation-auc:0.87025\n",
      "[2]\tvalidation-auc:0.87012\n",
      "[3]\tvalidation-auc:0.85789\n",
      "[4]\tvalidation-auc:0.85775\n",
      "[5]\tvalidation-auc:0.85802\n",
      "[6]\tvalidation-auc:0.85729\n",
      "[7]\tvalidation-auc:0.85729\n",
      "[8]\tvalidation-auc:0.85876\n",
      "[9]\tvalidation-auc:0.86090\n",
      "[0]\tvalidation-auc:0.85348\n",
      "[1]\tvalidation-auc:0.85689\n",
      "[2]\tvalidation-auc:0.85689\n",
      "[3]\tvalidation-auc:0.85648\n",
      "[4]\tvalidation-auc:0.85662\n",
      "[5]\tvalidation-auc:0.85796\n",
      "[6]\tvalidation-auc:0.86023\n",
      "[7]\tvalidation-auc:0.85876\n",
      "[8]\tvalidation-auc:0.85916\n",
      "[9]\tvalidation-auc:0.85862\n",
      "[0]\tvalidation-auc:0.87641\n",
      "[1]\tvalidation-auc:0.87721\n",
      "[2]\tvalidation-auc:0.87774\n",
      "[3]\tvalidation-auc:0.87056\n",
      "[4]\tvalidation-auc:0.86923\n",
      "[5]\tvalidation-auc:0.86923\n",
      "[6]\tvalidation-auc:0.86923\n",
      "[7]\tvalidation-auc:0.86923\n",
      "[8]\tvalidation-auc:0.86923\n",
      "[9]\tvalidation-auc:0.86923\n"
     ]
    },
    {
     "name": "stderr",
     "output_type": "stream",
     "text": [
      "\u001b[32m[I 2021-09-29 21:45:51,720]\u001b[0m Trial 13 finished with value: 0.8033707865168539 and parameters: {'booster': 'gbtree', 'lambda': 0.5313781548173929, 'alpha': 0.009993085641696682, 'max_depth': 5, 'eta': 0.021444012377931584, 'gamma': 0.0008893816279014859, 'grow_policy': 'depthwise'}. Best is trial 9 with value: 0.8370786516853933.\u001b[0m\n"
     ]
    },
    {
     "name": "stdout",
     "output_type": "stream",
     "text": [
      "[0]\tvalidation-auc:0.87787\n",
      "[1]\tvalidation-auc:0.88880\n",
      "[2]\tvalidation-auc:0.88518\n",
      "[3]\tvalidation-auc:0.88597\n",
      "[4]\tvalidation-auc:0.88505\n",
      "[5]\tvalidation-auc:0.88505\n",
      "[6]\tvalidation-auc:0.88531\n",
      "[7]\tvalidation-auc:0.88505\n",
      "[8]\tvalidation-auc:0.88228\n",
      "[9]\tvalidation-auc:0.88465\n",
      "[0]\tvalidation-auc:0.84352\n",
      "[1]\tvalidation-auc:0.84352\n",
      "[2]\tvalidation-auc:0.84352\n",
      "[3]\tvalidation-auc:0.84352\n",
      "[4]\tvalidation-auc:0.84311\n",
      "[5]\tvalidation-auc:0.84311\n",
      "[6]\tvalidation-auc:0.86203\n",
      "[7]\tvalidation-auc:0.86203\n",
      "[8]\tvalidation-auc:0.86444\n",
      "[9]\tvalidation-auc:0.86283\n",
      "[0]\tvalidation-auc:0.83576\n",
      "[1]\tvalidation-auc:0.83576\n",
      "[2]\tvalidation-auc:0.83576\n",
      "[3]\tvalidation-auc:0.83576\n",
      "[4]\tvalidation-auc:0.83576\n",
      "[5]\tvalidation-auc:0.83696\n",
      "[6]\tvalidation-auc:0.83950\n",
      "[7]\tvalidation-auc:0.84245\n",
      "[8]\tvalidation-auc:0.84545\n",
      "[9]\tvalidation-auc:0.84412\n",
      "[0]\tvalidation-auc:0.83750\n",
      "[1]\tvalidation-auc:0.84044\n",
      "[2]\tvalidation-auc:0.84004\n",
      "[3]\tvalidation-auc:0.84820\n",
      "[4]\tvalidation-auc:0.84820\n",
      "[5]\tvalidation-auc:0.84860\n",
      "[6]\tvalidation-auc:0.85308\n",
      "[7]\tvalidation-auc:0.85334\n",
      "[8]\tvalidation-auc:0.86243\n",
      "[9]\tvalidation-auc:0.86310\n",
      "[0]\tvalidation-auc:0.87994\n",
      "[1]\tvalidation-auc:0.87994\n",
      "[2]\tvalidation-auc:0.87887\n",
      "[3]\tvalidation-auc:0.87887\n",
      "[4]\tvalidation-auc:0.88319\n",
      "[5]\tvalidation-auc:0.88133\n",
      "[6]\tvalidation-auc:0.88466\n",
      "[7]\tvalidation-auc:0.88386\n",
      "[8]\tvalidation-auc:0.88599\n",
      "[9]\tvalidation-auc:0.88638\n"
     ]
    },
    {
     "name": "stderr",
     "output_type": "stream",
     "text": [
      "\u001b[32m[I 2021-09-29 21:45:52,093]\u001b[0m Trial 14 finished with value: 0.8202247191011236 and parameters: {'booster': 'gbtree', 'lambda': 2.213552541073684e-07, 'alpha': 9.838023752397464e-06, 'max_depth': 3, 'eta': 0.044382165067240104, 'gamma': 0.0013303674620155843, 'grow_policy': 'depthwise'}. Best is trial 9 with value: 0.8370786516853933.\u001b[0m\n"
     ]
    },
    {
     "name": "stdout",
     "output_type": "stream",
     "text": [
      "[0]\tvalidation-auc:0.84038\n",
      "[1]\tvalidation-auc:0.87615\n",
      "[2]\tvalidation-auc:0.86100\n",
      "[3]\tvalidation-auc:0.87530\n",
      "[4]\tvalidation-auc:0.85843\n",
      "[5]\tvalidation-auc:0.87161\n"
     ]
    },
    {
     "name": "stderr",
     "output_type": "stream",
     "text": [
      "\u001b[32m[I 2021-09-29 21:45:52,149]\u001b[0m Trial 15 pruned. Trial was pruned at iteration 5.\u001b[0m\n"
     ]
    },
    {
     "name": "stdout",
     "output_type": "stream",
     "text": [
      "[0]\tvalidation-auc:0.84368\n",
      "[1]\tvalidation-auc:0.86680\n",
      "[2]\tvalidation-auc:0.86495\n",
      "[3]\tvalidation-auc:0.86304\n",
      "[4]\tvalidation-auc:0.87306\n"
     ]
    },
    {
     "name": "stderr",
     "output_type": "stream",
     "text": [
      "\u001b[32m[I 2021-09-29 21:45:52,219]\u001b[0m Trial 16 pruned. Trial was pruned at iteration 5.\u001b[0m\n"
     ]
    },
    {
     "name": "stdout",
     "output_type": "stream",
     "text": [
      "[0]\tvalidation-auc:0.85178\n",
      "[1]\tvalidation-auc:0.85132\n",
      "[2]\tvalidation-auc:0.86673\n",
      "[3]\tvalidation-auc:0.85823\n",
      "[4]\tvalidation-auc:0.86864\n",
      "[5]\tvalidation-auc:0.86449\n"
     ]
    },
    {
     "name": "stderr",
     "output_type": "stream",
     "text": [
      "\u001b[32m[I 2021-09-29 21:45:52,291]\u001b[0m Trial 17 pruned. Trial was pruned at iteration 5.\u001b[0m\n"
     ]
    },
    {
     "name": "stdout",
     "output_type": "stream",
     "text": [
      "[0]\tvalidation-auc:0.87312\n",
      "[1]\tvalidation-auc:0.87563\n",
      "[2]\tvalidation-auc:0.87668\n",
      "[3]\tvalidation-auc:0.87668\n",
      "[4]\tvalidation-auc:0.87444\n"
     ]
    },
    {
     "name": "stderr",
     "output_type": "stream",
     "text": [
      "\u001b[32m[I 2021-09-29 21:45:52,337]\u001b[0m Trial 18 pruned. Trial was pruned at iteration 5.\u001b[0m\n"
     ]
    },
    {
     "name": "stdout",
     "output_type": "stream",
     "text": [
      "[0]\tvalidation-auc:0.88353\n",
      "[1]\tvalidation-auc:0.88841\n",
      "[2]\tvalidation-auc:0.88854\n",
      "[3]\tvalidation-auc:0.88854\n",
      "[4]\tvalidation-auc:0.88854\n",
      "[5]\tvalidation-auc:0.88854\n",
      "[6]\tvalidation-auc:0.88775\n",
      "[7]\tvalidation-auc:0.88742\n",
      "[8]\tvalidation-auc:0.88847\n",
      "[9]\tvalidation-auc:0.88768\n",
      "[0]\tvalidation-auc:0.84352\n",
      "[1]\tvalidation-auc:0.84352\n",
      "[2]\tvalidation-auc:0.84352\n",
      "[3]\tvalidation-auc:0.84352\n",
      "[4]\tvalidation-auc:0.84352\n",
      "[5]\tvalidation-auc:0.84352\n",
      "[6]\tvalidation-auc:0.84352\n",
      "[7]\tvalidation-auc:0.84352\n",
      "[8]\tvalidation-auc:0.84352\n",
      "[9]\tvalidation-auc:0.84352\n",
      "[0]\tvalidation-auc:0.83576\n",
      "[1]\tvalidation-auc:0.83576\n",
      "[2]\tvalidation-auc:0.83576\n",
      "[3]\tvalidation-auc:0.83576\n",
      "[4]\tvalidation-auc:0.83576\n",
      "[5]\tvalidation-auc:0.83576\n",
      "[6]\tvalidation-auc:0.83576\n",
      "[7]\tvalidation-auc:0.83576\n",
      "[8]\tvalidation-auc:0.83576\n",
      "[9]\tvalidation-auc:0.83576\n",
      "[0]\tvalidation-auc:0.83750\n",
      "[1]\tvalidation-auc:0.83750\n",
      "[2]\tvalidation-auc:0.83750\n",
      "[3]\tvalidation-auc:0.83750\n",
      "[4]\tvalidation-auc:0.83750\n",
      "[5]\tvalidation-auc:0.83750\n",
      "[6]\tvalidation-auc:0.83750\n",
      "[7]\tvalidation-auc:0.83817\n",
      "[8]\tvalidation-auc:0.83817\n",
      "[9]\tvalidation-auc:0.83817\n",
      "[0]\tvalidation-auc:0.87994\n",
      "[1]\tvalidation-auc:0.87994\n",
      "[2]\tvalidation-auc:0.87994\n",
      "[3]\tvalidation-auc:0.87994\n",
      "[4]\tvalidation-auc:0.87994\n",
      "[5]\tvalidation-auc:0.87994\n",
      "[6]\tvalidation-auc:0.87994\n",
      "[7]\tvalidation-auc:0.87994\n",
      "[8]\tvalidation-auc:0.87994\n",
      "[9]\tvalidation-auc:0.87994\n"
     ]
    },
    {
     "name": "stderr",
     "output_type": "stream",
     "text": [
      "\u001b[32m[I 2021-09-29 21:45:52,746]\u001b[0m Trial 19 finished with value: 0.8202247191011236 and parameters: {'booster': 'dart', 'lambda': 0.03444060462043986, 'alpha': 0.000819852043462402, 'max_depth': 3, 'eta': 0.004480736442799954, 'gamma': 0.005515452033088352, 'grow_policy': 'depthwise', 'sample_type': 'uniform', 'normalize_type': 'tree', 'rate_drop': 0.0036376252886467925, 'skip_drop': 4.819112881262261e-05}. Best is trial 9 with value: 0.8370786516853933.\u001b[0m\n"
     ]
    },
    {
     "name": "stdout",
     "output_type": "stream",
     "text": [
      "[0]\tvalidation-auc:0.85092\n",
      "[1]\tvalidation-auc:0.85448\n",
      "[2]\tvalidation-auc:0.85903\n",
      "[3]\tvalidation-auc:0.86199\n",
      "[4]\tvalidation-auc:0.86278\n",
      "[5]\tvalidation-auc:0.86318\n"
     ]
    },
    {
     "name": "stderr",
     "output_type": "stream",
     "text": [
      "\u001b[32m[I 2021-09-29 21:45:52,814]\u001b[0m Trial 20 pruned. Trial was pruned at iteration 5.\u001b[0m\n"
     ]
    },
    {
     "name": "stdout",
     "output_type": "stream",
     "text": [
      "[0]\tvalidation-auc:0.87787\n",
      "[1]\tvalidation-auc:0.88314\n",
      "[2]\tvalidation-auc:0.88518\n",
      "[3]\tvalidation-auc:0.88597\n",
      "[4]\tvalidation-auc:0.88518\n",
      "[5]\tvalidation-auc:0.88439\n",
      "[6]\tvalidation-auc:0.88439\n",
      "[7]\tvalidation-auc:0.88472\n",
      "[8]\tvalidation-auc:0.88399\n",
      "[9]\tvalidation-auc:0.88452\n",
      "[0]\tvalidation-auc:0.84352\n",
      "[1]\tvalidation-auc:0.84352\n",
      "[2]\tvalidation-auc:0.84352\n",
      "[3]\tvalidation-auc:0.84311\n",
      "[4]\tvalidation-auc:0.86283\n",
      "[5]\tvalidation-auc:0.86283\n",
      "[6]\tvalidation-auc:0.86684\n",
      "[7]\tvalidation-auc:0.86517\n",
      "[8]\tvalidation-auc:0.86925\n",
      "[9]\tvalidation-auc:0.87219\n",
      "[0]\tvalidation-auc:0.83576\n",
      "[1]\tvalidation-auc:0.83576\n",
      "[2]\tvalidation-auc:0.83576\n",
      "[3]\tvalidation-auc:0.83884\n",
      "[4]\tvalidation-auc:0.84285\n",
      "[5]\tvalidation-auc:0.84987\n",
      "[6]\tvalidation-auc:0.85080\n",
      "[7]\tvalidation-auc:0.85094\n",
      "[8]\tvalidation-auc:0.84920\n",
      "[9]\tvalidation-auc:0.84813\n",
      "[0]\tvalidation-auc:0.83750\n",
      "[1]\tvalidation-auc:0.85301\n",
      "[2]\tvalidation-auc:0.84846\n",
      "[3]\tvalidation-auc:0.84846\n",
      "[4]\tvalidation-auc:0.84886\n",
      "[5]\tvalidation-auc:0.86009\n",
      "[6]\tvalidation-auc:0.85956\n",
      "[7]\tvalidation-auc:0.85876\n",
      "[8]\tvalidation-auc:0.86023\n",
      "[9]\tvalidation-auc:0.86156\n",
      "[0]\tvalidation-auc:0.87994\n",
      "[1]\tvalidation-auc:0.87887\n",
      "[2]\tvalidation-auc:0.87887\n",
      "[3]\tvalidation-auc:0.88253\n",
      "[4]\tvalidation-auc:0.88958\n",
      "[5]\tvalidation-auc:0.88399\n",
      "[6]\tvalidation-auc:0.88412\n",
      "[7]\tvalidation-auc:0.88625\n",
      "[8]\tvalidation-auc:0.88532\n",
      "[9]\tvalidation-auc:0.88286\n"
     ]
    },
    {
     "name": "stderr",
     "output_type": "stream",
     "text": [
      "\u001b[32m[I 2021-09-29 21:45:53,124]\u001b[0m Trial 21 finished with value: 0.8370786516853933 and parameters: {'booster': 'gbtree', 'lambda': 9.125652103178269e-08, 'alpha': 7.527493905258326e-06, 'max_depth': 3, 'eta': 0.07305985123508646, 'gamma': 0.0004203182766186757, 'grow_policy': 'depthwise'}. Best is trial 9 with value: 0.8370786516853933.\u001b[0m\n"
     ]
    },
    {
     "name": "stdout",
     "output_type": "stream",
     "text": [
      "[0]\tvalidation-auc:0.87787\n",
      "[1]\tvalidation-auc:0.88076\n",
      "[2]\tvalidation-auc:0.88017\n",
      "[3]\tvalidation-auc:0.88162\n",
      "[4]\tvalidation-auc:0.88432\n"
     ]
    },
    {
     "name": "stderr",
     "output_type": "stream",
     "text": [
      "\u001b[32m[I 2021-09-29 21:45:53,168]\u001b[0m Trial 22 pruned. Trial was pruned at iteration 5.\u001b[0m\n"
     ]
    },
    {
     "name": "stdout",
     "output_type": "stream",
     "text": [
      "[0]\tvalidation-auc:0.77582\n",
      "[1]\tvalidation-auc:0.79961\n",
      "[2]\tvalidation-auc:0.79961\n",
      "[3]\tvalidation-auc:0.85033\n",
      "[4]\tvalidation-auc:0.86601\n",
      "[5]\tvalidation-auc:0.86232\n"
     ]
    },
    {
     "name": "stderr",
     "output_type": "stream",
     "text": [
      "\u001b[32m[I 2021-09-29 21:45:53,207]\u001b[0m Trial 23 pruned. Trial was pruned at iteration 5.\u001b[0m\n"
     ]
    },
    {
     "name": "stdout",
     "output_type": "stream",
     "text": [
      "[0]\tvalidation-auc:0.88544\n",
      "[1]\tvalidation-auc:0.89229\n",
      "[2]\tvalidation-auc:0.89203\n",
      "[3]\tvalidation-auc:0.89137\n",
      "[4]\tvalidation-auc:0.89137\n",
      "[5]\tvalidation-auc:0.89387\n",
      "[6]\tvalidation-auc:0.89387\n",
      "[7]\tvalidation-auc:0.89453\n",
      "[8]\tvalidation-auc:0.89480\n",
      "[9]\tvalidation-auc:0.89532\n",
      "[0]\tvalidation-auc:0.83616\n",
      "[1]\tvalidation-auc:0.83616\n",
      "[2]\tvalidation-auc:0.83616\n",
      "[3]\tvalidation-auc:0.83616\n",
      "[4]\tvalidation-auc:0.83616\n",
      "[5]\tvalidation-auc:0.83616\n",
      "[6]\tvalidation-auc:0.83676\n",
      "[7]\tvalidation-auc:0.83676\n",
      "[8]\tvalidation-auc:0.83676\n",
      "[9]\tvalidation-auc:0.83676\n",
      "[0]\tvalidation-auc:0.86905\n",
      "[1]\tvalidation-auc:0.86905\n",
      "[2]\tvalidation-auc:0.86905\n",
      "[3]\tvalidation-auc:0.86905\n",
      "[4]\tvalidation-auc:0.86905\n",
      "[5]\tvalidation-auc:0.86905\n",
      "[6]\tvalidation-auc:0.86905\n",
      "[7]\tvalidation-auc:0.86063\n",
      "[8]\tvalidation-auc:0.86063\n",
      "[9]\tvalidation-auc:0.86063\n",
      "[0]\tvalidation-auc:0.83175\n",
      "[1]\tvalidation-auc:0.83483\n",
      "[2]\tvalidation-auc:0.83483\n",
      "[3]\tvalidation-auc:0.83690\n",
      "[4]\tvalidation-auc:0.83476\n",
      "[5]\tvalidation-auc:0.83483\n",
      "[6]\tvalidation-auc:0.83456\n",
      "[7]\tvalidation-auc:0.83309\n",
      "[8]\tvalidation-auc:0.83803\n",
      "[9]\tvalidation-auc:0.84104\n",
      "[0]\tvalidation-auc:0.84330\n",
      "[1]\tvalidation-auc:0.84330\n",
      "[2]\tvalidation-auc:0.84330\n",
      "[3]\tvalidation-auc:0.84330\n",
      "[4]\tvalidation-auc:0.84616\n",
      "[5]\tvalidation-auc:0.84616\n",
      "[6]\tvalidation-auc:0.84616\n",
      "[7]\tvalidation-auc:0.84616\n",
      "[8]\tvalidation-auc:0.84696\n",
      "[9]\tvalidation-auc:0.84696\n"
     ]
    },
    {
     "name": "stderr",
     "output_type": "stream",
     "text": [
      "\u001b[32m[I 2021-09-29 21:45:53,534]\u001b[0m Trial 24 finished with value: 0.8314606741573034 and parameters: {'booster': 'gbtree', 'lambda': 4.5758265026716816e-08, 'alpha': 7.445450697007294e-07, 'max_depth': 4, 'eta': 0.010823917176807692, 'gamma': 0.007422197813846454, 'grow_policy': 'depthwise'}. Best is trial 9 with value: 0.8370786516853933.\u001b[0m\n"
     ]
    },
    {
     "name": "stdout",
     "output_type": "stream",
     "text": [
      "[0]\tvalidation-auc:0.81133\n",
      "[1]\tvalidation-auc:0.80856\n",
      "[2]\tvalidation-auc:0.82266\n",
      "[3]\tvalidation-auc:0.83030\n",
      "[4]\tvalidation-auc:0.83544\n",
      "[5]\tvalidation-auc:0.84638\n"
     ]
    },
    {
     "name": "stderr",
     "output_type": "stream",
     "text": [
      "\u001b[32m[I 2021-09-29 21:45:53,570]\u001b[0m Trial 25 pruned. Trial was pruned at iteration 5.\u001b[0m\n"
     ]
    },
    {
     "name": "stdout",
     "output_type": "stream",
     "text": [
      "[0]\tvalidation-auc:0.84084\n",
      "[1]\tvalidation-auc:0.85448\n",
      "[2]\tvalidation-auc:0.85448\n",
      "[3]\tvalidation-auc:0.85448\n",
      "[4]\tvalidation-auc:0.85448\n",
      "[5]\tvalidation-auc:0.85448\n"
     ]
    },
    {
     "name": "stderr",
     "output_type": "stream",
     "text": [
      "\u001b[32m[I 2021-09-29 21:45:53,615]\u001b[0m Trial 26 pruned. Trial was pruned at iteration 5.\u001b[0m\n"
     ]
    },
    {
     "name": "stdout",
     "output_type": "stream",
     "text": [
      "[0]\tvalidation-auc:0.83966\n",
      "[1]\tvalidation-auc:0.84618\n",
      "[2]\tvalidation-auc:0.84842\n",
      "[3]\tvalidation-auc:0.84868\n",
      "[4]\tvalidation-auc:0.84868\n",
      "[5]\tvalidation-auc:0.84815\n"
     ]
    },
    {
     "name": "stderr",
     "output_type": "stream",
     "text": [
      "\u001b[32m[I 2021-09-29 21:45:53,666]\u001b[0m Trial 27 pruned. Trial was pruned at iteration 5.\u001b[0m\n"
     ]
    },
    {
     "name": "stdout",
     "output_type": "stream",
     "text": [
      "[0]\tvalidation-auc:0.84084\n",
      "[1]\tvalidation-auc:0.85448\n",
      "[2]\tvalidation-auc:0.85448\n",
      "[3]\tvalidation-auc:0.85448\n",
      "[4]\tvalidation-auc:0.85448\n"
     ]
    },
    {
     "name": "stderr",
     "output_type": "stream",
     "text": [
      "\u001b[32m[I 2021-09-29 21:45:53,711]\u001b[0m Trial 28 pruned. Trial was pruned at iteration 5.\u001b[0m\n"
     ]
    },
    {
     "name": "stdout",
     "output_type": "stream",
     "text": [
      "[0]\tvalidation-auc:0.88557\n",
      "[1]\tvalidation-auc:0.89783\n",
      "[2]\tvalidation-auc:0.89756\n",
      "[3]\tvalidation-auc:0.89769\n",
      "[4]\tvalidation-auc:0.89671\n",
      "[5]\tvalidation-auc:0.88999\n",
      "[6]\tvalidation-auc:0.89104\n",
      "[7]\tvalidation-auc:0.88874\n",
      "[8]\tvalidation-auc:0.88854\n",
      "[9]\tvalidation-auc:0.88972\n",
      "[0]\tvalidation-auc:0.83790\n",
      "[1]\tvalidation-auc:0.83850\n",
      "[2]\tvalidation-auc:0.83850\n",
      "[3]\tvalidation-auc:0.83670\n",
      "[4]\tvalidation-auc:0.84532\n",
      "[5]\tvalidation-auc:0.84465\n",
      "[6]\tvalidation-auc:0.84652\n",
      "[7]\tvalidation-auc:0.84519\n",
      "[8]\tvalidation-auc:0.85454\n",
      "[9]\tvalidation-auc:0.85762\n",
      "[0]\tvalidation-auc:0.86905\n",
      "[1]\tvalidation-auc:0.86905\n",
      "[2]\tvalidation-auc:0.86156\n",
      "[3]\tvalidation-auc:0.87580\n",
      "[4]\tvalidation-auc:0.87580\n",
      "[5]\tvalidation-auc:0.87874\n",
      "[6]\tvalidation-auc:0.87660\n",
      "[7]\tvalidation-auc:0.87667\n",
      "[8]\tvalidation-auc:0.87580\n",
      "[9]\tvalidation-auc:0.87767\n",
      "[0]\tvalidation-auc:0.83162\n",
      "[1]\tvalidation-auc:0.83723\n",
      "[2]\tvalidation-auc:0.84225\n",
      "[3]\tvalidation-auc:0.84158\n",
      "[4]\tvalidation-auc:0.84037\n",
      "[5]\tvalidation-auc:0.85689\n",
      "[6]\tvalidation-auc:0.85695\n",
      "[7]\tvalidation-auc:0.86196\n",
      "[8]\tvalidation-auc:0.87092\n",
      "[9]\tvalidation-auc:0.86979\n",
      "[0]\tvalidation-auc:0.84384\n",
      "[1]\tvalidation-auc:0.84537\n",
      "[2]\tvalidation-auc:0.85009\n",
      "[3]\tvalidation-auc:0.85221\n",
      "[4]\tvalidation-auc:0.85142\n",
      "[5]\tvalidation-auc:0.85035\n",
      "[6]\tvalidation-auc:0.84523\n",
      "[7]\tvalidation-auc:0.84523\n",
      "[8]\tvalidation-auc:0.84563\n",
      "[9]\tvalidation-auc:0.84430\n"
     ]
    },
    {
     "name": "stderr",
     "output_type": "stream",
     "text": [
      "\u001b[32m[I 2021-09-29 21:45:54,119]\u001b[0m Trial 29 finished with value: 0.8202247191011236 and parameters: {'booster': 'dart', 'lambda': 1.2501734796651717e-06, 'alpha': 5.8100856311843376e-05, 'max_depth': 4, 'eta': 0.06102598935309214, 'gamma': 2.355666055219344e-05, 'grow_policy': 'depthwise', 'sample_type': 'weighted', 'normalize_type': 'forest', 'rate_drop': 3.2258220408024536e-06, 'skip_drop': 1.3526713242282545e-07}. Best is trial 9 with value: 0.8370786516853933.\u001b[0m\n"
     ]
    },
    {
     "name": "stdout",
     "output_type": "stream",
     "text": [
      "[0]\tvalidation-auc:0.85988\n",
      "[1]\tvalidation-auc:0.86001\n",
      "[2]\tvalidation-auc:0.86146\n",
      "[3]\tvalidation-auc:0.86001\n",
      "[4]\tvalidation-auc:0.86133\n",
      "[5]\tvalidation-auc:0.86001\n"
     ]
    },
    {
     "name": "stderr",
     "output_type": "stream",
     "text": [
      "\u001b[32m[I 2021-09-29 21:45:54,175]\u001b[0m Trial 30 pruned. Trial was pruned at iteration 5.\u001b[0m\n"
     ]
    },
    {
     "name": "stdout",
     "output_type": "stream",
     "text": [
      "[0]\tvalidation-auc:0.88544\n",
      "[1]\tvalidation-auc:0.89776\n",
      "[2]\tvalidation-auc:0.88972\n",
      "[3]\tvalidation-auc:0.88406\n",
      "[4]\tvalidation-auc:0.88893\n",
      "[5]\tvalidation-auc:0.89065\n",
      "[6]\tvalidation-auc:0.88847\n",
      "[7]\tvalidation-auc:0.89170\n",
      "[8]\tvalidation-auc:0.89058\n",
      "[9]\tvalidation-auc:0.89124\n",
      "[0]\tvalidation-auc:0.83790\n",
      "[1]\tvalidation-auc:0.84606\n",
      "[2]\tvalidation-auc:0.86036\n",
      "[3]\tvalidation-auc:0.87547\n",
      "[4]\tvalidation-auc:0.87273\n",
      "[5]\tvalidation-auc:0.88015\n",
      "[6]\tvalidation-auc:0.86872\n",
      "[7]\tvalidation-auc:0.87687\n",
      "[8]\tvalidation-auc:0.86190\n",
      "[9]\tvalidation-auc:0.86778\n",
      "[0]\tvalidation-auc:0.86905\n",
      "[1]\tvalidation-auc:0.87620\n",
      "[2]\tvalidation-auc:0.87654\n",
      "[3]\tvalidation-auc:0.87386\n",
      "[4]\tvalidation-auc:0.87420\n",
      "[5]\tvalidation-auc:0.87146\n",
      "[6]\tvalidation-auc:0.86364\n",
      "[7]\tvalidation-auc:0.86484\n",
      "[8]\tvalidation-auc:0.86257\n",
      "[9]\tvalidation-auc:0.86424\n",
      "[0]\tvalidation-auc:0.83162\n",
      "[1]\tvalidation-auc:0.84572\n",
      "[2]\tvalidation-auc:0.87126\n",
      "[3]\tvalidation-auc:0.87019\n",
      "[4]\tvalidation-auc:0.87467\n",
      "[5]\tvalidation-auc:0.86584\n",
      "[6]\tvalidation-auc:0.86277\n",
      "[7]\tvalidation-auc:0.86511\n",
      "[8]\tvalidation-auc:0.86437\n",
      "[9]\tvalidation-auc:0.86671\n",
      "[0]\tvalidation-auc:0.84330\n",
      "[1]\tvalidation-auc:0.84158\n",
      "[2]\tvalidation-auc:0.83932\n",
      "[3]\tvalidation-auc:0.83819\n",
      "[4]\tvalidation-auc:0.85088\n",
      "[5]\tvalidation-auc:0.85467\n",
      "[6]\tvalidation-auc:0.84836\n",
      "[7]\tvalidation-auc:0.85095\n",
      "[8]\tvalidation-auc:0.85454\n",
      "[9]\tvalidation-auc:0.85009\n"
     ]
    },
    {
     "name": "stderr",
     "output_type": "stream",
     "text": [
      "\u001b[32m[I 2021-09-29 21:45:54,496]\u001b[0m Trial 31 finished with value: 0.8202247191011236 and parameters: {'booster': 'gbtree', 'lambda': 1.0556348565739268e-08, 'alpha': 2.2284160904819366e-06, 'max_depth': 4, 'eta': 0.2944573849504738, 'gamma': 0.0003347416549528495, 'grow_policy': 'depthwise'}. Best is trial 9 with value: 0.8370786516853933.\u001b[0m\n"
     ]
    },
    {
     "name": "stdout",
     "output_type": "stream",
     "text": [
      "[0]\tvalidation-auc:0.87787\n",
      "[1]\tvalidation-auc:0.88880\n",
      "[2]\tvalidation-auc:0.88781\n",
      "[3]\tvalidation-auc:0.88228\n",
      "[4]\tvalidation-auc:0.88491\n",
      "[5]\tvalidation-auc:0.88557\n",
      "[6]\tvalidation-auc:0.88636\n",
      "[7]\tvalidation-auc:0.88518\n",
      "[8]\tvalidation-auc:0.88531\n",
      "[9]\tvalidation-auc:0.88584\n",
      "[0]\tvalidation-auc:0.84352\n",
      "[1]\tvalidation-auc:0.84352\n",
      "[2]\tvalidation-auc:0.84352\n",
      "[3]\tvalidation-auc:0.84352\n",
      "[4]\tvalidation-auc:0.84352\n",
      "[5]\tvalidation-auc:0.84352\n",
      "[6]\tvalidation-auc:0.84352\n",
      "[7]\tvalidation-auc:0.84352\n",
      "[8]\tvalidation-auc:0.84352\n",
      "[9]\tvalidation-auc:0.84338\n",
      "[0]\tvalidation-auc:0.83576\n",
      "[1]\tvalidation-auc:0.83576\n",
      "[2]\tvalidation-auc:0.83576\n",
      "[3]\tvalidation-auc:0.83576\n",
      "[4]\tvalidation-auc:0.83576\n",
      "[5]\tvalidation-auc:0.83576\n",
      "[6]\tvalidation-auc:0.83576\n",
      "[7]\tvalidation-auc:0.83576\n",
      "[8]\tvalidation-auc:0.83576\n",
      "[9]\tvalidation-auc:0.83576\n",
      "[0]\tvalidation-auc:0.83750\n",
      "[1]\tvalidation-auc:0.83750\n",
      "[2]\tvalidation-auc:0.83817\n",
      "[3]\tvalidation-auc:0.83817\n",
      "[4]\tvalidation-auc:0.83817\n",
      "[5]\tvalidation-auc:0.83991\n",
      "[6]\tvalidation-auc:0.84672\n",
      "[7]\tvalidation-auc:0.84686\n",
      "[8]\tvalidation-auc:0.84806\n",
      "[9]\tvalidation-auc:0.84806\n",
      "[0]\tvalidation-auc:0.87994\n",
      "[1]\tvalidation-auc:0.87994\n",
      "[2]\tvalidation-auc:0.87994\n",
      "[3]\tvalidation-auc:0.87887\n",
      "[4]\tvalidation-auc:0.87887\n",
      "[5]\tvalidation-auc:0.87887\n",
      "[6]\tvalidation-auc:0.87887\n",
      "[7]\tvalidation-auc:0.87887\n",
      "[8]\tvalidation-auc:0.87887\n",
      "[9]\tvalidation-auc:0.88293\n"
     ]
    },
    {
     "name": "stderr",
     "output_type": "stream",
     "text": [
      "\u001b[32m[I 2021-09-29 21:45:54,787]\u001b[0m Trial 32 finished with value: 0.8202247191011236 and parameters: {'booster': 'gbtree', 'lambda': 2.6875969334106505e-07, 'alpha': 2.6235455791444176e-07, 'max_depth': 3, 'eta': 0.018592688587600995, 'gamma': 3.5791820367557994e-05, 'grow_policy': 'depthwise'}. Best is trial 9 with value: 0.8370786516853933.\u001b[0m\n"
     ]
    },
    {
     "name": "stdout",
     "output_type": "stream",
     "text": [
      "[0]\tvalidation-auc:0.88557\n",
      "[1]\tvalidation-auc:0.89783\n",
      "[2]\tvalidation-auc:0.89750\n",
      "[3]\tvalidation-auc:0.89486\n",
      "[4]\tvalidation-auc:0.89433\n",
      "[5]\tvalidation-auc:0.89051\n",
      "[6]\tvalidation-auc:0.88926\n",
      "[7]\tvalidation-auc:0.89058\n",
      "[8]\tvalidation-auc:0.88972\n",
      "[9]\tvalidation-auc:0.89084\n",
      "[0]\tvalidation-auc:0.83790\n",
      "[1]\tvalidation-auc:0.83529\n",
      "[2]\tvalidation-auc:0.84806\n",
      "[3]\tvalidation-auc:0.84599\n",
      "[4]\tvalidation-auc:0.85775\n",
      "[5]\tvalidation-auc:0.87099\n",
      "[6]\tvalidation-auc:0.86959\n",
      "[7]\tvalidation-auc:0.86972\n",
      "[8]\tvalidation-auc:0.87052\n",
      "[9]\tvalidation-auc:0.87132\n",
      "[0]\tvalidation-auc:0.86905\n",
      "[1]\tvalidation-auc:0.87941\n",
      "[2]\tvalidation-auc:0.87741\n",
      "[3]\tvalidation-auc:0.87654\n",
      "[4]\tvalidation-auc:0.87580\n",
      "[5]\tvalidation-auc:0.86698\n",
      "[6]\tvalidation-auc:0.86638\n",
      "[7]\tvalidation-auc:0.86771\n",
      "[8]\tvalidation-auc:0.86698\n",
      "[9]\tvalidation-auc:0.86711\n",
      "[0]\tvalidation-auc:0.83162\n",
      "[1]\tvalidation-auc:0.84104\n",
      "[2]\tvalidation-auc:0.85842\n",
      "[3]\tvalidation-auc:0.85635\n",
      "[4]\tvalidation-auc:0.86945\n",
      "[5]\tvalidation-auc:0.87219\n",
      "[6]\tvalidation-auc:0.86517\n",
      "[7]\tvalidation-auc:0.86591\n",
      "[8]\tvalidation-auc:0.86845\n",
      "[9]\tvalidation-auc:0.86577\n",
      "[0]\tvalidation-auc:0.84384\n",
      "[1]\tvalidation-auc:0.84816\n",
      "[2]\tvalidation-auc:0.85049\n",
      "[3]\tvalidation-auc:0.84324\n",
      "[4]\tvalidation-auc:0.84204\n",
      "[5]\tvalidation-auc:0.84616\n",
      "[6]\tvalidation-auc:0.84098\n",
      "[7]\tvalidation-auc:0.83971\n",
      "[8]\tvalidation-auc:0.84158\n",
      "[9]\tvalidation-auc:0.84630\n"
     ]
    },
    {
     "name": "stderr",
     "output_type": "stream",
     "text": [
      "\u001b[32m[I 2021-09-29 21:45:55,113]\u001b[0m Trial 33 finished with value: 0.8258426966292135 and parameters: {'booster': 'gbtree', 'lambda': 6.415531660279447e-08, 'alpha': 0.0003861209849936724, 'max_depth': 4, 'eta': 0.14154522419077883, 'gamma': 0.002596835146209732, 'grow_policy': 'depthwise'}. Best is trial 9 with value: 0.8370786516853933.\u001b[0m\n"
     ]
    },
    {
     "name": "stdout",
     "output_type": "stream",
     "text": [
      "[0]\tvalidation-auc:0.85639\n",
      "[1]\tvalidation-auc:0.84361\n",
      "[2]\tvalidation-auc:0.84480\n",
      "[3]\tvalidation-auc:0.84835\n",
      "[4]\tvalidation-auc:0.85402\n",
      "[5]\tvalidation-auc:0.85810\n"
     ]
    },
    {
     "name": "stderr",
     "output_type": "stream",
     "text": [
      "\u001b[32m[I 2021-09-29 21:45:55,146]\u001b[0m Trial 34 pruned. Trial was pruned at iteration 5.\u001b[0m\n"
     ]
    },
    {
     "name": "stdout",
     "output_type": "stream",
     "text": [
      "[0]\tvalidation-auc:0.83966\n",
      "[1]\tvalidation-auc:0.84822\n",
      "[2]\tvalidation-auc:0.84855\n",
      "[3]\tvalidation-auc:0.84842\n",
      "[4]\tvalidation-auc:0.84776\n",
      "[5]\tvalidation-auc:0.84947\n"
     ]
    },
    {
     "name": "stderr",
     "output_type": "stream",
     "text": [
      "\u001b[32m[I 2021-09-29 21:45:55,202]\u001b[0m Trial 35 pruned. Trial was pruned at iteration 5.\u001b[0m\n"
     ]
    },
    {
     "name": "stdout",
     "output_type": "stream",
     "text": [
      "[0]\tvalidation-auc:0.88353\n",
      "[1]\tvalidation-auc:0.88841\n",
      "[2]\tvalidation-auc:0.88854\n",
      "[3]\tvalidation-auc:0.88854\n",
      "[4]\tvalidation-auc:0.88854\n",
      "[5]\tvalidation-auc:0.88854\n",
      "[6]\tvalidation-auc:0.88775\n",
      "[7]\tvalidation-auc:0.88775\n",
      "[8]\tvalidation-auc:0.88775\n",
      "[9]\tvalidation-auc:0.88775\n",
      "[0]\tvalidation-auc:0.84352\n",
      "[1]\tvalidation-auc:0.84352\n",
      "[2]\tvalidation-auc:0.84352\n",
      "[3]\tvalidation-auc:0.84352\n",
      "[4]\tvalidation-auc:0.84352\n",
      "[5]\tvalidation-auc:0.84352\n",
      "[6]\tvalidation-auc:0.84352\n",
      "[7]\tvalidation-auc:0.84352\n",
      "[8]\tvalidation-auc:0.84352\n",
      "[9]\tvalidation-auc:0.84352\n",
      "[0]\tvalidation-auc:0.83576\n",
      "[1]\tvalidation-auc:0.83576\n",
      "[2]\tvalidation-auc:0.83576\n",
      "[3]\tvalidation-auc:0.83576\n",
      "[4]\tvalidation-auc:0.83576\n",
      "[5]\tvalidation-auc:0.83576\n",
      "[6]\tvalidation-auc:0.83576\n",
      "[7]\tvalidation-auc:0.83576\n",
      "[8]\tvalidation-auc:0.83576\n",
      "[9]\tvalidation-auc:0.83576\n",
      "[0]\tvalidation-auc:0.83750\n",
      "[1]\tvalidation-auc:0.83750\n",
      "[2]\tvalidation-auc:0.83750\n",
      "[3]\tvalidation-auc:0.83750\n",
      "[4]\tvalidation-auc:0.83750\n",
      "[5]\tvalidation-auc:0.83750\n",
      "[6]\tvalidation-auc:0.83750\n",
      "[7]\tvalidation-auc:0.83750\n",
      "[8]\tvalidation-auc:0.83750\n",
      "[9]\tvalidation-auc:0.83750\n",
      "[0]\tvalidation-auc:0.87994\n",
      "[1]\tvalidation-auc:0.87994\n",
      "[2]\tvalidation-auc:0.87994\n",
      "[3]\tvalidation-auc:0.87994\n",
      "[4]\tvalidation-auc:0.87994\n",
      "[5]\tvalidation-auc:0.87994\n",
      "[6]\tvalidation-auc:0.87994\n",
      "[7]\tvalidation-auc:0.87994\n",
      "[8]\tvalidation-auc:0.87994\n",
      "[9]\tvalidation-auc:0.87994\n"
     ]
    },
    {
     "name": "stderr",
     "output_type": "stream",
     "text": [
      "\u001b[32m[I 2021-09-29 21:45:55,489]\u001b[0m Trial 36 finished with value: 0.8202247191011236 and parameters: {'booster': 'gbtree', 'lambda': 2.7126402246575156e-06, 'alpha': 0.0352445404126985, 'max_depth': 3, 'eta': 0.0022816920339267027, 'gamma': 0.003738653183880379, 'grow_policy': 'depthwise'}. Best is trial 9 with value: 0.8370786516853933.\u001b[0m\n"
     ]
    },
    {
     "name": "stdout",
     "output_type": "stream",
     "text": [
      "[0]\tvalidation-auc:0.89104\n",
      "[1]\tvalidation-auc:0.89005\n",
      "[2]\tvalidation-auc:0.88992\n",
      "[3]\tvalidation-auc:0.88788\n",
      "[4]\tvalidation-auc:0.88972\n",
      "[5]\tvalidation-auc:0.88999\n",
      "[6]\tvalidation-auc:0.88155\n",
      "[7]\tvalidation-auc:0.88491\n",
      "[8]\tvalidation-auc:0.88373\n",
      "[9]\tvalidation-auc:0.88320\n",
      "[0]\tvalidation-auc:0.87680\n",
      "[1]\tvalidation-auc:0.87654\n",
      "[2]\tvalidation-auc:0.87587\n",
      "[3]\tvalidation-auc:0.87527\n",
      "[4]\tvalidation-auc:0.87620\n",
      "[5]\tvalidation-auc:0.87995\n",
      "[6]\tvalidation-auc:0.87854\n",
      "[7]\tvalidation-auc:0.87794\n",
      "[8]\tvalidation-auc:0.87674\n",
      "[9]\tvalidation-auc:0.87553\n",
      "[0]\tvalidation-auc:0.87440\n",
      "[1]\tvalidation-auc:0.87687\n",
      "[2]\tvalidation-auc:0.87687\n",
      "[3]\tvalidation-auc:0.87848\n",
      "[4]\tvalidation-auc:0.87988\n",
      "[5]\tvalidation-auc:0.86791\n",
      "[6]\tvalidation-auc:0.86691\n",
      "[7]\tvalidation-auc:0.86738\n",
      "[8]\tvalidation-auc:0.86484\n",
      "[9]\tvalidation-auc:0.86390\n",
      "[0]\tvalidation-auc:0.86123\n",
      "[1]\tvalidation-auc:0.86410\n",
      "[2]\tvalidation-auc:0.86337\n",
      "[3]\tvalidation-auc:0.86344\n",
      "[4]\tvalidation-auc:0.86170\n",
      "[5]\tvalidation-auc:0.86544\n",
      "[6]\tvalidation-auc:0.86437\n",
      "[7]\tvalidation-auc:0.86424\n",
      "[8]\tvalidation-auc:0.86417\n",
      "[9]\tvalidation-auc:0.86404\n",
      "[0]\tvalidation-auc:0.87256\n",
      "[1]\tvalidation-auc:0.87721\n",
      "[2]\tvalidation-auc:0.87801\n",
      "[3]\tvalidation-auc:0.87548\n",
      "[4]\tvalidation-auc:0.87581\n",
      "[5]\tvalidation-auc:0.87435\n",
      "[6]\tvalidation-auc:0.87462\n",
      "[7]\tvalidation-auc:0.87375\n",
      "[8]\tvalidation-auc:0.87389\n",
      "[9]\tvalidation-auc:0.87229\n"
     ]
    },
    {
     "name": "stderr",
     "output_type": "stream",
     "text": [
      "\u001b[32m[I 2021-09-29 21:45:55,930]\u001b[0m Trial 37 finished with value: 0.8033707865168539 and parameters: {'booster': 'dart', 'lambda': 0.9101043810444571, 'alpha': 9.307057222253199e-06, 'max_depth': 5, 'eta': 0.08287427067081012, 'gamma': 0.027513821165449353, 'grow_policy': 'lossguide', 'sample_type': 'weighted', 'normalize_type': 'forest', 'rate_drop': 0.0013127724383760258, 'skip_drop': 2.783784412664734e-06}. Best is trial 9 with value: 0.8370786516853933.\u001b[0m\n"
     ]
    },
    {
     "name": "stdout",
     "output_type": "stream",
     "text": [
      "[0]\tvalidation-auc:0.77470\n",
      "[1]\tvalidation-auc:0.78498\n",
      "[2]\tvalidation-auc:0.82003\n",
      "[3]\tvalidation-auc:0.82714\n",
      "[4]\tvalidation-auc:0.83649\n"
     ]
    },
    {
     "name": "stderr",
     "output_type": "stream",
     "text": [
      "\u001b[32m[I 2021-09-29 21:45:55,967]\u001b[0m Trial 38 pruned. Trial was pruned at iteration 5.\u001b[0m\n"
     ]
    },
    {
     "name": "stdout",
     "output_type": "stream",
     "text": [
      "[0]\tvalidation-auc:0.85211\n",
      "[1]\tvalidation-auc:0.84466\n",
      "[2]\tvalidation-auc:0.84519\n",
      "[3]\tvalidation-auc:0.84486\n",
      "[4]\tvalidation-auc:0.84466\n"
     ]
    },
    {
     "name": "stderr",
     "output_type": "stream",
     "text": [
      "\u001b[32m[I 2021-09-29 21:45:56,025]\u001b[0m Trial 39 pruned. Trial was pruned at iteration 5.\u001b[0m\n"
     ]
    },
    {
     "name": "stdout",
     "output_type": "stream",
     "text": [
      "[0]\tvalidation-auc:0.84084\n",
      "[1]\tvalidation-auc:0.85448\n",
      "[2]\tvalidation-auc:0.85448\n",
      "[3]\tvalidation-auc:0.85448\n",
      "[4]\tvalidation-auc:0.85448\n"
     ]
    },
    {
     "name": "stderr",
     "output_type": "stream",
     "text": [
      "\u001b[32m[I 2021-09-29 21:45:56,063]\u001b[0m Trial 40 pruned. Trial was pruned at iteration 5.\u001b[0m\n"
     ]
    },
    {
     "name": "stdout",
     "output_type": "stream",
     "text": [
      "[0]\tvalidation-auc:0.88557\n",
      "[1]\tvalidation-auc:0.89776\n",
      "[2]\tvalidation-auc:0.88788\n",
      "[3]\tvalidation-auc:0.88452\n",
      "[4]\tvalidation-auc:0.88814\n",
      "[5]\tvalidation-auc:0.89058\n",
      "[6]\tvalidation-auc:0.89137\n",
      "[7]\tvalidation-auc:0.89368\n",
      "[8]\tvalidation-auc:0.89335\n",
      "[9]\tvalidation-auc:0.89638\n",
      "[0]\tvalidation-auc:0.83790\n",
      "[1]\tvalidation-auc:0.84057\n",
      "[2]\tvalidation-auc:0.86731\n",
      "[3]\tvalidation-auc:0.87901\n",
      "[4]\tvalidation-auc:0.87480\n",
      "[5]\tvalidation-auc:0.86290\n",
      "[6]\tvalidation-auc:0.86691\n",
      "[7]\tvalidation-auc:0.87701\n",
      "[8]\tvalidation-auc:0.88088\n",
      "[9]\tvalidation-auc:0.87393\n",
      "[0]\tvalidation-auc:0.86905\n",
      "[1]\tvalidation-auc:0.87306\n",
      "[2]\tvalidation-auc:0.87099\n",
      "[3]\tvalidation-auc:0.87039\n",
      "[4]\tvalidation-auc:0.86731\n",
      "[5]\tvalidation-auc:0.86237\n",
      "[6]\tvalidation-auc:0.86043\n",
      "[7]\tvalidation-auc:0.85983\n",
      "[8]\tvalidation-auc:0.85876\n",
      "[9]\tvalidation-auc:0.85348\n",
      "[0]\tvalidation-auc:0.83162\n",
      "[1]\tvalidation-auc:0.84666\n",
      "[2]\tvalidation-auc:0.86938\n",
      "[3]\tvalidation-auc:0.86377\n",
      "[4]\tvalidation-auc:0.86818\n",
      "[5]\tvalidation-auc:0.86664\n",
      "[6]\tvalidation-auc:0.86845\n",
      "[7]\tvalidation-auc:0.87012\n",
      "[8]\tvalidation-auc:0.86918\n",
      "[9]\tvalidation-auc:0.87106\n",
      "[0]\tvalidation-auc:0.84384\n",
      "[1]\tvalidation-auc:0.83945\n",
      "[2]\tvalidation-auc:0.83892\n",
      "[3]\tvalidation-auc:0.85328\n",
      "[4]\tvalidation-auc:0.85527\n",
      "[5]\tvalidation-auc:0.85447\n",
      "[6]\tvalidation-auc:0.84935\n",
      "[7]\tvalidation-auc:0.85600\n",
      "[8]\tvalidation-auc:0.85547\n",
      "[9]\tvalidation-auc:0.84450\n"
     ]
    },
    {
     "name": "stderr",
     "output_type": "stream",
     "text": [
      "\u001b[32m[I 2021-09-29 21:45:56,381]\u001b[0m Trial 41 finished with value: 0.8146067415730337 and parameters: {'booster': 'gbtree', 'lambda': 1.0814963402051326e-08, 'alpha': 0.00026052977001324773, 'max_depth': 4, 'eta': 0.3983666284252648, 'gamma': 0.00028668167809018996, 'grow_policy': 'depthwise'}. Best is trial 9 with value: 0.8370786516853933.\u001b[0m\n"
     ]
    },
    {
     "name": "stdout",
     "output_type": "stream",
     "text": [
      "[0]\tvalidation-auc:0.88557\n",
      "[1]\tvalidation-auc:0.89229\n",
      "[2]\tvalidation-auc:0.89651\n",
      "[3]\tvalidation-auc:0.89506\n",
      "[4]\tvalidation-auc:0.89651\n",
      "[5]\tvalidation-auc:0.89638\n",
      "[6]\tvalidation-auc:0.89638\n",
      "[7]\tvalidation-auc:0.89565\n",
      "[8]\tvalidation-auc:0.88999\n",
      "[9]\tvalidation-auc:0.88913\n",
      "[0]\tvalidation-auc:0.83790\n",
      "[1]\tvalidation-auc:0.83790\n",
      "[2]\tvalidation-auc:0.83850\n",
      "[3]\tvalidation-auc:0.83850\n",
      "[4]\tvalidation-auc:0.83703\n",
      "[5]\tvalidation-auc:0.83750\n",
      "[6]\tvalidation-auc:0.83750\n",
      "[7]\tvalidation-auc:0.84699\n",
      "[8]\tvalidation-auc:0.84545\n",
      "[9]\tvalidation-auc:0.84586\n",
      "[0]\tvalidation-auc:0.86905\n",
      "[1]\tvalidation-auc:0.86905\n",
      "[2]\tvalidation-auc:0.86156\n",
      "[3]\tvalidation-auc:0.86116\n",
      "[4]\tvalidation-auc:0.86357\n",
      "[5]\tvalidation-auc:0.87393\n",
      "[6]\tvalidation-auc:0.87447\n",
      "[7]\tvalidation-auc:0.87821\n",
      "[8]\tvalidation-auc:0.87620\n",
      "[9]\tvalidation-auc:0.87674\n",
      "[0]\tvalidation-auc:0.83162\n",
      "[1]\tvalidation-auc:0.83469\n",
      "[2]\tvalidation-auc:0.84084\n",
      "[3]\tvalidation-auc:0.84158\n",
      "[4]\tvalidation-auc:0.84265\n",
      "[5]\tvalidation-auc:0.84171\n",
      "[6]\tvalidation-auc:0.84184\n",
      "[7]\tvalidation-auc:0.84024\n",
      "[8]\tvalidation-auc:0.85435\n",
      "[9]\tvalidation-auc:0.85541\n",
      "[0]\tvalidation-auc:0.84384\n",
      "[1]\tvalidation-auc:0.84384\n",
      "[2]\tvalidation-auc:0.84670\n",
      "[3]\tvalidation-auc:0.84623\n",
      "[4]\tvalidation-auc:0.84995\n",
      "[5]\tvalidation-auc:0.84995\n",
      "[6]\tvalidation-auc:0.85075\n",
      "[7]\tvalidation-auc:0.85009\n",
      "[8]\tvalidation-auc:0.85035\n",
      "[9]\tvalidation-auc:0.85009\n"
     ]
    },
    {
     "name": "stderr",
     "output_type": "stream",
     "text": [
      "\u001b[32m[I 2021-09-29 21:45:56,719]\u001b[0m Trial 42 finished with value: 0.8202247191011236 and parameters: {'booster': 'gbtree', 'lambda': 6.925885216463068e-08, 'alpha': 0.0008818178690969226, 'max_depth': 4, 'eta': 0.03337864871426694, 'gamma': 0.0031262660909323003, 'grow_policy': 'depthwise'}. Best is trial 9 with value: 0.8370786516853933.\u001b[0m\n"
     ]
    },
    {
     "name": "stdout",
     "output_type": "stream",
     "text": [
      "[0]\tvalidation-auc:0.88557\n",
      "[1]\tvalidation-auc:0.89769\n",
      "[2]\tvalidation-auc:0.89453\n",
      "[3]\tvalidation-auc:0.89368\n",
      "[4]\tvalidation-auc:0.88985\n",
      "[5]\tvalidation-auc:0.88702\n",
      "[6]\tvalidation-auc:0.89071\n",
      "[7]\tvalidation-auc:0.89124\n",
      "[8]\tvalidation-auc:0.89473\n",
      "[9]\tvalidation-auc:0.89611\n",
      "[0]\tvalidation-auc:0.83790\n",
      "[1]\tvalidation-auc:0.84579\n",
      "[2]\tvalidation-auc:0.84733\n",
      "[3]\tvalidation-auc:0.86003\n",
      "[4]\tvalidation-auc:0.87513\n",
      "[5]\tvalidation-auc:0.87025\n",
      "[6]\tvalidation-auc:0.87199\n",
      "[7]\tvalidation-auc:0.87607\n",
      "[8]\tvalidation-auc:0.87540\n",
      "[9]\tvalidation-auc:0.87981\n",
      "[0]\tvalidation-auc:0.86905\n",
      "[1]\tvalidation-auc:0.87687\n",
      "[2]\tvalidation-auc:0.87600\n",
      "[3]\tvalidation-auc:0.87687\n",
      "[4]\tvalidation-auc:0.87587\n",
      "[5]\tvalidation-auc:0.87306\n",
      "[6]\tvalidation-auc:0.86598\n",
      "[7]\tvalidation-auc:0.86484\n",
      "[8]\tvalidation-auc:0.86484\n",
      "[9]\tvalidation-auc:0.86511\n",
      "[0]\tvalidation-auc:0.83162\n",
      "[1]\tvalidation-auc:0.84104\n",
      "[2]\tvalidation-auc:0.85842\n",
      "[3]\tvalidation-auc:0.87233\n",
      "[4]\tvalidation-auc:0.86283\n",
      "[5]\tvalidation-auc:0.86370\n",
      "[6]\tvalidation-auc:0.86344\n",
      "[7]\tvalidation-auc:0.86557\n",
      "[8]\tvalidation-auc:0.86323\n",
      "[9]\tvalidation-auc:0.86183\n",
      "[0]\tvalidation-auc:0.84384\n",
      "[1]\tvalidation-auc:0.84816\n",
      "[2]\tvalidation-auc:0.85049\n",
      "[3]\tvalidation-auc:0.84543\n",
      "[4]\tvalidation-auc:0.84330\n",
      "[5]\tvalidation-auc:0.84304\n",
      "[6]\tvalidation-auc:0.84523\n",
      "[7]\tvalidation-auc:0.84743\n",
      "[8]\tvalidation-auc:0.84550\n",
      "[9]\tvalidation-auc:0.85122\n"
     ]
    },
    {
     "name": "stderr",
     "output_type": "stream",
     "text": [
      "\u001b[32m[I 2021-09-29 21:45:57,068]\u001b[0m Trial 43 finished with value: 0.8258426966292135 and parameters: {'booster': 'gbtree', 'lambda': 2.2099613479902995e-08, 'alpha': 0.004397301825282397, 'max_depth': 4, 'eta': 0.20024386862179222, 'gamma': 0.0009996373826615806, 'grow_policy': 'depthwise'}. Best is trial 9 with value: 0.8370786516853933.\u001b[0m\n"
     ]
    },
    {
     "name": "stdout",
     "output_type": "stream",
     "text": [
      "[0]\tvalidation-auc:0.87787\n",
      "[1]\tvalidation-auc:0.88880\n",
      "[2]\tvalidation-auc:0.88518\n",
      "[3]\tvalidation-auc:0.88597\n",
      "[4]\tvalidation-auc:0.88505\n",
      "[5]\tvalidation-auc:0.88505\n",
      "[6]\tvalidation-auc:0.88452\n",
      "[7]\tvalidation-auc:0.88505\n",
      "[8]\tvalidation-auc:0.88228\n",
      "[9]\tvalidation-auc:0.88465\n",
      "[0]\tvalidation-auc:0.84352\n",
      "[1]\tvalidation-auc:0.84352\n",
      "[2]\tvalidation-auc:0.84352\n",
      "[3]\tvalidation-auc:0.84352\n",
      "[4]\tvalidation-auc:0.84311\n",
      "[5]\tvalidation-auc:0.86203\n",
      "[6]\tvalidation-auc:0.86203\n",
      "[7]\tvalidation-auc:0.86203\n",
      "[8]\tvalidation-auc:0.86444\n",
      "[9]\tvalidation-auc:0.86283\n",
      "[0]\tvalidation-auc:0.83576\n",
      "[1]\tvalidation-auc:0.83576\n",
      "[2]\tvalidation-auc:0.83576\n",
      "[3]\tvalidation-auc:0.83576\n",
      "[4]\tvalidation-auc:0.83576\n",
      "[5]\tvalidation-auc:0.83696\n",
      "[6]\tvalidation-auc:0.83950\n",
      "[7]\tvalidation-auc:0.84245\n",
      "[8]\tvalidation-auc:0.84545\n",
      "[9]\tvalidation-auc:0.84412\n",
      "[0]\tvalidation-auc:0.83750\n",
      "[1]\tvalidation-auc:0.84044\n",
      "[2]\tvalidation-auc:0.84004\n",
      "[3]\tvalidation-auc:0.84820\n",
      "[4]\tvalidation-auc:0.85227\n",
      "[5]\tvalidation-auc:0.85669\n",
      "[6]\tvalidation-auc:0.85074\n",
      "[7]\tvalidation-auc:0.85475\n",
      "[8]\tvalidation-auc:0.85087\n",
      "[9]\tvalidation-auc:0.86056\n",
      "[0]\tvalidation-auc:0.87994\n",
      "[1]\tvalidation-auc:0.87994\n",
      "[2]\tvalidation-auc:0.87887\n",
      "[3]\tvalidation-auc:0.87887\n",
      "[4]\tvalidation-auc:0.88319\n",
      "[5]\tvalidation-auc:0.88572\n",
      "[6]\tvalidation-auc:0.88466\n",
      "[7]\tvalidation-auc:0.88412\n",
      "[8]\tvalidation-auc:0.88599\n",
      "[9]\tvalidation-auc:0.88638\n"
     ]
    },
    {
     "name": "stderr",
     "output_type": "stream",
     "text": [
      "\u001b[32m[I 2021-09-29 21:45:57,357]\u001b[0m Trial 44 finished with value: 0.8202247191011236 and parameters: {'booster': 'gbtree', 'lambda': 3.4957227864265346e-07, 'alpha': 0.00019069952119554038, 'max_depth': 3, 'eta': 0.04539795172055795, 'gamma': 0.00022158953465660787, 'grow_policy': 'depthwise'}. Best is trial 9 with value: 0.8370786516853933.\u001b[0m\n"
     ]
    },
    {
     "name": "stdout",
     "output_type": "stream",
     "text": [
      "[0]\tvalidation-auc:0.88557\n",
      "[1]\tvalidation-auc:0.89783\n",
      "[2]\tvalidation-auc:0.89750\n",
      "[3]\tvalidation-auc:0.89486\n",
      "[4]\tvalidation-auc:0.89433\n",
      "[5]\tvalidation-auc:0.89012\n",
      "[6]\tvalidation-auc:0.88926\n",
      "[7]\tvalidation-auc:0.89058\n",
      "[8]\tvalidation-auc:0.88972\n",
      "[9]\tvalidation-auc:0.89084\n",
      "[0]\tvalidation-auc:0.83790\n",
      "[1]\tvalidation-auc:0.83529\n",
      "[2]\tvalidation-auc:0.84806\n",
      "[3]\tvalidation-auc:0.84672\n",
      "[4]\tvalidation-auc:0.85782\n",
      "[5]\tvalidation-auc:0.87159\n",
      "[6]\tvalidation-auc:0.86965\n",
      "[7]\tvalidation-auc:0.87059\n",
      "[8]\tvalidation-auc:0.87099\n",
      "[9]\tvalidation-auc:0.87179\n",
      "[0]\tvalidation-auc:0.86905\n",
      "[1]\tvalidation-auc:0.87941\n",
      "[2]\tvalidation-auc:0.87741\n",
      "[3]\tvalidation-auc:0.87654\n",
      "[4]\tvalidation-auc:0.87580\n",
      "[5]\tvalidation-auc:0.86698\n",
      "[6]\tvalidation-auc:0.86638\n",
      "[7]\tvalidation-auc:0.86771\n",
      "[8]\tvalidation-auc:0.86698\n",
      "[9]\tvalidation-auc:0.86711\n",
      "[0]\tvalidation-auc:0.83162\n",
      "[1]\tvalidation-auc:0.84104\n",
      "[2]\tvalidation-auc:0.85842\n",
      "[3]\tvalidation-auc:0.85635\n",
      "[4]\tvalidation-auc:0.86945\n",
      "[5]\tvalidation-auc:0.87219\n",
      "[6]\tvalidation-auc:0.86517\n",
      "[7]\tvalidation-auc:0.86591\n",
      "[8]\tvalidation-auc:0.86845\n",
      "[9]\tvalidation-auc:0.86577\n",
      "[0]\tvalidation-auc:0.84384\n",
      "[1]\tvalidation-auc:0.84816\n",
      "[2]\tvalidation-auc:0.85049\n",
      "[3]\tvalidation-auc:0.84324\n",
      "[4]\tvalidation-auc:0.84204\n",
      "[5]\tvalidation-auc:0.84616\n",
      "[6]\tvalidation-auc:0.84098\n",
      "[7]\tvalidation-auc:0.83971\n",
      "[8]\tvalidation-auc:0.84158\n",
      "[9]\tvalidation-auc:0.84630\n"
     ]
    },
    {
     "name": "stderr",
     "output_type": "stream",
     "text": [
      "\u001b[32m[I 2021-09-29 21:45:57,673]\u001b[0m Trial 45 finished with value: 0.8258426966292135 and parameters: {'booster': 'gbtree', 'lambda': 1.1322557568046849e-07, 'alpha': 0.0006466271322936064, 'max_depth': 4, 'eta': 0.14216080081913587, 'gamma': 6.467369409246419e-05, 'grow_policy': 'lossguide'}. Best is trial 9 with value: 0.8370786516853933.\u001b[0m\n"
     ]
    },
    {
     "name": "stdout",
     "output_type": "stream",
     "text": [
      "[0]\tvalidation-auc:0.85448\n",
      "[1]\tvalidation-auc:0.86950\n",
      "[2]\tvalidation-auc:0.88880\n",
      "[3]\tvalidation-auc:0.88709\n",
      "[4]\tvalidation-auc:0.88696\n",
      "[5]\tvalidation-auc:0.88241\n",
      "[6]\tvalidation-auc:0.88366\n",
      "[7]\tvalidation-auc:0.89710\n",
      "[8]\tvalidation-auc:0.88696\n",
      "[9]\tvalidation-auc:0.88235\n",
      "[0]\tvalidation-auc:0.82607\n",
      "[1]\tvalidation-auc:0.85902\n",
      "[2]\tvalidation-auc:0.85027\n",
      "[3]\tvalidation-auc:0.86290\n",
      "[4]\tvalidation-auc:0.85923\n",
      "[5]\tvalidation-auc:0.85963\n",
      "[6]\tvalidation-auc:0.85963\n",
      "[7]\tvalidation-auc:0.85896\n",
      "[8]\tvalidation-auc:0.85134\n",
      "[9]\tvalidation-auc:0.85428\n",
      "[0]\tvalidation-auc:0.81223\n",
      "[1]\tvalidation-auc:0.82640\n",
      "[2]\tvalidation-auc:0.83516\n",
      "[3]\tvalidation-auc:0.83329\n",
      "[4]\tvalidation-auc:0.83282\n",
      "[5]\tvalidation-auc:0.82707\n",
      "[6]\tvalidation-auc:0.83356\n",
      "[7]\tvalidation-auc:0.82727\n",
      "[8]\tvalidation-auc:0.83302\n",
      "[9]\tvalidation-auc:0.82580\n",
      "[0]\tvalidation-auc:0.85368\n",
      "[1]\tvalidation-auc:0.85181\n",
      "[2]\tvalidation-auc:0.84184\n",
      "[3]\tvalidation-auc:0.85842\n",
      "[4]\tvalidation-auc:0.85120\n",
      "[5]\tvalidation-auc:0.84733\n",
      "[6]\tvalidation-auc:0.85067\n",
      "[7]\tvalidation-auc:0.84392\n",
      "[8]\tvalidation-auc:0.84285\n",
      "[9]\tvalidation-auc:0.84231\n",
      "[0]\tvalidation-auc:0.85062\n",
      "[1]\tvalidation-auc:0.84098\n",
      "[2]\tvalidation-auc:0.84105\n",
      "[3]\tvalidation-auc:0.84723\n",
      "[4]\tvalidation-auc:0.85494\n",
      "[5]\tvalidation-auc:0.85414\n",
      "[6]\tvalidation-auc:0.85142\n",
      "[7]\tvalidation-auc:0.84955\n",
      "[8]\tvalidation-auc:0.84710\n",
      "[9]\tvalidation-auc:0.84204\n"
     ]
    },
    {
     "name": "stderr",
     "output_type": "stream",
     "text": [
      "\u001b[32m[I 2021-09-29 21:45:58,065]\u001b[0m Trial 46 finished with value: 0.8089887640449438 and parameters: {'booster': 'gbtree', 'lambda': 1.9655976105302782e-08, 'alpha': 0.003994710431923745, 'max_depth': 8, 'eta': 0.7694224231646797, 'gamma': 3.950671180239359e-05, 'grow_policy': 'lossguide'}. Best is trial 9 with value: 0.8370786516853933.\u001b[0m\n"
     ]
    },
    {
     "name": "stdout",
     "output_type": "stream",
     "text": [
      "[0]\tvalidation-auc:0.87991\n",
      "[1]\tvalidation-auc:0.87945\n",
      "[2]\tvalidation-auc:0.87767\n",
      "[3]\tvalidation-auc:0.87714\n",
      "[4]\tvalidation-auc:0.87780\n",
      "[5]\tvalidation-auc:0.87899\n"
     ]
    },
    {
     "name": "stderr",
     "output_type": "stream",
     "text": [
      "\u001b[32m[I 2021-09-29 21:45:58,115]\u001b[0m Trial 47 pruned. Trial was pruned at iteration 5.\u001b[0m\n"
     ]
    },
    {
     "name": "stdout",
     "output_type": "stream",
     "text": [
      "[0]\tvalidation-auc:0.89348\n",
      "[1]\tvalidation-auc:0.89671\n",
      "[2]\tvalidation-auc:0.89447\n",
      "[3]\tvalidation-auc:0.89512\n",
      "[4]\tvalidation-auc:0.89315\n",
      "[5]\tvalidation-auc:0.88926\n",
      "[6]\tvalidation-auc:0.88722\n",
      "[7]\tvalidation-auc:0.89032\n",
      "[8]\tvalidation-auc:0.89078\n",
      "[9]\tvalidation-auc:0.89091\n",
      "[0]\tvalidation-auc:0.84900\n",
      "[1]\tvalidation-auc:0.84927\n",
      "[2]\tvalidation-auc:0.85107\n",
      "[3]\tvalidation-auc:0.86598\n",
      "[4]\tvalidation-auc:0.86491\n",
      "[5]\tvalidation-auc:0.87219\n",
      "[6]\tvalidation-auc:0.88015\n",
      "[7]\tvalidation-auc:0.87600\n",
      "[8]\tvalidation-auc:0.87988\n",
      "[9]\tvalidation-auc:0.87948\n",
      "[0]\tvalidation-auc:0.86818\n",
      "[1]\tvalidation-auc:0.87660\n",
      "[2]\tvalidation-auc:0.87701\n",
      "[3]\tvalidation-auc:0.87734\n",
      "[4]\tvalidation-auc:0.87640\n",
      "[5]\tvalidation-auc:0.87005\n",
      "[6]\tvalidation-auc:0.86344\n",
      "[7]\tvalidation-auc:0.86344\n",
      "[8]\tvalidation-auc:0.86484\n",
      "[9]\tvalidation-auc:0.86537\n",
      "[0]\tvalidation-auc:0.83950\n",
      "[1]\tvalidation-auc:0.85682\n",
      "[2]\tvalidation-auc:0.86370\n",
      "[3]\tvalidation-auc:0.86457\n",
      "[4]\tvalidation-auc:0.86397\n",
      "[5]\tvalidation-auc:0.87052\n",
      "[6]\tvalidation-auc:0.86504\n",
      "[7]\tvalidation-auc:0.86704\n",
      "[8]\tvalidation-auc:0.86785\n",
      "[9]\tvalidation-auc:0.86711\n",
      "[0]\tvalidation-auc:0.84650\n",
      "[1]\tvalidation-auc:0.84935\n",
      "[2]\tvalidation-auc:0.85195\n",
      "[3]\tvalidation-auc:0.84364\n",
      "[4]\tvalidation-auc:0.84417\n",
      "[5]\tvalidation-auc:0.84576\n",
      "[6]\tvalidation-auc:0.84218\n",
      "[7]\tvalidation-auc:0.84118\n",
      "[8]\tvalidation-auc:0.84244\n",
      "[9]\tvalidation-auc:0.84670\n"
     ]
    },
    {
     "name": "stderr",
     "output_type": "stream",
     "text": [
      "\u001b[32m[I 2021-09-29 21:45:58,550]\u001b[0m Trial 48 finished with value: 0.8202247191011236 and parameters: {'booster': 'dart', 'lambda': 9.506996021777863e-08, 'alpha': 0.33587139722538106, 'max_depth': 4, 'eta': 0.14938300466649615, 'gamma': 0.016809617927705182, 'grow_policy': 'lossguide', 'sample_type': 'weighted', 'normalize_type': 'forest', 'rate_drop': 1.2652432301146765e-08, 'skip_drop': 0.037735861950123795}. Best is trial 9 with value: 0.8370786516853933.\u001b[0m\n"
     ]
    },
    {
     "name": "stdout",
     "output_type": "stream",
     "text": [
      "[0]\tvalidation-auc:0.83241\n",
      "[1]\tvalidation-auc:0.84519\n",
      "[2]\tvalidation-auc:0.84374\n",
      "[3]\tvalidation-auc:0.84032\n",
      "[4]\tvalidation-auc:0.83715\n",
      "[5]\tvalidation-auc:0.83795\n"
     ]
    },
    {
     "name": "stderr",
     "output_type": "stream",
     "text": [
      "\u001b[32m[I 2021-09-29 21:45:58,583]\u001b[0m Trial 49 pruned. Trial was pruned at iteration 5.\u001b[0m\n"
     ]
    },
    {
     "name": "stdout",
     "output_type": "stream",
     "text": [
      "[0]\tvalidation-auc:0.84585\n",
      "[1]\tvalidation-auc:0.87418\n",
      "[2]\tvalidation-auc:0.87635\n",
      "[3]\tvalidation-auc:0.86535\n",
      "[4]\tvalidation-auc:0.86924\n"
     ]
    },
    {
     "name": "stderr",
     "output_type": "stream",
     "text": [
      "\u001b[32m[I 2021-09-29 21:45:58,632]\u001b[0m Trial 50 pruned. Trial was pruned at iteration 5.\u001b[0m\n"
     ]
    },
    {
     "name": "stdout",
     "output_type": "stream",
     "text": [
      "[0]\tvalidation-auc:0.87787\n",
      "[1]\tvalidation-auc:0.88076\n",
      "[2]\tvalidation-auc:0.88874\n",
      "[3]\tvalidation-auc:0.88874\n",
      "[4]\tvalidation-auc:0.88656\n",
      "[5]\tvalidation-auc:0.88874\n",
      "[6]\tvalidation-auc:0.89315\n",
      "[7]\tvalidation-auc:0.89289\n",
      "[8]\tvalidation-auc:0.89236\n",
      "[9]\tvalidation-auc:0.89282\n",
      "[0]\tvalidation-auc:0.84352\n",
      "[1]\tvalidation-auc:0.87313\n",
      "[2]\tvalidation-auc:0.86878\n",
      "[3]\tvalidation-auc:0.87654\n",
      "[4]\tvalidation-auc:0.88048\n",
      "[5]\tvalidation-auc:0.88429\n",
      "[6]\tvalidation-auc:0.89084\n",
      "[7]\tvalidation-auc:0.88797\n",
      "[8]\tvalidation-auc:0.88904\n",
      "[9]\tvalidation-auc:0.88650\n",
      "[0]\tvalidation-auc:0.83576\n",
      "[1]\tvalidation-auc:0.84746\n",
      "[2]\tvalidation-auc:0.85033\n",
      "[3]\tvalidation-auc:0.87019\n",
      "[4]\tvalidation-auc:0.86638\n",
      "[5]\tvalidation-auc:0.86116\n",
      "[6]\tvalidation-auc:0.85608\n",
      "[7]\tvalidation-auc:0.85435\n",
      "[8]\tvalidation-auc:0.85541\n",
      "[9]\tvalidation-auc:0.86050\n",
      "[0]\tvalidation-auc:0.83750\n",
      "[1]\tvalidation-auc:0.85475\n",
      "[2]\tvalidation-auc:0.85949\n",
      "[3]\tvalidation-auc:0.85882\n",
      "[4]\tvalidation-auc:0.85989\n",
      "[5]\tvalidation-auc:0.86163\n",
      "[6]\tvalidation-auc:0.86364\n",
      "[7]\tvalidation-auc:0.86263\n",
      "[8]\tvalidation-auc:0.86397\n",
      "[9]\tvalidation-auc:0.86591\n",
      "[0]\tvalidation-auc:0.87994\n",
      "[1]\tvalidation-auc:0.88366\n",
      "[2]\tvalidation-auc:0.87708\n",
      "[3]\tvalidation-auc:0.87714\n",
      "[4]\tvalidation-auc:0.87316\n",
      "[5]\tvalidation-auc:0.87482\n",
      "[6]\tvalidation-auc:0.87535\n",
      "[7]\tvalidation-auc:0.87096\n",
      "[8]\tvalidation-auc:0.87262\n",
      "[9]\tvalidation-auc:0.87329\n"
     ]
    },
    {
     "name": "stderr",
     "output_type": "stream",
     "text": [
      "\u001b[32m[I 2021-09-29 21:45:58,913]\u001b[0m Trial 51 finished with value: 0.8202247191011236 and parameters: {'booster': 'gbtree', 'lambda': 2.168895852616788e-08, 'alpha': 0.00012904187335372274, 'max_depth': 3, 'eta': 0.28822390706922363, 'gamma': 0.0007392443806235821, 'grow_policy': 'depthwise'}. Best is trial 9 with value: 0.8370786516853933.\u001b[0m\n"
     ]
    },
    {
     "name": "stdout",
     "output_type": "stream",
     "text": [
      "[0]\tvalidation-auc:0.88557\n",
      "[1]\tvalidation-auc:0.89229\n",
      "[2]\tvalidation-auc:0.89651\n",
      "[3]\tvalidation-auc:0.89506\n",
      "[4]\tvalidation-auc:0.89651\n",
      "[5]\tvalidation-auc:0.89651\n",
      "[6]\tvalidation-auc:0.89651\n",
      "[7]\tvalidation-auc:0.89638\n",
      "[8]\tvalidation-auc:0.89638\n",
      "[9]\tvalidation-auc:0.89025\n",
      "[0]\tvalidation-auc:0.83790\n",
      "[1]\tvalidation-auc:0.83790\n",
      "[2]\tvalidation-auc:0.83790\n",
      "[3]\tvalidation-auc:0.83850\n",
      "[4]\tvalidation-auc:0.83850\n",
      "[5]\tvalidation-auc:0.83650\n",
      "[6]\tvalidation-auc:0.83717\n",
      "[7]\tvalidation-auc:0.83750\n",
      "[8]\tvalidation-auc:0.83590\n",
      "[9]\tvalidation-auc:0.84566\n",
      "[0]\tvalidation-auc:0.86905\n",
      "[1]\tvalidation-auc:0.86905\n",
      "[2]\tvalidation-auc:0.86905\n",
      "[3]\tvalidation-auc:0.86116\n",
      "[4]\tvalidation-auc:0.86063\n",
      "[5]\tvalidation-auc:0.86156\n",
      "[6]\tvalidation-auc:0.87340\n",
      "[7]\tvalidation-auc:0.87580\n",
      "[8]\tvalidation-auc:0.87741\n",
      "[9]\tvalidation-auc:0.87821\n",
      "[0]\tvalidation-auc:0.83162\n",
      "[1]\tvalidation-auc:0.83469\n",
      "[2]\tvalidation-auc:0.83469\n",
      "[3]\tvalidation-auc:0.83309\n",
      "[4]\tvalidation-auc:0.84104\n",
      "[5]\tvalidation-auc:0.84104\n",
      "[6]\tvalidation-auc:0.84024\n",
      "[7]\tvalidation-auc:0.84037\n",
      "[8]\tvalidation-auc:0.84011\n",
      "[9]\tvalidation-auc:0.84024\n",
      "[0]\tvalidation-auc:0.84384\n",
      "[1]\tvalidation-auc:0.84384\n",
      "[2]\tvalidation-auc:0.84670\n",
      "[3]\tvalidation-auc:0.84670\n",
      "[4]\tvalidation-auc:0.84650\n",
      "[5]\tvalidation-auc:0.84995\n",
      "[6]\tvalidation-auc:0.85022\n",
      "[7]\tvalidation-auc:0.85208\n",
      "[8]\tvalidation-auc:0.84995\n",
      "[9]\tvalidation-auc:0.85022\n"
     ]
    },
    {
     "name": "stderr",
     "output_type": "stream",
     "text": [
      "\u001b[32m[I 2021-09-29 21:45:59,253]\u001b[0m Trial 52 finished with value: 0.8202247191011236 and parameters: {'booster': 'gbtree', 'lambda': 1.3336544637320773e-07, 'alpha': 0.0044721560773786145, 'max_depth': 4, 'eta': 0.02533451059632269, 'gamma': 0.0019225529081745773, 'grow_policy': 'lossguide'}. Best is trial 9 with value: 0.8370786516853933.\u001b[0m\n"
     ]
    },
    {
     "name": "stdout",
     "output_type": "stream",
     "text": [
      "[0]\tvalidation-auc:0.87260\n",
      "[1]\tvalidation-auc:0.87852\n",
      "[2]\tvalidation-auc:0.87984\n",
      "[3]\tvalidation-auc:0.88182\n",
      "[4]\tvalidation-auc:0.88109\n",
      "[5]\tvalidation-auc:0.88030\n"
     ]
    },
    {
     "name": "stderr",
     "output_type": "stream",
     "text": [
      "\u001b[32m[I 2021-09-29 21:45:59,321]\u001b[0m Trial 53 pruned. Trial was pruned at iteration 5.\u001b[0m\n"
     ]
    },
    {
     "name": "stdout",
     "output_type": "stream",
     "text": [
      "[0]\tvalidation-auc:0.88557\n",
      "[1]\tvalidation-auc:0.88959\n",
      "[2]\tvalidation-auc:0.89177\n",
      "[3]\tvalidation-auc:0.88518\n",
      "[4]\tvalidation-auc:0.88241\n",
      "[5]\tvalidation-auc:0.88735\n",
      "[6]\tvalidation-auc:0.88953\n",
      "[7]\tvalidation-auc:0.89058\n",
      "[8]\tvalidation-auc:0.89032\n",
      "[9]\tvalidation-auc:0.89209\n",
      "[0]\tvalidation-auc:0.83790\n",
      "[1]\tvalidation-auc:0.86938\n",
      "[2]\tvalidation-auc:0.87386\n",
      "[3]\tvalidation-auc:0.86564\n",
      "[4]\tvalidation-auc:0.86250\n",
      "[5]\tvalidation-auc:0.87045\n",
      "[6]\tvalidation-auc:0.87132\n",
      "[7]\tvalidation-auc:0.84693\n",
      "[8]\tvalidation-auc:0.85575\n",
      "[9]\tvalidation-auc:0.86297\n",
      "[0]\tvalidation-auc:0.86905\n",
      "[1]\tvalidation-auc:0.86791\n",
      "[2]\tvalidation-auc:0.87172\n",
      "[3]\tvalidation-auc:0.86016\n",
      "[4]\tvalidation-auc:0.85201\n",
      "[5]\tvalidation-auc:0.84880\n",
      "[6]\tvalidation-auc:0.85662\n",
      "[7]\tvalidation-auc:0.84813\n",
      "[8]\tvalidation-auc:0.85147\n",
      "[9]\tvalidation-auc:0.84813\n",
      "[0]\tvalidation-auc:0.83162\n",
      "[1]\tvalidation-auc:0.86377\n",
      "[2]\tvalidation-auc:0.85996\n",
      "[3]\tvalidation-auc:0.85889\n",
      "[4]\tvalidation-auc:0.85842\n",
      "[5]\tvalidation-auc:0.85495\n",
      "[6]\tvalidation-auc:0.85080\n",
      "[7]\tvalidation-auc:0.84927\n",
      "[8]\tvalidation-auc:0.84405\n",
      "[9]\tvalidation-auc:0.83897\n",
      "[0]\tvalidation-auc:0.84384\n",
      "[1]\tvalidation-auc:0.84916\n",
      "[2]\tvalidation-auc:0.84191\n",
      "[3]\tvalidation-auc:0.84703\n",
      "[4]\tvalidation-auc:0.83912\n",
      "[5]\tvalidation-auc:0.83167\n",
      "[6]\tvalidation-auc:0.83480\n",
      "[7]\tvalidation-auc:0.84590\n",
      "[8]\tvalidation-auc:0.84829\n",
      "[9]\tvalidation-auc:0.84337\n"
     ]
    },
    {
     "name": "stderr",
     "output_type": "stream",
     "text": [
      "\u001b[32m[I 2021-09-29 21:45:59,627]\u001b[0m Trial 54 finished with value: 0.8089887640449438 and parameters: {'booster': 'gbtree', 'lambda': 1.4050269947666746e-07, 'alpha': 0.0018823833562605862, 'max_depth': 4, 'eta': 0.9853353921424007, 'gamma': 7.065226245633318e-05, 'grow_policy': 'lossguide'}. Best is trial 9 with value: 0.8370786516853933.\u001b[0m\n"
     ]
    },
    {
     "name": "stdout",
     "output_type": "stream",
     "text": [
      "[0]\tvalidation-auc:0.87787\n",
      "[1]\tvalidation-auc:0.88880\n",
      "[2]\tvalidation-auc:0.88775\n",
      "[3]\tvalidation-auc:0.88775\n",
      "[4]\tvalidation-auc:0.88775\n",
      "[5]\tvalidation-auc:0.88775\n",
      "[6]\tvalidation-auc:0.88775\n",
      "[7]\tvalidation-auc:0.88742\n",
      "[8]\tvalidation-auc:0.88768\n",
      "[9]\tvalidation-auc:0.88742\n",
      "[0]\tvalidation-auc:0.84352\n",
      "[1]\tvalidation-auc:0.84352\n",
      "[2]\tvalidation-auc:0.84352\n",
      "[3]\tvalidation-auc:0.84352\n",
      "[4]\tvalidation-auc:0.84352\n",
      "[5]\tvalidation-auc:0.84352\n",
      "[6]\tvalidation-auc:0.84352\n",
      "[7]\tvalidation-auc:0.84352\n",
      "[8]\tvalidation-auc:0.84352\n",
      "[9]\tvalidation-auc:0.84352\n",
      "[0]\tvalidation-auc:0.83576\n",
      "[1]\tvalidation-auc:0.83576\n",
      "[2]\tvalidation-auc:0.83576\n",
      "[3]\tvalidation-auc:0.83576\n",
      "[4]\tvalidation-auc:0.83576\n",
      "[5]\tvalidation-auc:0.83576\n",
      "[6]\tvalidation-auc:0.83576\n",
      "[7]\tvalidation-auc:0.83576\n",
      "[8]\tvalidation-auc:0.83576\n",
      "[9]\tvalidation-auc:0.83576\n",
      "[0]\tvalidation-auc:0.83750\n",
      "[1]\tvalidation-auc:0.83750\n",
      "[2]\tvalidation-auc:0.83750\n",
      "[3]\tvalidation-auc:0.83750\n",
      "[4]\tvalidation-auc:0.83750\n",
      "[5]\tvalidation-auc:0.83750\n",
      "[6]\tvalidation-auc:0.83750\n",
      "[7]\tvalidation-auc:0.83817\n",
      "[8]\tvalidation-auc:0.83817\n",
      "[9]\tvalidation-auc:0.83817\n",
      "[0]\tvalidation-auc:0.87994\n",
      "[1]\tvalidation-auc:0.87994\n",
      "[2]\tvalidation-auc:0.87994\n",
      "[3]\tvalidation-auc:0.87994\n",
      "[4]\tvalidation-auc:0.87994\n",
      "[5]\tvalidation-auc:0.87994\n",
      "[6]\tvalidation-auc:0.87994\n",
      "[7]\tvalidation-auc:0.87994\n",
      "[8]\tvalidation-auc:0.87994\n",
      "[9]\tvalidation-auc:0.87994\n"
     ]
    },
    {
     "name": "stderr",
     "output_type": "stream",
     "text": [
      "\u001b[32m[I 2021-09-29 21:45:59,894]\u001b[0m Trial 55 finished with value: 0.8202247191011236 and parameters: {'booster': 'gbtree', 'lambda': 4.0056811718062025e-08, 'alpha': 1.5863463925672337e-05, 'max_depth': 3, 'eta': 0.004741481876367983, 'gamma': 1.3005656902795145e-06, 'grow_policy': 'depthwise'}. Best is trial 9 with value: 0.8370786516853933.\u001b[0m\n"
     ]
    },
    {
     "name": "stdout",
     "output_type": "stream",
     "text": [
      "[0]\tvalidation-auc:0.87260\n",
      "[1]\tvalidation-auc:0.87899\n",
      "[2]\tvalidation-auc:0.87523\n",
      "[3]\tvalidation-auc:0.87358\n",
      "[4]\tvalidation-auc:0.88057\n",
      "[5]\tvalidation-auc:0.88610\n"
     ]
    },
    {
     "name": "stderr",
     "output_type": "stream",
     "text": [
      "\u001b[32m[I 2021-09-29 21:45:59,963]\u001b[0m Trial 56 pruned. Trial was pruned at iteration 5.\u001b[0m\n"
     ]
    },
    {
     "name": "stdout",
     "output_type": "stream",
     "text": [
      "[0]\tvalidation-auc:0.88544\n",
      "[1]\tvalidation-auc:0.88867\n",
      "[2]\tvalidation-auc:0.88867\n",
      "[3]\tvalidation-auc:0.89256\n",
      "[4]\tvalidation-auc:0.89256\n",
      "[5]\tvalidation-auc:0.89203\n",
      "[6]\tvalidation-auc:0.89203\n",
      "[7]\tvalidation-auc:0.89203\n",
      "[8]\tvalidation-auc:0.89203\n",
      "[9]\tvalidation-auc:0.89229\n",
      "[0]\tvalidation-auc:0.83616\n",
      "[1]\tvalidation-auc:0.83616\n",
      "[2]\tvalidation-auc:0.83616\n",
      "[3]\tvalidation-auc:0.83790\n",
      "[4]\tvalidation-auc:0.83790\n",
      "[5]\tvalidation-auc:0.83790\n",
      "[6]\tvalidation-auc:0.83790\n",
      "[7]\tvalidation-auc:0.83790\n",
      "[8]\tvalidation-auc:0.83790\n",
      "[9]\tvalidation-auc:0.83790\n",
      "[0]\tvalidation-auc:0.86905\n",
      "[1]\tvalidation-auc:0.86905\n",
      "[2]\tvalidation-auc:0.86905\n",
      "[3]\tvalidation-auc:0.86905\n",
      "[4]\tvalidation-auc:0.86905\n",
      "[5]\tvalidation-auc:0.86905\n",
      "[6]\tvalidation-auc:0.86905\n",
      "[7]\tvalidation-auc:0.86905\n",
      "[8]\tvalidation-auc:0.86905\n",
      "[9]\tvalidation-auc:0.86905\n",
      "[0]\tvalidation-auc:0.83168\n",
      "[1]\tvalidation-auc:0.83168\n",
      "[2]\tvalidation-auc:0.83168\n",
      "[3]\tvalidation-auc:0.83175\n",
      "[4]\tvalidation-auc:0.83162\n",
      "[5]\tvalidation-auc:0.83168\n",
      "[6]\tvalidation-auc:0.83168\n",
      "[7]\tvalidation-auc:0.83162\n",
      "[8]\tvalidation-auc:0.83162\n",
      "[9]\tvalidation-auc:0.83603\n",
      "[0]\tvalidation-auc:0.84330\n",
      "[1]\tvalidation-auc:0.84330\n",
      "[2]\tvalidation-auc:0.84330\n",
      "[3]\tvalidation-auc:0.84330\n",
      "[4]\tvalidation-auc:0.84330\n",
      "[5]\tvalidation-auc:0.84330\n",
      "[6]\tvalidation-auc:0.84330\n",
      "[7]\tvalidation-auc:0.84384\n",
      "[8]\tvalidation-auc:0.84330\n",
      "[9]\tvalidation-auc:0.84330\n"
     ]
    },
    {
     "name": "stderr",
     "output_type": "stream",
     "text": [
      "\u001b[32m[I 2021-09-29 21:46:00,273]\u001b[0m Trial 57 finished with value: 0.8033707865168539 and parameters: {'booster': 'gbtree', 'lambda': 1.0932327274582538e-05, 'alpha': 6.044742186739592e-05, 'max_depth': 4, 'eta': 0.0012650008201331737, 'gamma': 0.0018050045014818767, 'grow_policy': 'depthwise'}. Best is trial 9 with value: 0.8370786516853933.\u001b[0m\n"
     ]
    },
    {
     "name": "stdout",
     "output_type": "stream",
     "text": [
      "[0]\tvalidation-auc:0.84084\n",
      "[1]\tvalidation-auc:0.85448\n",
      "[2]\tvalidation-auc:0.85448\n",
      "[3]\tvalidation-auc:0.85448\n",
      "[4]\tvalidation-auc:0.85448\n"
     ]
    },
    {
     "name": "stderr",
     "output_type": "stream",
     "text": [
      "\u001b[32m[I 2021-09-29 21:46:00,316]\u001b[0m Trial 58 pruned. Trial was pruned at iteration 5.\u001b[0m\n"
     ]
    },
    {
     "name": "stdout",
     "output_type": "stream",
     "text": [
      "[0]\tvalidation-auc:0.88557\n",
      "[1]\tvalidation-auc:0.89769\n",
      "[2]\tvalidation-auc:0.89559\n",
      "[3]\tvalidation-auc:0.88959\n",
      "[4]\tvalidation-auc:0.88959\n",
      "[5]\tvalidation-auc:0.88557\n",
      "[6]\tvalidation-auc:0.88478\n",
      "[7]\tvalidation-auc:0.88880\n",
      "[8]\tvalidation-auc:0.89025\n",
      "[9]\tvalidation-auc:0.89387\n",
      "[0]\tvalidation-auc:0.83790\n",
      "[1]\tvalidation-auc:0.83643\n",
      "[2]\tvalidation-auc:0.84465\n",
      "[3]\tvalidation-auc:0.85829\n",
      "[4]\tvalidation-auc:0.87259\n",
      "[5]\tvalidation-auc:0.86838\n",
      "[6]\tvalidation-auc:0.87279\n",
      "[7]\tvalidation-auc:0.86972\n",
      "[8]\tvalidation-auc:0.87112\n",
      "[9]\tvalidation-auc:0.87313\n",
      "[0]\tvalidation-auc:0.86905\n",
      "[1]\tvalidation-auc:0.87941\n",
      "[2]\tvalidation-auc:0.87553\n",
      "[3]\tvalidation-auc:0.87721\n",
      "[4]\tvalidation-auc:0.88189\n",
      "[5]\tvalidation-auc:0.87386\n",
      "[6]\tvalidation-auc:0.87293\n",
      "[7]\tvalidation-auc:0.87126\n",
      "[8]\tvalidation-auc:0.87420\n",
      "[9]\tvalidation-auc:0.86952\n",
      "[0]\tvalidation-auc:0.83162\n",
      "[1]\tvalidation-auc:0.84104\n",
      "[2]\tvalidation-auc:0.85869\n",
      "[3]\tvalidation-auc:0.87239\n",
      "[4]\tvalidation-auc:0.86738\n",
      "[5]\tvalidation-auc:0.87099\n",
      "[6]\tvalidation-auc:0.86323\n",
      "[7]\tvalidation-auc:0.86390\n",
      "[8]\tvalidation-auc:0.86444\n",
      "[9]\tvalidation-auc:0.86678\n",
      "[0]\tvalidation-auc:0.84384\n",
      "[1]\tvalidation-auc:0.84816\n",
      "[2]\tvalidation-auc:0.85049\n",
      "[3]\tvalidation-auc:0.84324\n",
      "[4]\tvalidation-auc:0.83978\n",
      "[5]\tvalidation-auc:0.84237\n",
      "[6]\tvalidation-auc:0.84184\n",
      "[7]\tvalidation-auc:0.84982\n",
      "[8]\tvalidation-auc:0.85022\n",
      "[9]\tvalidation-auc:0.84876\n"
     ]
    },
    {
     "name": "stderr",
     "output_type": "stream",
     "text": [
      "\u001b[32m[I 2021-09-29 21:46:00,636]\u001b[0m Trial 59 finished with value: 0.8202247191011236 and parameters: {'booster': 'gbtree', 'lambda': 2.07730151844047e-07, 'alpha': 0.00041752368466348535, 'max_depth': 4, 'eta': 0.18214258448132123, 'gamma': 0.0064051134847213234, 'grow_policy': 'depthwise'}. Best is trial 9 with value: 0.8370786516853933.\u001b[0m\n"
     ]
    },
    {
     "name": "stdout",
     "output_type": "stream",
     "text": [
      "[0]\tvalidation-auc:0.87787\n",
      "[1]\tvalidation-auc:0.89328\n",
      "[2]\tvalidation-auc:0.88933\n",
      "[3]\tvalidation-auc:0.89196\n",
      "[4]\tvalidation-auc:0.89177\n",
      "[5]\tvalidation-auc:0.89124\n",
      "[6]\tvalidation-auc:0.89032\n",
      "[7]\tvalidation-auc:0.89071\n",
      "[8]\tvalidation-auc:0.89137\n",
      "[9]\tvalidation-auc:0.89321\n",
      "[0]\tvalidation-auc:0.84352\n",
      "[1]\tvalidation-auc:0.85963\n",
      "[2]\tvalidation-auc:0.88115\n",
      "[3]\tvalidation-auc:0.88797\n",
      "[4]\tvalidation-auc:0.88924\n",
      "[5]\tvalidation-auc:0.85929\n",
      "[6]\tvalidation-auc:0.86183\n",
      "[7]\tvalidation-auc:0.86196\n",
      "[8]\tvalidation-auc:0.85709\n",
      "[9]\tvalidation-auc:0.86237\n",
      "[0]\tvalidation-auc:0.83576\n",
      "[1]\tvalidation-auc:0.85080\n",
      "[2]\tvalidation-auc:0.86965\n",
      "[3]\tvalidation-auc:0.86163\n",
      "[4]\tvalidation-auc:0.86491\n",
      "[5]\tvalidation-auc:0.85689\n",
      "[6]\tvalidation-auc:0.85929\n",
      "[7]\tvalidation-auc:0.85862\n",
      "[8]\tvalidation-auc:0.86023\n",
      "[9]\tvalidation-auc:0.86497\n",
      "[0]\tvalidation-auc:0.83750\n",
      "[1]\tvalidation-auc:0.85789\n",
      "[2]\tvalidation-auc:0.85836\n",
      "[3]\tvalidation-auc:0.85194\n",
      "[4]\tvalidation-auc:0.85087\n",
      "[5]\tvalidation-auc:0.85214\n",
      "[6]\tvalidation-auc:0.85201\n",
      "[7]\tvalidation-auc:0.85214\n",
      "[8]\tvalidation-auc:0.85521\n",
      "[9]\tvalidation-auc:0.84666\n",
      "[0]\tvalidation-auc:0.87994\n",
      "[1]\tvalidation-auc:0.87229\n",
      "[2]\tvalidation-auc:0.86870\n",
      "[3]\tvalidation-auc:0.87289\n",
      "[4]\tvalidation-auc:0.87249\n",
      "[5]\tvalidation-auc:0.85966\n",
      "[6]\tvalidation-auc:0.86079\n",
      "[7]\tvalidation-auc:0.86504\n",
      "[8]\tvalidation-auc:0.85680\n",
      "[9]\tvalidation-auc:0.85354\n"
     ]
    },
    {
     "name": "stderr",
     "output_type": "stream",
     "text": [
      "\u001b[32m[I 2021-09-29 21:46:01,023]\u001b[0m Trial 60 finished with value: 0.8146067415730337 and parameters: {'booster': 'dart', 'lambda': 4.231476776896264e-07, 'alpha': 4.198936449976679e-06, 'max_depth': 3, 'eta': 0.5461035339352714, 'gamma': 0.0007361896002082815, 'grow_policy': 'lossguide', 'sample_type': 'uniform', 'normalize_type': 'tree', 'rate_drop': 0.0404341978610758, 'skip_drop': 5.2727107478376856e-06}. Best is trial 9 with value: 0.8370786516853933.\u001b[0m\n"
     ]
    },
    {
     "name": "stdout",
     "output_type": "stream",
     "text": [
      "[0]\tvalidation-auc:0.88557\n",
      "[1]\tvalidation-auc:0.89783\n",
      "[2]\tvalidation-auc:0.89743\n",
      "[3]\tvalidation-auc:0.89546\n",
      "[4]\tvalidation-auc:0.88939\n",
      "[5]\tvalidation-auc:0.88953\n",
      "[6]\tvalidation-auc:0.89012\n",
      "[7]\tvalidation-auc:0.88999\n",
      "[8]\tvalidation-auc:0.89051\n",
      "[9]\tvalidation-auc:0.88906\n",
      "[0]\tvalidation-auc:0.83790\n",
      "[1]\tvalidation-auc:0.83850\n",
      "[2]\tvalidation-auc:0.83750\n",
      "[3]\tvalidation-auc:0.84793\n",
      "[4]\tvalidation-auc:0.84599\n",
      "[5]\tvalidation-auc:0.84786\n",
      "[6]\tvalidation-auc:0.85508\n",
      "[7]\tvalidation-auc:0.86791\n",
      "[8]\tvalidation-auc:0.86624\n",
      "[9]\tvalidation-auc:0.86691\n",
      "[0]\tvalidation-auc:0.86905\n",
      "[1]\tvalidation-auc:0.86357\n",
      "[2]\tvalidation-auc:0.87674\n",
      "[3]\tvalidation-auc:0.87674\n",
      "[4]\tvalidation-auc:0.87808\n",
      "[5]\tvalidation-auc:0.87801\n",
      "[6]\tvalidation-auc:0.86731\n",
      "[7]\tvalidation-auc:0.86584\n",
      "[8]\tvalidation-auc:0.86504\n",
      "[9]\tvalidation-auc:0.86832\n",
      "[0]\tvalidation-auc:0.83162\n",
      "[1]\tvalidation-auc:0.83971\n",
      "[2]\tvalidation-auc:0.84572\n",
      "[3]\tvalidation-auc:0.85689\n",
      "[4]\tvalidation-auc:0.85669\n",
      "[5]\tvalidation-auc:0.86972\n",
      "[6]\tvalidation-auc:0.86517\n",
      "[7]\tvalidation-auc:0.86852\n",
      "[8]\tvalidation-auc:0.86838\n",
      "[9]\tvalidation-auc:0.87159\n",
      "[0]\tvalidation-auc:0.84384\n",
      "[1]\tvalidation-auc:0.84670\n",
      "[2]\tvalidation-auc:0.85009\n",
      "[3]\tvalidation-auc:0.85235\n",
      "[4]\tvalidation-auc:0.84563\n",
      "[5]\tvalidation-auc:0.84417\n",
      "[6]\tvalidation-auc:0.84404\n",
      "[7]\tvalidation-auc:0.84417\n",
      "[8]\tvalidation-auc:0.84390\n",
      "[9]\tvalidation-auc:0.84045\n"
     ]
    },
    {
     "name": "stderr",
     "output_type": "stream",
     "text": [
      "\u001b[32m[I 2021-09-29 21:46:01,351]\u001b[0m Trial 61 finished with value: 0.8202247191011236 and parameters: {'booster': 'gbtree', 'lambda': 7.783416320654241e-08, 'alpha': 0.0005355445683385827, 'max_depth': 4, 'eta': 0.09284113811431767, 'gamma': 0.00041038932496494145, 'grow_policy': 'depthwise'}. Best is trial 9 with value: 0.8370786516853933.\u001b[0m\n"
     ]
    },
    {
     "name": "stdout",
     "output_type": "stream",
     "text": [
      "[0]\tvalidation-auc:0.88175\n",
      "[1]\tvalidation-auc:0.88162\n",
      "[2]\tvalidation-auc:0.88320\n",
      "[3]\tvalidation-auc:0.89209\n",
      "[4]\tvalidation-auc:0.89144\n",
      "[5]\tvalidation-auc:0.88913\n",
      "[6]\tvalidation-auc:0.89157\n",
      "[7]\tvalidation-auc:0.89236\n",
      "[8]\tvalidation-auc:0.89493\n",
      "[9]\tvalidation-auc:0.89717\n",
      "[0]\tvalidation-auc:0.88082\n",
      "[1]\tvalidation-auc:0.88095\n",
      "[2]\tvalidation-auc:0.87694\n",
      "[3]\tvalidation-auc:0.87761\n",
      "[4]\tvalidation-auc:0.87607\n",
      "[5]\tvalidation-auc:0.87005\n",
      "[6]\tvalidation-auc:0.87186\n",
      "[7]\tvalidation-auc:0.86444\n",
      "[8]\tvalidation-auc:0.85682\n",
      "[9]\tvalidation-auc:0.85628\n",
      "[0]\tvalidation-auc:0.85328\n",
      "[1]\tvalidation-auc:0.86985\n",
      "[2]\tvalidation-auc:0.86491\n",
      "[3]\tvalidation-auc:0.86517\n",
      "[4]\tvalidation-auc:0.86564\n",
      "[5]\tvalidation-auc:0.86110\n",
      "[6]\tvalidation-auc:0.86029\n",
      "[7]\tvalidation-auc:0.85802\n",
      "[8]\tvalidation-auc:0.86043\n",
      "[9]\tvalidation-auc:0.85782\n",
      "[0]\tvalidation-auc:0.84505\n",
      "[1]\tvalidation-auc:0.84947\n",
      "[2]\tvalidation-auc:0.84646\n",
      "[3]\tvalidation-auc:0.84472\n",
      "[4]\tvalidation-auc:0.85154\n",
      "[5]\tvalidation-auc:0.84766\n",
      "[6]\tvalidation-auc:0.84285\n",
      "[7]\tvalidation-auc:0.84833\n",
      "[8]\tvalidation-auc:0.84973\n",
      "[9]\tvalidation-auc:0.85107\n",
      "[0]\tvalidation-auc:0.85487\n",
      "[1]\tvalidation-auc:0.84955\n",
      "[2]\tvalidation-auc:0.85102\n",
      "[3]\tvalidation-auc:0.85188\n",
      "[4]\tvalidation-auc:0.85069\n",
      "[5]\tvalidation-auc:0.85434\n",
      "[6]\tvalidation-auc:0.84989\n",
      "[7]\tvalidation-auc:0.84523\n",
      "[8]\tvalidation-auc:0.84829\n",
      "[9]\tvalidation-auc:0.84397\n"
     ]
    },
    {
     "name": "stderr",
     "output_type": "stream",
     "text": [
      "\u001b[32m[I 2021-09-29 21:46:01,705]\u001b[0m Trial 62 finished with value: 0.8258426966292135 and parameters: {'booster': 'gbtree', 'lambda': 0.2938363142812283, 'alpha': 0.0022261233987787028, 'max_depth': 5, 'eta': 0.25790617157856843, 'gamma': 0.00013347912243750226, 'grow_policy': 'depthwise'}. Best is trial 9 with value: 0.8370786516853933.\u001b[0m\n"
     ]
    },
    {
     "name": "stdout",
     "output_type": "stream",
     "text": [
      "[0]\tvalidation-auc:0.83142\n",
      "[1]\tvalidation-auc:0.88966\n",
      "[2]\tvalidation-auc:0.88478\n",
      "[3]\tvalidation-auc:0.87971\n",
      "[4]\tvalidation-auc:0.88202\n",
      "[5]\tvalidation-auc:0.88788\n",
      "[6]\tvalidation-auc:0.89486\n",
      "[7]\tvalidation-auc:0.89282\n",
      "[8]\tvalidation-auc:0.89308\n",
      "[9]\tvalidation-auc:0.89157\n",
      "[0]\tvalidation-auc:0.86096\n",
      "[1]\tvalidation-auc:0.83837\n",
      "[2]\tvalidation-auc:0.85348\n",
      "[3]\tvalidation-auc:0.86043\n",
      "[4]\tvalidation-auc:0.85281\n",
      "[5]\tvalidation-auc:0.84439\n",
      "[6]\tvalidation-auc:0.85709\n",
      "[7]\tvalidation-auc:0.86818\n",
      "[8]\tvalidation-auc:0.86631\n",
      "[9]\tvalidation-auc:0.86009\n",
      "[0]\tvalidation-auc:0.83563\n",
      "[1]\tvalidation-auc:0.83516\n",
      "[2]\tvalidation-auc:0.83209\n",
      "[3]\tvalidation-auc:0.83750\n",
      "[4]\tvalidation-auc:0.84659\n",
      "[5]\tvalidation-auc:0.83957\n",
      "[6]\tvalidation-auc:0.84405\n",
      "[7]\tvalidation-auc:0.84953\n",
      "[8]\tvalidation-auc:0.84833\n",
      "[9]\tvalidation-auc:0.85441\n",
      "[0]\tvalidation-auc:0.84505\n",
      "[1]\tvalidation-auc:0.84098\n",
      "[2]\tvalidation-auc:0.84525\n",
      "[3]\tvalidation-auc:0.85508\n",
      "[4]\tvalidation-auc:0.85274\n",
      "[5]\tvalidation-auc:0.85281\n",
      "[6]\tvalidation-auc:0.85401\n",
      "[7]\tvalidation-auc:0.85541\n",
      "[8]\tvalidation-auc:0.85074\n",
      "[9]\tvalidation-auc:0.84706\n",
      "[0]\tvalidation-auc:0.82469\n",
      "[1]\tvalidation-auc:0.84384\n",
      "[2]\tvalidation-auc:0.84344\n",
      "[3]\tvalidation-auc:0.86026\n",
      "[4]\tvalidation-auc:0.85727\n",
      "[5]\tvalidation-auc:0.85261\n",
      "[6]\tvalidation-auc:0.86172\n",
      "[7]\tvalidation-auc:0.86458\n",
      "[8]\tvalidation-auc:0.86484\n",
      "[9]\tvalidation-auc:0.86551\n"
     ]
    },
    {
     "name": "stderr",
     "output_type": "stream",
     "text": [
      "\u001b[32m[I 2021-09-29 21:46:02,073]\u001b[0m Trial 63 finished with value: 0.8202247191011236 and parameters: {'booster': 'gbtree', 'lambda': 0.13064320662795798, 'alpha': 0.0023813155123145776, 'max_depth': 6, 'eta': 0.46981145304694005, 'gamma': 0.00013797514044858395, 'grow_policy': 'depthwise'}. Best is trial 9 with value: 0.8370786516853933.\u001b[0m\n"
     ]
    },
    {
     "name": "stdout",
     "output_type": "stream",
     "text": [
      "[0]\tvalidation-auc:0.88702\n",
      "[1]\tvalidation-auc:0.88821\n",
      "[2]\tvalidation-auc:0.88953\n",
      "[3]\tvalidation-auc:0.89018\n",
      "[4]\tvalidation-auc:0.89018\n",
      "[5]\tvalidation-auc:0.89058\n",
      "[6]\tvalidation-auc:0.89163\n",
      "[7]\tvalidation-auc:0.89295\n",
      "[8]\tvalidation-auc:0.89269\n",
      "[9]\tvalidation-auc:0.89295\n",
      "[0]\tvalidation-auc:0.87761\n",
      "[1]\tvalidation-auc:0.87794\n",
      "[2]\tvalidation-auc:0.87794\n",
      "[3]\tvalidation-auc:0.87794\n",
      "[4]\tvalidation-auc:0.87794\n",
      "[5]\tvalidation-auc:0.87794\n",
      "[6]\tvalidation-auc:0.87794\n",
      "[7]\tvalidation-auc:0.87794\n",
      "[8]\tvalidation-auc:0.87794\n",
      "[9]\tvalidation-auc:0.87714\n",
      "[0]\tvalidation-auc:0.85896\n",
      "[1]\tvalidation-auc:0.85856\n",
      "[2]\tvalidation-auc:0.85856\n",
      "[3]\tvalidation-auc:0.85856\n",
      "[4]\tvalidation-auc:0.85856\n",
      "[5]\tvalidation-auc:0.85856\n",
      "[6]\tvalidation-auc:0.85856\n",
      "[7]\tvalidation-auc:0.85856\n",
      "[8]\tvalidation-auc:0.85856\n",
      "[9]\tvalidation-auc:0.85856\n",
      "[0]\tvalidation-auc:0.84973\n",
      "[1]\tvalidation-auc:0.84973\n",
      "[2]\tvalidation-auc:0.84973\n",
      "[3]\tvalidation-auc:0.84973\n",
      "[4]\tvalidation-auc:0.84973\n",
      "[5]\tvalidation-auc:0.84973\n",
      "[6]\tvalidation-auc:0.84973\n",
      "[7]\tvalidation-auc:0.84973\n",
      "[8]\tvalidation-auc:0.84973\n",
      "[9]\tvalidation-auc:0.84973\n",
      "[0]\tvalidation-auc:0.85860\n",
      "[1]\tvalidation-auc:0.85860\n",
      "[2]\tvalidation-auc:0.85860\n",
      "[3]\tvalidation-auc:0.85860\n",
      "[4]\tvalidation-auc:0.85860\n",
      "[5]\tvalidation-auc:0.85860\n",
      "[6]\tvalidation-auc:0.85860\n",
      "[7]\tvalidation-auc:0.85860\n",
      "[8]\tvalidation-auc:0.85860\n",
      "[9]\tvalidation-auc:0.85860\n"
     ]
    },
    {
     "name": "stderr",
     "output_type": "stream",
     "text": [
      "\u001b[32m[I 2021-09-29 21:46:02,427]\u001b[0m Trial 64 finished with value: 0.8033707865168539 and parameters: {'booster': 'gbtree', 'lambda': 0.4314619652209935, 'alpha': 8.549408197855786e-05, 'max_depth': 5, 'eta': 4.8232942555419214e-05, 'gamma': 1.6299367322318447e-05, 'grow_policy': 'depthwise'}. Best is trial 9 with value: 0.8370786516853933.\u001b[0m\n"
     ]
    },
    {
     "name": "stdout",
     "output_type": "stream",
     "text": [
      "[0]\tvalidation-auc:0.85310\n",
      "[1]\tvalidation-auc:0.84769\n",
      "[2]\tvalidation-auc:0.84842\n",
      "[3]\tvalidation-auc:0.85461\n",
      "[4]\tvalidation-auc:0.86410\n"
     ]
    },
    {
     "name": "stderr",
     "output_type": "stream",
     "text": [
      "\u001b[32m[I 2021-09-29 21:46:02,486]\u001b[0m Trial 65 pruned. Trial was pruned at iteration 5.\u001b[0m\n"
     ]
    },
    {
     "name": "stdout",
     "output_type": "stream",
     "text": [
      "[0]\tvalidation-auc:0.84341\n",
      "[1]\tvalidation-auc:0.84809\n",
      "[2]\tvalidation-auc:0.85810\n",
      "[3]\tvalidation-auc:0.85547\n",
      "[4]\tvalidation-auc:0.86350\n",
      "[5]\tvalidation-auc:0.86733\n"
     ]
    },
    {
     "name": "stderr",
     "output_type": "stream",
     "text": [
      "\u001b[32m[I 2021-09-29 21:46:02,540]\u001b[0m Trial 66 pruned. Trial was pruned at iteration 5.\u001b[0m\n"
     ]
    },
    {
     "name": "stdout",
     "output_type": "stream",
     "text": [
      "[0]\tvalidation-auc:0.50000\n",
      "[1]\tvalidation-auc:0.50000\n",
      "[2]\tvalidation-auc:0.50000\n",
      "[3]\tvalidation-auc:0.50000\n",
      "[4]\tvalidation-auc:0.73274\n",
      "[5]\tvalidation-auc:0.73274\n"
     ]
    },
    {
     "name": "stderr",
     "output_type": "stream",
     "text": [
      "\u001b[32m[I 2021-09-29 21:46:02,586]\u001b[0m Trial 67 pruned. Trial was pruned at iteration 5.\u001b[0m\n"
     ]
    },
    {
     "name": "stdout",
     "output_type": "stream",
     "text": [
      "[0]\tvalidation-auc:0.85448\n",
      "[1]\tvalidation-auc:0.85323\n",
      "[2]\tvalidation-auc:0.85244\n",
      "[3]\tvalidation-auc:0.85079\n",
      "[4]\tvalidation-auc:0.85488\n"
     ]
    },
    {
     "name": "stderr",
     "output_type": "stream",
     "text": [
      "\u001b[32m[I 2021-09-29 21:46:02,648]\u001b[0m Trial 68 pruned. Trial was pruned at iteration 5.\u001b[0m\n"
     ]
    },
    {
     "name": "stdout",
     "output_type": "stream",
     "text": [
      "[0]\tvalidation-auc:0.88557\n",
      "[1]\tvalidation-auc:0.89229\n",
      "[2]\tvalidation-auc:0.89203\n",
      "[3]\tvalidation-auc:0.89137\n",
      "[4]\tvalidation-auc:0.89137\n",
      "[5]\tvalidation-auc:0.89137\n",
      "[6]\tvalidation-auc:0.89137\n",
      "[7]\tvalidation-auc:0.89137\n",
      "[8]\tvalidation-auc:0.89321\n",
      "[9]\tvalidation-auc:0.89414\n",
      "[0]\tvalidation-auc:0.83790\n",
      "[1]\tvalidation-auc:0.83790\n",
      "[2]\tvalidation-auc:0.83790\n",
      "[3]\tvalidation-auc:0.83790\n",
      "[4]\tvalidation-auc:0.83790\n",
      "[5]\tvalidation-auc:0.83790\n",
      "[6]\tvalidation-auc:0.83790\n",
      "[7]\tvalidation-auc:0.83790\n",
      "[8]\tvalidation-auc:0.83790\n",
      "[9]\tvalidation-auc:0.83790\n",
      "[0]\tvalidation-auc:0.86905\n",
      "[1]\tvalidation-auc:0.86905\n",
      "[2]\tvalidation-auc:0.86905\n",
      "[3]\tvalidation-auc:0.86905\n",
      "[4]\tvalidation-auc:0.86905\n",
      "[5]\tvalidation-auc:0.86905\n",
      "[6]\tvalidation-auc:0.86905\n",
      "[7]\tvalidation-auc:0.86905\n",
      "[8]\tvalidation-auc:0.86905\n",
      "[9]\tvalidation-auc:0.86905\n",
      "[0]\tvalidation-auc:0.83162\n",
      "[1]\tvalidation-auc:0.83162\n",
      "[2]\tvalidation-auc:0.83469\n",
      "[3]\tvalidation-auc:0.83683\n",
      "[4]\tvalidation-auc:0.83469\n",
      "[5]\tvalidation-auc:0.83469\n",
      "[6]\tvalidation-auc:0.83469\n",
      "[7]\tvalidation-auc:0.83469\n",
      "[8]\tvalidation-auc:0.83469\n",
      "[9]\tvalidation-auc:0.83469\n",
      "[0]\tvalidation-auc:0.84384\n",
      "[1]\tvalidation-auc:0.84384\n",
      "[2]\tvalidation-auc:0.84384\n",
      "[3]\tvalidation-auc:0.84384\n",
      "[4]\tvalidation-auc:0.84384\n",
      "[5]\tvalidation-auc:0.84384\n",
      "[6]\tvalidation-auc:0.84384\n",
      "[7]\tvalidation-auc:0.84384\n",
      "[8]\tvalidation-auc:0.84670\n",
      "[9]\tvalidation-auc:0.84670\n"
     ]
    },
    {
     "name": "stderr",
     "output_type": "stream",
     "text": [
      "\u001b[32m[I 2021-09-29 21:46:02,971]\u001b[0m Trial 69 finished with value: 0.8033707865168539 and parameters: {'booster': 'gbtree', 'lambda': 9.359946028216846e-07, 'alpha': 0.0006976729622745003, 'max_depth': 4, 'eta': 0.0061277099206599114, 'gamma': 0.0028305309555882786, 'grow_policy': 'depthwise'}. Best is trial 9 with value: 0.8370786516853933.\u001b[0m\n"
     ]
    },
    {
     "name": "stdout",
     "output_type": "stream",
     "text": [
      "[0]\tvalidation-auc:0.82174\n",
      "[1]\tvalidation-auc:0.83584\n",
      "[2]\tvalidation-auc:0.83742\n",
      "[3]\tvalidation-auc:0.83874\n",
      "[4]\tvalidation-auc:0.84849\n",
      "[5]\tvalidation-auc:0.85165\n"
     ]
    },
    {
     "name": "stderr",
     "output_type": "stream",
     "text": [
      "\u001b[32m[I 2021-09-29 21:46:03,004]\u001b[0m Trial 70 pruned. Trial was pruned at iteration 5.\u001b[0m\n"
     ]
    },
    {
     "name": "stdout",
     "output_type": "stream",
     "text": [
      "[0]\tvalidation-auc:0.88557\n",
      "[1]\tvalidation-auc:0.89783\n",
      "[2]\tvalidation-auc:0.89743\n",
      "[3]\tvalidation-auc:0.89546\n",
      "[4]\tvalidation-auc:0.88860\n",
      "[5]\tvalidation-auc:0.88794\n",
      "[6]\tvalidation-auc:0.88874\n",
      "[7]\tvalidation-auc:0.89005\n",
      "[8]\tvalidation-auc:0.89045\n",
      "[9]\tvalidation-auc:0.88900\n",
      "[0]\tvalidation-auc:0.83790\n",
      "[1]\tvalidation-auc:0.83850\n",
      "[2]\tvalidation-auc:0.84706\n",
      "[3]\tvalidation-auc:0.84612\n",
      "[4]\tvalidation-auc:0.84559\n",
      "[5]\tvalidation-auc:0.85789\n",
      "[6]\tvalidation-auc:0.86965\n",
      "[7]\tvalidation-auc:0.86678\n",
      "[8]\tvalidation-auc:0.86852\n",
      "[9]\tvalidation-auc:0.86985\n",
      "[0]\tvalidation-auc:0.86905\n",
      "[1]\tvalidation-auc:0.86357\n",
      "[2]\tvalidation-auc:0.87527\n",
      "[3]\tvalidation-auc:0.87513\n",
      "[4]\tvalidation-auc:0.87533\n",
      "[5]\tvalidation-auc:0.86718\n",
      "[6]\tvalidation-auc:0.86384\n",
      "[7]\tvalidation-auc:0.86725\n",
      "[8]\tvalidation-auc:0.86791\n",
      "[9]\tvalidation-auc:0.86912\n",
      "[0]\tvalidation-auc:0.83162\n",
      "[1]\tvalidation-auc:0.83971\n",
      "[2]\tvalidation-auc:0.84572\n",
      "[3]\tvalidation-auc:0.86210\n",
      "[4]\tvalidation-auc:0.86177\n",
      "[5]\tvalidation-auc:0.86905\n",
      "[6]\tvalidation-auc:0.86464\n",
      "[7]\tvalidation-auc:0.86805\n",
      "[8]\tvalidation-auc:0.87447\n",
      "[9]\tvalidation-auc:0.87320\n",
      "[0]\tvalidation-auc:0.84384\n",
      "[1]\tvalidation-auc:0.84816\n",
      "[2]\tvalidation-auc:0.85049\n",
      "[3]\tvalidation-auc:0.84576\n",
      "[4]\tvalidation-auc:0.84563\n",
      "[5]\tvalidation-auc:0.84350\n",
      "[6]\tvalidation-auc:0.84071\n",
      "[7]\tvalidation-auc:0.84337\n",
      "[8]\tvalidation-auc:0.84038\n",
      "[9]\tvalidation-auc:0.84178\n"
     ]
    },
    {
     "name": "stderr",
     "output_type": "stream",
     "text": [
      "\u001b[32m[I 2021-09-29 21:46:03,328]\u001b[0m Trial 71 finished with value: 0.8202247191011236 and parameters: {'booster': 'gbtree', 'lambda': 4.446679705800021e-08, 'alpha': 0.00041179689542126494, 'max_depth': 4, 'eta': 0.11009025431506217, 'gamma': 9.849232218258342e-05, 'grow_policy': 'depthwise'}. Best is trial 9 with value: 0.8370786516853933.\u001b[0m\n"
     ]
    },
    {
     "name": "stdout",
     "output_type": "stream",
     "text": [
      "[0]\tvalidation-auc:0.87260\n",
      "[1]\tvalidation-auc:0.88076\n",
      "[2]\tvalidation-auc:0.87424\n",
      "[3]\tvalidation-auc:0.88188\n",
      "[4]\tvalidation-auc:0.87819\n",
      "[5]\tvalidation-auc:0.86976\n"
     ]
    },
    {
     "name": "stderr",
     "output_type": "stream",
     "text": [
      "\u001b[32m[I 2021-09-29 21:46:03,382]\u001b[0m Trial 72 pruned. Trial was pruned at iteration 5.\u001b[0m\n"
     ]
    },
    {
     "name": "stdout",
     "output_type": "stream",
     "text": [
      "[0]\tvalidation-auc:0.88353\n",
      "[1]\tvalidation-auc:0.88577\n",
      "[2]\tvalidation-auc:0.88017\n",
      "[3]\tvalidation-auc:0.88314\n",
      "[4]\tvalidation-auc:0.88531\n"
     ]
    },
    {
     "name": "stderr",
     "output_type": "stream",
     "text": [
      "\u001b[32m[I 2021-09-29 21:46:03,429]\u001b[0m Trial 73 pruned. Trial was pruned at iteration 5.\u001b[0m\n"
     ]
    },
    {
     "name": "stdout",
     "output_type": "stream",
     "text": [
      "[0]\tvalidation-auc:0.90046\n",
      "[1]\tvalidation-auc:0.89644\n",
      "[2]\tvalidation-auc:0.89605\n",
      "[3]\tvalidation-auc:0.89763\n",
      "[4]\tvalidation-auc:0.89578\n",
      "[5]\tvalidation-auc:0.89763\n",
      "[6]\tvalidation-auc:0.89473\n",
      "[7]\tvalidation-auc:0.89499\n",
      "[8]\tvalidation-auc:0.89546\n",
      "[9]\tvalidation-auc:0.89420\n",
      "[0]\tvalidation-auc:0.86377\n",
      "[1]\tvalidation-auc:0.86323\n",
      "[2]\tvalidation-auc:0.86350\n",
      "[3]\tvalidation-auc:0.86203\n",
      "[4]\tvalidation-auc:0.86270\n",
      "[5]\tvalidation-auc:0.86203\n",
      "[6]\tvalidation-auc:0.86230\n",
      "[7]\tvalidation-auc:0.86230\n",
      "[8]\tvalidation-auc:0.86230\n",
      "[9]\tvalidation-auc:0.86270\n",
      "[0]\tvalidation-auc:0.87206\n",
      "[1]\tvalidation-auc:0.87206\n",
      "[2]\tvalidation-auc:0.87206\n",
      "[3]\tvalidation-auc:0.87206\n",
      "[4]\tvalidation-auc:0.87433\n",
      "[5]\tvalidation-auc:0.87607\n",
      "[6]\tvalidation-auc:0.87674\n",
      "[7]\tvalidation-auc:0.87727\n",
      "[8]\tvalidation-auc:0.87821\n",
      "[9]\tvalidation-auc:0.87821\n",
      "[0]\tvalidation-auc:0.84305\n",
      "[1]\tvalidation-auc:0.84305\n",
      "[2]\tvalidation-auc:0.85127\n",
      "[3]\tvalidation-auc:0.84793\n",
      "[4]\tvalidation-auc:0.84793\n",
      "[5]\tvalidation-auc:0.84626\n",
      "[6]\tvalidation-auc:0.84559\n",
      "[7]\tvalidation-auc:0.85501\n",
      "[8]\tvalidation-auc:0.85689\n",
      "[9]\tvalidation-auc:0.85695\n",
      "[0]\tvalidation-auc:0.86611\n",
      "[1]\tvalidation-auc:0.86418\n",
      "[2]\tvalidation-auc:0.86564\n",
      "[3]\tvalidation-auc:0.86511\n",
      "[4]\tvalidation-auc:0.86498\n",
      "[5]\tvalidation-auc:0.86498\n",
      "[6]\tvalidation-auc:0.86498\n",
      "[7]\tvalidation-auc:0.86484\n",
      "[8]\tvalidation-auc:0.86498\n",
      "[9]\tvalidation-auc:0.86498\n"
     ]
    },
    {
     "name": "stderr",
     "output_type": "stream",
     "text": [
      "\u001b[32m[I 2021-09-29 21:46:03,746]\u001b[0m Trial 74 finished with value: 0.8202247191011236 and parameters: {'booster': 'gbtree', 'lambda': 0.09928972678770959, 'alpha': 0.5423155899492824, 'max_depth': 4, 'eta': 0.03239701069949716, 'gamma': 0.008635585144992564, 'grow_policy': 'depthwise'}. Best is trial 9 with value: 0.8370786516853933.\u001b[0m\n"
     ]
    },
    {
     "name": "stdout",
     "output_type": "stream",
     "text": [
      "[0]\tvalidation-auc:0.84084\n",
      "[1]\tvalidation-auc:0.86924\n",
      "[2]\tvalidation-auc:0.88327\n",
      "[3]\tvalidation-auc:0.88781\n",
      "[4]\tvalidation-auc:0.88689\n",
      "[5]\tvalidation-auc:0.88610\n"
     ]
    },
    {
     "name": "stderr",
     "output_type": "stream",
     "text": [
      "\u001b[32m[I 2021-09-29 21:46:03,789]\u001b[0m Trial 75 pruned. Trial was pruned at iteration 5.\u001b[0m\n"
     ]
    },
    {
     "name": "stdout",
     "output_type": "stream",
     "text": [
      "[0]\tvalidation-auc:0.89862\n",
      "[1]\tvalidation-auc:0.89578\n",
      "[2]\tvalidation-auc:0.89657\n",
      "[3]\tvalidation-auc:0.89657\n",
      "[4]\tvalidation-auc:0.89789\n",
      "[5]\tvalidation-auc:0.89789\n",
      "[6]\tvalidation-auc:0.89789\n",
      "[7]\tvalidation-auc:0.89789\n",
      "[8]\tvalidation-auc:0.89789\n",
      "[9]\tvalidation-auc:0.89816\n",
      "[0]\tvalidation-auc:0.85889\n",
      "[1]\tvalidation-auc:0.85889\n",
      "[2]\tvalidation-auc:0.85889\n",
      "[3]\tvalidation-auc:0.85949\n",
      "[4]\tvalidation-auc:0.85949\n",
      "[5]\tvalidation-auc:0.85949\n",
      "[6]\tvalidation-auc:0.85949\n",
      "[7]\tvalidation-auc:0.85949\n",
      "[8]\tvalidation-auc:0.85949\n",
      "[9]\tvalidation-auc:0.85969\n",
      "[0]\tvalidation-auc:0.86878\n",
      "[1]\tvalidation-auc:0.86878\n",
      "[2]\tvalidation-auc:0.86878\n",
      "[3]\tvalidation-auc:0.86878\n",
      "[4]\tvalidation-auc:0.86878\n",
      "[5]\tvalidation-auc:0.86878\n",
      "[6]\tvalidation-auc:0.86878\n",
      "[7]\tvalidation-auc:0.86878\n",
      "[8]\tvalidation-auc:0.86878\n",
      "[9]\tvalidation-auc:0.86878\n",
      "[0]\tvalidation-auc:0.83790\n",
      "[1]\tvalidation-auc:0.83790\n",
      "[2]\tvalidation-auc:0.83790\n",
      "[3]\tvalidation-auc:0.83790\n",
      "[4]\tvalidation-auc:0.83790\n",
      "[5]\tvalidation-auc:0.83790\n",
      "[6]\tvalidation-auc:0.83790\n",
      "[7]\tvalidation-auc:0.83790\n",
      "[8]\tvalidation-auc:0.83790\n",
      "[9]\tvalidation-auc:0.83790\n",
      "[0]\tvalidation-auc:0.86484\n",
      "[1]\tvalidation-auc:0.86484\n",
      "[2]\tvalidation-auc:0.86484\n",
      "[3]\tvalidation-auc:0.86770\n",
      "[4]\tvalidation-auc:0.86770\n",
      "[5]\tvalidation-auc:0.86770\n",
      "[6]\tvalidation-auc:0.86770\n",
      "[7]\tvalidation-auc:0.86770\n",
      "[8]\tvalidation-auc:0.86637\n",
      "[9]\tvalidation-auc:0.86770\n"
     ]
    },
    {
     "name": "stderr",
     "output_type": "stream",
     "text": [
      "\u001b[32m[I 2021-09-29 21:46:04,109]\u001b[0m Trial 76 finished with value: 0.8314606741573034 and parameters: {'booster': 'gbtree', 'lambda': 0.3189080064663181, 'alpha': 1.0751750270589314e-05, 'max_depth': 4, 'eta': 0.0026948751206065805, 'gamma': 4.475089264796656e-06, 'grow_policy': 'depthwise'}. Best is trial 9 with value: 0.8370786516853933.\u001b[0m\n"
     ]
    },
    {
     "name": "stdout",
     "output_type": "stream",
     "text": [
      "[0]\tvalidation-auc:0.88491\n",
      "[1]\tvalidation-auc:0.87708\n",
      "[2]\tvalidation-auc:0.87036\n",
      "[3]\tvalidation-auc:0.88505\n",
      "[4]\tvalidation-auc:0.88505\n"
     ]
    },
    {
     "name": "stderr",
     "output_type": "stream",
     "text": [
      "\u001b[32m[I 2021-09-29 21:46:04,162]\u001b[0m Trial 77 pruned. Trial was pruned at iteration 5.\u001b[0m\n"
     ]
    },
    {
     "name": "stdout",
     "output_type": "stream",
     "text": [
      "[0]\tvalidation-auc:0.88235\n",
      "[1]\tvalidation-auc:0.88841\n",
      "[2]\tvalidation-auc:0.88814\n",
      "[3]\tvalidation-auc:0.88814\n",
      "[4]\tvalidation-auc:0.88814\n"
     ]
    },
    {
     "name": "stderr",
     "output_type": "stream",
     "text": [
      "\u001b[32m[I 2021-09-29 21:46:04,210]\u001b[0m Trial 78 pruned. Trial was pruned at iteration 5.\u001b[0m\n"
     ]
    },
    {
     "name": "stdout",
     "output_type": "stream",
     "text": [
      "[0]\tvalidation-auc:0.88544\n",
      "[1]\tvalidation-auc:0.89229\n",
      "[2]\tvalidation-auc:0.89203\n",
      "[3]\tvalidation-auc:0.89137\n",
      "[4]\tvalidation-auc:0.89137\n",
      "[5]\tvalidation-auc:0.89137\n",
      "[6]\tvalidation-auc:0.89387\n",
      "[7]\tvalidation-auc:0.89387\n",
      "[8]\tvalidation-auc:0.89387\n",
      "[9]\tvalidation-auc:0.89414\n",
      "[0]\tvalidation-auc:0.83616\n",
      "[1]\tvalidation-auc:0.83616\n",
      "[2]\tvalidation-auc:0.83616\n",
      "[3]\tvalidation-auc:0.83616\n",
      "[4]\tvalidation-auc:0.83616\n",
      "[5]\tvalidation-auc:0.83616\n",
      "[6]\tvalidation-auc:0.83616\n",
      "[7]\tvalidation-auc:0.83676\n",
      "[8]\tvalidation-auc:0.83676\n",
      "[9]\tvalidation-auc:0.83676\n",
      "[0]\tvalidation-auc:0.86905\n",
      "[1]\tvalidation-auc:0.86905\n",
      "[2]\tvalidation-auc:0.86905\n",
      "[3]\tvalidation-auc:0.86905\n",
      "[4]\tvalidation-auc:0.86905\n",
      "[5]\tvalidation-auc:0.86905\n",
      "[6]\tvalidation-auc:0.86905\n",
      "[7]\tvalidation-auc:0.86905\n",
      "[8]\tvalidation-auc:0.86063\n",
      "[9]\tvalidation-auc:0.86905\n",
      "[0]\tvalidation-auc:0.83175\n",
      "[1]\tvalidation-auc:0.83175\n",
      "[2]\tvalidation-auc:0.83483\n",
      "[3]\tvalidation-auc:0.83696\n",
      "[4]\tvalidation-auc:0.83483\n",
      "[5]\tvalidation-auc:0.83483\n",
      "[6]\tvalidation-auc:0.83483\n",
      "[7]\tvalidation-auc:0.83402\n",
      "[8]\tvalidation-auc:0.83402\n",
      "[9]\tvalidation-auc:0.83322\n",
      "[0]\tvalidation-auc:0.84330\n",
      "[1]\tvalidation-auc:0.84330\n",
      "[2]\tvalidation-auc:0.84330\n",
      "[3]\tvalidation-auc:0.84330\n",
      "[4]\tvalidation-auc:0.84330\n",
      "[5]\tvalidation-auc:0.84616\n",
      "[6]\tvalidation-auc:0.84616\n",
      "[7]\tvalidation-auc:0.84616\n",
      "[8]\tvalidation-auc:0.84616\n",
      "[9]\tvalidation-auc:0.84616\n"
     ]
    },
    {
     "name": "stderr",
     "output_type": "stream",
     "text": [
      "\u001b[32m[I 2021-09-29 21:46:04,546]\u001b[0m Trial 79 finished with value: 0.8033707865168539 and parameters: {'booster': 'gbtree', 'lambda': 7.327351331996401e-08, 'alpha': 1.760442671412808e-07, 'max_depth': 4, 'eta': 0.008622843348096567, 'gamma': 2.637503347347843e-07, 'grow_policy': 'depthwise'}. Best is trial 9 with value: 0.8370786516853933.\u001b[0m\n"
     ]
    },
    {
     "name": "stdout",
     "output_type": "stream",
     "text": [
      "[0]\tvalidation-auc:0.89104\n",
      "[1]\tvalidation-auc:0.88682\n",
      "[2]\tvalidation-auc:0.89051\n",
      "[3]\tvalidation-auc:0.88682\n",
      "[4]\tvalidation-auc:0.89025\n",
      "[5]\tvalidation-auc:0.88893\n",
      "[6]\tvalidation-auc:0.89262\n",
      "[7]\tvalidation-auc:0.89025\n",
      "[8]\tvalidation-auc:0.89354\n",
      "[9]\tvalidation-auc:0.89381\n",
      "[0]\tvalidation-auc:0.87320\n",
      "[1]\tvalidation-auc:0.87674\n",
      "[2]\tvalidation-auc:0.87821\n",
      "[3]\tvalidation-auc:0.87834\n",
      "[4]\tvalidation-auc:0.87714\n",
      "[5]\tvalidation-auc:0.87794\n",
      "[6]\tvalidation-auc:0.87767\n",
      "[7]\tvalidation-auc:0.87794\n",
      "[8]\tvalidation-auc:0.87701\n",
      "[9]\tvalidation-auc:0.87701\n",
      "[0]\tvalidation-auc:0.87440\n",
      "[1]\tvalidation-auc:0.87687\n",
      "[2]\tvalidation-auc:0.87647\n",
      "[3]\tvalidation-auc:0.87553\n",
      "[4]\tvalidation-auc:0.87553\n",
      "[5]\tvalidation-auc:0.87540\n",
      "[6]\tvalidation-auc:0.87460\n",
      "[7]\tvalidation-auc:0.87460\n",
      "[8]\tvalidation-auc:0.87433\n",
      "[9]\tvalidation-auc:0.87620\n",
      "[0]\tvalidation-auc:0.86003\n",
      "[1]\tvalidation-auc:0.86450\n",
      "[2]\tvalidation-auc:0.86464\n",
      "[3]\tvalidation-auc:0.86437\n",
      "[4]\tvalidation-auc:0.86437\n",
      "[5]\tvalidation-auc:0.86464\n",
      "[6]\tvalidation-auc:0.86564\n",
      "[7]\tvalidation-auc:0.86417\n",
      "[8]\tvalidation-auc:0.86424\n",
      "[9]\tvalidation-auc:0.86557\n",
      "[0]\tvalidation-auc:0.87256\n",
      "[1]\tvalidation-auc:0.87256\n",
      "[2]\tvalidation-auc:0.87628\n",
      "[3]\tvalidation-auc:0.87721\n",
      "[4]\tvalidation-auc:0.87774\n",
      "[5]\tvalidation-auc:0.87774\n",
      "[6]\tvalidation-auc:0.87787\n",
      "[7]\tvalidation-auc:0.87708\n",
      "[8]\tvalidation-auc:0.87827\n",
      "[9]\tvalidation-auc:0.87827\n"
     ]
    },
    {
     "name": "stderr",
     "output_type": "stream",
     "text": [
      "\u001b[32m[I 2021-09-29 21:46:04,975]\u001b[0m Trial 80 finished with value: 0.8033707865168539 and parameters: {'booster': 'dart', 'lambda': 0.9887333398446249, 'alpha': 2.9825233708237723e-06, 'max_depth': 5, 'eta': 0.01759676567066391, 'gamma': 0.0002580969116586617, 'grow_policy': 'depthwise', 'sample_type': 'weighted', 'normalize_type': 'forest', 'rate_drop': 0.06168049046002726, 'skip_drop': 2.499794151188551e-07}. Best is trial 9 with value: 0.8370786516853933.\u001b[0m\n"
     ]
    },
    {
     "name": "stdout",
     "output_type": "stream",
     "text": [
      "[0]\tvalidation-auc:0.88557\n",
      "[1]\tvalidation-auc:0.89783\n",
      "[2]\tvalidation-auc:0.89756\n",
      "[3]\tvalidation-auc:0.89769\n",
      "[4]\tvalidation-auc:0.89769\n",
      "[5]\tvalidation-auc:0.89565\n",
      "[6]\tvalidation-auc:0.89045\n",
      "[7]\tvalidation-auc:0.88874\n",
      "[8]\tvalidation-auc:0.89012\n",
      "[9]\tvalidation-auc:0.88959\n",
      "[0]\tvalidation-auc:0.83790\n",
      "[1]\tvalidation-auc:0.83850\n",
      "[2]\tvalidation-auc:0.83850\n",
      "[3]\tvalidation-auc:0.83696\n",
      "[4]\tvalidation-auc:0.84519\n",
      "[5]\tvalidation-auc:0.84545\n",
      "[6]\tvalidation-auc:0.84693\n",
      "[7]\tvalidation-auc:0.84519\n",
      "[8]\tvalidation-auc:0.84532\n",
      "[9]\tvalidation-auc:0.85361\n",
      "[0]\tvalidation-auc:0.86905\n",
      "[1]\tvalidation-auc:0.86905\n",
      "[2]\tvalidation-auc:0.86156\n",
      "[3]\tvalidation-auc:0.87580\n",
      "[4]\tvalidation-auc:0.87580\n",
      "[5]\tvalidation-auc:0.87874\n",
      "[6]\tvalidation-auc:0.87660\n",
      "[7]\tvalidation-auc:0.87667\n",
      "[8]\tvalidation-auc:0.87580\n",
      "[9]\tvalidation-auc:0.87767\n",
      "[0]\tvalidation-auc:0.83162\n",
      "[1]\tvalidation-auc:0.83469\n",
      "[2]\tvalidation-auc:0.84278\n",
      "[3]\tvalidation-auc:0.84158\n",
      "[4]\tvalidation-auc:0.84037\n",
      "[5]\tvalidation-auc:0.84024\n",
      "[6]\tvalidation-auc:0.85849\n",
      "[7]\tvalidation-auc:0.86377\n",
      "[8]\tvalidation-auc:0.86317\n",
      "[9]\tvalidation-auc:0.86531\n",
      "[0]\tvalidation-auc:0.84384\n",
      "[1]\tvalidation-auc:0.84537\n",
      "[2]\tvalidation-auc:0.85009\n",
      "[3]\tvalidation-auc:0.85221\n",
      "[4]\tvalidation-auc:0.85142\n",
      "[5]\tvalidation-auc:0.85035\n",
      "[6]\tvalidation-auc:0.84683\n",
      "[7]\tvalidation-auc:0.84683\n",
      "[8]\tvalidation-auc:0.84590\n",
      "[9]\tvalidation-auc:0.84430\n"
     ]
    },
    {
     "name": "stderr",
     "output_type": "stream",
     "text": [
      "\u001b[32m[I 2021-09-29 21:46:05,305]\u001b[0m Trial 81 finished with value: 0.8202247191011236 and parameters: {'booster': 'gbtree', 'lambda': 1.6766877544624296e-08, 'alpha': 0.00023616600833579752, 'max_depth': 4, 'eta': 0.05672765581099867, 'gamma': 3.2438069116767805e-06, 'grow_policy': 'depthwise'}. Best is trial 9 with value: 0.8370786516853933.\u001b[0m\n"
     ]
    },
    {
     "name": "stdout",
     "output_type": "stream",
     "text": [
      "[0]\tvalidation-auc:0.87260\n",
      "[1]\tvalidation-auc:0.88202\n",
      "[2]\tvalidation-auc:0.88195\n",
      "[3]\tvalidation-auc:0.87839\n",
      "[4]\tvalidation-auc:0.88090\n",
      "[5]\tvalidation-auc:0.88314\n"
     ]
    },
    {
     "name": "stderr",
     "output_type": "stream",
     "text": [
      "\u001b[32m[I 2021-09-29 21:46:05,355]\u001b[0m Trial 82 pruned. Trial was pruned at iteration 5.\u001b[0m\n"
     ]
    },
    {
     "name": "stdout",
     "output_type": "stream",
     "text": [
      "[0]\tvalidation-auc:0.77582\n",
      "[1]\tvalidation-auc:0.77582\n",
      "[2]\tvalidation-auc:0.77582\n",
      "[3]\tvalidation-auc:0.77582\n",
      "[4]\tvalidation-auc:0.77582\n",
      "[5]\tvalidation-auc:0.79961\n"
     ]
    },
    {
     "name": "stderr",
     "output_type": "stream",
     "text": [
      "\u001b[32m[I 2021-09-29 21:46:05,399]\u001b[0m Trial 83 pruned. Trial was pruned at iteration 5.\u001b[0m\n"
     ]
    },
    {
     "name": "stdout",
     "output_type": "stream",
     "text": [
      "[0]\tvalidation-auc:0.88557\n",
      "[1]\tvalidation-auc:0.89842\n",
      "[2]\tvalidation-auc:0.88920\n",
      "[3]\tvalidation-auc:0.88768\n",
      "[4]\tvalidation-auc:0.89097\n",
      "[5]\tvalidation-auc:0.89216\n",
      "[6]\tvalidation-auc:0.89480\n",
      "[7]\tvalidation-auc:0.89091\n",
      "[8]\tvalidation-auc:0.89361\n",
      "[9]\tvalidation-auc:0.89065\n",
      "[0]\tvalidation-auc:0.83790\n",
      "[1]\tvalidation-auc:0.84091\n",
      "[2]\tvalidation-auc:0.85261\n",
      "[3]\tvalidation-auc:0.86350\n",
      "[4]\tvalidation-auc:0.86778\n",
      "[5]\tvalidation-auc:0.87721\n",
      "[6]\tvalidation-auc:0.88402\n",
      "[7]\tvalidation-auc:0.87253\n",
      "[8]\tvalidation-auc:0.88001\n",
      "[9]\tvalidation-auc:0.88356\n",
      "[0]\tvalidation-auc:0.86905\n",
      "[1]\tvalidation-auc:0.87627\n",
      "[2]\tvalidation-auc:0.87320\n",
      "[3]\tvalidation-auc:0.86330\n",
      "[4]\tvalidation-auc:0.85829\n",
      "[5]\tvalidation-auc:0.85929\n",
      "[6]\tvalidation-auc:0.86056\n",
      "[7]\tvalidation-auc:0.85956\n",
      "[8]\tvalidation-auc:0.85454\n",
      "[9]\tvalidation-auc:0.85822\n",
      "[0]\tvalidation-auc:0.83162\n",
      "[1]\tvalidation-auc:0.84572\n",
      "[2]\tvalidation-auc:0.86872\n",
      "[3]\tvalidation-auc:0.86377\n",
      "[4]\tvalidation-auc:0.86965\n",
      "[5]\tvalidation-auc:0.87112\n",
      "[6]\tvalidation-auc:0.87019\n",
      "[7]\tvalidation-auc:0.86992\n",
      "[8]\tvalidation-auc:0.87206\n",
      "[9]\tvalidation-auc:0.87045\n",
      "[0]\tvalidation-auc:0.84384\n",
      "[1]\tvalidation-auc:0.84105\n",
      "[2]\tvalidation-auc:0.83905\n",
      "[3]\tvalidation-auc:0.85587\n",
      "[4]\tvalidation-auc:0.85428\n",
      "[5]\tvalidation-auc:0.86132\n",
      "[6]\tvalidation-auc:0.85600\n",
      "[7]\tvalidation-auc:0.85600\n",
      "[8]\tvalidation-auc:0.85594\n",
      "[9]\tvalidation-auc:0.85368\n"
     ]
    },
    {
     "name": "stderr",
     "output_type": "stream",
     "text": [
      "\u001b[32m[I 2021-09-29 21:46:05,712]\u001b[0m Trial 84 finished with value: 0.8202247191011236 and parameters: {'booster': 'gbtree', 'lambda': 9.150954423858095e-08, 'alpha': 0.0007057952038957889, 'max_depth': 4, 'eta': 0.36420212276038744, 'gamma': 0.00014675150194479511, 'grow_policy': 'depthwise'}. Best is trial 9 with value: 0.8370786516853933.\u001b[0m\n"
     ]
    },
    {
     "name": "stdout",
     "output_type": "stream",
     "text": [
      "[0]\tvalidation-auc:0.87787\n",
      "[1]\tvalidation-auc:0.88287\n",
      "[2]\tvalidation-auc:0.88426\n",
      "[3]\tvalidation-auc:0.88175\n",
      "[4]\tvalidation-auc:0.88432\n",
      "[5]\tvalidation-auc:0.88531\n"
     ]
    },
    {
     "name": "stderr",
     "output_type": "stream",
     "text": [
      "\u001b[32m[I 2021-09-29 21:46:05,764]\u001b[0m Trial 85 pruned. Trial was pruned at iteration 5.\u001b[0m\n"
     ]
    },
    {
     "name": "stdout",
     "output_type": "stream",
     "text": [
      "[0]\tvalidation-auc:0.88557\n",
      "[1]\tvalidation-auc:0.89229\n",
      "[2]\tvalidation-auc:0.89651\n",
      "[3]\tvalidation-auc:0.89506\n",
      "[4]\tvalidation-auc:0.89651\n",
      "[5]\tvalidation-auc:0.89651\n",
      "[6]\tvalidation-auc:0.89651\n",
      "[7]\tvalidation-auc:0.89651\n",
      "[8]\tvalidation-auc:0.89651\n",
      "[9]\tvalidation-auc:0.89664\n",
      "[0]\tvalidation-auc:0.83790\n",
      "[1]\tvalidation-auc:0.83790\n",
      "[2]\tvalidation-auc:0.83790\n",
      "[3]\tvalidation-auc:0.83850\n",
      "[4]\tvalidation-auc:0.83850\n",
      "[5]\tvalidation-auc:0.83850\n",
      "[6]\tvalidation-auc:0.83850\n",
      "[7]\tvalidation-auc:0.83650\n",
      "[8]\tvalidation-auc:0.83663\n",
      "[9]\tvalidation-auc:0.83670\n",
      "[0]\tvalidation-auc:0.86905\n",
      "[1]\tvalidation-auc:0.86905\n",
      "[2]\tvalidation-auc:0.86905\n",
      "[3]\tvalidation-auc:0.86905\n",
      "[4]\tvalidation-auc:0.86063\n",
      "[5]\tvalidation-auc:0.86063\n",
      "[6]\tvalidation-auc:0.86116\n",
      "[7]\tvalidation-auc:0.87340\n",
      "[8]\tvalidation-auc:0.87553\n",
      "[9]\tvalidation-auc:0.87647\n",
      "[0]\tvalidation-auc:0.83162\n",
      "[1]\tvalidation-auc:0.83469\n",
      "[2]\tvalidation-auc:0.83469\n",
      "[3]\tvalidation-auc:0.83309\n",
      "[4]\tvalidation-auc:0.83322\n",
      "[5]\tvalidation-auc:0.84225\n",
      "[6]\tvalidation-auc:0.84131\n",
      "[7]\tvalidation-auc:0.84144\n",
      "[8]\tvalidation-auc:0.84184\n",
      "[9]\tvalidation-auc:0.84131\n",
      "[0]\tvalidation-auc:0.84384\n",
      "[1]\tvalidation-auc:0.84384\n",
      "[2]\tvalidation-auc:0.84384\n",
      "[3]\tvalidation-auc:0.84670\n",
      "[4]\tvalidation-auc:0.84670\n",
      "[5]\tvalidation-auc:0.84650\n",
      "[6]\tvalidation-auc:0.85155\n",
      "[7]\tvalidation-auc:0.85049\n",
      "[8]\tvalidation-auc:0.84995\n",
      "[9]\tvalidation-auc:0.84995\n"
     ]
    },
    {
     "name": "stderr",
     "output_type": "stream",
     "text": [
      "\u001b[32m[I 2021-09-29 21:46:06,095]\u001b[0m Trial 86 finished with value: 0.8202247191011236 and parameters: {'booster': 'gbtree', 'lambda': 0.00019802711144165441, 'alpha': 0.005660429635101988, 'max_depth': 4, 'eta': 0.020086933060376223, 'gamma': 0.002762275275233633, 'grow_policy': 'depthwise'}. Best is trial 9 with value: 0.8370786516853933.\u001b[0m\n"
     ]
    },
    {
     "name": "stdout",
     "output_type": "stream",
     "text": [
      "[0]\tvalidation-auc:0.84315\n",
      "[1]\tvalidation-auc:0.85534\n",
      "[2]\tvalidation-auc:0.85092\n",
      "[3]\tvalidation-auc:0.85066\n",
      "[4]\tvalidation-auc:0.85132\n"
     ]
    },
    {
     "name": "stderr",
     "output_type": "stream",
     "text": [
      "\u001b[32m[I 2021-09-29 21:46:06,152]\u001b[0m Trial 87 pruned. Trial was pruned at iteration 5.\u001b[0m\n"
     ]
    },
    {
     "name": "stdout",
     "output_type": "stream",
     "text": [
      "[0]\tvalidation-auc:0.87260\n",
      "[1]\tvalidation-auc:0.87490\n",
      "[2]\tvalidation-auc:0.87543\n",
      "[3]\tvalidation-auc:0.87727\n",
      "[4]\tvalidation-auc:0.87477\n",
      "[5]\tvalidation-auc:0.87688\n"
     ]
    },
    {
     "name": "stderr",
     "output_type": "stream",
     "text": [
      "\u001b[32m[I 2021-09-29 21:46:06,213]\u001b[0m Trial 88 pruned. Trial was pruned at iteration 5.\u001b[0m\n"
     ]
    },
    {
     "name": "stdout",
     "output_type": "stream",
     "text": [
      "[0]\tvalidation-auc:0.84440\n",
      "[1]\tvalidation-auc:0.84322\n",
      "[2]\tvalidation-auc:0.84427\n",
      "[3]\tvalidation-auc:0.84914\n",
      "[4]\tvalidation-auc:0.85428\n"
     ]
    },
    {
     "name": "stderr",
     "output_type": "stream",
     "text": [
      "\u001b[32m[I 2021-09-29 21:46:06,253]\u001b[0m Trial 89 pruned. Trial was pruned at iteration 5.\u001b[0m\n"
     ]
    },
    {
     "name": "stdout",
     "output_type": "stream",
     "text": [
      "[0]\tvalidation-auc:0.88557\n",
      "[1]\tvalidation-auc:0.89769\n",
      "[2]\tvalidation-auc:0.89453\n",
      "[3]\tvalidation-auc:0.89394\n",
      "[4]\tvalidation-auc:0.89091\n",
      "[5]\tvalidation-auc:0.88663\n",
      "[6]\tvalidation-auc:0.89361\n",
      "[7]\tvalidation-auc:0.89387\n",
      "[8]\tvalidation-auc:0.89598\n",
      "[9]\tvalidation-auc:0.89651\n",
      "[0]\tvalidation-auc:0.83616\n",
      "[1]\tvalidation-auc:0.84672\n",
      "[2]\tvalidation-auc:0.84733\n",
      "[3]\tvalidation-auc:0.86825\n",
      "[4]\tvalidation-auc:0.86110\n",
      "[5]\tvalidation-auc:0.86618\n",
      "[6]\tvalidation-auc:0.87574\n",
      "[7]\tvalidation-auc:0.87366\n",
      "[8]\tvalidation-auc:0.87393\n",
      "[9]\tvalidation-auc:0.87995\n",
      "[0]\tvalidation-auc:0.86905\n",
      "[1]\tvalidation-auc:0.87687\n",
      "[2]\tvalidation-auc:0.87680\n",
      "[3]\tvalidation-auc:0.87687\n",
      "[4]\tvalidation-auc:0.87587\n",
      "[5]\tvalidation-auc:0.87440\n",
      "[6]\tvalidation-auc:0.86437\n",
      "[7]\tvalidation-auc:0.86404\n",
      "[8]\tvalidation-auc:0.86564\n",
      "[9]\tvalidation-auc:0.86624\n",
      "[0]\tvalidation-auc:0.83175\n",
      "[1]\tvalidation-auc:0.84104\n",
      "[2]\tvalidation-auc:0.85842\n",
      "[3]\tvalidation-auc:0.87233\n",
      "[4]\tvalidation-auc:0.86230\n",
      "[5]\tvalidation-auc:0.86477\n",
      "[6]\tvalidation-auc:0.85314\n",
      "[7]\tvalidation-auc:0.86337\n",
      "[8]\tvalidation-auc:0.86551\n",
      "[9]\tvalidation-auc:0.86618\n",
      "[0]\tvalidation-auc:0.84330\n",
      "[1]\tvalidation-auc:0.84836\n",
      "[2]\tvalidation-auc:0.85049\n",
      "[3]\tvalidation-auc:0.84636\n",
      "[4]\tvalidation-auc:0.84437\n",
      "[5]\tvalidation-auc:0.84663\n",
      "[6]\tvalidation-auc:0.85095\n",
      "[7]\tvalidation-auc:0.86325\n",
      "[8]\tvalidation-auc:0.85075\n",
      "[9]\tvalidation-auc:0.85095\n"
     ]
    },
    {
     "name": "stderr",
     "output_type": "stream",
     "text": [
      "\u001b[32m[I 2021-09-29 21:46:06,571]\u001b[0m Trial 90 finished with value: 0.8202247191011236 and parameters: {'booster': 'gbtree', 'lambda': 1.1181148688398781e-07, 'alpha': 2.6253469306231684e-08, 'max_depth': 4, 'eta': 0.20656098131561834, 'gamma': 2.4783814620345443e-05, 'grow_policy': 'depthwise'}. Best is trial 9 with value: 0.8370786516853933.\u001b[0m\n"
     ]
    },
    {
     "name": "stdout",
     "output_type": "stream",
     "text": [
      "[0]\tvalidation-auc:0.88393\n",
      "[1]\tvalidation-auc:0.88841\n",
      "[2]\tvalidation-auc:0.88814\n",
      "[3]\tvalidation-auc:0.88682\n",
      "[4]\tvalidation-auc:0.88709\n"
     ]
    },
    {
     "name": "stderr",
     "output_type": "stream",
     "text": [
      "\u001b[32m[I 2021-09-29 21:46:06,620]\u001b[0m Trial 91 pruned. Trial was pruned at iteration 5.\u001b[0m\n"
     ]
    },
    {
     "name": "stdout",
     "output_type": "stream",
     "text": [
      "[0]\tvalidation-auc:0.88979\n",
      "[1]\tvalidation-auc:0.89750\n",
      "[2]\tvalidation-auc:0.89651\n",
      "[3]\tvalidation-auc:0.89335\n",
      "[4]\tvalidation-auc:0.88887\n",
      "[5]\tvalidation-auc:0.88834\n",
      "[6]\tvalidation-auc:0.88808\n",
      "[7]\tvalidation-auc:0.88432\n",
      "[8]\tvalidation-auc:0.88867\n",
      "[9]\tvalidation-auc:0.89038\n",
      "[0]\tvalidation-auc:0.84813\n",
      "[1]\tvalidation-auc:0.84552\n",
      "[2]\tvalidation-auc:0.84773\n",
      "[3]\tvalidation-auc:0.84639\n",
      "[4]\tvalidation-auc:0.85789\n",
      "[5]\tvalidation-auc:0.87206\n",
      "[6]\tvalidation-auc:0.87714\n",
      "[7]\tvalidation-auc:0.87052\n",
      "[8]\tvalidation-auc:0.87132\n",
      "[9]\tvalidation-auc:0.87721\n",
      "[0]\tvalidation-auc:0.86905\n",
      "[1]\tvalidation-auc:0.87941\n",
      "[2]\tvalidation-auc:0.87727\n",
      "[3]\tvalidation-auc:0.87707\n",
      "[4]\tvalidation-auc:0.87440\n",
      "[5]\tvalidation-auc:0.87660\n",
      "[6]\tvalidation-auc:0.87426\n",
      "[7]\tvalidation-auc:0.87065\n",
      "[8]\tvalidation-auc:0.87480\n",
      "[9]\tvalidation-auc:0.86818\n",
      "[0]\tvalidation-auc:0.83991\n",
      "[1]\tvalidation-auc:0.85501\n",
      "[2]\tvalidation-auc:0.86384\n",
      "[3]\tvalidation-auc:0.86243\n",
      "[4]\tvalidation-auc:0.87213\n",
      "[5]\tvalidation-auc:0.87126\n",
      "[6]\tvalidation-auc:0.86992\n",
      "[7]\tvalidation-auc:0.86912\n",
      "[8]\tvalidation-auc:0.86912\n",
      "[9]\tvalidation-auc:0.86584\n",
      "[0]\tvalidation-auc:0.84650\n",
      "[1]\tvalidation-auc:0.84949\n",
      "[2]\tvalidation-auc:0.85235\n",
      "[3]\tvalidation-auc:0.84390\n",
      "[4]\tvalidation-auc:0.84138\n",
      "[5]\tvalidation-auc:0.84284\n",
      "[6]\tvalidation-auc:0.84125\n",
      "[7]\tvalidation-auc:0.83852\n",
      "[8]\tvalidation-auc:0.84477\n",
      "[9]\tvalidation-auc:0.85321\n"
     ]
    },
    {
     "name": "stderr",
     "output_type": "stream",
     "text": [
      "\u001b[32m[I 2021-09-29 21:46:07,038]\u001b[0m Trial 92 finished with value: 0.8202247191011236 and parameters: {'booster': 'dart', 'lambda': 1.4139198802933688e-08, 'alpha': 0.1355453409567914, 'max_depth': 4, 'eta': 0.1377404337803531, 'gamma': 0.08399718151999047, 'grow_policy': 'lossguide', 'sample_type': 'weighted', 'normalize_type': 'forest', 'rate_drop': 1.160039113489566e-08, 'skip_drop': 0.04934984670795979}. Best is trial 9 with value: 0.8370786516853933.\u001b[0m\n"
     ]
    },
    {
     "name": "stdout",
     "output_type": "stream",
     "text": [
      "[0]\tvalidation-auc:0.88353\n",
      "[1]\tvalidation-auc:0.88841\n",
      "[2]\tvalidation-auc:0.88814\n",
      "[3]\tvalidation-auc:0.88814\n",
      "[4]\tvalidation-auc:0.88814\n",
      "[5]\tvalidation-auc:0.88709\n"
     ]
    },
    {
     "name": "stderr",
     "output_type": "stream",
     "text": [
      "\u001b[32m[I 2021-09-29 21:46:07,093]\u001b[0m Trial 93 pruned. Trial was pruned at iteration 5.\u001b[0m\n"
     ]
    },
    {
     "name": "stdout",
     "output_type": "stream",
     "text": [
      "[0]\tvalidation-auc:0.87787\n",
      "[1]\tvalidation-auc:0.88880\n",
      "[2]\tvalidation-auc:0.88518\n",
      "[3]\tvalidation-auc:0.88597\n",
      "[4]\tvalidation-auc:0.88505\n"
     ]
    },
    {
     "name": "stderr",
     "output_type": "stream",
     "text": [
      "\u001b[32m[I 2021-09-29 21:46:07,135]\u001b[0m Trial 94 pruned. Trial was pruned at iteration 5.\u001b[0m\n"
     ]
    },
    {
     "name": "stdout",
     "output_type": "stream",
     "text": [
      "[0]\tvalidation-auc:0.84084\n",
      "[1]\tvalidation-auc:0.85448\n",
      "[2]\tvalidation-auc:0.85448\n",
      "[3]\tvalidation-auc:0.85448\n",
      "[4]\tvalidation-auc:0.86818\n"
     ]
    },
    {
     "name": "stderr",
     "output_type": "stream",
     "text": [
      "\u001b[32m[I 2021-09-29 21:46:07,178]\u001b[0m Trial 95 pruned. Trial was pruned at iteration 5.\u001b[0m\n"
     ]
    },
    {
     "name": "stdout",
     "output_type": "stream",
     "text": [
      "[0]\tvalidation-auc:0.88544\n",
      "[1]\tvalidation-auc:0.89229\n",
      "[2]\tvalidation-auc:0.89203\n",
      "[3]\tvalidation-auc:0.89137\n",
      "[4]\tvalidation-auc:0.89137\n",
      "[5]\tvalidation-auc:0.89137\n",
      "[6]\tvalidation-auc:0.89137\n",
      "[7]\tvalidation-auc:0.89321\n",
      "[8]\tvalidation-auc:0.89387\n",
      "[9]\tvalidation-auc:0.89414\n",
      "[0]\tvalidation-auc:0.83616\n",
      "[1]\tvalidation-auc:0.83616\n",
      "[2]\tvalidation-auc:0.83790\n",
      "[3]\tvalidation-auc:0.83790\n",
      "[4]\tvalidation-auc:0.83790\n",
      "[5]\tvalidation-auc:0.83790\n",
      "[6]\tvalidation-auc:0.83790\n",
      "[7]\tvalidation-auc:0.83790\n",
      "[8]\tvalidation-auc:0.83790\n",
      "[9]\tvalidation-auc:0.83850\n",
      "[0]\tvalidation-auc:0.86905\n",
      "[1]\tvalidation-auc:0.86905\n",
      "[2]\tvalidation-auc:0.86905\n",
      "[3]\tvalidation-auc:0.86905\n",
      "[4]\tvalidation-auc:0.86905\n",
      "[5]\tvalidation-auc:0.86905\n",
      "[6]\tvalidation-auc:0.86905\n",
      "[7]\tvalidation-auc:0.86905\n",
      "[8]\tvalidation-auc:0.86905\n",
      "[9]\tvalidation-auc:0.86905\n",
      "[0]\tvalidation-auc:0.83175\n",
      "[1]\tvalidation-auc:0.83175\n",
      "[2]\tvalidation-auc:0.83476\n",
      "[3]\tvalidation-auc:0.83690\n",
      "[4]\tvalidation-auc:0.83476\n",
      "[5]\tvalidation-auc:0.83476\n",
      "[6]\tvalidation-auc:0.83469\n",
      "[7]\tvalidation-auc:0.83469\n",
      "[8]\tvalidation-auc:0.83483\n",
      "[9]\tvalidation-auc:0.83469\n",
      "[0]\tvalidation-auc:0.84330\n",
      "[1]\tvalidation-auc:0.84330\n",
      "[2]\tvalidation-auc:0.84330\n",
      "[3]\tvalidation-auc:0.84330\n",
      "[4]\tvalidation-auc:0.84330\n",
      "[5]\tvalidation-auc:0.84330\n",
      "[6]\tvalidation-auc:0.84384\n",
      "[7]\tvalidation-auc:0.84670\n",
      "[8]\tvalidation-auc:0.84616\n",
      "[9]\tvalidation-auc:0.84616\n"
     ]
    },
    {
     "name": "stderr",
     "output_type": "stream",
     "text": [
      "\u001b[32m[I 2021-09-29 21:46:07,515]\u001b[0m Trial 96 finished with value: 0.8033707865168539 and parameters: {'booster': 'gbtree', 'lambda': 3.042708711139844e-08, 'alpha': 1.114078769834774e-05, 'max_depth': 4, 'eta': 0.006625629924208539, 'gamma': 1.5050319940536307e-06, 'grow_policy': 'depthwise'}. Best is trial 9 with value: 0.8370786516853933.\u001b[0m\n"
     ]
    },
    {
     "name": "stdout",
     "output_type": "stream",
     "text": [
      "[0]\tvalidation-auc:0.88906\n",
      "[1]\tvalidation-auc:0.89071\n",
      "[2]\tvalidation-auc:0.89071\n",
      "[3]\tvalidation-auc:0.89071\n",
      "[4]\tvalidation-auc:0.89071\n",
      "[5]\tvalidation-auc:0.89071\n",
      "[6]\tvalidation-auc:0.89071\n",
      "[7]\tvalidation-auc:0.89071\n",
      "[8]\tvalidation-auc:0.89071\n",
      "[9]\tvalidation-auc:0.89097\n",
      "[0]\tvalidation-auc:0.84766\n",
      "[1]\tvalidation-auc:0.84766\n",
      "[2]\tvalidation-auc:0.84766\n",
      "[3]\tvalidation-auc:0.84766\n",
      "[4]\tvalidation-auc:0.84766\n",
      "[5]\tvalidation-auc:0.84766\n",
      "[6]\tvalidation-auc:0.84766\n",
      "[7]\tvalidation-auc:0.84766\n",
      "[8]\tvalidation-auc:0.84766\n",
      "[9]\tvalidation-auc:0.84766\n",
      "[0]\tvalidation-auc:0.86905\n",
      "[1]\tvalidation-auc:0.86905\n",
      "[2]\tvalidation-auc:0.86905\n",
      "[3]\tvalidation-auc:0.86905\n",
      "[4]\tvalidation-auc:0.86905\n",
      "[5]\tvalidation-auc:0.86905\n",
      "[6]\tvalidation-auc:0.86905\n",
      "[7]\tvalidation-auc:0.86905\n",
      "[8]\tvalidation-auc:0.86905\n",
      "[9]\tvalidation-auc:0.86905\n",
      "[0]\tvalidation-auc:0.83162\n",
      "[1]\tvalidation-auc:0.83162\n",
      "[2]\tvalidation-auc:0.83162\n",
      "[3]\tvalidation-auc:0.83162\n",
      "[4]\tvalidation-auc:0.83162\n",
      "[5]\tvalidation-auc:0.83162\n",
      "[6]\tvalidation-auc:0.83162\n",
      "[7]\tvalidation-auc:0.83162\n",
      "[8]\tvalidation-auc:0.83162\n",
      "[9]\tvalidation-auc:0.83603\n",
      "[0]\tvalidation-auc:0.84384\n",
      "[1]\tvalidation-auc:0.84384\n",
      "[2]\tvalidation-auc:0.84384\n",
      "[3]\tvalidation-auc:0.84384\n",
      "[4]\tvalidation-auc:0.84384\n",
      "[5]\tvalidation-auc:0.84384\n",
      "[6]\tvalidation-auc:0.84384\n",
      "[7]\tvalidation-auc:0.84384\n",
      "[8]\tvalidation-auc:0.84384\n",
      "[9]\tvalidation-auc:0.84384\n"
     ]
    },
    {
     "name": "stderr",
     "output_type": "stream",
     "text": [
      "\u001b[32m[I 2021-09-29 21:46:07,938]\u001b[0m Trial 97 finished with value: 0.8033707865168539 and parameters: {'booster': 'dart', 'lambda': 0.03286659761129385, 'alpha': 0.000989662486756586, 'max_depth': 4, 'eta': 0.0008175999489872477, 'gamma': 0.030462236336371615, 'grow_policy': 'depthwise', 'sample_type': 'uniform', 'normalize_type': 'tree', 'rate_drop': 0.0018922703908273641, 'skip_drop': 1.5921503842552016e-05}. Best is trial 9 with value: 0.8370786516853933.\u001b[0m\n"
     ]
    },
    {
     "name": "stdout",
     "output_type": "stream",
     "text": [
      "[0]\tvalidation-auc:0.84084\n",
      "[1]\tvalidation-auc:0.85448\n",
      "[2]\tvalidation-auc:0.85448\n",
      "[3]\tvalidation-auc:0.85448\n",
      "[4]\tvalidation-auc:0.85448\n"
     ]
    },
    {
     "name": "stderr",
     "output_type": "stream",
     "text": [
      "\u001b[32m[I 2021-09-29 21:46:08,015]\u001b[0m Trial 98 pruned. Trial was pruned at iteration 5.\u001b[0m\n"
     ]
    },
    {
     "name": "stdout",
     "output_type": "stream",
     "text": [
      "[0]\tvalidation-auc:0.87787\n",
      "[1]\tvalidation-auc:0.88880\n",
      "[2]\tvalidation-auc:0.88775\n",
      "[3]\tvalidation-auc:0.88834\n",
      "[4]\tvalidation-auc:0.88874\n"
     ]
    },
    {
     "name": "stderr",
     "output_type": "stream",
     "text": [
      "\u001b[32m[I 2021-09-29 21:46:08,076]\u001b[0m Trial 99 pruned. Trial was pruned at iteration 5.\u001b[0m\n"
     ]
    },
    {
     "name": "stdout",
     "output_type": "stream",
     "text": [
      "FrozenTrial(number=9, values=[0.8370786516853933], datetime_start=datetime.datetime(2021, 9, 29, 21, 45, 49, 941979), datetime_complete=datetime.datetime(2021, 9, 29, 21, 45, 50, 465852), params={'booster': 'dart', 'lambda': 0.09885022089484578, 'alpha': 0.9913011111421189, 'max_depth': 7, 'eta': 0.01793382428864828, 'gamma': 0.00218269276467672, 'grow_policy': 'depthwise', 'sample_type': 'weighted', 'normalize_type': 'forest', 'rate_drop': 0.022254827613756557, 'skip_drop': 0.001054336255417377}, distributions={'booster': CategoricalDistribution(choices=('gbtree', 'gblinear', 'dart')), 'lambda': LogUniformDistribution(high=1.0, low=1e-08), 'alpha': LogUniformDistribution(high=1.0, low=1e-08), 'max_depth': IntUniformDistribution(high=9, low=1, step=1), 'eta': LogUniformDistribution(high=1.0, low=1e-08), 'gamma': LogUniformDistribution(high=1.0, low=1e-08), 'grow_policy': CategoricalDistribution(choices=('depthwise', 'lossguide')), 'sample_type': CategoricalDistribution(choices=('uniform', 'weighted')), 'normalize_type': CategoricalDistribution(choices=('tree', 'forest')), 'rate_drop': LogUniformDistribution(high=1.0, low=1e-08), 'skip_drop': LogUniformDistribution(high=1.0, low=1e-08)}, user_attrs={}, system_attrs={}, intermediate_values={0: 0.902306, 1: 0.897694, 2: 0.899012, 3: 0.899802, 4: 0.898485, 5: 0.898485, 6: 0.898221, 7: 0.898485, 8: 0.898682, 9: 0.898748}, trial_id=9, state=TrialState.COMPLETE, value=None)\n"
     ]
    }
   ],
   "source": [
    "#optuna example\n",
    "#https://github.com/optuna/optuna-examples/blob/main/xgboost/xgboost_integration.py\n",
    "import xgboost as xgb\n",
    "def objective(trial):\n",
    "    param = {\n",
    "            \"verbosity\": 0,\n",
    "            \"objective\": \"binary:logistic\",  #binary:logistic\n",
    "            \"eval_metric\": \"auc\",  #map\n",
    "            \"booster\": trial.suggest_categorical(\"booster\", [\"gbtree\", \"gblinear\", \"dart\"]),\n",
    "            \"lambda\": trial.suggest_float(\"lambda\", 1e-8, 1.0, log=True),\n",
    "            \"alpha\": trial.suggest_float(\"alpha\", 1e-8, 1.0, log=True),\n",
    "        }\n",
    "\n",
    "    if param[\"booster\"] == \"gbtree\" or param[\"booster\"] == \"dart\":\n",
    "        param[\"max_depth\"] = trial.suggest_int(\"max_depth\", 1, 9)\n",
    "        param[\"eta\"] = trial.suggest_float(\"eta\", 1e-8, 1.0, log=True)\n",
    "        param[\"gamma\"] = trial.suggest_float(\"gamma\", 1e-8, 1.0, log=True)\n",
    "        param[\"grow_policy\"] = trial.suggest_categorical(\"grow_policy\", [\"depthwise\", \"lossguide\"])\n",
    "    if param[\"booster\"] == \"dart\":\n",
    "        param[\"sample_type\"] = trial.suggest_categorical(\"sample_type\", [\"uniform\", \"weighted\"])\n",
    "        param[\"normalize_type\"] = trial.suggest_categorical(\"normalize_type\", [\"tree\", \"forest\"])\n",
    "        param[\"rate_drop\"] = trial.suggest_float(\"rate_drop\", 1e-8, 1.0, log=True)\n",
    "        param[\"skip_drop\"] = trial.suggest_float(\"skip_drop\", 1e-8, 1.0, log=True)\n",
    "\n",
    "    for i in range(5):\n",
    "        train_x = train.query(f'fold!={i}').drop(['fold', 'Survived'], axis=1)\n",
    "        train_y = train.query(f'fold!={i}').Survived\n",
    "\n",
    "        valid_x = train.query(f'fold=={i}').drop(['fold', 'Survived'], axis=1)\n",
    "        valid_y = train.query(f'fold=={i}').Survived\n",
    "\n",
    "        dtrain = xgb.DMatrix(train_x, label=train_y)\n",
    "        dvalid = xgb.DMatrix(valid_x, label=valid_y)\n",
    "        \n",
    "        accuracy = []\n",
    "        # Add a callback for pruning.\n",
    "        pruning_callback = optuna.integration.XGBoostPruningCallback(trial, \"validation-auc\")\n",
    "        bst = xgb.train(param, dtrain, evals=[(dvalid, \"validation\")], callbacks=[pruning_callback])\n",
    "        preds = bst.predict(dvalid)\n",
    "        pred_labels = np.rint(preds)\n",
    "        accuracy.append(sklearn.metrics.accuracy_score(valid_y, pred_labels))\n",
    "        \n",
    "        \n",
    "        joblib.dump(bst, f'xgboost_fold{i}.pkl')\n",
    "    return np.mean(accuracy)\n",
    "\n",
    "    \n",
    "if __name__ == \"__main__\":\n",
    "    study = optuna.create_study(\n",
    "        pruner=optuna.pruners.MedianPruner(n_warmup_steps=5), direction=\"maximize\"\n",
    "    )\n",
    "    study.optimize(objective, n_trials=100)\n",
    "    print(study.best_trial)"
   ]
  },
  {
   "cell_type": "markdown",
   "metadata": {},
   "source": [
    "## Ensemble lgb and xgboost"
   ]
  },
  {
   "cell_type": "code",
   "execution_count": 545,
   "metadata": {},
   "outputs": [],
   "source": [
    "X_train = train.drop(['Survived', 'fold'], axis=1).values\n",
    "y_train = train[['Survived']].values"
   ]
  },
  {
   "cell_type": "code",
   "execution_count": 547,
   "metadata": {},
   "outputs": [],
   "source": [
    "test2 = test.drop(['Survived', 'fold'], axis=1).values"
   ]
  },
  {
   "cell_type": "code",
   "execution_count": 569,
   "metadata": {},
   "outputs": [],
   "source": [
    "#get the mean of best fold in lgb\n",
    "lgb_pred = np.zeros(418)\n",
    "for i in range(5):\n",
    "    model = joblib.load(f'./lgb_fold{i}.pkl')\n",
    "    lgb_pred += model.predict(test2) / 5\n",
    "    \n",
    "lgb_pred = lgb_pred.round().astype(int)"
   ]
  },
  {
   "cell_type": "code",
   "execution_count": 589,
   "metadata": {},
   "outputs": [],
   "source": [
    "#get the mean of best fold in xgboost\n",
    "xgboost_pred = np.zeros(418)\n",
    "for i in range(5):\n",
    "    model = joblib.load(f'./xgboost_fold{i}.pkl')\n",
    "    model = XGBClassifier()\n",
    "    model.fit(X_train, y_train)\n",
    "    xgboost_pred += model.predict_proba(test2)[:,1] / 5\n",
    "    \n",
    "xgboost_pred = xgboost_pred.round().astype(int)"
   ]
  },
  {
   "cell_type": "code",
   "execution_count": 598,
   "metadata": {},
   "outputs": [],
   "source": [
    "#combine\n",
    "f_pro = (lgb_pred + xgboost_pred)/2    #predict probability [0, 1]"
   ]
  },
  {
   "cell_type": "code",
   "execution_count": 612,
   "metadata": {},
   "outputs": [],
   "source": [
    "pred = []\n",
    "for i in f_pro:\n",
    "    if i > 0.5:\n",
    "        pred.append(1)\n",
    "    else:\n",
    "        pred.append(0)"
   ]
  },
  {
   "cell_type": "code",
   "execution_count": 613,
   "metadata": {},
   "outputs": [],
   "source": [
    "sub.Survived = pred"
   ]
  },
  {
   "cell_type": "code",
   "execution_count": 614,
   "metadata": {},
   "outputs": [
    {
     "data": {
      "text/html": [
       "<div>\n",
       "<style scoped>\n",
       "    .dataframe tbody tr th:only-of-type {\n",
       "        vertical-align: middle;\n",
       "    }\n",
       "\n",
       "    .dataframe tbody tr th {\n",
       "        vertical-align: top;\n",
       "    }\n",
       "\n",
       "    .dataframe thead th {\n",
       "        text-align: right;\n",
       "    }\n",
       "</style>\n",
       "<table border=\"1\" class=\"dataframe\">\n",
       "  <thead>\n",
       "    <tr style=\"text-align: right;\">\n",
       "      <th></th>\n",
       "      <th>PassengerId</th>\n",
       "      <th>Survived</th>\n",
       "    </tr>\n",
       "  </thead>\n",
       "  <tbody>\n",
       "    <tr>\n",
       "      <th>0</th>\n",
       "      <td>892</td>\n",
       "      <td>0</td>\n",
       "    </tr>\n",
       "    <tr>\n",
       "      <th>1</th>\n",
       "      <td>893</td>\n",
       "      <td>1</td>\n",
       "    </tr>\n",
       "    <tr>\n",
       "      <th>2</th>\n",
       "      <td>894</td>\n",
       "      <td>0</td>\n",
       "    </tr>\n",
       "    <tr>\n",
       "      <th>3</th>\n",
       "      <td>895</td>\n",
       "      <td>0</td>\n",
       "    </tr>\n",
       "    <tr>\n",
       "      <th>4</th>\n",
       "      <td>896</td>\n",
       "      <td>1</td>\n",
       "    </tr>\n",
       "    <tr>\n",
       "      <th>...</th>\n",
       "      <td>...</td>\n",
       "      <td>...</td>\n",
       "    </tr>\n",
       "    <tr>\n",
       "      <th>413</th>\n",
       "      <td>1305</td>\n",
       "      <td>0</td>\n",
       "    </tr>\n",
       "    <tr>\n",
       "      <th>414</th>\n",
       "      <td>1306</td>\n",
       "      <td>1</td>\n",
       "    </tr>\n",
       "    <tr>\n",
       "      <th>415</th>\n",
       "      <td>1307</td>\n",
       "      <td>0</td>\n",
       "    </tr>\n",
       "    <tr>\n",
       "      <th>416</th>\n",
       "      <td>1308</td>\n",
       "      <td>0</td>\n",
       "    </tr>\n",
       "    <tr>\n",
       "      <th>417</th>\n",
       "      <td>1309</td>\n",
       "      <td>0</td>\n",
       "    </tr>\n",
       "  </tbody>\n",
       "</table>\n",
       "<p>418 rows × 2 columns</p>\n",
       "</div>"
      ],
      "text/plain": [
       "     PassengerId  Survived\n",
       "0            892         0\n",
       "1            893         1\n",
       "2            894         0\n",
       "3            895         0\n",
       "4            896         1\n",
       "..           ...       ...\n",
       "413         1305         0\n",
       "414         1306         1\n",
       "415         1307         0\n",
       "416         1308         0\n",
       "417         1309         0\n",
       "\n",
       "[418 rows x 2 columns]"
      ]
     },
     "execution_count": 614,
     "metadata": {},
     "output_type": "execute_result"
    }
   ],
   "source": [
    "sub"
   ]
  },
  {
   "cell_type": "code",
   "execution_count": 615,
   "metadata": {},
   "outputs": [],
   "source": [
    "sub.to_csv('submission_soft.csv', index=False)"
   ]
  },
  {
   "cell_type": "code",
   "execution_count": null,
   "metadata": {},
   "outputs": [],
   "source": []
  }
 ],
 "metadata": {
  "kernelspec": {
   "display_name": "Python 3",
   "language": "python",
   "name": "python3"
  },
  "language_info": {
   "codemirror_mode": {
    "name": "ipython",
    "version": 3
   },
   "file_extension": ".py",
   "mimetype": "text/x-python",
   "name": "python",
   "nbconvert_exporter": "python",
   "pygments_lexer": "ipython3",
   "version": "3.7.6"
  }
 },
 "nbformat": 4,
 "nbformat_minor": 4
}
