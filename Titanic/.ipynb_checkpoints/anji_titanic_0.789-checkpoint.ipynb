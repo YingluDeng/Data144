{
 "cells": [
  {
   "cell_type": "code",
   "execution_count": 1,
   "metadata": {
    "_cell_guid": "b1076dfc-b9ad-4769-8c92-a6c4dae69d19",
    "_uuid": "8f2839f25d086af736a60e9eeb907d3b93b6e0e5",
    "cell_id": "00000-9ee8848a-c353-488c-a3e5-ffb2733fc45c",
    "deepnote_cell_type": "code",
    "deepnote_to_be_reexecuted": false,
    "execution_millis": 1,
    "execution_start": 1632996509278,
    "id": "WTcCXR70L8LL",
    "source_hash": "eb4d3b83"
   },
   "outputs": [],
   "source": [
    "#load the library\n",
    "import numpy as np\n",
    "import pandas as pd\n",
    "import re\n",
    "import seaborn as sns\n",
    "import sklearn.datasets\n",
    "import sklearn.metrics\n",
    "from sklearn.model_selection import train_test_split\n",
    "from sklearn import preprocessing\n",
    "from sklearn.metrics import log_loss\n",
    "from sklearn.model_selection import StratifiedKFold\n",
    "from sklearn.preprocessing import QuantileTransformer\n",
    "from sklearn.metrics import accuracy_score\n",
    "import lightgbm as lgb\n",
    "import optuna\n",
    "import warnings\n",
    "from tqdm import tqdm\n",
    "import time\n",
    "from sklearn.decomposition import TruncatedSVD, PCA\n",
    "import joblib\n",
    "import matplotlib.pyplot as plt\n",
    "warnings.filterwarnings('ignore')"
   ]
  },
  {
   "cell_type": "code",
   "execution_count": 2,
   "metadata": {
    "cell_id": "00001-8cefaaa1-4e6e-4b79-92bf-86d70e7644c0",
    "deepnote_cell_type": "code",
    "deepnote_to_be_reexecuted": false,
    "execution_millis": 0,
    "execution_start": 1632996509279,
    "id": "iNPo6Y58L8LQ",
    "source_hash": "5b4743e5"
   },
   "outputs": [],
   "source": [
    "#transfrom categorical data to numbers\n",
    "def label_encoding(train: pd.DataFrame, test: pd.DataFrame, encode_cols):\n",
    "    n_train = len(train)\n",
    "    train = pd.concat([train, test], sort=False).reset_index(drop=True)\n",
    "    for f in encode_cols:\n",
    "        try:\n",
    "            lbl = preprocessing.LabelEncoder()\n",
    "            train[f] = lbl.fit_transform(list(train[f].values))\n",
    "        except:\n",
    "            print(f)\n",
    "    test = train[n_train:].reset_index(drop=True)\n",
    "    train = train[:n_train]\n",
    "    return train, test"
   ]
  },
  {
   "cell_type": "code",
   "execution_count": 3,
   "metadata": {
    "_cell_guid": "79c7e3d0-c299-4dcb-8224-4455121ee9b0",
    "_uuid": "d629ff2d2480ee46fbb7e2d37f6b5fab8052498a",
    "cell_id": "00002-2ffdf32d-9a93-4c1e-8f9b-d3459fdbb99b",
    "deepnote_cell_type": "code",
    "deepnote_to_be_reexecuted": false,
    "execution_millis": 210,
    "execution_start": 1632996509280,
    "id": "mWc0guWSL8LR",
    "source_hash": "db30f56e"
   },
   "outputs": [],
   "source": [
    "#import data\n",
    "train = pd.read_csv('train.csv')\n",
    "test = pd.read_csv('test.csv')\n",
    "sub = pd.read_csv('gender_submission.csv')"
   ]
  },
  {
   "cell_type": "code",
   "execution_count": 4,
   "metadata": {
    "cell_id": "00003-4b968452-599b-4c86-88bc-11c71fbe55da",
    "deepnote_cell_type": "code",
    "deepnote_to_be_reexecuted": false,
    "execution_millis": 70,
    "execution_start": 1632996509494,
    "id": "ST4ntq5vL8LR",
    "outputId": "e60f431d-4ea3-459c-d344-7022fd522482",
    "source_hash": "e1f0b45"
   },
   "outputs": [
    {
     "data": {
      "text/html": [
       "<div>\n",
       "<style scoped>\n",
       "    .dataframe tbody tr th:only-of-type {\n",
       "        vertical-align: middle;\n",
       "    }\n",
       "\n",
       "    .dataframe tbody tr th {\n",
       "        vertical-align: top;\n",
       "    }\n",
       "\n",
       "    .dataframe thead th {\n",
       "        text-align: right;\n",
       "    }\n",
       "</style>\n",
       "<table border=\"1\" class=\"dataframe\">\n",
       "  <thead>\n",
       "    <tr style=\"text-align: right;\">\n",
       "      <th></th>\n",
       "      <th>PassengerId</th>\n",
       "      <th>Survived</th>\n",
       "      <th>Pclass</th>\n",
       "      <th>Name</th>\n",
       "      <th>Sex</th>\n",
       "      <th>Age</th>\n",
       "      <th>SibSp</th>\n",
       "      <th>Parch</th>\n",
       "      <th>Ticket</th>\n",
       "      <th>Fare</th>\n",
       "      <th>Cabin</th>\n",
       "      <th>Embarked</th>\n",
       "    </tr>\n",
       "  </thead>\n",
       "  <tbody>\n",
       "    <tr>\n",
       "      <th>0</th>\n",
       "      <td>1</td>\n",
       "      <td>0</td>\n",
       "      <td>3</td>\n",
       "      <td>Braund, Mr. Owen Harris</td>\n",
       "      <td>male</td>\n",
       "      <td>22.0</td>\n",
       "      <td>1</td>\n",
       "      <td>0</td>\n",
       "      <td>A/5 21171</td>\n",
       "      <td>7.2500</td>\n",
       "      <td>NaN</td>\n",
       "      <td>S</td>\n",
       "    </tr>\n",
       "    <tr>\n",
       "      <th>1</th>\n",
       "      <td>2</td>\n",
       "      <td>1</td>\n",
       "      <td>1</td>\n",
       "      <td>Cumings, Mrs. John Bradley (Florence Briggs Th...</td>\n",
       "      <td>female</td>\n",
       "      <td>38.0</td>\n",
       "      <td>1</td>\n",
       "      <td>0</td>\n",
       "      <td>PC 17599</td>\n",
       "      <td>71.2833</td>\n",
       "      <td>C85</td>\n",
       "      <td>C</td>\n",
       "    </tr>\n",
       "    <tr>\n",
       "      <th>2</th>\n",
       "      <td>3</td>\n",
       "      <td>1</td>\n",
       "      <td>3</td>\n",
       "      <td>Heikkinen, Miss. Laina</td>\n",
       "      <td>female</td>\n",
       "      <td>26.0</td>\n",
       "      <td>0</td>\n",
       "      <td>0</td>\n",
       "      <td>STON/O2. 3101282</td>\n",
       "      <td>7.9250</td>\n",
       "      <td>NaN</td>\n",
       "      <td>S</td>\n",
       "    </tr>\n",
       "    <tr>\n",
       "      <th>3</th>\n",
       "      <td>4</td>\n",
       "      <td>1</td>\n",
       "      <td>1</td>\n",
       "      <td>Futrelle, Mrs. Jacques Heath (Lily May Peel)</td>\n",
       "      <td>female</td>\n",
       "      <td>35.0</td>\n",
       "      <td>1</td>\n",
       "      <td>0</td>\n",
       "      <td>113803</td>\n",
       "      <td>53.1000</td>\n",
       "      <td>C123</td>\n",
       "      <td>S</td>\n",
       "    </tr>\n",
       "    <tr>\n",
       "      <th>4</th>\n",
       "      <td>5</td>\n",
       "      <td>0</td>\n",
       "      <td>3</td>\n",
       "      <td>Allen, Mr. William Henry</td>\n",
       "      <td>male</td>\n",
       "      <td>35.0</td>\n",
       "      <td>0</td>\n",
       "      <td>0</td>\n",
       "      <td>373450</td>\n",
       "      <td>8.0500</td>\n",
       "      <td>NaN</td>\n",
       "      <td>S</td>\n",
       "    </tr>\n",
       "  </tbody>\n",
       "</table>\n",
       "</div>"
      ],
      "text/plain": [
       "   PassengerId  Survived  Pclass  \\\n",
       "0            1         0       3   \n",
       "1            2         1       1   \n",
       "2            3         1       3   \n",
       "3            4         1       1   \n",
       "4            5         0       3   \n",
       "\n",
       "                                                Name     Sex   Age  SibSp  \\\n",
       "0                            Braund, Mr. Owen Harris    male  22.0      1   \n",
       "1  Cumings, Mrs. John Bradley (Florence Briggs Th...  female  38.0      1   \n",
       "2                             Heikkinen, Miss. Laina  female  26.0      0   \n",
       "3       Futrelle, Mrs. Jacques Heath (Lily May Peel)  female  35.0      1   \n",
       "4                           Allen, Mr. William Henry    male  35.0      0   \n",
       "\n",
       "   Parch            Ticket     Fare Cabin Embarked  \n",
       "0      0         A/5 21171   7.2500   NaN        S  \n",
       "1      0          PC 17599  71.2833   C85        C  \n",
       "2      0  STON/O2. 3101282   7.9250   NaN        S  \n",
       "3      0            113803  53.1000  C123        S  \n",
       "4      0            373450   8.0500   NaN        S  "
      ]
     },
     "execution_count": 4,
     "metadata": {},
     "output_type": "execute_result"
    }
   ],
   "source": [
    "train.head()"
   ]
  },
  {
   "cell_type": "code",
   "execution_count": 5,
   "metadata": {
    "cell_id": "00004-760d30e8-d6f6-4de5-b70b-ce9aa0bd062e",
    "deepnote_cell_type": "code",
    "deepnote_to_be_reexecuted": false,
    "execution_millis": 50,
    "execution_start": 1632996509578,
    "id": "jzAN3bN9L8LS",
    "outputId": "1dfaa7b6-6b48-4d26-f41a-aaa27dc9b967",
    "source_hash": "476785e4"
   },
   "outputs": [
    {
     "data": {
      "text/html": [
       "<div>\n",
       "<style scoped>\n",
       "    .dataframe tbody tr th:only-of-type {\n",
       "        vertical-align: middle;\n",
       "    }\n",
       "\n",
       "    .dataframe tbody tr th {\n",
       "        vertical-align: top;\n",
       "    }\n",
       "\n",
       "    .dataframe thead th {\n",
       "        text-align: right;\n",
       "    }\n",
       "</style>\n",
       "<table border=\"1\" class=\"dataframe\">\n",
       "  <thead>\n",
       "    <tr style=\"text-align: right;\">\n",
       "      <th></th>\n",
       "      <th>PassengerId</th>\n",
       "      <th>Pclass</th>\n",
       "      <th>Name</th>\n",
       "      <th>Sex</th>\n",
       "      <th>Age</th>\n",
       "      <th>SibSp</th>\n",
       "      <th>Parch</th>\n",
       "      <th>Ticket</th>\n",
       "      <th>Fare</th>\n",
       "      <th>Cabin</th>\n",
       "      <th>Embarked</th>\n",
       "    </tr>\n",
       "  </thead>\n",
       "  <tbody>\n",
       "    <tr>\n",
       "      <th>0</th>\n",
       "      <td>892</td>\n",
       "      <td>3</td>\n",
       "      <td>Kelly, Mr. James</td>\n",
       "      <td>male</td>\n",
       "      <td>34.5</td>\n",
       "      <td>0</td>\n",
       "      <td>0</td>\n",
       "      <td>330911</td>\n",
       "      <td>7.8292</td>\n",
       "      <td>NaN</td>\n",
       "      <td>Q</td>\n",
       "    </tr>\n",
       "    <tr>\n",
       "      <th>1</th>\n",
       "      <td>893</td>\n",
       "      <td>3</td>\n",
       "      <td>Wilkes, Mrs. James (Ellen Needs)</td>\n",
       "      <td>female</td>\n",
       "      <td>47.0</td>\n",
       "      <td>1</td>\n",
       "      <td>0</td>\n",
       "      <td>363272</td>\n",
       "      <td>7.0000</td>\n",
       "      <td>NaN</td>\n",
       "      <td>S</td>\n",
       "    </tr>\n",
       "    <tr>\n",
       "      <th>2</th>\n",
       "      <td>894</td>\n",
       "      <td>2</td>\n",
       "      <td>Myles, Mr. Thomas Francis</td>\n",
       "      <td>male</td>\n",
       "      <td>62.0</td>\n",
       "      <td>0</td>\n",
       "      <td>0</td>\n",
       "      <td>240276</td>\n",
       "      <td>9.6875</td>\n",
       "      <td>NaN</td>\n",
       "      <td>Q</td>\n",
       "    </tr>\n",
       "    <tr>\n",
       "      <th>3</th>\n",
       "      <td>895</td>\n",
       "      <td>3</td>\n",
       "      <td>Wirz, Mr. Albert</td>\n",
       "      <td>male</td>\n",
       "      <td>27.0</td>\n",
       "      <td>0</td>\n",
       "      <td>0</td>\n",
       "      <td>315154</td>\n",
       "      <td>8.6625</td>\n",
       "      <td>NaN</td>\n",
       "      <td>S</td>\n",
       "    </tr>\n",
       "    <tr>\n",
       "      <th>4</th>\n",
       "      <td>896</td>\n",
       "      <td>3</td>\n",
       "      <td>Hirvonen, Mrs. Alexander (Helga E Lindqvist)</td>\n",
       "      <td>female</td>\n",
       "      <td>22.0</td>\n",
       "      <td>1</td>\n",
       "      <td>1</td>\n",
       "      <td>3101298</td>\n",
       "      <td>12.2875</td>\n",
       "      <td>NaN</td>\n",
       "      <td>S</td>\n",
       "    </tr>\n",
       "  </tbody>\n",
       "</table>\n",
       "</div>"
      ],
      "text/plain": [
       "   PassengerId  Pclass                                          Name     Sex  \\\n",
       "0          892       3                              Kelly, Mr. James    male   \n",
       "1          893       3              Wilkes, Mrs. James (Ellen Needs)  female   \n",
       "2          894       2                     Myles, Mr. Thomas Francis    male   \n",
       "3          895       3                              Wirz, Mr. Albert    male   \n",
       "4          896       3  Hirvonen, Mrs. Alexander (Helga E Lindqvist)  female   \n",
       "\n",
       "    Age  SibSp  Parch   Ticket     Fare Cabin Embarked  \n",
       "0  34.5      0      0   330911   7.8292   NaN        Q  \n",
       "1  47.0      1      0   363272   7.0000   NaN        S  \n",
       "2  62.0      0      0   240276   9.6875   NaN        Q  \n",
       "3  27.0      0      0   315154   8.6625   NaN        S  \n",
       "4  22.0      1      1  3101298  12.2875   NaN        S  "
      ]
     },
     "execution_count": 5,
     "metadata": {},
     "output_type": "execute_result"
    }
   ],
   "source": [
    "test.head()"
   ]
  },
  {
   "cell_type": "code",
   "execution_count": 6,
   "metadata": {
    "cell_id": "00005-cb130e6c-5c1b-432d-b335-e22eee059349",
    "deepnote_cell_type": "code",
    "deepnote_to_be_reexecuted": false,
    "execution_millis": 21,
    "execution_start": 1632996509633,
    "id": "h3q2UPx4L8LT",
    "outputId": "d118ec8a-dd45-4946-ec98-efe9737a1228",
    "source_hash": "8006965d"
   },
   "outputs": [
    {
     "data": {
      "text/html": [
       "<div>\n",
       "<style scoped>\n",
       "    .dataframe tbody tr th:only-of-type {\n",
       "        vertical-align: middle;\n",
       "    }\n",
       "\n",
       "    .dataframe tbody tr th {\n",
       "        vertical-align: top;\n",
       "    }\n",
       "\n",
       "    .dataframe thead th {\n",
       "        text-align: right;\n",
       "    }\n",
       "</style>\n",
       "<table border=\"1\" class=\"dataframe\">\n",
       "  <thead>\n",
       "    <tr style=\"text-align: right;\">\n",
       "      <th></th>\n",
       "      <th>PassengerId</th>\n",
       "      <th>Survived</th>\n",
       "    </tr>\n",
       "  </thead>\n",
       "  <tbody>\n",
       "    <tr>\n",
       "      <th>0</th>\n",
       "      <td>892</td>\n",
       "      <td>0</td>\n",
       "    </tr>\n",
       "    <tr>\n",
       "      <th>1</th>\n",
       "      <td>893</td>\n",
       "      <td>1</td>\n",
       "    </tr>\n",
       "    <tr>\n",
       "      <th>2</th>\n",
       "      <td>894</td>\n",
       "      <td>0</td>\n",
       "    </tr>\n",
       "    <tr>\n",
       "      <th>3</th>\n",
       "      <td>895</td>\n",
       "      <td>0</td>\n",
       "    </tr>\n",
       "    <tr>\n",
       "      <th>4</th>\n",
       "      <td>896</td>\n",
       "      <td>1</td>\n",
       "    </tr>\n",
       "  </tbody>\n",
       "</table>\n",
       "</div>"
      ],
      "text/plain": [
       "   PassengerId  Survived\n",
       "0          892         0\n",
       "1          893         1\n",
       "2          894         0\n",
       "3          895         0\n",
       "4          896         1"
      ]
     },
     "execution_count": 6,
     "metadata": {},
     "output_type": "execute_result"
    }
   ],
   "source": [
    "sub.head()"
   ]
  },
  {
   "cell_type": "markdown",
   "metadata": {
    "cell_id": "00006-7102b8ab-88a5-4268-9b6d-faf1bf8629e6",
    "deepnote_cell_type": "markdown",
    "id": "a3WZ8xENL8LT"
   },
   "source": [
    "## Fill NAs"
   ]
  },
  {
   "cell_type": "code",
   "execution_count": 7,
   "metadata": {
    "cell_id": "00007-685a18b5-5908-4902-ad61-495d68c53892",
    "deepnote_cell_type": "code",
    "deepnote_to_be_reexecuted": false,
    "execution_millis": 22,
    "execution_start": 1632996509649,
    "id": "tdAymjDdL8LW",
    "outputId": "e364a0da-8681-4d40-ed6b-69c2f9848a41",
    "source_hash": "a5af19a1"
   },
   "outputs": [
    {
     "data": {
      "text/plain": [
       "True"
      ]
     },
     "execution_count": 7,
     "metadata": {},
     "output_type": "execute_result"
    }
   ],
   "source": [
    "sub.PassengerId.to_list() == test.PassengerId.to_list()"
   ]
  },
  {
   "cell_type": "code",
   "execution_count": 8,
   "metadata": {
    "cell_id": "00008-75ec754c-b4bf-40f7-8bc9-169c96ebf3db",
    "deepnote_cell_type": "code",
    "deepnote_to_be_reexecuted": false,
    "execution_millis": 8,
    "execution_start": 1632996509706,
    "id": "vNCmsqVpL8LX",
    "outputId": "33f9b89c-3972-4ad9-b143-2e53ec84a2c7",
    "source_hash": "993ab2a5"
   },
   "outputs": [
    {
     "data": {
      "text/plain": [
       "PassengerId      0\n",
       "Survived         0\n",
       "Pclass           0\n",
       "Name             0\n",
       "Sex              0\n",
       "Age            177\n",
       "SibSp            0\n",
       "Parch            0\n",
       "Ticket           0\n",
       "Fare             0\n",
       "Cabin          687\n",
       "Embarked         2\n",
       "dtype: int64"
      ]
     },
     "execution_count": 8,
     "metadata": {},
     "output_type": "execute_result"
    }
   ],
   "source": [
    "train.isna().sum()"
   ]
  },
  {
   "cell_type": "code",
   "execution_count": 9,
   "metadata": {
    "cell_id": "00009-94803e1d-1186-4925-9fa2-0eaeb5fe6664",
    "deepnote_cell_type": "code",
    "deepnote_to_be_reexecuted": false,
    "execution_millis": 47,
    "execution_start": 1632996509707,
    "id": "yxA5GohOXo4R",
    "source_hash": "32a81af8",
    "tags": []
   },
   "outputs": [],
   "source": [
    "g1 = train[(train['Parch']==0)&(train['SibSp']==0)&(train['Pclass']==1)]['Age']\n",
    "g2 = train[((train['Parch']!=0)|(train['SibSp']!=0))&(train['Pclass']==1)]['Age']\n",
    "g3 = train[(train['Parch']==0)&(train['SibSp']==0)&(train['Pclass']==2)]['Age']\n",
    "g4 = train[((train['Parch']!=0)|(train['SibSp']!=0))&(train['Pclass']==2)]['Age']\n",
    "g5 = train[(train['Parch']==0)&(train['SibSp']==0)&(train['Pclass']==3)]['Age']\n",
    "g6 = train[((train['Parch']!=0)|(train['SibSp']!=0))&(train['Pclass']==3)]['Age']\n",
    "av1 = np.mean(g1)\n",
    "av2 = np.mean(g2)\n",
    "av3 = np.mean(g3)\n",
    "av4 = np.mean(g4)\n",
    "av5 = np.mean(g5)\n",
    "av6 = np.mean(g6)"
   ]
  },
  {
   "cell_type": "code",
   "execution_count": 10,
   "metadata": {
    "cell_id": "00009-9c5ce7b0-6835-44df-8db9-9b9386e1284a",
    "deepnote_cell_type": "code",
    "deepnote_to_be_reexecuted": false,
    "execution_millis": 0,
    "execution_start": 1632996509755,
    "id": "U5lUBdPML8LY",
    "source_hash": "d6bd6e7d"
   },
   "outputs": [],
   "source": [
    "## fill age\n",
    "train['Age'] = np.where(\n",
    "    (train['Age'].isna()) & (train['Parch']==0) & (train['SibSp']==0) & (train['Pclass']==1), av1, train['Age'])\n",
    "\n",
    "train['Age'] = np.where(\n",
    "    (train['Age'].isna()) & (train['Parch']==0) & (train['SibSp']==0) & (train['Pclass']==2), av3, train['Age'])\n",
    "\n",
    "train['Age'] = np.where(\n",
    "    (train['Age'].isna()) & (train['Parch']==0) & (train['SibSp']==0) & (train['Pclass']==3), av5, train['Age'])\n",
    "\n",
    "train['Age'] = np.where(\n",
    "    (train['Age'].isna()) & ((train['Parch']!=0)|(train['SibSp']!=0))&(train['Pclass']==1), av2, train['Age'])\n",
    "\n",
    "train['Age'] = np.where(\n",
    "    (train['Age'].isna()) & ((train['Parch']!=0)|(train['SibSp']!=0))&(train['Pclass']==2), av4, train['Age'])\n",
    "\n",
    "train['Age'] = np.where(\n",
    "    (train['Age'].isna()) & ((train['Parch']!=0)|(train['SibSp']!=0))&(train['Pclass']==3), av6, train['Age'])\n",
    "\n"
   ]
  },
  {
   "cell_type": "code",
   "execution_count": 11,
   "metadata": {
    "cell_id": "00011-86d80c3c-9bf0-46a8-bfd8-fcd594a05137",
    "deepnote_cell_type": "code",
    "deepnote_to_be_reexecuted": false,
    "execution_millis": 0,
    "execution_start": 1632996509756,
    "id": "-U00gDbQXo4S",
    "source_hash": "df085531",
    "tags": []
   },
   "outputs": [],
   "source": [
    "train.Cabin = train.Cabin.fillna('Unknown')"
   ]
  },
  {
   "cell_type": "code",
   "execution_count": 12,
   "metadata": {
    "cell_id": "00012-9c9880d8-a680-4595-ab75-871c51519170",
    "deepnote_cell_type": "code",
    "deepnote_to_be_reexecuted": false,
    "execution_millis": 9,
    "execution_start": 1632996509794,
    "id": "B4A1oH2CXo4S",
    "outputId": "796b5873-48fe-46fe-b471-d5c52acb3f8d",
    "source_hash": "6939d7d6",
    "tags": []
   },
   "outputs": [
    {
     "data": {
      "text/plain": [
       "S    23\n",
       "C    22\n",
       "Name: Embarked, dtype: int64"
      ]
     },
     "execution_count": 12,
     "metadata": {},
     "output_type": "execute_result"
    }
   ],
   "source": [
    "train[(train['Cabin'].str[0]=='B')]['Embarked'].value_counts()"
   ]
  },
  {
   "cell_type": "code",
   "execution_count": 13,
   "metadata": {
    "cell_id": "00011-f1bea979-0ba1-4014-9120-1990f735b9fa",
    "deepnote_cell_type": "code",
    "deepnote_to_be_reexecuted": false,
    "execution_millis": 0,
    "execution_start": 1632996509795,
    "id": "TKPV-6knL8LZ",
    "source_hash": "d89a7f51"
   },
   "outputs": [],
   "source": [
    "train.Embarked = train.Embarked.fillna('S')"
   ]
  },
  {
   "cell_type": "code",
   "execution_count": 14,
   "metadata": {
    "cell_id": "00012-30d65af5-4b9a-43b0-8dee-43aabc1bb6b0",
    "deepnote_cell_type": "code",
    "deepnote_to_be_reexecuted": false,
    "execution_millis": 8,
    "execution_start": 1632996509795,
    "id": "p9rYe51bL8LZ",
    "outputId": "8c937c87-7ae4-40d1-b302-5e3f7292ecf2",
    "source_hash": "993ab2a5"
   },
   "outputs": [
    {
     "data": {
      "text/plain": [
       "PassengerId    0\n",
       "Survived       0\n",
       "Pclass         0\n",
       "Name           0\n",
       "Sex            0\n",
       "Age            0\n",
       "SibSp          0\n",
       "Parch          0\n",
       "Ticket         0\n",
       "Fare           0\n",
       "Cabin          0\n",
       "Embarked       0\n",
       "dtype: int64"
      ]
     },
     "execution_count": 14,
     "metadata": {},
     "output_type": "execute_result"
    }
   ],
   "source": [
    "train.isna().sum()"
   ]
  },
  {
   "cell_type": "code",
   "execution_count": 15,
   "metadata": {
    "cell_id": "00013-fb329875-3f74-455d-97ae-92d29a1bf607",
    "deepnote_cell_type": "code",
    "deepnote_to_be_reexecuted": false,
    "execution_millis": 10,
    "execution_start": 1632996509806,
    "id": "SeDkvXVWL8La",
    "outputId": "4ad2cac7-4737-4aaa-dab0-e00fa0edb998",
    "source_hash": "5ddd71"
   },
   "outputs": [
    {
     "data": {
      "text/plain": [
       "PassengerId      0\n",
       "Pclass           0\n",
       "Name             0\n",
       "Sex              0\n",
       "Age             86\n",
       "SibSp            0\n",
       "Parch            0\n",
       "Ticket           0\n",
       "Fare             1\n",
       "Cabin          327\n",
       "Embarked         0\n",
       "dtype: int64"
      ]
     },
     "execution_count": 15,
     "metadata": {},
     "output_type": "execute_result"
    }
   ],
   "source": [
    "test.isna().sum()"
   ]
  },
  {
   "cell_type": "code",
   "execution_count": 16,
   "metadata": {
    "cell_id": "00015-ef240dfe-9c91-44c7-828e-2a9a0eed92ab",
    "deepnote_cell_type": "code",
    "deepnote_to_be_reexecuted": false,
    "execution_millis": 1,
    "execution_start": 1632996509904,
    "id": "bEqQqz_nXo4U",
    "source_hash": "43bea511",
    "tags": []
   },
   "outputs": [],
   "source": [
    "# fill test age\n",
    "g1 = test[(test['Parch']==0)&(test['SibSp']==0)&(test['Pclass']==1)]['Age']\n",
    "g2 = test[((test['Parch']!=0)|(test['SibSp']!=0))&(test['Pclass']==1)]['Age']\n",
    "g3 = test[(test['Parch']==0)&(test['SibSp']==0)&(test['Pclass']==2)]['Age']\n",
    "g4 = test[((test['Parch']!=0)|(test['SibSp']!=0))&(test['Pclass']==2)]['Age']\n",
    "g5 = test[(test['Parch']==0)&(test['SibSp']==0)&(test['Pclass']==3)]['Age']\n",
    "g6 = test[((test['Parch']!=0)|(test['SibSp']!=0))&(test['Pclass']==3)]['Age']\n",
    "av1 = np.mean(g1)\n",
    "av2 = np.mean(g2)\n",
    "av3 = np.mean(g3)\n",
    "av4 = np.mean(g4)\n",
    "av5 = np.mean(g5)\n",
    "av6 = np.mean(g6)\n",
    "\n",
    "test['Age'] = np.where(\n",
    "    (test['Age'].isna()) & (test['Parch']==0) & (test['SibSp']==0) & (test['Pclass']==1), av1, test['Age'])\n",
    "\n",
    "test['Age'] = np.where(\n",
    "    (test['Age'].isna()) & (test['Parch']==0) & (test['SibSp']==0) & (test['Pclass']==2), av3, test['Age'])\n",
    "\n",
    "test['Age'] = np.where(\n",
    "    (test['Age'].isna()) & (test['Parch']==0) & (test['SibSp']==0) & (test['Pclass']==3), av5, test['Age'])\n",
    "\n",
    "test['Age'] = np.where(\n",
    "    (test['Age'].isna()) & ((test['Parch']!=0)|(test['SibSp']!=0))&(test['Pclass']==1), av2, test['Age'])\n",
    "\n",
    "test['Age'] = np.where(\n",
    "    (test['Age'].isna()) & ((test['Parch']!=0)|(test['SibSp']!=0))&(test['Pclass']==2), av4, test['Age'])\n",
    "\n",
    "test['Age'] = np.where(\n",
    "    (test['Age'].isna()) & ((test['Parch']!=0)|(test['SibSp']!=0))&(test['Pclass']==3), av6, test['Age'])\n",
    "\n"
   ]
  },
  {
   "cell_type": "code",
   "execution_count": 17,
   "metadata": {
    "cell_id": "00016-60c65cf3-49a6-450d-9975-4b2a65b03369",
    "deepnote_cell_type": "code",
    "deepnote_to_be_reexecuted": false,
    "execution_millis": 0,
    "execution_start": 1632996509905,
    "id": "MB2awoAZXo4V",
    "source_hash": "fbfd031c",
    "tags": []
   },
   "outputs": [],
   "source": [
    "test.Cabin = test.Cabin.fillna('Unknown')"
   ]
  },
  {
   "cell_type": "code",
   "execution_count": 18,
   "metadata": {
    "cell_id": "00014-8e7d920a-444e-4f1c-ac4c-8970bf01cdce",
    "deepnote_cell_type": "code",
    "deepnote_to_be_reexecuted": false,
    "execution_millis": 890508,
    "execution_start": 1632996509935,
    "id": "qXE78YFAL8La",
    "source_hash": "3f260a06"
   },
   "outputs": [],
   "source": [
    "test.Fare = test.Fare.fillna(np.mean(test.Fare))"
   ]
  },
  {
   "cell_type": "code",
   "execution_count": 19,
   "metadata": {
    "cell_id": "00016-941db04a-bddb-4cf2-8152-52252679d089",
    "deepnote_cell_type": "code",
    "deepnote_to_be_reexecuted": false,
    "execution_millis": 890490,
    "execution_start": 1632996509935,
    "id": "aUve3QjaL8Lb",
    "outputId": "1c595adb-abaf-4dc5-d27f-c35e95a0be62",
    "source_hash": "5ddd71"
   },
   "outputs": [
    {
     "data": {
      "text/plain": [
       "PassengerId    0\n",
       "Pclass         0\n",
       "Name           0\n",
       "Sex            0\n",
       "Age            0\n",
       "SibSp          0\n",
       "Parch          0\n",
       "Ticket         0\n",
       "Fare           0\n",
       "Cabin          0\n",
       "Embarked       0\n",
       "dtype: int64"
      ]
     },
     "execution_count": 19,
     "metadata": {},
     "output_type": "execute_result"
    }
   ],
   "source": [
    "test.isna().sum()"
   ]
  },
  {
   "cell_type": "markdown",
   "metadata": {
    "cell_id": "00017-5eb44147-471c-4b66-933a-95975dc71113",
    "deepnote_cell_type": "markdown",
    "id": "h2PIVePFL8Lb"
   },
   "source": [
    "## Split folds"
   ]
  },
  {
   "cell_type": "code",
   "execution_count": 20,
   "metadata": {
    "cell_id": "00018-2057943a-18ff-4465-8201-3cacb4072d18",
    "deepnote_cell_type": "code",
    "deepnote_to_be_reexecuted": false,
    "execution_millis": 890476,
    "execution_start": 1632996509936,
    "id": "5I3enfm0L8Lb",
    "source_hash": "24dca851"
   },
   "outputs": [],
   "source": [
    "#do k fold validation\n",
    "skf = StratifiedKFold(n_splits=5, shuffle=True, random_state=42)"
   ]
  },
  {
   "cell_type": "code",
   "execution_count": 21,
   "metadata": {
    "cell_id": "00019-1a8bc0f7-c722-4f4e-b47f-3591ea10d93c",
    "deepnote_cell_type": "code",
    "deepnote_to_be_reexecuted": false,
    "execution_millis": 2,
    "execution_start": 1632996509941,
    "id": "-If6JDPdL8Lc",
    "source_hash": "1c5e0ec5"
   },
   "outputs": [],
   "source": [
    "train['fold'] = -999\n",
    "for fold_id, (train_index, valid_index) in enumerate(skf.split(X=train, y=train.Survived.values)):\n",
    "    train.loc[valid_index, 'fold'] = fold_id"
   ]
  },
  {
   "cell_type": "code",
   "execution_count": 22,
   "metadata": {
    "cell_id": "00020-f444298b-a3d5-4e52-9c58-4e760f820de9",
    "deepnote_cell_type": "code",
    "deepnote_to_be_reexecuted": false,
    "execution_millis": 1,
    "execution_start": 1632996509954,
    "id": "Joyy_7ckL8Lc",
    "outputId": "a54ea187-8deb-4b94-f9bb-5d48ec26a4f8",
    "source_hash": "487e4573"
   },
   "outputs": [
    {
     "data": {
      "text/plain": [
       "0    179\n",
       "1    178\n",
       "2    178\n",
       "3    178\n",
       "4    178\n",
       "Name: fold, dtype: int64"
      ]
     },
     "execution_count": 22,
     "metadata": {},
     "output_type": "execute_result"
    }
   ],
   "source": [
    "train.fold.value_counts()"
   ]
  },
  {
   "cell_type": "markdown",
   "metadata": {
    "cell_id": "00021-5ae58405-db26-4eed-9175-1eda0fac07a1",
    "deepnote_cell_type": "markdown",
    "id": "T1344bF7L8Lc"
   },
   "source": [
    "## Feature Engineering"
   ]
  },
  {
   "cell_type": "markdown",
   "metadata": {
    "cell_id": "00022-8c260542-7b70-4244-86a7-ddf9d3662249",
    "deepnote_cell_type": "markdown",
    "id": "LYTPFOJoL8Ld"
   },
   "source": [
    "#### 1. Name Title (Change the name to title and label encoding)"
   ]
  },
  {
   "cell_type": "code",
   "execution_count": 23,
   "metadata": {
    "cell_id": "00023-799a7313-1303-4cb4-ac00-60e6ceadabe1",
    "deepnote_cell_type": "code",
    "deepnote_to_be_reexecuted": false,
    "execution_millis": 3,
    "execution_start": 1632996510006,
    "id": "cEF-RnPjL8Ld",
    "source_hash": "409ebd00"
   },
   "outputs": [],
   "source": [
    "def find_title(entry):\n",
    "    pattern = r'[a-zA-Z]+\\.'\n",
    "    return re.findall(pattern, entry)[0][:-1]\n",
    "\n",
    "temp = train[['Name']]\n",
    "temp['title'] =  temp['Name'].apply(find_title)\n",
    "train = pd.merge(train, temp, on = 'Name')"
   ]
  },
  {
   "cell_type": "code",
   "execution_count": 24,
   "metadata": {
    "cell_id": "00024-83866958-ad97-4763-a5f8-b6103aa387d3",
    "deepnote_cell_type": "code",
    "deepnote_to_be_reexecuted": false,
    "execution_millis": 9,
    "execution_start": 1632996510007,
    "id": "RtmcRQTqL8Ld",
    "outputId": "1815893d-f316-48e9-8e42-5774ea20eb18",
    "source_hash": "dd94553e"
   },
   "outputs": [
    {
     "data": {
      "text/plain": [
       "Mr          517\n",
       "Miss        182\n",
       "Mrs         125\n",
       "Master       40\n",
       "Dr            7\n",
       "Rev           6\n",
       "Major         2\n",
       "Col           2\n",
       "Mlle          2\n",
       "Capt          1\n",
       "Don           1\n",
       "Ms            1\n",
       "Sir           1\n",
       "Countess      1\n",
       "Lady          1\n",
       "Mme           1\n",
       "Jonkheer      1\n",
       "Name: title, dtype: int64"
      ]
     },
     "execution_count": 24,
     "metadata": {},
     "output_type": "execute_result"
    }
   ],
   "source": [
    "train['title'].value_counts()"
   ]
  },
  {
   "cell_type": "code",
   "execution_count": 25,
   "metadata": {
    "cell_id": "00025-af83226c-c095-4ca9-a2e8-2ba481942f96",
    "deepnote_cell_type": "code",
    "deepnote_to_be_reexecuted": false,
    "execution_millis": 1,
    "execution_start": 1632996510007,
    "id": "EIQwa28AL8Le",
    "source_hash": "52e1e4a7"
   },
   "outputs": [],
   "source": [
    "def conversion_title(entry):\n",
    "    if entry == 'Miss':\n",
    "        return 'Miss'\n",
    "    elif entry == 'Mrs':\n",
    "        return 'Mrs'\n",
    "    elif entry == 'Mr':\n",
    "        return 'Mr'\n",
    "    elif entry == 'Master':\n",
    "        return 'Master'\n",
    "    elif entry == 'Dr':\n",
    "        return 'Dr'\n",
    "    elif entry == 'Rev':\n",
    "        return 'Rev'\n",
    "    else:\n",
    "        return 'ELSE'\n",
    "train['title'] = train['title'].apply(conversion_title)"
   ]
  },
  {
   "cell_type": "code",
   "execution_count": 26,
   "metadata": {
    "cell_id": "00027-e6a8131d-ecf7-49f1-862b-f37342340162",
    "deepnote_cell_type": "code",
    "deepnote_to_be_reexecuted": false,
    "execution_millis": 1,
    "execution_start": 1632996510027,
    "id": "cnORdZdvL8Le",
    "source_hash": "f26cfa94"
   },
   "outputs": [],
   "source": [
    "temp = test[['Name']]\n",
    "temp['title'] = temp['Name'].apply(find_title)\n",
    "test = pd.merge(test, temp, on = 'Name')\n",
    "test['title'] = test['title'].apply(conversion_title)"
   ]
  },
  {
   "cell_type": "code",
   "execution_count": 27,
   "metadata": {
    "cell_id": "00028-b0121297-87ac-4b65-a54f-9d3a1145102f",
    "deepnote_cell_type": "code",
    "deepnote_to_be_reexecuted": false,
    "execution_millis": 0,
    "execution_start": 1632996510074,
    "id": "6hGAyGeWL8Lf",
    "source_hash": "91dbab28"
   },
   "outputs": [],
   "source": [
    "train = train.drop('Name', axis=1)\n",
    "test = test.drop('Name', axis=1)"
   ]
  },
  {
   "cell_type": "code",
   "execution_count": 28,
   "metadata": {
    "cell_id": "00029-217f32de-b7c0-4f20-8434-4d03902eebc9",
    "deepnote_cell_type": "code",
    "deepnote_to_be_reexecuted": false,
    "execution_millis": 33,
    "execution_start": 1632996510075,
    "id": "hZqO0oG4L8Lf",
    "outputId": "fa0af483-7748-43f1-c8b3-f3fe8ee7e687",
    "source_hash": "e1f0b45"
   },
   "outputs": [
    {
     "data": {
      "text/html": [
       "<div>\n",
       "<style scoped>\n",
       "    .dataframe tbody tr th:only-of-type {\n",
       "        vertical-align: middle;\n",
       "    }\n",
       "\n",
       "    .dataframe tbody tr th {\n",
       "        vertical-align: top;\n",
       "    }\n",
       "\n",
       "    .dataframe thead th {\n",
       "        text-align: right;\n",
       "    }\n",
       "</style>\n",
       "<table border=\"1\" class=\"dataframe\">\n",
       "  <thead>\n",
       "    <tr style=\"text-align: right;\">\n",
       "      <th></th>\n",
       "      <th>PassengerId</th>\n",
       "      <th>Survived</th>\n",
       "      <th>Pclass</th>\n",
       "      <th>Sex</th>\n",
       "      <th>Age</th>\n",
       "      <th>SibSp</th>\n",
       "      <th>Parch</th>\n",
       "      <th>Ticket</th>\n",
       "      <th>Fare</th>\n",
       "      <th>Cabin</th>\n",
       "      <th>Embarked</th>\n",
       "      <th>fold</th>\n",
       "      <th>title</th>\n",
       "    </tr>\n",
       "  </thead>\n",
       "  <tbody>\n",
       "    <tr>\n",
       "      <th>0</th>\n",
       "      <td>1</td>\n",
       "      <td>0</td>\n",
       "      <td>3</td>\n",
       "      <td>male</td>\n",
       "      <td>22.0</td>\n",
       "      <td>1</td>\n",
       "      <td>0</td>\n",
       "      <td>A/5 21171</td>\n",
       "      <td>7.2500</td>\n",
       "      <td>Unknown</td>\n",
       "      <td>S</td>\n",
       "      <td>1</td>\n",
       "      <td>Mr</td>\n",
       "    </tr>\n",
       "    <tr>\n",
       "      <th>1</th>\n",
       "      <td>2</td>\n",
       "      <td>1</td>\n",
       "      <td>1</td>\n",
       "      <td>female</td>\n",
       "      <td>38.0</td>\n",
       "      <td>1</td>\n",
       "      <td>0</td>\n",
       "      <td>PC 17599</td>\n",
       "      <td>71.2833</td>\n",
       "      <td>C85</td>\n",
       "      <td>C</td>\n",
       "      <td>4</td>\n",
       "      <td>Mrs</td>\n",
       "    </tr>\n",
       "    <tr>\n",
       "      <th>2</th>\n",
       "      <td>3</td>\n",
       "      <td>1</td>\n",
       "      <td>3</td>\n",
       "      <td>female</td>\n",
       "      <td>26.0</td>\n",
       "      <td>0</td>\n",
       "      <td>0</td>\n",
       "      <td>STON/O2. 3101282</td>\n",
       "      <td>7.9250</td>\n",
       "      <td>Unknown</td>\n",
       "      <td>S</td>\n",
       "      <td>3</td>\n",
       "      <td>Miss</td>\n",
       "    </tr>\n",
       "    <tr>\n",
       "      <th>3</th>\n",
       "      <td>4</td>\n",
       "      <td>1</td>\n",
       "      <td>1</td>\n",
       "      <td>female</td>\n",
       "      <td>35.0</td>\n",
       "      <td>1</td>\n",
       "      <td>0</td>\n",
       "      <td>113803</td>\n",
       "      <td>53.1000</td>\n",
       "      <td>C123</td>\n",
       "      <td>S</td>\n",
       "      <td>3</td>\n",
       "      <td>Mrs</td>\n",
       "    </tr>\n",
       "    <tr>\n",
       "      <th>4</th>\n",
       "      <td>5</td>\n",
       "      <td>0</td>\n",
       "      <td>3</td>\n",
       "      <td>male</td>\n",
       "      <td>35.0</td>\n",
       "      <td>0</td>\n",
       "      <td>0</td>\n",
       "      <td>373450</td>\n",
       "      <td>8.0500</td>\n",
       "      <td>Unknown</td>\n",
       "      <td>S</td>\n",
       "      <td>0</td>\n",
       "      <td>Mr</td>\n",
       "    </tr>\n",
       "  </tbody>\n",
       "</table>\n",
       "</div>"
      ],
      "text/plain": [
       "   PassengerId  Survived  Pclass     Sex   Age  SibSp  Parch  \\\n",
       "0            1         0       3    male  22.0      1      0   \n",
       "1            2         1       1  female  38.0      1      0   \n",
       "2            3         1       3  female  26.0      0      0   \n",
       "3            4         1       1  female  35.0      1      0   \n",
       "4            5         0       3    male  35.0      0      0   \n",
       "\n",
       "             Ticket     Fare    Cabin Embarked  fold title  \n",
       "0         A/5 21171   7.2500  Unknown        S     1    Mr  \n",
       "1          PC 17599  71.2833      C85        C     4   Mrs  \n",
       "2  STON/O2. 3101282   7.9250  Unknown        S     3  Miss  \n",
       "3            113803  53.1000     C123        S     3   Mrs  \n",
       "4            373450   8.0500  Unknown        S     0    Mr  "
      ]
     },
     "execution_count": 28,
     "metadata": {},
     "output_type": "execute_result"
    }
   ],
   "source": [
    "train.head()"
   ]
  },
  {
   "cell_type": "code",
   "execution_count": 29,
   "metadata": {
    "cell_id": "00030-59a91fda-3607-48e2-9a47-b00ef68508bc",
    "deepnote_cell_type": "code",
    "deepnote_to_be_reexecuted": false,
    "execution_millis": 29,
    "execution_start": 1632996510158,
    "id": "5tCHT0PJL8Lf",
    "outputId": "689a3400-db7c-4e3f-c662-f716398d61d1",
    "source_hash": "476785e4"
   },
   "outputs": [
    {
     "data": {
      "text/html": [
       "<div>\n",
       "<style scoped>\n",
       "    .dataframe tbody tr th:only-of-type {\n",
       "        vertical-align: middle;\n",
       "    }\n",
       "\n",
       "    .dataframe tbody tr th {\n",
       "        vertical-align: top;\n",
       "    }\n",
       "\n",
       "    .dataframe thead th {\n",
       "        text-align: right;\n",
       "    }\n",
       "</style>\n",
       "<table border=\"1\" class=\"dataframe\">\n",
       "  <thead>\n",
       "    <tr style=\"text-align: right;\">\n",
       "      <th></th>\n",
       "      <th>PassengerId</th>\n",
       "      <th>Pclass</th>\n",
       "      <th>Sex</th>\n",
       "      <th>Age</th>\n",
       "      <th>SibSp</th>\n",
       "      <th>Parch</th>\n",
       "      <th>Ticket</th>\n",
       "      <th>Fare</th>\n",
       "      <th>Cabin</th>\n",
       "      <th>Embarked</th>\n",
       "      <th>title</th>\n",
       "    </tr>\n",
       "  </thead>\n",
       "  <tbody>\n",
       "    <tr>\n",
       "      <th>0</th>\n",
       "      <td>892</td>\n",
       "      <td>3</td>\n",
       "      <td>male</td>\n",
       "      <td>34.5</td>\n",
       "      <td>0</td>\n",
       "      <td>0</td>\n",
       "      <td>330911</td>\n",
       "      <td>7.8292</td>\n",
       "      <td>Unknown</td>\n",
       "      <td>Q</td>\n",
       "      <td>Mr</td>\n",
       "    </tr>\n",
       "    <tr>\n",
       "      <th>1</th>\n",
       "      <td>893</td>\n",
       "      <td>3</td>\n",
       "      <td>female</td>\n",
       "      <td>47.0</td>\n",
       "      <td>1</td>\n",
       "      <td>0</td>\n",
       "      <td>363272</td>\n",
       "      <td>7.0000</td>\n",
       "      <td>Unknown</td>\n",
       "      <td>S</td>\n",
       "      <td>Mrs</td>\n",
       "    </tr>\n",
       "    <tr>\n",
       "      <th>2</th>\n",
       "      <td>894</td>\n",
       "      <td>2</td>\n",
       "      <td>male</td>\n",
       "      <td>62.0</td>\n",
       "      <td>0</td>\n",
       "      <td>0</td>\n",
       "      <td>240276</td>\n",
       "      <td>9.6875</td>\n",
       "      <td>Unknown</td>\n",
       "      <td>Q</td>\n",
       "      <td>Mr</td>\n",
       "    </tr>\n",
       "    <tr>\n",
       "      <th>3</th>\n",
       "      <td>895</td>\n",
       "      <td>3</td>\n",
       "      <td>male</td>\n",
       "      <td>27.0</td>\n",
       "      <td>0</td>\n",
       "      <td>0</td>\n",
       "      <td>315154</td>\n",
       "      <td>8.6625</td>\n",
       "      <td>Unknown</td>\n",
       "      <td>S</td>\n",
       "      <td>Mr</td>\n",
       "    </tr>\n",
       "    <tr>\n",
       "      <th>4</th>\n",
       "      <td>896</td>\n",
       "      <td>3</td>\n",
       "      <td>female</td>\n",
       "      <td>22.0</td>\n",
       "      <td>1</td>\n",
       "      <td>1</td>\n",
       "      <td>3101298</td>\n",
       "      <td>12.2875</td>\n",
       "      <td>Unknown</td>\n",
       "      <td>S</td>\n",
       "      <td>Mrs</td>\n",
       "    </tr>\n",
       "  </tbody>\n",
       "</table>\n",
       "</div>"
      ],
      "text/plain": [
       "   PassengerId  Pclass     Sex   Age  SibSp  Parch   Ticket     Fare    Cabin  \\\n",
       "0          892       3    male  34.5      0      0   330911   7.8292  Unknown   \n",
       "1          893       3  female  47.0      1      0   363272   7.0000  Unknown   \n",
       "2          894       2    male  62.0      0      0   240276   9.6875  Unknown   \n",
       "3          895       3    male  27.0      0      0   315154   8.6625  Unknown   \n",
       "4          896       3  female  22.0      1      1  3101298  12.2875  Unknown   \n",
       "\n",
       "  Embarked title  \n",
       "0        Q    Mr  \n",
       "1        S   Mrs  \n",
       "2        Q    Mr  \n",
       "3        S    Mr  \n",
       "4        S   Mrs  "
      ]
     },
     "execution_count": 29,
     "metadata": {},
     "output_type": "execute_result"
    }
   ],
   "source": [
    "test.head()"
   ]
  },
  {
   "cell_type": "markdown",
   "metadata": {
    "cell_id": "00031-94a1a15e-e398-4365-9255-74ee214f54ab",
    "deepnote_cell_type": "markdown",
    "id": "gjrKELvUL8Lg"
   },
   "source": [
    "#### 2.  Cut the Age and Fare column to different bins "
   ]
  },
  {
   "cell_type": "code",
   "execution_count": 30,
   "metadata": {
    "cell_id": "00032-4fcaacb5-1371-419c-8b00-044430b44ef7",
    "deepnote_cell_type": "code",
    "deepnote_to_be_reexecuted": false,
    "execution_millis": 22,
    "execution_start": 1632996510250,
    "id": "ITZU1O6ZL8Lg",
    "outputId": "9d0bafce-e405-49cc-dab2-a36f4ea2d5f2",
    "source_hash": "3dc5e06b"
   },
   "outputs": [
    {
     "data": {
      "text/html": [
       "<div>\n",
       "<style scoped>\n",
       "    .dataframe tbody tr th:only-of-type {\n",
       "        vertical-align: middle;\n",
       "    }\n",
       "\n",
       "    .dataframe tbody tr th {\n",
       "        vertical-align: top;\n",
       "    }\n",
       "\n",
       "    .dataframe thead th {\n",
       "        text-align: right;\n",
       "    }\n",
       "</style>\n",
       "<table border=\"1\" class=\"dataframe\">\n",
       "  <thead>\n",
       "    <tr style=\"text-align: right;\">\n",
       "      <th></th>\n",
       "      <th>PassengerId</th>\n",
       "      <th>Survived</th>\n",
       "      <th>Pclass</th>\n",
       "      <th>Age</th>\n",
       "      <th>SibSp</th>\n",
       "      <th>Parch</th>\n",
       "      <th>Fare</th>\n",
       "      <th>fold</th>\n",
       "    </tr>\n",
       "  </thead>\n",
       "  <tbody>\n",
       "    <tr>\n",
       "      <th>count</th>\n",
       "      <td>891.000000</td>\n",
       "      <td>891.000000</td>\n",
       "      <td>891.000000</td>\n",
       "      <td>891.000000</td>\n",
       "      <td>891.000000</td>\n",
       "      <td>891.000000</td>\n",
       "      <td>891.000000</td>\n",
       "      <td>891.000000</td>\n",
       "    </tr>\n",
       "    <tr>\n",
       "      <th>mean</th>\n",
       "      <td>446.000000</td>\n",
       "      <td>0.383838</td>\n",
       "      <td>2.308642</td>\n",
       "      <td>29.514790</td>\n",
       "      <td>0.523008</td>\n",
       "      <td>0.381594</td>\n",
       "      <td>32.204208</td>\n",
       "      <td>1.997755</td>\n",
       "    </tr>\n",
       "    <tr>\n",
       "      <th>std</th>\n",
       "      <td>257.353842</td>\n",
       "      <td>0.486592</td>\n",
       "      <td>0.836071</td>\n",
       "      <td>13.309636</td>\n",
       "      <td>1.102743</td>\n",
       "      <td>0.806057</td>\n",
       "      <td>49.693429</td>\n",
       "      <td>1.415800</td>\n",
       "    </tr>\n",
       "    <tr>\n",
       "      <th>min</th>\n",
       "      <td>1.000000</td>\n",
       "      <td>0.000000</td>\n",
       "      <td>1.000000</td>\n",
       "      <td>0.420000</td>\n",
       "      <td>0.000000</td>\n",
       "      <td>0.000000</td>\n",
       "      <td>0.000000</td>\n",
       "      <td>0.000000</td>\n",
       "    </tr>\n",
       "    <tr>\n",
       "      <th>25%</th>\n",
       "      <td>223.500000</td>\n",
       "      <td>0.000000</td>\n",
       "      <td>2.000000</td>\n",
       "      <td>21.000000</td>\n",
       "      <td>0.000000</td>\n",
       "      <td>0.000000</td>\n",
       "      <td>7.910400</td>\n",
       "      <td>1.000000</td>\n",
       "    </tr>\n",
       "    <tr>\n",
       "      <th>50%</th>\n",
       "      <td>446.000000</td>\n",
       "      <td>0.000000</td>\n",
       "      <td>3.000000</td>\n",
       "      <td>28.235556</td>\n",
       "      <td>0.000000</td>\n",
       "      <td>0.000000</td>\n",
       "      <td>14.454200</td>\n",
       "      <td>2.000000</td>\n",
       "    </tr>\n",
       "    <tr>\n",
       "      <th>75%</th>\n",
       "      <td>668.500000</td>\n",
       "      <td>1.000000</td>\n",
       "      <td>3.000000</td>\n",
       "      <td>36.000000</td>\n",
       "      <td>1.000000</td>\n",
       "      <td>0.000000</td>\n",
       "      <td>31.000000</td>\n",
       "      <td>3.000000</td>\n",
       "    </tr>\n",
       "    <tr>\n",
       "      <th>max</th>\n",
       "      <td>891.000000</td>\n",
       "      <td>1.000000</td>\n",
       "      <td>3.000000</td>\n",
       "      <td>80.000000</td>\n",
       "      <td>8.000000</td>\n",
       "      <td>6.000000</td>\n",
       "      <td>512.329200</td>\n",
       "      <td>4.000000</td>\n",
       "    </tr>\n",
       "  </tbody>\n",
       "</table>\n",
       "</div>"
      ],
      "text/plain": [
       "       PassengerId    Survived      Pclass         Age       SibSp  \\\n",
       "count   891.000000  891.000000  891.000000  891.000000  891.000000   \n",
       "mean    446.000000    0.383838    2.308642   29.514790    0.523008   \n",
       "std     257.353842    0.486592    0.836071   13.309636    1.102743   \n",
       "min       1.000000    0.000000    1.000000    0.420000    0.000000   \n",
       "25%     223.500000    0.000000    2.000000   21.000000    0.000000   \n",
       "50%     446.000000    0.000000    3.000000   28.235556    0.000000   \n",
       "75%     668.500000    1.000000    3.000000   36.000000    1.000000   \n",
       "max     891.000000    1.000000    3.000000   80.000000    8.000000   \n",
       "\n",
       "            Parch        Fare        fold  \n",
       "count  891.000000  891.000000  891.000000  \n",
       "mean     0.381594   32.204208    1.997755  \n",
       "std      0.806057   49.693429    1.415800  \n",
       "min      0.000000    0.000000    0.000000  \n",
       "25%      0.000000    7.910400    1.000000  \n",
       "50%      0.000000   14.454200    2.000000  \n",
       "75%      0.000000   31.000000    3.000000  \n",
       "max      6.000000  512.329200    4.000000  "
      ]
     },
     "execution_count": 30,
     "metadata": {},
     "output_type": "execute_result"
    }
   ],
   "source": [
    "train.describe()"
   ]
  },
  {
   "cell_type": "code",
   "execution_count": 31,
   "metadata": {
    "cell_id": "00033-0bec4f3e-4673-487e-b617-e282c0ac8748",
    "deepnote_cell_type": "code",
    "deepnote_to_be_reexecuted": false,
    "execution_millis": 44,
    "execution_start": 1632996510310,
    "id": "JZHRSCG0L8Lg",
    "outputId": "d10633bc-89b7-4977-cc20-240f3dd7880d",
    "source_hash": "9782bf47"
   },
   "outputs": [
    {
     "data": {
      "text/html": [
       "<div>\n",
       "<style scoped>\n",
       "    .dataframe tbody tr th:only-of-type {\n",
       "        vertical-align: middle;\n",
       "    }\n",
       "\n",
       "    .dataframe tbody tr th {\n",
       "        vertical-align: top;\n",
       "    }\n",
       "\n",
       "    .dataframe thead th {\n",
       "        text-align: right;\n",
       "    }\n",
       "</style>\n",
       "<table border=\"1\" class=\"dataframe\">\n",
       "  <thead>\n",
       "    <tr style=\"text-align: right;\">\n",
       "      <th></th>\n",
       "      <th>PassengerId</th>\n",
       "      <th>Pclass</th>\n",
       "      <th>Age</th>\n",
       "      <th>SibSp</th>\n",
       "      <th>Parch</th>\n",
       "      <th>Fare</th>\n",
       "    </tr>\n",
       "  </thead>\n",
       "  <tbody>\n",
       "    <tr>\n",
       "      <th>count</th>\n",
       "      <td>418.000000</td>\n",
       "      <td>418.000000</td>\n",
       "      <td>418.000000</td>\n",
       "      <td>418.000000</td>\n",
       "      <td>418.000000</td>\n",
       "      <td>418.000000</td>\n",
       "    </tr>\n",
       "    <tr>\n",
       "      <th>mean</th>\n",
       "      <td>1100.500000</td>\n",
       "      <td>2.265550</td>\n",
       "      <td>29.471072</td>\n",
       "      <td>0.447368</td>\n",
       "      <td>0.392344</td>\n",
       "      <td>35.627188</td>\n",
       "    </tr>\n",
       "    <tr>\n",
       "      <th>std</th>\n",
       "      <td>120.810458</td>\n",
       "      <td>0.841838</td>\n",
       "      <td>12.949363</td>\n",
       "      <td>0.896760</td>\n",
       "      <td>0.981429</td>\n",
       "      <td>55.840500</td>\n",
       "    </tr>\n",
       "    <tr>\n",
       "      <th>min</th>\n",
       "      <td>892.000000</td>\n",
       "      <td>1.000000</td>\n",
       "      <td>0.170000</td>\n",
       "      <td>0.000000</td>\n",
       "      <td>0.000000</td>\n",
       "      <td>0.000000</td>\n",
       "    </tr>\n",
       "    <tr>\n",
       "      <th>25%</th>\n",
       "      <td>996.250000</td>\n",
       "      <td>1.000000</td>\n",
       "      <td>21.250000</td>\n",
       "      <td>0.000000</td>\n",
       "      <td>0.000000</td>\n",
       "      <td>7.895800</td>\n",
       "    </tr>\n",
       "    <tr>\n",
       "      <th>50%</th>\n",
       "      <td>1100.500000</td>\n",
       "      <td>3.000000</td>\n",
       "      <td>26.121053</td>\n",
       "      <td>0.000000</td>\n",
       "      <td>0.000000</td>\n",
       "      <td>14.454200</td>\n",
       "    </tr>\n",
       "    <tr>\n",
       "      <th>75%</th>\n",
       "      <td>1204.750000</td>\n",
       "      <td>3.000000</td>\n",
       "      <td>36.375000</td>\n",
       "      <td>1.000000</td>\n",
       "      <td>0.000000</td>\n",
       "      <td>31.500000</td>\n",
       "    </tr>\n",
       "    <tr>\n",
       "      <th>max</th>\n",
       "      <td>1309.000000</td>\n",
       "      <td>3.000000</td>\n",
       "      <td>76.000000</td>\n",
       "      <td>8.000000</td>\n",
       "      <td>9.000000</td>\n",
       "      <td>512.329200</td>\n",
       "    </tr>\n",
       "  </tbody>\n",
       "</table>\n",
       "</div>"
      ],
      "text/plain": [
       "       PassengerId      Pclass         Age       SibSp       Parch        Fare\n",
       "count   418.000000  418.000000  418.000000  418.000000  418.000000  418.000000\n",
       "mean   1100.500000    2.265550   29.471072    0.447368    0.392344   35.627188\n",
       "std     120.810458    0.841838   12.949363    0.896760    0.981429   55.840500\n",
       "min     892.000000    1.000000    0.170000    0.000000    0.000000    0.000000\n",
       "25%     996.250000    1.000000   21.250000    0.000000    0.000000    7.895800\n",
       "50%    1100.500000    3.000000   26.121053    0.000000    0.000000   14.454200\n",
       "75%    1204.750000    3.000000   36.375000    1.000000    0.000000   31.500000\n",
       "max    1309.000000    3.000000   76.000000    8.000000    9.000000  512.329200"
      ]
     },
     "execution_count": 31,
     "metadata": {},
     "output_type": "execute_result"
    }
   ],
   "source": [
    "test.describe()"
   ]
  },
  {
   "cell_type": "code",
   "execution_count": 32,
   "metadata": {
    "cell_id": "00034-3fd4d624-6473-4c32-9606-ac43916c85cf",
    "deepnote_cell_type": "code",
    "deepnote_to_be_reexecuted": false,
    "execution_millis": 650,
    "execution_start": 1632996510406,
    "id": "bj05OudtL8Lg",
    "outputId": "b29e5592-6e9b-4afd-c218-169a7b3b1734",
    "source_hash": "1d7bed19"
   },
   "outputs": [
    {
     "data": {
      "image/png": "[encoded data removed]",
      "text/plain": [
       "<Figure size 360x360 with 1 Axes>"
      ]
     },
     "metadata": {
      "needs_background": "light"
     },
     "output_type": "display_data"
    }
   ],
   "source": [
    "# add age range (threshold)\n",
    "sns.lmplot('Age', 'Survived', data=train, y_jitter=0.03)\n",
    "sur = train[train['Survived']==1][['Age']]\n",
    "dead = train[train['Survived']==0][['Age']]\n",
    "np.mean(sur), sur.quantile(0.25), sur.quantile(0.75)\n",
    "np.mean(dead), dead.quantile(0.25), dead.quantile(0.75)\n",
    "\n",
    "def age_threshold(entry):\n",
    "    if entry<16:\n",
    "        return 0\n",
    "    elif entry<32:\n",
    "        return 1\n",
    "    elif entry<48:\n",
    "        return 2\n",
    "    elif entry<65:\n",
    "        return 3\n",
    "    else:\n",
    "        return 4\n",
    "\n",
    "train['Age'] = train['Age'].apply(age_threshold)\n",
    "test['Age'] = test['Age'].apply(age_threshold)"
   ]
  },
  {
   "cell_type": "code",
   "execution_count": 33,
   "metadata": {
    "cell_id": "00035-65b4fdeb-3751-4299-96e4-bdb179eb984e",
    "deepnote_cell_type": "code",
    "deepnote_to_be_reexecuted": false,
    "execution_millis": 2,
    "execution_start": 1632996511059,
    "id": "Bmeb81lqL8Lg",
    "source_hash": "49d7a6c3"
   },
   "outputs": [],
   "source": [
    "def fare_weight_range(entry):\n",
    "    if entry <= 7.9:\n",
    "        return 0\n",
    "    elif entry <= 14.5:\n",
    "        return 1\n",
    "    elif entry <= 31:\n",
    "        return 2\n",
    "    else:\n",
    "        return 3\n",
    "train['Fare'] = train['Fare'].apply(fare_weight_range)\n",
    "test['Fare'] = test['Fare'].apply(fare_weight_range)"
   ]
  },
  {
   "cell_type": "code",
   "execution_count": 34,
   "metadata": {
    "cell_id": "00039-61de1fdb-e34a-4fc8-9f1f-10edb23bc314",
    "deepnote_cell_type": "code",
    "deepnote_to_be_reexecuted": false,
    "execution_millis": 66,
    "execution_start": 1632996511115,
    "id": "wlxyGbAVL8Lh",
    "outputId": "503aeacc-d60a-40d9-c3d4-28f35628cc63",
    "source_hash": "e1f0b45"
   },
   "outputs": [
    {
     "data": {
      "text/html": [
       "<div>\n",
       "<style scoped>\n",
       "    .dataframe tbody tr th:only-of-type {\n",
       "        vertical-align: middle;\n",
       "    }\n",
       "\n",
       "    .dataframe tbody tr th {\n",
       "        vertical-align: top;\n",
       "    }\n",
       "\n",
       "    .dataframe thead th {\n",
       "        text-align: right;\n",
       "    }\n",
       "</style>\n",
       "<table border=\"1\" class=\"dataframe\">\n",
       "  <thead>\n",
       "    <tr style=\"text-align: right;\">\n",
       "      <th></th>\n",
       "      <th>PassengerId</th>\n",
       "      <th>Survived</th>\n",
       "      <th>Pclass</th>\n",
       "      <th>Sex</th>\n",
       "      <th>Age</th>\n",
       "      <th>SibSp</th>\n",
       "      <th>Parch</th>\n",
       "      <th>Ticket</th>\n",
       "      <th>Fare</th>\n",
       "      <th>Cabin</th>\n",
       "      <th>Embarked</th>\n",
       "      <th>fold</th>\n",
       "      <th>title</th>\n",
       "    </tr>\n",
       "  </thead>\n",
       "  <tbody>\n",
       "    <tr>\n",
       "      <th>0</th>\n",
       "      <td>1</td>\n",
       "      <td>0</td>\n",
       "      <td>3</td>\n",
       "      <td>male</td>\n",
       "      <td>1</td>\n",
       "      <td>1</td>\n",
       "      <td>0</td>\n",
       "      <td>A/5 21171</td>\n",
       "      <td>0</td>\n",
       "      <td>Unknown</td>\n",
       "      <td>S</td>\n",
       "      <td>1</td>\n",
       "      <td>Mr</td>\n",
       "    </tr>\n",
       "    <tr>\n",
       "      <th>1</th>\n",
       "      <td>2</td>\n",
       "      <td>1</td>\n",
       "      <td>1</td>\n",
       "      <td>female</td>\n",
       "      <td>2</td>\n",
       "      <td>1</td>\n",
       "      <td>0</td>\n",
       "      <td>PC 17599</td>\n",
       "      <td>3</td>\n",
       "      <td>C85</td>\n",
       "      <td>C</td>\n",
       "      <td>4</td>\n",
       "      <td>Mrs</td>\n",
       "    </tr>\n",
       "    <tr>\n",
       "      <th>2</th>\n",
       "      <td>3</td>\n",
       "      <td>1</td>\n",
       "      <td>3</td>\n",
       "      <td>female</td>\n",
       "      <td>1</td>\n",
       "      <td>0</td>\n",
       "      <td>0</td>\n",
       "      <td>STON/O2. 3101282</td>\n",
       "      <td>1</td>\n",
       "      <td>Unknown</td>\n",
       "      <td>S</td>\n",
       "      <td>3</td>\n",
       "      <td>Miss</td>\n",
       "    </tr>\n",
       "    <tr>\n",
       "      <th>3</th>\n",
       "      <td>4</td>\n",
       "      <td>1</td>\n",
       "      <td>1</td>\n",
       "      <td>female</td>\n",
       "      <td>2</td>\n",
       "      <td>1</td>\n",
       "      <td>0</td>\n",
       "      <td>113803</td>\n",
       "      <td>3</td>\n",
       "      <td>C123</td>\n",
       "      <td>S</td>\n",
       "      <td>3</td>\n",
       "      <td>Mrs</td>\n",
       "    </tr>\n",
       "    <tr>\n",
       "      <th>4</th>\n",
       "      <td>5</td>\n",
       "      <td>0</td>\n",
       "      <td>3</td>\n",
       "      <td>male</td>\n",
       "      <td>2</td>\n",
       "      <td>0</td>\n",
       "      <td>0</td>\n",
       "      <td>373450</td>\n",
       "      <td>1</td>\n",
       "      <td>Unknown</td>\n",
       "      <td>S</td>\n",
       "      <td>0</td>\n",
       "      <td>Mr</td>\n",
       "    </tr>\n",
       "  </tbody>\n",
       "</table>\n",
       "</div>"
      ],
      "text/plain": [
       "   PassengerId  Survived  Pclass     Sex  Age  SibSp  Parch            Ticket  \\\n",
       "0            1         0       3    male    1      1      0         A/5 21171   \n",
       "1            2         1       1  female    2      1      0          PC 17599   \n",
       "2            3         1       3  female    1      0      0  STON/O2. 3101282   \n",
       "3            4         1       1  female    2      1      0            113803   \n",
       "4            5         0       3    male    2      0      0            373450   \n",
       "\n",
       "   Fare    Cabin Embarked  fold title  \n",
       "0     0  Unknown        S     1    Mr  \n",
       "1     3      C85        C     4   Mrs  \n",
       "2     1  Unknown        S     3  Miss  \n",
       "3     3     C123        S     3   Mrs  \n",
       "4     1  Unknown        S     0    Mr  "
      ]
     },
     "execution_count": 34,
     "metadata": {},
     "output_type": "execute_result"
    }
   ],
   "source": [
    "train.head()"
   ]
  },
  {
   "cell_type": "code",
   "execution_count": 35,
   "metadata": {
    "cell_id": "00040-4523e15f-8e52-4d1a-a330-bd7dcd1a21f7",
    "deepnote_cell_type": "code",
    "deepnote_to_be_reexecuted": false,
    "execution_millis": 21,
    "execution_start": 1632996511176,
    "id": "1QwZIVMML8Li",
    "outputId": "d1fca8d6-4114-49f2-c18d-f7a066b4623f",
    "source_hash": "476785e4"
   },
   "outputs": [
    {
     "data": {
      "text/html": [
       "<div>\n",
       "<style scoped>\n",
       "    .dataframe tbody tr th:only-of-type {\n",
       "        vertical-align: middle;\n",
       "    }\n",
       "\n",
       "    .dataframe tbody tr th {\n",
       "        vertical-align: top;\n",
       "    }\n",
       "\n",
       "    .dataframe thead th {\n",
       "        text-align: right;\n",
       "    }\n",
       "</style>\n",
       "<table border=\"1\" class=\"dataframe\">\n",
       "  <thead>\n",
       "    <tr style=\"text-align: right;\">\n",
       "      <th></th>\n",
       "      <th>PassengerId</th>\n",
       "      <th>Pclass</th>\n",
       "      <th>Sex</th>\n",
       "      <th>Age</th>\n",
       "      <th>SibSp</th>\n",
       "      <th>Parch</th>\n",
       "      <th>Ticket</th>\n",
       "      <th>Fare</th>\n",
       "      <th>Cabin</th>\n",
       "      <th>Embarked</th>\n",
       "      <th>title</th>\n",
       "    </tr>\n",
       "  </thead>\n",
       "  <tbody>\n",
       "    <tr>\n",
       "      <th>0</th>\n",
       "      <td>892</td>\n",
       "      <td>3</td>\n",
       "      <td>male</td>\n",
       "      <td>2</td>\n",
       "      <td>0</td>\n",
       "      <td>0</td>\n",
       "      <td>330911</td>\n",
       "      <td>0</td>\n",
       "      <td>Unknown</td>\n",
       "      <td>Q</td>\n",
       "      <td>Mr</td>\n",
       "    </tr>\n",
       "    <tr>\n",
       "      <th>1</th>\n",
       "      <td>893</td>\n",
       "      <td>3</td>\n",
       "      <td>female</td>\n",
       "      <td>2</td>\n",
       "      <td>1</td>\n",
       "      <td>0</td>\n",
       "      <td>363272</td>\n",
       "      <td>0</td>\n",
       "      <td>Unknown</td>\n",
       "      <td>S</td>\n",
       "      <td>Mrs</td>\n",
       "    </tr>\n",
       "    <tr>\n",
       "      <th>2</th>\n",
       "      <td>894</td>\n",
       "      <td>2</td>\n",
       "      <td>male</td>\n",
       "      <td>3</td>\n",
       "      <td>0</td>\n",
       "      <td>0</td>\n",
       "      <td>240276</td>\n",
       "      <td>1</td>\n",
       "      <td>Unknown</td>\n",
       "      <td>Q</td>\n",
       "      <td>Mr</td>\n",
       "    </tr>\n",
       "    <tr>\n",
       "      <th>3</th>\n",
       "      <td>895</td>\n",
       "      <td>3</td>\n",
       "      <td>male</td>\n",
       "      <td>1</td>\n",
       "      <td>0</td>\n",
       "      <td>0</td>\n",
       "      <td>315154</td>\n",
       "      <td>1</td>\n",
       "      <td>Unknown</td>\n",
       "      <td>S</td>\n",
       "      <td>Mr</td>\n",
       "    </tr>\n",
       "    <tr>\n",
       "      <th>4</th>\n",
       "      <td>896</td>\n",
       "      <td>3</td>\n",
       "      <td>female</td>\n",
       "      <td>1</td>\n",
       "      <td>1</td>\n",
       "      <td>1</td>\n",
       "      <td>3101298</td>\n",
       "      <td>1</td>\n",
       "      <td>Unknown</td>\n",
       "      <td>S</td>\n",
       "      <td>Mrs</td>\n",
       "    </tr>\n",
       "  </tbody>\n",
       "</table>\n",
       "</div>"
      ],
      "text/plain": [
       "   PassengerId  Pclass     Sex  Age  SibSp  Parch   Ticket  Fare    Cabin  \\\n",
       "0          892       3    male    2      0      0   330911     0  Unknown   \n",
       "1          893       3  female    2      1      0   363272     0  Unknown   \n",
       "2          894       2    male    3      0      0   240276     1  Unknown   \n",
       "3          895       3    male    1      0      0   315154     1  Unknown   \n",
       "4          896       3  female    1      1      1  3101298     1  Unknown   \n",
       "\n",
       "  Embarked title  \n",
       "0        Q    Mr  \n",
       "1        S   Mrs  \n",
       "2        Q    Mr  \n",
       "3        S    Mr  \n",
       "4        S   Mrs  "
      ]
     },
     "execution_count": 35,
     "metadata": {},
     "output_type": "execute_result"
    }
   ],
   "source": [
    "test.head()"
   ]
  },
  {
   "cell_type": "markdown",
   "metadata": {
    "cell_id": "00039-32ab6369-893a-4066-99c5-7bcaa711587e",
    "deepnote_cell_type": "text-cell-h3",
    "id": "H-3q73gmXo4a",
    "is_collapsed": false,
    "tags": []
   },
   "source": [
    "### 3. clean ticket "
   ]
  },
  {
   "cell_type": "code",
   "execution_count": 36,
   "metadata": {
    "cell_id": "00039-048ab624-99c2-4a17-9e5e-fe3e8a2f1c41",
    "deepnote_cell_type": "code",
    "deepnote_to_be_reexecuted": false,
    "execution_millis": 0,
    "execution_start": 1632996511234,
    "id": "cJlGaNzuXo4a",
    "source_hash": "b30a3309",
    "tags": []
   },
   "outputs": [],
   "source": [
    "# Ticket  value_counts first\n",
    "def ticket_extract(entry):\n",
    "    pattern = r'[A-Z]+'\n",
    "    extracted = ''.join(re.findall(pattern, entry))\n",
    "    if extracted == '':\n",
    "        return 'Number'\n",
    "    elif extracted == 'PC':\n",
    "        return extracted\n",
    "    elif extracted == 'CA':\n",
    "        return extracted\n",
    "    else:\n",
    "        return 'ELSE'\n",
    "\n",
    "train['Ticket'] = train['Ticket'].apply(ticket_extract)\n",
    "test['Ticket'] = test['Ticket'].apply(ticket_extract)"
   ]
  },
  {
   "cell_type": "markdown",
   "metadata": {
    "cell_id": "00041-f11b2999-3d53-494d-b7e1-f92b0a4e5a87",
    "deepnote_cell_type": "text-cell-h3",
    "id": "Mq4LRMsSXo4a",
    "is_collapsed": false,
    "tags": []
   },
   "source": [
    "### 4. clean number of family members "
   ]
  },
  {
   "cell_type": "code",
   "execution_count": 37,
   "metadata": {
    "cell_id": "00041-30d8d883-68fe-4e81-bc1a-da4a60e5d1cc",
    "deepnote_cell_type": "code",
    "deepnote_to_be_reexecuted": false,
    "execution_millis": 0,
    "execution_start": 1632996511235,
    "id": "f5gX6x-2Xo4a",
    "source_hash": "e55572c0",
    "tags": []
   },
   "outputs": [],
   "source": [
    "train['Alone'] = np.where((train['SibSp']==0)&(train['Parch']==0), 1, 0)\n",
    "test['Alone'] = np.where((test['SibSp']==0)&(test['Parch']==0), 1, 0)"
   ]
  },
  {
   "cell_type": "code",
   "execution_count": 38,
   "metadata": {
    "cell_id": "00043-cbd4a10d-8af4-4121-aab2-54a59f5e409e",
    "deepnote_cell_type": "code",
    "deepnote_to_be_reexecuted": false,
    "execution_millis": 0,
    "execution_start": 1632996511236,
    "id": "hcbRAw6mXo4a",
    "source_hash": "1e6ae352",
    "tags": []
   },
   "outputs": [],
   "source": [
    "train = train.drop(columns = ['SibSp', 'Parch'])\n",
    "test = test.drop(columns = ['SibSp', 'Parch'])"
   ]
  },
  {
   "cell_type": "code",
   "execution_count": 39,
   "metadata": {
    "cell_id": "00044-8b1d1a89-1fac-40d8-865e-79dc8e353671",
    "deepnote_cell_type": "code",
    "deepnote_to_be_reexecuted": false,
    "execution_millis": 16,
    "execution_start": 1632996511321,
    "id": "KI4_5N_wXo4a",
    "outputId": "379958f3-1bbb-43d3-8db9-11ec1b19312a",
    "source_hash": "e1f0b45",
    "tags": []
   },
   "outputs": [
    {
     "data": {
      "text/html": [
       "<div>\n",
       "<style scoped>\n",
       "    .dataframe tbody tr th:only-of-type {\n",
       "        vertical-align: middle;\n",
       "    }\n",
       "\n",
       "    .dataframe tbody tr th {\n",
       "        vertical-align: top;\n",
       "    }\n",
       "\n",
       "    .dataframe thead th {\n",
       "        text-align: right;\n",
       "    }\n",
       "</style>\n",
       "<table border=\"1\" class=\"dataframe\">\n",
       "  <thead>\n",
       "    <tr style=\"text-align: right;\">\n",
       "      <th></th>\n",
       "      <th>PassengerId</th>\n",
       "      <th>Survived</th>\n",
       "      <th>Pclass</th>\n",
       "      <th>Sex</th>\n",
       "      <th>Age</th>\n",
       "      <th>Ticket</th>\n",
       "      <th>Fare</th>\n",
       "      <th>Cabin</th>\n",
       "      <th>Embarked</th>\n",
       "      <th>fold</th>\n",
       "      <th>title</th>\n",
       "      <th>Alone</th>\n",
       "    </tr>\n",
       "  </thead>\n",
       "  <tbody>\n",
       "    <tr>\n",
       "      <th>0</th>\n",
       "      <td>1</td>\n",
       "      <td>0</td>\n",
       "      <td>3</td>\n",
       "      <td>male</td>\n",
       "      <td>1</td>\n",
       "      <td>ELSE</td>\n",
       "      <td>0</td>\n",
       "      <td>Unknown</td>\n",
       "      <td>S</td>\n",
       "      <td>1</td>\n",
       "      <td>Mr</td>\n",
       "      <td>0</td>\n",
       "    </tr>\n",
       "    <tr>\n",
       "      <th>1</th>\n",
       "      <td>2</td>\n",
       "      <td>1</td>\n",
       "      <td>1</td>\n",
       "      <td>female</td>\n",
       "      <td>2</td>\n",
       "      <td>PC</td>\n",
       "      <td>3</td>\n",
       "      <td>C85</td>\n",
       "      <td>C</td>\n",
       "      <td>4</td>\n",
       "      <td>Mrs</td>\n",
       "      <td>0</td>\n",
       "    </tr>\n",
       "    <tr>\n",
       "      <th>2</th>\n",
       "      <td>3</td>\n",
       "      <td>1</td>\n",
       "      <td>3</td>\n",
       "      <td>female</td>\n",
       "      <td>1</td>\n",
       "      <td>ELSE</td>\n",
       "      <td>1</td>\n",
       "      <td>Unknown</td>\n",
       "      <td>S</td>\n",
       "      <td>3</td>\n",
       "      <td>Miss</td>\n",
       "      <td>1</td>\n",
       "    </tr>\n",
       "    <tr>\n",
       "      <th>3</th>\n",
       "      <td>4</td>\n",
       "      <td>1</td>\n",
       "      <td>1</td>\n",
       "      <td>female</td>\n",
       "      <td>2</td>\n",
       "      <td>Number</td>\n",
       "      <td>3</td>\n",
       "      <td>C123</td>\n",
       "      <td>S</td>\n",
       "      <td>3</td>\n",
       "      <td>Mrs</td>\n",
       "      <td>0</td>\n",
       "    </tr>\n",
       "    <tr>\n",
       "      <th>4</th>\n",
       "      <td>5</td>\n",
       "      <td>0</td>\n",
       "      <td>3</td>\n",
       "      <td>male</td>\n",
       "      <td>2</td>\n",
       "      <td>Number</td>\n",
       "      <td>1</td>\n",
       "      <td>Unknown</td>\n",
       "      <td>S</td>\n",
       "      <td>0</td>\n",
       "      <td>Mr</td>\n",
       "      <td>1</td>\n",
       "    </tr>\n",
       "  </tbody>\n",
       "</table>\n",
       "</div>"
      ],
      "text/plain": [
       "   PassengerId  Survived  Pclass     Sex  Age  Ticket  Fare    Cabin Embarked  \\\n",
       "0            1         0       3    male    1    ELSE     0  Unknown        S   \n",
       "1            2         1       1  female    2      PC     3      C85        C   \n",
       "2            3         1       3  female    1    ELSE     1  Unknown        S   \n",
       "3            4         1       1  female    2  Number     3     C123        S   \n",
       "4            5         0       3    male    2  Number     1  Unknown        S   \n",
       "\n",
       "   fold title  Alone  \n",
       "0     1    Mr      0  \n",
       "1     4   Mrs      0  \n",
       "2     3  Miss      1  \n",
       "3     3   Mrs      0  \n",
       "4     0    Mr      1  "
      ]
     },
     "execution_count": 39,
     "metadata": {},
     "output_type": "execute_result"
    }
   ],
   "source": [
    "train.head()"
   ]
  },
  {
   "cell_type": "markdown",
   "metadata": {
    "cell_id": "00043-fd3ccdb1-8813-451c-ba17-848037afc334",
    "deepnote_cell_type": "text-cell-h3",
    "id": "rQYL56UrXo4b",
    "is_collapsed": false,
    "tags": []
   },
   "source": [
    "### 5. Extract cabin value"
   ]
  },
  {
   "cell_type": "code",
   "execution_count": 40,
   "metadata": {
    "cell_id": "00043-40d86e5e-ba6d-44b4-b6df-8d7131044fe4",
    "deepnote_cell_type": "code",
    "deepnote_to_be_reexecuted": false,
    "execution_millis": 2,
    "execution_start": 1632996511345,
    "id": "Eb7TsSq3Xo4b",
    "source_hash": "859ba9d",
    "tags": []
   },
   "outputs": [],
   "source": [
    "#cabin  get first letter\n",
    "def cabin(entry):\n",
    "    rare_list = ['A', 'F', 'G', 'T']\n",
    "    if entry=='Unknown':\n",
    "        return 'NAN'\n",
    "    elif entry[0] in rare_list:\n",
    "        return 'Rare'\n",
    "    else:\n",
    "        return entry[0]\n",
    "train['Cabin'] = train['Cabin'].apply(cabin)\n",
    "test['Cabin'] = test['Cabin'].apply(cabin)\n",
    "\n"
   ]
  },
  {
   "cell_type": "markdown",
   "metadata": {
    "cell_id": "00041-b1efb05c-ef59-46fa-b7ec-d332d215b60d",
    "deepnote_cell_type": "markdown",
    "id": "H2C3VeABL8Li"
   },
   "source": [
    "## Label Encoding"
   ]
  },
  {
   "cell_type": "code",
   "execution_count": 41,
   "metadata": {
    "cell_id": "00044-9cf2adce-7f36-4ef1-b573-dbd9bca369cd",
    "deepnote_cell_type": "code",
    "deepnote_to_be_reexecuted": false,
    "execution_millis": 0,
    "execution_start": 1632996511402,
    "id": "VxO3DNfZL8Li",
    "source_hash": "31ecd161"
   },
   "outputs": [],
   "source": [
    "train = train.drop('PassengerId', axis=1)\n",
    "test = test.drop('PassengerId', axis=1)"
   ]
  },
  {
   "cell_type": "code",
   "execution_count": 42,
   "metadata": {
    "cell_id": "00049-9ce599f6-63ce-45e8-bc89-66b2ccd0bc59",
    "deepnote_cell_type": "code",
    "deepnote_to_be_reexecuted": false,
    "execution_millis": 28,
    "execution_start": 1632996511403,
    "id": "NgWXqJpaXo4b",
    "outputId": "69681a6f-df21-4784-ad00-c58757e47f96",
    "source_hash": "e1f0b45",
    "tags": []
   },
   "outputs": [
    {
     "data": {
      "text/html": [
       "<div>\n",
       "<style scoped>\n",
       "    .dataframe tbody tr th:only-of-type {\n",
       "        vertical-align: middle;\n",
       "    }\n",
       "\n",
       "    .dataframe tbody tr th {\n",
       "        vertical-align: top;\n",
       "    }\n",
       "\n",
       "    .dataframe thead th {\n",
       "        text-align: right;\n",
       "    }\n",
       "</style>\n",
       "<table border=\"1\" class=\"dataframe\">\n",
       "  <thead>\n",
       "    <tr style=\"text-align: right;\">\n",
       "      <th></th>\n",
       "      <th>Survived</th>\n",
       "      <th>Pclass</th>\n",
       "      <th>Sex</th>\n",
       "      <th>Age</th>\n",
       "      <th>Ticket</th>\n",
       "      <th>Fare</th>\n",
       "      <th>Cabin</th>\n",
       "      <th>Embarked</th>\n",
       "      <th>fold</th>\n",
       "      <th>title</th>\n",
       "      <th>Alone</th>\n",
       "    </tr>\n",
       "  </thead>\n",
       "  <tbody>\n",
       "    <tr>\n",
       "      <th>0</th>\n",
       "      <td>0</td>\n",
       "      <td>3</td>\n",
       "      <td>male</td>\n",
       "      <td>1</td>\n",
       "      <td>ELSE</td>\n",
       "      <td>0</td>\n",
       "      <td>NAN</td>\n",
       "      <td>S</td>\n",
       "      <td>1</td>\n",
       "      <td>Mr</td>\n",
       "      <td>0</td>\n",
       "    </tr>\n",
       "    <tr>\n",
       "      <th>1</th>\n",
       "      <td>1</td>\n",
       "      <td>1</td>\n",
       "      <td>female</td>\n",
       "      <td>2</td>\n",
       "      <td>PC</td>\n",
       "      <td>3</td>\n",
       "      <td>C</td>\n",
       "      <td>C</td>\n",
       "      <td>4</td>\n",
       "      <td>Mrs</td>\n",
       "      <td>0</td>\n",
       "    </tr>\n",
       "    <tr>\n",
       "      <th>2</th>\n",
       "      <td>1</td>\n",
       "      <td>3</td>\n",
       "      <td>female</td>\n",
       "      <td>1</td>\n",
       "      <td>ELSE</td>\n",
       "      <td>1</td>\n",
       "      <td>NAN</td>\n",
       "      <td>S</td>\n",
       "      <td>3</td>\n",
       "      <td>Miss</td>\n",
       "      <td>1</td>\n",
       "    </tr>\n",
       "    <tr>\n",
       "      <th>3</th>\n",
       "      <td>1</td>\n",
       "      <td>1</td>\n",
       "      <td>female</td>\n",
       "      <td>2</td>\n",
       "      <td>Number</td>\n",
       "      <td>3</td>\n",
       "      <td>C</td>\n",
       "      <td>S</td>\n",
       "      <td>3</td>\n",
       "      <td>Mrs</td>\n",
       "      <td>0</td>\n",
       "    </tr>\n",
       "    <tr>\n",
       "      <th>4</th>\n",
       "      <td>0</td>\n",
       "      <td>3</td>\n",
       "      <td>male</td>\n",
       "      <td>2</td>\n",
       "      <td>Number</td>\n",
       "      <td>1</td>\n",
       "      <td>NAN</td>\n",
       "      <td>S</td>\n",
       "      <td>0</td>\n",
       "      <td>Mr</td>\n",
       "      <td>1</td>\n",
       "    </tr>\n",
       "  </tbody>\n",
       "</table>\n",
       "</div>"
      ],
      "text/plain": [
       "   Survived  Pclass     Sex  Age  Ticket  Fare Cabin Embarked  fold title  \\\n",
       "0         0       3    male    1    ELSE     0   NAN        S     1    Mr   \n",
       "1         1       1  female    2      PC     3     C        C     4   Mrs   \n",
       "2         1       3  female    1    ELSE     1   NAN        S     3  Miss   \n",
       "3         1       1  female    2  Number     3     C        S     3   Mrs   \n",
       "4         0       3    male    2  Number     1   NAN        S     0    Mr   \n",
       "\n",
       "   Alone  \n",
       "0      0  \n",
       "1      0  \n",
       "2      1  \n",
       "3      0  \n",
       "4      1  "
      ]
     },
     "execution_count": 42,
     "metadata": {},
     "output_type": "execute_result"
    }
   ],
   "source": [
    "train.head()"
   ]
  },
  {
   "cell_type": "code",
   "execution_count": 43,
   "metadata": {
    "cell_id": "00045-9927934e-e193-4197-8013-52283e7fb24f",
    "deepnote_cell_type": "code",
    "deepnote_to_be_reexecuted": false,
    "execution_millis": 0,
    "execution_start": 1632996511482,
    "id": "MEYMKEPVL8Li",
    "source_hash": "188279b7"
   },
   "outputs": [],
   "source": [
    "train = pd.get_dummies(train)\n",
    "test = pd.get_dummies(test)"
   ]
  },
  {
   "cell_type": "code",
   "execution_count": 44,
   "metadata": {
    "cell_id": "00051-7962d5ec-b350-455c-94ad-0937484bab16",
    "deepnote_cell_type": "code",
    "deepnote_to_be_reexecuted": false,
    "execution_millis": 19,
    "execution_start": 1632996531502,
    "id": "_YNkDvebXo4c",
    "outputId": "1de5a854-c6bf-449c-fe0e-6252c08ec90b",
    "source_hash": "74267d7c",
    "tags": []
   },
   "outputs": [
    {
     "data": {
      "text/plain": [
       "(891, 28)"
      ]
     },
     "execution_count": 44,
     "metadata": {},
     "output_type": "execute_result"
    }
   ],
   "source": [
    "train.shape"
   ]
  },
  {
   "cell_type": "code",
   "execution_count": 45,
   "metadata": {
    "cell_id": "00045-1ccf2e7f-78d7-4b98-b478-c4b7ff0755e3",
    "deepnote_cell_type": "code",
    "deepnote_to_be_reexecuted": false,
    "execution_millis": 12,
    "execution_start": 1632996535947,
    "id": "LZv1t3mYXo4c",
    "outputId": "fc6f3e90-7bf1-4bd5-d3f7-cb9d6195072a",
    "source_hash": "10ad8322",
    "tags": []
   },
   "outputs": [
    {
     "data": {
      "text/plain": [
       "(418, 26)"
      ]
     },
     "execution_count": 45,
     "metadata": {},
     "output_type": "execute_result"
    }
   ],
   "source": [
    "test.shape"
   ]
  },
  {
   "cell_type": "markdown",
   "metadata": {
    "cell_id": "00046-4cc3cd41-69eb-46c3-9456-9b70df177ce9",
    "deepnote_cell_type": "markdown",
    "id": "BExlhHd_L8Lj"
   },
   "source": [
    "# Building Model"
   ]
  },
  {
   "cell_type": "markdown",
   "metadata": {
    "cell_id": "00047-c69f6fff-7072-4dc7-91c6-2d37f0cde1a5",
    "deepnote_cell_type": "markdown",
    "id": "FnXYmkbGL8Lj"
   },
   "source": [
    "## LGB"
   ]
  },
  {
   "cell_type": "code",
   "execution_count": 46,
   "metadata": {
    "cell_id": "00048-dc93a15d-4b02-47da-8088-ba61702f3e3a",
    "deepnote_cell_type": "code",
    "deepnote_to_be_reexecuted": false,
    "execution_millis": 36,
    "execution_start": 1632996542675,
    "id": "BPb1yzNNL8Lj",
    "source_hash": "ea1d7fa6"
   },
   "outputs": [],
   "source": [
    "def optuna_lgb(n_trials=500):\n",
    "    \n",
    "    def objective(trial):\n",
    "\n",
    "        params = {\n",
    "            \"objective\": \"binary\",\n",
    "            \"metric\": \"binary_logloss\",\n",
    "            \"verbosity\": -1,\n",
    "            \"boosting_type\": \"gbdt\",\n",
    "            \"lambda_l1\": trial.suggest_float(\"lambda_l1\", 1e-5, 10, log=True),\n",
    "            \"lambda_l2\": trial.suggest_float(\"lambda_l2\", 1e-5, 10, log=True),\n",
    "            \"num_leaves\": trial.suggest_int(\"num_leaves\", 2, 62),\n",
    "            \"feature_fraction\": trial.suggest_float(\"feature_fraction\", 0.4, 0.9),\n",
    "            \"bagging_fraction\": trial.suggest_float(\"bagging_fraction\", 0.4, 0.9),\n",
    "            \"bagging_freq\": trial.suggest_int(\"bagging_freq\", 2, 9),\n",
    "            \"min_child_samples\": trial.suggest_int(\"min_child_samples\", 33, 93),\n",
    "            \"max_depth\": trial.suggest_int(\"max_depth\", 2, 7)\n",
    "        }\n",
    "\n",
    "        # initialize oof \n",
    "        oof_train = np.zeros((len(train),))\n",
    "\n",
    "        for i in range(5):\n",
    "            train_x = train.query(f'fold!={i}').drop(['fold', 'Survived'], axis=1)\n",
    "            train_y = train.query(f'fold!={i}').Survived\n",
    "\n",
    "            valid_x = train.query(f'fold=={i}').drop(['fold', 'Survived'], axis=1)\n",
    "            valid_y = train.query(f'fold=={i}').Survived\n",
    "            \n",
    "            lgb_train = lgb.Dataset(train_x,\n",
    "                                    train_y)\n",
    "\n",
    "            lgb_eval = lgb.Dataset(valid_x,\n",
    "                                   valid_y,\n",
    "                                   reference=lgb_train)\n",
    "\n",
    "            gbm = lgb.train(params,\n",
    "                            lgb_train,\n",
    "                            valid_sets=[lgb_train, lgb_eval],\n",
    "                            num_boost_round=5000,\n",
    "                            verbose_eval=-1, \n",
    "                            early_stopping_rounds=1000\n",
    "                            )\n",
    "            oof_preds = gbm.predict(valid_x, num_iteration=gbm.best_iteration)\n",
    "            oof_train[valid_x.index] = gbm.predict(valid_x,\n",
    "                                                   num_iteration=gbm.best_iteration)\n",
    "            \n",
    "            \n",
    "        return accuracy_score(train.Survived, oof_train.round())\n",
    "    \n",
    "    study = optuna.create_study(direction=\"maximize\")\n",
    "    study.optimize(objective, n_trials=n_trials)\n",
    "\n",
    "    print(\"Number of finished trials: {}\".format(len(study.trials)))\n",
    "\n",
    "    print(\"Best trial:\")\n",
    "    trial = study.best_trial\n",
    "\n",
    "    print(\"  Value: {}\".format(trial.value))\n",
    "\n",
    "    print(\"  Params: \")\n",
    "    for key, value in trial.params.items():\n",
    "        print(\"    {}: {}\".format(key, value))\n",
    "    \n",
    "    best_params = {\n",
    "        \"objective\": \"binary\",\n",
    "        \"metric\": \"binary_logloss\",\n",
    "        \"verbosity\": -1,\n",
    "        \"boosting_type\": \"gbdt\",\n",
    "    }\n",
    "    best_params.update(study.best_params)\n",
    "    ## save trained model\n",
    "    # initialize oof \n",
    "    oof_train = np.zeros((len(train),))\n",
    "    print('*'*50)\n",
    "    print('Exporting best models')\n",
    "    print('*' * 50)\n",
    "    # split folds using RSGKF\n",
    "    for i in range(5):\n",
    "        train_x = train.query(f'fold!={i}').drop(['fold', 'Survived'], axis=1)\n",
    "        train_y = train.query(f'fold!={i}').Survived\n",
    "\n",
    "        valid_x = train.query(f'fold=={i}').drop(['fold', 'Survived'], axis=1)\n",
    "        valid_y = train.query(f'fold=={i}').Survived\n",
    "\n",
    "        lgb_train = lgb.Dataset(train_x,\n",
    "                                train_y)\n",
    "\n",
    "        lgb_eval = lgb.Dataset(valid_x,\n",
    "                               valid_y,\n",
    "                               reference=lgb_train)\n",
    "\n",
    "        gbm = lgb.train(best_params,\n",
    "                        lgb_train,\n",
    "                        valid_sets=[lgb_train, lgb_eval],\n",
    "                        num_boost_round=50000,\n",
    "                        verbose_eval=-1, \n",
    "                        early_stopping_rounds=1001\n",
    "                        )\n",
    "\n",
    "        oof_preds = gbm.predict(valid_x, num_iteration=gbm.best_iteration)\n",
    "        oof_train[valid_x.index] = gbm.predict(valid_x, num_iteration=gbm.best_iteration)\n",
    "\n",
    "        joblib.dump(gbm, f'lgb_fold{i}.pkl')"
   ]
  },
  {
   "cell_type": "code",
   "execution_count": null,
   "metadata": {
    "cell_id": "00049-e59799fb-b5bb-40c7-a781-5a1119703415",
    "deepnote_cell_type": "code",
    "deepnote_to_be_reexecuted": false,
    "execution_millis": 1109969,
    "execution_start": 1632996553912,
    "id": "XXtPZ3g0L8Lj",
    "outputId": "ef032a4e-65da-4185-aafd-ec1e780c9cf2",
    "source_hash": "cdd14bd2"
   },
   "outputs": [
    {
     "name": "stderr",
     "output_type": "stream",
     "text": [
      "\u001b[32m[I 2021-10-03 19:33:31,264]\u001b[0m A new study created in memory with name: no-name-18cdc700-052e-4f80-9556-49af7346a22c\u001b[0m\n"
     ]
    },
    {
     "name": "stdout",
     "output_type": "stream",
     "text": [
      "Training until validation scores don't improve for 1000 rounds\n",
      "Early stopping, best iteration is:\n",
      "[180]\ttraining's binary_logloss: 0.399324\tvalid_1's binary_logloss: 0.390527\n",
      "Training until validation scores don't improve for 1000 rounds\n",
      "Early stopping, best iteration is:\n",
      "[760]\ttraining's binary_logloss: 0.371955\tvalid_1's binary_logloss: 0.404648\n",
      "Training until validation scores don't improve for 1000 rounds\n",
      "Early stopping, best iteration is:\n",
      "[96]\ttraining's binary_logloss: 0.388592\tvalid_1's binary_logloss: 0.456985\n",
      "Training until validation scores don't improve for 1000 rounds\n"
     ]
    },
    {
     "name": "stderr",
     "output_type": "stream",
     "text": [
      "\u001b[32m[I 2021-10-03 19:33:32,849]\u001b[0m Trial 0 finished with value: 0.8226711560044894 and parameters: {'lambda_l1': 1.0301747410495141, 'lambda_l2': 6.582651252282509e-05, 'num_leaves': 28, 'feature_fraction': 0.717289899602571, 'bagging_fraction': 0.5412367495807964, 'bagging_freq': 5, 'min_child_samples': 43, 'max_depth': 6}. Best is trial 0 with value: 0.8226711560044894.\u001b[0m\n"
     ]
    },
    {
     "name": "stdout",
     "output_type": "stream",
     "text": [
      "Early stopping, best iteration is:\n",
      "[1660]\ttraining's binary_logloss: 0.352606\tvalid_1's binary_logloss: 0.391671\n",
      "Training until validation scores don't improve for 1000 rounds\n",
      "Early stopping, best iteration is:\n",
      "[60]\ttraining's binary_logloss: 0.414049\tvalid_1's binary_logloss: 0.409499\n",
      "Training until validation scores don't improve for 1000 rounds\n",
      "Early stopping, best iteration is:\n",
      "[109]\ttraining's binary_logloss: 0.377248\tvalid_1's binary_logloss: 0.3833\n",
      "Training until validation scores don't improve for 1000 rounds\n",
      "Early stopping, best iteration is:\n",
      "[209]\ttraining's binary_logloss: 0.348475\tvalid_1's binary_logloss: 0.385708\n",
      "Training until validation scores don't improve for 1000 rounds\n",
      "Early stopping, best iteration is:\n",
      "[30]\ttraining's binary_logloss: 0.395842\tvalid_1's binary_logloss: 0.456487\n",
      "Training until validation scores don't improve for 1000 rounds\n",
      "Early stopping, best iteration is:\n",
      "[292]\ttraining's binary_logloss: 0.331582\tvalid_1's binary_logloss: 0.390462\n",
      "Training until validation scores don't improve for 1000 rounds\n"
     ]
    },
    {
     "name": "stderr",
     "output_type": "stream",
     "text": [
      "\u001b[32m[I 2021-10-03 19:33:34,625]\u001b[0m Trial 1 finished with value: 0.8181818181818182 and parameters: {'lambda_l1': 0.000864704352311218, 'lambda_l2': 0.06181940745045265, 'num_leaves': 53, 'feature_fraction': 0.6713593105551645, 'bagging_fraction': 0.6623154547848851, 'bagging_freq': 7, 'min_child_samples': 33, 'max_depth': 6}. Best is trial 0 with value: 0.8226711560044894.\u001b[0m\n"
     ]
    },
    {
     "name": "stdout",
     "output_type": "stream",
     "text": [
      "Early stopping, best iteration is:\n",
      "[84]\ttraining's binary_logloss: 0.374814\tvalid_1's binary_logloss: 0.415884\n",
      "Training until validation scores don't improve for 1000 rounds\n",
      "Early stopping, best iteration is:\n",
      "[107]\ttraining's binary_logloss: 0.373047\tvalid_1's binary_logloss: 0.390312\n",
      "Training until validation scores don't improve for 1000 rounds\n",
      "Early stopping, best iteration is:\n",
      "[537]\ttraining's binary_logloss: 0.32399\tvalid_1's binary_logloss: 0.388339\n",
      "Training until validation scores don't improve for 1000 rounds\n",
      "Early stopping, best iteration is:\n",
      "[28]\ttraining's binary_logloss: 0.396101\tvalid_1's binary_logloss: 0.465397\n",
      "Training until validation scores don't improve for 1000 rounds\n",
      "Early stopping, best iteration is:\n",
      "[226]\ttraining's binary_logloss: 0.341114\tvalid_1's binary_logloss: 0.387291\n",
      "Training until validation scores don't improve for 1000 rounds\n"
     ]
    },
    {
     "name": "stderr",
     "output_type": "stream",
     "text": [
      "\u001b[32m[I 2021-10-03 19:33:36,659]\u001b[0m Trial 2 finished with value: 0.8294051627384961 and parameters: {'lambda_l1': 0.09544519377294379, 'lambda_l2': 7.330467498958437e-05, 'num_leaves': 51, 'feature_fraction': 0.654848361402538, 'bagging_fraction': 0.7875315857366498, 'bagging_freq': 3, 'min_child_samples': 34, 'max_depth': 5}. Best is trial 2 with value: 0.8294051627384961.\u001b[0m\n"
     ]
    },
    {
     "name": "stdout",
     "output_type": "stream",
     "text": [
      "Early stopping, best iteration is:\n",
      "[43]\ttraining's binary_logloss: 0.390603\tvalid_1's binary_logloss: 0.416285\n",
      "Training until validation scores don't improve for 1000 rounds\n",
      "Early stopping, best iteration is:\n",
      "[302]\ttraining's binary_logloss: 0.376508\tvalid_1's binary_logloss: 0.392757\n",
      "Training until validation scores don't improve for 1000 rounds\n",
      "Early stopping, best iteration is:\n",
      "[1147]\ttraining's binary_logloss: 0.331933\tvalid_1's binary_logloss: 0.397518\n",
      "Training until validation scores don't improve for 1000 rounds\n",
      "Early stopping, best iteration is:\n",
      "[55]\ttraining's binary_logloss: 0.398786\tvalid_1's binary_logloss: 0.459903\n",
      "Training until validation scores don't improve for 1000 rounds\n",
      "Early stopping, best iteration is:\n",
      "[792]\ttraining's binary_logloss: 0.333913\tvalid_1's binary_logloss: 0.390868\n",
      "Training until validation scores don't improve for 1000 rounds\n"
     ]
    },
    {
     "name": "stderr",
     "output_type": "stream",
     "text": [
      "\u001b[32m[I 2021-10-03 19:33:38,371]\u001b[0m Trial 3 finished with value: 0.8282828282828283 and parameters: {'lambda_l1': 0.018581624963924286, 'lambda_l2': 2.9873025120187915, 'num_leaves': 46, 'feature_fraction': 0.5464605369630511, 'bagging_fraction': 0.7522652534346792, 'bagging_freq': 8, 'min_child_samples': 43, 'max_depth': 6}. Best is trial 2 with value: 0.8294051627384961.\u001b[0m\n"
     ]
    },
    {
     "name": "stdout",
     "output_type": "stream",
     "text": [
      "Early stopping, best iteration is:\n",
      "[47]\ttraining's binary_logloss: 0.413023\tvalid_1's binary_logloss: 0.412455\n",
      "Training until validation scores don't improve for 1000 rounds\n",
      "Early stopping, best iteration is:\n",
      "[3286]\ttraining's binary_logloss: 0.424309\tvalid_1's binary_logloss: 0.412443\n",
      "Training until validation scores don't improve for 1000 rounds\n",
      "Early stopping, best iteration is:\n",
      "[574]\ttraining's binary_logloss: 0.429148\tvalid_1's binary_logloss: 0.425048\n",
      "Training until validation scores don't improve for 1000 rounds\n",
      "Early stopping, best iteration is:\n",
      "[604]\ttraining's binary_logloss: 0.416062\tvalid_1's binary_logloss: 0.469402\n",
      "Training until validation scores don't improve for 1000 rounds\n"
     ]
    },
    {
     "name": "stderr",
     "output_type": "stream",
     "text": [
      "\u001b[32m[I 2021-10-03 19:33:39,898]\u001b[0m Trial 4 finished with value: 0.7968574635241302 and parameters: {'lambda_l1': 9.676063100110962, 'lambda_l2': 0.016415153699101338, 'num_leaves': 20, 'feature_fraction': 0.8087688805008334, 'bagging_fraction': 0.5445867549537585, 'bagging_freq': 2, 'min_child_samples': 37, 'max_depth': 5}. Best is trial 2 with value: 0.8294051627384961.\u001b[0m\n"
     ]
    },
    {
     "name": "stdout",
     "output_type": "stream",
     "text": [
      "Early stopping, best iteration is:\n",
      "[1501]\ttraining's binary_logloss: 0.420769\tvalid_1's binary_logloss: 0.446309\n",
      "Training until validation scores don't improve for 1000 rounds\n",
      "Early stopping, best iteration is:\n",
      "[72]\ttraining's binary_logloss: 0.447066\tvalid_1's binary_logloss: 0.429761\n",
      "Training until validation scores don't improve for 1000 rounds\n",
      "Early stopping, best iteration is:\n",
      "[464]\ttraining's binary_logloss: 0.385653\tvalid_1's binary_logloss: 0.398259\n",
      "Training until validation scores don't improve for 1000 rounds\n",
      "Early stopping, best iteration is:\n",
      "[267]\ttraining's binary_logloss: 0.38628\tvalid_1's binary_logloss: 0.40678\n",
      "Training until validation scores don't improve for 1000 rounds\n",
      "Early stopping, best iteration is:\n",
      "[51]\ttraining's binary_logloss: 0.408261\tvalid_1's binary_logloss: 0.462116\n",
      "Training until validation scores don't improve for 1000 rounds\n",
      "Early stopping, best iteration is:\n",
      "[1104]\ttraining's binary_logloss: 0.358094\tvalid_1's binary_logloss: 0.395872\n",
      "Training until validation scores don't improve for 1000 rounds\n",
      "Early stopping, best iteration is:\n",
      "[43]\ttraining's binary_logloss: 0.422367\tvalid_1's binary_logloss: 0.418062\n"
     ]
    },
    {
     "name": "stderr",
     "output_type": "stream",
     "text": [
      "\u001b[32m[I 2021-10-03 19:33:41,377]\u001b[0m Trial 5 finished with value: 0.8260381593714927 and parameters: {'lambda_l1': 0.033842298610976554, 'lambda_l2': 0.005333607768305632, 'num_leaves': 31, 'feature_fraction': 0.5700437738761994, 'bagging_fraction': 0.807453553269424, 'bagging_freq': 8, 'min_child_samples': 81, 'max_depth': 4}. Best is trial 2 with value: 0.8294051627384961.\u001b[0m\n"
     ]
    },
    {
     "name": "stdout",
     "output_type": "stream",
     "text": [
      "Training until validation scores don't improve for 1000 rounds\n",
      "Early stopping, best iteration is:\n",
      "[307]\ttraining's binary_logloss: 0.402483\tvalid_1's binary_logloss: 0.400131\n",
      "Training until validation scores don't improve for 1000 rounds\n",
      "Early stopping, best iteration is:\n",
      "[852]\ttraining's binary_logloss: 0.381479\tvalid_1's binary_logloss: 0.408476\n",
      "Training until validation scores don't improve for 1000 rounds\n",
      "Early stopping, best iteration is:\n",
      "[812]\ttraining's binary_logloss: 0.368123\tvalid_1's binary_logloss: 0.466418\n",
      "Training until validation scores don't improve for 1000 rounds\n",
      "Early stopping, best iteration is:\n",
      "[1106]\ttraining's binary_logloss: 0.380439\tvalid_1's binary_logloss: 0.393012\n",
      "Training until validation scores don't improve for 1000 rounds\n"
     ]
    },
    {
     "name": "stderr",
     "output_type": "stream",
     "text": [
      "\u001b[32m[I 2021-10-03 19:33:42,873]\u001b[0m Trial 6 finished with value: 0.8237934904601572 and parameters: {'lambda_l1': 0.03271444703073252, 'lambda_l2': 1.8144292945398737, 'num_leaves': 50, 'feature_fraction': 0.65980325968876, 'bagging_fraction': 0.6204292360061243, 'bagging_freq': 2, 'min_child_samples': 64, 'max_depth': 2}. Best is trial 2 with value: 0.8294051627384961.\u001b[0m\n"
     ]
    },
    {
     "name": "stdout",
     "output_type": "stream",
     "text": [
      "Early stopping, best iteration is:\n",
      "[138]\ttraining's binary_logloss: 0.410941\tvalid_1's binary_logloss: 0.411175\n",
      "Training until validation scores don't improve for 1000 rounds\n",
      "Early stopping, best iteration is:\n",
      "[342]\ttraining's binary_logloss: 0.396542\tvalid_1's binary_logloss: 0.395249\n",
      "Training until validation scores don't improve for 1000 rounds\n",
      "Early stopping, best iteration is:\n",
      "[314]\ttraining's binary_logloss: 0.391943\tvalid_1's binary_logloss: 0.407689\n",
      "Training until validation scores don't improve for 1000 rounds\n",
      "Early stopping, best iteration is:\n",
      "[37]\ttraining's binary_logloss: 0.418466\tvalid_1's binary_logloss: 0.463065\n",
      "Training until validation scores don't improve for 1000 rounds\n",
      "Early stopping, best iteration is:\n",
      "[1243]\ttraining's binary_logloss: 0.366521\tvalid_1's binary_logloss: 0.388268\n",
      "Training until validation scores don't improve for 1000 rounds\n"
     ]
    },
    {
     "name": "stderr",
     "output_type": "stream",
     "text": [
      "\u001b[32m[I 2021-10-03 19:33:44,255]\u001b[0m Trial 7 finished with value: 0.8260381593714927 and parameters: {'lambda_l1': 9.89841917837746e-05, 'lambda_l2': 1.0147699886338208, 'num_leaves': 51, 'feature_fraction': 0.5869506140775913, 'bagging_fraction': 0.7499908088755025, 'bagging_freq': 9, 'min_child_samples': 82, 'max_depth': 4}. Best is trial 2 with value: 0.8294051627384961.\u001b[0m\n"
     ]
    },
    {
     "name": "stdout",
     "output_type": "stream",
     "text": [
      "Early stopping, best iteration is:\n",
      "[617]\ttraining's binary_logloss: 0.375512\tvalid_1's binary_logloss: 0.420428\n",
      "Training until validation scores don't improve for 1000 rounds\n",
      "Early stopping, best iteration is:\n",
      "[342]\ttraining's binary_logloss: 0.384436\tvalid_1's binary_logloss: 0.391975\n",
      "Training until validation scores don't improve for 1000 rounds\n",
      "Early stopping, best iteration is:\n",
      "[1153]\ttraining's binary_logloss: 0.3532\tvalid_1's binary_logloss: 0.400478\n",
      "Training until validation scores don't improve for 1000 rounds\n",
      "Early stopping, best iteration is:\n",
      "[52]\ttraining's binary_logloss: 0.405836\tvalid_1's binary_logloss: 0.461006\n",
      "Training until validation scores don't improve for 1000 rounds\n",
      "Early stopping, best iteration is:\n",
      "[1199]\ttraining's binary_logloss: 0.348289\tvalid_1's binary_logloss: 0.39446\n",
      "Training until validation scores don't improve for 1000 rounds\n"
     ]
    },
    {
     "name": "stderr",
     "output_type": "stream",
     "text": [
      "\u001b[32m[I 2021-10-03 19:33:45,780]\u001b[0m Trial 8 finished with value: 0.8282828282828283 and parameters: {'lambda_l1': 0.010672290748295168, 'lambda_l2': 8.415747335956539, 'num_leaves': 11, 'feature_fraction': 0.5667575606998099, 'bagging_fraction': 0.854731364016923, 'bagging_freq': 9, 'min_child_samples': 61, 'max_depth': 7}. Best is trial 2 with value: 0.8294051627384961.\u001b[0m\n"
     ]
    },
    {
     "name": "stdout",
     "output_type": "stream",
     "text": [
      "Early stopping, best iteration is:\n",
      "[83]\ttraining's binary_logloss: 0.407262\tvalid_1's binary_logloss: 0.414477\n",
      "Training until validation scores don't improve for 1000 rounds\n",
      "Early stopping, best iteration is:\n",
      "[112]\ttraining's binary_logloss: 0.394008\tvalid_1's binary_logloss: 0.384197\n",
      "Training until validation scores don't improve for 1000 rounds\n",
      "Early stopping, best iteration is:\n",
      "[280]\ttraining's binary_logloss: 0.367434\tvalid_1's binary_logloss: 0.393466\n",
      "Training until validation scores don't improve for 1000 rounds\n",
      "Early stopping, best iteration is:\n",
      "[33]\ttraining's binary_logloss: 0.402276\tvalid_1's binary_logloss: 0.464162\n",
      "Training until validation scores don't improve for 1000 rounds\n"
     ]
    },
    {
     "name": "stderr",
     "output_type": "stream",
     "text": [
      "\u001b[32m[I 2021-10-03 19:33:46,925]\u001b[0m Trial 9 finished with value: 0.8159371492704826 and parameters: {'lambda_l1': 0.028567289364147385, 'lambda_l2': 0.025583473115683156, 'num_leaves': 36, 'feature_fraction': 0.8382385921313411, 'bagging_fraction': 0.6152664176191553, 'bagging_freq': 7, 'min_child_samples': 38, 'max_depth': 3}. Best is trial 2 with value: 0.8294051627384961.\u001b[0m\n"
     ]
    },
    {
     "name": "stdout",
     "output_type": "stream",
     "text": [
      "Early stopping, best iteration is:\n",
      "[897]\ttraining's binary_logloss: 0.331067\tvalid_1's binary_logloss: 0.387277\n",
      "Training until validation scores don't improve for 1000 rounds\n",
      "Early stopping, best iteration is:\n",
      "[85]\ttraining's binary_logloss: 0.390817\tvalid_1's binary_logloss: 0.415117\n",
      "Training until validation scores don't improve for 1000 rounds\n",
      "Early stopping, best iteration is:\n",
      "[3366]\ttraining's binary_logloss: 0.399216\tvalid_1's binary_logloss: 0.398156\n",
      "Training until validation scores don't improve for 1000 rounds\n",
      "Early stopping, best iteration is:\n",
      "[492]\ttraining's binary_logloss: 0.414755\tvalid_1's binary_logloss: 0.429045\n",
      "Training until validation scores don't improve for 1000 rounds\n",
      "Early stopping, best iteration is:\n",
      "[121]\ttraining's binary_logloss: 0.416784\tvalid_1's binary_logloss: 0.468751\n",
      "Training until validation scores don't improve for 1000 rounds\n",
      "Early stopping, best iteration is:\n",
      "[2333]\ttraining's binary_logloss: 0.402428\tvalid_1's binary_logloss: 0.39379\n",
      "Training until validation scores don't improve for 1000 rounds\n"
     ]
    },
    {
     "name": "stderr",
     "output_type": "stream",
     "text": [
      "\u001b[32m[I 2021-10-03 19:33:48,780]\u001b[0m Trial 10 finished with value: 0.8237934904601572 and parameters: {'lambda_l1': 2.1416284689605005, 'lambda_l2': 1.361918950327909e-05, 'num_leaves': 40, 'feature_fraction': 0.41012740531755454, 'bagging_fraction': 0.42759422505953015, 'bagging_freq': 4, 'min_child_samples': 56, 'max_depth': 2}. Best is trial 2 with value: 0.8294051627384961.\u001b[0m\n"
     ]
    },
    {
     "name": "stdout",
     "output_type": "stream",
     "text": [
      "Early stopping, best iteration is:\n",
      "[753]\ttraining's binary_logloss: 0.412159\tvalid_1's binary_logloss: 0.406328\n",
      "Training until validation scores don't improve for 1000 rounds\n",
      "Early stopping, best iteration is:\n",
      "[204]\ttraining's binary_logloss: 0.383811\tvalid_1's binary_logloss: 0.391223\n",
      "Training until validation scores don't improve for 1000 rounds\n",
      "Early stopping, best iteration is:\n",
      "[711]\ttraining's binary_logloss: 0.352445\tvalid_1's binary_logloss: 0.401011\n",
      "Training until validation scores don't improve for 1000 rounds\n",
      "Early stopping, best iteration is:\n",
      "[56]\ttraining's binary_logloss: 0.391511\tvalid_1's binary_logloss: 0.457416\n",
      "Training until validation scores don't improve for 1000 rounds\n",
      "Early stopping, best iteration is:\n",
      "[876]\ttraining's binary_logloss: 0.334845\tvalid_1's binary_logloss: 0.389629\n",
      "Training until validation scores don't improve for 1000 rounds\n"
     ]
    },
    {
     "name": "stderr",
     "output_type": "stream",
     "text": [
      "\u001b[32m[I 2021-10-03 19:33:50,358]\u001b[0m Trial 11 finished with value: 0.8237934904601572 and parameters: {'lambda_l1': 0.2836194271402217, 'lambda_l2': 0.00021265490890732318, 'num_leaves': 62, 'feature_fraction': 0.4509812807395328, 'bagging_fraction': 0.899222712692335, 'bagging_freq': 4, 'min_child_samples': 51, 'max_depth': 6}. Best is trial 2 with value: 0.8294051627384961.\u001b[0m\n"
     ]
    },
    {
     "name": "stdout",
     "output_type": "stream",
     "text": [
      "Early stopping, best iteration is:\n",
      "[64]\ttraining's binary_logloss: 0.39605\tvalid_1's binary_logloss: 0.415563\n",
      "Training until validation scores don't improve for 1000 rounds\n",
      "Early stopping, best iteration is:\n",
      "[116]\ttraining's binary_logloss: 0.389329\tvalid_1's binary_logloss: 0.390515\n",
      "Training until validation scores don't improve for 1000 rounds\n",
      "Early stopping, best iteration is:\n",
      "[225]\ttraining's binary_logloss: 0.366749\tvalid_1's binary_logloss: 0.406031\n",
      "Training until validation scores don't improve for 1000 rounds\n",
      "Early stopping, best iteration is:\n",
      "[42]\ttraining's binary_logloss: 0.399497\tvalid_1's binary_logloss: 0.459504\n",
      "Training until validation scores don't improve for 1000 rounds\n",
      "Early stopping, best iteration is:\n",
      "[414]\ttraining's binary_logloss: 0.346947\tvalid_1's binary_logloss: 0.391397\n",
      "Training until validation scores don't improve for 1000 rounds\n"
     ]
    },
    {
     "name": "stderr",
     "output_type": "stream",
     "text": [
      "\u001b[32m[I 2021-10-03 19:33:52,244]\u001b[0m Trial 12 finished with value: 0.8260381593714927 and parameters: {'lambda_l1': 0.0006503831499329616, 'lambda_l2': 0.0008968289501416061, 'num_leaves': 62, 'feature_fraction': 0.49165034019051845, 'bagging_fraction': 0.7454674942210563, 'bagging_freq': 3, 'min_child_samples': 46, 'max_depth': 5}. Best is trial 2 with value: 0.8294051627384961.\u001b[0m\n"
     ]
    },
    {
     "name": "stdout",
     "output_type": "stream",
     "text": [
      "Early stopping, best iteration is:\n",
      "[73]\ttraining's binary_logloss: 0.386301\tvalid_1's binary_logloss: 0.414187\n",
      "Training until validation scores don't improve for 1000 rounds\n",
      "Early stopping, best iteration is:\n",
      "[348]\ttraining's binary_logloss: 0.390147\tvalid_1's binary_logloss: 0.400176\n",
      "Training until validation scores don't improve for 1000 rounds\n",
      "Early stopping, best iteration is:\n",
      "[183]\ttraining's binary_logloss: 0.391229\tvalid_1's binary_logloss: 0.41288\n",
      "Training until validation scores don't improve for 1000 rounds\n",
      "Early stopping, best iteration is:\n",
      "[44]\ttraining's binary_logloss: 0.40752\tvalid_1's binary_logloss: 0.464138\n",
      "Training until validation scores don't improve for 1000 rounds\n",
      "Early stopping, best iteration is:\n",
      "[828]\ttraining's binary_logloss: 0.365325\tvalid_1's binary_logloss: 0.399715\n",
      "Training until validation scores don't improve for 1000 rounds\n",
      "Early stopping, best iteration is:\n",
      "[129]\ttraining's binary_logloss: 0.393718\tvalid_1's binary_logloss: 0.418443\n"
     ]
    },
    {
     "name": "stderr",
     "output_type": "stream",
     "text": [
      "\u001b[32m[I 2021-10-03 19:33:53,676]\u001b[0m Trial 13 finished with value: 0.8103254769921436 and parameters: {'lambda_l1': 0.273378190714404, 'lambda_l2': 1.0421800697980601e-05, 'num_leaves': 44, 'feature_fraction': 0.7371247371039351, 'bagging_fraction': 0.7398852510244599, 'bagging_freq': 6, 'min_child_samples': 71, 'max_depth': 7}. Best is trial 2 with value: 0.8294051627384961.\u001b[0m\n"
     ]
    },
    {
     "name": "stdout",
     "output_type": "stream",
     "text": [
      "Training until validation scores don't improve for 1000 rounds\n",
      "Early stopping, best iteration is:\n",
      "[185]\ttraining's binary_logloss: 0.350788\tvalid_1's binary_logloss: 0.395364\n",
      "Training until validation scores don't improve for 1000 rounds\n",
      "Early stopping, best iteration is:\n",
      "[198]\ttraining's binary_logloss: 0.35074\tvalid_1's binary_logloss: 0.388895\n",
      "Training until validation scores don't improve for 1000 rounds\n",
      "Early stopping, best iteration is:\n",
      "[37]\ttraining's binary_logloss: 0.385131\tvalid_1's binary_logloss: 0.458889\n",
      "Training until validation scores don't improve for 1000 rounds\n",
      "Early stopping, best iteration is:\n",
      "[250]\ttraining's binary_logloss: 0.331176\tvalid_1's binary_logloss: 0.391931\n",
      "Training until validation scores don't improve for 1000 rounds\n"
     ]
    },
    {
     "name": "stderr",
     "output_type": "stream",
     "text": [
      "\u001b[32m[I 2021-10-03 19:33:55,149]\u001b[0m Trial 14 finished with value: 0.8282828282828283 and parameters: {'lambda_l1': 0.0018784826534156112, 'lambda_l2': 0.23908263631825605, 'num_leaves': 59, 'feature_fraction': 0.5958158533203866, 'bagging_fraction': 0.8263873838147485, 'bagging_freq': 6, 'min_child_samples': 34, 'max_depth': 5}. Best is trial 2 with value: 0.8294051627384961.\u001b[0m\n"
     ]
    },
    {
     "name": "stdout",
     "output_type": "stream",
     "text": [
      "Early stopping, best iteration is:\n",
      "[62]\ttraining's binary_logloss: 0.381028\tvalid_1's binary_logloss: 0.408594\n",
      "Training until validation scores don't improve for 1000 rounds\n",
      "Early stopping, best iteration is:\n",
      "[141]\ttraining's binary_logloss: 0.389683\tvalid_1's binary_logloss: 0.393007\n",
      "Training until validation scores don't improve for 1000 rounds\n",
      "Early stopping, best iteration is:\n",
      "[602]\ttraining's binary_logloss: 0.353004\tvalid_1's binary_logloss: 0.396648\n",
      "Training until validation scores don't improve for 1000 rounds\n",
      "Early stopping, best iteration is:\n",
      "[36]\ttraining's binary_logloss: 0.406932\tvalid_1's binary_logloss: 0.461207\n",
      "Training until validation scores don't improve for 1000 rounds\n",
      "Early stopping, best iteration is:\n",
      "[868]\ttraining's binary_logloss: 0.336135\tvalid_1's binary_logloss: 0.388784\n",
      "Training until validation scores don't improve for 1000 rounds\n"
     ]
    },
    {
     "name": "stderr",
     "output_type": "stream",
     "text": [
      "\u001b[32m[I 2021-10-03 19:33:56,796]\u001b[0m Trial 15 finished with value: 0.8294051627384961 and parameters: {'lambda_l1': 0.1703232848993538, 'lambda_l2': 0.0016964928974546492, 'num_leaves': 44, 'feature_fraction': 0.5000506408979948, 'bagging_fraction': 0.6747458422839739, 'bagging_freq': 4, 'min_child_samples': 44, 'max_depth': 6}. Best is trial 2 with value: 0.8294051627384961.\u001b[0m\n"
     ]
    },
    {
     "name": "stdout",
     "output_type": "stream",
     "text": [
      "Early stopping, best iteration is:\n",
      "[48]\ttraining's binary_logloss: 0.41077\tvalid_1's binary_logloss: 0.413426\n",
      "Training until validation scores don't improve for 1000 rounds\n",
      "Early stopping, best iteration is:\n",
      "[435]\ttraining's binary_logloss: 0.404718\tvalid_1's binary_logloss: 0.397117\n",
      "Training until validation scores don't improve for 1000 rounds\n",
      "Early stopping, best iteration is:\n",
      "[516]\ttraining's binary_logloss: 0.397244\tvalid_1's binary_logloss: 0.416689\n",
      "Training until validation scores don't improve for 1000 rounds\n",
      "Early stopping, best iteration is:\n",
      "[130]\ttraining's binary_logloss: 0.402807\tvalid_1's binary_logloss: 0.465623\n",
      "Training until validation scores don't improve for 1000 rounds\n",
      "Early stopping, best iteration is:\n",
      "[2584]\ttraining's binary_logloss: 0.375886\tvalid_1's binary_logloss: 0.38555\n",
      "Training until validation scores don't improve for 1000 rounds\n"
     ]
    },
    {
     "name": "stderr",
     "output_type": "stream",
     "text": [
      "\u001b[32m[I 2021-10-03 19:33:58,510]\u001b[0m Trial 16 finished with value: 0.8170594837261503 and parameters: {'lambda_l1': 0.24596232602034987, 'lambda_l2': 0.0018878945678034772, 'num_leaves': 56, 'feature_fraction': 0.5055515992577845, 'bagging_fraction': 0.6791486704069232, 'bagging_freq': 3, 'min_child_samples': 92, 'max_depth': 7}. Best is trial 2 with value: 0.8294051627384961.\u001b[0m\n"
     ]
    },
    {
     "name": "stdout",
     "output_type": "stream",
     "text": [
      "Early stopping, best iteration is:\n",
      "[126]\ttraining's binary_logloss: 0.416614\tvalid_1's binary_logloss: 0.413454\n",
      "Training until validation scores don't improve for 1000 rounds\n",
      "Early stopping, best iteration is:\n",
      "[371]\ttraining's binary_logloss: 0.429721\tvalid_1's binary_logloss: 0.424844\n",
      "Training until validation scores don't improve for 1000 rounds\n",
      "Early stopping, best iteration is:\n",
      "[613]\ttraining's binary_logloss: 0.425344\tvalid_1's binary_logloss: 0.422968\n",
      "Training until validation scores don't improve for 1000 rounds\n",
      "Early stopping, best iteration is:\n",
      "[423]\ttraining's binary_logloss: 0.415766\tvalid_1's binary_logloss: 0.465467\n",
      "Training until validation scores don't improve for 1000 rounds\n",
      "Early stopping, best iteration is:\n",
      "[616]\ttraining's binary_logloss: 0.425129\tvalid_1's binary_logloss: 0.440793\n",
      "Training until validation scores don't improve for 1000 rounds\n"
     ]
    },
    {
     "name": "stderr",
     "output_type": "stream",
     "text": [
      "\u001b[32m[I 2021-10-03 19:33:59,656]\u001b[0m Trial 17 finished with value: 0.7957351290684624 and parameters: {'lambda_l1': 8.652633141111906, 'lambda_l2': 0.00015400420783827853, 'num_leaves': 38, 'feature_fraction': 0.7742715188426832, 'bagging_fraction': 0.5228295097892603, 'bagging_freq': 4, 'min_child_samples': 51, 'max_depth': 4}. Best is trial 2 with value: 0.8294051627384961.\u001b[0m\n"
     ]
    },
    {
     "name": "stdout",
     "output_type": "stream",
     "text": [
      "Early stopping, best iteration is:\n",
      "[1966]\ttraining's binary_logloss: 0.42378\tvalid_1's binary_logloss: 0.412415\n",
      "Training until validation scores don't improve for 1000 rounds\n",
      "Early stopping, best iteration is:\n",
      "[108]\ttraining's binary_logloss: 0.37849\tvalid_1's binary_logloss: 0.380657\n",
      "Training until validation scores don't improve for 1000 rounds\n",
      "Early stopping, best iteration is:\n",
      "[378]\ttraining's binary_logloss: 0.336592\tvalid_1's binary_logloss: 0.391197\n",
      "Training until validation scores don't improve for 1000 rounds\n",
      "Early stopping, best iteration is:\n",
      "[42]\ttraining's binary_logloss: 0.386329\tvalid_1's binary_logloss: 0.462057\n",
      "Training until validation scores don't improve for 1000 rounds\n",
      "Early stopping, best iteration is:\n",
      "[222]\ttraining's binary_logloss: 0.347763\tvalid_1's binary_logloss: 0.396329\n",
      "Training until validation scores don't improve for 1000 rounds\n"
     ]
    },
    {
     "name": "stderr",
     "output_type": "stream",
     "text": [
      "\u001b[32m[I 2021-10-03 19:34:01,332]\u001b[0m Trial 18 finished with value: 0.8226711560044894 and parameters: {'lambda_l1': 0.11761547456550835, 'lambda_l2': 0.0007524664410500803, 'num_leaves': 25, 'feature_fraction': 0.6280859015789979, 'bagging_fraction': 0.8712806794296837, 'bagging_freq': 3, 'min_child_samples': 40, 'max_depth': 5}. Best is trial 2 with value: 0.8294051627384961.\u001b[0m\n"
     ]
    },
    {
     "name": "stdout",
     "output_type": "stream",
     "text": [
      "Early stopping, best iteration is:\n",
      "[37]\ttraining's binary_logloss: 0.40018\tvalid_1's binary_logloss: 0.413438\n",
      "Training until validation scores don't improve for 1000 rounds\n",
      "Early stopping, best iteration is:\n",
      "[731]\ttraining's binary_logloss: 0.395194\tvalid_1's binary_logloss: 0.389707\n",
      "Training until validation scores don't improve for 1000 rounds\n",
      "Early stopping, best iteration is:\n",
      "[866]\ttraining's binary_logloss: 0.384396\tvalid_1's binary_logloss: 0.404258\n",
      "Training until validation scores don't improve for 1000 rounds\n",
      "Early stopping, best iteration is:\n",
      "[49]\ttraining's binary_logloss: 0.407501\tvalid_1's binary_logloss: 0.462524\n",
      "Training until validation scores don't improve for 1000 rounds\n"
     ]
    },
    {
     "name": "stderr",
     "output_type": "stream",
     "text": [
      "\u001b[32m[I 2021-10-03 19:34:02,503]\u001b[0m Trial 19 finished with value: 0.8215488215488216 and parameters: {'lambda_l1': 2.347293116311714, 'lambda_l2': 3.8857936530190486e-05, 'num_leaves': 44, 'feature_fraction': 0.6912120156083799, 'bagging_fraction': 0.704980654539023, 'bagging_freq': 5, 'min_child_samples': 50, 'max_depth': 3}. Best is trial 2 with value: 0.8294051627384961.\u001b[0m\n"
     ]
    },
    {
     "name": "stdout",
     "output_type": "stream",
     "text": [
      "Early stopping, best iteration is:\n",
      "[688]\ttraining's binary_logloss: 0.383318\tvalid_1's binary_logloss: 0.40613\n",
      "Training until validation scores don't improve for 1000 rounds\n",
      "Early stopping, best iteration is:\n",
      "[123]\ttraining's binary_logloss: 0.404691\tvalid_1's binary_logloss: 0.406763\n",
      "Training until validation scores don't improve for 1000 rounds\n",
      "Early stopping, best iteration is:\n",
      "[133]\ttraining's binary_logloss: 0.374104\tvalid_1's binary_logloss: 0.393176\n",
      "Training until validation scores don't improve for 1000 rounds\n",
      "Early stopping, best iteration is:\n",
      "[368]\ttraining's binary_logloss: 0.335949\tvalid_1's binary_logloss: 0.389471\n",
      "Training until validation scores don't improve for 1000 rounds\n",
      "Early stopping, best iteration is:\n",
      "[36]\ttraining's binary_logloss: 0.393677\tvalid_1's binary_logloss: 0.461281\n",
      "Training until validation scores don't improve for 1000 rounds\n",
      "Early stopping, best iteration is:\n",
      "[324]\ttraining's binary_logloss: 0.334933\tvalid_1's binary_logloss: 0.393011\n",
      "Training until validation scores don't improve for 1000 rounds\n"
     ]
    },
    {
     "name": "stderr",
     "output_type": "stream",
     "text": [
      "\u001b[32m[I 2021-10-03 19:34:04,209]\u001b[0m Trial 20 finished with value: 0.8260381593714927 and parameters: {'lambda_l1': 0.0029836742744880195, 'lambda_l2': 0.0037001496538968154, 'num_leaves': 49, 'feature_fraction': 0.41375230421153975, 'bagging_fraction': 0.7897157870988243, 'bagging_freq': 2, 'min_child_samples': 33, 'max_depth': 6}. Best is trial 2 with value: 0.8294051627384961.\u001b[0m\n"
     ]
    },
    {
     "name": "stdout",
     "output_type": "stream",
     "text": [
      "Early stopping, best iteration is:\n",
      "[124]\ttraining's binary_logloss: 0.361178\tvalid_1's binary_logloss: 0.402609\n",
      "Training until validation scores don't improve for 1000 rounds\n",
      "Early stopping, best iteration is:\n",
      "[150]\ttraining's binary_logloss: 0.383346\tvalid_1's binary_logloss: 0.386471\n",
      "Training until validation scores don't improve for 1000 rounds\n",
      "Early stopping, best iteration is:\n",
      "[534]\ttraining's binary_logloss: 0.344145\tvalid_1's binary_logloss: 0.399019\n",
      "Training until validation scores don't improve for 1000 rounds\n",
      "Early stopping, best iteration is:\n",
      "[39]\ttraining's binary_logloss: 0.399482\tvalid_1's binary_logloss: 0.460146\n",
      "Training until validation scores don't improve for 1000 rounds\n",
      "Early stopping, best iteration is:\n",
      "[296]\ttraining's binary_logloss: 0.353868\tvalid_1's binary_logloss: 0.393052\n",
      "Training until validation scores don't improve for 1000 rounds\n"
     ]
    },
    {
     "name": "stderr",
     "output_type": "stream",
     "text": [
      "\u001b[32m[I 2021-10-03 19:34:05,783]\u001b[0m Trial 21 finished with value: 0.8294051627384961 and parameters: {'lambda_l1': 0.007455646361075107, 'lambda_l2': 0.00032600887253394015, 'num_leaves': 46, 'feature_fraction': 0.5160082856869526, 'bagging_fraction': 0.7155337535223008, 'bagging_freq': 4, 'min_child_samples': 44, 'max_depth': 6}. Best is trial 2 with value: 0.8294051627384961.\u001b[0m\n"
     ]
    },
    {
     "name": "stdout",
     "output_type": "stream",
     "text": [
      "Early stopping, best iteration is:\n",
      "[47]\ttraining's binary_logloss: 0.407419\tvalid_1's binary_logloss: 0.41046\n",
      "Training until validation scores don't improve for 1000 rounds\n",
      "Early stopping, best iteration is:\n",
      "[144]\ttraining's binary_logloss: 0.392924\tvalid_1's binary_logloss: 0.391189\n",
      "Training until validation scores don't improve for 1000 rounds\n",
      "Early stopping, best iteration is:\n",
      "[465]\ttraining's binary_logloss: 0.359776\tvalid_1's binary_logloss: 0.402131\n",
      "Training until validation scores don't improve for 1000 rounds\n"
     ]
    }
   ],
   "source": [
    "optuna_lgb()"
   ]
  },
  {
   "cell_type": "markdown",
   "metadata": {
    "cell_id": "00050-86d00ef8-576f-4849-9c16-824908353491",
    "deepnote_cell_type": "markdown",
    "id": "RCkXAOnxL8Lk"
   },
   "source": [
    "## XGBoost"
   ]
  },
  {
   "cell_type": "code",
   "execution_count": null,
   "metadata": {
    "cell_id": "00051-1ff7f2eb-aeae-4a3c-bd2d-f8ecdcd724d2",
    "deepnote_cell_type": "code",
    "deepnote_to_be_reexecuted": false,
    "execution_millis": 259380,
    "execution_start": 1632997926494,
    "id": "C9NgxHbDL8Lk",
    "outputId": "078df67f-66ff-4633-b391-08efdc11c3ad",
    "source_hash": "6bd16997"
   },
   "outputs": [],
   "source": [
    "#optuna example\n",
    "#https://github.com/optuna/optuna-examples/blob/main/xgboost/xgboost_integration.py\n",
    "import xgboost as xgb\n",
    "def objective(trial):\n",
    "    param = {\n",
    "            \"verbosity\": 0,\n",
    "            \"objective\": \"binary:logistic\",  #binary:logistic\n",
    "            \"eval_metric\": \"auc\",  #map\n",
    "            \"booster\": trial.suggest_categorical(\"booster\", [\"gbtree\", \"gblinear\", \"dart\"]),\n",
    "            \"lambda\": trial.suggest_float(\"lambda\", 1e-8, 1.0, log=True),\n",
    "            \"alpha\": trial.suggest_float(\"alpha\", 1e-8, 1.0, log=True),\n",
    "        }\n",
    "\n",
    "    if param[\"booster\"] == \"gbtree\" or param[\"booster\"] == \"dart\":\n",
    "        param[\"max_depth\"] = trial.suggest_int(\"max_depth\", 1, 9)\n",
    "        param[\"eta\"] = trial.suggest_float(\"eta\", 1e-8, 1.0, log=True)\n",
    "        param[\"gamma\"] = trial.suggest_float(\"gamma\", 1e-8, 1.0, log=True)\n",
    "        param[\"grow_policy\"] = trial.suggest_categorical(\"grow_policy\", [\"depthwise\", \"lossguide\"])\n",
    "    if param[\"booster\"] == \"dart\":\n",
    "        param[\"sample_type\"] = trial.suggest_categorical(\"sample_type\", [\"uniform\", \"weighted\"])\n",
    "        param[\"normalize_type\"] = trial.suggest_categorical(\"normalize_type\", [\"tree\", \"forest\"])\n",
    "        param[\"rate_drop\"] = trial.suggest_float(\"rate_drop\", 1e-8, 1.0, log=True)\n",
    "        param[\"skip_drop\"] = trial.suggest_float(\"skip_drop\", 1e-8, 1.0, log=True)\n",
    "\n",
    "    for i in range(5):\n",
    "        train_x = train.query(f'fold!={i}').drop(['fold', 'Survived'], axis=1)\n",
    "        train_y = train.query(f'fold!={i}').Survived\n",
    "\n",
    "        valid_x = train.query(f'fold=={i}').drop(['fold', 'Survived'], axis=1)\n",
    "        valid_y = train.query(f'fold=={i}').Survived\n",
    "\n",
    "        dtrain = xgb.DMatrix(train_x, label=train_y)\n",
    "        dvalid = xgb.DMatrix(valid_x, label=valid_y)\n",
    "        \n",
    "        accuracy = []\n",
    "        # Add a callback for pruning.\n",
    "        pruning_callback = optuna.integration.XGBoostPruningCallback(trial, \"validation-auc\")\n",
    "        bst = xgb.train(param, dtrain, evals=[(dvalid, \"validation\")], callbacks=[pruning_callback])\n",
    "        preds = bst.predict(dvalid)\n",
    "        pred_labels = np.rint(preds)\n",
    "        accuracy.append(sklearn.metrics.accuracy_score(valid_y, pred_labels))\n",
    "        \n",
    "        \n",
    "        joblib.dump(bst, f'xgboost_fold{i}.pkl')\n",
    "    return np.mean(accuracy)\n",
    "\n",
    "    \n",
    "if __name__ == \"__main__\":\n",
    "    study = optuna.create_study(\n",
    "        pruner=optuna.pruners.MedianPruner(n_warmup_steps=5), direction=\"maximize\"\n",
    "    )\n",
    "    study.optimize(objective, n_trials=500)\n",
    "    print(study.best_trial)"
   ]
  },
  {
   "cell_type": "markdown",
   "metadata": {
    "cell_id": "00052-d950e938-9f79-4e37-aa07-4ef37dfb5242",
    "deepnote_cell_type": "markdown",
    "id": "v4d2_k5xL8Lk"
   },
   "source": [
    "## Ensemble lgb and xgboost"
   ]
  },
  {
   "cell_type": "code",
   "execution_count": null,
   "metadata": {
    "cell_id": "00053-ba98df56-25bd-4039-998b-ef69da6769dc",
    "deepnote_cell_type": "code",
    "deepnote_to_be_reexecuted": false,
    "execution_millis": 4,
    "execution_start": 1632998185875,
    "id": "Q7cd-wmrL8Lk",
    "source_hash": "f3eb278a"
   },
   "outputs": [],
   "source": [
    "X_train = train.drop(['Survived', 'fold'], axis=1).values\n",
    "y_train = train[['Survived']].values"
   ]
  },
  {
   "cell_type": "code",
   "execution_count": null,
   "metadata": {
    "cell_id": "00054-6642aa25-0181-45c0-b91d-01f193d024d2",
    "deepnote_cell_type": "code",
    "deepnote_to_be_reexecuted": false,
    "execution_millis": 25,
    "execution_start": 1632998185912,
    "id": "kP-m4G0lL8Ll",
    "outputId": "502d83c2-fb1a-4c6d-cb49-fd1be2823fe6",
    "source_hash": "286e5f26"
   },
   "outputs": [
    {
     "ename": "KeyError",
     "evalue": "\"['Survived' 'fold'] not found in axis\"",
     "output_type": "error",
     "traceback": [
      "\u001b[0;31m---------------------------------------------------------------------------\u001b[0m",
      "\u001b[0;31mKeyError\u001b[0m                                  Traceback (most recent call last)",
      "\u001b[0;32m/tmp/ipykernel_81/210351035.py\u001b[0m in \u001b[0;36m<module>\u001b[0;34m\u001b[0m\n\u001b[0;32m----> 1\u001b[0;31m \u001b[0mtest2\u001b[0m \u001b[0;34m=\u001b[0m \u001b[0mtest\u001b[0m\u001b[0;34m.\u001b[0m\u001b[0mdrop\u001b[0m\u001b[0;34m(\u001b[0m\u001b[0;34m[\u001b[0m\u001b[0;34m'Survived'\u001b[0m\u001b[0;34m,\u001b[0m \u001b[0;34m'fold'\u001b[0m\u001b[0;34m]\u001b[0m\u001b[0;34m,\u001b[0m \u001b[0maxis\u001b[0m\u001b[0;34m=\u001b[0m\u001b[0;36m1\u001b[0m\u001b[0;34m)\u001b[0m\u001b[0;34m.\u001b[0m\u001b[0mvalues\u001b[0m\u001b[0;34m\u001b[0m\u001b[0;34m\u001b[0m\u001b[0m\n\u001b[0m",
      "\u001b[0;32m/shared-libs/python3.7/py/lib/python3.7/site-packages/pandas/core/frame.py\u001b[0m in \u001b[0;36mdrop\u001b[0;34m(self, labels, axis, index, columns, level, inplace, errors)\u001b[0m\n\u001b[1;32m   4313\u001b[0m             \u001b[0mlevel\u001b[0m\u001b[0;34m=\u001b[0m\u001b[0mlevel\u001b[0m\u001b[0;34m,\u001b[0m\u001b[0;34m\u001b[0m\u001b[0;34m\u001b[0m\u001b[0m\n\u001b[1;32m   4314\u001b[0m             \u001b[0minplace\u001b[0m\u001b[0;34m=\u001b[0m\u001b[0minplace\u001b[0m\u001b[0;34m,\u001b[0m\u001b[0;34m\u001b[0m\u001b[0;34m\u001b[0m\u001b[0m\n\u001b[0;32m-> 4315\u001b[0;31m             \u001b[0merrors\u001b[0m\u001b[0;34m=\u001b[0m\u001b[0merrors\u001b[0m\u001b[0;34m,\u001b[0m\u001b[0;34m\u001b[0m\u001b[0;34m\u001b[0m\u001b[0m\n\u001b[0m\u001b[1;32m   4316\u001b[0m         )\n\u001b[1;32m   4317\u001b[0m \u001b[0;34m\u001b[0m\u001b[0m\n",
      "\u001b[0;32m/shared-libs/python3.7/py/lib/python3.7/site-packages/pandas/core/generic.py\u001b[0m in \u001b[0;36mdrop\u001b[0;34m(self, labels, axis, index, columns, level, inplace, errors)\u001b[0m\n\u001b[1;32m   4151\u001b[0m         \u001b[0;32mfor\u001b[0m \u001b[0maxis\u001b[0m\u001b[0;34m,\u001b[0m \u001b[0mlabels\u001b[0m \u001b[0;32min\u001b[0m \u001b[0maxes\u001b[0m\u001b[0;34m.\u001b[0m\u001b[0mitems\u001b[0m\u001b[0;34m(\u001b[0m\u001b[0;34m)\u001b[0m\u001b[0;34m:\u001b[0m\u001b[0;34m\u001b[0m\u001b[0;34m\u001b[0m\u001b[0m\n\u001b[1;32m   4152\u001b[0m             \u001b[0;32mif\u001b[0m \u001b[0mlabels\u001b[0m \u001b[0;32mis\u001b[0m \u001b[0;32mnot\u001b[0m \u001b[0;32mNone\u001b[0m\u001b[0;34m:\u001b[0m\u001b[0;34m\u001b[0m\u001b[0;34m\u001b[0m\u001b[0m\n\u001b[0;32m-> 4153\u001b[0;31m                 \u001b[0mobj\u001b[0m \u001b[0;34m=\u001b[0m \u001b[0mobj\u001b[0m\u001b[0;34m.\u001b[0m\u001b[0m_drop_axis\u001b[0m\u001b[0;34m(\u001b[0m\u001b[0mlabels\u001b[0m\u001b[0;34m,\u001b[0m \u001b[0maxis\u001b[0m\u001b[0;34m,\u001b[0m \u001b[0mlevel\u001b[0m\u001b[0;34m=\u001b[0m\u001b[0mlevel\u001b[0m\u001b[0;34m,\u001b[0m \u001b[0merrors\u001b[0m\u001b[0;34m=\u001b[0m\u001b[0merrors\u001b[0m\u001b[0;34m)\u001b[0m\u001b[0;34m\u001b[0m\u001b[0;34m\u001b[0m\u001b[0m\n\u001b[0m\u001b[1;32m   4154\u001b[0m \u001b[0;34m\u001b[0m\u001b[0m\n\u001b[1;32m   4155\u001b[0m         \u001b[0;32mif\u001b[0m \u001b[0minplace\u001b[0m\u001b[0;34m:\u001b[0m\u001b[0;34m\u001b[0m\u001b[0;34m\u001b[0m\u001b[0m\n",
      "\u001b[0;32m/shared-libs/python3.7/py/lib/python3.7/site-packages/pandas/core/generic.py\u001b[0m in \u001b[0;36m_drop_axis\u001b[0;34m(self, labels, axis, level, errors)\u001b[0m\n\u001b[1;32m   4186\u001b[0m                 \u001b[0mnew_axis\u001b[0m \u001b[0;34m=\u001b[0m \u001b[0maxis\u001b[0m\u001b[0;34m.\u001b[0m\u001b[0mdrop\u001b[0m\u001b[0;34m(\u001b[0m\u001b[0mlabels\u001b[0m\u001b[0;34m,\u001b[0m \u001b[0mlevel\u001b[0m\u001b[0;34m=\u001b[0m\u001b[0mlevel\u001b[0m\u001b[0;34m,\u001b[0m \u001b[0merrors\u001b[0m\u001b[0;34m=\u001b[0m\u001b[0merrors\u001b[0m\u001b[0;34m)\u001b[0m\u001b[0;34m\u001b[0m\u001b[0;34m\u001b[0m\u001b[0m\n\u001b[1;32m   4187\u001b[0m             \u001b[0;32melse\u001b[0m\u001b[0;34m:\u001b[0m\u001b[0;34m\u001b[0m\u001b[0;34m\u001b[0m\u001b[0m\n\u001b[0;32m-> 4188\u001b[0;31m                 \u001b[0mnew_axis\u001b[0m \u001b[0;34m=\u001b[0m \u001b[0maxis\u001b[0m\u001b[0;34m.\u001b[0m\u001b[0mdrop\u001b[0m\u001b[0;34m(\u001b[0m\u001b[0mlabels\u001b[0m\u001b[0;34m,\u001b[0m \u001b[0merrors\u001b[0m\u001b[0;34m=\u001b[0m\u001b[0merrors\u001b[0m\u001b[0;34m)\u001b[0m\u001b[0;34m\u001b[0m\u001b[0;34m\u001b[0m\u001b[0m\n\u001b[0m\u001b[1;32m   4189\u001b[0m             \u001b[0mresult\u001b[0m \u001b[0;34m=\u001b[0m \u001b[0mself\u001b[0m\u001b[0;34m.\u001b[0m\u001b[0mreindex\u001b[0m\u001b[0;34m(\u001b[0m\u001b[0;34m**\u001b[0m\u001b[0;34m{\u001b[0m\u001b[0maxis_name\u001b[0m\u001b[0;34m:\u001b[0m \u001b[0mnew_axis\u001b[0m\u001b[0;34m}\u001b[0m\u001b[0;34m)\u001b[0m\u001b[0;34m\u001b[0m\u001b[0;34m\u001b[0m\u001b[0m\n\u001b[1;32m   4190\u001b[0m \u001b[0;34m\u001b[0m\u001b[0m\n",
      "\u001b[0;32m/shared-libs/python3.7/py/lib/python3.7/site-packages/pandas/core/indexes/base.py\u001b[0m in \u001b[0;36mdrop\u001b[0;34m(self, labels, errors)\u001b[0m\n\u001b[1;32m   5590\u001b[0m         \u001b[0;32mif\u001b[0m \u001b[0mmask\u001b[0m\u001b[0;34m.\u001b[0m\u001b[0many\u001b[0m\u001b[0;34m(\u001b[0m\u001b[0;34m)\u001b[0m\u001b[0;34m:\u001b[0m\u001b[0;34m\u001b[0m\u001b[0;34m\u001b[0m\u001b[0m\n\u001b[1;32m   5591\u001b[0m             \u001b[0;32mif\u001b[0m \u001b[0merrors\u001b[0m \u001b[0;34m!=\u001b[0m \u001b[0;34m\"ignore\"\u001b[0m\u001b[0;34m:\u001b[0m\u001b[0;34m\u001b[0m\u001b[0;34m\u001b[0m\u001b[0m\n\u001b[0;32m-> 5592\u001b[0;31m                 \u001b[0;32mraise\u001b[0m \u001b[0mKeyError\u001b[0m\u001b[0;34m(\u001b[0m\u001b[0;34mf\"{labels[mask]} not found in axis\"\u001b[0m\u001b[0;34m)\u001b[0m\u001b[0;34m\u001b[0m\u001b[0;34m\u001b[0m\u001b[0m\n\u001b[0m\u001b[1;32m   5593\u001b[0m             \u001b[0mindexer\u001b[0m \u001b[0;34m=\u001b[0m \u001b[0mindexer\u001b[0m\u001b[0;34m[\u001b[0m\u001b[0;34m~\u001b[0m\u001b[0mmask\u001b[0m\u001b[0;34m]\u001b[0m\u001b[0;34m\u001b[0m\u001b[0;34m\u001b[0m\u001b[0m\n\u001b[1;32m   5594\u001b[0m         \u001b[0;32mreturn\u001b[0m \u001b[0mself\u001b[0m\u001b[0;34m.\u001b[0m\u001b[0mdelete\u001b[0m\u001b[0;34m(\u001b[0m\u001b[0mindexer\u001b[0m\u001b[0;34m)\u001b[0m\u001b[0;34m\u001b[0m\u001b[0;34m\u001b[0m\u001b[0m\n",
      "\u001b[0;31mKeyError\u001b[0m: \"['Survived' 'fold'] not found in axis\""
     ]
    }
   ],
   "source": [
    "#test2 = test.drop(['Survived', 'fold'], axis=1).values"
   ]
  },
  {
   "cell_type": "code",
   "execution_count": null,
   "metadata": {
    "cell_id": "00055-dcde84bb-2acf-4eb2-873b-1adf6220a912",
    "deepnote_cell_type": "code",
    "deepnote_to_be_reexecuted": false,
    "execution_millis": 38,
    "execution_start": 1632998280658,
    "id": "YkkUBix-L8Ll",
    "source_hash": "1593250c"
   },
   "outputs": [],
   "source": [
    "#get the mean of best fold in lgb\n",
    "lgb_pred = np.zeros(418)\n",
    "for i in range(5):\n",
    "    model = joblib.load(f'./lgb_fold{i}.pkl')\n",
    "    lgb_pred += model.predict(test) / 5\n",
    "    \n",
    "lgb_pred = lgb_pred.round().astype(int)"
   ]
  },
  {
   "cell_type": "code",
   "execution_count": null,
   "metadata": {
    "cell_id": "00056-e3bdf786-559f-4035-a3c9-109a9fa943b5",
    "deepnote_cell_type": "code",
    "deepnote_to_be_reexecuted": false,
    "execution_millis": 4978,
    "execution_start": 1632998717877,
    "id": "n_ymLVwML8Ll",
    "source_hash": "5f84cb45"
   },
   "outputs": [],
   "source": [
    "#get the mean of best fold in xgboost\n",
    "xgboost_pred = np.zeros(418)\n",
    "for i in range(5):\n",
    "    model = joblib.load(f'./xgboost_fold{i}.pkl')\n",
    "    model = xgb.XGBClassifier()\n",
    "    model.fit(X_train, y_train)\n",
    "    xgboost_pred += model.predict_proba(test)[:,1] / 5\n",
    "    \n",
    "xgboost_pred = xgboost_pred.round().astype(int)"
   ]
  },
  {
   "cell_type": "code",
   "execution_count": null,
   "metadata": {
    "cell_id": "00057-bdb85ccc-21a6-4f19-9c66-ed96b2f6831d",
    "deepnote_cell_type": "code",
    "deepnote_to_be_reexecuted": false,
    "execution_millis": 19,
    "execution_start": 1632998730087,
    "id": "bmFJbv-4L8Ll",
    "source_hash": "a882e70"
   },
   "outputs": [],
   "source": [
    "#combine\n",
    "f_pro = (lgb_pred + xgboost_pred)/2    #predict probability [0, 1]"
   ]
  },
  {
   "cell_type": "code",
   "execution_count": null,
   "metadata": {
    "cell_id": "00058-dd6e70f4-ca13-430b-947f-9c1b39f76f36",
    "deepnote_cell_type": "code",
    "deepnote_to_be_reexecuted": false,
    "execution_millis": 10,
    "execution_start": 1632998733274,
    "id": "9OflF4aDL8Lm",
    "source_hash": "5657d436"
   },
   "outputs": [],
   "source": [
    "pred = []\n",
    "for i in f_pro:\n",
    "    if i > 0.5:\n",
    "        pred.append(1)\n",
    "    else:\n",
    "        pred.append(0)"
   ]
  },
  {
   "cell_type": "code",
   "execution_count": null,
   "metadata": {
    "cell_id": "00059-3635f330-b3d2-4396-a593-c31678d51937",
    "deepnote_cell_type": "code",
    "deepnote_to_be_reexecuted": false,
    "execution_millis": 0,
    "execution_start": 1632998737188,
    "id": "sHkn2NRoL8Lm",
    "source_hash": "97562538"
   },
   "outputs": [],
   "source": [
    "sub.Survived = pred"
   ]
  },
  {
   "cell_type": "code",
   "execution_count": null,
   "metadata": {
    "cell_id": "00060-78ea0b21-1192-4299-9e85-31ca5261722c",
    "deepnote_cell_type": "code",
    "deepnote_to_be_reexecuted": false,
    "execution_millis": 57,
    "execution_start": 1632998740132,
    "id": "sW_VfRz7L8Lm",
    "outputId": "9861fc3a-6db5-4d41-e2e1-12b5601ec94f",
    "source_hash": "d977bc2a"
   },
   "outputs": [
    {
     "data": {
      "application/vnd.deepnote.dataframe.v2+json": {
       "column_count": 2,
       "columns": [
        {
         "dtype": "int64",
         "name": "PassengerId",
         "stats": {
          "histogram": [
           {
            "bin_end": 933.7,
            "bin_start": 892,
            "count": 42
           },
           {
            "bin_end": 975.4,
            "bin_start": 933.7,
            "count": 42
           },
           {
            "bin_end": 1017.1,
            "bin_start": 975.4,
            "count": 42
           },
           {
            "bin_end": 1058.8,
            "bin_start": 1017.1,
            "count": 41
           },
           {
            "bin_end": 1100.5,
            "bin_start": 1058.8,
            "count": 42
           },
           {
            "bin_end": 1142.2,
            "bin_start": 1100.5,
            "count": 42
           },
           {
            "bin_end": 1183.9,
            "bin_start": 1142.2,
            "count": 41
           },
           {
            "bin_end": 1225.6,
            "bin_start": 1183.9,
            "count": 42
           },
           {
            "bin_end": 1267.3,
            "bin_start": 1225.6,
            "count": 42
           },
           {
            "bin_end": 1309,
            "bin_start": 1267.3,
            "count": 42
           }
          ],
          "max": "1309",
          "min": "892",
          "nan_count": 0,
          "unique_count": 418
         }
        },
        {
         "dtype": "int64",
         "name": "Survived",
         "stats": {
          "histogram": [
           {
            "bin_end": 0.1,
            "bin_start": 0,
            "count": 284
           },
           {
            "bin_end": 0.2,
            "bin_start": 0.1,
            "count": 0
           },
           {
            "bin_end": 0.30000000000000004,
            "bin_start": 0.2,
            "count": 0
           },
           {
            "bin_end": 0.4,
            "bin_start": 0.30000000000000004,
            "count": 0
           },
           {
            "bin_end": 0.5,
            "bin_start": 0.4,
            "count": 0
           },
           {
            "bin_end": 0.6000000000000001,
            "bin_start": 0.5,
            "count": 0
           },
           {
            "bin_end": 0.7000000000000001,
            "bin_start": 0.6000000000000001,
            "count": 0
           },
           {
            "bin_end": 0.8,
            "bin_start": 0.7000000000000001,
            "count": 0
           },
           {
            "bin_end": 0.9,
            "bin_start": 0.8,
            "count": 0
           },
           {
            "bin_end": 1,
            "bin_start": 0.9,
            "count": 134
           }
          ],
          "max": "1",
          "min": "0",
          "nan_count": 0,
          "unique_count": 2
         }
        },
        {
         "dtype": "int64",
         "name": "_deepnote_index_column"
        }
       ],
       "row_count": 418,
       "rows_bottom": null,
       "rows_top": [
        {
         "PassengerId": 892,
         "Survived": 0,
         "_deepnote_index_column": 0
        },
        {
         "PassengerId": 893,
         "Survived": 0,
         "_deepnote_index_column": 1
        },
        {
         "PassengerId": 894,
         "Survived": 0,
         "_deepnote_index_column": 2
        },
        {
         "PassengerId": 895,
         "Survived": 0,
         "_deepnote_index_column": 3
        },
        {
         "PassengerId": 896,
         "Survived": 0,
         "_deepnote_index_column": 4
        },
        {
         "PassengerId": 897,
         "Survived": 0,
         "_deepnote_index_column": 5
        },
        {
         "PassengerId": 898,
         "Survived": 1,
         "_deepnote_index_column": 6
        },
        {
         "PassengerId": 899,
         "Survived": 0,
         "_deepnote_index_column": 7
        },
        {
         "PassengerId": 900,
         "Survived": 1,
         "_deepnote_index_column": 8
        },
        {
         "PassengerId": 901,
         "Survived": 0,
         "_deepnote_index_column": 9
        },
        {
         "PassengerId": 902,
         "Survived": 0,
         "_deepnote_index_column": 10
        },
        {
         "PassengerId": 903,
         "Survived": 0,
         "_deepnote_index_column": 11
        },
        {
         "PassengerId": 904,
         "Survived": 1,
         "_deepnote_index_column": 12
        },
        {
         "PassengerId": 905,
         "Survived": 0,
         "_deepnote_index_column": 13
        },
        {
         "PassengerId": 906,
         "Survived": 1,
         "_deepnote_index_column": 14
        },
        {
         "PassengerId": 907,
         "Survived": 1,
         "_deepnote_index_column": 15
        },
        {
         "PassengerId": 908,
         "Survived": 0,
         "_deepnote_index_column": 16
        },
        {
         "PassengerId": 909,
         "Survived": 0,
         "_deepnote_index_column": 17
        },
        {
         "PassengerId": 910,
         "Survived": 0,
         "_deepnote_index_column": 18
        },
        {
         "PassengerId": 911,
         "Survived": 1,
         "_deepnote_index_column": 19
        },
        {
         "PassengerId": 912,
         "Survived": 0,
         "_deepnote_index_column": 20
        },
        {
         "PassengerId": 913,
         "Survived": 0,
         "_deepnote_index_column": 21
        },
        {
         "PassengerId": 914,
         "Survived": 1,
         "_deepnote_index_column": 22
        },
        {
         "PassengerId": 915,
         "Survived": 0,
         "_deepnote_index_column": 23
        },
        {
         "PassengerId": 916,
         "Survived": 1,
         "_deepnote_index_column": 24
        },
        {
         "PassengerId": 917,
         "Survived": 0,
         "_deepnote_index_column": 25
        },
        {
         "PassengerId": 918,
         "Survived": 1,
         "_deepnote_index_column": 26
        },
        {
         "PassengerId": 919,
         "Survived": 0,
         "_deepnote_index_column": 27
        },
        {
         "PassengerId": 920,
         "Survived": 0,
         "_deepnote_index_column": 28
        },
        {
         "PassengerId": 921,
         "Survived": 0,
         "_deepnote_index_column": 29
        },
        {
         "PassengerId": 922,
         "Survived": 0,
         "_deepnote_index_column": 30
        },
        {
         "PassengerId": 923,
         "Survived": 0,
         "_deepnote_index_column": 31
        },
        {
         "PassengerId": 924,
         "Survived": 0,
         "_deepnote_index_column": 32
        },
        {
         "PassengerId": 925,
         "Survived": 0,
         "_deepnote_index_column": 33
        },
        {
         "PassengerId": 926,
         "Survived": 0,
         "_deepnote_index_column": 34
        },
        {
         "PassengerId": 927,
         "Survived": 0,
         "_deepnote_index_column": 35
        },
        {
         "PassengerId": 928,
         "Survived": 0,
         "_deepnote_index_column": 36
        },
        {
         "PassengerId": 929,
         "Survived": 0,
         "_deepnote_index_column": 37
        },
        {
         "PassengerId": 930,
         "Survived": 0,
         "_deepnote_index_column": 38
        },
        {
         "PassengerId": 931,
         "Survived": 0,
         "_deepnote_index_column": 39
        },
        {
         "PassengerId": 932,
         "Survived": 0,
         "_deepnote_index_column": 40
        },
        {
         "PassengerId": 933,
         "Survived": 1,
         "_deepnote_index_column": 41
        },
        {
         "PassengerId": 934,
         "Survived": 0,
         "_deepnote_index_column": 42
        },
        {
         "PassengerId": 935,
         "Survived": 1,
         "_deepnote_index_column": 43
        },
        {
         "PassengerId": 936,
         "Survived": 1,
         "_deepnote_index_column": 44
        },
        {
         "PassengerId": 937,
         "Survived": 0,
         "_deepnote_index_column": 45
        },
        {
         "PassengerId": 938,
         "Survived": 0,
         "_deepnote_index_column": 46
        },
        {
         "PassengerId": 939,
         "Survived": 0,
         "_deepnote_index_column": 47
        },
        {
         "PassengerId": 940,
         "Survived": 1,
         "_deepnote_index_column": 48
        },
        {
         "PassengerId": 941,
         "Survived": 0,
         "_deepnote_index_column": 49
        },
        {
         "PassengerId": 942,
         "Survived": 0,
         "_deepnote_index_column": 50
        },
        {
         "PassengerId": 943,
         "Survived": 0,
         "_deepnote_index_column": 51
        },
        {
         "PassengerId": 944,
         "Survived": 1,
         "_deepnote_index_column": 52
        },
        {
         "PassengerId": 945,
         "Survived": 1,
         "_deepnote_index_column": 53
        },
        {
         "PassengerId": 946,
         "Survived": 0,
         "_deepnote_index_column": 54
        },
        {
         "PassengerId": 947,
         "Survived": 0,
         "_deepnote_index_column": 55
        },
        {
         "PassengerId": 948,
         "Survived": 0,
         "_deepnote_index_column": 56
        },
        {
         "PassengerId": 949,
         "Survived": 0,
         "_deepnote_index_column": 57
        },
        {
         "PassengerId": 950,
         "Survived": 0,
         "_deepnote_index_column": 58
        },
        {
         "PassengerId": 951,
         "Survived": 1,
         "_deepnote_index_column": 59
        },
        {
         "PassengerId": 952,
         "Survived": 0,
         "_deepnote_index_column": 60
        },
        {
         "PassengerId": 953,
         "Survived": 0,
         "_deepnote_index_column": 61
        },
        {
         "PassengerId": 954,
         "Survived": 0,
         "_deepnote_index_column": 62
        },
        {
         "PassengerId": 955,
         "Survived": 1,
         "_deepnote_index_column": 63
        },
        {
         "PassengerId": 956,
         "Survived": 1,
         "_deepnote_index_column": 64
        },
        {
         "PassengerId": 957,
         "Survived": 1,
         "_deepnote_index_column": 65
        },
        {
         "PassengerId": 958,
         "Survived": 1,
         "_deepnote_index_column": 66
        },
        {
         "PassengerId": 959,
         "Survived": 0,
         "_deepnote_index_column": 67
        },
        {
         "PassengerId": 960,
         "Survived": 1,
         "_deepnote_index_column": 68
        },
        {
         "PassengerId": 961,
         "Survived": 1,
         "_deepnote_index_column": 69
        },
        {
         "PassengerId": 962,
         "Survived": 1,
         "_deepnote_index_column": 70
        },
        {
         "PassengerId": 963,
         "Survived": 0,
         "_deepnote_index_column": 71
        },
        {
         "PassengerId": 964,
         "Survived": 0,
         "_deepnote_index_column": 72
        },
        {
         "PassengerId": 965,
         "Survived": 1,
         "_deepnote_index_column": 73
        },
        {
         "PassengerId": 966,
         "Survived": 1,
         "_deepnote_index_column": 74
        },
        {
         "PassengerId": 967,
         "Survived": 0,
         "_deepnote_index_column": 75
        },
        {
         "PassengerId": 968,
         "Survived": 0,
         "_deepnote_index_column": 76
        },
        {
         "PassengerId": 969,
         "Survived": 1,
         "_deepnote_index_column": 77
        },
        {
         "PassengerId": 970,
         "Survived": 0,
         "_deepnote_index_column": 78
        },
        {
         "PassengerId": 971,
         "Survived": 1,
         "_deepnote_index_column": 79
        },
        {
         "PassengerId": 972,
         "Survived": 1,
         "_deepnote_index_column": 80
        },
        {
         "PassengerId": 973,
         "Survived": 0,
         "_deepnote_index_column": 81
        },
        {
         "PassengerId": 974,
         "Survived": 0,
         "_deepnote_index_column": 82
        },
        {
         "PassengerId": 975,
         "Survived": 0,
         "_deepnote_index_column": 83
        },
        {
         "PassengerId": 976,
         "Survived": 0,
         "_deepnote_index_column": 84
        },
        {
         "PassengerId": 977,
         "Survived": 0,
         "_deepnote_index_column": 85
        },
        {
         "PassengerId": 978,
         "Survived": 1,
         "_deepnote_index_column": 86
        },
        {
         "PassengerId": 979,
         "Survived": 0,
         "_deepnote_index_column": 87
        },
        {
         "PassengerId": 980,
         "Survived": 1,
         "_deepnote_index_column": 88
        },
        {
         "PassengerId": 981,
         "Survived": 1,
         "_deepnote_index_column": 89
        },
        {
         "PassengerId": 982,
         "Survived": 0,
         "_deepnote_index_column": 90
        },
        {
         "PassengerId": 983,
         "Survived": 0,
         "_deepnote_index_column": 91
        },
        {
         "PassengerId": 984,
         "Survived": 1,
         "_deepnote_index_column": 92
        },
        {
         "PassengerId": 985,
         "Survived": 0,
         "_deepnote_index_column": 93
        },
        {
         "PassengerId": 986,
         "Survived": 0,
         "_deepnote_index_column": 94
        },
        {
         "PassengerId": 987,
         "Survived": 0,
         "_deepnote_index_column": 95
        },
        {
         "PassengerId": 988,
         "Survived": 1,
         "_deepnote_index_column": 96
        },
        {
         "PassengerId": 989,
         "Survived": 0,
         "_deepnote_index_column": 97
        },
        {
         "PassengerId": 990,
         "Survived": 1,
         "_deepnote_index_column": 98
        },
        {
         "PassengerId": 991,
         "Survived": 0,
         "_deepnote_index_column": 99
        },
        {
         "PassengerId": 992,
         "Survived": 1,
         "_deepnote_index_column": 100
        },
        {
         "PassengerId": 993,
         "Survived": 0,
         "_deepnote_index_column": 101
        },
        {
         "PassengerId": 994,
         "Survived": 0,
         "_deepnote_index_column": 102
        },
        {
         "PassengerId": 995,
         "Survived": 0,
         "_deepnote_index_column": 103
        },
        {
         "PassengerId": 996,
         "Survived": 0,
         "_deepnote_index_column": 104
        },
        {
         "PassengerId": 997,
         "Survived": 0,
         "_deepnote_index_column": 105
        },
        {
         "PassengerId": 998,
         "Survived": 0,
         "_deepnote_index_column": 106
        },
        {
         "PassengerId": 999,
         "Survived": 0,
         "_deepnote_index_column": 107
        },
        {
         "PassengerId": 1000,
         "Survived": 0,
         "_deepnote_index_column": 108
        },
        {
         "PassengerId": 1001,
         "Survived": 0,
         "_deepnote_index_column": 109
        },
        {
         "PassengerId": 1002,
         "Survived": 0,
         "_deepnote_index_column": 110
        },
        {
         "PassengerId": 1003,
         "Survived": 1,
         "_deepnote_index_column": 111
        },
        {
         "PassengerId": 1004,
         "Survived": 1,
         "_deepnote_index_column": 112
        },
        {
         "PassengerId": 1005,
         "Survived": 1,
         "_deepnote_index_column": 113
        },
        {
         "PassengerId": 1006,
         "Survived": 1,
         "_deepnote_index_column": 114
        },
        {
         "PassengerId": 1007,
         "Survived": 0,
         "_deepnote_index_column": 115
        },
        {
         "PassengerId": 1008,
         "Survived": 0,
         "_deepnote_index_column": 116
        },
        {
         "PassengerId": 1009,
         "Survived": 1,
         "_deepnote_index_column": 117
        },
        {
         "PassengerId": 1010,
         "Survived": 0,
         "_deepnote_index_column": 118
        },
        {
         "PassengerId": 1011,
         "Survived": 1,
         "_deepnote_index_column": 119
        },
        {
         "PassengerId": 1012,
         "Survived": 1,
         "_deepnote_index_column": 120
        },
        {
         "PassengerId": 1013,
         "Survived": 0,
         "_deepnote_index_column": 121
        },
        {
         "PassengerId": 1014,
         "Survived": 1,
         "_deepnote_index_column": 122
        },
        {
         "PassengerId": 1015,
         "Survived": 0,
         "_deepnote_index_column": 123
        },
        {
         "PassengerId": 1016,
         "Survived": 0,
         "_deepnote_index_column": 124
        },
        {
         "PassengerId": 1017,
         "Survived": 0,
         "_deepnote_index_column": 125
        },
        {
         "PassengerId": 1018,
         "Survived": 0,
         "_deepnote_index_column": 126
        },
        {
         "PassengerId": 1019,
         "Survived": 1,
         "_deepnote_index_column": 127
        },
        {
         "PassengerId": 1020,
         "Survived": 0,
         "_deepnote_index_column": 128
        },
        {
         "PassengerId": 1021,
         "Survived": 0,
         "_deepnote_index_column": 129
        },
        {
         "PassengerId": 1022,
         "Survived": 0,
         "_deepnote_index_column": 130
        },
        {
         "PassengerId": 1023,
         "Survived": 1,
         "_deepnote_index_column": 131
        },
        {
         "PassengerId": 1024,
         "Survived": 0,
         "_deepnote_index_column": 132
        },
        {
         "PassengerId": 1025,
         "Survived": 0,
         "_deepnote_index_column": 133
        },
        {
         "PassengerId": 1026,
         "Survived": 0,
         "_deepnote_index_column": 134
        },
        {
         "PassengerId": 1027,
         "Survived": 0,
         "_deepnote_index_column": 135
        },
        {
         "PassengerId": 1028,
         "Survived": 0,
         "_deepnote_index_column": 136
        },
        {
         "PassengerId": 1029,
         "Survived": 0,
         "_deepnote_index_column": 137
        },
        {
         "PassengerId": 1030,
         "Survived": 0,
         "_deepnote_index_column": 138
        },
        {
         "PassengerId": 1031,
         "Survived": 0,
         "_deepnote_index_column": 139
        },
        {
         "PassengerId": 1032,
         "Survived": 0,
         "_deepnote_index_column": 140
        },
        {
         "PassengerId": 1033,
         "Survived": 1,
         "_deepnote_index_column": 141
        },
        {
         "PassengerId": 1034,
         "Survived": 0,
         "_deepnote_index_column": 142
        },
        {
         "PassengerId": 1035,
         "Survived": 0,
         "_deepnote_index_column": 143
        },
        {
         "PassengerId": 1036,
         "Survived": 0,
         "_deepnote_index_column": 144
        },
        {
         "PassengerId": 1037,
         "Survived": 0,
         "_deepnote_index_column": 145
        },
        {
         "PassengerId": 1038,
         "Survived": 0,
         "_deepnote_index_column": 146
        },
        {
         "PassengerId": 1039,
         "Survived": 0,
         "_deepnote_index_column": 147
        },
        {
         "PassengerId": 1040,
         "Survived": 0,
         "_deepnote_index_column": 148
        },
        {
         "PassengerId": 1041,
         "Survived": 0,
         "_deepnote_index_column": 149
        },
        {
         "PassengerId": 1042,
         "Survived": 1,
         "_deepnote_index_column": 150
        },
        {
         "PassengerId": 1043,
         "Survived": 0,
         "_deepnote_index_column": 151
        },
        {
         "PassengerId": 1044,
         "Survived": 0,
         "_deepnote_index_column": 152
        },
        {
         "PassengerId": 1045,
         "Survived": 0,
         "_deepnote_index_column": 153
        },
        {
         "PassengerId": 1046,
         "Survived": 0,
         "_deepnote_index_column": 154
        },
        {
         "PassengerId": 1047,
         "Survived": 0,
         "_deepnote_index_column": 155
        },
        {
         "PassengerId": 1048,
         "Survived": 1,
         "_deepnote_index_column": 156
        },
        {
         "PassengerId": 1049,
         "Survived": 1,
         "_deepnote_index_column": 157
        },
        {
         "PassengerId": 1050,
         "Survived": 1,
         "_deepnote_index_column": 158
        },
        {
         "PassengerId": 1051,
         "Survived": 0,
         "_deepnote_index_column": 159
        },
        {
         "PassengerId": 1052,
         "Survived": 1,
         "_deepnote_index_column": 160
        },
        {
         "PassengerId": 1053,
         "Survived": 1,
         "_deepnote_index_column": 161
        },
        {
         "PassengerId": 1054,
         "Survived": 1,
         "_deepnote_index_column": 162
        },
        {
         "PassengerId": 1055,
         "Survived": 0,
         "_deepnote_index_column": 163
        },
        {
         "PassengerId": 1056,
         "Survived": 0,
         "_deepnote_index_column": 164
        },
        {
         "PassengerId": 1057,
         "Survived": 0,
         "_deepnote_index_column": 165
        },
        {
         "PassengerId": 1058,
         "Survived": 0,
         "_deepnote_index_column": 166
        },
        {
         "PassengerId": 1059,
         "Survived": 0,
         "_deepnote_index_column": 167
        },
        {
         "PassengerId": 1060,
         "Survived": 1,
         "_deepnote_index_column": 168
        },
        {
         "PassengerId": 1061,
         "Survived": 0,
         "_deepnote_index_column": 169
        },
        {
         "PassengerId": 1062,
         "Survived": 0,
         "_deepnote_index_column": 170
        },
        {
         "PassengerId": 1063,
         "Survived": 0,
         "_deepnote_index_column": 171
        },
        {
         "PassengerId": 1064,
         "Survived": 0,
         "_deepnote_index_column": 172
        },
        {
         "PassengerId": 1065,
         "Survived": 0,
         "_deepnote_index_column": 173
        },
        {
         "PassengerId": 1066,
         "Survived": 0,
         "_deepnote_index_column": 174
        },
        {
         "PassengerId": 1067,
         "Survived": 1,
         "_deepnote_index_column": 175
        },
        {
         "PassengerId": 1068,
         "Survived": 1,
         "_deepnote_index_column": 176
        },
        {
         "PassengerId": 1069,
         "Survived": 0,
         "_deepnote_index_column": 177
        },
        {
         "PassengerId": 1070,
         "Survived": 1,
         "_deepnote_index_column": 178
        },
        {
         "PassengerId": 1071,
         "Survived": 1,
         "_deepnote_index_column": 179
        },
        {
         "PassengerId": 1072,
         "Survived": 0,
         "_deepnote_index_column": 180
        },
        {
         "PassengerId": 1073,
         "Survived": 0,
         "_deepnote_index_column": 181
        },
        {
         "PassengerId": 1074,
         "Survived": 1,
         "_deepnote_index_column": 182
        },
        {
         "PassengerId": 1075,
         "Survived": 0,
         "_deepnote_index_column": 183
        },
        {
         "PassengerId": 1076,
         "Survived": 1,
         "_deepnote_index_column": 184
        },
        {
         "PassengerId": 1077,
         "Survived": 0,
         "_deepnote_index_column": 185
        },
        {
         "PassengerId": 1078,
         "Survived": 1,
         "_deepnote_index_column": 186
        },
        {
         "PassengerId": 1079,
         "Survived": 0,
         "_deepnote_index_column": 187
        },
        {
         "PassengerId": 1080,
         "Survived": 0,
         "_deepnote_index_column": 188
        },
        {
         "PassengerId": 1081,
         "Survived": 0,
         "_deepnote_index_column": 189
        },
        {
         "PassengerId": 1082,
         "Survived": 0,
         "_deepnote_index_column": 190
        },
        {
         "PassengerId": 1083,
         "Survived": 0,
         "_deepnote_index_column": 191
        },
        {
         "PassengerId": 1084,
         "Survived": 1,
         "_deepnote_index_column": 192
        },
        {
         "PassengerId": 1085,
         "Survived": 0,
         "_deepnote_index_column": 193
        },
        {
         "PassengerId": 1086,
         "Survived": 1,
         "_deepnote_index_column": 194
        },
        {
         "PassengerId": 1087,
         "Survived": 0,
         "_deepnote_index_column": 195
        },
        {
         "PassengerId": 1088,
         "Survived": 1,
         "_deepnote_index_column": 196
        },
        {
         "PassengerId": 1089,
         "Survived": 1,
         "_deepnote_index_column": 197
        },
        {
         "PassengerId": 1090,
         "Survived": 0,
         "_deepnote_index_column": 198
        },
        {
         "PassengerId": 1091,
         "Survived": 1,
         "_deepnote_index_column": 199
        },
        {
         "PassengerId": 1092,
         "Survived": 1,
         "_deepnote_index_column": 200
        },
        {
         "PassengerId": 1093,
         "Survived": 0,
         "_deepnote_index_column": 201
        },
        {
         "PassengerId": 1094,
         "Survived": 1,
         "_deepnote_index_column": 202
        },
        {
         "PassengerId": 1095,
         "Survived": 1,
         "_deepnote_index_column": 203
        },
        {
         "PassengerId": 1096,
         "Survived": 0,
         "_deepnote_index_column": 204
        },
        {
         "PassengerId": 1097,
         "Survived": 0,
         "_deepnote_index_column": 205
        },
        {
         "PassengerId": 1098,
         "Survived": 0,
         "_deepnote_index_column": 206
        },
        {
         "PassengerId": 1099,
         "Survived": 0,
         "_deepnote_index_column": 207
        },
        {
         "PassengerId": 1100,
         "Survived": 1,
         "_deepnote_index_column": 208
        },
        {
         "PassengerId": 1101,
         "Survived": 0,
         "_deepnote_index_column": 209
        },
        {
         "PassengerId": 1102,
         "Survived": 0,
         "_deepnote_index_column": 210
        },
        {
         "PassengerId": 1103,
         "Survived": 0,
         "_deepnote_index_column": 211
        },
        {
         "PassengerId": 1104,
         "Survived": 0,
         "_deepnote_index_column": 212
        },
        {
         "PassengerId": 1105,
         "Survived": 1,
         "_deepnote_index_column": 213
        },
        {
         "PassengerId": 1106,
         "Survived": 0,
         "_deepnote_index_column": 214
        },
        {
         "PassengerId": 1107,
         "Survived": 0,
         "_deepnote_index_column": 215
        },
        {
         "PassengerId": 1108,
         "Survived": 1,
         "_deepnote_index_column": 216
        },
        {
         "PassengerId": 1109,
         "Survived": 0,
         "_deepnote_index_column": 217
        },
        {
         "PassengerId": 1110,
         "Survived": 1,
         "_deepnote_index_column": 218
        },
        {
         "PassengerId": 1111,
         "Survived": 0,
         "_deepnote_index_column": 219
        },
        {
         "PassengerId": 1112,
         "Survived": 1,
         "_deepnote_index_column": 220
        },
        {
         "PassengerId": 1113,
         "Survived": 0,
         "_deepnote_index_column": 221
        },
        {
         "PassengerId": 1114,
         "Survived": 1,
         "_deepnote_index_column": 222
        },
        {
         "PassengerId": 1115,
         "Survived": 0,
         "_deepnote_index_column": 223
        },
        {
         "PassengerId": 1116,
         "Survived": 1,
         "_deepnote_index_column": 224
        },
        {
         "PassengerId": 1117,
         "Survived": 1,
         "_deepnote_index_column": 225
        },
        {
         "PassengerId": 1118,
         "Survived": 0,
         "_deepnote_index_column": 226
        },
        {
         "PassengerId": 1119,
         "Survived": 1,
         "_deepnote_index_column": 227
        },
        {
         "PassengerId": 1120,
         "Survived": 0,
         "_deepnote_index_column": 228
        },
        {
         "PassengerId": 1121,
         "Survived": 0,
         "_deepnote_index_column": 229
        },
        {
         "PassengerId": 1122,
         "Survived": 0,
         "_deepnote_index_column": 230
        },
        {
         "PassengerId": 1123,
         "Survived": 1,
         "_deepnote_index_column": 231
        },
        {
         "PassengerId": 1124,
         "Survived": 0,
         "_deepnote_index_column": 232
        },
        {
         "PassengerId": 1125,
         "Survived": 0,
         "_deepnote_index_column": 233
        },
        {
         "PassengerId": 1126,
         "Survived": 0,
         "_deepnote_index_column": 234
        },
        {
         "PassengerId": 1127,
         "Survived": 0,
         "_deepnote_index_column": 235
        },
        {
         "PassengerId": 1128,
         "Survived": 0,
         "_deepnote_index_column": 236
        },
        {
         "PassengerId": 1129,
         "Survived": 0,
         "_deepnote_index_column": 237
        },
        {
         "PassengerId": 1130,
         "Survived": 1,
         "_deepnote_index_column": 238
        },
        {
         "PassengerId": 1131,
         "Survived": 1,
         "_deepnote_index_column": 239
        },
        {
         "PassengerId": 1132,
         "Survived": 1,
         "_deepnote_index_column": 240
        },
        {
         "PassengerId": 1133,
         "Survived": 1,
         "_deepnote_index_column": 241
        },
        {
         "PassengerId": 1134,
         "Survived": 1,
         "_deepnote_index_column": 242
        },
        {
         "PassengerId": 1135,
         "Survived": 0,
         "_deepnote_index_column": 243
        },
        {
         "PassengerId": 1136,
         "Survived": 0,
         "_deepnote_index_column": 244
        },
        {
         "PassengerId": 1137,
         "Survived": 0,
         "_deepnote_index_column": 245
        },
        {
         "PassengerId": 1138,
         "Survived": 1,
         "_deepnote_index_column": 246
        },
        {
         "PassengerId": 1139,
         "Survived": 0,
         "_deepnote_index_column": 247
        },
        {
         "PassengerId": 1140,
         "Survived": 1,
         "_deepnote_index_column": 248
        },
        {
         "PassengerId": 1141,
         "Survived": 0,
         "_deepnote_index_column": 249
        },
        {
         "PassengerId": 1142,
         "Survived": 1,
         "_deepnote_index_column": 250
        },
        {
         "PassengerId": 1143,
         "Survived": 0,
         "_deepnote_index_column": 251
        },
        {
         "PassengerId": 1144,
         "Survived": 0,
         "_deepnote_index_column": 252
        },
        {
         "PassengerId": 1145,
         "Survived": 0,
         "_deepnote_index_column": 253
        },
        {
         "PassengerId": 1146,
         "Survived": 0,
         "_deepnote_index_column": 254
        },
        {
         "PassengerId": 1147,
         "Survived": 0,
         "_deepnote_index_column": 255
        },
        {
         "PassengerId": 1148,
         "Survived": 0,
         "_deepnote_index_column": 256
        },
        {
         "PassengerId": 1149,
         "Survived": 0,
         "_deepnote_index_column": 257
        },
        {
         "PassengerId": 1150,
         "Survived": 1,
         "_deepnote_index_column": 258
        },
        {
         "PassengerId": 1151,
         "Survived": 0,
         "_deepnote_index_column": 259
        },
        {
         "PassengerId": 1152,
         "Survived": 0,
         "_deepnote_index_column": 260
        },
        {
         "PassengerId": 1153,
         "Survived": 0,
         "_deepnote_index_column": 261
        },
        {
         "PassengerId": 1154,
         "Survived": 1,
         "_deepnote_index_column": 262
        },
        {
         "PassengerId": 1155,
         "Survived": 0,
         "_deepnote_index_column": 263
        },
        {
         "PassengerId": 1156,
         "Survived": 0,
         "_deepnote_index_column": 264
        },
        {
         "PassengerId": 1157,
         "Survived": 0,
         "_deepnote_index_column": 265
        },
        {
         "PassengerId": 1158,
         "Survived": 0,
         "_deepnote_index_column": 266
        },
        {
         "PassengerId": 1159,
         "Survived": 0,
         "_deepnote_index_column": 267
        },
        {
         "PassengerId": 1160,
         "Survived": 0,
         "_deepnote_index_column": 268
        },
        {
         "PassengerId": 1161,
         "Survived": 0,
         "_deepnote_index_column": 269
        },
        {
         "PassengerId": 1162,
         "Survived": 0,
         "_deepnote_index_column": 270
        },
        {
         "PassengerId": 1163,
         "Survived": 0,
         "_deepnote_index_column": 271
        },
        {
         "PassengerId": 1164,
         "Survived": 1,
         "_deepnote_index_column": 272
        },
        {
         "PassengerId": 1165,
         "Survived": 1,
         "_deepnote_index_column": 273
        },
        {
         "PassengerId": 1166,
         "Survived": 0,
         "_deepnote_index_column": 274
        },
        {
         "PassengerId": 1167,
         "Survived": 1,
         "_deepnote_index_column": 275
        },
        {
         "PassengerId": 1168,
         "Survived": 0,
         "_deepnote_index_column": 276
        },
        {
         "PassengerId": 1169,
         "Survived": 0,
         "_deepnote_index_column": 277
        },
        {
         "PassengerId": 1170,
         "Survived": 0,
         "_deepnote_index_column": 278
        },
        {
         "PassengerId": 1171,
         "Survived": 0,
         "_deepnote_index_column": 279
        },
        {
         "PassengerId": 1172,
         "Survived": 0,
         "_deepnote_index_column": 280
        },
        {
         "PassengerId": 1173,
         "Survived": 1,
         "_deepnote_index_column": 281
        },
        {
         "PassengerId": 1174,
         "Survived": 1,
         "_deepnote_index_column": 282
        },
        {
         "PassengerId": 1175,
         "Survived": 1,
         "_deepnote_index_column": 283
        },
        {
         "PassengerId": 1176,
         "Survived": 0,
         "_deepnote_index_column": 284
        },
        {
         "PassengerId": 1177,
         "Survived": 0,
         "_deepnote_index_column": 285
        },
        {
         "PassengerId": 1178,
         "Survived": 0,
         "_deepnote_index_column": 286
        },
        {
         "PassengerId": 1179,
         "Survived": 0,
         "_deepnote_index_column": 287
        },
        {
         "PassengerId": 1180,
         "Survived": 0,
         "_deepnote_index_column": 288
        },
        {
         "PassengerId": 1181,
         "Survived": 0,
         "_deepnote_index_column": 289
        },
        {
         "PassengerId": 1182,
         "Survived": 0,
         "_deepnote_index_column": 290
        },
        {
         "PassengerId": 1183,
         "Survived": 1,
         "_deepnote_index_column": 291
        },
        {
         "PassengerId": 1184,
         "Survived": 0,
         "_deepnote_index_column": 292
        },
        {
         "PassengerId": 1185,
         "Survived": 1,
         "_deepnote_index_column": 293
        },
        {
         "PassengerId": 1186,
         "Survived": 0,
         "_deepnote_index_column": 294
        },
        {
         "PassengerId": 1187,
         "Survived": 0,
         "_deepnote_index_column": 295
        },
        {
         "PassengerId": 1188,
         "Survived": 1,
         "_deepnote_index_column": 296
        },
        {
         "PassengerId": 1189,
         "Survived": 0,
         "_deepnote_index_column": 297
        },
        {
         "PassengerId": 1190,
         "Survived": 0,
         "_deepnote_index_column": 298
        },
        {
         "PassengerId": 1191,
         "Survived": 0,
         "_deepnote_index_column": 299
        },
        {
         "PassengerId": 1192,
         "Survived": 0,
         "_deepnote_index_column": 300
        },
        {
         "PassengerId": 1193,
         "Survived": 0,
         "_deepnote_index_column": 301
        },
        {
         "PassengerId": 1194,
         "Survived": 0,
         "_deepnote_index_column": 302
        },
        {
         "PassengerId": 1195,
         "Survived": 0,
         "_deepnote_index_column": 303
        },
        {
         "PassengerId": 1196,
         "Survived": 1,
         "_deepnote_index_column": 304
        },
        {
         "PassengerId": 1197,
         "Survived": 1,
         "_deepnote_index_column": 305
        },
        {
         "PassengerId": 1198,
         "Survived": 0,
         "_deepnote_index_column": 306
        },
        {
         "PassengerId": 1199,
         "Survived": 0,
         "_deepnote_index_column": 307
        },
        {
         "PassengerId": 1200,
         "Survived": 0,
         "_deepnote_index_column": 308
        },
        {
         "PassengerId": 1201,
         "Survived": 0,
         "_deepnote_index_column": 309
        },
        {
         "PassengerId": 1202,
         "Survived": 0,
         "_deepnote_index_column": 310
        },
        {
         "PassengerId": 1203,
         "Survived": 0,
         "_deepnote_index_column": 311
        },
        {
         "PassengerId": 1204,
         "Survived": 0,
         "_deepnote_index_column": 312
        },
        {
         "PassengerId": 1205,
         "Survived": 0,
         "_deepnote_index_column": 313
        },
        {
         "PassengerId": 1206,
         "Survived": 1,
         "_deepnote_index_column": 314
        },
        {
         "PassengerId": 1207,
         "Survived": 1,
         "_deepnote_index_column": 315
        },
        {
         "PassengerId": 1208,
         "Survived": 0,
         "_deepnote_index_column": 316
        },
        {
         "PassengerId": 1209,
         "Survived": 0,
         "_deepnote_index_column": 317
        },
        {
         "PassengerId": 1210,
         "Survived": 0,
         "_deepnote_index_column": 318
        },
        {
         "PassengerId": 1211,
         "Survived": 0,
         "_deepnote_index_column": 319
        },
        {
         "PassengerId": 1212,
         "Survived": 0,
         "_deepnote_index_column": 320
        },
        {
         "PassengerId": 1213,
         "Survived": 0,
         "_deepnote_index_column": 321
        },
        {
         "PassengerId": 1214,
         "Survived": 0,
         "_deepnote_index_column": 322
        },
        {
         "PassengerId": 1215,
         "Survived": 0,
         "_deepnote_index_column": 323
        },
        {
         "PassengerId": 1216,
         "Survived": 1,
         "_deepnote_index_column": 324
        },
        {
         "PassengerId": 1217,
         "Survived": 0,
         "_deepnote_index_column": 325
        },
        {
         "PassengerId": 1218,
         "Survived": 1,
         "_deepnote_index_column": 326
        },
        {
         "PassengerId": 1219,
         "Survived": 0,
         "_deepnote_index_column": 327
        },
        {
         "PassengerId": 1220,
         "Survived": 0,
         "_deepnote_index_column": 328
        },
        {
         "PassengerId": 1221,
         "Survived": 0,
         "_deepnote_index_column": 329
        },
        {
         "PassengerId": 1222,
         "Survived": 1,
         "_deepnote_index_column": 330
        },
        {
         "PassengerId": 1223,
         "Survived": 0,
         "_deepnote_index_column": 331
        },
        {
         "PassengerId": 1224,
         "Survived": 0,
         "_deepnote_index_column": 332
        },
        {
         "PassengerId": 1225,
         "Survived": 1,
         "_deepnote_index_column": 333
        },
        {
         "PassengerId": 1226,
         "Survived": 0,
         "_deepnote_index_column": 334
        },
        {
         "PassengerId": 1227,
         "Survived": 0,
         "_deepnote_index_column": 335
        },
        {
         "PassengerId": 1228,
         "Survived": 0,
         "_deepnote_index_column": 336
        },
        {
         "PassengerId": 1229,
         "Survived": 0,
         "_deepnote_index_column": 337
        },
        {
         "PassengerId": 1230,
         "Survived": 0,
         "_deepnote_index_column": 338
        },
        {
         "PassengerId": 1231,
         "Survived": 0,
         "_deepnote_index_column": 339
        },
        {
         "PassengerId": 1232,
         "Survived": 0,
         "_deepnote_index_column": 340
        },
        {
         "PassengerId": 1233,
         "Survived": 0,
         "_deepnote_index_column": 341
        },
        {
         "PassengerId": 1234,
         "Survived": 0,
         "_deepnote_index_column": 342
        },
        {
         "PassengerId": 1235,
         "Survived": 1,
         "_deepnote_index_column": 343
        },
        {
         "PassengerId": 1236,
         "Survived": 0,
         "_deepnote_index_column": 344
        },
        {
         "PassengerId": 1237,
         "Survived": 1,
         "_deepnote_index_column": 345
        },
        {
         "PassengerId": 1238,
         "Survived": 0,
         "_deepnote_index_column": 346
        },
        {
         "PassengerId": 1239,
         "Survived": 1,
         "_deepnote_index_column": 347
        },
        {
         "PassengerId": 1240,
         "Survived": 0,
         "_deepnote_index_column": 348
        },
        {
         "PassengerId": 1241,
         "Survived": 1,
         "_deepnote_index_column": 349
        },
        {
         "PassengerId": 1242,
         "Survived": 1,
         "_deepnote_index_column": 350
        },
        {
         "PassengerId": 1243,
         "Survived": 0,
         "_deepnote_index_column": 351
        },
        {
         "PassengerId": 1244,
         "Survived": 0,
         "_deepnote_index_column": 352
        },
        {
         "PassengerId": 1245,
         "Survived": 0,
         "_deepnote_index_column": 353
        },
        {
         "PassengerId": 1246,
         "Survived": 0,
         "_deepnote_index_column": 354
        },
        {
         "PassengerId": 1247,
         "Survived": 0,
         "_deepnote_index_column": 355
        },
        {
         "PassengerId": 1248,
         "Survived": 1,
         "_deepnote_index_column": 356
        },
        {
         "PassengerId": 1249,
         "Survived": 0,
         "_deepnote_index_column": 357
        },
        {
         "PassengerId": 1250,
         "Survived": 0,
         "_deepnote_index_column": 358
        },
        {
         "PassengerId": 1251,
         "Survived": 0,
         "_deepnote_index_column": 359
        },
        {
         "PassengerId": 1252,
         "Survived": 0,
         "_deepnote_index_column": 360
        },
        {
         "PassengerId": 1253,
         "Survived": 1,
         "_deepnote_index_column": 361
        },
        {
         "PassengerId": 1254,
         "Survived": 1,
         "_deepnote_index_column": 362
        },
        {
         "PassengerId": 1255,
         "Survived": 0,
         "_deepnote_index_column": 363
        },
        {
         "PassengerId": 1256,
         "Survived": 1,
         "_deepnote_index_column": 364
        },
        {
         "PassengerId": 1257,
         "Survived": 0,
         "_deepnote_index_column": 365
        },
        {
         "PassengerId": 1258,
         "Survived": 0,
         "_deepnote_index_column": 366
        },
        {
         "PassengerId": 1259,
         "Survived": 0,
         "_deepnote_index_column": 367
        },
        {
         "PassengerId": 1260,
         "Survived": 1,
         "_deepnote_index_column": 368
        },
        {
         "PassengerId": 1261,
         "Survived": 0,
         "_deepnote_index_column": 369
        },
        {
         "PassengerId": 1262,
         "Survived": 0,
         "_deepnote_index_column": 370
        },
        {
         "PassengerId": 1263,
         "Survived": 1,
         "_deepnote_index_column": 371
        },
        {
         "PassengerId": 1264,
         "Survived": 0,
         "_deepnote_index_column": 372
        },
        {
         "PassengerId": 1265,
         "Survived": 0,
         "_deepnote_index_column": 373
        },
        {
         "PassengerId": 1266,
         "Survived": 1,
         "_deepnote_index_column": 374
        },
        {
         "PassengerId": 1267,
         "Survived": 1,
         "_deepnote_index_column": 375
        },
        {
         "PassengerId": 1268,
         "Survived": 0,
         "_deepnote_index_column": 376
        },
        {
         "PassengerId": 1269,
         "Survived": 0,
         "_deepnote_index_column": 377
        },
        {
         "PassengerId": 1270,
         "Survived": 0,
         "_deepnote_index_column": 378
        },
        {
         "PassengerId": 1271,
         "Survived": 0,
         "_deepnote_index_column": 379
        },
        {
         "PassengerId": 1272,
         "Survived": 0,
         "_deepnote_index_column": 380
        },
        {
         "PassengerId": 1273,
         "Survived": 0,
         "_deepnote_index_column": 381
        },
        {
         "PassengerId": 1274,
         "Survived": 1,
         "_deepnote_index_column": 382
        },
        {
         "PassengerId": 1275,
         "Survived": 0,
         "_deepnote_index_column": 383
        },
        {
         "PassengerId": 1276,
         "Survived": 0,
         "_deepnote_index_column": 384
        },
        {
         "PassengerId": 1277,
         "Survived": 1,
         "_deepnote_index_column": 385
        },
        {
         "PassengerId": 1278,
         "Survived": 0,
         "_deepnote_index_column": 386
        },
        {
         "PassengerId": 1279,
         "Survived": 0,
         "_deepnote_index_column": 387
        },
        {
         "PassengerId": 1280,
         "Survived": 0,
         "_deepnote_index_column": 388
        },
        {
         "PassengerId": 1281,
         "Survived": 0,
         "_deepnote_index_column": 389
        },
        {
         "PassengerId": 1282,
         "Survived": 0,
         "_deepnote_index_column": 390
        },
        {
         "PassengerId": 1283,
         "Survived": 1,
         "_deepnote_index_column": 391
        },
        {
         "PassengerId": 1284,
         "Survived": 0,
         "_deepnote_index_column": 392
        },
        {
         "PassengerId": 1285,
         "Survived": 0,
         "_deepnote_index_column": 393
        },
        {
         "PassengerId": 1286,
         "Survived": 0,
         "_deepnote_index_column": 394
        },
        {
         "PassengerId": 1287,
         "Survived": 1,
         "_deepnote_index_column": 395
        },
        {
         "PassengerId": 1288,
         "Survived": 0,
         "_deepnote_index_column": 396
        },
        {
         "PassengerId": 1289,
         "Survived": 1,
         "_deepnote_index_column": 397
        },
        {
         "PassengerId": 1290,
         "Survived": 0,
         "_deepnote_index_column": 398
        },
        {
         "PassengerId": 1291,
         "Survived": 0,
         "_deepnote_index_column": 399
        },
        {
         "PassengerId": 1292,
         "Survived": 1,
         "_deepnote_index_column": 400
        },
        {
         "PassengerId": 1293,
         "Survived": 0,
         "_deepnote_index_column": 401
        },
        {
         "PassengerId": 1294,
         "Survived": 1,
         "_deepnote_index_column": 402
        },
        {
         "PassengerId": 1295,
         "Survived": 0,
         "_deepnote_index_column": 403
        },
        {
         "PassengerId": 1296,
         "Survived": 1,
         "_deepnote_index_column": 404
        },
        {
         "PassengerId": 1297,
         "Survived": 0,
         "_deepnote_index_column": 405
        },
        {
         "PassengerId": 1298,
         "Survived": 0,
         "_deepnote_index_column": 406
        },
        {
         "PassengerId": 1299,
         "Survived": 0,
         "_deepnote_index_column": 407
        },
        {
         "PassengerId": 1300,
         "Survived": 1,
         "_deepnote_index_column": 408
        },
        {
         "PassengerId": 1301,
         "Survived": 1,
         "_deepnote_index_column": 409
        },
        {
         "PassengerId": 1302,
         "Survived": 1,
         "_deepnote_index_column": 410
        },
        {
         "PassengerId": 1303,
         "Survived": 1,
         "_deepnote_index_column": 411
        },
        {
         "PassengerId": 1304,
         "Survived": 1,
         "_deepnote_index_column": 412
        },
        {
         "PassengerId": 1305,
         "Survived": 0,
         "_deepnote_index_column": 413
        },
        {
         "PassengerId": 1306,
         "Survived": 1,
         "_deepnote_index_column": 414
        },
        {
         "PassengerId": 1307,
         "Survived": 0,
         "_deepnote_index_column": 415
        },
        {
         "PassengerId": 1308,
         "Survived": 0,
         "_deepnote_index_column": 416
        },
        {
         "PassengerId": 1309,
         "Survived": 1,
         "_deepnote_index_column": 417
        }
       ]
      },
      "text/html": [
       "<div>\n",
       "<style scoped>\n",
       "    .dataframe tbody tr th:only-of-type {\n",
       "        vertical-align: middle;\n",
       "    }\n",
       "\n",
       "    .dataframe tbody tr th {\n",
       "        vertical-align: top;\n",
       "    }\n",
       "\n",
       "    .dataframe thead th {\n",
       "        text-align: right;\n",
       "    }\n",
       "</style>\n",
       "<table border=\"1\" class=\"dataframe\">\n",
       "  <thead>\n",
       "    <tr style=\"text-align: right;\">\n",
       "      <th></th>\n",
       "      <th>PassengerId</th>\n",
       "      <th>Survived</th>\n",
       "    </tr>\n",
       "  </thead>\n",
       "  <tbody>\n",
       "    <tr>\n",
       "      <th>0</th>\n",
       "      <td>892</td>\n",
       "      <td>0</td>\n",
       "    </tr>\n",
       "    <tr>\n",
       "      <th>1</th>\n",
       "      <td>893</td>\n",
       "      <td>0</td>\n",
       "    </tr>\n",
       "    <tr>\n",
       "      <th>2</th>\n",
       "      <td>894</td>\n",
       "      <td>0</td>\n",
       "    </tr>\n",
       "    <tr>\n",
       "      <th>3</th>\n",
       "      <td>895</td>\n",
       "      <td>0</td>\n",
       "    </tr>\n",
       "    <tr>\n",
       "      <th>4</th>\n",
       "      <td>896</td>\n",
       "      <td>0</td>\n",
       "    </tr>\n",
       "    <tr>\n",
       "      <th>...</th>\n",
       "      <td>...</td>\n",
       "      <td>...</td>\n",
       "    </tr>\n",
       "    <tr>\n",
       "      <th>413</th>\n",
       "      <td>1305</td>\n",
       "      <td>0</td>\n",
       "    </tr>\n",
       "    <tr>\n",
       "      <th>414</th>\n",
       "      <td>1306</td>\n",
       "      <td>1</td>\n",
       "    </tr>\n",
       "    <tr>\n",
       "      <th>415</th>\n",
       "      <td>1307</td>\n",
       "      <td>0</td>\n",
       "    </tr>\n",
       "    <tr>\n",
       "      <th>416</th>\n",
       "      <td>1308</td>\n",
       "      <td>0</td>\n",
       "    </tr>\n",
       "    <tr>\n",
       "      <th>417</th>\n",
       "      <td>1309</td>\n",
       "      <td>1</td>\n",
       "    </tr>\n",
       "  </tbody>\n",
       "</table>\n",
       "<p>418 rows × 2 columns</p>\n",
       "</div>"
      ],
      "text/plain": [
       "     PassengerId  Survived\n",
       "0            892         0\n",
       "1            893         0\n",
       "2            894         0\n",
       "3            895         0\n",
       "4            896         0\n",
       "..           ...       ...\n",
       "413         1305         0\n",
       "414         1306         1\n",
       "415         1307         0\n",
       "416         1308         0\n",
       "417         1309         1\n",
       "\n",
       "[418 rows x 2 columns]"
      ]
     },
     "execution_count": 380,
     "metadata": {},
     "output_type": "execute_result"
    }
   ],
   "source": [
    "sub"
   ]
  },
  {
   "cell_type": "code",
   "execution_count": null,
   "metadata": {
    "cell_id": "00061-177fcdd7-b12d-4f93-9eba-98545cc0b71f",
    "deepnote_cell_type": "code",
    "deepnote_to_be_reexecuted": false,
    "execution_millis": 12,
    "execution_start": 1632998752796,
    "id": "99KujNUQL8Lm",
    "source_hash": "e8fbbc78"
   },
   "outputs": [],
   "source": [
    "sub.to_csv('submission_newnew.csv', index=False)"
   ]
  },
  {
   "cell_type": "code",
   "execution_count": null,
   "metadata": {
    "cell_id": "00062-4b292bc4-dee0-476c-87f0-6552a481e648",
    "deepnote_cell_type": "code",
    "id": "hdxlipA3L8Lm"
   },
   "outputs": [],
   "source": []
  },
  {
   "cell_type": "markdown",
   "metadata": {
    "created_in_deepnote_cell": true,
    "deepnote_cell_type": "markdown",
    "id": "oZ0rpe5KXo4f",
    "tags": []
   },
   "source": [
    "<a style='text-decoration:none;line-height:16px;display:flex;color:#5B5B62;padding:10px;justify-content:end;' href='https://deepnote.com?utm_source=created-in-deepnote-cell&projectId=6f45f37b-2499-4526-9eb4-651deeca3084' target=\"_blank\">\n",
    "<img alt='Created in deepnote.com' style='display:inline;max-height:16px;margin:0px;margin-right:7.5px;' src='data:image/svg+xml;base64,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' > </img>\n",
    "Created in <span style='font-weight:600;margin-left:4px;'>Deepnote</span></a>"
   ]
  }
 ],
 "metadata": {
  "colab": {
   "name": "anji_titanic_0.789.ipynb",
   "provenance": []
  },
  "deepnote": {},
  "deepnote_execution_queue": [],
  "deepnote_notebook_id": "f2cf0a64-0330-4f45-bdb1-eb2c31e5a468",
  "kernelspec": {
   "display_name": "Python 3",
   "language": "python",
   "name": "python3"
  },
  "language_info": {
   "codemirror_mode": {
    "name": "ipython",
    "version": 3
   },
   "file_extension": ".py",
   "mimetype": "text/x-python",
   "name": "python",
   "nbconvert_exporter": "python",
   "pygments_lexer": "ipython3",
   "version": "3.7.6"
  }
 },
 "nbformat": 4,
 "nbformat_minor": 1
}
