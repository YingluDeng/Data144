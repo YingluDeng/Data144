{
 "cells": [
  {
   "cell_type": "code",
   "execution_count": 1085,
   "metadata": {
    "_cell_guid": "b1076dfc-b9ad-4769-8c92-a6c4dae69d19",
    "_uuid": "8f2839f25d086af736a60e9eeb907d3b93b6e0e5"
   },
   "outputs": [],
   "source": [
    "#load the library\n",
    "import numpy as np\n",
    "import pandas as pd\n",
    "\n",
    "import sklearn.datasets\n",
    "import sklearn.metrics\n",
    "from sklearn.model_selection import train_test_split\n",
    "from sklearn import preprocessing\n",
    "from sklearn.metrics import log_loss\n",
    "from sklearn.model_selection import StratifiedKFold\n",
    "from sklearn.preprocessing import QuantileTransformer\n",
    "from sklearn.metrics import accuracy_score\n",
    "from sklearn import linear_model\n",
    "from sklearn import ensemble\n",
    "from sklearn import datasets\n",
    "from sklearn import model_selection\n",
    "from sklearn.ensemble import VotingClassifier \n",
    "from sklearn.linear_model import LogisticRegression \n",
    "from sklearn.tree import DecisionTreeClassifier \n",
    "from sklearn.datasets import load_iris \n",
    "from sklearn.metrics import accuracy_score \n",
    "from sklearn.model_selection import train_test_split\n",
    "\n",
    "import lightgbm as lgb\n",
    "import optuna\n",
    "import warnings\n",
    "from tqdm import tqdm\n",
    "import time\n",
    "from sklearn.decomposition import TruncatedSVD, PCA\n",
    "import joblib\n",
    "import matplotlib.pyplot as plt\n",
    "warnings.filterwarnings('ignore')"
   ]
  },
  {
   "cell_type": "code",
   "execution_count": 1086,
   "metadata": {
    "_cell_guid": "79c7e3d0-c299-4dcb-8224-4455121ee9b0",
    "_uuid": "d629ff2d2480ee46fbb7e2d37f6b5fab8052498a"
   },
   "outputs": [],
   "source": [
    "#import data\n",
    "train = pd.read_csv('train.csv')\n",
    "test = pd.read_csv('test.csv')\n",
    "sub = pd.read_csv('gender_submission.csv')"
   ]
  },
  {
   "cell_type": "code",
   "execution_count": 1087,
   "metadata": {},
   "outputs": [
    {
     "data": {
      "text/html": [
       "<div>\n",
       "<style scoped>\n",
       "    .dataframe tbody tr th:only-of-type {\n",
       "        vertical-align: middle;\n",
       "    }\n",
       "\n",
       "    .dataframe tbody tr th {\n",
       "        vertical-align: top;\n",
       "    }\n",
       "\n",
       "    .dataframe thead th {\n",
       "        text-align: right;\n",
       "    }\n",
       "</style>\n",
       "<table border=\"1\" class=\"dataframe\">\n",
       "  <thead>\n",
       "    <tr style=\"text-align: right;\">\n",
       "      <th></th>\n",
       "      <th>PassengerId</th>\n",
       "      <th>Survived</th>\n",
       "      <th>Pclass</th>\n",
       "      <th>Name</th>\n",
       "      <th>Sex</th>\n",
       "      <th>Age</th>\n",
       "      <th>SibSp</th>\n",
       "      <th>Parch</th>\n",
       "      <th>Ticket</th>\n",
       "      <th>Fare</th>\n",
       "      <th>Cabin</th>\n",
       "      <th>Embarked</th>\n",
       "    </tr>\n",
       "  </thead>\n",
       "  <tbody>\n",
       "    <tr>\n",
       "      <th>0</th>\n",
       "      <td>1</td>\n",
       "      <td>0</td>\n",
       "      <td>3</td>\n",
       "      <td>Braund, Mr. Owen Harris</td>\n",
       "      <td>male</td>\n",
       "      <td>22.0</td>\n",
       "      <td>1</td>\n",
       "      <td>0</td>\n",
       "      <td>A/5 21171</td>\n",
       "      <td>7.2500</td>\n",
       "      <td>NaN</td>\n",
       "      <td>S</td>\n",
       "    </tr>\n",
       "    <tr>\n",
       "      <th>1</th>\n",
       "      <td>2</td>\n",
       "      <td>1</td>\n",
       "      <td>1</td>\n",
       "      <td>Cumings, Mrs. John Bradley (Florence Briggs Th...</td>\n",
       "      <td>female</td>\n",
       "      <td>38.0</td>\n",
       "      <td>1</td>\n",
       "      <td>0</td>\n",
       "      <td>PC 17599</td>\n",
       "      <td>71.2833</td>\n",
       "      <td>C85</td>\n",
       "      <td>C</td>\n",
       "    </tr>\n",
       "    <tr>\n",
       "      <th>2</th>\n",
       "      <td>3</td>\n",
       "      <td>1</td>\n",
       "      <td>3</td>\n",
       "      <td>Heikkinen, Miss. Laina</td>\n",
       "      <td>female</td>\n",
       "      <td>26.0</td>\n",
       "      <td>0</td>\n",
       "      <td>0</td>\n",
       "      <td>STON/O2. 3101282</td>\n",
       "      <td>7.9250</td>\n",
       "      <td>NaN</td>\n",
       "      <td>S</td>\n",
       "    </tr>\n",
       "    <tr>\n",
       "      <th>3</th>\n",
       "      <td>4</td>\n",
       "      <td>1</td>\n",
       "      <td>1</td>\n",
       "      <td>Futrelle, Mrs. Jacques Heath (Lily May Peel)</td>\n",
       "      <td>female</td>\n",
       "      <td>35.0</td>\n",
       "      <td>1</td>\n",
       "      <td>0</td>\n",
       "      <td>113803</td>\n",
       "      <td>53.1000</td>\n",
       "      <td>C123</td>\n",
       "      <td>S</td>\n",
       "    </tr>\n",
       "    <tr>\n",
       "      <th>4</th>\n",
       "      <td>5</td>\n",
       "      <td>0</td>\n",
       "      <td>3</td>\n",
       "      <td>Allen, Mr. William Henry</td>\n",
       "      <td>male</td>\n",
       "      <td>35.0</td>\n",
       "      <td>0</td>\n",
       "      <td>0</td>\n",
       "      <td>373450</td>\n",
       "      <td>8.0500</td>\n",
       "      <td>NaN</td>\n",
       "      <td>S</td>\n",
       "    </tr>\n",
       "  </tbody>\n",
       "</table>\n",
       "</div>"
      ],
      "text/plain": [
       "   PassengerId  Survived  Pclass  \\\n",
       "0            1         0       3   \n",
       "1            2         1       1   \n",
       "2            3         1       3   \n",
       "3            4         1       1   \n",
       "4            5         0       3   \n",
       "\n",
       "                                                Name     Sex   Age  SibSp  \\\n",
       "0                            Braund, Mr. Owen Harris    male  22.0      1   \n",
       "1  Cumings, Mrs. John Bradley (Florence Briggs Th...  female  38.0      1   \n",
       "2                             Heikkinen, Miss. Laina  female  26.0      0   \n",
       "3       Futrelle, Mrs. Jacques Heath (Lily May Peel)  female  35.0      1   \n",
       "4                           Allen, Mr. William Henry    male  35.0      0   \n",
       "\n",
       "   Parch            Ticket     Fare Cabin Embarked  \n",
       "0      0         A/5 21171   7.2500   NaN        S  \n",
       "1      0          PC 17599  71.2833   C85        C  \n",
       "2      0  STON/O2. 3101282   7.9250   NaN        S  \n",
       "3      0            113803  53.1000  C123        S  \n",
       "4      0            373450   8.0500   NaN        S  "
      ]
     },
     "execution_count": 1087,
     "metadata": {},
     "output_type": "execute_result"
    }
   ],
   "source": [
    "train.head()"
   ]
  },
  {
   "cell_type": "code",
   "execution_count": 1088,
   "metadata": {},
   "outputs": [
    {
     "data": {
      "text/html": [
       "<div>\n",
       "<style scoped>\n",
       "    .dataframe tbody tr th:only-of-type {\n",
       "        vertical-align: middle;\n",
       "    }\n",
       "\n",
       "    .dataframe tbody tr th {\n",
       "        vertical-align: top;\n",
       "    }\n",
       "\n",
       "    .dataframe thead th {\n",
       "        text-align: right;\n",
       "    }\n",
       "</style>\n",
       "<table border=\"1\" class=\"dataframe\">\n",
       "  <thead>\n",
       "    <tr style=\"text-align: right;\">\n",
       "      <th></th>\n",
       "      <th>PassengerId</th>\n",
       "      <th>Pclass</th>\n",
       "      <th>Name</th>\n",
       "      <th>Sex</th>\n",
       "      <th>Age</th>\n",
       "      <th>SibSp</th>\n",
       "      <th>Parch</th>\n",
       "      <th>Ticket</th>\n",
       "      <th>Fare</th>\n",
       "      <th>Cabin</th>\n",
       "      <th>Embarked</th>\n",
       "    </tr>\n",
       "  </thead>\n",
       "  <tbody>\n",
       "    <tr>\n",
       "      <th>0</th>\n",
       "      <td>892</td>\n",
       "      <td>3</td>\n",
       "      <td>Kelly, Mr. James</td>\n",
       "      <td>male</td>\n",
       "      <td>34.5</td>\n",
       "      <td>0</td>\n",
       "      <td>0</td>\n",
       "      <td>330911</td>\n",
       "      <td>7.8292</td>\n",
       "      <td>NaN</td>\n",
       "      <td>Q</td>\n",
       "    </tr>\n",
       "    <tr>\n",
       "      <th>1</th>\n",
       "      <td>893</td>\n",
       "      <td>3</td>\n",
       "      <td>Wilkes, Mrs. James (Ellen Needs)</td>\n",
       "      <td>female</td>\n",
       "      <td>47.0</td>\n",
       "      <td>1</td>\n",
       "      <td>0</td>\n",
       "      <td>363272</td>\n",
       "      <td>7.0000</td>\n",
       "      <td>NaN</td>\n",
       "      <td>S</td>\n",
       "    </tr>\n",
       "    <tr>\n",
       "      <th>2</th>\n",
       "      <td>894</td>\n",
       "      <td>2</td>\n",
       "      <td>Myles, Mr. Thomas Francis</td>\n",
       "      <td>male</td>\n",
       "      <td>62.0</td>\n",
       "      <td>0</td>\n",
       "      <td>0</td>\n",
       "      <td>240276</td>\n",
       "      <td>9.6875</td>\n",
       "      <td>NaN</td>\n",
       "      <td>Q</td>\n",
       "    </tr>\n",
       "    <tr>\n",
       "      <th>3</th>\n",
       "      <td>895</td>\n",
       "      <td>3</td>\n",
       "      <td>Wirz, Mr. Albert</td>\n",
       "      <td>male</td>\n",
       "      <td>27.0</td>\n",
       "      <td>0</td>\n",
       "      <td>0</td>\n",
       "      <td>315154</td>\n",
       "      <td>8.6625</td>\n",
       "      <td>NaN</td>\n",
       "      <td>S</td>\n",
       "    </tr>\n",
       "    <tr>\n",
       "      <th>4</th>\n",
       "      <td>896</td>\n",
       "      <td>3</td>\n",
       "      <td>Hirvonen, Mrs. Alexander (Helga E Lindqvist)</td>\n",
       "      <td>female</td>\n",
       "      <td>22.0</td>\n",
       "      <td>1</td>\n",
       "      <td>1</td>\n",
       "      <td>3101298</td>\n",
       "      <td>12.2875</td>\n",
       "      <td>NaN</td>\n",
       "      <td>S</td>\n",
       "    </tr>\n",
       "  </tbody>\n",
       "</table>\n",
       "</div>"
      ],
      "text/plain": [
       "   PassengerId  Pclass                                          Name     Sex  \\\n",
       "0          892       3                              Kelly, Mr. James    male   \n",
       "1          893       3              Wilkes, Mrs. James (Ellen Needs)  female   \n",
       "2          894       2                     Myles, Mr. Thomas Francis    male   \n",
       "3          895       3                              Wirz, Mr. Albert    male   \n",
       "4          896       3  Hirvonen, Mrs. Alexander (Helga E Lindqvist)  female   \n",
       "\n",
       "    Age  SibSp  Parch   Ticket     Fare Cabin Embarked  \n",
       "0  34.5      0      0   330911   7.8292   NaN        Q  \n",
       "1  47.0      1      0   363272   7.0000   NaN        S  \n",
       "2  62.0      0      0   240276   9.6875   NaN        Q  \n",
       "3  27.0      0      0   315154   8.6625   NaN        S  \n",
       "4  22.0      1      1  3101298  12.2875   NaN        S  "
      ]
     },
     "execution_count": 1088,
     "metadata": {},
     "output_type": "execute_result"
    }
   ],
   "source": [
    "test.head()"
   ]
  },
  {
   "cell_type": "code",
   "execution_count": 1089,
   "metadata": {},
   "outputs": [
    {
     "data": {
      "text/html": [
       "<div>\n",
       "<style scoped>\n",
       "    .dataframe tbody tr th:only-of-type {\n",
       "        vertical-align: middle;\n",
       "    }\n",
       "\n",
       "    .dataframe tbody tr th {\n",
       "        vertical-align: top;\n",
       "    }\n",
       "\n",
       "    .dataframe thead th {\n",
       "        text-align: right;\n",
       "    }\n",
       "</style>\n",
       "<table border=\"1\" class=\"dataframe\">\n",
       "  <thead>\n",
       "    <tr style=\"text-align: right;\">\n",
       "      <th></th>\n",
       "      <th>PassengerId</th>\n",
       "      <th>Survived</th>\n",
       "    </tr>\n",
       "  </thead>\n",
       "  <tbody>\n",
       "    <tr>\n",
       "      <th>0</th>\n",
       "      <td>892</td>\n",
       "      <td>0</td>\n",
       "    </tr>\n",
       "    <tr>\n",
       "      <th>1</th>\n",
       "      <td>893</td>\n",
       "      <td>1</td>\n",
       "    </tr>\n",
       "    <tr>\n",
       "      <th>2</th>\n",
       "      <td>894</td>\n",
       "      <td>0</td>\n",
       "    </tr>\n",
       "    <tr>\n",
       "      <th>3</th>\n",
       "      <td>895</td>\n",
       "      <td>0</td>\n",
       "    </tr>\n",
       "    <tr>\n",
       "      <th>4</th>\n",
       "      <td>896</td>\n",
       "      <td>1</td>\n",
       "    </tr>\n",
       "  </tbody>\n",
       "</table>\n",
       "</div>"
      ],
      "text/plain": [
       "   PassengerId  Survived\n",
       "0          892         0\n",
       "1          893         1\n",
       "2          894         0\n",
       "3          895         0\n",
       "4          896         1"
      ]
     },
     "execution_count": 1089,
     "metadata": {},
     "output_type": "execute_result"
    }
   ],
   "source": [
    "sub.head()"
   ]
  },
  {
   "cell_type": "code",
   "execution_count": 1090,
   "metadata": {},
   "outputs": [
    {
     "data": {
      "text/plain": [
       "(891, 12)"
      ]
     },
     "execution_count": 1090,
     "metadata": {},
     "output_type": "execute_result"
    }
   ],
   "source": [
    "train.shape"
   ]
  },
  {
   "cell_type": "code",
   "execution_count": 1091,
   "metadata": {},
   "outputs": [
    {
     "data": {
      "text/html": [
       "<div>\n",
       "<style scoped>\n",
       "    .dataframe tbody tr th:only-of-type {\n",
       "        vertical-align: middle;\n",
       "    }\n",
       "\n",
       "    .dataframe tbody tr th {\n",
       "        vertical-align: top;\n",
       "    }\n",
       "\n",
       "    .dataframe thead th {\n",
       "        text-align: right;\n",
       "    }\n",
       "</style>\n",
       "<table border=\"1\" class=\"dataframe\">\n",
       "  <thead>\n",
       "    <tr style=\"text-align: right;\">\n",
       "      <th></th>\n",
       "      <th>PassengerId</th>\n",
       "      <th>Survived</th>\n",
       "      <th>Pclass</th>\n",
       "      <th>Age</th>\n",
       "      <th>SibSp</th>\n",
       "      <th>Parch</th>\n",
       "      <th>Fare</th>\n",
       "    </tr>\n",
       "  </thead>\n",
       "  <tbody>\n",
       "    <tr>\n",
       "      <th>count</th>\n",
       "      <td>891.000000</td>\n",
       "      <td>891.000000</td>\n",
       "      <td>891.000000</td>\n",
       "      <td>714.000000</td>\n",
       "      <td>891.000000</td>\n",
       "      <td>891.000000</td>\n",
       "      <td>891.000000</td>\n",
       "    </tr>\n",
       "    <tr>\n",
       "      <th>mean</th>\n",
       "      <td>446.000000</td>\n",
       "      <td>0.383838</td>\n",
       "      <td>2.308642</td>\n",
       "      <td>29.699118</td>\n",
       "      <td>0.523008</td>\n",
       "      <td>0.381594</td>\n",
       "      <td>32.204208</td>\n",
       "    </tr>\n",
       "    <tr>\n",
       "      <th>std</th>\n",
       "      <td>257.353842</td>\n",
       "      <td>0.486592</td>\n",
       "      <td>0.836071</td>\n",
       "      <td>14.526497</td>\n",
       "      <td>1.102743</td>\n",
       "      <td>0.806057</td>\n",
       "      <td>49.693429</td>\n",
       "    </tr>\n",
       "    <tr>\n",
       "      <th>min</th>\n",
       "      <td>1.000000</td>\n",
       "      <td>0.000000</td>\n",
       "      <td>1.000000</td>\n",
       "      <td>0.420000</td>\n",
       "      <td>0.000000</td>\n",
       "      <td>0.000000</td>\n",
       "      <td>0.000000</td>\n",
       "    </tr>\n",
       "    <tr>\n",
       "      <th>25%</th>\n",
       "      <td>223.500000</td>\n",
       "      <td>0.000000</td>\n",
       "      <td>2.000000</td>\n",
       "      <td>20.125000</td>\n",
       "      <td>0.000000</td>\n",
       "      <td>0.000000</td>\n",
       "      <td>7.910400</td>\n",
       "    </tr>\n",
       "    <tr>\n",
       "      <th>50%</th>\n",
       "      <td>446.000000</td>\n",
       "      <td>0.000000</td>\n",
       "      <td>3.000000</td>\n",
       "      <td>28.000000</td>\n",
       "      <td>0.000000</td>\n",
       "      <td>0.000000</td>\n",
       "      <td>14.454200</td>\n",
       "    </tr>\n",
       "    <tr>\n",
       "      <th>75%</th>\n",
       "      <td>668.500000</td>\n",
       "      <td>1.000000</td>\n",
       "      <td>3.000000</td>\n",
       "      <td>38.000000</td>\n",
       "      <td>1.000000</td>\n",
       "      <td>0.000000</td>\n",
       "      <td>31.000000</td>\n",
       "    </tr>\n",
       "    <tr>\n",
       "      <th>max</th>\n",
       "      <td>891.000000</td>\n",
       "      <td>1.000000</td>\n",
       "      <td>3.000000</td>\n",
       "      <td>80.000000</td>\n",
       "      <td>8.000000</td>\n",
       "      <td>6.000000</td>\n",
       "      <td>512.329200</td>\n",
       "    </tr>\n",
       "  </tbody>\n",
       "</table>\n",
       "</div>"
      ],
      "text/plain": [
       "       PassengerId    Survived      Pclass         Age       SibSp  \\\n",
       "count   891.000000  891.000000  891.000000  714.000000  891.000000   \n",
       "mean    446.000000    0.383838    2.308642   29.699118    0.523008   \n",
       "std     257.353842    0.486592    0.836071   14.526497    1.102743   \n",
       "min       1.000000    0.000000    1.000000    0.420000    0.000000   \n",
       "25%     223.500000    0.000000    2.000000   20.125000    0.000000   \n",
       "50%     446.000000    0.000000    3.000000   28.000000    0.000000   \n",
       "75%     668.500000    1.000000    3.000000   38.000000    1.000000   \n",
       "max     891.000000    1.000000    3.000000   80.000000    8.000000   \n",
       "\n",
       "            Parch        Fare  \n",
       "count  891.000000  891.000000  \n",
       "mean     0.381594   32.204208  \n",
       "std      0.806057   49.693429  \n",
       "min      0.000000    0.000000  \n",
       "25%      0.000000    7.910400  \n",
       "50%      0.000000   14.454200  \n",
       "75%      0.000000   31.000000  \n",
       "max      6.000000  512.329200  "
      ]
     },
     "execution_count": 1091,
     "metadata": {},
     "output_type": "execute_result"
    }
   ],
   "source": [
    "train.describe()"
   ]
  },
  {
   "cell_type": "markdown",
   "metadata": {},
   "source": [
    "## Fill NAs"
   ]
  },
  {
   "cell_type": "code",
   "execution_count": 1092,
   "metadata": {},
   "outputs": [
    {
     "data": {
      "text/plain": [
       "True"
      ]
     },
     "execution_count": 1092,
     "metadata": {},
     "output_type": "execute_result"
    }
   ],
   "source": [
    "sub.PassengerId.to_list() == test.PassengerId.to_list()"
   ]
  },
  {
   "cell_type": "code",
   "execution_count": 1093,
   "metadata": {},
   "outputs": [
    {
     "data": {
      "text/plain": [
       "PassengerId      0\n",
       "Survived         0\n",
       "Pclass           0\n",
       "Name             0\n",
       "Sex              0\n",
       "Age            177\n",
       "SibSp            0\n",
       "Parch            0\n",
       "Ticket           0\n",
       "Fare             0\n",
       "Cabin          687\n",
       "Embarked         2\n",
       "dtype: int64"
      ]
     },
     "execution_count": 1093,
     "metadata": {},
     "output_type": "execute_result"
    }
   ],
   "source": [
    "train.isna().sum()"
   ]
  },
  {
   "cell_type": "code",
   "execution_count": 1094,
   "metadata": {},
   "outputs": [],
   "source": [
    "## fill age\n",
    "# train.Age = train.Age.fillna(np.mean(train.Age))\n",
    "train.Age = train.groupby(['Sex', 'Pclass'])['Age'].apply(lambda x: x.fillna(x.median()))"
   ]
  },
  {
   "cell_type": "code",
   "execution_count": 1095,
   "metadata": {},
   "outputs": [],
   "source": [
    "train.Cabin = train.Cabin.fillna('Unknown')"
   ]
  },
  {
   "cell_type": "code",
   "execution_count": 1096,
   "metadata": {},
   "outputs": [],
   "source": [
    "train.Embarked = train.Embarked.fillna('Unknown')"
   ]
  },
  {
   "cell_type": "code",
   "execution_count": 1097,
   "metadata": {},
   "outputs": [
    {
     "data": {
      "text/plain": [
       "PassengerId    0\n",
       "Survived       0\n",
       "Pclass         0\n",
       "Name           0\n",
       "Sex            0\n",
       "Age            0\n",
       "SibSp          0\n",
       "Parch          0\n",
       "Ticket         0\n",
       "Fare           0\n",
       "Cabin          0\n",
       "Embarked       0\n",
       "dtype: int64"
      ]
     },
     "execution_count": 1097,
     "metadata": {},
     "output_type": "execute_result"
    }
   ],
   "source": [
    "train.isna().sum()"
   ]
  },
  {
   "cell_type": "code",
   "execution_count": 1098,
   "metadata": {},
   "outputs": [
    {
     "data": {
      "text/plain": [
       "PassengerId      0\n",
       "Pclass           0\n",
       "Name             0\n",
       "Sex              0\n",
       "Age             86\n",
       "SibSp            0\n",
       "Parch            0\n",
       "Ticket           0\n",
       "Fare             1\n",
       "Cabin          327\n",
       "Embarked         0\n",
       "dtype: int64"
      ]
     },
     "execution_count": 1098,
     "metadata": {},
     "output_type": "execute_result"
    }
   ],
   "source": [
    "test.isna().sum()"
   ]
  },
  {
   "cell_type": "code",
   "execution_count": 1099,
   "metadata": {},
   "outputs": [],
   "source": [
    "# test.Age = test.Age.fillna(np.median(train.Age))\n",
    "test.Age = test.groupby(['Sex', 'Pclass'])['Age'].apply(lambda x: x.fillna(x.median()))\n",
    "test.Fare = test.Fare.fillna(np.median(test.Fare))"
   ]
  },
  {
   "cell_type": "code",
   "execution_count": 1100,
   "metadata": {},
   "outputs": [],
   "source": [
    "test.Cabin = test.Cabin.fillna('Unknown')"
   ]
  },
  {
   "cell_type": "code",
   "execution_count": 1101,
   "metadata": {},
   "outputs": [
    {
     "data": {
      "text/plain": [
       "PassengerId    0\n",
       "Pclass         0\n",
       "Name           0\n",
       "Sex            0\n",
       "Age            0\n",
       "SibSp          0\n",
       "Parch          0\n",
       "Ticket         0\n",
       "Fare           1\n",
       "Cabin          0\n",
       "Embarked       0\n",
       "dtype: int64"
      ]
     },
     "execution_count": 1101,
     "metadata": {},
     "output_type": "execute_result"
    }
   ],
   "source": [
    "test.isna().sum()"
   ]
  },
  {
   "cell_type": "markdown",
   "metadata": {},
   "source": [
    "## Split folds"
   ]
  },
  {
   "cell_type": "code",
   "execution_count": 1102,
   "metadata": {},
   "outputs": [],
   "source": [
    "#do k fold validation\n",
    "skf = StratifiedKFold(n_splits=5, shuffle=True, random_state=42)"
   ]
  },
  {
   "cell_type": "code",
   "execution_count": 1103,
   "metadata": {},
   "outputs": [],
   "source": [
    "train['fold'] = -999\n",
    "for fold_id, (train_index, valid_index) in enumerate(skf.split(X=train, y=train.Survived.values)):\n",
    "    train.loc[valid_index, 'fold'] = fold_id"
   ]
  },
  {
   "cell_type": "code",
   "execution_count": 1104,
   "metadata": {},
   "outputs": [
    {
     "data": {
      "text/plain": [
       "0    179\n",
       "1    178\n",
       "2    178\n",
       "3    178\n",
       "4    178\n",
       "Name: fold, dtype: int64"
      ]
     },
     "execution_count": 1104,
     "metadata": {},
     "output_type": "execute_result"
    }
   ],
   "source": [
    "train.fold.value_counts()"
   ]
  },
  {
   "cell_type": "markdown",
   "metadata": {},
   "source": [
    "## Feature Engineering"
   ]
  },
  {
   "cell_type": "markdown",
   "metadata": {},
   "source": [
    "#### 1. Name Title (Change the name to title and label encoding)"
   ]
  },
  {
   "cell_type": "code",
   "execution_count": 1105,
   "metadata": {},
   "outputs": [
    {
     "data": {
      "text/html": [
       "<div>\n",
       "<style scoped>\n",
       "    .dataframe tbody tr th:only-of-type {\n",
       "        vertical-align: middle;\n",
       "    }\n",
       "\n",
       "    .dataframe tbody tr th {\n",
       "        vertical-align: top;\n",
       "    }\n",
       "\n",
       "    .dataframe thead th {\n",
       "        text-align: right;\n",
       "    }\n",
       "</style>\n",
       "<table border=\"1\" class=\"dataframe\">\n",
       "  <thead>\n",
       "    <tr style=\"text-align: right;\">\n",
       "      <th>Sex</th>\n",
       "      <th>female</th>\n",
       "      <th>male</th>\n",
       "    </tr>\n",
       "    <tr>\n",
       "      <th>Title</th>\n",
       "      <th></th>\n",
       "      <th></th>\n",
       "    </tr>\n",
       "  </thead>\n",
       "  <tbody>\n",
       "    <tr>\n",
       "      <th>Capt</th>\n",
       "      <td>0</td>\n",
       "      <td>1</td>\n",
       "    </tr>\n",
       "    <tr>\n",
       "      <th>Col</th>\n",
       "      <td>0</td>\n",
       "      <td>2</td>\n",
       "    </tr>\n",
       "    <tr>\n",
       "      <th>Countess</th>\n",
       "      <td>1</td>\n",
       "      <td>0</td>\n",
       "    </tr>\n",
       "    <tr>\n",
       "      <th>Don</th>\n",
       "      <td>0</td>\n",
       "      <td>1</td>\n",
       "    </tr>\n",
       "    <tr>\n",
       "      <th>Dr</th>\n",
       "      <td>1</td>\n",
       "      <td>6</td>\n",
       "    </tr>\n",
       "    <tr>\n",
       "      <th>Jonkheer</th>\n",
       "      <td>0</td>\n",
       "      <td>1</td>\n",
       "    </tr>\n",
       "    <tr>\n",
       "      <th>Lady</th>\n",
       "      <td>1</td>\n",
       "      <td>0</td>\n",
       "    </tr>\n",
       "    <tr>\n",
       "      <th>Major</th>\n",
       "      <td>0</td>\n",
       "      <td>2</td>\n",
       "    </tr>\n",
       "    <tr>\n",
       "      <th>Master</th>\n",
       "      <td>0</td>\n",
       "      <td>40</td>\n",
       "    </tr>\n",
       "    <tr>\n",
       "      <th>Miss</th>\n",
       "      <td>182</td>\n",
       "      <td>0</td>\n",
       "    </tr>\n",
       "    <tr>\n",
       "      <th>Mlle</th>\n",
       "      <td>2</td>\n",
       "      <td>0</td>\n",
       "    </tr>\n",
       "    <tr>\n",
       "      <th>Mme</th>\n",
       "      <td>1</td>\n",
       "      <td>0</td>\n",
       "    </tr>\n",
       "    <tr>\n",
       "      <th>Mr</th>\n",
       "      <td>0</td>\n",
       "      <td>517</td>\n",
       "    </tr>\n",
       "    <tr>\n",
       "      <th>Mrs</th>\n",
       "      <td>125</td>\n",
       "      <td>0</td>\n",
       "    </tr>\n",
       "    <tr>\n",
       "      <th>Ms</th>\n",
       "      <td>1</td>\n",
       "      <td>0</td>\n",
       "    </tr>\n",
       "    <tr>\n",
       "      <th>Rev</th>\n",
       "      <td>0</td>\n",
       "      <td>6</td>\n",
       "    </tr>\n",
       "    <tr>\n",
       "      <th>Sir</th>\n",
       "      <td>0</td>\n",
       "      <td>1</td>\n",
       "    </tr>\n",
       "  </tbody>\n",
       "</table>\n",
       "</div>"
      ],
      "text/plain": [
       "Sex       female  male\n",
       "Title                 \n",
       "Capt           0     1\n",
       "Col            0     2\n",
       "Countess       1     0\n",
       "Don            0     1\n",
       "Dr             1     6\n",
       "Jonkheer       0     1\n",
       "Lady           1     0\n",
       "Major          0     2\n",
       "Master         0    40\n",
       "Miss         182     0\n",
       "Mlle           2     0\n",
       "Mme            1     0\n",
       "Mr             0   517\n",
       "Mrs          125     0\n",
       "Ms             1     0\n",
       "Rev            0     6\n",
       "Sir            0     1"
      ]
     },
     "execution_count": 1105,
     "metadata": {},
     "output_type": "execute_result"
    }
   ],
   "source": [
    "train['Title'] = train.Name.str.extract(' ([A-Za-z]+)\\.', expand=False)\n",
    "pd.crosstab(train['Title'], train['Sex'])"
   ]
  },
  {
   "cell_type": "code",
   "execution_count": 1106,
   "metadata": {},
   "outputs": [
    {
     "data": {
      "text/html": [
       "<div>\n",
       "<style scoped>\n",
       "    .dataframe tbody tr th:only-of-type {\n",
       "        vertical-align: middle;\n",
       "    }\n",
       "\n",
       "    .dataframe tbody tr th {\n",
       "        vertical-align: top;\n",
       "    }\n",
       "\n",
       "    .dataframe thead th {\n",
       "        text-align: right;\n",
       "    }\n",
       "</style>\n",
       "<table border=\"1\" class=\"dataframe\">\n",
       "  <thead>\n",
       "    <tr style=\"text-align: right;\">\n",
       "      <th></th>\n",
       "      <th>Title</th>\n",
       "      <th>Survived</th>\n",
       "    </tr>\n",
       "  </thead>\n",
       "  <tbody>\n",
       "    <tr>\n",
       "      <th>0</th>\n",
       "      <td>Master</td>\n",
       "      <td>0.575000</td>\n",
       "    </tr>\n",
       "    <tr>\n",
       "      <th>1</th>\n",
       "      <td>Miss</td>\n",
       "      <td>0.702703</td>\n",
       "    </tr>\n",
       "    <tr>\n",
       "      <th>2</th>\n",
       "      <td>Mr</td>\n",
       "      <td>0.156673</td>\n",
       "    </tr>\n",
       "    <tr>\n",
       "      <th>3</th>\n",
       "      <td>Mrs</td>\n",
       "      <td>0.793651</td>\n",
       "    </tr>\n",
       "    <tr>\n",
       "      <th>4</th>\n",
       "      <td>Rare</td>\n",
       "      <td>0.347826</td>\n",
       "    </tr>\n",
       "  </tbody>\n",
       "</table>\n",
       "</div>"
      ],
      "text/plain": [
       "    Title  Survived\n",
       "0  Master  0.575000\n",
       "1    Miss  0.702703\n",
       "2      Mr  0.156673\n",
       "3     Mrs  0.793651\n",
       "4    Rare  0.347826"
      ]
     },
     "execution_count": 1106,
     "metadata": {},
     "output_type": "execute_result"
    }
   ],
   "source": [
    "train['Title'] = train['Title'].replace(['Lady', 'Countess','Capt', 'Col', 'Don', \n",
    "                                             'Dr', 'Major', 'Rev', 'Sir', 'Jonkheer', 'Dona'], 'Rare')\n",
    "train['Title'] = train['Title'].replace('Mlle', 'Miss')\n",
    "train['Title'] = train['Title'].replace('Ms', 'Miss')\n",
    "train['Title'] = train['Title'].replace('Mme', 'Mrs')\n",
    "    \n",
    "train[['Title', 'Survived']].groupby(['Title'], as_index=False).mean()"
   ]
  },
  {
   "cell_type": "code",
   "execution_count": 1107,
   "metadata": {},
   "outputs": [
    {
     "data": {
      "text/html": [
       "<div>\n",
       "<style scoped>\n",
       "    .dataframe tbody tr th:only-of-type {\n",
       "        vertical-align: middle;\n",
       "    }\n",
       "\n",
       "    .dataframe tbody tr th {\n",
       "        vertical-align: top;\n",
       "    }\n",
       "\n",
       "    .dataframe thead th {\n",
       "        text-align: right;\n",
       "    }\n",
       "</style>\n",
       "<table border=\"1\" class=\"dataframe\">\n",
       "  <thead>\n",
       "    <tr style=\"text-align: right;\">\n",
       "      <th>Sex</th>\n",
       "      <th>female</th>\n",
       "      <th>male</th>\n",
       "    </tr>\n",
       "    <tr>\n",
       "      <th>Title</th>\n",
       "      <th></th>\n",
       "      <th></th>\n",
       "    </tr>\n",
       "  </thead>\n",
       "  <tbody>\n",
       "    <tr>\n",
       "      <th>Col</th>\n",
       "      <td>0</td>\n",
       "      <td>2</td>\n",
       "    </tr>\n",
       "    <tr>\n",
       "      <th>Dona</th>\n",
       "      <td>1</td>\n",
       "      <td>0</td>\n",
       "    </tr>\n",
       "    <tr>\n",
       "      <th>Dr</th>\n",
       "      <td>0</td>\n",
       "      <td>1</td>\n",
       "    </tr>\n",
       "    <tr>\n",
       "      <th>Master</th>\n",
       "      <td>0</td>\n",
       "      <td>21</td>\n",
       "    </tr>\n",
       "    <tr>\n",
       "      <th>Miss</th>\n",
       "      <td>78</td>\n",
       "      <td>0</td>\n",
       "    </tr>\n",
       "    <tr>\n",
       "      <th>Mr</th>\n",
       "      <td>0</td>\n",
       "      <td>240</td>\n",
       "    </tr>\n",
       "    <tr>\n",
       "      <th>Mrs</th>\n",
       "      <td>72</td>\n",
       "      <td>0</td>\n",
       "    </tr>\n",
       "    <tr>\n",
       "      <th>Ms</th>\n",
       "      <td>1</td>\n",
       "      <td>0</td>\n",
       "    </tr>\n",
       "    <tr>\n",
       "      <th>Rev</th>\n",
       "      <td>0</td>\n",
       "      <td>2</td>\n",
       "    </tr>\n",
       "  </tbody>\n",
       "</table>\n",
       "</div>"
      ],
      "text/plain": [
       "Sex     female  male\n",
       "Title               \n",
       "Col          0     2\n",
       "Dona         1     0\n",
       "Dr           0     1\n",
       "Master       0    21\n",
       "Miss        78     0\n",
       "Mr           0   240\n",
       "Mrs         72     0\n",
       "Ms           1     0\n",
       "Rev          0     2"
      ]
     },
     "execution_count": 1107,
     "metadata": {},
     "output_type": "execute_result"
    }
   ],
   "source": [
    "test['Title'] = test.Name.str.extract(' ([A-Za-z]+)\\.', expand=False)\n",
    "pd.crosstab(test['Title'], test['Sex'])"
   ]
  },
  {
   "cell_type": "code",
   "execution_count": 1108,
   "metadata": {},
   "outputs": [],
   "source": [
    "test['Title'] = test['Title'].replace(['Lady', 'Countess','Capt', 'Col', 'Don', \n",
    "                                             'Dr', 'Major', 'Rev', 'Sir', 'Jonkheer', 'Dona'], 'Rare')\n",
    "\n",
    "test['Title'] = test['Title'].replace('Mlle', 'Miss')\n",
    "test['Title'] = test['Title'].replace('Ms', 'Miss')\n",
    "test['Title'] = test['Title'].replace('Mme', 'Mrs')"
   ]
  },
  {
   "cell_type": "code",
   "execution_count": 1109,
   "metadata": {},
   "outputs": [],
   "source": [
    "title_mapping = {\"Mr\": 1, \"Miss\": 2, \"Mrs\": 3, \"Master\": 4, \"Rare\": 5}\n",
    "\n",
    "train['Title'] = train['Title'].map(title_mapping)\n",
    "train['Title'] = train['Title'].fillna(0)\n",
    "test['Title'] = test['Title'].map(title_mapping)\n",
    "test['Title'] = test['Title'].fillna(0)"
   ]
  },
  {
   "cell_type": "code",
   "execution_count": 1110,
   "metadata": {},
   "outputs": [],
   "source": [
    "# train = train.drop('Name', axis=1)\n",
    "# test = test.drop('Name', axis=1)"
   ]
  },
  {
   "cell_type": "code",
   "execution_count": 1111,
   "metadata": {},
   "outputs": [
    {
     "data": {
      "text/html": [
       "<div>\n",
       "<style scoped>\n",
       "    .dataframe tbody tr th:only-of-type {\n",
       "        vertical-align: middle;\n",
       "    }\n",
       "\n",
       "    .dataframe tbody tr th {\n",
       "        vertical-align: top;\n",
       "    }\n",
       "\n",
       "    .dataframe thead th {\n",
       "        text-align: right;\n",
       "    }\n",
       "</style>\n",
       "<table border=\"1\" class=\"dataframe\">\n",
       "  <thead>\n",
       "    <tr style=\"text-align: right;\">\n",
       "      <th></th>\n",
       "      <th>PassengerId</th>\n",
       "      <th>Survived</th>\n",
       "      <th>Pclass</th>\n",
       "      <th>Name</th>\n",
       "      <th>Sex</th>\n",
       "      <th>Age</th>\n",
       "      <th>SibSp</th>\n",
       "      <th>Parch</th>\n",
       "      <th>Ticket</th>\n",
       "      <th>Fare</th>\n",
       "      <th>Cabin</th>\n",
       "      <th>Embarked</th>\n",
       "      <th>fold</th>\n",
       "      <th>Title</th>\n",
       "    </tr>\n",
       "  </thead>\n",
       "  <tbody>\n",
       "    <tr>\n",
       "      <th>0</th>\n",
       "      <td>1</td>\n",
       "      <td>0</td>\n",
       "      <td>3</td>\n",
       "      <td>Braund, Mr. Owen Harris</td>\n",
       "      <td>male</td>\n",
       "      <td>22.0</td>\n",
       "      <td>1</td>\n",
       "      <td>0</td>\n",
       "      <td>A/5 21171</td>\n",
       "      <td>7.2500</td>\n",
       "      <td>Unknown</td>\n",
       "      <td>S</td>\n",
       "      <td>1</td>\n",
       "      <td>1</td>\n",
       "    </tr>\n",
       "    <tr>\n",
       "      <th>1</th>\n",
       "      <td>2</td>\n",
       "      <td>1</td>\n",
       "      <td>1</td>\n",
       "      <td>Cumings, Mrs. John Bradley (Florence Briggs Th...</td>\n",
       "      <td>female</td>\n",
       "      <td>38.0</td>\n",
       "      <td>1</td>\n",
       "      <td>0</td>\n",
       "      <td>PC 17599</td>\n",
       "      <td>71.2833</td>\n",
       "      <td>C85</td>\n",
       "      <td>C</td>\n",
       "      <td>4</td>\n",
       "      <td>3</td>\n",
       "    </tr>\n",
       "    <tr>\n",
       "      <th>2</th>\n",
       "      <td>3</td>\n",
       "      <td>1</td>\n",
       "      <td>3</td>\n",
       "      <td>Heikkinen, Miss. Laina</td>\n",
       "      <td>female</td>\n",
       "      <td>26.0</td>\n",
       "      <td>0</td>\n",
       "      <td>0</td>\n",
       "      <td>STON/O2. 3101282</td>\n",
       "      <td>7.9250</td>\n",
       "      <td>Unknown</td>\n",
       "      <td>S</td>\n",
       "      <td>3</td>\n",
       "      <td>2</td>\n",
       "    </tr>\n",
       "    <tr>\n",
       "      <th>3</th>\n",
       "      <td>4</td>\n",
       "      <td>1</td>\n",
       "      <td>1</td>\n",
       "      <td>Futrelle, Mrs. Jacques Heath (Lily May Peel)</td>\n",
       "      <td>female</td>\n",
       "      <td>35.0</td>\n",
       "      <td>1</td>\n",
       "      <td>0</td>\n",
       "      <td>113803</td>\n",
       "      <td>53.1000</td>\n",
       "      <td>C123</td>\n",
       "      <td>S</td>\n",
       "      <td>3</td>\n",
       "      <td>3</td>\n",
       "    </tr>\n",
       "    <tr>\n",
       "      <th>4</th>\n",
       "      <td>5</td>\n",
       "      <td>0</td>\n",
       "      <td>3</td>\n",
       "      <td>Allen, Mr. William Henry</td>\n",
       "      <td>male</td>\n",
       "      <td>35.0</td>\n",
       "      <td>0</td>\n",
       "      <td>0</td>\n",
       "      <td>373450</td>\n",
       "      <td>8.0500</td>\n",
       "      <td>Unknown</td>\n",
       "      <td>S</td>\n",
       "      <td>0</td>\n",
       "      <td>1</td>\n",
       "    </tr>\n",
       "  </tbody>\n",
       "</table>\n",
       "</div>"
      ],
      "text/plain": [
       "   PassengerId  Survived  Pclass  \\\n",
       "0            1         0       3   \n",
       "1            2         1       1   \n",
       "2            3         1       3   \n",
       "3            4         1       1   \n",
       "4            5         0       3   \n",
       "\n",
       "                                                Name     Sex   Age  SibSp  \\\n",
       "0                            Braund, Mr. Owen Harris    male  22.0      1   \n",
       "1  Cumings, Mrs. John Bradley (Florence Briggs Th...  female  38.0      1   \n",
       "2                             Heikkinen, Miss. Laina  female  26.0      0   \n",
       "3       Futrelle, Mrs. Jacques Heath (Lily May Peel)  female  35.0      1   \n",
       "4                           Allen, Mr. William Henry    male  35.0      0   \n",
       "\n",
       "   Parch            Ticket     Fare    Cabin Embarked  fold  Title  \n",
       "0      0         A/5 21171   7.2500  Unknown        S     1      1  \n",
       "1      0          PC 17599  71.2833      C85        C     4      3  \n",
       "2      0  STON/O2. 3101282   7.9250  Unknown        S     3      2  \n",
       "3      0            113803  53.1000     C123        S     3      3  \n",
       "4      0            373450   8.0500  Unknown        S     0      1  "
      ]
     },
     "execution_count": 1111,
     "metadata": {},
     "output_type": "execute_result"
    }
   ],
   "source": [
    "train.head()"
   ]
  },
  {
   "cell_type": "code",
   "execution_count": 1112,
   "metadata": {},
   "outputs": [
    {
     "data": {
      "text/html": [
       "<div>\n",
       "<style scoped>\n",
       "    .dataframe tbody tr th:only-of-type {\n",
       "        vertical-align: middle;\n",
       "    }\n",
       "\n",
       "    .dataframe tbody tr th {\n",
       "        vertical-align: top;\n",
       "    }\n",
       "\n",
       "    .dataframe thead th {\n",
       "        text-align: right;\n",
       "    }\n",
       "</style>\n",
       "<table border=\"1\" class=\"dataframe\">\n",
       "  <thead>\n",
       "    <tr style=\"text-align: right;\">\n",
       "      <th></th>\n",
       "      <th>PassengerId</th>\n",
       "      <th>Pclass</th>\n",
       "      <th>Name</th>\n",
       "      <th>Sex</th>\n",
       "      <th>Age</th>\n",
       "      <th>SibSp</th>\n",
       "      <th>Parch</th>\n",
       "      <th>Ticket</th>\n",
       "      <th>Fare</th>\n",
       "      <th>Cabin</th>\n",
       "      <th>Embarked</th>\n",
       "      <th>Title</th>\n",
       "    </tr>\n",
       "  </thead>\n",
       "  <tbody>\n",
       "    <tr>\n",
       "      <th>0</th>\n",
       "      <td>892</td>\n",
       "      <td>3</td>\n",
       "      <td>Kelly, Mr. James</td>\n",
       "      <td>male</td>\n",
       "      <td>34.5</td>\n",
       "      <td>0</td>\n",
       "      <td>0</td>\n",
       "      <td>330911</td>\n",
       "      <td>7.8292</td>\n",
       "      <td>Unknown</td>\n",
       "      <td>Q</td>\n",
       "      <td>1</td>\n",
       "    </tr>\n",
       "    <tr>\n",
       "      <th>1</th>\n",
       "      <td>893</td>\n",
       "      <td>3</td>\n",
       "      <td>Wilkes, Mrs. James (Ellen Needs)</td>\n",
       "      <td>female</td>\n",
       "      <td>47.0</td>\n",
       "      <td>1</td>\n",
       "      <td>0</td>\n",
       "      <td>363272</td>\n",
       "      <td>7.0000</td>\n",
       "      <td>Unknown</td>\n",
       "      <td>S</td>\n",
       "      <td>3</td>\n",
       "    </tr>\n",
       "    <tr>\n",
       "      <th>2</th>\n",
       "      <td>894</td>\n",
       "      <td>2</td>\n",
       "      <td>Myles, Mr. Thomas Francis</td>\n",
       "      <td>male</td>\n",
       "      <td>62.0</td>\n",
       "      <td>0</td>\n",
       "      <td>0</td>\n",
       "      <td>240276</td>\n",
       "      <td>9.6875</td>\n",
       "      <td>Unknown</td>\n",
       "      <td>Q</td>\n",
       "      <td>1</td>\n",
       "    </tr>\n",
       "    <tr>\n",
       "      <th>3</th>\n",
       "      <td>895</td>\n",
       "      <td>3</td>\n",
       "      <td>Wirz, Mr. Albert</td>\n",
       "      <td>male</td>\n",
       "      <td>27.0</td>\n",
       "      <td>0</td>\n",
       "      <td>0</td>\n",
       "      <td>315154</td>\n",
       "      <td>8.6625</td>\n",
       "      <td>Unknown</td>\n",
       "      <td>S</td>\n",
       "      <td>1</td>\n",
       "    </tr>\n",
       "    <tr>\n",
       "      <th>4</th>\n",
       "      <td>896</td>\n",
       "      <td>3</td>\n",
       "      <td>Hirvonen, Mrs. Alexander (Helga E Lindqvist)</td>\n",
       "      <td>female</td>\n",
       "      <td>22.0</td>\n",
       "      <td>1</td>\n",
       "      <td>1</td>\n",
       "      <td>3101298</td>\n",
       "      <td>12.2875</td>\n",
       "      <td>Unknown</td>\n",
       "      <td>S</td>\n",
       "      <td>3</td>\n",
       "    </tr>\n",
       "  </tbody>\n",
       "</table>\n",
       "</div>"
      ],
      "text/plain": [
       "   PassengerId  Pclass                                          Name     Sex  \\\n",
       "0          892       3                              Kelly, Mr. James    male   \n",
       "1          893       3              Wilkes, Mrs. James (Ellen Needs)  female   \n",
       "2          894       2                     Myles, Mr. Thomas Francis    male   \n",
       "3          895       3                              Wirz, Mr. Albert    male   \n",
       "4          896       3  Hirvonen, Mrs. Alexander (Helga E Lindqvist)  female   \n",
       "\n",
       "    Age  SibSp  Parch   Ticket     Fare    Cabin Embarked  Title  \n",
       "0  34.5      0      0   330911   7.8292  Unknown        Q      1  \n",
       "1  47.0      1      0   363272   7.0000  Unknown        S      3  \n",
       "2  62.0      0      0   240276   9.6875  Unknown        Q      1  \n",
       "3  27.0      0      0   315154   8.6625  Unknown        S      1  \n",
       "4  22.0      1      1  3101298  12.2875  Unknown        S      3  "
      ]
     },
     "execution_count": 1112,
     "metadata": {},
     "output_type": "execute_result"
    }
   ],
   "source": [
    "test.head()"
   ]
  },
  {
   "cell_type": "markdown",
   "metadata": {},
   "source": [
    "### 2.  Cut the Age and Fare column to different bins "
   ]
  },
  {
   "cell_type": "code",
   "execution_count": 1113,
   "metadata": {},
   "outputs": [
    {
     "data": {
      "text/html": [
       "<div>\n",
       "<style scoped>\n",
       "    .dataframe tbody tr th:only-of-type {\n",
       "        vertical-align: middle;\n",
       "    }\n",
       "\n",
       "    .dataframe tbody tr th {\n",
       "        vertical-align: top;\n",
       "    }\n",
       "\n",
       "    .dataframe thead th {\n",
       "        text-align: right;\n",
       "    }\n",
       "</style>\n",
       "<table border=\"1\" class=\"dataframe\">\n",
       "  <thead>\n",
       "    <tr style=\"text-align: right;\">\n",
       "      <th></th>\n",
       "      <th>PassengerId</th>\n",
       "      <th>Survived</th>\n",
       "      <th>Pclass</th>\n",
       "      <th>Age</th>\n",
       "      <th>SibSp</th>\n",
       "      <th>Parch</th>\n",
       "      <th>Fare</th>\n",
       "      <th>fold</th>\n",
       "      <th>Title</th>\n",
       "    </tr>\n",
       "  </thead>\n",
       "  <tbody>\n",
       "    <tr>\n",
       "      <th>count</th>\n",
       "      <td>891.000000</td>\n",
       "      <td>891.000000</td>\n",
       "      <td>891.000000</td>\n",
       "      <td>891.000000</td>\n",
       "      <td>891.000000</td>\n",
       "      <td>891.000000</td>\n",
       "      <td>891.000000</td>\n",
       "      <td>891.000000</td>\n",
       "      <td>891.000000</td>\n",
       "    </tr>\n",
       "    <tr>\n",
       "      <th>mean</th>\n",
       "      <td>446.000000</td>\n",
       "      <td>0.383838</td>\n",
       "      <td>2.308642</td>\n",
       "      <td>29.112424</td>\n",
       "      <td>0.523008</td>\n",
       "      <td>0.381594</td>\n",
       "      <td>32.204208</td>\n",
       "      <td>1.997755</td>\n",
       "      <td>1.728395</td>\n",
       "    </tr>\n",
       "    <tr>\n",
       "      <th>std</th>\n",
       "      <td>257.353842</td>\n",
       "      <td>0.486592</td>\n",
       "      <td>0.836071</td>\n",
       "      <td>13.304424</td>\n",
       "      <td>1.102743</td>\n",
       "      <td>0.806057</td>\n",
       "      <td>49.693429</td>\n",
       "      <td>1.415800</td>\n",
       "      <td>1.030039</td>\n",
       "    </tr>\n",
       "    <tr>\n",
       "      <th>min</th>\n",
       "      <td>1.000000</td>\n",
       "      <td>0.000000</td>\n",
       "      <td>1.000000</td>\n",
       "      <td>0.420000</td>\n",
       "      <td>0.000000</td>\n",
       "      <td>0.000000</td>\n",
       "      <td>0.000000</td>\n",
       "      <td>0.000000</td>\n",
       "      <td>1.000000</td>\n",
       "    </tr>\n",
       "    <tr>\n",
       "      <th>25%</th>\n",
       "      <td>223.500000</td>\n",
       "      <td>0.000000</td>\n",
       "      <td>2.000000</td>\n",
       "      <td>21.500000</td>\n",
       "      <td>0.000000</td>\n",
       "      <td>0.000000</td>\n",
       "      <td>7.910400</td>\n",
       "      <td>1.000000</td>\n",
       "      <td>1.000000</td>\n",
       "    </tr>\n",
       "    <tr>\n",
       "      <th>50%</th>\n",
       "      <td>446.000000</td>\n",
       "      <td>0.000000</td>\n",
       "      <td>3.000000</td>\n",
       "      <td>26.000000</td>\n",
       "      <td>0.000000</td>\n",
       "      <td>0.000000</td>\n",
       "      <td>14.454200</td>\n",
       "      <td>2.000000</td>\n",
       "      <td>1.000000</td>\n",
       "    </tr>\n",
       "    <tr>\n",
       "      <th>75%</th>\n",
       "      <td>668.500000</td>\n",
       "      <td>1.000000</td>\n",
       "      <td>3.000000</td>\n",
       "      <td>36.000000</td>\n",
       "      <td>1.000000</td>\n",
       "      <td>0.000000</td>\n",
       "      <td>31.000000</td>\n",
       "      <td>3.000000</td>\n",
       "      <td>2.000000</td>\n",
       "    </tr>\n",
       "    <tr>\n",
       "      <th>max</th>\n",
       "      <td>891.000000</td>\n",
       "      <td>1.000000</td>\n",
       "      <td>3.000000</td>\n",
       "      <td>80.000000</td>\n",
       "      <td>8.000000</td>\n",
       "      <td>6.000000</td>\n",
       "      <td>512.329200</td>\n",
       "      <td>4.000000</td>\n",
       "      <td>5.000000</td>\n",
       "    </tr>\n",
       "  </tbody>\n",
       "</table>\n",
       "</div>"
      ],
      "text/plain": [
       "       PassengerId    Survived      Pclass         Age       SibSp  \\\n",
       "count   891.000000  891.000000  891.000000  891.000000  891.000000   \n",
       "mean    446.000000    0.383838    2.308642   29.112424    0.523008   \n",
       "std     257.353842    0.486592    0.836071   13.304424    1.102743   \n",
       "min       1.000000    0.000000    1.000000    0.420000    0.000000   \n",
       "25%     223.500000    0.000000    2.000000   21.500000    0.000000   \n",
       "50%     446.000000    0.000000    3.000000   26.000000    0.000000   \n",
       "75%     668.500000    1.000000    3.000000   36.000000    1.000000   \n",
       "max     891.000000    1.000000    3.000000   80.000000    8.000000   \n",
       "\n",
       "            Parch        Fare        fold       Title  \n",
       "count  891.000000  891.000000  891.000000  891.000000  \n",
       "mean     0.381594   32.204208    1.997755    1.728395  \n",
       "std      0.806057   49.693429    1.415800    1.030039  \n",
       "min      0.000000    0.000000    0.000000    1.000000  \n",
       "25%      0.000000    7.910400    1.000000    1.000000  \n",
       "50%      0.000000   14.454200    2.000000    1.000000  \n",
       "75%      0.000000   31.000000    3.000000    2.000000  \n",
       "max      6.000000  512.329200    4.000000    5.000000  "
      ]
     },
     "execution_count": 1113,
     "metadata": {},
     "output_type": "execute_result"
    }
   ],
   "source": [
    "train.describe()"
   ]
  },
  {
   "cell_type": "code",
   "execution_count": 1114,
   "metadata": {},
   "outputs": [
    {
     "data": {
      "text/html": [
       "<div>\n",
       "<style scoped>\n",
       "    .dataframe tbody tr th:only-of-type {\n",
       "        vertical-align: middle;\n",
       "    }\n",
       "\n",
       "    .dataframe tbody tr th {\n",
       "        vertical-align: top;\n",
       "    }\n",
       "\n",
       "    .dataframe thead th {\n",
       "        text-align: right;\n",
       "    }\n",
       "</style>\n",
       "<table border=\"1\" class=\"dataframe\">\n",
       "  <thead>\n",
       "    <tr style=\"text-align: right;\">\n",
       "      <th></th>\n",
       "      <th>PassengerId</th>\n",
       "      <th>Pclass</th>\n",
       "      <th>Age</th>\n",
       "      <th>SibSp</th>\n",
       "      <th>Parch</th>\n",
       "      <th>Fare</th>\n",
       "      <th>Title</th>\n",
       "    </tr>\n",
       "  </thead>\n",
       "  <tbody>\n",
       "    <tr>\n",
       "      <th>count</th>\n",
       "      <td>418.000000</td>\n",
       "      <td>418.000000</td>\n",
       "      <td>418.000000</td>\n",
       "      <td>418.000000</td>\n",
       "      <td>418.000000</td>\n",
       "      <td>417.000000</td>\n",
       "      <td>418.000000</td>\n",
       "    </tr>\n",
       "    <tr>\n",
       "      <th>mean</th>\n",
       "      <td>1100.500000</td>\n",
       "      <td>2.265550</td>\n",
       "      <td>29.297847</td>\n",
       "      <td>0.447368</td>\n",
       "      <td>0.392344</td>\n",
       "      <td>35.627188</td>\n",
       "      <td>1.741627</td>\n",
       "    </tr>\n",
       "    <tr>\n",
       "      <th>std</th>\n",
       "      <td>120.810458</td>\n",
       "      <td>0.841838</td>\n",
       "      <td>13.038856</td>\n",
       "      <td>0.896760</td>\n",
       "      <td>0.981429</td>\n",
       "      <td>55.907576</td>\n",
       "      <td>1.006091</td>\n",
       "    </tr>\n",
       "    <tr>\n",
       "      <th>min</th>\n",
       "      <td>892.000000</td>\n",
       "      <td>1.000000</td>\n",
       "      <td>0.170000</td>\n",
       "      <td>0.000000</td>\n",
       "      <td>0.000000</td>\n",
       "      <td>0.000000</td>\n",
       "      <td>1.000000</td>\n",
       "    </tr>\n",
       "    <tr>\n",
       "      <th>25%</th>\n",
       "      <td>996.250000</td>\n",
       "      <td>1.000000</td>\n",
       "      <td>22.000000</td>\n",
       "      <td>0.000000</td>\n",
       "      <td>0.000000</td>\n",
       "      <td>7.895800</td>\n",
       "      <td>1.000000</td>\n",
       "    </tr>\n",
       "    <tr>\n",
       "      <th>50%</th>\n",
       "      <td>1100.500000</td>\n",
       "      <td>3.000000</td>\n",
       "      <td>25.000000</td>\n",
       "      <td>0.000000</td>\n",
       "      <td>0.000000</td>\n",
       "      <td>14.454200</td>\n",
       "      <td>1.000000</td>\n",
       "    </tr>\n",
       "    <tr>\n",
       "      <th>75%</th>\n",
       "      <td>1204.750000</td>\n",
       "      <td>3.000000</td>\n",
       "      <td>36.375000</td>\n",
       "      <td>1.000000</td>\n",
       "      <td>0.000000</td>\n",
       "      <td>31.500000</td>\n",
       "      <td>2.000000</td>\n",
       "    </tr>\n",
       "    <tr>\n",
       "      <th>max</th>\n",
       "      <td>1309.000000</td>\n",
       "      <td>3.000000</td>\n",
       "      <td>76.000000</td>\n",
       "      <td>8.000000</td>\n",
       "      <td>9.000000</td>\n",
       "      <td>512.329200</td>\n",
       "      <td>5.000000</td>\n",
       "    </tr>\n",
       "  </tbody>\n",
       "</table>\n",
       "</div>"
      ],
      "text/plain": [
       "       PassengerId      Pclass         Age       SibSp       Parch  \\\n",
       "count   418.000000  418.000000  418.000000  418.000000  418.000000   \n",
       "mean   1100.500000    2.265550   29.297847    0.447368    0.392344   \n",
       "std     120.810458    0.841838   13.038856    0.896760    0.981429   \n",
       "min     892.000000    1.000000    0.170000    0.000000    0.000000   \n",
       "25%     996.250000    1.000000   22.000000    0.000000    0.000000   \n",
       "50%    1100.500000    3.000000   25.000000    0.000000    0.000000   \n",
       "75%    1204.750000    3.000000   36.375000    1.000000    0.000000   \n",
       "max    1309.000000    3.000000   76.000000    8.000000    9.000000   \n",
       "\n",
       "             Fare       Title  \n",
       "count  417.000000  418.000000  \n",
       "mean    35.627188    1.741627  \n",
       "std     55.907576    1.006091  \n",
       "min      0.000000    1.000000  \n",
       "25%      7.895800    1.000000  \n",
       "50%     14.454200    1.000000  \n",
       "75%     31.500000    2.000000  \n",
       "max    512.329200    5.000000  "
      ]
     },
     "execution_count": 1114,
     "metadata": {},
     "output_type": "execute_result"
    }
   ],
   "source": [
    "test.describe()"
   ]
  },
  {
   "cell_type": "code",
   "execution_count": 1115,
   "metadata": {},
   "outputs": [],
   "source": [
    "train['Fare'] = pd.qcut(train['Fare'], 10)\n",
    "test['Fare'] = pd.qcut(test['Fare'], 10)"
   ]
  },
  {
   "cell_type": "code",
   "execution_count": 1116,
   "metadata": {},
   "outputs": [
    {
     "data": {
      "text/plain": [
       "(7.854, 8.05]        106\n",
       "(-0.001, 7.55]        92\n",
       "(27.0, 39.688]        91\n",
       "(21.679, 27.0]        89\n",
       "(39.688, 77.958]      89\n",
       "(14.454, 21.679]      88\n",
       "(7.55, 7.854]         87\n",
       "(77.958, 512.329]     87\n",
       "(10.5, 14.454]        84\n",
       "(8.05, 10.5]          78\n",
       "Name: Fare, dtype: int64"
      ]
     },
     "execution_count": 1116,
     "metadata": {},
     "output_type": "execute_result"
    }
   ],
   "source": [
    "train['Fare'].value_counts()"
   ]
  },
  {
   "cell_type": "code",
   "execution_count": 1117,
   "metadata": {},
   "outputs": [
    {
     "data": {
      "text/plain": [
       "25.00    117\n",
       "21.50     42\n",
       "40.00     34\n",
       "30.00     34\n",
       "24.00     30\n",
       "        ... \n",
       "80.00      1\n",
       "0.42       1\n",
       "34.50      1\n",
       "66.00      1\n",
       "12.00      1\n",
       "Name: Age, Length: 89, dtype: int64"
      ]
     },
     "execution_count": 1117,
     "metadata": {},
     "output_type": "execute_result"
    }
   ],
   "source": [
    "train['Age'].value_counts()"
   ]
  },
  {
   "cell_type": "code",
   "execution_count": 1118,
   "metadata": {},
   "outputs": [],
   "source": [
    "train['Age'] = pd.qcut(train['Age'], 10)\n",
    "test['Age'] = pd.qcut(test['Age'], 10)"
   ]
  },
  {
   "cell_type": "code",
   "execution_count": 1119,
   "metadata": {},
   "outputs": [
    {
     "data": {
      "text/plain": [
       "(22.0, 25.0]     164\n",
       "(34.0, 40.0]     116\n",
       "(26.0, 30.0]     101\n",
       "(0.419, 16.0]    100\n",
       "(20.0, 22.0]      94\n",
       "(47.0, 80.0]      89\n",
       "(16.0, 20.0]      79\n",
       "(30.0, 34.0]      69\n",
       "(40.0, 47.0]      61\n",
       "(25.0, 26.0]      18\n",
       "Name: Age, dtype: int64"
      ]
     },
     "execution_count": 1119,
     "metadata": {},
     "output_type": "execute_result"
    }
   ],
   "source": [
    "train['Age'].value_counts()"
   ]
  },
  {
   "cell_type": "markdown",
   "metadata": {},
   "source": [
    "### 3. split sibsp column into different case based on the size"
   ]
  },
  {
   "cell_type": "code",
   "execution_count": 1120,
   "metadata": {},
   "outputs": [
    {
     "data": {
      "text/plain": [
       "0    608\n",
       "1    209\n",
       "2     28\n",
       "4     18\n",
       "3     16\n",
       "8      7\n",
       "5      5\n",
       "Name: SibSp, dtype: int64"
      ]
     },
     "execution_count": 1120,
     "metadata": {},
     "output_type": "execute_result"
    }
   ],
   "source": [
    "train['SibSp'].value_counts()"
   ]
  },
  {
   "cell_type": "code",
   "execution_count": 1121,
   "metadata": {},
   "outputs": [
    {
     "data": {
      "text/plain": [
       "0    283\n",
       "1    110\n",
       "2     14\n",
       "3      4\n",
       "4      4\n",
       "8      2\n",
       "5      1\n",
       "Name: SibSp, dtype: int64"
      ]
     },
     "execution_count": 1121,
     "metadata": {},
     "output_type": "execute_result"
    }
   ],
   "source": [
    "test['SibSp'].value_counts()"
   ]
  },
  {
   "cell_type": "code",
   "execution_count": 1122,
   "metadata": {},
   "outputs": [],
   "source": [
    "#0 -- small family size; 1 -- middle family size; 2 -- large family size\n",
    "train['SibSp'].loc[train['SibSp'] < 3] = 0\n",
    "train['SibSp'].loc[(train['SibSp'] < 5) & (train['SibSp'] >= 3)] = 1\n",
    "train['SibSp'].loc[train['SibSp'] >= 5] = 2\n",
    "\n",
    "test['SibSp'].loc[test['SibSp'] < 3] = 0\n",
    "test['SibSp'].loc[(test['SibSp'] < 5) & (test['SibSp'] >= 3)] = 1\n",
    "test['SibSp'].loc[test['SibSp'] >= 5] = 2"
   ]
  },
  {
   "cell_type": "code",
   "execution_count": 1123,
   "metadata": {},
   "outputs": [
    {
     "data": {
      "text/plain": [
       "0    845\n",
       "1     34\n",
       "2     12\n",
       "Name: SibSp, dtype: int64"
      ]
     },
     "execution_count": 1123,
     "metadata": {},
     "output_type": "execute_result"
    }
   ],
   "source": [
    "train['SibSp'].value_counts()"
   ]
  },
  {
   "cell_type": "code",
   "execution_count": 1124,
   "metadata": {},
   "outputs": [
    {
     "data": {
      "text/plain": [
       "0    407\n",
       "1      8\n",
       "2      3\n",
       "Name: SibSp, dtype: int64"
      ]
     },
     "execution_count": 1124,
     "metadata": {},
     "output_type": "execute_result"
    }
   ],
   "source": [
    "test['SibSp'].value_counts()"
   ]
  },
  {
   "cell_type": "code",
   "execution_count": 1125,
   "metadata": {},
   "outputs": [],
   "source": [
    "# train['Fare'] = str(train['Fare'])\n",
    "# test['Fare'] = str(test['Fare'])\n",
    "\n",
    "# train['Age'] = str(train['Age'])\n",
    "# test['Age'] = str(test['Age'])\n",
    "\n",
    "# train['SibSp'] = str(train['SibSp'])\n",
    "# test['SibSp'] = str(test['SibSp'])"
   ]
  },
  {
   "cell_type": "code",
   "execution_count": 1126,
   "metadata": {
    "scrolled": true
   },
   "outputs": [
    {
     "data": {
      "text/html": [
       "<div>\n",
       "<style scoped>\n",
       "    .dataframe tbody tr th:only-of-type {\n",
       "        vertical-align: middle;\n",
       "    }\n",
       "\n",
       "    .dataframe tbody tr th {\n",
       "        vertical-align: top;\n",
       "    }\n",
       "\n",
       "    .dataframe thead th {\n",
       "        text-align: right;\n",
       "    }\n",
       "</style>\n",
       "<table border=\"1\" class=\"dataframe\">\n",
       "  <thead>\n",
       "    <tr style=\"text-align: right;\">\n",
       "      <th></th>\n",
       "      <th>PassengerId</th>\n",
       "      <th>Survived</th>\n",
       "      <th>Pclass</th>\n",
       "      <th>Name</th>\n",
       "      <th>Sex</th>\n",
       "      <th>Age</th>\n",
       "      <th>SibSp</th>\n",
       "      <th>Parch</th>\n",
       "      <th>Ticket</th>\n",
       "      <th>Fare</th>\n",
       "      <th>Cabin</th>\n",
       "      <th>Embarked</th>\n",
       "      <th>fold</th>\n",
       "      <th>Title</th>\n",
       "    </tr>\n",
       "  </thead>\n",
       "  <tbody>\n",
       "    <tr>\n",
       "      <th>0</th>\n",
       "      <td>1</td>\n",
       "      <td>0</td>\n",
       "      <td>3</td>\n",
       "      <td>Braund, Mr. Owen Harris</td>\n",
       "      <td>male</td>\n",
       "      <td>(20.0, 22.0]</td>\n",
       "      <td>0</td>\n",
       "      <td>0</td>\n",
       "      <td>A/5 21171</td>\n",
       "      <td>(-0.001, 7.55]</td>\n",
       "      <td>Unknown</td>\n",
       "      <td>S</td>\n",
       "      <td>1</td>\n",
       "      <td>1</td>\n",
       "    </tr>\n",
       "    <tr>\n",
       "      <th>1</th>\n",
       "      <td>2</td>\n",
       "      <td>1</td>\n",
       "      <td>1</td>\n",
       "      <td>Cumings, Mrs. John Bradley (Florence Briggs Th...</td>\n",
       "      <td>female</td>\n",
       "      <td>(34.0, 40.0]</td>\n",
       "      <td>0</td>\n",
       "      <td>0</td>\n",
       "      <td>PC 17599</td>\n",
       "      <td>(39.688, 77.958]</td>\n",
       "      <td>C85</td>\n",
       "      <td>C</td>\n",
       "      <td>4</td>\n",
       "      <td>3</td>\n",
       "    </tr>\n",
       "    <tr>\n",
       "      <th>2</th>\n",
       "      <td>3</td>\n",
       "      <td>1</td>\n",
       "      <td>3</td>\n",
       "      <td>Heikkinen, Miss. Laina</td>\n",
       "      <td>female</td>\n",
       "      <td>(25.0, 26.0]</td>\n",
       "      <td>0</td>\n",
       "      <td>0</td>\n",
       "      <td>STON/O2. 3101282</td>\n",
       "      <td>(7.854, 8.05]</td>\n",
       "      <td>Unknown</td>\n",
       "      <td>S</td>\n",
       "      <td>3</td>\n",
       "      <td>2</td>\n",
       "    </tr>\n",
       "    <tr>\n",
       "      <th>3</th>\n",
       "      <td>4</td>\n",
       "      <td>1</td>\n",
       "      <td>1</td>\n",
       "      <td>Futrelle, Mrs. Jacques Heath (Lily May Peel)</td>\n",
       "      <td>female</td>\n",
       "      <td>(34.0, 40.0]</td>\n",
       "      <td>0</td>\n",
       "      <td>0</td>\n",
       "      <td>113803</td>\n",
       "      <td>(39.688, 77.958]</td>\n",
       "      <td>C123</td>\n",
       "      <td>S</td>\n",
       "      <td>3</td>\n",
       "      <td>3</td>\n",
       "    </tr>\n",
       "    <tr>\n",
       "      <th>4</th>\n",
       "      <td>5</td>\n",
       "      <td>0</td>\n",
       "      <td>3</td>\n",
       "      <td>Allen, Mr. William Henry</td>\n",
       "      <td>male</td>\n",
       "      <td>(34.0, 40.0]</td>\n",
       "      <td>0</td>\n",
       "      <td>0</td>\n",
       "      <td>373450</td>\n",
       "      <td>(7.854, 8.05]</td>\n",
       "      <td>Unknown</td>\n",
       "      <td>S</td>\n",
       "      <td>0</td>\n",
       "      <td>1</td>\n",
       "    </tr>\n",
       "  </tbody>\n",
       "</table>\n",
       "</div>"
      ],
      "text/plain": [
       "   PassengerId  Survived  Pclass  \\\n",
       "0            1         0       3   \n",
       "1            2         1       1   \n",
       "2            3         1       3   \n",
       "3            4         1       1   \n",
       "4            5         0       3   \n",
       "\n",
       "                                                Name     Sex           Age  \\\n",
       "0                            Braund, Mr. Owen Harris    male  (20.0, 22.0]   \n",
       "1  Cumings, Mrs. John Bradley (Florence Briggs Th...  female  (34.0, 40.0]   \n",
       "2                             Heikkinen, Miss. Laina  female  (25.0, 26.0]   \n",
       "3       Futrelle, Mrs. Jacques Heath (Lily May Peel)  female  (34.0, 40.0]   \n",
       "4                           Allen, Mr. William Henry    male  (34.0, 40.0]   \n",
       "\n",
       "   SibSp  Parch            Ticket              Fare    Cabin Embarked  fold  \\\n",
       "0      0      0         A/5 21171    (-0.001, 7.55]  Unknown        S     1   \n",
       "1      0      0          PC 17599  (39.688, 77.958]      C85        C     4   \n",
       "2      0      0  STON/O2. 3101282     (7.854, 8.05]  Unknown        S     3   \n",
       "3      0      0            113803  (39.688, 77.958]     C123        S     3   \n",
       "4      0      0            373450     (7.854, 8.05]  Unknown        S     0   \n",
       "\n",
       "   Title  \n",
       "0      1  \n",
       "1      3  \n",
       "2      2  \n",
       "3      3  \n",
       "4      1  "
      ]
     },
     "execution_count": 1126,
     "metadata": {},
     "output_type": "execute_result"
    }
   ],
   "source": [
    "train.head()"
   ]
  },
  {
   "cell_type": "code",
   "execution_count": 1127,
   "metadata": {},
   "outputs": [
    {
     "data": {
      "text/html": [
       "<div>\n",
       "<style scoped>\n",
       "    .dataframe tbody tr th:only-of-type {\n",
       "        vertical-align: middle;\n",
       "    }\n",
       "\n",
       "    .dataframe tbody tr th {\n",
       "        vertical-align: top;\n",
       "    }\n",
       "\n",
       "    .dataframe thead th {\n",
       "        text-align: right;\n",
       "    }\n",
       "</style>\n",
       "<table border=\"1\" class=\"dataframe\">\n",
       "  <thead>\n",
       "    <tr style=\"text-align: right;\">\n",
       "      <th></th>\n",
       "      <th>PassengerId</th>\n",
       "      <th>Pclass</th>\n",
       "      <th>Name</th>\n",
       "      <th>Sex</th>\n",
       "      <th>Age</th>\n",
       "      <th>SibSp</th>\n",
       "      <th>Parch</th>\n",
       "      <th>Ticket</th>\n",
       "      <th>Fare</th>\n",
       "      <th>Cabin</th>\n",
       "      <th>Embarked</th>\n",
       "      <th>Title</th>\n",
       "    </tr>\n",
       "  </thead>\n",
       "  <tbody>\n",
       "    <tr>\n",
       "      <th>0</th>\n",
       "      <td>892</td>\n",
       "      <td>3</td>\n",
       "      <td>Kelly, Mr. James</td>\n",
       "      <td>male</td>\n",
       "      <td>(33.0, 41.0]</td>\n",
       "      <td>0</td>\n",
       "      <td>0</td>\n",
       "      <td>330911</td>\n",
       "      <td>(7.796, 8.05]</td>\n",
       "      <td>Unknown</td>\n",
       "      <td>Q</td>\n",
       "      <td>1</td>\n",
       "    </tr>\n",
       "    <tr>\n",
       "      <th>1</th>\n",
       "      <td>893</td>\n",
       "      <td>3</td>\n",
       "      <td>Wilkes, Mrs. James (Ellen Needs)</td>\n",
       "      <td>female</td>\n",
       "      <td>(41.0, 48.0]</td>\n",
       "      <td>0</td>\n",
       "      <td>0</td>\n",
       "      <td>363272</td>\n",
       "      <td>(-0.001, 7.642]</td>\n",
       "      <td>Unknown</td>\n",
       "      <td>S</td>\n",
       "      <td>3</td>\n",
       "    </tr>\n",
       "    <tr>\n",
       "      <th>2</th>\n",
       "      <td>894</td>\n",
       "      <td>2</td>\n",
       "      <td>Myles, Mr. Thomas Francis</td>\n",
       "      <td>male</td>\n",
       "      <td>(48.0, 76.0]</td>\n",
       "      <td>0</td>\n",
       "      <td>0</td>\n",
       "      <td>240276</td>\n",
       "      <td>(8.05, 11.025]</td>\n",
       "      <td>Unknown</td>\n",
       "      <td>Q</td>\n",
       "      <td>1</td>\n",
       "    </tr>\n",
       "    <tr>\n",
       "      <th>3</th>\n",
       "      <td>895</td>\n",
       "      <td>3</td>\n",
       "      <td>Wirz, Mr. Albert</td>\n",
       "      <td>male</td>\n",
       "      <td>(25.0, 28.1]</td>\n",
       "      <td>0</td>\n",
       "      <td>0</td>\n",
       "      <td>315154</td>\n",
       "      <td>(8.05, 11.025]</td>\n",
       "      <td>Unknown</td>\n",
       "      <td>S</td>\n",
       "      <td>1</td>\n",
       "    </tr>\n",
       "    <tr>\n",
       "      <th>4</th>\n",
       "      <td>896</td>\n",
       "      <td>3</td>\n",
       "      <td>Hirvonen, Mrs. Alexander (Helga E Lindqvist)</td>\n",
       "      <td>female</td>\n",
       "      <td>(21.0, 23.0]</td>\n",
       "      <td>0</td>\n",
       "      <td>1</td>\n",
       "      <td>3101298</td>\n",
       "      <td>(11.025, 14.454]</td>\n",
       "      <td>Unknown</td>\n",
       "      <td>S</td>\n",
       "      <td>3</td>\n",
       "    </tr>\n",
       "  </tbody>\n",
       "</table>\n",
       "</div>"
      ],
      "text/plain": [
       "   PassengerId  Pclass                                          Name     Sex  \\\n",
       "0          892       3                              Kelly, Mr. James    male   \n",
       "1          893       3              Wilkes, Mrs. James (Ellen Needs)  female   \n",
       "2          894       2                     Myles, Mr. Thomas Francis    male   \n",
       "3          895       3                              Wirz, Mr. Albert    male   \n",
       "4          896       3  Hirvonen, Mrs. Alexander (Helga E Lindqvist)  female   \n",
       "\n",
       "            Age  SibSp  Parch   Ticket              Fare    Cabin Embarked  \\\n",
       "0  (33.0, 41.0]      0      0   330911     (7.796, 8.05]  Unknown        Q   \n",
       "1  (41.0, 48.0]      0      0   363272   (-0.001, 7.642]  Unknown        S   \n",
       "2  (48.0, 76.0]      0      0   240276    (8.05, 11.025]  Unknown        Q   \n",
       "3  (25.0, 28.1]      0      0   315154    (8.05, 11.025]  Unknown        S   \n",
       "4  (21.0, 23.0]      0      1  3101298  (11.025, 14.454]  Unknown        S   \n",
       "\n",
       "   Title  \n",
       "0      1  \n",
       "1      3  \n",
       "2      1  \n",
       "3      1  \n",
       "4      3  "
      ]
     },
     "execution_count": 1127,
     "metadata": {},
     "output_type": "execute_result"
    }
   ],
   "source": [
    "test.head()"
   ]
  },
  {
   "cell_type": "markdown",
   "metadata": {},
   "source": [
    "## Extract Cabin Number from Cabin"
   ]
  },
  {
   "cell_type": "code",
   "execution_count": 1128,
   "metadata": {},
   "outputs": [],
   "source": [
    "train['Cabin Num'] = train['Cabin'].str.extract(r'([0-9]+)').fillna(0).astype(float)\n",
    "test['Cabin Num'] = test['Cabin'].str.extract(r'([0-9]+)').fillna(0).astype(float)"
   ]
  },
  {
   "cell_type": "code",
   "execution_count": 1129,
   "metadata": {},
   "outputs": [],
   "source": [
    "train['Cabin Class'] = train['Cabin'].str.extract(r'([A-Z]+)').fillna(0)\n",
    "test['Cabin Class'] = test['Cabin'].str.extract(r'([A-Z]+)').fillna(0)"
   ]
  },
  {
   "cell_type": "markdown",
   "metadata": {},
   "source": [
    "## Label Encoding"
   ]
  },
  {
   "cell_type": "code",
   "execution_count": 1130,
   "metadata": {},
   "outputs": [
    {
     "data": {
      "text/html": [
       "<div>\n",
       "<style scoped>\n",
       "    .dataframe tbody tr th:only-of-type {\n",
       "        vertical-align: middle;\n",
       "    }\n",
       "\n",
       "    .dataframe tbody tr th {\n",
       "        vertical-align: top;\n",
       "    }\n",
       "\n",
       "    .dataframe thead th {\n",
       "        text-align: right;\n",
       "    }\n",
       "</style>\n",
       "<table border=\"1\" class=\"dataframe\">\n",
       "  <thead>\n",
       "    <tr style=\"text-align: right;\">\n",
       "      <th></th>\n",
       "      <th>PassengerId</th>\n",
       "      <th>Survived</th>\n",
       "      <th>Pclass</th>\n",
       "      <th>Name</th>\n",
       "      <th>Sex</th>\n",
       "      <th>Age</th>\n",
       "      <th>SibSp</th>\n",
       "      <th>Parch</th>\n",
       "      <th>Ticket</th>\n",
       "      <th>Fare</th>\n",
       "      <th>Cabin</th>\n",
       "      <th>Embarked</th>\n",
       "      <th>fold</th>\n",
       "      <th>Title</th>\n",
       "      <th>Cabin Num</th>\n",
       "      <th>Cabin Class</th>\n",
       "    </tr>\n",
       "  </thead>\n",
       "  <tbody>\n",
       "    <tr>\n",
       "      <th>0</th>\n",
       "      <td>1</td>\n",
       "      <td>0</td>\n",
       "      <td>3</td>\n",
       "      <td>Braund, Mr. Owen Harris</td>\n",
       "      <td>male</td>\n",
       "      <td>(20.0, 22.0]</td>\n",
       "      <td>0</td>\n",
       "      <td>0</td>\n",
       "      <td>A/5 21171</td>\n",
       "      <td>(-0.001, 7.55]</td>\n",
       "      <td>Unknown</td>\n",
       "      <td>S</td>\n",
       "      <td>1</td>\n",
       "      <td>1</td>\n",
       "      <td>0.0</td>\n",
       "      <td>U</td>\n",
       "    </tr>\n",
       "    <tr>\n",
       "      <th>1</th>\n",
       "      <td>2</td>\n",
       "      <td>1</td>\n",
       "      <td>1</td>\n",
       "      <td>Cumings, Mrs. John Bradley (Florence Briggs Th...</td>\n",
       "      <td>female</td>\n",
       "      <td>(34.0, 40.0]</td>\n",
       "      <td>0</td>\n",
       "      <td>0</td>\n",
       "      <td>PC 17599</td>\n",
       "      <td>(39.688, 77.958]</td>\n",
       "      <td>C85</td>\n",
       "      <td>C</td>\n",
       "      <td>4</td>\n",
       "      <td>3</td>\n",
       "      <td>85.0</td>\n",
       "      <td>C</td>\n",
       "    </tr>\n",
       "    <tr>\n",
       "      <th>2</th>\n",
       "      <td>3</td>\n",
       "      <td>1</td>\n",
       "      <td>3</td>\n",
       "      <td>Heikkinen, Miss. Laina</td>\n",
       "      <td>female</td>\n",
       "      <td>(25.0, 26.0]</td>\n",
       "      <td>0</td>\n",
       "      <td>0</td>\n",
       "      <td>STON/O2. 3101282</td>\n",
       "      <td>(7.854, 8.05]</td>\n",
       "      <td>Unknown</td>\n",
       "      <td>S</td>\n",
       "      <td>3</td>\n",
       "      <td>2</td>\n",
       "      <td>0.0</td>\n",
       "      <td>U</td>\n",
       "    </tr>\n",
       "    <tr>\n",
       "      <th>3</th>\n",
       "      <td>4</td>\n",
       "      <td>1</td>\n",
       "      <td>1</td>\n",
       "      <td>Futrelle, Mrs. Jacques Heath (Lily May Peel)</td>\n",
       "      <td>female</td>\n",
       "      <td>(34.0, 40.0]</td>\n",
       "      <td>0</td>\n",
       "      <td>0</td>\n",
       "      <td>113803</td>\n",
       "      <td>(39.688, 77.958]</td>\n",
       "      <td>C123</td>\n",
       "      <td>S</td>\n",
       "      <td>3</td>\n",
       "      <td>3</td>\n",
       "      <td>123.0</td>\n",
       "      <td>C</td>\n",
       "    </tr>\n",
       "    <tr>\n",
       "      <th>4</th>\n",
       "      <td>5</td>\n",
       "      <td>0</td>\n",
       "      <td>3</td>\n",
       "      <td>Allen, Mr. William Henry</td>\n",
       "      <td>male</td>\n",
       "      <td>(34.0, 40.0]</td>\n",
       "      <td>0</td>\n",
       "      <td>0</td>\n",
       "      <td>373450</td>\n",
       "      <td>(7.854, 8.05]</td>\n",
       "      <td>Unknown</td>\n",
       "      <td>S</td>\n",
       "      <td>0</td>\n",
       "      <td>1</td>\n",
       "      <td>0.0</td>\n",
       "      <td>U</td>\n",
       "    </tr>\n",
       "  </tbody>\n",
       "</table>\n",
       "</div>"
      ],
      "text/plain": [
       "   PassengerId  Survived  Pclass  \\\n",
       "0            1         0       3   \n",
       "1            2         1       1   \n",
       "2            3         1       3   \n",
       "3            4         1       1   \n",
       "4            5         0       3   \n",
       "\n",
       "                                                Name     Sex           Age  \\\n",
       "0                            Braund, Mr. Owen Harris    male  (20.0, 22.0]   \n",
       "1  Cumings, Mrs. John Bradley (Florence Briggs Th...  female  (34.0, 40.0]   \n",
       "2                             Heikkinen, Miss. Laina  female  (25.0, 26.0]   \n",
       "3       Futrelle, Mrs. Jacques Heath (Lily May Peel)  female  (34.0, 40.0]   \n",
       "4                           Allen, Mr. William Henry    male  (34.0, 40.0]   \n",
       "\n",
       "   SibSp  Parch            Ticket              Fare    Cabin Embarked  fold  \\\n",
       "0      0      0         A/5 21171    (-0.001, 7.55]  Unknown        S     1   \n",
       "1      0      0          PC 17599  (39.688, 77.958]      C85        C     4   \n",
       "2      0      0  STON/O2. 3101282     (7.854, 8.05]  Unknown        S     3   \n",
       "3      0      0            113803  (39.688, 77.958]     C123        S     3   \n",
       "4      0      0            373450     (7.854, 8.05]  Unknown        S     0   \n",
       "\n",
       "   Title  Cabin Num Cabin Class  \n",
       "0      1        0.0           U  \n",
       "1      3       85.0           C  \n",
       "2      2        0.0           U  \n",
       "3      3      123.0           C  \n",
       "4      1        0.0           U  "
      ]
     },
     "execution_count": 1130,
     "metadata": {},
     "output_type": "execute_result"
    }
   ],
   "source": [
    "train.head()"
   ]
  },
  {
   "cell_type": "code",
   "execution_count": 1131,
   "metadata": {},
   "outputs": [],
   "source": [
    "#transfrom categorical data to numbers\n",
    "def label_encoding(train: pd.DataFrame, test: pd.DataFrame, encode_cols):\n",
    "    n_train = len(train)\n",
    "    train = pd.concat([train, test], sort=False).reset_index(drop=True)\n",
    "    for f in encode_cols:\n",
    "        try:\n",
    "            lbl = preprocessing.LabelEncoder()\n",
    "            train[f] = lbl.fit_transform(list(train[f].values))\n",
    "        except:\n",
    "            print(f)\n",
    "    test = train[n_train:].reset_index(drop=True)\n",
    "    train = train[:n_train]\n",
    "    return train, test"
   ]
  },
  {
   "cell_type": "code",
   "execution_count": 1132,
   "metadata": {},
   "outputs": [],
   "source": [
    "# train.Name = train.Name.str.extract('([A-Za-z]+)\\.', expand=False)\n",
    "# test.Name = test.Name.str.extract('([A-Za-z]+)\\.', expand=False)"
   ]
  },
  {
   "cell_type": "code",
   "execution_count": 1133,
   "metadata": {},
   "outputs": [],
   "source": [
    "train = train.drop('Name', axis=1)\n",
    "test = test.drop('Name', axis=1)"
   ]
  },
  {
   "cell_type": "code",
   "execution_count": 1134,
   "metadata": {},
   "outputs": [],
   "source": [
    "train = train.drop('PassengerId', axis=1)\n",
    "test = test.drop('PassengerId', axis=1)"
   ]
  },
  {
   "cell_type": "code",
   "execution_count": 1036,
   "metadata": {},
   "outputs": [
    {
     "name": "stdout",
     "output_type": "stream",
     "text": [
      "Fare\n"
     ]
    }
   ],
   "source": [
    "train, test = label_encoding(train, test, ['Sex', 'Ticket', 'Cabin', 'Embarked', 'Age', 'Cabin Class', 'Fare'])"
   ]
  },
  {
   "cell_type": "code",
   "execution_count": 1137,
   "metadata": {},
   "outputs": [],
   "source": [
    "# pd.get_dummies(train['Fare'])"
   ]
  },
  {
   "cell_type": "code",
   "execution_count": 984,
   "metadata": {},
   "outputs": [
    {
     "data": {
      "text/html": [
       "<div>\n",
       "<style scoped>\n",
       "    .dataframe tbody tr th:only-of-type {\n",
       "        vertical-align: middle;\n",
       "    }\n",
       "\n",
       "    .dataframe tbody tr th {\n",
       "        vertical-align: top;\n",
       "    }\n",
       "\n",
       "    .dataframe thead th {\n",
       "        text-align: right;\n",
       "    }\n",
       "</style>\n",
       "<table border=\"1\" class=\"dataframe\">\n",
       "  <thead>\n",
       "    <tr style=\"text-align: right;\">\n",
       "      <th></th>\n",
       "      <th>Survived</th>\n",
       "      <th>Pclass</th>\n",
       "      <th>Sex</th>\n",
       "      <th>Age</th>\n",
       "      <th>SibSp</th>\n",
       "      <th>Parch</th>\n",
       "      <th>Ticket</th>\n",
       "      <th>Fare</th>\n",
       "      <th>Cabin</th>\n",
       "      <th>Embarked</th>\n",
       "      <th>fold</th>\n",
       "      <th>Title</th>\n",
       "      <th>Cabin Num</th>\n",
       "      <th>Cabin Class</th>\n",
       "    </tr>\n",
       "  </thead>\n",
       "  <tbody>\n",
       "    <tr>\n",
       "      <th>0</th>\n",
       "      <td>NaN</td>\n",
       "      <td>3</td>\n",
       "      <td>1</td>\n",
       "      <td>14</td>\n",
       "      <td>0</td>\n",
       "      <td>0</td>\n",
       "      <td>376</td>\n",
       "      <td>(7.796, 8.05]</td>\n",
       "      <td>186</td>\n",
       "      <td>1</td>\n",
       "      <td>NaN</td>\n",
       "      <td>1</td>\n",
       "      <td>0.0</td>\n",
       "      <td>8</td>\n",
       "    </tr>\n",
       "    <tr>\n",
       "      <th>1</th>\n",
       "      <td>NaN</td>\n",
       "      <td>3</td>\n",
       "      <td>0</td>\n",
       "      <td>17</td>\n",
       "      <td>0</td>\n",
       "      <td>0</td>\n",
       "      <td>582</td>\n",
       "      <td>(-0.001, 7.642]</td>\n",
       "      <td>186</td>\n",
       "      <td>2</td>\n",
       "      <td>NaN</td>\n",
       "      <td>3</td>\n",
       "      <td>0.0</td>\n",
       "      <td>8</td>\n",
       "    </tr>\n",
       "    <tr>\n",
       "      <th>2</th>\n",
       "      <td>NaN</td>\n",
       "      <td>2</td>\n",
       "      <td>1</td>\n",
       "      <td>19</td>\n",
       "      <td>0</td>\n",
       "      <td>0</td>\n",
       "      <td>184</td>\n",
       "      <td>(8.05, 11.025]</td>\n",
       "      <td>186</td>\n",
       "      <td>1</td>\n",
       "      <td>NaN</td>\n",
       "      <td>1</td>\n",
       "      <td>0.0</td>\n",
       "      <td>8</td>\n",
       "    </tr>\n",
       "    <tr>\n",
       "      <th>3</th>\n",
       "      <td>NaN</td>\n",
       "      <td>3</td>\n",
       "      <td>1</td>\n",
       "      <td>10</td>\n",
       "      <td>0</td>\n",
       "      <td>0</td>\n",
       "      <td>366</td>\n",
       "      <td>(8.05, 11.025]</td>\n",
       "      <td>186</td>\n",
       "      <td>2</td>\n",
       "      <td>NaN</td>\n",
       "      <td>1</td>\n",
       "      <td>0.0</td>\n",
       "      <td>8</td>\n",
       "    </tr>\n",
       "    <tr>\n",
       "      <th>4</th>\n",
       "      <td>NaN</td>\n",
       "      <td>3</td>\n",
       "      <td>0</td>\n",
       "      <td>5</td>\n",
       "      <td>0</td>\n",
       "      <td>1</td>\n",
       "      <td>338</td>\n",
       "      <td>(11.025, 14.454]</td>\n",
       "      <td>186</td>\n",
       "      <td>2</td>\n",
       "      <td>NaN</td>\n",
       "      <td>3</td>\n",
       "      <td>0.0</td>\n",
       "      <td>8</td>\n",
       "    </tr>\n",
       "  </tbody>\n",
       "</table>\n",
       "</div>"
      ],
      "text/plain": [
       "   Survived  Pclass  Sex  Age  SibSp  Parch  Ticket              Fare  Cabin  \\\n",
       "0       NaN       3    1   14      0      0     376     (7.796, 8.05]    186   \n",
       "1       NaN       3    0   17      0      0     582   (-0.001, 7.642]    186   \n",
       "2       NaN       2    1   19      0      0     184    (8.05, 11.025]    186   \n",
       "3       NaN       3    1   10      0      0     366    (8.05, 11.025]    186   \n",
       "4       NaN       3    0    5      0      1     338  (11.025, 14.454]    186   \n",
       "\n",
       "   Embarked  fold  Title  Cabin Num  Cabin Class  \n",
       "0         1   NaN      1        0.0            8  \n",
       "1         2   NaN      3        0.0            8  \n",
       "2         1   NaN      1        0.0            8  \n",
       "3         2   NaN      1        0.0            8  \n",
       "4         2   NaN      3        0.0            8  "
      ]
     },
     "execution_count": 984,
     "metadata": {},
     "output_type": "execute_result"
    }
   ],
   "source": [
    "test.head()"
   ]
  },
  {
   "cell_type": "code",
   "execution_count": 1138,
   "metadata": {},
   "outputs": [],
   "source": [
    "# train.describe()"
   ]
  },
  {
   "cell_type": "code",
   "execution_count": 146,
   "metadata": {},
   "outputs": [
    {
     "data": {
      "text/html": [
       "<div>\n",
       "<style scoped>\n",
       "    .dataframe tbody tr th:only-of-type {\n",
       "        vertical-align: middle;\n",
       "    }\n",
       "\n",
       "    .dataframe tbody tr th {\n",
       "        vertical-align: top;\n",
       "    }\n",
       "\n",
       "    .dataframe thead th {\n",
       "        text-align: right;\n",
       "    }\n",
       "</style>\n",
       "<table border=\"1\" class=\"dataframe\">\n",
       "  <thead>\n",
       "    <tr style=\"text-align: right;\">\n",
       "      <th></th>\n",
       "      <th>Survived</th>\n",
       "      <th>Pclass</th>\n",
       "      <th>Sex</th>\n",
       "      <th>Age</th>\n",
       "      <th>SibSp</th>\n",
       "      <th>Parch</th>\n",
       "      <th>Ticket</th>\n",
       "      <th>Fare</th>\n",
       "      <th>Cabin</th>\n",
       "      <th>Embarked</th>\n",
       "      <th>fold</th>\n",
       "      <th>Title</th>\n",
       "      <th>Cabin Num</th>\n",
       "      <th>Cabin Class</th>\n",
       "    </tr>\n",
       "  </thead>\n",
       "  <tbody>\n",
       "    <tr>\n",
       "      <th>0</th>\n",
       "      <td>NaN</td>\n",
       "      <td>3</td>\n",
       "      <td>1</td>\n",
       "      <td>1</td>\n",
       "      <td>0</td>\n",
       "      <td>0</td>\n",
       "      <td>376</td>\n",
       "      <td>0</td>\n",
       "      <td>186</td>\n",
       "      <td>1</td>\n",
       "      <td>NaN</td>\n",
       "      <td>1</td>\n",
       "      <td>0.0</td>\n",
       "      <td>U</td>\n",
       "    </tr>\n",
       "    <tr>\n",
       "      <th>1</th>\n",
       "      <td>NaN</td>\n",
       "      <td>3</td>\n",
       "      <td>0</td>\n",
       "      <td>1</td>\n",
       "      <td>0</td>\n",
       "      <td>0</td>\n",
       "      <td>582</td>\n",
       "      <td>0</td>\n",
       "      <td>186</td>\n",
       "      <td>2</td>\n",
       "      <td>NaN</td>\n",
       "      <td>3</td>\n",
       "      <td>0.0</td>\n",
       "      <td>U</td>\n",
       "    </tr>\n",
       "    <tr>\n",
       "      <th>2</th>\n",
       "      <td>NaN</td>\n",
       "      <td>2</td>\n",
       "      <td>1</td>\n",
       "      <td>1</td>\n",
       "      <td>0</td>\n",
       "      <td>0</td>\n",
       "      <td>184</td>\n",
       "      <td>0</td>\n",
       "      <td>186</td>\n",
       "      <td>1</td>\n",
       "      <td>NaN</td>\n",
       "      <td>1</td>\n",
       "      <td>0.0</td>\n",
       "      <td>U</td>\n",
       "    </tr>\n",
       "    <tr>\n",
       "      <th>3</th>\n",
       "      <td>NaN</td>\n",
       "      <td>3</td>\n",
       "      <td>1</td>\n",
       "      <td>1</td>\n",
       "      <td>0</td>\n",
       "      <td>0</td>\n",
       "      <td>366</td>\n",
       "      <td>0</td>\n",
       "      <td>186</td>\n",
       "      <td>2</td>\n",
       "      <td>NaN</td>\n",
       "      <td>1</td>\n",
       "      <td>0.0</td>\n",
       "      <td>U</td>\n",
       "    </tr>\n",
       "    <tr>\n",
       "      <th>4</th>\n",
       "      <td>NaN</td>\n",
       "      <td>3</td>\n",
       "      <td>0</td>\n",
       "      <td>1</td>\n",
       "      <td>0</td>\n",
       "      <td>1</td>\n",
       "      <td>338</td>\n",
       "      <td>0</td>\n",
       "      <td>186</td>\n",
       "      <td>2</td>\n",
       "      <td>NaN</td>\n",
       "      <td>3</td>\n",
       "      <td>0.0</td>\n",
       "      <td>U</td>\n",
       "    </tr>\n",
       "  </tbody>\n",
       "</table>\n",
       "</div>"
      ],
      "text/plain": [
       "   Survived  Pclass  Sex  Age  SibSp  Parch  Ticket  Fare  Cabin  Embarked  \\\n",
       "0       NaN       3    1    1      0      0     376     0    186         1   \n",
       "1       NaN       3    0    1      0      0     582     0    186         2   \n",
       "2       NaN       2    1    1      0      0     184     0    186         1   \n",
       "3       NaN       3    1    1      0      0     366     0    186         2   \n",
       "4       NaN       3    0    1      0      1     338     0    186         2   \n",
       "\n",
       "   fold  Title  Cabin Num Cabin Class  \n",
       "0   NaN      1        0.0           U  \n",
       "1   NaN      3        0.0           U  \n",
       "2   NaN      1        0.0           U  \n",
       "3   NaN      1        0.0           U  \n",
       "4   NaN      3        0.0           U  "
      ]
     },
     "execution_count": 146,
     "metadata": {},
     "output_type": "execute_result"
    }
   ],
   "source": [
    "test.head()"
   ]
  },
  {
   "cell_type": "code",
   "execution_count": 1139,
   "metadata": {},
   "outputs": [],
   "source": [
    "# test.describe()"
   ]
  },
  {
   "cell_type": "markdown",
   "metadata": {},
   "source": [
    "# Building Model"
   ]
  },
  {
   "cell_type": "markdown",
   "metadata": {},
   "source": [
    "## LGB"
   ]
  },
  {
   "cell_type": "code",
   "execution_count": 44,
   "metadata": {},
   "outputs": [],
   "source": [
    "def optuna_lgb(n_trials=100):\n",
    "    \n",
    "    def objective(trial):\n",
    "\n",
    "        params = {\n",
    "            \"objective\": \"binary\",\n",
    "            \"metric\": \"binary_logloss\",\n",
    "            \"verbosity\": -1,\n",
    "            \"boosting_type\": \"gbdt\",\n",
    "            \"lambda_l1\": trial.suggest_float(\"lambda_l1\", 1e-5, 10, log=True),\n",
    "            \"lambda_l2\": trial.suggest_float(\"lambda_l2\", 1e-5, 10, log=True),\n",
    "            \"num_leaves\": trial.suggest_int(\"num_leaves\", 2, 62),\n",
    "            \"feature_fraction\": trial.suggest_float(\"feature_fraction\", 0.4, 0.9),\n",
    "            \"bagging_fraction\": trial.suggest_float(\"bagging_fraction\", 0.4, 0.9),\n",
    "            \"bagging_freq\": trial.suggest_int(\"bagging_freq\", 2, 9),\n",
    "            \"min_child_samples\": trial.suggest_int(\"min_child_samples\", 33, 93),\n",
    "            \"max_depth\": trial.suggest_int(\"max_depth\", 2, 7)\n",
    "        }\n",
    "\n",
    "        # initialize oof \n",
    "        oof_train = np.zeros((len(train),))\n",
    "\n",
    "        for i in range(5):\n",
    "            train_x = train.query(f'fold!={i}').drop(['fold', 'Survived'], axis=1)\n",
    "            train_y = train.query(f'fold!={i}').Survived\n",
    "\n",
    "            valid_x = train.query(f'fold=={i}').drop(['fold', 'Survived'], axis=1)\n",
    "            valid_y = train.query(f'fold=={i}').Survived\n",
    "            \n",
    "            lgb_train = lgb.Dataset(train_x,\n",
    "                                    train_y)\n",
    "\n",
    "            lgb_eval = lgb.Dataset(valid_x,\n",
    "                                   valid_y,\n",
    "                                   reference=lgb_train)\n",
    "\n",
    "            gbm = lgb.train(params,\n",
    "                            lgb_train,\n",
    "                            valid_sets=[lgb_train, lgb_eval],\n",
    "                            num_boost_round=5000,\n",
    "                            verbose_eval=-1, \n",
    "                            early_stopping_rounds=1000\n",
    "                            )\n",
    "            oof_preds = gbm.predict(valid_x, num_iteration=gbm.best_iteration)\n",
    "            oof_train[valid_x.index] = gbm.predict(valid_x,\n",
    "                                                   num_iteration=gbm.best_iteration)\n",
    "            \n",
    "            \n",
    "        return accuracy_score(train.Survived, oof_train.round())\n",
    "    \n",
    "    study = optuna.create_study(direction=\"maximize\")\n",
    "    study.optimize(objective, n_trials=n_trials)\n",
    "\n",
    "    print(\"Number of finished trials: {}\".format(len(study.trials)))\n",
    "\n",
    "    print(\"Best trial:\")\n",
    "    trial = study.best_trial\n",
    "\n",
    "    print(\"  Value: {}\".format(trial.value))\n",
    "\n",
    "    print(\"  Params: \")\n",
    "    for key, value in trial.params.items():\n",
    "        print(\"    {}: {}\".format(key, value))\n",
    "    \n",
    "    best_params = {\n",
    "        \"objective\": \"binary\",\n",
    "        \"metric\": \"binary_logloss\",\n",
    "        \"verbosity\": -1,\n",
    "        \"boosting_type\": \"gbdt\",\n",
    "    }\n",
    "    best_params.update(study.best_params)\n",
    "    ## save trained model\n",
    "    # initialize oof \n",
    "    oof_train = np.zeros((len(train),))\n",
    "    print('*'*50)\n",
    "    print('Exporting best models')\n",
    "    print('*' * 50)\n",
    "    # split folds using RSGKF\n",
    "    for i in range(5):\n",
    "        train_x = train.query(f'fold!={i}').drop(['fold', 'Survived'], axis=1)\n",
    "        train_y = train.query(f'fold!={i}').Survived\n",
    "\n",
    "        valid_x = train.query(f'fold=={i}').drop(['fold', 'Survived'], axis=1)\n",
    "        valid_y = train.query(f'fold=={i}').Survived\n",
    "\n",
    "        lgb_train = lgb.Dataset(train_x,\n",
    "                                train_y)\n",
    "\n",
    "        lgb_eval = lgb.Dataset(valid_x,\n",
    "                               valid_y,\n",
    "                               reference=lgb_train)\n",
    "\n",
    "        gbm = lgb.train(best_params,\n",
    "                        lgb_train,\n",
    "                        valid_sets=[lgb_train, lgb_eval],\n",
    "                        num_boost_round=50000,\n",
    "                        verbose_eval=-1, \n",
    "                        early_stopping_rounds=1001\n",
    "                        )\n",
    "\n",
    "        oof_preds = gbm.predict(valid_x, num_iteration=gbm.best_iteration)\n",
    "        oof_train[valid_x.index] = gbm.predict(valid_x, num_iteration=gbm.best_iteration)\n",
    "\n",
    "        joblib.dump(gbm, f'lgb_fold{i}.pkl')"
   ]
  },
  {
   "cell_type": "code",
   "execution_count": 45,
   "metadata": {},
   "outputs": [
    {
     "name": "stderr",
     "output_type": "stream",
     "text": [
      "\u001b[32m[I 2021-10-02 20:06:30,993]\u001b[0m A new study created in memory with name: no-name-3e6934d0-a518-4e1f-8c05-50467b58a0ce\u001b[0m\n"
     ]
    },
    {
     "name": "stdout",
     "output_type": "stream",
     "text": [
      "Training until validation scores don't improve for 1000 rounds\n",
      "Early stopping, best iteration is:\n",
      "[93]\ttraining's binary_logloss: 0.380899\tvalid_1's binary_logloss: 0.415107\n",
      "Training until validation scores don't improve for 1000 rounds\n",
      "Early stopping, best iteration is:\n",
      "[226]\ttraining's binary_logloss: 0.353536\tvalid_1's binary_logloss: 0.399172\n",
      "Training until validation scores don't improve for 1000 rounds\n",
      "Early stopping, best iteration is:\n",
      "[131]\ttraining's binary_logloss: 0.359263\tvalid_1's binary_logloss: 0.458907\n",
      "Training until validation scores don't improve for 1000 rounds\n",
      "Early stopping, best iteration is:\n",
      "[516]\ttraining's binary_logloss: 0.315719\tvalid_1's binary_logloss: 0.413806\n",
      "Training until validation scores don't improve for 1000 rounds\n"
     ]
    },
    {
     "name": "stderr",
     "output_type": "stream",
     "text": [
      "\u001b[32m[I 2021-10-02 20:06:32,904]\u001b[0m Trial 0 finished with value: 0.8170594837261503 and parameters: {'lambda_l1': 0.4504811473905986, 'lambda_l2': 1.355569361399226, 'num_leaves': 29, 'feature_fraction': 0.5243510836328067, 'bagging_fraction': 0.7409490661146226, 'bagging_freq': 3, 'min_child_samples': 42, 'max_depth': 3}. Best is trial 0 with value: 0.8170594837261503.\u001b[0m\n"
     ]
    },
    {
     "name": "stdout",
     "output_type": "stream",
     "text": [
      "Early stopping, best iteration is:\n",
      "[35]\ttraining's binary_logloss: 0.41142\tvalid_1's binary_logloss: 0.42258\n",
      "Training until validation scores don't improve for 1000 rounds\n",
      "Early stopping, best iteration is:\n",
      "[352]\ttraining's binary_logloss: 0.357577\tvalid_1's binary_logloss: 0.413776\n",
      "Training until validation scores don't improve for 1000 rounds\n",
      "Early stopping, best iteration is:\n",
      "[579]\ttraining's binary_logloss: 0.336561\tvalid_1's binary_logloss: 0.389818\n",
      "Training until validation scores don't improve for 1000 rounds\n",
      "Early stopping, best iteration is:\n",
      "[162]\ttraining's binary_logloss: 0.377119\tvalid_1's binary_logloss: 0.453438\n",
      "Training until validation scores don't improve for 1000 rounds\n",
      "Early stopping, best iteration is:\n",
      "[287]\ttraining's binary_logloss: 0.360804\tvalid_1's binary_logloss: 0.42291\n",
      "Training until validation scores don't improve for 1000 rounds\n"
     ]
    },
    {
     "name": "stderr",
     "output_type": "stream",
     "text": [
      "\u001b[32m[I 2021-10-02 20:06:35,124]\u001b[0m Trial 1 finished with value: 0.8159371492704826 and parameters: {'lambda_l1': 0.0029842956381218428, 'lambda_l2': 0.1537110283963997, 'num_leaves': 8, 'feature_fraction': 0.6438285308285523, 'bagging_fraction': 0.5542362596910381, 'bagging_freq': 3, 'min_child_samples': 69, 'max_depth': 5}. Best is trial 0 with value: 0.8170594837261503.\u001b[0m\n"
     ]
    },
    {
     "name": "stdout",
     "output_type": "stream",
     "text": [
      "Early stopping, best iteration is:\n",
      "[181]\ttraining's binary_logloss: 0.378781\tvalid_1's binary_logloss: 0.42141\n",
      "Training until validation scores don't improve for 1000 rounds\n",
      "Early stopping, best iteration is:\n",
      "[56]\ttraining's binary_logloss: 0.405591\tvalid_1's binary_logloss: 0.422184\n",
      "Training until validation scores don't improve for 1000 rounds\n",
      "Early stopping, best iteration is:\n",
      "[372]\ttraining's binary_logloss: 0.376161\tvalid_1's binary_logloss: 0.401964\n",
      "Training until validation scores don't improve for 1000 rounds\n",
      "Early stopping, best iteration is:\n",
      "[346]\ttraining's binary_logloss: 0.363408\tvalid_1's binary_logloss: 0.455083\n",
      "Training until validation scores don't improve for 1000 rounds\n",
      "Early stopping, best iteration is:\n",
      "[49]\ttraining's binary_logloss: 0.407429\tvalid_1's binary_logloss: 0.42643\n",
      "Training until validation scores don't improve for 1000 rounds\n"
     ]
    },
    {
     "name": "stderr",
     "output_type": "stream",
     "text": [
      "\u001b[32m[I 2021-10-02 20:06:36,470]\u001b[0m Trial 2 finished with value: 0.8092031425364759 and parameters: {'lambda_l1': 2.7155974357696264, 'lambda_l2': 1.012579738721704e-05, 'num_leaves': 46, 'feature_fraction': 0.6641668020607965, 'bagging_fraction': 0.885716233543129, 'bagging_freq': 4, 'min_child_samples': 69, 'max_depth': 7}. Best is trial 0 with value: 0.8170594837261503.\u001b[0m\n"
     ]
    },
    {
     "name": "stdout",
     "output_type": "stream",
     "text": [
      "Early stopping, best iteration is:\n",
      "[52]\ttraining's binary_logloss: 0.409649\tvalid_1's binary_logloss: 0.419858\n",
      "Training until validation scores don't improve for 1000 rounds\n",
      "Early stopping, best iteration is:\n",
      "[116]\ttraining's binary_logloss: 0.413331\tvalid_1's binary_logloss: 0.420534\n",
      "Training until validation scores don't improve for 1000 rounds\n",
      "Early stopping, best iteration is:\n",
      "[384]\ttraining's binary_logloss: 0.390866\tvalid_1's binary_logloss: 0.413715\n",
      "Training until validation scores don't improve for 1000 rounds\n",
      "Early stopping, best iteration is:\n",
      "[294]\ttraining's binary_logloss: 0.382088\tvalid_1's binary_logloss: 0.453006\n",
      "Training until validation scores don't improve for 1000 rounds\n",
      "Early stopping, best iteration is:\n",
      "[275]\ttraining's binary_logloss: 0.39428\tvalid_1's binary_logloss: 0.430183\n",
      "Training until validation scores don't improve for 1000 rounds\n"
     ]
    },
    {
     "name": "stderr",
     "output_type": "stream",
     "text": [
      "\u001b[32m[I 2021-10-02 20:06:38,216]\u001b[0m Trial 3 finished with value: 0.8002244668911336 and parameters: {'lambda_l1': 0.002948170294275909, 'lambda_l2': 0.8523345334415832, 'num_leaves': 7, 'feature_fraction': 0.5686279694072874, 'bagging_fraction': 0.46768358710518443, 'bagging_freq': 2, 'min_child_samples': 75, 'max_depth': 5}. Best is trial 0 with value: 0.8170594837261503.\u001b[0m\n"
     ]
    },
    {
     "name": "stdout",
     "output_type": "stream",
     "text": [
      "Early stopping, best iteration is:\n",
      "[86]\ttraining's binary_logloss: 0.42318\tvalid_1's binary_logloss: 0.421405\n",
      "Training until validation scores don't improve for 1000 rounds\n",
      "Early stopping, best iteration is:\n",
      "[58]\ttraining's binary_logloss: 0.375836\tvalid_1's binary_logloss: 0.417382\n",
      "Training until validation scores don't improve for 1000 rounds\n",
      "Early stopping, best iteration is:\n",
      "[173]\ttraining's binary_logloss: 0.337934\tvalid_1's binary_logloss: 0.40672\n",
      "Training until validation scores don't improve for 1000 rounds\n",
      "Early stopping, best iteration is:\n",
      "[71]\ttraining's binary_logloss: 0.363201\tvalid_1's binary_logloss: 0.456189\n",
      "Training until validation scores don't improve for 1000 rounds\n",
      "Early stopping, best iteration is:\n",
      "[264]\ttraining's binary_logloss: 0.31354\tvalid_1's binary_logloss: 0.409884\n",
      "Training until validation scores don't improve for 1000 rounds\n"
     ]
    },
    {
     "name": "stderr",
     "output_type": "stream",
     "text": [
      "\u001b[32m[I 2021-10-02 20:06:40,362]\u001b[0m Trial 4 finished with value: 0.8237934904601572 and parameters: {'lambda_l1': 0.0005580365404479516, 'lambda_l2': 0.0020782633832178475, 'num_leaves': 38, 'feature_fraction': 0.4666220280644362, 'bagging_fraction': 0.8284922754787871, 'bagging_freq': 5, 'min_child_samples': 38, 'max_depth': 4}. Best is trial 4 with value: 0.8237934904601572.\u001b[0m\n"
     ]
    },
    {
     "name": "stdout",
     "output_type": "stream",
     "text": [
      "Early stopping, best iteration is:\n",
      "[32]\ttraining's binary_logloss: 0.400755\tvalid_1's binary_logloss: 0.424322\n",
      "Training until validation scores don't improve for 1000 rounds\n",
      "Early stopping, best iteration is:\n",
      "[514]\ttraining's binary_logloss: 0.345565\tvalid_1's binary_logloss: 0.418958\n",
      "Training until validation scores don't improve for 1000 rounds\n",
      "Early stopping, best iteration is:\n",
      "[539]\ttraining's binary_logloss: 0.348432\tvalid_1's binary_logloss: 0.393975\n",
      "Training until validation scores don't improve for 1000 rounds\n",
      "Early stopping, best iteration is:\n",
      "[805]\ttraining's binary_logloss: 0.314349\tvalid_1's binary_logloss: 0.44108\n",
      "Training until validation scores don't improve for 1000 rounds\n",
      "Early stopping, best iteration is:\n",
      "[83]\ttraining's binary_logloss: 0.403194\tvalid_1's binary_logloss: 0.42071\n",
      "Training until validation scores don't improve for 1000 rounds\n"
     ]
    },
    {
     "name": "stderr",
     "output_type": "stream",
     "text": [
      "\u001b[32m[I 2021-10-02 20:06:42,156]\u001b[0m Trial 5 finished with value: 0.8249158249158249 and parameters: {'lambda_l1': 0.3803761729413972, 'lambda_l2': 1.5294700323918282e-05, 'num_leaves': 4, 'feature_fraction': 0.7661070489101585, 'bagging_fraction': 0.6141218229468189, 'bagging_freq': 7, 'min_child_samples': 69, 'max_depth': 3}. Best is trial 5 with value: 0.8249158249158249.\u001b[0m\n"
     ]
    },
    {
     "name": "stdout",
     "output_type": "stream",
     "text": [
      "Early stopping, best iteration is:\n",
      "[83]\ttraining's binary_logloss: 0.405824\tvalid_1's binary_logloss: 0.420931\n",
      "Training until validation scores don't improve for 1000 rounds\n",
      "Early stopping, best iteration is:\n",
      "[300]\ttraining's binary_logloss: 0.344879\tvalid_1's binary_logloss: 0.411552\n",
      "Training until validation scores don't improve for 1000 rounds\n",
      "Early stopping, best iteration is:\n",
      "[384]\ttraining's binary_logloss: 0.336742\tvalid_1's binary_logloss: 0.392202\n",
      "Training until validation scores don't improve for 1000 rounds\n",
      "Early stopping, best iteration is:\n",
      "[235]\ttraining's binary_logloss: 0.346018\tvalid_1's binary_logloss: 0.450082\n",
      "Training until validation scores don't improve for 1000 rounds\n",
      "Early stopping, best iteration is:\n",
      "[272]\ttraining's binary_logloss: 0.347448\tvalid_1's binary_logloss: 0.41947\n",
      "Training until validation scores don't improve for 1000 rounds\n"
     ]
    },
    {
     "name": "stderr",
     "output_type": "stream",
     "text": [
      "\u001b[32m[I 2021-10-02 20:06:44,233]\u001b[0m Trial 6 finished with value: 0.8204264870931538 and parameters: {'lambda_l1': 0.00020080054882700002, 'lambda_l2': 0.5112568579625436, 'num_leaves': 22, 'feature_fraction': 0.7124321256171078, 'bagging_fraction': 0.5330430490556606, 'bagging_freq': 2, 'min_child_samples': 55, 'max_depth': 4}. Best is trial 5 with value: 0.8249158249158249.\u001b[0m\n"
     ]
    },
    {
     "name": "stdout",
     "output_type": "stream",
     "text": [
      "Early stopping, best iteration is:\n",
      "[86]\ttraining's binary_logloss: 0.391662\tvalid_1's binary_logloss: 0.420893\n",
      "Training until validation scores don't improve for 1000 rounds\n",
      "Early stopping, best iteration is:\n",
      "[478]\ttraining's binary_logloss: 0.382857\tvalid_1's binary_logloss: 0.423698\n",
      "Training until validation scores don't improve for 1000 rounds\n",
      "Early stopping, best iteration is:\n",
      "[466]\ttraining's binary_logloss: 0.385954\tvalid_1's binary_logloss: 0.408794\n",
      "Training until validation scores don't improve for 1000 rounds\n",
      "Early stopping, best iteration is:\n",
      "[709]\ttraining's binary_logloss: 0.35955\tvalid_1's binary_logloss: 0.460269\n",
      "Training until validation scores don't improve for 1000 rounds\n",
      "Early stopping, best iteration is:\n",
      "[480]\ttraining's binary_logloss: 0.380275\tvalid_1's binary_logloss: 0.422577\n",
      "Training until validation scores don't improve for 1000 rounds\n"
     ]
    },
    {
     "name": "stderr",
     "output_type": "stream",
     "text": [
      "\u001b[32m[I 2021-10-02 20:06:46,722]\u001b[0m Trial 7 finished with value: 0.8058361391694725 and parameters: {'lambda_l1': 0.0031719871638297556, 'lambda_l2': 2.5147356099067957, 'num_leaves': 42, 'feature_fraction': 0.45584574640327935, 'bagging_fraction': 0.5133050295193166, 'bagging_freq': 6, 'min_child_samples': 73, 'max_depth': 5}. Best is trial 5 with value: 0.8249158249158249.\u001b[0m\n"
     ]
    },
    {
     "name": "stdout",
     "output_type": "stream",
     "text": [
      "Early stopping, best iteration is:\n",
      "[72]\ttraining's binary_logloss: 0.425429\tvalid_1's binary_logloss: 0.427797\n",
      "Training until validation scores don't improve for 1000 rounds\n",
      "Early stopping, best iteration is:\n",
      "[298]\ttraining's binary_logloss: 0.421\tvalid_1's binary_logloss: 0.426873\n",
      "Training until validation scores don't improve for 1000 rounds\n",
      "Early stopping, best iteration is:\n",
      "[412]\ttraining's binary_logloss: 0.426236\tvalid_1's binary_logloss: 0.424683\n",
      "Training until validation scores don't improve for 1000 rounds\n",
      "Early stopping, best iteration is:\n",
      "[252]\ttraining's binary_logloss: 0.413189\tvalid_1's binary_logloss: 0.471838\n",
      "Training until validation scores don't improve for 1000 rounds\n",
      "Early stopping, best iteration is:\n",
      "[304]\ttraining's binary_logloss: 0.425363\tvalid_1's binary_logloss: 0.442118\n",
      "Training until validation scores don't improve for 1000 rounds\n"
     ]
    },
    {
     "name": "stderr",
     "output_type": "stream",
     "text": [
      "\u001b[32m[I 2021-10-02 20:06:48,172]\u001b[0m Trial 8 finished with value: 0.7878787878787878 and parameters: {'lambda_l1': 9.613030521448657, 'lambda_l2': 0.002911761626199151, 'num_leaves': 17, 'feature_fraction': 0.6383315438503145, 'bagging_fraction': 0.6544974899212388, 'bagging_freq': 9, 'min_child_samples': 56, 'max_depth': 6}. Best is trial 5 with value: 0.8249158249158249.\u001b[0m\n"
     ]
    },
    {
     "name": "stdout",
     "output_type": "stream",
     "text": [
      "Early stopping, best iteration is:\n",
      "[312]\ttraining's binary_logloss: 0.425395\tvalid_1's binary_logloss: 0.414739\n",
      "Training until validation scores don't improve for 1000 rounds\n",
      "Early stopping, best iteration is:\n",
      "[1193]\ttraining's binary_logloss: 0.345919\tvalid_1's binary_logloss: 0.412766\n",
      "Training until validation scores don't improve for 1000 rounds\n",
      "Early stopping, best iteration is:\n",
      "[663]\ttraining's binary_logloss: 0.37202\tvalid_1's binary_logloss: 0.411247\n",
      "Training until validation scores don't improve for 1000 rounds\n",
      "Early stopping, best iteration is:\n",
      "[333]\ttraining's binary_logloss: 0.379273\tvalid_1's binary_logloss: 0.456484\n",
      "Training until validation scores don't improve for 1000 rounds\n",
      "Early stopping, best iteration is:\n",
      "[806]\ttraining's binary_logloss: 0.359307\tvalid_1's binary_logloss: 0.422459\n",
      "Training until validation scores don't improve for 1000 rounds\n"
     ]
    },
    {
     "name": "stderr",
     "output_type": "stream",
     "text": [
      "\u001b[32m[I 2021-10-02 20:06:50,070]\u001b[0m Trial 9 finished with value: 0.8114478114478114 and parameters: {'lambda_l1': 0.006682526600189171, 'lambda_l2': 7.077761783256009e-05, 'num_leaves': 17, 'feature_fraction': 0.41160912476374917, 'bagging_fraction': 0.44571359700856117, 'bagging_freq': 3, 'min_child_samples': 61, 'max_depth': 2}. Best is trial 5 with value: 0.8249158249158249.\u001b[0m\n"
     ]
    },
    {
     "name": "stdout",
     "output_type": "stream",
     "text": [
      "Early stopping, best iteration is:\n",
      "[69]\ttraining's binary_logloss: 0.425122\tvalid_1's binary_logloss: 0.421028\n",
      "Training until validation scores don't improve for 1000 rounds\n",
      "Early stopping, best iteration is:\n",
      "[48]\ttraining's binary_logloss: 0.428091\tvalid_1's binary_logloss: 0.424851\n",
      "Training until validation scores don't improve for 1000 rounds\n",
      "Early stopping, best iteration is:\n",
      "[615]\ttraining's binary_logloss: 0.367492\tvalid_1's binary_logloss: 0.408102\n",
      "Training until validation scores don't improve for 1000 rounds\n",
      "Early stopping, best iteration is:\n",
      "[313]\ttraining's binary_logloss: 0.376702\tvalid_1's binary_logloss: 0.448871\n",
      "Training until validation scores don't improve for 1000 rounds\n",
      "Early stopping, best iteration is:\n",
      "[104]\ttraining's binary_logloss: 0.41164\tvalid_1's binary_logloss: 0.42425\n",
      "Training until validation scores don't improve for 1000 rounds\n"
     ]
    },
    {
     "name": "stderr",
     "output_type": "stream",
     "text": [
      "\u001b[32m[I 2021-10-02 20:06:51,394]\u001b[0m Trial 10 finished with value: 0.8002244668911336 and parameters: {'lambda_l1': 0.18421534202468115, 'lambda_l2': 0.000172972000111517, 'num_leaves': 60, 'feature_fraction': 0.89076708907018, 'bagging_fraction': 0.6603831415987613, 'bagging_freq': 8, 'min_child_samples': 91, 'max_depth': 2}. Best is trial 5 with value: 0.8249158249158249.\u001b[0m\n"
     ]
    },
    {
     "name": "stdout",
     "output_type": "stream",
     "text": [
      "Early stopping, best iteration is:\n",
      "[41]\ttraining's binary_logloss: 0.435002\tvalid_1's binary_logloss: 0.425614\n",
      "Training until validation scores don't improve for 1000 rounds\n",
      "Early stopping, best iteration is:\n",
      "[69]\ttraining's binary_logloss: 0.370364\tvalid_1's binary_logloss: 0.408478\n",
      "Training until validation scores don't improve for 1000 rounds\n",
      "Early stopping, best iteration is:\n",
      "[66]\ttraining's binary_logloss: 0.3705\tvalid_1's binary_logloss: 0.410174\n",
      "Training until validation scores don't improve for 1000 rounds\n",
      "Early stopping, best iteration is:\n",
      "[36]\ttraining's binary_logloss: 0.382626\tvalid_1's binary_logloss: 0.454656\n",
      "Training until validation scores don't improve for 1000 rounds\n",
      "Early stopping, best iteration is:\n",
      "[42]\ttraining's binary_logloss: 0.383099\tvalid_1's binary_logloss: 0.40479\n",
      "Training until validation scores don't improve for 1000 rounds\n"
     ]
    },
    {
     "name": "stderr",
     "output_type": "stream",
     "text": [
      "\u001b[32m[I 2021-10-02 20:06:52,893]\u001b[0m Trial 11 finished with value: 0.813692480359147 and parameters: {'lambda_l1': 1.2290811304149426e-05, 'lambda_l2': 0.00434811151804349, 'num_leaves': 47, 'feature_fraction': 0.8119233424709122, 'bagging_fraction': 0.8435973628374025, 'bagging_freq': 6, 'min_child_samples': 34, 'max_depth': 3}. Best is trial 5 with value: 0.8249158249158249.\u001b[0m\n"
     ]
    },
    {
     "name": "stdout",
     "output_type": "stream",
     "text": [
      "Early stopping, best iteration is:\n",
      "[28]\ttraining's binary_logloss: 0.397935\tvalid_1's binary_logloss: 0.421758\n",
      "Training until validation scores don't improve for 1000 rounds\n",
      "Early stopping, best iteration is:\n",
      "[406]\ttraining's binary_logloss: 0.346595\tvalid_1's binary_logloss: 0.412641\n",
      "Training until validation scores don't improve for 1000 rounds\n",
      "Early stopping, best iteration is:\n",
      "[525]\ttraining's binary_logloss: 0.339026\tvalid_1's binary_logloss: 0.397355\n",
      "Training until validation scores don't improve for 1000 rounds\n",
      "Early stopping, best iteration is:\n",
      "[186]\ttraining's binary_logloss: 0.365516\tvalid_1's binary_logloss: 0.454157\n",
      "Training until validation scores don't improve for 1000 rounds\n",
      "Early stopping, best iteration is:\n",
      "[89]\ttraining's binary_logloss: 0.396097\tvalid_1's binary_logloss: 0.424107\n",
      "Training until validation scores don't improve for 1000 rounds\n"
     ]
    },
    {
     "name": "stderr",
     "output_type": "stream",
     "text": [
      "\u001b[32m[I 2021-10-02 20:06:54,663]\u001b[0m Trial 12 finished with value: 0.8204264870931538 and parameters: {'lambda_l1': 8.421859826567292e-05, 'lambda_l2': 0.0002187080015675822, 'num_leaves': 35, 'feature_fraction': 0.7667376102682876, 'bagging_fraction': 0.7738309072644889, 'bagging_freq': 7, 'min_child_samples': 85, 'max_depth': 3}. Best is trial 5 with value: 0.8249158249158249.\u001b[0m\n"
     ]
    },
    {
     "name": "stdout",
     "output_type": "stream",
     "text": [
      "Early stopping, best iteration is:\n",
      "[40]\ttraining's binary_logloss: 0.422946\tvalid_1's binary_logloss: 0.428896\n",
      "Training until validation scores don't improve for 1000 rounds\n",
      "Early stopping, best iteration is:\n",
      "[30]\ttraining's binary_logloss: 0.412835\tvalid_1's binary_logloss: 0.417324\n",
      "Training until validation scores don't improve for 1000 rounds\n",
      "Early stopping, best iteration is:\n",
      "[106]\ttraining's binary_logloss: 0.368148\tvalid_1's binary_logloss: 0.394802\n",
      "Training until validation scores don't improve for 1000 rounds\n",
      "Early stopping, best iteration is:\n",
      "[70]\ttraining's binary_logloss: 0.372725\tvalid_1's binary_logloss: 0.462302\n",
      "Training until validation scores don't improve for 1000 rounds\n",
      "Early stopping, best iteration is:\n",
      "[34]\ttraining's binary_logloss: 0.40515\tvalid_1's binary_logloss: 0.418516\n",
      "Training until validation scores don't improve for 1000 rounds\n"
     ]
    },
    {
     "name": "stderr",
     "output_type": "stream",
     "text": [
      "\u001b[32m[I 2021-10-02 20:06:56,285]\u001b[0m Trial 13 finished with value: 0.8092031425364759 and parameters: {'lambda_l1': 0.07861673281195386, 'lambda_l2': 1.2079962060255868e-05, 'num_leaves': 62, 'feature_fraction': 0.8855319250312598, 'bagging_fraction': 0.6010010765933788, 'bagging_freq': 5, 'min_child_samples': 45, 'max_depth': 4}. Best is trial 5 with value: 0.8249158249158249.\u001b[0m\n"
     ]
    },
    {
     "name": "stdout",
     "output_type": "stream",
     "text": [
      "Early stopping, best iteration is:\n",
      "[35]\ttraining's binary_logloss: 0.406627\tvalid_1's binary_logloss: 0.419142\n",
      "Training until validation scores don't improve for 1000 rounds\n",
      "Early stopping, best iteration is:\n",
      "[49]\ttraining's binary_logloss: 0.414819\tvalid_1's binary_logloss: 0.422457\n",
      "Training until validation scores don't improve for 1000 rounds\n",
      "Early stopping, best iteration is:\n",
      "[526]\ttraining's binary_logloss: 0.330567\tvalid_1's binary_logloss: 0.399266\n",
      "Training until validation scores don't improve for 1000 rounds\n",
      "Early stopping, best iteration is:\n",
      "[175]\ttraining's binary_logloss: 0.363766\tvalid_1's binary_logloss: 0.46345\n",
      "Training until validation scores don't improve for 1000 rounds\n",
      "Early stopping, best iteration is:\n",
      "[203]\ttraining's binary_logloss: 0.360353\tvalid_1's binary_logloss: 0.424924\n",
      "Training until validation scores don't improve for 1000 rounds\n"
     ]
    },
    {
     "name": "stderr",
     "output_type": "stream",
     "text": [
      "\u001b[32m[I 2021-10-02 20:06:58,268]\u001b[0m Trial 14 finished with value: 0.8159371492704826 and parameters: {'lambda_l1': 0.042334425324681596, 'lambda_l2': 0.0585154342761068, 'num_leaves': 53, 'feature_fraction': 0.8080467638561853, 'bagging_fraction': 0.7201131898015998, 'bagging_freq': 7, 'min_child_samples': 81, 'max_depth': 4}. Best is trial 5 with value: 0.8249158249158249.\u001b[0m\n"
     ]
    },
    {
     "name": "stdout",
     "output_type": "stream",
     "text": [
      "Early stopping, best iteration is:\n",
      "[38]\ttraining's binary_logloss: 0.419331\tvalid_1's binary_logloss: 0.427101\n",
      "Training until validation scores don't improve for 1000 rounds\n",
      "Early stopping, best iteration is:\n",
      "[60]\ttraining's binary_logloss: 0.385573\tvalid_1's binary_logloss: 0.426698\n",
      "Training until validation scores don't improve for 1000 rounds\n",
      "Early stopping, best iteration is:\n",
      "[115]\ttraining's binary_logloss: 0.370341\tvalid_1's binary_logloss: 0.404162\n",
      "Training until validation scores don't improve for 1000 rounds\n",
      "Early stopping, best iteration is:\n",
      "[75]\ttraining's binary_logloss: 0.368628\tvalid_1's binary_logloss: 0.460949\n",
      "Training until validation scores don't improve for 1000 rounds\n",
      "Early stopping, best iteration is:\n",
      "[135]\ttraining's binary_logloss: 0.363614\tvalid_1's binary_logloss: 0.409973\n",
      "Training until validation scores don't improve for 1000 rounds\n"
     ]
    },
    {
     "name": "stderr",
     "output_type": "stream",
     "text": [
      "\u001b[32m[I 2021-10-02 20:07:00,136]\u001b[0m Trial 15 finished with value: 0.8159371492704826 and parameters: {'lambda_l1': 0.0003808096867006085, 'lambda_l2': 0.0016557166444350069, 'num_leaves': 34, 'feature_fraction': 0.5396138506192121, 'bagging_fraction': 0.807210400695324, 'bagging_freq': 5, 'min_child_samples': 47, 'max_depth': 3}. Best is trial 5 with value: 0.8249158249158249.\u001b[0m\n"
     ]
    },
    {
     "name": "stdout",
     "output_type": "stream",
     "text": [
      "Early stopping, best iteration is:\n",
      "[33]\ttraining's binary_logloss: 0.40307\tvalid_1's binary_logloss: 0.422045\n",
      "Training until validation scores don't improve for 1000 rounds\n",
      "Early stopping, best iteration is:\n",
      "[197]\ttraining's binary_logloss: 0.421015\tvalid_1's binary_logloss: 0.433131\n",
      "Training until validation scores don't improve for 1000 rounds\n",
      "Early stopping, best iteration is:\n",
      "[1210]\ttraining's binary_logloss: 0.397446\tvalid_1's binary_logloss: 0.414623\n",
      "Training until validation scores don't improve for 1000 rounds\n",
      "Early stopping, best iteration is:\n",
      "[2887]\ttraining's binary_logloss: 0.361405\tvalid_1's binary_logloss: 0.45482\n",
      "Training until validation scores don't improve for 1000 rounds\n",
      "Early stopping, best iteration is:\n",
      "[390]\ttraining's binary_logloss: 0.4068\tvalid_1's binary_logloss: 0.438853\n",
      "Training until validation scores don't improve for 1000 rounds\n"
     ]
    },
    {
     "name": "stderr",
     "output_type": "stream",
     "text": [
      "\u001b[32m[I 2021-10-02 20:07:01,982]\u001b[0m Trial 16 finished with value: 0.8013468013468014 and parameters: {'lambda_l1': 1.472942857657385, 'lambda_l2': 0.02534838334057833, 'num_leaves': 2, 'feature_fraction': 0.7289348760305594, 'bagging_fraction': 0.6936013333713027, 'bagging_freq': 9, 'min_child_samples': 38, 'max_depth': 2}. Best is trial 5 with value: 0.8249158249158249.\u001b[0m\n"
     ]
    },
    {
     "name": "stdout",
     "output_type": "stream",
     "text": [
      "Early stopping, best iteration is:\n",
      "[99]\ttraining's binary_logloss: 0.434671\tvalid_1's binary_logloss: 0.422306\n",
      "Training until validation scores don't improve for 1000 rounds\n",
      "Early stopping, best iteration is:\n",
      "[253]\ttraining's binary_logloss: 0.367713\tvalid_1's binary_logloss: 0.412037\n",
      "Training until validation scores don't improve for 1000 rounds\n",
      "Early stopping, best iteration is:\n",
      "[538]\ttraining's binary_logloss: 0.344095\tvalid_1's binary_logloss: 0.399325\n",
      "Training until validation scores don't improve for 1000 rounds\n",
      "Early stopping, best iteration is:\n",
      "[380]\ttraining's binary_logloss: 0.345047\tvalid_1's binary_logloss: 0.442196\n",
      "Training until validation scores don't improve for 1000 rounds\n",
      "Early stopping, best iteration is:\n",
      "[204]\ttraining's binary_logloss: 0.371017\tvalid_1's binary_logloss: 0.417297\n",
      "Training until validation scores don't improve for 1000 rounds\n"
     ]
    },
    {
     "name": "stderr",
     "output_type": "stream",
     "text": [
      "\u001b[32m[I 2021-10-02 20:07:03,676]\u001b[0m Trial 17 finished with value: 0.8159371492704826 and parameters: {'lambda_l1': 0.032160167775220655, 'lambda_l2': 0.0005876776076462019, 'num_leaves': 27, 'feature_fraction': 0.40414616255900027, 'bagging_fraction': 0.5888811030706198, 'bagging_freq': 7, 'min_child_samples': 62, 'max_depth': 6}. Best is trial 5 with value: 0.8249158249158249.\u001b[0m\n"
     ]
    },
    {
     "name": "stdout",
     "output_type": "stream",
     "text": [
      "Early stopping, best iteration is:\n",
      "[84]\ttraining's binary_logloss: 0.404893\tvalid_1's binary_logloss: 0.424643\n",
      "Training until validation scores don't improve for 1000 rounds\n",
      "Early stopping, best iteration is:\n",
      "[169]\ttraining's binary_logloss: 0.346088\tvalid_1's binary_logloss: 0.418557\n",
      "Training until validation scores don't improve for 1000 rounds\n",
      "Early stopping, best iteration is:\n",
      "[78]\ttraining's binary_logloss: 0.375381\tvalid_1's binary_logloss: 0.404835\n",
      "Training until validation scores don't improve for 1000 rounds\n",
      "Early stopping, best iteration is:\n",
      "[33]\ttraining's binary_logloss: 0.393496\tvalid_1's binary_logloss: 0.462508\n",
      "Training until validation scores don't improve for 1000 rounds\n",
      "Early stopping, best iteration is:\n",
      "[131]\ttraining's binary_logloss: 0.350151\tvalid_1's binary_logloss: 0.412014\n",
      "Training until validation scores don't improve for 1000 rounds\n"
     ]
    },
    {
     "name": "stderr",
     "output_type": "stream",
     "text": [
      "\u001b[32m[I 2021-10-02 20:07:05,387]\u001b[0m Trial 18 finished with value: 0.8035914702581369 and parameters: {'lambda_l1': 2.7591636609590507e-05, 'lambda_l2': 3.5736021632716456e-05, 'num_leaves': 42, 'feature_fraction': 0.5882361898294418, 'bagging_fraction': 0.8888767110606888, 'bagging_freq': 8, 'min_child_samples': 53, 'max_depth': 4}. Best is trial 5 with value: 0.8249158249158249.\u001b[0m\n"
     ]
    },
    {
     "name": "stdout",
     "output_type": "stream",
     "text": [
      "Early stopping, best iteration is:\n",
      "[46]\ttraining's binary_logloss: 0.38732\tvalid_1's binary_logloss: 0.41775\n",
      "Training until validation scores don't improve for 1000 rounds\n",
      "Early stopping, best iteration is:\n",
      "[1647]\ttraining's binary_logloss: 0.337925\tvalid_1's binary_logloss: 0.417022\n",
      "Training until validation scores don't improve for 1000 rounds\n",
      "Early stopping, best iteration is:\n",
      "[775]\ttraining's binary_logloss: 0.371654\tvalid_1's binary_logloss: 0.39962\n",
      "Training until validation scores don't improve for 1000 rounds\n",
      "Early stopping, best iteration is:\n",
      "[570]\ttraining's binary_logloss: 0.371145\tvalid_1's binary_logloss: 0.455304\n",
      "Training until validation scores don't improve for 1000 rounds\n",
      "Early stopping, best iteration is:\n",
      "[545]\ttraining's binary_logloss: 0.376626\tvalid_1's binary_logloss: 0.42451\n",
      "Training until validation scores don't improve for 1000 rounds\n"
     ]
    },
    {
     "name": "stderr",
     "output_type": "stream",
     "text": [
      "\u001b[32m[I 2021-10-02 20:07:07,479]\u001b[0m Trial 19 finished with value: 0.813692480359147 and parameters: {'lambda_l1': 0.0006877677647999567, 'lambda_l2': 8.497627292267405, 'num_leaves': 37, 'feature_fraction': 0.4862840514048295, 'bagging_fraction': 0.6351804303685772, 'bagging_freq': 4, 'min_child_samples': 82, 'max_depth': 3}. Best is trial 5 with value: 0.8249158249158249.\u001b[0m\n"
     ]
    },
    {
     "name": "stdout",
     "output_type": "stream",
     "text": [
      "Early stopping, best iteration is:\n",
      "[93]\ttraining's binary_logloss: 0.422069\tvalid_1's binary_logloss: 0.424037\n",
      "Training until validation scores don't improve for 1000 rounds\n",
      "Early stopping, best iteration is:\n",
      "[72]\ttraining's binary_logloss: 0.353485\tvalid_1's binary_logloss: 0.411301\n",
      "Training until validation scores don't improve for 1000 rounds\n",
      "Early stopping, best iteration is:\n",
      "[68]\ttraining's binary_logloss: 0.357666\tvalid_1's binary_logloss: 0.406512\n",
      "Training until validation scores don't improve for 1000 rounds\n",
      "Early stopping, best iteration is:\n",
      "[24]\ttraining's binary_logloss: 0.39658\tvalid_1's binary_logloss: 0.459563\n",
      "Training until validation scores don't improve for 1000 rounds\n",
      "Early stopping, best iteration is:\n",
      "[37]\ttraining's binary_logloss: 0.379518\tvalid_1's binary_logloss: 0.411983\n",
      "Training until validation scores don't improve for 1000 rounds\n"
     ]
    },
    {
     "name": "stderr",
     "output_type": "stream",
     "text": [
      "\u001b[32m[I 2021-10-02 20:07:09,418]\u001b[0m Trial 20 finished with value: 0.8114478114478114 and parameters: {'lambda_l1': 0.7959941384308493, 'lambda_l2': 0.013569330079685199, 'num_leaves': 55, 'feature_fraction': 0.8244062464415807, 'bagging_fraction': 0.8213885571810318, 'bagging_freq': 6, 'min_child_samples': 33, 'max_depth': 6}. Best is trial 5 with value: 0.8249158249158249.\u001b[0m\n"
     ]
    },
    {
     "name": "stdout",
     "output_type": "stream",
     "text": [
      "Early stopping, best iteration is:\n",
      "[32]\ttraining's binary_logloss: 0.387915\tvalid_1's binary_logloss: 0.426612\n",
      "Training until validation scores don't improve for 1000 rounds\n",
      "Early stopping, best iteration is:\n",
      "[300]\ttraining's binary_logloss: 0.334795\tvalid_1's binary_logloss: 0.418507\n",
      "Training until validation scores don't improve for 1000 rounds\n",
      "Early stopping, best iteration is:\n",
      "[154]\ttraining's binary_logloss: 0.368037\tvalid_1's binary_logloss: 0.390927\n",
      "Training until validation scores don't improve for 1000 rounds\n",
      "Early stopping, best iteration is:\n",
      "[172]\ttraining's binary_logloss: 0.348134\tvalid_1's binary_logloss: 0.451818\n",
      "Training until validation scores don't improve for 1000 rounds\n",
      "Early stopping, best iteration is:\n",
      "[160]\ttraining's binary_logloss: 0.361438\tvalid_1's binary_logloss: 0.421031\n",
      "Training until validation scores don't improve for 1000 rounds\n"
     ]
    },
    {
     "name": "stderr",
     "output_type": "stream",
     "text": [
      "\u001b[32m[I 2021-10-02 20:07:11,491]\u001b[0m Trial 21 finished with value: 0.8170594837261503 and parameters: {'lambda_l1': 0.00016746119443718, 'lambda_l2': 0.242645765438608, 'num_leaves': 21, 'feature_fraction': 0.7129872969380782, 'bagging_fraction': 0.5331178115500114, 'bagging_freq': 2, 'min_child_samples': 49, 'max_depth': 4}. Best is trial 5 with value: 0.8249158249158249.\u001b[0m\n"
     ]
    },
    {
     "name": "stdout",
     "output_type": "stream",
     "text": [
      "Early stopping, best iteration is:\n",
      "[32]\ttraining's binary_logloss: 0.417494\tvalid_1's binary_logloss: 0.42451\n",
      "Training until validation scores don't improve for 1000 rounds\n",
      "Early stopping, best iteration is:\n",
      "[406]\ttraining's binary_logloss: 0.352523\tvalid_1's binary_logloss: 0.411036\n",
      "Training until validation scores don't improve for 1000 rounds\n",
      "Early stopping, best iteration is:\n",
      "[525]\ttraining's binary_logloss: 0.343544\tvalid_1's binary_logloss: 0.402958\n",
      "Training until validation scores don't improve for 1000 rounds\n",
      "Early stopping, best iteration is:\n",
      "[245]\ttraining's binary_logloss: 0.358559\tvalid_1's binary_logloss: 0.451973\n",
      "Training until validation scores don't improve for 1000 rounds\n",
      "Early stopping, best iteration is:\n",
      "[497]\ttraining's binary_logloss: 0.33834\tvalid_1's binary_logloss: 0.426262\n",
      "Training until validation scores don't improve for 1000 rounds\n"
     ]
    },
    {
     "name": "stderr",
     "output_type": "stream",
     "text": [
      "\u001b[32m[I 2021-10-02 20:07:13,370]\u001b[0m Trial 22 finished with value: 0.8159371492704826 and parameters: {'lambda_l1': 6.351839084917967e-05, 'lambda_l2': 0.00047126937286371453, 'num_leaves': 36, 'feature_fraction': 0.7659882743290284, 'bagging_fraction': 0.7635940457427337, 'bagging_freq': 7, 'min_child_samples': 88, 'max_depth': 3}. Best is trial 5 with value: 0.8249158249158249.\u001b[0m\n"
     ]
    },
    {
     "name": "stdout",
     "output_type": "stream",
     "text": [
      "Early stopping, best iteration is:\n",
      "[36]\ttraining's binary_logloss: 0.427765\tvalid_1's binary_logloss: 0.429916\n",
      "Training until validation scores don't improve for 1000 rounds\n",
      "Early stopping, best iteration is:\n",
      "[621]\ttraining's binary_logloss: 0.349034\tvalid_1's binary_logloss: 0.416512\n",
      "Training until validation scores don't improve for 1000 rounds\n",
      "Early stopping, best iteration is:\n",
      "[97]\ttraining's binary_logloss: 0.41142\tvalid_1's binary_logloss: 0.409163\n",
      "Training until validation scores don't improve for 1000 rounds\n",
      "Early stopping, best iteration is:\n",
      "[689]\ttraining's binary_logloss: 0.334347\tvalid_1's binary_logloss: 0.448492\n",
      "Training until validation scores don't improve for 1000 rounds\n",
      "Early stopping, best iteration is:\n",
      "[104]\ttraining's binary_logloss: 0.40828\tvalid_1's binary_logloss: 0.420578\n",
      "Training until validation scores don't improve for 1000 rounds\n"
     ]
    },
    {
     "name": "stderr",
     "output_type": "stream",
     "text": [
      "\u001b[32m[I 2021-10-02 20:07:15,331]\u001b[0m Trial 23 finished with value: 0.8170594837261503 and parameters: {'lambda_l1': 0.0011490294308718397, 'lambda_l2': 5.51788439360499, 'num_leaves': 24, 'feature_fraction': 0.6903130291476831, 'bagging_fraction': 0.4815755935577627, 'bagging_freq': 8, 'min_child_samples': 57, 'max_depth': 4}. Best is trial 5 with value: 0.8249158249158249.\u001b[0m\n"
     ]
    },
    {
     "name": "stdout",
     "output_type": "stream",
     "text": [
      "Early stopping, best iteration is:\n",
      "[95]\ttraining's binary_logloss: 0.412374\tvalid_1's binary_logloss: 0.425924\n",
      "Training until validation scores don't improve for 1000 rounds\n",
      "Early stopping, best iteration is:\n",
      "[469]\ttraining's binary_logloss: 0.336553\tvalid_1's binary_logloss: 0.420237\n",
      "Training until validation scores don't improve for 1000 rounds\n",
      "Early stopping, best iteration is:\n",
      "[362]\ttraining's binary_logloss: 0.351669\tvalid_1's binary_logloss: 0.39444\n",
      "Training until validation scores don't improve for 1000 rounds\n",
      "Early stopping, best iteration is:\n",
      "[441]\ttraining's binary_logloss: 0.330902\tvalid_1's binary_logloss: 0.453078\n",
      "Training until validation scores don't improve for 1000 rounds\n",
      "Early stopping, best iteration is:\n",
      "[247]\ttraining's binary_logloss: 0.359167\tvalid_1's binary_logloss: 0.420956\n",
      "Training until validation scores don't improve for 1000 rounds\n"
     ]
    },
    {
     "name": "stderr",
     "output_type": "stream",
     "text": [
      "\u001b[32m[I 2021-10-02 20:07:17,049]\u001b[0m Trial 24 finished with value: 0.8237934904601572 and parameters: {'lambda_l1': 5.7148912456361556e-05, 'lambda_l2': 4.440692941300799e-05, 'num_leaves': 31, 'feature_fraction': 0.7658381305648688, 'bagging_fraction': 0.8026073732811317, 'bagging_freq': 7, 'min_child_samples': 83, 'max_depth': 3}. Best is trial 5 with value: 0.8249158249158249.\u001b[0m\n"
     ]
    },
    {
     "name": "stdout",
     "output_type": "stream",
     "text": [
      "Early stopping, best iteration is:\n",
      "[38]\ttraining's binary_logloss: 0.418592\tvalid_1's binary_logloss: 0.423934\n",
      "Training until validation scores don't improve for 1000 rounds\n",
      "Early stopping, best iteration is:\n",
      "[165]\ttraining's binary_logloss: 0.420368\tvalid_1's binary_logloss: 0.424617\n",
      "Training until validation scores don't improve for 1000 rounds\n",
      "Early stopping, best iteration is:\n",
      "[390]\ttraining's binary_logloss: 0.398142\tvalid_1's binary_logloss: 0.412651\n",
      "Training until validation scores don't improve for 1000 rounds\n",
      "Early stopping, best iteration is:\n",
      "[575]\ttraining's binary_logloss: 0.374256\tvalid_1's binary_logloss: 0.457364\n",
      "Training until validation scores don't improve for 1000 rounds\n",
      "Early stopping, best iteration is:\n",
      "[1056]\ttraining's binary_logloss: 0.367774\tvalid_1's binary_logloss: 0.429516\n",
      "Training until validation scores don't improve for 1000 rounds\n"
     ]
    },
    {
     "name": "stderr",
     "output_type": "stream",
     "text": [
      "\u001b[32m[I 2021-10-02 20:07:18,938]\u001b[0m Trial 25 finished with value: 0.8069584736251403 and parameters: {'lambda_l1': 1.5133414818313516e-05, 'lambda_l2': 3.255957614298729e-05, 'num_leaves': 12, 'feature_fraction': 0.7630456948716922, 'bagging_fraction': 0.4032213398947696, 'bagging_freq': 5, 'min_child_samples': 77, 'max_depth': 2}. Best is trial 5 with value: 0.8249158249158249.\u001b[0m\n"
     ]
    },
    {
     "name": "stdout",
     "output_type": "stream",
     "text": [
      "Early stopping, best iteration is:\n",
      "[115]\ttraining's binary_logloss: 0.425934\tvalid_1's binary_logloss: 0.415412\n",
      "Training until validation scores don't improve for 1000 rounds\n",
      "Early stopping, best iteration is:\n",
      "[42]\ttraining's binary_logloss: 0.413509\tvalid_1's binary_logloss: 0.424434\n",
      "Training until validation scores don't improve for 1000 rounds\n",
      "Early stopping, best iteration is:\n",
      "[461]\ttraining's binary_logloss: 0.343084\tvalid_1's binary_logloss: 0.400796\n",
      "Training until validation scores don't improve for 1000 rounds\n",
      "Early stopping, best iteration is:\n",
      "[342]\ttraining's binary_logloss: 0.341653\tvalid_1's binary_logloss: 0.451335\n",
      "Training until validation scores don't improve for 1000 rounds\n",
      "Early stopping, best iteration is:\n",
      "[378]\ttraining's binary_logloss: 0.344266\tvalid_1's binary_logloss: 0.427927\n",
      "Training until validation scores don't improve for 1000 rounds\n"
     ]
    },
    {
     "name": "stderr",
     "output_type": "stream",
     "text": [
      "\u001b[32m[I 2021-10-02 20:07:21,233]\u001b[0m Trial 26 finished with value: 0.8159371492704826 and parameters: {'lambda_l1': 4.699307286964497e-05, 'lambda_l2': 1.5839268599652006e-05, 'num_leaves': 41, 'feature_fraction': 0.8430293451656626, 'bagging_fraction': 0.8555107820951179, 'bagging_freq': 6, 'min_child_samples': 93, 'max_depth': 3}. Best is trial 5 with value: 0.8249158249158249.\u001b[0m\n"
     ]
    },
    {
     "name": "stdout",
     "output_type": "stream",
     "text": [
      "Early stopping, best iteration is:\n",
      "[34]\ttraining's binary_logloss: 0.42088\tvalid_1's binary_logloss: 0.426734\n",
      "Training until validation scores don't improve for 1000 rounds\n",
      "Early stopping, best iteration is:\n",
      "[48]\ttraining's binary_logloss: 0.414147\tvalid_1's binary_logloss: 0.423736\n",
      "Training until validation scores don't improve for 1000 rounds\n",
      "Early stopping, best iteration is:\n",
      "[183]\ttraining's binary_logloss: 0.386215\tvalid_1's binary_logloss: 0.397328\n",
      "Training until validation scores don't improve for 1000 rounds\n",
      "Early stopping, best iteration is:\n",
      "[215]\ttraining's binary_logloss: 0.370317\tvalid_1's binary_logloss: 0.443459\n",
      "Training until validation scores don't improve for 1000 rounds\n",
      "Early stopping, best iteration is:\n",
      "[250]\ttraining's binary_logloss: 0.376475\tvalid_1's binary_logloss: 0.421034\n",
      "Training until validation scores don't improve for 1000 rounds\n"
     ]
    },
    {
     "name": "stderr",
     "output_type": "stream",
     "text": [
      "\u001b[32m[I 2021-10-02 20:07:23,880]\u001b[0m Trial 27 finished with value: 0.8080808080808081 and parameters: {'lambda_l1': 0.014532829317548426, 'lambda_l2': 0.00010123286133813184, 'num_leaves': 30, 'feature_fraction': 0.8735318060376324, 'bagging_fraction': 0.6972641048990507, 'bagging_freq': 8, 'min_child_samples': 67, 'max_depth': 2}. Best is trial 5 with value: 0.8249158249158249.\u001b[0m\n"
     ]
    },
    {
     "name": "stdout",
     "output_type": "stream",
     "text": [
      "Early stopping, best iteration is:\n",
      "[53]\ttraining's binary_logloss: 0.415724\tvalid_1's binary_logloss: 0.421926\n",
      "Training until validation scores don't improve for 1000 rounds\n",
      "Early stopping, best iteration is:\n",
      "[217]\ttraining's binary_logloss: 0.436321\tvalid_1's binary_logloss: 0.434133\n",
      "Training until validation scores don't improve for 1000 rounds\n",
      "Early stopping, best iteration is:\n",
      "[2640]\ttraining's binary_logloss: 0.422141\tvalid_1's binary_logloss: 0.422644\n",
      "Training until validation scores don't improve for 1000 rounds\n",
      "Early stopping, best iteration is:\n",
      "[3076]\ttraining's binary_logloss: 0.408879\tvalid_1's binary_logloss: 0.465957\n",
      "Training until validation scores don't improve for 1000 rounds\n",
      "Early stopping, best iteration is:\n",
      "[1189]\ttraining's binary_logloss: 0.422588\tvalid_1's binary_logloss: 0.445352\n",
      "Training until validation scores don't improve for 1000 rounds\n"
     ]
    },
    {
     "name": "stderr",
     "output_type": "stream",
     "text": [
      "\u001b[32m[I 2021-10-02 20:07:26,318]\u001b[0m Trial 28 finished with value: 0.8013468013468014 and parameters: {'lambda_l1': 7.113721196077097, 'lambda_l2': 0.0008755616531856684, 'num_leaves': 2, 'feature_fraction': 0.7892349450459863, 'bagging_fraction': 0.797729720673325, 'bagging_freq': 4, 'min_child_samples': 78, 'max_depth': 5}. Best is trial 5 with value: 0.8249158249158249.\u001b[0m\n"
     ]
    },
    {
     "name": "stdout",
     "output_type": "stream",
     "text": [
      "Early stopping, best iteration is:\n",
      "[267]\ttraining's binary_logloss: 0.438355\tvalid_1's binary_logloss: 0.421814\n",
      "Training until validation scores don't improve for 1000 rounds\n",
      "Early stopping, best iteration is:\n",
      "[149]\ttraining's binary_logloss: 0.372691\tvalid_1's binary_logloss: 0.418315\n",
      "Training until validation scores don't improve for 1000 rounds\n",
      "Early stopping, best iteration is:\n",
      "[157]\ttraining's binary_logloss: 0.3749\tvalid_1's binary_logloss: 0.395258\n",
      "Training until validation scores don't improve for 1000 rounds\n",
      "Early stopping, best iteration is:\n",
      "[211]\ttraining's binary_logloss: 0.350403\tvalid_1's binary_logloss: 0.449829\n",
      "Training until validation scores don't improve for 1000 rounds\n",
      "Early stopping, best iteration is:\n",
      "[91]\ttraining's binary_logloss: 0.386429\tvalid_1's binary_logloss: 0.416588\n",
      "Training until validation scores don't improve for 1000 rounds\n"
     ]
    },
    {
     "name": "stderr",
     "output_type": "stream",
     "text": [
      "\u001b[32m[I 2021-10-02 20:07:28,445]\u001b[0m Trial 29 finished with value: 0.8215488215488216 and parameters: {'lambda_l1': 0.3120366724844097, 'lambda_l2': 3.057327861838708e-05, 'num_leaves': 52, 'feature_fraction': 0.8527829592260256, 'bagging_fraction': 0.7347099508948298, 'bagging_freq': 7, 'min_child_samples': 65, 'max_depth': 3}. Best is trial 5 with value: 0.8249158249158249.\u001b[0m\n"
     ]
    },
    {
     "name": "stdout",
     "output_type": "stream",
     "text": [
      "Early stopping, best iteration is:\n",
      "[38]\ttraining's binary_logloss: 0.413821\tvalid_1's binary_logloss: 0.425105\n",
      "Training until validation scores don't improve for 1000 rounds\n",
      "Early stopping, best iteration is:\n",
      "[1000]\ttraining's binary_logloss: 0.314794\tvalid_1's binary_logloss: 0.418238\n",
      "Training until validation scores don't improve for 1000 rounds\n",
      "Early stopping, best iteration is:\n",
      "[385]\ttraining's binary_logloss: 0.363053\tvalid_1's binary_logloss: 0.392611\n",
      "Training until validation scores don't improve for 1000 rounds\n",
      "Early stopping, best iteration is:\n",
      "[575]\ttraining's binary_logloss: 0.32795\tvalid_1's binary_logloss: 0.448027\n",
      "Training until validation scores don't improve for 1000 rounds\n",
      "Early stopping, best iteration is:\n",
      "[650]\ttraining's binary_logloss: 0.331269\tvalid_1's binary_logloss: 0.420154\n",
      "Training until validation scores don't improve for 1000 rounds\n"
     ]
    },
    {
     "name": "stderr",
     "output_type": "stream",
     "text": [
      "\u001b[32m[I 2021-10-02 20:07:31,342]\u001b[0m Trial 30 finished with value: 0.8181818181818182 and parameters: {'lambda_l1': 0.0009279383366349533, 'lambda_l2': 0.0070698489189733255, 'num_leaves': 28, 'feature_fraction': 0.6121395941967127, 'bagging_fraction': 0.6047870704367573, 'bagging_freq': 5, 'min_child_samples': 73, 'max_depth': 4}. Best is trial 5 with value: 0.8249158249158249.\u001b[0m\n"
     ]
    },
    {
     "name": "stdout",
     "output_type": "stream",
     "text": [
      "Early stopping, best iteration is:\n",
      "[60]\ttraining's binary_logloss: 0.414639\tvalid_1's binary_logloss: 0.422995\n",
      "Training until validation scores don't improve for 1000 rounds\n",
      "Early stopping, best iteration is:\n",
      "[148]\ttraining's binary_logloss: 0.371966\tvalid_1's binary_logloss: 0.417957\n",
      "Training until validation scores don't improve for 1000 rounds\n",
      "Early stopping, best iteration is:\n",
      "[155]\ttraining's binary_logloss: 0.376663\tvalid_1's binary_logloss: 0.394829\n",
      "Training until validation scores don't improve for 1000 rounds\n",
      "Early stopping, best iteration is:\n",
      "[272]\ttraining's binary_logloss: 0.341746\tvalid_1's binary_logloss: 0.449799\n",
      "Training until validation scores don't improve for 1000 rounds\n",
      "Early stopping, best iteration is:\n",
      "[90]\ttraining's binary_logloss: 0.385691\tvalid_1's binary_logloss: 0.417073\n",
      "Training until validation scores don't improve for 1000 rounds\n"
     ]
    },
    {
     "name": "stderr",
     "output_type": "stream",
     "text": [
      "\u001b[32m[I 2021-10-02 20:07:34,248]\u001b[0m Trial 31 finished with value: 0.8249158249158249 and parameters: {'lambda_l1': 0.23300699682297749, 'lambda_l2': 3.7111923443706896e-05, 'num_leaves': 51, 'feature_fraction': 0.8549988599788725, 'bagging_fraction': 0.7359631892435693, 'bagging_freq': 7, 'min_child_samples': 65, 'max_depth': 3}. Best is trial 5 with value: 0.8249158249158249.\u001b[0m\n"
     ]
    },
    {
     "name": "stdout",
     "output_type": "stream",
     "text": [
      "Early stopping, best iteration is:\n",
      "[38]\ttraining's binary_logloss: 0.412844\tvalid_1's binary_logloss: 0.425828\n",
      "Training until validation scores don't improve for 1000 rounds\n",
      "Early stopping, best iteration is:\n",
      "[41]\ttraining's binary_logloss: 0.407006\tvalid_1's binary_logloss: 0.41691\n",
      "Training until validation scores don't improve for 1000 rounds\n",
      "Early stopping, best iteration is:\n",
      "[439]\ttraining's binary_logloss: 0.322916\tvalid_1's binary_logloss: 0.394995\n",
      "Training until validation scores don't improve for 1000 rounds\n",
      "Early stopping, best iteration is:\n",
      "[420]\ttraining's binary_logloss: 0.311149\tvalid_1's binary_logloss: 0.455469\n",
      "Training until validation scores don't improve for 1000 rounds\n",
      "Early stopping, best iteration is:\n",
      "[78]\ttraining's binary_logloss: 0.387661\tvalid_1's binary_logloss: 0.420314\n",
      "Training until validation scores don't improve for 1000 rounds\n"
     ]
    },
    {
     "name": "stderr",
     "output_type": "stream",
     "text": [
      "\u001b[32m[I 2021-10-02 20:07:36,477]\u001b[0m Trial 32 finished with value: 0.8181818181818182 and parameters: {'lambda_l1': 0.09389237998808884, 'lambda_l2': 7.422093462927043e-05, 'num_leaves': 48, 'feature_fraction': 0.7392475402430174, 'bagging_fraction': 0.7691065743296377, 'bagging_freq': 6, 'min_child_samples': 61, 'max_depth': 3}. Best is trial 5 with value: 0.8249158249158249.\u001b[0m\n"
     ]
    },
    {
     "name": "stdout",
     "output_type": "stream",
     "text": [
      "Early stopping, best iteration is:\n",
      "[37]\ttraining's binary_logloss: 0.409277\tvalid_1's binary_logloss: 0.42291\n",
      "Training until validation scores don't improve for 1000 rounds\n",
      "Early stopping, best iteration is:\n",
      "[812]\ttraining's binary_logloss: 0.310831\tvalid_1's binary_logloss: 0.42217\n",
      "Training until validation scores don't improve for 1000 rounds\n",
      "Early stopping, best iteration is:\n",
      "[266]\ttraining's binary_logloss: 0.360508\tvalid_1's binary_logloss: 0.397845\n",
      "Training until validation scores don't improve for 1000 rounds\n",
      "Early stopping, best iteration is:\n",
      "[400]\ttraining's binary_logloss: 0.332578\tvalid_1's binary_logloss: 0.45203\n",
      "Training until validation scores don't improve for 1000 rounds\n",
      "Early stopping, best iteration is:\n",
      "[694]\ttraining's binary_logloss: 0.314603\tvalid_1's binary_logloss: 0.42332\n",
      "Training until validation scores don't improve for 1000 rounds\n"
     ]
    },
    {
     "name": "stderr",
     "output_type": "stream",
     "text": [
      "\u001b[32m[I 2021-10-02 20:07:38,485]\u001b[0m Trial 33 finished with value: 0.8159371492704826 and parameters: {'lambda_l1': 0.5592900381646889, 'lambda_l2': 1.057307313131306e-05, 'num_leaves': 57, 'feature_fraction': 0.681144190856175, 'bagging_fraction': 0.8490406160671695, 'bagging_freq': 7, 'min_child_samples': 71, 'max_depth': 3}. Best is trial 5 with value: 0.8249158249158249.\u001b[0m\n"
     ]
    },
    {
     "name": "stdout",
     "output_type": "stream",
     "text": [
      "Early stopping, best iteration is:\n",
      "[35]\ttraining's binary_logloss: 0.414455\tvalid_1's binary_logloss: 0.422492\n",
      "Training until validation scores don't improve for 1000 rounds\n",
      "Early stopping, best iteration is:\n",
      "[50]\ttraining's binary_logloss: 0.414796\tvalid_1's binary_logloss: 0.41996\n",
      "Training until validation scores don't improve for 1000 rounds\n",
      "Early stopping, best iteration is:\n",
      "[608]\ttraining's binary_logloss: 0.355321\tvalid_1's binary_logloss: 0.395627\n",
      "Training until validation scores don't improve for 1000 rounds\n",
      "Early stopping, best iteration is:\n",
      "[920]\ttraining's binary_logloss: 0.325746\tvalid_1's binary_logloss: 0.442308\n",
      "Training until validation scores don't improve for 1000 rounds\n",
      "Early stopping, best iteration is:\n",
      "[104]\ttraining's binary_logloss: 0.400322\tvalid_1's binary_logloss: 0.429054\n",
      "Training until validation scores don't improve for 1000 rounds\n"
     ]
    },
    {
     "name": "stderr",
     "output_type": "stream",
     "text": [
      "\u001b[32m[I 2021-10-02 20:07:40,091]\u001b[0m Trial 34 finished with value: 0.8170594837261503 and parameters: {'lambda_l1': 1.9698953537531738, 'lambda_l2': 0.00025024266362583795, 'num_leaves': 49, 'feature_fraction': 0.8602608309727277, 'bagging_fraction': 0.6900656396349593, 'bagging_freq': 8, 'min_child_samples': 68, 'max_depth': 3}. Best is trial 5 with value: 0.8249158249158249.\u001b[0m\n"
     ]
    },
    {
     "name": "stdout",
     "output_type": "stream",
     "text": [
      "Early stopping, best iteration is:\n",
      "[51]\ttraining's binary_logloss: 0.416648\tvalid_1's binary_logloss: 0.420966\n",
      "Training until validation scores don't improve for 1000 rounds\n",
      "Early stopping, best iteration is:\n",
      "[93]\ttraining's binary_logloss: 0.392843\tvalid_1's binary_logloss: 0.417415\n",
      "Training until validation scores don't improve for 1000 rounds\n",
      "Early stopping, best iteration is:\n",
      "[453]\ttraining's binary_logloss: 0.348195\tvalid_1's binary_logloss: 0.397898\n",
      "Training until validation scores don't improve for 1000 rounds\n",
      "Early stopping, best iteration is:\n",
      "[562]\ttraining's binary_logloss: 0.331603\tvalid_1's binary_logloss: 0.444509\n",
      "Training until validation scores don't improve for 1000 rounds\n",
      "Early stopping, best iteration is:\n",
      "[321]\ttraining's binary_logloss: 0.363106\tvalid_1's binary_logloss: 0.41777\n",
      "Training until validation scores don't improve for 1000 rounds\n"
     ]
    },
    {
     "name": "stderr",
     "output_type": "stream",
     "text": [
      "\u001b[32m[I 2021-10-02 20:07:41,570]\u001b[0m Trial 35 finished with value: 0.8092031425364759 and parameters: {'lambda_l1': 0.22704327524921405, 'lambda_l2': 2.2243921941698047e-05, 'num_leaves': 39, 'feature_fraction': 0.7950315620598551, 'bagging_fraction': 0.7908760449880475, 'bagging_freq': 6, 'min_child_samples': 64, 'max_depth': 2}. Best is trial 5 with value: 0.8249158249158249.\u001b[0m\n"
     ]
    },
    {
     "name": "stdout",
     "output_type": "stream",
     "text": [
      "Early stopping, best iteration is:\n",
      "[37]\ttraining's binary_logloss: 0.418904\tvalid_1's binary_logloss: 0.419405\n",
      "Training until validation scores don't improve for 1000 rounds\n",
      "Early stopping, best iteration is:\n",
      "[105]\ttraining's binary_logloss: 0.400263\tvalid_1's binary_logloss: 0.421456\n",
      "Training until validation scores don't improve for 1000 rounds\n",
      "Early stopping, best iteration is:\n",
      "[171]\ttraining's binary_logloss: 0.399133\tvalid_1's binary_logloss: 0.410573\n",
      "Training until validation scores don't improve for 1000 rounds\n",
      "Early stopping, best iteration is:\n",
      "[92]\ttraining's binary_logloss: 0.394792\tvalid_1's binary_logloss: 0.463881\n",
      "Training until validation scores don't improve for 1000 rounds\n"
     ]
    },
    {
     "name": "stderr",
     "output_type": "stream",
     "text": [
      "\u001b[32m[I 2021-10-02 20:07:42,643]\u001b[0m Trial 36 finished with value: 0.8069584736251403 and parameters: {'lambda_l1': 4.4027441390398, 'lambda_l2': 7.161341708079643e-05, 'num_leaves': 44, 'feature_fraction': 0.8338603656915154, 'bagging_fraction': 0.8972200335596717, 'bagging_freq': 9, 'min_child_samples': 59, 'max_depth': 4}. Best is trial 5 with value: 0.8249158249158249.\u001b[0m\n"
     ]
    },
    {
     "name": "stdout",
     "output_type": "stream",
     "text": [
      "Early stopping, best iteration is:\n",
      "[54]\ttraining's binary_logloss: 0.40493\tvalid_1's binary_logloss: 0.422058\n",
      "Training until validation scores don't improve for 1000 rounds\n",
      "Early stopping, best iteration is:\n",
      "[44]\ttraining's binary_logloss: 0.409274\tvalid_1's binary_logloss: 0.418499\n",
      "Training until validation scores don't improve for 1000 rounds\n",
      "Early stopping, best iteration is:\n",
      "[194]\ttraining's binary_logloss: 0.362468\tvalid_1's binary_logloss: 0.418437\n",
      "Training until validation scores don't improve for 1000 rounds\n",
      "Early stopping, best iteration is:\n",
      "[319]\ttraining's binary_logloss: 0.346327\tvalid_1's binary_logloss: 0.393674\n",
      "Training until validation scores don't improve for 1000 rounds\n",
      "Early stopping, best iteration is:\n",
      "[289]\ttraining's binary_logloss: 0.336151\tvalid_1's binary_logloss: 0.44905\n",
      "Training until validation scores don't improve for 1000 rounds\n",
      "Early stopping, best iteration is:\n",
      "[112]\ttraining's binary_logloss: 0.385535\tvalid_1's binary_logloss: 0.41974\n",
      "Training until validation scores don't improve for 1000 rounds\n"
     ]
    },
    {
     "name": "stderr",
     "output_type": "stream",
     "text": [
      "\u001b[32m[I 2021-10-02 20:07:44,873]\u001b[0m Trial 37 finished with value: 0.8181818181818182 and parameters: {'lambda_l1': 0.0027217361473225615, 'lambda_l2': 0.0017195909508147997, 'num_leaves': 7, 'feature_fraction': 0.625029920720095, 'bagging_fraction': 0.7348573381754889, 'bagging_freq': 7, 'min_child_samples': 71, 'max_depth': 5}. Best is trial 5 with value: 0.8249158249158249.\u001b[0m\n"
     ]
    },
    {
     "name": "stdout",
     "output_type": "stream",
     "text": [
      "Early stopping, best iteration is:\n",
      "[46]\ttraining's binary_logloss: 0.412286\tvalid_1's binary_logloss: 0.425071\n",
      "Training until validation scores don't improve for 1000 rounds\n",
      "Early stopping, best iteration is:\n",
      "[35]\ttraining's binary_logloss: 0.415774\tvalid_1's binary_logloss: 0.424105\n",
      "Training until validation scores don't improve for 1000 rounds\n",
      "Early stopping, best iteration is:\n",
      "[257]\ttraining's binary_logloss: 0.352294\tvalid_1's binary_logloss: 0.383964\n",
      "Training until validation scores don't improve for 1000 rounds\n",
      "Early stopping, best iteration is:\n",
      "[175]\ttraining's binary_logloss: 0.355022\tvalid_1's binary_logloss: 0.453967\n",
      "Training until validation scores don't improve for 1000 rounds\n",
      "Early stopping, best iteration is:\n",
      "[372]\ttraining's binary_logloss: 0.328978\tvalid_1's binary_logloss: 0.420621\n",
      "Training until validation scores don't improve for 1000 rounds\n"
     ]
    },
    {
     "name": "stderr",
     "output_type": "stream",
     "text": [
      "\u001b[32m[I 2021-10-02 20:07:46,777]\u001b[0m Trial 38 finished with value: 0.8170594837261503 and parameters: {'lambda_l1': 0.011600475113868582, 'lambda_l2': 4.713989160285185e-05, 'num_leaves': 32, 'feature_fraction': 0.6629072117058984, 'bagging_fraction': 0.8280850259350949, 'bagging_freq': 5, 'min_child_samples': 80, 'max_depth': 4}. Best is trial 5 with value: 0.8249158249158249.\u001b[0m\n"
     ]
    },
    {
     "name": "stdout",
     "output_type": "stream",
     "text": [
      "Early stopping, best iteration is:\n",
      "[32]\ttraining's binary_logloss: 0.416596\tvalid_1's binary_logloss: 0.421905\n",
      "Training until validation scores don't improve for 1000 rounds\n",
      "Early stopping, best iteration is:\n",
      "[904]\ttraining's binary_logloss: 0.345608\tvalid_1's binary_logloss: 0.416667\n",
      "Training until validation scores don't improve for 1000 rounds\n",
      "Early stopping, best iteration is:\n",
      "[599]\ttraining's binary_logloss: 0.363006\tvalid_1's binary_logloss: 0.396753\n",
      "Training until validation scores don't improve for 1000 rounds\n",
      "Early stopping, best iteration is:\n",
      "[637]\ttraining's binary_logloss: 0.351353\tvalid_1's binary_logloss: 0.445133\n",
      "Training until validation scores don't improve for 1000 rounds\n",
      "Early stopping, best iteration is:\n",
      "[593]\ttraining's binary_logloss: 0.362326\tvalid_1's binary_logloss: 0.410563\n",
      "Training until validation scores don't improve for 1000 rounds\n"
     ]
    },
    {
     "name": "stderr",
     "output_type": "stream",
     "text": [
      "\u001b[32m[I 2021-10-02 20:07:48,720]\u001b[0m Trial 39 finished with value: 0.8159371492704826 and parameters: {'lambda_l1': 0.00018098629924339984, 'lambda_l2': 0.0001332532240630377, 'num_leaves': 10, 'feature_fraction': 0.4452467316363963, 'bagging_fraction': 0.8666588305275628, 'bagging_freq': 8, 'min_child_samples': 86, 'max_depth': 2}. Best is trial 5 with value: 0.8249158249158249.\u001b[0m\n"
     ]
    },
    {
     "name": "stdout",
     "output_type": "stream",
     "text": [
      "Early stopping, best iteration is:\n",
      "[40]\ttraining's binary_logloss: 0.427299\tvalid_1's binary_logloss: 0.423919\n",
      "Training until validation scores don't improve for 1000 rounds\n",
      "Early stopping, best iteration is:\n",
      "[216]\ttraining's binary_logloss: 0.358307\tvalid_1's binary_logloss: 0.413125\n",
      "Training until validation scores don't improve for 1000 rounds\n",
      "Early stopping, best iteration is:\n",
      "[462]\ttraining's binary_logloss: 0.329815\tvalid_1's binary_logloss: 0.396893\n",
      "Training until validation scores don't improve for 1000 rounds\n",
      "Early stopping, best iteration is:\n",
      "[241]\ttraining's binary_logloss: 0.343758\tvalid_1's binary_logloss: 0.455578\n",
      "Training until validation scores don't improve for 1000 rounds\n",
      "Early stopping, best iteration is:\n",
      "[30]\ttraining's binary_logloss: 0.417259\tvalid_1's binary_logloss: 0.428989\n",
      "Training until validation scores don't improve for 1000 rounds\n"
     ]
    },
    {
     "name": "stderr",
     "output_type": "stream",
     "text": [
      "\u001b[32m[I 2021-10-02 20:07:50,738]\u001b[0m Trial 40 finished with value: 0.8159371492704826 and parameters: {'lambda_l1': 1.0262057926508457, 'lambda_l2': 1.2666378331618557e-05, 'num_leaves': 18, 'feature_fraction': 0.8977663786390948, 'bagging_fraction': 0.5672170146581684, 'bagging_freq': 6, 'min_child_samples': 51, 'max_depth': 5}. Best is trial 5 with value: 0.8249158249158249.\u001b[0m\n"
     ]
    },
    {
     "name": "stdout",
     "output_type": "stream",
     "text": [
      "Early stopping, best iteration is:\n",
      "[72]\ttraining's binary_logloss: 0.396796\tvalid_1's binary_logloss: 0.420533\n",
      "Training until validation scores don't improve for 1000 rounds\n",
      "Early stopping, best iteration is:\n",
      "[104]\ttraining's binary_logloss: 0.379437\tvalid_1's binary_logloss: 0.418019\n",
      "Training until validation scores don't improve for 1000 rounds\n",
      "Early stopping, best iteration is:\n",
      "[161]\ttraining's binary_logloss: 0.372652\tvalid_1's binary_logloss: 0.395869\n",
      "Training until validation scores don't improve for 1000 rounds\n",
      "Early stopping, best iteration is:\n",
      "[213]\ttraining's binary_logloss: 0.350052\tvalid_1's binary_logloss: 0.44896\n",
      "Training until validation scores don't improve for 1000 rounds\n",
      "Early stopping, best iteration is:\n",
      "[87]\ttraining's binary_logloss: 0.384895\tvalid_1's binary_logloss: 0.416243\n",
      "Training until validation scores don't improve for 1000 rounds\n"
     ]
    },
    {
     "name": "stderr",
     "output_type": "stream",
     "text": [
      "\u001b[32m[I 2021-10-02 20:07:52,218]\u001b[0m Trial 41 finished with value: 0.819304152637486 and parameters: {'lambda_l1': 0.1392874889156677, 'lambda_l2': 2.462512267135832e-05, 'num_leaves': 51, 'feature_fraction': 0.8480678924600755, 'bagging_fraction': 0.744284532303657, 'bagging_freq': 7, 'min_child_samples': 65, 'max_depth': 3}. Best is trial 5 with value: 0.8249158249158249.\u001b[0m\n"
     ]
    },
    {
     "name": "stdout",
     "output_type": "stream",
     "text": [
      "Early stopping, best iteration is:\n",
      "[39]\ttraining's binary_logloss: 0.410256\tvalid_1's binary_logloss: 0.425033\n",
      "Training until validation scores don't improve for 1000 rounds\n",
      "Early stopping, best iteration is:\n",
      "[201]\ttraining's binary_logloss: 0.37797\tvalid_1's binary_logloss: 0.418976\n",
      "Training until validation scores don't improve for 1000 rounds\n",
      "Early stopping, best iteration is:\n",
      "[536]\ttraining's binary_logloss: 0.347528\tvalid_1's binary_logloss: 0.391481\n",
      "Training until validation scores don't improve for 1000 rounds\n",
      "Early stopping, best iteration is:\n",
      "[274]\ttraining's binary_logloss: 0.357109\tvalid_1's binary_logloss: 0.450176\n",
      "Training until validation scores don't improve for 1000 rounds\n",
      "Early stopping, best iteration is:\n",
      "[91]\ttraining's binary_logloss: 0.401326\tvalid_1's binary_logloss: 0.424059\n",
      "Training until validation scores don't improve for 1000 rounds\n"
     ]
    },
    {
     "name": "stderr",
     "output_type": "stream",
     "text": [
      "\u001b[32m[I 2021-10-02 20:07:53,698]\u001b[0m Trial 42 finished with value: 0.8204264870931538 and parameters: {'lambda_l1': 0.39552304746674, 'lambda_l2': 0.00030948029308068515, 'num_leaves': 58, 'feature_fraction': 0.7764633254695763, 'bagging_fraction': 0.6551008440426935, 'bagging_freq': 7, 'min_child_samples': 75, 'max_depth': 3}. Best is trial 5 with value: 0.8249158249158249.\u001b[0m\n"
     ]
    },
    {
     "name": "stdout",
     "output_type": "stream",
     "text": [
      "Early stopping, best iteration is:\n",
      "[84]\ttraining's binary_logloss: 0.405574\tvalid_1's binary_logloss: 0.4285\n",
      "Training until validation scores don't improve for 1000 rounds\n",
      "Early stopping, best iteration is:\n",
      "[48]\ttraining's binary_logloss: 0.407017\tvalid_1's binary_logloss: 0.42052\n",
      "Training until validation scores don't improve for 1000 rounds\n",
      "Early stopping, best iteration is:\n",
      "[174]\ttraining's binary_logloss: 0.37465\tvalid_1's binary_logloss: 0.388822\n",
      "Training until validation scores don't improve for 1000 rounds\n",
      "Early stopping, best iteration is:\n",
      "[204]\ttraining's binary_logloss: 0.353551\tvalid_1's binary_logloss: 0.453072\n",
      "Training until validation scores don't improve for 1000 rounds\n",
      "Early stopping, best iteration is:\n",
      "[104]\ttraining's binary_logloss: 0.385154\tvalid_1's binary_logloss: 0.415271\n",
      "Training until validation scores don't improve for 1000 rounds\n"
     ]
    },
    {
     "name": "stderr",
     "output_type": "stream",
     "text": [
      "\u001b[32m[I 2021-10-02 20:07:55,154]\u001b[0m Trial 43 finished with value: 0.8103254769921436 and parameters: {'lambda_l1': 0.396692619479503, 'lambda_l2': 4.678062672049877e-05, 'num_leaves': 45, 'feature_fraction': 0.8663771191835021, 'bagging_fraction': 0.7135450289910875, 'bagging_freq': 8, 'min_child_samples': 65, 'max_depth': 3}. Best is trial 5 with value: 0.8249158249158249.\u001b[0m\n"
     ]
    },
    {
     "name": "stdout",
     "output_type": "stream",
     "text": [
      "Early stopping, best iteration is:\n",
      "[52]\ttraining's binary_logloss: 0.407162\tvalid_1's binary_logloss: 0.423543\n",
      "Training until validation scores don't improve for 1000 rounds\n",
      "Early stopping, best iteration is:\n",
      "[165]\ttraining's binary_logloss: 0.383114\tvalid_1's binary_logloss: 0.419335\n",
      "Training until validation scores don't improve for 1000 rounds\n",
      "Early stopping, best iteration is:\n",
      "[612]\ttraining's binary_logloss: 0.338589\tvalid_1's binary_logloss: 0.394761\n",
      "Training until validation scores don't improve for 1000 rounds\n",
      "Early stopping, best iteration is:\n",
      "[690]\ttraining's binary_logloss: 0.323737\tvalid_1's binary_logloss: 0.448148\n",
      "Training until validation scores don't improve for 1000 rounds\n",
      "Early stopping, best iteration is:\n",
      "[430]\ttraining's binary_logloss: 0.351224\tvalid_1's binary_logloss: 0.410388\n",
      "Training until validation scores don't improve for 1000 rounds\n"
     ]
    },
    {
     "name": "stderr",
     "output_type": "stream",
     "text": [
      "\u001b[32m[I 2021-10-02 20:07:56,713]\u001b[0m Trial 44 finished with value: 0.8125701459034792 and parameters: {'lambda_l1': 0.0580455024571168, 'lambda_l2': 1.096496867445155e-05, 'num_leaves': 53, 'feature_fraction': 0.7336453785187026, 'bagging_fraction': 0.6785812934160843, 'bagging_freq': 6, 'min_child_samples': 58, 'max_depth': 2}. Best is trial 5 with value: 0.8249158249158249.\u001b[0m\n"
     ]
    },
    {
     "name": "stdout",
     "output_type": "stream",
     "text": [
      "Early stopping, best iteration is:\n",
      "[42]\ttraining's binary_logloss: 0.418341\tvalid_1's binary_logloss: 0.421106\n",
      "Training until validation scores don't improve for 1000 rounds\n",
      "Early stopping, best iteration is:\n",
      "[96]\ttraining's binary_logloss: 0.372325\tvalid_1's binary_logloss: 0.406362\n",
      "Training until validation scores don't improve for 1000 rounds\n",
      "Early stopping, best iteration is:\n",
      "[272]\ttraining's binary_logloss: 0.335094\tvalid_1's binary_logloss: 0.398857\n",
      "Training until validation scores don't improve for 1000 rounds\n",
      "Early stopping, best iteration is:\n",
      "[183]\ttraining's binary_logloss: 0.341986\tvalid_1's binary_logloss: 0.45479\n",
      "Training until validation scores don't improve for 1000 rounds\n",
      "Early stopping, best iteration is:\n",
      "[83]\ttraining's binary_logloss: 0.378777\tvalid_1's binary_logloss: 0.407821\n",
      "Training until validation scores don't improve for 1000 rounds\n"
     ]
    },
    {
     "name": "stderr",
     "output_type": "stream",
     "text": [
      "\u001b[32m[I 2021-10-02 20:07:58,322]\u001b[0m Trial 45 finished with value: 0.8181818181818182 and parameters: {'lambda_l1': 0.20663628376504242, 'lambda_l2': 0.00014463388448273496, 'num_leaves': 60, 'feature_fraction': 0.8976247395726936, 'bagging_fraction': 0.6280650230770854, 'bagging_freq': 7, 'min_child_samples': 42, 'max_depth': 3}. Best is trial 5 with value: 0.8249158249158249.\u001b[0m\n"
     ]
    },
    {
     "name": "stdout",
     "output_type": "stream",
     "text": [
      "Early stopping, best iteration is:\n",
      "[39]\ttraining's binary_logloss: 0.398303\tvalid_1's binary_logloss: 0.417686\n",
      "Training until validation scores don't improve for 1000 rounds\n",
      "Early stopping, best iteration is:\n",
      "[33]\ttraining's binary_logloss: 0.412945\tvalid_1's binary_logloss: 0.419802\n",
      "Training until validation scores don't improve for 1000 rounds\n",
      "Early stopping, best iteration is:\n",
      "[227]\ttraining's binary_logloss: 0.349464\tvalid_1's binary_logloss: 0.396469\n",
      "Training until validation scores don't improve for 1000 rounds\n",
      "Early stopping, best iteration is:\n",
      "[96]\ttraining's binary_logloss: 0.369021\tvalid_1's binary_logloss: 0.449064\n",
      "Training until validation scores don't improve for 1000 rounds\n",
      "Early stopping, best iteration is:\n",
      "[492]\ttraining's binary_logloss: 0.303203\tvalid_1's binary_logloss: 0.430158\n",
      "Training until validation scores don't improve for 1000 rounds\n"
     ]
    },
    {
     "name": "stderr",
     "output_type": "stream",
     "text": [
      "\u001b[32m[I 2021-10-02 20:08:00,785]\u001b[0m Trial 46 finished with value: 0.813692480359147 and parameters: {'lambda_l1': 0.006863018405174881, 'lambda_l2': 2.227201710074095e-05, 'num_leaves': 52, 'feature_fraction': 0.8218078959428204, 'bagging_fraction': 0.7356712844961757, 'bagging_freq': 3, 'min_child_samples': 70, 'max_depth': 4}. Best is trial 5 with value: 0.8249158249158249.\u001b[0m\n"
     ]
    },
    {
     "name": "stdout",
     "output_type": "stream",
     "text": [
      "Early stopping, best iteration is:\n",
      "[71]\ttraining's binary_logloss: 0.38863\tvalid_1's binary_logloss: 0.420497\n",
      "Training until validation scores don't improve for 1000 rounds\n",
      "Early stopping, best iteration is:\n",
      "[129]\ttraining's binary_logloss: 0.398187\tvalid_1's binary_logloss: 0.419657\n",
      "Training until validation scores don't improve for 1000 rounds\n",
      "Early stopping, best iteration is:\n",
      "[914]\ttraining's binary_logloss: 0.369293\tvalid_1's binary_logloss: 0.396028\n",
      "Training until validation scores don't improve for 1000 rounds\n",
      "Early stopping, best iteration is:\n",
      "[517]\ttraining's binary_logloss: 0.366269\tvalid_1's binary_logloss: 0.455454\n",
      "Training until validation scores don't improve for 1000 rounds\n",
      "Early stopping, best iteration is:\n",
      "[295]\ttraining's binary_logloss: 0.384064\tvalid_1's binary_logloss: 0.426163\n",
      "Training until validation scores don't improve for 1000 rounds\n"
     ]
    },
    {
     "name": "stderr",
     "output_type": "stream",
     "text": [
      "\u001b[32m[I 2021-10-02 20:08:02,927]\u001b[0m Trial 47 finished with value: 0.8092031425364759 and parameters: {'lambda_l1': 3.390628806556972, 'lambda_l2': 0.06911956069014165, 'num_leaves': 50, 'feature_fraction': 0.5250549696161615, 'bagging_fraction': 0.7527656885578375, 'bagging_freq': 4, 'min_child_samples': 55, 'max_depth': 3}. Best is trial 5 with value: 0.8249158249158249.\u001b[0m\n"
     ]
    },
    {
     "name": "stdout",
     "output_type": "stream",
     "text": [
      "Early stopping, best iteration is:\n",
      "[97]\ttraining's binary_logloss: 0.402839\tvalid_1's binary_logloss: 0.417267\n",
      "Training until validation scores don't improve for 1000 rounds\n",
      "Early stopping, best iteration is:\n",
      "[62]\ttraining's binary_logloss: 0.406707\tvalid_1's binary_logloss: 0.420461\n",
      "Training until validation scores don't improve for 1000 rounds\n",
      "Early stopping, best iteration is:\n",
      "[674]\ttraining's binary_logloss: 0.341752\tvalid_1's binary_logloss: 0.394895\n",
      "Training until validation scores don't improve for 1000 rounds\n",
      "Early stopping, best iteration is:\n",
      "[284]\ttraining's binary_logloss: 0.361209\tvalid_1's binary_logloss: 0.443372\n",
      "Training until validation scores don't improve for 1000 rounds\n",
      "Early stopping, best iteration is:\n",
      "[477]\ttraining's binary_logloss: 0.349739\tvalid_1's binary_logloss: 0.416575\n",
      "Training until validation scores don't improve for 1000 rounds\n"
     ]
    },
    {
     "name": "stderr",
     "output_type": "stream",
     "text": [
      "\u001b[32m[I 2021-10-02 20:08:06,087]\u001b[0m Trial 48 finished with value: 0.8159371492704826 and parameters: {'lambda_l1': 0.3203739441028716, 'lambda_l2': 0.0007722854352537299, 'num_leaves': 39, 'feature_fraction': 0.8045237815894684, 'bagging_fraction': 0.7802499072519691, 'bagging_freq': 9, 'min_child_samples': 67, 'max_depth': 2}. Best is trial 5 with value: 0.8249158249158249.\u001b[0m\n"
     ]
    },
    {
     "name": "stdout",
     "output_type": "stream",
     "text": [
      "Early stopping, best iteration is:\n",
      "[48]\ttraining's binary_logloss: 0.4142\tvalid_1's binary_logloss: 0.422455\n",
      "Training until validation scores don't improve for 1000 rounds\n",
      "Early stopping, best iteration is:\n",
      "[40]\ttraining's binary_logloss: 0.408994\tvalid_1's binary_logloss: 0.42149\n",
      "Training until validation scores don't improve for 1000 rounds\n",
      "Early stopping, best iteration is:\n",
      "[312]\ttraining's binary_logloss: 0.337933\tvalid_1's binary_logloss: 0.391402\n",
      "Training until validation scores don't improve for 1000 rounds\n",
      "Early stopping, best iteration is:\n",
      "[449]\ttraining's binary_logloss: 0.306861\tvalid_1's binary_logloss: 0.456879\n",
      "Training until validation scores don't improve for 1000 rounds\n",
      "Early stopping, best iteration is:\n",
      "[164]\ttraining's binary_logloss: 0.360962\tvalid_1's binary_logloss: 0.420547\n",
      "Training until validation scores don't improve for 1000 rounds\n"
     ]
    },
    {
     "name": "stderr",
     "output_type": "stream",
     "text": [
      "\u001b[32m[I 2021-10-02 20:08:08,832]\u001b[0m Trial 49 finished with value: 0.813692480359147 and parameters: {'lambda_l1': 0.027478781865564503, 'lambda_l2': 4.296877597739594e-05, 'num_leaves': 62, 'feature_fraction': 0.7497711022769634, 'bagging_fraction': 0.8281980455902465, 'bagging_freq': 6, 'min_child_samples': 75, 'max_depth': 4}. Best is trial 5 with value: 0.8249158249158249.\u001b[0m\n"
     ]
    },
    {
     "name": "stdout",
     "output_type": "stream",
     "text": [
      "Early stopping, best iteration is:\n",
      "[34]\ttraining's binary_logloss: 0.414049\tvalid_1's binary_logloss: 0.419789\n",
      "Training until validation scores don't improve for 1000 rounds\n",
      "Early stopping, best iteration is:\n",
      "[150]\ttraining's binary_logloss: 0.370372\tvalid_1's binary_logloss: 0.420717\n",
      "Training until validation scores don't improve for 1000 rounds\n",
      "Early stopping, best iteration is:\n",
      "[316]\ttraining's binary_logloss: 0.345651\tvalid_1's binary_logloss: 0.392761\n",
      "Training until validation scores don't improve for 1000 rounds\n",
      "Early stopping, best iteration is:\n",
      "[219]\ttraining's binary_logloss: 0.346555\tvalid_1's binary_logloss: 0.448202\n",
      "Training until validation scores don't improve for 1000 rounds\n",
      "Early stopping, best iteration is:\n",
      "[91]\ttraining's binary_logloss: 0.385529\tvalid_1's binary_logloss: 0.4179\n",
      "Training until validation scores don't improve for 1000 rounds\n"
     ]
    },
    {
     "name": "stderr",
     "output_type": "stream",
     "text": [
      "\u001b[32m[I 2021-10-02 20:08:10,915]\u001b[0m Trial 50 finished with value: 0.8215488215488216 and parameters: {'lambda_l1': 0.0003421268739919571, 'lambda_l2': 0.00027760702112457054, 'num_leaves': 55, 'feature_fraction': 0.7064410075734505, 'bagging_fraction': 0.7173173258033112, 'bagging_freq': 7, 'min_child_samples': 61, 'max_depth': 3}. Best is trial 5 with value: 0.8249158249158249.\u001b[0m\n"
     ]
    },
    {
     "name": "stdout",
     "output_type": "stream",
     "text": [
      "Early stopping, best iteration is:\n",
      "[46]\ttraining's binary_logloss: 0.408793\tvalid_1's binary_logloss: 0.426304\n",
      "Training until validation scores don't improve for 1000 rounds\n",
      "Early stopping, best iteration is:\n",
      "[41]\ttraining's binary_logloss: 0.395075\tvalid_1's binary_logloss: 0.407503\n",
      "Training until validation scores don't improve for 1000 rounds\n",
      "Early stopping, best iteration is:\n",
      "[81]\ttraining's binary_logloss: 0.372836\tvalid_1's binary_logloss: 0.403314\n",
      "Training until validation scores don't improve for 1000 rounds\n",
      "Early stopping, best iteration is:\n",
      "[42]\ttraining's binary_logloss: 0.387524\tvalid_1's binary_logloss: 0.45676\n",
      "Training until validation scores don't improve for 1000 rounds\n",
      "Early stopping, best iteration is:\n",
      "[44]\ttraining's binary_logloss: 0.390275\tvalid_1's binary_logloss: 0.405099\n",
      "Training until validation scores don't improve for 1000 rounds\n"
     ]
    },
    {
     "name": "stderr",
     "output_type": "stream",
     "text": [
      "\u001b[32m[I 2021-10-02 20:08:13,430]\u001b[0m Trial 51 finished with value: 0.8125701459034792 and parameters: {'lambda_l1': 0.00035674641992618434, 'lambda_l2': 0.0017337865554916264, 'num_leaves': 55, 'feature_fraction': 0.6726422100039252, 'bagging_fraction': 0.7162135603629649, 'bagging_freq': 7, 'min_child_samples': 37, 'max_depth': 3}. Best is trial 5 with value: 0.8249158249158249.\u001b[0m\n"
     ]
    },
    {
     "name": "stdout",
     "output_type": "stream",
     "text": [
      "Early stopping, best iteration is:\n",
      "[35]\ttraining's binary_logloss: 0.394166\tvalid_1's binary_logloss: 0.421211\n",
      "Training until validation scores don't improve for 1000 rounds\n",
      "Early stopping, best iteration is:\n",
      "[148]\ttraining's binary_logloss: 0.367601\tvalid_1's binary_logloss: 0.420483\n",
      "Training until validation scores don't improve for 1000 rounds\n",
      "Early stopping, best iteration is:\n",
      "[356]\ttraining's binary_logloss: 0.331301\tvalid_1's binary_logloss: 0.395913\n",
      "Training until validation scores don't improve for 1000 rounds\n",
      "Early stopping, best iteration is:\n",
      "[197]\ttraining's binary_logloss: 0.346703\tvalid_1's binary_logloss: 0.44933\n",
      "Training until validation scores don't improve for 1000 rounds\n",
      "Early stopping, best iteration is:\n",
      "[89]\ttraining's binary_logloss: 0.382098\tvalid_1's binary_logloss: 0.413453\n",
      "Training until validation scores don't improve for 1000 rounds\n"
     ]
    },
    {
     "name": "stderr",
     "output_type": "stream",
     "text": [
      "\u001b[32m[I 2021-10-02 20:08:16,173]\u001b[0m Trial 52 finished with value: 0.8204264870931538 and parameters: {'lambda_l1': 0.00010805009220762044, 'lambda_l2': 0.00029427712203097367, 'num_leaves': 55, 'feature_fraction': 0.7088640518687457, 'bagging_fraction': 0.8136070682614512, 'bagging_freq': 7, 'min_child_samples': 62, 'max_depth': 3}. Best is trial 5 with value: 0.8249158249158249.\u001b[0m\n"
     ]
    },
    {
     "name": "stdout",
     "output_type": "stream",
     "text": [
      "Early stopping, best iteration is:\n",
      "[34]\ttraining's binary_logloss: 0.413072\tvalid_1's binary_logloss: 0.420933\n",
      "Training until validation scores don't improve for 1000 rounds\n",
      "Early stopping, best iteration is:\n",
      "[176]\ttraining's binary_logloss: 0.357655\tvalid_1's binary_logloss: 0.416748\n",
      "Training until validation scores don't improve for 1000 rounds\n",
      "Early stopping, best iteration is:\n",
      "[237]\ttraining's binary_logloss: 0.351614\tvalid_1's binary_logloss: 0.391717\n",
      "Training until validation scores don't improve for 1000 rounds\n",
      "Early stopping, best iteration is:\n",
      "[211]\ttraining's binary_logloss: 0.340581\tvalid_1's binary_logloss: 0.445842\n",
      "Training until validation scores don't improve for 1000 rounds\n",
      "Early stopping, best iteration is:\n",
      "[104]\ttraining's binary_logloss: 0.375357\tvalid_1's binary_logloss: 0.420243\n",
      "Training until validation scores don't improve for 1000 rounds\n"
     ]
    },
    {
     "name": "stderr",
     "output_type": "stream",
     "text": [
      "\u001b[32m[I 2021-10-02 20:08:18,721]\u001b[0m Trial 53 finished with value: 0.8170594837261503 and parameters: {'lambda_l1': 2.9822995868188786e-05, 'lambda_l2': 0.0037369358209691467, 'num_leaves': 46, 'feature_fraction': 0.7008866089436059, 'bagging_fraction': 0.6744110558926846, 'bagging_freq': 8, 'min_child_samples': 60, 'max_depth': 4}. Best is trial 5 with value: 0.8249158249158249.\u001b[0m\n"
     ]
    },
    {
     "name": "stdout",
     "output_type": "stream",
     "text": [
      "Early stopping, best iteration is:\n",
      "[41]\ttraining's binary_logloss: 0.410742\tvalid_1's binary_logloss: 0.424659\n",
      "Training until validation scores don't improve for 1000 rounds\n",
      "Early stopping, best iteration is:\n",
      "[49]\ttraining's binary_logloss: 0.398519\tvalid_1's binary_logloss: 0.414108\n",
      "Training until validation scores don't improve for 1000 rounds\n",
      "Early stopping, best iteration is:\n",
      "[133]\ttraining's binary_logloss: 0.366094\tvalid_1's binary_logloss: 0.404689\n",
      "Training until validation scores don't improve for 1000 rounds\n",
      "Early stopping, best iteration is:\n",
      "[105]\ttraining's binary_logloss: 0.362397\tvalid_1's binary_logloss: 0.460689\n",
      "Training until validation scores don't improve for 1000 rounds\n",
      "Early stopping, best iteration is:\n",
      "[73]\ttraining's binary_logloss: 0.382139\tvalid_1's binary_logloss: 0.421305\n",
      "Training until validation scores don't improve for 1000 rounds\n"
     ]
    },
    {
     "name": "stderr",
     "output_type": "stream",
     "text": [
      "\u001b[32m[I 2021-10-02 20:08:22,171]\u001b[0m Trial 54 finished with value: 0.8159371492704826 and parameters: {'lambda_l1': 0.0004081199437269939, 'lambda_l2': 0.0001050824639974072, 'num_leaves': 59, 'feature_fraction': 0.7879629069133159, 'bagging_fraction': 0.7577377196171039, 'bagging_freq': 7, 'min_child_samples': 53, 'max_depth': 3}. Best is trial 5 with value: 0.8249158249158249.\u001b[0m\n"
     ]
    },
    {
     "name": "stdout",
     "output_type": "stream",
     "text": [
      "Early stopping, best iteration is:\n",
      "[40]\ttraining's binary_logloss: 0.399161\tvalid_1's binary_logloss: 0.420927\n",
      "Training until validation scores don't improve for 1000 rounds\n",
      "Early stopping, best iteration is:\n",
      "[140]\ttraining's binary_logloss: 0.401607\tvalid_1's binary_logloss: 0.426611\n",
      "Training until validation scores don't improve for 1000 rounds\n",
      "Early stopping, best iteration is:\n",
      "[385]\ttraining's binary_logloss: 0.370971\tvalid_1's binary_logloss: 0.402592\n",
      "Training until validation scores don't improve for 1000 rounds\n",
      "Early stopping, best iteration is:\n",
      "[200]\ttraining's binary_logloss: 0.378413\tvalid_1's binary_logloss: 0.454329\n",
      "Training until validation scores don't improve for 1000 rounds\n",
      "Early stopping, best iteration is:\n",
      "[682]\ttraining's binary_logloss: 0.339012\tvalid_1's binary_logloss: 0.426107\n",
      "Training until validation scores don't improve for 1000 rounds\n"
     ]
    },
    {
     "name": "stderr",
     "output_type": "stream",
     "text": [
      "\u001b[32m[I 2021-10-02 20:08:26,768]\u001b[0m Trial 55 finished with value: 0.8013468013468014 and parameters: {'lambda_l1': 0.0001111997928714946, 'lambda_l2': 0.0004340320837324267, 'num_leaves': 25, 'feature_fraction': 0.6503558946831809, 'bagging_fraction': 0.6382973063940245, 'bagging_freq': 5, 'min_child_samples': 89, 'max_depth': 3}. Best is trial 5 with value: 0.8249158249158249.\u001b[0m\n"
     ]
    },
    {
     "name": "stdout",
     "output_type": "stream",
     "text": [
      "Early stopping, best iteration is:\n",
      "[1820]\ttraining's binary_logloss: 0.289469\tvalid_1's binary_logloss: 0.426572\n",
      "Training until validation scores don't improve for 1000 rounds\n",
      "Early stopping, best iteration is:\n",
      "[793]\ttraining's binary_logloss: 0.336968\tvalid_1's binary_logloss: 0.421907\n",
      "Training until validation scores don't improve for 1000 rounds\n",
      "Early stopping, best iteration is:\n",
      "[441]\ttraining's binary_logloss: 0.363224\tvalid_1's binary_logloss: 0.399605\n",
      "Training until validation scores don't improve for 1000 rounds\n",
      "Early stopping, best iteration is:\n",
      "[805]\ttraining's binary_logloss: 0.329182\tvalid_1's binary_logloss: 0.444576\n",
      "Training until validation scores don't improve for 1000 rounds\n",
      "Early stopping, best iteration is:\n",
      "[250]\ttraining's binary_logloss: 0.377233\tvalid_1's binary_logloss: 0.417407\n",
      "Training until validation scores don't improve for 1000 rounds\n"
     ]
    },
    {
     "name": "stderr",
     "output_type": "stream",
     "text": [
      "\u001b[32m[I 2021-10-02 20:08:31,032]\u001b[0m Trial 56 finished with value: 0.819304152637486 and parameters: {'lambda_l1': 0.0021126225667602995, 'lambda_l2': 0.00017199235768052988, 'num_leaves': 14, 'feature_fraction': 0.7242824351906845, 'bagging_fraction': 0.8738479197118055, 'bagging_freq': 7, 'min_child_samples': 83, 'max_depth': 2}. Best is trial 5 with value: 0.8249158249158249.\u001b[0m\n"
     ]
    },
    {
     "name": "stdout",
     "output_type": "stream",
     "text": [
      "Early stopping, best iteration is:\n",
      "[34]\ttraining's binary_logloss: 0.426116\tvalid_1's binary_logloss: 0.416985\n",
      "Training until validation scores don't improve for 1000 rounds\n",
      "Early stopping, best iteration is:\n",
      "[93]\ttraining's binary_logloss: 0.382837\tvalid_1's binary_logloss: 0.419837\n",
      "Training until validation scores don't improve for 1000 rounds\n",
      "Early stopping, best iteration is:\n",
      "[151]\ttraining's binary_logloss: 0.370938\tvalid_1's binary_logloss: 0.402597\n",
      "Training until validation scores don't improve for 1000 rounds\n",
      "Early stopping, best iteration is:\n",
      "[49]\ttraining's binary_logloss: 0.389731\tvalid_1's binary_logloss: 0.462057\n",
      "Training until validation scores don't improve for 1000 rounds\n",
      "Early stopping, best iteration is:\n",
      "[381]\ttraining's binary_logloss: 0.331922\tvalid_1's binary_logloss: 0.412451\n",
      "Training until validation scores don't improve for 1000 rounds\n"
     ]
    },
    {
     "name": "stderr",
     "output_type": "stream",
     "text": [
      "\u001b[32m[I 2021-10-02 20:08:34,538]\u001b[0m Trial 57 finished with value: 0.8035914702581369 and parameters: {'lambda_l1': 0.8697893129370783, 'lambda_l2': 0.0011521221140077301, 'num_leaves': 43, 'feature_fraction': 0.5660476335885071, 'bagging_fraction': 0.7860881555509845, 'bagging_freq': 8, 'min_child_samples': 44, 'max_depth': 3}. Best is trial 5 with value: 0.8249158249158249.\u001b[0m\n"
     ]
    },
    {
     "name": "stdout",
     "output_type": "stream",
     "text": [
      "Early stopping, best iteration is:\n",
      "[43]\ttraining's binary_logloss: 0.400797\tvalid_1's binary_logloss: 0.418868\n",
      "Training until validation scores don't improve for 1000 rounds\n",
      "Early stopping, best iteration is:\n",
      "[346]\ttraining's binary_logloss: 0.338958\tvalid_1's binary_logloss: 0.421756\n",
      "Training until validation scores don't improve for 1000 rounds\n",
      "Early stopping, best iteration is:\n",
      "[454]\ttraining's binary_logloss: 0.329737\tvalid_1's binary_logloss: 0.390857\n",
      "Training until validation scores don't improve for 1000 rounds\n",
      "Early stopping, best iteration is:\n",
      "[247]\ttraining's binary_logloss: 0.34245\tvalid_1's binary_logloss: 0.459106\n",
      "Training until validation scores don't improve for 1000 rounds\n",
      "Early stopping, best iteration is:\n",
      "[176]\ttraining's binary_logloss: 0.364628\tvalid_1's binary_logloss: 0.432226\n",
      "Training until validation scores don't improve for 1000 rounds\n"
     ]
    },
    {
     "name": "stderr",
     "output_type": "stream",
     "text": [
      "\u001b[32m[I 2021-10-02 20:08:38,431]\u001b[0m Trial 58 finished with value: 0.8125701459034792 and parameters: {'lambda_l1': 0.0002682702627654606, 'lambda_l2': 1.8086926506558902e-05, 'num_leaves': 56, 'feature_fraction': 0.7654680262922686, 'bagging_fraction': 0.7216230737965112, 'bagging_freq': 6, 'min_child_samples': 73, 'max_depth': 4}. Best is trial 5 with value: 0.8249158249158249.\u001b[0m\n"
     ]
    },
    {
     "name": "stdout",
     "output_type": "stream",
     "text": [
      "Early stopping, best iteration is:\n",
      "[34]\ttraining's binary_logloss: 0.4198\tvalid_1's binary_logloss: 0.423194\n",
      "Training until validation scores don't improve for 1000 rounds\n",
      "Early stopping, best iteration is:\n",
      "[215]\ttraining's binary_logloss: 0.361276\tvalid_1's binary_logloss: 0.409426\n",
      "Training until validation scores don't improve for 1000 rounds\n",
      "Early stopping, best iteration is:\n",
      "[360]\ttraining's binary_logloss: 0.340926\tvalid_1's binary_logloss: 0.393645\n",
      "Training until validation scores don't improve for 1000 rounds\n",
      "Early stopping, best iteration is:\n",
      "[321]\ttraining's binary_logloss: 0.331536\tvalid_1's binary_logloss: 0.455833\n",
      "Training until validation scores don't improve for 1000 rounds\n",
      "Early stopping, best iteration is:\n",
      "[100]\ttraining's binary_logloss: 0.38501\tvalid_1's binary_logloss: 0.42194\n",
      "Training until validation scores don't improve for 1000 rounds\n"
     ]
    },
    {
     "name": "stderr",
     "output_type": "stream",
     "text": [
      "\u001b[32m[I 2021-10-02 20:08:40,578]\u001b[0m Trial 59 finished with value: 0.8148148148148148 and parameters: {'lambda_l1': 0.020607932958485387, 'lambda_l2': 6.453093034112831e-05, 'num_leaves': 47, 'feature_fraction': 0.7452183066643311, 'bagging_fraction': 0.6074062435107125, 'bagging_freq': 8, 'min_child_samples': 63, 'max_depth': 7}. Best is trial 5 with value: 0.8249158249158249.\u001b[0m\n"
     ]
    },
    {
     "name": "stdout",
     "output_type": "stream",
     "text": [
      "Early stopping, best iteration is:\n",
      "[95]\ttraining's binary_logloss: 0.387141\tvalid_1's binary_logloss: 0.418078\n",
      "Training until validation scores don't improve for 1000 rounds\n",
      "Early stopping, best iteration is:\n",
      "[469]\ttraining's binary_logloss: 0.348731\tvalid_1's binary_logloss: 0.419421\n",
      "Training until validation scores don't improve for 1000 rounds\n",
      "Early stopping, best iteration is:\n",
      "[461]\ttraining's binary_logloss: 0.356868\tvalid_1's binary_logloss: 0.385844\n",
      "Training until validation scores don't improve for 1000 rounds\n",
      "Early stopping, best iteration is:\n",
      "[450]\ttraining's binary_logloss: 0.34395\tvalid_1's binary_logloss: 0.451194\n",
      "Training until validation scores don't improve for 1000 rounds\n",
      "Early stopping, best iteration is:\n",
      "[368]\ttraining's binary_logloss: 0.354851\tvalid_1's binary_logloss: 0.407316\n",
      "Training until validation scores don't improve for 1000 rounds\n"
     ]
    },
    {
     "name": "stderr",
     "output_type": "stream",
     "text": [
      "\u001b[32m[I 2021-10-02 20:08:42,986]\u001b[0m Trial 60 finished with value: 0.8215488215488216 and parameters: {'lambda_l1': 0.000593291109950618, 'lambda_l2': 0.011481865439620959, 'num_leaves': 4, 'feature_fraction': 0.4853959852553847, 'bagging_fraction': 0.7014717750302036, 'bagging_freq': 6, 'min_child_samples': 67, 'max_depth': 3}. Best is trial 5 with value: 0.8249158249158249.\u001b[0m\n"
     ]
    },
    {
     "name": "stdout",
     "output_type": "stream",
     "text": [
      "Early stopping, best iteration is:\n",
      "[32]\ttraining's binary_logloss: 0.43219\tvalid_1's binary_logloss: 0.42398\n",
      "Training until validation scores don't improve for 1000 rounds\n",
      "Early stopping, best iteration is:\n",
      "[159]\ttraining's binary_logloss: 0.384764\tvalid_1's binary_logloss: 0.423633\n",
      "Training until validation scores don't improve for 1000 rounds\n",
      "Early stopping, best iteration is:\n",
      "[459]\ttraining's binary_logloss: 0.352694\tvalid_1's binary_logloss: 0.389848\n",
      "Training until validation scores don't improve for 1000 rounds\n",
      "Early stopping, best iteration is:\n",
      "[459]\ttraining's binary_logloss: 0.340905\tvalid_1's binary_logloss: 0.451495\n",
      "Training until validation scores don't improve for 1000 rounds\n",
      "Early stopping, best iteration is:\n",
      "[432]\ttraining's binary_logloss: 0.347699\tvalid_1's binary_logloss: 0.416176\n",
      "Training until validation scores don't improve for 1000 rounds\n"
     ]
    },
    {
     "name": "stderr",
     "output_type": "stream",
     "text": [
      "\u001b[32m[I 2021-10-02 20:08:46,871]\u001b[0m Trial 61 finished with value: 0.8226711560044894 and parameters: {'lambda_l1': 0.005986159908786912, 'lambda_l2': 0.016120276566192283, 'num_leaves': 5, 'feature_fraction': 0.4848121458898232, 'bagging_fraction': 0.6702058328845469, 'bagging_freq': 6, 'min_child_samples': 67, 'max_depth': 3}. Best is trial 5 with value: 0.8249158249158249.\u001b[0m\n"
     ]
    },
    {
     "name": "stdout",
     "output_type": "stream",
     "text": [
      "Early stopping, best iteration is:\n",
      "[32]\ttraining's binary_logloss: 0.430156\tvalid_1's binary_logloss: 0.426826\n",
      "Training until validation scores don't improve for 1000 rounds\n",
      "Early stopping, best iteration is:\n",
      "[596]\ttraining's binary_logloss: 0.351666\tvalid_1's binary_logloss: 0.419113\n",
      "Training until validation scores don't improve for 1000 rounds\n",
      "Early stopping, best iteration is:\n",
      "[402]\ttraining's binary_logloss: 0.368133\tvalid_1's binary_logloss: 0.391449\n",
      "Training until validation scores don't improve for 1000 rounds\n",
      "Early stopping, best iteration is:\n",
      "[429]\ttraining's binary_logloss: 0.353765\tvalid_1's binary_logloss: 0.444008\n",
      "Training until validation scores don't improve for 1000 rounds\n",
      "Early stopping, best iteration is:\n",
      "[680]\ttraining's binary_logloss: 0.338115\tvalid_1's binary_logloss: 0.420581\n",
      "Training until validation scores don't improve for 1000 rounds\n"
     ]
    },
    {
     "name": "stderr",
     "output_type": "stream",
     "text": [
      "\u001b[32m[I 2021-10-02 20:08:50,740]\u001b[0m Trial 62 finished with value: 0.8181818181818182 and parameters: {'lambda_l1': 0.0045067636613171395, 'lambda_l2': 0.0323608762970621, 'num_leaves': 4, 'feature_fraction': 0.43130571096592263, 'bagging_fraction': 0.5742257920305361, 'bagging_freq': 5, 'min_child_samples': 66, 'max_depth': 3}. Best is trial 5 with value: 0.8249158249158249.\u001b[0m\n"
     ]
    },
    {
     "name": "stdout",
     "output_type": "stream",
     "text": [
      "Early stopping, best iteration is:\n",
      "[60]\ttraining's binary_logloss: 0.417888\tvalid_1's binary_logloss: 0.42085\n",
      "Training until validation scores don't improve for 1000 rounds\n",
      "Early stopping, best iteration is:\n",
      "[906]\ttraining's binary_logloss: 0.328584\tvalid_1's binary_logloss: 0.414949\n",
      "Training until validation scores don't improve for 1000 rounds\n",
      "Early stopping, best iteration is:\n",
      "[804]\ttraining's binary_logloss: 0.335052\tvalid_1's binary_logloss: 0.386764\n",
      "Training until validation scores don't improve for 1000 rounds\n",
      "Early stopping, best iteration is:\n",
      "[450]\ttraining's binary_logloss: 0.34737\tvalid_1's binary_logloss: 0.450766\n",
      "Training until validation scores don't improve for 1000 rounds\n",
      "Early stopping, best iteration is:\n",
      "[451]\ttraining's binary_logloss: 0.351261\tvalid_1's binary_logloss: 0.411229\n",
      "Training until validation scores don't improve for 1000 rounds\n"
     ]
    },
    {
     "name": "stderr",
     "output_type": "stream",
     "text": [
      "\u001b[32m[I 2021-10-02 20:08:53,844]\u001b[0m Trial 63 finished with value: 0.8249158249158249 and parameters: {'lambda_l1': 0.0005886819247507138, 'lambda_l2': 0.011548106611840902, 'num_leaves': 4, 'feature_fraction': 0.4870545942708587, 'bagging_fraction': 0.6643644703619226, 'bagging_freq': 6, 'min_child_samples': 70, 'max_depth': 3}. Best is trial 5 with value: 0.8249158249158249.\u001b[0m\n"
     ]
    },
    {
     "name": "stdout",
     "output_type": "stream",
     "text": [
      "Early stopping, best iteration is:\n",
      "[32]\ttraining's binary_logloss: 0.436153\tvalid_1's binary_logloss: 0.426058\n",
      "Training until validation scores don't improve for 1000 rounds\n",
      "Early stopping, best iteration is:\n",
      "[969]\ttraining's binary_logloss: 0.344299\tvalid_1's binary_logloss: 0.413753\n",
      "Training until validation scores don't improve for 1000 rounds\n",
      "Early stopping, best iteration is:\n",
      "[457]\ttraining's binary_logloss: 0.376817\tvalid_1's binary_logloss: 0.398083\n",
      "Training until validation scores don't improve for 1000 rounds\n",
      "Early stopping, best iteration is:\n",
      "[690]\ttraining's binary_logloss: 0.34766\tvalid_1's binary_logloss: 0.444655\n",
      "Training until validation scores don't improve for 1000 rounds\n",
      "Early stopping, best iteration is:\n",
      "[824]\ttraining's binary_logloss: 0.345175\tvalid_1's binary_logloss: 0.413988\n",
      "Training until validation scores don't improve for 1000 rounds\n"
     ]
    },
    {
     "name": "stderr",
     "output_type": "stream",
     "text": [
      "\u001b[32m[I 2021-10-02 20:08:58,953]\u001b[0m Trial 64 finished with value: 0.8260381593714927 and parameters: {'lambda_l1': 0.0016116848963318474, 'lambda_l2': 0.017197373401043548, 'num_leaves': 9, 'feature_fraction': 0.48279186424058246, 'bagging_fraction': 0.6250814443361296, 'bagging_freq': 6, 'min_child_samples': 69, 'max_depth': 2}. Best is trial 64 with value: 0.8260381593714927.\u001b[0m\n"
     ]
    },
    {
     "name": "stdout",
     "output_type": "stream",
     "text": [
      "Early stopping, best iteration is:\n",
      "[136]\ttraining's binary_logloss: 0.407718\tvalid_1's binary_logloss: 0.421303\n",
      "Training until validation scores don't improve for 1000 rounds\n",
      "Early stopping, best iteration is:\n",
      "[721]\ttraining's binary_logloss: 0.355868\tvalid_1's binary_logloss: 0.419917\n",
      "Training until validation scores don't improve for 1000 rounds\n",
      "Early stopping, best iteration is:\n",
      "[523]\ttraining's binary_logloss: 0.369851\tvalid_1's binary_logloss: 0.401295\n",
      "Training until validation scores don't improve for 1000 rounds\n",
      "Early stopping, best iteration is:\n",
      "[575]\ttraining's binary_logloss: 0.353492\tvalid_1's binary_logloss: 0.442911\n",
      "Training until validation scores don't improve for 1000 rounds\n",
      "Early stopping, best iteration is:\n",
      "[682]\ttraining's binary_logloss: 0.354371\tvalid_1's binary_logloss: 0.41279\n",
      "Training until validation scores don't improve for 1000 rounds\n"
     ]
    },
    {
     "name": "stderr",
     "output_type": "stream",
     "text": [
      "\u001b[32m[I 2021-10-02 20:09:03,740]\u001b[0m Trial 65 finished with value: 0.813692480359147 and parameters: {'lambda_l1': 0.0016077227896979791, 'lambda_l2': 0.023146199410851744, 'num_leaves': 10, 'feature_fraction': 0.4830125692269888, 'bagging_fraction': 0.6251032798414284, 'bagging_freq': 5, 'min_child_samples': 69, 'max_depth': 2}. Best is trial 64 with value: 0.8260381593714927.\u001b[0m\n"
     ]
    },
    {
     "name": "stdout",
     "output_type": "stream",
     "text": [
      "Early stopping, best iteration is:\n",
      "[114]\ttraining's binary_logloss: 0.409545\tvalid_1's binary_logloss: 0.420905\n",
      "Training until validation scores don't improve for 1000 rounds\n",
      "Early stopping, best iteration is:\n",
      "[463]\ttraining's binary_logloss: 0.37047\tvalid_1's binary_logloss: 0.425669\n",
      "Training until validation scores don't improve for 1000 rounds\n",
      "Early stopping, best iteration is:\n",
      "[849]\ttraining's binary_logloss: 0.348669\tvalid_1's binary_logloss: 0.401282\n",
      "Training until validation scores don't improve for 1000 rounds\n",
      "Early stopping, best iteration is:\n",
      "[249]\ttraining's binary_logloss: 0.379011\tvalid_1's binary_logloss: 0.454303\n",
      "Training until validation scores don't improve for 1000 rounds\n",
      "Early stopping, best iteration is:\n",
      "[431]\ttraining's binary_logloss: 0.372118\tvalid_1's binary_logloss: 0.421934\n",
      "Training until validation scores don't improve for 1000 rounds\n"
     ]
    },
    {
     "name": "stderr",
     "output_type": "stream",
     "text": [
      "\u001b[32m[I 2021-10-02 20:09:08,386]\u001b[0m Trial 66 finished with value: 0.8069584736251403 and parameters: {'lambda_l1': 0.004978097484224344, 'lambda_l2': 0.007821257752916066, 'num_leaves': 5, 'feature_fraction': 0.5036089723933923, 'bagging_fraction': 0.6459215311413891, 'bagging_freq': 6, 'min_child_samples': 78, 'max_depth': 2}. Best is trial 64 with value: 0.8260381593714927.\u001b[0m\n"
     ]
    },
    {
     "name": "stdout",
     "output_type": "stream",
     "text": [
      "Early stopping, best iteration is:\n",
      "[35]\ttraining's binary_logloss: 0.434306\tvalid_1's binary_logloss: 0.42065\n",
      "Training until validation scores don't improve for 1000 rounds\n",
      "Early stopping, best iteration is:\n",
      "[1189]\ttraining's binary_logloss: 0.335888\tvalid_1's binary_logloss: 0.416468\n",
      "Training until validation scores don't improve for 1000 rounds\n",
      "Early stopping, best iteration is:\n",
      "[534]\ttraining's binary_logloss: 0.369005\tvalid_1's binary_logloss: 0.398574\n",
      "Training until validation scores don't improve for 1000 rounds\n",
      "Early stopping, best iteration is:\n",
      "[690]\ttraining's binary_logloss: 0.347098\tvalid_1's binary_logloss: 0.449632\n",
      "Training until validation scores don't improve for 1000 rounds\n",
      "Early stopping, best iteration is:\n",
      "[570]\ttraining's binary_logloss: 0.362456\tvalid_1's binary_logloss: 0.417285\n",
      "Training until validation scores don't improve for 1000 rounds\n"
     ]
    },
    {
     "name": "stderr",
     "output_type": "stream",
     "text": [
      "\u001b[32m[I 2021-10-02 20:09:14,570]\u001b[0m Trial 67 finished with value: 0.8204264870931538 and parameters: {'lambda_l1': 0.0007969309816905755, 'lambda_l2': 0.06972913214195633, 'num_leaves': 9, 'feature_fraction': 0.4664149814186562, 'bagging_fraction': 0.6648441170802392, 'bagging_freq': 6, 'min_child_samples': 73, 'max_depth': 2}. Best is trial 64 with value: 0.8260381593714927.\u001b[0m\n"
     ]
    },
    {
     "name": "stdout",
     "output_type": "stream",
     "text": [
      "Early stopping, best iteration is:\n",
      "[71]\ttraining's binary_logloss: 0.419225\tvalid_1's binary_logloss: 0.424211\n",
      "Training until validation scores don't improve for 1000 rounds\n",
      "Early stopping, best iteration is:\n",
      "[170]\ttraining's binary_logloss: 0.380691\tvalid_1's binary_logloss: 0.418079\n",
      "Training until validation scores don't improve for 1000 rounds\n",
      "Early stopping, best iteration is:\n",
      "[385]\ttraining's binary_logloss: 0.35648\tvalid_1's binary_logloss: 0.3892\n",
      "Training until validation scores don't improve for 1000 rounds\n",
      "Early stopping, best iteration is:\n",
      "[129]\ttraining's binary_logloss: 0.377701\tvalid_1's binary_logloss: 0.446775\n",
      "Training until validation scores don't improve for 1000 rounds\n",
      "Early stopping, best iteration is:\n",
      "[371]\ttraining's binary_logloss: 0.348411\tvalid_1's binary_logloss: 0.422982\n",
      "Training until validation scores don't improve for 1000 rounds\n"
     ]
    },
    {
     "name": "stderr",
     "output_type": "stream",
     "text": [
      "\u001b[32m[I 2021-10-02 20:09:17,079]\u001b[0m Trial 68 finished with value: 0.8159371492704826 and parameters: {'lambda_l1': 0.007598437450922701, 'lambda_l2': 0.22836122365390327, 'num_leaves': 6, 'feature_fraction': 0.54940102062417, 'bagging_fraction': 0.6174869355906499, 'bagging_freq': 5, 'min_child_samples': 70, 'max_depth': 4}. Best is trial 64 with value: 0.8260381593714927.\u001b[0m\n"
     ]
    },
    {
     "name": "stdout",
     "output_type": "stream",
     "text": [
      "Early stopping, best iteration is:\n",
      "[59]\ttraining's binary_logloss: 0.412048\tvalid_1's binary_logloss: 0.423473\n",
      "Training until validation scores don't improve for 1000 rounds\n",
      "Early stopping, best iteration is:\n",
      "[1188]\ttraining's binary_logloss: 0.398046\tvalid_1's binary_logloss: 0.424581\n",
      "Training until validation scores don't improve for 1000 rounds\n",
      "Early stopping, best iteration is:\n",
      "[628]\ttraining's binary_logloss: 0.414534\tvalid_1's binary_logloss: 0.419099\n",
      "Training until validation scores don't improve for 1000 rounds\n",
      "Early stopping, best iteration is:\n",
      "[1297]\ttraining's binary_logloss: 0.38978\tvalid_1's binary_logloss: 0.450616\n",
      "Training until validation scores don't improve for 1000 rounds\n",
      "Early stopping, best iteration is:\n",
      "[198]\ttraining's binary_logloss: 0.421335\tvalid_1's binary_logloss: 0.443788\n",
      "Training until validation scores don't improve for 1000 rounds\n"
     ]
    },
    {
     "name": "stderr",
     "output_type": "stream",
     "text": [
      "\u001b[32m[I 2021-10-02 20:09:20,627]\u001b[0m Trial 69 finished with value: 0.8092031425364759 and parameters: {'lambda_l1': 0.0033051119319732094, 'lambda_l2': 0.026355921714085854, 'num_leaves': 2, 'feature_fraction': 0.4165800819326486, 'bagging_fraction': 0.5443701623652872, 'bagging_freq': 6, 'min_child_samples': 72, 'max_depth': 2}. Best is trial 64 with value: 0.8260381593714927.\u001b[0m\n"
     ]
    },
    {
     "name": "stdout",
     "output_type": "stream",
     "text": [
      "Early stopping, best iteration is:\n",
      "[145]\ttraining's binary_logloss: 0.430256\tvalid_1's binary_logloss: 0.420191\n",
      "Training until validation scores don't improve for 1000 rounds\n",
      "Early stopping, best iteration is:\n",
      "[170]\ttraining's binary_logloss: 0.393172\tvalid_1's binary_logloss: 0.41075\n",
      "Training until validation scores don't improve for 1000 rounds\n",
      "Early stopping, best iteration is:\n",
      "[462]\ttraining's binary_logloss: 0.361684\tvalid_1's binary_logloss: 0.397119\n",
      "Training until validation scores don't improve for 1000 rounds\n",
      "Early stopping, best iteration is:\n",
      "[504]\ttraining's binary_logloss: 0.342237\tvalid_1's binary_logloss: 0.455044\n",
      "Training until validation scores don't improve for 1000 rounds\n",
      "Early stopping, best iteration is:\n",
      "[431]\ttraining's binary_logloss: 0.355043\tvalid_1's binary_logloss: 0.420868\n",
      "Training until validation scores don't improve for 1000 rounds\n"
     ]
    },
    {
     "name": "stderr",
     "output_type": "stream",
     "text": [
      "\u001b[32m[I 2021-10-02 20:09:26,400]\u001b[0m Trial 70 finished with value: 0.8181818181818182 and parameters: {'lambda_l1': 0.0011915735331308641, 'lambda_l2': 0.006023603894536259, 'num_leaves': 15, 'feature_fraction': 0.5000927377801451, 'bagging_fraction': 0.5881640472964901, 'bagging_freq': 6, 'min_child_samples': 75, 'max_depth': 4}. Best is trial 64 with value: 0.8260381593714927.\u001b[0m\n"
     ]
    },
    {
     "name": "stdout",
     "output_type": "stream",
     "text": [
      "Early stopping, best iteration is:\n",
      "[71]\ttraining's binary_logloss: 0.416454\tvalid_1's binary_logloss: 0.421994\n",
      "Training until validation scores don't improve for 1000 rounds\n",
      "Early stopping, best iteration is:\n",
      "[247]\ttraining's binary_logloss: 0.362916\tvalid_1's binary_logloss: 0.42365\n",
      "Training until validation scores don't improve for 1000 rounds\n",
      "Early stopping, best iteration is:\n",
      "[389]\ttraining's binary_logloss: 0.34836\tvalid_1's binary_logloss: 0.393575\n",
      "Training until validation scores don't improve for 1000 rounds\n",
      "Early stopping, best iteration is:\n",
      "[244]\ttraining's binary_logloss: 0.356265\tvalid_1's binary_logloss: 0.445688\n",
      "Training until validation scores don't improve for 1000 rounds\n",
      "Early stopping, best iteration is:\n",
      "[332]\ttraining's binary_logloss: 0.351325\tvalid_1's binary_logloss: 0.415708\n",
      "Training until validation scores don't improve for 1000 rounds\n"
     ]
    },
    {
     "name": "stderr",
     "output_type": "stream",
     "text": [
      "\u001b[32m[I 2021-10-02 20:09:32,879]\u001b[0m Trial 71 finished with value: 0.8249158249158249 and parameters: {'lambda_l1': 0.11461155763343435, 'lambda_l2': 0.014295070439882528, 'num_leaves': 20, 'feature_fraction': 0.46559776308301587, 'bagging_fraction': 0.8017363853812383, 'bagging_freq': 7, 'min_child_samples': 63, 'max_depth': 3}. Best is trial 64 with value: 0.8260381593714927.\u001b[0m\n"
     ]
    },
    {
     "name": "stdout",
     "output_type": "stream",
     "text": [
      "Early stopping, best iteration is:\n",
      "[40]\ttraining's binary_logloss: 0.415068\tvalid_1's binary_logloss: 0.422084\n",
      "Training until validation scores don't improve for 1000 rounds\n",
      "Early stopping, best iteration is:\n",
      "[84]\ttraining's binary_logloss: 0.39191\tvalid_1's binary_logloss: 0.424994\n",
      "Training until validation scores don't improve for 1000 rounds\n",
      "Early stopping, best iteration is:\n",
      "[320]\ttraining's binary_logloss: 0.357662\tvalid_1's binary_logloss: 0.392447\n",
      "Training until validation scores don't improve for 1000 rounds\n",
      "Early stopping, best iteration is:\n",
      "[559]\ttraining's binary_logloss: 0.32015\tvalid_1's binary_logloss: 0.450367\n",
      "Training until validation scores don't improve for 1000 rounds\n",
      "Early stopping, best iteration is:\n",
      "[251]\ttraining's binary_logloss: 0.361076\tvalid_1's binary_logloss: 0.416602\n",
      "Training until validation scores don't improve for 1000 rounds\n"
     ]
    },
    {
     "name": "stderr",
     "output_type": "stream",
     "text": [
      "\u001b[32m[I 2021-10-02 20:09:37,776]\u001b[0m Trial 72 finished with value: 0.8204264870931538 and parameters: {'lambda_l1': 0.07378118385801927, 'lambda_l2': 0.017623153641024545, 'num_leaves': 18, 'feature_fraction': 0.4612357895176522, 'bagging_fraction': 0.808843331233118, 'bagging_freq': 7, 'min_child_samples': 63, 'max_depth': 3}. Best is trial 64 with value: 0.8260381593714927.\u001b[0m\n"
     ]
    },
    {
     "name": "stdout",
     "output_type": "stream",
     "text": [
      "Early stopping, best iteration is:\n",
      "[40]\ttraining's binary_logloss: 0.41474\tvalid_1's binary_logloss: 0.42195\n",
      "Training until validation scores don't improve for 1000 rounds\n",
      "Early stopping, best iteration is:\n",
      "[696]\ttraining's binary_logloss: 0.321534\tvalid_1's binary_logloss: 0.422238\n",
      "Training until validation scores don't improve for 1000 rounds\n",
      "Early stopping, best iteration is:\n",
      "[450]\ttraining's binary_logloss: 0.342474\tvalid_1's binary_logloss: 0.387371\n",
      "Training until validation scores don't improve for 1000 rounds\n",
      "Early stopping, best iteration is:\n",
      "[227]\ttraining's binary_logloss: 0.358086\tvalid_1's binary_logloss: 0.451094\n",
      "Training until validation scores don't improve for 1000 rounds\n",
      "Early stopping, best iteration is:\n",
      "[319]\ttraining's binary_logloss: 0.351884\tvalid_1's binary_logloss: 0.411718\n",
      "Training until validation scores don't improve for 1000 rounds\n"
     ]
    },
    {
     "name": "stderr",
     "output_type": "stream",
     "text": [
      "\u001b[32m[I 2021-10-02 20:09:41,444]\u001b[0m Trial 73 finished with value: 0.819304152637486 and parameters: {'lambda_l1': 0.0005562064947428914, 'lambda_l2': 0.0429924919931128, 'num_leaves': 30, 'feature_fraction': 0.4426889473226368, 'bagging_fraction': 0.8365019926950564, 'bagging_freq': 6, 'min_child_samples': 68, 'max_depth': 3}. Best is trial 64 with value: 0.8260381593714927.\u001b[0m\n"
     ]
    },
    {
     "name": "stdout",
     "output_type": "stream",
     "text": [
      "Early stopping, best iteration is:\n",
      "[40]\ttraining's binary_logloss: 0.414137\tvalid_1's binary_logloss: 0.426442\n",
      "Training until validation scores don't improve for 1000 rounds\n",
      "Early stopping, best iteration is:\n",
      "[39]\ttraining's binary_logloss: 0.412644\tvalid_1's binary_logloss: 0.420895\n",
      "Training until validation scores don't improve for 1000 rounds\n",
      "Early stopping, best iteration is:\n",
      "[315]\ttraining's binary_logloss: 0.353126\tvalid_1's binary_logloss: 0.395191\n",
      "Training until validation scores don't improve for 1000 rounds\n",
      "Early stopping, best iteration is:\n",
      "[181]\ttraining's binary_logloss: 0.360869\tvalid_1's binary_logloss: 0.447053\n",
      "Training until validation scores don't improve for 1000 rounds\n",
      "Early stopping, best iteration is:\n",
      "[185]\ttraining's binary_logloss: 0.367203\tvalid_1's binary_logloss: 0.415462\n",
      "Training until validation scores don't improve for 1000 rounds\n"
     ]
    },
    {
     "name": "stderr",
     "output_type": "stream",
     "text": [
      "\u001b[32m[I 2021-10-02 20:09:45,148]\u001b[0m Trial 74 finished with value: 0.8125701459034792 and parameters: {'lambda_l1': 0.1593928009471811, 'lambda_l2': 0.0028278361420377525, 'num_leaves': 21, 'feature_fraction': 0.5210470268379143, 'bagging_fraction': 0.6799699019047161, 'bagging_freq': 7, 'min_child_samples': 57, 'max_depth': 3}. Best is trial 64 with value: 0.8260381593714927.\u001b[0m\n"
     ]
    },
    {
     "name": "stdout",
     "output_type": "stream",
     "text": [
      "Early stopping, best iteration is:\n",
      "[47]\ttraining's binary_logloss: 0.411048\tvalid_1's binary_logloss: 0.419924\n",
      "Training until validation scores don't improve for 1000 rounds\n",
      "Early stopping, best iteration is:\n",
      "[605]\ttraining's binary_logloss: 0.333767\tvalid_1's binary_logloss: 0.416539\n",
      "Training until validation scores don't improve for 1000 rounds\n",
      "Early stopping, best iteration is:\n",
      "[355]\ttraining's binary_logloss: 0.358992\tvalid_1's binary_logloss: 0.39525\n",
      "Training until validation scores don't improve for 1000 rounds\n",
      "Early stopping, best iteration is:\n",
      "[344]\ttraining's binary_logloss: 0.34975\tvalid_1's binary_logloss: 0.44899\n",
      "Training until validation scores don't improve for 1000 rounds\n",
      "Early stopping, best iteration is:\n",
      "[548]\ttraining's binary_logloss: 0.33469\tvalid_1's binary_logloss: 0.418867\n",
      "Training until validation scores don't improve for 1000 rounds\n"
     ]
    },
    {
     "name": "stderr",
     "output_type": "stream",
     "text": [
      "\u001b[32m[I 2021-10-02 20:09:48,684]\u001b[0m Trial 75 finished with value: 0.8215488215488216 and parameters: {'lambda_l1': 0.001418434938439685, 'lambda_l2': 0.014562750965010241, 'num_leaves': 12, 'feature_fraction': 0.46844947808354187, 'bagging_fraction': 0.6640496245655134, 'bagging_freq': 4, 'min_child_samples': 64, 'max_depth': 3}. Best is trial 64 with value: 0.8260381593714927.\u001b[0m\n"
     ]
    },
    {
     "name": "stdout",
     "output_type": "stream",
     "text": [
      "Early stopping, best iteration is:\n",
      "[92]\ttraining's binary_logloss: 0.397116\tvalid_1's binary_logloss: 0.427773\n",
      "Training until validation scores don't improve for 1000 rounds\n",
      "Early stopping, best iteration is:\n",
      "[119]\ttraining's binary_logloss: 0.390791\tvalid_1's binary_logloss: 0.420227\n",
      "Training until validation scores don't improve for 1000 rounds\n",
      "Early stopping, best iteration is:\n",
      "[670]\ttraining's binary_logloss: 0.331213\tvalid_1's binary_logloss: 0.392634\n",
      "Training until validation scores don't improve for 1000 rounds\n",
      "Early stopping, best iteration is:\n",
      "[135]\ttraining's binary_logloss: 0.377864\tvalid_1's binary_logloss: 0.448153\n",
      "Training until validation scores don't improve for 1000 rounds\n",
      "Early stopping, best iteration is:\n",
      "[372]\ttraining's binary_logloss: 0.350479\tvalid_1's binary_logloss: 0.418193\n",
      "Training until validation scores don't improve for 1000 rounds\n"
     ]
    },
    {
     "name": "stderr",
     "output_type": "stream",
     "text": [
      "\u001b[32m[I 2021-10-02 20:09:51,021]\u001b[0m Trial 76 finished with value: 0.8159371492704826 and parameters: {'lambda_l1': 0.12417851920148058, 'lambda_l2': 0.12159096105342482, 'num_leaves': 8, 'feature_fraction': 0.5071640331713686, 'bagging_fraction': 0.6446209278582135, 'bagging_freq': 5, 'min_child_samples': 69, 'max_depth': 3}. Best is trial 64 with value: 0.8260381593714927.\u001b[0m\n"
     ]
    },
    {
     "name": "stdout",
     "output_type": "stream",
     "text": [
      "Early stopping, best iteration is:\n",
      "[59]\ttraining's binary_logloss: 0.413519\tvalid_1's binary_logloss: 0.428422\n",
      "Training until validation scores don't improve for 1000 rounds\n",
      "Early stopping, best iteration is:\n",
      "[1607]\ttraining's binary_logloss: 0.389533\tvalid_1's binary_logloss: 0.431293\n",
      "Training until validation scores don't improve for 1000 rounds\n",
      "Early stopping, best iteration is:\n",
      "[3762]\ttraining's binary_logloss: 0.377309\tvalid_1's binary_logloss: 0.402609\n",
      "Training until validation scores don't improve for 1000 rounds\n",
      "Early stopping, best iteration is:\n",
      "[2866]\ttraining's binary_logloss: 0.370815\tvalid_1's binary_logloss: 0.445129\n",
      "Training until validation scores don't improve for 1000 rounds\n",
      "Early stopping, best iteration is:\n",
      "[253]\ttraining's binary_logloss: 0.416174\tvalid_1's binary_logloss: 0.440673\n",
      "Training until validation scores don't improve for 1000 rounds\n"
     ]
    },
    {
     "name": "stderr",
     "output_type": "stream",
     "text": [
      "\u001b[32m[I 2021-10-02 20:09:55,333]\u001b[0m Trial 77 finished with value: 0.8058361391694725 and parameters: {'lambda_l1': 0.6072770539259534, 'lambda_l2': 0.009389231174407502, 'num_leaves': 2, 'feature_fraction': 0.4229283728221017, 'bagging_fraction': 0.7980657386877628, 'bagging_freq': 6, 'min_child_samples': 77, 'max_depth': 5}. Best is trial 64 with value: 0.8260381593714927.\u001b[0m\n"
     ]
    },
    {
     "name": "stdout",
     "output_type": "stream",
     "text": [
      "Early stopping, best iteration is:\n",
      "[132]\ttraining's binary_logloss: 0.429292\tvalid_1's binary_logloss: 0.422377\n",
      "Training until validation scores don't improve for 1000 rounds\n",
      "Early stopping, best iteration is:\n",
      "[250]\ttraining's binary_logloss: 0.366194\tvalid_1's binary_logloss: 0.412595\n",
      "Training until validation scores don't improve for 1000 rounds\n",
      "Early stopping, best iteration is:\n",
      "[538]\ttraining's binary_logloss: 0.342269\tvalid_1's binary_logloss: 0.394463\n",
      "Training until validation scores don't improve for 1000 rounds\n",
      "Early stopping, best iteration is:\n",
      "[510]\ttraining's binary_logloss: 0.331077\tvalid_1's binary_logloss: 0.445489\n",
      "Training until validation scores don't improve for 1000 rounds\n",
      "Early stopping, best iteration is:\n",
      "[203]\ttraining's binary_logloss: 0.372559\tvalid_1's binary_logloss: 0.420134\n",
      "Training until validation scores don't improve for 1000 rounds\n"
     ]
    },
    {
     "name": "stderr",
     "output_type": "stream",
     "text": [
      "\u001b[32m[I 2021-10-02 20:09:58,947]\u001b[0m Trial 78 finished with value: 0.819304152637486 and parameters: {'lambda_l1': 1.0635418188907774e-05, 'lambda_l2': 0.6298135972932781, 'num_leaves': 33, 'feature_fraction': 0.4478158461968102, 'bagging_fraction': 0.5901852016025003, 'bagging_freq': 7, 'min_child_samples': 59, 'max_depth': 4}. Best is trial 64 with value: 0.8260381593714927.\u001b[0m\n"
     ]
    },
    {
     "name": "stdout",
     "output_type": "stream",
     "text": [
      "Early stopping, best iteration is:\n",
      "[84]\ttraining's binary_logloss: 0.403427\tvalid_1's binary_logloss: 0.421525\n",
      "Training until validation scores don't improve for 1000 rounds\n",
      "Early stopping, best iteration is:\n",
      "[677]\ttraining's binary_logloss: 0.347397\tvalid_1's binary_logloss: 0.420224\n",
      "Training until validation scores don't improve for 1000 rounds\n",
      "Early stopping, best iteration is:\n",
      "[450]\ttraining's binary_logloss: 0.363912\tvalid_1's binary_logloss: 0.395061\n",
      "Training until validation scores don't improve for 1000 rounds\n",
      "Early stopping, best iteration is:\n",
      "[613]\ttraining's binary_logloss: 0.344629\tvalid_1's binary_logloss: 0.448711\n",
      "Training until validation scores don't improve for 1000 rounds\n",
      "Early stopping, best iteration is:\n",
      "[445]\ttraining's binary_logloss: 0.361621\tvalid_1's binary_logloss: 0.406737\n",
      "Training until validation scores don't improve for 1000 rounds\n"
     ]
    },
    {
     "name": "stderr",
     "output_type": "stream",
     "text": [
      "\u001b[32m[I 2021-10-02 20:10:01,648]\u001b[0m Trial 79 finished with value: 0.8249158249158249 and parameters: {'lambda_l1': 0.002029523515374553, 'lambda_l2': 0.004409569571518833, 'num_leaves': 12, 'feature_fraction': 0.4719673759132403, 'bagging_fraction': 0.8564963530607408, 'bagging_freq': 6, 'min_child_samples': 71, 'max_depth': 2}. Best is trial 64 with value: 0.8260381593714927.\u001b[0m\n"
     ]
    },
    {
     "name": "stdout",
     "output_type": "stream",
     "text": [
      "Early stopping, best iteration is:\n",
      "[36]\ttraining's binary_logloss: 0.427733\tvalid_1's binary_logloss: 0.422651\n",
      "Training until validation scores don't improve for 1000 rounds\n",
      "Early stopping, best iteration is:\n",
      "[997]\ttraining's binary_logloss: 0.350742\tvalid_1's binary_logloss: 0.42306\n",
      "Training until validation scores don't improve for 1000 rounds\n",
      "Early stopping, best iteration is:\n",
      "[457]\ttraining's binary_logloss: 0.381055\tvalid_1's binary_logloss: 0.398468\n",
      "Training until validation scores don't improve for 1000 rounds\n",
      "Early stopping, best iteration is:\n",
      "[1568]\ttraining's binary_logloss: 0.329431\tvalid_1's binary_logloss: 0.450845\n",
      "Training until validation scores don't improve for 1000 rounds\n",
      "Early stopping, best iteration is:\n",
      "[924]\ttraining's binary_logloss: 0.353471\tvalid_1's binary_logloss: 0.416411\n",
      "Training until validation scores don't improve for 1000 rounds\n"
     ]
    },
    {
     "name": "stderr",
     "output_type": "stream",
     "text": [
      "\u001b[32m[I 2021-10-02 20:10:04,645]\u001b[0m Trial 80 finished with value: 0.8226711560044894 and parameters: {'lambda_l1': 1.2372222178303474, 'lambda_l2': 0.004949241824419122, 'num_leaves': 13, 'feature_fraction': 0.4051685423619936, 'bagging_fraction': 0.8642068119723949, 'bagging_freq': 7, 'min_child_samples': 72, 'max_depth': 2}. Best is trial 64 with value: 0.8260381593714927.\u001b[0m\n"
     ]
    },
    {
     "name": "stdout",
     "output_type": "stream",
     "text": [
      "Early stopping, best iteration is:\n",
      "[40]\ttraining's binary_logloss: 0.42601\tvalid_1's binary_logloss: 0.420454\n",
      "Training until validation scores don't improve for 1000 rounds\n",
      "Early stopping, best iteration is:\n",
      "[839]\ttraining's binary_logloss: 0.355635\tvalid_1's binary_logloss: 0.422227\n",
      "Training until validation scores don't improve for 1000 rounds\n",
      "Early stopping, best iteration is:\n",
      "[787]\ttraining's binary_logloss: 0.362674\tvalid_1's binary_logloss: 0.394396\n",
      "Training until validation scores don't improve for 1000 rounds\n",
      "Early stopping, best iteration is:\n",
      "[794]\ttraining's binary_logloss: 0.351884\tvalid_1's binary_logloss: 0.448966\n",
      "Training until validation scores don't improve for 1000 rounds\n",
      "Early stopping, best iteration is:\n",
      "[934]\ttraining's binary_logloss: 0.350909\tvalid_1's binary_logloss: 0.415047\n",
      "Training until validation scores don't improve for 1000 rounds\n"
     ]
    },
    {
     "name": "stderr",
     "output_type": "stream",
     "text": [
      "\u001b[32m[I 2021-10-02 20:10:07,519]\u001b[0m Trial 81 finished with value: 0.8204264870931538 and parameters: {'lambda_l1': 1.210469775989835, 'lambda_l2': 0.006126923704526115, 'num_leaves': 12, 'feature_fraction': 0.42713572799310245, 'bagging_fraction': 0.8744626924447965, 'bagging_freq': 7, 'min_child_samples': 70, 'max_depth': 2}. Best is trial 64 with value: 0.8260381593714927.\u001b[0m\n"
     ]
    },
    {
     "name": "stdout",
     "output_type": "stream",
     "text": [
      "Early stopping, best iteration is:\n",
      "[84]\ttraining's binary_logloss: 0.408375\tvalid_1's binary_logloss: 0.418612\n",
      "Training until validation scores don't improve for 1000 rounds\n",
      "Early stopping, best iteration is:\n",
      "[39]\ttraining's binary_logloss: 0.42278\tvalid_1's binary_logloss: 0.425389\n",
      "Training until validation scores don't improve for 1000 rounds\n",
      "Early stopping, best iteration is:\n",
      "[450]\ttraining's binary_logloss: 0.360519\tvalid_1's binary_logloss: 0.392279\n",
      "Training until validation scores don't improve for 1000 rounds\n",
      "Early stopping, best iteration is:\n",
      "[227]\ttraining's binary_logloss: 0.371522\tvalid_1's binary_logloss: 0.449046\n",
      "Training until validation scores don't improve for 1000 rounds\n",
      "Early stopping, best iteration is:\n",
      "[444]\ttraining's binary_logloss: 0.35974\tvalid_1's binary_logloss: 0.406234\n",
      "Training until validation scores don't improve for 1000 rounds\n"
     ]
    },
    {
     "name": "stderr",
     "output_type": "stream",
     "text": [
      "\u001b[32m[I 2021-10-02 20:10:09,580]\u001b[0m Trial 82 finished with value: 0.8181818181818182 and parameters: {'lambda_l1': 0.0023057629051233537, 'lambda_l2': 0.01881130613543785, 'num_leaves': 7, 'feature_fraction': 0.48006209884616446, 'bagging_fraction': 0.8397537942721778, 'bagging_freq': 6, 'min_child_samples': 65, 'max_depth': 2}. Best is trial 64 with value: 0.8260381593714927.\u001b[0m\n"
     ]
    },
    {
     "name": "stdout",
     "output_type": "stream",
     "text": [
      "Early stopping, best iteration is:\n",
      "[40]\ttraining's binary_logloss: 0.422562\tvalid_1's binary_logloss: 0.423338\n",
      "Training until validation scores don't improve for 1000 rounds\n",
      "Early stopping, best iteration is:\n",
      "[793]\ttraining's binary_logloss: 0.350196\tvalid_1's binary_logloss: 0.425089\n",
      "Training until validation scores don't improve for 1000 rounds\n",
      "Early stopping, best iteration is:\n",
      "[569]\ttraining's binary_logloss: 0.367938\tvalid_1's binary_logloss: 0.398122\n",
      "Training until validation scores don't improve for 1000 rounds\n",
      "Early stopping, best iteration is:\n",
      "[720]\ttraining's binary_logloss: 0.348906\tvalid_1's binary_logloss: 0.44642\n",
      "Training until validation scores don't improve for 1000 rounds\n",
      "Early stopping, best iteration is:\n",
      "[522]\ttraining's binary_logloss: 0.363928\tvalid_1's binary_logloss: 0.416103\n",
      "Training until validation scores don't improve for 1000 rounds\n"
     ]
    },
    {
     "name": "stderr",
     "output_type": "stream",
     "text": [
      "\u001b[32m[I 2021-10-02 20:10:12,091]\u001b[0m Trial 83 finished with value: 0.8271604938271605 and parameters: {'lambda_l1': 0.6043319259737905, 'lambda_l2': 0.002802289292840519, 'num_leaves': 15, 'feature_fraction': 0.40515811396792195, 'bagging_fraction': 0.8508822113345822, 'bagging_freq': 7, 'min_child_samples': 74, 'max_depth': 2}. Best is trial 83 with value: 0.8271604938271605.\u001b[0m\n"
     ]
    },
    {
     "name": "stdout",
     "output_type": "stream",
     "text": [
      "Early stopping, best iteration is:\n",
      "[40]\ttraining's binary_logloss: 0.427019\tvalid_1's binary_logloss: 0.422544\n",
      "Training until validation scores don't improve for 1000 rounds\n",
      "Early stopping, best iteration is:\n",
      "[1359]\ttraining's binary_logloss: 0.323003\tvalid_1's binary_logloss: 0.420777\n",
      "Training until validation scores don't improve for 1000 rounds\n",
      "Early stopping, best iteration is:\n",
      "[644]\ttraining's binary_logloss: 0.356105\tvalid_1's binary_logloss: 0.396281\n",
      "Training until validation scores don't improve for 1000 rounds\n",
      "Early stopping, best iteration is:\n",
      "[723]\ttraining's binary_logloss: 0.342025\tvalid_1's binary_logloss: 0.443639\n",
      "Training until validation scores don't improve for 1000 rounds\n",
      "Early stopping, best iteration is:\n",
      "[521]\ttraining's binary_logloss: 0.360018\tvalid_1's binary_logloss: 0.415208\n",
      "Training until validation scores don't improve for 1000 rounds\n"
     ]
    },
    {
     "name": "stderr",
     "output_type": "stream",
     "text": [
      "\u001b[32m[I 2021-10-02 20:10:14,592]\u001b[0m Trial 84 finished with value: 0.8271604938271605 and parameters: {'lambda_l1': 0.224593907492361, 'lambda_l2': 0.002265829104998683, 'num_leaves': 20, 'feature_fraction': 0.5935026835622514, 'bagging_fraction': 0.8184023035934413, 'bagging_freq': 7, 'min_child_samples': 80, 'max_depth': 2}. Best is trial 83 with value: 0.8271604938271605.\u001b[0m\n"
     ]
    },
    {
     "name": "stdout",
     "output_type": "stream",
     "text": [
      "Early stopping, best iteration is:\n",
      "[38]\ttraining's binary_logloss: 0.424472\tvalid_1's binary_logloss: 0.418685\n",
      "Training until validation scores don't improve for 1000 rounds\n",
      "Early stopping, best iteration is:\n",
      "[41]\ttraining's binary_logloss: 0.416841\tvalid_1's binary_logloss: 0.423957\n",
      "Training until validation scores don't improve for 1000 rounds\n",
      "Early stopping, best iteration is:\n",
      "[364]\ttraining's binary_logloss: 0.374983\tvalid_1's binary_logloss: 0.395749\n",
      "Training until validation scores don't improve for 1000 rounds\n",
      "Early stopping, best iteration is:\n",
      "[713]\ttraining's binary_logloss: 0.339115\tvalid_1's binary_logloss: 0.450935\n",
      "Training until validation scores don't improve for 1000 rounds\n",
      "Early stopping, best iteration is:\n",
      "[333]\ttraining's binary_logloss: 0.372925\tvalid_1's binary_logloss: 0.415831\n",
      "Training until validation scores don't improve for 1000 rounds\n"
     ]
    },
    {
     "name": "stderr",
     "output_type": "stream",
     "text": [
      "\u001b[32m[I 2021-10-02 20:10:16,341]\u001b[0m Trial 85 finished with value: 0.8114478114478114 and parameters: {'lambda_l1': 0.25953896356471545, 'lambda_l2': 0.009573264165795856, 'num_leaves': 16, 'feature_fraction': 0.5842537750096048, 'bagging_fraction': 0.8951872270215867, 'bagging_freq': 7, 'min_child_samples': 80, 'max_depth': 2}. Best is trial 83 with value: 0.8271604938271605.\u001b[0m\n"
     ]
    },
    {
     "name": "stdout",
     "output_type": "stream",
     "text": [
      "Early stopping, best iteration is:\n",
      "[40]\ttraining's binary_logloss: 0.420603\tvalid_1's binary_logloss: 0.419202\n",
      "Training until validation scores don't improve for 1000 rounds\n",
      "Early stopping, best iteration is:\n",
      "[56]\ttraining's binary_logloss: 0.42032\tvalid_1's binary_logloss: 0.423797\n",
      "Training until validation scores don't improve for 1000 rounds\n",
      "Early stopping, best iteration is:\n",
      "[1652]\ttraining's binary_logloss: 0.356244\tvalid_1's binary_logloss: 0.400626\n",
      "Training until validation scores don't improve for 1000 rounds\n",
      "Early stopping, best iteration is:\n",
      "[929]\ttraining's binary_logloss: 0.362514\tvalid_1's binary_logloss: 0.451495\n",
      "Training until validation scores don't improve for 1000 rounds\n",
      "Early stopping, best iteration is:\n",
      "[1583]\ttraining's binary_logloss: 0.353576\tvalid_1's binary_logloss: 0.42132\n",
      "Training until validation scores don't improve for 1000 rounds\n"
     ]
    },
    {
     "name": "stderr",
     "output_type": "stream",
     "text": [
      "\u001b[32m[I 2021-10-02 20:10:20,122]\u001b[0m Trial 86 finished with value: 0.813692480359147 and parameters: {'lambda_l1': 2.177432481944168, 'lambda_l2': 0.003958573552339018, 'num_leaves': 22, 'feature_fraction': 0.5397794927415396, 'bagging_fraction': 0.8182878964519555, 'bagging_freq': 8, 'min_child_samples': 83, 'max_depth': 2}. Best is trial 83 with value: 0.8271604938271605.\u001b[0m\n"
     ]
    },
    {
     "name": "stdout",
     "output_type": "stream",
     "text": [
      "Early stopping, best iteration is:\n",
      "[45]\ttraining's binary_logloss: 0.424843\tvalid_1's binary_logloss: 0.417119\n",
      "Training until validation scores don't improve for 1000 rounds\n",
      "Early stopping, best iteration is:\n",
      "[45]\ttraining's binary_logloss: 0.414858\tvalid_1's binary_logloss: 0.422029\n",
      "Training until validation scores don't improve for 1000 rounds\n",
      "Early stopping, best iteration is:\n",
      "[581]\ttraining's binary_logloss: 0.360002\tvalid_1's binary_logloss: 0.396405\n",
      "Training until validation scores don't improve for 1000 rounds\n",
      "Early stopping, best iteration is:\n",
      "[715]\ttraining's binary_logloss: 0.341631\tvalid_1's binary_logloss: 0.447564\n",
      "Training until validation scores don't improve for 1000 rounds\n",
      "Early stopping, best iteration is:\n",
      "[246]\ttraining's binary_logloss: 0.380436\tvalid_1's binary_logloss: 0.415947\n",
      "Training until validation scores don't improve for 1000 rounds\n"
     ]
    },
    {
     "name": "stderr",
     "output_type": "stream",
     "text": [
      "\u001b[32m[I 2021-10-02 20:10:22,200]\u001b[0m Trial 87 finished with value: 0.8092031425364759 and parameters: {'lambda_l1': 0.46349252460013, 'lambda_l2': 0.0026812147590312293, 'num_leaves': 19, 'feature_fraction': 0.5173121407600576, 'bagging_fraction': 0.8462446773198198, 'bagging_freq': 7, 'min_child_samples': 76, 'max_depth': 2}. Best is trial 83 with value: 0.8271604938271605.\u001b[0m\n"
     ]
    },
    {
     "name": "stdout",
     "output_type": "stream",
     "text": [
      "Early stopping, best iteration is:\n",
      "[38]\ttraining's binary_logloss: 0.423642\tvalid_1's binary_logloss: 0.422063\n",
      "Training until validation scores don't improve for 1000 rounds\n",
      "Early stopping, best iteration is:\n",
      "[45]\ttraining's binary_logloss: 0.419514\tvalid_1's binary_logloss: 0.425194\n",
      "Training until validation scores don't improve for 1000 rounds\n",
      "Early stopping, best iteration is:\n",
      "[644]\ttraining's binary_logloss: 0.354785\tvalid_1's binary_logloss: 0.394211\n",
      "Training until validation scores don't improve for 1000 rounds\n",
      "Early stopping, best iteration is:\n",
      "[750]\ttraining's binary_logloss: 0.337903\tvalid_1's binary_logloss: 0.447758\n",
      "Training until validation scores don't improve for 1000 rounds\n",
      "Early stopping, best iteration is:\n",
      "[513]\ttraining's binary_logloss: 0.361169\tvalid_1's binary_logloss: 0.417764\n",
      "Training until validation scores don't improve for 1000 rounds\n"
     ]
    },
    {
     "name": "stderr",
     "output_type": "stream",
     "text": [
      "\u001b[32m[I 2021-10-02 20:10:25,094]\u001b[0m Trial 88 finished with value: 0.8125701459034792 and parameters: {'lambda_l1': 0.09302275175610793, 'lambda_l2': 0.0023111565013160975, 'num_leaves': 26, 'feature_fraction': 0.5958113956715261, 'bagging_fraction': 0.7714851982581064, 'bagging_freq': 7, 'min_child_samples': 79, 'max_depth': 2}. Best is trial 83 with value: 0.8271604938271605.\u001b[0m\n"
     ]
    },
    {
     "name": "stdout",
     "output_type": "stream",
     "text": [
      "Early stopping, best iteration is:\n",
      "[38]\ttraining's binary_logloss: 0.426763\tvalid_1's binary_logloss: 0.425067\n",
      "Training until validation scores don't improve for 1000 rounds\n",
      "Early stopping, best iteration is:\n",
      "[565]\ttraining's binary_logloss: 0.355574\tvalid_1's binary_logloss: 0.427641\n",
      "Training until validation scores don't improve for 1000 rounds\n",
      "Early stopping, best iteration is:\n",
      "[645]\ttraining's binary_logloss: 0.356024\tvalid_1's binary_logloss: 0.396126\n",
      "Training until validation scores don't improve for 1000 rounds\n",
      "Early stopping, best iteration is:\n",
      "[478]\ttraining's binary_logloss: 0.355829\tvalid_1's binary_logloss: 0.445182\n",
      "Training until validation scores don't improve for 1000 rounds\n",
      "Early stopping, best iteration is:\n",
      "[665]\ttraining's binary_logloss: 0.351042\tvalid_1's binary_logloss: 0.410081\n",
      "Training until validation scores don't improve for 1000 rounds\n"
     ]
    },
    {
     "name": "stderr",
     "output_type": "stream",
     "text": [
      "\u001b[32m[I 2021-10-02 20:10:27,472]\u001b[0m Trial 89 finished with value: 0.8204264870931538 and parameters: {'lambda_l1': 0.049326255154979765, 'lambda_l2': 0.0010190773840170894, 'num_leaves': 23, 'feature_fraction': 0.4548460407850115, 'bagging_fraction': 0.8811063441763289, 'bagging_freq': 5, 'min_child_samples': 74, 'max_depth': 2}. Best is trial 83 with value: 0.8271604938271605.\u001b[0m\n"
     ]
    },
    {
     "name": "stdout",
     "output_type": "stream",
     "text": [
      "Early stopping, best iteration is:\n",
      "[61]\ttraining's binary_logloss: 0.415109\tvalid_1's binary_logloss: 0.422495\n",
      "Training until validation scores don't improve for 1000 rounds\n",
      "Early stopping, best iteration is:\n",
      "[906]\ttraining's binary_logloss: 0.34498\tvalid_1's binary_logloss: 0.421211\n",
      "Training until validation scores don't improve for 1000 rounds\n",
      "Early stopping, best iteration is:\n",
      "[445]\ttraining's binary_logloss: 0.375398\tvalid_1's binary_logloss: 0.396248\n",
      "Training until validation scores don't improve for 1000 rounds\n",
      "Early stopping, best iteration is:\n",
      "[640]\ttraining's binary_logloss: 0.351743\tvalid_1's binary_logloss: 0.449267\n",
      "Training until validation scores don't improve for 1000 rounds\n",
      "Early stopping, best iteration is:\n",
      "[330]\ttraining's binary_logloss: 0.377687\tvalid_1's binary_logloss: 0.413869\n",
      "Training until validation scores don't improve for 1000 rounds\n"
     ]
    },
    {
     "name": "stderr",
     "output_type": "stream",
     "text": [
      "\u001b[32m[I 2021-10-02 20:10:30,000]\u001b[0m Trial 90 finished with value: 0.8181818181818182 and parameters: {'lambda_l1': 0.6862028219882196, 'lambda_l2': 0.0018323880018066788, 'num_leaves': 20, 'feature_fraction': 0.4356020312439381, 'bagging_fraction': 0.8550542957430614, 'bagging_freq': 8, 'min_child_samples': 71, 'max_depth': 2}. Best is trial 83 with value: 0.8271604938271605.\u001b[0m\n"
     ]
    },
    {
     "name": "stdout",
     "output_type": "stream",
     "text": [
      "Early stopping, best iteration is:\n",
      "[45]\ttraining's binary_logloss: 0.423103\tvalid_1's binary_logloss: 0.422708\n",
      "Training until validation scores don't improve for 1000 rounds\n",
      "Early stopping, best iteration is:\n",
      "[1381]\ttraining's binary_logloss: 0.335903\tvalid_1's binary_logloss: 0.417062\n",
      "Training until validation scores don't improve for 1000 rounds\n",
      "Early stopping, best iteration is:\n",
      "[645]\ttraining's binary_logloss: 0.368507\tvalid_1's binary_logloss: 0.393917\n",
      "Training until validation scores don't improve for 1000 rounds\n",
      "Early stopping, best iteration is:\n",
      "[602]\ttraining's binary_logloss: 0.357814\tvalid_1's binary_logloss: 0.44754\n",
      "Training until validation scores don't improve for 1000 rounds\n",
      "Early stopping, best iteration is:\n",
      "[522]\ttraining's binary_logloss: 0.368692\tvalid_1's binary_logloss: 0.416841\n",
      "Training until validation scores don't improve for 1000 rounds\n"
     ]
    },
    {
     "name": "stderr",
     "output_type": "stream",
     "text": [
      "\u001b[32m[I 2021-10-02 20:10:33,715]\u001b[0m Trial 91 finished with value: 0.8215488215488216 and parameters: {'lambda_l1': 0.24488168462091875, 'lambda_l2': 0.001298233336480859, 'num_leaves': 11, 'feature_fraction': 0.47191239939083107, 'bagging_fraction': 0.8261689615880007, 'bagging_freq': 7, 'min_child_samples': 87, 'max_depth': 2}. Best is trial 83 with value: 0.8271604938271605.\u001b[0m\n"
     ]
    },
    {
     "name": "stdout",
     "output_type": "stream",
     "text": [
      "Early stopping, best iteration is:\n",
      "[46]\ttraining's binary_logloss: 0.426184\tvalid_1's binary_logloss: 0.421511\n",
      "Training until validation scores don't improve for 1000 rounds\n",
      "Early stopping, best iteration is:\n",
      "[799]\ttraining's binary_logloss: 0.331664\tvalid_1's binary_logloss: 0.413402\n",
      "Training until validation scores don't improve for 1000 rounds\n",
      "Early stopping, best iteration is:\n",
      "[542]\ttraining's binary_logloss: 0.354291\tvalid_1's binary_logloss: 0.391005\n",
      "Training until validation scores don't improve for 1000 rounds\n",
      "Early stopping, best iteration is:\n",
      "[353]\ttraining's binary_logloss: 0.358007\tvalid_1's binary_logloss: 0.450401\n",
      "Training until validation scores don't improve for 1000 rounds\n",
      "Early stopping, best iteration is:\n",
      "[295]\ttraining's binary_logloss: 0.368866\tvalid_1's binary_logloss: 0.418597\n",
      "Training until validation scores don't improve for 1000 rounds\n"
     ]
    },
    {
     "name": "stderr",
     "output_type": "stream",
     "text": [
      "\u001b[32m[I 2021-10-02 20:10:36,848]\u001b[0m Trial 92 finished with value: 0.8271604938271605 and parameters: {'lambda_l1': 0.0002235279749137621, 'lambda_l2': 0.03997294233231297, 'num_leaves': 15, 'feature_fraction': 0.40153916604491274, 'bagging_fraction': 0.7980021241517686, 'bagging_freq': 7, 'min_child_samples': 85, 'max_depth': 3}. Best is trial 83 with value: 0.8271604938271605.\u001b[0m\n"
     ]
    },
    {
     "name": "stdout",
     "output_type": "stream",
     "text": [
      "Early stopping, best iteration is:\n",
      "[40]\ttraining's binary_logloss: 0.426543\tvalid_1's binary_logloss: 0.429732\n",
      "Training until validation scores don't improve for 1000 rounds\n",
      "Early stopping, best iteration is:\n",
      "[821]\ttraining's binary_logloss: 0.331553\tvalid_1's binary_logloss: 0.415826\n",
      "Training until validation scores don't improve for 1000 rounds\n",
      "Early stopping, best iteration is:\n",
      "[645]\ttraining's binary_logloss: 0.346152\tvalid_1's binary_logloss: 0.391598\n",
      "Training until validation scores don't improve for 1000 rounds\n",
      "Early stopping, best iteration is:\n",
      "[398]\ttraining's binary_logloss: 0.352786\tvalid_1's binary_logloss: 0.449658\n",
      "Training until validation scores don't improve for 1000 rounds\n",
      "Early stopping, best iteration is:\n",
      "[229]\ttraining's binary_logloss: 0.377004\tvalid_1's binary_logloss: 0.418724\n",
      "Training until validation scores don't improve for 1000 rounds\n"
     ]
    },
    {
     "name": "stderr",
     "output_type": "stream",
     "text": [
      "\u001b[32m[I 2021-10-02 20:10:39,377]\u001b[0m Trial 93 finished with value: 0.8215488215488216 and parameters: {'lambda_l1': 0.00021737052645755118, 'lambda_l2': 0.04407263870281769, 'num_leaves': 16, 'feature_fraction': 0.40406579761605055, 'bagging_fraction': 0.7920719536926591, 'bagging_freq': 7, 'min_child_samples': 85, 'max_depth': 3}. Best is trial 83 with value: 0.8271604938271605.\u001b[0m\n"
     ]
    },
    {
     "name": "stdout",
     "output_type": "stream",
     "text": [
      "Early stopping, best iteration is:\n",
      "[45]\ttraining's binary_logloss: 0.421689\tvalid_1's binary_logloss: 0.427366\n",
      "Training until validation scores don't improve for 1000 rounds\n",
      "Early stopping, best iteration is:\n",
      "[406]\ttraining's binary_logloss: 0.348859\tvalid_1's binary_logloss: 0.414901\n",
      "Training until validation scores don't improve for 1000 rounds\n",
      "Early stopping, best iteration is:\n",
      "[525]\ttraining's binary_logloss: 0.342424\tvalid_1's binary_logloss: 0.399106\n",
      "Training until validation scores don't improve for 1000 rounds\n",
      "Early stopping, best iteration is:\n",
      "[235]\ttraining's binary_logloss: 0.359584\tvalid_1's binary_logloss: 0.454453\n",
      "Training until validation scores don't improve for 1000 rounds\n",
      "Early stopping, best iteration is:\n",
      "[244]\ttraining's binary_logloss: 0.366191\tvalid_1's binary_logloss: 0.424079\n",
      "Training until validation scores don't improve for 1000 rounds\n"
     ]
    },
    {
     "name": "stderr",
     "output_type": "stream",
     "text": [
      "\u001b[32m[I 2021-10-02 20:10:41,747]\u001b[0m Trial 94 finished with value: 0.8092031425364759 and parameters: {'lambda_l1': 5.964811024142487e-05, 'lambda_l2': 0.0824047086719883, 'num_leaves': 14, 'feature_fraction': 0.8791444554536215, 'bagging_fraction': 0.8017891713917388, 'bagging_freq': 7, 'min_child_samples': 93, 'max_depth': 3}. Best is trial 83 with value: 0.8271604938271605.\u001b[0m\n"
     ]
    },
    {
     "name": "stdout",
     "output_type": "stream",
     "text": [
      "Early stopping, best iteration is:\n",
      "[38]\ttraining's binary_logloss: 0.423317\tvalid_1's binary_logloss: 0.427616\n",
      "Training until validation scores don't improve for 1000 rounds\n",
      "Early stopping, best iteration is:\n",
      "[265]\ttraining's binary_logloss: 0.358717\tvalid_1's binary_logloss: 0.424301\n",
      "Training until validation scores don't improve for 1000 rounds\n",
      "Early stopping, best iteration is:\n",
      "[450]\ttraining's binary_logloss: 0.343274\tvalid_1's binary_logloss: 0.38747\n",
      "Training until validation scores don't improve for 1000 rounds\n",
      "Early stopping, best iteration is:\n",
      "[231]\ttraining's binary_logloss: 0.358163\tvalid_1's binary_logloss: 0.456244\n",
      "Training until validation scores don't improve for 1000 rounds\n",
      "Early stopping, best iteration is:\n",
      "[192]\ttraining's binary_logloss: 0.365913\tvalid_1's binary_logloss: 0.41862\n",
      "Training until validation scores don't improve for 1000 rounds\n"
     ]
    },
    {
     "name": "stderr",
     "output_type": "stream",
     "text": [
      "\u001b[32m[I 2021-10-02 20:10:46,402]\u001b[0m Trial 95 finished with value: 0.8159371492704826 and parameters: {'lambda_l1': 0.0009555655737473334, 'lambda_l2': 0.003975024593275043, 'num_leaves': 17, 'feature_fraction': 0.4134407470879952, 'bagging_fraction': 0.8607127059568339, 'bagging_freq': 6, 'min_child_samples': 81, 'max_depth': 6}. Best is trial 83 with value: 0.8271604938271605.\u001b[0m\n"
     ]
    },
    {
     "name": "stdout",
     "output_type": "stream",
     "text": [
      "Early stopping, best iteration is:\n",
      "[32]\ttraining's binary_logloss: 0.427073\tvalid_1's binary_logloss: 0.426005\n",
      "Training until validation scores don't improve for 1000 rounds\n",
      "Early stopping, best iteration is:\n",
      "[928]\ttraining's binary_logloss: 0.346638\tvalid_1's binary_logloss: 0.419527\n",
      "Training until validation scores don't improve for 1000 rounds\n",
      "Early stopping, best iteration is:\n",
      "[623]\ttraining's binary_logloss: 0.364587\tvalid_1's binary_logloss: 0.400326\n",
      "Training until validation scores don't improve for 1000 rounds\n",
      "Early stopping, best iteration is:\n",
      "[408]\ttraining's binary_logloss: 0.367435\tvalid_1's binary_logloss: 0.449773\n",
      "Training until validation scores don't improve for 1000 rounds\n",
      "Early stopping, best iteration is:\n",
      "[598]\ttraining's binary_logloss: 0.362655\tvalid_1's binary_logloss: 0.418037\n",
      "Training until validation scores don't improve for 1000 rounds\n"
     ]
    },
    {
     "name": "stderr",
     "output_type": "stream",
     "text": [
      "\u001b[32m[I 2021-10-02 20:10:49,738]\u001b[0m Trial 96 finished with value: 0.8170594837261503 and parameters: {'lambda_l1': 0.34491537983388865, 'lambda_l2': 0.042297334649578085, 'num_leaves': 9, 'feature_fraction': 0.5024805376964301, 'bagging_fraction': 0.8318916975589502, 'bagging_freq': 8, 'min_child_samples': 90, 'max_depth': 2}. Best is trial 83 with value: 0.8271604938271605.\u001b[0m\n"
     ]
    },
    {
     "name": "stdout",
     "output_type": "stream",
     "text": [
      "Early stopping, best iteration is:\n",
      "[40]\ttraining's binary_logloss: 0.426473\tvalid_1's binary_logloss: 0.4213\n",
      "Training until validation scores don't improve for 1000 rounds\n",
      "Early stopping, best iteration is:\n",
      "[994]\ttraining's binary_logloss: 0.319597\tvalid_1's binary_logloss: 0.414611\n",
      "Training until validation scores don't improve for 1000 rounds\n",
      "Early stopping, best iteration is:\n",
      "[352]\ttraining's binary_logloss: 0.363801\tvalid_1's binary_logloss: 0.395063\n",
      "Training until validation scores don't improve for 1000 rounds\n",
      "Early stopping, best iteration is:\n",
      "[273]\ttraining's binary_logloss: 0.358038\tvalid_1's binary_logloss: 0.456968\n",
      "Training until validation scores don't improve for 1000 rounds\n",
      "Early stopping, best iteration is:\n",
      "[83]\ttraining's binary_logloss: 0.403145\tvalid_1's binary_logloss: 0.423822\n",
      "Training until validation scores don't improve for 1000 rounds\n"
     ]
    },
    {
     "name": "stderr",
     "output_type": "stream",
     "text": [
      "\u001b[32m[I 2021-10-02 20:10:53,472]\u001b[0m Trial 97 finished with value: 0.8226711560044894 and parameters: {'lambda_l1': 1.7598590899581903e-05, 'lambda_l2': 0.02743246532615013, 'num_leaves': 14, 'feature_fraction': 0.5586396321999858, 'bagging_fraction': 0.7501396264213614, 'bagging_freq': 7, 'min_child_samples': 84, 'max_depth': 3}. Best is trial 83 with value: 0.8271604938271605.\u001b[0m\n"
     ]
    },
    {
     "name": "stdout",
     "output_type": "stream",
     "text": [
      "Early stopping, best iteration is:\n",
      "[38]\ttraining's binary_logloss: 0.421855\tvalid_1's binary_logloss: 0.429076\n",
      "Training until validation scores don't improve for 1000 rounds\n",
      "Early stopping, best iteration is:\n",
      "[707]\ttraining's binary_logloss: 0.342242\tvalid_1's binary_logloss: 0.424481\n",
      "Training until validation scores don't improve for 1000 rounds\n",
      "Early stopping, best iteration is:\n",
      "[446]\ttraining's binary_logloss: 0.363941\tvalid_1's binary_logloss: 0.39329\n",
      "Training until validation scores don't improve for 1000 rounds\n",
      "Early stopping, best iteration is:\n",
      "[478]\ttraining's binary_logloss: 0.35264\tvalid_1's binary_logloss: 0.442948\n",
      "Training until validation scores don't improve for 1000 rounds\n",
      "Early stopping, best iteration is:\n",
      "[444]\ttraining's binary_logloss: 0.360324\tvalid_1's binary_logloss: 0.407272\n",
      "Training until validation scores don't improve for 1000 rounds\n"
     ]
    },
    {
     "name": "stderr",
     "output_type": "stream",
     "text": [
      "\u001b[32m[I 2021-10-02 20:10:56,048]\u001b[0m Trial 98 finished with value: 0.8215488215488216 and parameters: {'lambda_l1': 0.0005761619417749397, 'lambda_l2': 0.0006495909108405914, 'num_leaves': 19, 'feature_fraction': 0.4935433427693372, 'bagging_fraction': 0.7734503899412688, 'bagging_freq': 6, 'min_child_samples': 66, 'max_depth': 2}. Best is trial 83 with value: 0.8271604938271605.\u001b[0m\n"
     ]
    },
    {
     "name": "stdout",
     "output_type": "stream",
     "text": [
      "Early stopping, best iteration is:\n",
      "[39]\ttraining's binary_logloss: 0.425112\tvalid_1's binary_logloss: 0.4223\n",
      "Training until validation scores don't improve for 1000 rounds\n",
      "Early stopping, best iteration is:\n",
      "[402]\ttraining's binary_logloss: 0.347946\tvalid_1's binary_logloss: 0.418355\n",
      "Training until validation scores don't improve for 1000 rounds\n",
      "Early stopping, best iteration is:\n",
      "[466]\ttraining's binary_logloss: 0.343894\tvalid_1's binary_logloss: 0.386765\n",
      "Training until validation scores don't improve for 1000 rounds\n",
      "Early stopping, best iteration is:\n",
      "[471]\ttraining's binary_logloss: 0.333902\tvalid_1's binary_logloss: 0.451233\n",
      "Training until validation scores don't improve for 1000 rounds\n",
      "Early stopping, best iteration is:\n",
      "[444]\ttraining's binary_logloss: 0.340776\tvalid_1's binary_logloss: 0.411588\n",
      "Training until validation scores don't improve for 1000 rounds\n"
     ]
    },
    {
     "name": "stderr",
     "output_type": "stream",
     "text": [
      "\u001b[32m[I 2021-10-02 20:10:59,401]\u001b[0m Trial 99 finished with value: 0.8260381593714927 and parameters: {'lambda_l1': 0.00014732329310346827, 'lambda_l2': 0.008944795514500963, 'num_leaves': 10, 'feature_fraction': 0.45366197239162337, 'bagging_fraction': 0.816636595602557, 'bagging_freq': 6, 'min_child_samples': 71, 'max_depth': 3}. Best is trial 83 with value: 0.8271604938271605.\u001b[0m\n"
     ]
    },
    {
     "name": "stdout",
     "output_type": "stream",
     "text": [
      "Early stopping, best iteration is:\n",
      "[32]\ttraining's binary_logloss: 0.425942\tvalid_1's binary_logloss: 0.426207\n",
      "Number of finished trials: 100\n",
      "Best trial:\n",
      "  Value: 0.8271604938271605\n",
      "  Params: \n",
      "    lambda_l1: 0.6043319259737905\n",
      "    lambda_l2: 0.002802289292840519\n",
      "    num_leaves: 15\n",
      "    feature_fraction: 0.40515811396792195\n",
      "    bagging_fraction: 0.8508822113345822\n",
      "    bagging_freq: 7\n",
      "    min_child_samples: 74\n",
      "    max_depth: 2\n",
      "**************************************************\n",
      "Exporting best models\n",
      "**************************************************\n",
      "Training until validation scores don't improve for 1001 rounds\n",
      "Early stopping, best iteration is:\n",
      "[793]\ttraining's binary_logloss: 0.350196\tvalid_1's binary_logloss: 0.425089\n",
      "Training until validation scores don't improve for 1001 rounds\n",
      "Early stopping, best iteration is:\n",
      "[569]\ttraining's binary_logloss: 0.367938\tvalid_1's binary_logloss: 0.398122\n",
      "Training until validation scores don't improve for 1001 rounds\n",
      "Early stopping, best iteration is:\n",
      "[720]\ttraining's binary_logloss: 0.348906\tvalid_1's binary_logloss: 0.44642\n",
      "Training until validation scores don't improve for 1001 rounds\n",
      "Early stopping, best iteration is:\n",
      "[522]\ttraining's binary_logloss: 0.363928\tvalid_1's binary_logloss: 0.416103\n",
      "Training until validation scores don't improve for 1001 rounds\n",
      "Early stopping, best iteration is:\n",
      "[40]\ttraining's binary_logloss: 0.427019\tvalid_1's binary_logloss: 0.422544\n"
     ]
    }
   ],
   "source": [
    "optuna_lgb() #0.8338945005611672(5 fold)  0.8451178451178452(10 fold)"
   ]
  },
  {
   "cell_type": "markdown",
   "metadata": {},
   "source": [
    "## XGBoost"
   ]
  },
  {
   "cell_type": "code",
   "execution_count": 46,
   "metadata": {},
   "outputs": [
    {
     "name": "stderr",
     "output_type": "stream",
     "text": [
      "\u001b[32m[I 2021-10-02 20:11:03,624]\u001b[0m A new study created in memory with name: no-name-2aee924a-86d7-41db-86c7-4d3108934966\u001b[0m\n"
     ]
    },
    {
     "name": "stdout",
     "output_type": "stream",
     "text": [
      "[0]\tvalidation-auc:0.50000\n",
      "[1]\tvalidation-auc:0.50000\n",
      "[2]\tvalidation-auc:0.50000\n",
      "[3]\tvalidation-auc:0.50000\n",
      "[4]\tvalidation-auc:0.50000\n",
      "[5]\tvalidation-auc:0.50000\n",
      "[6]\tvalidation-auc:0.77582\n",
      "[7]\tvalidation-auc:0.77582\n",
      "[8]\tvalidation-auc:0.77582\n",
      "[9]\tvalidation-auc:0.77582\n",
      "[0]\tvalidation-auc:0.50000\n",
      "[1]\tvalidation-auc:0.50000\n",
      "[2]\tvalidation-auc:0.50000\n",
      "[3]\tvalidation-auc:0.50000\n",
      "[4]\tvalidation-auc:0.50000\n",
      "[5]\tvalidation-auc:0.74799\n",
      "[6]\tvalidation-auc:0.74799\n",
      "[7]\tvalidation-auc:0.74799\n",
      "[8]\tvalidation-auc:0.74799\n",
      "[9]\tvalidation-auc:0.74799\n",
      "[0]\tvalidation-auc:0.50000\n",
      "[1]\tvalidation-auc:0.50000\n",
      "[2]\tvalidation-auc:0.50000\n",
      "[3]\tvalidation-auc:0.50000\n",
      "[4]\tvalidation-auc:0.50000\n",
      "[5]\tvalidation-auc:0.50000\n",
      "[6]\tvalidation-auc:0.75468\n",
      "[7]\tvalidation-auc:0.75468\n",
      "[8]\tvalidation-auc:0.75468\n",
      "[9]\tvalidation-auc:0.75468\n",
      "[0]\tvalidation-auc:0.50000\n",
      "[1]\tvalidation-auc:0.50000\n",
      "[2]\tvalidation-auc:0.50000\n",
      "[3]\tvalidation-auc:0.50000\n",
      "[4]\tvalidation-auc:0.75013\n",
      "[5]\tvalidation-auc:0.75013\n",
      "[6]\tvalidation-auc:0.75013\n",
      "[7]\tvalidation-auc:0.75013\n",
      "[8]\tvalidation-auc:0.75013\n",
      "[9]\tvalidation-auc:0.75013\n",
      "[0]\tvalidation-auc:0.50000\n",
      "[1]\tvalidation-auc:0.50000\n",
      "[2]\tvalidation-auc:0.50000\n",
      "[3]\tvalidation-auc:0.50000\n",
      "[4]\tvalidation-auc:0.50000\n",
      "[5]\tvalidation-auc:0.50000\n",
      "[6]\tvalidation-auc:0.80754\n",
      "[7]\tvalidation-auc:0.80754\n",
      "[8]\tvalidation-auc:0.80754\n",
      "[9]\tvalidation-auc:0.80754\n"
     ]
    },
    {
     "name": "stderr",
     "output_type": "stream",
     "text": [
      "\u001b[32m[I 2021-10-02 20:11:03,895]\u001b[0m Trial 0 finished with value: 0.8033707865168539 and parameters: {'booster': 'dart', 'lambda': 0.0002570549706052807, 'alpha': 0.02030012135188256, 'max_depth': 1, 'eta': 1.7764453527041365e-08, 'gamma': 0.007775901187686644, 'grow_policy': 'lossguide', 'sample_type': 'uniform', 'normalize_type': 'tree', 'rate_drop': 0.0002613272964360827, 'skip_drop': 0.0016512664981552646}. Best is trial 0 with value: 0.8033707865168539.\u001b[0m\n"
     ]
    },
    {
     "name": "stdout",
     "output_type": "stream",
     "text": [
      "[0]\tvalidation-auc:0.84908\n",
      "[1]\tvalidation-auc:0.84908\n",
      "[2]\tvalidation-auc:0.84756\n",
      "[3]\tvalidation-auc:0.84914\n",
      "[4]\tvalidation-auc:0.84862\n",
      "[5]\tvalidation-auc:0.84578\n",
      "[6]\tvalidation-auc:0.84223\n",
      "[7]\tvalidation-auc:0.84249\n",
      "[8]\tvalidation-auc:0.84684\n",
      "[9]\tvalidation-auc:0.84618\n",
      "[0]\tvalidation-auc:0.83315\n",
      "[1]\tvalidation-auc:0.84626\n",
      "[2]\tvalidation-auc:0.84318\n",
      "[3]\tvalidation-auc:0.84211\n",
      "[4]\tvalidation-auc:0.84158\n",
      "[5]\tvalidation-auc:0.84318\n",
      "[6]\tvalidation-auc:0.84332\n",
      "[7]\tvalidation-auc:0.84291\n",
      "[8]\tvalidation-auc:0.84278\n",
      "[9]\tvalidation-auc:0.84265\n",
      "[0]\tvalidation-auc:0.81544\n",
      "[1]\tvalidation-auc:0.81457\n",
      "[2]\tvalidation-auc:0.81771\n",
      "[3]\tvalidation-auc:0.81691\n",
      "[4]\tvalidation-auc:0.81691\n",
      "[5]\tvalidation-auc:0.81350\n",
      "[6]\tvalidation-auc:0.81310\n",
      "[7]\tvalidation-auc:0.81143\n",
      "[8]\tvalidation-auc:0.81290\n",
      "[9]\tvalidation-auc:0.81370\n",
      "[0]\tvalidation-auc:0.84432\n",
      "[1]\tvalidation-auc:0.84057\n",
      "[2]\tvalidation-auc:0.82640\n",
      "[3]\tvalidation-auc:0.82447\n",
      "[4]\tvalidation-auc:0.83382\n",
      "[5]\tvalidation-auc:0.83315\n",
      "[6]\tvalidation-auc:0.83422\n",
      "[7]\tvalidation-auc:0.82620\n",
      "[8]\tvalidation-auc:0.82634\n",
      "[9]\tvalidation-auc:0.82594\n",
      "[0]\tvalidation-auc:0.85035\n",
      "[1]\tvalidation-auc:0.85687\n",
      "[2]\tvalidation-auc:0.86013\n",
      "[3]\tvalidation-auc:0.85906\n",
      "[4]\tvalidation-auc:0.86066\n",
      "[5]\tvalidation-auc:0.85919\n",
      "[6]\tvalidation-auc:0.85919\n",
      "[7]\tvalidation-auc:0.85879\n",
      "[8]\tvalidation-auc:0.86059\n",
      "[9]\tvalidation-auc:0.85786\n"
     ]
    },
    {
     "name": "stderr",
     "output_type": "stream",
     "text": [
      "\u001b[32m[I 2021-10-02 20:11:04,332]\u001b[0m Trial 1 finished with value: 0.8146067415730337 and parameters: {'booster': 'dart', 'lambda': 8.437116712211345e-06, 'alpha': 0.00047727449067108663, 'max_depth': 9, 'eta': 0.010950398930002736, 'gamma': 1.0901304038393135e-08, 'grow_policy': 'lossguide', 'sample_type': 'weighted', 'normalize_type': 'tree', 'rate_drop': 0.002255729522844026, 'skip_drop': 4.884696429130731e-07}. Best is trial 1 with value: 0.8146067415730337.\u001b[0m\n"
     ]
    },
    {
     "name": "stdout",
     "output_type": "stream",
     "text": [
      "[0]\tvalidation-auc:0.85237\n",
      "[1]\tvalidation-auc:0.85599\n",
      "[2]\tvalidation-auc:0.87576\n",
      "[3]\tvalidation-auc:0.84585\n",
      "[4]\tvalidation-auc:0.84288\n",
      "[5]\tvalidation-auc:0.85171\n",
      "[6]\tvalidation-auc:0.84723\n",
      "[7]\tvalidation-auc:0.83432\n",
      "[8]\tvalidation-auc:0.83459\n",
      "[9]\tvalidation-auc:0.82767\n",
      "[0]\tvalidation-auc:0.84098\n",
      "[1]\tvalidation-auc:0.85267\n",
      "[2]\tvalidation-auc:0.85682\n",
      "[3]\tvalidation-auc:0.86076\n",
      "[4]\tvalidation-auc:0.87119\n",
      "[5]\tvalidation-auc:0.86912\n",
      "[6]\tvalidation-auc:0.86270\n",
      "[7]\tvalidation-auc:0.87233\n",
      "[8]\tvalidation-auc:0.86584\n",
      "[9]\tvalidation-auc:0.86130\n",
      "[0]\tvalidation-auc:0.82059\n",
      "[1]\tvalidation-auc:0.81624\n",
      "[2]\tvalidation-auc:0.80862\n",
      "[3]\tvalidation-auc:0.82326\n",
      "[4]\tvalidation-auc:0.82888\n",
      "[5]\tvalidation-auc:0.82380\n",
      "[6]\tvalidation-auc:0.81932\n",
      "[7]\tvalidation-auc:0.83068\n",
      "[8]\tvalidation-auc:0.83850\n",
      "[9]\tvalidation-auc:0.83429\n",
      "[0]\tvalidation-auc:0.85227\n",
      "[1]\tvalidation-auc:0.84459\n",
      "[2]\tvalidation-auc:0.86410\n",
      "[3]\tvalidation-auc:0.85682\n",
      "[4]\tvalidation-auc:0.85274\n",
      "[5]\tvalidation-auc:0.84612\n",
      "[6]\tvalidation-auc:0.84773\n",
      "[7]\tvalidation-auc:0.84933\n",
      "[8]\tvalidation-auc:0.84452\n",
      "[9]\tvalidation-auc:0.83937\n",
      "[0]\tvalidation-auc:0.85069\n",
      "[1]\tvalidation-auc:0.85235\n",
      "[2]\tvalidation-auc:0.87249\n",
      "[3]\tvalidation-auc:0.86305\n",
      "[4]\tvalidation-auc:0.85733\n",
      "[5]\tvalidation-auc:0.85294\n",
      "[6]\tvalidation-auc:0.86431\n",
      "[7]\tvalidation-auc:0.84324\n",
      "[8]\tvalidation-auc:0.84803\n",
      "[9]\tvalidation-auc:0.84995\n"
     ]
    },
    {
     "name": "stderr",
     "output_type": "stream",
     "text": [
      "\u001b[32m[I 2021-10-02 20:11:04,634]\u001b[0m Trial 2 finished with value: 0.8258426966292135 and parameters: {'booster': 'gbtree', 'lambda': 2.444172206153505e-06, 'alpha': 0.00017599610151396145, 'max_depth': 7, 'eta': 0.9208281074569481, 'gamma': 3.815095613460284e-06, 'grow_policy': 'lossguide'}. Best is trial 2 with value: 0.8258426966292135.\u001b[0m\n"
     ]
    },
    {
     "name": "stdout",
     "output_type": "stream",
     "text": [
      "[0]\tvalidation-auc:0.84018\n",
      "[1]\tvalidation-auc:0.82464\n",
      "[2]\tvalidation-auc:0.83320\n",
      "[3]\tvalidation-auc:0.84163\n",
      "[4]\tvalidation-auc:0.85191\n",
      "[5]\tvalidation-auc:0.85599\n",
      "[6]\tvalidation-auc:0.86258\n",
      "[7]\tvalidation-auc:0.86285\n",
      "[8]\tvalidation-auc:0.86271\n",
      "[9]\tvalidation-auc:0.86126\n",
      "[0]\tvalidation-auc:0.84465\n",
      "[1]\tvalidation-auc:0.82580\n",
      "[2]\tvalidation-auc:0.82259\n",
      "[3]\tvalidation-auc:0.83997\n",
      "[4]\tvalidation-auc:0.84586\n",
      "[5]\tvalidation-auc:0.84652\n",
      "[6]\tvalidation-auc:0.84612\n",
      "[7]\tvalidation-auc:0.84505\n",
      "[8]\tvalidation-auc:0.84452\n",
      "[9]\tvalidation-auc:0.84479\n",
      "[0]\tvalidation-auc:0.81190\n",
      "[1]\tvalidation-auc:0.77072\n",
      "[2]\tvalidation-auc:0.80094\n",
      "[3]\tvalidation-auc:0.81136\n",
      "[4]\tvalidation-auc:0.80829\n",
      "[5]\tvalidation-auc:0.81270\n",
      "[6]\tvalidation-auc:0.81257\n",
      "[7]\tvalidation-auc:0.81711\n",
      "[8]\tvalidation-auc:0.81992\n",
      "[9]\tvalidation-auc:0.82313\n",
      "[0]\tvalidation-auc:0.82647\n",
      "[1]\tvalidation-auc:0.80909\n",
      "[2]\tvalidation-auc:0.81631\n",
      "[3]\tvalidation-auc:0.82300\n",
      "[4]\tvalidation-auc:0.82393\n",
      "[5]\tvalidation-auc:0.82714\n",
      "[6]\tvalidation-auc:0.82861\n",
      "[7]\tvalidation-auc:0.83061\n",
      "[8]\tvalidation-auc:0.83102\n",
      "[9]\tvalidation-auc:0.83128\n",
      "[0]\tvalidation-auc:0.79797\n",
      "[1]\tvalidation-auc:0.82349\n",
      "[2]\tvalidation-auc:0.87495\n",
      "[3]\tvalidation-auc:0.87787\n",
      "[4]\tvalidation-auc:0.87787\n",
      "[5]\tvalidation-auc:0.88412\n",
      "[6]\tvalidation-auc:0.88067\n",
      "[7]\tvalidation-auc:0.87854\n",
      "[8]\tvalidation-auc:0.87615\n",
      "[9]\tvalidation-auc:0.87694\n"
     ]
    },
    {
     "name": "stderr",
     "output_type": "stream",
     "text": [
      "\u001b[32m[I 2021-10-02 20:11:04,797]\u001b[0m Trial 3 finished with value: 0.8089887640449438 and parameters: {'booster': 'gblinear', 'lambda': 0.0011972603286767385, 'alpha': 0.0010786615804701362}. Best is trial 2 with value: 0.8258426966292135.\u001b[0m\n"
     ]
    },
    {
     "name": "stdout",
     "output_type": "stream",
     "text": [
      "[0]\tvalidation-auc:0.77582\n",
      "[1]\tvalidation-auc:0.77582\n",
      "[2]\tvalidation-auc:0.77582\n",
      "[3]\tvalidation-auc:0.77582\n",
      "[4]\tvalidation-auc:0.77582\n",
      "[5]\tvalidation-auc:0.77582\n",
      "[6]\tvalidation-auc:0.77582\n",
      "[7]\tvalidation-auc:0.77582\n",
      "[8]\tvalidation-auc:0.77582\n",
      "[9]\tvalidation-auc:0.77582\n",
      "[0]\tvalidation-auc:0.74799\n",
      "[1]\tvalidation-auc:0.74799\n",
      "[2]\tvalidation-auc:0.74799\n",
      "[3]\tvalidation-auc:0.74799\n",
      "[4]\tvalidation-auc:0.74799\n",
      "[5]\tvalidation-auc:0.74799\n",
      "[6]\tvalidation-auc:0.74799\n",
      "[7]\tvalidation-auc:0.74799\n",
      "[8]\tvalidation-auc:0.74799\n",
      "[9]\tvalidation-auc:0.74799\n",
      "[0]\tvalidation-auc:0.75468\n",
      "[1]\tvalidation-auc:0.75468\n",
      "[2]\tvalidation-auc:0.75468\n",
      "[3]\tvalidation-auc:0.75468\n",
      "[4]\tvalidation-auc:0.75468\n",
      "[5]\tvalidation-auc:0.75468\n",
      "[6]\tvalidation-auc:0.75468\n",
      "[7]\tvalidation-auc:0.75468\n",
      "[8]\tvalidation-auc:0.75468\n",
      "[9]\tvalidation-auc:0.75468\n",
      "[0]\tvalidation-auc:0.75013\n",
      "[1]\tvalidation-auc:0.75013\n",
      "[2]\tvalidation-auc:0.75013\n",
      "[3]\tvalidation-auc:0.75013\n",
      "[4]\tvalidation-auc:0.75013\n",
      "[5]\tvalidation-auc:0.75013\n",
      "[6]\tvalidation-auc:0.75013\n",
      "[7]\tvalidation-auc:0.75013\n",
      "[8]\tvalidation-auc:0.75013\n",
      "[9]\tvalidation-auc:0.75013\n",
      "[0]\tvalidation-auc:0.80754\n",
      "[1]\tvalidation-auc:0.80754\n",
      "[2]\tvalidation-auc:0.80754\n",
      "[3]\tvalidation-auc:0.80754\n",
      "[4]\tvalidation-auc:0.80754\n",
      "[5]\tvalidation-auc:0.80754\n",
      "[6]\tvalidation-auc:0.80754\n",
      "[7]\tvalidation-auc:0.80754\n",
      "[8]\tvalidation-auc:0.80754\n",
      "[9]\tvalidation-auc:0.80754\n"
     ]
    },
    {
     "name": "stderr",
     "output_type": "stream",
     "text": [
      "\u001b[32m[I 2021-10-02 20:11:05,093]\u001b[0m Trial 4 finished with value: 0.8033707865168539 and parameters: {'booster': 'dart', 'lambda': 0.009121404181343632, 'alpha': 5.95481675677828e-07, 'max_depth': 1, 'eta': 5.459929201648885e-07, 'gamma': 4.597034257607363e-05, 'grow_policy': 'depthwise', 'sample_type': 'uniform', 'normalize_type': 'forest', 'rate_drop': 0.0015109625222124088, 'skip_drop': 0.22052571859830877}. Best is trial 2 with value: 0.8258426966292135.\u001b[0m\n"
     ]
    },
    {
     "name": "stdout",
     "output_type": "stream",
     "text": [
      "[0]\tvalidation-auc:0.77582\n",
      "[1]\tvalidation-auc:0.77582\n",
      "[2]\tvalidation-auc:0.77582\n",
      "[3]\tvalidation-auc:0.77582\n",
      "[4]\tvalidation-auc:0.77582\n"
     ]
    },
    {
     "name": "stderr",
     "output_type": "stream",
     "text": [
      "\u001b[32m[I 2021-10-02 20:11:05,127]\u001b[0m Trial 5 pruned. Trial was pruned at iteration 5.\u001b[0m\n"
     ]
    },
    {
     "name": "stdout",
     "output_type": "stream",
     "text": [
      "[0]\tvalidation-auc:0.81897\n",
      "[1]\tvalidation-auc:0.83136\n",
      "[2]\tvalidation-auc:0.83057\n",
      "[3]\tvalidation-auc:0.82925\n",
      "[4]\tvalidation-auc:0.82820\n",
      "[5]\tvalidation-auc:0.82609\n"
     ]
    },
    {
     "name": "stderr",
     "output_type": "stream",
     "text": [
      "\u001b[32m[I 2021-10-02 20:11:05,156]\u001b[0m Trial 6 pruned. Trial was pruned at iteration 5.\u001b[0m\n"
     ]
    },
    {
     "name": "stdout",
     "output_type": "stream",
     "text": [
      "[0]\tvalidation-auc:0.87115\n",
      "[1]\tvalidation-auc:0.86509\n",
      "[2]\tvalidation-auc:0.86884\n",
      "[3]\tvalidation-auc:0.86746\n",
      "[4]\tvalidation-auc:0.86871\n",
      "[5]\tvalidation-auc:0.86509\n",
      "[6]\tvalidation-auc:0.86891\n",
      "[7]\tvalidation-auc:0.87016\n",
      "[8]\tvalidation-auc:0.86759\n",
      "[9]\tvalidation-auc:0.87082\n",
      "[0]\tvalidation-auc:0.86417\n",
      "[1]\tvalidation-auc:0.86437\n",
      "[2]\tvalidation-auc:0.86471\n",
      "[3]\tvalidation-auc:0.86417\n",
      "[4]\tvalidation-auc:0.86471\n",
      "[5]\tvalidation-auc:0.86471\n",
      "[6]\tvalidation-auc:0.86417\n",
      "[7]\tvalidation-auc:0.86417\n",
      "[8]\tvalidation-auc:0.86651\n",
      "[9]\tvalidation-auc:0.86417\n",
      "[0]\tvalidation-auc:0.85481\n",
      "[1]\tvalidation-auc:0.85341\n",
      "[2]\tvalidation-auc:0.85374\n",
      "[3]\tvalidation-auc:0.85341\n",
      "[4]\tvalidation-auc:0.85348\n",
      "[5]\tvalidation-auc:0.85341\n",
      "[6]\tvalidation-auc:0.85348\n",
      "[7]\tvalidation-auc:0.85341\n",
      "[8]\tvalidation-auc:0.85348\n",
      "[9]\tvalidation-auc:0.85341\n",
      "[0]\tvalidation-auc:0.85140\n",
      "[1]\tvalidation-auc:0.85140\n",
      "[2]\tvalidation-auc:0.85140\n",
      "[3]\tvalidation-auc:0.85140\n",
      "[4]\tvalidation-auc:0.85140\n",
      "[5]\tvalidation-auc:0.85140\n",
      "[6]\tvalidation-auc:0.85140\n",
      "[7]\tvalidation-auc:0.85140\n",
      "[8]\tvalidation-auc:0.85140\n",
      "[9]\tvalidation-auc:0.85140\n",
      "[0]\tvalidation-auc:0.83859\n",
      "[1]\tvalidation-auc:0.83845\n",
      "[2]\tvalidation-auc:0.83845\n",
      "[3]\tvalidation-auc:0.83845\n",
      "[4]\tvalidation-auc:0.83845\n",
      "[5]\tvalidation-auc:0.83845\n",
      "[6]\tvalidation-auc:0.83845\n",
      "[7]\tvalidation-auc:0.83845\n",
      "[8]\tvalidation-auc:0.84264\n",
      "[9]\tvalidation-auc:0.83845\n"
     ]
    },
    {
     "name": "stderr",
     "output_type": "stream",
     "text": [
      "\u001b[32m[I 2021-10-02 20:11:05,526]\u001b[0m Trial 7 finished with value: 0.797752808988764 and parameters: {'booster': 'dart', 'lambda': 1.3413510908162393e-06, 'alpha': 5.398697760044662e-05, 'max_depth': 5, 'eta': 2.9133286556643727e-05, 'gamma': 3.5355127830729965e-05, 'grow_policy': 'lossguide', 'sample_type': 'weighted', 'normalize_type': 'tree', 'rate_drop': 8.223310512748443e-05, 'skip_drop': 3.302908696077501e-08}. Best is trial 2 with value: 0.8258426966292135.\u001b[0m\n"
     ]
    },
    {
     "name": "stdout",
     "output_type": "stream",
     "text": [
      "[0]\tvalidation-auc:0.84084\n",
      "[1]\tvalidation-auc:0.85448\n",
      "[2]\tvalidation-auc:0.85448\n",
      "[3]\tvalidation-auc:0.85448\n",
      "[4]\tvalidation-auc:0.85448\n",
      "[5]\tvalidation-auc:0.85448\n",
      "[6]\tvalidation-auc:0.85448\n",
      "[7]\tvalidation-auc:0.85448\n",
      "[8]\tvalidation-auc:0.85448\n",
      "[9]\tvalidation-auc:0.85448\n",
      "[0]\tvalidation-auc:0.79793\n",
      "[1]\tvalidation-auc:0.79793\n",
      "[2]\tvalidation-auc:0.79793\n",
      "[3]\tvalidation-auc:0.79793\n",
      "[4]\tvalidation-auc:0.79793\n",
      "[5]\tvalidation-auc:0.79793\n",
      "[6]\tvalidation-auc:0.79793\n",
      "[7]\tvalidation-auc:0.79793\n",
      "[8]\tvalidation-auc:0.79793\n",
      "[9]\tvalidation-auc:0.79793\n",
      "[0]\tvalidation-auc:0.80575\n",
      "[1]\tvalidation-auc:0.80575\n",
      "[2]\tvalidation-auc:0.80575\n",
      "[3]\tvalidation-auc:0.80575\n",
      "[4]\tvalidation-auc:0.80575\n",
      "[5]\tvalidation-auc:0.80575\n",
      "[6]\tvalidation-auc:0.80575\n",
      "[7]\tvalidation-auc:0.80575\n",
      "[8]\tvalidation-auc:0.80575\n",
      "[9]\tvalidation-auc:0.80575\n",
      "[0]\tvalidation-auc:0.82373\n",
      "[1]\tvalidation-auc:0.82373\n",
      "[2]\tvalidation-auc:0.82373\n",
      "[3]\tvalidation-auc:0.82373\n",
      "[4]\tvalidation-auc:0.82373\n",
      "[5]\tvalidation-auc:0.82373\n",
      "[6]\tvalidation-auc:0.82373\n",
      "[7]\tvalidation-auc:0.82373\n",
      "[8]\tvalidation-auc:0.82373\n",
      "[9]\tvalidation-auc:0.82373\n",
      "[0]\tvalidation-auc:0.85866\n",
      "[1]\tvalidation-auc:0.85866\n",
      "[2]\tvalidation-auc:0.85866\n",
      "[3]\tvalidation-auc:0.85866\n",
      "[4]\tvalidation-auc:0.85866\n",
      "[5]\tvalidation-auc:0.85866\n",
      "[6]\tvalidation-auc:0.85866\n",
      "[7]\tvalidation-auc:0.85866\n",
      "[8]\tvalidation-auc:0.85866\n",
      "[9]\tvalidation-auc:0.85866\n"
     ]
    },
    {
     "name": "stderr",
     "output_type": "stream",
     "text": [
      "\u001b[32m[I 2021-10-02 20:11:05,883]\u001b[0m Trial 8 finished with value: 0.7865168539325843 and parameters: {'booster': 'gbtree', 'lambda': 6.676990747929285e-06, 'alpha': 0.1735068413906922, 'max_depth': 2, 'eta': 2.0945015784719367e-06, 'gamma': 0.019790039240814017, 'grow_policy': 'lossguide'}. Best is trial 2 with value: 0.8258426966292135.\u001b[0m\n"
     ]
    },
    {
     "name": "stdout",
     "output_type": "stream",
     "text": [
      "[0]\tvalidation-auc:0.86271\n",
      "[1]\tvalidation-auc:0.85810\n",
      "[2]\tvalidation-auc:0.86924\n",
      "[3]\tvalidation-auc:0.86509\n",
      "[4]\tvalidation-auc:0.86871\n",
      "[5]\tvalidation-auc:0.86509\n",
      "[6]\tvalidation-auc:0.86746\n",
      "[7]\tvalidation-auc:0.86509\n",
      "[8]\tvalidation-auc:0.86673\n",
      "[9]\tvalidation-auc:0.86509\n",
      "[0]\tvalidation-auc:0.86471\n",
      "[1]\tvalidation-auc:0.86471\n",
      "[2]\tvalidation-auc:0.86471\n",
      "[3]\tvalidation-auc:0.86471\n",
      "[4]\tvalidation-auc:0.86471\n",
      "[5]\tvalidation-auc:0.86471\n",
      "[6]\tvalidation-auc:0.86471\n",
      "[7]\tvalidation-auc:0.86471\n",
      "[8]\tvalidation-auc:0.86471\n",
      "[9]\tvalidation-auc:0.86471\n",
      "[0]\tvalidation-auc:0.85481\n",
      "[1]\tvalidation-auc:0.85341\n",
      "[2]\tvalidation-auc:0.85374\n",
      "[3]\tvalidation-auc:0.85341\n",
      "[4]\tvalidation-auc:0.85348\n",
      "[5]\tvalidation-auc:0.85341\n",
      "[6]\tvalidation-auc:0.85348\n",
      "[7]\tvalidation-auc:0.85341\n",
      "[8]\tvalidation-auc:0.85348\n",
      "[9]\tvalidation-auc:0.85341\n",
      "[0]\tvalidation-auc:0.85140\n",
      "[1]\tvalidation-auc:0.85140\n",
      "[2]\tvalidation-auc:0.85140\n",
      "[3]\tvalidation-auc:0.85140\n",
      "[4]\tvalidation-auc:0.85140\n",
      "[5]\tvalidation-auc:0.85140\n",
      "[6]\tvalidation-auc:0.85140\n",
      "[7]\tvalidation-auc:0.85140\n",
      "[8]\tvalidation-auc:0.85140\n",
      "[9]\tvalidation-auc:0.85140\n",
      "[0]\tvalidation-auc:0.83958\n",
      "[1]\tvalidation-auc:0.83932\n",
      "[2]\tvalidation-auc:0.83845\n",
      "[3]\tvalidation-auc:0.83859\n",
      "[4]\tvalidation-auc:0.83859\n",
      "[5]\tvalidation-auc:0.83859\n",
      "[6]\tvalidation-auc:0.83845\n",
      "[7]\tvalidation-auc:0.83845\n",
      "[8]\tvalidation-auc:0.83845\n",
      "[9]\tvalidation-auc:0.83859\n"
     ]
    },
    {
     "name": "stderr",
     "output_type": "stream",
     "text": [
      "\u001b[32m[I 2021-10-02 20:11:06,307]\u001b[0m Trial 9 finished with value: 0.797752808988764 and parameters: {'booster': 'dart', 'lambda': 1.8788952129161934e-05, 'alpha': 1.7157079620075977e-07, 'max_depth': 5, 'eta': 3.1073608448245924e-06, 'gamma': 1.4613230946794416e-06, 'grow_policy': 'lossguide', 'sample_type': 'uniform', 'normalize_type': 'tree', 'rate_drop': 0.012215267487891384, 'skip_drop': 2.3061814006824964e-07}. Best is trial 2 with value: 0.8258426966292135.\u001b[0m\n"
     ]
    },
    {
     "name": "stdout",
     "output_type": "stream",
     "text": [
      "[0]\tvalidation-auc:0.84427\n",
      "[1]\tvalidation-auc:0.87688\n",
      "[2]\tvalidation-auc:0.86752\n",
      "[3]\tvalidation-auc:0.85751\n",
      "[4]\tvalidation-auc:0.86120\n",
      "[5]\tvalidation-auc:0.87194\n",
      "[6]\tvalidation-auc:0.87233\n",
      "[7]\tvalidation-auc:0.87292\n",
      "[8]\tvalidation-auc:0.87549\n",
      "[9]\tvalidation-auc:0.87602\n",
      "[0]\tvalidation-auc:0.82400\n",
      "[1]\tvalidation-auc:0.84973\n",
      "[2]\tvalidation-auc:0.85488\n",
      "[3]\tvalidation-auc:0.84686\n",
      "[4]\tvalidation-auc:0.84499\n",
      "[5]\tvalidation-auc:0.84245\n",
      "[6]\tvalidation-auc:0.84940\n",
      "[7]\tvalidation-auc:0.84311\n",
      "[8]\tvalidation-auc:0.85501\n",
      "[9]\tvalidation-auc:0.85842\n",
      "[0]\tvalidation-auc:0.81056\n",
      "[1]\tvalidation-auc:0.82333\n",
      "[2]\tvalidation-auc:0.81745\n",
      "[3]\tvalidation-auc:0.83650\n",
      "[4]\tvalidation-auc:0.82774\n",
      "[5]\tvalidation-auc:0.83750\n",
      "[6]\tvalidation-auc:0.83329\n",
      "[7]\tvalidation-auc:0.83336\n",
      "[8]\tvalidation-auc:0.82721\n",
      "[9]\tvalidation-auc:0.82914\n",
      "[0]\tvalidation-auc:0.84078\n",
      "[1]\tvalidation-auc:0.83543\n",
      "[2]\tvalidation-auc:0.84773\n",
      "[3]\tvalidation-auc:0.84225\n",
      "[4]\tvalidation-auc:0.84713\n",
      "[5]\tvalidation-auc:0.84372\n",
      "[6]\tvalidation-auc:0.84512\n",
      "[7]\tvalidation-auc:0.84258\n",
      "[8]\tvalidation-auc:0.84479\n",
      "[9]\tvalidation-auc:0.84485\n",
      "[0]\tvalidation-auc:0.83533\n",
      "[1]\tvalidation-auc:0.83785\n",
      "[2]\tvalidation-auc:0.83859\n",
      "[3]\tvalidation-auc:0.85002\n",
      "[4]\tvalidation-auc:0.84596\n",
      "[5]\tvalidation-auc:0.84916\n",
      "[6]\tvalidation-auc:0.84809\n",
      "[7]\tvalidation-auc:0.84523\n",
      "[8]\tvalidation-auc:0.84178\n",
      "[9]\tvalidation-auc:0.84350\n"
     ]
    },
    {
     "name": "stderr",
     "output_type": "stream",
     "text": [
      "\u001b[32m[I 2021-10-02 20:11:06,742]\u001b[0m Trial 10 finished with value: 0.8314606741573034 and parameters: {'booster': 'gbtree', 'lambda': 1.2727845562384485e-08, 'alpha': 1.2217427746679031e-08, 'max_depth': 8, 'eta': 0.4095882244467682, 'gamma': 4.286395803437575e-08, 'grow_policy': 'depthwise'}. Best is trial 10 with value: 0.8314606741573034.\u001b[0m\n"
     ]
    },
    {
     "name": "stdout",
     "output_type": "stream",
     "text": [
      "[0]\tvalidation-auc:0.84447\n",
      "[1]\tvalidation-auc:0.84552\n",
      "[2]\tvalidation-auc:0.86924\n",
      "[3]\tvalidation-auc:0.86970\n",
      "[4]\tvalidation-auc:0.87497\n",
      "[5]\tvalidation-auc:0.87530\n",
      "[6]\tvalidation-auc:0.86298\n",
      "[7]\tvalidation-auc:0.86245\n",
      "[8]\tvalidation-auc:0.86324\n",
      "[9]\tvalidation-auc:0.86785\n",
      "[0]\tvalidation-auc:0.82420\n",
      "[1]\tvalidation-auc:0.85421\n",
      "[2]\tvalidation-auc:0.84512\n",
      "[3]\tvalidation-auc:0.86136\n",
      "[4]\tvalidation-auc:0.85555\n",
      "[5]\tvalidation-auc:0.84906\n",
      "[6]\tvalidation-auc:0.84398\n",
      "[7]\tvalidation-auc:0.84666\n",
      "[8]\tvalidation-auc:0.85147\n",
      "[9]\tvalidation-auc:0.85120\n",
      "[0]\tvalidation-auc:0.81049\n",
      "[1]\tvalidation-auc:0.81798\n",
      "[2]\tvalidation-auc:0.82433\n",
      "[3]\tvalidation-auc:0.83396\n",
      "[4]\tvalidation-auc:0.83028\n",
      "[5]\tvalidation-auc:0.82834\n",
      "[6]\tvalidation-auc:0.82366\n",
      "[7]\tvalidation-auc:0.82660\n",
      "[8]\tvalidation-auc:0.82400\n",
      "[9]\tvalidation-auc:0.83569\n",
      "[0]\tvalidation-auc:0.84131\n",
      "[1]\tvalidation-auc:0.86377\n",
      "[2]\tvalidation-auc:0.85247\n",
      "[3]\tvalidation-auc:0.84231\n",
      "[4]\tvalidation-auc:0.84271\n",
      "[5]\tvalidation-auc:0.85134\n",
      "[6]\tvalidation-auc:0.85361\n",
      "[7]\tvalidation-auc:0.84405\n",
      "[8]\tvalidation-auc:0.84037\n",
      "[9]\tvalidation-auc:0.83696\n",
      "[0]\tvalidation-auc:0.83533\n",
      "[1]\tvalidation-auc:0.85394\n",
      "[2]\tvalidation-auc:0.85401\n",
      "[3]\tvalidation-auc:0.85281\n",
      "[4]\tvalidation-auc:0.83679\n",
      "[5]\tvalidation-auc:0.83945\n",
      "[6]\tvalidation-auc:0.83985\n",
      "[7]\tvalidation-auc:0.84942\n",
      "[8]\tvalidation-auc:0.84590\n",
      "[9]\tvalidation-auc:0.84656\n"
     ]
    },
    {
     "name": "stderr",
     "output_type": "stream",
     "text": [
      "\u001b[32m[I 2021-10-02 20:11:07,153]\u001b[0m Trial 11 finished with value: 0.797752808988764 and parameters: {'booster': 'gbtree', 'lambda': 1.8612153454104475e-08, 'alpha': 1.413837378871559e-08, 'max_depth': 8, 'eta': 0.8343047409819816, 'gamma': 2.2390982761362496e-08, 'grow_policy': 'depthwise'}. Best is trial 10 with value: 0.8314606741573034.\u001b[0m\n"
     ]
    },
    {
     "name": "stdout",
     "output_type": "stream",
     "text": [
      "[0]\tvalidation-auc:0.85099\n",
      "[1]\tvalidation-auc:0.87958\n",
      "[2]\tvalidation-auc:0.87510\n",
      "[3]\tvalidation-auc:0.86897\n",
      "[4]\tvalidation-auc:0.86818\n",
      "[5]\tvalidation-auc:0.85955\n",
      "[6]\tvalidation-auc:0.86311\n",
      "[7]\tvalidation-auc:0.85277\n",
      "[8]\tvalidation-auc:0.85744\n",
      "[9]\tvalidation-auc:0.85534\n",
      "[0]\tvalidation-auc:0.84057\n",
      "[1]\tvalidation-auc:0.85247\n",
      "[2]\tvalidation-auc:0.84980\n",
      "[3]\tvalidation-auc:0.84258\n",
      "[4]\tvalidation-auc:0.84479\n",
      "[5]\tvalidation-auc:0.85341\n",
      "[6]\tvalidation-auc:0.85635\n",
      "[7]\tvalidation-auc:0.87045\n",
      "[8]\tvalidation-auc:0.87005\n",
      "[9]\tvalidation-auc:0.86952\n",
      "[0]\tvalidation-auc:0.82159\n",
      "[1]\tvalidation-auc:0.84051\n",
      "[2]\tvalidation-auc:0.84091\n",
      "[3]\tvalidation-auc:0.85421\n",
      "[4]\tvalidation-auc:0.85816\n",
      "[5]\tvalidation-auc:0.84439\n",
      "[6]\tvalidation-auc:0.84425\n",
      "[7]\tvalidation-auc:0.85755\n",
      "[8]\tvalidation-auc:0.85501\n",
      "[9]\tvalidation-auc:0.85682\n",
      "[0]\tvalidation-auc:0.85214\n",
      "[1]\tvalidation-auc:0.83844\n",
      "[2]\tvalidation-auc:0.83997\n",
      "[3]\tvalidation-auc:0.85334\n",
      "[4]\tvalidation-auc:0.86016\n",
      "[5]\tvalidation-auc:0.85682\n",
      "[6]\tvalidation-auc:0.86023\n",
      "[7]\tvalidation-auc:0.85481\n",
      "[8]\tvalidation-auc:0.85127\n",
      "[9]\tvalidation-auc:0.84699\n",
      "[0]\tvalidation-auc:0.84935\n",
      "[1]\tvalidation-auc:0.84450\n",
      "[2]\tvalidation-auc:0.84663\n",
      "[3]\tvalidation-auc:0.84749\n",
      "[4]\tvalidation-auc:0.85594\n",
      "[5]\tvalidation-auc:0.84603\n",
      "[6]\tvalidation-auc:0.84710\n",
      "[7]\tvalidation-auc:0.85607\n",
      "[8]\tvalidation-auc:0.85315\n",
      "[9]\tvalidation-auc:0.84909\n"
     ]
    },
    {
     "name": "stderr",
     "output_type": "stream",
     "text": [
      "\u001b[32m[I 2021-10-02 20:11:07,639]\u001b[0m Trial 12 finished with value: 0.8089887640449438 and parameters: {'booster': 'gbtree', 'lambda': 1.576813417177024e-08, 'alpha': 3.08047619945706e-06, 'max_depth': 7, 'eta': 0.45480434245360984, 'gamma': 2.6433822172535825e-07, 'grow_policy': 'depthwise'}. Best is trial 10 with value: 0.8314606741573034.\u001b[0m\n"
     ]
    },
    {
     "name": "stdout",
     "output_type": "stream",
     "text": [
      "[0]\tvalidation-auc:0.84203\n",
      "[1]\tvalidation-auc:0.84552\n",
      "[2]\tvalidation-auc:0.84802\n",
      "[3]\tvalidation-auc:0.84776\n",
      "[4]\tvalidation-auc:0.84776\n",
      "[5]\tvalidation-auc:0.84895\n"
     ]
    },
    {
     "name": "stderr",
     "output_type": "stream",
     "text": [
      "\u001b[32m[I 2021-10-02 20:11:07,699]\u001b[0m Trial 13 pruned. Trial was pruned at iteration 5.\u001b[0m\n"
     ]
    },
    {
     "name": "stdout",
     "output_type": "stream",
     "text": [
      "[0]\tvalidation-auc:0.84157\n",
      "[1]\tvalidation-auc:0.84717\n",
      "[2]\tvalidation-auc:0.84763\n",
      "[3]\tvalidation-auc:0.84750\n",
      "[4]\tvalidation-auc:0.84559\n",
      "[5]\tvalidation-auc:0.84453\n"
     ]
    },
    {
     "name": "stderr",
     "output_type": "stream",
     "text": [
      "\u001b[32m[I 2021-10-02 20:11:07,773]\u001b[0m Trial 14 pruned. Trial was pruned at iteration 5.\u001b[0m\n"
     ]
    },
    {
     "name": "stdout",
     "output_type": "stream",
     "text": [
      "[0]\tvalidation-auc:0.85237\n",
      "[1]\tvalidation-auc:0.86153\n",
      "[2]\tvalidation-auc:0.85652\n",
      "[3]\tvalidation-auc:0.86252\n",
      "[4]\tvalidation-auc:0.87391\n",
      "[5]\tvalidation-auc:0.87470\n",
      "[6]\tvalidation-auc:0.87391\n",
      "[7]\tvalidation-auc:0.86765\n",
      "[8]\tvalidation-auc:0.86904\n",
      "[9]\tvalidation-auc:0.87286\n",
      "[0]\tvalidation-auc:0.84098\n",
      "[1]\tvalidation-auc:0.84452\n",
      "[2]\tvalidation-auc:0.84860\n",
      "[3]\tvalidation-auc:0.84017\n",
      "[4]\tvalidation-auc:0.85655\n",
      "[5]\tvalidation-auc:0.85836\n",
      "[6]\tvalidation-auc:0.86036\n",
      "[7]\tvalidation-auc:0.85949\n",
      "[8]\tvalidation-auc:0.85722\n",
      "[9]\tvalidation-auc:0.85709\n",
      "[0]\tvalidation-auc:0.82059\n",
      "[1]\tvalidation-auc:0.84064\n",
      "[2]\tvalidation-auc:0.85428\n",
      "[3]\tvalidation-auc:0.85227\n",
      "[4]\tvalidation-auc:0.84826\n",
      "[5]\tvalidation-auc:0.84699\n",
      "[6]\tvalidation-auc:0.84860\n",
      "[7]\tvalidation-auc:0.84927\n",
      "[8]\tvalidation-auc:0.85528\n",
      "[9]\tvalidation-auc:0.85301\n",
      "[0]\tvalidation-auc:0.85227\n",
      "[1]\tvalidation-auc:0.83844\n",
      "[2]\tvalidation-auc:0.85655\n",
      "[3]\tvalidation-auc:0.85602\n",
      "[4]\tvalidation-auc:0.84813\n",
      "[5]\tvalidation-auc:0.84806\n",
      "[6]\tvalidation-auc:0.84612\n",
      "[7]\tvalidation-auc:0.84940\n",
      "[8]\tvalidation-auc:0.84666\n",
      "[9]\tvalidation-auc:0.85020\n",
      "[0]\tvalidation-auc:0.85069\n",
      "[1]\tvalidation-auc:0.84729\n",
      "[2]\tvalidation-auc:0.84869\n",
      "[3]\tvalidation-auc:0.84616\n",
      "[4]\tvalidation-auc:0.83686\n",
      "[5]\tvalidation-auc:0.85501\n",
      "[6]\tvalidation-auc:0.85321\n",
      "[7]\tvalidation-auc:0.85520\n",
      "[8]\tvalidation-auc:0.85986\n",
      "[9]\tvalidation-auc:0.85800\n"
     ]
    },
    {
     "name": "stderr",
     "output_type": "stream",
     "text": [
      "\u001b[32m[I 2021-10-02 20:11:08,416]\u001b[0m Trial 15 finished with value: 0.8089887640449438 and parameters: {'booster': 'gbtree', 'lambda': 1.1023047372984032e-08, 'alpha': 6.695312483135163e-05, 'max_depth': 7, 'eta': 0.20534678808207024, 'gamma': 7.919941431329418e-06, 'grow_policy': 'lossguide'}. Best is trial 10 with value: 0.8314606741573034.\u001b[0m\n"
     ]
    },
    {
     "name": "stdout",
     "output_type": "stream",
     "text": [
      "[0]\tvalidation-auc:0.83966\n",
      "[1]\tvalidation-auc:0.84835\n",
      "[2]\tvalidation-auc:0.84697\n",
      "[3]\tvalidation-auc:0.84657\n",
      "[4]\tvalidation-auc:0.84631\n"
     ]
    },
    {
     "name": "stderr",
     "output_type": "stream",
     "text": [
      "\u001b[32m[I 2021-10-02 20:11:08,496]\u001b[0m Trial 16 pruned. Trial was pruned at iteration 5.\u001b[0m\n"
     ]
    },
    {
     "name": "stdout",
     "output_type": "stream",
     "text": [
      "[0]\tvalidation-auc:0.85448\n",
      "[1]\tvalidation-auc:0.85547\n",
      "[2]\tvalidation-auc:0.85771\n",
      "[3]\tvalidation-auc:0.85599\n",
      "[4]\tvalidation-auc:0.85567\n",
      "[5]\tvalidation-auc:0.85725\n"
     ]
    },
    {
     "name": "stderr",
     "output_type": "stream",
     "text": [
      "\u001b[32m[I 2021-10-02 20:11:08,591]\u001b[0m Trial 17 pruned. Trial was pruned at iteration 5.\u001b[0m\n"
     ]
    },
    {
     "name": "stdout",
     "output_type": "stream",
     "text": [
      "[0]\tvalidation-auc:0.73004\n",
      "[1]\tvalidation-auc:0.72846\n",
      "[2]\tvalidation-auc:0.72885\n",
      "[3]\tvalidation-auc:0.72727\n",
      "[4]\tvalidation-auc:0.72727\n"
     ]
    },
    {
     "name": "stderr",
     "output_type": "stream",
     "text": [
      "\u001b[32m[I 2021-10-02 20:11:08,637]\u001b[0m Trial 18 pruned. Trial was pruned at iteration 5.\u001b[0m\n"
     ]
    },
    {
     "name": "stdout",
     "output_type": "stream",
     "text": [
      "[0]\tvalidation-auc:0.87787\n",
      "[1]\tvalidation-auc:0.88116\n",
      "[2]\tvalidation-auc:0.88775\n",
      "[3]\tvalidation-auc:0.88775\n",
      "[4]\tvalidation-auc:0.88775\n",
      "[5]\tvalidation-auc:0.88775\n",
      "[6]\tvalidation-auc:0.88775\n",
      "[7]\tvalidation-auc:0.88775\n",
      "[8]\tvalidation-auc:0.88775\n",
      "[9]\tvalidation-auc:0.88775\n",
      "[0]\tvalidation-auc:0.84352\n",
      "[1]\tvalidation-auc:0.84352\n",
      "[2]\tvalidation-auc:0.84352\n",
      "[3]\tvalidation-auc:0.84352\n",
      "[4]\tvalidation-auc:0.84352\n",
      "[5]\tvalidation-auc:0.84352\n",
      "[6]\tvalidation-auc:0.84352\n",
      "[7]\tvalidation-auc:0.84352\n",
      "[8]\tvalidation-auc:0.84352\n",
      "[9]\tvalidation-auc:0.84352\n",
      "[0]\tvalidation-auc:0.83576\n",
      "[1]\tvalidation-auc:0.83576\n",
      "[2]\tvalidation-auc:0.83576\n",
      "[3]\tvalidation-auc:0.83576\n",
      "[4]\tvalidation-auc:0.83576\n",
      "[5]\tvalidation-auc:0.83576\n",
      "[6]\tvalidation-auc:0.83576\n",
      "[7]\tvalidation-auc:0.83576\n",
      "[8]\tvalidation-auc:0.83576\n",
      "[9]\tvalidation-auc:0.83576\n",
      "[0]\tvalidation-auc:0.83750\n",
      "[1]\tvalidation-auc:0.83750\n",
      "[2]\tvalidation-auc:0.83750\n",
      "[3]\tvalidation-auc:0.83750\n",
      "[4]\tvalidation-auc:0.83750\n",
      "[5]\tvalidation-auc:0.83750\n",
      "[6]\tvalidation-auc:0.83750\n",
      "[7]\tvalidation-auc:0.83750\n",
      "[8]\tvalidation-auc:0.83750\n",
      "[9]\tvalidation-auc:0.83750\n",
      "[0]\tvalidation-auc:0.87994\n",
      "[1]\tvalidation-auc:0.87994\n",
      "[2]\tvalidation-auc:0.87994\n",
      "[3]\tvalidation-auc:0.87994\n",
      "[4]\tvalidation-auc:0.87994\n",
      "[5]\tvalidation-auc:0.87994\n",
      "[6]\tvalidation-auc:0.87994\n",
      "[7]\tvalidation-auc:0.87994\n",
      "[8]\tvalidation-auc:0.87994\n",
      "[9]\tvalidation-auc:0.87994\n"
     ]
    },
    {
     "name": "stderr",
     "output_type": "stream",
     "text": [
      "\u001b[32m[I 2021-10-02 20:11:08,959]\u001b[0m Trial 19 finished with value: 0.8202247191011236 and parameters: {'booster': 'gbtree', 'lambda': 1.902178417924222e-06, 'alpha': 0.00026174774639186726, 'max_depth': 3, 'eta': 0.001684422660383326, 'gamma': 0.4490815190977876, 'grow_policy': 'lossguide'}. Best is trial 10 with value: 0.8314606741573034.\u001b[0m\n"
     ]
    },
    {
     "name": "stdout",
     "output_type": "stream",
     "text": [
      "[0]\tvalidation-auc:0.88557\n",
      "[1]\tvalidation-auc:0.89203\n",
      "[2]\tvalidation-auc:0.89177\n",
      "[3]\tvalidation-auc:0.89111\n",
      "[4]\tvalidation-auc:0.89111\n",
      "[5]\tvalidation-auc:0.89111\n",
      "[6]\tvalidation-auc:0.89111\n",
      "[7]\tvalidation-auc:0.89111\n",
      "[8]\tvalidation-auc:0.89111\n",
      "[9]\tvalidation-auc:0.89137\n",
      "[0]\tvalidation-auc:0.84766\n",
      "[1]\tvalidation-auc:0.84766\n",
      "[2]\tvalidation-auc:0.84766\n",
      "[3]\tvalidation-auc:0.84766\n",
      "[4]\tvalidation-auc:0.84766\n",
      "[5]\tvalidation-auc:0.84766\n",
      "[6]\tvalidation-auc:0.84766\n",
      "[7]\tvalidation-auc:0.84766\n",
      "[8]\tvalidation-auc:0.84766\n",
      "[9]\tvalidation-auc:0.84766\n",
      "[0]\tvalidation-auc:0.86905\n",
      "[1]\tvalidation-auc:0.86905\n",
      "[2]\tvalidation-auc:0.86905\n",
      "[3]\tvalidation-auc:0.86905\n",
      "[4]\tvalidation-auc:0.86905\n",
      "[5]\tvalidation-auc:0.86905\n",
      "[6]\tvalidation-auc:0.86905\n",
      "[7]\tvalidation-auc:0.86905\n",
      "[8]\tvalidation-auc:0.86905\n",
      "[9]\tvalidation-auc:0.86905\n",
      "[0]\tvalidation-auc:0.83162\n",
      "[1]\tvalidation-auc:0.83162\n",
      "[2]\tvalidation-auc:0.83162\n",
      "[3]\tvalidation-auc:0.83162\n",
      "[4]\tvalidation-auc:0.83162\n",
      "[5]\tvalidation-auc:0.83162\n",
      "[6]\tvalidation-auc:0.83162\n",
      "[7]\tvalidation-auc:0.83162\n",
      "[8]\tvalidation-auc:0.83162\n",
      "[9]\tvalidation-auc:0.83603\n",
      "[0]\tvalidation-auc:0.84384\n",
      "[1]\tvalidation-auc:0.84384\n",
      "[2]\tvalidation-auc:0.84384\n",
      "[3]\tvalidation-auc:0.84384\n",
      "[4]\tvalidation-auc:0.84384\n",
      "[5]\tvalidation-auc:0.84384\n",
      "[6]\tvalidation-auc:0.84384\n",
      "[7]\tvalidation-auc:0.84384\n",
      "[8]\tvalidation-auc:0.84384\n",
      "[9]\tvalidation-auc:0.84384\n"
     ]
    },
    {
     "name": "stderr",
     "output_type": "stream",
     "text": [
      "\u001b[32m[I 2021-10-02 20:11:09,328]\u001b[0m Trial 20 finished with value: 0.8033707865168539 and parameters: {'booster': 'gbtree', 'lambda': 0.006865442856331392, 'alpha': 1.2164693913910869e-05, 'max_depth': 4, 'eta': 0.0011634469533206163, 'gamma': 4.192011889134725e-06, 'grow_policy': 'depthwise'}. Best is trial 10 with value: 0.8314606741573034.\u001b[0m\n"
     ]
    },
    {
     "name": "stdout",
     "output_type": "stream",
     "text": [
      "[0]\tvalidation-auc:0.87787\n",
      "[1]\tvalidation-auc:0.88116\n",
      "[2]\tvalidation-auc:0.88775\n",
      "[3]\tvalidation-auc:0.88775\n",
      "[4]\tvalidation-auc:0.88775\n",
      "[5]\tvalidation-auc:0.88775\n",
      "[6]\tvalidation-auc:0.88775\n",
      "[7]\tvalidation-auc:0.88775\n",
      "[8]\tvalidation-auc:0.88775\n",
      "[9]\tvalidation-auc:0.88775\n",
      "[0]\tvalidation-auc:0.84352\n",
      "[1]\tvalidation-auc:0.84352\n",
      "[2]\tvalidation-auc:0.84352\n",
      "[3]\tvalidation-auc:0.84352\n",
      "[4]\tvalidation-auc:0.84352\n",
      "[5]\tvalidation-auc:0.84352\n",
      "[6]\tvalidation-auc:0.84352\n",
      "[7]\tvalidation-auc:0.84352\n",
      "[8]\tvalidation-auc:0.84352\n",
      "[9]\tvalidation-auc:0.84352\n",
      "[0]\tvalidation-auc:0.83576\n",
      "[1]\tvalidation-auc:0.83576\n",
      "[2]\tvalidation-auc:0.83576\n",
      "[3]\tvalidation-auc:0.83576\n",
      "[4]\tvalidation-auc:0.83576\n",
      "[5]\tvalidation-auc:0.83576\n",
      "[6]\tvalidation-auc:0.83576\n",
      "[7]\tvalidation-auc:0.83576\n",
      "[8]\tvalidation-auc:0.83576\n",
      "[9]\tvalidation-auc:0.83576\n",
      "[0]\tvalidation-auc:0.83750\n",
      "[1]\tvalidation-auc:0.83750\n",
      "[2]\tvalidation-auc:0.83750\n",
      "[3]\tvalidation-auc:0.83750\n",
      "[4]\tvalidation-auc:0.83750\n",
      "[5]\tvalidation-auc:0.83750\n",
      "[6]\tvalidation-auc:0.83750\n",
      "[7]\tvalidation-auc:0.83750\n",
      "[8]\tvalidation-auc:0.83750\n",
      "[9]\tvalidation-auc:0.83750\n",
      "[0]\tvalidation-auc:0.87994\n",
      "[1]\tvalidation-auc:0.87994\n",
      "[2]\tvalidation-auc:0.87994\n",
      "[3]\tvalidation-auc:0.87994\n",
      "[4]\tvalidation-auc:0.87994\n",
      "[5]\tvalidation-auc:0.87994\n",
      "[6]\tvalidation-auc:0.87994\n",
      "[7]\tvalidation-auc:0.87994\n",
      "[8]\tvalidation-auc:0.87994\n",
      "[9]\tvalidation-auc:0.87994\n"
     ]
    },
    {
     "name": "stderr",
     "output_type": "stream",
     "text": [
      "\u001b[32m[I 2021-10-02 20:11:09,607]\u001b[0m Trial 21 finished with value: 0.8202247191011236 and parameters: {'booster': 'gbtree', 'lambda': 1.606073484235203e-06, 'alpha': 0.000282168855364173, 'max_depth': 3, 'eta': 0.0012919653502394463, 'gamma': 0.19604959186185808, 'grow_policy': 'lossguide'}. Best is trial 10 with value: 0.8314606741573034.\u001b[0m\n"
     ]
    },
    {
     "name": "stdout",
     "output_type": "stream",
     "text": [
      "[0]\tvalidation-auc:0.87787\n",
      "[1]\tvalidation-auc:0.88300\n",
      "[2]\tvalidation-auc:0.86607\n",
      "[3]\tvalidation-auc:0.86206\n",
      "[4]\tvalidation-auc:0.86752\n",
      "[5]\tvalidation-auc:0.86482\n",
      "[6]\tvalidation-auc:0.86634\n",
      "[7]\tvalidation-auc:0.87569\n",
      "[8]\tvalidation-auc:0.86752\n",
      "[9]\tvalidation-auc:0.87194\n",
      "[0]\tvalidation-auc:0.84352\n",
      "[1]\tvalidation-auc:0.87019\n",
      "[2]\tvalidation-auc:0.87894\n",
      "[3]\tvalidation-auc:0.88175\n",
      "[4]\tvalidation-auc:0.89225\n",
      "[5]\tvalidation-auc:0.87914\n",
      "[6]\tvalidation-auc:0.87259\n",
      "[7]\tvalidation-auc:0.87460\n",
      "[8]\tvalidation-auc:0.86638\n",
      "[9]\tvalidation-auc:0.87914\n",
      "[0]\tvalidation-auc:0.83576\n",
      "[1]\tvalidation-auc:0.83396\n",
      "[2]\tvalidation-auc:0.86009\n",
      "[3]\tvalidation-auc:0.86023\n",
      "[4]\tvalidation-auc:0.86170\n",
      "[5]\tvalidation-auc:0.86350\n",
      "[6]\tvalidation-auc:0.85361\n",
      "[7]\tvalidation-auc:0.86938\n",
      "[8]\tvalidation-auc:0.86130\n",
      "[9]\tvalidation-auc:0.86370\n",
      "[0]\tvalidation-auc:0.83750\n",
      "[1]\tvalidation-auc:0.85227\n",
      "[2]\tvalidation-auc:0.86196\n",
      "[3]\tvalidation-auc:0.86063\n",
      "[4]\tvalidation-auc:0.85942\n",
      "[5]\tvalidation-auc:0.86223\n",
      "[6]\tvalidation-auc:0.86337\n",
      "[7]\tvalidation-auc:0.85715\n",
      "[8]\tvalidation-auc:0.85996\n",
      "[9]\tvalidation-auc:0.85234\n",
      "[0]\tvalidation-auc:0.87994\n",
      "[1]\tvalidation-auc:0.87442\n",
      "[2]\tvalidation-auc:0.86651\n",
      "[3]\tvalidation-auc:0.85414\n",
      "[4]\tvalidation-auc:0.84982\n",
      "[5]\tvalidation-auc:0.84051\n",
      "[6]\tvalidation-auc:0.84537\n",
      "[7]\tvalidation-auc:0.84410\n",
      "[8]\tvalidation-auc:0.84916\n",
      "[9]\tvalidation-auc:0.84610\n"
     ]
    },
    {
     "name": "stderr",
     "output_type": "stream",
     "text": [
      "\u001b[32m[I 2021-10-02 20:11:09,841]\u001b[0m Trial 22 finished with value: 0.7921348314606742 and parameters: {'booster': 'gbtree', 'lambda': 1.8163676325713839e-06, 'alpha': 0.005275649441843323, 'max_depth': 3, 'eta': 0.8835411636464725, 'gamma': 1.687534771709933e-07, 'grow_policy': 'lossguide'}. Best is trial 10 with value: 0.8314606741573034.\u001b[0m\n"
     ]
    },
    {
     "name": "stdout",
     "output_type": "stream",
     "text": [
      "[0]\tvalidation-auc:0.85791\n",
      "[1]\tvalidation-auc:0.87398\n",
      "[2]\tvalidation-auc:0.87905\n",
      "[3]\tvalidation-auc:0.88577\n",
      "[4]\tvalidation-auc:0.88182\n",
      "[5]\tvalidation-auc:0.88419\n",
      "[6]\tvalidation-auc:0.88162\n",
      "[7]\tvalidation-auc:0.87978\n",
      "[8]\tvalidation-auc:0.87991\n",
      "[9]\tvalidation-auc:0.88834\n",
      "[0]\tvalidation-auc:0.84813\n",
      "[1]\tvalidation-auc:0.85080\n",
      "[2]\tvalidation-auc:0.85254\n",
      "[3]\tvalidation-auc:0.83884\n",
      "[4]\tvalidation-auc:0.83710\n",
      "[5]\tvalidation-auc:0.84425\n",
      "[6]\tvalidation-auc:0.84372\n",
      "[7]\tvalidation-auc:0.83984\n",
      "[8]\tvalidation-auc:0.84231\n",
      "[9]\tvalidation-auc:0.84225\n",
      "[0]\tvalidation-auc:0.84231\n",
      "[1]\tvalidation-auc:0.84311\n",
      "[2]\tvalidation-auc:0.85595\n",
      "[3]\tvalidation-auc:0.85709\n",
      "[4]\tvalidation-auc:0.85000\n",
      "[5]\tvalidation-auc:0.85187\n",
      "[6]\tvalidation-auc:0.85127\n",
      "[7]\tvalidation-auc:0.84900\n",
      "[8]\tvalidation-auc:0.85394\n",
      "[9]\tvalidation-auc:0.84846\n",
      "[0]\tvalidation-auc:0.85488\n",
      "[1]\tvalidation-auc:0.85361\n",
      "[2]\tvalidation-auc:0.85227\n",
      "[3]\tvalidation-auc:0.86337\n",
      "[4]\tvalidation-auc:0.85388\n",
      "[5]\tvalidation-auc:0.85575\n",
      "[6]\tvalidation-auc:0.85949\n",
      "[7]\tvalidation-auc:0.85809\n",
      "[8]\tvalidation-auc:0.85929\n",
      "[9]\tvalidation-auc:0.85869\n",
      "[0]\tvalidation-auc:0.82044\n",
      "[1]\tvalidation-auc:0.82157\n",
      "[2]\tvalidation-auc:0.83274\n",
      "[3]\tvalidation-auc:0.85049\n",
      "[4]\tvalidation-auc:0.83991\n",
      "[5]\tvalidation-auc:0.83732\n",
      "[6]\tvalidation-auc:0.84025\n",
      "[7]\tvalidation-auc:0.83892\n",
      "[8]\tvalidation-auc:0.84158\n",
      "[9]\tvalidation-auc:0.84025\n"
     ]
    },
    {
     "name": "stderr",
     "output_type": "stream",
     "text": [
      "\u001b[32m[I 2021-10-02 20:11:10,250]\u001b[0m Trial 23 finished with value: 0.8033707865168539 and parameters: {'booster': 'gbtree', 'lambda': 5.543893648425713e-05, 'alpha': 0.0001341951588239633, 'max_depth': 6, 'eta': 0.08681661116927086, 'gamma': 0.8147343162582601, 'grow_policy': 'lossguide'}. Best is trial 10 with value: 0.8314606741573034.\u001b[0m\n"
     ]
    },
    {
     "name": "stdout",
     "output_type": "stream",
     "text": [
      "[0]\tvalidation-auc:0.84427\n",
      "[1]\tvalidation-auc:0.85033\n",
      "[2]\tvalidation-auc:0.84578\n",
      "[3]\tvalidation-auc:0.84532\n",
      "[4]\tvalidation-auc:0.84849\n",
      "[5]\tvalidation-auc:0.84743\n"
     ]
    },
    {
     "name": "stderr",
     "output_type": "stream",
     "text": [
      "\u001b[32m[I 2021-10-02 20:11:10,301]\u001b[0m Trial 24 pruned. Trial was pruned at iteration 5.\u001b[0m\n"
     ]
    },
    {
     "name": "stdout",
     "output_type": "stream",
     "text": [
      "[0]\tvalidation-auc:0.88557\n",
      "[1]\tvalidation-auc:0.88775\n",
      "[2]\tvalidation-auc:0.89045\n",
      "[3]\tvalidation-auc:0.88426\n",
      "[4]\tvalidation-auc:0.88175\n",
      "[5]\tvalidation-auc:0.89302\n",
      "[6]\tvalidation-auc:0.88959\n",
      "[7]\tvalidation-auc:0.88663\n",
      "[8]\tvalidation-auc:0.88926\n",
      "[9]\tvalidation-auc:0.89190\n",
      "[0]\tvalidation-auc:0.83790\n",
      "[1]\tvalidation-auc:0.86938\n",
      "[2]\tvalidation-auc:0.87386\n",
      "[3]\tvalidation-auc:0.86497\n",
      "[4]\tvalidation-auc:0.85762\n",
      "[5]\tvalidation-auc:0.84967\n",
      "[6]\tvalidation-auc:0.85782\n",
      "[7]\tvalidation-auc:0.87426\n",
      "[8]\tvalidation-auc:0.86898\n",
      "[9]\tvalidation-auc:0.86598\n",
      "[0]\tvalidation-auc:0.86905\n",
      "[1]\tvalidation-auc:0.86618\n",
      "[2]\tvalidation-auc:0.85802\n",
      "[3]\tvalidation-auc:0.86604\n",
      "[4]\tvalidation-auc:0.85060\n",
      "[5]\tvalidation-auc:0.85247\n",
      "[6]\tvalidation-auc:0.84813\n",
      "[7]\tvalidation-auc:0.85201\n",
      "[8]\tvalidation-auc:0.84492\n",
      "[9]\tvalidation-auc:0.84592\n",
      "[0]\tvalidation-auc:0.83162\n",
      "[1]\tvalidation-auc:0.86364\n",
      "[2]\tvalidation-auc:0.86370\n",
      "[3]\tvalidation-auc:0.85702\n",
      "[4]\tvalidation-auc:0.85829\n",
      "[5]\tvalidation-auc:0.84779\n",
      "[6]\tvalidation-auc:0.84980\n",
      "[7]\tvalidation-auc:0.83663\n",
      "[8]\tvalidation-auc:0.83442\n",
      "[9]\tvalidation-auc:0.82888\n",
      "[0]\tvalidation-auc:0.84384\n",
      "[1]\tvalidation-auc:0.84849\n",
      "[2]\tvalidation-auc:0.84031\n",
      "[3]\tvalidation-auc:0.84384\n",
      "[4]\tvalidation-auc:0.83493\n",
      "[5]\tvalidation-auc:0.83194\n",
      "[6]\tvalidation-auc:0.82861\n",
      "[7]\tvalidation-auc:0.83699\n",
      "[8]\tvalidation-auc:0.82781\n",
      "[9]\tvalidation-auc:0.83460\n"
     ]
    },
    {
     "name": "stderr",
     "output_type": "stream",
     "text": [
      "\u001b[32m[I 2021-10-02 20:11:10,577]\u001b[0m Trial 25 finished with value: 0.797752808988764 and parameters: {'booster': 'gbtree', 'lambda': 8.489396511915437e-07, 'alpha': 0.001904000552564544, 'max_depth': 4, 'eta': 0.9966891382253243, 'gamma': 0.00030494596255362035, 'grow_policy': 'lossguide'}. Best is trial 10 with value: 0.8314606741573034.\u001b[0m\n"
     ]
    },
    {
     "name": "stdout",
     "output_type": "stream",
     "text": [
      "[0]\tvalidation-auc:0.84335\n",
      "[1]\tvalidation-auc:0.85053\n",
      "[2]\tvalidation-auc:0.86581\n",
      "[3]\tvalidation-auc:0.85053\n",
      "[4]\tvalidation-auc:0.86726\n",
      "[5]\tvalidation-auc:0.85534\n",
      "[6]\tvalidation-auc:0.86851\n",
      "[7]\tvalidation-auc:0.85968\n",
      "[8]\tvalidation-auc:0.87207\n",
      "[9]\tvalidation-auc:0.85876\n",
      "[0]\tvalidation-auc:0.85769\n",
      "[1]\tvalidation-auc:0.85829\n",
      "[2]\tvalidation-auc:0.84124\n",
      "[3]\tvalidation-auc:0.83810\n",
      "[4]\tvalidation-auc:0.84057\n",
      "[5]\tvalidation-auc:0.84131\n",
      "[6]\tvalidation-auc:0.83944\n",
      "[7]\tvalidation-auc:0.84071\n",
      "[8]\tvalidation-auc:0.83944\n",
      "[9]\tvalidation-auc:0.84057\n",
      "[0]\tvalidation-auc:0.83449\n",
      "[1]\tvalidation-auc:0.83148\n",
      "[2]\tvalidation-auc:0.83142\n",
      "[3]\tvalidation-auc:0.82981\n",
      "[4]\tvalidation-auc:0.83195\n",
      "[5]\tvalidation-auc:0.83155\n",
      "[6]\tvalidation-auc:0.83195\n",
      "[7]\tvalidation-auc:0.83135\n",
      "[8]\tvalidation-auc:0.83209\n",
      "[9]\tvalidation-auc:0.83135\n",
      "[0]\tvalidation-auc:0.85454\n",
      "[1]\tvalidation-auc:0.85328\n",
      "[2]\tvalidation-auc:0.85515\n",
      "[3]\tvalidation-auc:0.85421\n",
      "[4]\tvalidation-auc:0.85401\n",
      "[5]\tvalidation-auc:0.85368\n",
      "[6]\tvalidation-auc:0.85287\n",
      "[7]\tvalidation-auc:0.85341\n",
      "[8]\tvalidation-auc:0.85341\n",
      "[9]\tvalidation-auc:0.85328\n",
      "[0]\tvalidation-auc:0.82615\n",
      "[1]\tvalidation-auc:0.83872\n",
      "[2]\tvalidation-auc:0.83101\n",
      "[3]\tvalidation-auc:0.83021\n",
      "[4]\tvalidation-auc:0.83885\n",
      "[5]\tvalidation-auc:0.83898\n",
      "[6]\tvalidation-auc:0.83845\n",
      "[7]\tvalidation-auc:0.83885\n",
      "[8]\tvalidation-auc:0.83819\n",
      "[9]\tvalidation-auc:0.83739\n"
     ]
    },
    {
     "name": "stderr",
     "output_type": "stream",
     "text": [
      "\u001b[32m[I 2021-10-02 20:11:10,919]\u001b[0m Trial 26 finished with value: 0.8033707865168539 and parameters: {'booster': 'gbtree', 'lambda': 6.405585032391416e-06, 'alpha': 1.2838050978961361e-06, 'max_depth': 6, 'eta': 0.006649937741221615, 'gamma': 1.0033836031743893e-08, 'grow_policy': 'lossguide'}. Best is trial 10 with value: 0.8314606741573034.\u001b[0m\n"
     ]
    },
    {
     "name": "stdout",
     "output_type": "stream",
     "text": [
      "[0]\tvalidation-auc:0.85679\n",
      "[1]\tvalidation-auc:0.81792\n",
      "[2]\tvalidation-auc:0.82635\n",
      "[3]\tvalidation-auc:0.84427\n",
      "[4]\tvalidation-auc:0.85257\n"
     ]
    },
    {
     "name": "stderr",
     "output_type": "stream",
     "text": [
      "\u001b[32m[I 2021-10-02 20:11:10,950]\u001b[0m Trial 27 pruned. Trial was pruned at iteration 5.\u001b[0m\n"
     ]
    },
    {
     "name": "stdout",
     "output_type": "stream",
     "text": [
      "[0]\tvalidation-auc:0.84368\n",
      "[1]\tvalidation-auc:0.84506\n",
      "[2]\tvalidation-auc:0.85468\n",
      "[3]\tvalidation-auc:0.85033\n",
      "[4]\tvalidation-auc:0.85679\n"
     ]
    },
    {
     "name": "stderr",
     "output_type": "stream",
     "text": [
      "\u001b[32m[I 2021-10-02 20:11:10,996]\u001b[0m Trial 28 pruned. Trial was pruned at iteration 5.\u001b[0m\n"
     ]
    },
    {
     "name": "stdout",
     "output_type": "stream",
     "text": [
      "[0]\tvalidation-auc:0.88557\n",
      "[1]\tvalidation-auc:0.88841\n",
      "[2]\tvalidation-auc:0.88841\n",
      "[3]\tvalidation-auc:0.88841\n",
      "[4]\tvalidation-auc:0.88841\n",
      "[5]\tvalidation-auc:0.88841\n",
      "[6]\tvalidation-auc:0.88841\n",
      "[7]\tvalidation-auc:0.88841\n",
      "[8]\tvalidation-auc:0.88841\n",
      "[9]\tvalidation-auc:0.88867\n",
      "[0]\tvalidation-auc:0.84278\n",
      "[1]\tvalidation-auc:0.84278\n",
      "[2]\tvalidation-auc:0.84278\n",
      "[3]\tvalidation-auc:0.84766\n",
      "[4]\tvalidation-auc:0.84278\n",
      "[5]\tvalidation-auc:0.84278\n",
      "[6]\tvalidation-auc:0.84766\n",
      "[7]\tvalidation-auc:0.84278\n",
      "[8]\tvalidation-auc:0.84278\n",
      "[9]\tvalidation-auc:0.84766\n",
      "[0]\tvalidation-auc:0.86905\n",
      "[1]\tvalidation-auc:0.86905\n",
      "[2]\tvalidation-auc:0.86905\n",
      "[3]\tvalidation-auc:0.86905\n",
      "[4]\tvalidation-auc:0.86905\n",
      "[5]\tvalidation-auc:0.86905\n",
      "[6]\tvalidation-auc:0.86905\n",
      "[7]\tvalidation-auc:0.86905\n",
      "[8]\tvalidation-auc:0.86905\n",
      "[9]\tvalidation-auc:0.86905\n",
      "[0]\tvalidation-auc:0.83162\n",
      "[1]\tvalidation-auc:0.83162\n",
      "[2]\tvalidation-auc:0.83162\n",
      "[3]\tvalidation-auc:0.83162\n",
      "[4]\tvalidation-auc:0.83162\n",
      "[5]\tvalidation-auc:0.83162\n",
      "[6]\tvalidation-auc:0.83162\n",
      "[7]\tvalidation-auc:0.83162\n",
      "[8]\tvalidation-auc:0.83162\n",
      "[9]\tvalidation-auc:0.83162\n",
      "[0]\tvalidation-auc:0.84330\n",
      "[1]\tvalidation-auc:0.84330\n",
      "[2]\tvalidation-auc:0.84330\n",
      "[3]\tvalidation-auc:0.84384\n",
      "[4]\tvalidation-auc:0.84384\n",
      "[5]\tvalidation-auc:0.84384\n",
      "[6]\tvalidation-auc:0.84384\n",
      "[7]\tvalidation-auc:0.84384\n",
      "[8]\tvalidation-auc:0.84384\n",
      "[9]\tvalidation-auc:0.84384\n"
     ]
    },
    {
     "name": "stderr",
     "output_type": "stream",
     "text": [
      "\u001b[32m[I 2021-10-02 20:11:11,282]\u001b[0m Trial 29 finished with value: 0.8033707865168539 and parameters: {'booster': 'gbtree', 'lambda': 2.915294994831447e-05, 'alpha': 0.006537134692709844, 'max_depth': 4, 'eta': 8.449744385626633e-05, 'gamma': 4.527658503364923e-08, 'grow_policy': 'lossguide'}. Best is trial 10 with value: 0.8314606741573034.\u001b[0m\n"
     ]
    },
    {
     "name": "stdout",
     "output_type": "stream",
     "text": [
      "[0]\tvalidation-auc:0.50000\n",
      "[1]\tvalidation-auc:0.50000\n",
      "[2]\tvalidation-auc:0.74084\n",
      "[3]\tvalidation-auc:0.75804\n",
      "[4]\tvalidation-auc:0.85303\n"
     ]
    },
    {
     "name": "stderr",
     "output_type": "stream",
     "text": [
      "\u001b[32m[I 2021-10-02 20:11:11,340]\u001b[0m Trial 30 pruned. Trial was pruned at iteration 5.\u001b[0m\n"
     ]
    },
    {
     "name": "stdout",
     "output_type": "stream",
     "text": [
      "[0]\tvalidation-auc:0.87787\n",
      "[1]\tvalidation-auc:0.88880\n",
      "[2]\tvalidation-auc:0.88775\n",
      "[3]\tvalidation-auc:0.88775\n",
      "[4]\tvalidation-auc:0.88775\n",
      "[5]\tvalidation-auc:0.88775\n",
      "[6]\tvalidation-auc:0.88775\n",
      "[7]\tvalidation-auc:0.88775\n",
      "[8]\tvalidation-auc:0.88775\n",
      "[9]\tvalidation-auc:0.88775\n",
      "[0]\tvalidation-auc:0.84352\n",
      "[1]\tvalidation-auc:0.84352\n",
      "[2]\tvalidation-auc:0.84352\n",
      "[3]\tvalidation-auc:0.84352\n",
      "[4]\tvalidation-auc:0.84352\n",
      "[5]\tvalidation-auc:0.84352\n",
      "[6]\tvalidation-auc:0.84352\n",
      "[7]\tvalidation-auc:0.84352\n",
      "[8]\tvalidation-auc:0.84352\n",
      "[9]\tvalidation-auc:0.84352\n",
      "[0]\tvalidation-auc:0.83576\n",
      "[1]\tvalidation-auc:0.83576\n",
      "[2]\tvalidation-auc:0.83576\n",
      "[3]\tvalidation-auc:0.83576\n",
      "[4]\tvalidation-auc:0.83576\n",
      "[5]\tvalidation-auc:0.83576\n",
      "[6]\tvalidation-auc:0.83576\n",
      "[7]\tvalidation-auc:0.83576\n",
      "[8]\tvalidation-auc:0.83576\n",
      "[9]\tvalidation-auc:0.83576\n",
      "[0]\tvalidation-auc:0.83750\n",
      "[1]\tvalidation-auc:0.83750\n",
      "[2]\tvalidation-auc:0.83750\n",
      "[3]\tvalidation-auc:0.83750\n",
      "[4]\tvalidation-auc:0.83750\n",
      "[5]\tvalidation-auc:0.83750\n",
      "[6]\tvalidation-auc:0.83750\n",
      "[7]\tvalidation-auc:0.83750\n",
      "[8]\tvalidation-auc:0.83750\n",
      "[9]\tvalidation-auc:0.83750\n",
      "[0]\tvalidation-auc:0.87994\n",
      "[1]\tvalidation-auc:0.87994\n",
      "[2]\tvalidation-auc:0.87994\n",
      "[3]\tvalidation-auc:0.87994\n",
      "[4]\tvalidation-auc:0.87994\n",
      "[5]\tvalidation-auc:0.87994\n",
      "[6]\tvalidation-auc:0.87994\n",
      "[7]\tvalidation-auc:0.87994\n",
      "[8]\tvalidation-auc:0.87994\n",
      "[9]\tvalidation-auc:0.87994\n"
     ]
    },
    {
     "name": "stderr",
     "output_type": "stream",
     "text": [
      "\u001b[32m[I 2021-10-02 20:11:11,627]\u001b[0m Trial 31 finished with value: 0.8202247191011236 and parameters: {'booster': 'gbtree', 'lambda': 3.677206592617748e-06, 'alpha': 0.00028524537496719455, 'max_depth': 3, 'eta': 0.002151887683609497, 'gamma': 0.6297860864317777, 'grow_policy': 'lossguide'}. Best is trial 10 with value: 0.8314606741573034.\u001b[0m\n"
     ]
    },
    {
     "name": "stdout",
     "output_type": "stream",
     "text": [
      "[0]\tvalidation-auc:0.84084\n",
      "[1]\tvalidation-auc:0.85448\n",
      "[2]\tvalidation-auc:0.85448\n",
      "[3]\tvalidation-auc:0.85448\n",
      "[4]\tvalidation-auc:0.85448\n"
     ]
    },
    {
     "name": "stderr",
     "output_type": "stream",
     "text": [
      "\u001b[32m[I 2021-10-02 20:11:11,667]\u001b[0m Trial 32 pruned. Trial was pruned at iteration 5.\u001b[0m\n"
     ]
    },
    {
     "name": "stdout",
     "output_type": "stream",
     "text": [
      "[0]\tvalidation-auc:0.87787\n",
      "[1]\tvalidation-auc:0.88116\n",
      "[2]\tvalidation-auc:0.88090\n",
      "[3]\tvalidation-auc:0.88090\n",
      "[4]\tvalidation-auc:0.88090\n",
      "[5]\tvalidation-auc:0.88090\n",
      "[6]\tvalidation-auc:0.88775\n",
      "[7]\tvalidation-auc:0.88775\n",
      "[8]\tvalidation-auc:0.88775\n",
      "[9]\tvalidation-auc:0.88775\n",
      "[0]\tvalidation-auc:0.84352\n",
      "[1]\tvalidation-auc:0.84352\n",
      "[2]\tvalidation-auc:0.84352\n",
      "[3]\tvalidation-auc:0.84352\n",
      "[4]\tvalidation-auc:0.84352\n",
      "[5]\tvalidation-auc:0.84352\n",
      "[6]\tvalidation-auc:0.84352\n",
      "[7]\tvalidation-auc:0.84352\n",
      "[8]\tvalidation-auc:0.84352\n",
      "[9]\tvalidation-auc:0.84352\n",
      "[0]\tvalidation-auc:0.83576\n",
      "[1]\tvalidation-auc:0.83576\n",
      "[2]\tvalidation-auc:0.83576\n",
      "[3]\tvalidation-auc:0.83576\n",
      "[4]\tvalidation-auc:0.83576\n",
      "[5]\tvalidation-auc:0.83576\n",
      "[6]\tvalidation-auc:0.83576\n",
      "[7]\tvalidation-auc:0.83576\n",
      "[8]\tvalidation-auc:0.83576\n",
      "[9]\tvalidation-auc:0.83576\n",
      "[0]\tvalidation-auc:0.83750\n",
      "[1]\tvalidation-auc:0.83750\n",
      "[2]\tvalidation-auc:0.83750\n",
      "[3]\tvalidation-auc:0.83750\n",
      "[4]\tvalidation-auc:0.83750\n",
      "[5]\tvalidation-auc:0.83750\n",
      "[6]\tvalidation-auc:0.83750\n",
      "[7]\tvalidation-auc:0.83750\n",
      "[8]\tvalidation-auc:0.83750\n",
      "[9]\tvalidation-auc:0.83750\n",
      "[0]\tvalidation-auc:0.87994\n",
      "[1]\tvalidation-auc:0.87994\n",
      "[2]\tvalidation-auc:0.87994\n",
      "[3]\tvalidation-auc:0.87994\n",
      "[4]\tvalidation-auc:0.87994\n",
      "[5]\tvalidation-auc:0.87994\n",
      "[6]\tvalidation-auc:0.87994\n",
      "[7]\tvalidation-auc:0.87994\n",
      "[8]\tvalidation-auc:0.87994\n",
      "[9]\tvalidation-auc:0.87994\n"
     ]
    },
    {
     "name": "stderr",
     "output_type": "stream",
     "text": [
      "\u001b[32m[I 2021-10-02 20:11:11,918]\u001b[0m Trial 33 finished with value: 0.8202247191011236 and parameters: {'booster': 'gbtree', 'lambda': 2.9698818832700114e-06, 'alpha': 0.0004931750389341561, 'max_depth': 3, 'eta': 0.0003082743573144397, 'gamma': 0.0032534328119434085, 'grow_policy': 'lossguide'}. Best is trial 10 with value: 0.8314606741573034.\u001b[0m\n"
     ]
    },
    {
     "name": "stdout",
     "output_type": "stream",
     "text": [
      "[0]\tvalidation-auc:0.87727\n",
      "[1]\tvalidation-auc:0.88116\n",
      "[2]\tvalidation-auc:0.88090\n",
      "[3]\tvalidation-auc:0.88090\n",
      "[4]\tvalidation-auc:0.88090\n",
      "[5]\tvalidation-auc:0.88090\n",
      "[6]\tvalidation-auc:0.88090\n",
      "[7]\tvalidation-auc:0.88090\n",
      "[8]\tvalidation-auc:0.88090\n",
      "[9]\tvalidation-auc:0.88090\n",
      "[0]\tvalidation-auc:0.84352\n",
      "[1]\tvalidation-auc:0.84352\n",
      "[2]\tvalidation-auc:0.84352\n",
      "[3]\tvalidation-auc:0.84352\n",
      "[4]\tvalidation-auc:0.84352\n",
      "[5]\tvalidation-auc:0.84352\n",
      "[6]\tvalidation-auc:0.84352\n",
      "[7]\tvalidation-auc:0.84352\n",
      "[8]\tvalidation-auc:0.84352\n",
      "[9]\tvalidation-auc:0.84352\n",
      "[0]\tvalidation-auc:0.83576\n",
      "[1]\tvalidation-auc:0.83576\n",
      "[2]\tvalidation-auc:0.83576\n",
      "[3]\tvalidation-auc:0.83576\n",
      "[4]\tvalidation-auc:0.83576\n",
      "[5]\tvalidation-auc:0.83576\n",
      "[6]\tvalidation-auc:0.83576\n",
      "[7]\tvalidation-auc:0.83576\n",
      "[8]\tvalidation-auc:0.83576\n",
      "[9]\tvalidation-auc:0.83576\n",
      "[0]\tvalidation-auc:0.83750\n",
      "[1]\tvalidation-auc:0.83750\n",
      "[2]\tvalidation-auc:0.83750\n",
      "[3]\tvalidation-auc:0.83750\n",
      "[4]\tvalidation-auc:0.83750\n",
      "[5]\tvalidation-auc:0.83750\n",
      "[6]\tvalidation-auc:0.83750\n",
      "[7]\tvalidation-auc:0.83750\n",
      "[8]\tvalidation-auc:0.83750\n",
      "[9]\tvalidation-auc:0.83750\n",
      "[0]\tvalidation-auc:0.87994\n",
      "[1]\tvalidation-auc:0.87994\n",
      "[2]\tvalidation-auc:0.87994\n",
      "[3]\tvalidation-auc:0.87994\n",
      "[4]\tvalidation-auc:0.87994\n",
      "[5]\tvalidation-auc:0.87994\n",
      "[6]\tvalidation-auc:0.87994\n",
      "[7]\tvalidation-auc:0.87994\n",
      "[8]\tvalidation-auc:0.87994\n",
      "[9]\tvalidation-auc:0.87994\n"
     ]
    },
    {
     "name": "stderr",
     "output_type": "stream",
     "text": [
      "\u001b[32m[I 2021-10-02 20:11:12,246]\u001b[0m Trial 34 finished with value: 0.8202247191011236 and parameters: {'booster': 'gbtree', 'lambda': 5.610424239405258e-06, 'alpha': 0.0017073990964052929, 'max_depth': 3, 'eta': 2.030892612710932e-05, 'gamma': 0.0032103449739981525, 'grow_policy': 'lossguide'}. Best is trial 10 with value: 0.8314606741573034.\u001b[0m\n"
     ]
    },
    {
     "name": "stdout",
     "output_type": "stream",
     "text": [
      "[0]\tvalidation-auc:0.88544\n",
      "[1]\tvalidation-auc:0.88854\n",
      "[2]\tvalidation-auc:0.88854\n",
      "[3]\tvalidation-auc:0.88854\n",
      "[4]\tvalidation-auc:0.88854\n",
      "[5]\tvalidation-auc:0.88854\n",
      "[6]\tvalidation-auc:0.88854\n",
      "[7]\tvalidation-auc:0.88854\n",
      "[8]\tvalidation-auc:0.88854\n",
      "[9]\tvalidation-auc:0.88880\n",
      "[0]\tvalidation-auc:0.84104\n",
      "[1]\tvalidation-auc:0.84104\n",
      "[2]\tvalidation-auc:0.84104\n",
      "[3]\tvalidation-auc:0.84104\n",
      "[4]\tvalidation-auc:0.83616\n",
      "[5]\tvalidation-auc:0.83616\n",
      "[6]\tvalidation-auc:0.84104\n",
      "[7]\tvalidation-auc:0.83616\n",
      "[8]\tvalidation-auc:0.83616\n",
      "[9]\tvalidation-auc:0.84278\n",
      "[0]\tvalidation-auc:0.86905\n",
      "[1]\tvalidation-auc:0.86905\n",
      "[2]\tvalidation-auc:0.86905\n",
      "[3]\tvalidation-auc:0.86905\n",
      "[4]\tvalidation-auc:0.86905\n",
      "[5]\tvalidation-auc:0.86905\n",
      "[6]\tvalidation-auc:0.86905\n",
      "[7]\tvalidation-auc:0.86905\n",
      "[8]\tvalidation-auc:0.86905\n",
      "[9]\tvalidation-auc:0.86905\n",
      "[0]\tvalidation-auc:0.83175\n",
      "[1]\tvalidation-auc:0.83175\n",
      "[2]\tvalidation-auc:0.83175\n",
      "[3]\tvalidation-auc:0.83175\n",
      "[4]\tvalidation-auc:0.83175\n",
      "[5]\tvalidation-auc:0.83175\n",
      "[6]\tvalidation-auc:0.83175\n",
      "[7]\tvalidation-auc:0.83175\n",
      "[8]\tvalidation-auc:0.83168\n",
      "[9]\tvalidation-auc:0.83168\n",
      "[0]\tvalidation-auc:0.84330\n",
      "[1]\tvalidation-auc:0.84330\n",
      "[2]\tvalidation-auc:0.84330\n",
      "[3]\tvalidation-auc:0.84330\n",
      "[4]\tvalidation-auc:0.84330\n",
      "[5]\tvalidation-auc:0.84330\n",
      "[6]\tvalidation-auc:0.84330\n",
      "[7]\tvalidation-auc:0.84330\n",
      "[8]\tvalidation-auc:0.84330\n",
      "[9]\tvalidation-auc:0.84330\n"
     ]
    },
    {
     "name": "stderr",
     "output_type": "stream",
     "text": [
      "\u001b[32m[I 2021-10-02 20:11:12,591]\u001b[0m Trial 35 finished with value: 0.8033707865168539 and parameters: {'booster': 'gbtree', 'lambda': 1.6280103985931492e-05, 'alpha': 0.0016037881707316544, 'max_depth': 4, 'eta': 1.1749707892230862e-05, 'gamma': 0.004514909587064799, 'grow_policy': 'lossguide'}. Best is trial 10 with value: 0.8314606741573034.\u001b[0m\n"
     ]
    },
    {
     "name": "stdout",
     "output_type": "stream",
     "text": [
      "[0]\tvalidation-auc:0.81357\n",
      "[1]\tvalidation-auc:0.82371\n",
      "[2]\tvalidation-auc:0.82740\n",
      "[3]\tvalidation-auc:0.83742\n",
      "[4]\tvalidation-auc:0.84835\n",
      "[5]\tvalidation-auc:0.85415\n"
     ]
    },
    {
     "name": "stderr",
     "output_type": "stream",
     "text": [
      "\u001b[32m[I 2021-10-02 20:11:12,624]\u001b[0m Trial 36 pruned. Trial was pruned at iteration 5.\u001b[0m\n"
     ]
    },
    {
     "name": "stdout",
     "output_type": "stream",
     "text": [
      "[0]\tvalidation-auc:0.84084\n",
      "[1]\tvalidation-auc:0.85448\n",
      "[2]\tvalidation-auc:0.84084\n",
      "[3]\tvalidation-auc:0.85448\n",
      "[4]\tvalidation-auc:0.85448\n",
      "[5]\tvalidation-auc:0.85448\n"
     ]
    },
    {
     "name": "stderr",
     "output_type": "stream",
     "text": [
      "\u001b[32m[I 2021-10-02 20:11:12,683]\u001b[0m Trial 37 pruned. Trial was pruned at iteration 5.\u001b[0m\n"
     ]
    },
    {
     "name": "stdout",
     "output_type": "stream",
     "text": [
      "[0]\tvalidation-auc:0.84875\n",
      "[1]\tvalidation-auc:0.85217\n",
      "[2]\tvalidation-auc:0.85468\n",
      "[3]\tvalidation-auc:0.85428\n",
      "[4]\tvalidation-auc:0.85481\n",
      "[5]\tvalidation-auc:0.85428\n"
     ]
    },
    {
     "name": "stderr",
     "output_type": "stream",
     "text": [
      "\u001b[32m[I 2021-10-02 20:11:12,752]\u001b[0m Trial 38 pruned. Trial was pruned at iteration 5.\u001b[0m\n"
     ]
    },
    {
     "name": "stdout",
     "output_type": "stream",
     "text": [
      "[0]\tvalidation-auc:0.84084\n",
      "[1]\tvalidation-auc:0.85448\n",
      "[2]\tvalidation-auc:0.85448\n",
      "[3]\tvalidation-auc:0.85448\n",
      "[4]\tvalidation-auc:0.85448\n",
      "[5]\tvalidation-auc:0.85448\n"
     ]
    },
    {
     "name": "stderr",
     "output_type": "stream",
     "text": [
      "\u001b[32m[I 2021-10-02 20:11:12,806]\u001b[0m Trial 39 pruned. Trial was pruned at iteration 5.\u001b[0m\n"
     ]
    },
    {
     "name": "stdout",
     "output_type": "stream",
     "text": [
      "[0]\tvalidation-auc:0.77582\n",
      "[1]\tvalidation-auc:0.77582\n",
      "[2]\tvalidation-auc:0.77582\n",
      "[3]\tvalidation-auc:0.77582\n",
      "[4]\tvalidation-auc:0.77582\n"
     ]
    },
    {
     "name": "stderr",
     "output_type": "stream",
     "text": [
      "\u001b[32m[I 2021-10-02 20:11:12,848]\u001b[0m Trial 40 pruned. Trial was pruned at iteration 5.\u001b[0m\n"
     ]
    },
    {
     "name": "stdout",
     "output_type": "stream",
     "text": [
      "[0]\tvalidation-auc:0.87787\n",
      "[1]\tvalidation-auc:0.88116\n",
      "[2]\tvalidation-auc:0.88090\n",
      "[3]\tvalidation-auc:0.88090\n",
      "[4]\tvalidation-auc:0.88090\n",
      "[5]\tvalidation-auc:0.88090\n",
      "[6]\tvalidation-auc:0.88090\n",
      "[7]\tvalidation-auc:0.88090\n",
      "[8]\tvalidation-auc:0.88090\n",
      "[9]\tvalidation-auc:0.88090\n",
      "[0]\tvalidation-auc:0.84352\n",
      "[1]\tvalidation-auc:0.84352\n",
      "[2]\tvalidation-auc:0.84352\n",
      "[3]\tvalidation-auc:0.84352\n",
      "[4]\tvalidation-auc:0.84352\n",
      "[5]\tvalidation-auc:0.84352\n",
      "[6]\tvalidation-auc:0.84352\n",
      "[7]\tvalidation-auc:0.84352\n",
      "[8]\tvalidation-auc:0.84352\n",
      "[9]\tvalidation-auc:0.84352\n",
      "[0]\tvalidation-auc:0.83576\n",
      "[1]\tvalidation-auc:0.83576\n",
      "[2]\tvalidation-auc:0.83576\n",
      "[3]\tvalidation-auc:0.83576\n",
      "[4]\tvalidation-auc:0.83576\n",
      "[5]\tvalidation-auc:0.83576\n",
      "[6]\tvalidation-auc:0.83576\n",
      "[7]\tvalidation-auc:0.83576\n",
      "[8]\tvalidation-auc:0.83576\n",
      "[9]\tvalidation-auc:0.83576\n",
      "[0]\tvalidation-auc:0.83750\n",
      "[1]\tvalidation-auc:0.83750\n",
      "[2]\tvalidation-auc:0.83750\n",
      "[3]\tvalidation-auc:0.83750\n",
      "[4]\tvalidation-auc:0.83750\n",
      "[5]\tvalidation-auc:0.83750\n",
      "[6]\tvalidation-auc:0.83750\n",
      "[7]\tvalidation-auc:0.83750\n",
      "[8]\tvalidation-auc:0.83750\n",
      "[9]\tvalidation-auc:0.83750\n",
      "[0]\tvalidation-auc:0.87994\n",
      "[1]\tvalidation-auc:0.87994\n",
      "[2]\tvalidation-auc:0.87994\n",
      "[3]\tvalidation-auc:0.87994\n",
      "[4]\tvalidation-auc:0.87994\n",
      "[5]\tvalidation-auc:0.87994\n",
      "[6]\tvalidation-auc:0.87994\n",
      "[7]\tvalidation-auc:0.87994\n",
      "[8]\tvalidation-auc:0.87994\n",
      "[9]\tvalidation-auc:0.87994\n"
     ]
    },
    {
     "name": "stderr",
     "output_type": "stream",
     "text": [
      "\u001b[32m[I 2021-10-02 20:11:13,130]\u001b[0m Trial 41 finished with value: 0.8202247191011236 and parameters: {'booster': 'gbtree', 'lambda': 5.7555927075117116e-06, 'alpha': 0.0005775546183375723, 'max_depth': 3, 'eta': 0.00016787355984159685, 'gamma': 0.0017567835376511754, 'grow_policy': 'lossguide'}. Best is trial 10 with value: 0.8314606741573034.\u001b[0m\n"
     ]
    },
    {
     "name": "stdout",
     "output_type": "stream",
     "text": [
      "[0]\tvalidation-auc:0.87787\n",
      "[1]\tvalidation-auc:0.88116\n",
      "[2]\tvalidation-auc:0.88090\n",
      "[3]\tvalidation-auc:0.88090\n",
      "[4]\tvalidation-auc:0.88090\n",
      "[5]\tvalidation-auc:0.88090\n",
      "[6]\tvalidation-auc:0.88090\n",
      "[7]\tvalidation-auc:0.88090\n",
      "[8]\tvalidation-auc:0.88090\n",
      "[9]\tvalidation-auc:0.88090\n",
      "[0]\tvalidation-auc:0.84352\n",
      "[1]\tvalidation-auc:0.84352\n",
      "[2]\tvalidation-auc:0.84352\n",
      "[3]\tvalidation-auc:0.84352\n",
      "[4]\tvalidation-auc:0.84352\n",
      "[5]\tvalidation-auc:0.84352\n",
      "[6]\tvalidation-auc:0.84352\n",
      "[7]\tvalidation-auc:0.84352\n",
      "[8]\tvalidation-auc:0.84352\n",
      "[9]\tvalidation-auc:0.84352\n",
      "[0]\tvalidation-auc:0.83576\n",
      "[1]\tvalidation-auc:0.83576\n",
      "[2]\tvalidation-auc:0.83576\n",
      "[3]\tvalidation-auc:0.83576\n",
      "[4]\tvalidation-auc:0.83576\n",
      "[5]\tvalidation-auc:0.83576\n",
      "[6]\tvalidation-auc:0.83576\n",
      "[7]\tvalidation-auc:0.83576\n",
      "[8]\tvalidation-auc:0.83576\n",
      "[9]\tvalidation-auc:0.83576\n",
      "[0]\tvalidation-auc:0.83750\n",
      "[1]\tvalidation-auc:0.83750\n",
      "[2]\tvalidation-auc:0.83750\n",
      "[3]\tvalidation-auc:0.83750\n",
      "[4]\tvalidation-auc:0.83750\n",
      "[5]\tvalidation-auc:0.83750\n",
      "[6]\tvalidation-auc:0.83750\n",
      "[7]\tvalidation-auc:0.83750\n",
      "[8]\tvalidation-auc:0.83750\n",
      "[9]\tvalidation-auc:0.83750\n",
      "[0]\tvalidation-auc:0.87994\n",
      "[1]\tvalidation-auc:0.87994\n",
      "[2]\tvalidation-auc:0.87994\n",
      "[3]\tvalidation-auc:0.87994\n",
      "[4]\tvalidation-auc:0.87994\n",
      "[5]\tvalidation-auc:0.87994\n",
      "[6]\tvalidation-auc:0.87994\n",
      "[7]\tvalidation-auc:0.87994\n",
      "[8]\tvalidation-auc:0.87994\n",
      "[9]\tvalidation-auc:0.87994\n"
     ]
    },
    {
     "name": "stderr",
     "output_type": "stream",
     "text": [
      "\u001b[32m[I 2021-10-02 20:11:13,404]\u001b[0m Trial 42 finished with value: 0.8202247191011236 and parameters: {'booster': 'gbtree', 'lambda': 6.362217922998611e-06, 'alpha': 0.0008340468690702709, 'max_depth': 3, 'eta': 0.0001496695657300279, 'gamma': 0.0026360228485565783, 'grow_policy': 'lossguide'}. Best is trial 10 with value: 0.8314606741573034.\u001b[0m\n"
     ]
    },
    {
     "name": "stdout",
     "output_type": "stream",
     "text": [
      "[0]\tvalidation-auc:0.86970\n",
      "[1]\tvalidation-auc:0.86509\n",
      "[2]\tvalidation-auc:0.86884\n",
      "[3]\tvalidation-auc:0.86509\n",
      "[4]\tvalidation-auc:0.86871\n"
     ]
    },
    {
     "name": "stderr",
     "output_type": "stream",
     "text": [
      "\u001b[32m[I 2021-10-02 20:11:13,455]\u001b[0m Trial 43 pruned. Trial was pruned at iteration 5.\u001b[0m\n"
     ]
    },
    {
     "name": "stdout",
     "output_type": "stream",
     "text": [
      "[0]\tvalidation-auc:0.84084\n",
      "[1]\tvalidation-auc:0.85448\n",
      "[2]\tvalidation-auc:0.85448\n",
      "[3]\tvalidation-auc:0.85448\n",
      "[4]\tvalidation-auc:0.85448\n"
     ]
    },
    {
     "name": "stderr",
     "output_type": "stream",
     "text": [
      "\u001b[32m[I 2021-10-02 20:11:13,498]\u001b[0m Trial 44 pruned. Trial was pruned at iteration 5.\u001b[0m\n"
     ]
    },
    {
     "name": "stdout",
     "output_type": "stream",
     "text": [
      "[0]\tvalidation-auc:0.89177\n",
      "[1]\tvalidation-auc:0.89163\n",
      "[2]\tvalidation-auc:0.89163\n",
      "[3]\tvalidation-auc:0.89163\n",
      "[4]\tvalidation-auc:0.89163\n",
      "[5]\tvalidation-auc:0.89163\n",
      "[6]\tvalidation-auc:0.89163\n",
      "[7]\tvalidation-auc:0.89137\n",
      "[8]\tvalidation-auc:0.89137\n",
      "[9]\tvalidation-auc:0.89137\n",
      "[0]\tvalidation-auc:0.84813\n",
      "[1]\tvalidation-auc:0.84813\n",
      "[2]\tvalidation-auc:0.84813\n",
      "[3]\tvalidation-auc:0.84813\n",
      "[4]\tvalidation-auc:0.84813\n",
      "[5]\tvalidation-auc:0.84813\n",
      "[6]\tvalidation-auc:0.84813\n",
      "[7]\tvalidation-auc:0.84813\n",
      "[8]\tvalidation-auc:0.84813\n",
      "[9]\tvalidation-auc:0.84813\n",
      "[0]\tvalidation-auc:0.86905\n",
      "[1]\tvalidation-auc:0.86905\n",
      "[2]\tvalidation-auc:0.86905\n",
      "[3]\tvalidation-auc:0.86905\n",
      "[4]\tvalidation-auc:0.86905\n",
      "[5]\tvalidation-auc:0.86905\n",
      "[6]\tvalidation-auc:0.86905\n",
      "[7]\tvalidation-auc:0.86905\n",
      "[8]\tvalidation-auc:0.86905\n",
      "[9]\tvalidation-auc:0.86905\n",
      "[0]\tvalidation-auc:0.83964\n",
      "[1]\tvalidation-auc:0.84037\n",
      "[2]\tvalidation-auc:0.84031\n",
      "[3]\tvalidation-auc:0.84031\n",
      "[4]\tvalidation-auc:0.84031\n",
      "[5]\tvalidation-auc:0.84031\n",
      "[6]\tvalidation-auc:0.84031\n",
      "[7]\tvalidation-auc:0.84031\n",
      "[8]\tvalidation-auc:0.84031\n",
      "[9]\tvalidation-auc:0.84031\n",
      "[0]\tvalidation-auc:0.84650\n",
      "[1]\tvalidation-auc:0.84650\n",
      "[2]\tvalidation-auc:0.84650\n",
      "[3]\tvalidation-auc:0.84650\n",
      "[4]\tvalidation-auc:0.84650\n",
      "[5]\tvalidation-auc:0.84650\n",
      "[6]\tvalidation-auc:0.84650\n",
      "[7]\tvalidation-auc:0.84650\n",
      "[8]\tvalidation-auc:0.84650\n",
      "[9]\tvalidation-auc:0.84650\n"
     ]
    },
    {
     "name": "stderr",
     "output_type": "stream",
     "text": [
      "\u001b[32m[I 2021-10-02 20:11:13,796]\u001b[0m Trial 45 finished with value: 0.8033707865168539 and parameters: {'booster': 'gbtree', 'lambda': 0.08674536796471317, 'alpha': 0.016141860017797098, 'max_depth': 4, 'eta': 6.077653989201628e-06, 'gamma': 0.0564000784213195, 'grow_policy': 'lossguide'}. Best is trial 10 with value: 0.8314606741573034.\u001b[0m\n"
     ]
    },
    {
     "name": "stdout",
     "output_type": "stream",
     "text": [
      "[0]\tvalidation-auc:0.85692\n",
      "[1]\tvalidation-auc:0.80211\n",
      "[2]\tvalidation-auc:0.81766\n",
      "[3]\tvalidation-auc:0.82437\n",
      "[4]\tvalidation-auc:0.83386\n"
     ]
    },
    {
     "name": "stderr",
     "output_type": "stream",
     "text": [
      "\u001b[32m[I 2021-10-02 20:11:13,825]\u001b[0m Trial 46 pruned. Trial was pruned at iteration 5.\u001b[0m\n"
     ]
    },
    {
     "name": "stdout",
     "output_type": "stream",
     "text": [
      "[0]\tvalidation-auc:0.84032\n",
      "[1]\tvalidation-auc:0.84815\n",
      "[2]\tvalidation-auc:0.86350\n",
      "[3]\tvalidation-auc:0.84993\n",
      "[4]\tvalidation-auc:0.86469\n",
      "[5]\tvalidation-auc:0.86364\n"
     ]
    },
    {
     "name": "stderr",
     "output_type": "stream",
     "text": [
      "\u001b[32m[I 2021-10-02 20:11:13,871]\u001b[0m Trial 47 pruned. Trial was pruned at iteration 5.\u001b[0m\n"
     ]
    },
    {
     "name": "stdout",
     "output_type": "stream",
     "text": [
      "[0]\tvalidation-auc:0.87787\n",
      "[1]\tvalidation-auc:0.88880\n",
      "[2]\tvalidation-auc:0.88775\n",
      "[3]\tvalidation-auc:0.88775\n",
      "[4]\tvalidation-auc:0.88775\n",
      "[5]\tvalidation-auc:0.88775\n",
      "[6]\tvalidation-auc:0.88775\n",
      "[7]\tvalidation-auc:0.88775\n",
      "[8]\tvalidation-auc:0.88775\n",
      "[9]\tvalidation-auc:0.88775\n",
      "[0]\tvalidation-auc:0.84352\n",
      "[1]\tvalidation-auc:0.84352\n",
      "[2]\tvalidation-auc:0.84352\n",
      "[3]\tvalidation-auc:0.84352\n",
      "[4]\tvalidation-auc:0.84352\n",
      "[5]\tvalidation-auc:0.84352\n",
      "[6]\tvalidation-auc:0.84352\n",
      "[7]\tvalidation-auc:0.84352\n",
      "[8]\tvalidation-auc:0.84352\n",
      "[9]\tvalidation-auc:0.84352\n",
      "[0]\tvalidation-auc:0.83576\n",
      "[1]\tvalidation-auc:0.83576\n",
      "[2]\tvalidation-auc:0.83576\n",
      "[3]\tvalidation-auc:0.83576\n",
      "[4]\tvalidation-auc:0.83576\n",
      "[5]\tvalidation-auc:0.83576\n",
      "[6]\tvalidation-auc:0.83576\n",
      "[7]\tvalidation-auc:0.83576\n",
      "[8]\tvalidation-auc:0.83576\n",
      "[9]\tvalidation-auc:0.83576\n",
      "[0]\tvalidation-auc:0.83750\n",
      "[1]\tvalidation-auc:0.83750\n",
      "[2]\tvalidation-auc:0.83750\n",
      "[3]\tvalidation-auc:0.83750\n",
      "[4]\tvalidation-auc:0.83750\n",
      "[5]\tvalidation-auc:0.83750\n",
      "[6]\tvalidation-auc:0.83750\n",
      "[7]\tvalidation-auc:0.83750\n",
      "[8]\tvalidation-auc:0.83750\n",
      "[9]\tvalidation-auc:0.83817\n",
      "[0]\tvalidation-auc:0.87994\n",
      "[1]\tvalidation-auc:0.87994\n",
      "[2]\tvalidation-auc:0.87994\n",
      "[3]\tvalidation-auc:0.87994\n",
      "[4]\tvalidation-auc:0.87994\n",
      "[5]\tvalidation-auc:0.87994\n",
      "[6]\tvalidation-auc:0.87994\n",
      "[7]\tvalidation-auc:0.87994\n",
      "[8]\tvalidation-auc:0.87994\n",
      "[9]\tvalidation-auc:0.87994\n"
     ]
    },
    {
     "name": "stderr",
     "output_type": "stream",
     "text": [
      "\u001b[32m[I 2021-10-02 20:11:14,212]\u001b[0m Trial 48 finished with value: 0.8202247191011236 and parameters: {'booster': 'dart', 'lambda': 2.220504718938006e-05, 'alpha': 3.374276356945918e-05, 'max_depth': 3, 'eta': 0.0033268104468586876, 'gamma': 0.12221313227296858, 'grow_policy': 'lossguide', 'sample_type': 'uniform', 'normalize_type': 'forest', 'rate_drop': 1.983677284324723e-08, 'skip_drop': 0.007250351110928248}. Best is trial 10 with value: 0.8314606741573034.\u001b[0m\n"
     ]
    },
    {
     "name": "stdout",
     "output_type": "stream",
     "text": [
      "[0]\tvalidation-auc:0.77582\n",
      "[1]\tvalidation-auc:0.77582\n",
      "[2]\tvalidation-auc:0.77582\n",
      "[3]\tvalidation-auc:0.77582\n",
      "[4]\tvalidation-auc:0.77582\n"
     ]
    },
    {
     "name": "stderr",
     "output_type": "stream",
     "text": [
      "\u001b[32m[I 2021-10-02 20:11:14,258]\u001b[0m Trial 49 pruned. Trial was pruned at iteration 5.\u001b[0m\n"
     ]
    },
    {
     "name": "stdout",
     "output_type": "stream",
     "text": [
      "[0]\tvalidation-auc:0.87260\n",
      "[1]\tvalidation-auc:0.88076\n",
      "[2]\tvalidation-auc:0.88426\n",
      "[3]\tvalidation-auc:0.88070\n",
      "[4]\tvalidation-auc:0.86884\n",
      "[5]\tvalidation-auc:0.87049\n",
      "[6]\tvalidation-auc:0.87431\n",
      "[7]\tvalidation-auc:0.87536\n",
      "[8]\tvalidation-auc:0.88768\n",
      "[9]\tvalidation-auc:0.89045\n",
      "[0]\tvalidation-auc:0.86598\n",
      "[1]\tvalidation-auc:0.88168\n",
      "[2]\tvalidation-auc:0.87487\n",
      "[3]\tvalidation-auc:0.85849\n",
      "[4]\tvalidation-auc:0.85187\n",
      "[5]\tvalidation-auc:0.85261\n",
      "[6]\tvalidation-auc:0.85729\n",
      "[7]\tvalidation-auc:0.85662\n",
      "[8]\tvalidation-auc:0.85809\n",
      "[9]\tvalidation-auc:0.85642\n",
      "[0]\tvalidation-auc:0.85394\n",
      "[1]\tvalidation-auc:0.85635\n",
      "[2]\tvalidation-auc:0.86344\n",
      "[3]\tvalidation-auc:0.86577\n",
      "[4]\tvalidation-auc:0.85067\n",
      "[5]\tvalidation-auc:0.85715\n",
      "[6]\tvalidation-auc:0.85662\n",
      "[7]\tvalidation-auc:0.85923\n",
      "[8]\tvalidation-auc:0.85936\n",
      "[9]\tvalidation-auc:0.85722\n",
      "[0]\tvalidation-auc:0.85134\n",
      "[1]\tvalidation-auc:0.84967\n",
      "[2]\tvalidation-auc:0.85314\n",
      "[3]\tvalidation-auc:0.85027\n",
      "[4]\tvalidation-auc:0.85902\n",
      "[5]\tvalidation-auc:0.85267\n",
      "[6]\tvalidation-auc:0.85214\n",
      "[7]\tvalidation-auc:0.85374\n",
      "[8]\tvalidation-auc:0.84619\n",
      "[9]\tvalidation-auc:0.84639\n",
      "[0]\tvalidation-auc:0.84251\n",
      "[1]\tvalidation-auc:0.85029\n",
      "[2]\tvalidation-auc:0.84503\n",
      "[3]\tvalidation-auc:0.85600\n",
      "[4]\tvalidation-auc:0.85009\n",
      "[5]\tvalidation-auc:0.85288\n",
      "[6]\tvalidation-auc:0.85328\n",
      "[7]\tvalidation-auc:0.85374\n",
      "[8]\tvalidation-auc:0.85374\n",
      "[9]\tvalidation-auc:0.85733\n"
     ]
    },
    {
     "name": "stderr",
     "output_type": "stream",
     "text": [
      "\u001b[32m[I 2021-10-02 20:11:14,583]\u001b[0m Trial 50 finished with value: 0.8146067415730337 and parameters: {'booster': 'dart', 'lambda': 0.0008949523614241206, 'alpha': 4.857739656540746e-07, 'max_depth': 5, 'eta': 0.35876971837219296, 'gamma': 0.08885851275108893, 'grow_policy': 'lossguide', 'sample_type': 'uniform', 'normalize_type': 'forest', 'rate_drop': 3.3108306521601847e-07, 'skip_drop': 6.877196261711744e-06}. Best is trial 10 with value: 0.8314606741573034.\u001b[0m\n"
     ]
    },
    {
     "name": "stdout",
     "output_type": "stream",
     "text": [
      "[0]\tvalidation-auc:0.87787\n",
      "[1]\tvalidation-auc:0.88116\n",
      "[2]\tvalidation-auc:0.88090\n",
      "[3]\tvalidation-auc:0.88090\n",
      "[4]\tvalidation-auc:0.88090\n",
      "[5]\tvalidation-auc:0.88090\n",
      "[6]\tvalidation-auc:0.88090\n",
      "[7]\tvalidation-auc:0.88090\n",
      "[8]\tvalidation-auc:0.88090\n",
      "[9]\tvalidation-auc:0.88090\n",
      "[0]\tvalidation-auc:0.84352\n",
      "[1]\tvalidation-auc:0.84352\n",
      "[2]\tvalidation-auc:0.84352\n",
      "[3]\tvalidation-auc:0.84352\n",
      "[4]\tvalidation-auc:0.84352\n",
      "[5]\tvalidation-auc:0.84352\n",
      "[6]\tvalidation-auc:0.84352\n",
      "[7]\tvalidation-auc:0.84352\n",
      "[8]\tvalidation-auc:0.84352\n",
      "[9]\tvalidation-auc:0.84352\n",
      "[0]\tvalidation-auc:0.83576\n",
      "[1]\tvalidation-auc:0.83576\n",
      "[2]\tvalidation-auc:0.83576\n",
      "[3]\tvalidation-auc:0.83576\n",
      "[4]\tvalidation-auc:0.83576\n",
      "[5]\tvalidation-auc:0.83576\n",
      "[6]\tvalidation-auc:0.83576\n",
      "[7]\tvalidation-auc:0.83576\n",
      "[8]\tvalidation-auc:0.83576\n",
      "[9]\tvalidation-auc:0.83576\n",
      "[0]\tvalidation-auc:0.83750\n",
      "[1]\tvalidation-auc:0.83750\n",
      "[2]\tvalidation-auc:0.83750\n",
      "[3]\tvalidation-auc:0.83750\n",
      "[4]\tvalidation-auc:0.83750\n",
      "[5]\tvalidation-auc:0.83750\n",
      "[6]\tvalidation-auc:0.83750\n",
      "[7]\tvalidation-auc:0.83750\n",
      "[8]\tvalidation-auc:0.83750\n",
      "[9]\tvalidation-auc:0.83750\n",
      "[0]\tvalidation-auc:0.87994\n",
      "[1]\tvalidation-auc:0.87994\n",
      "[2]\tvalidation-auc:0.87994\n",
      "[3]\tvalidation-auc:0.87994\n",
      "[4]\tvalidation-auc:0.87994\n",
      "[5]\tvalidation-auc:0.87994\n",
      "[6]\tvalidation-auc:0.87994\n",
      "[7]\tvalidation-auc:0.87994\n",
      "[8]\tvalidation-auc:0.87994\n",
      "[9]\tvalidation-auc:0.87994\n"
     ]
    },
    {
     "name": "stderr",
     "output_type": "stream",
     "text": [
      "\u001b[32m[I 2021-10-02 20:11:14,826]\u001b[0m Trial 51 finished with value: 0.8202247191011236 and parameters: {'booster': 'gbtree', 'lambda': 3.846131036765234e-06, 'alpha': 0.0015068003423850547, 'max_depth': 3, 'eta': 3.448370623117002e-05, 'gamma': 0.006944747292730224, 'grow_policy': 'lossguide'}. Best is trial 10 with value: 0.8314606741573034.\u001b[0m\n"
     ]
    },
    {
     "name": "stdout",
     "output_type": "stream",
     "text": [
      "[0]\tvalidation-auc:0.87787\n",
      "[1]\tvalidation-auc:0.88116\n",
      "[2]\tvalidation-auc:0.88090\n",
      "[3]\tvalidation-auc:0.88090\n",
      "[4]\tvalidation-auc:0.88775\n",
      "[5]\tvalidation-auc:0.88775\n",
      "[6]\tvalidation-auc:0.88775\n",
      "[7]\tvalidation-auc:0.88775\n",
      "[8]\tvalidation-auc:0.88775\n",
      "[9]\tvalidation-auc:0.88775\n",
      "[0]\tvalidation-auc:0.84352\n",
      "[1]\tvalidation-auc:0.84352\n",
      "[2]\tvalidation-auc:0.84352\n",
      "[3]\tvalidation-auc:0.84352\n",
      "[4]\tvalidation-auc:0.84352\n",
      "[5]\tvalidation-auc:0.84352\n",
      "[6]\tvalidation-auc:0.84352\n",
      "[7]\tvalidation-auc:0.84352\n",
      "[8]\tvalidation-auc:0.84352\n",
      "[9]\tvalidation-auc:0.84352\n",
      "[0]\tvalidation-auc:0.83576\n",
      "[1]\tvalidation-auc:0.83576\n",
      "[2]\tvalidation-auc:0.83576\n",
      "[3]\tvalidation-auc:0.83576\n",
      "[4]\tvalidation-auc:0.83576\n",
      "[5]\tvalidation-auc:0.83576\n",
      "[6]\tvalidation-auc:0.83576\n",
      "[7]\tvalidation-auc:0.83576\n",
      "[8]\tvalidation-auc:0.83576\n",
      "[9]\tvalidation-auc:0.83576\n",
      "[0]\tvalidation-auc:0.83750\n",
      "[1]\tvalidation-auc:0.83750\n",
      "[2]\tvalidation-auc:0.83750\n",
      "[3]\tvalidation-auc:0.83750\n",
      "[4]\tvalidation-auc:0.83750\n",
      "[5]\tvalidation-auc:0.83750\n",
      "[6]\tvalidation-auc:0.83750\n",
      "[7]\tvalidation-auc:0.83750\n",
      "[8]\tvalidation-auc:0.83750\n",
      "[9]\tvalidation-auc:0.83750\n",
      "[0]\tvalidation-auc:0.87994\n",
      "[1]\tvalidation-auc:0.87994\n",
      "[2]\tvalidation-auc:0.87994\n",
      "[3]\tvalidation-auc:0.87994\n",
      "[4]\tvalidation-auc:0.87994\n",
      "[5]\tvalidation-auc:0.87994\n",
      "[6]\tvalidation-auc:0.87994\n",
      "[7]\tvalidation-auc:0.87994\n",
      "[8]\tvalidation-auc:0.87994\n",
      "[9]\tvalidation-auc:0.87994\n"
     ]
    },
    {
     "name": "stderr",
     "output_type": "stream",
     "text": [
      "\u001b[32m[I 2021-10-02 20:11:15,079]\u001b[0m Trial 52 finished with value: 0.8202247191011236 and parameters: {'booster': 'gbtree', 'lambda': 1.0148033229287477e-06, 'alpha': 0.00029121674874089986, 'max_depth': 3, 'eta': 0.00045832060678617286, 'gamma': 0.4638962002902206, 'grow_policy': 'lossguide'}. Best is trial 10 with value: 0.8314606741573034.\u001b[0m\n"
     ]
    },
    {
     "name": "stdout",
     "output_type": "stream",
     "text": [
      "[0]\tvalidation-auc:0.84084\n",
      "[1]\tvalidation-auc:0.85448\n",
      "[2]\tvalidation-auc:0.85448\n",
      "[3]\tvalidation-auc:0.85448\n",
      "[4]\tvalidation-auc:0.85448\n"
     ]
    },
    {
     "name": "stderr",
     "output_type": "stream",
     "text": [
      "\u001b[32m[I 2021-10-02 20:11:15,119]\u001b[0m Trial 53 pruned. Trial was pruned at iteration 5.\u001b[0m\n"
     ]
    },
    {
     "name": "stdout",
     "output_type": "stream",
     "text": [
      "[0]\tvalidation-auc:0.88617\n",
      "[1]\tvalidation-auc:0.88926\n",
      "[2]\tvalidation-auc:0.88926\n",
      "[3]\tvalidation-auc:0.88939\n",
      "[4]\tvalidation-auc:0.88939\n",
      "[5]\tvalidation-auc:0.88939\n",
      "[6]\tvalidation-auc:0.88939\n",
      "[7]\tvalidation-auc:0.88939\n",
      "[8]\tvalidation-auc:0.89249\n",
      "[9]\tvalidation-auc:0.89354\n",
      "[0]\tvalidation-auc:0.83449\n",
      "[1]\tvalidation-auc:0.83449\n",
      "[2]\tvalidation-auc:0.83449\n",
      "[3]\tvalidation-auc:0.83449\n",
      "[4]\tvalidation-auc:0.83449\n",
      "[5]\tvalidation-auc:0.83449\n",
      "[6]\tvalidation-auc:0.83449\n",
      "[7]\tvalidation-auc:0.83449\n",
      "[8]\tvalidation-auc:0.83449\n",
      "[9]\tvalidation-auc:0.83449\n",
      "[0]\tvalidation-auc:0.86905\n",
      "[1]\tvalidation-auc:0.86905\n",
      "[2]\tvalidation-auc:0.86905\n",
      "[3]\tvalidation-auc:0.86905\n",
      "[4]\tvalidation-auc:0.86905\n",
      "[5]\tvalidation-auc:0.86905\n",
      "[6]\tvalidation-auc:0.86905\n",
      "[7]\tvalidation-auc:0.86905\n",
      "[8]\tvalidation-auc:0.86905\n",
      "[9]\tvalidation-auc:0.86905\n",
      "[0]\tvalidation-auc:0.83135\n",
      "[1]\tvalidation-auc:0.83128\n",
      "[2]\tvalidation-auc:0.83128\n",
      "[3]\tvalidation-auc:0.83122\n",
      "[4]\tvalidation-auc:0.83122\n",
      "[5]\tvalidation-auc:0.83128\n",
      "[6]\tvalidation-auc:0.83122\n",
      "[7]\tvalidation-auc:0.83122\n",
      "[8]\tvalidation-auc:0.83122\n",
      "[9]\tvalidation-auc:0.83122\n",
      "[0]\tvalidation-auc:0.84596\n",
      "[1]\tvalidation-auc:0.84596\n",
      "[2]\tvalidation-auc:0.84596\n",
      "[3]\tvalidation-auc:0.84596\n",
      "[4]\tvalidation-auc:0.84596\n",
      "[5]\tvalidation-auc:0.84596\n",
      "[6]\tvalidation-auc:0.84596\n",
      "[7]\tvalidation-auc:0.84650\n",
      "[8]\tvalidation-auc:0.84650\n",
      "[9]\tvalidation-auc:0.84596\n"
     ]
    },
    {
     "name": "stderr",
     "output_type": "stream",
     "text": [
      "\u001b[32m[I 2021-10-02 20:11:15,418]\u001b[0m Trial 54 finished with value: 0.8033707865168539 and parameters: {'booster': 'gbtree', 'lambda': 9.797002078570143e-08, 'alpha': 0.000286333232668319, 'max_depth': 4, 'eta': 0.00036226342283479684, 'gamma': 0.5483149153094703, 'grow_policy': 'lossguide'}. Best is trial 10 with value: 0.8314606741573034.\u001b[0m\n"
     ]
    },
    {
     "name": "stdout",
     "output_type": "stream",
     "text": [
      "[0]\tvalidation-auc:0.85369\n",
      "[1]\tvalidation-auc:0.85277\n",
      "[2]\tvalidation-auc:0.85059\n",
      "[3]\tvalidation-auc:0.84941\n",
      "[4]\tvalidation-auc:0.84941\n",
      "[5]\tvalidation-auc:0.84862\n"
     ]
    },
    {
     "name": "stderr",
     "output_type": "stream",
     "text": [
      "\u001b[32m[I 2021-10-02 20:11:15,471]\u001b[0m Trial 55 pruned. Trial was pruned at iteration 5.\u001b[0m\n"
     ]
    },
    {
     "name": "stdout",
     "output_type": "stream",
     "text": [
      "[0]\tvalidation-auc:0.87787\n",
      "[1]\tvalidation-auc:0.88116\n",
      "[2]\tvalidation-auc:0.88090\n",
      "[3]\tvalidation-auc:0.88090\n",
      "[4]\tvalidation-auc:0.88090\n",
      "[5]\tvalidation-auc:0.88090\n",
      "[6]\tvalidation-auc:0.88090\n",
      "[7]\tvalidation-auc:0.88090\n",
      "[8]\tvalidation-auc:0.88090\n",
      "[9]\tvalidation-auc:0.88090\n",
      "[0]\tvalidation-auc:0.84352\n",
      "[1]\tvalidation-auc:0.84352\n",
      "[2]\tvalidation-auc:0.84352\n",
      "[3]\tvalidation-auc:0.84352\n",
      "[4]\tvalidation-auc:0.84352\n",
      "[5]\tvalidation-auc:0.84352\n",
      "[6]\tvalidation-auc:0.84352\n",
      "[7]\tvalidation-auc:0.84352\n",
      "[8]\tvalidation-auc:0.84352\n",
      "[9]\tvalidation-auc:0.84352\n",
      "[0]\tvalidation-auc:0.83576\n",
      "[1]\tvalidation-auc:0.83576\n",
      "[2]\tvalidation-auc:0.83576\n",
      "[3]\tvalidation-auc:0.83576\n",
      "[4]\tvalidation-auc:0.83576\n",
      "[5]\tvalidation-auc:0.83576\n",
      "[6]\tvalidation-auc:0.83576\n",
      "[7]\tvalidation-auc:0.83576\n",
      "[8]\tvalidation-auc:0.83576\n",
      "[9]\tvalidation-auc:0.83576\n",
      "[0]\tvalidation-auc:0.83750\n",
      "[1]\tvalidation-auc:0.83750\n",
      "[2]\tvalidation-auc:0.83750\n",
      "[3]\tvalidation-auc:0.83750\n",
      "[4]\tvalidation-auc:0.83750\n",
      "[5]\tvalidation-auc:0.83750\n",
      "[6]\tvalidation-auc:0.83750\n",
      "[7]\tvalidation-auc:0.83750\n",
      "[8]\tvalidation-auc:0.83750\n",
      "[9]\tvalidation-auc:0.83750\n",
      "[0]\tvalidation-auc:0.87994\n",
      "[1]\tvalidation-auc:0.87994\n",
      "[2]\tvalidation-auc:0.87994\n",
      "[3]\tvalidation-auc:0.87994\n",
      "[4]\tvalidation-auc:0.87994\n",
      "[5]\tvalidation-auc:0.87994\n",
      "[6]\tvalidation-auc:0.87994\n",
      "[7]\tvalidation-auc:0.87994\n",
      "[8]\tvalidation-auc:0.87994\n",
      "[9]\tvalidation-auc:0.87994\n"
     ]
    },
    {
     "name": "stderr",
     "output_type": "stream",
     "text": [
      "\u001b[32m[I 2021-10-02 20:11:15,833]\u001b[0m Trial 56 finished with value: 0.8202247191011236 and parameters: {'booster': 'dart', 'lambda': 1.3711673280369163e-05, 'alpha': 5.729611810890185e-05, 'max_depth': 3, 'eta': 0.00012117113228667091, 'gamma': 0.02167871844916257, 'grow_policy': 'lossguide', 'sample_type': 'uniform', 'normalize_type': 'forest', 'rate_drop': 4.3495220709870663e-07, 'skip_drop': 0.011372430462268929}. Best is trial 10 with value: 0.8314606741573034.\u001b[0m\n"
     ]
    },
    {
     "name": "stdout",
     "output_type": "stream",
     "text": [
      "[0]\tvalidation-auc:0.85257\n",
      "[1]\tvalidation-auc:0.86179\n",
      "[2]\tvalidation-auc:0.86074\n",
      "[3]\tvalidation-auc:0.86917\n",
      "[4]\tvalidation-auc:0.87642\n"
     ]
    },
    {
     "name": "stderr",
     "output_type": "stream",
     "text": [
      "\u001b[32m[I 2021-10-02 20:11:15,892]\u001b[0m Trial 57 pruned. Trial was pruned at iteration 5.\u001b[0m\n"
     ]
    },
    {
     "name": "stdout",
     "output_type": "stream",
     "text": [
      "[0]\tvalidation-auc:0.87787\n",
      "[1]\tvalidation-auc:0.88880\n",
      "[2]\tvalidation-auc:0.88518\n",
      "[3]\tvalidation-auc:0.88689\n",
      "[4]\tvalidation-auc:0.88307\n",
      "[5]\tvalidation-auc:0.88491\n",
      "[6]\tvalidation-auc:0.88650\n",
      "[7]\tvalidation-auc:0.88570\n",
      "[8]\tvalidation-auc:0.88544\n",
      "[9]\tvalidation-auc:0.88505\n",
      "[0]\tvalidation-auc:0.84352\n",
      "[1]\tvalidation-auc:0.84352\n",
      "[2]\tvalidation-auc:0.84352\n",
      "[3]\tvalidation-auc:0.84352\n",
      "[4]\tvalidation-auc:0.84352\n",
      "[5]\tvalidation-auc:0.84311\n",
      "[6]\tvalidation-auc:0.86203\n",
      "[7]\tvalidation-auc:0.86203\n",
      "[8]\tvalidation-auc:0.86444\n",
      "[9]\tvalidation-auc:0.86283\n",
      "[0]\tvalidation-auc:0.83576\n",
      "[1]\tvalidation-auc:0.83576\n",
      "[2]\tvalidation-auc:0.83576\n",
      "[3]\tvalidation-auc:0.83576\n",
      "[4]\tvalidation-auc:0.83576\n",
      "[5]\tvalidation-auc:0.83696\n",
      "[6]\tvalidation-auc:0.83950\n",
      "[7]\tvalidation-auc:0.84245\n",
      "[8]\tvalidation-auc:0.84138\n",
      "[9]\tvalidation-auc:0.84545\n",
      "[0]\tvalidation-auc:0.83750\n",
      "[1]\tvalidation-auc:0.84044\n",
      "[2]\tvalidation-auc:0.83817\n",
      "[3]\tvalidation-auc:0.84766\n",
      "[4]\tvalidation-auc:0.84779\n",
      "[5]\tvalidation-auc:0.84846\n",
      "[6]\tvalidation-auc:0.85160\n",
      "[7]\tvalidation-auc:0.85762\n",
      "[8]\tvalidation-auc:0.85140\n",
      "[9]\tvalidation-auc:0.86150\n",
      "[0]\tvalidation-auc:0.87994\n",
      "[1]\tvalidation-auc:0.87994\n",
      "[2]\tvalidation-auc:0.87887\n",
      "[3]\tvalidation-auc:0.87887\n",
      "[4]\tvalidation-auc:0.87887\n",
      "[5]\tvalidation-auc:0.88173\n",
      "[6]\tvalidation-auc:0.88492\n",
      "[7]\tvalidation-auc:0.88865\n",
      "[8]\tvalidation-auc:0.88386\n",
      "[9]\tvalidation-auc:0.88452\n"
     ]
    },
    {
     "name": "stderr",
     "output_type": "stream",
     "text": [
      "\u001b[32m[I 2021-10-02 20:11:16,250]\u001b[0m Trial 58 finished with value: 0.8370786516853933 and parameters: {'booster': 'dart', 'lambda': 6.810559266757943e-05, 'alpha': 2.8673457152075684e-05, 'max_depth': 3, 'eta': 0.03879555008580796, 'gamma': 0.014916783848087345, 'grow_policy': 'depthwise', 'sample_type': 'uniform', 'normalize_type': 'forest', 'rate_drop': 9.819154679456242e-08, 'skip_drop': 0.012665326127287846}. Best is trial 58 with value: 0.8370786516853933.\u001b[0m\n"
     ]
    },
    {
     "name": "stdout",
     "output_type": "stream",
     "text": [
      "[0]\tvalidation-auc:0.84084\n",
      "[1]\tvalidation-auc:0.85448\n",
      "[2]\tvalidation-auc:0.85448\n",
      "[3]\tvalidation-auc:0.85448\n",
      "[4]\tvalidation-auc:0.85389\n"
     ]
    },
    {
     "name": "stderr",
     "output_type": "stream",
     "text": [
      "\u001b[32m[I 2021-10-02 20:11:16,300]\u001b[0m Trial 59 pruned. Trial was pruned at iteration 5.\u001b[0m\n"
     ]
    },
    {
     "name": "stdout",
     "output_type": "stream",
     "text": [
      "[0]\tvalidation-auc:0.88557\n",
      "[1]\tvalidation-auc:0.89783\n",
      "[2]\tvalidation-auc:0.89690\n",
      "[3]\tvalidation-auc:0.89051\n",
      "[4]\tvalidation-auc:0.88775\n",
      "[5]\tvalidation-auc:0.88913\n",
      "[6]\tvalidation-auc:0.88399\n",
      "[7]\tvalidation-auc:0.88610\n",
      "[8]\tvalidation-auc:0.88781\n",
      "[9]\tvalidation-auc:0.88887\n",
      "[0]\tvalidation-auc:0.83790\n",
      "[1]\tvalidation-auc:0.83529\n",
      "[2]\tvalidation-auc:0.84806\n",
      "[3]\tvalidation-auc:0.84672\n",
      "[4]\tvalidation-auc:0.85876\n",
      "[5]\tvalidation-auc:0.87159\n",
      "[6]\tvalidation-auc:0.86965\n",
      "[7]\tvalidation-auc:0.87059\n",
      "[8]\tvalidation-auc:0.87754\n",
      "[9]\tvalidation-auc:0.87734\n",
      "[0]\tvalidation-auc:0.86905\n",
      "[1]\tvalidation-auc:0.87941\n",
      "[2]\tvalidation-auc:0.87727\n",
      "[3]\tvalidation-auc:0.87868\n",
      "[4]\tvalidation-auc:0.86384\n",
      "[5]\tvalidation-auc:0.87039\n",
      "[6]\tvalidation-auc:0.86658\n",
      "[7]\tvalidation-auc:0.86872\n",
      "[8]\tvalidation-auc:0.86745\n",
      "[9]\tvalidation-auc:0.86497\n",
      "[0]\tvalidation-auc:0.83162\n",
      "[1]\tvalidation-auc:0.84104\n",
      "[2]\tvalidation-auc:0.85842\n",
      "[3]\tvalidation-auc:0.85635\n",
      "[4]\tvalidation-auc:0.86945\n",
      "[5]\tvalidation-auc:0.87233\n",
      "[6]\tvalidation-auc:0.86577\n",
      "[7]\tvalidation-auc:0.86564\n",
      "[8]\tvalidation-auc:0.86818\n",
      "[9]\tvalidation-auc:0.86577\n",
      "[0]\tvalidation-auc:0.84384\n",
      "[1]\tvalidation-auc:0.84816\n",
      "[2]\tvalidation-auc:0.85049\n",
      "[3]\tvalidation-auc:0.84324\n",
      "[4]\tvalidation-auc:0.84204\n",
      "[5]\tvalidation-auc:0.84616\n",
      "[6]\tvalidation-auc:0.84098\n",
      "[7]\tvalidation-auc:0.83998\n",
      "[8]\tvalidation-auc:0.84158\n",
      "[9]\tvalidation-auc:0.84550\n"
     ]
    },
    {
     "name": "stderr",
     "output_type": "stream",
     "text": [
      "\u001b[32m[I 2021-10-02 20:11:16,727]\u001b[0m Trial 60 finished with value: 0.8258426966292135 and parameters: {'booster': 'dart', 'lambda': 3.802242921253333e-05, 'alpha': 2.8235109430598036e-05, 'max_depth': 4, 'eta': 0.14454988700955157, 'gamma': 2.411143415509886e-06, 'grow_policy': 'depthwise', 'sample_type': 'uniform', 'normalize_type': 'forest', 'rate_drop': 4.2974457872914934e-08, 'skip_drop': 0.0264391173086282}. Best is trial 58 with value: 0.8370786516853933.\u001b[0m\n"
     ]
    },
    {
     "name": "stdout",
     "output_type": "stream",
     "text": [
      "[0]\tvalidation-auc:0.88557\n",
      "[1]\tvalidation-auc:0.89783\n",
      "[2]\tvalidation-auc:0.89690\n",
      "[3]\tvalidation-auc:0.89051\n",
      "[4]\tvalidation-auc:0.88775\n",
      "[5]\tvalidation-auc:0.88874\n",
      "[6]\tvalidation-auc:0.88373\n",
      "[7]\tvalidation-auc:0.88696\n",
      "[8]\tvalidation-auc:0.88867\n",
      "[9]\tvalidation-auc:0.88709\n",
      "[0]\tvalidation-auc:0.83790\n",
      "[1]\tvalidation-auc:0.83529\n",
      "[2]\tvalidation-auc:0.84806\n",
      "[3]\tvalidation-auc:0.84726\n",
      "[4]\tvalidation-auc:0.86023\n",
      "[5]\tvalidation-auc:0.87039\n",
      "[6]\tvalidation-auc:0.86925\n",
      "[7]\tvalidation-auc:0.86992\n",
      "[8]\tvalidation-auc:0.87741\n",
      "[9]\tvalidation-auc:0.87587\n",
      "[0]\tvalidation-auc:0.86905\n",
      "[1]\tvalidation-auc:0.87941\n",
      "[2]\tvalidation-auc:0.87727\n",
      "[3]\tvalidation-auc:0.87868\n",
      "[4]\tvalidation-auc:0.86384\n",
      "[5]\tvalidation-auc:0.87039\n",
      "[6]\tvalidation-auc:0.86504\n",
      "[7]\tvalidation-auc:0.86932\n",
      "[8]\tvalidation-auc:0.86731\n",
      "[9]\tvalidation-auc:0.86404\n",
      "[0]\tvalidation-auc:0.83162\n",
      "[1]\tvalidation-auc:0.84104\n",
      "[2]\tvalidation-auc:0.85842\n",
      "[3]\tvalidation-auc:0.85635\n",
      "[4]\tvalidation-auc:0.86945\n",
      "[5]\tvalidation-auc:0.87206\n",
      "[6]\tvalidation-auc:0.86577\n",
      "[7]\tvalidation-auc:0.86564\n",
      "[8]\tvalidation-auc:0.86785\n",
      "[9]\tvalidation-auc:0.86584\n",
      "[0]\tvalidation-auc:0.84384\n",
      "[1]\tvalidation-auc:0.84816\n",
      "[2]\tvalidation-auc:0.85049\n",
      "[3]\tvalidation-auc:0.84324\n",
      "[4]\tvalidation-auc:0.84204\n",
      "[5]\tvalidation-auc:0.84616\n",
      "[6]\tvalidation-auc:0.84058\n",
      "[7]\tvalidation-auc:0.84237\n",
      "[8]\tvalidation-auc:0.85315\n",
      "[9]\tvalidation-auc:0.85886\n"
     ]
    },
    {
     "name": "stderr",
     "output_type": "stream",
     "text": [
      "\u001b[32m[I 2021-10-02 20:11:17,154]\u001b[0m Trial 61 finished with value: 0.8258426966292135 and parameters: {'booster': 'dart', 'lambda': 3.623975021757232e-05, 'alpha': 0.00014967597145085034, 'max_depth': 4, 'eta': 0.14700161832501693, 'gamma': 2.2234724571775943e-06, 'grow_policy': 'depthwise', 'sample_type': 'uniform', 'normalize_type': 'forest', 'rate_drop': 5.2974943011062893e-08, 'skip_drop': 0.10016976241905025}. Best is trial 58 with value: 0.8370786516853933.\u001b[0m\n"
     ]
    },
    {
     "name": "stdout",
     "output_type": "stream",
     "text": [
      "[0]\tvalidation-auc:0.88557\n",
      "[1]\tvalidation-auc:0.89783\n",
      "[2]\tvalidation-auc:0.89743\n",
      "[3]\tvalidation-auc:0.89539\n",
      "[4]\tvalidation-auc:0.89539\n",
      "[5]\tvalidation-auc:0.89065\n",
      "[6]\tvalidation-auc:0.88926\n",
      "[7]\tvalidation-auc:0.89111\n",
      "[8]\tvalidation-auc:0.89025\n",
      "[9]\tvalidation-auc:0.89117\n",
      "[0]\tvalidation-auc:0.83790\n",
      "[1]\tvalidation-auc:0.83529\n",
      "[2]\tvalidation-auc:0.84806\n",
      "[3]\tvalidation-auc:0.84599\n",
      "[4]\tvalidation-auc:0.85775\n",
      "[5]\tvalidation-auc:0.87099\n",
      "[6]\tvalidation-auc:0.86932\n",
      "[7]\tvalidation-auc:0.86945\n",
      "[8]\tvalidation-auc:0.87106\n",
      "[9]\tvalidation-auc:0.87079\n",
      "[0]\tvalidation-auc:0.86905\n",
      "[1]\tvalidation-auc:0.87941\n",
      "[2]\tvalidation-auc:0.87741\n",
      "[3]\tvalidation-auc:0.87467\n",
      "[4]\tvalidation-auc:0.87553\n",
      "[5]\tvalidation-auc:0.86718\n",
      "[6]\tvalidation-auc:0.86832\n",
      "[7]\tvalidation-auc:0.86611\n",
      "[8]\tvalidation-auc:0.86531\n",
      "[9]\tvalidation-auc:0.86370\n",
      "[0]\tvalidation-auc:0.83162\n",
      "[1]\tvalidation-auc:0.84104\n",
      "[2]\tvalidation-auc:0.85842\n",
      "[3]\tvalidation-auc:0.85842\n",
      "[4]\tvalidation-auc:0.86952\n",
      "[5]\tvalidation-auc:0.86731\n",
      "[6]\tvalidation-auc:0.87059\n",
      "[7]\tvalidation-auc:0.87326\n",
      "[8]\tvalidation-auc:0.86738\n",
      "[9]\tvalidation-auc:0.86684\n",
      "[0]\tvalidation-auc:0.84384\n",
      "[1]\tvalidation-auc:0.84816\n",
      "[2]\tvalidation-auc:0.85049\n",
      "[3]\tvalidation-auc:0.84324\n",
      "[4]\tvalidation-auc:0.84204\n",
      "[5]\tvalidation-auc:0.84616\n",
      "[6]\tvalidation-auc:0.84297\n",
      "[7]\tvalidation-auc:0.84224\n",
      "[8]\tvalidation-auc:0.84357\n",
      "[9]\tvalidation-auc:0.84763\n"
     ]
    },
    {
     "name": "stderr",
     "output_type": "stream",
     "text": [
      "\u001b[32m[I 2021-10-02 20:11:17,549]\u001b[0m Trial 62 finished with value: 0.8258426966292135 and parameters: {'booster': 'dart', 'lambda': 5.3164514289573684e-05, 'alpha': 3.2499227087511516e-06, 'max_depth': 4, 'eta': 0.13406822328238116, 'gamma': 2.539828908843929e-06, 'grow_policy': 'depthwise', 'sample_type': 'uniform', 'normalize_type': 'forest', 'rate_drop': 7.773778757564207e-08, 'skip_drop': 0.16717827523009549}. Best is trial 58 with value: 0.8370786516853933.\u001b[0m\n"
     ]
    },
    {
     "name": "stdout",
     "output_type": "stream",
     "text": [
      "[0]\tvalidation-auc:0.88557\n",
      "[1]\tvalidation-auc:0.89769\n",
      "[2]\tvalidation-auc:0.89559\n",
      "[3]\tvalidation-auc:0.89005\n",
      "[4]\tvalidation-auc:0.88913\n",
      "[5]\tvalidation-auc:0.88880\n",
      "[6]\tvalidation-auc:0.88412\n",
      "[7]\tvalidation-auc:0.88682\n",
      "[8]\tvalidation-auc:0.88893\n",
      "[9]\tvalidation-auc:0.88847\n",
      "[0]\tvalidation-auc:0.83790\n",
      "[1]\tvalidation-auc:0.83643\n",
      "[2]\tvalidation-auc:0.84465\n",
      "[3]\tvalidation-auc:0.85829\n",
      "[4]\tvalidation-auc:0.87126\n",
      "[5]\tvalidation-auc:0.86945\n",
      "[6]\tvalidation-auc:0.87025\n",
      "[7]\tvalidation-auc:0.87226\n",
      "[8]\tvalidation-auc:0.87400\n",
      "[9]\tvalidation-auc:0.88095\n",
      "[0]\tvalidation-auc:0.86905\n",
      "[1]\tvalidation-auc:0.87941\n",
      "[2]\tvalidation-auc:0.87553\n",
      "[3]\tvalidation-auc:0.87721\n",
      "[4]\tvalidation-auc:0.88162\n",
      "[5]\tvalidation-auc:0.86952\n",
      "[6]\tvalidation-auc:0.86638\n",
      "[7]\tvalidation-auc:0.86644\n",
      "[8]\tvalidation-auc:0.86457\n",
      "[9]\tvalidation-auc:0.86417\n",
      "[0]\tvalidation-auc:0.83162\n",
      "[1]\tvalidation-auc:0.84104\n",
      "[2]\tvalidation-auc:0.85869\n",
      "[3]\tvalidation-auc:0.85662\n",
      "[4]\tvalidation-auc:0.86959\n",
      "[5]\tvalidation-auc:0.87219\n",
      "[6]\tvalidation-auc:0.86257\n",
      "[7]\tvalidation-auc:0.86417\n",
      "[8]\tvalidation-auc:0.86203\n",
      "[9]\tvalidation-auc:0.86444\n",
      "[0]\tvalidation-auc:0.84384\n",
      "[1]\tvalidation-auc:0.84816\n",
      "[2]\tvalidation-auc:0.85049\n",
      "[3]\tvalidation-auc:0.84324\n",
      "[4]\tvalidation-auc:0.84204\n",
      "[5]\tvalidation-auc:0.84550\n",
      "[6]\tvalidation-auc:0.84051\n",
      "[7]\tvalidation-auc:0.84417\n",
      "[8]\tvalidation-auc:0.84796\n",
      "[9]\tvalidation-auc:0.85301\n"
     ]
    },
    {
     "name": "stderr",
     "output_type": "stream",
     "text": [
      "\u001b[32m[I 2021-10-02 20:11:17,958]\u001b[0m Trial 63 finished with value: 0.8202247191011236 and parameters: {'booster': 'dart', 'lambda': 0.0004140880050393831, 'alpha': 1.9160846408121813e-05, 'max_depth': 4, 'eta': 0.1622226094592076, 'gamma': 2.429688792980216e-06, 'grow_policy': 'depthwise', 'sample_type': 'uniform', 'normalize_type': 'forest', 'rate_drop': 1.5241796946856526e-07, 'skip_drop': 0.05395265031963893}. Best is trial 58 with value: 0.8370786516853933.\u001b[0m\n"
     ]
    },
    {
     "name": "stdout",
     "output_type": "stream",
     "text": [
      "[0]\tvalidation-auc:0.87260\n",
      "[1]\tvalidation-auc:0.88531\n",
      "[2]\tvalidation-auc:0.89249\n",
      "[3]\tvalidation-auc:0.88584\n",
      "[4]\tvalidation-auc:0.87866\n",
      "[5]\tvalidation-auc:0.87675\n",
      "[6]\tvalidation-auc:0.87931\n",
      "[7]\tvalidation-auc:0.88083\n",
      "[8]\tvalidation-auc:0.88149\n",
      "[9]\tvalidation-auc:0.88004\n",
      "[0]\tvalidation-auc:0.86598\n",
      "[1]\tvalidation-auc:0.84987\n",
      "[2]\tvalidation-auc:0.87333\n",
      "[3]\tvalidation-auc:0.87747\n",
      "[4]\tvalidation-auc:0.86437\n",
      "[5]\tvalidation-auc:0.86050\n",
      "[6]\tvalidation-auc:0.86838\n",
      "[7]\tvalidation-auc:0.88102\n",
      "[8]\tvalidation-auc:0.86671\n",
      "[9]\tvalidation-auc:0.86537\n",
      "[0]\tvalidation-auc:0.85454\n",
      "[1]\tvalidation-auc:0.85628\n",
      "[2]\tvalidation-auc:0.86217\n",
      "[3]\tvalidation-auc:0.85989\n",
      "[4]\tvalidation-auc:0.85963\n",
      "[5]\tvalidation-auc:0.86016\n",
      "[6]\tvalidation-auc:0.85862\n",
      "[7]\tvalidation-auc:0.86718\n",
      "[8]\tvalidation-auc:0.86624\n",
      "[9]\tvalidation-auc:0.86591\n",
      "[0]\tvalidation-auc:0.85134\n",
      "[1]\tvalidation-auc:0.85715\n",
      "[2]\tvalidation-auc:0.85341\n",
      "[3]\tvalidation-auc:0.84619\n",
      "[4]\tvalidation-auc:0.86036\n",
      "[5]\tvalidation-auc:0.85709\n",
      "[6]\tvalidation-auc:0.85789\n",
      "[7]\tvalidation-auc:0.85435\n",
      "[8]\tvalidation-auc:0.85007\n",
      "[9]\tvalidation-auc:0.85087\n",
      "[0]\tvalidation-auc:0.84251\n",
      "[1]\tvalidation-auc:0.84337\n",
      "[2]\tvalidation-auc:0.87043\n",
      "[3]\tvalidation-auc:0.85534\n",
      "[4]\tvalidation-auc:0.84896\n",
      "[5]\tvalidation-auc:0.84749\n",
      "[6]\tvalidation-auc:0.84404\n",
      "[7]\tvalidation-auc:0.84330\n",
      "[8]\tvalidation-auc:0.84071\n",
      "[9]\tvalidation-auc:0.84244\n"
     ]
    },
    {
     "name": "stderr",
     "output_type": "stream",
     "text": [
      "\u001b[32m[I 2021-10-02 20:11:18,365]\u001b[0m Trial 64 finished with value: 0.8202247191011236 and parameters: {'booster': 'dart', 'lambda': 0.00014226525796934167, 'alpha': 4.182481172244285e-06, 'max_depth': 5, 'eta': 0.4699708871114354, 'gamma': 1.5418713693629887e-05, 'grow_policy': 'depthwise', 'sample_type': 'uniform', 'normalize_type': 'forest', 'rate_drop': 5.527506717084169e-08, 'skip_drop': 0.10592900671616308}. Best is trial 58 with value: 0.8370786516853933.\u001b[0m\n"
     ]
    },
    {
     "name": "stdout",
     "output_type": "stream",
     "text": [
      "[0]\tvalidation-auc:0.87260\n",
      "[1]\tvalidation-auc:0.88518\n",
      "[2]\tvalidation-auc:0.89144\n",
      "[3]\tvalidation-auc:0.89552\n",
      "[4]\tvalidation-auc:0.88939\n",
      "[5]\tvalidation-auc:0.89177\n",
      "[6]\tvalidation-auc:0.89137\n",
      "[7]\tvalidation-auc:0.89282\n",
      "[8]\tvalidation-auc:0.89539\n",
      "[9]\tvalidation-auc:0.88498\n",
      "[0]\tvalidation-auc:0.86598\n",
      "[1]\tvalidation-auc:0.85054\n",
      "[2]\tvalidation-auc:0.88469\n",
      "[3]\tvalidation-auc:0.86110\n",
      "[4]\tvalidation-auc:0.85936\n",
      "[5]\tvalidation-auc:0.85829\n",
      "[6]\tvalidation-auc:0.86591\n",
      "[7]\tvalidation-auc:0.85956\n",
      "[8]\tvalidation-auc:0.86698\n",
      "[9]\tvalidation-auc:0.87059\n",
      "[0]\tvalidation-auc:0.85454\n",
      "[1]\tvalidation-auc:0.85628\n",
      "[2]\tvalidation-auc:0.86217\n",
      "[3]\tvalidation-auc:0.85923\n",
      "[4]\tvalidation-auc:0.85936\n",
      "[5]\tvalidation-auc:0.86745\n",
      "[6]\tvalidation-auc:0.86852\n",
      "[7]\tvalidation-auc:0.86631\n",
      "[8]\tvalidation-auc:0.86791\n",
      "[9]\tvalidation-auc:0.86484\n",
      "[0]\tvalidation-auc:0.85134\n",
      "[1]\tvalidation-auc:0.85715\n",
      "[2]\tvalidation-auc:0.85341\n",
      "[3]\tvalidation-auc:0.84619\n",
      "[4]\tvalidation-auc:0.85294\n",
      "[5]\tvalidation-auc:0.85588\n",
      "[6]\tvalidation-auc:0.85201\n",
      "[7]\tvalidation-auc:0.85013\n",
      "[8]\tvalidation-auc:0.84806\n",
      "[9]\tvalidation-auc:0.84098\n",
      "[0]\tvalidation-auc:0.84251\n",
      "[1]\tvalidation-auc:0.84337\n",
      "[2]\tvalidation-auc:0.87189\n",
      "[3]\tvalidation-auc:0.85481\n",
      "[4]\tvalidation-auc:0.85933\n",
      "[5]\tvalidation-auc:0.86159\n",
      "[6]\tvalidation-auc:0.86079\n",
      "[7]\tvalidation-auc:0.85806\n",
      "[8]\tvalidation-auc:0.85833\n",
      "[9]\tvalidation-auc:0.85946\n"
     ]
    },
    {
     "name": "stderr",
     "output_type": "stream",
     "text": [
      "\u001b[32m[I 2021-10-02 20:11:18,793]\u001b[0m Trial 65 finished with value: 0.8314606741573034 and parameters: {'booster': 'dart', 'lambda': 0.00015634448130231625, 'alpha': 3.0560012379129264e-06, 'max_depth': 5, 'eta': 0.4911892352065185, 'gamma': 1.4607933888658896e-05, 'grow_policy': 'depthwise', 'sample_type': 'uniform', 'normalize_type': 'forest', 'rate_drop': 5.7653940162624624e-08, 'skip_drop': 0.9771504082512839}. Best is trial 58 with value: 0.8370786516853933.\u001b[0m\n"
     ]
    },
    {
     "name": "stdout",
     "output_type": "stream",
     "text": [
      "[0]\tvalidation-auc:0.87260\n",
      "[1]\tvalidation-auc:0.88109\n",
      "[2]\tvalidation-auc:0.87721\n",
      "[3]\tvalidation-auc:0.87596\n",
      "[4]\tvalidation-auc:0.88136\n",
      "[5]\tvalidation-auc:0.88057\n",
      "[6]\tvalidation-auc:0.88636\n",
      "[7]\tvalidation-auc:0.88775\n",
      "[8]\tvalidation-auc:0.88498\n",
      "[9]\tvalidation-auc:0.88267\n",
      "[0]\tvalidation-auc:0.86598\n",
      "[1]\tvalidation-auc:0.86170\n",
      "[2]\tvalidation-auc:0.86684\n",
      "[3]\tvalidation-auc:0.86725\n",
      "[4]\tvalidation-auc:0.86223\n",
      "[5]\tvalidation-auc:0.86009\n",
      "[6]\tvalidation-auc:0.86878\n",
      "[7]\tvalidation-auc:0.85341\n",
      "[8]\tvalidation-auc:0.85287\n",
      "[9]\tvalidation-auc:0.86076\n",
      "[0]\tvalidation-auc:0.85454\n",
      "[1]\tvalidation-auc:0.85454\n",
      "[2]\tvalidation-auc:0.86811\n",
      "[3]\tvalidation-auc:0.86698\n",
      "[4]\tvalidation-auc:0.86511\n",
      "[5]\tvalidation-auc:0.86457\n",
      "[6]\tvalidation-auc:0.86604\n",
      "[7]\tvalidation-auc:0.86631\n",
      "[8]\tvalidation-auc:0.86417\n",
      "[9]\tvalidation-auc:0.86511\n",
      "[0]\tvalidation-auc:0.85134\n",
      "[1]\tvalidation-auc:0.85662\n",
      "[2]\tvalidation-auc:0.85535\n",
      "[3]\tvalidation-auc:0.85735\n",
      "[4]\tvalidation-auc:0.85308\n",
      "[5]\tvalidation-auc:0.85221\n",
      "[6]\tvalidation-auc:0.85241\n",
      "[7]\tvalidation-auc:0.86003\n",
      "[8]\tvalidation-auc:0.85729\n",
      "[9]\tvalidation-auc:0.85675\n",
      "[0]\tvalidation-auc:0.84251\n",
      "[1]\tvalidation-auc:0.83752\n",
      "[2]\tvalidation-auc:0.85155\n",
      "[3]\tvalidation-auc:0.84829\n",
      "[4]\tvalidation-auc:0.84058\n",
      "[5]\tvalidation-auc:0.84916\n",
      "[6]\tvalidation-auc:0.84377\n",
      "[7]\tvalidation-auc:0.85082\n",
      "[8]\tvalidation-auc:0.84929\n",
      "[9]\tvalidation-auc:0.86358\n"
     ]
    },
    {
     "name": "stderr",
     "output_type": "stream",
     "text": [
      "\u001b[32m[I 2021-10-02 20:11:19,223]\u001b[0m Trial 66 finished with value: 0.8258426966292135 and parameters: {'booster': 'dart', 'lambda': 0.0023313659452755308, 'alpha': 1.4504616609741944e-06, 'max_depth': 5, 'eta': 0.12978768897823606, 'gamma': 1.7949562392173465e-06, 'grow_policy': 'depthwise', 'sample_type': 'uniform', 'normalize_type': 'forest', 'rate_drop': 7.55987242928083e-08, 'skip_drop': 0.866849170666162}. Best is trial 58 with value: 0.8370786516853933.\u001b[0m\n"
     ]
    },
    {
     "name": "stdout",
     "output_type": "stream",
     "text": [
      "[0]\tvalidation-auc:0.84598\n",
      "[1]\tvalidation-auc:0.85903\n",
      "[2]\tvalidation-auc:0.87655\n",
      "[3]\tvalidation-auc:0.87589\n",
      "[4]\tvalidation-auc:0.89941\n",
      "[5]\tvalidation-auc:0.89769\n",
      "[6]\tvalidation-auc:0.87675\n",
      "[7]\tvalidation-auc:0.87912\n",
      "[8]\tvalidation-auc:0.88478\n",
      "[9]\tvalidation-auc:0.88360\n",
      "[0]\tvalidation-auc:0.85983\n",
      "[1]\tvalidation-auc:0.88035\n",
      "[2]\tvalidation-auc:0.86056\n",
      "[3]\tvalidation-auc:0.85187\n",
      "[4]\tvalidation-auc:0.84485\n",
      "[5]\tvalidation-auc:0.85294\n",
      "[6]\tvalidation-auc:0.84773\n",
      "[7]\tvalidation-auc:0.85241\n",
      "[8]\tvalidation-auc:0.85167\n",
      "[9]\tvalidation-auc:0.85274\n",
      "[0]\tvalidation-auc:0.83543\n",
      "[1]\tvalidation-auc:0.83924\n",
      "[2]\tvalidation-auc:0.85174\n",
      "[3]\tvalidation-auc:0.84967\n",
      "[4]\tvalidation-auc:0.84485\n",
      "[5]\tvalidation-auc:0.85361\n",
      "[6]\tvalidation-auc:0.85862\n",
      "[7]\tvalidation-auc:0.85221\n",
      "[8]\tvalidation-auc:0.85394\n",
      "[9]\tvalidation-auc:0.85047\n",
      "[0]\tvalidation-auc:0.85441\n",
      "[1]\tvalidation-auc:0.85796\n",
      "[2]\tvalidation-auc:0.84245\n",
      "[3]\tvalidation-auc:0.86250\n",
      "[4]\tvalidation-auc:0.85822\n",
      "[5]\tvalidation-auc:0.85087\n",
      "[6]\tvalidation-auc:0.85595\n",
      "[7]\tvalidation-auc:0.85782\n",
      "[8]\tvalidation-auc:0.85849\n",
      "[9]\tvalidation-auc:0.85689\n",
      "[0]\tvalidation-auc:0.83420\n",
      "[1]\tvalidation-auc:0.84862\n",
      "[2]\tvalidation-auc:0.85634\n",
      "[3]\tvalidation-auc:0.84563\n",
      "[4]\tvalidation-auc:0.83978\n",
      "[5]\tvalidation-auc:0.83812\n",
      "[6]\tvalidation-auc:0.84856\n",
      "[7]\tvalidation-auc:0.84390\n",
      "[8]\tvalidation-auc:0.85208\n",
      "[9]\tvalidation-auc:0.84576\n"
     ]
    },
    {
     "name": "stderr",
     "output_type": "stream",
     "text": [
      "\u001b[32m[I 2021-10-02 20:11:19,728]\u001b[0m Trial 67 finished with value: 0.8089887640449438 and parameters: {'booster': 'dart', 'lambda': 0.00353420160331154, 'alpha': 1.2335165749001613e-06, 'max_depth': 6, 'eta': 0.5722617431761512, 'gamma': 7.050529415462455e-07, 'grow_policy': 'depthwise', 'sample_type': 'uniform', 'normalize_type': 'forest', 'rate_drop': 2.1562830858301503e-06, 'skip_drop': 0.7689794629522189}. Best is trial 58 with value: 0.8370786516853933.\u001b[0m\n"
     ]
    },
    {
     "name": "stdout",
     "output_type": "stream",
     "text": [
      "[0]\tvalidation-auc:0.87991\n",
      "[1]\tvalidation-auc:0.87945\n",
      "[2]\tvalidation-auc:0.88360\n",
      "[3]\tvalidation-auc:0.88195\n",
      "[4]\tvalidation-auc:0.88011\n",
      "[5]\tvalidation-auc:0.88063\n",
      "[6]\tvalidation-auc:0.88175\n",
      "[7]\tvalidation-auc:0.88208\n",
      "[8]\tvalidation-auc:0.88261\n",
      "[9]\tvalidation-auc:0.88267\n",
      "[0]\tvalidation-auc:0.86598\n",
      "[1]\tvalidation-auc:0.86644\n",
      "[2]\tvalidation-auc:0.86644\n",
      "[3]\tvalidation-auc:0.86370\n",
      "[4]\tvalidation-auc:0.86517\n",
      "[5]\tvalidation-auc:0.86504\n",
      "[6]\tvalidation-auc:0.87126\n",
      "[7]\tvalidation-auc:0.86938\n",
      "[8]\tvalidation-auc:0.86878\n",
      "[9]\tvalidation-auc:0.86504\n",
      "[0]\tvalidation-auc:0.85394\n",
      "[1]\tvalidation-auc:0.85187\n",
      "[2]\tvalidation-auc:0.85080\n",
      "[3]\tvalidation-auc:0.85134\n",
      "[4]\tvalidation-auc:0.86263\n",
      "[5]\tvalidation-auc:0.86237\n",
      "[6]\tvalidation-auc:0.86584\n",
      "[7]\tvalidation-auc:0.86598\n",
      "[8]\tvalidation-auc:0.86778\n",
      "[9]\tvalidation-auc:0.86738\n",
      "[0]\tvalidation-auc:0.85134\n",
      "[1]\tvalidation-auc:0.85669\n",
      "[2]\tvalidation-auc:0.85528\n",
      "[3]\tvalidation-auc:0.85461\n",
      "[4]\tvalidation-auc:0.85047\n",
      "[5]\tvalidation-auc:0.85013\n",
      "[6]\tvalidation-auc:0.85040\n",
      "[7]\tvalidation-auc:0.85060\n",
      "[8]\tvalidation-auc:0.85127\n",
      "[9]\tvalidation-auc:0.85187\n",
      "[0]\tvalidation-auc:0.84251\n",
      "[1]\tvalidation-auc:0.84291\n",
      "[2]\tvalidation-auc:0.84723\n",
      "[3]\tvalidation-auc:0.84397\n",
      "[4]\tvalidation-auc:0.84523\n",
      "[5]\tvalidation-auc:0.84204\n",
      "[6]\tvalidation-auc:0.84218\n",
      "[7]\tvalidation-auc:0.84424\n",
      "[8]\tvalidation-auc:0.84251\n",
      "[9]\tvalidation-auc:0.84424\n"
     ]
    },
    {
     "name": "stderr",
     "output_type": "stream",
     "text": [
      "\u001b[32m[I 2021-10-02 20:11:20,194]\u001b[0m Trial 68 finished with value: 0.8033707865168539 and parameters: {'booster': 'dart', 'lambda': 0.02786665167773154, 'alpha': 1.6312241912516632e-06, 'max_depth': 5, 'eta': 0.03996470863419147, 'gamma': 3.110871128377662e-07, 'grow_policy': 'depthwise', 'sample_type': 'uniform', 'normalize_type': 'forest', 'rate_drop': 1.246217070882971e-07, 'skip_drop': 0.9200787053819713}. Best is trial 58 with value: 0.8370786516853933.\u001b[0m\n"
     ]
    },
    {
     "name": "stdout",
     "output_type": "stream",
     "text": [
      "[0]\tvalidation-auc:0.84598\n",
      "[1]\tvalidation-auc:0.85184\n",
      "[2]\tvalidation-auc:0.86634\n",
      "[3]\tvalidation-auc:0.85527\n",
      "[4]\tvalidation-auc:0.87088\n",
      "[5]\tvalidation-auc:0.85679\n"
     ]
    },
    {
     "name": "stderr",
     "output_type": "stream",
     "text": [
      "\u001b[32m[I 2021-10-02 20:11:20,260]\u001b[0m Trial 69 pruned. Trial was pruned at iteration 5.\u001b[0m\n"
     ]
    },
    {
     "name": "stdout",
     "output_type": "stream",
     "text": [
      "[0]\tvalidation-auc:0.87260\n",
      "[1]\tvalidation-auc:0.88254\n",
      "[2]\tvalidation-auc:0.87773\n",
      "[3]\tvalidation-auc:0.87503\n",
      "[4]\tvalidation-auc:0.87273\n",
      "[5]\tvalidation-auc:0.87240\n",
      "[6]\tvalidation-auc:0.87754\n",
      "[7]\tvalidation-auc:0.88129\n"
     ]
    },
    {
     "name": "stderr",
     "output_type": "stream",
     "text": [
      "\u001b[32m[I 2021-10-02 20:11:20,342]\u001b[0m Trial 70 pruned. Trial was pruned at iteration 8.\u001b[0m\n"
     ]
    },
    {
     "name": "stdout",
     "output_type": "stream",
     "text": [
      "[0]\tvalidation-auc:0.88557\n",
      "[1]\tvalidation-auc:0.89783\n",
      "[2]\tvalidation-auc:0.89743\n",
      "[3]\tvalidation-auc:0.89539\n",
      "[4]\tvalidation-auc:0.89539\n",
      "[5]\tvalidation-auc:0.89065\n",
      "[6]\tvalidation-auc:0.88926\n",
      "[7]\tvalidation-auc:0.89111\n",
      "[8]\tvalidation-auc:0.89025\n",
      "[9]\tvalidation-auc:0.89111\n",
      "[0]\tvalidation-auc:0.83790\n",
      "[1]\tvalidation-auc:0.83529\n",
      "[2]\tvalidation-auc:0.84806\n",
      "[3]\tvalidation-auc:0.84599\n",
      "[4]\tvalidation-auc:0.85775\n",
      "[5]\tvalidation-auc:0.87099\n",
      "[6]\tvalidation-auc:0.86959\n",
      "[7]\tvalidation-auc:0.86972\n",
      "[8]\tvalidation-auc:0.87052\n",
      "[9]\tvalidation-auc:0.87106\n",
      "[0]\tvalidation-auc:0.86905\n",
      "[1]\tvalidation-auc:0.87941\n",
      "[2]\tvalidation-auc:0.87741\n",
      "[3]\tvalidation-auc:0.87467\n",
      "[4]\tvalidation-auc:0.87553\n",
      "[5]\tvalidation-auc:0.86671\n",
      "[6]\tvalidation-auc:0.86638\n",
      "[7]\tvalidation-auc:0.86571\n",
      "[8]\tvalidation-auc:0.86684\n",
      "[9]\tvalidation-auc:0.86684\n",
      "[0]\tvalidation-auc:0.83162\n",
      "[1]\tvalidation-auc:0.84104\n",
      "[2]\tvalidation-auc:0.85842\n",
      "[3]\tvalidation-auc:0.85796\n",
      "[4]\tvalidation-auc:0.86985\n",
      "[5]\tvalidation-auc:0.87233\n",
      "[6]\tvalidation-auc:0.86517\n",
      "[7]\tvalidation-auc:0.86618\n",
      "[8]\tvalidation-auc:0.86845\n",
      "[9]\tvalidation-auc:0.86484\n",
      "[0]\tvalidation-auc:0.84384\n",
      "[1]\tvalidation-auc:0.84816\n",
      "[2]\tvalidation-auc:0.85049\n",
      "[3]\tvalidation-auc:0.84324\n",
      "[4]\tvalidation-auc:0.84204\n",
      "[5]\tvalidation-auc:0.84616\n",
      "[6]\tvalidation-auc:0.84297\n",
      "[7]\tvalidation-auc:0.84224\n",
      "[8]\tvalidation-auc:0.84357\n",
      "[9]\tvalidation-auc:0.84763\n"
     ]
    },
    {
     "name": "stderr",
     "output_type": "stream",
     "text": [
      "\u001b[32m[I 2021-10-02 20:11:20,758]\u001b[0m Trial 71 finished with value: 0.8258426966292135 and parameters: {'booster': 'dart', 'lambda': 6.842574645120793e-05, 'alpha': 5.623698232988885e-06, 'max_depth': 4, 'eta': 0.1379789000039129, 'gamma': 2.0481339239874886e-06, 'grow_policy': 'depthwise', 'sample_type': 'uniform', 'normalize_type': 'forest', 'rate_drop': 4.5005242218634016e-08, 'skip_drop': 0.03176197401767722}. Best is trial 58 with value: 0.8370786516853933.\u001b[0m\n"
     ]
    },
    {
     "name": "stdout",
     "output_type": "stream",
     "text": [
      "[0]\tvalidation-auc:0.88557\n",
      "[1]\tvalidation-auc:0.89776\n",
      "[2]\tvalidation-auc:0.88972\n",
      "[3]\tvalidation-auc:0.88544\n",
      "[4]\tvalidation-auc:0.89078\n",
      "[5]\tvalidation-auc:0.89368\n",
      "[6]\tvalidation-auc:0.89045\n",
      "[7]\tvalidation-auc:0.89150\n",
      "[8]\tvalidation-auc:0.89216\n",
      "[9]\tvalidation-auc:0.89045\n",
      "[0]\tvalidation-auc:0.83790\n",
      "[1]\tvalidation-auc:0.84606\n",
      "[2]\tvalidation-auc:0.86036\n",
      "[3]\tvalidation-auc:0.87560\n",
      "[4]\tvalidation-auc:0.87233\n",
      "[5]\tvalidation-auc:0.88262\n",
      "[6]\tvalidation-auc:0.88783\n",
      "[7]\tvalidation-auc:0.86992\n",
      "[8]\tvalidation-auc:0.87019\n",
      "[9]\tvalidation-auc:0.86577\n",
      "[0]\tvalidation-auc:0.86905\n",
      "[1]\tvalidation-auc:0.87634\n",
      "[2]\tvalidation-auc:0.87654\n",
      "[3]\tvalidation-auc:0.88189\n",
      "[4]\tvalidation-auc:0.86912\n",
      "[5]\tvalidation-auc:0.86424\n",
      "[6]\tvalidation-auc:0.86651\n",
      "[7]\tvalidation-auc:0.86444\n",
      "[8]\tvalidation-auc:0.86210\n",
      "[9]\tvalidation-auc:0.86163\n",
      "[0]\tvalidation-auc:0.83162\n",
      "[1]\tvalidation-auc:0.84572\n",
      "[2]\tvalidation-auc:0.87206\n",
      "[3]\tvalidation-auc:0.87045\n",
      "[4]\tvalidation-auc:0.86537\n",
      "[5]\tvalidation-auc:0.86036\n",
      "[6]\tvalidation-auc:0.86043\n",
      "[7]\tvalidation-auc:0.86250\n",
      "[8]\tvalidation-auc:0.86598\n",
      "[9]\tvalidation-auc:0.86504\n",
      "[0]\tvalidation-auc:0.84384\n",
      "[1]\tvalidation-auc:0.84158\n",
      "[2]\tvalidation-auc:0.83932\n",
      "[3]\tvalidation-auc:0.83779\n",
      "[4]\tvalidation-auc:0.85122\n",
      "[5]\tvalidation-auc:0.85102\n",
      "[6]\tvalidation-auc:0.84749\n",
      "[7]\tvalidation-auc:0.85840\n",
      "[8]\tvalidation-auc:0.85467\n",
      "[9]\tvalidation-auc:0.85474\n"
     ]
    },
    {
     "name": "stderr",
     "output_type": "stream",
     "text": [
      "\u001b[32m[I 2021-10-02 20:11:21,174]\u001b[0m Trial 72 finished with value: 0.8258426966292135 and parameters: {'booster': 'dart', 'lambda': 6.698424653165207e-05, 'alpha': 5.3703451886400216e-06, 'max_depth': 4, 'eta': 0.2852868882958073, 'gamma': 2.6590838323608253e-06, 'grow_policy': 'depthwise', 'sample_type': 'uniform', 'normalize_type': 'forest', 'rate_drop': 2.5609919161594765e-08, 'skip_drop': 0.04062142650714367}. Best is trial 58 with value: 0.8370786516853933.\u001b[0m\n"
     ]
    },
    {
     "name": "stdout",
     "output_type": "stream",
     "text": [
      "[0]\tvalidation-auc:0.88557\n",
      "[1]\tvalidation-auc:0.89776\n",
      "[2]\tvalidation-auc:0.88972\n",
      "[3]\tvalidation-auc:0.88544\n",
      "[4]\tvalidation-auc:0.89078\n",
      "[5]\tvalidation-auc:0.89368\n",
      "[6]\tvalidation-auc:0.89045\n",
      "[7]\tvalidation-auc:0.89084\n",
      "[8]\tvalidation-auc:0.89058\n",
      "[9]\tvalidation-auc:0.89058\n",
      "[0]\tvalidation-auc:0.83790\n",
      "[1]\tvalidation-auc:0.84606\n",
      "[2]\tvalidation-auc:0.86036\n",
      "[3]\tvalidation-auc:0.87560\n",
      "[4]\tvalidation-auc:0.87233\n",
      "[5]\tvalidation-auc:0.88262\n",
      "[6]\tvalidation-auc:0.88783\n",
      "[7]\tvalidation-auc:0.86992\n",
      "[8]\tvalidation-auc:0.87032\n",
      "[9]\tvalidation-auc:0.86524\n",
      "[0]\tvalidation-auc:0.86905\n",
      "[1]\tvalidation-auc:0.87634\n",
      "[2]\tvalidation-auc:0.87654\n",
      "[3]\tvalidation-auc:0.88189\n",
      "[4]\tvalidation-auc:0.86912\n",
      "[5]\tvalidation-auc:0.86424\n",
      "[6]\tvalidation-auc:0.86638\n",
      "[7]\tvalidation-auc:0.86150\n",
      "[8]\tvalidation-auc:0.85862\n",
      "[9]\tvalidation-auc:0.85281\n",
      "[0]\tvalidation-auc:0.83162\n",
      "[1]\tvalidation-auc:0.84572\n",
      "[2]\tvalidation-auc:0.87206\n",
      "[3]\tvalidation-auc:0.87045\n",
      "[4]\tvalidation-auc:0.86537\n",
      "[5]\tvalidation-auc:0.85929\n",
      "[6]\tvalidation-auc:0.86043\n",
      "[7]\tvalidation-auc:0.86250\n",
      "[8]\tvalidation-auc:0.86598\n",
      "[9]\tvalidation-auc:0.86504\n",
      "[0]\tvalidation-auc:0.84384\n",
      "[1]\tvalidation-auc:0.84158\n",
      "[2]\tvalidation-auc:0.83932\n",
      "[3]\tvalidation-auc:0.83779\n",
      "[4]\tvalidation-auc:0.85122\n",
      "[5]\tvalidation-auc:0.85062\n",
      "[6]\tvalidation-auc:0.85428\n",
      "[7]\tvalidation-auc:0.85873\n",
      "[8]\tvalidation-auc:0.86372\n",
      "[9]\tvalidation-auc:0.85846\n"
     ]
    },
    {
     "name": "stderr",
     "output_type": "stream",
     "text": [
      "\u001b[32m[I 2021-10-02 20:11:21,598]\u001b[0m Trial 73 finished with value: 0.8258426966292135 and parameters: {'booster': 'dart', 'lambda': 4.225908385508451e-05, 'alpha': 6.316071705311653e-06, 'max_depth': 4, 'eta': 0.2821196705973291, 'gamma': 4.5317198627215615e-06, 'grow_policy': 'depthwise', 'sample_type': 'uniform', 'normalize_type': 'forest', 'rate_drop': 3.2343895095298656e-08, 'skip_drop': 0.034642509804567345}. Best is trial 58 with value: 0.8370786516853933.\u001b[0m\n"
     ]
    },
    {
     "name": "stdout",
     "output_type": "stream",
     "text": [
      "[0]\tvalidation-auc:0.88557\n",
      "[1]\tvalidation-auc:0.89644\n",
      "[2]\tvalidation-auc:0.89315\n",
      "[3]\tvalidation-auc:0.88814\n",
      "[4]\tvalidation-auc:0.89532\n",
      "[5]\tvalidation-auc:0.89598\n",
      "[6]\tvalidation-auc:0.89341\n",
      "[7]\tvalidation-auc:0.89117\n",
      "[8]\tvalidation-auc:0.89117\n",
      "[9]\tvalidation-auc:0.89302\n",
      "[0]\tvalidation-auc:0.83790\n",
      "[1]\tvalidation-auc:0.84606\n",
      "[2]\tvalidation-auc:0.87186\n",
      "[3]\tvalidation-auc:0.86297\n",
      "[4]\tvalidation-auc:0.87126\n",
      "[5]\tvalidation-auc:0.87353\n",
      "[6]\tvalidation-auc:0.87487\n",
      "[7]\tvalidation-auc:0.86604\n",
      "[8]\tvalidation-auc:0.85602\n",
      "[9]\tvalidation-auc:0.85909\n",
      "[0]\tvalidation-auc:0.86905\n",
      "[1]\tvalidation-auc:0.87620\n",
      "[2]\tvalidation-auc:0.87667\n",
      "[3]\tvalidation-auc:0.87386\n",
      "[4]\tvalidation-auc:0.86765\n",
      "[5]\tvalidation-auc:0.86457\n",
      "[6]\tvalidation-auc:0.86805\n",
      "[7]\tvalidation-auc:0.86765\n",
      "[8]\tvalidation-auc:0.86591\n",
      "[9]\tvalidation-auc:0.86050\n",
      "[0]\tvalidation-auc:0.83162\n",
      "[1]\tvalidation-auc:0.84572\n",
      "[2]\tvalidation-auc:0.87126\n",
      "[3]\tvalidation-auc:0.87019\n",
      "[4]\tvalidation-auc:0.87654\n",
      "[5]\tvalidation-auc:0.86751\n",
      "[6]\tvalidation-auc:0.86203\n",
      "[7]\tvalidation-auc:0.86497\n",
      "[8]\tvalidation-auc:0.86598\n",
      "[9]\tvalidation-auc:0.86865\n",
      "[0]\tvalidation-auc:0.84384\n",
      "[1]\tvalidation-auc:0.84158\n",
      "[2]\tvalidation-auc:0.83932\n",
      "[3]\tvalidation-auc:0.83925\n",
      "[4]\tvalidation-auc:0.85022\n",
      "[5]\tvalidation-auc:0.85155\n",
      "[6]\tvalidation-auc:0.85208\n",
      "[7]\tvalidation-auc:0.84337\n",
      "[8]\tvalidation-auc:0.84882\n",
      "[9]\tvalidation-auc:0.84909\n"
     ]
    },
    {
     "name": "stderr",
     "output_type": "stream",
     "text": [
      "\u001b[32m[I 2021-10-02 20:11:22,040]\u001b[0m Trial 74 finished with value: 0.8202247191011236 and parameters: {'booster': 'dart', 'lambda': 3.549326401909924e-05, 'alpha': 1.3685353252174728e-05, 'max_depth': 4, 'eta': 0.30899537891957807, 'gamma': 3.5237634818664508e-06, 'grow_policy': 'depthwise', 'sample_type': 'uniform', 'normalize_type': 'forest', 'rate_drop': 1.4164536226300665e-08, 'skip_drop': 0.03600038793334659}. Best is trial 58 with value: 0.8370786516853933.\u001b[0m\n"
     ]
    },
    {
     "name": "stdout",
     "output_type": "stream",
     "text": [
      "[0]\tvalidation-auc:0.87260\n",
      "[1]\tvalidation-auc:0.87892\n",
      "[2]\tvalidation-auc:0.87984\n",
      "[3]\tvalidation-auc:0.88182\n",
      "[4]\tvalidation-auc:0.87991\n",
      "[5]\tvalidation-auc:0.88004\n",
      "[6]\tvalidation-auc:0.88346\n",
      "[7]\tvalidation-auc:0.88274\n",
      "[8]\tvalidation-auc:0.88274\n"
     ]
    },
    {
     "name": "stderr",
     "output_type": "stream",
     "text": [
      "\u001b[32m[I 2021-10-02 20:11:22,129]\u001b[0m Trial 75 pruned. Trial was pruned at iteration 8.\u001b[0m\n"
     ]
    },
    {
     "name": "stdout",
     "output_type": "stream",
     "text": [
      "[0]\tvalidation-auc:0.88557\n",
      "[1]\tvalidation-auc:0.89229\n",
      "[2]\tvalidation-auc:0.89651\n",
      "[3]\tvalidation-auc:0.89506\n",
      "[4]\tvalidation-auc:0.89651\n",
      "[5]\tvalidation-auc:0.89651\n",
      "[6]\tvalidation-auc:0.89651\n",
      "[7]\tvalidation-auc:0.89651\n",
      "[8]\tvalidation-auc:0.89638\n",
      "[9]\tvalidation-auc:0.89664\n",
      "[0]\tvalidation-auc:0.83790\n",
      "[1]\tvalidation-auc:0.83790\n",
      "[2]\tvalidation-auc:0.83790\n",
      "[3]\tvalidation-auc:0.83850\n",
      "[4]\tvalidation-auc:0.83850\n",
      "[5]\tvalidation-auc:0.83850\n",
      "[6]\tvalidation-auc:0.83650\n",
      "[7]\tvalidation-auc:0.83663\n",
      "[8]\tvalidation-auc:0.83670\n",
      "[9]\tvalidation-auc:0.83590\n",
      "[0]\tvalidation-auc:0.86905\n",
      "[1]\tvalidation-auc:0.86905\n",
      "[2]\tvalidation-auc:0.86905\n",
      "[3]\tvalidation-auc:0.86905\n",
      "[4]\tvalidation-auc:0.86063\n",
      "[5]\tvalidation-auc:0.86063\n",
      "[6]\tvalidation-auc:0.86116\n",
      "[7]\tvalidation-auc:0.87340\n",
      "[8]\tvalidation-auc:0.87553\n",
      "[9]\tvalidation-auc:0.87447\n",
      "[0]\tvalidation-auc:0.83162\n",
      "[1]\tvalidation-auc:0.83469\n",
      "[2]\tvalidation-auc:0.83469\n",
      "[3]\tvalidation-auc:0.83309\n",
      "[4]\tvalidation-auc:0.83817\n",
      "[5]\tvalidation-auc:0.84225\n",
      "[6]\tvalidation-auc:0.84131\n",
      "[7]\tvalidation-auc:0.84144\n",
      "[8]\tvalidation-auc:0.84184\n",
      "[9]\tvalidation-auc:0.84131\n",
      "[0]\tvalidation-auc:0.84384\n",
      "[1]\tvalidation-auc:0.84384\n",
      "[2]\tvalidation-auc:0.84384\n",
      "[3]\tvalidation-auc:0.84670\n",
      "[4]\tvalidation-auc:0.84670\n",
      "[5]\tvalidation-auc:0.84650\n",
      "[6]\tvalidation-auc:0.85155\n",
      "[7]\tvalidation-auc:0.85168\n",
      "[8]\tvalidation-auc:0.85009\n",
      "[9]\tvalidation-auc:0.85022\n"
     ]
    },
    {
     "name": "stderr",
     "output_type": "stream",
     "text": [
      "\u001b[32m[I 2021-10-02 20:11:22,521]\u001b[0m Trial 76 finished with value: 0.8202247191011236 and parameters: {'booster': 'dart', 'lambda': 0.00020924870174693607, 'alpha': 3.899370680205061e-06, 'max_depth': 4, 'eta': 0.021292553650171478, 'gamma': 2.0648272236853435e-05, 'grow_policy': 'depthwise', 'sample_type': 'uniform', 'normalize_type': 'forest', 'rate_drop': 5.5002302303649455e-08, 'skip_drop': 0.0232898445605216}. Best is trial 58 with value: 0.8370786516853933.\u001b[0m\n"
     ]
    },
    {
     "name": "stdout",
     "output_type": "stream",
     "text": [
      "[0]\tvalidation-auc:0.87260\n",
      "[1]\tvalidation-auc:0.88109\n",
      "[2]\tvalidation-auc:0.87721\n",
      "[3]\tvalidation-auc:0.87609\n",
      "[4]\tvalidation-auc:0.88136\n",
      "[5]\tvalidation-auc:0.88070\n"
     ]
    },
    {
     "name": "stderr",
     "output_type": "stream",
     "text": [
      "\u001b[32m[I 2021-10-02 20:11:22,581]\u001b[0m Trial 77 pruned. Trial was pruned at iteration 5.\u001b[0m\n"
     ]
    },
    {
     "name": "stdout",
     "output_type": "stream",
     "text": [
      "[0]\tvalidation-auc:0.88557\n",
      "[1]\tvalidation-auc:0.89783\n",
      "[2]\tvalidation-auc:0.89756\n",
      "[3]\tvalidation-auc:0.89769\n",
      "[4]\tvalidation-auc:0.89671\n",
      "[5]\tvalidation-auc:0.88999\n",
      "[6]\tvalidation-auc:0.89104\n",
      "[7]\tvalidation-auc:0.88874\n",
      "[8]\tvalidation-auc:0.88854\n",
      "[9]\tvalidation-auc:0.88972\n",
      "[0]\tvalidation-auc:0.83790\n",
      "[1]\tvalidation-auc:0.83850\n",
      "[2]\tvalidation-auc:0.83783\n",
      "[3]\tvalidation-auc:0.83750\n",
      "[4]\tvalidation-auc:0.84532\n",
      "[5]\tvalidation-auc:0.84492\n",
      "[6]\tvalidation-auc:0.84679\n",
      "[7]\tvalidation-auc:0.84519\n",
      "[8]\tvalidation-auc:0.85508\n",
      "[9]\tvalidation-auc:0.85789\n",
      "[0]\tvalidation-auc:0.86905\n",
      "[1]\tvalidation-auc:0.86905\n",
      "[2]\tvalidation-auc:0.86156\n",
      "[3]\tvalidation-auc:0.87580\n",
      "[4]\tvalidation-auc:0.87580\n",
      "[5]\tvalidation-auc:0.87874\n",
      "[6]\tvalidation-auc:0.87607\n",
      "[7]\tvalidation-auc:0.87868\n",
      "[8]\tvalidation-auc:0.87607\n",
      "[9]\tvalidation-auc:0.87767\n",
      "[0]\tvalidation-auc:0.83162\n",
      "[1]\tvalidation-auc:0.83723\n",
      "[2]\tvalidation-auc:0.84225\n",
      "[3]\tvalidation-auc:0.84158\n",
      "[4]\tvalidation-auc:0.84037\n",
      "[5]\tvalidation-auc:0.85689\n",
      "[6]\tvalidation-auc:0.85695\n",
      "[7]\tvalidation-auc:0.86196\n",
      "[8]\tvalidation-auc:0.87106\n",
      "[9]\tvalidation-auc:0.86979\n",
      "[0]\tvalidation-auc:0.84384\n",
      "[1]\tvalidation-auc:0.84537\n",
      "[2]\tvalidation-auc:0.85009\n",
      "[3]\tvalidation-auc:0.85221\n",
      "[4]\tvalidation-auc:0.85142\n",
      "[5]\tvalidation-auc:0.85035\n",
      "[6]\tvalidation-auc:0.84523\n",
      "[7]\tvalidation-auc:0.84523\n",
      "[8]\tvalidation-auc:0.84563\n",
      "[9]\tvalidation-auc:0.84430\n"
     ]
    },
    {
     "name": "stderr",
     "output_type": "stream",
     "text": [
      "\u001b[32m[I 2021-10-02 20:11:22,979]\u001b[0m Trial 78 finished with value: 0.8202247191011236 and parameters: {'booster': 'dart', 'lambda': 8.965664658231224e-05, 'alpha': 7.676566719400461e-06, 'max_depth': 4, 'eta': 0.06213330723487513, 'gamma': 1.5362238719283978e-07, 'grow_policy': 'depthwise', 'sample_type': 'uniform', 'normalize_type': 'forest', 'rate_drop': 2.6724695651626233e-08, 'skip_drop': 0.0012425638791721482}. Best is trial 58 with value: 0.8370786516853933.\u001b[0m\n"
     ]
    },
    {
     "name": "stdout",
     "output_type": "stream",
     "text": [
      "[0]\tvalidation-auc:0.85448\n",
      "[1]\tvalidation-auc:0.87121\n",
      "[2]\tvalidation-auc:0.86739\n",
      "[3]\tvalidation-auc:0.86680\n",
      "[4]\tvalidation-auc:0.86120\n"
     ]
    },
    {
     "name": "stderr",
     "output_type": "stream",
     "text": [
      "\u001b[32m[I 2021-10-02 20:11:23,040]\u001b[0m Trial 79 pruned. Trial was pruned at iteration 5.\u001b[0m\n"
     ]
    },
    {
     "name": "stdout",
     "output_type": "stream",
     "text": [
      "[0]\tvalidation-auc:0.89862\n",
      "[1]\tvalidation-auc:0.89644\n",
      "[2]\tvalidation-auc:0.89473\n",
      "[3]\tvalidation-auc:0.89526\n",
      "[4]\tvalidation-auc:0.88906\n",
      "[5]\tvalidation-auc:0.89170\n",
      "[6]\tvalidation-auc:0.89058\n",
      "[7]\tvalidation-auc:0.89216\n",
      "[8]\tvalidation-auc:0.89381\n",
      "[9]\tvalidation-auc:0.89216\n",
      "[0]\tvalidation-auc:0.85929\n",
      "[1]\tvalidation-auc:0.86136\n",
      "[2]\tvalidation-auc:0.86130\n",
      "[3]\tvalidation-auc:0.86217\n",
      "[4]\tvalidation-auc:0.87640\n",
      "[5]\tvalidation-auc:0.88402\n",
      "[6]\tvalidation-auc:0.88416\n",
      "[7]\tvalidation-auc:0.88001\n",
      "[8]\tvalidation-auc:0.87914\n",
      "[9]\tvalidation-auc:0.87620\n",
      "[0]\tvalidation-auc:0.87313\n",
      "[1]\tvalidation-auc:0.87894\n",
      "[2]\tvalidation-auc:0.87848\n",
      "[3]\tvalidation-auc:0.87767\n",
      "[4]\tvalidation-auc:0.87440\n",
      "[5]\tvalidation-auc:0.87293\n",
      "[6]\tvalidation-auc:0.87313\n",
      "[7]\tvalidation-auc:0.86711\n",
      "[8]\tvalidation-auc:0.86691\n",
      "[9]\tvalidation-auc:0.86725\n",
      "[0]\tvalidation-auc:0.84118\n",
      "[1]\tvalidation-auc:0.86718\n",
      "[2]\tvalidation-auc:0.86477\n",
      "[3]\tvalidation-auc:0.86283\n",
      "[4]\tvalidation-auc:0.87146\n",
      "[5]\tvalidation-auc:0.86992\n",
      "[6]\tvalidation-auc:0.86344\n",
      "[7]\tvalidation-auc:0.86745\n",
      "[8]\tvalidation-auc:0.86785\n",
      "[9]\tvalidation-auc:0.86698\n",
      "[0]\tvalidation-auc:0.86837\n",
      "[1]\tvalidation-auc:0.87096\n",
      "[2]\tvalidation-auc:0.87349\n",
      "[3]\tvalidation-auc:0.86398\n",
      "[4]\tvalidation-auc:0.85893\n",
      "[5]\tvalidation-auc:0.86318\n",
      "[6]\tvalidation-auc:0.85899\n",
      "[7]\tvalidation-auc:0.86724\n",
      "[8]\tvalidation-auc:0.86318\n",
      "[9]\tvalidation-auc:0.86624\n"
     ]
    },
    {
     "name": "stderr",
     "output_type": "stream",
     "text": [
      "\u001b[32m[I 2021-10-02 20:11:23,440]\u001b[0m Trial 80 finished with value: 0.8258426966292135 and parameters: {'booster': 'dart', 'lambda': 0.6480740174022113, 'alpha': 1.6423783332348085e-05, 'max_depth': 4, 'eta': 0.20364136870313543, 'gamma': 1.1323835647398526e-05, 'grow_policy': 'depthwise', 'sample_type': 'uniform', 'normalize_type': 'forest', 'rate_drop': 1.5808107258293188e-07, 'skip_drop': 0.07250549308736204}. Best is trial 58 with value: 0.8370786516853933.\u001b[0m\n"
     ]
    },
    {
     "name": "stdout",
     "output_type": "stream",
     "text": [
      "[0]\tvalidation-auc:0.89862\n",
      "[1]\tvalidation-auc:0.89565\n",
      "[2]\tvalidation-auc:0.89592\n",
      "[3]\tvalidation-auc:0.89447\n",
      "[4]\tvalidation-auc:0.89512\n",
      "[5]\tvalidation-auc:0.89341\n",
      "[6]\tvalidation-auc:0.88781\n",
      "[7]\tvalidation-auc:0.88854\n",
      "[8]\tvalidation-auc:0.88953\n",
      "[9]\tvalidation-auc:0.89058\n",
      "[0]\tvalidation-auc:0.85956\n",
      "[1]\tvalidation-auc:0.86110\n",
      "[2]\tvalidation-auc:0.86103\n",
      "[3]\tvalidation-auc:0.86136\n",
      "[4]\tvalidation-auc:0.86003\n",
      "[5]\tvalidation-auc:0.86745\n",
      "[6]\tvalidation-auc:0.86303\n",
      "[7]\tvalidation-auc:0.86464\n",
      "[8]\tvalidation-auc:0.86591\n",
      "[9]\tvalidation-auc:0.87313\n",
      "[0]\tvalidation-auc:0.86925\n",
      "[1]\tvalidation-auc:0.86932\n",
      "[2]\tvalidation-auc:0.87366\n",
      "[3]\tvalidation-auc:0.87433\n",
      "[4]\tvalidation-auc:0.87480\n",
      "[5]\tvalidation-auc:0.87600\n",
      "[6]\tvalidation-auc:0.87560\n",
      "[7]\tvalidation-auc:0.87600\n",
      "[8]\tvalidation-auc:0.87112\n",
      "[9]\tvalidation-auc:0.87126\n",
      "[0]\tvalidation-auc:0.83790\n",
      "[1]\tvalidation-auc:0.83717\n",
      "[2]\tvalidation-auc:0.84385\n",
      "[3]\tvalidation-auc:0.84104\n",
      "[4]\tvalidation-auc:0.85963\n",
      "[5]\tvalidation-auc:0.86404\n",
      "[6]\tvalidation-auc:0.86183\n",
      "[7]\tvalidation-auc:0.86898\n",
      "[8]\tvalidation-auc:0.87052\n",
      "[9]\tvalidation-auc:0.87219\n",
      "[0]\tvalidation-auc:0.86717\n",
      "[1]\tvalidation-auc:0.86511\n",
      "[2]\tvalidation-auc:0.86498\n",
      "[3]\tvalidation-auc:0.86378\n",
      "[4]\tvalidation-auc:0.86225\n",
      "[5]\tvalidation-auc:0.86212\n",
      "[6]\tvalidation-auc:0.86225\n",
      "[7]\tvalidation-auc:0.86132\n",
      "[8]\tvalidation-auc:0.86066\n",
      "[9]\tvalidation-auc:0.86139\n"
     ]
    },
    {
     "name": "stderr",
     "output_type": "stream",
     "text": [
      "\u001b[32m[I 2021-10-02 20:11:23,849]\u001b[0m Trial 81 finished with value: 0.8202247191011236 and parameters: {'booster': 'dart', 'lambda': 0.5033707503451076, 'alpha': 2.6163077341134775e-05, 'max_depth': 4, 'eta': 0.10441464963893053, 'gamma': 9.749733744596778e-06, 'grow_policy': 'depthwise', 'sample_type': 'uniform', 'normalize_type': 'forest', 'rate_drop': 1.2619843447163622e-07, 'skip_drop': 0.05206471782628775}. Best is trial 58 with value: 0.8370786516853933.\u001b[0m\n"
     ]
    },
    {
     "name": "stdout",
     "output_type": "stream",
     "text": [
      "[0]\tvalidation-auc:0.84038\n",
      "[1]\tvalidation-auc:0.85534\n",
      "[2]\tvalidation-auc:0.87240\n",
      "[3]\tvalidation-auc:0.87543\n",
      "[4]\tvalidation-auc:0.88972\n",
      "[5]\tvalidation-auc:0.88953\n",
      "[6]\tvalidation-auc:0.89335\n",
      "[7]\tvalidation-auc:0.88715\n",
      "[8]\tvalidation-auc:0.88926\n",
      "[9]\tvalidation-auc:0.89381\n",
      "[0]\tvalidation-auc:0.85983\n",
      "[1]\tvalidation-auc:0.85809\n",
      "[2]\tvalidation-auc:0.84779\n",
      "[3]\tvalidation-auc:0.85227\n",
      "[4]\tvalidation-auc:0.85361\n",
      "[5]\tvalidation-auc:0.84893\n",
      "[6]\tvalidation-auc:0.84846\n",
      "[7]\tvalidation-auc:0.84920\n",
      "[8]\tvalidation-auc:0.85074\n",
      "[9]\tvalidation-auc:0.85548\n",
      "[0]\tvalidation-auc:0.83543\n",
      "[1]\tvalidation-auc:0.84325\n",
      "[2]\tvalidation-auc:0.85876\n",
      "[3]\tvalidation-auc:0.85181\n",
      "[4]\tvalidation-auc:0.85154\n",
      "[5]\tvalidation-auc:0.84365\n",
      "[6]\tvalidation-auc:0.84967\n",
      "[7]\tvalidation-auc:0.85067\n",
      "[8]\tvalidation-auc:0.84806\n",
      "[9]\tvalidation-auc:0.85194\n",
      "[0]\tvalidation-auc:0.85441\n",
      "[1]\tvalidation-auc:0.85234\n",
      "[2]\tvalidation-auc:0.86517\n",
      "[3]\tvalidation-auc:0.85201\n",
      "[4]\tvalidation-auc:0.85381\n",
      "[5]\tvalidation-auc:0.85775\n",
      "[6]\tvalidation-auc:0.86444\n",
      "[7]\tvalidation-auc:0.85896\n",
      "[8]\tvalidation-auc:0.86778\n",
      "[9]\tvalidation-auc:0.86557\n",
      "[0]\tvalidation-auc:0.83420\n",
      "[1]\tvalidation-auc:0.84483\n",
      "[2]\tvalidation-auc:0.85002\n",
      "[3]\tvalidation-auc:0.83965\n",
      "[4]\tvalidation-auc:0.83978\n",
      "[5]\tvalidation-auc:0.85447\n",
      "[6]\tvalidation-auc:0.85647\n",
      "[7]\tvalidation-auc:0.85075\n",
      "[8]\tvalidation-auc:0.85394\n",
      "[9]\tvalidation-auc:0.84862\n"
     ]
    },
    {
     "name": "stderr",
     "output_type": "stream",
     "text": [
      "\u001b[32m[I 2021-10-02 20:11:24,318]\u001b[0m Trial 82 finished with value: 0.8202247191011236 and parameters: {'booster': 'dart', 'lambda': 0.012334887951926915, 'alpha': 1.698614428354122e-05, 'max_depth': 6, 'eta': 0.21992263464879308, 'gamma': 8.243045709098357e-07, 'grow_policy': 'depthwise', 'sample_type': 'uniform', 'normalize_type': 'forest', 'rate_drop': 4.3528932911658256e-08, 'skip_drop': 0.9080472252004799}. Best is trial 58 with value: 0.8370786516853933.\u001b[0m\n"
     ]
    },
    {
     "name": "stdout",
     "output_type": "stream",
     "text": [
      "[0]\tvalidation-auc:0.87991\n",
      "[1]\tvalidation-auc:0.86884\n",
      "[2]\tvalidation-auc:0.86561\n",
      "[3]\tvalidation-auc:0.87773\n",
      "[4]\tvalidation-auc:0.87708\n"
     ]
    },
    {
     "name": "stderr",
     "output_type": "stream",
     "text": [
      "\u001b[32m[I 2021-10-02 20:11:24,376]\u001b[0m Trial 83 pruned. Trial was pruned at iteration 5.\u001b[0m\n"
     ]
    },
    {
     "name": "stdout",
     "output_type": "stream",
     "text": [
      "[0]\tvalidation-auc:0.85237\n",
      "[1]\tvalidation-auc:0.85132\n",
      "[2]\tvalidation-auc:0.86364\n",
      "[3]\tvalidation-auc:0.86225\n",
      "[4]\tvalidation-auc:0.85995\n"
     ]
    },
    {
     "name": "stderr",
     "output_type": "stream",
     "text": [
      "\u001b[32m[I 2021-10-02 20:11:24,440]\u001b[0m Trial 84 pruned. Trial was pruned at iteration 5.\u001b[0m\n"
     ]
    },
    {
     "name": "stdout",
     "output_type": "stream",
     "text": [
      "[0]\tvalidation-auc:0.84881\n",
      "[1]\tvalidation-auc:0.84908\n",
      "[2]\tvalidation-auc:0.84756\n",
      "[3]\tvalidation-auc:0.84914\n",
      "[4]\tvalidation-auc:0.84690\n"
     ]
    },
    {
     "name": "stderr",
     "output_type": "stream",
     "text": [
      "\u001b[32m[I 2021-10-02 20:11:24,515]\u001b[0m Trial 85 pruned. Trial was pruned at iteration 5.\u001b[0m\n"
     ]
    },
    {
     "name": "stdout",
     "output_type": "stream",
     "text": [
      "[0]\tvalidation-auc:0.82991\n",
      "[1]\tvalidation-auc:0.82727\n",
      "[2]\tvalidation-auc:0.82622\n",
      "[3]\tvalidation-auc:0.82332\n",
      "[4]\tvalidation-auc:0.82411\n",
      "[5]\tvalidation-auc:0.82582\n"
     ]
    },
    {
     "name": "stderr",
     "output_type": "stream",
     "text": [
      "\u001b[32m[I 2021-10-02 20:11:24,553]\u001b[0m Trial 86 pruned. Trial was pruned at iteration 5.\u001b[0m\n"
     ]
    },
    {
     "name": "stdout",
     "output_type": "stream",
     "text": [
      "[0]\tvalidation-auc:0.88557\n",
      "[1]\tvalidation-auc:0.89644\n",
      "[2]\tvalidation-auc:0.89315\n",
      "[3]\tvalidation-auc:0.88814\n",
      "[4]\tvalidation-auc:0.89546\n",
      "[5]\tvalidation-auc:0.89585\n",
      "[6]\tvalidation-auc:0.89341\n",
      "[7]\tvalidation-auc:0.89117\n",
      "[8]\tvalidation-auc:0.89117\n",
      "[9]\tvalidation-auc:0.89289\n",
      "[0]\tvalidation-auc:0.83790\n",
      "[1]\tvalidation-auc:0.84606\n",
      "[2]\tvalidation-auc:0.87186\n",
      "[3]\tvalidation-auc:0.86364\n",
      "[4]\tvalidation-auc:0.87988\n",
      "[5]\tvalidation-auc:0.88062\n",
      "[6]\tvalidation-auc:0.86177\n",
      "[7]\tvalidation-auc:0.86136\n",
      "[8]\tvalidation-auc:0.85836\n",
      "[9]\tvalidation-auc:0.85849\n",
      "[0]\tvalidation-auc:0.86905\n",
      "[1]\tvalidation-auc:0.87620\n",
      "[2]\tvalidation-auc:0.87667\n",
      "[3]\tvalidation-auc:0.87386\n",
      "[4]\tvalidation-auc:0.86711\n",
      "[5]\tvalidation-auc:0.86457\n",
      "[6]\tvalidation-auc:0.86805\n",
      "[7]\tvalidation-auc:0.86765\n",
      "[8]\tvalidation-auc:0.86591\n",
      "[9]\tvalidation-auc:0.86050\n",
      "[0]\tvalidation-auc:0.83162\n",
      "[1]\tvalidation-auc:0.84572\n",
      "[2]\tvalidation-auc:0.87126\n",
      "[3]\tvalidation-auc:0.87019\n",
      "[4]\tvalidation-auc:0.87654\n",
      "[5]\tvalidation-auc:0.86751\n",
      "[6]\tvalidation-auc:0.86203\n",
      "[7]\tvalidation-auc:0.86457\n",
      "[8]\tvalidation-auc:0.86557\n",
      "[9]\tvalidation-auc:0.86811\n",
      "[0]\tvalidation-auc:0.84384\n",
      "[1]\tvalidation-auc:0.84158\n",
      "[2]\tvalidation-auc:0.83932\n",
      "[3]\tvalidation-auc:0.83912\n",
      "[4]\tvalidation-auc:0.85022\n",
      "[5]\tvalidation-auc:0.85155\n",
      "[6]\tvalidation-auc:0.85208\n",
      "[7]\tvalidation-auc:0.84337\n",
      "[8]\tvalidation-auc:0.84882\n",
      "[9]\tvalidation-auc:0.84869\n"
     ]
    },
    {
     "name": "stderr",
     "output_type": "stream",
     "text": [
      "\u001b[32m[I 2021-10-02 20:11:24,968]\u001b[0m Trial 87 finished with value: 0.8202247191011236 and parameters: {'booster': 'dart', 'lambda': 4.233710853285701e-05, 'alpha': 6.8339252819549446e-06, 'max_depth': 4, 'eta': 0.3104005635251263, 'gamma': 4.890314556096919e-06, 'grow_policy': 'depthwise', 'sample_type': 'uniform', 'normalize_type': 'forest', 'rate_drop': 3.222145853709292e-08, 'skip_drop': 0.026138577873932884}. Best is trial 58 with value: 0.8370786516853933.\u001b[0m\n"
     ]
    },
    {
     "name": "stdout",
     "output_type": "stream",
     "text": [
      "[0]\tvalidation-auc:0.87260\n",
      "[1]\tvalidation-auc:0.87892\n",
      "[2]\tvalidation-auc:0.87385\n",
      "[3]\tvalidation-auc:0.87635\n",
      "[4]\tvalidation-auc:0.87582\n"
     ]
    },
    {
     "name": "stderr",
     "output_type": "stream",
     "text": [
      "\u001b[32m[I 2021-10-02 20:11:25,025]\u001b[0m Trial 88 pruned. Trial was pruned at iteration 5.\u001b[0m\n"
     ]
    },
    {
     "name": "stdout",
     "output_type": "stream",
     "text": [
      "[0]\tvalidation-auc:0.88557\n",
      "[1]\tvalidation-auc:0.89644\n",
      "[2]\tvalidation-auc:0.89144\n",
      "[3]\tvalidation-auc:0.88412\n",
      "[4]\tvalidation-auc:0.88696\n",
      "[5]\tvalidation-auc:0.89078\n",
      "[6]\tvalidation-auc:0.89071\n",
      "[7]\tvalidation-auc:0.89163\n",
      "[8]\tvalidation-auc:0.88900\n",
      "[9]\tvalidation-auc:0.89256\n",
      "[0]\tvalidation-auc:0.83790\n",
      "[1]\tvalidation-auc:0.84753\n",
      "[2]\tvalidation-auc:0.87320\n",
      "[3]\tvalidation-auc:0.86390\n",
      "[4]\tvalidation-auc:0.87848\n",
      "[5]\tvalidation-auc:0.87988\n",
      "[6]\tvalidation-auc:0.86123\n",
      "[7]\tvalidation-auc:0.86745\n",
      "[8]\tvalidation-auc:0.86878\n",
      "[9]\tvalidation-auc:0.87092\n",
      "[0]\tvalidation-auc:0.86905\n",
      "[1]\tvalidation-auc:0.87620\n",
      "[2]\tvalidation-auc:0.87854\n",
      "[3]\tvalidation-auc:0.86745\n",
      "[4]\tvalidation-auc:0.86404\n",
      "[5]\tvalidation-auc:0.86257\n",
      "[6]\tvalidation-auc:0.86544\n",
      "[7]\tvalidation-auc:0.86618\n",
      "[8]\tvalidation-auc:0.86738\n",
      "[9]\tvalidation-auc:0.86892\n",
      "[0]\tvalidation-auc:0.83162\n",
      "[1]\tvalidation-auc:0.84572\n",
      "[2]\tvalidation-auc:0.87126\n",
      "[3]\tvalidation-auc:0.87032\n",
      "[4]\tvalidation-auc:0.87741\n",
      "[5]\tvalidation-auc:0.87313\n",
      "[6]\tvalidation-auc:0.86664\n",
      "[7]\tvalidation-auc:0.86678\n",
      "[8]\tvalidation-auc:0.86103\n",
      "[9]\tvalidation-auc:0.86838\n",
      "[0]\tvalidation-auc:0.84384\n",
      "[1]\tvalidation-auc:0.84158\n",
      "[2]\tvalidation-auc:0.83998\n",
      "[3]\tvalidation-auc:0.85567\n",
      "[4]\tvalidation-auc:0.84929\n",
      "[5]\tvalidation-auc:0.85620\n",
      "[6]\tvalidation-auc:0.85122\n",
      "[7]\tvalidation-auc:0.85135\n",
      "[8]\tvalidation-auc:0.84869\n",
      "[9]\tvalidation-auc:0.84337\n"
     ]
    },
    {
     "name": "stderr",
     "output_type": "stream",
     "text": [
      "\u001b[32m[I 2021-10-02 20:11:25,419]\u001b[0m Trial 89 finished with value: 0.8202247191011236 and parameters: {'booster': 'dart', 'lambda': 0.0003264020826346659, 'alpha': 3.077691435288238e-05, 'max_depth': 4, 'eta': 0.33563384161793625, 'gamma': 3.314793370559511e-06, 'grow_policy': 'depthwise', 'sample_type': 'weighted', 'normalize_type': 'forest', 'rate_drop': 2.8693003815620974e-08, 'skip_drop': 0.005923940885248803}. Best is trial 58 with value: 0.8370786516853933.\u001b[0m\n"
     ]
    },
    {
     "name": "stdout",
     "output_type": "stream",
     "text": [
      "[0]\tvalidation-auc:0.87787\n",
      "[1]\tvalidation-auc:0.88076\n",
      "[2]\tvalidation-auc:0.88017\n",
      "[3]\tvalidation-auc:0.88314\n",
      "[4]\tvalidation-auc:0.88340\n"
     ]
    },
    {
     "name": "stderr",
     "output_type": "stream",
     "text": [
      "\u001b[32m[I 2021-10-02 20:11:25,476]\u001b[0m Trial 90 pruned. Trial was pruned at iteration 5.\u001b[0m\n"
     ]
    },
    {
     "name": "stdout",
     "output_type": "stream",
     "text": [
      "[0]\tvalidation-auc:0.88557\n",
      "[1]\tvalidation-auc:0.89783\n",
      "[2]\tvalidation-auc:0.89756\n",
      "[3]\tvalidation-auc:0.89783\n",
      "[4]\tvalidation-auc:0.89769\n",
      "[5]\tvalidation-auc:0.89644\n",
      "[6]\tvalidation-auc:0.89104\n",
      "[7]\tvalidation-auc:0.88913\n",
      "[8]\tvalidation-auc:0.89005\n",
      "[9]\tvalidation-auc:0.89045\n",
      "[0]\tvalidation-auc:0.83790\n",
      "[1]\tvalidation-auc:0.83790\n",
      "[2]\tvalidation-auc:0.83850\n",
      "[3]\tvalidation-auc:0.83636\n",
      "[4]\tvalidation-auc:0.83696\n",
      "[5]\tvalidation-auc:0.84525\n",
      "[6]\tvalidation-auc:0.84532\n",
      "[7]\tvalidation-auc:0.84586\n",
      "[8]\tvalidation-auc:0.84519\n",
      "[9]\tvalidation-auc:0.84746\n",
      "[0]\tvalidation-auc:0.86905\n",
      "[1]\tvalidation-auc:0.86905\n",
      "[2]\tvalidation-auc:0.86156\n",
      "[3]\tvalidation-auc:0.87580\n",
      "[4]\tvalidation-auc:0.87580\n",
      "[5]\tvalidation-auc:0.87874\n",
      "[6]\tvalidation-auc:0.87727\n",
      "[7]\tvalidation-auc:0.87660\n",
      "[8]\tvalidation-auc:0.87761\n",
      "[9]\tvalidation-auc:0.87607\n",
      "[0]\tvalidation-auc:0.83162\n",
      "[1]\tvalidation-auc:0.83469\n",
      "[2]\tvalidation-auc:0.84184\n",
      "[3]\tvalidation-auc:0.84158\n",
      "[4]\tvalidation-auc:0.84091\n",
      "[5]\tvalidation-auc:0.84024\n",
      "[6]\tvalidation-auc:0.85435\n",
      "[7]\tvalidation-auc:0.85408\n",
      "[8]\tvalidation-auc:0.86270\n",
      "[9]\tvalidation-auc:0.86671\n",
      "[0]\tvalidation-auc:0.84384\n",
      "[1]\tvalidation-auc:0.84537\n",
      "[2]\tvalidation-auc:0.84490\n",
      "[3]\tvalidation-auc:0.85181\n",
      "[4]\tvalidation-auc:0.85022\n",
      "[5]\tvalidation-auc:0.85022\n",
      "[6]\tvalidation-auc:0.85009\n",
      "[7]\tvalidation-auc:0.85009\n",
      "[8]\tvalidation-auc:0.84563\n",
      "[9]\tvalidation-auc:0.84483\n"
     ]
    },
    {
     "name": "stderr",
     "output_type": "stream",
     "text": [
      "\u001b[32m[I 2021-10-02 20:11:25,898]\u001b[0m Trial 91 finished with value: 0.8202247191011236 and parameters: {'booster': 'dart', 'lambda': 6.183449269159678e-05, 'alpha': 8.733456523369682e-07, 'max_depth': 4, 'eta': 0.051088649734634735, 'gamma': 2.016633685671395e-06, 'grow_policy': 'depthwise', 'sample_type': 'uniform', 'normalize_type': 'forest', 'rate_drop': 7.707816924075998e-08, 'skip_drop': 0.0804090125007886}. Best is trial 58 with value: 0.8370786516853933.\u001b[0m\n"
     ]
    },
    {
     "name": "stdout",
     "output_type": "stream",
     "text": [
      "[0]\tvalidation-auc:0.88557\n",
      "[1]\tvalidation-auc:0.89783\n",
      "[2]\tvalidation-auc:0.89743\n",
      "[3]\tvalidation-auc:0.89559\n",
      "[4]\tvalidation-auc:0.88874\n",
      "[5]\tvalidation-auc:0.88913\n",
      "[6]\tvalidation-auc:0.88985\n",
      "[7]\tvalidation-auc:0.89038\n",
      "[8]\tvalidation-auc:0.89005\n",
      "[9]\tvalidation-auc:0.88913\n",
      "[0]\tvalidation-auc:0.83790\n",
      "[1]\tvalidation-auc:0.83850\n",
      "[2]\tvalidation-auc:0.84652\n",
      "[3]\tvalidation-auc:0.84532\n",
      "[4]\tvalidation-auc:0.84479\n",
      "[5]\tvalidation-auc:0.85709\n",
      "[6]\tvalidation-auc:0.86965\n",
      "[7]\tvalidation-auc:0.86678\n",
      "[8]\tvalidation-auc:0.86852\n",
      "[9]\tvalidation-auc:0.86985\n",
      "[0]\tvalidation-auc:0.86905\n",
      "[1]\tvalidation-auc:0.86357\n",
      "[2]\tvalidation-auc:0.87527\n",
      "[3]\tvalidation-auc:0.87513\n",
      "[4]\tvalidation-auc:0.87533\n",
      "[5]\tvalidation-auc:0.86718\n",
      "[6]\tvalidation-auc:0.86865\n",
      "[7]\tvalidation-auc:0.86725\n",
      "[8]\tvalidation-auc:0.86504\n",
      "[9]\tvalidation-auc:0.87012\n",
      "[0]\tvalidation-auc:0.83162\n",
      "[1]\tvalidation-auc:0.83971\n",
      "[2]\tvalidation-auc:0.84572\n",
      "[3]\tvalidation-auc:0.86196\n",
      "[4]\tvalidation-auc:0.86177\n",
      "[5]\tvalidation-auc:0.86905\n",
      "[6]\tvalidation-auc:0.87206\n",
      "[7]\tvalidation-auc:0.86892\n",
      "[8]\tvalidation-auc:0.87306\n",
      "[9]\tvalidation-auc:0.87146\n",
      "[0]\tvalidation-auc:0.84384\n",
      "[1]\tvalidation-auc:0.84816\n",
      "[2]\tvalidation-auc:0.85049\n",
      "[3]\tvalidation-auc:0.84576\n",
      "[4]\tvalidation-auc:0.84563\n",
      "[5]\tvalidation-auc:0.84350\n",
      "[6]\tvalidation-auc:0.84071\n",
      "[7]\tvalidation-auc:0.84337\n",
      "[8]\tvalidation-auc:0.84038\n",
      "[9]\tvalidation-auc:0.84178\n"
     ]
    },
    {
     "name": "stderr",
     "output_type": "stream",
     "text": [
      "\u001b[32m[I 2021-10-02 20:11:26,334]\u001b[0m Trial 92 finished with value: 0.8033707865168539 and parameters: {'booster': 'dart', 'lambda': 3.0337013033190837e-05, 'alpha': 5.0193487378585895e-06, 'max_depth': 4, 'eta': 0.11236594264688558, 'gamma': 5.993646945108979e-06, 'grow_policy': 'depthwise', 'sample_type': 'uniform', 'normalize_type': 'forest', 'rate_drop': 2.383359766292479e-08, 'skip_drop': 0.01911007628360342}. Best is trial 58 with value: 0.8370786516853933.\u001b[0m\n"
     ]
    },
    {
     "name": "stdout",
     "output_type": "stream",
     "text": [
      "[0]\tvalidation-auc:0.84032\n",
      "[1]\tvalidation-auc:0.89730\n",
      "[2]\tvalidation-auc:0.89585\n",
      "[3]\tvalidation-auc:0.88406\n",
      "[4]\tvalidation-auc:0.88841\n",
      "[5]\tvalidation-auc:0.89018\n",
      "[6]\tvalidation-auc:0.88821\n",
      "[7]\tvalidation-auc:0.88491\n",
      "[8]\tvalidation-auc:0.88090\n",
      "[9]\tvalidation-auc:0.87780\n",
      "[0]\tvalidation-auc:0.85755\n",
      "[1]\tvalidation-auc:0.84719\n",
      "[2]\tvalidation-auc:0.86618\n",
      "[3]\tvalidation-auc:0.87660\n",
      "[4]\tvalidation-auc:0.85949\n",
      "[5]\tvalidation-auc:0.85622\n",
      "[6]\tvalidation-auc:0.85608\n",
      "[7]\tvalidation-auc:0.86090\n",
      "[8]\tvalidation-auc:0.86210\n",
      "[9]\tvalidation-auc:0.87286\n",
      "[0]\tvalidation-auc:0.83503\n",
      "[1]\tvalidation-auc:0.83529\n",
      "[2]\tvalidation-auc:0.84779\n",
      "[3]\tvalidation-auc:0.85562\n",
      "[4]\tvalidation-auc:0.85715\n",
      "[5]\tvalidation-auc:0.85348\n",
      "[6]\tvalidation-auc:0.85488\n",
      "[7]\tvalidation-auc:0.86390\n",
      "[8]\tvalidation-auc:0.86283\n",
      "[9]\tvalidation-auc:0.85715\n",
      "[0]\tvalidation-auc:0.85408\n",
      "[1]\tvalidation-auc:0.85809\n",
      "[2]\tvalidation-auc:0.85836\n",
      "[3]\tvalidation-auc:0.85949\n",
      "[4]\tvalidation-auc:0.86257\n",
      "[5]\tvalidation-auc:0.86270\n",
      "[6]\tvalidation-auc:0.85816\n",
      "[7]\tvalidation-auc:0.85521\n",
      "[8]\tvalidation-auc:0.85007\n",
      "[9]\tvalidation-auc:0.85247\n",
      "[0]\tvalidation-auc:0.82576\n",
      "[1]\tvalidation-auc:0.84297\n",
      "[2]\tvalidation-auc:0.85514\n",
      "[3]\tvalidation-auc:0.85029\n",
      "[4]\tvalidation-auc:0.85687\n",
      "[5]\tvalidation-auc:0.85753\n",
      "[6]\tvalidation-auc:0.85328\n",
      "[7]\tvalidation-auc:0.85228\n",
      "[8]\tvalidation-auc:0.85195\n",
      "[9]\tvalidation-auc:0.85328\n"
     ]
    },
    {
     "name": "stderr",
     "output_type": "stream",
     "text": [
      "\u001b[32m[I 2021-10-02 20:11:26,819]\u001b[0m Trial 93 finished with value: 0.8146067415730337 and parameters: {'booster': 'dart', 'lambda': 2.7271395437200096e-08, 'alpha': 6.274336100947119e-08, 'max_depth': 6, 'eta': 0.4732542398513332, 'gamma': 1.4718628727202485e-05, 'grow_policy': 'depthwise', 'sample_type': 'uniform', 'normalize_type': 'forest', 'rate_drop': 0.00047612944720439585, 'skip_drop': 0.9965022034037984}. Best is trial 58 with value: 0.8370786516853933.\u001b[0m\n"
     ]
    },
    {
     "name": "stdout",
     "output_type": "stream",
     "text": [
      "[0]\tvalidation-auc:0.87260\n",
      "[1]\tvalidation-auc:0.88254\n",
      "[2]\tvalidation-auc:0.89328\n",
      "[3]\tvalidation-auc:0.89624\n",
      "[4]\tvalidation-auc:0.87978\n",
      "[5]\tvalidation-auc:0.87826\n",
      "[6]\tvalidation-auc:0.87839\n",
      "[7]\tvalidation-auc:0.87991\n",
      "[8]\tvalidation-auc:0.88379\n",
      "[9]\tvalidation-auc:0.88920\n",
      "[0]\tvalidation-auc:0.86598\n",
      "[1]\tvalidation-auc:0.84766\n",
      "[2]\tvalidation-auc:0.87266\n",
      "[3]\tvalidation-auc:0.88790\n",
      "[4]\tvalidation-auc:0.87774\n",
      "[5]\tvalidation-auc:0.87059\n",
      "[6]\tvalidation-auc:0.86905\n",
      "[7]\tvalidation-auc:0.86237\n",
      "[8]\tvalidation-auc:0.85575\n",
      "[9]\tvalidation-auc:0.85515\n",
      "[0]\tvalidation-auc:0.85454\n",
      "[1]\tvalidation-auc:0.84071\n",
      "[2]\tvalidation-auc:0.85902\n",
      "[3]\tvalidation-auc:0.84846\n",
      "[4]\tvalidation-auc:0.82400\n",
      "[5]\tvalidation-auc:0.83810\n",
      "[6]\tvalidation-auc:0.83803\n",
      "[7]\tvalidation-auc:0.82934\n",
      "[8]\tvalidation-auc:0.83656\n",
      "[9]\tvalidation-auc:0.82600\n",
      "[0]\tvalidation-auc:0.85134\n",
      "[1]\tvalidation-auc:0.86390\n",
      "[2]\tvalidation-auc:0.85087\n",
      "[3]\tvalidation-auc:0.85816\n",
      "[4]\tvalidation-auc:0.85054\n",
      "[5]\tvalidation-auc:0.84659\n",
      "[6]\tvalidation-auc:0.83823\n",
      "[7]\tvalidation-auc:0.84545\n",
      "[8]\tvalidation-auc:0.83884\n",
      "[9]\tvalidation-auc:0.83148\n",
      "[0]\tvalidation-auc:0.84251\n",
      "[1]\tvalidation-auc:0.85886\n",
      "[2]\tvalidation-auc:0.85740\n",
      "[3]\tvalidation-auc:0.84683\n",
      "[4]\tvalidation-auc:0.85906\n",
      "[5]\tvalidation-auc:0.85607\n",
      "[6]\tvalidation-auc:0.85467\n",
      "[7]\tvalidation-auc:0.85142\n",
      "[8]\tvalidation-auc:0.85408\n",
      "[9]\tvalidation-auc:0.85727\n"
     ]
    },
    {
     "name": "stderr",
     "output_type": "stream",
     "text": [
      "\u001b[32m[I 2021-10-02 20:11:27,307]\u001b[0m Trial 94 finished with value: 0.8089887640449438 and parameters: {'booster': 'dart', 'lambda': 0.001380408648710128, 'alpha': 0.00010378478158266015, 'max_depth': 5, 'eta': 0.8794627641428686, 'gamma': 6.055948909696717e-05, 'grow_policy': 'depthwise', 'sample_type': 'uniform', 'normalize_type': 'forest', 'rate_drop': 3.15387744106925e-07, 'skip_drop': 0.003536777015340475}. Best is trial 58 with value: 0.8370786516853933.\u001b[0m\n"
     ]
    },
    {
     "name": "stdout",
     "output_type": "stream",
     "text": [
      "[0]\tvalidation-auc:0.88557\n",
      "[1]\tvalidation-auc:0.89769\n",
      "[2]\tvalidation-auc:0.89453\n",
      "[3]\tvalidation-auc:0.89368\n",
      "[4]\tvalidation-auc:0.88985\n",
      "[5]\tvalidation-auc:0.88663\n",
      "[6]\tvalidation-auc:0.89071\n",
      "[7]\tvalidation-auc:0.89150\n",
      "[8]\tvalidation-auc:0.89605\n",
      "[9]\tvalidation-auc:0.89473\n",
      "[0]\tvalidation-auc:0.83790\n",
      "[1]\tvalidation-auc:0.84579\n",
      "[2]\tvalidation-auc:0.84733\n",
      "[3]\tvalidation-auc:0.86003\n",
      "[4]\tvalidation-auc:0.87500\n",
      "[5]\tvalidation-auc:0.87092\n",
      "[6]\tvalidation-auc:0.87199\n",
      "[7]\tvalidation-auc:0.87527\n",
      "[8]\tvalidation-auc:0.87520\n",
      "[9]\tvalidation-auc:0.85916\n",
      "[0]\tvalidation-auc:0.86905\n",
      "[1]\tvalidation-auc:0.87687\n",
      "[2]\tvalidation-auc:0.87600\n",
      "[3]\tvalidation-auc:0.87687\n",
      "[4]\tvalidation-auc:0.87587\n",
      "[5]\tvalidation-auc:0.87440\n",
      "[6]\tvalidation-auc:0.86838\n",
      "[7]\tvalidation-auc:0.86537\n",
      "[8]\tvalidation-auc:0.86604\n",
      "[9]\tvalidation-auc:0.86698\n",
      "[0]\tvalidation-auc:0.83162\n",
      "[1]\tvalidation-auc:0.84104\n",
      "[2]\tvalidation-auc:0.85842\n",
      "[3]\tvalidation-auc:0.87233\n",
      "[4]\tvalidation-auc:0.86257\n",
      "[5]\tvalidation-auc:0.86370\n",
      "[6]\tvalidation-auc:0.86344\n",
      "[7]\tvalidation-auc:0.86571\n",
      "[8]\tvalidation-auc:0.86270\n",
      "[9]\tvalidation-auc:0.85836\n",
      "[0]\tvalidation-auc:0.84384\n",
      "[1]\tvalidation-auc:0.84816\n",
      "[2]\tvalidation-auc:0.85049\n",
      "[3]\tvalidation-auc:0.84636\n",
      "[4]\tvalidation-auc:0.84437\n",
      "[5]\tvalidation-auc:0.84663\n",
      "[6]\tvalidation-auc:0.85095\n",
      "[7]\tvalidation-auc:0.85474\n",
      "[8]\tvalidation-auc:0.84390\n",
      "[9]\tvalidation-auc:0.84590\n"
     ]
    },
    {
     "name": "stderr",
     "output_type": "stream",
     "text": [
      "\u001b[32m[I 2021-10-02 20:11:27,750]\u001b[0m Trial 95 finished with value: 0.8202247191011236 and parameters: {'booster': 'dart', 'lambda': 1.9768003001348245e-05, 'alpha': 2.4804839446009966e-06, 'max_depth': 4, 'eta': 0.2035486809246212, 'gamma': 2.591633148737925e-05, 'grow_policy': 'depthwise', 'sample_type': 'uniform', 'normalize_type': 'forest', 'rate_drop': 1.1787570305139491e-08, 'skip_drop': 0.03258091129131897}. Best is trial 58 with value: 0.8370786516853933.\u001b[0m\n"
     ]
    },
    {
     "name": "stdout",
     "output_type": "stream",
     "text": [
      "[0]\tvalidation-auc:0.88557\n",
      "[1]\tvalidation-auc:0.89809\n",
      "[2]\tvalidation-auc:0.89137\n",
      "[3]\tvalidation-auc:0.88920\n",
      "[4]\tvalidation-auc:0.89170\n",
      "[5]\tvalidation-auc:0.89137\n",
      "[6]\tvalidation-auc:0.88887\n",
      "[7]\tvalidation-auc:0.89236\n",
      "[8]\tvalidation-auc:0.89170\n",
      "[9]\tvalidation-auc:0.89269\n",
      "[0]\tvalidation-auc:0.83790\n",
      "[1]\tvalidation-auc:0.84672\n",
      "[2]\tvalidation-auc:0.85983\n",
      "[3]\tvalidation-auc:0.87560\n",
      "[4]\tvalidation-auc:0.87246\n",
      "[5]\tvalidation-auc:0.87487\n",
      "[6]\tvalidation-auc:0.88209\n",
      "[7]\tvalidation-auc:0.87567\n",
      "[8]\tvalidation-auc:0.87948\n",
      "[9]\tvalidation-auc:0.87701\n",
      "[0]\tvalidation-auc:0.86905\n",
      "[1]\tvalidation-auc:0.87687\n",
      "[2]\tvalidation-auc:0.87654\n",
      "[3]\tvalidation-auc:0.87440\n",
      "[4]\tvalidation-auc:0.87393\n",
      "[5]\tvalidation-auc:0.86838\n",
      "[6]\tvalidation-auc:0.86905\n",
      "[7]\tvalidation-auc:0.86704\n",
      "[8]\tvalidation-auc:0.86731\n",
      "[9]\tvalidation-auc:0.86544\n",
      "[0]\tvalidation-auc:0.83162\n",
      "[1]\tvalidation-auc:0.84572\n",
      "[2]\tvalidation-auc:0.87233\n",
      "[3]\tvalidation-auc:0.87045\n",
      "[4]\tvalidation-auc:0.87520\n",
      "[5]\tvalidation-auc:0.86704\n",
      "[6]\tvalidation-auc:0.86678\n",
      "[7]\tvalidation-auc:0.86243\n",
      "[8]\tvalidation-auc:0.86317\n",
      "[9]\tvalidation-auc:0.86517\n",
      "[0]\tvalidation-auc:0.84384\n",
      "[1]\tvalidation-auc:0.84158\n",
      "[2]\tvalidation-auc:0.84311\n",
      "[3]\tvalidation-auc:0.84251\n",
      "[4]\tvalidation-auc:0.85002\n",
      "[5]\tvalidation-auc:0.85108\n",
      "[6]\tvalidation-auc:0.85906\n",
      "[7]\tvalidation-auc:0.86591\n",
      "[8]\tvalidation-auc:0.86544\n",
      "[9]\tvalidation-auc:0.86471\n"
     ]
    },
    {
     "name": "stderr",
     "output_type": "stream",
     "text": [
      "\u001b[32m[I 2021-10-02 20:11:28,160]\u001b[0m Trial 96 finished with value: 0.8202247191011236 and parameters: {'booster': 'dart', 'lambda': 0.00012428514746798343, 'alpha': 6.658311476610886e-06, 'max_depth': 4, 'eta': 0.2637923681255846, 'gamma': 3.440837025076677e-06, 'grow_policy': 'depthwise', 'sample_type': 'uniform', 'normalize_type': 'forest', 'rate_drop': 2.9314244628907718e-08, 'skip_drop': 0.21599608043617885}. Best is trial 58 with value: 0.8370786516853933.\u001b[0m\n"
     ]
    },
    {
     "name": "stdout",
     "output_type": "stream",
     "text": [
      "[0]\tvalidation-auc:0.87787\n",
      "[1]\tvalidation-auc:0.88287\n",
      "[2]\tvalidation-auc:0.88426\n",
      "[3]\tvalidation-auc:0.88188\n",
      "[4]\tvalidation-auc:0.88241\n",
      "[5]\tvalidation-auc:0.88314\n"
     ]
    },
    {
     "name": "stderr",
     "output_type": "stream",
     "text": [
      "\u001b[32m[I 2021-10-02 20:11:28,218]\u001b[0m Trial 97 pruned. Trial was pruned at iteration 5.\u001b[0m\n"
     ]
    },
    {
     "name": "stdout",
     "output_type": "stream",
     "text": [
      "[0]\tvalidation-auc:0.85237\n",
      "[1]\tvalidation-auc:0.87128\n",
      "[2]\tvalidation-auc:0.87714\n",
      "[3]\tvalidation-auc:0.88900\n",
      "[4]\tvalidation-auc:0.88551\n",
      "[5]\tvalidation-auc:0.87563\n",
      "[6]\tvalidation-auc:0.87760\n",
      "[7]\tvalidation-auc:0.87635\n",
      "[8]\tvalidation-auc:0.87161\n",
      "[9]\tvalidation-auc:0.87780\n",
      "[0]\tvalidation-auc:0.84098\n",
      "[1]\tvalidation-auc:0.86684\n",
      "[2]\tvalidation-auc:0.85214\n",
      "[3]\tvalidation-auc:0.86310\n",
      "[4]\tvalidation-auc:0.86972\n",
      "[5]\tvalidation-auc:0.87139\n",
      "[6]\tvalidation-auc:0.85588\n",
      "[7]\tvalidation-auc:0.85528\n",
      "[8]\tvalidation-auc:0.85762\n",
      "[9]\tvalidation-auc:0.85829\n",
      "[0]\tvalidation-auc:0.82059\n",
      "[1]\tvalidation-auc:0.83001\n",
      "[2]\tvalidation-auc:0.84913\n",
      "[3]\tvalidation-auc:0.84298\n",
      "[4]\tvalidation-auc:0.83777\n",
      "[5]\tvalidation-auc:0.84238\n",
      "[6]\tvalidation-auc:0.82747\n",
      "[7]\tvalidation-auc:0.83102\n",
      "[8]\tvalidation-auc:0.83476\n",
      "[9]\tvalidation-auc:0.83483\n",
      "[0]\tvalidation-auc:0.85227\n",
      "[1]\tvalidation-auc:0.84592\n",
      "[2]\tvalidation-auc:0.85488\n",
      "[3]\tvalidation-auc:0.85702\n",
      "[4]\tvalidation-auc:0.85582\n",
      "[5]\tvalidation-auc:0.85528\n",
      "[6]\tvalidation-auc:0.85154\n",
      "[7]\tvalidation-auc:0.84225\n",
      "[8]\tvalidation-auc:0.84184\n",
      "[9]\tvalidation-auc:0.84532\n",
      "[0]\tvalidation-auc:0.85135\n",
      "[1]\tvalidation-auc:0.84922\n",
      "[2]\tvalidation-auc:0.85075\n",
      "[3]\tvalidation-auc:0.83745\n",
      "[4]\tvalidation-auc:0.84464\n",
      "[5]\tvalidation-auc:0.85614\n",
      "[6]\tvalidation-auc:0.85441\n",
      "[7]\tvalidation-auc:0.84676\n",
      "[8]\tvalidation-auc:0.84623\n",
      "[9]\tvalidation-auc:0.84450\n"
     ]
    },
    {
     "name": "stderr",
     "output_type": "stream",
     "text": [
      "\u001b[32m[I 2021-10-02 20:11:28,684]\u001b[0m Trial 98 finished with value: 0.8146067415730337 and parameters: {'booster': 'dart', 'lambda': 1.0587471280538744e-08, 'alpha': 1.431410613038094e-05, 'max_depth': 7, 'eta': 0.6108640924800371, 'gamma': 5.60408954949805e-07, 'grow_policy': 'depthwise', 'sample_type': 'uniform', 'normalize_type': 'tree', 'rate_drop': 9.920647500199648e-07, 'skip_drop': 0.1503460791781096}. Best is trial 58 with value: 0.8370786516853933.\u001b[0m\n"
     ]
    },
    {
     "name": "stdout",
     "output_type": "stream",
     "text": [
      "[0]\tvalidation-auc:0.87787\n",
      "[1]\tvalidation-auc:0.88880\n",
      "[2]\tvalidation-auc:0.88518\n",
      "[3]\tvalidation-auc:0.88689\n",
      "[4]\tvalidation-auc:0.88307\n",
      "[5]\tvalidation-auc:0.88491\n",
      "[6]\tvalidation-auc:0.88584\n",
      "[7]\tvalidation-auc:0.88544\n",
      "[8]\tvalidation-auc:0.88610\n",
      "[9]\tvalidation-auc:0.88505\n",
      "[0]\tvalidation-auc:0.84352\n",
      "[1]\tvalidation-auc:0.84352\n",
      "[2]\tvalidation-auc:0.84352\n",
      "[3]\tvalidation-auc:0.84352\n",
      "[4]\tvalidation-auc:0.84352\n",
      "[5]\tvalidation-auc:0.84311\n",
      "[6]\tvalidation-auc:0.84338\n",
      "[7]\tvalidation-auc:0.84338\n",
      "[8]\tvalidation-auc:0.86203\n",
      "[9]\tvalidation-auc:0.86283\n",
      "[0]\tvalidation-auc:0.83576\n",
      "[1]\tvalidation-auc:0.83576\n",
      "[2]\tvalidation-auc:0.83576\n",
      "[3]\tvalidation-auc:0.83576\n",
      "[4]\tvalidation-auc:0.83576\n",
      "[5]\tvalidation-auc:0.83576\n",
      "[6]\tvalidation-auc:0.83696\n",
      "[7]\tvalidation-auc:0.83696\n",
      "[8]\tvalidation-auc:0.83696\n",
      "[9]\tvalidation-auc:0.84138\n",
      "[0]\tvalidation-auc:0.83750\n",
      "[1]\tvalidation-auc:0.84044\n",
      "[2]\tvalidation-auc:0.83817\n",
      "[3]\tvalidation-auc:0.84766\n",
      "[4]\tvalidation-auc:0.84779\n",
      "[5]\tvalidation-auc:0.85214\n",
      "[6]\tvalidation-auc:0.85281\n",
      "[7]\tvalidation-auc:0.85147\n",
      "[8]\tvalidation-auc:0.85174\n",
      "[9]\tvalidation-auc:0.85628\n",
      "[0]\tvalidation-auc:0.87994\n",
      "[1]\tvalidation-auc:0.87994\n",
      "[2]\tvalidation-auc:0.87887\n",
      "[3]\tvalidation-auc:0.87887\n",
      "[4]\tvalidation-auc:0.87887\n",
      "[5]\tvalidation-auc:0.88173\n",
      "[6]\tvalidation-auc:0.88133\n",
      "[7]\tvalidation-auc:0.88160\n",
      "[8]\tvalidation-auc:0.88412\n",
      "[9]\tvalidation-auc:0.88293\n"
     ]
    },
    {
     "name": "stderr",
     "output_type": "stream",
     "text": [
      "\u001b[32m[I 2021-10-02 20:11:29,061]\u001b[0m Trial 99 finished with value: 0.8370786516853933 and parameters: {'booster': 'dart', 'lambda': 1.2856379394530026e-05, 'alpha': 2.7722380639012295e-06, 'max_depth': 3, 'eta': 0.03457484593308945, 'gamma': 1.2707911897752756e-05, 'grow_policy': 'depthwise', 'sample_type': 'uniform', 'normalize_type': 'forest', 'rate_drop': 0.026758673262209244, 'skip_drop': 0.014320827416091277}. Best is trial 58 with value: 0.8370786516853933.\u001b[0m\n"
     ]
    },
    {
     "name": "stdout",
     "output_type": "stream",
     "text": [
      "FrozenTrial(number=58, values=[0.8370786516853933], datetime_start=datetime.datetime(2021, 10, 2, 20, 11, 15, 893062), datetime_complete=datetime.datetime(2021, 10, 2, 20, 11, 16, 249779), params={'booster': 'dart', 'lambda': 6.810559266757943e-05, 'alpha': 2.8673457152075684e-05, 'max_depth': 3, 'eta': 0.03879555008580796, 'gamma': 0.014916783848087345, 'grow_policy': 'depthwise', 'sample_type': 'uniform', 'normalize_type': 'forest', 'rate_drop': 9.819154679456242e-08, 'skip_drop': 0.012665326127287846}, distributions={'booster': CategoricalDistribution(choices=('gbtree', 'gblinear', 'dart')), 'lambda': LogUniformDistribution(high=1.0, low=1e-08), 'alpha': LogUniformDistribution(high=1.0, low=1e-08), 'max_depth': IntUniformDistribution(high=9, low=1, step=1), 'eta': LogUniformDistribution(high=1.0, low=1e-08), 'gamma': LogUniformDistribution(high=1.0, low=1e-08), 'grow_policy': CategoricalDistribution(choices=('depthwise', 'lossguide')), 'sample_type': CategoricalDistribution(choices=('uniform', 'weighted')), 'normalize_type': CategoricalDistribution(choices=('tree', 'forest')), 'rate_drop': LogUniformDistribution(high=1.0, low=1e-08), 'skip_drop': LogUniformDistribution(high=1.0, low=1e-08)}, user_attrs={}, system_attrs={}, intermediate_values={0: 0.877866, 1: 0.888801, 2: 0.885178, 3: 0.886891, 4: 0.88307, 5: 0.884914, 6: 0.886495, 7: 0.885705, 8: 0.885441, 9: 0.885046}, trial_id=58, state=TrialState.COMPLETE, value=None)\n"
     ]
    }
   ],
   "source": [
    "#optuna xgboost example\n",
    "#https://github.com/optuna/optuna-examples/blob/main/xgboost/xgboost_integration.py\n",
    "import xgboost as xgb\n",
    "def objective(trial):\n",
    "    param = {\n",
    "            \"verbosity\": 0,\n",
    "            \"objective\": \"binary:logistic\",  #binary:logistic\n",
    "            \"eval_metric\": \"auc\",  #map\n",
    "            \"booster\": trial.suggest_categorical(\"booster\", [\"gbtree\", \"gblinear\", \"dart\"]),\n",
    "            \"lambda\": trial.suggest_float(\"lambda\", 1e-8, 1.0, log=True),\n",
    "            \"alpha\": trial.suggest_float(\"alpha\", 1e-8, 1.0, log=True),\n",
    "        }\n",
    "\n",
    "    if param[\"booster\"] == \"gbtree\" or param[\"booster\"] == \"dart\":\n",
    "        param[\"max_depth\"] = trial.suggest_int(\"max_depth\", 1, 9)\n",
    "        param[\"eta\"] = trial.suggest_float(\"eta\", 1e-8, 1.0, log=True)\n",
    "        param[\"gamma\"] = trial.suggest_float(\"gamma\", 1e-8, 1.0, log=True)\n",
    "        param[\"grow_policy\"] = trial.suggest_categorical(\"grow_policy\", [\"depthwise\", \"lossguide\"])\n",
    "    if param[\"booster\"] == \"dart\":\n",
    "        param[\"sample_type\"] = trial.suggest_categorical(\"sample_type\", [\"uniform\", \"weighted\"])\n",
    "        param[\"normalize_type\"] = trial.suggest_categorical(\"normalize_type\", [\"tree\", \"forest\"])\n",
    "        param[\"rate_drop\"] = trial.suggest_float(\"rate_drop\", 1e-8, 1.0, log=True)\n",
    "        param[\"skip_drop\"] = trial.suggest_float(\"skip_drop\", 1e-8, 1.0, log=True)\n",
    "\n",
    "    for i in range(5):\n",
    "        train_x = train.query(f'fold!={i}').drop(['fold', 'Survived'], axis=1)\n",
    "        train_y = train.query(f'fold!={i}').Survived\n",
    "\n",
    "        valid_x = train.query(f'fold=={i}').drop(['fold', 'Survived'], axis=1)\n",
    "        valid_y = train.query(f'fold=={i}').Survived\n",
    "\n",
    "        dtrain = xgb.DMatrix(train_x, label=train_y)\n",
    "        dvalid = xgb.DMatrix(valid_x, label=valid_y)\n",
    "        \n",
    "        accuracy = []\n",
    "        # Add a callback for pruning.\n",
    "        pruning_callback = optuna.integration.XGBoostPruningCallback(trial, \"validation-auc\")\n",
    "        bst = xgb.train(param, dtrain, evals=[(dvalid, \"validation\")], callbacks=[pruning_callback])\n",
    "        preds = bst.predict(dvalid)\n",
    "        pred_labels = np.rint(preds)\n",
    "        accuracy.append(sklearn.metrics.accuracy_score(valid_y, pred_labels))\n",
    "        \n",
    "        \n",
    "        joblib.dump(bst, f'xgboost_fold{i}.pkl')\n",
    "    return np.mean(accuracy)\n",
    "\n",
    "    \n",
    "if __name__ == \"__main__\":\n",
    "    study = optuna.create_study(\n",
    "        pruner=optuna.pruners.MedianPruner(n_warmup_steps=5), direction=\"maximize\"\n",
    "    )\n",
    "    study.optimize(objective, n_trials=100)\n",
    "    print(study.best_trial)"
   ]
  },
  {
   "cell_type": "markdown",
   "metadata": {},
   "source": [
    "## Catboost"
   ]
  },
  {
   "cell_type": "code",
   "execution_count": 47,
   "metadata": {},
   "outputs": [
    {
     "name": "stderr",
     "output_type": "stream",
     "text": [
      "\u001b[32m[I 2021-10-02 20:11:29,125]\u001b[0m A new study created in memory with name: no-name-3e680299-6d31-4e87-9b26-895c121d287a\u001b[0m\n",
      "\u001b[32m[I 2021-10-02 20:11:34,140]\u001b[0m Trial 0 finished with value: 0.8033707865168539 and parameters: {'objective': 'CrossEntropy', 'colsample_bylevel': 0.027630804811680683, 'depth': 10, 'boosting_type': 'Ordered', 'bootstrap_type': 'MVS'}. Best is trial 0 with value: 0.8033707865168539.\u001b[0m\n",
      "\u001b[32m[I 2021-10-02 20:11:36,728]\u001b[0m Trial 1 finished with value: 0.8146067415730337 and parameters: {'objective': 'Logloss', 'colsample_bylevel': 0.05770782080345352, 'depth': 1, 'boosting_type': 'Plain', 'bootstrap_type': 'Bayesian', 'bagging_temperature': 0.10180212725229842}. Best is trial 1 with value: 0.8146067415730337.\u001b[0m\n",
      "\u001b[32m[I 2021-10-02 20:11:41,511]\u001b[0m Trial 2 finished with value: 0.797752808988764 and parameters: {'objective': 'Logloss', 'colsample_bylevel': 0.015033223032787178, 'depth': 6, 'boosting_type': 'Ordered', 'bootstrap_type': 'MVS'}. Best is trial 1 with value: 0.8146067415730337.\u001b[0m\n",
      "\u001b[32m[I 2021-10-02 20:11:44,015]\u001b[0m Trial 3 finished with value: 0.797752808988764 and parameters: {'objective': 'Logloss', 'colsample_bylevel': 0.024100084703947332, 'depth': 1, 'boosting_type': 'Plain', 'bootstrap_type': 'Bernoulli', 'subsample': 0.22284820862119767}. Best is trial 1 with value: 0.8146067415730337.\u001b[0m\n",
      "\u001b[32m[I 2021-10-02 20:11:46,779]\u001b[0m Trial 4 finished with value: 0.8202247191011236 and parameters: {'objective': 'Logloss', 'colsample_bylevel': 0.029396150012921778, 'depth': 12, 'boosting_type': 'Plain', 'bootstrap_type': 'Bayesian', 'bagging_temperature': 8.299678361363013}. Best is trial 4 with value: 0.8202247191011236.\u001b[0m\n",
      "\u001b[32m[I 2021-10-02 20:11:49,338]\u001b[0m Trial 5 finished with value: 0.8202247191011236 and parameters: {'objective': 'Logloss', 'colsample_bylevel': 0.043213314644359305, 'depth': 10, 'boosting_type': 'Plain', 'bootstrap_type': 'Bayesian', 'bagging_temperature': 2.1634732314981706}. Best is trial 4 with value: 0.8202247191011236.\u001b[0m\n",
      "\u001b[32m[I 2021-10-02 20:11:51,746]\u001b[0m Trial 6 finished with value: 0.8202247191011236 and parameters: {'objective': 'Logloss', 'colsample_bylevel': 0.024713874611483604, 'depth': 8, 'boosting_type': 'Plain', 'bootstrap_type': 'Bayesian', 'bagging_temperature': 8.203512410732293}. Best is trial 4 with value: 0.8202247191011236.\u001b[0m\n",
      "\u001b[32m[I 2021-10-02 20:11:54,164]\u001b[0m Trial 7 finished with value: 0.8146067415730337 and parameters: {'objective': 'CrossEntropy', 'colsample_bylevel': 0.05047309676330262, 'depth': 3, 'boosting_type': 'Plain', 'bootstrap_type': 'Bayesian', 'bagging_temperature': 1.6265317362038112}. Best is trial 4 with value: 0.8202247191011236.\u001b[0m\n",
      "\u001b[32m[I 2021-10-02 20:11:58,428]\u001b[0m Trial 8 finished with value: 0.8146067415730337 and parameters: {'objective': 'Logloss', 'colsample_bylevel': 0.05373112011508598, 'depth': 7, 'boosting_type': 'Ordered', 'bootstrap_type': 'Bayesian', 'bagging_temperature': 7.094684087423046}. Best is trial 4 with value: 0.8202247191011236.\u001b[0m\n",
      "\u001b[32m[I 2021-10-02 20:12:00,839]\u001b[0m Trial 9 finished with value: 0.8258426966292135 and parameters: {'objective': 'Logloss', 'colsample_bylevel': 0.07231111504583605, 'depth': 2, 'boosting_type': 'Plain', 'bootstrap_type': 'Bernoulli', 'subsample': 0.14213874978068464}. Best is trial 9 with value: 0.8258426966292135.\u001b[0m\n",
      "\u001b[32m[I 2021-10-02 20:12:02,858]\u001b[0m Trial 10 finished with value: 0.8089887640449438 and parameters: {'objective': 'CrossEntropy', 'colsample_bylevel': 0.09050858089593951, 'depth': 4, 'boosting_type': 'Plain', 'bootstrap_type': 'Bernoulli', 'subsample': 0.9969943339384464}. Best is trial 9 with value: 0.8258426966292135.\u001b[0m\n",
      "\u001b[32m[I 2021-10-02 20:12:05,136]\u001b[0m Trial 11 finished with value: 0.8370786516853933 and parameters: {'objective': 'Logloss', 'colsample_bylevel': 0.08190962134654428, 'depth': 12, 'boosting_type': 'Plain', 'bootstrap_type': 'Bernoulli', 'subsample': 0.12136655380978248}. Best is trial 11 with value: 0.8370786516853933.\u001b[0m\n",
      "\u001b[32m[I 2021-10-02 20:12:07,487]\u001b[0m Trial 12 finished with value: 0.8258426966292135 and parameters: {'objective': 'Logloss', 'colsample_bylevel': 0.08057694838658536, 'depth': 4, 'boosting_type': 'Plain', 'bootstrap_type': 'Bernoulli', 'subsample': 0.11493148899999116}. Best is trial 11 with value: 0.8370786516853933.\u001b[0m\n",
      "\u001b[32m[I 2021-10-02 20:12:09,836]\u001b[0m Trial 13 finished with value: 0.8258426966292135 and parameters: {'objective': 'Logloss', 'colsample_bylevel': 0.07356275001459323, 'depth': 12, 'boosting_type': 'Plain', 'bootstrap_type': 'Bernoulli', 'subsample': 0.36473099079468135}. Best is trial 11 with value: 0.8370786516853933.\u001b[0m\n",
      "\u001b[32m[I 2021-10-02 20:12:12,137]\u001b[0m Trial 14 finished with value: 0.8146067415730337 and parameters: {'objective': 'Logloss', 'colsample_bylevel': 0.07073202238231534, 'depth': 2, 'boosting_type': 'Plain', 'bootstrap_type': 'Bernoulli', 'subsample': 0.6151194914420318}. Best is trial 11 with value: 0.8370786516853933.\u001b[0m\n",
      "\u001b[32m[I 2021-10-02 20:12:14,501]\u001b[0m Trial 15 finished with value: 0.8258426966292135 and parameters: {'objective': 'Logloss', 'colsample_bylevel': 0.09976135741440942, 'depth': 5, 'boosting_type': 'Plain', 'bootstrap_type': 'Bernoulli', 'subsample': 0.15075761399164372}. Best is trial 11 with value: 0.8370786516853933.\u001b[0m\n",
      "\u001b[32m[I 2021-10-02 20:12:16,989]\u001b[0m Trial 16 finished with value: 0.8258426966292135 and parameters: {'objective': 'Logloss', 'colsample_bylevel': 0.08607864617536942, 'depth': 9, 'boosting_type': 'Plain', 'bootstrap_type': 'Bernoulli', 'subsample': 0.46320710136731885}. Best is trial 11 with value: 0.8370786516853933.\u001b[0m\n",
      "\u001b[32m[I 2021-10-02 20:12:20,460]\u001b[0m Trial 17 finished with value: 0.8146067415730337 and parameters: {'objective': 'CrossEntropy', 'colsample_bylevel': 0.09726815332996896, 'depth': 10, 'boosting_type': 'Ordered', 'bootstrap_type': 'Bernoulli', 'subsample': 0.6424169619020558}. Best is trial 11 with value: 0.8370786516853933.\u001b[0m\n",
      "\u001b[32m[I 2021-10-02 20:12:22,518]\u001b[0m Trial 18 finished with value: 0.8033707865168539 and parameters: {'objective': 'Logloss', 'colsample_bylevel': 0.09796741151270998, 'depth': 6, 'boosting_type': 'Plain', 'bootstrap_type': 'MVS'}. Best is trial 11 with value: 0.8370786516853933.\u001b[0m\n",
      "\u001b[32m[I 2021-10-02 20:12:24,862]\u001b[0m Trial 19 finished with value: 0.8370786516853933 and parameters: {'objective': 'Logloss', 'colsample_bylevel': 0.06556074920897056, 'depth': 12, 'boosting_type': 'Plain', 'bootstrap_type': 'Bernoulli', 'subsample': 0.3036550686292221}. Best is trial 11 with value: 0.8370786516853933.\u001b[0m\n",
      "\u001b[32m[I 2021-10-02 20:12:27,090]\u001b[0m Trial 20 finished with value: 0.8146067415730337 and parameters: {'objective': 'Logloss', 'colsample_bylevel': 0.06312241369834734, 'depth': 12, 'boosting_type': 'Plain', 'bootstrap_type': 'Bernoulli', 'subsample': 0.3537186399529101}. Best is trial 11 with value: 0.8370786516853933.\u001b[0m\n",
      "\u001b[32m[I 2021-10-02 20:12:29,485]\u001b[0m Trial 21 finished with value: 0.8089887640449438 and parameters: {'objective': 'Logloss', 'colsample_bylevel': 0.08529762431092489, 'depth': 9, 'boosting_type': 'Plain', 'bootstrap_type': 'Bernoulli', 'subsample': 0.4055350437538544}. Best is trial 11 with value: 0.8370786516853933.\u001b[0m\n",
      "\u001b[32m[I 2021-10-02 20:12:31,642]\u001b[0m Trial 22 finished with value: 0.8314606741573034 and parameters: {'objective': 'Logloss', 'colsample_bylevel': 0.08171875913782883, 'depth': 11, 'boosting_type': 'Plain', 'bootstrap_type': 'Bernoulli', 'subsample': 0.49607948335131336}. Best is trial 11 with value: 0.8370786516853933.\u001b[0m\n",
      "\u001b[32m[I 2021-10-02 20:12:33,776]\u001b[0m Trial 23 finished with value: 0.8089887640449438 and parameters: {'objective': 'Logloss', 'colsample_bylevel': 0.0659916243087855, 'depth': 11, 'boosting_type': 'Plain', 'bootstrap_type': 'Bernoulli', 'subsample': 0.7681093871689405}. Best is trial 11 with value: 0.8370786516853933.\u001b[0m\n",
      "\u001b[32m[I 2021-10-02 20:12:35,987]\u001b[0m Trial 24 finished with value: 0.8370786516853933 and parameters: {'objective': 'Logloss', 'colsample_bylevel': 0.07955731976206715, 'depth': 11, 'boosting_type': 'Plain', 'bootstrap_type': 'Bernoulli', 'subsample': 0.27580982618357264}. Best is trial 11 with value: 0.8370786516853933.\u001b[0m\n"
     ]
    },
    {
     "name": "stderr",
     "output_type": "stream",
     "text": [
      "\u001b[32m[I 2021-10-02 20:12:38,283]\u001b[0m Trial 25 finished with value: 0.8314606741573034 and parameters: {'objective': 'Logloss', 'colsample_bylevel': 0.07712222161069392, 'depth': 11, 'boosting_type': 'Plain', 'bootstrap_type': 'Bernoulli', 'subsample': 0.2650194523932219}. Best is trial 11 with value: 0.8370786516853933.\u001b[0m\n",
      "\u001b[32m[I 2021-10-02 20:12:40,571]\u001b[0m Trial 26 finished with value: 0.8089887640449438 and parameters: {'objective': 'Logloss', 'colsample_bylevel': 0.06427819501994521, 'depth': 12, 'boosting_type': 'Plain', 'bootstrap_type': 'Bernoulli', 'subsample': 0.2625317517593312}. Best is trial 11 with value: 0.8370786516853933.\u001b[0m\n",
      "\u001b[32m[I 2021-10-02 20:12:44,168]\u001b[0m Trial 27 finished with value: 0.8202247191011236 and parameters: {'objective': 'CrossEntropy', 'colsample_bylevel': 0.09157404998712938, 'depth': 11, 'boosting_type': 'Ordered', 'bootstrap_type': 'MVS'}. Best is trial 11 with value: 0.8370786516853933.\u001b[0m\n",
      "\u001b[32m[I 2021-10-02 20:12:46,410]\u001b[0m Trial 28 finished with value: 0.8146067415730337 and parameters: {'objective': 'Logloss', 'colsample_bylevel': 0.042428848195443646, 'depth': 9, 'boosting_type': 'Plain', 'bootstrap_type': 'Bernoulli', 'subsample': 0.2324090236240447}. Best is trial 11 with value: 0.8370786516853933.\u001b[0m\n",
      "\u001b[32m[I 2021-10-02 20:12:49,779]\u001b[0m Trial 29 finished with value: 0.8089887640449438 and parameters: {'objective': 'CrossEntropy', 'colsample_bylevel': 0.05988075645910591, 'depth': 10, 'boosting_type': 'Ordered', 'bootstrap_type': 'MVS'}. Best is trial 11 with value: 0.8370786516853933.\u001b[0m\n",
      "\u001b[32m[I 2021-10-02 20:12:52,098]\u001b[0m Trial 30 finished with value: 0.8258426966292135 and parameters: {'objective': 'Logloss', 'colsample_bylevel': 0.06933442832163703, 'depth': 12, 'boosting_type': 'Plain', 'bootstrap_type': 'Bernoulli', 'subsample': 0.11953787075804277}. Best is trial 11 with value: 0.8370786516853933.\u001b[0m\n",
      "\u001b[32m[I 2021-10-02 20:12:54,293]\u001b[0m Trial 31 finished with value: 0.8258426966292135 and parameters: {'objective': 'Logloss', 'colsample_bylevel': 0.07788456454635001, 'depth': 11, 'boosting_type': 'Plain', 'bootstrap_type': 'Bernoulli', 'subsample': 0.2883865149830295}. Best is trial 11 with value: 0.8370786516853933.\u001b[0m\n",
      "\u001b[32m[I 2021-10-02 20:12:56,569]\u001b[0m Trial 32 finished with value: 0.8146067415730337 and parameters: {'objective': 'Logloss', 'colsample_bylevel': 0.07703743194655349, 'depth': 11, 'boosting_type': 'Plain', 'bootstrap_type': 'Bernoulli', 'subsample': 0.3065201716290894}. Best is trial 11 with value: 0.8370786516853933.\u001b[0m\n",
      "\u001b[32m[I 2021-10-02 20:12:58,762]\u001b[0m Trial 33 finished with value: 0.8258426966292135 and parameters: {'objective': 'Logloss', 'colsample_bylevel': 0.09114601560327676, 'depth': 10, 'boosting_type': 'Plain', 'bootstrap_type': 'Bernoulli', 'subsample': 0.20973094215560323}. Best is trial 11 with value: 0.8370786516853933.\u001b[0m\n",
      "\u001b[32m[I 2021-10-02 20:13:01,046]\u001b[0m Trial 34 finished with value: 0.8258426966292135 and parameters: {'objective': 'Logloss', 'colsample_bylevel': 0.08471667316747276, 'depth': 12, 'boosting_type': 'Plain', 'bootstrap_type': 'Bernoulli', 'subsample': 0.1865107031563888}. Best is trial 11 with value: 0.8370786516853933.\u001b[0m\n",
      "\u001b[32m[I 2021-10-02 20:13:03,306]\u001b[0m Trial 35 finished with value: 0.8202247191011236 and parameters: {'objective': 'Logloss', 'colsample_bylevel': 0.0756548304759428, 'depth': 8, 'boosting_type': 'Plain', 'bootstrap_type': 'Bernoulli', 'subsample': 0.3155970191716697}. Best is trial 11 with value: 0.8370786516853933.\u001b[0m\n",
      "\u001b[32m[I 2021-10-02 20:13:05,380]\u001b[0m Trial 36 finished with value: 0.8033707865168539 and parameters: {'objective': 'Logloss', 'colsample_bylevel': 0.08129900211138642, 'depth': 11, 'boosting_type': 'Plain', 'bootstrap_type': 'Bernoulli', 'subsample': 0.47774203890249056}. Best is trial 11 with value: 0.8370786516853933.\u001b[0m\n",
      "\u001b[32m[I 2021-10-02 20:13:07,571]\u001b[0m Trial 37 finished with value: 0.8146067415730337 and parameters: {'objective': 'Logloss', 'colsample_bylevel': 0.06800269832548322, 'depth': 10, 'boosting_type': 'Plain', 'bootstrap_type': 'MVS'}. Best is trial 11 with value: 0.8370786516853933.\u001b[0m\n",
      "\u001b[32m[I 2021-10-02 20:13:09,879]\u001b[0m Trial 38 finished with value: 0.8146067415730337 and parameters: {'objective': 'Logloss', 'colsample_bylevel': 0.05848254153012587, 'depth': 8, 'boosting_type': 'Plain', 'bootstrap_type': 'Bernoulli', 'subsample': 0.48890469408736065}. Best is trial 11 with value: 0.8370786516853933.\u001b[0m\n",
      "\u001b[32m[I 2021-10-02 20:13:13,751]\u001b[0m Trial 39 finished with value: 0.8202247191011236 and parameters: {'objective': 'Logloss', 'colsample_bylevel': 0.04653259103567692, 'depth': 12, 'boosting_type': 'Ordered', 'bootstrap_type': 'Bayesian', 'bagging_temperature': 4.739440501595463}. Best is trial 11 with value: 0.8370786516853933.\u001b[0m\n"
     ]
    },
    {
     "ename": "KeyboardInterrupt",
     "evalue": "",
     "output_type": "error",
     "traceback": [
      "\u001b[0;31m---------------------------------------------------------------------------\u001b[0m",
      "\u001b[0;31mKeyboardInterrupt\u001b[0m                         Traceback (most recent call last)",
      "\u001b[0;32m<ipython-input-47-e8b526c9fa02>\u001b[0m in \u001b[0;36m<module>\u001b[0;34m\u001b[0m\n\u001b[1;32m     41\u001b[0m \u001b[0;32mif\u001b[0m \u001b[0m__name__\u001b[0m \u001b[0;34m==\u001b[0m \u001b[0;34m\"__main__\"\u001b[0m\u001b[0;34m:\u001b[0m\u001b[0;34m\u001b[0m\u001b[0;34m\u001b[0m\u001b[0m\n\u001b[1;32m     42\u001b[0m     \u001b[0mstudy\u001b[0m \u001b[0;34m=\u001b[0m \u001b[0moptuna\u001b[0m\u001b[0;34m.\u001b[0m\u001b[0mcreate_study\u001b[0m\u001b[0;34m(\u001b[0m\u001b[0mdirection\u001b[0m\u001b[0;34m=\u001b[0m\u001b[0;34m\"maximize\"\u001b[0m\u001b[0;34m)\u001b[0m\u001b[0;34m\u001b[0m\u001b[0;34m\u001b[0m\u001b[0m\n\u001b[0;32m---> 43\u001b[0;31m     \u001b[0mstudy\u001b[0m\u001b[0;34m.\u001b[0m\u001b[0moptimize\u001b[0m\u001b[0;34m(\u001b[0m\u001b[0mobjective\u001b[0m\u001b[0;34m,\u001b[0m \u001b[0mn_trials\u001b[0m\u001b[0;34m=\u001b[0m\u001b[0;36m100\u001b[0m\u001b[0;34m,\u001b[0m \u001b[0mtimeout\u001b[0m\u001b[0;34m=\u001b[0m\u001b[0;36m600\u001b[0m\u001b[0;34m)\u001b[0m\u001b[0;34m\u001b[0m\u001b[0;34m\u001b[0m\u001b[0m\n\u001b[0m\u001b[1;32m     44\u001b[0m \u001b[0;34m\u001b[0m\u001b[0m\n\u001b[1;32m     45\u001b[0m     \u001b[0mprint\u001b[0m\u001b[0;34m(\u001b[0m\u001b[0;34m\"Number of finished trials: {}\"\u001b[0m\u001b[0;34m.\u001b[0m\u001b[0mformat\u001b[0m\u001b[0;34m(\u001b[0m\u001b[0mlen\u001b[0m\u001b[0;34m(\u001b[0m\u001b[0mstudy\u001b[0m\u001b[0;34m.\u001b[0m\u001b[0mtrials\u001b[0m\u001b[0;34m)\u001b[0m\u001b[0;34m)\u001b[0m\u001b[0;34m)\u001b[0m\u001b[0;34m\u001b[0m\u001b[0;34m\u001b[0m\u001b[0m\n",
      "\u001b[0;32m/Users/tianxiangzhou/opt/anaconda3/lib/python3.7/site-packages/optuna/study.py\u001b[0m in \u001b[0;36moptimize\u001b[0;34m(self, func, n_trials, timeout, n_jobs, catch, callbacks, gc_after_trial, show_progress_bar)\u001b[0m\n\u001b[1;32m    383\u001b[0m             \u001b[0mcallbacks\u001b[0m\u001b[0;34m=\u001b[0m\u001b[0mcallbacks\u001b[0m\u001b[0;34m,\u001b[0m\u001b[0;34m\u001b[0m\u001b[0;34m\u001b[0m\u001b[0m\n\u001b[1;32m    384\u001b[0m             \u001b[0mgc_after_trial\u001b[0m\u001b[0;34m=\u001b[0m\u001b[0mgc_after_trial\u001b[0m\u001b[0;34m,\u001b[0m\u001b[0;34m\u001b[0m\u001b[0;34m\u001b[0m\u001b[0m\n\u001b[0;32m--> 385\u001b[0;31m             \u001b[0mshow_progress_bar\u001b[0m\u001b[0;34m=\u001b[0m\u001b[0mshow_progress_bar\u001b[0m\u001b[0;34m,\u001b[0m\u001b[0;34m\u001b[0m\u001b[0;34m\u001b[0m\u001b[0m\n\u001b[0m\u001b[1;32m    386\u001b[0m         )\n\u001b[1;32m    387\u001b[0m \u001b[0;34m\u001b[0m\u001b[0m\n",
      "\u001b[0;32m/Users/tianxiangzhou/opt/anaconda3/lib/python3.7/site-packages/optuna/_optimize.py\u001b[0m in \u001b[0;36m_optimize\u001b[0;34m(study, func, n_trials, timeout, n_jobs, catch, callbacks, gc_after_trial, show_progress_bar)\u001b[0m\n\u001b[1;32m     71\u001b[0m                 \u001b[0mreseed_sampler_rng\u001b[0m\u001b[0;34m=\u001b[0m\u001b[0;32mFalse\u001b[0m\u001b[0;34m,\u001b[0m\u001b[0;34m\u001b[0m\u001b[0;34m\u001b[0m\u001b[0m\n\u001b[1;32m     72\u001b[0m                 \u001b[0mtime_start\u001b[0m\u001b[0;34m=\u001b[0m\u001b[0;32mNone\u001b[0m\u001b[0;34m,\u001b[0m\u001b[0;34m\u001b[0m\u001b[0;34m\u001b[0m\u001b[0m\n\u001b[0;32m---> 73\u001b[0;31m                 \u001b[0mprogress_bar\u001b[0m\u001b[0;34m=\u001b[0m\u001b[0mprogress_bar\u001b[0m\u001b[0;34m,\u001b[0m\u001b[0;34m\u001b[0m\u001b[0;34m\u001b[0m\u001b[0m\n\u001b[0m\u001b[1;32m     74\u001b[0m             )\n\u001b[1;32m     75\u001b[0m         \u001b[0;32melse\u001b[0m\u001b[0;34m:\u001b[0m\u001b[0;34m\u001b[0m\u001b[0;34m\u001b[0m\u001b[0m\n",
      "\u001b[0;32m/Users/tianxiangzhou/opt/anaconda3/lib/python3.7/site-packages/optuna/_optimize.py\u001b[0m in \u001b[0;36m_optimize_sequential\u001b[0;34m(study, func, n_trials, timeout, catch, callbacks, gc_after_trial, reseed_sampler_rng, time_start, progress_bar)\u001b[0m\n\u001b[1;32m    162\u001b[0m \u001b[0;34m\u001b[0m\u001b[0m\n\u001b[1;32m    163\u001b[0m         \u001b[0;32mtry\u001b[0m\u001b[0;34m:\u001b[0m\u001b[0;34m\u001b[0m\u001b[0;34m\u001b[0m\u001b[0m\n\u001b[0;32m--> 164\u001b[0;31m             \u001b[0mtrial\u001b[0m \u001b[0;34m=\u001b[0m \u001b[0m_run_trial\u001b[0m\u001b[0;34m(\u001b[0m\u001b[0mstudy\u001b[0m\u001b[0;34m,\u001b[0m \u001b[0mfunc\u001b[0m\u001b[0;34m,\u001b[0m \u001b[0mcatch\u001b[0m\u001b[0;34m)\u001b[0m\u001b[0;34m\u001b[0m\u001b[0;34m\u001b[0m\u001b[0m\n\u001b[0m\u001b[1;32m    165\u001b[0m         \u001b[0;32mexcept\u001b[0m \u001b[0mException\u001b[0m\u001b[0;34m:\u001b[0m\u001b[0;34m\u001b[0m\u001b[0;34m\u001b[0m\u001b[0m\n\u001b[1;32m    166\u001b[0m             \u001b[0;32mraise\u001b[0m\u001b[0;34m\u001b[0m\u001b[0;34m\u001b[0m\u001b[0m\n",
      "\u001b[0;32m/Users/tianxiangzhou/opt/anaconda3/lib/python3.7/site-packages/optuna/_optimize.py\u001b[0m in \u001b[0;36m_run_trial\u001b[0;34m(study, func, catch)\u001b[0m\n\u001b[1;32m    209\u001b[0m \u001b[0;34m\u001b[0m\u001b[0m\n\u001b[1;32m    210\u001b[0m     \u001b[0;32mtry\u001b[0m\u001b[0;34m:\u001b[0m\u001b[0;34m\u001b[0m\u001b[0;34m\u001b[0m\u001b[0m\n\u001b[0;32m--> 211\u001b[0;31m         \u001b[0mvalue_or_values\u001b[0m \u001b[0;34m=\u001b[0m \u001b[0mfunc\u001b[0m\u001b[0;34m(\u001b[0m\u001b[0mtrial\u001b[0m\u001b[0;34m)\u001b[0m\u001b[0;34m\u001b[0m\u001b[0;34m\u001b[0m\u001b[0m\n\u001b[0m\u001b[1;32m    212\u001b[0m     \u001b[0;32mexcept\u001b[0m \u001b[0mexceptions\u001b[0m\u001b[0;34m.\u001b[0m\u001b[0mTrialPruned\u001b[0m \u001b[0;32mas\u001b[0m \u001b[0me\u001b[0m\u001b[0;34m:\u001b[0m\u001b[0;34m\u001b[0m\u001b[0;34m\u001b[0m\u001b[0m\n\u001b[1;32m    213\u001b[0m         \u001b[0;31m# TODO(mamu): Handle multi-objective cases.\u001b[0m\u001b[0;34m\u001b[0m\u001b[0;34m\u001b[0m\u001b[0;34m\u001b[0m\u001b[0m\n",
      "\u001b[0;32m<ipython-input-47-e8b526c9fa02>\u001b[0m in \u001b[0;36mobjective\u001b[0;34m(trial)\u001b[0m\n\u001b[1;32m     30\u001b[0m \u001b[0;34m\u001b[0m\u001b[0m\n\u001b[1;32m     31\u001b[0m         \u001b[0mgbm\u001b[0m \u001b[0;34m=\u001b[0m \u001b[0mcb\u001b[0m\u001b[0;34m.\u001b[0m\u001b[0mCatBoostClassifier\u001b[0m\u001b[0;34m(\u001b[0m\u001b[0;34m**\u001b[0m\u001b[0mparam\u001b[0m\u001b[0;34m)\u001b[0m\u001b[0;34m\u001b[0m\u001b[0;34m\u001b[0m\u001b[0m\n\u001b[0;32m---> 32\u001b[0;31m         \u001b[0mgbm\u001b[0m\u001b[0;34m.\u001b[0m\u001b[0mfit\u001b[0m\u001b[0;34m(\u001b[0m\u001b[0mtrain_x\u001b[0m\u001b[0;34m,\u001b[0m \u001b[0mtrain_y\u001b[0m\u001b[0;34m,\u001b[0m \u001b[0meval_set\u001b[0m\u001b[0;34m=\u001b[0m\u001b[0;34m[\u001b[0m\u001b[0;34m(\u001b[0m\u001b[0mvalid_x\u001b[0m\u001b[0;34m,\u001b[0m \u001b[0mvalid_y\u001b[0m\u001b[0;34m)\u001b[0m\u001b[0;34m]\u001b[0m\u001b[0;34m,\u001b[0m \u001b[0mverbose\u001b[0m\u001b[0;34m=\u001b[0m\u001b[0;36m0\u001b[0m\u001b[0;34m,\u001b[0m \u001b[0mearly_stopping_rounds\u001b[0m\u001b[0;34m=\u001b[0m\u001b[0;36m100\u001b[0m\u001b[0;34m)\u001b[0m\u001b[0;34m\u001b[0m\u001b[0;34m\u001b[0m\u001b[0m\n\u001b[0m\u001b[1;32m     33\u001b[0m         \u001b[0mpreds\u001b[0m \u001b[0;34m=\u001b[0m \u001b[0mgbm\u001b[0m\u001b[0;34m.\u001b[0m\u001b[0mpredict\u001b[0m\u001b[0;34m(\u001b[0m\u001b[0mvalid_x\u001b[0m\u001b[0;34m)\u001b[0m\u001b[0;34m\u001b[0m\u001b[0;34m\u001b[0m\u001b[0m\n\u001b[1;32m     34\u001b[0m         \u001b[0mpred_labels\u001b[0m \u001b[0;34m=\u001b[0m \u001b[0mnp\u001b[0m\u001b[0;34m.\u001b[0m\u001b[0mrint\u001b[0m\u001b[0;34m(\u001b[0m\u001b[0mpreds\u001b[0m\u001b[0;34m)\u001b[0m\u001b[0;34m\u001b[0m\u001b[0;34m\u001b[0m\u001b[0m\n",
      "\u001b[0;32m~/.local/lib/python3.7/site-packages/catboost/core.py\u001b[0m in \u001b[0;36mfit\u001b[0;34m(self, X, y, cat_features, text_features, embedding_features, sample_weight, baseline, use_best_model, eval_set, verbose, logging_level, plot, column_description, verbose_eval, metric_period, silent, early_stopping_rounds, save_snapshot, snapshot_file, snapshot_interval, init_model, callbacks, log_cout, log_cerr)\u001b[0m\n\u001b[1;32m   4675\u001b[0m         self._fit(X, y, cat_features, text_features, embedding_features, None, sample_weight, None, None, None, None, baseline, use_best_model,\n\u001b[1;32m   4676\u001b[0m                   \u001b[0meval_set\u001b[0m\u001b[0;34m,\u001b[0m \u001b[0mverbose\u001b[0m\u001b[0;34m,\u001b[0m \u001b[0mlogging_level\u001b[0m\u001b[0;34m,\u001b[0m \u001b[0mplot\u001b[0m\u001b[0;34m,\u001b[0m \u001b[0mcolumn_description\u001b[0m\u001b[0;34m,\u001b[0m \u001b[0mverbose_eval\u001b[0m\u001b[0;34m,\u001b[0m \u001b[0mmetric_period\u001b[0m\u001b[0;34m,\u001b[0m\u001b[0;34m\u001b[0m\u001b[0;34m\u001b[0m\u001b[0m\n\u001b[0;32m-> 4677\u001b[0;31m                   silent, early_stopping_rounds, save_snapshot, snapshot_file, snapshot_interval, init_model, callbacks, log_cout, log_cerr)\n\u001b[0m\u001b[1;32m   4678\u001b[0m         \u001b[0;32mreturn\u001b[0m \u001b[0mself\u001b[0m\u001b[0;34m\u001b[0m\u001b[0;34m\u001b[0m\u001b[0m\n\u001b[1;32m   4679\u001b[0m \u001b[0;34m\u001b[0m\u001b[0m\n",
      "\u001b[0;32m~/.local/lib/python3.7/site-packages/catboost/core.py\u001b[0m in \u001b[0;36m_fit\u001b[0;34m(self, X, y, cat_features, text_features, embedding_features, pairs, sample_weight, group_id, group_weight, subgroup_id, pairs_weight, baseline, use_best_model, eval_set, verbose, logging_level, plot, column_description, verbose_eval, metric_period, silent, early_stopping_rounds, save_snapshot, snapshot_file, snapshot_interval, init_model, callbacks, log_cout, log_cerr)\u001b[0m\n\u001b[1;32m   2000\u001b[0m                 \u001b[0mparams\u001b[0m\u001b[0;34m,\u001b[0m\u001b[0;34m\u001b[0m\u001b[0;34m\u001b[0m\u001b[0m\n\u001b[1;32m   2001\u001b[0m                 \u001b[0mallow_clear_pool\u001b[0m\u001b[0;34m,\u001b[0m\u001b[0;34m\u001b[0m\u001b[0;34m\u001b[0m\u001b[0m\n\u001b[0;32m-> 2002\u001b[0;31m                 \u001b[0mtrain_params\u001b[0m\u001b[0;34m[\u001b[0m\u001b[0;34m\"init_model\"\u001b[0m\u001b[0;34m]\u001b[0m\u001b[0;34m\u001b[0m\u001b[0;34m\u001b[0m\u001b[0m\n\u001b[0m\u001b[1;32m   2003\u001b[0m             )\n\u001b[1;32m   2004\u001b[0m \u001b[0;34m\u001b[0m\u001b[0m\n",
      "\u001b[0;32m~/.local/lib/python3.7/site-packages/catboost/core.py\u001b[0m in \u001b[0;36m_train\u001b[0;34m(self, train_pool, test_pool, params, allow_clear_pool, init_model)\u001b[0m\n\u001b[1;32m   1426\u001b[0m \u001b[0;34m\u001b[0m\u001b[0m\n\u001b[1;32m   1427\u001b[0m     \u001b[0;32mdef\u001b[0m \u001b[0m_train\u001b[0m\u001b[0;34m(\u001b[0m\u001b[0mself\u001b[0m\u001b[0;34m,\u001b[0m \u001b[0mtrain_pool\u001b[0m\u001b[0;34m,\u001b[0m \u001b[0mtest_pool\u001b[0m\u001b[0;34m,\u001b[0m \u001b[0mparams\u001b[0m\u001b[0;34m,\u001b[0m \u001b[0mallow_clear_pool\u001b[0m\u001b[0;34m,\u001b[0m \u001b[0minit_model\u001b[0m\u001b[0;34m)\u001b[0m\u001b[0;34m:\u001b[0m\u001b[0;34m\u001b[0m\u001b[0;34m\u001b[0m\u001b[0m\n\u001b[0;32m-> 1428\u001b[0;31m         \u001b[0mself\u001b[0m\u001b[0;34m.\u001b[0m\u001b[0m_object\u001b[0m\u001b[0;34m.\u001b[0m\u001b[0m_train\u001b[0m\u001b[0;34m(\u001b[0m\u001b[0mtrain_pool\u001b[0m\u001b[0;34m,\u001b[0m \u001b[0mtest_pool\u001b[0m\u001b[0;34m,\u001b[0m \u001b[0mparams\u001b[0m\u001b[0;34m,\u001b[0m \u001b[0mallow_clear_pool\u001b[0m\u001b[0;34m,\u001b[0m \u001b[0minit_model\u001b[0m\u001b[0;34m.\u001b[0m\u001b[0m_object\u001b[0m \u001b[0;32mif\u001b[0m \u001b[0minit_model\u001b[0m \u001b[0;32melse\u001b[0m \u001b[0;32mNone\u001b[0m\u001b[0;34m)\u001b[0m\u001b[0;34m\u001b[0m\u001b[0;34m\u001b[0m\u001b[0m\n\u001b[0m\u001b[1;32m   1429\u001b[0m         \u001b[0mself\u001b[0m\u001b[0;34m.\u001b[0m\u001b[0m_set_trained_model_attributes\u001b[0m\u001b[0;34m(\u001b[0m\u001b[0;34m)\u001b[0m\u001b[0;34m\u001b[0m\u001b[0;34m\u001b[0m\u001b[0m\n\u001b[1;32m   1430\u001b[0m \u001b[0;34m\u001b[0m\u001b[0m\n",
      "\u001b[0;32m_catboost.pyx\u001b[0m in \u001b[0;36m_catboost._CatBoost._train\u001b[0;34m()\u001b[0m\n",
      "\u001b[0;32m_catboost.pyx\u001b[0m in \u001b[0;36m_catboost._CatBoost._train\u001b[0;34m()\u001b[0m\n",
      "\u001b[0;31mKeyboardInterrupt\u001b[0m: "
     ]
    }
   ],
   "source": [
    "#optuna catboost example\n",
    "#https://github.com/optuna/optuna-examples/blob/main/catboost/catboost_simple.py\n",
    "import catboost as cb\n",
    "def objective(trial):\n",
    "    param = {\n",
    "        \"objective\": trial.suggest_categorical(\"objective\", [\"Logloss\", \"CrossEntropy\"]),\n",
    "        \"colsample_bylevel\": trial.suggest_float(\"colsample_bylevel\", 0.01, 0.1),\n",
    "        \"depth\": trial.suggest_int(\"depth\", 1, 12),\n",
    "        \"boosting_type\": trial.suggest_categorical(\"boosting_type\", [\"Ordered\", \"Plain\"]),\n",
    "        \"bootstrap_type\": trial.suggest_categorical(\n",
    "            \"bootstrap_type\", [\"Bayesian\", \"Bernoulli\", \"MVS\"]\n",
    "        ),\n",
    "        \"used_ram_limit\": \"3gb\",\n",
    "    }\n",
    "\n",
    "    if param[\"bootstrap_type\"] == \"Bayesian\":\n",
    "        param[\"bagging_temperature\"] = trial.suggest_float(\"bagging_temperature\", 0, 10)\n",
    "    elif param[\"bootstrap_type\"] == \"Bernoulli\":\n",
    "        param[\"subsample\"] = trial.suggest_float(\"subsample\", 0.1, 1)\n",
    "\n",
    "    for i in range(5):\n",
    "        train_x = train.query(f'fold!={i}').drop(['fold', 'Survived'], axis=1)\n",
    "        train_y = train.query(f'fold!={i}').Survived\n",
    "\n",
    "        valid_x = train.query(f'fold=={i}').drop(['fold', 'Survived'], axis=1)\n",
    "        valid_y = train.query(f'fold=={i}').Survived\n",
    "        \n",
    "        #save the five fold accuracy\n",
    "        accuracy = []\n",
    "        \n",
    "        gbm = cb.CatBoostClassifier(**param)\n",
    "        gbm.fit(train_x, train_y, eval_set=[(valid_x, valid_y)], verbose=0, early_stopping_rounds=100)\n",
    "        preds = gbm.predict(valid_x)\n",
    "        pred_labels = np.rint(preds)\n",
    "        accuracy.append(accuracy_score(valid_y, pred_labels))\n",
    "        \n",
    "        #save the best model for each fold \n",
    "        joblib.dump(gbm, f'catboost_fold{i}.pkl')\n",
    "    return np.mean(accuracy)\n",
    "\n",
    "if __name__ == \"__main__\":\n",
    "    study = optuna.create_study(direction=\"maximize\")\n",
    "    study.optimize(objective, n_trials=100, timeout=600)\n",
    "\n",
    "    print(\"Number of finished trials: {}\".format(len(study.trials)))\n",
    "\n",
    "    print(\"Best trial:\")\n",
    "    trial = study.best_trial\n",
    "\n",
    "    print(\"  Value: {}\".format(trial.value))\n",
    "\n",
    "    print(\"  Params: \")\n",
    "    for key, value in trial.params.items():\n",
    "        print(\"    {}: {}\".format(key, value))"
   ]
  },
  {
   "cell_type": "markdown",
   "metadata": {},
   "source": [
    "## Logistic and Random Forest and SVC"
   ]
  },
  {
   "cell_type": "code",
   "execution_count": null,
   "metadata": {},
   "outputs": [],
   "source": [
    "#Step 1. Define an objective function to be maximized.\n",
    "def objective(trial):\n",
    "\n",
    "    classifier_name = trial.suggest_categorical(\"classifier\", [\"LogReg\", \"SVC\", \"RandomForest\"])\n",
    "    \n",
    "    # Step 2. Setup values for the hyperparameters:\n",
    "    if classifier_name == 'LogReg':\n",
    "        logreg_c = trial.suggest_float(\"logreg_c\", 1e-10, 1e10, log=True)\n",
    "        classifier_obj = linear_model.LogisticRegression(C=logreg_c)\n",
    "    elif classifier_name == \"SVC\":\n",
    "        svc_c = trial.suggest_float(\"svc_c\", 1e-10, 1e10, log=True)\n",
    "        classifier_obj = sklearn.svm.SVC(C=svc_c, gamma=\"auto\")\n",
    "    else:\n",
    "        rf_n_estimators = trial.suggest_int(\"rf_n_estimators\", 10, 1000)\n",
    "        rf_max_depth = trial.suggest_int(\"rf_max_depth\", 2, 32, log=True)\n",
    "        classifier_obj = ensemble.RandomForestClassifier(\n",
    "            max_depth=rf_max_depth, n_estimators=rf_n_estimators\n",
    "        )\n",
    "        \n",
    "    for i in range(5):\n",
    "        train_x = train.query(f'fold!={i}').drop(['fold', 'Survived'], axis=1)\n",
    "        train_y = train.query(f'fold!={i}').Survived\n",
    "\n",
    "        valid_x = train.query(f'fold=={i}').drop(['fold', 'Survived'], axis=1)\n",
    "        valid_y = train.query(f'fold=={i}').Survived\n",
    "    \n",
    "        #save the five fold accuracy\n",
    "        accuracy = []\n",
    "\n",
    "        gbm = classifier_obj\n",
    "        gbm.fit(train_x, train_y)\n",
    "        preds = gbm.predict(valid_x)\n",
    "        pred_labels = np.rint(preds)\n",
    "        accuracy.append(accuracy_score(valid_y, pred_labels))\n",
    "                \n",
    "        #save the best model for each fold \n",
    "        joblib.dump(gbm, f'log_randomf_fold{i}.pkl')\n",
    "        \n",
    "    return np.mean(accuracy)\n",
    "\n",
    "if __name__ == \"__main__\":\n",
    "    study = optuna.create_study(direction=\"maximize\")\n",
    "    study.optimize(objective, n_trials=100, timeout=600)\n",
    "\n",
    "    print(\"Number of finished trials: {}\".format(len(study.trials)))\n",
    "\n",
    "    print(\"Best trial:\")\n",
    "    trial = study.best_trial\n",
    "\n",
    "    print(\"  Value: {}\".format(trial.value))\n",
    "\n",
    "    print(\"  Params: \")\n",
    "    for key, value in trial.params.items():\n",
    "        print(\"    {}: {}\".format(key, value))"
   ]
  },
  {
   "cell_type": "markdown",
   "metadata": {},
   "source": [
    "## Logistic"
   ]
  },
  {
   "cell_type": "code",
   "execution_count": null,
   "metadata": {},
   "outputs": [],
   "source": [
    "#logistic\n",
    "\n",
    "#Step 1. Define an objective function to be maximized.\n",
    "def objective(trial):\n",
    "\n",
    "    classifier_name = 'LogReg'\n",
    "    logreg_c = trial.suggest_float(\"logreg_c\", 1e-10, 1e10, log=True)\n",
    "    classifier_obj = linear_model.LogisticRegression(C=logreg_c)\n",
    "        \n",
    "    for i in range(5):\n",
    "        train_x = train.query(f'fold!={i}').drop(['fold', 'Survived'], axis=1)\n",
    "        train_y = train.query(f'fold!={i}').Survived\n",
    "\n",
    "        valid_x = train.query(f'fold=={i}').drop(['fold', 'Survived'], axis=1)\n",
    "        valid_y = train.query(f'fold=={i}').Survived\n",
    "    \n",
    "        #save the five fold accuracy\n",
    "        accuracy = []\n",
    "\n",
    "        gbm = classifier_obj\n",
    "        gbm.fit(train_x, train_y)\n",
    "        preds = gbm.predict(valid_x)\n",
    "        pred_labels = np.rint(preds)\n",
    "        accuracy.append(accuracy_score(valid_y, pred_labels))\n",
    "                \n",
    "        #save the best model for each fold \n",
    "        joblib.dump(gbm, f'logistic_fold{i}.pkl')\n",
    "        \n",
    "    return np.mean(accuracy)\n",
    "\n",
    "if __name__ == \"__main__\":\n",
    "    study = optuna.create_study(direction=\"maximize\")\n",
    "    study.optimize(objective, n_trials=100, timeout=600)\n",
    "\n",
    "    print(\"Number of finished trials: {}\".format(len(study.trials)))\n",
    "\n",
    "    print(\"Best trial:\")\n",
    "    trial = study.best_trial\n",
    "\n",
    "    print(\"  Value: {}\".format(trial.value))\n",
    "\n",
    "    print(\"  Params: \")\n",
    "    for key, value in trial.params.items():\n",
    "        print(\"    {}: {}\".format(key, value))"
   ]
  },
  {
   "cell_type": "markdown",
   "metadata": {},
   "source": [
    "## SVC"
   ]
  },
  {
   "cell_type": "code",
   "execution_count": null,
   "metadata": {},
   "outputs": [],
   "source": [
    "#Step 1. Define an objective function to be maximized.\n",
    "def objective(trial):\n",
    "\n",
    "    # Step 2. Setup values for the hyperparameters:\n",
    "    classifier_name = \"SVC\"\n",
    "    svc_c = trial.suggest_float(\"svc_c\", 1e-10, 1e10, log=True)\n",
    "    classifier_obj = sklearn.svm.SVC(C=svc_c, gamma=\"auto\")\n",
    "        \n",
    "    for i in range(5):\n",
    "        train_x = train.query(f'fold!={i}').drop(['fold', 'Survived'], axis=1)\n",
    "        train_y = train.query(f'fold!={i}').Survived\n",
    "\n",
    "        valid_x = train.query(f'fold=={i}').drop(['fold', 'Survived'], axis=1)\n",
    "        valid_y = train.query(f'fold=={i}').Survived\n",
    "    \n",
    "        #save the five fold accuracy\n",
    "        accuracy = []\n",
    "\n",
    "        gbm = classifier_obj\n",
    "        gbm.fit(train_x, train_y)\n",
    "        preds = gbm.predict(valid_x)\n",
    "        pred_labels = np.rint(preds)\n",
    "        accuracy.append(accuracy_score(valid_y, pred_labels))\n",
    "                \n",
    "        #save the best model for each fold \n",
    "        joblib.dump(gbm, f'svc_fold{i}.pkl')\n",
    "        \n",
    "    return np.mean(accuracy)\n",
    "\n",
    "if __name__ == \"__main__\":\n",
    "    study = optuna.create_study(direction=\"maximize\")\n",
    "    study.optimize(objective, n_trials=100, timeout=600)\n",
    "\n",
    "    print(\"Number of finished trials: {}\".format(len(study.trials)))\n",
    "\n",
    "    print(\"Best trial:\")\n",
    "    trial = study.best_trial\n",
    "\n",
    "    print(\"  Value: {}\".format(trial.value))\n",
    "\n",
    "    print(\"  Params: \")\n",
    "    for key, value in trial.params.items():\n",
    "        print(\"    {}: {}\".format(key, value))"
   ]
  },
  {
   "cell_type": "markdown",
   "metadata": {},
   "source": [
    "## RandomForest"
   ]
  },
  {
   "cell_type": "code",
   "execution_count": null,
   "metadata": {},
   "outputs": [],
   "source": [
    "#Step 1. Define an objective function to be maximized.\n",
    "def objective(trial):\n",
    "\n",
    "    classifier_name = 'RandomForest'\n",
    "    rf_n_estimators = trial.suggest_int(\"rf_n_estimators\", 10, 1000)\n",
    "    rf_max_depth = trial.suggest_int(\"rf_max_depth\", 2, 32, log=True)\n",
    "#     rf_min_depth = trial.suggest_int(\"rf_min_depth\", 2, 32, log=True)\n",
    "    classifier_obj = ensemble.RandomForestClassifier(\n",
    "        max_depth=rf_max_depth, n_estimators=rf_n_estimators\n",
    "    )\n",
    "        \n",
    "    for i in range(5):\n",
    "        train_x = train.query(f'fold!={i}').drop(['fold', 'Survived'], axis=1)\n",
    "        train_y = train.query(f'fold!={i}').Survived\n",
    "\n",
    "        valid_x = train.query(f'fold=={i}').drop(['fold', 'Survived'], axis=1)\n",
    "        valid_y = train.query(f'fold=={i}').Survived\n",
    "    \n",
    "        #save the five fold accuracy\n",
    "        accuracy = []\n",
    "\n",
    "        gbm = classifier_obj\n",
    "        gbm.fit(train_x, train_y)\n",
    "        preds = gbm.predict(valid_x)\n",
    "        pred_labels = np.rint(preds)\n",
    "        accuracy.append(accuracy_score(valid_y, pred_labels))\n",
    "                \n",
    "        #save the best model for each fold \n",
    "        joblib.dump(gbm, f'rf_fold{i}.pkl')\n",
    "        \n",
    "    return np.mean(accuracy)\n",
    "\n",
    "if __name__ == \"__main__\":\n",
    "    study = optuna.create_study(direction=\"maximize\")\n",
    "    study.optimize(objective, n_trials=100, timeout=600)\n",
    "\n",
    "    print(\"Number of finished trials: {}\".format(len(study.trials)))\n",
    "\n",
    "    print(\"Best trial:\")\n",
    "    trial = study.best_trial\n",
    "\n",
    "    print(\"  Value: {}\".format(trial.value))\n",
    "\n",
    "    print(\"  Params: \")\n",
    "    for key, value in trial.params.items():\n",
    "        print(\"    {}: {}\".format(key, value))"
   ]
  },
  {
   "cell_type": "markdown",
   "metadata": {},
   "source": [
    "## Decision Tree"
   ]
  },
  {
   "cell_type": "code",
   "execution_count": null,
   "metadata": {},
   "outputs": [],
   "source": [
    "#Step 1. Define an objective function to be maximized.\n",
    "def objective(trial):\n",
    "    max_depth = trial.suggest_int(\"max_depth\", 2, 612)\n",
    "    min_samples_split = trial.suggest_int(\"min_samples_split\", 2, 612)\n",
    "    max_leaf_nodes = int(trial.suggest_int(\"max_leaf_nodes\", 2, 612))\n",
    "    criterion = trial.suggest_categorical(\"criterion\", [\"gini\", \"entropy\"])\n",
    "    DTC = DecisionTreeClassifier(min_samples_split = min_samples_split, \n",
    "                                 max_leaf_nodes = max_leaf_nodes,\n",
    "                                 criterion = criterion)\n",
    "        \n",
    "    for i in range(5):\n",
    "        train_x = train.query(f'fold!={i}').drop(['fold', 'Survived'], axis=1)\n",
    "        train_y = train.query(f'fold!={i}').Survived\n",
    "\n",
    "        valid_x = train.query(f'fold=={i}').drop(['fold', 'Survived'], axis=1)\n",
    "        valid_y = train.query(f'fold=={i}').Survived\n",
    "    \n",
    "        #save the five fold accuracy\n",
    "        accuracy = []\n",
    "\n",
    "        DTC.fit(train_x, train_y)\n",
    "        preds = DTC.predict(valid_x)\n",
    "        pred_labels = np.rint(preds)\n",
    "        accuracy.append(accuracy_score(valid_y, pred_labels))\n",
    "                \n",
    "        #save the best model for each fold \n",
    "        joblib.dump(DTC, f'dt_fold{i}.pkl')\n",
    "        \n",
    "    return np.mean(accuracy)\n",
    "\n",
    "if __name__ == \"__main__\":\n",
    "    study = optuna.create_study(direction=\"maximize\")\n",
    "    study.optimize(objective, n_trials=100, timeout=600)\n",
    "\n",
    "    print(\"Number of finished trials: {}\".format(len(study.trials)))\n",
    "\n",
    "    print(\"Best trial:\")\n",
    "    trial = study.best_trial\n",
    "\n",
    "    print(\"  Value: {}\".format(trial.value))\n",
    "\n",
    "    print(\"  Params: \")\n",
    "    for key, value in trial.params.items():\n",
    "        print(\"    {}: {}\".format(key, value))"
   ]
  },
  {
   "cell_type": "code",
   "execution_count": null,
   "metadata": {},
   "outputs": [],
   "source": []
  },
  {
   "cell_type": "markdown",
   "metadata": {},
   "source": [
    "## Ensemble Model"
   ]
  },
  {
   "cell_type": "code",
   "execution_count": null,
   "metadata": {},
   "outputs": [],
   "source": [
    "X_train = train.drop(['Survived', 'fold'], axis=1).values\n",
    "y_train = train[['Survived']].values"
   ]
  },
  {
   "cell_type": "code",
   "execution_count": null,
   "metadata": {},
   "outputs": [],
   "source": [
    "test2 = test.drop(['Survived', 'fold'], axis=1).values"
   ]
  },
  {
   "cell_type": "code",
   "execution_count": null,
   "metadata": {},
   "outputs": [],
   "source": [
    "#get the mean of best fold in lgb   0.8338945005611672  0.77990 selected\n",
    "lgb_pred = np.zeros(418)\n",
    "for i in range(5):\n",
    "    model = joblib.load(f'./lgb_fold{i}.pkl')\n",
    "    lgb_pred += model.predict(test2) / 5\n",
    "    \n",
    "lgb_pred = lgb_pred.round().astype(int)"
   ]
  },
  {
   "cell_type": "code",
   "execution_count": null,
   "metadata": {},
   "outputs": [],
   "source": [
    "#get the mean of best fold in xgboost  0.8314606741573034  0.78468 selected\n",
    "from xgboost import XGBClassifier\n",
    "xgboost_pred = np.zeros(418)\n",
    "for i in range(5):\n",
    "    model = joblib.load(f'./xgboost_fold{i}.pkl')\n",
    "    model = XGBClassifier()\n",
    "    model.fit(X_train, y_train)\n",
    "    xgboost_pred += model.predict_proba(test2)[:,1] / 5   #predict probability [0, 1]\n",
    "    \n",
    "xgboost_pred = xgboost_pred.round().astype(int)"
   ]
  },
  {
   "cell_type": "code",
   "execution_count": null,
   "metadata": {},
   "outputs": [],
   "source": [
    "#get the mean of best fold in catboost  0.8426966292134831  nice  0.77990 selected\n",
    "catboost_pred = np.zeros(418)\n",
    "for i in range(5):\n",
    "    model = joblib.load(f'./catboost_fold{i}.pkl')\n",
    "    catboost_pred += model.predict(test2) / 5\n",
    "    \n",
    "catboost_pred = catboost_pred.round().astype(int)"
   ]
  },
  {
   "cell_type": "code",
   "execution_count": null,
   "metadata": {},
   "outputs": [],
   "source": [
    "#get the mean of best fold in logistic  0.8426966292134831 0.78947 selected nice\n",
    "logistic_pred = np.zeros(418)\n",
    "for i in range(5):\n",
    "    model = joblib.load(f'./logistic_fold{i}.pkl')\n",
    "    logistic_pred += model.predict(test2) / 5\n",
    "    \n",
    "logistic_pred = logistic_pred.round().astype(int)"
   ]
  },
  {
   "cell_type": "code",
   "execution_count": null,
   "metadata": {},
   "outputs": [],
   "source": [
    "#get the mean of best fold in logistic/randomForest/svc  \n",
    "#randomForest win 0.8314606741573034\n",
    "log_ran_pred = np.zeros(418)\n",
    "for i in range(5):\n",
    "    model = joblib.load(f'./log_randomf_fold{i}.pkl')\n",
    "    log_ran_pred += model.predict(test2) / 5\n",
    "    \n",
    "log_ran_pred = log_ran_pred.round().astype(int)"
   ]
  },
  {
   "cell_type": "code",
   "execution_count": null,
   "metadata": {},
   "outputs": [],
   "source": [
    "#get the mean of best fold in svc  0.7528089887640449    0.66985\n",
    "svc_pred = np.zeros(418)\n",
    "for i in range(5):\n",
    "    model = joblib.load(f'./svc_fold{i}.pkl')\n",
    "    svc_pred += model.predict(test2) / 5\n",
    "    \n",
    "svc_pred = svc_pred.round().astype(int)"
   ]
  },
  {
   "cell_type": "code",
   "execution_count": null,
   "metadata": {},
   "outputs": [],
   "source": [
    "#get the mean of best fold in randomForest   0.8370786516853933/0.8314606741573034(add min)  0.69138/0.78468(min)\n",
    "rf_pred = np.zeros(418)\n",
    "for i in range(5):\n",
    "    model = joblib.load(f'./rf_fold{i}.pkl')\n",
    "    rf_pred += model.predict(test2) / 5\n",
    "\n",
    "    \n",
    "rf_pred = rf_pred.round().astype(int)"
   ]
  },
  {
   "cell_type": "code",
   "execution_count": null,
   "metadata": {},
   "outputs": [],
   "source": [
    "#get the mean of best fold in decisionTree   0.8258426966292135   0.78947 selected nice\n",
    "dt_pred = np.zeros(418)\n",
    "for i in range(5):\n",
    "    model = joblib.load(f'./dt_fold{i}.pkl')\n",
    "    dt_pred += model.predict(test2) / 5\n",
    "\n",
    "    \n",
    "dt_pred = dt_pred.round().astype(int)"
   ]
  },
  {
   "cell_type": "markdown",
   "metadata": {},
   "source": [
    "#### way 1:"
   ]
  },
  {
   "cell_type": "code",
   "execution_count": null,
   "metadata": {},
   "outputs": [],
   "source": [
    "#combine lgb_pred rf_pred\n",
    "f_pro = (lgb_pred + xgboost_pred + catboost_pred + logistic_pred)/4\n",
    "# f_pro = dt_pred"
   ]
  },
  {
   "cell_type": "code",
   "execution_count": null,
   "metadata": {},
   "outputs": [],
   "source": [
    "pred = []\n",
    "for i in f_pro:\n",
    "    if i > 0.5:\n",
    "        pred.append(1)\n",
    "    else:\n",
    "        pred.append(0)"
   ]
  },
  {
   "cell_type": "markdown",
   "metadata": {},
   "source": [
    "#### way 2:"
   ]
  },
  {
   "cell_type": "code",
   "execution_count": 251,
   "metadata": {},
   "outputs": [],
   "source": [
    "# pred2 = []\n",
    "# for i in range(418):\n",
    "#     count_0 = 0\n",
    "#     count_1 = 0\n",
    "#     for model in [lgb_pred, xgboost_pred, catboost_pred, dt_pred, logistic_pred]:\n",
    "#         if model[i] == 0:\n",
    "#             count_0 += 1\n",
    "#         else:\n",
    "#             count_1 += 1\n",
    "            \n",
    "#     if count_0 >= count_1:\n",
    "#         pred2.append(0)\n",
    "#     else:\n",
    "#         pred2.append(1)\n",
    "# # print(pred2)   "
   ]
  },
  {
   "cell_type": "code",
   "execution_count": null,
   "metadata": {},
   "outputs": [],
   "source": []
  },
  {
   "cell_type": "code",
   "execution_count": null,
   "metadata": {},
   "outputs": [],
   "source": [
    "sub.Survived = pred"
   ]
  },
  {
   "cell_type": "code",
   "execution_count": null,
   "metadata": {},
   "outputs": [],
   "source": [
    "sub"
   ]
  },
  {
   "cell_type": "code",
   "execution_count": 355,
   "metadata": {},
   "outputs": [],
   "source": [
    "sub.to_csv('submission_mean_model4.csv', index=False)"
   ]
  },
  {
   "cell_type": "code",
   "execution_count": null,
   "metadata": {},
   "outputs": [],
   "source": []
  }
 ],
 "metadata": {
  "kernelspec": {
   "display_name": "Python 3",
   "language": "python",
   "name": "python3"
  },
  "language_info": {
   "codemirror_mode": {
    "name": "ipython",
    "version": 3
   },
   "file_extension": ".py",
   "mimetype": "text/x-python",
   "name": "python",
   "nbconvert_exporter": "python",
   "pygments_lexer": "ipython3",
   "version": "3.7.6"
  }
 },
 "nbformat": 4,
 "nbformat_minor": 4
}
