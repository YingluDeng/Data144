{
 "cells": [
  {
   "cell_type": "code",
   "execution_count": 1,
   "metadata": {
    "_cell_guid": "b1076dfc-b9ad-4769-8c92-a6c4dae69d19",
    "_uuid": "8f2839f25d086af736a60e9eeb907d3b93b6e0e5",
    "cell_id": "00000-9ee8848a-c353-488c-a3e5-ffb2733fc45c",
    "deepnote_cell_type": "code",
    "deepnote_to_be_reexecuted": false,
    "execution_millis": 2884,
    "execution_start": 1633265447902,
    "id": "WTcCXR70L8LL",
    "source_hash": "eb4d3b83"
   },
   "outputs": [],
   "source": [
    "#load the library\n",
    "import numpy as np\n",
    "import pandas as pd\n",
    "import re\n",
    "import seaborn as sns\n",
    "import sklearn.datasets\n",
    "import sklearn.metrics\n",
    "from sklearn.model_selection import train_test_split\n",
    "from sklearn import preprocessing\n",
    "from sklearn.metrics import log_loss\n",
    "from sklearn.model_selection import StratifiedKFold\n",
    "from sklearn.preprocessing import QuantileTransformer\n",
    "from sklearn.metrics import accuracy_score\n",
    "import lightgbm as lgb\n",
    "import optuna\n",
    "import warnings\n",
    "from tqdm import tqdm\n",
    "import time\n",
    "from sklearn.decomposition import TruncatedSVD, PCA\n",
    "import joblib\n",
    "import matplotlib.pyplot as plt\n",
    "warnings.filterwarnings('ignore')"
   ]
  },
  {
   "cell_type": "code",
   "execution_count": 2,
   "metadata": {
    "cell_id": "00001-8cefaaa1-4e6e-4b79-92bf-86d70e7644c0",
    "deepnote_cell_type": "code",
    "deepnote_to_be_reexecuted": false,
    "execution_millis": 6,
    "execution_start": 1633265450797,
    "id": "iNPo6Y58L8LQ",
    "source_hash": "5b4743e5"
   },
   "outputs": [],
   "source": [
    "#transfrom categorical data to numbers\n",
    "def label_encoding(train: pd.DataFrame, test: pd.DataFrame, encode_cols):\n",
    "    n_train = len(train)\n",
    "    train = pd.concat([train, test], sort=False).reset_index(drop=True)\n",
    "    for f in encode_cols:\n",
    "        try:\n",
    "            lbl = preprocessing.LabelEncoder()\n",
    "            train[f] = lbl.fit_transform(list(train[f].values))\n",
    "        except:\n",
    "            print(f)\n",
    "    test = train[n_train:].reset_index(drop=True)\n",
    "    train = train[:n_train]\n",
    "    return train, test"
   ]
  },
  {
   "cell_type": "code",
   "execution_count": 3,
   "metadata": {
    "_cell_guid": "79c7e3d0-c299-4dcb-8224-4455121ee9b0",
    "_uuid": "d629ff2d2480ee46fbb7e2d37f6b5fab8052498a",
    "cell_id": "00002-2ffdf32d-9a93-4c1e-8f9b-d3459fdbb99b",
    "deepnote_cell_type": "code",
    "deepnote_to_be_reexecuted": false,
    "execution_millis": 114,
    "execution_start": 1633265450811,
    "id": "mWc0guWSL8LR",
    "source_hash": "db30f56e"
   },
   "outputs": [],
   "source": [
    "#import data\n",
    "train = pd.read_csv('train.csv')\n",
    "test = pd.read_csv('test.csv')\n",
    "sub = pd.read_csv('gender_submission.csv')"
   ]
  },
  {
   "cell_type": "code",
   "execution_count": 4,
   "metadata": {
    "cell_id": "00003-4b968452-599b-4c86-88bc-11c71fbe55da",
    "deepnote_cell_type": "code",
    "deepnote_to_be_reexecuted": false,
    "execution_millis": 34,
    "execution_start": 1633265450966,
    "id": "ST4ntq5vL8LR",
    "outputId": "e60f431d-4ea3-459c-d344-7022fd522482",
    "source_hash": "e1f0b45"
   },
   "outputs": [
    {
     "data": {
      "text/html": [
       "<div>\n",
       "<style scoped>\n",
       "    .dataframe tbody tr th:only-of-type {\n",
       "        vertical-align: middle;\n",
       "    }\n",
       "\n",
       "    .dataframe tbody tr th {\n",
       "        vertical-align: top;\n",
       "    }\n",
       "\n",
       "    .dataframe thead th {\n",
       "        text-align: right;\n",
       "    }\n",
       "</style>\n",
       "<table border=\"1\" class=\"dataframe\">\n",
       "  <thead>\n",
       "    <tr style=\"text-align: right;\">\n",
       "      <th></th>\n",
       "      <th>PassengerId</th>\n",
       "      <th>Survived</th>\n",
       "      <th>Pclass</th>\n",
       "      <th>Name</th>\n",
       "      <th>Sex</th>\n",
       "      <th>Age</th>\n",
       "      <th>SibSp</th>\n",
       "      <th>Parch</th>\n",
       "      <th>Ticket</th>\n",
       "      <th>Fare</th>\n",
       "      <th>Cabin</th>\n",
       "      <th>Embarked</th>\n",
       "    </tr>\n",
       "  </thead>\n",
       "  <tbody>\n",
       "    <tr>\n",
       "      <th>0</th>\n",
       "      <td>1</td>\n",
       "      <td>0</td>\n",
       "      <td>3</td>\n",
       "      <td>Braund, Mr. Owen Harris</td>\n",
       "      <td>male</td>\n",
       "      <td>22.0</td>\n",
       "      <td>1</td>\n",
       "      <td>0</td>\n",
       "      <td>A/5 21171</td>\n",
       "      <td>7.2500</td>\n",
       "      <td>NaN</td>\n",
       "      <td>S</td>\n",
       "    </tr>\n",
       "    <tr>\n",
       "      <th>1</th>\n",
       "      <td>2</td>\n",
       "      <td>1</td>\n",
       "      <td>1</td>\n",
       "      <td>Cumings, Mrs. John Bradley (Florence Briggs Th...</td>\n",
       "      <td>female</td>\n",
       "      <td>38.0</td>\n",
       "      <td>1</td>\n",
       "      <td>0</td>\n",
       "      <td>PC 17599</td>\n",
       "      <td>71.2833</td>\n",
       "      <td>C85</td>\n",
       "      <td>C</td>\n",
       "    </tr>\n",
       "    <tr>\n",
       "      <th>2</th>\n",
       "      <td>3</td>\n",
       "      <td>1</td>\n",
       "      <td>3</td>\n",
       "      <td>Heikkinen, Miss. Laina</td>\n",
       "      <td>female</td>\n",
       "      <td>26.0</td>\n",
       "      <td>0</td>\n",
       "      <td>0</td>\n",
       "      <td>STON/O2. 3101282</td>\n",
       "      <td>7.9250</td>\n",
       "      <td>NaN</td>\n",
       "      <td>S</td>\n",
       "    </tr>\n",
       "    <tr>\n",
       "      <th>3</th>\n",
       "      <td>4</td>\n",
       "      <td>1</td>\n",
       "      <td>1</td>\n",
       "      <td>Futrelle, Mrs. Jacques Heath (Lily May Peel)</td>\n",
       "      <td>female</td>\n",
       "      <td>35.0</td>\n",
       "      <td>1</td>\n",
       "      <td>0</td>\n",
       "      <td>113803</td>\n",
       "      <td>53.1000</td>\n",
       "      <td>C123</td>\n",
       "      <td>S</td>\n",
       "    </tr>\n",
       "    <tr>\n",
       "      <th>4</th>\n",
       "      <td>5</td>\n",
       "      <td>0</td>\n",
       "      <td>3</td>\n",
       "      <td>Allen, Mr. William Henry</td>\n",
       "      <td>male</td>\n",
       "      <td>35.0</td>\n",
       "      <td>0</td>\n",
       "      <td>0</td>\n",
       "      <td>373450</td>\n",
       "      <td>8.0500</td>\n",
       "      <td>NaN</td>\n",
       "      <td>S</td>\n",
       "    </tr>\n",
       "  </tbody>\n",
       "</table>\n",
       "</div>"
      ],
      "text/plain": [
       "   PassengerId  Survived  Pclass  \\\n",
       "0            1         0       3   \n",
       "1            2         1       1   \n",
       "2            3         1       3   \n",
       "3            4         1       1   \n",
       "4            5         0       3   \n",
       "\n",
       "                                                Name     Sex   Age  SibSp  \\\n",
       "0                            Braund, Mr. Owen Harris    male  22.0      1   \n",
       "1  Cumings, Mrs. John Bradley (Florence Briggs Th...  female  38.0      1   \n",
       "2                             Heikkinen, Miss. Laina  female  26.0      0   \n",
       "3       Futrelle, Mrs. Jacques Heath (Lily May Peel)  female  35.0      1   \n",
       "4                           Allen, Mr. William Henry    male  35.0      0   \n",
       "\n",
       "   Parch            Ticket     Fare Cabin Embarked  \n",
       "0      0         A/5 21171   7.2500   NaN        S  \n",
       "1      0          PC 17599  71.2833   C85        C  \n",
       "2      0  STON/O2. 3101282   7.9250   NaN        S  \n",
       "3      0            113803  53.1000  C123        S  \n",
       "4      0            373450   8.0500   NaN        S  "
      ]
     },
     "execution_count": 4,
     "metadata": {},
     "output_type": "execute_result"
    }
   ],
   "source": [
    "train.head()"
   ]
  },
  {
   "cell_type": "code",
   "execution_count": 5,
   "metadata": {
    "cell_id": "00004-760d30e8-d6f6-4de5-b70b-ce9aa0bd062e",
    "deepnote_cell_type": "code",
    "deepnote_to_be_reexecuted": false,
    "execution_millis": 54,
    "execution_start": 1633265451002,
    "id": "jzAN3bN9L8LS",
    "outputId": "1dfaa7b6-6b48-4d26-f41a-aaa27dc9b967",
    "source_hash": "476785e4"
   },
   "outputs": [
    {
     "data": {
      "text/html": [
       "<div>\n",
       "<style scoped>\n",
       "    .dataframe tbody tr th:only-of-type {\n",
       "        vertical-align: middle;\n",
       "    }\n",
       "\n",
       "    .dataframe tbody tr th {\n",
       "        vertical-align: top;\n",
       "    }\n",
       "\n",
       "    .dataframe thead th {\n",
       "        text-align: right;\n",
       "    }\n",
       "</style>\n",
       "<table border=\"1\" class=\"dataframe\">\n",
       "  <thead>\n",
       "    <tr style=\"text-align: right;\">\n",
       "      <th></th>\n",
       "      <th>PassengerId</th>\n",
       "      <th>Pclass</th>\n",
       "      <th>Name</th>\n",
       "      <th>Sex</th>\n",
       "      <th>Age</th>\n",
       "      <th>SibSp</th>\n",
       "      <th>Parch</th>\n",
       "      <th>Ticket</th>\n",
       "      <th>Fare</th>\n",
       "      <th>Cabin</th>\n",
       "      <th>Embarked</th>\n",
       "    </tr>\n",
       "  </thead>\n",
       "  <tbody>\n",
       "    <tr>\n",
       "      <th>0</th>\n",
       "      <td>892</td>\n",
       "      <td>3</td>\n",
       "      <td>Kelly, Mr. James</td>\n",
       "      <td>male</td>\n",
       "      <td>34.5</td>\n",
       "      <td>0</td>\n",
       "      <td>0</td>\n",
       "      <td>330911</td>\n",
       "      <td>7.8292</td>\n",
       "      <td>NaN</td>\n",
       "      <td>Q</td>\n",
       "    </tr>\n",
       "    <tr>\n",
       "      <th>1</th>\n",
       "      <td>893</td>\n",
       "      <td>3</td>\n",
       "      <td>Wilkes, Mrs. James (Ellen Needs)</td>\n",
       "      <td>female</td>\n",
       "      <td>47.0</td>\n",
       "      <td>1</td>\n",
       "      <td>0</td>\n",
       "      <td>363272</td>\n",
       "      <td>7.0000</td>\n",
       "      <td>NaN</td>\n",
       "      <td>S</td>\n",
       "    </tr>\n",
       "    <tr>\n",
       "      <th>2</th>\n",
       "      <td>894</td>\n",
       "      <td>2</td>\n",
       "      <td>Myles, Mr. Thomas Francis</td>\n",
       "      <td>male</td>\n",
       "      <td>62.0</td>\n",
       "      <td>0</td>\n",
       "      <td>0</td>\n",
       "      <td>240276</td>\n",
       "      <td>9.6875</td>\n",
       "      <td>NaN</td>\n",
       "      <td>Q</td>\n",
       "    </tr>\n",
       "    <tr>\n",
       "      <th>3</th>\n",
       "      <td>895</td>\n",
       "      <td>3</td>\n",
       "      <td>Wirz, Mr. Albert</td>\n",
       "      <td>male</td>\n",
       "      <td>27.0</td>\n",
       "      <td>0</td>\n",
       "      <td>0</td>\n",
       "      <td>315154</td>\n",
       "      <td>8.6625</td>\n",
       "      <td>NaN</td>\n",
       "      <td>S</td>\n",
       "    </tr>\n",
       "    <tr>\n",
       "      <th>4</th>\n",
       "      <td>896</td>\n",
       "      <td>3</td>\n",
       "      <td>Hirvonen, Mrs. Alexander (Helga E Lindqvist)</td>\n",
       "      <td>female</td>\n",
       "      <td>22.0</td>\n",
       "      <td>1</td>\n",
       "      <td>1</td>\n",
       "      <td>3101298</td>\n",
       "      <td>12.2875</td>\n",
       "      <td>NaN</td>\n",
       "      <td>S</td>\n",
       "    </tr>\n",
       "  </tbody>\n",
       "</table>\n",
       "</div>"
      ],
      "text/plain": [
       "   PassengerId  Pclass                                          Name     Sex  \\\n",
       "0          892       3                              Kelly, Mr. James    male   \n",
       "1          893       3              Wilkes, Mrs. James (Ellen Needs)  female   \n",
       "2          894       2                     Myles, Mr. Thomas Francis    male   \n",
       "3          895       3                              Wirz, Mr. Albert    male   \n",
       "4          896       3  Hirvonen, Mrs. Alexander (Helga E Lindqvist)  female   \n",
       "\n",
       "    Age  SibSp  Parch   Ticket     Fare Cabin Embarked  \n",
       "0  34.5      0      0   330911   7.8292   NaN        Q  \n",
       "1  47.0      1      0   363272   7.0000   NaN        S  \n",
       "2  62.0      0      0   240276   9.6875   NaN        Q  \n",
       "3  27.0      0      0   315154   8.6625   NaN        S  \n",
       "4  22.0      1      1  3101298  12.2875   NaN        S  "
      ]
     },
     "execution_count": 5,
     "metadata": {},
     "output_type": "execute_result"
    }
   ],
   "source": [
    "test.head()"
   ]
  },
  {
   "cell_type": "code",
   "execution_count": 6,
   "metadata": {
    "cell_id": "00005-cb130e6c-5c1b-432d-b335-e22eee059349",
    "deepnote_cell_type": "code",
    "deepnote_to_be_reexecuted": false,
    "execution_millis": 9,
    "execution_start": 1633265451083,
    "id": "h3q2UPx4L8LT",
    "outputId": "d118ec8a-dd45-4946-ec98-efe9737a1228",
    "source_hash": "8006965d"
   },
   "outputs": [
    {
     "data": {
      "text/html": [
       "<div>\n",
       "<style scoped>\n",
       "    .dataframe tbody tr th:only-of-type {\n",
       "        vertical-align: middle;\n",
       "    }\n",
       "\n",
       "    .dataframe tbody tr th {\n",
       "        vertical-align: top;\n",
       "    }\n",
       "\n",
       "    .dataframe thead th {\n",
       "        text-align: right;\n",
       "    }\n",
       "</style>\n",
       "<table border=\"1\" class=\"dataframe\">\n",
       "  <thead>\n",
       "    <tr style=\"text-align: right;\">\n",
       "      <th></th>\n",
       "      <th>PassengerId</th>\n",
       "      <th>Survived</th>\n",
       "    </tr>\n",
       "  </thead>\n",
       "  <tbody>\n",
       "    <tr>\n",
       "      <th>0</th>\n",
       "      <td>892</td>\n",
       "      <td>0</td>\n",
       "    </tr>\n",
       "    <tr>\n",
       "      <th>1</th>\n",
       "      <td>893</td>\n",
       "      <td>1</td>\n",
       "    </tr>\n",
       "    <tr>\n",
       "      <th>2</th>\n",
       "      <td>894</td>\n",
       "      <td>0</td>\n",
       "    </tr>\n",
       "    <tr>\n",
       "      <th>3</th>\n",
       "      <td>895</td>\n",
       "      <td>0</td>\n",
       "    </tr>\n",
       "    <tr>\n",
       "      <th>4</th>\n",
       "      <td>896</td>\n",
       "      <td>1</td>\n",
       "    </tr>\n",
       "  </tbody>\n",
       "</table>\n",
       "</div>"
      ],
      "text/plain": [
       "   PassengerId  Survived\n",
       "0          892         0\n",
       "1          893         1\n",
       "2          894         0\n",
       "3          895         0\n",
       "4          896         1"
      ]
     },
     "execution_count": 6,
     "metadata": {},
     "output_type": "execute_result"
    }
   ],
   "source": [
    "sub.head()"
   ]
  },
  {
   "cell_type": "markdown",
   "metadata": {
    "cell_id": "00006-7102b8ab-88a5-4268-9b6d-faf1bf8629e6",
    "deepnote_cell_type": "markdown",
    "id": "a3WZ8xENL8LT"
   },
   "source": [
    "## Fill NAs"
   ]
  },
  {
   "cell_type": "code",
   "execution_count": 7,
   "metadata": {
    "cell_id": "00007-685a18b5-5908-4902-ad61-495d68c53892",
    "deepnote_cell_type": "code",
    "deepnote_to_be_reexecuted": false,
    "execution_millis": 8,
    "execution_start": 1633265451084,
    "id": "tdAymjDdL8LW",
    "outputId": "e364a0da-8681-4d40-ed6b-69c2f9848a41",
    "source_hash": "a5af19a1"
   },
   "outputs": [
    {
     "data": {
      "text/plain": [
       "True"
      ]
     },
     "execution_count": 7,
     "metadata": {},
     "output_type": "execute_result"
    }
   ],
   "source": [
    "sub.PassengerId.to_list() == test.PassengerId.to_list()"
   ]
  },
  {
   "cell_type": "code",
   "execution_count": 8,
   "metadata": {
    "cell_id": "00008-75ec754c-b4bf-40f7-8bc9-169c96ebf3db",
    "deepnote_cell_type": "code",
    "deepnote_to_be_reexecuted": false,
    "execution_millis": 11,
    "execution_start": 1633265451090,
    "id": "vNCmsqVpL8LX",
    "outputId": "33f9b89c-3972-4ad9-b143-2e53ec84a2c7",
    "source_hash": "993ab2a5"
   },
   "outputs": [
    {
     "data": {
      "text/plain": [
       "PassengerId      0\n",
       "Survived         0\n",
       "Pclass           0\n",
       "Name             0\n",
       "Sex              0\n",
       "Age            177\n",
       "SibSp            0\n",
       "Parch            0\n",
       "Ticket           0\n",
       "Fare             0\n",
       "Cabin          687\n",
       "Embarked         2\n",
       "dtype: int64"
      ]
     },
     "execution_count": 8,
     "metadata": {},
     "output_type": "execute_result"
    }
   ],
   "source": [
    "train.isna().sum()"
   ]
  },
  {
   "cell_type": "code",
   "execution_count": 9,
   "metadata": {
    "cell_id": "00009-94803e1d-1186-4925-9fa2-0eaeb5fe6664",
    "deepnote_cell_type": "code",
    "deepnote_to_be_reexecuted": false,
    "execution_millis": 0,
    "execution_start": 1633265451146,
    "source_hash": "32a81af8",
    "tags": []
   },
   "outputs": [],
   "source": [
    "g1 = train[(train['Parch']==0)&(train['SibSp']==0)&(train['Pclass']==1)]['Age']\n",
    "g2 = train[((train['Parch']!=0)|(train['SibSp']!=0))&(train['Pclass']==1)]['Age']\n",
    "g3 = train[(train['Parch']==0)&(train['SibSp']==0)&(train['Pclass']==2)]['Age']\n",
    "g4 = train[((train['Parch']!=0)|(train['SibSp']!=0))&(train['Pclass']==2)]['Age']\n",
    "g5 = train[(train['Parch']==0)&(train['SibSp']==0)&(train['Pclass']==3)]['Age']\n",
    "g6 = train[((train['Parch']!=0)|(train['SibSp']!=0))&(train['Pclass']==3)]['Age']\n",
    "av1 = np.mean(g1)\n",
    "av2 = np.mean(g2)\n",
    "av3 = np.mean(g3)\n",
    "av4 = np.mean(g4)\n",
    "av5 = np.mean(g5)\n",
    "av6 = np.mean(g6)"
   ]
  },
  {
   "cell_type": "code",
   "execution_count": 10,
   "metadata": {
    "cell_id": "00009-9c5ce7b0-6835-44df-8db9-9b9386e1284a",
    "deepnote_cell_type": "code",
    "deepnote_to_be_reexecuted": false,
    "execution_millis": 41,
    "execution_start": 1633265451146,
    "id": "U5lUBdPML8LY",
    "source_hash": "d6bd6e7d"
   },
   "outputs": [],
   "source": [
    "## fill age\n",
    "train['Age'] = np.where(\n",
    "    (train['Age'].isna()) & (train['Parch']==0) & (train['SibSp']==0) & (train['Pclass']==1), av1, train['Age'])\n",
    "\n",
    "train['Age'] = np.where(\n",
    "    (train['Age'].isna()) & (train['Parch']==0) & (train['SibSp']==0) & (train['Pclass']==2), av3, train['Age'])\n",
    "\n",
    "train['Age'] = np.where(\n",
    "    (train['Age'].isna()) & (train['Parch']==0) & (train['SibSp']==0) & (train['Pclass']==3), av5, train['Age'])\n",
    "\n",
    "train['Age'] = np.where(\n",
    "    (train['Age'].isna()) & ((train['Parch']!=0)|(train['SibSp']!=0))&(train['Pclass']==1), av2, train['Age'])\n",
    "\n",
    "train['Age'] = np.where(\n",
    "    (train['Age'].isna()) & ((train['Parch']!=0)|(train['SibSp']!=0))&(train['Pclass']==2), av4, train['Age'])\n",
    "\n",
    "train['Age'] = np.where(\n",
    "    (train['Age'].isna()) & ((train['Parch']!=0)|(train['SibSp']!=0))&(train['Pclass']==3), av6, train['Age'])\n",
    "\n"
   ]
  },
  {
   "cell_type": "code",
   "execution_count": 11,
   "metadata": {
    "cell_id": "00011-86d80c3c-9bf0-46a8-bfd8-fcd594a05137",
    "deepnote_cell_type": "code",
    "deepnote_to_be_reexecuted": false,
    "execution_millis": 0,
    "execution_start": 1633265451188,
    "source_hash": "df085531",
    "tags": []
   },
   "outputs": [],
   "source": [
    "train.Cabin = train.Cabin.fillna('Unknown')"
   ]
  },
  {
   "cell_type": "code",
   "execution_count": 12,
   "metadata": {
    "cell_id": "00012-9c9880d8-a680-4595-ab75-871c51519170",
    "deepnote_cell_type": "code",
    "deepnote_to_be_reexecuted": false,
    "execution_millis": 10,
    "execution_start": 1633265451188,
    "source_hash": "6939d7d6",
    "tags": []
   },
   "outputs": [
    {
     "data": {
      "text/plain": [
       "S    23\n",
       "C    22\n",
       "Name: Embarked, dtype: int64"
      ]
     },
     "execution_count": 12,
     "metadata": {},
     "output_type": "execute_result"
    }
   ],
   "source": [
    "train[(train['Cabin'].str[0]=='B')]['Embarked'].value_counts()"
   ]
  },
  {
   "cell_type": "code",
   "execution_count": 13,
   "metadata": {
    "cell_id": "00011-f1bea979-0ba1-4014-9120-1990f735b9fa",
    "deepnote_cell_type": "code",
    "deepnote_to_be_reexecuted": false,
    "execution_millis": 0,
    "execution_start": 1633265451189,
    "id": "TKPV-6knL8LZ",
    "source_hash": "110841dd"
   },
   "outputs": [],
   "source": [
    "train.Embarked = train.Embarked.fillna('Unknown')"
   ]
  },
  {
   "cell_type": "code",
   "execution_count": 14,
   "metadata": {
    "cell_id": "00012-30d65af5-4b9a-43b0-8dee-43aabc1bb6b0",
    "deepnote_cell_type": "code",
    "deepnote_to_be_reexecuted": false,
    "execution_millis": 8,
    "execution_start": 1633265451226,
    "id": "p9rYe51bL8LZ",
    "outputId": "8c937c87-7ae4-40d1-b302-5e3f7292ecf2",
    "source_hash": "993ab2a5"
   },
   "outputs": [
    {
     "data": {
      "text/plain": [
       "PassengerId    0\n",
       "Survived       0\n",
       "Pclass         0\n",
       "Name           0\n",
       "Sex            0\n",
       "Age            0\n",
       "SibSp          0\n",
       "Parch          0\n",
       "Ticket         0\n",
       "Fare           0\n",
       "Cabin          0\n",
       "Embarked       0\n",
       "dtype: int64"
      ]
     },
     "execution_count": 14,
     "metadata": {},
     "output_type": "execute_result"
    }
   ],
   "source": [
    "train.isna().sum()"
   ]
  },
  {
   "cell_type": "code",
   "execution_count": 15,
   "metadata": {
    "cell_id": "00013-fb329875-3f74-455d-97ae-92d29a1bf607",
    "deepnote_cell_type": "code",
    "deepnote_to_be_reexecuted": false,
    "execution_millis": 7,
    "execution_start": 1633265451227,
    "id": "SeDkvXVWL8La",
    "outputId": "4ad2cac7-4737-4aaa-dab0-e00fa0edb998",
    "source_hash": "5ddd71"
   },
   "outputs": [
    {
     "data": {
      "text/plain": [
       "PassengerId      0\n",
       "Pclass           0\n",
       "Name             0\n",
       "Sex              0\n",
       "Age             86\n",
       "SibSp            0\n",
       "Parch            0\n",
       "Ticket           0\n",
       "Fare             1\n",
       "Cabin          327\n",
       "Embarked         0\n",
       "dtype: int64"
      ]
     },
     "execution_count": 15,
     "metadata": {},
     "output_type": "execute_result"
    }
   ],
   "source": [
    "test.isna().sum()"
   ]
  },
  {
   "cell_type": "code",
   "execution_count": 16,
   "metadata": {
    "cell_id": "00015-ef240dfe-9c91-44c7-828e-2a9a0eed92ab",
    "deepnote_cell_type": "code",
    "deepnote_to_be_reexecuted": false,
    "execution_millis": 29,
    "execution_start": 1633265451229,
    "source_hash": "43bea511",
    "tags": []
   },
   "outputs": [],
   "source": [
    "# fill test age\n",
    "g1 = test[(test['Parch']==0)&(test['SibSp']==0)&(test['Pclass']==1)]['Age']\n",
    "g2 = test[((test['Parch']!=0)|(test['SibSp']!=0))&(test['Pclass']==1)]['Age']\n",
    "g3 = test[(test['Parch']==0)&(test['SibSp']==0)&(test['Pclass']==2)]['Age']\n",
    "g4 = test[((test['Parch']!=0)|(test['SibSp']!=0))&(test['Pclass']==2)]['Age']\n",
    "g5 = test[(test['Parch']==0)&(test['SibSp']==0)&(test['Pclass']==3)]['Age']\n",
    "g6 = test[((test['Parch']!=0)|(test['SibSp']!=0))&(test['Pclass']==3)]['Age']\n",
    "av1 = np.mean(g1)\n",
    "av2 = np.mean(g2)\n",
    "av3 = np.mean(g3)\n",
    "av4 = np.mean(g4)\n",
    "av5 = np.mean(g5)\n",
    "av6 = np.mean(g6)\n",
    "\n",
    "test['Age'] = np.where(\n",
    "    (test['Age'].isna()) & (test['Parch']==0) & (test['SibSp']==0) & (test['Pclass']==1), av1, test['Age'])\n",
    "\n",
    "test['Age'] = np.where(\n",
    "    (test['Age'].isna()) & (test['Parch']==0) & (test['SibSp']==0) & (test['Pclass']==2), av3, test['Age'])\n",
    "\n",
    "test['Age'] = np.where(\n",
    "    (test['Age'].isna()) & (test['Parch']==0) & (test['SibSp']==0) & (test['Pclass']==3), av5, test['Age'])\n",
    "\n",
    "test['Age'] = np.where(\n",
    "    (test['Age'].isna()) & ((test['Parch']!=0)|(test['SibSp']!=0))&(test['Pclass']==1), av2, test['Age'])\n",
    "\n",
    "test['Age'] = np.where(\n",
    "    (test['Age'].isna()) & ((test['Parch']!=0)|(test['SibSp']!=0))&(test['Pclass']==2), av4, test['Age'])\n",
    "\n",
    "test['Age'] = np.where(\n",
    "    (test['Age'].isna()) & ((test['Parch']!=0)|(test['SibSp']!=0))&(test['Pclass']==3), av6, test['Age'])\n",
    "\n"
   ]
  },
  {
   "cell_type": "code",
   "execution_count": 17,
   "metadata": {
    "cell_id": "00016-60c65cf3-49a6-450d-9975-4b2a65b03369",
    "deepnote_cell_type": "code",
    "deepnote_to_be_reexecuted": false,
    "execution_millis": 6,
    "execution_start": 1633265451264,
    "source_hash": "fbfd031c",
    "tags": []
   },
   "outputs": [],
   "source": [
    "test.Cabin = test.Cabin.fillna('Unknown')"
   ]
  },
  {
   "cell_type": "code",
   "execution_count": 18,
   "metadata": {
    "cell_id": "00014-8e7d920a-444e-4f1c-ac4c-8970bf01cdce",
    "deepnote_cell_type": "code",
    "deepnote_to_be_reexecuted": false,
    "execution_millis": 0,
    "execution_start": 1633265451310,
    "id": "qXE78YFAL8La",
    "source_hash": "3f260a06"
   },
   "outputs": [],
   "source": [
    "test.Fare = test.Fare.fillna(np.mean(test.Fare))"
   ]
  },
  {
   "cell_type": "code",
   "execution_count": 19,
   "metadata": {
    "cell_id": "00016-941db04a-bddb-4cf2-8152-52252679d089",
    "deepnote_cell_type": "code",
    "deepnote_to_be_reexecuted": false,
    "execution_millis": 9,
    "execution_start": 1633265451310,
    "id": "aUve3QjaL8Lb",
    "outputId": "1c595adb-abaf-4dc5-d27f-c35e95a0be62",
    "source_hash": "5ddd71"
   },
   "outputs": [
    {
     "data": {
      "text/plain": [
       "PassengerId    0\n",
       "Pclass         0\n",
       "Name           0\n",
       "Sex            0\n",
       "Age            0\n",
       "SibSp          0\n",
       "Parch          0\n",
       "Ticket         0\n",
       "Fare           0\n",
       "Cabin          0\n",
       "Embarked       0\n",
       "dtype: int64"
      ]
     },
     "execution_count": 19,
     "metadata": {},
     "output_type": "execute_result"
    }
   ],
   "source": [
    "test.isna().sum()"
   ]
  },
  {
   "cell_type": "markdown",
   "metadata": {
    "cell_id": "00017-5eb44147-471c-4b66-933a-95975dc71113",
    "deepnote_cell_type": "markdown",
    "id": "h2PIVePFL8Lb"
   },
   "source": [
    "## Split folds"
   ]
  },
  {
   "cell_type": "code",
   "execution_count": 20,
   "metadata": {
    "cell_id": "00018-2057943a-18ff-4465-8201-3cacb4072d18",
    "deepnote_cell_type": "code",
    "deepnote_to_be_reexecuted": false,
    "execution_millis": 0,
    "execution_start": 1633265451311,
    "id": "5I3enfm0L8Lb",
    "source_hash": "24dca851"
   },
   "outputs": [],
   "source": [
    "#do k fold validation\n",
    "skf = StratifiedKFold(n_splits=5, shuffle=True, random_state=42)"
   ]
  },
  {
   "cell_type": "code",
   "execution_count": 21,
   "metadata": {
    "cell_id": "00019-1a8bc0f7-c722-4f4e-b47f-3591ea10d93c",
    "deepnote_cell_type": "code",
    "deepnote_to_be_reexecuted": false,
    "execution_millis": 9,
    "execution_start": 1633265451312,
    "id": "-If6JDPdL8Lc",
    "source_hash": "1c5e0ec5"
   },
   "outputs": [],
   "source": [
    "train['fold'] = -999\n",
    "for fold_id, (train_index, valid_index) in enumerate(skf.split(X=train, y=train.Survived.values)):\n",
    "    train.loc[valid_index, 'fold'] = fold_id"
   ]
  },
  {
   "cell_type": "code",
   "execution_count": 22,
   "metadata": {
    "cell_id": "00020-f444298b-a3d5-4e52-9c58-4e760f820de9",
    "deepnote_cell_type": "code",
    "deepnote_to_be_reexecuted": false,
    "execution_millis": 6,
    "execution_start": 1633265451325,
    "id": "Joyy_7ckL8Lc",
    "outputId": "a54ea187-8deb-4b94-f9bb-5d48ec26a4f8",
    "source_hash": "487e4573"
   },
   "outputs": [
    {
     "data": {
      "text/plain": [
       "0    179\n",
       "1    178\n",
       "2    178\n",
       "3    178\n",
       "4    178\n",
       "Name: fold, dtype: int64"
      ]
     },
     "execution_count": 22,
     "metadata": {},
     "output_type": "execute_result"
    }
   ],
   "source": [
    "train.fold.value_counts()"
   ]
  },
  {
   "cell_type": "markdown",
   "metadata": {
    "cell_id": "00021-5ae58405-db26-4eed-9175-1eda0fac07a1",
    "deepnote_cell_type": "markdown",
    "id": "T1344bF7L8Lc"
   },
   "source": [
    "## Feature Engineering"
   ]
  },
  {
   "cell_type": "markdown",
   "metadata": {
    "cell_id": "00022-8c260542-7b70-4244-86a7-ddf9d3662249",
    "deepnote_cell_type": "markdown",
    "id": "LYTPFOJoL8Ld"
   },
   "source": [
    "#### 1. Name Title (Change the name to title and label encoding)"
   ]
  },
  {
   "cell_type": "code",
   "execution_count": 23,
   "metadata": {
    "cell_id": "00023-799a7313-1303-4cb4-ac00-60e6ceadabe1",
    "deepnote_cell_type": "code",
    "deepnote_to_be_reexecuted": false,
    "execution_millis": 0,
    "execution_start": 1633265451383,
    "id": "cEF-RnPjL8Ld",
    "outputId": "b3f436fc-ab73-4f8f-93ee-eb298f6aa516",
    "source_hash": "409ebd00"
   },
   "outputs": [],
   "source": [
    "def find_title(entry):\n",
    "    pattern = r'[a-zA-Z]+\\.'\n",
    "    return re.findall(pattern, entry)[0][:-1]\n",
    "\n",
    "temp = train[['Name']]\n",
    "temp['title'] =  temp['Name'].apply(find_title)\n",
    "train = pd.merge(train, temp, on = 'Name')"
   ]
  },
  {
   "cell_type": "code",
   "execution_count": 24,
   "metadata": {
    "cell_id": "00024-83866958-ad97-4763-a5f8-b6103aa387d3",
    "deepnote_cell_type": "code",
    "deepnote_to_be_reexecuted": false,
    "execution_millis": 7,
    "execution_start": 1633265451383,
    "id": "RtmcRQTqL8Ld",
    "outputId": "1815893d-f316-48e9-8e42-5774ea20eb18",
    "source_hash": "dd94553e"
   },
   "outputs": [
    {
     "data": {
      "text/plain": [
       "Mr          517\n",
       "Miss        182\n",
       "Mrs         125\n",
       "Master       40\n",
       "Dr            7\n",
       "Rev           6\n",
       "Col           2\n",
       "Major         2\n",
       "Mlle          2\n",
       "Jonkheer      1\n",
       "Ms            1\n",
       "Countess      1\n",
       "Mme           1\n",
       "Lady          1\n",
       "Capt          1\n",
       "Sir           1\n",
       "Don           1\n",
       "Name: title, dtype: int64"
      ]
     },
     "execution_count": 24,
     "metadata": {},
     "output_type": "execute_result"
    }
   ],
   "source": [
    "train['title'].value_counts()"
   ]
  },
  {
   "cell_type": "code",
   "execution_count": 25,
   "metadata": {
    "cell_id": "00025-af83226c-c095-4ca9-a2e8-2ba481942f96",
    "deepnote_cell_type": "code",
    "deepnote_to_be_reexecuted": false,
    "execution_millis": 0,
    "execution_start": 1633265451384,
    "id": "EIQwa28AL8Le",
    "outputId": "c9fbc8c5-67b1-4945-d44e-a12385d88b95",
    "source_hash": "52e1e4a7"
   },
   "outputs": [],
   "source": [
    "def conversion_title(entry):\n",
    "    if entry == 'Miss':\n",
    "        return 'Miss'\n",
    "    elif entry == 'Mrs':\n",
    "        return 'Mrs'\n",
    "    elif entry == 'Mr':\n",
    "        return 'Mr'\n",
    "    elif entry == 'Master':\n",
    "        return 'Master'\n",
    "    elif entry == 'Dr':\n",
    "        return 'Dr'\n",
    "    elif entry == 'Rev':\n",
    "        return 'Rev'\n",
    "    else:\n",
    "        return 'ELSE'\n",
    "train['title'] = train['title'].apply(conversion_title)"
   ]
  },
  {
   "cell_type": "code",
   "execution_count": 26,
   "metadata": {
    "cell_id": "00027-e6a8131d-ecf7-49f1-862b-f37342340162",
    "deepnote_cell_type": "code",
    "deepnote_to_be_reexecuted": false,
    "execution_millis": 8,
    "execution_start": 1633265451394,
    "id": "cnORdZdvL8Le",
    "source_hash": "f26cfa94"
   },
   "outputs": [],
   "source": [
    "temp = test[['Name']]\n",
    "temp['title'] = temp['Name'].apply(find_title)\n",
    "test = pd.merge(test, temp, on = 'Name')\n",
    "test['title'] = test['title'].apply(conversion_title)"
   ]
  },
  {
   "cell_type": "code",
   "execution_count": 27,
   "metadata": {
    "cell_id": "00028-b0121297-87ac-4b65-a54f-9d3a1145102f",
    "deepnote_cell_type": "code",
    "deepnote_to_be_reexecuted": false,
    "execution_millis": 5,
    "execution_start": 1633265451407,
    "id": "6hGAyGeWL8Lf",
    "source_hash": "91dbab28"
   },
   "outputs": [],
   "source": [
    "train = train.drop('Name', axis=1)\n",
    "test = test.drop('Name', axis=1)"
   ]
  },
  {
   "cell_type": "code",
   "execution_count": 28,
   "metadata": {
    "cell_id": "00029-217f32de-b7c0-4f20-8434-4d03902eebc9",
    "deepnote_cell_type": "code",
    "deepnote_to_be_reexecuted": false,
    "execution_millis": 22,
    "execution_start": 1633265451461,
    "id": "hZqO0oG4L8Lf",
    "outputId": "fa0af483-7748-43f1-c8b3-f3fe8ee7e687",
    "source_hash": "e1f0b45"
   },
   "outputs": [
    {
     "data": {
      "text/html": [
       "<div>\n",
       "<style scoped>\n",
       "    .dataframe tbody tr th:only-of-type {\n",
       "        vertical-align: middle;\n",
       "    }\n",
       "\n",
       "    .dataframe tbody tr th {\n",
       "        vertical-align: top;\n",
       "    }\n",
       "\n",
       "    .dataframe thead th {\n",
       "        text-align: right;\n",
       "    }\n",
       "</style>\n",
       "<table border=\"1\" class=\"dataframe\">\n",
       "  <thead>\n",
       "    <tr style=\"text-align: right;\">\n",
       "      <th></th>\n",
       "      <th>PassengerId</th>\n",
       "      <th>Survived</th>\n",
       "      <th>Pclass</th>\n",
       "      <th>Sex</th>\n",
       "      <th>Age</th>\n",
       "      <th>SibSp</th>\n",
       "      <th>Parch</th>\n",
       "      <th>Ticket</th>\n",
       "      <th>Fare</th>\n",
       "      <th>Cabin</th>\n",
       "      <th>Embarked</th>\n",
       "      <th>fold</th>\n",
       "      <th>title</th>\n",
       "    </tr>\n",
       "  </thead>\n",
       "  <tbody>\n",
       "    <tr>\n",
       "      <th>0</th>\n",
       "      <td>1</td>\n",
       "      <td>0</td>\n",
       "      <td>3</td>\n",
       "      <td>male</td>\n",
       "      <td>22.0</td>\n",
       "      <td>1</td>\n",
       "      <td>0</td>\n",
       "      <td>A/5 21171</td>\n",
       "      <td>7.2500</td>\n",
       "      <td>Unknown</td>\n",
       "      <td>S</td>\n",
       "      <td>1</td>\n",
       "      <td>Mr</td>\n",
       "    </tr>\n",
       "    <tr>\n",
       "      <th>1</th>\n",
       "      <td>2</td>\n",
       "      <td>1</td>\n",
       "      <td>1</td>\n",
       "      <td>female</td>\n",
       "      <td>38.0</td>\n",
       "      <td>1</td>\n",
       "      <td>0</td>\n",
       "      <td>PC 17599</td>\n",
       "      <td>71.2833</td>\n",
       "      <td>C85</td>\n",
       "      <td>C</td>\n",
       "      <td>4</td>\n",
       "      <td>Mrs</td>\n",
       "    </tr>\n",
       "    <tr>\n",
       "      <th>2</th>\n",
       "      <td>3</td>\n",
       "      <td>1</td>\n",
       "      <td>3</td>\n",
       "      <td>female</td>\n",
       "      <td>26.0</td>\n",
       "      <td>0</td>\n",
       "      <td>0</td>\n",
       "      <td>STON/O2. 3101282</td>\n",
       "      <td>7.9250</td>\n",
       "      <td>Unknown</td>\n",
       "      <td>S</td>\n",
       "      <td>3</td>\n",
       "      <td>Miss</td>\n",
       "    </tr>\n",
       "    <tr>\n",
       "      <th>3</th>\n",
       "      <td>4</td>\n",
       "      <td>1</td>\n",
       "      <td>1</td>\n",
       "      <td>female</td>\n",
       "      <td>35.0</td>\n",
       "      <td>1</td>\n",
       "      <td>0</td>\n",
       "      <td>113803</td>\n",
       "      <td>53.1000</td>\n",
       "      <td>C123</td>\n",
       "      <td>S</td>\n",
       "      <td>3</td>\n",
       "      <td>Mrs</td>\n",
       "    </tr>\n",
       "    <tr>\n",
       "      <th>4</th>\n",
       "      <td>5</td>\n",
       "      <td>0</td>\n",
       "      <td>3</td>\n",
       "      <td>male</td>\n",
       "      <td>35.0</td>\n",
       "      <td>0</td>\n",
       "      <td>0</td>\n",
       "      <td>373450</td>\n",
       "      <td>8.0500</td>\n",
       "      <td>Unknown</td>\n",
       "      <td>S</td>\n",
       "      <td>0</td>\n",
       "      <td>Mr</td>\n",
       "    </tr>\n",
       "  </tbody>\n",
       "</table>\n",
       "</div>"
      ],
      "text/plain": [
       "   PassengerId  Survived  Pclass     Sex   Age  SibSp  Parch  \\\n",
       "0            1         0       3    male  22.0      1      0   \n",
       "1            2         1       1  female  38.0      1      0   \n",
       "2            3         1       3  female  26.0      0      0   \n",
       "3            4         1       1  female  35.0      1      0   \n",
       "4            5         0       3    male  35.0      0      0   \n",
       "\n",
       "             Ticket     Fare    Cabin Embarked  fold title  \n",
       "0         A/5 21171   7.2500  Unknown        S     1    Mr  \n",
       "1          PC 17599  71.2833      C85        C     4   Mrs  \n",
       "2  STON/O2. 3101282   7.9250  Unknown        S     3  Miss  \n",
       "3            113803  53.1000     C123        S     3   Mrs  \n",
       "4            373450   8.0500  Unknown        S     0    Mr  "
      ]
     },
     "execution_count": 28,
     "metadata": {},
     "output_type": "execute_result"
    }
   ],
   "source": [
    "train.head()"
   ]
  },
  {
   "cell_type": "code",
   "execution_count": 29,
   "metadata": {
    "cell_id": "00030-59a91fda-3607-48e2-9a47-b00ef68508bc",
    "deepnote_cell_type": "code",
    "deepnote_to_be_reexecuted": false,
    "execution_millis": 8,
    "execution_start": 1633265451534,
    "id": "5tCHT0PJL8Lf",
    "outputId": "689a3400-db7c-4e3f-c662-f716398d61d1",
    "source_hash": "476785e4"
   },
   "outputs": [
    {
     "data": {
      "text/html": [
       "<div>\n",
       "<style scoped>\n",
       "    .dataframe tbody tr th:only-of-type {\n",
       "        vertical-align: middle;\n",
       "    }\n",
       "\n",
       "    .dataframe tbody tr th {\n",
       "        vertical-align: top;\n",
       "    }\n",
       "\n",
       "    .dataframe thead th {\n",
       "        text-align: right;\n",
       "    }\n",
       "</style>\n",
       "<table border=\"1\" class=\"dataframe\">\n",
       "  <thead>\n",
       "    <tr style=\"text-align: right;\">\n",
       "      <th></th>\n",
       "      <th>PassengerId</th>\n",
       "      <th>Pclass</th>\n",
       "      <th>Sex</th>\n",
       "      <th>Age</th>\n",
       "      <th>SibSp</th>\n",
       "      <th>Parch</th>\n",
       "      <th>Ticket</th>\n",
       "      <th>Fare</th>\n",
       "      <th>Cabin</th>\n",
       "      <th>Embarked</th>\n",
       "      <th>title</th>\n",
       "    </tr>\n",
       "  </thead>\n",
       "  <tbody>\n",
       "    <tr>\n",
       "      <th>0</th>\n",
       "      <td>892</td>\n",
       "      <td>3</td>\n",
       "      <td>male</td>\n",
       "      <td>34.5</td>\n",
       "      <td>0</td>\n",
       "      <td>0</td>\n",
       "      <td>330911</td>\n",
       "      <td>7.8292</td>\n",
       "      <td>Unknown</td>\n",
       "      <td>Q</td>\n",
       "      <td>Mr</td>\n",
       "    </tr>\n",
       "    <tr>\n",
       "      <th>1</th>\n",
       "      <td>893</td>\n",
       "      <td>3</td>\n",
       "      <td>female</td>\n",
       "      <td>47.0</td>\n",
       "      <td>1</td>\n",
       "      <td>0</td>\n",
       "      <td>363272</td>\n",
       "      <td>7.0000</td>\n",
       "      <td>Unknown</td>\n",
       "      <td>S</td>\n",
       "      <td>Mrs</td>\n",
       "    </tr>\n",
       "    <tr>\n",
       "      <th>2</th>\n",
       "      <td>894</td>\n",
       "      <td>2</td>\n",
       "      <td>male</td>\n",
       "      <td>62.0</td>\n",
       "      <td>0</td>\n",
       "      <td>0</td>\n",
       "      <td>240276</td>\n",
       "      <td>9.6875</td>\n",
       "      <td>Unknown</td>\n",
       "      <td>Q</td>\n",
       "      <td>Mr</td>\n",
       "    </tr>\n",
       "    <tr>\n",
       "      <th>3</th>\n",
       "      <td>895</td>\n",
       "      <td>3</td>\n",
       "      <td>male</td>\n",
       "      <td>27.0</td>\n",
       "      <td>0</td>\n",
       "      <td>0</td>\n",
       "      <td>315154</td>\n",
       "      <td>8.6625</td>\n",
       "      <td>Unknown</td>\n",
       "      <td>S</td>\n",
       "      <td>Mr</td>\n",
       "    </tr>\n",
       "    <tr>\n",
       "      <th>4</th>\n",
       "      <td>896</td>\n",
       "      <td>3</td>\n",
       "      <td>female</td>\n",
       "      <td>22.0</td>\n",
       "      <td>1</td>\n",
       "      <td>1</td>\n",
       "      <td>3101298</td>\n",
       "      <td>12.2875</td>\n",
       "      <td>Unknown</td>\n",
       "      <td>S</td>\n",
       "      <td>Mrs</td>\n",
       "    </tr>\n",
       "  </tbody>\n",
       "</table>\n",
       "</div>"
      ],
      "text/plain": [
       "   PassengerId  Pclass     Sex   Age  SibSp  Parch   Ticket     Fare    Cabin  \\\n",
       "0          892       3    male  34.5      0      0   330911   7.8292  Unknown   \n",
       "1          893       3  female  47.0      1      0   363272   7.0000  Unknown   \n",
       "2          894       2    male  62.0      0      0   240276   9.6875  Unknown   \n",
       "3          895       3    male  27.0      0      0   315154   8.6625  Unknown   \n",
       "4          896       3  female  22.0      1      1  3101298  12.2875  Unknown   \n",
       "\n",
       "  Embarked title  \n",
       "0        Q    Mr  \n",
       "1        S   Mrs  \n",
       "2        Q    Mr  \n",
       "3        S    Mr  \n",
       "4        S   Mrs  "
      ]
     },
     "execution_count": 29,
     "metadata": {},
     "output_type": "execute_result"
    }
   ],
   "source": [
    "test.head()"
   ]
  },
  {
   "cell_type": "markdown",
   "metadata": {
    "cell_id": "00031-94a1a15e-e398-4365-9255-74ee214f54ab",
    "deepnote_cell_type": "markdown",
    "id": "gjrKELvUL8Lg"
   },
   "source": [
    "#### 2.  Cut the Age and Fare column to different bins "
   ]
  },
  {
   "cell_type": "code",
   "execution_count": 30,
   "metadata": {
    "cell_id": "00032-4fcaacb5-1371-419c-8b00-044430b44ef7",
    "deepnote_cell_type": "code",
    "deepnote_to_be_reexecuted": false,
    "execution_millis": 28,
    "execution_start": 1633265451585,
    "id": "ITZU1O6ZL8Lg",
    "outputId": "9d0bafce-e405-49cc-dab2-a36f4ea2d5f2",
    "source_hash": "3dc5e06b"
   },
   "outputs": [
    {
     "data": {
      "text/html": [
       "<div>\n",
       "<style scoped>\n",
       "    .dataframe tbody tr th:only-of-type {\n",
       "        vertical-align: middle;\n",
       "    }\n",
       "\n",
       "    .dataframe tbody tr th {\n",
       "        vertical-align: top;\n",
       "    }\n",
       "\n",
       "    .dataframe thead th {\n",
       "        text-align: right;\n",
       "    }\n",
       "</style>\n",
       "<table border=\"1\" class=\"dataframe\">\n",
       "  <thead>\n",
       "    <tr style=\"text-align: right;\">\n",
       "      <th></th>\n",
       "      <th>PassengerId</th>\n",
       "      <th>Survived</th>\n",
       "      <th>Pclass</th>\n",
       "      <th>Age</th>\n",
       "      <th>SibSp</th>\n",
       "      <th>Parch</th>\n",
       "      <th>Fare</th>\n",
       "      <th>fold</th>\n",
       "    </tr>\n",
       "  </thead>\n",
       "  <tbody>\n",
       "    <tr>\n",
       "      <th>count</th>\n",
       "      <td>891.000000</td>\n",
       "      <td>891.000000</td>\n",
       "      <td>891.000000</td>\n",
       "      <td>891.000000</td>\n",
       "      <td>891.000000</td>\n",
       "      <td>891.000000</td>\n",
       "      <td>891.000000</td>\n",
       "      <td>891.000000</td>\n",
       "    </tr>\n",
       "    <tr>\n",
       "      <th>mean</th>\n",
       "      <td>446.000000</td>\n",
       "      <td>0.383838</td>\n",
       "      <td>2.308642</td>\n",
       "      <td>29.514790</td>\n",
       "      <td>0.523008</td>\n",
       "      <td>0.381594</td>\n",
       "      <td>32.204208</td>\n",
       "      <td>1.997755</td>\n",
       "    </tr>\n",
       "    <tr>\n",
       "      <th>std</th>\n",
       "      <td>257.353842</td>\n",
       "      <td>0.486592</td>\n",
       "      <td>0.836071</td>\n",
       "      <td>13.309636</td>\n",
       "      <td>1.102743</td>\n",
       "      <td>0.806057</td>\n",
       "      <td>49.693429</td>\n",
       "      <td>1.415800</td>\n",
       "    </tr>\n",
       "    <tr>\n",
       "      <th>min</th>\n",
       "      <td>1.000000</td>\n",
       "      <td>0.000000</td>\n",
       "      <td>1.000000</td>\n",
       "      <td>0.420000</td>\n",
       "      <td>0.000000</td>\n",
       "      <td>0.000000</td>\n",
       "      <td>0.000000</td>\n",
       "      <td>0.000000</td>\n",
       "    </tr>\n",
       "    <tr>\n",
       "      <th>25%</th>\n",
       "      <td>223.500000</td>\n",
       "      <td>0.000000</td>\n",
       "      <td>2.000000</td>\n",
       "      <td>21.000000</td>\n",
       "      <td>0.000000</td>\n",
       "      <td>0.000000</td>\n",
       "      <td>7.910400</td>\n",
       "      <td>1.000000</td>\n",
       "    </tr>\n",
       "    <tr>\n",
       "      <th>50%</th>\n",
       "      <td>446.000000</td>\n",
       "      <td>0.000000</td>\n",
       "      <td>3.000000</td>\n",
       "      <td>28.235556</td>\n",
       "      <td>0.000000</td>\n",
       "      <td>0.000000</td>\n",
       "      <td>14.454200</td>\n",
       "      <td>2.000000</td>\n",
       "    </tr>\n",
       "    <tr>\n",
       "      <th>75%</th>\n",
       "      <td>668.500000</td>\n",
       "      <td>1.000000</td>\n",
       "      <td>3.000000</td>\n",
       "      <td>36.000000</td>\n",
       "      <td>1.000000</td>\n",
       "      <td>0.000000</td>\n",
       "      <td>31.000000</td>\n",
       "      <td>3.000000</td>\n",
       "    </tr>\n",
       "    <tr>\n",
       "      <th>max</th>\n",
       "      <td>891.000000</td>\n",
       "      <td>1.000000</td>\n",
       "      <td>3.000000</td>\n",
       "      <td>80.000000</td>\n",
       "      <td>8.000000</td>\n",
       "      <td>6.000000</td>\n",
       "      <td>512.329200</td>\n",
       "      <td>4.000000</td>\n",
       "    </tr>\n",
       "  </tbody>\n",
       "</table>\n",
       "</div>"
      ],
      "text/plain": [
       "       PassengerId    Survived      Pclass         Age       SibSp  \\\n",
       "count   891.000000  891.000000  891.000000  891.000000  891.000000   \n",
       "mean    446.000000    0.383838    2.308642   29.514790    0.523008   \n",
       "std     257.353842    0.486592    0.836071   13.309636    1.102743   \n",
       "min       1.000000    0.000000    1.000000    0.420000    0.000000   \n",
       "25%     223.500000    0.000000    2.000000   21.000000    0.000000   \n",
       "50%     446.000000    0.000000    3.000000   28.235556    0.000000   \n",
       "75%     668.500000    1.000000    3.000000   36.000000    1.000000   \n",
       "max     891.000000    1.000000    3.000000   80.000000    8.000000   \n",
       "\n",
       "            Parch        Fare        fold  \n",
       "count  891.000000  891.000000  891.000000  \n",
       "mean     0.381594   32.204208    1.997755  \n",
       "std      0.806057   49.693429    1.415800  \n",
       "min      0.000000    0.000000    0.000000  \n",
       "25%      0.000000    7.910400    1.000000  \n",
       "50%      0.000000   14.454200    2.000000  \n",
       "75%      0.000000   31.000000    3.000000  \n",
       "max      6.000000  512.329200    4.000000  "
      ]
     },
     "execution_count": 30,
     "metadata": {},
     "output_type": "execute_result"
    }
   ],
   "source": [
    "train.describe()"
   ]
  },
  {
   "cell_type": "code",
   "execution_count": 31,
   "metadata": {
    "cell_id": "00033-0bec4f3e-4673-487e-b617-e282c0ac8748",
    "deepnote_cell_type": "code",
    "deepnote_to_be_reexecuted": false,
    "execution_millis": 53,
    "execution_start": 1633265451625,
    "id": "JZHRSCG0L8Lg",
    "outputId": "d10633bc-89b7-4977-cc20-240f3dd7880d",
    "source_hash": "9782bf47"
   },
   "outputs": [
    {
     "data": {
      "text/html": [
       "<div>\n",
       "<style scoped>\n",
       "    .dataframe tbody tr th:only-of-type {\n",
       "        vertical-align: middle;\n",
       "    }\n",
       "\n",
       "    .dataframe tbody tr th {\n",
       "        vertical-align: top;\n",
       "    }\n",
       "\n",
       "    .dataframe thead th {\n",
       "        text-align: right;\n",
       "    }\n",
       "</style>\n",
       "<table border=\"1\" class=\"dataframe\">\n",
       "  <thead>\n",
       "    <tr style=\"text-align: right;\">\n",
       "      <th></th>\n",
       "      <th>PassengerId</th>\n",
       "      <th>Pclass</th>\n",
       "      <th>Age</th>\n",
       "      <th>SibSp</th>\n",
       "      <th>Parch</th>\n",
       "      <th>Fare</th>\n",
       "    </tr>\n",
       "  </thead>\n",
       "  <tbody>\n",
       "    <tr>\n",
       "      <th>count</th>\n",
       "      <td>418.000000</td>\n",
       "      <td>418.000000</td>\n",
       "      <td>418.000000</td>\n",
       "      <td>418.000000</td>\n",
       "      <td>418.000000</td>\n",
       "      <td>418.000000</td>\n",
       "    </tr>\n",
       "    <tr>\n",
       "      <th>mean</th>\n",
       "      <td>1100.500000</td>\n",
       "      <td>2.265550</td>\n",
       "      <td>29.471072</td>\n",
       "      <td>0.447368</td>\n",
       "      <td>0.392344</td>\n",
       "      <td>35.627188</td>\n",
       "    </tr>\n",
       "    <tr>\n",
       "      <th>std</th>\n",
       "      <td>120.810458</td>\n",
       "      <td>0.841838</td>\n",
       "      <td>12.949363</td>\n",
       "      <td>0.896760</td>\n",
       "      <td>0.981429</td>\n",
       "      <td>55.840500</td>\n",
       "    </tr>\n",
       "    <tr>\n",
       "      <th>min</th>\n",
       "      <td>892.000000</td>\n",
       "      <td>1.000000</td>\n",
       "      <td>0.170000</td>\n",
       "      <td>0.000000</td>\n",
       "      <td>0.000000</td>\n",
       "      <td>0.000000</td>\n",
       "    </tr>\n",
       "    <tr>\n",
       "      <th>25%</th>\n",
       "      <td>996.250000</td>\n",
       "      <td>1.000000</td>\n",
       "      <td>21.250000</td>\n",
       "      <td>0.000000</td>\n",
       "      <td>0.000000</td>\n",
       "      <td>7.895800</td>\n",
       "    </tr>\n",
       "    <tr>\n",
       "      <th>50%</th>\n",
       "      <td>1100.500000</td>\n",
       "      <td>3.000000</td>\n",
       "      <td>26.121053</td>\n",
       "      <td>0.000000</td>\n",
       "      <td>0.000000</td>\n",
       "      <td>14.454200</td>\n",
       "    </tr>\n",
       "    <tr>\n",
       "      <th>75%</th>\n",
       "      <td>1204.750000</td>\n",
       "      <td>3.000000</td>\n",
       "      <td>36.375000</td>\n",
       "      <td>1.000000</td>\n",
       "      <td>0.000000</td>\n",
       "      <td>31.500000</td>\n",
       "    </tr>\n",
       "    <tr>\n",
       "      <th>max</th>\n",
       "      <td>1309.000000</td>\n",
       "      <td>3.000000</td>\n",
       "      <td>76.000000</td>\n",
       "      <td>8.000000</td>\n",
       "      <td>9.000000</td>\n",
       "      <td>512.329200</td>\n",
       "    </tr>\n",
       "  </tbody>\n",
       "</table>\n",
       "</div>"
      ],
      "text/plain": [
       "       PassengerId      Pclass         Age       SibSp       Parch        Fare\n",
       "count   418.000000  418.000000  418.000000  418.000000  418.000000  418.000000\n",
       "mean   1100.500000    2.265550   29.471072    0.447368    0.392344   35.627188\n",
       "std     120.810458    0.841838   12.949363    0.896760    0.981429   55.840500\n",
       "min     892.000000    1.000000    0.170000    0.000000    0.000000    0.000000\n",
       "25%     996.250000    1.000000   21.250000    0.000000    0.000000    7.895800\n",
       "50%    1100.500000    3.000000   26.121053    0.000000    0.000000   14.454200\n",
       "75%    1204.750000    3.000000   36.375000    1.000000    0.000000   31.500000\n",
       "max    1309.000000    3.000000   76.000000    8.000000    9.000000  512.329200"
      ]
     },
     "execution_count": 31,
     "metadata": {},
     "output_type": "execute_result"
    }
   ],
   "source": [
    "test.describe()"
   ]
  },
  {
   "cell_type": "code",
   "execution_count": 32,
   "metadata": {
    "cell_id": "00034-3fd4d624-6473-4c32-9606-ac43916c85cf",
    "deepnote_cell_type": "code",
    "deepnote_to_be_reexecuted": false,
    "execution_millis": 17,
    "execution_start": 1633265451675,
    "id": "bj05OudtL8Lg",
    "source_hash": "a742a94c"
   },
   "outputs": [],
   "source": [
    "train['Fare'] = pd.qcut(train['Fare'], 10)\n",
    "test['Fare'] = pd.qcut(test['Fare'], 10)\n",
    "train['Age'] = pd.qcut(train['Age'], 10)\n",
    "test['Age'] = pd.qcut(test['Age'], 10)"
   ]
  },
  {
   "cell_type": "code",
   "execution_count": 33,
   "metadata": {
    "cell_id": "00039-61de1fdb-e34a-4fc8-9f1f-10edb23bc314",
    "deepnote_cell_type": "code",
    "deepnote_to_be_reexecuted": false,
    "execution_millis": 33,
    "execution_start": 1633265451748,
    "id": "wlxyGbAVL8Lh",
    "outputId": "503aeacc-d60a-40d9-c3d4-28f35628cc63",
    "source_hash": "e1f0b45"
   },
   "outputs": [
    {
     "data": {
      "text/html": [
       "<div>\n",
       "<style scoped>\n",
       "    .dataframe tbody tr th:only-of-type {\n",
       "        vertical-align: middle;\n",
       "    }\n",
       "\n",
       "    .dataframe tbody tr th {\n",
       "        vertical-align: top;\n",
       "    }\n",
       "\n",
       "    .dataframe thead th {\n",
       "        text-align: right;\n",
       "    }\n",
       "</style>\n",
       "<table border=\"1\" class=\"dataframe\">\n",
       "  <thead>\n",
       "    <tr style=\"text-align: right;\">\n",
       "      <th></th>\n",
       "      <th>PassengerId</th>\n",
       "      <th>Survived</th>\n",
       "      <th>Pclass</th>\n",
       "      <th>Sex</th>\n",
       "      <th>Age</th>\n",
       "      <th>SibSp</th>\n",
       "      <th>Parch</th>\n",
       "      <th>Ticket</th>\n",
       "      <th>Fare</th>\n",
       "      <th>Cabin</th>\n",
       "      <th>Embarked</th>\n",
       "      <th>fold</th>\n",
       "      <th>title</th>\n",
       "    </tr>\n",
       "  </thead>\n",
       "  <tbody>\n",
       "    <tr>\n",
       "      <th>0</th>\n",
       "      <td>1</td>\n",
       "      <td>0</td>\n",
       "      <td>3</td>\n",
       "      <td>male</td>\n",
       "      <td>(19.784, 22.0]</td>\n",
       "      <td>1</td>\n",
       "      <td>0</td>\n",
       "      <td>A/5 21171</td>\n",
       "      <td>(-0.001, 7.55]</td>\n",
       "      <td>Unknown</td>\n",
       "      <td>S</td>\n",
       "      <td>1</td>\n",
       "      <td>Mr</td>\n",
       "    </tr>\n",
       "    <tr>\n",
       "      <th>1</th>\n",
       "      <td>2</td>\n",
       "      <td>1</td>\n",
       "      <td>1</td>\n",
       "      <td>female</td>\n",
       "      <td>(34.0, 40.0]</td>\n",
       "      <td>1</td>\n",
       "      <td>0</td>\n",
       "      <td>PC 17599</td>\n",
       "      <td>(39.688, 77.958]</td>\n",
       "      <td>C85</td>\n",
       "      <td>C</td>\n",
       "      <td>4</td>\n",
       "      <td>Mrs</td>\n",
       "    </tr>\n",
       "    <tr>\n",
       "      <th>2</th>\n",
       "      <td>3</td>\n",
       "      <td>1</td>\n",
       "      <td>3</td>\n",
       "      <td>female</td>\n",
       "      <td>(22.0, 27.0]</td>\n",
       "      <td>0</td>\n",
       "      <td>0</td>\n",
       "      <td>STON/O2. 3101282</td>\n",
       "      <td>(7.854, 8.05]</td>\n",
       "      <td>Unknown</td>\n",
       "      <td>S</td>\n",
       "      <td>3</td>\n",
       "      <td>Miss</td>\n",
       "    </tr>\n",
       "    <tr>\n",
       "      <th>3</th>\n",
       "      <td>4</td>\n",
       "      <td>1</td>\n",
       "      <td>1</td>\n",
       "      <td>female</td>\n",
       "      <td>(34.0, 40.0]</td>\n",
       "      <td>1</td>\n",
       "      <td>0</td>\n",
       "      <td>113803</td>\n",
       "      <td>(39.688, 77.958]</td>\n",
       "      <td>C123</td>\n",
       "      <td>S</td>\n",
       "      <td>3</td>\n",
       "      <td>Mrs</td>\n",
       "    </tr>\n",
       "    <tr>\n",
       "      <th>4</th>\n",
       "      <td>5</td>\n",
       "      <td>0</td>\n",
       "      <td>3</td>\n",
       "      <td>male</td>\n",
       "      <td>(34.0, 40.0]</td>\n",
       "      <td>0</td>\n",
       "      <td>0</td>\n",
       "      <td>373450</td>\n",
       "      <td>(7.854, 8.05]</td>\n",
       "      <td>Unknown</td>\n",
       "      <td>S</td>\n",
       "      <td>0</td>\n",
       "      <td>Mr</td>\n",
       "    </tr>\n",
       "  </tbody>\n",
       "</table>\n",
       "</div>"
      ],
      "text/plain": [
       "   PassengerId  Survived  Pclass     Sex             Age  SibSp  Parch  \\\n",
       "0            1         0       3    male  (19.784, 22.0]      1      0   \n",
       "1            2         1       1  female    (34.0, 40.0]      1      0   \n",
       "2            3         1       3  female    (22.0, 27.0]      0      0   \n",
       "3            4         1       1  female    (34.0, 40.0]      1      0   \n",
       "4            5         0       3    male    (34.0, 40.0]      0      0   \n",
       "\n",
       "             Ticket              Fare    Cabin Embarked  fold title  \n",
       "0         A/5 21171    (-0.001, 7.55]  Unknown        S     1    Mr  \n",
       "1          PC 17599  (39.688, 77.958]      C85        C     4   Mrs  \n",
       "2  STON/O2. 3101282     (7.854, 8.05]  Unknown        S     3  Miss  \n",
       "3            113803  (39.688, 77.958]     C123        S     3   Mrs  \n",
       "4            373450     (7.854, 8.05]  Unknown        S     0    Mr  "
      ]
     },
     "execution_count": 33,
     "metadata": {},
     "output_type": "execute_result"
    }
   ],
   "source": [
    "train.head()"
   ]
  },
  {
   "cell_type": "code",
   "execution_count": 34,
   "metadata": {
    "cell_id": "00040-4523e15f-8e52-4d1a-a330-bd7dcd1a21f7",
    "deepnote_cell_type": "code",
    "deepnote_to_be_reexecuted": false,
    "execution_millis": 41,
    "execution_start": 1633265451821,
    "id": "1QwZIVMML8Li",
    "outputId": "d1fca8d6-4114-49f2-c18d-f7a066b4623f",
    "source_hash": "476785e4"
   },
   "outputs": [
    {
     "data": {
      "text/html": [
       "<div>\n",
       "<style scoped>\n",
       "    .dataframe tbody tr th:only-of-type {\n",
       "        vertical-align: middle;\n",
       "    }\n",
       "\n",
       "    .dataframe tbody tr th {\n",
       "        vertical-align: top;\n",
       "    }\n",
       "\n",
       "    .dataframe thead th {\n",
       "        text-align: right;\n",
       "    }\n",
       "</style>\n",
       "<table border=\"1\" class=\"dataframe\">\n",
       "  <thead>\n",
       "    <tr style=\"text-align: right;\">\n",
       "      <th></th>\n",
       "      <th>PassengerId</th>\n",
       "      <th>Pclass</th>\n",
       "      <th>Sex</th>\n",
       "      <th>Age</th>\n",
       "      <th>SibSp</th>\n",
       "      <th>Parch</th>\n",
       "      <th>Ticket</th>\n",
       "      <th>Fare</th>\n",
       "      <th>Cabin</th>\n",
       "      <th>Embarked</th>\n",
       "      <th>title</th>\n",
       "    </tr>\n",
       "  </thead>\n",
       "  <tbody>\n",
       "    <tr>\n",
       "      <th>0</th>\n",
       "      <td>892</td>\n",
       "      <td>3</td>\n",
       "      <td>male</td>\n",
       "      <td>(33.0, 39.429]</td>\n",
       "      <td>0</td>\n",
       "      <td>0</td>\n",
       "      <td>330911</td>\n",
       "      <td>(7.796, 8.05]</td>\n",
       "      <td>Unknown</td>\n",
       "      <td>Q</td>\n",
       "      <td>Mr</td>\n",
       "    </tr>\n",
       "    <tr>\n",
       "      <th>1</th>\n",
       "      <td>893</td>\n",
       "      <td>3</td>\n",
       "      <td>female</td>\n",
       "      <td>(39.429, 48.0]</td>\n",
       "      <td>1</td>\n",
       "      <td>0</td>\n",
       "      <td>363272</td>\n",
       "      <td>(-0.001, 7.644]</td>\n",
       "      <td>Unknown</td>\n",
       "      <td>S</td>\n",
       "      <td>Mrs</td>\n",
       "    </tr>\n",
       "    <tr>\n",
       "      <th>2</th>\n",
       "      <td>894</td>\n",
       "      <td>2</td>\n",
       "      <td>male</td>\n",
       "      <td>(48.0, 76.0]</td>\n",
       "      <td>0</td>\n",
       "      <td>0</td>\n",
       "      <td>240276</td>\n",
       "      <td>(8.05, 11.342]</td>\n",
       "      <td>Unknown</td>\n",
       "      <td>Q</td>\n",
       "      <td>Mr</td>\n",
       "    </tr>\n",
       "    <tr>\n",
       "      <th>3</th>\n",
       "      <td>895</td>\n",
       "      <td>3</td>\n",
       "      <td>male</td>\n",
       "      <td>(26.121, 29.0]</td>\n",
       "      <td>0</td>\n",
       "      <td>0</td>\n",
       "      <td>315154</td>\n",
       "      <td>(8.05, 11.342]</td>\n",
       "      <td>Unknown</td>\n",
       "      <td>S</td>\n",
       "      <td>Mr</td>\n",
       "    </tr>\n",
       "    <tr>\n",
       "      <th>4</th>\n",
       "      <td>896</td>\n",
       "      <td>3</td>\n",
       "      <td>female</td>\n",
       "      <td>(20.129, 23.0]</td>\n",
       "      <td>1</td>\n",
       "      <td>1</td>\n",
       "      <td>3101298</td>\n",
       "      <td>(11.342, 14.454]</td>\n",
       "      <td>Unknown</td>\n",
       "      <td>S</td>\n",
       "      <td>Mrs</td>\n",
       "    </tr>\n",
       "  </tbody>\n",
       "</table>\n",
       "</div>"
      ],
      "text/plain": [
       "   PassengerId  Pclass     Sex             Age  SibSp  Parch   Ticket  \\\n",
       "0          892       3    male  (33.0, 39.429]      0      0   330911   \n",
       "1          893       3  female  (39.429, 48.0]      1      0   363272   \n",
       "2          894       2    male    (48.0, 76.0]      0      0   240276   \n",
       "3          895       3    male  (26.121, 29.0]      0      0   315154   \n",
       "4          896       3  female  (20.129, 23.0]      1      1  3101298   \n",
       "\n",
       "               Fare    Cabin Embarked title  \n",
       "0     (7.796, 8.05]  Unknown        Q    Mr  \n",
       "1   (-0.001, 7.644]  Unknown        S   Mrs  \n",
       "2    (8.05, 11.342]  Unknown        Q    Mr  \n",
       "3    (8.05, 11.342]  Unknown        S    Mr  \n",
       "4  (11.342, 14.454]  Unknown        S   Mrs  "
      ]
     },
     "execution_count": 34,
     "metadata": {},
     "output_type": "execute_result"
    }
   ],
   "source": [
    "test.head()"
   ]
  },
  {
   "cell_type": "markdown",
   "metadata": {
    "cell_id": "00039-32ab6369-893a-4066-99c5-7bcaa711587e",
    "deepnote_cell_type": "text-cell-h3",
    "is_collapsed": false,
    "tags": []
   },
   "source": [
    "### 3. clean ticket "
   ]
  },
  {
   "cell_type": "code",
   "execution_count": 35,
   "metadata": {
    "cell_id": "00039-048ab624-99c2-4a17-9e5e-fe3e8a2f1c41",
    "deepnote_cell_type": "code",
    "deepnote_to_be_reexecuted": false,
    "execution_millis": 0,
    "execution_start": 1633265451910,
    "source_hash": "b30a3309",
    "tags": []
   },
   "outputs": [],
   "source": [
    "# Ticket  value_counts first\n",
    "def ticket_extract(entry):\n",
    "    pattern = r'[A-Z]+'\n",
    "    extracted = ''.join(re.findall(pattern, entry))\n",
    "    if extracted == '':\n",
    "        return 'Number'\n",
    "    elif extracted == 'PC':\n",
    "        return extracted\n",
    "    elif extracted == 'CA':\n",
    "        return extracted\n",
    "    else:\n",
    "        return 'ELSE'\n",
    "\n",
    "train['Ticket'] = train['Ticket'].apply(ticket_extract)\n",
    "test['Ticket'] = test['Ticket'].apply(ticket_extract)"
   ]
  },
  {
   "cell_type": "markdown",
   "metadata": {
    "cell_id": "00041-f11b2999-3d53-494d-b7e1-f92b0a4e5a87",
    "deepnote_cell_type": "text-cell-h3",
    "is_collapsed": false,
    "tags": []
   },
   "source": [
    "### 4. clean number of family members "
   ]
  },
  {
   "cell_type": "code",
   "execution_count": 36,
   "metadata": {
    "cell_id": "00041-30d8d883-68fe-4e81-bc1a-da4a60e5d1cc",
    "deepnote_cell_type": "code",
    "deepnote_to_be_reexecuted": false,
    "execution_millis": 0,
    "execution_start": 1633265451911,
    "source_hash": "9efc34c5",
    "tags": []
   },
   "outputs": [],
   "source": [
    "#train['Alone'] = np.where((train['SibSp']==0)&(train['Parch']==0), 1, 0)\n",
    "#test['Alone'] = np.where((test['SibSp']==0)&(test['Parch']==0), 1, 0)"
   ]
  },
  {
   "cell_type": "code",
   "execution_count": 37,
   "metadata": {
    "cell_id": "00044-aee18320-eb7f-4cb4-bf86-36d34f91f674",
    "deepnote_cell_type": "code",
    "deepnote_to_be_reexecuted": false,
    "execution_millis": 43,
    "execution_start": 1633265451911,
    "source_hash": "7fce5f02",
    "tags": []
   },
   "outputs": [],
   "source": [
    "train['Family_size'] = np.zeros(len(train))\n",
    "\n",
    "train['Family_size'] = np.where((train['SibSp']+train['Parch'])<3, 0, train['Family_size'])\n",
    "train['Family_size'] = np.where((train['SibSp']+train['Parch']<5) & (train['SibSp']+train['Parch']>=3), 1, train['Family_size'])\n",
    "train['Family_size'] = np.where((train['SibSp']+train['Parch'])>=5, 2, train['Family_size'])\n",
    "\n",
    "test['Family_size'] = np.zeros(len(test))\n",
    "test['Family_size'] = np.where((test['SibSp']+test['Parch'])<3, 0, test['Family_size'])\n",
    "test['Family_size'] = np.where((test['SibSp']+test['Parch']<5) & (test['SibSp']+test['Parch']>=3), 1, test['Family_size'])\n",
    "test['Family_size'] = np.where((test['SibSp']+test['Parch'])>=5, 2, test['Family_size'])"
   ]
  },
  {
   "cell_type": "code",
   "execution_count": null,
   "metadata": {
    "cell_id": "00045-4559d392-84d7-4d65-9cf4-5df0ce3aa968",
    "deepnote_cell_type": "code",
    "deepnote_to_be_reexecuted": false,
    "execution_millis": 910627,
    "execution_start": 1633265451955,
    "source_hash": "b623e53d",
    "tags": []
   },
   "outputs": [],
   "source": []
  },
  {
   "cell_type": "code",
   "execution_count": 38,
   "metadata": {
    "cell_id": "00043-cbd4a10d-8af4-4121-aab2-54a59f5e409e",
    "deepnote_cell_type": "code",
    "deepnote_to_be_reexecuted": false,
    "execution_millis": 0,
    "execution_start": 1633265451955,
    "source_hash": "1e6ae352",
    "tags": []
   },
   "outputs": [],
   "source": [
    "train = train.drop(columns = ['SibSp', 'Parch'])\n",
    "test = test.drop(columns = ['SibSp', 'Parch'])"
   ]
  },
  {
   "cell_type": "code",
   "execution_count": 39,
   "metadata": {
    "cell_id": "00044-8b1d1a89-1fac-40d8-865e-79dc8e353671",
    "deepnote_cell_type": "code",
    "deepnote_to_be_reexecuted": false,
    "execution_millis": 62,
    "execution_start": 1633265451956,
    "source_hash": "e1f0b45",
    "tags": []
   },
   "outputs": [
    {
     "data": {
      "text/html": [
       "<div>\n",
       "<style scoped>\n",
       "    .dataframe tbody tr th:only-of-type {\n",
       "        vertical-align: middle;\n",
       "    }\n",
       "\n",
       "    .dataframe tbody tr th {\n",
       "        vertical-align: top;\n",
       "    }\n",
       "\n",
       "    .dataframe thead th {\n",
       "        text-align: right;\n",
       "    }\n",
       "</style>\n",
       "<table border=\"1\" class=\"dataframe\">\n",
       "  <thead>\n",
       "    <tr style=\"text-align: right;\">\n",
       "      <th></th>\n",
       "      <th>PassengerId</th>\n",
       "      <th>Survived</th>\n",
       "      <th>Pclass</th>\n",
       "      <th>Sex</th>\n",
       "      <th>Age</th>\n",
       "      <th>Ticket</th>\n",
       "      <th>Fare</th>\n",
       "      <th>Cabin</th>\n",
       "      <th>Embarked</th>\n",
       "      <th>fold</th>\n",
       "      <th>title</th>\n",
       "      <th>Family_size</th>\n",
       "    </tr>\n",
       "  </thead>\n",
       "  <tbody>\n",
       "    <tr>\n",
       "      <th>0</th>\n",
       "      <td>1</td>\n",
       "      <td>0</td>\n",
       "      <td>3</td>\n",
       "      <td>male</td>\n",
       "      <td>(19.784, 22.0]</td>\n",
       "      <td>ELSE</td>\n",
       "      <td>(-0.001, 7.55]</td>\n",
       "      <td>Unknown</td>\n",
       "      <td>S</td>\n",
       "      <td>1</td>\n",
       "      <td>Mr</td>\n",
       "      <td>0.0</td>\n",
       "    </tr>\n",
       "    <tr>\n",
       "      <th>1</th>\n",
       "      <td>2</td>\n",
       "      <td>1</td>\n",
       "      <td>1</td>\n",
       "      <td>female</td>\n",
       "      <td>(34.0, 40.0]</td>\n",
       "      <td>PC</td>\n",
       "      <td>(39.688, 77.958]</td>\n",
       "      <td>C85</td>\n",
       "      <td>C</td>\n",
       "      <td>4</td>\n",
       "      <td>Mrs</td>\n",
       "      <td>0.0</td>\n",
       "    </tr>\n",
       "    <tr>\n",
       "      <th>2</th>\n",
       "      <td>3</td>\n",
       "      <td>1</td>\n",
       "      <td>3</td>\n",
       "      <td>female</td>\n",
       "      <td>(22.0, 27.0]</td>\n",
       "      <td>ELSE</td>\n",
       "      <td>(7.854, 8.05]</td>\n",
       "      <td>Unknown</td>\n",
       "      <td>S</td>\n",
       "      <td>3</td>\n",
       "      <td>Miss</td>\n",
       "      <td>0.0</td>\n",
       "    </tr>\n",
       "    <tr>\n",
       "      <th>3</th>\n",
       "      <td>4</td>\n",
       "      <td>1</td>\n",
       "      <td>1</td>\n",
       "      <td>female</td>\n",
       "      <td>(34.0, 40.0]</td>\n",
       "      <td>Number</td>\n",
       "      <td>(39.688, 77.958]</td>\n",
       "      <td>C123</td>\n",
       "      <td>S</td>\n",
       "      <td>3</td>\n",
       "      <td>Mrs</td>\n",
       "      <td>0.0</td>\n",
       "    </tr>\n",
       "    <tr>\n",
       "      <th>4</th>\n",
       "      <td>5</td>\n",
       "      <td>0</td>\n",
       "      <td>3</td>\n",
       "      <td>male</td>\n",
       "      <td>(34.0, 40.0]</td>\n",
       "      <td>Number</td>\n",
       "      <td>(7.854, 8.05]</td>\n",
       "      <td>Unknown</td>\n",
       "      <td>S</td>\n",
       "      <td>0</td>\n",
       "      <td>Mr</td>\n",
       "      <td>0.0</td>\n",
       "    </tr>\n",
       "  </tbody>\n",
       "</table>\n",
       "</div>"
      ],
      "text/plain": [
       "   PassengerId  Survived  Pclass     Sex             Age  Ticket  \\\n",
       "0            1         0       3    male  (19.784, 22.0]    ELSE   \n",
       "1            2         1       1  female    (34.0, 40.0]      PC   \n",
       "2            3         1       3  female    (22.0, 27.0]    ELSE   \n",
       "3            4         1       1  female    (34.0, 40.0]  Number   \n",
       "4            5         0       3    male    (34.0, 40.0]  Number   \n",
       "\n",
       "               Fare    Cabin Embarked  fold title  Family_size  \n",
       "0    (-0.001, 7.55]  Unknown        S     1    Mr          0.0  \n",
       "1  (39.688, 77.958]      C85        C     4   Mrs          0.0  \n",
       "2     (7.854, 8.05]  Unknown        S     3  Miss          0.0  \n",
       "3  (39.688, 77.958]     C123        S     3   Mrs          0.0  \n",
       "4     (7.854, 8.05]  Unknown        S     0    Mr          0.0  "
      ]
     },
     "execution_count": 39,
     "metadata": {},
     "output_type": "execute_result"
    }
   ],
   "source": [
    "train.head()"
   ]
  },
  {
   "cell_type": "markdown",
   "metadata": {
    "cell_id": "00048-776cd351-99a6-4e9d-b434-67a9356f9c77",
    "deepnote_cell_type": "text-cell-h3",
    "is_collapsed": false,
    "tags": []
   },
   "source": [
    "### 6. Cabin number"
   ]
  },
  {
   "cell_type": "code",
   "execution_count": 40,
   "metadata": {
    "cell_id": "00047-f6dc61c1-2ace-4faa-acda-6b9426b45537",
    "deepnote_cell_type": "code",
    "deepnote_to_be_reexecuted": false,
    "execution_millis": 1,
    "execution_start": 1633265452044,
    "source_hash": "80bd90c",
    "tags": []
   },
   "outputs": [],
   "source": [
    "train['Cabin Num'] = train['Cabin'].str.extract(r'([0-9]+)').fillna(0).astype(float)\n",
    "test['Cabin Num'] = test['Cabin'].str.extract(r'([0-9]+)').fillna(0).astype(float)"
   ]
  },
  {
   "cell_type": "code",
   "execution_count": 41,
   "metadata": {
    "cell_id": "00050-71f175e6-e34c-4e68-99df-c39e97803489",
    "deepnote_cell_type": "code",
    "deepnote_to_be_reexecuted": false,
    "execution_millis": 0,
    "execution_start": 1633265452045,
    "source_hash": "b461c656",
    "tags": []
   },
   "outputs": [],
   "source": [
    "train['Cabin Num'] = (train['Cabin Num']-np.mean(train['Cabin Num']))/np.std(train['Cabin Num'])\n",
    "test['Cabin Num'] = (test['Cabin Num']-np.mean(test['Cabin Num']))/np.std(test['Cabin Num'])\n"
   ]
  },
  {
   "cell_type": "markdown",
   "metadata": {
    "cell_id": "00043-fd3ccdb1-8813-451c-ba17-848037afc334",
    "deepnote_cell_type": "text-cell-h3",
    "is_collapsed": false,
    "tags": []
   },
   "source": [
    "### 5. Extract cabin value"
   ]
  },
  {
   "cell_type": "code",
   "execution_count": 42,
   "metadata": {
    "cell_id": "00043-40d86e5e-ba6d-44b4-b6df-8d7131044fe4",
    "deepnote_cell_type": "code",
    "deepnote_to_be_reexecuted": false,
    "execution_millis": 0,
    "execution_start": 1633265452046,
    "source_hash": "4b673a54",
    "tags": []
   },
   "outputs": [],
   "source": [
    "#cabin  get first letter\n",
    "def cabin(entry):\n",
    "    rare_list = ['A', 'F', 'G', 'T']\n",
    "    if entry=='Unknown':\n",
    "        return 'NAN'\n",
    "    elif entry[0] in rare_list:\n",
    "        return 'Rare'\n",
    "    else:\n",
    "         return entry[0]\n",
    "train['Cabin'] = train['Cabin'].apply(cabin)\n",
    "test['Cabin'] = test['Cabin'].apply(cabin)"
   ]
  },
  {
   "cell_type": "markdown",
   "metadata": {
    "cell_id": "00041-b1efb05c-ef59-46fa-b7ec-d332d215b60d",
    "deepnote_cell_type": "markdown",
    "id": "H2C3VeABL8Li"
   },
   "source": [
    "## Label Encoding"
   ]
  },
  {
   "cell_type": "code",
   "execution_count": 43,
   "metadata": {
    "cell_id": "00044-9cf2adce-7f36-4ef1-b573-dbd9bca369cd",
    "deepnote_cell_type": "code",
    "deepnote_to_be_reexecuted": false,
    "execution_millis": 3,
    "execution_start": 1633265452052,
    "id": "VxO3DNfZL8Li",
    "source_hash": "31ecd161"
   },
   "outputs": [],
   "source": [
    "train = train.drop('PassengerId', axis=1)\n",
    "test = test.drop('PassengerId', axis=1)"
   ]
  },
  {
   "cell_type": "code",
   "execution_count": 44,
   "metadata": {
    "cell_id": "00049-9ce599f6-63ce-45e8-bc89-66b2ccd0bc59",
    "deepnote_cell_type": "code",
    "deepnote_to_be_reexecuted": false,
    "execution_millis": 48,
    "execution_start": 1633265452105,
    "source_hash": "e1f0b45",
    "tags": []
   },
   "outputs": [
    {
     "data": {
      "text/html": [
       "<div>\n",
       "<style scoped>\n",
       "    .dataframe tbody tr th:only-of-type {\n",
       "        vertical-align: middle;\n",
       "    }\n",
       "\n",
       "    .dataframe tbody tr th {\n",
       "        vertical-align: top;\n",
       "    }\n",
       "\n",
       "    .dataframe thead th {\n",
       "        text-align: right;\n",
       "    }\n",
       "</style>\n",
       "<table border=\"1\" class=\"dataframe\">\n",
       "  <thead>\n",
       "    <tr style=\"text-align: right;\">\n",
       "      <th></th>\n",
       "      <th>Survived</th>\n",
       "      <th>Pclass</th>\n",
       "      <th>Sex</th>\n",
       "      <th>Age</th>\n",
       "      <th>Ticket</th>\n",
       "      <th>Fare</th>\n",
       "      <th>Cabin</th>\n",
       "      <th>Embarked</th>\n",
       "      <th>fold</th>\n",
       "      <th>title</th>\n",
       "      <th>Family_size</th>\n",
       "      <th>Cabin Num</th>\n",
       "    </tr>\n",
       "  </thead>\n",
       "  <tbody>\n",
       "    <tr>\n",
       "      <th>0</th>\n",
       "      <td>0</td>\n",
       "      <td>3</td>\n",
       "      <td>male</td>\n",
       "      <td>(19.784, 22.0]</td>\n",
       "      <td>ELSE</td>\n",
       "      <td>(-0.001, 7.55]</td>\n",
       "      <td>NAN</td>\n",
       "      <td>S</td>\n",
       "      <td>1</td>\n",
       "      <td>Mr</td>\n",
       "      <td>0.0</td>\n",
       "      <td>-0.421322</td>\n",
       "    </tr>\n",
       "    <tr>\n",
       "      <th>1</th>\n",
       "      <td>1</td>\n",
       "      <td>1</td>\n",
       "      <td>female</td>\n",
       "      <td>(34.0, 40.0]</td>\n",
       "      <td>PC</td>\n",
       "      <td>(39.688, 77.958]</td>\n",
       "      <td>C</td>\n",
       "      <td>C</td>\n",
       "      <td>4</td>\n",
       "      <td>Mrs</td>\n",
       "      <td>0.0</td>\n",
       "      <td>2.738590</td>\n",
       "    </tr>\n",
       "    <tr>\n",
       "      <th>2</th>\n",
       "      <td>1</td>\n",
       "      <td>3</td>\n",
       "      <td>female</td>\n",
       "      <td>(22.0, 27.0]</td>\n",
       "      <td>ELSE</td>\n",
       "      <td>(7.854, 8.05]</td>\n",
       "      <td>NAN</td>\n",
       "      <td>S</td>\n",
       "      <td>3</td>\n",
       "      <td>Miss</td>\n",
       "      <td>0.0</td>\n",
       "      <td>-0.421322</td>\n",
       "    </tr>\n",
       "    <tr>\n",
       "      <th>3</th>\n",
       "      <td>1</td>\n",
       "      <td>1</td>\n",
       "      <td>female</td>\n",
       "      <td>(34.0, 40.0]</td>\n",
       "      <td>Number</td>\n",
       "      <td>(39.688, 77.958]</td>\n",
       "      <td>C</td>\n",
       "      <td>S</td>\n",
       "      <td>3</td>\n",
       "      <td>Mrs</td>\n",
       "      <td>0.0</td>\n",
       "      <td>4.151256</td>\n",
       "    </tr>\n",
       "    <tr>\n",
       "      <th>4</th>\n",
       "      <td>0</td>\n",
       "      <td>3</td>\n",
       "      <td>male</td>\n",
       "      <td>(34.0, 40.0]</td>\n",
       "      <td>Number</td>\n",
       "      <td>(7.854, 8.05]</td>\n",
       "      <td>NAN</td>\n",
       "      <td>S</td>\n",
       "      <td>0</td>\n",
       "      <td>Mr</td>\n",
       "      <td>0.0</td>\n",
       "      <td>-0.421322</td>\n",
       "    </tr>\n",
       "  </tbody>\n",
       "</table>\n",
       "</div>"
      ],
      "text/plain": [
       "   Survived  Pclass     Sex             Age  Ticket              Fare Cabin  \\\n",
       "0         0       3    male  (19.784, 22.0]    ELSE    (-0.001, 7.55]   NAN   \n",
       "1         1       1  female    (34.0, 40.0]      PC  (39.688, 77.958]     C   \n",
       "2         1       3  female    (22.0, 27.0]    ELSE     (7.854, 8.05]   NAN   \n",
       "3         1       1  female    (34.0, 40.0]  Number  (39.688, 77.958]     C   \n",
       "4         0       3    male    (34.0, 40.0]  Number     (7.854, 8.05]   NAN   \n",
       "\n",
       "  Embarked  fold title  Family_size  Cabin Num  \n",
       "0        S     1    Mr          0.0  -0.421322  \n",
       "1        C     4   Mrs          0.0   2.738590  \n",
       "2        S     3  Miss          0.0  -0.421322  \n",
       "3        S     3   Mrs          0.0   4.151256  \n",
       "4        S     0    Mr          0.0  -0.421322  "
      ]
     },
     "execution_count": 44,
     "metadata": {},
     "output_type": "execute_result"
    }
   ],
   "source": [
    "train.head()"
   ]
  },
  {
   "cell_type": "code",
   "execution_count": 45,
   "metadata": {
    "cell_id": "00045-9927934e-e193-4197-8013-52283e7fb24f",
    "deepnote_cell_type": "code",
    "deepnote_to_be_reexecuted": false,
    "execution_millis": 0,
    "execution_start": 1633265452137,
    "id": "MEYMKEPVL8Li",
    "source_hash": "5b4743e5"
   },
   "outputs": [],
   "source": [
    "#transfrom categorical data to numbers\n",
    "def label_encoding(train: pd.DataFrame, test: pd.DataFrame, encode_cols):\n",
    "    n_train = len(train)\n",
    "    train = pd.concat([train, test], sort=False).reset_index(drop=True)\n",
    "    for f in encode_cols:\n",
    "        try:\n",
    "            lbl = preprocessing.LabelEncoder()\n",
    "            train[f] = lbl.fit_transform(list(train[f].values))\n",
    "        except:\n",
    "            print(f)\n",
    "    test = train[n_train:].reset_index(drop=True)\n",
    "    train = train[:n_train]\n",
    "    return train, test"
   ]
  },
  {
   "cell_type": "code",
   "execution_count": 46,
   "metadata": {
    "cell_id": "00057-3b07a7ae-5bc9-445b-bb56-b6c6ce0d8a87",
    "deepnote_cell_type": "code",
    "deepnote_to_be_reexecuted": false,
    "execution_millis": 0,
    "execution_start": 1633265452186,
    "source_hash": "5d4eb03",
    "tags": []
   },
   "outputs": [],
   "source": [
    "train, test = label_encoding(train, test, ['Sex', 'Ticket', 'Embarked', 'Age', 'Cabin Num', 'Fare','Cabin', 'title'])"
   ]
  },
  {
   "cell_type": "code",
   "execution_count": 47,
   "metadata": {
    "cell_id": "00058-0ba5bebb-b840-4a20-ad5e-d3eeade38837",
    "deepnote_cell_type": "code",
    "deepnote_to_be_reexecuted": false,
    "execution_millis": 0,
    "execution_start": 1633265452230,
    "source_hash": "64b414b3",
    "tags": []
   },
   "outputs": [],
   "source": [
    "# train = pd.get_dummies(train)\n",
    "# test= pd.get_dummies(test)"
   ]
  },
  {
   "cell_type": "code",
   "execution_count": 49,
   "metadata": {
    "cell_id": "00051-7962d5ec-b350-455c-94ad-0937484bab16",
    "deepnote_cell_type": "code",
    "deepnote_to_be_reexecuted": false,
    "execution_millis": 47,
    "execution_start": 1633265452230,
    "source_hash": "e1f0b45",
    "tags": []
   },
   "outputs": [
    {
     "data": {
      "text/html": [
       "<div>\n",
       "<style scoped>\n",
       "    .dataframe tbody tr th:only-of-type {\n",
       "        vertical-align: middle;\n",
       "    }\n",
       "\n",
       "    .dataframe tbody tr th {\n",
       "        vertical-align: top;\n",
       "    }\n",
       "\n",
       "    .dataframe thead th {\n",
       "        text-align: right;\n",
       "    }\n",
       "</style>\n",
       "<table border=\"1\" class=\"dataframe\">\n",
       "  <thead>\n",
       "    <tr style=\"text-align: right;\">\n",
       "      <th></th>\n",
       "      <th>Survived</th>\n",
       "      <th>Pclass</th>\n",
       "      <th>Sex</th>\n",
       "      <th>Age</th>\n",
       "      <th>Ticket</th>\n",
       "      <th>Fare</th>\n",
       "      <th>Cabin</th>\n",
       "      <th>Embarked</th>\n",
       "      <th>fold</th>\n",
       "      <th>title</th>\n",
       "      <th>Family_size</th>\n",
       "      <th>Cabin Num</th>\n",
       "    </tr>\n",
       "  </thead>\n",
       "  <tbody>\n",
       "    <tr>\n",
       "      <th>0</th>\n",
       "      <td>0.0</td>\n",
       "      <td>3</td>\n",
       "      <td>1</td>\n",
       "      <td>4</td>\n",
       "      <td>1</td>\n",
       "      <td>0</td>\n",
       "      <td>4</td>\n",
       "      <td>2</td>\n",
       "      <td>1.0</td>\n",
       "      <td>4</td>\n",
       "      <td>0.0</td>\n",
       "      <td>0</td>\n",
       "    </tr>\n",
       "    <tr>\n",
       "      <th>1</th>\n",
       "      <td>1.0</td>\n",
       "      <td>1</td>\n",
       "      <td>0</td>\n",
       "      <td>15</td>\n",
       "      <td>3</td>\n",
       "      <td>15</td>\n",
       "      <td>1</td>\n",
       "      <td>0</td>\n",
       "      <td>4.0</td>\n",
       "      <td>5</td>\n",
       "      <td>0.0</td>\n",
       "      <td>113</td>\n",
       "    </tr>\n",
       "    <tr>\n",
       "      <th>2</th>\n",
       "      <td>1.0</td>\n",
       "      <td>3</td>\n",
       "      <td>0</td>\n",
       "      <td>6</td>\n",
       "      <td>1</td>\n",
       "      <td>5</td>\n",
       "      <td>4</td>\n",
       "      <td>2</td>\n",
       "      <td>3.0</td>\n",
       "      <td>3</td>\n",
       "      <td>0.0</td>\n",
       "      <td>0</td>\n",
       "    </tr>\n",
       "    <tr>\n",
       "      <th>3</th>\n",
       "      <td>1.0</td>\n",
       "      <td>1</td>\n",
       "      <td>0</td>\n",
       "      <td>15</td>\n",
       "      <td>2</td>\n",
       "      <td>15</td>\n",
       "      <td>1</td>\n",
       "      <td>2</td>\n",
       "      <td>3.0</td>\n",
       "      <td>5</td>\n",
       "      <td>0.0</td>\n",
       "      <td>142</td>\n",
       "    </tr>\n",
       "    <tr>\n",
       "      <th>4</th>\n",
       "      <td>0.0</td>\n",
       "      <td>3</td>\n",
       "      <td>1</td>\n",
       "      <td>15</td>\n",
       "      <td>2</td>\n",
       "      <td>5</td>\n",
       "      <td>4</td>\n",
       "      <td>2</td>\n",
       "      <td>0.0</td>\n",
       "      <td>4</td>\n",
       "      <td>0.0</td>\n",
       "      <td>0</td>\n",
       "    </tr>\n",
       "  </tbody>\n",
       "</table>\n",
       "</div>"
      ],
      "text/plain": [
       "   Survived  Pclass  Sex  Age  Ticket  Fare  Cabin  Embarked  fold  title  \\\n",
       "0       0.0       3    1    4       1     0      4         2   1.0      4   \n",
       "1       1.0       1    0   15       3    15      1         0   4.0      5   \n",
       "2       1.0       3    0    6       1     5      4         2   3.0      3   \n",
       "3       1.0       1    0   15       2    15      1         2   3.0      5   \n",
       "4       0.0       3    1   15       2     5      4         2   0.0      4   \n",
       "\n",
       "   Family_size  Cabin Num  \n",
       "0          0.0          0  \n",
       "1          0.0        113  \n",
       "2          0.0          0  \n",
       "3          0.0        142  \n",
       "4          0.0          0  "
      ]
     },
     "execution_count": 49,
     "metadata": {},
     "output_type": "execute_result"
    }
   ],
   "source": [
    "train.head()"
   ]
  },
  {
   "cell_type": "code",
   "execution_count": 50,
   "metadata": {
    "cell_id": "00045-1ccf2e7f-78d7-4b98-b478-c4b7ff0755e3",
    "deepnote_cell_type": "code",
    "deepnote_to_be_reexecuted": false,
    "execution_millis": 56,
    "execution_start": 1633265452290,
    "source_hash": "476785e4",
    "tags": []
   },
   "outputs": [
    {
     "data": {
      "text/html": [
       "<div>\n",
       "<style scoped>\n",
       "    .dataframe tbody tr th:only-of-type {\n",
       "        vertical-align: middle;\n",
       "    }\n",
       "\n",
       "    .dataframe tbody tr th {\n",
       "        vertical-align: top;\n",
       "    }\n",
       "\n",
       "    .dataframe thead th {\n",
       "        text-align: right;\n",
       "    }\n",
       "</style>\n",
       "<table border=\"1\" class=\"dataframe\">\n",
       "  <thead>\n",
       "    <tr style=\"text-align: right;\">\n",
       "      <th></th>\n",
       "      <th>Survived</th>\n",
       "      <th>Pclass</th>\n",
       "      <th>Sex</th>\n",
       "      <th>Age</th>\n",
       "      <th>Ticket</th>\n",
       "      <th>Fare</th>\n",
       "      <th>Cabin</th>\n",
       "      <th>Embarked</th>\n",
       "      <th>fold</th>\n",
       "      <th>title</th>\n",
       "      <th>Family_size</th>\n",
       "      <th>Cabin Num</th>\n",
       "    </tr>\n",
       "  </thead>\n",
       "  <tbody>\n",
       "    <tr>\n",
       "      <th>0</th>\n",
       "      <td>NaN</td>\n",
       "      <td>3</td>\n",
       "      <td>1</td>\n",
       "      <td>14</td>\n",
       "      <td>2</td>\n",
       "      <td>4</td>\n",
       "      <td>4</td>\n",
       "      <td>1</td>\n",
       "      <td>NaN</td>\n",
       "      <td>4</td>\n",
       "      <td>0.0</td>\n",
       "      <td>1</td>\n",
       "    </tr>\n",
       "    <tr>\n",
       "      <th>1</th>\n",
       "      <td>NaN</td>\n",
       "      <td>3</td>\n",
       "      <td>0</td>\n",
       "      <td>16</td>\n",
       "      <td>2</td>\n",
       "      <td>1</td>\n",
       "      <td>4</td>\n",
       "      <td>2</td>\n",
       "      <td>NaN</td>\n",
       "      <td>5</td>\n",
       "      <td>0.0</td>\n",
       "      <td>1</td>\n",
       "    </tr>\n",
       "    <tr>\n",
       "      <th>2</th>\n",
       "      <td>NaN</td>\n",
       "      <td>2</td>\n",
       "      <td>1</td>\n",
       "      <td>19</td>\n",
       "      <td>2</td>\n",
       "      <td>7</td>\n",
       "      <td>4</td>\n",
       "      <td>1</td>\n",
       "      <td>NaN</td>\n",
       "      <td>4</td>\n",
       "      <td>0.0</td>\n",
       "      <td>1</td>\n",
       "    </tr>\n",
       "    <tr>\n",
       "      <th>3</th>\n",
       "      <td>NaN</td>\n",
       "      <td>3</td>\n",
       "      <td>1</td>\n",
       "      <td>9</td>\n",
       "      <td>2</td>\n",
       "      <td>7</td>\n",
       "      <td>4</td>\n",
       "      <td>2</td>\n",
       "      <td>NaN</td>\n",
       "      <td>4</td>\n",
       "      <td>0.0</td>\n",
       "      <td>1</td>\n",
       "    </tr>\n",
       "    <tr>\n",
       "      <th>4</th>\n",
       "      <td>NaN</td>\n",
       "      <td>3</td>\n",
       "      <td>0</td>\n",
       "      <td>5</td>\n",
       "      <td>2</td>\n",
       "      <td>9</td>\n",
       "      <td>4</td>\n",
       "      <td>2</td>\n",
       "      <td>NaN</td>\n",
       "      <td>5</td>\n",
       "      <td>0.0</td>\n",
       "      <td>1</td>\n",
       "    </tr>\n",
       "  </tbody>\n",
       "</table>\n",
       "</div>"
      ],
      "text/plain": [
       "   Survived  Pclass  Sex  Age  Ticket  Fare  Cabin  Embarked  fold  title  \\\n",
       "0       NaN       3    1   14       2     4      4         1   NaN      4   \n",
       "1       NaN       3    0   16       2     1      4         2   NaN      5   \n",
       "2       NaN       2    1   19       2     7      4         1   NaN      4   \n",
       "3       NaN       3    1    9       2     7      4         2   NaN      4   \n",
       "4       NaN       3    0    5       2     9      4         2   NaN      5   \n",
       "\n",
       "   Family_size  Cabin Num  \n",
       "0          0.0          1  \n",
       "1          0.0          1  \n",
       "2          0.0          1  \n",
       "3          0.0          1  \n",
       "4          0.0          1  "
      ]
     },
     "execution_count": 50,
     "metadata": {},
     "output_type": "execute_result"
    }
   ],
   "source": [
    "test.head()"
   ]
  },
  {
   "cell_type": "markdown",
   "metadata": {
    "cell_id": "00046-4cc3cd41-69eb-46c3-9456-9b70df177ce9",
    "deepnote_cell_type": "markdown",
    "id": "BExlhHd_L8Lj"
   },
   "source": [
    "# Building Model"
   ]
  },
  {
   "cell_type": "markdown",
   "metadata": {
    "cell_id": "00047-c69f6fff-7072-4dc7-91c6-2d37f0cde1a5",
    "deepnote_cell_type": "markdown",
    "id": "FnXYmkbGL8Lj"
   },
   "source": [
    "## LGB"
   ]
  },
  {
   "cell_type": "code",
   "execution_count": 51,
   "metadata": {
    "cell_id": "00048-dc93a15d-4b02-47da-8088-ba61702f3e3a",
    "deepnote_cell_type": "code",
    "deepnote_to_be_reexecuted": false,
    "execution_millis": 0,
    "execution_start": 1633265452406,
    "id": "BPb1yzNNL8Lj",
    "source_hash": "ea1d7fa6"
   },
   "outputs": [],
   "source": [
    "def optuna_lgb(n_trials=500):\n",
    "    \n",
    "    def objective(trial):\n",
    "\n",
    "        params = {\n",
    "            \"objective\": \"binary\",\n",
    "            \"metric\": \"binary_logloss\",\n",
    "            \"verbosity\": -1,\n",
    "            \"boosting_type\": \"gbdt\",\n",
    "            \"lambda_l1\": trial.suggest_float(\"lambda_l1\", 1e-5, 10, log=True),\n",
    "            \"lambda_l2\": trial.suggest_float(\"lambda_l2\", 1e-5, 10, log=True),\n",
    "            \"num_leaves\": trial.suggest_int(\"num_leaves\", 2, 62),\n",
    "            \"feature_fraction\": trial.suggest_float(\"feature_fraction\", 0.4, 0.9),\n",
    "            \"bagging_fraction\": trial.suggest_float(\"bagging_fraction\", 0.4, 0.9),\n",
    "            \"bagging_freq\": trial.suggest_int(\"bagging_freq\", 2, 9),\n",
    "            \"min_child_samples\": trial.suggest_int(\"min_child_samples\", 33, 93),\n",
    "            \"max_depth\": trial.suggest_int(\"max_depth\", 2, 7)\n",
    "        }\n",
    "\n",
    "        # initialize oof \n",
    "        oof_train = np.zeros((len(train),))\n",
    "\n",
    "        for i in range(5):\n",
    "            train_x = train.query(f'fold!={i}').drop(['fold', 'Survived'], axis=1)\n",
    "            train_y = train.query(f'fold!={i}').Survived\n",
    "\n",
    "            valid_x = train.query(f'fold=={i}').drop(['fold', 'Survived'], axis=1)\n",
    "            valid_y = train.query(f'fold=={i}').Survived\n",
    "            \n",
    "            lgb_train = lgb.Dataset(train_x,\n",
    "                                    train_y)\n",
    "\n",
    "            lgb_eval = lgb.Dataset(valid_x,\n",
    "                                   valid_y,\n",
    "                                   reference=lgb_train)\n",
    "\n",
    "            gbm = lgb.train(params,\n",
    "                            lgb_train,\n",
    "                            valid_sets=[lgb_train, lgb_eval],\n",
    "                            num_boost_round=5000,\n",
    "                            verbose_eval=-1, \n",
    "                            early_stopping_rounds=1000\n",
    "                            )\n",
    "            oof_preds = gbm.predict(valid_x, num_iteration=gbm.best_iteration)\n",
    "            oof_train[valid_x.index] = gbm.predict(valid_x,\n",
    "                                                   num_iteration=gbm.best_iteration)\n",
    "            \n",
    "            \n",
    "        return accuracy_score(train.Survived, oof_train.round())\n",
    "    \n",
    "    study = optuna.create_study(direction=\"maximize\")\n",
    "    study.optimize(objective, n_trials=n_trials)\n",
    "\n",
    "    print(\"Number of finished trials: {}\".format(len(study.trials)))\n",
    "\n",
    "    print(\"Best trial:\")\n",
    "    trial = study.best_trial\n",
    "\n",
    "    print(\"  Value: {}\".format(trial.value))\n",
    "\n",
    "    print(\"  Params: \")\n",
    "    for key, value in trial.params.items():\n",
    "        print(\"    {}: {}\".format(key, value))\n",
    "    \n",
    "    best_params = {\n",
    "        \"objective\": \"binary\",\n",
    "        \"metric\": \"binary_logloss\",\n",
    "        \"verbosity\": -1,\n",
    "        \"boosting_type\": \"gbdt\",\n",
    "    }\n",
    "    best_params.update(study.best_params)\n",
    "    ## save trained model\n",
    "    # initialize oof \n",
    "    oof_train = np.zeros((len(train),))\n",
    "    print('*'*50)\n",
    "    print('Exporting best models')\n",
    "    print('*' * 50)\n",
    "    # split folds using RSGKF\n",
    "    for i in range(5):\n",
    "        train_x = train.query(f'fold!={i}').drop(['fold', 'Survived'], axis=1)\n",
    "        train_y = train.query(f'fold!={i}').Survived\n",
    "\n",
    "        valid_x = train.query(f'fold=={i}').drop(['fold', 'Survived'], axis=1)\n",
    "        valid_y = train.query(f'fold=={i}').Survived\n",
    "\n",
    "        lgb_train = lgb.Dataset(train_x,\n",
    "                                train_y)\n",
    "\n",
    "        lgb_eval = lgb.Dataset(valid_x,\n",
    "                               valid_y,\n",
    "                               reference=lgb_train)\n",
    "\n",
    "        gbm = lgb.train(best_params,\n",
    "                        lgb_train,\n",
    "                        valid_sets=[lgb_train, lgb_eval],\n",
    "                        num_boost_round=50000,\n",
    "                        verbose_eval=-1, \n",
    "                        early_stopping_rounds=1001\n",
    "                        )\n",
    "\n",
    "        oof_preds = gbm.predict(valid_x, num_iteration=gbm.best_iteration)\n",
    "        oof_train[valid_x.index] = gbm.predict(valid_x, num_iteration=gbm.best_iteration)\n",
    "\n",
    "        joblib.dump(gbm, f'lgb_fold{i}.pkl')"
   ]
  },
  {
   "cell_type": "code",
   "execution_count": 52,
   "metadata": {
    "cell_id": "00049-e59799fb-b5bb-40c7-a781-5a1119703415",
    "deepnote_cell_type": "code",
    "deepnote_to_be_reexecuted": false,
    "execution_millis": 872568,
    "execution_start": 1633265526047,
    "id": "XXtPZ3g0L8Lj",
    "outputId": "ef032a4e-65da-4185-aafd-ec1e780c9cf2",
    "source_hash": "cdd14bd2"
   },
   "outputs": [
    {
     "name": "stderr",
     "output_type": "stream",
     "text": [
      "\u001b[32m[I 2021-10-03 20:36:55,064]\u001b[0m A new study created in memory with name: no-name-735d94ff-d248-4fc9-b0e8-8d6c028cd1f8\u001b[0m\n"
     ]
    },
    {
     "name": "stdout",
     "output_type": "stream",
     "text": [
      "Training until validation scores don't improve for 1000 rounds\n",
      "Early stopping, best iteration is:\n",
      "[215]\ttraining's binary_logloss: 0.382849\tvalid_1's binary_logloss: 0.398435\n",
      "Training until validation scores don't improve for 1000 rounds\n",
      "Early stopping, best iteration is:\n",
      "[686]\ttraining's binary_logloss: 0.357085\tvalid_1's binary_logloss: 0.39168\n",
      "Training until validation scores don't improve for 1000 rounds\n",
      "Early stopping, best iteration is:\n",
      "[129]\ttraining's binary_logloss: 0.378594\tvalid_1's binary_logloss: 0.449733\n",
      "Training until validation scores don't improve for 1000 rounds\n",
      "Early stopping, best iteration is:\n",
      "[882]\ttraining's binary_logloss: 0.347537\tvalid_1's binary_logloss: 0.411517\n",
      "Training until validation scores don't improve for 1000 rounds\n"
     ]
    },
    {
     "name": "stderr",
     "output_type": "stream",
     "text": [
      "\u001b[32m[I 2021-10-03 20:36:56,541]\u001b[0m Trial 0 finished with value: 0.8237934904601572 and parameters: {'lambda_l1': 0.036102186969584435, 'lambda_l2': 0.020966553706159657, 'num_leaves': 36, 'feature_fraction': 0.575207476366264, 'bagging_fraction': 0.6317338138419455, 'bagging_freq': 5, 'min_child_samples': 57, 'max_depth': 2}. Best is trial 0 with value: 0.8237934904601572.\u001b[0m\n"
     ]
    },
    {
     "name": "stdout",
     "output_type": "stream",
     "text": [
      "Early stopping, best iteration is:\n",
      "[1039]\ttraining's binary_logloss: 0.34427\tvalid_1's binary_logloss: 0.39932\n",
      "Training until validation scores don't improve for 1000 rounds\n",
      "Early stopping, best iteration is:\n",
      "[46]\ttraining's binary_logloss: 0.451007\tvalid_1's binary_logloss: 0.441181\n",
      "Training until validation scores don't improve for 1000 rounds\n",
      "Early stopping, best iteration is:\n",
      "[374]\ttraining's binary_logloss: 0.424054\tvalid_1's binary_logloss: 0.433275\n",
      "Training until validation scores don't improve for 1000 rounds\n",
      "Early stopping, best iteration is:\n",
      "[415]\ttraining's binary_logloss: 0.411312\tvalid_1's binary_logloss: 0.458606\n",
      "Training until validation scores don't improve for 1000 rounds\n"
     ]
    },
    {
     "name": "stderr",
     "output_type": "stream",
     "text": [
      "\u001b[32m[I 2021-10-03 20:36:57,388]\u001b[0m Trial 1 finished with value: 0.7968574635241302 and parameters: {'lambda_l1': 9.101211703099091, 'lambda_l2': 0.04318613577702268, 'num_leaves': 24, 'feature_fraction': 0.5723142926385284, 'bagging_fraction': 0.6890449831072479, 'bagging_freq': 7, 'min_child_samples': 60, 'max_depth': 7}. Best is trial 0 with value: 0.8237934904601572.\u001b[0m\n"
     ]
    },
    {
     "name": "stdout",
     "output_type": "stream",
     "text": [
      "Early stopping, best iteration is:\n",
      "[164]\ttraining's binary_logloss: 0.432564\tvalid_1's binary_logloss: 0.44858\n",
      "Training until validation scores don't improve for 1000 rounds\n",
      "Early stopping, best iteration is:\n",
      "[232]\ttraining's binary_logloss: 0.429214\tvalid_1's binary_logloss: 0.414696\n",
      "Training until validation scores don't improve for 1000 rounds\n",
      "Early stopping, best iteration is:\n",
      "[477]\ttraining's binary_logloss: 0.382252\tvalid_1's binary_logloss: 0.407115\n",
      "Training until validation scores don't improve for 1000 rounds\n",
      "Early stopping, best iteration is:\n",
      "[732]\ttraining's binary_logloss: 0.367492\tvalid_1's binary_logloss: 0.398292\n",
      "Training until validation scores don't improve for 1000 rounds\n",
      "Early stopping, best iteration is:\n",
      "[84]\ttraining's binary_logloss: 0.411659\tvalid_1's binary_logloss: 0.469489\n",
      "Training until validation scores don't improve for 1000 rounds\n",
      "Early stopping, best iteration is:\n",
      "[863]\ttraining's binary_logloss: 0.354329\tvalid_1's binary_logloss: 0.413923\n",
      "Training until validation scores don't improve for 1000 rounds\n"
     ]
    },
    {
     "name": "stderr",
     "output_type": "stream",
     "text": [
      "\u001b[32m[I 2021-10-03 20:36:58,808]\u001b[0m Trial 2 finished with value: 0.8249158249158249 and parameters: {'lambda_l1': 0.030525656669162335, 'lambda_l2': 2.7100181014129396, 'num_leaves': 57, 'feature_fraction': 0.59937488509254, 'bagging_fraction': 0.7151102980566422, 'bagging_freq': 9, 'min_child_samples': 89, 'max_depth': 4}. Best is trial 2 with value: 0.8249158249158249.\u001b[0m\n"
     ]
    },
    {
     "name": "stdout",
     "output_type": "stream",
     "text": [
      "Early stopping, best iteration is:\n",
      "[226]\ttraining's binary_logloss: 0.402092\tvalid_1's binary_logloss: 0.416838\n",
      "Training until validation scores don't improve for 1000 rounds\n",
      "Early stopping, best iteration is:\n",
      "[850]\ttraining's binary_logloss: 0.324423\tvalid_1's binary_logloss: 0.385181\n",
      "Training until validation scores don't improve for 1000 rounds\n",
      "Early stopping, best iteration is:\n",
      "[643]\ttraining's binary_logloss: 0.331418\tvalid_1's binary_logloss: 0.378494\n",
      "Training until validation scores don't improve for 1000 rounds\n",
      "Early stopping, best iteration is:\n",
      "[53]\ttraining's binary_logloss: 0.388565\tvalid_1's binary_logloss: 0.455908\n",
      "Training until validation scores don't improve for 1000 rounds\n",
      "Early stopping, best iteration is:\n",
      "[384]\ttraining's binary_logloss: 0.346605\tvalid_1's binary_logloss: 0.404731\n",
      "Training until validation scores don't improve for 1000 rounds\n"
     ]
    },
    {
     "name": "stderr",
     "output_type": "stream",
     "text": [
      "\u001b[32m[I 2021-10-03 20:37:00,665]\u001b[0m Trial 3 finished with value: 0.8361391694725028 and parameters: {'lambda_l1': 1.0548726029185185, 'lambda_l2': 0.03177505642433926, 'num_leaves': 31, 'feature_fraction': 0.8178568135131842, 'bagging_fraction': 0.4543316134745718, 'bagging_freq': 4, 'min_child_samples': 39, 'max_depth': 6}. Best is trial 3 with value: 0.8361391694725028.\u001b[0m\n"
     ]
    },
    {
     "name": "stdout",
     "output_type": "stream",
     "text": [
      "Early stopping, best iteration is:\n",
      "[1109]\ttraining's binary_logloss: 0.31069\tvalid_1's binary_logloss: 0.380245\n",
      "Training until validation scores don't improve for 1000 rounds\n",
      "Early stopping, best iteration is:\n",
      "[147]\ttraining's binary_logloss: 0.36866\tvalid_1's binary_logloss: 0.381751\n",
      "Training until validation scores don't improve for 1000 rounds\n",
      "Early stopping, best iteration is:\n",
      "[406]\ttraining's binary_logloss: 0.331205\tvalid_1's binary_logloss: 0.379522\n",
      "Training until validation scores don't improve for 1000 rounds\n",
      "Early stopping, best iteration is:\n",
      "[69]\ttraining's binary_logloss: 0.372768\tvalid_1's binary_logloss: 0.446997\n",
      "Training until validation scores don't improve for 1000 rounds\n",
      "Early stopping, best iteration is:\n",
      "[74]\ttraining's binary_logloss: 0.385977\tvalid_1's binary_logloss: 0.414231\n",
      "Training until validation scores don't improve for 1000 rounds\n"
     ]
    },
    {
     "name": "stderr",
     "output_type": "stream",
     "text": [
      "\u001b[32m[I 2021-10-03 20:37:01,991]\u001b[0m Trial 4 finished with value: 0.8305274971941639 and parameters: {'lambda_l1': 6.768792474046532e-05, 'lambda_l2': 0.0004015904955945846, 'num_leaves': 11, 'feature_fraction': 0.5180777872664915, 'bagging_fraction': 0.6123706071595202, 'bagging_freq': 5, 'min_child_samples': 40, 'max_depth': 3}. Best is trial 3 with value: 0.8361391694725028.\u001b[0m\n"
     ]
    },
    {
     "name": "stdout",
     "output_type": "stream",
     "text": [
      "Early stopping, best iteration is:\n",
      "[578]\ttraining's binary_logloss: 0.316853\tvalid_1's binary_logloss: 0.387913\n",
      "Training until validation scores don't improve for 1000 rounds\n",
      "Early stopping, best iteration is:\n",
      "[1593]\ttraining's binary_logloss: 0.307039\tvalid_1's binary_logloss: 0.379175\n",
      "Training until validation scores don't improve for 1000 rounds\n",
      "Early stopping, best iteration is:\n",
      "[729]\ttraining's binary_logloss: 0.331755\tvalid_1's binary_logloss: 0.390821\n",
      "Training until validation scores don't improve for 1000 rounds\n",
      "Early stopping, best iteration is:\n",
      "[183]\ttraining's binary_logloss: 0.367965\tvalid_1's binary_logloss: 0.461944\n",
      "Training until validation scores don't improve for 1000 rounds\n",
      "Early stopping, best iteration is:\n",
      "[1719]\ttraining's binary_logloss: 0.291336\tvalid_1's binary_logloss: 0.405176\n",
      "Training until validation scores don't improve for 1000 rounds\n"
     ]
    },
    {
     "name": "stderr",
     "output_type": "stream",
     "text": [
      "\u001b[32m[I 2021-10-03 20:37:04,488]\u001b[0m Trial 5 finished with value: 0.8316498316498316 and parameters: {'lambda_l1': 0.04557828944909788, 'lambda_l2': 2.1610668195460323, 'num_leaves': 46, 'feature_fraction': 0.7065183581935459, 'bagging_fraction': 0.8420020452573984, 'bagging_freq': 9, 'min_child_samples': 87, 'max_depth': 4}. Best is trial 3 with value: 0.8361391694725028.\u001b[0m\n"
     ]
    },
    {
     "name": "stdout",
     "output_type": "stream",
     "text": [
      "Early stopping, best iteration is:\n",
      "[2990]\ttraining's binary_logloss: 0.270692\tvalid_1's binary_logloss: 0.373739\n",
      "Training until validation scores don't improve for 1000 rounds\n",
      "Early stopping, best iteration is:\n",
      "[563]\ttraining's binary_logloss: 0.348259\tvalid_1's binary_logloss: 0.396441\n",
      "Training until validation scores don't improve for 1000 rounds\n",
      "Early stopping, best iteration is:\n",
      "[1353]\ttraining's binary_logloss: 0.322559\tvalid_1's binary_logloss: 0.383478\n",
      "Training until validation scores don't improve for 1000 rounds\n",
      "Early stopping, best iteration is:\n",
      "[93]\ttraining's binary_logloss: 0.367732\tvalid_1's binary_logloss: 0.450354\n",
      "Training until validation scores don't improve for 1000 rounds\n"
     ]
    },
    {
     "name": "stderr",
     "output_type": "stream",
     "text": [
      "\u001b[32m[I 2021-10-03 20:37:05,592]\u001b[0m Trial 6 finished with value: 0.8260381593714927 and parameters: {'lambda_l1': 2.5785143312226886, 'lambda_l2': 0.002489376394196033, 'num_leaves': 34, 'feature_fraction': 0.6991918690567955, 'bagging_fraction': 0.7353282559611932, 'bagging_freq': 3, 'min_child_samples': 39, 'max_depth': 7}. Best is trial 3 with value: 0.8361391694725028.\u001b[0m\n"
     ]
    },
    {
     "name": "stdout",
     "output_type": "stream",
     "text": [
      "Early stopping, best iteration is:\n",
      "[410]\ttraining's binary_logloss: 0.349173\tvalid_1's binary_logloss: 0.415529\n",
      "Training until validation scores don't improve for 1000 rounds\n",
      "Early stopping, best iteration is:\n",
      "[78]\ttraining's binary_logloss: 0.387385\tvalid_1's binary_logloss: 0.398806\n",
      "Training until validation scores don't improve for 1000 rounds\n",
      "Early stopping, best iteration is:\n",
      "[750]\ttraining's binary_logloss: 0.375231\tvalid_1's binary_logloss: 0.401163\n",
      "Training until validation scores don't improve for 1000 rounds\n",
      "Early stopping, best iteration is:\n",
      "[1230]\ttraining's binary_logloss: 0.363587\tvalid_1's binary_logloss: 0.400525\n",
      "Training until validation scores don't improve for 1000 rounds\n",
      "Early stopping, best iteration is:\n",
      "[112]\ttraining's binary_logloss: 0.399301\tvalid_1's binary_logloss: 0.46169\n",
      "Training until validation scores don't improve for 1000 rounds\n",
      "Early stopping, best iteration is:\n",
      "[3875]\ttraining's binary_logloss: 0.321926\tvalid_1's binary_logloss: 0.417788\n",
      "Training until validation scores don't improve for 1000 rounds\n"
     ]
    },
    {
     "name": "stderr",
     "output_type": "stream",
     "text": [
      "\u001b[32m[I 2021-10-03 20:37:08,210]\u001b[0m Trial 7 finished with value: 0.8226711560044894 and parameters: {'lambda_l1': 0.9471708427593419, 'lambda_l2': 0.0014892757596104045, 'num_leaves': 23, 'feature_fraction': 0.5970000912064464, 'bagging_fraction': 0.8984004684315297, 'bagging_freq': 7, 'min_child_samples': 79, 'max_depth': 2}. Best is trial 3 with value: 0.8361391694725028.\u001b[0m\n"
     ]
    },
    {
     "name": "stdout",
     "output_type": "stream",
     "text": [
      "Early stopping, best iteration is:\n",
      "[3429]\ttraining's binary_logloss: 0.326608\tvalid_1's binary_logloss: 0.398752\n",
      "Training until validation scores don't improve for 1000 rounds\n",
      "Early stopping, best iteration is:\n",
      "[1421]\ttraining's binary_logloss: 0.390921\tvalid_1's binary_logloss: 0.401614\n",
      "Training until validation scores don't improve for 1000 rounds\n",
      "Early stopping, best iteration is:\n",
      "[2419]\ttraining's binary_logloss: 0.374541\tvalid_1's binary_logloss: 0.397967\n",
      "Training until validation scores don't improve for 1000 rounds\n",
      "Early stopping, best iteration is:\n",
      "[232]\ttraining's binary_logloss: 0.402329\tvalid_1's binary_logloss: 0.464025\n",
      "Training until validation scores don't improve for 1000 rounds\n",
      "Early stopping, best iteration is:\n",
      "[1766]\ttraining's binary_logloss: 0.378095\tvalid_1's binary_logloss: 0.423631\n",
      "Training until validation scores don't improve for 1000 rounds\n",
      "Early stopping, best iteration is:\n",
      "[378]\ttraining's binary_logloss: 0.41489\tvalid_1's binary_logloss: 0.410355\n"
     ]
    },
    {
     "name": "stderr",
     "output_type": "stream",
     "text": [
      "\u001b[32m[I 2021-10-03 20:37:09,697]\u001b[0m Trial 8 finished with value: 0.8215488215488216 and parameters: {'lambda_l1': 2.934098071335839, 'lambda_l2': 6.23464807045422, 'num_leaves': 51, 'feature_fraction': 0.6747287380934384, 'bagging_fraction': 0.47336356593739026, 'bagging_freq': 8, 'min_child_samples': 55, 'max_depth': 3}. Best is trial 3 with value: 0.8361391694725028.\u001b[0m\n"
     ]
    },
    {
     "name": "stdout",
     "output_type": "stream",
     "text": [
      "Training until validation scores don't improve for 1000 rounds\n",
      "Early stopping, best iteration is:\n",
      "[386]\ttraining's binary_logloss: 0.326467\tvalid_1's binary_logloss: 0.384724\n",
      "Training until validation scores don't improve for 1000 rounds\n",
      "Early stopping, best iteration is:\n",
      "[611]\ttraining's binary_logloss: 0.297937\tvalid_1's binary_logloss: 0.380694\n",
      "Training until validation scores don't improve for 1000 rounds\n",
      "Early stopping, best iteration is:\n",
      "[215]\ttraining's binary_logloss: 0.330185\tvalid_1's binary_logloss: 0.449003\n",
      "Training until validation scores don't improve for 1000 rounds\n",
      "Early stopping, best iteration is:\n",
      "[672]\ttraining's binary_logloss: 0.286623\tvalid_1's binary_logloss: 0.403087\n",
      "Training until validation scores don't improve for 1000 rounds\n"
     ]
    },
    {
     "name": "stderr",
     "output_type": "stream",
     "text": [
      "\u001b[32m[I 2021-10-03 20:37:11,101]\u001b[0m Trial 9 finished with value: 0.8417508417508418 and parameters: {'lambda_l1': 0.27859777723829654, 'lambda_l2': 1.0885346666510168e-05, 'num_leaves': 60, 'feature_fraction': 0.8018763360775023, 'bagging_fraction': 0.49384454552372703, 'bagging_freq': 8, 'min_child_samples': 38, 'max_depth': 4}. Best is trial 9 with value: 0.8417508417508418.\u001b[0m\n"
     ]
    },
    {
     "name": "stdout",
     "output_type": "stream",
     "text": [
      "Early stopping, best iteration is:\n",
      "[832]\ttraining's binary_logloss: 0.287418\tvalid_1's binary_logloss: 0.381347\n",
      "Training until validation scores don't improve for 1000 rounds\n",
      "Early stopping, best iteration is:\n",
      "[210]\ttraining's binary_logloss: 0.396905\tvalid_1's binary_logloss: 0.404964\n",
      "Training until validation scores don't improve for 1000 rounds\n",
      "Early stopping, best iteration is:\n",
      "[1225]\ttraining's binary_logloss: 0.34913\tvalid_1's binary_logloss: 0.397731\n",
      "Training until validation scores don't improve for 1000 rounds\n",
      "Early stopping, best iteration is:\n",
      "[158]\ttraining's binary_logloss: 0.38771\tvalid_1's binary_logloss: 0.470311\n",
      "Training until validation scores don't improve for 1000 rounds\n",
      "Early stopping, best iteration is:\n",
      "[1279]\ttraining's binary_logloss: 0.328707\tvalid_1's binary_logloss: 0.420269\n",
      "Training until validation scores don't improve for 1000 rounds\n"
     ]
    },
    {
     "name": "stderr",
     "output_type": "stream",
     "text": [
      "\u001b[32m[I 2021-10-03 20:37:12,634]\u001b[0m Trial 10 finished with value: 0.8237934904601572 and parameters: {'lambda_l1': 0.000552406233128722, 'lambda_l2': 1.0907555349944587e-05, 'num_leaves': 61, 'feature_fraction': 0.89424018034314, 'bagging_fraction': 0.5299266573942506, 'bagging_freq': 7, 'min_child_samples': 71, 'max_depth': 5}. Best is trial 9 with value: 0.8417508417508418.\u001b[0m\n"
     ]
    },
    {
     "name": "stdout",
     "output_type": "stream",
     "text": [
      "Early stopping, best iteration is:\n",
      "[1316]\ttraining's binary_logloss: 0.342923\tvalid_1's binary_logloss: 0.407131\n",
      "Training until validation scores don't improve for 1000 rounds\n",
      "Early stopping, best iteration is:\n",
      "[414]\ttraining's binary_logloss: 0.314517\tvalid_1's binary_logloss: 0.377557\n",
      "Training until validation scores don't improve for 1000 rounds\n",
      "Early stopping, best iteration is:\n",
      "[487]\ttraining's binary_logloss: 0.308092\tvalid_1's binary_logloss: 0.3857\n",
      "Training until validation scores don't improve for 1000 rounds\n",
      "Early stopping, best iteration is:\n",
      "[75]\ttraining's binary_logloss: 0.361207\tvalid_1's binary_logloss: 0.454945\n",
      "Training until validation scores don't improve for 1000 rounds\n",
      "Early stopping, best iteration is:\n",
      "[114]\ttraining's binary_logloss: 0.357226\tvalid_1's binary_logloss: 0.410974\n",
      "Training until validation scores don't improve for 1000 rounds\n"
     ]
    },
    {
     "name": "stderr",
     "output_type": "stream",
     "text": [
      "\u001b[32m[I 2021-10-03 20:37:14,276]\u001b[0m Trial 11 finished with value: 0.8338945005611672 and parameters: {'lambda_l1': 0.513215385171113, 'lambda_l2': 2.622727584133595e-05, 'num_leaves': 42, 'feature_fraction': 0.8662482656683343, 'bagging_fraction': 0.4478470265605892, 'bagging_freq': 3, 'min_child_samples': 33, 'max_depth': 6}. Best is trial 9 with value: 0.8417508417508418.\u001b[0m\n"
     ]
    },
    {
     "name": "stdout",
     "output_type": "stream",
     "text": [
      "Early stopping, best iteration is:\n",
      "[1459]\ttraining's binary_logloss: 0.245483\tvalid_1's binary_logloss: 0.388656\n",
      "Training until validation scores don't improve for 1000 rounds\n",
      "Early stopping, best iteration is:\n",
      "[1876]\ttraining's binary_logloss: 0.301586\tvalid_1's binary_logloss: 0.373225\n",
      "Training until validation scores don't improve for 1000 rounds\n",
      "Early stopping, best iteration is:\n",
      "[667]\ttraining's binary_logloss: 0.337791\tvalid_1's binary_logloss: 0.381009\n",
      "Training until validation scores don't improve for 1000 rounds\n",
      "Early stopping, best iteration is:\n",
      "[69]\ttraining's binary_logloss: 0.388229\tvalid_1's binary_logloss: 0.453944\n",
      "Training until validation scores don't improve for 1000 rounds\n",
      "Early stopping, best iteration is:\n",
      "[1210]\ttraining's binary_logloss: 0.309103\tvalid_1's binary_logloss: 0.404689\n",
      "Training until validation scores don't improve for 1000 rounds\n"
     ]
    },
    {
     "name": "stderr",
     "output_type": "stream",
     "text": [
      "\u001b[32m[I 2021-10-03 20:37:16,706]\u001b[0m Trial 12 finished with value: 0.8249158249158249 and parameters: {'lambda_l1': 0.25062007105278566, 'lambda_l2': 0.1974774196083057, 'num_leaves': 22, 'feature_fraction': 0.8024625844860599, 'bagging_fraction': 0.41619065405330075, 'bagging_freq': 2, 'min_child_samples': 46, 'max_depth': 5}. Best is trial 9 with value: 0.8417508417508418.\u001b[0m\n"
     ]
    },
    {
     "name": "stdout",
     "output_type": "stream",
     "text": [
      "Did not meet early stopping. Best iteration is:\n",
      "[4951]\ttraining's binary_logloss: 0.246966\tvalid_1's binary_logloss: 0.36782\n",
      "Training until validation scores don't improve for 1000 rounds\n",
      "Early stopping, best iteration is:\n",
      "[173]\ttraining's binary_logloss: 0.387658\tvalid_1's binary_logloss: 0.39893\n",
      "Training until validation scores don't improve for 1000 rounds\n",
      "Early stopping, best iteration is:\n",
      "[1280]\ttraining's binary_logloss: 0.335329\tvalid_1's binary_logloss: 0.381895\n",
      "Training until validation scores don't improve for 1000 rounds\n",
      "Early stopping, best iteration is:\n",
      "[75]\ttraining's binary_logloss: 0.3919\tvalid_1's binary_logloss: 0.446248\n",
      "Training until validation scores don't improve for 1000 rounds\n",
      "Early stopping, best iteration is:\n",
      "[152]\ttraining's binary_logloss: 0.385908\tvalid_1's binary_logloss: 0.41627\n",
      "Training until validation scores don't improve for 1000 rounds\n"
     ]
    },
    {
     "name": "stderr",
     "output_type": "stream",
     "text": [
      "\u001b[32m[I 2021-10-03 20:37:18,378]\u001b[0m Trial 13 finished with value: 0.835016835016835 and parameters: {'lambda_l1': 0.0030267901942167153, 'lambda_l2': 8.6448465775985e-05, 'num_leaves': 3, 'feature_fraction': 0.7888850465106, 'bagging_fraction': 0.53243317561988, 'bagging_freq': 4, 'min_child_samples': 47, 'max_depth': 6}. Best is trial 9 with value: 0.8417508417508418.\u001b[0m\n"
     ]
    },
    {
     "name": "stdout",
     "output_type": "stream",
     "text": [
      "Early stopping, best iteration is:\n",
      "[101]\ttraining's binary_logloss: 0.396921\tvalid_1's binary_logloss: 0.407578\n",
      "Training until validation scores don't improve for 1000 rounds\n",
      "Early stopping, best iteration is:\n",
      "[835]\ttraining's binary_logloss: 0.321605\tvalid_1's binary_logloss: 0.396773\n",
      "Training until validation scores don't improve for 1000 rounds\n",
      "Early stopping, best iteration is:\n",
      "[562]\ttraining's binary_logloss: 0.334691\tvalid_1's binary_logloss: 0.384128\n",
      "Training until validation scores don't improve for 1000 rounds\n",
      "Early stopping, best iteration is:\n",
      "[164]\ttraining's binary_logloss: 0.357655\tvalid_1's binary_logloss: 0.450032\n",
      "Training until validation scores don't improve for 1000 rounds\n",
      "Early stopping, best iteration is:\n",
      "[318]\ttraining's binary_logloss: 0.348574\tvalid_1's binary_logloss: 0.42332\n",
      "Training until validation scores don't improve for 1000 rounds\n"
     ]
    },
    {
     "name": "stderr",
     "output_type": "stream",
     "text": [
      "\u001b[32m[I 2021-10-03 20:37:20,138]\u001b[0m Trial 14 finished with value: 0.8249158249158249 and parameters: {'lambda_l1': 0.2033088536463491, 'lambda_l2': 0.2591270329831782, 'num_leaves': 15, 'feature_fraction': 0.42042799251105434, 'bagging_fraction': 0.5465674527728595, 'bagging_freq': 6, 'min_child_samples': 36, 'max_depth': 6}. Best is trial 9 with value: 0.8417508417508418.\u001b[0m\n"
     ]
    },
    {
     "name": "stdout",
     "output_type": "stream",
     "text": [
      "Early stopping, best iteration is:\n",
      "[406]\ttraining's binary_logloss: 0.345634\tvalid_1's binary_logloss: 0.404344\n",
      "Training until validation scores don't improve for 1000 rounds\n",
      "Early stopping, best iteration is:\n",
      "[905]\ttraining's binary_logloss: 0.422929\tvalid_1's binary_logloss: 0.422246\n",
      "Training until validation scores don't improve for 1000 rounds\n",
      "Early stopping, best iteration is:\n",
      "[1454]\ttraining's binary_logloss: 0.408322\tvalid_1's binary_logloss: 0.419092\n",
      "Training until validation scores don't improve for 1000 rounds\n",
      "Early stopping, best iteration is:\n",
      "[1387]\ttraining's binary_logloss: 0.399622\tvalid_1's binary_logloss: 0.457955\n",
      "Training until validation scores don't improve for 1000 rounds\n",
      "Early stopping, best iteration is:\n",
      "[854]\ttraining's binary_logloss: 0.413628\tvalid_1's binary_logloss: 0.440241\n",
      "Training until validation scores don't improve for 1000 rounds\n"
     ]
    },
    {
     "name": "stderr",
     "output_type": "stream",
     "text": [
      "\u001b[32m[I 2021-10-03 20:37:21,552]\u001b[0m Trial 15 finished with value: 0.8125701459034792 and parameters: {'lambda_l1': 8.157714810125515, 'lambda_l2': 0.003944916747584911, 'num_leaves': 29, 'feature_fraction': 0.791026072941561, 'bagging_fraction': 0.4721524233848317, 'bagging_freq': 2, 'min_child_samples': 48, 'max_depth': 5}. Best is trial 9 with value: 0.8417508417508418.\u001b[0m\n"
     ]
    },
    {
     "name": "stdout",
     "output_type": "stream",
     "text": [
      "Early stopping, best iteration is:\n",
      "[1611]\ttraining's binary_logloss: 0.407113\tvalid_1's binary_logloss: 0.405069\n",
      "Training until validation scores don't improve for 1000 rounds\n",
      "Early stopping, best iteration is:\n",
      "[820]\ttraining's binary_logloss: 0.387241\tvalid_1's binary_logloss: 0.391798\n",
      "Training until validation scores don't improve for 1000 rounds\n",
      "Early stopping, best iteration is:\n",
      "[1800]\ttraining's binary_logloss: 0.377442\tvalid_1's binary_logloss: 0.394146\n",
      "Training until validation scores don't improve for 1000 rounds\n",
      "Early stopping, best iteration is:\n",
      "[340]\ttraining's binary_logloss: 0.388986\tvalid_1's binary_logloss: 0.459939\n",
      "Training until validation scores don't improve for 1000 rounds\n",
      "Early stopping, best iteration is:\n",
      "[2372]\ttraining's binary_logloss: 0.363727\tvalid_1's binary_logloss: 0.401841\n",
      "Training until validation scores don't improve for 1000 rounds\n"
     ]
    },
    {
     "name": "stderr",
     "output_type": "stream",
     "text": [
      "\u001b[32m[I 2021-10-03 20:37:23,164]\u001b[0m Trial 16 finished with value: 0.8305274971941639 and parameters: {'lambda_l1': 0.0029121103741576414, 'lambda_l2': 0.1328540398830858, 'num_leaves': 43, 'feature_fraction': 0.83727184841767, 'bagging_fraction': 0.40353356918759653, 'bagging_freq': 4, 'min_child_samples': 67, 'max_depth': 3}. Best is trial 9 with value: 0.8417508417508418.\u001b[0m\n"
     ]
    },
    {
     "name": "stdout",
     "output_type": "stream",
     "text": [
      "Early stopping, best iteration is:\n",
      "[820]\ttraining's binary_logloss: 0.381663\tvalid_1's binary_logloss: 0.412334\n",
      "Training until validation scores don't improve for 1000 rounds\n",
      "Early stopping, best iteration is:\n",
      "[325]\ttraining's binary_logloss: 0.316326\tvalid_1's binary_logloss: 0.3795\n",
      "Training until validation scores don't improve for 1000 rounds\n",
      "Early stopping, best iteration is:\n",
      "[468]\ttraining's binary_logloss: 0.290644\tvalid_1's binary_logloss: 0.370061\n",
      "Training until validation scores don't improve for 1000 rounds\n",
      "Early stopping, best iteration is:\n",
      "[42]\ttraining's binary_logloss: 0.381438\tvalid_1's binary_logloss: 0.450713\n",
      "Training until validation scores don't improve for 1000 rounds\n",
      "Early stopping, best iteration is:\n",
      "[43]\ttraining's binary_logloss: 0.390291\tvalid_1's binary_logloss: 0.405921\n",
      "Training until validation scores don't improve for 1000 rounds\n"
     ]
    },
    {
     "name": "stderr",
     "output_type": "stream",
     "text": [
      "\u001b[32m[I 2021-10-03 20:37:24,870]\u001b[0m Trial 17 finished with value: 0.8305274971941639 and parameters: {'lambda_l1': 0.09599828386303301, 'lambda_l2': 0.00021810349501527802, 'num_leaves': 53, 'feature_fraction': 0.7494871703378176, 'bagging_fraction': 0.5581790084967171, 'bagging_freq': 6, 'min_child_samples': 34, 'max_depth': 4}. Best is trial 9 with value: 0.8417508417508418.\u001b[0m\n"
     ]
    },
    {
     "name": "stdout",
     "output_type": "stream",
     "text": [
      "Early stopping, best iteration is:\n",
      "[677]\ttraining's binary_logloss: 0.267851\tvalid_1's binary_logloss: 0.387923\n",
      "Training until validation scores don't improve for 1000 rounds\n",
      "Early stopping, best iteration is:\n",
      "[174]\ttraining's binary_logloss: 0.410121\tvalid_1's binary_logloss: 0.408295\n",
      "Training until validation scores don't improve for 1000 rounds\n",
      "Early stopping, best iteration is:\n",
      "[1794]\ttraining's binary_logloss: 0.344906\tvalid_1's binary_logloss: 0.401203\n",
      "Training until validation scores don't improve for 1000 rounds\n",
      "Early stopping, best iteration is:\n",
      "[108]\ttraining's binary_logloss: 0.399202\tvalid_1's binary_logloss: 0.464165\n",
      "Training until validation scores don't improve for 1000 rounds\n",
      "Early stopping, best iteration is:\n",
      "[869]\ttraining's binary_logloss: 0.363502\tvalid_1's binary_logloss: 0.418528\n",
      "Training until validation scores don't improve for 1000 rounds\n"
     ]
    },
    {
     "name": "stderr",
     "output_type": "stream",
     "text": [
      "\u001b[32m[I 2021-10-03 20:37:26,765]\u001b[0m Trial 18 finished with value: 0.8204264870931538 and parameters: {'lambda_l1': 1.1742861243832028, 'lambda_l2': 0.015502052743854437, 'num_leaves': 38, 'feature_fraction': 0.868909858457475, 'bagging_fraction': 0.40317539018639004, 'bagging_freq': 4, 'min_child_samples': 52, 'max_depth': 6}. Best is trial 9 with value: 0.8417508417508418.\u001b[0m\n"
     ]
    },
    {
     "name": "stdout",
     "output_type": "stream",
     "text": [
      "Early stopping, best iteration is:\n",
      "[820]\ttraining's binary_logloss: 0.366768\tvalid_1's binary_logloss: 0.412427\n",
      "Training until validation scores don't improve for 1000 rounds\n",
      "Early stopping, best iteration is:\n",
      "[344]\ttraining's binary_logloss: 0.337428\tvalid_1's binary_logloss: 0.384741\n",
      "Training until validation scores don't improve for 1000 rounds\n",
      "Early stopping, best iteration is:\n",
      "[128]\ttraining's binary_logloss: 0.367934\tvalid_1's binary_logloss: 0.383441\n",
      "Training until validation scores don't improve for 1000 rounds\n",
      "Early stopping, best iteration is:\n",
      "[200]\ttraining's binary_logloss: 0.340852\tvalid_1's binary_logloss: 0.45424\n",
      "Training until validation scores don't improve for 1000 rounds\n",
      "Early stopping, best iteration is:\n",
      "[768]\ttraining's binary_logloss: 0.28328\tvalid_1's binary_logloss: 0.399797\n",
      "Training until validation scores don't improve for 1000 rounds\n"
     ]
    },
    {
     "name": "stderr",
     "output_type": "stream",
     "text": [
      "\u001b[32m[I 2021-10-03 20:37:28,502]\u001b[0m Trial 19 finished with value: 0.8406285072951739 and parameters: {'lambda_l1': 0.007001344289749571, 'lambda_l2': 0.0008447876222887345, 'num_leaves': 30, 'feature_fraction': 0.7448294081046718, 'bagging_fraction': 0.4871074620064088, 'bagging_freq': 8, 'min_child_samples': 42, 'max_depth': 7}. Best is trial 9 with value: 0.8417508417508418.\u001b[0m\n"
     ]
    },
    {
     "name": "stdout",
     "output_type": "stream",
     "text": [
      "Early stopping, best iteration is:\n",
      "[832]\ttraining's binary_logloss: 0.291719\tvalid_1's binary_logloss: 0.388995\n",
      "Training until validation scores don't improve for 1000 rounds\n",
      "Early stopping, best iteration is:\n",
      "[417]\ttraining's binary_logloss: 0.315015\tvalid_1's binary_logloss: 0.383361\n",
      "Training until validation scores don't improve for 1000 rounds\n",
      "Early stopping, best iteration is:\n",
      "[645]\ttraining's binary_logloss: 0.285744\tvalid_1's binary_logloss: 0.391311\n",
      "Training until validation scores don't improve for 1000 rounds\n",
      "Early stopping, best iteration is:\n",
      "[107]\ttraining's binary_logloss: 0.350844\tvalid_1's binary_logloss: 0.455885\n",
      "Training until validation scores don't improve for 1000 rounds\n",
      "Early stopping, best iteration is:\n",
      "[61]\ttraining's binary_logloss: 0.383288\tvalid_1's binary_logloss: 0.411363\n",
      "Training until validation scores don't improve for 1000 rounds\n"
     ]
    },
    {
     "name": "stderr",
     "output_type": "stream",
     "text": [
      "\u001b[32m[I 2021-10-03 20:37:30,045]\u001b[0m Trial 20 finished with value: 0.8260381593714927 and parameters: {'lambda_l1': 0.005569215453302094, 'lambda_l2': 1.0648451297984272e-05, 'num_leaves': 15, 'feature_fraction': 0.727351245839204, 'bagging_fraction': 0.5944528052926339, 'bagging_freq': 8, 'min_child_samples': 43, 'max_depth': 4}. Best is trial 9 with value: 0.8417508417508418.\u001b[0m\n"
     ]
    },
    {
     "name": "stdout",
     "output_type": "stream",
     "text": [
      "Early stopping, best iteration is:\n",
      "[791]\ttraining's binary_logloss: 0.276343\tvalid_1's binary_logloss: 0.37808\n",
      "Training until validation scores don't improve for 1000 rounds\n",
      "Early stopping, best iteration is:\n",
      "[386]\ttraining's binary_logloss: 0.294199\tvalid_1's binary_logloss: 0.376308\n",
      "Training until validation scores don't improve for 1000 rounds\n",
      "Early stopping, best iteration is:\n",
      "[143]\ttraining's binary_logloss: 0.336542\tvalid_1's binary_logloss: 0.377998\n",
      "Training until validation scores don't improve for 1000 rounds\n",
      "Early stopping, best iteration is:\n",
      "[56]\ttraining's binary_logloss: 0.363097\tvalid_1's binary_logloss: 0.455024\n",
      "Training until validation scores don't improve for 1000 rounds\n",
      "Early stopping, best iteration is:\n",
      "[65]\ttraining's binary_logloss: 0.365243\tvalid_1's binary_logloss: 0.402316\n",
      "Training until validation scores don't improve for 1000 rounds\n"
     ]
    },
    {
     "name": "stderr",
     "output_type": "stream",
     "text": [
      "\u001b[32m[I 2021-10-03 20:37:31,879]\u001b[0m Trial 21 finished with value: 0.8361391694725028 and parameters: {'lambda_l1': 0.0005283992893942723, 'lambda_l2': 0.0006934347906774394, 'num_leaves': 28, 'feature_fraction': 0.7669628075861178, 'bagging_fraction': 0.49506363142739085, 'bagging_freq': 8, 'min_child_samples': 33, 'max_depth': 7}. Best is trial 9 with value: 0.8417508417508418.\u001b[0m\n"
     ]
    },
    {
     "name": "stdout",
     "output_type": "stream",
     "text": [
      "Early stopping, best iteration is:\n",
      "[831]\ttraining's binary_logloss: 0.242175\tvalid_1's binary_logloss: 0.385258\n",
      "Training until validation scores don't improve for 1000 rounds\n",
      "Early stopping, best iteration is:\n",
      "[387]\ttraining's binary_logloss: 0.302104\tvalid_1's binary_logloss: 0.37858\n",
      "Training until validation scores don't improve for 1000 rounds\n",
      "Early stopping, best iteration is:\n",
      "[83]\ttraining's binary_logloss: 0.360276\tvalid_1's binary_logloss: 0.382159\n",
      "Training until validation scores don't improve for 1000 rounds\n",
      "Early stopping, best iteration is:\n",
      "[152]\ttraining's binary_logloss: 0.320913\tvalid_1's binary_logloss: 0.45308\n",
      "Training until validation scores don't improve for 1000 rounds\n",
      "Early stopping, best iteration is:\n",
      "[102]\ttraining's binary_logloss: 0.347038\tvalid_1's binary_logloss: 0.409157\n",
      "Training until validation scores don't improve for 1000 rounds\n"
     ]
    },
    {
     "name": "stderr",
     "output_type": "stream",
     "text": [
      "\u001b[32m[I 2021-10-03 20:37:33,379]\u001b[0m Trial 22 finished with value: 0.835016835016835 and parameters: {'lambda_l1': 0.0003648994378982162, 'lambda_l2': 0.0005625645831182993, 'num_leaves': 27, 'feature_fraction': 0.7543488959135733, 'bagging_fraction': 0.5029944073393621, 'bagging_freq': 8, 'min_child_samples': 35, 'max_depth': 7}. Best is trial 9 with value: 0.8417508417508418.\u001b[0m\n"
     ]
    },
    {
     "name": "stdout",
     "output_type": "stream",
     "text": [
      "Early stopping, best iteration is:\n",
      "[332]\ttraining's binary_logloss: 0.303124\tvalid_1's binary_logloss: 0.389858\n",
      "Training until validation scores don't improve for 1000 rounds\n",
      "Early stopping, best iteration is:\n",
      "[712]\ttraining's binary_logloss: 0.312491\tvalid_1's binary_logloss: 0.391989\n",
      "Training until validation scores don't improve for 1000 rounds\n",
      "Early stopping, best iteration is:\n",
      "[225]\ttraining's binary_logloss: 0.356626\tvalid_1's binary_logloss: 0.377956\n",
      "Training until validation scores don't improve for 1000 rounds\n",
      "Early stopping, best iteration is:\n",
      "[223]\ttraining's binary_logloss: 0.338845\tvalid_1's binary_logloss: 0.44642\n",
      "Training until validation scores don't improve for 1000 rounds\n",
      "Early stopping, best iteration is:\n",
      "[549]\ttraining's binary_logloss: 0.312206\tvalid_1's binary_logloss: 0.388151\n",
      "Training until validation scores don't improve for 1000 rounds\n"
     ]
    },
    {
     "name": "stderr",
     "output_type": "stream",
     "text": [
      "\u001b[32m[I 2021-10-03 20:37:35,523]\u001b[0m Trial 23 finished with value: 0.8215488215488216 and parameters: {'lambda_l1': 0.012181817777958648, 'lambda_l2': 5.87488938331766e-05, 'num_leaves': 31, 'feature_fraction': 0.8189970361054069, 'bagging_fraction': 0.43619900718173626, 'bagging_freq': 9, 'min_child_samples': 42, 'max_depth': 5}. Best is trial 9 with value: 0.8417508417508418.\u001b[0m\n"
     ]
    },
    {
     "name": "stdout",
     "output_type": "stream",
     "text": [
      "Early stopping, best iteration is:\n",
      "[1012]\ttraining's binary_logloss: 0.288988\tvalid_1's binary_logloss: 0.391664\n",
      "Training until validation scores don't improve for 1000 rounds\n",
      "Early stopping, best iteration is:\n",
      "[423]\ttraining's binary_logloss: 0.327714\tvalid_1's binary_logloss: 0.379594\n",
      "Training until validation scores don't improve for 1000 rounds\n",
      "Early stopping, best iteration is:\n",
      "[618]\ttraining's binary_logloss: 0.302664\tvalid_1's binary_logloss: 0.378748\n",
      "Training until validation scores don't improve for 1000 rounds\n",
      "Early stopping, best iteration is:\n",
      "[215]\ttraining's binary_logloss: 0.331916\tvalid_1's binary_logloss: 0.45158\n",
      "Training until validation scores don't improve for 1000 rounds\n",
      "Early stopping, best iteration is:\n",
      "[453]\ttraining's binary_logloss: 0.313402\tvalid_1's binary_logloss: 0.403733\n",
      "Training until validation scores don't improve for 1000 rounds\n"
     ]
    },
    {
     "name": "stderr",
     "output_type": "stream",
     "text": [
      "\u001b[32m[I 2021-10-03 20:37:37,142]\u001b[0m Trial 24 finished with value: 0.8294051627384961 and parameters: {'lambda_l1': 0.0007402109483202467, 'lambda_l2': 0.000130313637332045, 'num_leaves': 17, 'feature_fraction': 0.6672261736879647, 'bagging_fraction': 0.5776059561193819, 'bagging_freq': 8, 'min_child_samples': 50, 'max_depth': 7}. Best is trial 9 with value: 0.8417508417508418.\u001b[0m\n"
     ]
    },
    {
     "name": "stdout",
     "output_type": "stream",
     "text": [
      "Early stopping, best iteration is:\n",
      "[775]\ttraining's binary_logloss: 0.290995\tvalid_1's binary_logloss: 0.384102\n",
      "Training until validation scores don't improve for 1000 rounds\n",
      "Early stopping, best iteration is:\n",
      "[553]\ttraining's binary_logloss: 0.285596\tvalid_1's binary_logloss: 0.375074\n",
      "Training until validation scores don't improve for 1000 rounds\n",
      "Early stopping, best iteration is:\n",
      "[244]\ttraining's binary_logloss: 0.320761\tvalid_1's binary_logloss: 0.386018\n",
      "Training until validation scores don't improve for 1000 rounds\n",
      "Early stopping, best iteration is:\n",
      "[101]\ttraining's binary_logloss: 0.336871\tvalid_1's binary_logloss: 0.453787\n",
      "Training until validation scores don't improve for 1000 rounds\n",
      "Early stopping, best iteration is:\n",
      "[69]\ttraining's binary_logloss: 0.363793\tvalid_1's binary_logloss: 0.408299\n",
      "Training until validation scores don't improve for 1000 rounds\n"
     ]
    },
    {
     "name": "stderr",
     "output_type": "stream",
     "text": [
      "\u001b[32m[I 2021-10-03 20:37:38,683]\u001b[0m Trial 25 finished with value: 0.8249158249158249 and parameters: {'lambda_l1': 3.146216744972127e-05, 'lambda_l2': 0.0009258692825177507, 'num_leaves': 8, 'feature_fraction': 0.7444640362104991, 'bagging_fraction': 0.49878502370138184, 'bagging_freq': 7, 'min_child_samples': 33, 'max_depth': 7}. Best is trial 9 with value: 0.8417508417508418.\u001b[0m\n"
     ]
    },
    {
     "name": "stdout",
     "output_type": "stream",
     "text": [
      "Early stopping, best iteration is:\n",
      "[161]\ttraining's binary_logloss: 0.336617\tvalid_1's binary_logloss: 0.4027\n",
      "Training until validation scores don't improve for 1000 rounds\n",
      "Early stopping, best iteration is:\n",
      "[341]\ttraining's binary_logloss: 0.352784\tvalid_1's binary_logloss: 0.389542\n",
      "Training until validation scores don't improve for 1000 rounds\n",
      "Early stopping, best iteration is:\n",
      "[686]\ttraining's binary_logloss: 0.322791\tvalid_1's binary_logloss: 0.39138\n",
      "Training until validation scores don't improve for 1000 rounds\n",
      "Early stopping, best iteration is:\n",
      "[242]\ttraining's binary_logloss: 0.341263\tvalid_1's binary_logloss: 0.454646\n",
      "Training until validation scores don't improve for 1000 rounds\n",
      "Early stopping, best iteration is:\n",
      "[756]\ttraining's binary_logloss: 0.312712\tvalid_1's binary_logloss: 0.405105\n",
      "Training until validation scores don't improve for 1000 rounds\n"
     ]
    },
    {
     "name": "stderr",
     "output_type": "stream",
     "text": [
      "\u001b[32m[I 2021-10-03 20:37:40,672]\u001b[0m Trial 26 finished with value: 0.8383838383838383 and parameters: {'lambda_l1': 0.0002080011890001976, 'lambda_l2': 0.006673662080210827, 'num_leaves': 19, 'feature_fraction': 0.7694019490818759, 'bagging_fraction': 0.4994407452388627, 'bagging_freq': 9, 'min_child_samples': 45, 'max_depth': 3}. Best is trial 9 with value: 0.8417508417508418.\u001b[0m\n"
     ]
    },
    {
     "name": "stdout",
     "output_type": "stream",
     "text": [
      "Early stopping, best iteration is:\n",
      "[2517]\ttraining's binary_logloss: 0.255172\tvalid_1's binary_logloss: 0.380298\n",
      "Training until validation scores don't improve for 1000 rounds\n",
      "Early stopping, best iteration is:\n",
      "[1125]\ttraining's binary_logloss: 0.295862\tvalid_1's binary_logloss: 0.382559\n",
      "Training until validation scores don't improve for 1000 rounds\n",
      "Early stopping, best iteration is:\n",
      "[233]\ttraining's binary_logloss: 0.354485\tvalid_1's binary_logloss: 0.395154\n",
      "Training until validation scores don't improve for 1000 rounds\n",
      "Early stopping, best iteration is:\n",
      "[62]\ttraining's binary_logloss: 0.376693\tvalid_1's binary_logloss: 0.449477\n",
      "Training until validation scores don't improve for 1000 rounds\n",
      "Early stopping, best iteration is:\n",
      "[116]\ttraining's binary_logloss: 0.377813\tvalid_1's binary_logloss: 0.41393\n",
      "Training until validation scores don't improve for 1000 rounds\n"
     ]
    },
    {
     "name": "stderr",
     "output_type": "stream",
     "text": [
      "\u001b[32m[I 2021-10-03 20:37:42,530]\u001b[0m Trial 27 finished with value: 0.8338945005611672 and parameters: {'lambda_l1': 1.2390821571391198e-05, 'lambda_l2': 0.005298148960926647, 'num_leaves': 19, 'feature_fraction': 0.85415950404977, 'bagging_fraction': 0.6675998802599569, 'bagging_freq': 9, 'min_child_samples': 54, 'max_depth': 3}. Best is trial 9 with value: 0.8417508417508418.\u001b[0m\n"
     ]
    },
    {
     "name": "stdout",
     "output_type": "stream",
     "text": [
      "Early stopping, best iteration is:\n",
      "[1804]\ttraining's binary_logloss: 0.26018\tvalid_1's binary_logloss: 0.388009\n",
      "Training until validation scores don't improve for 1000 rounds\n",
      "Early stopping, best iteration is:\n",
      "[179]\ttraining's binary_logloss: 0.387974\tvalid_1's binary_logloss: 0.39515\n",
      "Training until validation scores don't improve for 1000 rounds\n",
      "Early stopping, best iteration is:\n",
      "[175]\ttraining's binary_logloss: 0.384433\tvalid_1's binary_logloss: 0.392029\n",
      "Training until validation scores don't improve for 1000 rounds\n",
      "Early stopping, best iteration is:\n",
      "[123]\ttraining's binary_logloss: 0.374013\tvalid_1's binary_logloss: 0.457863\n",
      "Training until validation scores don't improve for 1000 rounds\n",
      "Early stopping, best iteration is:\n",
      "[119]\ttraining's binary_logloss: 0.384668\tvalid_1's binary_logloss: 0.415384\n",
      "Training until validation scores don't improve for 1000 rounds\n"
     ]
    },
    {
     "name": "stderr",
     "output_type": "stream",
     "text": [
      "\u001b[32m[I 2021-10-03 20:37:43,774]\u001b[0m Trial 28 finished with value: 0.8305274971941639 and parameters: {'lambda_l1': 0.00011450893993395671, 'lambda_l2': 0.009926018810640674, 'num_leaves': 5, 'feature_fraction': 0.8990257469890248, 'bagging_fraction': 0.5161857644920892, 'bagging_freq': 9, 'min_child_samples': 44, 'max_depth': 2}. Best is trial 9 with value: 0.8417508417508418.\u001b[0m\n"
     ]
    },
    {
     "name": "stdout",
     "output_type": "stream",
     "text": [
      "Early stopping, best iteration is:\n",
      "[1691]\ttraining's binary_logloss: 0.325948\tvalid_1's binary_logloss: 0.385652\n",
      "Training until validation scores don't improve for 1000 rounds\n",
      "Early stopping, best iteration is:\n",
      "[257]\ttraining's binary_logloss: 0.379718\tvalid_1's binary_logloss: 0.39877\n",
      "Training until validation scores don't improve for 1000 rounds\n",
      "Early stopping, best iteration is:\n",
      "[634]\ttraining's binary_logloss: 0.359268\tvalid_1's binary_logloss: 0.394538\n",
      "Training until validation scores don't improve for 1000 rounds\n",
      "Early stopping, best iteration is:\n",
      "[140]\ttraining's binary_logloss: 0.372041\tvalid_1's binary_logloss: 0.449324\n",
      "Training until validation scores don't improve for 1000 rounds\n",
      "Early stopping, best iteration is:\n",
      "[1054]\ttraining's binary_logloss: 0.337559\tvalid_1's binary_logloss: 0.404838\n",
      "Training until validation scores don't improve for 1000 rounds\n"
     ]
    },
    {
     "name": "stderr",
     "output_type": "stream",
     "text": [
      "\u001b[32m[I 2021-10-03 20:37:45,238]\u001b[0m Trial 29 finished with value: 0.8282828282828283 and parameters: {'lambda_l1': 0.017216475175481673, 'lambda_l2': 2.5691879316556107e-05, 'num_leaves': 35, 'feature_fraction': 0.639508770636222, 'bagging_fraction': 0.6045370872863601, 'bagging_freq': 6, 'min_child_samples': 51, 'max_depth': 2}. Best is trial 9 with value: 0.8417508417508418.\u001b[0m\n"
     ]
    },
    {
     "name": "stdout",
     "output_type": "stream",
     "text": [
      "Early stopping, best iteration is:\n",
      "[600]\ttraining's binary_logloss: 0.354326\tvalid_1's binary_logloss: 0.402114\n",
      "Training until validation scores don't improve for 1000 rounds\n",
      "Early stopping, best iteration is:\n",
      "[632]\ttraining's binary_logloss: 0.333123\tvalid_1's binary_logloss: 0.396229\n",
      "Training until validation scores don't improve for 1000 rounds\n",
      "Early stopping, best iteration is:\n",
      "[715]\ttraining's binary_logloss: 0.326998\tvalid_1's binary_logloss: 0.391894\n",
      "Training until validation scores don't improve for 1000 rounds\n",
      "Early stopping, best iteration is:\n",
      "[216]\ttraining's binary_logloss: 0.351812\tvalid_1's binary_logloss: 0.447647\n",
      "Training until validation scores don't improve for 1000 rounds\n",
      "Early stopping, best iteration is:\n",
      "[671]\ttraining's binary_logloss: 0.326911\tvalid_1's binary_logloss: 0.404048\n",
      "Training until validation scores don't improve for 1000 rounds\n"
     ]
    },
    {
     "name": "stderr",
     "output_type": "stream",
     "text": [
      "\u001b[32m[I 2021-10-03 20:37:47,054]\u001b[0m Trial 30 finished with value: 0.8316498316498316 and parameters: {'lambda_l1': 0.00175956629102627, 'lambda_l2': 0.5835681376191585, 'num_leaves': 39, 'feature_fraction': 0.7019286922999168, 'bagging_fraction': 0.6339302892169304, 'bagging_freq': 8, 'min_child_samples': 59, 'max_depth': 3}. Best is trial 9 with value: 0.8417508417508418.\u001b[0m\n"
     ]
    },
    {
     "name": "stdout",
     "output_type": "stream",
     "text": [
      "Early stopping, best iteration is:\n",
      "[1504]\ttraining's binary_logloss: 0.293323\tvalid_1's binary_logloss: 0.380941\n",
      "Training until validation scores don't improve for 1000 rounds\n",
      "Early stopping, best iteration is:\n",
      "[155]\ttraining's binary_logloss: 0.360863\tvalid_1's binary_logloss: 0.38396\n",
      "Training until validation scores don't improve for 1000 rounds\n",
      "Early stopping, best iteration is:\n",
      "[520]\ttraining's binary_logloss: 0.313926\tvalid_1's binary_logloss: 0.380588\n",
      "Training until validation scores don't improve for 1000 rounds\n",
      "Early stopping, best iteration is:\n",
      "[125]\ttraining's binary_logloss: 0.356022\tvalid_1's binary_logloss: 0.440567\n",
      "Training until validation scores don't improve for 1000 rounds\n",
      "Early stopping, best iteration is:\n",
      "[484]\ttraining's binary_logloss: 0.31087\tvalid_1's binary_logloss: 0.382933\n",
      "Training until validation scores don't improve for 1000 rounds\n"
     ]
    },
    {
     "name": "stderr",
     "output_type": "stream",
     "text": [
      "\u001b[32m[I 2021-10-03 20:37:48,615]\u001b[0m Trial 31 finished with value: 0.835016835016835 and parameters: {'lambda_l1': 0.08468751891515712, 'lambda_l2': 0.03986149935020811, 'num_leaves': 31, 'feature_fraction': 0.8228217602013549, 'bagging_fraction': 0.4517065906902966, 'bagging_freq': 5, 'min_child_samples': 38, 'max_depth': 4}. Best is trial 9 with value: 0.8417508417508418.\u001b[0m\n"
     ]
    },
    {
     "name": "stdout",
     "output_type": "stream",
     "text": [
      "Early stopping, best iteration is:\n",
      "[940]\ttraining's binary_logloss: 0.286963\tvalid_1's binary_logloss: 0.385923\n",
      "Training until validation scores don't improve for 1000 rounds\n",
      "Early stopping, best iteration is:\n",
      "[413]\ttraining's binary_logloss: 0.327248\tvalid_1's binary_logloss: 0.393414\n",
      "Training until validation scores don't improve for 1000 rounds\n",
      "Early stopping, best iteration is:\n",
      "[246]\ttraining's binary_logloss: 0.347372\tvalid_1's binary_logloss: 0.373561\n",
      "Training until validation scores don't improve for 1000 rounds\n",
      "Early stopping, best iteration is:\n",
      "[102]\ttraining's binary_logloss: 0.355221\tvalid_1's binary_logloss: 0.448138\n",
      "Training until validation scores don't improve for 1000 rounds\n",
      "Early stopping, best iteration is:\n",
      "[88]\ttraining's binary_logloss: 0.370751\tvalid_1's binary_logloss: 0.409977\n",
      "Training until validation scores don't improve for 1000 rounds\n"
     ]
    },
    {
     "name": "stderr",
     "output_type": "stream",
     "text": [
      "\u001b[32m[I 2021-10-03 20:37:49,958]\u001b[0m Trial 32 finished with value: 0.819304152637486 and parameters: {'lambda_l1': 0.00020591642501019378, 'lambda_l2': 0.006268704084198088, 'num_leaves': 26, 'feature_fraction': 0.7702294406938835, 'bagging_fraction': 0.48983895508990716, 'bagging_freq': 7, 'min_child_samples': 33, 'max_depth': 3}. Best is trial 9 with value: 0.8417508417508418.\u001b[0m\n"
     ]
    },
    {
     "name": "stdout",
     "output_type": "stream",
     "text": [
      "Early stopping, best iteration is:\n",
      "[791]\ttraining's binary_logloss: 0.288963\tvalid_1's binary_logloss: 0.391751\n",
      "Training until validation scores don't improve for 1000 rounds\n",
      "Early stopping, best iteration is:\n",
      "[937]\ttraining's binary_logloss: 0.290117\tvalid_1's binary_logloss: 0.384828\n",
      "Training until validation scores don't improve for 1000 rounds\n",
      "Early stopping, best iteration is:\n",
      "[618]\ttraining's binary_logloss: 0.303011\tvalid_1's binary_logloss: 0.384627\n",
      "Training until validation scores don't improve for 1000 rounds\n",
      "Early stopping, best iteration is:\n",
      "[110]\ttraining's binary_logloss: 0.354902\tvalid_1's binary_logloss: 0.448368\n",
      "Training until validation scores don't improve for 1000 rounds\n",
      "Early stopping, best iteration is:\n",
      "[207]\ttraining's binary_logloss: 0.340488\tvalid_1's binary_logloss: 0.398545\n",
      "Training until validation scores don't improve for 1000 rounds\n"
     ]
    },
    {
     "name": "stderr",
     "output_type": "stream",
     "text": [
      "\u001b[32m[I 2021-10-03 20:37:51,867]\u001b[0m Trial 33 finished with value: 0.8372615039281706 and parameters: {'lambda_l1': 0.001110842498836259, 'lambda_l2': 0.0017366174031205842, 'num_leaves': 20, 'feature_fraction': 0.6382554840325312, 'bagging_fraction': 0.5647762501351914, 'bagging_freq': 8, 'min_child_samples': 43, 'max_depth': 4}. Best is trial 9 with value: 0.8417508417508418.\u001b[0m\n"
     ]
    },
    {
     "name": "stdout",
     "output_type": "stream",
     "text": [
      "Early stopping, best iteration is:\n",
      "[880]\ttraining's binary_logloss: 0.285887\tvalid_1's binary_logloss: 0.378705\n",
      "Training until validation scores don't improve for 1000 rounds\n",
      "Early stopping, best iteration is:\n",
      "[1609]\ttraining's binary_logloss: 0.274239\tvalid_1's binary_logloss: 0.382719\n",
      "Training until validation scores don't improve for 1000 rounds\n",
      "Early stopping, best iteration is:\n",
      "[700]\ttraining's binary_logloss: 0.309159\tvalid_1's binary_logloss: 0.380429\n",
      "Training until validation scores don't improve for 1000 rounds\n",
      "Early stopping, best iteration is:\n",
      "[66]\ttraining's binary_logloss: 0.376926\tvalid_1's binary_logloss: 0.448073\n",
      "Training until validation scores don't improve for 1000 rounds\n",
      "Early stopping, best iteration is:\n",
      "[117]\ttraining's binary_logloss: 0.373203\tvalid_1's binary_logloss: 0.405734\n",
      "Training until validation scores don't improve for 1000 rounds\n"
     ]
    },
    {
     "name": "stderr",
     "output_type": "stream",
     "text": [
      "\u001b[32m[I 2021-10-03 20:37:54,023]\u001b[0m Trial 34 finished with value: 0.8282828282828283 and parameters: {'lambda_l1': 0.0016019095736255157, 'lambda_l2': 0.0023986821694894924, 'num_leaves': 21, 'feature_fraction': 0.5370958713956976, 'bagging_fraction': 0.5588058511742746, 'bagging_freq': 9, 'min_child_samples': 44, 'max_depth': 4}. Best is trial 9 with value: 0.8417508417508418.\u001b[0m\n"
     ]
    },
    {
     "name": "stdout",
     "output_type": "stream",
     "text": [
      "Early stopping, best iteration is:\n",
      "[1001]\ttraining's binary_logloss: 0.294296\tvalid_1's binary_logloss: 0.384318\n",
      "Training until validation scores don't improve for 1000 rounds\n",
      "Early stopping, best iteration is:\n",
      "[959]\ttraining's binary_logloss: 0.281319\tvalid_1's binary_logloss: 0.379656\n",
      "Training until validation scores don't improve for 1000 rounds\n",
      "Early stopping, best iteration is:\n",
      "[561]\ttraining's binary_logloss: 0.297662\tvalid_1's binary_logloss: 0.382973\n",
      "Training until validation scores don't improve for 1000 rounds\n",
      "Early stopping, best iteration is:\n",
      "[100]\ttraining's binary_logloss: 0.350234\tvalid_1's binary_logloss: 0.446243\n",
      "Training until validation scores don't improve for 1000 rounds\n",
      "Early stopping, best iteration is:\n",
      "[66]\ttraining's binary_logloss: 0.381441\tvalid_1's binary_logloss: 0.408277\n",
      "Training until validation scores don't improve for 1000 rounds\n"
     ]
    },
    {
     "name": "stderr",
     "output_type": "stream",
     "text": [
      "\u001b[32m[I 2021-10-03 20:37:56,611]\u001b[0m Trial 35 finished with value: 0.8282828282828283 and parameters: {'lambda_l1': 5.3263614706807755e-05, 'lambda_l2': 0.07002408062801638, 'num_leaves': 10, 'feature_fraction': 0.6265702515141061, 'bagging_fraction': 0.5740941449898576, 'bagging_freq': 7, 'min_child_samples': 40, 'max_depth': 4}. Best is trial 9 with value: 0.8417508417508418.\u001b[0m\n"
     ]
    },
    {
     "name": "stdout",
     "output_type": "stream",
     "text": [
      "Early stopping, best iteration is:\n",
      "[806]\ttraining's binary_logloss: 0.275417\tvalid_1's binary_logloss: 0.387663\n",
      "Training until validation scores don't improve for 1000 rounds\n",
      "Early stopping, best iteration is:\n",
      "[1699]\ttraining's binary_logloss: 0.358412\tvalid_1's binary_logloss: 0.401092\n",
      "Training until validation scores don't improve for 1000 rounds\n",
      "Early stopping, best iteration is:\n",
      "[747]\ttraining's binary_logloss: 0.373012\tvalid_1's binary_logloss: 0.390072\n",
      "Training until validation scores don't improve for 1000 rounds\n",
      "Early stopping, best iteration is:\n",
      "[495]\ttraining's binary_logloss: 0.363882\tvalid_1's binary_logloss: 0.463613\n",
      "Training until validation scores don't improve for 1000 rounds\n",
      "Early stopping, best iteration is:\n",
      "[1732]\ttraining's binary_logloss: 0.340225\tvalid_1's binary_logloss: 0.410623\n",
      "Training until validation scores don't improve for 1000 rounds\n"
     ]
    },
    {
     "name": "stderr",
     "output_type": "stream",
     "text": [
      "\u001b[32m[I 2021-10-03 20:37:59,083]\u001b[0m Trial 36 finished with value: 0.8237934904601572 and parameters: {'lambda_l1': 0.0011954091321602113, 'lambda_l2': 0.00023670547960493035, 'num_leaves': 14, 'feature_fraction': 0.5400442726005356, 'bagging_fraction': 0.42723996100223993, 'bagging_freq': 8, 'min_child_samples': 58, 'max_depth': 4}. Best is trial 9 with value: 0.8417508417508418.\u001b[0m\n"
     ]
    },
    {
     "name": "stdout",
     "output_type": "stream",
     "text": [
      "Early stopping, best iteration is:\n",
      "[200]\ttraining's binary_logloss: 0.407399\tvalid_1's binary_logloss: 0.425119\n",
      "Training until validation scores don't improve for 1000 rounds\n",
      "Early stopping, best iteration is:\n",
      "[204]\ttraining's binary_logloss: 0.40406\tvalid_1's binary_logloss: 0.406827\n",
      "Training until validation scores don't improve for 1000 rounds\n",
      "Early stopping, best iteration is:\n",
      "[1750]\ttraining's binary_logloss: 0.344079\tvalid_1's binary_logloss: 0.387657\n",
      "Training until validation scores don't improve for 1000 rounds\n",
      "Early stopping, best iteration is:\n",
      "[180]\ttraining's binary_logloss: 0.393184\tvalid_1's binary_logloss: 0.46857\n",
      "Training until validation scores don't improve for 1000 rounds\n",
      "Early stopping, best iteration is:\n",
      "[866]\ttraining's binary_logloss: 0.359722\tvalid_1's binary_logloss: 0.408142\n",
      "Training until validation scores don't improve for 1000 rounds\n"
     ]
    },
    {
     "name": "stderr",
     "output_type": "stream",
     "text": [
      "\u001b[32m[I 2021-10-03 20:38:00,459]\u001b[0m Trial 37 finished with value: 0.8226711560044894 and parameters: {'lambda_l1': 0.0049080319591265215, 'lambda_l2': 0.01909394120873576, 'num_leaves': 19, 'feature_fraction': 0.6746710719813024, 'bagging_fraction': 0.4710702245670532, 'bagging_freq': 9, 'min_child_samples': 65, 'max_depth': 3}. Best is trial 9 with value: 0.8417508417508418.\u001b[0m\n"
     ]
    },
    {
     "name": "stdout",
     "output_type": "stream",
     "text": [
      "Early stopping, best iteration is:\n",
      "[273]\ttraining's binary_logloss: 0.393572\tvalid_1's binary_logloss: 0.417557\n",
      "Training until validation scores don't improve for 1000 rounds\n",
      "Early stopping, best iteration is:\n",
      "[334]\ttraining's binary_logloss: 0.310615\tvalid_1's binary_logloss: 0.387281\n",
      "Training until validation scores don't improve for 1000 rounds\n",
      "Early stopping, best iteration is:\n",
      "[282]\ttraining's binary_logloss: 0.314666\tvalid_1's binary_logloss: 0.378691\n",
      "Training until validation scores don't improve for 1000 rounds\n",
      "Early stopping, best iteration is:\n",
      "[62]\ttraining's binary_logloss: 0.359904\tvalid_1's binary_logloss: 0.452099\n",
      "Training until validation scores don't improve for 1000 rounds\n",
      "Early stopping, best iteration is:\n",
      "[118]\ttraining's binary_logloss: 0.343443\tvalid_1's binary_logloss: 0.41021\n",
      "Training until validation scores don't improve for 1000 rounds\n"
     ]
    },
    {
     "name": "stderr",
     "output_type": "stream",
     "text": [
      "\u001b[32m[I 2021-10-03 20:38:02,004]\u001b[0m Trial 38 finished with value: 0.8226711560044894 and parameters: {'lambda_l1': 0.024825077109061924, 'lambda_l2': 0.0014798906684849106, 'num_leaves': 24, 'feature_fraction': 0.7252147021277776, 'bagging_fraction': 0.7293173924141712, 'bagging_freq': 9, 'min_child_samples': 48, 'max_depth': 5}. Best is trial 9 with value: 0.8417508417508418.\u001b[0m\n"
     ]
    },
    {
     "name": "stdout",
     "output_type": "stream",
     "text": [
      "Early stopping, best iteration is:\n",
      "[809]\ttraining's binary_logloss: 0.247623\tvalid_1's binary_logloss: 0.377803\n",
      "Training until validation scores don't improve for 1000 rounds\n",
      "Early stopping, best iteration is:\n",
      "[286]\ttraining's binary_logloss: 0.324114\tvalid_1's binary_logloss: 0.372489\n",
      "Training until validation scores don't improve for 1000 rounds\n",
      "Early stopping, best iteration is:\n",
      "[186]\ttraining's binary_logloss: 0.338085\tvalid_1's binary_logloss: 0.383743\n",
      "Training until validation scores don't improve for 1000 rounds\n",
      "Early stopping, best iteration is:\n",
      "[65]\ttraining's binary_logloss: 0.361143\tvalid_1's binary_logloss: 0.454939\n",
      "Training until validation scores don't improve for 1000 rounds\n",
      "Early stopping, best iteration is:\n",
      "[104]\ttraining's binary_logloss: 0.35712\tvalid_1's binary_logloss: 0.413044\n",
      "Training until validation scores don't improve for 1000 rounds\n"
     ]
    },
    {
     "name": "stderr",
     "output_type": "stream",
     "text": [
      "\u001b[32m[I 2021-10-03 20:38:04,159]\u001b[0m Trial 39 finished with value: 0.8282828282828283 and parameters: {'lambda_l1': 0.0001393812294040871, 'lambda_l2': 0.01047895246354755, 'num_leaves': 62, 'feature_fraction': 0.6126072866789654, 'bagging_fraction': 0.6287752163048084, 'bagging_freq': 8, 'min_child_samples': 37, 'max_depth': 4}. Best is trial 9 with value: 0.8417508417508418.\u001b[0m\n"
     ]
    },
    {
     "name": "stdout",
     "output_type": "stream",
     "text": [
      "Early stopping, best iteration is:\n",
      "[718]\ttraining's binary_logloss: 0.2635\tvalid_1's binary_logloss: 0.392907\n",
      "Training until validation scores don't improve for 1000 rounds\n",
      "Early stopping, best iteration is:\n",
      "[87]\ttraining's binary_logloss: 0.379877\tvalid_1's binary_logloss: 0.388857\n",
      "Training until validation scores don't improve for 1000 rounds\n",
      "Early stopping, best iteration is:\n",
      "[236]\ttraining's binary_logloss: 0.346904\tvalid_1's binary_logloss: 0.383505\n",
      "Training until validation scores don't improve for 1000 rounds\n",
      "Early stopping, best iteration is:\n",
      "[47]\ttraining's binary_logloss: 0.384457\tvalid_1's binary_logloss: 0.448084\n",
      "Training until validation scores don't improve for 1000 rounds\n",
      "Early stopping, best iteration is:\n",
      "[69]\ttraining's binary_logloss: 0.380639\tvalid_1's binary_logloss: 0.415304\n",
      "Training until validation scores don't improve for 1000 rounds\n"
     ]
    },
    {
     "name": "stderr",
     "output_type": "stream",
     "text": [
      "\u001b[32m[I 2021-10-03 20:38:05,573]\u001b[0m Trial 40 finished with value: 0.8282828282828283 and parameters: {'lambda_l1': 0.007394379126233399, 'lambda_l2': 0.0003198227937818061, 'num_leaves': 12, 'feature_fraction': 0.4745048825926135, 'bagging_fraction': 0.7714307587124153, 'bagging_freq': 7, 'min_child_samples': 43, 'max_depth': 3}. Best is trial 9 with value: 0.8417508417508418.\u001b[0m\n"
     ]
    },
    {
     "name": "stdout",
     "output_type": "stream",
     "text": [
      "Early stopping, best iteration is:\n",
      "[181]\ttraining's binary_logloss: 0.355455\tvalid_1's binary_logloss: 0.39891\n",
      "Training until validation scores don't improve for 1000 rounds\n",
      "Early stopping, best iteration is:\n",
      "[256]\ttraining's binary_logloss: 0.414635\tvalid_1's binary_logloss: 0.409744\n",
      "Training until validation scores don't improve for 1000 rounds\n",
      "Early stopping, best iteration is:\n",
      "[235]\ttraining's binary_logloss: 0.413635\tvalid_1's binary_logloss: 0.421897\n",
      "Training until validation scores don't improve for 1000 rounds\n",
      "Early stopping, best iteration is:\n",
      "[560]\ttraining's binary_logloss: 0.388209\tvalid_1's binary_logloss: 0.452102\n",
      "Training until validation scores don't improve for 1000 rounds\n",
      "Early stopping, best iteration is:\n",
      "[615]\ttraining's binary_logloss: 0.391705\tvalid_1's binary_logloss: 0.420525\n",
      "Training until validation scores don't improve for 1000 rounds\n"
     ]
    },
    {
     "name": "stderr",
     "output_type": "stream",
     "text": [
      "\u001b[32m[I 2021-10-03 20:38:06,682]\u001b[0m Trial 41 finished with value: 0.819304152637486 and parameters: {'lambda_l1': 4.94918140021086, 'lambda_l2': 0.07194707114471045, 'num_leaves': 33, 'feature_fraction': 0.5875639742435919, 'bagging_fraction': 0.4607434362379673, 'bagging_freq': 3, 'min_child_samples': 41, 'max_depth': 6}. Best is trial 9 with value: 0.8417508417508418.\u001b[0m\n"
     ]
    },
    {
     "name": "stdout",
     "output_type": "stream",
     "text": [
      "Early stopping, best iteration is:\n",
      "[533]\ttraining's binary_logloss: 0.396922\tvalid_1's binary_logloss: 0.406316\n",
      "Training until validation scores don't improve for 1000 rounds\n",
      "Early stopping, best iteration is:\n",
      "[735]\ttraining's binary_logloss: 0.310579\tvalid_1's binary_logloss: 0.382409\n",
      "Training until validation scores don't improve for 1000 rounds\n",
      "Early stopping, best iteration is:\n",
      "[391]\ttraining's binary_logloss: 0.335238\tvalid_1's binary_logloss: 0.382127\n",
      "Training until validation scores don't improve for 1000 rounds\n",
      "Early stopping, best iteration is:\n",
      "[127]\ttraining's binary_logloss: 0.350201\tvalid_1's binary_logloss: 0.452004\n",
      "Training until validation scores don't improve for 1000 rounds\n",
      "Early stopping, best iteration is:\n",
      "[133]\ttraining's binary_logloss: 0.362109\tvalid_1's binary_logloss: 0.413688\n",
      "Training until validation scores don't improve for 1000 rounds\n"
     ]
    },
    {
     "name": "stderr",
     "output_type": "stream",
     "text": [
      "\u001b[32m[I 2021-10-03 20:38:08,279]\u001b[0m Trial 42 finished with value: 0.8361391694725028 and parameters: {'lambda_l1': 1.0047390542204473, 'lambda_l2': 0.03853853927806746, 'num_leaves': 25, 'feature_fraction': 0.7961580374050399, 'bagging_fraction': 0.5295156131711704, 'bagging_freq': 5, 'min_child_samples': 39, 'max_depth': 5}. Best is trial 9 with value: 0.8417508417508418.\u001b[0m\n"
     ]
    },
    {
     "name": "stdout",
     "output_type": "stream",
     "text": [
      "Early stopping, best iteration is:\n",
      "[940]\ttraining's binary_logloss: 0.292718\tvalid_1's binary_logloss: 0.37252\n",
      "Training until validation scores don't improve for 1000 rounds\n",
      "Early stopping, best iteration is:\n",
      "[382]\ttraining's binary_logloss: 0.311985\tvalid_1's binary_logloss: 0.375005\n",
      "Training until validation scores don't improve for 1000 rounds\n",
      "Early stopping, best iteration is:\n",
      "[109]\ttraining's binary_logloss: 0.359013\tvalid_1's binary_logloss: 0.390156\n",
      "Training until validation scores don't improve for 1000 rounds\n",
      "Early stopping, best iteration is:\n",
      "[202]\ttraining's binary_logloss: 0.319296\tvalid_1's binary_logloss: 0.457413\n",
      "Training until validation scores don't improve for 1000 rounds\n",
      "Early stopping, best iteration is:\n",
      "[103]\ttraining's binary_logloss: 0.354907\tvalid_1's binary_logloss: 0.410823\n",
      "Training until validation scores don't improve for 1000 rounds\n"
     ]
    },
    {
     "name": "stderr",
     "output_type": "stream",
     "text": [
      "\u001b[32m[I 2021-10-03 20:38:09,982]\u001b[0m Trial 43 finished with value: 0.8383838383838383 and parameters: {'lambda_l1': 0.00034159277572968035, 'lambda_l2': 0.0009419684115761955, 'num_leaves': 28, 'feature_fraction': 0.7739064986358923, 'bagging_fraction': 0.4861148711983148, 'bagging_freq': 8, 'min_child_samples': 37, 'max_depth': 7}. Best is trial 9 with value: 0.8417508417508418.\u001b[0m\n"
     ]
    },
    {
     "name": "stdout",
     "output_type": "stream",
     "text": [
      "Early stopping, best iteration is:\n",
      "[832]\ttraining's binary_logloss: 0.264015\tvalid_1's binary_logloss: 0.385099\n",
      "Training until validation scores don't improve for 1000 rounds\n",
      "Early stopping, best iteration is:\n",
      "[304]\ttraining's binary_logloss: 0.371291\tvalid_1's binary_logloss: 0.390994\n",
      "Training until validation scores don't improve for 1000 rounds\n",
      "Early stopping, best iteration is:\n",
      "[624]\ttraining's binary_logloss: 0.349066\tvalid_1's binary_logloss: 0.383897\n",
      "Training until validation scores don't improve for 1000 rounds\n",
      "Early stopping, best iteration is:\n",
      "[56]\ttraining's binary_logloss: 0.393934\tvalid_1's binary_logloss: 0.454272\n",
      "Training until validation scores don't improve for 1000 rounds\n",
      "Early stopping, best iteration is:\n",
      "[107]\ttraining's binary_logloss: 0.38526\tvalid_1's binary_logloss: 0.420181\n",
      "Training until validation scores don't improve for 1000 rounds\n"
     ]
    },
    {
     "name": "stderr",
     "output_type": "stream",
     "text": [
      "\u001b[32m[I 2021-10-03 20:38:11,364]\u001b[0m Trial 44 finished with value: 0.8361391694725028 and parameters: {'lambda_l1': 0.00027452369682792147, 'lambda_l2': 0.0013403050340359084, 'num_leaves': 21, 'feature_fraction': 0.6544691872804349, 'bagging_fraction': 0.5187739608456025, 'bagging_freq': 8, 'min_child_samples': 37, 'max_depth': 2}. Best is trial 9 with value: 0.8417508417508418.\u001b[0m\n"
     ]
    },
    {
     "name": "stdout",
     "output_type": "stream",
     "text": [
      "Early stopping, best iteration is:\n",
      "[887]\ttraining's binary_logloss: 0.333711\tvalid_1's binary_logloss: 0.385218\n",
      "Training until validation scores don't improve for 1000 rounds\n",
      "Early stopping, best iteration is:\n",
      "[712]\ttraining's binary_logloss: 0.31801\tvalid_1's binary_logloss: 0.400421\n",
      "Training until validation scores don't improve for 1000 rounds\n",
      "Early stopping, best iteration is:\n",
      "[841]\ttraining's binary_logloss: 0.297274\tvalid_1's binary_logloss: 0.378051\n",
      "Training until validation scores don't improve for 1000 rounds\n",
      "Early stopping, best iteration is:\n",
      "[225]\ttraining's binary_logloss: 0.343133\tvalid_1's binary_logloss: 0.457219\n",
      "Training until validation scores don't improve for 1000 rounds\n",
      "Early stopping, best iteration is:\n",
      "[869]\ttraining's binary_logloss: 0.291455\tvalid_1's binary_logloss: 0.399006\n",
      "Training until validation scores don't improve for 1000 rounds\n"
     ]
    },
    {
     "name": "stderr",
     "output_type": "stream",
     "text": [
      "\u001b[32m[I 2021-10-03 20:38:13,863]\u001b[0m Trial 45 finished with value: 0.8282828282828283 and parameters: {'lambda_l1': 1.4740991009836682e-05, 'lambda_l2': 0.0028448566463942573, 'num_leaves': 19, 'feature_fraction': 0.719112098348144, 'bagging_fraction': 0.4838527348278332, 'bagging_freq': 9, 'min_child_samples': 45, 'max_depth': 4}. Best is trial 9 with value: 0.8417508417508418.\u001b[0m\n"
     ]
    },
    {
     "name": "stdout",
     "output_type": "stream",
     "text": [
      "Early stopping, best iteration is:\n",
      "[3168]\ttraining's binary_logloss: 0.243394\tvalid_1's binary_logloss: 0.373746\n",
      "Training until validation scores don't improve for 1000 rounds\n",
      "Early stopping, best iteration is:\n",
      "[1194]\ttraining's binary_logloss: 0.360818\tvalid_1's binary_logloss: 0.404243\n",
      "Training until validation scores don't improve for 1000 rounds\n",
      "Early stopping, best iteration is:\n",
      "[1545]\ttraining's binary_logloss: 0.353065\tvalid_1's binary_logloss: 0.405201\n",
      "Training until validation scores don't improve for 1000 rounds\n",
      "Early stopping, best iteration is:\n",
      "[847]\ttraining's binary_logloss: 0.355881\tvalid_1's binary_logloss: 0.463946\n",
      "Training until validation scores don't improve for 1000 rounds\n",
      "Early stopping, best iteration is:\n",
      "[1281]\ttraining's binary_logloss: 0.346263\tvalid_1's binary_logloss: 0.414019\n",
      "Training until validation scores don't improve for 1000 rounds\n"
     ]
    },
    {
     "name": "stderr",
     "output_type": "stream",
     "text": [
      "\u001b[32m[I 2021-10-03 20:38:16,031]\u001b[0m Trial 46 finished with value: 0.8226711560044894 and parameters: {'lambda_l1': 0.0008937301582803217, 'lambda_l2': 0.0004868043065162675, 'num_leaves': 36, 'feature_fraction': 0.6923993054279903, 'bagging_fraction': 0.5437296357475496, 'bagging_freq': 7, 'min_child_samples': 75, 'max_depth': 3}. Best is trial 9 with value: 0.8417508417508418.\u001b[0m\n"
     ]
    },
    {
     "name": "stdout",
     "output_type": "stream",
     "text": [
      "Early stopping, best iteration is:\n",
      "[1435]\ttraining's binary_logloss: 0.350339\tvalid_1's binary_logloss: 0.412422\n",
      "Training until validation scores don't improve for 1000 rounds\n",
      "Early stopping, best iteration is:\n",
      "[635]\ttraining's binary_logloss: 0.343447\tvalid_1's binary_logloss: 0.391797\n",
      "Training until validation scores don't improve for 1000 rounds\n",
      "Early stopping, best iteration is:\n",
      "[883]\ttraining's binary_logloss: 0.318043\tvalid_1's binary_logloss: 0.385398\n",
      "Training until validation scores don't improve for 1000 rounds\n",
      "Early stopping, best iteration is:\n",
      "[200]\ttraining's binary_logloss: 0.357695\tvalid_1's binary_logloss: 0.457785\n",
      "Training until validation scores don't improve for 1000 rounds\n",
      "Early stopping, best iteration is:\n",
      "[296]\ttraining's binary_logloss: 0.359833\tvalid_1's binary_logloss: 0.41445\n",
      "Training until validation scores don't improve for 1000 rounds\n"
     ]
    },
    {
     "name": "stderr",
     "output_type": "stream",
     "text": [
      "\u001b[32m[I 2021-10-03 20:38:17,964]\u001b[0m Trial 47 finished with value: 0.8305274971941639 and parameters: {'lambda_l1': 6.127001494182945e-05, 'lambda_l2': 3.399477477091925e-05, 'num_leaves': 29, 'feature_fraction': 0.7740154701279175, 'bagging_fraction': 0.44194589178067695, 'bagging_freq': 8, 'min_child_samples': 49, 'max_depth': 5}. Best is trial 9 with value: 0.8417508417508418.\u001b[0m\n"
     ]
    },
    {
     "name": "stdout",
     "output_type": "stream",
     "text": [
      "Early stopping, best iteration is:\n",
      "[920]\ttraining's binary_logloss: 0.320203\tvalid_1's binary_logloss: 0.395265\n",
      "Training until validation scores don't improve for 1000 rounds\n",
      "Early stopping, best iteration is:\n",
      "[1272]\ttraining's binary_logloss: 0.389657\tvalid_1's binary_logloss: 0.386546\n",
      "Training until validation scores don't improve for 1000 rounds\n",
      "Early stopping, best iteration is:\n",
      "[1818]\ttraining's binary_logloss: 0.384069\tvalid_1's binary_logloss: 0.393871\n",
      "Training until validation scores don't improve for 1000 rounds\n",
      "Early stopping, best iteration is:\n",
      "[753]\ttraining's binary_logloss: 0.379623\tvalid_1's binary_logloss: 0.454144\n",
      "Training until validation scores don't improve for 1000 rounds\n",
      "Early stopping, best iteration is:\n",
      "[923]\ttraining's binary_logloss: 0.389991\tvalid_1's binary_logloss: 0.41357\n",
      "Training until validation scores don't improve for 1000 rounds\n"
     ]
    },
    {
     "name": "stderr",
     "output_type": "stream",
     "text": [
      "\u001b[32m[I 2021-10-03 20:38:19,709]\u001b[0m Trial 48 finished with value: 0.8181818181818182 and parameters: {'lambda_l1': 0.0024827795095661103, 'lambda_l2': 0.0011291856584672525, 'num_leaves': 24, 'feature_fraction': 0.839901473632862, 'bagging_fraction': 0.508239798344438, 'bagging_freq': 6, 'min_child_samples': 93, 'max_depth': 7}. Best is trial 9 with value: 0.8417508417508418.\u001b[0m\n"
     ]
    },
    {
     "name": "stdout",
     "output_type": "stream",
     "text": [
      "Early stopping, best iteration is:\n",
      "[776]\ttraining's binary_logloss: 0.394187\tvalid_1's binary_logloss: 0.417917\n",
      "Training until validation scores don't improve for 1000 rounds\n",
      "Early stopping, best iteration is:\n",
      "[881]\ttraining's binary_logloss: 0.329813\tvalid_1's binary_logloss: 0.39165\n",
      "Training until validation scores don't improve for 1000 rounds\n",
      "Early stopping, best iteration is:\n",
      "[735]\ttraining's binary_logloss: 0.32935\tvalid_1's binary_logloss: 0.380413\n",
      "Training until validation scores don't improve for 1000 rounds\n",
      "Early stopping, best iteration is:\n",
      "[206]\ttraining's binary_logloss: 0.356172\tvalid_1's binary_logloss: 0.454706\n",
      "Training until validation scores don't improve for 1000 rounds\n",
      "Early stopping, best iteration is:\n",
      "[546]\ttraining's binary_logloss: 0.344278\tvalid_1's binary_logloss: 0.417866\n",
      "Training until validation scores don't improve for 1000 rounds\n"
     ]
    },
    {
     "name": "stderr",
     "output_type": "stream",
     "text": [
      "\u001b[32m[I 2021-10-03 20:38:25,728]\u001b[0m Trial 49 finished with value: 0.8237934904601572 and parameters: {'lambda_l1': 0.037664058330832126, 'lambda_l2': 0.0001267482627766783, 'num_leaves': 49, 'feature_fraction': 0.7374539524456303, 'bagging_fraction': 0.5673801425892503, 'bagging_freq': 9, 'min_child_samples': 62, 'max_depth': 4}. Best is trial 9 with value: 0.8417508417508418.\u001b[0m\n"
     ]
    },
    {
     "name": "stdout",
     "output_type": "stream",
     "text": [
      "Early stopping, best iteration is:\n",
      "[2518]\ttraining's binary_logloss: 0.278885\tvalid_1's binary_logloss: 0.381072\n",
      "Training until validation scores don't improve for 1000 rounds\n",
      "Early stopping, best iteration is:\n",
      "[349]\ttraining's binary_logloss: 0.335251\tvalid_1's binary_logloss: 0.388352\n",
      "Training until validation scores don't improve for 1000 rounds\n",
      "Early stopping, best iteration is:\n",
      "[808]\ttraining's binary_logloss: 0.289435\tvalid_1's binary_logloss: 0.380037\n",
      "Training until validation scores don't improve for 1000 rounds\n",
      "Early stopping, best iteration is:\n",
      "[216]\ttraining's binary_logloss: 0.336159\tvalid_1's binary_logloss: 0.450239\n",
      "Training until validation scores don't improve for 1000 rounds\n",
      "Early stopping, best iteration is:\n",
      "[480]\ttraining's binary_logloss: 0.312877\tvalid_1's binary_logloss: 0.402783\n",
      "Training until validation scores don't improve for 1000 rounds\n"
     ]
    },
    {
     "name": "stderr",
     "output_type": "stream",
     "text": [
      "\u001b[32m[I 2021-10-03 20:38:28,534]\u001b[0m Trial 50 finished with value: 0.8305274971941639 and parameters: {'lambda_l1': 0.0004265701832431534, 'lambda_l2': 0.0021317327785641033, 'num_leaves': 43, 'feature_fraction': 0.8794901988129049, 'bagging_fraction': 0.5884274676492439, 'bagging_freq': 8, 'min_child_samples': 56, 'max_depth': 6}. Best is trial 9 with value: 0.8417508417508418.\u001b[0m\n"
     ]
    },
    {
     "name": "stdout",
     "output_type": "stream",
     "text": [
      "Early stopping, best iteration is:\n",
      "[2263]\ttraining's binary_logloss: 0.242774\tvalid_1's binary_logloss: 0.36348\n",
      "Training until validation scores don't improve for 1000 rounds\n",
      "Early stopping, best iteration is:\n",
      "[1107]\ttraining's binary_logloss: 0.329855\tvalid_1's binary_logloss: 0.392627\n",
      "Training until validation scores don't improve for 1000 rounds\n",
      "Early stopping, best iteration is:\n",
      "[627]\ttraining's binary_logloss: 0.349126\tvalid_1's binary_logloss: 0.385865\n",
      "Training until validation scores don't improve for 1000 rounds\n",
      "Early stopping, best iteration is:\n",
      "[56]\ttraining's binary_logloss: 0.39558\tvalid_1's binary_logloss: 0.454974\n",
      "Training until validation scores don't improve for 1000 rounds\n",
      "Early stopping, best iteration is:\n",
      "[68]\ttraining's binary_logloss: 0.398618\tvalid_1's binary_logloss: 0.420471\n",
      "Training until validation scores don't improve for 1000 rounds\n"
     ]
    },
    {
     "name": "stderr",
     "output_type": "stream",
     "text": [
      "\u001b[32m[I 2021-10-03 20:38:30,017]\u001b[0m Trial 51 finished with value: 0.8159371492704826 and parameters: {'lambda_l1': 0.0003180447316137457, 'lambda_l2': 0.0042455932932978216, 'num_leaves': 20, 'feature_fraction': 0.6525462215052594, 'bagging_fraction': 0.5224183599650707, 'bagging_freq': 8, 'min_child_samples': 38, 'max_depth': 2}. Best is trial 9 with value: 0.8417508417508418.\u001b[0m\n"
     ]
    },
    {
     "name": "stdout",
     "output_type": "stream",
     "text": [
      "Early stopping, best iteration is:\n",
      "[888]\ttraining's binary_logloss: 0.333364\tvalid_1's binary_logloss: 0.390548\n",
      "Training until validation scores don't improve for 1000 rounds\n",
      "Early stopping, best iteration is:\n",
      "[958]\ttraining's binary_logloss: 0.339208\tvalid_1's binary_logloss: 0.382238\n",
      "Training until validation scores don't improve for 1000 rounds\n",
      "Early stopping, best iteration is:\n",
      "[546]\ttraining's binary_logloss: 0.356143\tvalid_1's binary_logloss: 0.388548\n",
      "Training until validation scores don't improve for 1000 rounds\n",
      "Early stopping, best iteration is:\n",
      "[192]\ttraining's binary_logloss: 0.360474\tvalid_1's binary_logloss: 0.446542\n",
      "Training until validation scores don't improve for 1000 rounds\n",
      "Early stopping, best iteration is:\n",
      "[65]\ttraining's binary_logloss: 0.39997\tvalid_1's binary_logloss: 0.413164\n",
      "Training until validation scores don't improve for 1000 rounds\n"
     ]
    },
    {
     "name": "stderr",
     "output_type": "stream",
     "text": [
      "\u001b[32m[I 2021-10-03 20:38:31,312]\u001b[0m Trial 52 finished with value: 0.8372615039281706 and parameters: {'lambda_l1': 0.00019726203166237863, 'lambda_l2': 0.00851350689145507, 'num_leaves': 23, 'feature_fraction': 0.6907895146487646, 'bagging_fraction': 0.5429491347706158, 'bagging_freq': 7, 'min_child_samples': 41, 'max_depth': 2}. Best is trial 9 with value: 0.8417508417508418.\u001b[0m\n"
     ]
    },
    {
     "name": "stdout",
     "output_type": "stream",
     "text": [
      "Early stopping, best iteration is:\n",
      "[1316]\ttraining's binary_logloss: 0.325188\tvalid_1's binary_logloss: 0.388974\n",
      "Training until validation scores don't improve for 1000 rounds\n",
      "Early stopping, best iteration is:\n",
      "[957]\ttraining's binary_logloss: 0.338885\tvalid_1's binary_logloss: 0.390769\n",
      "Training until validation scores don't improve for 1000 rounds\n",
      "Early stopping, best iteration is:\n",
      "[546]\ttraining's binary_logloss: 0.35453\tvalid_1's binary_logloss: 0.380969\n",
      "Training until validation scores don't improve for 1000 rounds\n",
      "Early stopping, best iteration is:\n",
      "[192]\ttraining's binary_logloss: 0.359763\tvalid_1's binary_logloss: 0.446023\n",
      "Training until validation scores don't improve for 1000 rounds\n",
      "Early stopping, best iteration is:\n",
      "[65]\ttraining's binary_logloss: 0.400037\tvalid_1's binary_logloss: 0.412669\n",
      "Training until validation scores don't improve for 1000 rounds\n"
     ]
    },
    {
     "name": "stderr",
     "output_type": "stream",
     "text": [
      "\u001b[32m[I 2021-10-03 20:38:33,526]\u001b[0m Trial 53 finished with value: 0.835016835016835 and parameters: {'lambda_l1': 0.0001016441563167605, 'lambda_l2': 0.008251051481625143, 'num_leaves': 17, 'feature_fraction': 0.6986463657932654, 'bagging_fraction': 0.543361120996715, 'bagging_freq': 7, 'min_child_samples': 41, 'max_depth': 2}. Best is trial 9 with value: 0.8417508417508418.\u001b[0m\n"
     ]
    },
    {
     "name": "stdout",
     "output_type": "stream",
     "text": [
      "Early stopping, best iteration is:\n",
      "[1316]\ttraining's binary_logloss: 0.323574\tvalid_1's binary_logloss: 0.389733\n",
      "Training until validation scores don't improve for 1000 rounds\n",
      "Early stopping, best iteration is:\n",
      "[1104]\ttraining's binary_logloss: 0.312116\tvalid_1's binary_logloss: 0.389322\n",
      "Training until validation scores don't improve for 1000 rounds\n",
      "Early stopping, best iteration is:\n",
      "[878]\ttraining's binary_logloss: 0.316303\tvalid_1's binary_logloss: 0.381196\n",
      "Training until validation scores don't improve for 1000 rounds\n",
      "Early stopping, best iteration is:\n",
      "[202]\ttraining's binary_logloss: 0.354117\tvalid_1's binary_logloss: 0.457719\n",
      "Training until validation scores don't improve for 1000 rounds\n",
      "Early stopping, best iteration is:\n",
      "[384]\ttraining's binary_logloss: 0.343208\tvalid_1's binary_logloss: 0.403217\n",
      "Training until validation scores don't improve for 1000 rounds\n",
      "Early stopping, best iteration is:\n",
      "[206]\ttraining's binary_logloss: 0.367596\tvalid_1's binary_logloss: 0.398405\n"
     ]
    },
    {
     "name": "stderr",
     "output_type": "stream",
     "text": [
      "\u001b[32m[I 2021-10-03 20:38:35,163]\u001b[0m Trial 54 finished with value: 0.8305274971941639 and parameters: {'lambda_l1': 2.736252683638977e-05, 'lambda_l2': 0.017485756883722683, 'num_leaves': 58, 'feature_fraction': 0.8100543373445284, 'bagging_fraction': 0.47011392165903454, 'bagging_freq': 8, 'min_child_samples': 46, 'max_depth': 3}. Best is trial 9 with value: 0.8417508417508418.\u001b[0m\n"
     ]
    },
    {
     "name": "stdout",
     "output_type": "stream",
     "text": [
      "Training until validation scores don't improve for 1000 rounds\n",
      "Early stopping, best iteration is:\n",
      "[1064]\ttraining's binary_logloss: 0.35\tvalid_1's binary_logloss: 0.399792\n",
      "Training until validation scores don't improve for 1000 rounds\n",
      "Early stopping, best iteration is:\n",
      "[1354]\ttraining's binary_logloss: 0.344431\tvalid_1's binary_logloss: 0.389387\n",
      "Training until validation scores don't improve for 1000 rounds\n",
      "Early stopping, best iteration is:\n",
      "[205]\ttraining's binary_logloss: 0.372338\tvalid_1's binary_logloss: 0.454228\n",
      "Training until validation scores don't improve for 1000 rounds\n",
      "Early stopping, best iteration is:\n",
      "[957]\ttraining's binary_logloss: 0.349102\tvalid_1's binary_logloss: 0.417923\n",
      "Training until validation scores don't improve for 1000 rounds\n"
     ]
    },
    {
     "name": "stderr",
     "output_type": "stream",
     "text": [
      "\u001b[32m[I 2021-10-03 20:38:37,726]\u001b[0m Trial 55 finished with value: 0.819304152637486 and parameters: {'lambda_l1': 0.0007513297995913509, 'lambda_l2': 0.0033702430973730287, 'num_leaves': 23, 'feature_fraction': 0.7798792475867843, 'bagging_fraction': 0.4878217208661517, 'bagging_freq': 7, 'min_child_samples': 53, 'max_depth': 2}. Best is trial 9 with value: 0.8417508417508418.\u001b[0m\n"
     ]
    },
    {
     "name": "stdout",
     "output_type": "stream",
     "text": [
      "Early stopping, best iteration is:\n",
      "[1316]\ttraining's binary_logloss: 0.353048\tvalid_1's binary_logloss: 0.386174\n",
      "Training until validation scores don't improve for 1000 rounds\n",
      "Early stopping, best iteration is:\n",
      "[334]\ttraining's binary_logloss: 0.335039\tvalid_1's binary_logloss: 0.379286\n",
      "Training until validation scores don't improve for 1000 rounds\n",
      "Early stopping, best iteration is:\n",
      "[123]\ttraining's binary_logloss: 0.369004\tvalid_1's binary_logloss: 0.392346\n",
      "Training until validation scores don't improve for 1000 rounds\n",
      "Early stopping, best iteration is:\n",
      "[65]\ttraining's binary_logloss: 0.37613\tvalid_1's binary_logloss: 0.451298\n",
      "Training until validation scores don't improve for 1000 rounds\n",
      "Early stopping, best iteration is:\n",
      "[119]\ttraining's binary_logloss: 0.362261\tvalid_1's binary_logloss: 0.401497\n",
      "Training until validation scores don't improve for 1000 rounds\n"
     ]
    },
    {
     "name": "stderr",
     "output_type": "stream",
     "text": [
      "\u001b[32m[I 2021-10-03 20:38:39,119]\u001b[0m Trial 56 finished with value: 0.8260381593714927 and parameters: {'lambda_l1': 0.0001966998708666363, 'lambda_l2': 0.0007511647156067649, 'num_leaves': 29, 'feature_fraction': 0.7526929276891536, 'bagging_fraction': 0.4256574707283554, 'bagging_freq': 9, 'min_child_samples': 35, 'max_depth': 4}. Best is trial 9 with value: 0.8417508417508418.\u001b[0m\n"
     ]
    },
    {
     "name": "stdout",
     "output_type": "stream",
     "text": [
      "Early stopping, best iteration is:\n",
      "[544]\ttraining's binary_logloss: 0.308713\tvalid_1's binary_logloss: 0.392942\n",
      "Training until validation scores don't improve for 1000 rounds\n",
      "Early stopping, best iteration is:\n",
      "[179]\ttraining's binary_logloss: 0.362373\tvalid_1's binary_logloss: 0.392427\n",
      "Training until validation scores don't improve for 1000 rounds\n",
      "Early stopping, best iteration is:\n",
      "[520]\ttraining's binary_logloss: 0.3224\tvalid_1's binary_logloss: 0.384643\n",
      "Training until validation scores don't improve for 1000 rounds\n",
      "Early stopping, best iteration is:\n",
      "[216]\ttraining's binary_logloss: 0.336306\tvalid_1's binary_logloss: 0.441867\n",
      "Training until validation scores don't improve for 1000 rounds\n",
      "Early stopping, best iteration is:\n",
      "[240]\ttraining's binary_logloss: 0.344153\tvalid_1's binary_logloss: 0.410866\n",
      "Training until validation scores don't improve for 1000 rounds\n"
     ]
    },
    {
     "name": "stderr",
     "output_type": "stream",
     "text": [
      "\u001b[32m[I 2021-10-03 20:38:40,680]\u001b[0m Trial 57 finished with value: 0.8338945005611672 and parameters: {'lambda_l1': 0.004112177886163352, 'lambda_l2': 0.024083688866077896, 'num_leaves': 26, 'feature_fraction': 0.7216340211555834, 'bagging_fraction': 0.5521390425051039, 'bagging_freq': 8, 'min_child_samples': 41, 'max_depth': 3}. Best is trial 9 with value: 0.8417508417508418.\u001b[0m\n"
     ]
    },
    {
     "name": "stdout",
     "output_type": "stream",
     "text": [
      "Early stopping, best iteration is:\n",
      "[720]\ttraining's binary_logloss: 0.305737\tvalid_1's binary_logloss: 0.386287\n",
      "Training until validation scores don't improve for 1000 rounds\n",
      "Early stopping, best iteration is:\n",
      "[364]\ttraining's binary_logloss: 0.282677\tvalid_1's binary_logloss: 0.371964\n",
      "Training until validation scores don't improve for 1000 rounds\n",
      "Early stopping, best iteration is:\n",
      "[119]\ttraining's binary_logloss: 0.332538\tvalid_1's binary_logloss: 0.382088\n",
      "Training until validation scores don't improve for 1000 rounds\n",
      "Early stopping, best iteration is:\n",
      "[52]\ttraining's binary_logloss: 0.351639\tvalid_1's binary_logloss: 0.450647\n",
      "Training until validation scores don't improve for 1000 rounds\n",
      "Early stopping, best iteration is:\n",
      "[52]\ttraining's binary_logloss: 0.368106\tvalid_1's binary_logloss: 0.406846\n",
      "Training until validation scores don't improve for 1000 rounds\n"
     ]
    },
    {
     "name": "stderr",
     "output_type": "stream",
     "text": [
      "\u001b[32m[I 2021-10-03 20:38:42,445]\u001b[0m Trial 58 finished with value: 0.8226711560044894 and parameters: {'lambda_l1': 0.00946974091956691, 'lambda_l2': 0.0018136411409403895, 'num_leaves': 33, 'feature_fraction': 0.7620622514746248, 'bagging_fraction': 0.6204876004621164, 'bagging_freq': 7, 'min_child_samples': 36, 'max_depth': 7}. Best is trial 9 with value: 0.8417508417508418.\u001b[0m\n"
     ]
    },
    {
     "name": "stdout",
     "output_type": "stream",
     "text": [
      "Early stopping, best iteration is:\n",
      "[811]\ttraining's binary_logloss: 0.217719\tvalid_1's binary_logloss: 0.385656\n",
      "Training until validation scores don't improve for 1000 rounds\n",
      "Early stopping, best iteration is:\n",
      "[296]\ttraining's binary_logloss: 0.320301\tvalid_1's binary_logloss: 0.389944\n",
      "Training until validation scores don't improve for 1000 rounds\n",
      "Early stopping, best iteration is:\n",
      "[141]\ttraining's binary_logloss: 0.350403\tvalid_1's binary_logloss: 0.39206\n",
      "Training until validation scores don't improve for 1000 rounds\n",
      "Early stopping, best iteration is:\n",
      "[91]\ttraining's binary_logloss: 0.344649\tvalid_1's binary_logloss: 0.44808\n",
      "Training until validation scores don't improve for 1000 rounds\n",
      "Early stopping, best iteration is:\n",
      "[88]\ttraining's binary_logloss: 0.36332\tvalid_1's binary_logloss: 0.417288\n",
      "Training until validation scores don't improve for 1000 rounds\n"
     ]
    },
    {
     "name": "stderr",
     "output_type": "stream",
     "text": [
      "\u001b[32m[I 2021-10-03 20:38:44,141]\u001b[0m Trial 59 finished with value: 0.8260381593714927 and parameters: {'lambda_l1': 0.001663470474942207, 'lambda_l2': 0.011797716126909125, 'num_leaves': 17, 'feature_fraction': 0.6795128094770354, 'bagging_fraction': 0.6646143261061165, 'bagging_freq': 8, 'min_child_samples': 46, 'max_depth': 5}. Best is trial 9 with value: 0.8417508417508418.\u001b[0m\n"
     ]
    },
    {
     "name": "stdout",
     "output_type": "stream",
     "text": [
      "Early stopping, best iteration is:\n",
      "[960]\ttraining's binary_logloss: 0.244288\tvalid_1's binary_logloss: 0.391143\n",
      "Training until validation scores don't improve for 1000 rounds\n",
      "Early stopping, best iteration is:\n",
      "[531]\ttraining's binary_logloss: 0.338463\tvalid_1's binary_logloss: 0.385549\n",
      "Training until validation scores don't improve for 1000 rounds\n",
      "Early stopping, best iteration is:\n",
      "[225]\ttraining's binary_logloss: 0.367284\tvalid_1's binary_logloss: 0.386577\n",
      "Training until validation scores don't improve for 1000 rounds\n",
      "Early stopping, best iteration is:\n",
      "[225]\ttraining's binary_logloss: 0.349491\tvalid_1's binary_logloss: 0.455958\n",
      "Training until validation scores don't improve for 1000 rounds\n",
      "Early stopping, best iteration is:\n",
      "[869]\ttraining's binary_logloss: 0.313105\tvalid_1's binary_logloss: 0.394407\n",
      "Training until validation scores don't improve for 1000 rounds\n"
     ]
    },
    {
     "name": "stderr",
     "output_type": "stream",
     "text": [
      "\u001b[32m[I 2021-10-03 20:38:46,152]\u001b[0m Trial 60 finished with value: 0.835016835016835 and parameters: {'lambda_l1': 3.237407548447109e-05, 'lambda_l2': 0.0002682804704473372, 'num_leaves': 30, 'feature_fraction': 0.8302201543691851, 'bagging_fraction': 0.454667826193181, 'bagging_freq': 9, 'min_child_samples': 43, 'max_depth': 3}. Best is trial 9 with value: 0.8417508417508418.\u001b[0m\n"
     ]
    },
    {
     "name": "stdout",
     "output_type": "stream",
     "text": [
      "Early stopping, best iteration is:\n",
      "[870]\ttraining's binary_logloss: 0.317609\tvalid_1's binary_logloss: 0.394035\n",
      "Training until validation scores don't improve for 1000 rounds\n",
      "Early stopping, best iteration is:\n",
      "[1376]\ttraining's binary_logloss: 0.320997\tvalid_1's binary_logloss: 0.392785\n",
      "Training until validation scores don't improve for 1000 rounds\n",
      "Early stopping, best iteration is:\n",
      "[778]\ttraining's binary_logloss: 0.340048\tvalid_1's binary_logloss: 0.383146\n",
      "Training until validation scores don't improve for 1000 rounds\n",
      "Early stopping, best iteration is:\n",
      "[63]\ttraining's binary_logloss: 0.389252\tvalid_1's binary_logloss: 0.456229\n",
      "Training until validation scores don't improve for 1000 rounds\n",
      "Early stopping, best iteration is:\n",
      "[72]\ttraining's binary_logloss: 0.396753\tvalid_1's binary_logloss: 0.421162\n",
      "Training until validation scores don't improve for 1000 rounds\n"
     ]
    },
    {
     "name": "stderr",
     "output_type": "stream",
     "text": [
      "\u001b[32m[I 2021-10-03 20:38:47,773]\u001b[0m Trial 61 finished with value: 0.8316498316498316 and parameters: {'lambda_l1': 0.0002739662480420189, 'lambda_l2': 0.0009894886763993872, 'num_leaves': 22, 'feature_fraction': 0.6617798544662459, 'bagging_fraction': 0.5134344904004946, 'bagging_freq': 8, 'min_child_samples': 37, 'max_depth': 2}. Best is trial 9 with value: 0.8417508417508418.\u001b[0m\n"
     ]
    },
    {
     "name": "stdout",
     "output_type": "stream",
     "text": [
      "Early stopping, best iteration is:\n",
      "[1504]\ttraining's binary_logloss: 0.316794\tvalid_1's binary_logloss: 0.383655\n",
      "Training until validation scores don't improve for 1000 rounds\n",
      "Early stopping, best iteration is:\n",
      "[852]\ttraining's binary_logloss: 0.292148\tvalid_1's binary_logloss: 0.373503\n",
      "Training until validation scores don't improve for 1000 rounds\n",
      "Early stopping, best iteration is:\n",
      "[431]\ttraining's binary_logloss: 0.318389\tvalid_1's binary_logloss: 0.393146\n",
      "Training until validation scores don't improve for 1000 rounds\n",
      "Early stopping, best iteration is:\n",
      "[115]\ttraining's binary_logloss: 0.350911\tvalid_1's binary_logloss: 0.451575\n",
      "Training until validation scores don't improve for 1000 rounds\n",
      "Early stopping, best iteration is:\n",
      "[132]\ttraining's binary_logloss: 0.355595\tvalid_1's binary_logloss: 0.404895\n",
      "Training until validation scores don't improve for 1000 rounds\n"
     ]
    },
    {
     "name": "stderr",
     "output_type": "stream",
     "text": [
      "\u001b[32m[I 2021-10-03 20:38:49,840]\u001b[0m Trial 62 finished with value: 0.8305274971941639 and parameters: {'lambda_l1': 0.2421157157691987, 'lambda_l2': 0.0072911985249448285, 'num_leaves': 37, 'feature_fraction': 0.8032857282683936, 'bagging_fraction': 0.48351843956884727, 'bagging_freq': 4, 'min_child_samples': 39, 'max_depth': 7}. Best is trial 9 with value: 0.8417508417508418.\u001b[0m\n"
     ]
    },
    {
     "name": "stdout",
     "output_type": "stream",
     "text": [
      "Early stopping, best iteration is:\n",
      "[1954]\ttraining's binary_logloss: 0.236512\tvalid_1's binary_logloss: 0.380094\n",
      "Training until validation scores don't improve for 1000 rounds\n",
      "Early stopping, best iteration is:\n",
      "[185]\ttraining's binary_logloss: 0.323432\tvalid_1's binary_logloss: 0.391079\n",
      "Training until validation scores don't improve for 1000 rounds\n",
      "Early stopping, best iteration is:\n",
      "[198]\ttraining's binary_logloss: 0.326567\tvalid_1's binary_logloss: 0.374355\n",
      "Training until validation scores don't improve for 1000 rounds\n",
      "Early stopping, best iteration is:\n",
      "[115]\ttraining's binary_logloss: 0.330101\tvalid_1's binary_logloss: 0.444801\n",
      "Training until validation scores don't improve for 1000 rounds\n",
      "Early stopping, best iteration is:\n",
      "[104]\ttraining's binary_logloss: 0.341812\tvalid_1's binary_logloss: 0.408327\n",
      "Training until validation scores don't improve for 1000 rounds\n"
     ]
    },
    {
     "name": "stderr",
     "output_type": "stream",
     "text": [
      "\u001b[32m[I 2021-10-03 20:38:51,319]\u001b[0m Trial 63 finished with value: 0.8327721661054994 and parameters: {'lambda_l1': 0.0005374385063464306, 'lambda_l2': 0.0005524217718606913, 'num_leaves': 27, 'feature_fraction': 0.7811812939644533, 'bagging_fraction': 0.5050707381258089, 'bagging_freq': 8, 'min_child_samples': 34, 'max_depth': 7}. Best is trial 9 with value: 0.8417508417508418.\u001b[0m\n"
     ]
    },
    {
     "name": "stdout",
     "output_type": "stream",
     "text": [
      "Early stopping, best iteration is:\n",
      "[184]\ttraining's binary_logloss: 0.33182\tvalid_1's binary_logloss: 0.402555\n",
      "Training until validation scores don't improve for 1000 rounds\n",
      "Early stopping, best iteration is:\n",
      "[364]\ttraining's binary_logloss: 0.296517\tvalid_1's binary_logloss: 0.365058\n",
      "Training until validation scores don't improve for 1000 rounds\n",
      "Early stopping, best iteration is:\n",
      "[544]\ttraining's binary_logloss: 0.264046\tvalid_1's binary_logloss: 0.366165\n",
      "Training until validation scores don't improve for 1000 rounds\n",
      "Early stopping, best iteration is:\n",
      "[52]\ttraining's binary_logloss: 0.367684\tvalid_1's binary_logloss: 0.447828\n",
      "Training until validation scores don't improve for 1000 rounds\n",
      "Early stopping, best iteration is:\n",
      "[56]\ttraining's binary_logloss: 0.371804\tvalid_1's binary_logloss: 0.409268\n",
      "Training until validation scores don't improve for 1000 rounds\n"
     ]
    },
    {
     "name": "stderr",
     "output_type": "stream",
     "text": [
      "\u001b[32m[I 2021-10-03 20:38:53,162]\u001b[0m Trial 64 finished with value: 0.8282828282828283 and parameters: {'lambda_l1': 0.00018027927456873967, 'lambda_l2': 0.005170621329407602, 'num_leaves': 28, 'feature_fraction': 0.7336981807133061, 'bagging_fraction': 0.5317805513396822, 'bagging_freq': 7, 'min_child_samples': 33, 'max_depth': 7}. Best is trial 9 with value: 0.8417508417508418.\u001b[0m\n"
     ]
    },
    {
     "name": "stdout",
     "output_type": "stream",
     "text": [
      "Early stopping, best iteration is:\n",
      "[296]\ttraining's binary_logloss: 0.296334\tvalid_1's binary_logloss: 0.394118\n",
      "Training until validation scores don't improve for 1000 rounds\n",
      "Early stopping, best iteration is:\n",
      "[829]\ttraining's binary_logloss: 0.337699\tvalid_1's binary_logloss: 0.397045\n",
      "Training until validation scores don't improve for 1000 rounds\n",
      "Early stopping, best iteration is:\n",
      "[638]\ttraining's binary_logloss: 0.349461\tvalid_1's binary_logloss: 0.387488\n",
      "Training until validation scores don't improve for 1000 rounds\n",
      "Early stopping, best iteration is:\n",
      "[90]\ttraining's binary_logloss: 0.375885\tvalid_1's binary_logloss: 0.451623\n",
      "Training until validation scores don't improve for 1000 rounds\n",
      "Early stopping, best iteration is:\n",
      "[58]\ttraining's binary_logloss: 0.402665\tvalid_1's binary_logloss: 0.41969\n",
      "Training until validation scores don't improve for 1000 rounds\n"
     ]
    },
    {
     "name": "stderr",
     "output_type": "stream",
     "text": [
      "\u001b[32m[I 2021-10-03 20:38:54,810]\u001b[0m Trial 65 finished with value: 0.8226711560044894 and parameters: {'lambda_l1': 0.00028006762474267144, 'lambda_l2': 0.003262796925726473, 'num_leaves': 21, 'feature_fraction': 0.6298098314498272, 'bagging_fraction': 0.5260931424831933, 'bagging_freq': 6, 'min_child_samples': 36, 'max_depth': 2}. Best is trial 9 with value: 0.8417508417508418.\u001b[0m\n"
     ]
    },
    {
     "name": "stdout",
     "output_type": "stream",
     "text": [
      "Early stopping, best iteration is:\n",
      "[664]\ttraining's binary_logloss: 0.342059\tvalid_1's binary_logloss: 0.39215\n",
      "Training until validation scores don't improve for 1000 rounds\n",
      "Early stopping, best iteration is:\n",
      "[470]\ttraining's binary_logloss: 0.400086\tvalid_1's binary_logloss: 0.406697\n",
      "Training until validation scores don't improve for 1000 rounds\n",
      "Early stopping, best iteration is:\n",
      "[2325]\ttraining's binary_logloss: 0.365662\tvalid_1's binary_logloss: 0.400836\n",
      "Training until validation scores don't improve for 1000 rounds\n",
      "Early stopping, best iteration is:\n",
      "[178]\ttraining's binary_logloss: 0.40324\tvalid_1's binary_logloss: 0.46029\n",
      "Training until validation scores don't improve for 1000 rounds\n",
      "Early stopping, best iteration is:\n",
      "[2688]\ttraining's binary_logloss: 0.355215\tvalid_1's binary_logloss: 0.400501\n",
      "Training until validation scores don't improve for 1000 rounds\n"
     ]
    },
    {
     "name": "stderr",
     "output_type": "stream",
     "text": [
      "\u001b[32m[I 2021-10-03 20:38:57,597]\u001b[0m Trial 66 finished with value: 0.8249158249158249 and parameters: {'lambda_l1': 0.07001734947474514, 'lambda_l2': 0.0012484122422933433, 'num_leaves': 12, 'feature_fraction': 0.6078185038443851, 'bagging_fraction': 0.5824511199450843, 'bagging_freq': 8, 'min_child_samples': 84, 'max_depth': 2}. Best is trial 9 with value: 0.8417508417508418.\u001b[0m\n"
     ]
    },
    {
     "name": "stdout",
     "output_type": "stream",
     "text": [
      "Early stopping, best iteration is:\n",
      "[720]\ttraining's binary_logloss: 0.387075\tvalid_1's binary_logloss: 0.414314\n",
      "Training until validation scores don't improve for 1000 rounds\n",
      "Early stopping, best iteration is:\n",
      "[387]\ttraining's binary_logloss: 0.371828\tvalid_1's binary_logloss: 0.393063\n",
      "Training until validation scores don't improve for 1000 rounds\n",
      "Early stopping, best iteration is:\n",
      "[318]\ttraining's binary_logloss: 0.375448\tvalid_1's binary_logloss: 0.391454\n",
      "Training until validation scores don't improve for 1000 rounds\n",
      "Early stopping, best iteration is:\n",
      "[131]\ttraining's binary_logloss: 0.375851\tvalid_1's binary_logloss: 0.450734\n",
      "Training until validation scores don't improve for 1000 rounds\n",
      "Early stopping, best iteration is:\n",
      "[113]\ttraining's binary_logloss: 0.39083\tvalid_1's binary_logloss: 0.419211\n",
      "Training until validation scores don't improve for 1000 rounds\n"
     ]
    },
    {
     "name": "stderr",
     "output_type": "stream",
     "text": [
      "\u001b[32m[I 2021-10-03 20:38:59,706]\u001b[0m Trial 67 finished with value: 0.8327721661054994 and parameters: {'lambda_l1': 0.00012182598549154813, 'lambda_l2': 0.0018581791249423552, 'num_leaves': 15, 'feature_fraction': 0.6860203621076543, 'bagging_fraction': 0.49931353220164776, 'bagging_freq': 9, 'min_child_samples': 42, 'max_depth': 2}. Best is trial 9 with value: 0.8417508417508418.\u001b[0m\n"
     ]
    },
    {
     "name": "stdout",
     "output_type": "stream",
     "text": [
      "Early stopping, best iteration is:\n",
      "[3168]\ttraining's binary_logloss: 0.292118\tvalid_1's binary_logloss: 0.381647\n",
      "Training until validation scores don't improve for 1000 rounds\n",
      "Early stopping, best iteration is:\n",
      "[297]\ttraining's binary_logloss: 0.347386\tvalid_1's binary_logloss: 0.397763\n",
      "Training until validation scores don't improve for 1000 rounds\n",
      "Early stopping, best iteration is:\n",
      "[199]\ttraining's binary_logloss: 0.361021\tvalid_1's binary_logloss: 0.395151\n",
      "Training until validation scores don't improve for 1000 rounds\n",
      "Early stopping, best iteration is:\n",
      "[203]\ttraining's binary_logloss: 0.346714\tvalid_1's binary_logloss: 0.45263\n",
      "Training until validation scores don't improve for 1000 rounds\n",
      "Early stopping, best iteration is:\n",
      "[381]\ttraining's binary_logloss: 0.327995\tvalid_1's binary_logloss: 0.403835\n",
      "Training until validation scores don't improve for 1000 rounds\n"
     ]
    },
    {
     "name": "stderr",
     "output_type": "stream",
     "text": [
      "\u001b[32m[I 2021-10-03 20:39:05,730]\u001b[0m Trial 68 finished with value: 0.8271604938271605 and parameters: {'lambda_l1': 0.001065269373229103, 'lambda_l2': 0.00017986761624045044, 'num_leaves': 39, 'feature_fraction': 0.7933002165169434, 'bagging_fraction': 0.4180671065245796, 'bagging_freq': 8, 'min_child_samples': 40, 'max_depth': 6}. Best is trial 9 with value: 0.8417508417508418.\u001b[0m\n"
     ]
    },
    {
     "name": "stdout",
     "output_type": "stream",
     "text": [
      "Early stopping, best iteration is:\n",
      "[1504]\ttraining's binary_logloss: 0.283371\tvalid_1's binary_logloss: 0.374899\n",
      "Training until validation scores don't improve for 1000 rounds\n",
      "Early stopping, best iteration is:\n",
      "[960]\ttraining's binary_logloss: 0.29923\tvalid_1's binary_logloss: 0.37861\n",
      "Training until validation scores don't improve for 1000 rounds\n",
      "Early stopping, best iteration is:\n",
      "[458]\ttraining's binary_logloss: 0.32134\tvalid_1's binary_logloss: 0.38073\n",
      "Training until validation scores don't improve for 1000 rounds\n",
      "Early stopping, best iteration is:\n",
      "[175]\ttraining's binary_logloss: 0.344359\tvalid_1's binary_logloss: 0.451245\n",
      "Training until validation scores don't improve for 1000 rounds\n",
      "Early stopping, best iteration is:\n",
      "[230]\ttraining's binary_logloss: 0.345572\tvalid_1's binary_logloss: 0.406263\n",
      "Training until validation scores don't improve for 1000 rounds\n"
     ]
    },
    {
     "name": "stderr",
     "output_type": "stream",
     "text": [
      "\u001b[32m[I 2021-10-03 20:39:07,847]\u001b[0m Trial 69 finished with value: 0.8316498316498316 and parameters: {'lambda_l1': 8.342701414824109e-05, 'lambda_l2': 0.00036484364734588035, 'num_leaves': 17, 'feature_fraction': 0.5668733164454224, 'bagging_fraction': 0.5402812192869285, 'bagging_freq': 7, 'min_child_samples': 45, 'max_depth': 4}. Best is trial 9 with value: 0.8417508417508418.\u001b[0m\n"
     ]
    },
    {
     "name": "stdout",
     "output_type": "stream",
     "text": [
      "Early stopping, best iteration is:\n",
      "[1317]\ttraining's binary_logloss: 0.276168\tvalid_1's binary_logloss: 0.374532\n",
      "Training until validation scores don't improve for 1000 rounds\n",
      "Early stopping, best iteration is:\n",
      "[486]\ttraining's binary_logloss: 0.341022\tvalid_1's binary_logloss: 0.400522\n",
      "Training until validation scores don't improve for 1000 rounds\n",
      "Early stopping, best iteration is:\n",
      "[701]\ttraining's binary_logloss: 0.317116\tvalid_1's binary_logloss: 0.378533\n",
      "Training until validation scores don't improve for 1000 rounds\n",
      "Early stopping, best iteration is:\n",
      "[243]\ttraining's binary_logloss: 0.341054\tvalid_1's binary_logloss: 0.445733\n",
      "Training until validation scores don't improve for 1000 rounds\n",
      "Early stopping, best iteration is:\n",
      "[253]\ttraining's binary_logloss: 0.35433\tvalid_1's binary_logloss: 0.411227\n",
      "Training until validation scores don't improve for 1000 rounds\n"
     ]
    },
    {
     "name": "stderr",
     "output_type": "stream",
     "text": [
      "\u001b[32m[I 2021-10-03 20:39:09,737]\u001b[0m Trial 70 finished with value: 0.8338945005611672 and parameters: {'lambda_l1': 0.0006098107913919969, 'lambda_l2': 0.004892562856050067, 'num_leaves': 24, 'feature_fraction': 0.7104413059397966, 'bagging_fraction': 0.5642747807278384, 'bagging_freq': 9, 'min_child_samples': 48, 'max_depth': 3}. Best is trial 9 with value: 0.8417508417508418.\u001b[0m\n"
     ]
    },
    {
     "name": "stdout",
     "output_type": "stream",
     "text": [
      "Early stopping, best iteration is:\n",
      "[867]\ttraining's binary_logloss: 0.309068\tvalid_1's binary_logloss: 0.373285\n",
      "Training until validation scores don't improve for 1000 rounds\n",
      "Early stopping, best iteration is:\n",
      "[1065]\ttraining's binary_logloss: 0.336424\tvalid_1's binary_logloss: 0.388763\n",
      "Training until validation scores don't improve for 1000 rounds\n",
      "Early stopping, best iteration is:\n",
      "[522]\ttraining's binary_logloss: 0.362012\tvalid_1's binary_logloss: 0.393442\n",
      "Training until validation scores don't improve for 1000 rounds\n",
      "Early stopping, best iteration is:\n",
      "[127]\ttraining's binary_logloss: 0.377916\tvalid_1's binary_logloss: 0.442433\n",
      "Training until validation scores don't improve for 1000 rounds\n",
      "Early stopping, best iteration is:\n",
      "[943]\ttraining's binary_logloss: 0.338917\tvalid_1's binary_logloss: 0.404525\n",
      "Training until validation scores don't improve for 1000 rounds\n"
     ]
    },
    {
     "name": "stderr",
     "output_type": "stream",
     "text": [
      "\u001b[32m[I 2021-10-03 20:39:11,712]\u001b[0m Trial 71 finished with value: 0.8428731762065096 and parameters: {'lambda_l1': 1.485180906404422, 'lambda_l2': 0.3803493053476178, 'num_leaves': 26, 'feature_fraction': 0.8455984983693112, 'bagging_fraction': 0.400000374083712, 'bagging_freq': 5, 'min_child_samples': 39, 'max_depth': 6}. Best is trial 71 with value: 0.8428731762065096.\u001b[0m\n"
     ]
    },
    {
     "name": "stdout",
     "output_type": "stream",
     "text": [
      "Early stopping, best iteration is:\n",
      "[1385]\ttraining's binary_logloss: 0.326439\tvalid_1's binary_logloss: 0.38612\n",
      "Training until validation scores don't improve for 1000 rounds\n",
      "Early stopping, best iteration is:\n",
      "[736]\ttraining's binary_logloss: 0.319167\tvalid_1's binary_logloss: 0.389092\n",
      "Training until validation scores don't improve for 1000 rounds\n",
      "Early stopping, best iteration is:\n",
      "[406]\ttraining's binary_logloss: 0.339109\tvalid_1's binary_logloss: 0.384472\n",
      "Training until validation scores don't improve for 1000 rounds\n",
      "Early stopping, best iteration is:\n",
      "[135]\ttraining's binary_logloss: 0.352644\tvalid_1's binary_logloss: 0.450515\n",
      "Training until validation scores don't improve for 1000 rounds\n",
      "Early stopping, best iteration is:\n",
      "[70]\ttraining's binary_logloss: 0.386173\tvalid_1's binary_logloss: 0.411202\n",
      "Training until validation scores don't improve for 1000 rounds\n"
     ]
    },
    {
     "name": "stderr",
     "output_type": "stream",
     "text": [
      "\u001b[32m[I 2021-10-03 20:39:13,543]\u001b[0m Trial 72 finished with value: 0.8282828282828283 and parameters: {'lambda_l1': 1.548982040252317, 'lambda_l2': 0.7010862473542453, 'num_leaves': 26, 'feature_fraction': 0.8000266552772167, 'bagging_fraction': 0.6043746033276958, 'bagging_freq': 5, 'min_child_samples': 39, 'max_depth': 5}. Best is trial 71 with value: 0.8428731762065096.\u001b[0m\n"
     ]
    },
    {
     "name": "stdout",
     "output_type": "stream",
     "text": [
      "Early stopping, best iteration is:\n",
      "[1042]\ttraining's binary_logloss: 0.299626\tvalid_1's binary_logloss: 0.384444\n",
      "Training until validation scores don't improve for 1000 rounds\n",
      "Early stopping, best iteration is:\n",
      "[848]\ttraining's binary_logloss: 0.332118\tvalid_1's binary_logloss: 0.381701\n",
      "Training until validation scores don't improve for 1000 rounds\n",
      "Early stopping, best iteration is:\n",
      "[492]\ttraining's binary_logloss: 0.347736\tvalid_1's binary_logloss: 0.383213\n",
      "Training until validation scores don't improve for 1000 rounds\n",
      "Early stopping, best iteration is:\n",
      "[109]\ttraining's binary_logloss: 0.378547\tvalid_1's binary_logloss: 0.45378\n",
      "Training until validation scores don't improve for 1000 rounds\n",
      "Early stopping, best iteration is:\n",
      "[840]\ttraining's binary_logloss: 0.325399\tvalid_1's binary_logloss: 0.408169\n",
      "Training until validation scores don't improve for 1000 rounds\n"
     ]
    },
    {
     "name": "stderr",
     "output_type": "stream",
     "text": [
      "\u001b[32m[I 2021-10-03 20:39:15,384]\u001b[0m Trial 73 finished with value: 0.8294051627384961 and parameters: {'lambda_l1': 0.6640847935256293, 'lambda_l2': 1.8565553653291718, 'num_leaves': 32, 'feature_fraction': 0.8539705393026321, 'bagging_fraction': 0.44351900473369743, 'bagging_freq': 4, 'min_child_samples': 43, 'max_depth': 6}. Best is trial 71 with value: 0.8428731762065096.\u001b[0m\n"
     ]
    },
    {
     "name": "stdout",
     "output_type": "stream",
     "text": [
      "Early stopping, best iteration is:\n",
      "[823]\ttraining's binary_logloss: 0.336063\tvalid_1's binary_logloss: 0.386866\n",
      "Training until validation scores don't improve for 1000 rounds\n",
      "Early stopping, best iteration is:\n",
      "[692]\ttraining's binary_logloss: 0.398565\tvalid_1's binary_logloss: 0.402199\n",
      "Training until validation scores don't improve for 1000 rounds\n",
      "Early stopping, best iteration is:\n",
      "[259]\ttraining's binary_logloss: 0.407282\tvalid_1's binary_logloss: 0.424083\n",
      "Training until validation scores don't improve for 1000 rounds\n",
      "Early stopping, best iteration is:\n",
      "[486]\ttraining's binary_logloss: 0.381849\tvalid_1's binary_logloss: 0.445326\n",
      "Training until validation scores don't improve for 1000 rounds\n"
     ]
    },
    {
     "name": "stderr",
     "output_type": "stream",
     "text": [
      "\u001b[32m[I 2021-10-03 20:39:16,629]\u001b[0m Trial 74 finished with value: 0.8103254769921436 and parameters: {'lambda_l1': 4.371205985409854, 'lambda_l2': 0.10803983059373304, 'num_leaves': 21, 'feature_fraction': 0.848048350447017, 'bagging_fraction': 0.40765437535718624, 'bagging_freq': 5, 'min_child_samples': 38, 'max_depth': 6}. Best is trial 71 with value: 0.8428731762065096.\u001b[0m\n"
     ]
    },
    {
     "name": "stdout",
     "output_type": "stream",
     "text": [
      "Early stopping, best iteration is:\n",
      "[171]\ttraining's binary_logloss: 0.408665\tvalid_1's binary_logloss: 0.442189\n",
      "Training until validation scores don't improve for 1000 rounds\n",
      "Early stopping, best iteration is:\n",
      "[87]\ttraining's binary_logloss: 0.423723\tvalid_1's binary_logloss: 0.414039\n",
      "Training until validation scores don't improve for 1000 rounds\n",
      "Early stopping, best iteration is:\n",
      "[1065]\ttraining's binary_logloss: 0.322868\tvalid_1's binary_logloss: 0.38607\n",
      "Training until validation scores don't improve for 1000 rounds\n",
      "Early stopping, best iteration is:\n",
      "[991]\ttraining's binary_logloss: 0.321535\tvalid_1's binary_logloss: 0.385721\n",
      "Training until validation scores don't improve for 1000 rounds\n",
      "Early stopping, best iteration is:\n",
      "[65]\ttraining's binary_logloss: 0.396358\tvalid_1's binary_logloss: 0.457009\n",
      "Training until validation scores don't improve for 1000 rounds\n",
      "Early stopping, best iteration is:\n",
      "[1084]\ttraining's binary_logloss: 0.312976\tvalid_1's binary_logloss: 0.408836\n",
      "Training until validation scores don't improve for 1000 rounds\n"
     ]
    },
    {
     "name": "stderr",
     "output_type": "stream",
     "text": [
      "\u001b[32m[I 2021-10-03 20:39:19,795]\u001b[0m Trial 75 finished with value: 0.8305274971941639 and parameters: {'lambda_l1': 0.4305680424824451, 'lambda_l2': 5.674313044707255, 'num_leaves': 25, 'feature_fraction': 0.8706721349612683, 'bagging_fraction': 0.46083240025544125, 'bagging_freq': 5, 'min_child_samples': 40, 'max_depth': 5}. Best is trial 71 with value: 0.8428731762065096.\u001b[0m\n"
     ]
    },
    {
     "name": "stdout",
     "output_type": "stream",
     "text": [
      "Early stopping, best iteration is:\n",
      "[1390]\ttraining's binary_logloss: 0.310737\tvalid_1's binary_logloss: 0.386878\n",
      "Training until validation scores don't improve for 1000 rounds\n",
      "Early stopping, best iteration is:\n",
      "[854]\ttraining's binary_logloss: 0.358956\tvalid_1's binary_logloss: 0.390379\n",
      "Training until validation scores don't improve for 1000 rounds\n",
      "Early stopping, best iteration is:\n",
      "[515]\ttraining's binary_logloss: 0.373696\tvalid_1's binary_logloss: 0.398211\n",
      "Training until validation scores don't improve for 1000 rounds\n",
      "Early stopping, best iteration is:\n",
      "[116]\ttraining's binary_logloss: 0.389908\tvalid_1's binary_logloss: 0.45761\n",
      "Training until validation scores don't improve for 1000 rounds\n",
      "Early stopping, best iteration is:\n",
      "[1400]\ttraining's binary_logloss: 0.339177\tvalid_1's binary_logloss: 0.406173\n",
      "Training until validation scores don't improve for 1000 rounds\n"
     ]
    },
    {
     "name": "stderr",
     "output_type": "stream",
     "text": [
      "\u001b[32m[I 2021-10-03 20:39:22,703]\u001b[0m Trial 76 finished with value: 0.8249158249158249 and parameters: {'lambda_l1': 1.9453661160187359, 'lambda_l2': 0.31487557088373475, 'num_leaves': 35, 'feature_fraction': 0.7607413592306012, 'bagging_fraction': 0.4741296016753952, 'bagging_freq': 4, 'min_child_samples': 51, 'max_depth': 7}. Best is trial 71 with value: 0.8428731762065096.\u001b[0m\n"
     ]
    },
    {
     "name": "stdout",
     "output_type": "stream",
     "text": [
      "Early stopping, best iteration is:\n",
      "[3078]\ttraining's binary_logloss: 0.317038\tvalid_1's binary_logloss: 0.396527\n",
      "Training until validation scores don't improve for 1000 rounds\n",
      "Early stopping, best iteration is:\n",
      "[184]\ttraining's binary_logloss: 0.333319\tvalid_1's binary_logloss: 0.388988\n",
      "Training until validation scores don't improve for 1000 rounds\n",
      "Early stopping, best iteration is:\n",
      "[456]\ttraining's binary_logloss: 0.289996\tvalid_1's binary_logloss: 0.382188\n",
      "Training until validation scores don't improve for 1000 rounds\n",
      "Early stopping, best iteration is:\n",
      "[176]\ttraining's binary_logloss: 0.318057\tvalid_1's binary_logloss: 0.448719\n",
      "Training until validation scores don't improve for 1000 rounds\n",
      "Early stopping, best iteration is:\n",
      "[574]\ttraining's binary_logloss: 0.264186\tvalid_1's binary_logloss: 0.411434\n",
      "Training until validation scores don't improve for 1000 rounds\n"
     ]
    },
    {
     "name": "stderr",
     "output_type": "stream",
     "text": [
      "\u001b[32m[I 2021-10-03 20:39:25,622]\u001b[0m Trial 77 finished with value: 0.8327721661054994 and parameters: {'lambda_l1': 0.0004369865620719541, 'lambda_l2': 0.0006318189974483451, 'num_leaves': 31, 'feature_fraction': 0.8119488892848532, 'bagging_fraction': 0.49242757034340706, 'bagging_freq': 6, 'min_child_samples': 36, 'max_depth': 7}. Best is trial 71 with value: 0.8428731762065096.\u001b[0m\n"
     ]
    },
    {
     "name": "stdout",
     "output_type": "stream",
     "text": [
      "Early stopping, best iteration is:\n",
      "[570]\ttraining's binary_logloss: 0.275797\tvalid_1's binary_logloss: 0.384418\n",
      "Training until validation scores don't improve for 1000 rounds\n",
      "Early stopping, best iteration is:\n",
      "[1687]\ttraining's binary_logloss: 0.286527\tvalid_1's binary_logloss: 0.38608\n",
      "Training until validation scores don't improve for 1000 rounds\n",
      "Early stopping, best iteration is:\n",
      "[786]\ttraining's binary_logloss: 0.311638\tvalid_1's binary_logloss: 0.377777\n",
      "Training until validation scores don't improve for 1000 rounds\n",
      "Early stopping, best iteration is:\n",
      "[201]\ttraining's binary_logloss: 0.347336\tvalid_1's binary_logloss: 0.451121\n",
      "Training until validation scores don't improve for 1000 rounds\n",
      "Early stopping, best iteration is:\n",
      "[452]\ttraining's binary_logloss: 0.326995\tvalid_1's binary_logloss: 0.402135\n",
      "Training until validation scores don't improve for 1000 rounds\n"
     ]
    },
    {
     "name": "stderr",
     "output_type": "stream",
     "text": [
      "\u001b[32m[I 2021-10-03 20:39:28,098]\u001b[0m Trial 78 finished with value: 0.8271604938271605 and parameters: {'lambda_l1': 0.016300850863027103, 'lambda_l2': 0.01386260327915756, 'num_leaves': 19, 'feature_fraction': 0.6301598093274617, 'bagging_fraction': 0.5151546142201352, 'bagging_freq': 8, 'min_child_samples': 47, 'max_depth': 4}. Best is trial 71 with value: 0.8428731762065096.\u001b[0m\n"
     ]
    },
    {
     "name": "stdout",
     "output_type": "stream",
     "text": [
      "Early stopping, best iteration is:\n",
      "[887]\ttraining's binary_logloss: 0.30568\tvalid_1's binary_logloss: 0.381023\n",
      "Training until validation scores don't improve for 1000 rounds\n",
      "Early stopping, best iteration is:\n",
      "[185]\ttraining's binary_logloss: 0.381135\tvalid_1's binary_logloss: 0.396575\n",
      "Training until validation scores don't improve for 1000 rounds\n",
      "Early stopping, best iteration is:\n",
      "[627]\ttraining's binary_logloss: 0.350386\tvalid_1's binary_logloss: 0.385889\n",
      "Training until validation scores don't improve for 1000 rounds\n",
      "Early stopping, best iteration is:\n",
      "[219]\ttraining's binary_logloss: 0.358893\tvalid_1's binary_logloss: 0.444168\n",
      "Training until validation scores don't improve for 1000 rounds\n",
      "Early stopping, best iteration is:\n",
      "[107]\ttraining's binary_logloss: 0.389718\tvalid_1's binary_logloss: 0.419329\n",
      "Training until validation scores don't improve for 1000 rounds\n"
     ]
    },
    {
     "name": "stderr",
     "output_type": "stream",
     "text": [
      "\u001b[32m[I 2021-10-03 20:39:29,553]\u001b[0m Trial 79 finished with value: 0.8338945005611672 and parameters: {'lambda_l1': 0.0023470748761420914, 'lambda_l2': 0.0015579481723667042, 'num_leaves': 23, 'feature_fraction': 0.6461840372123715, 'bagging_fraction': 0.5555922130966936, 'bagging_freq': 8, 'min_child_samples': 42, 'max_depth': 2}. Best is trial 71 with value: 0.8428731762065096.\u001b[0m\n"
     ]
    },
    {
     "name": "stdout",
     "output_type": "stream",
     "text": [
      "Early stopping, best iteration is:\n",
      "[880]\ttraining's binary_logloss: 0.337403\tvalid_1's binary_logloss: 0.397735\n",
      "Training until validation scores don't improve for 1000 rounds\n",
      "Early stopping, best iteration is:\n",
      "[615]\ttraining's binary_logloss: 0.334809\tvalid_1's binary_logloss: 0.389103\n",
      "Training until validation scores don't improve for 1000 rounds\n",
      "Early stopping, best iteration is:\n",
      "[844]\ttraining's binary_logloss: 0.31927\tvalid_1's binary_logloss: 0.386003\n",
      "Training until validation scores don't improve for 1000 rounds\n",
      "Early stopping, best iteration is:\n",
      "[81]\ttraining's binary_logloss: 0.383184\tvalid_1's binary_logloss: 0.457381\n",
      "Training until validation scores don't improve for 1000 rounds\n",
      "Early stopping, best iteration is:\n",
      "[1007]\ttraining's binary_logloss: 0.307233\tvalid_1's binary_logloss: 0.404408\n",
      "Training until validation scores don't improve for 1000 rounds\n"
     ]
    },
    {
     "name": "stderr",
     "output_type": "stream",
     "text": [
      "\u001b[32m[I 2021-10-03 20:39:31,850]\u001b[0m Trial 80 finished with value: 0.8260381593714927 and parameters: {'lambda_l1': 0.4275605011955214, 'lambda_l2': 0.029844842399729378, 'num_leaves': 28, 'feature_fraction': 0.8264865802921936, 'bagging_fraction': 0.43000548599846544, 'bagging_freq': 3, 'min_child_samples': 44, 'max_depth': 6}. Best is trial 71 with value: 0.8428731762065096.\u001b[0m\n"
     ]
    },
    {
     "name": "stdout",
     "output_type": "stream",
     "text": [
      "Early stopping, best iteration is:\n",
      "[2349]\ttraining's binary_logloss: 0.271743\tvalid_1's binary_logloss: 0.370512\n",
      "Training until validation scores don't improve for 1000 rounds\n",
      "Early stopping, best iteration is:\n",
      "[189]\ttraining's binary_logloss: 0.330498\tvalid_1's binary_logloss: 0.377438\n",
      "Training until validation scores don't improve for 1000 rounds\n",
      "Early stopping, best iteration is:\n",
      "[389]\ttraining's binary_logloss: 0.287287\tvalid_1's binary_logloss: 0.373067\n",
      "Training until validation scores don't improve for 1000 rounds\n",
      "Early stopping, best iteration is:\n",
      "[69]\ttraining's binary_logloss: 0.350157\tvalid_1's binary_logloss: 0.450239\n",
      "Training until validation scores don't improve for 1000 rounds\n",
      "Early stopping, best iteration is:\n",
      "[68]\ttraining's binary_logloss: 0.360397\tvalid_1's binary_logloss: 0.40734\n",
      "Training until validation scores don't improve for 1000 rounds\n"
     ]
    },
    {
     "name": "stderr",
     "output_type": "stream",
     "text": [
      "\u001b[32m[I 2021-10-03 20:39:33,442]\u001b[0m Trial 81 finished with value: 0.8294051627384961 and parameters: {'lambda_l1': 0.13848027959263323, 'lambda_l2': 0.040502137353337596, 'num_leaves': 27, 'feature_fraction': 0.7654115121780911, 'bagging_fraction': 0.5346557515156778, 'bagging_freq': 5, 'min_child_samples': 34, 'max_depth': 7}. Best is trial 71 with value: 0.8428731762065096.\u001b[0m\n"
     ]
    },
    {
     "name": "stdout",
     "output_type": "stream",
     "text": [
      "Early stopping, best iteration is:\n",
      "[556]\ttraining's binary_logloss: 0.264066\tvalid_1's binary_logloss: 0.379435\n",
      "Training until validation scores don't improve for 1000 rounds\n",
      "Early stopping, best iteration is:\n",
      "[633]\ttraining's binary_logloss: 0.300641\tvalid_1's binary_logloss: 0.389757\n",
      "Training until validation scores don't improve for 1000 rounds\n",
      "Early stopping, best iteration is:\n",
      "[314]\ttraining's binary_logloss: 0.328665\tvalid_1's binary_logloss: 0.377917\n",
      "Training until validation scores don't improve for 1000 rounds\n",
      "Early stopping, best iteration is:\n",
      "[200]\ttraining's binary_logloss: 0.329472\tvalid_1's binary_logloss: 0.454181\n",
      "Training until validation scores don't improve for 1000 rounds\n",
      "Early stopping, best iteration is:\n",
      "[103]\ttraining's binary_logloss: 0.358237\tvalid_1's binary_logloss: 0.415052\n",
      "Training until validation scores don't improve for 1000 rounds\n"
     ]
    },
    {
     "name": "stderr",
     "output_type": "stream",
     "text": [
      "\u001b[32m[I 2021-10-03 20:39:35,133]\u001b[0m Trial 82 finished with value: 0.8204264870931538 and parameters: {'lambda_l1': 0.00016233827803116367, 'lambda_l2': 0.0008377246402261999, 'num_leaves': 23, 'feature_fraction': 0.7372911261419051, 'bagging_fraction': 0.47767117677814885, 'bagging_freq': 8, 'min_child_samples': 37, 'max_depth': 7}. Best is trial 71 with value: 0.8428731762065096.\u001b[0m\n"
     ]
    },
    {
     "name": "stdout",
     "output_type": "stream",
     "text": [
      "Early stopping, best iteration is:\n",
      "[832]\ttraining's binary_logloss: 0.270449\tvalid_1's binary_logloss: 0.382706\n",
      "Training until validation scores don't improve for 1000 rounds\n",
      "Early stopping, best iteration is:\n",
      "[295]\ttraining's binary_logloss: 0.339854\tvalid_1's binary_logloss: 0.388855\n",
      "Training until validation scores don't improve for 1000 rounds\n",
      "Early stopping, best iteration is:\n",
      "[327]\ttraining's binary_logloss: 0.334088\tvalid_1's binary_logloss: 0.386172\n",
      "Training until validation scores don't improve for 1000 rounds\n",
      "Early stopping, best iteration is:\n",
      "[127]\ttraining's binary_logloss: 0.351113\tvalid_1's binary_logloss: 0.447257\n",
      "Training until validation scores don't improve for 1000 rounds\n",
      "Early stopping, best iteration is:\n",
      "[135]\ttraining's binary_logloss: 0.359377\tvalid_1's binary_logloss: 0.409905\n",
      "Training until validation scores don't improve for 1000 rounds\n"
     ]
    },
    {
     "name": "stderr",
     "output_type": "stream",
     "text": [
      "\u001b[32m[I 2021-10-03 20:39:36,586]\u001b[0m Trial 83 finished with value: 0.8271604938271605 and parameters: {'lambda_l1': 0.5748289236221958, 'lambda_l2': 0.2854684169292585, 'num_leaves': 29, 'feature_fraction': 0.7837478979420839, 'bagging_fraction': 0.504260502593951, 'bagging_freq': 5, 'min_child_samples': 39, 'max_depth': 5}. Best is trial 71 with value: 0.8428731762065096.\u001b[0m\n"
     ]
    },
    {
     "name": "stdout",
     "output_type": "stream",
     "text": [
      "Early stopping, best iteration is:\n",
      "[554]\ttraining's binary_logloss: 0.310876\tvalid_1's binary_logloss: 0.383942\n",
      "Training until validation scores don't improve for 1000 rounds\n",
      "Early stopping, best iteration is:\n",
      "[221]\ttraining's binary_logloss: 0.370843\tvalid_1's binary_logloss: 0.390878\n",
      "Training until validation scores don't improve for 1000 rounds\n",
      "Early stopping, best iteration is:\n",
      "[563]\ttraining's binary_logloss: 0.339753\tvalid_1's binary_logloss: 0.38445\n",
      "Training until validation scores don't improve for 1000 rounds\n",
      "Early stopping, best iteration is:\n",
      "[155]\ttraining's binary_logloss: 0.360575\tvalid_1's binary_logloss: 0.457631\n",
      "Training until validation scores don't improve for 1000 rounds\n",
      "Early stopping, best iteration is:\n",
      "[601]\ttraining's binary_logloss: 0.334875\tvalid_1's binary_logloss: 0.413665\n",
      "Training until validation scores don't improve for 1000 rounds\n"
     ]
    },
    {
     "name": "stderr",
     "output_type": "stream",
     "text": [
      "\u001b[32m[I 2021-10-03 20:39:38,135]\u001b[0m Trial 84 finished with value: 0.8260381593714927 and parameters: {'lambda_l1': 1.3274121433648542, 'lambda_l2': 1.2310057230742188, 'num_leaves': 33, 'feature_fraction': 0.7937986253736918, 'bagging_fraction': 0.45994540058497013, 'bagging_freq': 6, 'min_child_samples': 35, 'max_depth': 4}. Best is trial 71 with value: 0.8428731762065096.\u001b[0m\n"
     ]
    },
    {
     "name": "stdout",
     "output_type": "stream",
     "text": [
      "Early stopping, best iteration is:\n",
      "[1128]\ttraining's binary_logloss: 0.317495\tvalid_1's binary_logloss: 0.38664\n",
      "Training until validation scores don't improve for 1000 rounds\n",
      "Early stopping, best iteration is:\n",
      "[962]\ttraining's binary_logloss: 0.282896\tvalid_1's binary_logloss: 0.386656\n",
      "Training until validation scores don't improve for 1000 rounds\n",
      "Early stopping, best iteration is:\n",
      "[458]\ttraining's binary_logloss: 0.307311\tvalid_1's binary_logloss: 0.384468\n",
      "Training until validation scores don't improve for 1000 rounds\n",
      "Early stopping, best iteration is:\n",
      "[94]\ttraining's binary_logloss: 0.35333\tvalid_1's binary_logloss: 0.455162\n",
      "Training until validation scores don't improve for 1000 rounds\n",
      "Early stopping, best iteration is:\n",
      "[169]\ttraining's binary_logloss: 0.341771\tvalid_1's binary_logloss: 0.409131\n",
      "Training until validation scores don't improve for 1000 rounds\n"
     ]
    },
    {
     "name": "stderr",
     "output_type": "stream",
     "text": [
      "\u001b[32m[I 2021-10-03 20:39:39,889]\u001b[0m Trial 85 finished with value: 0.8338945005611672 and parameters: {'lambda_l1': 0.00026892998299701836, 'lambda_l2': 5.899389203929196e-05, 'num_leaves': 20, 'feature_fraction': 0.7099047137620527, 'bagging_fraction': 0.5164616399503268, 'bagging_freq': 7, 'min_child_samples': 41, 'max_depth': 7}. Best is trial 71 with value: 0.8428731762065096.\u001b[0m\n"
     ]
    },
    {
     "name": "stdout",
     "output_type": "stream",
     "text": [
      "Early stopping, best iteration is:\n",
      "[772]\ttraining's binary_logloss: 0.27545\tvalid_1's binary_logloss: 0.38351\n",
      "Training until validation scores don't improve for 1000 rounds\n",
      "Early stopping, best iteration is:\n",
      "[303]\ttraining's binary_logloss: 0.315248\tvalid_1's binary_logloss: 0.376449\n",
      "Training until validation scores don't improve for 1000 rounds\n",
      "Early stopping, best iteration is:\n",
      "[276]\ttraining's binary_logloss: 0.322156\tvalid_1's binary_logloss: 0.395825\n",
      "Training until validation scores don't improve for 1000 rounds\n",
      "Early stopping, best iteration is:\n",
      "[113]\ttraining's binary_logloss: 0.338725\tvalid_1's binary_logloss: 0.451053\n",
      "Training until validation scores don't improve for 1000 rounds\n",
      "Early stopping, best iteration is:\n",
      "[104]\ttraining's binary_logloss: 0.344305\tvalid_1's binary_logloss: 0.40876\n",
      "Training until validation scores don't improve for 1000 rounds\n"
     ]
    },
    {
     "name": "stderr",
     "output_type": "stream",
     "text": [
      "\u001b[32m[I 2021-10-03 20:39:41,442]\u001b[0m Trial 86 finished with value: 0.8271604938271605 and parameters: {'lambda_l1': 0.001058149352588678, 'lambda_l2': 0.00256380290681985, 'num_leaves': 25, 'feature_fraction': 0.8918079209650255, 'bagging_fraction': 0.49467093127319683, 'bagging_freq': 8, 'min_child_samples': 37, 'max_depth': 7}. Best is trial 71 with value: 0.8428731762065096.\u001b[0m\n"
     ]
    },
    {
     "name": "stdout",
     "output_type": "stream",
     "text": [
      "Early stopping, best iteration is:\n",
      "[720]\ttraining's binary_logloss: 0.260234\tvalid_1's binary_logloss: 0.366918\n",
      "Training until validation scores don't improve for 1000 rounds\n",
      "Early stopping, best iteration is:\n",
      "[390]\ttraining's binary_logloss: 0.392901\tvalid_1's binary_logloss: 0.402809\n",
      "Training until validation scores don't improve for 1000 rounds\n",
      "Early stopping, best iteration is:\n",
      "[391]\ttraining's binary_logloss: 0.390532\tvalid_1's binary_logloss: 0.406703\n",
      "Training until validation scores don't improve for 1000 rounds\n",
      "Early stopping, best iteration is:\n",
      "[375]\ttraining's binary_logloss: 0.376181\tvalid_1's binary_logloss: 0.457775\n",
      "Training until validation scores don't improve for 1000 rounds\n"
     ]
    },
    {
     "name": "stderr",
     "output_type": "stream",
     "text": [
      "\u001b[32m[I 2021-10-03 20:39:42,529]\u001b[0m Trial 87 finished with value: 0.8260381593714927 and parameters: {'lambda_l1': 3.1102615635082316, 'lambda_l2': 0.007662940866952471, 'num_leaves': 18, 'feature_fraction': 0.6604828153884409, 'bagging_fraction': 0.44199791347534906, 'bagging_freq': 3, 'min_child_samples': 42, 'max_depth': 6}. Best is trial 71 with value: 0.8428731762065096.\u001b[0m\n"
     ]
    },
    {
     "name": "stdout",
     "output_type": "stream",
     "text": [
      "Early stopping, best iteration is:\n",
      "[639]\ttraining's binary_logloss: 0.373179\tvalid_1's binary_logloss: 0.408841\n",
      "Training until validation scores don't improve for 1000 rounds\n",
      "Early stopping, best iteration is:\n",
      "[199]\ttraining's binary_logloss: 0.399703\tvalid_1's binary_logloss: 0.409855\n",
      "Training until validation scores don't improve for 1000 rounds\n",
      "Early stopping, best iteration is:\n",
      "[161]\ttraining's binary_logloss: 0.435788\tvalid_1's binary_logloss: 0.427518\n",
      "Training until validation scores don't improve for 1000 rounds\n",
      "Early stopping, best iteration is:\n",
      "[600]\ttraining's binary_logloss: 0.414908\tvalid_1's binary_logloss: 0.421196\n",
      "Training until validation scores don't improve for 1000 rounds\n",
      "Early stopping, best iteration is:\n",
      "[40]\ttraining's binary_logloss: 0.438326\tvalid_1's binary_logloss: 0.473801\n",
      "Training until validation scores don't improve for 1000 rounds\n"
     ]
    },
    {
     "name": "stderr",
     "output_type": "stream",
     "text": [
      "\u001b[32m[I 2021-10-03 20:39:43,439]\u001b[0m Trial 88 finished with value: 0.7934904601571269 and parameters: {'lambda_l1': 8.000848392211863, 'lambda_l2': 0.09214861985924915, 'num_leaves': 22, 'feature_fraction': 0.745997390493272, 'bagging_fraction': 0.5260890596183414, 'bagging_freq': 9, 'min_child_samples': 45, 'max_depth': 5}. Best is trial 71 with value: 0.8428731762065096.\u001b[0m\n"
     ]
    },
    {
     "name": "stdout",
     "output_type": "stream",
     "text": [
      "Early stopping, best iteration is:\n",
      "[493]\ttraining's binary_logloss: 0.416093\tvalid_1's binary_logloss: 0.437484\n",
      "Training until validation scores don't improve for 1000 rounds\n",
      "Early stopping, best iteration is:\n",
      "[520]\ttraining's binary_logloss: 0.415791\tvalid_1's binary_logloss: 0.409285\n",
      "Training until validation scores don't improve for 1000 rounds\n",
      "Early stopping, best iteration is:\n",
      "[210]\ttraining's binary_logloss: 0.352891\tvalid_1's binary_logloss: 0.388527\n",
      "Training until validation scores don't improve for 1000 rounds\n",
      "Early stopping, best iteration is:\n",
      "[314]\ttraining's binary_logloss: 0.346893\tvalid_1's binary_logloss: 0.379356\n",
      "Training until validation scores don't improve for 1000 rounds\n",
      "Early stopping, best iteration is:\n",
      "[133]\ttraining's binary_logloss: 0.350264\tvalid_1's binary_logloss: 0.455675\n",
      "Training until validation scores don't improve for 1000 rounds\n",
      "Early stopping, best iteration is:\n",
      "[46]\ttraining's binary_logloss: 0.396251\tvalid_1's binary_logloss: 0.410004\n",
      "Training until validation scores don't improve for 1000 rounds\n"
     ]
    },
    {
     "name": "stderr",
     "output_type": "stream",
     "text": [
      "\u001b[32m[I 2021-10-03 20:39:44,748]\u001b[0m Trial 89 finished with value: 0.835016835016835 and parameters: {'lambda_l1': 0.0005667933922891323, 'lambda_l2': 1.9896809439667187e-05, 'num_leaves': 31, 'feature_fraction': 0.7726115027685199, 'bagging_fraction': 0.4652385729821252, 'bagging_freq': 9, 'min_child_samples': 33, 'max_depth': 3}. Best is trial 71 with value: 0.8428731762065096.\u001b[0m\n"
     ]
    },
    {
     "name": "stdout",
     "output_type": "stream",
     "text": [
      "Early stopping, best iteration is:\n",
      "[868]\ttraining's binary_logloss: 0.291931\tvalid_1's binary_logloss: 0.389462\n",
      "Training until validation scores don't improve for 1000 rounds\n",
      "Early stopping, best iteration is:\n",
      "[849]\ttraining's binary_logloss: 0.32417\tvalid_1's binary_logloss: 0.389248\n",
      "Training until validation scores don't improve for 1000 rounds\n",
      "Early stopping, best iteration is:\n",
      "[1677]\ttraining's binary_logloss: 0.289212\tvalid_1's binary_logloss: 0.389687\n",
      "Training until validation scores don't improve for 1000 rounds\n",
      "Early stopping, best iteration is:\n",
      "[108]\ttraining's binary_logloss: 0.374727\tvalid_1's binary_logloss: 0.447575\n",
      "Training until validation scores don't improve for 1000 rounds\n",
      "Early stopping, best iteration is:\n",
      "[387]\ttraining's binary_logloss: 0.349275\tvalid_1's binary_logloss: 0.39617\n",
      "Training until validation scores don't improve for 1000 rounds\n"
     ]
    },
    {
     "name": "stderr",
     "output_type": "stream",
     "text": [
      "\u001b[32m[I 2021-10-03 20:39:46,879]\u001b[0m Trial 90 finished with value: 0.8338945005611672 and parameters: {'lambda_l1': 0.8821972302450356, 'lambda_l2': 0.06474841881151244, 'num_leaves': 15, 'feature_fraction': 0.8160313251937483, 'bagging_fraction': 0.41330713241368505, 'bagging_freq': 4, 'min_child_samples': 38, 'max_depth': 4}. Best is trial 71 with value: 0.8428731762065096.\u001b[0m\n"
     ]
    },
    {
     "name": "stdout",
     "output_type": "stream",
     "text": [
      "Early stopping, best iteration is:\n",
      "[752]\ttraining's binary_logloss: 0.330153\tvalid_1's binary_logloss: 0.386278\n",
      "Training until validation scores don't improve for 1000 rounds\n",
      "Early stopping, best iteration is:\n",
      "[1065]\ttraining's binary_logloss: 0.3057\tvalid_1's binary_logloss: 0.385122\n",
      "Training until validation scores don't improve for 1000 rounds\n",
      "Early stopping, best iteration is:\n",
      "[400]\ttraining's binary_logloss: 0.33609\tvalid_1's binary_logloss: 0.386248\n",
      "Training until validation scores don't improve for 1000 rounds\n",
      "Early stopping, best iteration is:\n",
      "[128]\ttraining's binary_logloss: 0.356922\tvalid_1's binary_logloss: 0.452063\n",
      "Training until validation scores don't improve for 1000 rounds\n",
      "Early stopping, best iteration is:\n",
      "[240]\ttraining's binary_logloss: 0.351192\tvalid_1's binary_logloss: 0.40407\n",
      "Training until validation scores don't improve for 1000 rounds\n"
     ]
    },
    {
     "name": "stderr",
     "output_type": "stream",
     "text": [
      "\u001b[32m[I 2021-10-03 20:39:48,712]\u001b[0m Trial 91 finished with value: 0.8316498316498316 and parameters: {'lambda_l1': 0.7284443130532632, 'lambda_l2': 0.0536208619587915, 'num_leaves': 26, 'feature_fraction': 0.804813386515879, 'bagging_fraction': 0.47849486116019346, 'bagging_freq': 5, 'min_child_samples': 40, 'max_depth': 6}. Best is trial 71 with value: 0.8428731762065096.\u001b[0m\n"
     ]
    },
    {
     "name": "stdout",
     "output_type": "stream",
     "text": [
      "Early stopping, best iteration is:\n",
      "[1760]\ttraining's binary_logloss: 0.274601\tvalid_1's binary_logloss: 0.37313\n",
      "Training until validation scores don't improve for 1000 rounds\n",
      "Early stopping, best iteration is:\n",
      "[139]\ttraining's binary_logloss: 0.360479\tvalid_1's binary_logloss: 0.392166\n",
      "Training until validation scores don't improve for 1000 rounds\n",
      "Early stopping, best iteration is:\n",
      "[464]\ttraining's binary_logloss: 0.316924\tvalid_1's binary_logloss: 0.381317\n",
      "Training until validation scores don't improve for 1000 rounds\n",
      "Early stopping, best iteration is:\n",
      "[174]\ttraining's binary_logloss: 0.343201\tvalid_1's binary_logloss: 0.457319\n",
      "Training until validation scores don't improve for 1000 rounds\n",
      "Early stopping, best iteration is:\n",
      "[60]\ttraining's binary_logloss: 0.390554\tvalid_1's binary_logloss: 0.415077\n",
      "Training until validation scores don't improve for 1000 rounds\n"
     ]
    },
    {
     "name": "stderr",
     "output_type": "stream",
     "text": [
      "\u001b[32m[I 2021-10-03 20:39:50,319]\u001b[0m Trial 92 finished with value: 0.8249158249158249 and parameters: {'lambda_l1': 0.9155643215905718, 'lambda_l2': 0.16615361264227646, 'num_leaves': 30, 'feature_fraction': 0.8309769867044353, 'bagging_fraction': 0.49152595813522015, 'bagging_freq': 6, 'min_child_samples': 35, 'max_depth': 5}. Best is trial 71 with value: 0.8428731762065096.\u001b[0m\n"
     ]
    },
    {
     "name": "stdout",
     "output_type": "stream",
     "text": [
      "Early stopping, best iteration is:\n",
      "[1452]\ttraining's binary_logloss: 0.269555\tvalid_1's binary_logloss: 0.384253\n",
      "Training until validation scores don't improve for 1000 rounds\n",
      "Early stopping, best iteration is:\n",
      "[691]\ttraining's binary_logloss: 0.279966\tvalid_1's binary_logloss: 0.386518\n",
      "Training until validation scores don't improve for 1000 rounds\n",
      "Early stopping, best iteration is:\n",
      "[388]\ttraining's binary_logloss: 0.304476\tvalid_1's binary_logloss: 0.370916\n",
      "Training until validation scores don't improve for 1000 rounds\n",
      "Early stopping, best iteration is:\n",
      "[70]\ttraining's binary_logloss: 0.360294\tvalid_1's binary_logloss: 0.448211\n",
      "Training until validation scores don't improve for 1000 rounds\n",
      "Early stopping, best iteration is:\n",
      "[72]\ttraining's binary_logloss: 0.371798\tvalid_1's binary_logloss: 0.407034\n",
      "Training until validation scores don't improve for 1000 rounds\n"
     ]
    },
    {
     "name": "stderr",
     "output_type": "stream",
     "text": [
      "\u001b[32m[I 2021-10-03 20:39:51,963]\u001b[0m Trial 93 finished with value: 0.8338945005611672 and parameters: {'lambda_l1': 5.128328112616962e-05, 'lambda_l2': 0.02069269111696595, 'num_leaves': 25, 'feature_fraction': 0.8469614705629959, 'bagging_fraction': 0.5737775458013061, 'bagging_freq': 5, 'min_child_samples': 44, 'max_depth': 6}. Best is trial 71 with value: 0.8428731762065096.\u001b[0m\n"
     ]
    },
    {
     "name": "stdout",
     "output_type": "stream",
     "text": [
      "Early stopping, best iteration is:\n",
      "[565]\ttraining's binary_logloss: 0.285408\tvalid_1's binary_logloss: 0.377874\n",
      "Training until validation scores don't improve for 1000 rounds\n",
      "Early stopping, best iteration is:\n",
      "[395]\ttraining's binary_logloss: 0.298632\tvalid_1's binary_logloss: 0.365957\n",
      "Training until validation scores don't improve for 1000 rounds\n",
      "Early stopping, best iteration is:\n",
      "[621]\ttraining's binary_logloss: 0.266361\tvalid_1's binary_logloss: 0.378813\n",
      "Training until validation scores don't improve for 1000 rounds\n",
      "Early stopping, best iteration is:\n",
      "[112]\ttraining's binary_logloss: 0.33672\tvalid_1's binary_logloss: 0.441606\n",
      "Training until validation scores don't improve for 1000 rounds\n",
      "Early stopping, best iteration is:\n",
      "[80]\ttraining's binary_logloss: 0.361784\tvalid_1's binary_logloss: 0.417928\n",
      "Training until validation scores don't improve for 1000 rounds\n"
     ]
    },
    {
     "name": "stderr",
     "output_type": "stream",
     "text": [
      "\u001b[32m[I 2021-10-03 20:39:53,861]\u001b[0m Trial 94 finished with value: 0.8316498316498316 and parameters: {'lambda_l1': 0.00022245044345651252, 'lambda_l2': 0.0004567518865538676, 'num_leaves': 28, 'feature_fraction': 0.7526767069377228, 'bagging_fraction': 0.544424169200418, 'bagging_freq': 8, 'min_child_samples': 38, 'max_depth': 7}. Best is trial 71 with value: 0.8428731762065096.\u001b[0m\n"
     ]
    },
    {
     "name": "stdout",
     "output_type": "stream",
     "text": [
      "Early stopping, best iteration is:\n",
      "[1504]\ttraining's binary_logloss: 0.213998\tvalid_1's binary_logloss: 0.383136\n",
      "Training until validation scores don't improve for 1000 rounds\n",
      "Early stopping, best iteration is:\n",
      "[236]\ttraining's binary_logloss: 0.342956\tvalid_1's binary_logloss: 0.387568\n",
      "Training until validation scores don't improve for 1000 rounds\n",
      "Early stopping, best iteration is:\n",
      "[312]\ttraining's binary_logloss: 0.335294\tvalid_1's binary_logloss: 0.379339\n",
      "Training until validation scores don't improve for 1000 rounds\n",
      "Early stopping, best iteration is:\n",
      "[108]\ttraining's binary_logloss: 0.350386\tvalid_1's binary_logloss: 0.450252\n",
      "Training until validation scores don't improve for 1000 rounds\n",
      "Early stopping, best iteration is:\n",
      "[112]\ttraining's binary_logloss: 0.362014\tvalid_1's binary_logloss: 0.411329\n",
      "Training until validation scores don't improve for 1000 rounds\n"
     ]
    },
    {
     "name": "stderr",
     "output_type": "stream",
     "text": [
      "\u001b[32m[I 2021-10-03 20:39:55,320]\u001b[0m Trial 95 finished with value: 0.8316498316498316 and parameters: {'lambda_l1': 0.3289833587202718, 'lambda_l2': 0.014375033754609098, 'num_leaves': 22, 'feature_fraction': 0.8626736760589176, 'bagging_fraction': 0.5125659521314245, 'bagging_freq': 4, 'min_child_samples': 40, 'max_depth': 4}. Best is trial 71 with value: 0.8428731762065096.\u001b[0m\n"
     ]
    },
    {
     "name": "stdout",
     "output_type": "stream",
     "text": [
      "Early stopping, best iteration is:\n",
      "[752]\ttraining's binary_logloss: 0.293441\tvalid_1's binary_logloss: 0.376692\n",
      "Training until validation scores don't improve for 1000 rounds\n",
      "Early stopping, best iteration is:\n",
      "[161]\ttraining's binary_logloss: 0.377771\tvalid_1's binary_logloss: 0.393696\n",
      "Training until validation scores don't improve for 1000 rounds\n",
      "Early stopping, best iteration is:\n",
      "[592]\ttraining's binary_logloss: 0.343378\tvalid_1's binary_logloss: 0.385352\n",
      "Training until validation scores don't improve for 1000 rounds\n",
      "Early stopping, best iteration is:\n",
      "[223]\ttraining's binary_logloss: 0.3519\tvalid_1's binary_logloss: 0.448914\n",
      "Training until validation scores don't improve for 1000 rounds\n",
      "Early stopping, best iteration is:\n",
      "[61]\ttraining's binary_logloss: 0.397396\tvalid_1's binary_logloss: 0.417252\n",
      "Training until validation scores don't improve for 1000 rounds\n"
     ]
    },
    {
     "name": "stderr",
     "output_type": "stream",
     "text": [
      "\u001b[32m[I 2021-10-03 20:39:56,694]\u001b[0m Trial 96 finished with value: 0.8282828282828283 and parameters: {'lambda_l1': 0.00034933893837018677, 'lambda_l2': 0.0011561786768434102, 'num_leaves': 24, 'feature_fraction': 0.7872753506644666, 'bagging_fraction': 0.5343012966644072, 'bagging_freq': 8, 'min_child_samples': 34, 'max_depth': 2}. Best is trial 71 with value: 0.8428731762065096.\u001b[0m\n"
     ]
    },
    {
     "name": "stdout",
     "output_type": "stream",
     "text": [
      "Early stopping, best iteration is:\n",
      "[1504]\ttraining's binary_logloss: 0.305501\tvalid_1's binary_logloss: 0.391651\n",
      "Training until validation scores don't improve for 1000 rounds\n",
      "Early stopping, best iteration is:\n",
      "[1060]\ttraining's binary_logloss: 0.309294\tvalid_1's binary_logloss: 0.381097\n",
      "Training until validation scores don't improve for 1000 rounds\n",
      "Early stopping, best iteration is:\n",
      "[547]\ttraining's binary_logloss: 0.331426\tvalid_1's binary_logloss: 0.377482\n",
      "Training until validation scores don't improve for 1000 rounds\n",
      "Early stopping, best iteration is:\n",
      "[191]\ttraining's binary_logloss: 0.350141\tvalid_1's binary_logloss: 0.462187\n",
      "Training until validation scores don't improve for 1000 rounds\n",
      "Early stopping, best iteration is:\n",
      "[679]\ttraining's binary_logloss: 0.314297\tvalid_1's binary_logloss: 0.422433\n",
      "Training until validation scores don't improve for 1000 rounds\n"
     ]
    },
    {
     "name": "stderr",
     "output_type": "stream",
     "text": [
      "\u001b[32m[I 2021-10-03 20:39:58,422]\u001b[0m Trial 97 finished with value: 0.8305274971941639 and parameters: {'lambda_l1': 0.001488906732592737, 'lambda_l2': 0.003585783389065901, 'num_leaves': 21, 'feature_fraction': 0.7743292493464424, 'bagging_fraction': 0.5232858374898429, 'bagging_freq': 7, 'min_child_samples': 47, 'max_depth': 3}. Best is trial 71 with value: 0.8428731762065096.\u001b[0m\n"
     ]
    },
    {
     "name": "stdout",
     "output_type": "stream",
     "text": [
      "Early stopping, best iteration is:\n",
      "[1316]\ttraining's binary_logloss: 0.293696\tvalid_1's binary_logloss: 0.374036\n",
      "Training until validation scores don't improve for 1000 rounds\n",
      "Early stopping, best iteration is:\n",
      "[937]\ttraining's binary_logloss: 0.274251\tvalid_1's binary_logloss: 0.389543\n",
      "Training until validation scores don't improve for 1000 rounds\n",
      "Early stopping, best iteration is:\n",
      "[519]\ttraining's binary_logloss: 0.297518\tvalid_1's binary_logloss: 0.374226\n",
      "Training until validation scores don't improve for 1000 rounds\n",
      "Early stopping, best iteration is:\n",
      "[152]\ttraining's binary_logloss: 0.330006\tvalid_1's binary_logloss: 0.444165\n",
      "Training until validation scores don't improve for 1000 rounds\n",
      "Early stopping, best iteration is:\n",
      "[488]\ttraining's binary_logloss: 0.284943\tvalid_1's binary_logloss: 0.409505\n",
      "Training until validation scores don't improve for 1000 rounds\n"
     ]
    },
    {
     "name": "stderr",
     "output_type": "stream",
     "text": [
      "\u001b[32m[I 2021-10-03 20:40:00,353]\u001b[0m Trial 98 finished with value: 0.8282828282828283 and parameters: {'lambda_l1': 0.0004419379541214704, 'lambda_l2': 0.0006819544986226429, 'num_leaves': 27, 'feature_fraction': 0.6732917016131792, 'bagging_fraction': 0.5506053196531305, 'bagging_freq': 8, 'min_child_samples': 42, 'max_depth': 7}. Best is trial 71 with value: 0.8428731762065096.\u001b[0m\n"
     ]
    },
    {
     "name": "stdout",
     "output_type": "stream",
     "text": [
      "Early stopping, best iteration is:\n",
      "[882]\ttraining's binary_logloss: 0.268692\tvalid_1's binary_logloss: 0.378367\n",
      "Training until validation scores don't improve for 1000 rounds\n",
      "Early stopping, best iteration is:\n",
      "[1258]\ttraining's binary_logloss: 0.262512\tvalid_1's binary_logloss: 0.381922\n",
      "Training until validation scores don't improve for 1000 rounds\n",
      "Early stopping, best iteration is:\n",
      "[255]\ttraining's binary_logloss: 0.334099\tvalid_1's binary_logloss: 0.383302\n",
      "Training until validation scores don't improve for 1000 rounds\n",
      "Early stopping, best iteration is:\n",
      "[54]\ttraining's binary_logloss: 0.373895\tvalid_1's binary_logloss: 0.452709\n",
      "Training until validation scores don't improve for 1000 rounds\n",
      "Early stopping, best iteration is:\n",
      "[121]\ttraining's binary_logloss: 0.354877\tvalid_1's binary_logloss: 0.412663\n",
      "Training until validation scores don't improve for 1000 rounds\n"
     ]
    },
    {
     "name": "stderr",
     "output_type": "stream",
     "text": [
      "\u001b[32m[I 2021-10-03 20:40:02,319]\u001b[0m Trial 99 finished with value: 0.8305274971941639 and parameters: {'lambda_l1': 7.862861790041223e-05, 'lambda_l2': 0.0364201096214563, 'num_leaves': 18, 'feature_fraction': 0.8414504992824731, 'bagging_fraction': 0.5941755443464011, 'bagging_freq': 2, 'min_child_samples': 49, 'max_depth': 5}. Best is trial 71 with value: 0.8428731762065096.\u001b[0m\n"
     ]
    },
    {
     "name": "stdout",
     "output_type": "stream",
     "text": [
      "Early stopping, best iteration is:\n",
      "[960]\ttraining's binary_logloss: 0.267557\tvalid_1's binary_logloss: 0.385306\n",
      "Training until validation scores don't improve for 1000 rounds\n",
      "Early stopping, best iteration is:\n",
      "[345]\ttraining's binary_logloss: 0.325934\tvalid_1's binary_logloss: 0.377447\n",
      "Training until validation scores don't improve for 1000 rounds\n",
      "Early stopping, best iteration is:\n",
      "[131]\ttraining's binary_logloss: 0.366407\tvalid_1's binary_logloss: 0.38825\n",
      "Training until validation scores don't improve for 1000 rounds\n",
      "Early stopping, best iteration is:\n",
      "[105]\ttraining's binary_logloss: 0.3538\tvalid_1's binary_logloss: 0.454086\n",
      "Training until validation scores don't improve for 1000 rounds\n",
      "Early stopping, best iteration is:\n",
      "[103]\ttraining's binary_logloss: 0.362826\tvalid_1's binary_logloss: 0.416565\n",
      "Training until validation scores don't improve for 1000 rounds\n"
     ]
    },
    {
     "name": "stderr",
     "output_type": "stream",
     "text": [
      "\u001b[32m[I 2021-10-03 20:40:04,286]\u001b[0m Trial 100 finished with value: 0.8316498316498316 and parameters: {'lambda_l1': 0.003682350976785976, 'lambda_l2': 0.0019833990756056214, 'num_leaves': 32, 'feature_fraction': 0.6901778795002741, 'bagging_fraction': 0.4506082285147334, 'bagging_freq': 8, 'min_child_samples': 36, 'max_depth': 7}. Best is trial 71 with value: 0.8428731762065096.\u001b[0m\n"
     ]
    },
    {
     "name": "stdout",
     "output_type": "stream",
     "text": [
      "Early stopping, best iteration is:\n",
      "[2234]\ttraining's binary_logloss: 0.218918\tvalid_1's binary_logloss: 0.370524\n",
      "Training until validation scores don't improve for 1000 rounds\n",
      "Early stopping, best iteration is:\n",
      "[1113]\ttraining's binary_logloss: 0.324935\tvalid_1's binary_logloss: 0.386242\n",
      "Training until validation scores don't improve for 1000 rounds\n",
      "Early stopping, best iteration is:\n",
      "[1025]\ttraining's binary_logloss: 0.323559\tvalid_1's binary_logloss: 0.381005\n",
      "Training until validation scores don't improve for 1000 rounds\n",
      "Early stopping, best iteration is:\n",
      "[218]\ttraining's binary_logloss: 0.35246\tvalid_1's binary_logloss: 0.454452\n",
      "Training until validation scores don't improve for 1000 rounds\n",
      "Early stopping, best iteration is:\n",
      "[217]\ttraining's binary_logloss: 0.3631\tvalid_1's binary_logloss: 0.410537\n",
      "Training until validation scores don't improve for 1000 rounds\n"
     ]
    },
    {
     "name": "stderr",
     "output_type": "stream",
     "text": [
      "\u001b[32m[I 2021-10-03 20:40:06,454]\u001b[0m Trial 101 finished with value: 0.835016835016835 and parameters: {'lambda_l1': 1.8374790172538102, 'lambda_l2': 0.00903508083176532, 'num_leaves': 35, 'feature_fraction': 0.8189289011618315, 'bagging_fraction': 0.5016781558259846, 'bagging_freq': 8, 'min_child_samples': 39, 'max_depth': 6}. Best is trial 71 with value: 0.8428731762065096.\u001b[0m\n"
     ]
    },
    {
     "name": "stdout",
     "output_type": "stream",
     "text": [
      "Early stopping, best iteration is:\n",
      "[1504]\ttraining's binary_logloss: 0.312633\tvalid_1's binary_logloss: 0.379248\n",
      "Training until validation scores don't improve for 1000 rounds\n",
      "Early stopping, best iteration is:\n",
      "[976]\ttraining's binary_logloss: 0.347456\tvalid_1's binary_logloss: 0.386057\n",
      "Training until validation scores don't improve for 1000 rounds\n",
      "Early stopping, best iteration is:\n",
      "[1108]\ttraining's binary_logloss: 0.349063\tvalid_1's binary_logloss: 0.38905\n",
      "Training until validation scores don't improve for 1000 rounds\n",
      "Early stopping, best iteration is:\n",
      "[178]\ttraining's binary_logloss: 0.370553\tvalid_1's binary_logloss: 0.454732\n",
      "Training until validation scores don't improve for 1000 rounds\n",
      "Early stopping, best iteration is:\n",
      "[108]\ttraining's binary_logloss: 0.39325\tvalid_1's binary_logloss: 0.419032\n",
      "Training until validation scores don't improve for 1000 rounds\n"
     ]
    },
    {
     "name": "stderr",
     "output_type": "stream",
     "text": [
      "\u001b[32m[I 2021-10-03 20:40:07,714]\u001b[0m Trial 102 finished with value: 0.8249158249158249 and parameters: {'lambda_l1': 2.7346275910729947, 'lambda_l2': 0.006271129692324634, 'num_leaves': 30, 'feature_fraction': 0.796761998071092, 'bagging_fraction': 0.48322884382929465, 'bagging_freq': 7, 'min_child_samples': 37, 'max_depth': 6}. Best is trial 71 with value: 0.8428731762065096.\u001b[0m\n"
     ]
    },
    {
     "name": "stdout",
     "output_type": "stream",
     "text": [
      "Early stopping, best iteration is:\n",
      "[182]\ttraining's binary_logloss: 0.381017\tvalid_1's binary_logloss: 0.398017\n",
      "Training until validation scores don't improve for 1000 rounds\n",
      "Early stopping, best iteration is:\n",
      "[277]\ttraining's binary_logloss: 0.340005\tvalid_1's binary_logloss: 0.385215\n",
      "Training until validation scores don't improve for 1000 rounds\n",
      "Early stopping, best iteration is:\n",
      "[687]\ttraining's binary_logloss: 0.296003\tvalid_1's binary_logloss: 0.379882\n",
      "Training until validation scores don't improve for 1000 rounds\n",
      "Early stopping, best iteration is:\n",
      "[171]\ttraining's binary_logloss: 0.336272\tvalid_1's binary_logloss: 0.455188\n",
      "Training until validation scores don't improve for 1000 rounds\n",
      "Early stopping, best iteration is:\n",
      "[116]\ttraining's binary_logloss: 0.362399\tvalid_1's binary_logloss: 0.405814\n",
      "Training until validation scores don't improve for 1000 rounds\n"
     ]
    },
    {
     "name": "stderr",
     "output_type": "stream",
     "text": [
      "\u001b[32m[I 2021-10-03 20:40:09,269]\u001b[0m Trial 103 finished with value: 0.8260381593714927 and parameters: {'lambda_l1': 0.0007045110102960846, 'lambda_l2': 0.02431004693178489, 'num_leaves': 25, 'feature_fraction': 0.7639970129603816, 'bagging_fraction': 0.5068087958137532, 'bagging_freq': 9, 'min_child_samples': 43, 'max_depth': 4}. Best is trial 71 with value: 0.8428731762065096.\u001b[0m\n"
     ]
    },
    {
     "name": "stdout",
     "output_type": "stream",
     "text": [
      "Early stopping, best iteration is:\n",
      "[1017]\ttraining's binary_logloss: 0.277805\tvalid_1's binary_logloss: 0.388847\n",
      "Training until validation scores don't improve for 1000 rounds\n",
      "Early stopping, best iteration is:\n",
      "[1101]\ttraining's binary_logloss: 0.31135\tvalid_1's binary_logloss: 0.380067\n",
      "Training until validation scores don't improve for 1000 rounds\n",
      "Early stopping, best iteration is:\n",
      "[522]\ttraining's binary_logloss: 0.336275\tvalid_1's binary_logloss: 0.378155\n",
      "Training until validation scores don't improve for 1000 rounds\n",
      "Early stopping, best iteration is:\n",
      "[201]\ttraining's binary_logloss: 0.353176\tvalid_1's binary_logloss: 0.452951\n",
      "Training until validation scores don't improve for 1000 rounds\n",
      "Early stopping, best iteration is:\n",
      "[1096]\ttraining's binary_logloss: 0.302851\tvalid_1's binary_logloss: 0.405515\n",
      "Training until validation scores don't improve for 1000 rounds\n"
     ]
    },
    {
     "name": "stderr",
     "output_type": "stream",
     "text": [
      "\u001b[32m[I 2021-10-03 20:40:11,482]\u001b[0m Trial 104 finished with value: 0.8282828282828283 and parameters: {'lambda_l1': 0.00013151595789400009, 'lambda_l2': 0.446550634797834, 'num_leaves': 28, 'feature_fraction': 0.6140782902319489, 'bagging_fraction': 0.6932544867016232, 'bagging_freq': 8, 'min_child_samples': 69, 'max_depth': 7}. Best is trial 71 with value: 0.8428731762065096.\u001b[0m\n"
     ]
    },
    {
     "name": "stdout",
     "output_type": "stream",
     "text": [
      "Early stopping, best iteration is:\n",
      "[1656]\ttraining's binary_logloss: 0.282346\tvalid_1's binary_logloss: 0.377334\n",
      "Training until validation scores don't improve for 1000 rounds\n",
      "Early stopping, best iteration is:\n",
      "[344]\ttraining's binary_logloss: 0.384352\tvalid_1's binary_logloss: 0.39659\n",
      "Training until validation scores don't improve for 1000 rounds\n",
      "Early stopping, best iteration is:\n",
      "[1553]\ttraining's binary_logloss: 0.344541\tvalid_1's binary_logloss: 0.385637\n",
      "Training until validation scores don't improve for 1000 rounds\n",
      "Early stopping, best iteration is:\n",
      "[182]\ttraining's binary_logloss: 0.377965\tvalid_1's binary_logloss: 0.452558\n",
      "Training until validation scores don't improve for 1000 rounds\n",
      "Early stopping, best iteration is:\n",
      "[648]\ttraining's binary_logloss: 0.362738\tvalid_1's binary_logloss: 0.41591\n",
      "Training until validation scores don't improve for 1000 rounds\n"
     ]
    },
    {
     "name": "stderr",
     "output_type": "stream",
     "text": [
      "\u001b[32m[I 2021-10-03 20:40:13,375]\u001b[0m Trial 105 finished with value: 0.8361391694725028 and parameters: {'lambda_l1': 1.1466859893722006, 'lambda_l2': 0.0015669688909383177, 'num_leaves': 22, 'feature_fraction': 0.641489465502233, 'bagging_fraction': 0.46773344372312325, 'bagging_freq': 8, 'min_child_samples': 41, 'max_depth': 2}. Best is trial 71 with value: 0.8428731762065096.\u001b[0m\n"
     ]
    },
    {
     "name": "stdout",
     "output_type": "stream",
     "text": [
      "Early stopping, best iteration is:\n",
      "[1506]\ttraining's binary_logloss: 0.350626\tvalid_1's binary_logloss: 0.393881\n",
      "Training until validation scores don't improve for 1000 rounds\n",
      "Early stopping, best iteration is:\n",
      "[809]\ttraining's binary_logloss: 0.397299\tvalid_1's binary_logloss: 0.398402\n",
      "Training until validation scores don't improve for 1000 rounds\n",
      "Early stopping, best iteration is:\n",
      "[561]\ttraining's binary_logloss: 0.402543\tvalid_1's binary_logloss: 0.411787\n",
      "Training until validation scores don't improve for 1000 rounds\n",
      "Early stopping, best iteration is:\n",
      "[113]\ttraining's binary_logloss: 0.406596\tvalid_1's binary_logloss: 0.45536\n",
      "Training until validation scores don't improve for 1000 rounds\n",
      "Early stopping, best iteration is:\n",
      "[648]\ttraining's binary_logloss: 0.391229\tvalid_1's binary_logloss: 0.420777\n",
      "Training until validation scores don't improve for 1000 rounds\n"
     ]
    },
    {
     "name": "stderr",
     "output_type": "stream",
     "text": [
      "\u001b[32m[I 2021-10-03 20:40:14,583]\u001b[0m Trial 106 finished with value: 0.8249158249158249 and parameters: {'lambda_l1': 4.261583783070155, 'lambda_l2': 0.00015784273367631206, 'num_leaves': 20, 'feature_fraction': 0.6416901947578557, 'bagging_fraction': 0.47203077745200445, 'bagging_freq': 8, 'min_child_samples': 41, 'max_depth': 2}. Best is trial 71 with value: 0.8428731762065096.\u001b[0m\n"
     ]
    },
    {
     "name": "stdout",
     "output_type": "stream",
     "text": [
      "Early stopping, best iteration is:\n",
      "[126]\ttraining's binary_logloss: 0.416347\tvalid_1's binary_logloss: 0.413475\n",
      "Training until validation scores don't improve for 1000 rounds\n",
      "Early stopping, best iteration is:\n",
      "[247]\ttraining's binary_logloss: 0.365941\tvalid_1's binary_logloss: 0.396986\n",
      "Training until validation scores don't improve for 1000 rounds\n",
      "Early stopping, best iteration is:\n",
      "[456]\ttraining's binary_logloss: 0.345835\tvalid_1's binary_logloss: 0.382293\n",
      "Training until validation scores don't improve for 1000 rounds\n",
      "Early stopping, best iteration is:\n",
      "[65]\ttraining's binary_logloss: 0.385978\tvalid_1's binary_logloss: 0.452777\n",
      "Training until validation scores don't improve for 1000 rounds\n",
      "Early stopping, best iteration is:\n",
      "[90]\ttraining's binary_logloss: 0.385954\tvalid_1's binary_logloss: 0.409068\n",
      "Training until validation scores don't improve for 1000 rounds\n",
      "Early stopping, best iteration is:\n",
      "[96]\ttraining's binary_logloss: 0.382824\tvalid_1's binary_logloss: 0.408413\n"
     ]
    },
    {
     "name": "stderr",
     "output_type": "stream",
     "text": [
      "\u001b[32m[I 2021-10-03 20:40:16,087]\u001b[0m Trial 107 finished with value: 0.8305274971941639 and parameters: {'lambda_l1': 0.188849328481351, 'lambda_l2': 0.0013905882987168248, 'num_leaves': 16, 'feature_fraction': 0.6517024958392551, 'bagging_fraction': 0.8711208781497597, 'bagging_freq': 8, 'min_child_samples': 45, 'max_depth': 2}. Best is trial 71 with value: 0.8428731762065096.\u001b[0m\n"
     ]
    },
    {
     "name": "stdout",
     "output_type": "stream",
     "text": [
      "Training until validation scores don't improve for 1000 rounds\n",
      "Early stopping, best iteration is:\n",
      "[215]\ttraining's binary_logloss: 0.391933\tvalid_1's binary_logloss: 0.395701\n",
      "Training until validation scores don't improve for 1000 rounds\n",
      "Early stopping, best iteration is:\n",
      "[991]\ttraining's binary_logloss: 0.353973\tvalid_1's binary_logloss: 0.385424\n",
      "Training until validation scores don't improve for 1000 rounds\n",
      "Early stopping, best iteration is:\n",
      "[316]\ttraining's binary_logloss: 0.365005\tvalid_1's binary_logloss: 0.454763\n",
      "Training until validation scores don't improve for 1000 rounds\n",
      "Early stopping, best iteration is:\n",
      "[405]\ttraining's binary_logloss: 0.371395\tvalid_1's binary_logloss: 0.409061\n",
      "Training until validation scores don't improve for 1000 rounds\n"
     ]
    },
    {
     "name": "stderr",
     "output_type": "stream",
     "text": [
      "\u001b[32m[I 2021-10-03 20:40:17,567]\u001b[0m Trial 108 finished with value: 0.835016835016835 and parameters: {'lambda_l1': 1.1271224211781408, 'lambda_l2': 0.0026025561714957727, 'num_leaves': 24, 'feature_fraction': 0.6200102375679748, 'bagging_fraction': 0.45482491551176324, 'bagging_freq': 5, 'min_child_samples': 39, 'max_depth': 2}. Best is trial 71 with value: 0.8428731762065096.\u001b[0m\n"
     ]
    },
    {
     "name": "stdout",
     "output_type": "stream",
     "text": [
      "Early stopping, best iteration is:\n",
      "[962]\ttraining's binary_logloss: 0.356265\tvalid_1's binary_logloss: 0.400676\n",
      "Training until validation scores don't improve for 1000 rounds\n",
      "Early stopping, best iteration is:\n",
      "[1427]\ttraining's binary_logloss: 0.365534\tvalid_1's binary_logloss: 0.387516\n",
      "Training until validation scores don't improve for 1000 rounds\n",
      "Early stopping, best iteration is:\n",
      "[2325]\ttraining's binary_logloss: 0.347283\tvalid_1's binary_logloss: 0.389015\n",
      "Training until validation scores don't improve for 1000 rounds\n",
      "Early stopping, best iteration is:\n",
      "[436]\ttraining's binary_logloss: 0.369838\tvalid_1's binary_logloss: 0.452382\n",
      "Training until validation scores don't improve for 1000 rounds\n",
      "Early stopping, best iteration is:\n",
      "[934]\ttraining's binary_logloss: 0.363803\tvalid_1's binary_logloss: 0.413183\n",
      "Training until validation scores don't improve for 1000 rounds\n"
     ]
    },
    {
     "name": "stderr",
     "output_type": "stream",
     "text": [
      "\u001b[32m[I 2021-10-03 20:40:19,623]\u001b[0m Trial 109 finished with value: 0.8316498316498316 and parameters: {'lambda_l1': 1.8141982828817627, 'lambda_l2': 0.004306007021851002, 'num_leaves': 23, 'feature_fraction': 0.5973625051787198, 'bagging_fraction': 0.43566901448262063, 'bagging_freq': 7, 'min_child_samples': 43, 'max_depth': 2}. Best is trial 71 with value: 0.8428731762065096.\u001b[0m\n"
     ]
    },
    {
     "name": "stdout",
     "output_type": "stream",
     "text": [
      "Early stopping, best iteration is:\n",
      "[1319]\ttraining's binary_logloss: 0.365787\tvalid_1's binary_logloss: 0.396782\n",
      "Training until validation scores don't improve for 1000 rounds\n",
      "Early stopping, best iteration is:\n",
      "[201]\ttraining's binary_logloss: 0.392715\tvalid_1's binary_logloss: 0.395262\n",
      "Training until validation scores don't improve for 1000 rounds\n",
      "Early stopping, best iteration is:\n",
      "[883]\ttraining's binary_logloss: 0.347211\tvalid_1's binary_logloss: 0.391555\n",
      "Training until validation scores don't improve for 1000 rounds\n",
      "Early stopping, best iteration is:\n",
      "[261]\ttraining's binary_logloss: 0.363187\tvalid_1's binary_logloss: 0.444949\n",
      "Training until validation scores don't improve for 1000 rounds\n",
      "Early stopping, best iteration is:\n",
      "[1229]\ttraining's binary_logloss: 0.330205\tvalid_1's binary_logloss: 0.414771\n",
      "Training until validation scores don't improve for 1000 rounds\n"
     ]
    },
    {
     "name": "stderr",
     "output_type": "stream",
     "text": [
      "\u001b[32m[I 2021-10-03 20:40:21,247]\u001b[0m Trial 110 finished with value: 0.8305274971941639 and parameters: {'lambda_l1': 0.05830856215266874, 'lambda_l2': 9.052921078038285, 'num_leaves': 13, 'feature_fraction': 0.5864079680940134, 'bagging_fraction': 0.4896408644645809, 'bagging_freq': 9, 'min_child_samples': 41, 'max_depth': 3}. Best is trial 71 with value: 0.8428731762065096.\u001b[0m\n"
     ]
    },
    {
     "name": "stdout",
     "output_type": "stream",
     "text": [
      "Early stopping, best iteration is:\n",
      "[231]\ttraining's binary_logloss: 0.382922\tvalid_1's binary_logloss: 0.394365\n",
      "Training until validation scores don't improve for 1000 rounds\n",
      "Early stopping, best iteration is:\n",
      "[1107]\ttraining's binary_logloss: 0.331262\tvalid_1's binary_logloss: 0.394826\n",
      "Training until validation scores don't improve for 1000 rounds\n",
      "Early stopping, best iteration is:\n",
      "[790]\ttraining's binary_logloss: 0.343058\tvalid_1's binary_logloss: 0.384694\n",
      "Training until validation scores don't improve for 1000 rounds\n",
      "Early stopping, best iteration is:\n",
      "[56]\ttraining's binary_logloss: 0.395495\tvalid_1's binary_logloss: 0.455643\n",
      "Training until validation scores don't improve for 1000 rounds\n",
      "Early stopping, best iteration is:\n",
      "[102]\ttraining's binary_logloss: 0.388518\tvalid_1's binary_logloss: 0.422517\n",
      "Training until validation scores don't improve for 1000 rounds\n"
     ]
    },
    {
     "name": "stderr",
     "output_type": "stream",
     "text": [
      "\u001b[32m[I 2021-10-03 20:40:22,732]\u001b[0m Trial 111 finished with value: 0.8294051627384961 and parameters: {'lambda_l1': 0.00019798214373248786, 'lambda_l2': 0.0005002808216689126, 'num_leaves': 27, 'feature_fraction': 0.727065749701775, 'bagging_fraction': 0.5170482953599768, 'bagging_freq': 8, 'min_child_samples': 38, 'max_depth': 2}. Best is trial 71 with value: 0.8428731762065096.\u001b[0m\n"
     ]
    },
    {
     "name": "stdout",
     "output_type": "stream",
     "text": [
      "Early stopping, best iteration is:\n",
      "[1504]\ttraining's binary_logloss: 0.317129\tvalid_1's binary_logloss: 0.38529\n",
      "Training until validation scores don't improve for 1000 rounds\n",
      "Early stopping, best iteration is:\n",
      "[344]\ttraining's binary_logloss: 0.326894\tvalid_1's binary_logloss: 0.38608\n",
      "Training until validation scores don't improve for 1000 rounds\n",
      "Early stopping, best iteration is:\n",
      "[199]\ttraining's binary_logloss: 0.345041\tvalid_1's binary_logloss: 0.395249\n",
      "Training until validation scores don't improve for 1000 rounds\n",
      "Early stopping, best iteration is:\n",
      "[113]\ttraining's binary_logloss: 0.348996\tvalid_1's binary_logloss: 0.455471\n",
      "Training until validation scores don't improve for 1000 rounds\n",
      "Early stopping, best iteration is:\n",
      "[182]\ttraining's binary_logloss: 0.341245\tvalid_1's binary_logloss: 0.406678\n",
      "Training until validation scores don't improve for 1000 rounds\n"
     ]
    },
    {
     "name": "stderr",
     "output_type": "stream",
     "text": [
      "\u001b[32m[I 2021-10-03 20:40:24,255]\u001b[0m Trial 112 finished with value: 0.8305274971941639 and parameters: {'lambda_l1': 0.0008355303812408201, 'lambda_l2': 0.0009081756264737165, 'num_leaves': 21, 'feature_fraction': 0.6658386749839297, 'bagging_fraction': 0.48006768783647813, 'bagging_freq': 8, 'min_child_samples': 35, 'max_depth': 4}. Best is trial 71 with value: 0.8428731762065096.\u001b[0m\n"
     ]
    },
    {
     "name": "stdout",
     "output_type": "stream",
     "text": [
      "Early stopping, best iteration is:\n",
      "[829]\ttraining's binary_logloss: 0.272758\tvalid_1's binary_logloss: 0.383937\n",
      "Training until validation scores don't improve for 1000 rounds\n",
      "Early stopping, best iteration is:\n",
      "[472]\ttraining's binary_logloss: 0.352633\tvalid_1's binary_logloss: 0.388467\n",
      "Training until validation scores don't improve for 1000 rounds\n",
      "Early stopping, best iteration is:\n",
      "[740]\ttraining's binary_logloss: 0.330154\tvalid_1's binary_logloss: 0.384767\n",
      "Training until validation scores don't improve for 1000 rounds\n",
      "Early stopping, best iteration is:\n",
      "[215]\ttraining's binary_logloss: 0.350217\tvalid_1's binary_logloss: 0.447037\n",
      "Training until validation scores don't improve for 1000 rounds\n",
      "Early stopping, best iteration is:\n",
      "[1777]\ttraining's binary_logloss: 0.295137\tvalid_1's binary_logloss: 0.409839\n",
      "Training until validation scores don't improve for 1000 rounds\n"
     ]
    },
    {
     "name": "stderr",
     "output_type": "stream",
     "text": [
      "\u001b[32m[I 2021-10-03 20:40:26,772]\u001b[0m Trial 113 finished with value: 0.8260381593714927 and parameters: {'lambda_l1': 1.2986533283159656, 'lambda_l2': 0.0002998496294620695, 'num_leaves': 18, 'feature_fraction': 0.6336413825143224, 'bagging_fraction': 0.4950672649257217, 'bagging_freq': 8, 'min_child_samples': 40, 'max_depth': 7}. Best is trial 71 with value: 0.8428731762065096.\u001b[0m\n"
     ]
    },
    {
     "name": "stdout",
     "output_type": "stream",
     "text": [
      "Early stopping, best iteration is:\n",
      "[2232]\ttraining's binary_logloss: 0.293683\tvalid_1's binary_logloss: 0.379563\n",
      "Training until validation scores don't improve for 1000 rounds\n",
      "Early stopping, best iteration is:\n",
      "[1326]\ttraining's binary_logloss: 0.353888\tvalid_1's binary_logloss: 0.387959\n",
      "Training until validation scores don't improve for 1000 rounds\n",
      "Early stopping, best iteration is:\n",
      "[882]\ttraining's binary_logloss: 0.36546\tvalid_1's binary_logloss: 0.387301\n",
      "Training until validation scores don't improve for 1000 rounds\n",
      "Early stopping, best iteration is:\n",
      "[132]\ttraining's binary_logloss: 0.380588\tvalid_1's binary_logloss: 0.457421\n",
      "Training until validation scores don't improve for 1000 rounds\n"
     ]
    },
    {
     "name": "stderr",
     "output_type": "stream",
     "text": [
      "\u001b[32m[I 2021-10-03 20:40:28,079]\u001b[0m Trial 114 finished with value: 0.8338945005611672 and parameters: {'lambda_l1': 2.2093668304324794, 'lambda_l2': 0.0003853079472644917, 'num_leaves': 34, 'feature_fraction': 0.8091261747745867, 'bagging_fraction': 0.4649766437178492, 'bagging_freq': 9, 'min_child_samples': 33, 'max_depth': 2}. Best is trial 71 with value: 0.8428731762065096.\u001b[0m\n"
     ]
    },
    {
     "name": "stdout",
     "output_type": "stream",
     "text": [
      "Early stopping, best iteration is:\n",
      "[497]\ttraining's binary_logloss: 0.363356\tvalid_1's binary_logloss: 0.41226\n",
      "Training until validation scores don't improve for 1000 rounds\n",
      "Early stopping, best iteration is:\n",
      "[225]\ttraining's binary_logloss: 0.383736\tvalid_1's binary_logloss: 0.398758\n",
      "Training until validation scores don't improve for 1000 rounds\n",
      "Early stopping, best iteration is:\n",
      "[189]\ttraining's binary_logloss: 0.306718\tvalid_1's binary_logloss: 0.374197\n",
      "Training until validation scores don't improve for 1000 rounds\n",
      "Early stopping, best iteration is:\n",
      "[152]\ttraining's binary_logloss: 0.316206\tvalid_1's binary_logloss: 0.383112\n",
      "Training until validation scores don't improve for 1000 rounds\n",
      "Early stopping, best iteration is:\n",
      "[29]\ttraining's binary_logloss: 0.381491\tvalid_1's binary_logloss: 0.450118\n",
      "Training until validation scores don't improve for 1000 rounds\n",
      "Early stopping, best iteration is:\n",
      "[65]\ttraining's binary_logloss: 0.351856\tvalid_1's binary_logloss: 0.413637\n",
      "Training until validation scores don't improve for 1000 rounds\n"
     ]
    },
    {
     "name": "stderr",
     "output_type": "stream",
     "text": [
      "\u001b[32m[I 2021-10-03 20:40:29,701]\u001b[0m Trial 115 finished with value: 0.8282828282828283 and parameters: {'lambda_l1': 0.023238870827851064, 'lambda_l2': 0.0016113827438055028, 'num_leaves': 29, 'feature_fraction': 0.7848913691662964, 'bagging_fraction': 0.774471094554725, 'bagging_freq': 8, 'min_child_samples': 37, 'max_depth': 5}. Best is trial 71 with value: 0.8428731762065096.\u001b[0m\n"
     ]
    },
    {
     "name": "stdout",
     "output_type": "stream",
     "text": [
      "Early stopping, best iteration is:\n",
      "[204]\ttraining's binary_logloss: 0.294436\tvalid_1's binary_logloss: 0.399271\n",
      "Training until validation scores don't improve for 1000 rounds\n",
      "Early stopping, best iteration is:\n",
      "[556]\ttraining's binary_logloss: 0.309137\tvalid_1's binary_logloss: 0.391609\n",
      "Training until validation scores don't improve for 1000 rounds\n",
      "Early stopping, best iteration is:\n",
      "[312]\ttraining's binary_logloss: 0.334526\tvalid_1's binary_logloss: 0.377419\n",
      "Training until validation scores don't improve for 1000 rounds\n",
      "Early stopping, best iteration is:\n",
      "[110]\ttraining's binary_logloss: 0.350275\tvalid_1's binary_logloss: 0.445943\n",
      "Training until validation scores don't improve for 1000 rounds\n",
      "Early stopping, best iteration is:\n",
      "[146]\ttraining's binary_logloss: 0.351062\tvalid_1's binary_logloss: 0.41014\n",
      "Training until validation scores don't improve for 1000 rounds\n"
     ]
    },
    {
     "name": "stderr",
     "output_type": "stream",
     "text": [
      "\u001b[32m[I 2021-10-03 20:40:31,123]\u001b[0m Trial 116 finished with value: 0.8305274971941639 and parameters: {'lambda_l1': 0.0004074765346907016, 'lambda_l2': 0.00568812665903814, 'num_leaves': 26, 'feature_fraction': 0.757610565942651, 'bagging_fraction': 0.5369625149732952, 'bagging_freq': 4, 'min_child_samples': 36, 'max_depth': 3}. Best is trial 71 with value: 0.8428731762065096.\u001b[0m\n"
     ]
    },
    {
     "name": "stdout",
     "output_type": "stream",
     "text": [
      "Early stopping, best iteration is:\n",
      "[444]\ttraining's binary_logloss: 0.317152\tvalid_1's binary_logloss: 0.386283\n",
      "Training until validation scores don't improve for 1000 rounds\n",
      "Early stopping, best iteration is:\n",
      "[254]\ttraining's binary_logloss: 0.308594\tvalid_1's binary_logloss: 0.380693\n",
      "Training until validation scores don't improve for 1000 rounds\n",
      "Early stopping, best iteration is:\n",
      "[172]\ttraining's binary_logloss: 0.328453\tvalid_1's binary_logloss: 0.378645\n",
      "Training until validation scores don't improve for 1000 rounds\n",
      "Early stopping, best iteration is:\n",
      "[100]\ttraining's binary_logloss: 0.338968\tvalid_1's binary_logloss: 0.444521\n",
      "Training until validation scores don't improve for 1000 rounds\n",
      "Early stopping, best iteration is:\n",
      "[57]\ttraining's binary_logloss: 0.370063\tvalid_1's binary_logloss: 0.397624\n",
      "Training until validation scores don't improve for 1000 rounds\n"
     ]
    },
    {
     "name": "stderr",
     "output_type": "stream",
     "text": [
      "\u001b[32m[I 2021-10-03 20:40:32,833]\u001b[0m Trial 117 finished with value: 0.8327721661054994 and parameters: {'lambda_l1': 0.00010199798796251242, 'lambda_l2': 0.010614507669039831, 'num_leaves': 22, 'feature_fraction': 0.7154269630056277, 'bagging_fraction': 0.5633967288483013, 'bagging_freq': 7, 'min_child_samples': 34, 'max_depth': 6}. Best is trial 71 with value: 0.8428731762065096.\u001b[0m\n"
     ]
    },
    {
     "name": "stdout",
     "output_type": "stream",
     "text": [
      "Early stopping, best iteration is:\n",
      "[630]\ttraining's binary_logloss: 0.247971\tvalid_1's binary_logloss: 0.385276\n",
      "Training until validation scores don't improve for 1000 rounds\n",
      "Early stopping, best iteration is:\n",
      "[234]\ttraining's binary_logloss: 0.41514\tvalid_1's binary_logloss: 0.41355\n",
      "Training until validation scores don't improve for 1000 rounds\n",
      "Early stopping, best iteration is:\n",
      "[217]\ttraining's binary_logloss: 0.411304\tvalid_1's binary_logloss: 0.423112\n",
      "Training until validation scores don't improve for 1000 rounds\n",
      "Early stopping, best iteration is:\n",
      "[157]\ttraining's binary_logloss: 0.402358\tvalid_1's binary_logloss: 0.45614\n",
      "Training until validation scores don't improve for 1000 rounds\n",
      "Early stopping, best iteration is:\n",
      "[183]\ttraining's binary_logloss: 0.412452\tvalid_1's binary_logloss: 0.429551\n",
      "Training until validation scores don't improve for 1000 rounds\n"
     ]
    },
    {
     "name": "stderr",
     "output_type": "stream",
     "text": [
      "\u001b[32m[I 2021-10-03 20:40:33,660]\u001b[0m Trial 118 finished with value: 0.8204264870931538 and parameters: {'lambda_l1': 5.736669823791969, 'lambda_l2': 0.0009917891531669913, 'num_leaves': 54, 'feature_fraction': 0.7017850361229648, 'bagging_fraction': 0.5249952887563314, 'bagging_freq': 6, 'min_child_samples': 42, 'max_depth': 7}. Best is trial 71 with value: 0.8428731762065096.\u001b[0m\n"
     ]
    },
    {
     "name": "stdout",
     "output_type": "stream",
     "text": [
      "Early stopping, best iteration is:\n",
      "[177]\ttraining's binary_logloss: 0.414868\tvalid_1's binary_logloss: 0.410516\n",
      "Training until validation scores don't improve for 1000 rounds\n",
      "Early stopping, best iteration is:\n",
      "[301]\ttraining's binary_logloss: 0.348625\tvalid_1's binary_logloss: 0.390165\n",
      "Training until validation scores don't improve for 1000 rounds\n",
      "Early stopping, best iteration is:\n",
      "[199]\ttraining's binary_logloss: 0.35903\tvalid_1's binary_logloss: 0.39059\n",
      "Training until validation scores don't improve for 1000 rounds\n",
      "Early stopping, best iteration is:\n",
      "[215]\ttraining's binary_logloss: 0.338891\tvalid_1's binary_logloss: 0.453503\n",
      "Training until validation scores don't improve for 1000 rounds\n",
      "Early stopping, best iteration is:\n",
      "[172]\ttraining's binary_logloss: 0.358685\tvalid_1's binary_logloss: 0.41052\n",
      "Training until validation scores don't improve for 1000 rounds\n"
     ]
    },
    {
     "name": "stderr",
     "output_type": "stream",
     "text": [
      "\u001b[32m[I 2021-10-03 20:40:35,197]\u001b[0m Trial 119 finished with value: 0.8361391694725028 and parameters: {'lambda_l1': 0.005925692694065453, 'lambda_l2': 0.0029451320896600438, 'num_leaves': 20, 'feature_fraction': 0.6540745126341994, 'bagging_fraction': 0.5039892777137965, 'bagging_freq': 8, 'min_child_samples': 44, 'max_depth': 4}. Best is trial 71 with value: 0.8428731762065096.\u001b[0m\n"
     ]
    },
    {
     "name": "stdout",
     "output_type": "stream",
     "text": [
      "Early stopping, best iteration is:\n",
      "[890]\ttraining's binary_logloss: 0.293346\tvalid_1's binary_logloss: 0.380994\n",
      "Training until validation scores don't improve for 1000 rounds\n",
      "Early stopping, best iteration is:\n",
      "[304]\ttraining's binary_logloss: 0.3441\tvalid_1's binary_logloss: 0.386001\n",
      "Training until validation scores don't improve for 1000 rounds\n",
      "Early stopping, best iteration is:\n",
      "[201]\ttraining's binary_logloss: 0.356158\tvalid_1's binary_logloss: 0.394795\n",
      "Training until validation scores don't improve for 1000 rounds\n",
      "Early stopping, best iteration is:\n",
      "[152]\ttraining's binary_logloss: 0.348091\tvalid_1's binary_logloss: 0.459309\n",
      "Training until validation scores don't improve for 1000 rounds\n",
      "Early stopping, best iteration is:\n",
      "[671]\ttraining's binary_logloss: 0.300433\tvalid_1's binary_logloss: 0.406517\n",
      "Training until validation scores don't improve for 1000 rounds\n"
     ]
    },
    {
     "name": "stderr",
     "output_type": "stream",
     "text": [
      "\u001b[32m[I 2021-10-03 20:40:37,532]\u001b[0m Trial 120 finished with value: 0.8282828282828283 and parameters: {'lambda_l1': 0.006761143892459929, 'lambda_l2': 0.002312380215898383, 'num_leaves': 19, 'feature_fraction': 0.6562955772314779, 'bagging_fraction': 0.5091164895002619, 'bagging_freq': 8, 'min_child_samples': 44, 'max_depth': 4}. Best is trial 71 with value: 0.8428731762065096.\u001b[0m\n"
     ]
    },
    {
     "name": "stdout",
     "output_type": "stream",
     "text": [
      "Early stopping, best iteration is:\n",
      "[880]\ttraining's binary_logloss: 0.293187\tvalid_1's binary_logloss: 0.376401\n",
      "Training until validation scores don't improve for 1000 rounds\n",
      "Early stopping, best iteration is:\n",
      "[1105]\ttraining's binary_logloss: 0.298347\tvalid_1's binary_logloss: 0.394006\n",
      "Training until validation scores don't improve for 1000 rounds\n",
      "Early stopping, best iteration is:\n",
      "[194]\ttraining's binary_logloss: 0.364855\tvalid_1's binary_logloss: 0.394711\n",
      "Training until validation scores don't improve for 1000 rounds\n",
      "Early stopping, best iteration is:\n",
      "[201]\ttraining's binary_logloss: 0.344708\tvalid_1's binary_logloss: 0.454515\n",
      "Training until validation scores don't improve for 1000 rounds\n",
      "Early stopping, best iteration is:\n",
      "[776]\ttraining's binary_logloss: 0.298975\tvalid_1's binary_logloss: 0.395552\n",
      "Training until validation scores don't improve for 1000 rounds\n"
     ]
    },
    {
     "name": "stderr",
     "output_type": "stream",
     "text": [
      "\u001b[32m[I 2021-10-03 20:40:39,787]\u001b[0m Trial 121 finished with value: 0.8406285072951739 and parameters: {'lambda_l1': 0.013514486771562768, 'lambda_l2': 0.0030100525483669374, 'num_leaves': 20, 'feature_fraction': 0.681033969024696, 'bagging_fraction': 0.49652507542758245, 'bagging_freq': 8, 'min_child_samples': 46, 'max_depth': 4}. Best is trial 71 with value: 0.8428731762065096.\u001b[0m\n"
     ]
    },
    {
     "name": "stdout",
     "output_type": "stream",
     "text": [
      "Early stopping, best iteration is:\n",
      "[1504]\ttraining's binary_logloss: 0.278376\tvalid_1's binary_logloss: 0.375063\n",
      "Training until validation scores don't improve for 1000 rounds\n",
      "Early stopping, best iteration is:\n",
      "[301]\ttraining's binary_logloss: 0.344244\tvalid_1's binary_logloss: 0.388351\n",
      "Training until validation scores don't improve for 1000 rounds\n",
      "Early stopping, best iteration is:\n",
      "[778]\ttraining's binary_logloss: 0.299316\tvalid_1's binary_logloss: 0.388773\n",
      "Training until validation scores don't improve for 1000 rounds\n",
      "Early stopping, best iteration is:\n",
      "[215]\ttraining's binary_logloss: 0.337695\tvalid_1's binary_logloss: 0.448261\n",
      "Training until validation scores don't improve for 1000 rounds\n",
      "Early stopping, best iteration is:\n",
      "[672]\ttraining's binary_logloss: 0.302143\tvalid_1's binary_logloss: 0.400862\n",
      "Training until validation scores don't improve for 1000 rounds\n"
     ]
    },
    {
     "name": "stderr",
     "output_type": "stream",
     "text": [
      "\u001b[32m[I 2021-10-03 20:40:41,856]\u001b[0m Trial 122 finished with value: 0.8327721661054994 and parameters: {'lambda_l1': 0.013452396742141447, 'lambda_l2': 0.004300288766739104, 'num_leaves': 20, 'feature_fraction': 0.7776004141875181, 'bagging_fraction': 0.500677262362781, 'bagging_freq': 8, 'min_child_samples': 45, 'max_depth': 4}. Best is trial 71 with value: 0.8428731762065096.\u001b[0m\n"
     ]
    },
    {
     "name": "stdout",
     "output_type": "stream",
     "text": [
      "Early stopping, best iteration is:\n",
      "[1503]\ttraining's binary_logloss: 0.269653\tvalid_1's binary_logloss: 0.38274\n",
      "Training until validation scores don't improve for 1000 rounds\n",
      "Early stopping, best iteration is:\n",
      "[455]\ttraining's binary_logloss: 0.31408\tvalid_1's binary_logloss: 0.384161\n",
      "Training until validation scores don't improve for 1000 rounds\n",
      "Early stopping, best iteration is:\n",
      "[385]\ttraining's binary_logloss: 0.32047\tvalid_1's binary_logloss: 0.378235\n",
      "Training until validation scores don't improve for 1000 rounds\n",
      "Early stopping, best iteration is:\n",
      "[77]\ttraining's binary_logloss: 0.359295\tvalid_1's binary_logloss: 0.451595\n",
      "Training until validation scores don't improve for 1000 rounds\n",
      "Early stopping, best iteration is:\n",
      "[411]\ttraining's binary_logloss: 0.309686\tvalid_1's binary_logloss: 0.413399\n",
      "Training until validation scores don't improve for 1000 rounds\n"
     ]
    },
    {
     "name": "stderr",
     "output_type": "stream",
     "text": [
      "\u001b[32m[I 2021-10-03 20:40:44,169]\u001b[0m Trial 123 finished with value: 0.8316498316498316 and parameters: {'lambda_l1': 0.008914509135343139, 'lambda_l2': 0.002751835006623553, 'num_leaves': 16, 'feature_fraction': 0.6823260871362667, 'bagging_fraction': 0.5203259069348065, 'bagging_freq': 3, 'min_child_samples': 39, 'max_depth': 4}. Best is trial 71 with value: 0.8428731762065096.\u001b[0m\n"
     ]
    },
    {
     "name": "stdout",
     "output_type": "stream",
     "text": [
      "Early stopping, best iteration is:\n",
      "[1581]\ttraining's binary_logloss: 0.23942\tvalid_1's binary_logloss: 0.385155\n",
      "Training until validation scores don't improve for 1000 rounds\n",
      "Early stopping, best iteration is:\n",
      "[1244]\ttraining's binary_logloss: 0.301569\tvalid_1's binary_logloss: 0.403778\n",
      "Training until validation scores don't improve for 1000 rounds\n",
      "Early stopping, best iteration is:\n",
      "[809]\ttraining's binary_logloss: 0.307198\tvalid_1's binary_logloss: 0.391121\n",
      "Training until validation scores don't improve for 1000 rounds\n",
      "Early stopping, best iteration is:\n",
      "[225]\ttraining's binary_logloss: 0.347631\tvalid_1's binary_logloss: 0.453804\n",
      "Training until validation scores don't improve for 1000 rounds\n",
      "Early stopping, best iteration is:\n",
      "[869]\ttraining's binary_logloss: 0.29926\tvalid_1's binary_logloss: 0.383922\n",
      "Training until validation scores don't improve for 1000 rounds\n"
     ]
    },
    {
     "name": "stderr",
     "output_type": "stream",
     "text": [
      "\u001b[32m[I 2021-10-03 20:40:46,942]\u001b[0m Trial 124 finished with value: 0.8294051627384961 and parameters: {'lambda_l1': 0.002943007694380962, 'lambda_l2': 0.003309114099539326, 'num_leaves': 23, 'feature_fraction': 0.7351800396995708, 'bagging_fraction': 0.4906577399474477, 'bagging_freq': 9, 'min_child_samples': 47, 'max_depth': 4}. Best is trial 71 with value: 0.8428731762065096.\u001b[0m\n"
     ]
    },
    {
     "name": "stdout",
     "output_type": "stream",
     "text": [
      "Early stopping, best iteration is:\n",
      "[1004]\ttraining's binary_logloss: 0.300074\tvalid_1's binary_logloss: 0.37655\n",
      "Training until validation scores don't improve for 1000 rounds\n",
      "Early stopping, best iteration is:\n",
      "[1354]\ttraining's binary_logloss: 0.304218\tvalid_1's binary_logloss: 0.392212\n",
      "Training until validation scores don't improve for 1000 rounds\n",
      "Early stopping, best iteration is:\n",
      "[747]\ttraining's binary_logloss: 0.326945\tvalid_1's binary_logloss: 0.372065\n",
      "Training until validation scores don't improve for 1000 rounds\n",
      "Early stopping, best iteration is:\n",
      "[198]\ttraining's binary_logloss: 0.356635\tvalid_1's binary_logloss: 0.456213\n",
      "Training until validation scores don't improve for 1000 rounds\n",
      "Early stopping, best iteration is:\n",
      "[764]\ttraining's binary_logloss: 0.317663\tvalid_1's binary_logloss: 0.405306\n",
      "Training until validation scores don't improve for 1000 rounds\n"
     ]
    },
    {
     "name": "stderr",
     "output_type": "stream",
     "text": [
      "\u001b[32m[I 2021-10-03 20:40:49,466]\u001b[0m Trial 125 finished with value: 0.8327721661054994 and parameters: {'lambda_l1': 0.005044175451586548, 'lambda_l2': 0.0007589649736169543, 'num_leaves': 31, 'feature_fraction': 0.6759305203155749, 'bagging_fraction': 0.4672649950521026, 'bagging_freq': 8, 'min_child_samples': 49, 'max_depth': 4}. Best is trial 71 with value: 0.8428731762065096.\u001b[0m\n"
     ]
    },
    {
     "name": "stdout",
     "output_type": "stream",
     "text": [
      "Early stopping, best iteration is:\n",
      "[2225]\ttraining's binary_logloss: 0.275214\tvalid_1's binary_logloss: 0.380198\n",
      "Training until validation scores don't improve for 1000 rounds\n",
      "Early stopping, best iteration is:\n",
      "[742]\ttraining's binary_logloss: 0.339516\tvalid_1's binary_logloss: 0.393998\n",
      "Training until validation scores don't improve for 1000 rounds\n",
      "Early stopping, best iteration is:\n",
      "[640]\ttraining's binary_logloss: 0.339274\tvalid_1's binary_logloss: 0.403969\n",
      "Training until validation scores don't improve for 1000 rounds\n",
      "Early stopping, best iteration is:\n",
      "[176]\ttraining's binary_logloss: 0.356243\tvalid_1's binary_logloss: 0.447319\n",
      "Training until validation scores don't improve for 1000 rounds\n",
      "Early stopping, best iteration is:\n",
      "[336]\ttraining's binary_logloss: 0.35376\tvalid_1's binary_logloss: 0.405389\n",
      "Training until validation scores don't improve for 1000 rounds\n"
     ]
    },
    {
     "name": "stderr",
     "output_type": "stream",
     "text": [
      "\u001b[32m[I 2021-10-03 20:40:51,733]\u001b[0m Trial 126 finished with value: 0.8294051627384961 and parameters: {'lambda_l1': 0.0002386104266249722, 'lambda_l2': 0.012513505988832668, 'num_leaves': 24, 'feature_fraction': 0.8211369373784858, 'bagging_fraction': 0.40155859194702315, 'bagging_freq': 7, 'min_child_samples': 46, 'max_depth': 4}. Best is trial 71 with value: 0.8428731762065096.\u001b[0m\n"
     ]
    },
    {
     "name": "stdout",
     "output_type": "stream",
     "text": [
      "Early stopping, best iteration is:\n",
      "[3313]\ttraining's binary_logloss: 0.272556\tvalid_1's binary_logloss: 0.38262\n",
      "Training until validation scores don't improve for 1000 rounds\n",
      "Early stopping, best iteration is:\n",
      "[690]\ttraining's binary_logloss: 0.301003\tvalid_1's binary_logloss: 0.380009\n",
      "Training until validation scores don't improve for 1000 rounds\n",
      "Early stopping, best iteration is:\n",
      "[389]\ttraining's binary_logloss: 0.319602\tvalid_1's binary_logloss: 0.375196\n",
      "Training until validation scores don't improve for 1000 rounds\n",
      "Early stopping, best iteration is:\n",
      "[125]\ttraining's binary_logloss: 0.346567\tvalid_1's binary_logloss: 0.444257\n",
      "Training until validation scores don't improve for 1000 rounds\n",
      "Early stopping, best iteration is:\n",
      "[67]\ttraining's binary_logloss: 0.3802\tvalid_1's binary_logloss: 0.415288\n",
      "Training until validation scores don't improve for 1000 rounds\n"
     ]
    },
    {
     "name": "stderr",
     "output_type": "stream",
     "text": [
      "\u001b[32m[I 2021-10-03 20:40:53,500]\u001b[0m Trial 127 finished with value: 0.8372615039281706 and parameters: {'lambda_l1': 0.04089058293976113, 'lambda_l2': 0.005551271415385077, 'num_leaves': 17, 'feature_fraction': 0.8305584281652933, 'bagging_fraction': 0.544254620555339, 'bagging_freq': 5, 'min_child_samples': 43, 'max_depth': 4}. Best is trial 71 with value: 0.8428731762065096.\u001b[0m\n"
     ]
    },
    {
     "name": "stdout",
     "output_type": "stream",
     "text": [
      "Early stopping, best iteration is:\n",
      "[730]\ttraining's binary_logloss: 0.285682\tvalid_1's binary_logloss: 0.376204\n",
      "Training until validation scores don't improve for 1000 rounds\n",
      "Early stopping, best iteration is:\n",
      "[584]\ttraining's binary_logloss: 0.293082\tvalid_1's binary_logloss: 0.387478\n",
      "Training until validation scores don't improve for 1000 rounds\n",
      "Early stopping, best iteration is:\n",
      "[391]\ttraining's binary_logloss: 0.305074\tvalid_1's binary_logloss: 0.372293\n",
      "Training until validation scores don't improve for 1000 rounds\n",
      "Early stopping, best iteration is:\n",
      "[70]\ttraining's binary_logloss: 0.360687\tvalid_1's binary_logloss: 0.442336\n",
      "Training until validation scores don't improve for 1000 rounds\n",
      "Early stopping, best iteration is:\n",
      "[64]\ttraining's binary_logloss: 0.375795\tvalid_1's binary_logloss: 0.403628\n",
      "Training until validation scores don't improve for 1000 rounds\n"
     ]
    },
    {
     "name": "stderr",
     "output_type": "stream",
     "text": [
      "\u001b[32m[I 2021-10-03 20:40:55,218]\u001b[0m Trial 128 finished with value: 0.835016835016835 and parameters: {'lambda_l1': 0.032705034389431134, 'lambda_l2': 0.007201753759479806, 'num_leaves': 14, 'feature_fraction': 0.8335580521486604, 'bagging_fraction': 0.5560420272737674, 'bagging_freq': 5, 'min_child_samples': 39, 'max_depth': 4}. Best is trial 71 with value: 0.8428731762065096.\u001b[0m\n"
     ]
    },
    {
     "name": "stdout",
     "output_type": "stream",
     "text": [
      "Early stopping, best iteration is:\n",
      "[574]\ttraining's binary_logloss: 0.284338\tvalid_1's binary_logloss: 0.383116\n",
      "Training until validation scores don't improve for 1000 rounds\n",
      "Early stopping, best iteration is:\n",
      "[735]\ttraining's binary_logloss: 0.308516\tvalid_1's binary_logloss: 0.386684\n",
      "Training until validation scores don't improve for 1000 rounds\n",
      "Early stopping, best iteration is:\n",
      "[390]\ttraining's binary_logloss: 0.331337\tvalid_1's binary_logloss: 0.389582\n",
      "Training until validation scores don't improve for 1000 rounds\n",
      "Early stopping, best iteration is:\n",
      "[135]\ttraining's binary_logloss: 0.35456\tvalid_1's binary_logloss: 0.446068\n",
      "Training until validation scores don't improve for 1000 rounds\n",
      "Early stopping, best iteration is:\n",
      "[285]\ttraining's binary_logloss: 0.335243\tvalid_1's binary_logloss: 0.407311\n",
      "Training until validation scores don't improve for 1000 rounds\n"
     ]
    },
    {
     "name": "stderr",
     "output_type": "stream",
     "text": [
      "\u001b[32m[I 2021-10-03 20:40:57,406]\u001b[0m Trial 129 finished with value: 0.8316498316498316 and parameters: {'lambda_l1': 0.010694341512839222, 'lambda_l2': 0.0020626839287823345, 'num_leaves': 18, 'feature_fraction': 0.6412014611188388, 'bagging_fraction': 0.5303894363944991, 'bagging_freq': 5, 'min_child_samples': 43, 'max_depth': 4}. Best is trial 71 with value: 0.8428731762065096.\u001b[0m\n"
     ]
    },
    {
     "name": "stdout",
     "output_type": "stream",
     "text": [
      "Early stopping, best iteration is:\n",
      "[940]\ttraining's binary_logloss: 0.289634\tvalid_1's binary_logloss: 0.379969\n",
      "Training until validation scores don't improve for 1000 rounds\n",
      "Early stopping, best iteration is:\n",
      "[689]\ttraining's binary_logloss: 0.287466\tvalid_1's binary_logloss: 0.376457\n",
      "Training until validation scores don't improve for 1000 rounds\n",
      "Early stopping, best iteration is:\n",
      "[325]\ttraining's binary_logloss: 0.317161\tvalid_1's binary_logloss: 0.378694\n",
      "Training until validation scores don't improve for 1000 rounds\n",
      "Early stopping, best iteration is:\n",
      "[37]\ttraining's binary_logloss: 0.390457\tvalid_1's binary_logloss: 0.447343\n",
      "Training until validation scores don't improve for 1000 rounds\n",
      "Early stopping, best iteration is:\n",
      "[305]\ttraining's binary_logloss: 0.306923\tvalid_1's binary_logloss: 0.408929\n",
      "Training until validation scores don't improve for 1000 rounds\n"
     ]
    },
    {
     "name": "stderr",
     "output_type": "stream",
     "text": [
      "\u001b[32m[I 2021-10-03 20:40:59,313]\u001b[0m Trial 130 finished with value: 0.8327721661054994 and parameters: {'lambda_l1': 0.09740985319841203, 'lambda_l2': 1.3709114355543381e-05, 'num_leaves': 46, 'feature_fraction': 0.878873047818134, 'bagging_fraction': 0.5393461372116461, 'bagging_freq': 5, 'min_child_samples': 42, 'max_depth': 5}. Best is trial 71 with value: 0.8428731762065096.\u001b[0m\n"
     ]
    },
    {
     "name": "stdout",
     "output_type": "stream",
     "text": [
      "Early stopping, best iteration is:\n",
      "[555]\ttraining's binary_logloss: 0.286302\tvalid_1's binary_logloss: 0.384738\n",
      "Training until validation scores don't improve for 1000 rounds\n",
      "Early stopping, best iteration is:\n",
      "[172]\ttraining's binary_logloss: 0.365667\tvalid_1's binary_logloss: 0.389054\n",
      "Training until validation scores don't improve for 1000 rounds\n",
      "Early stopping, best iteration is:\n",
      "[416]\ttraining's binary_logloss: 0.334348\tvalid_1's binary_logloss: 0.392642\n",
      "Training until validation scores don't improve for 1000 rounds\n",
      "Early stopping, best iteration is:\n",
      "[115]\ttraining's binary_logloss: 0.359369\tvalid_1's binary_logloss: 0.450772\n",
      "Training until validation scores don't improve for 1000 rounds\n",
      "Early stopping, best iteration is:\n",
      "[832]\ttraining's binary_logloss: 0.296193\tvalid_1's binary_logloss: 0.406136\n",
      "Training until validation scores don't improve for 1000 rounds\n"
     ]
    },
    {
     "name": "stderr",
     "output_type": "stream",
     "text": [
      "\u001b[32m[I 2021-10-03 20:41:01,475]\u001b[0m Trial 131 finished with value: 0.8294051627384961 and parameters: {'lambda_l1': 0.4565741987801676, 'lambda_l2': 0.004462625341953629, 'num_leaves': 20, 'feature_fraction': 0.800349371229023, 'bagging_fraction': 0.48189585088688514, 'bagging_freq': 4, 'min_child_samples': 41, 'max_depth': 4}. Best is trial 71 with value: 0.8428731762065096.\u001b[0m\n"
     ]
    },
    {
     "name": "stdout",
     "output_type": "stream",
     "text": [
      "Early stopping, best iteration is:\n",
      "[2112]\ttraining's binary_logloss: 0.253311\tvalid_1's binary_logloss: 0.372176\n",
      "Training until validation scores don't improve for 1000 rounds\n",
      "Early stopping, best iteration is:\n",
      "[53]\ttraining's binary_logloss: 0.401172\tvalid_1's binary_logloss: 0.399105\n",
      "Training until validation scores don't improve for 1000 rounds\n",
      "Early stopping, best iteration is:\n",
      "[517]\ttraining's binary_logloss: 0.311186\tvalid_1's binary_logloss: 0.393142\n",
      "Training until validation scores don't improve for 1000 rounds\n",
      "Early stopping, best iteration is:\n",
      "[110]\ttraining's binary_logloss: 0.355806\tvalid_1's binary_logloss: 0.450227\n",
      "Training until validation scores don't improve for 1000 rounds\n",
      "Early stopping, best iteration is:\n",
      "[191]\ttraining's binary_logloss: 0.346106\tvalid_1's binary_logloss: 0.410795\n",
      "Training until validation scores don't improve for 1000 rounds\n"
     ]
    },
    {
     "name": "stderr",
     "output_type": "stream",
     "text": [
      "\u001b[32m[I 2021-10-03 20:41:03,382]\u001b[0m Trial 132 finished with value: 0.8305274971941639 and parameters: {'lambda_l1': 0.0471506862279079, 'lambda_l2': 0.0017820821983174032, 'num_leaves': 16, 'feature_fraction': 0.6663516344277832, 'bagging_fraction': 0.5477044701763457, 'bagging_freq': 8, 'min_child_samples': 44, 'max_depth': 4}. Best is trial 71 with value: 0.8428731762065096.\u001b[0m\n"
     ]
    },
    {
     "name": "stdout",
     "output_type": "stream",
     "text": [
      "Early stopping, best iteration is:\n",
      "[886]\ttraining's binary_logloss: 0.28423\tvalid_1's binary_logloss: 0.377536\n",
      "Training until validation scores don't improve for 1000 rounds\n",
      "Early stopping, best iteration is:\n",
      "[760]\ttraining's binary_logloss: 0.319991\tvalid_1's binary_logloss: 0.398665\n",
      "Training until validation scores don't improve for 1000 rounds\n",
      "Early stopping, best iteration is:\n",
      "[639]\ttraining's binary_logloss: 0.315174\tvalid_1's binary_logloss: 0.38606\n",
      "Training until validation scores don't improve for 1000 rounds\n",
      "Early stopping, best iteration is:\n",
      "[127]\ttraining's binary_logloss: 0.360323\tvalid_1's binary_logloss: 0.445882\n",
      "Training until validation scores don't improve for 1000 rounds\n",
      "Early stopping, best iteration is:\n",
      "[66]\ttraining's binary_logloss: 0.386207\tvalid_1's binary_logloss: 0.412492\n",
      "Training until validation scores don't improve for 1000 rounds\n"
     ]
    },
    {
     "name": "stderr",
     "output_type": "stream",
     "text": [
      "\u001b[32m[I 2021-10-03 20:41:06,070]\u001b[0m Trial 133 finished with value: 0.8282828282828283 and parameters: {'lambda_l1': 0.8965840728784359, 'lambda_l2': 0.017012335820783948, 'num_leaves': 26, 'feature_fraction': 0.7911081034166221, 'bagging_fraction': 0.4985169050288975, 'bagging_freq': 5, 'min_child_samples': 40, 'max_depth': 4}. Best is trial 71 with value: 0.8428731762065096.\u001b[0m\n"
     ]
    },
    {
     "name": "stdout",
     "output_type": "stream",
     "text": [
      "Early stopping, best iteration is:\n",
      "[2469]\ttraining's binary_logloss: 0.259204\tvalid_1's binary_logloss: 0.371165\n",
      "Training until validation scores don't improve for 1000 rounds\n",
      "Early stopping, best iteration is:\n",
      "[192]\ttraining's binary_logloss: 0.366418\tvalid_1's binary_logloss: 0.392024\n",
      "Training until validation scores don't improve for 1000 rounds\n",
      "Early stopping, best iteration is:\n",
      "[530]\ttraining's binary_logloss: 0.328166\tvalid_1's binary_logloss: 0.39176\n",
      "Training until validation scores don't improve for 1000 rounds\n",
      "Early stopping, best iteration is:\n",
      "[133]\ttraining's binary_logloss: 0.362039\tvalid_1's binary_logloss: 0.453599\n",
      "Training until validation scores don't improve for 1000 rounds\n",
      "Early stopping, best iteration is:\n",
      "[526]\ttraining's binary_logloss: 0.322179\tvalid_1's binary_logloss: 0.408944\n",
      "Training until validation scores don't improve for 1000 rounds\n"
     ]
    },
    {
     "name": "stderr",
     "output_type": "stream",
     "text": [
      "\u001b[32m[I 2021-10-03 20:41:08,556]\u001b[0m Trial 134 finished with value: 0.8271604938271605 and parameters: {'lambda_l1': 0.31830566678284256, 'lambda_l2': 0.0012553594512842452, 'num_leaves': 19, 'feature_fraction': 0.7422723808288498, 'bagging_fraction': 0.5113085432791626, 'bagging_freq': 5, 'min_child_samples': 46, 'max_depth': 4}. Best is trial 71 with value: 0.8428731762065096.\u001b[0m\n"
     ]
    },
    {
     "name": "stdout",
     "output_type": "stream",
     "text": [
      "Early stopping, best iteration is:\n",
      "[940]\ttraining's binary_logloss: 0.301957\tvalid_1's binary_logloss: 0.382726\n",
      "Training until validation scores don't improve for 1000 rounds\n",
      "Early stopping, best iteration is:\n",
      "[174]\ttraining's binary_logloss: 0.395485\tvalid_1's binary_logloss: 0.400044\n",
      "Training until validation scores don't improve for 1000 rounds\n",
      "Early stopping, best iteration is:\n",
      "[290]\ttraining's binary_logloss: 0.389981\tvalid_1's binary_logloss: 0.408783\n",
      "Training until validation scores don't improve for 1000 rounds\n",
      "Early stopping, best iteration is:\n",
      "[169]\ttraining's binary_logloss: 0.377453\tvalid_1's binary_logloss: 0.448308\n",
      "Training until validation scores don't improve for 1000 rounds\n",
      "Early stopping, best iteration is:\n",
      "[454]\ttraining's binary_logloss: 0.373538\tvalid_1's binary_logloss: 0.416958\n",
      "Training until validation scores don't improve for 1000 rounds\n"
     ]
    },
    {
     "name": "stderr",
     "output_type": "stream",
     "text": [
      "\u001b[32m[I 2021-10-03 20:41:09,778]\u001b[0m Trial 135 finished with value: 0.8361391694725028 and parameters: {'lambda_l1': 3.3254469322914697, 'lambda_l2': 0.006518262222920677, 'num_leaves': 22, 'feature_fraction': 0.6942984559874303, 'bagging_fraction': 0.5716992094467145, 'bagging_freq': 8, 'min_child_samples': 41, 'max_depth': 3}. Best is trial 71 with value: 0.8428731762065096.\u001b[0m\n"
     ]
    },
    {
     "name": "stdout",
     "output_type": "stream",
     "text": [
      "Early stopping, best iteration is:\n",
      "[668]\ttraining's binary_logloss: 0.37159\tvalid_1's binary_logloss: 0.396922\n",
      "Training until validation scores don't improve for 1000 rounds\n",
      "Early stopping, best iteration is:\n",
      "[332]\ttraining's binary_logloss: 0.380371\tvalid_1's binary_logloss: 0.39571\n",
      "Training until validation scores don't improve for 1000 rounds\n",
      "Early stopping, best iteration is:\n",
      "[193]\ttraining's binary_logloss: 0.391461\tvalid_1's binary_logloss: 0.403587\n",
      "Training until validation scores don't improve for 1000 rounds\n",
      "Early stopping, best iteration is:\n",
      "[214]\ttraining's binary_logloss: 0.36809\tvalid_1's binary_logloss: 0.449277\n",
      "Training until validation scores don't improve for 1000 rounds\n",
      "Early stopping, best iteration is:\n",
      "[272]\ttraining's binary_logloss: 0.378799\tvalid_1's binary_logloss: 0.419517\n",
      "Training until validation scores don't improve for 1000 rounds\n"
     ]
    },
    {
     "name": "stderr",
     "output_type": "stream",
     "text": [
      "\u001b[32m[I 2021-10-03 20:41:11,111]\u001b[0m Trial 136 finished with value: 0.8316498316498316 and parameters: {'lambda_l1': 3.167819316430777, 'lambda_l2': 0.008930879686774834, 'num_leaves': 22, 'feature_fraction': 0.6890683405115061, 'bagging_fraction': 0.5774960397176238, 'bagging_freq': 8, 'min_child_samples': 38, 'max_depth': 3}. Best is trial 71 with value: 0.8428731762065096.\u001b[0m\n"
     ]
    },
    {
     "name": "stdout",
     "output_type": "stream",
     "text": [
      "Early stopping, best iteration is:\n",
      "[615]\ttraining's binary_logloss: 0.366721\tvalid_1's binary_logloss: 0.397613\n",
      "Training until validation scores don't improve for 1000 rounds\n",
      "Early stopping, best iteration is:\n",
      "[176]\ttraining's binary_logloss: 0.35338\tvalid_1's binary_logloss: 0.379793\n",
      "Training until validation scores don't improve for 1000 rounds\n",
      "Early stopping, best iteration is:\n",
      "[470]\ttraining's binary_logloss: 0.313144\tvalid_1's binary_logloss: 0.380368\n",
      "Training until validation scores don't improve for 1000 rounds\n",
      "Early stopping, best iteration is:\n",
      "[162]\ttraining's binary_logloss: 0.336556\tvalid_1's binary_logloss: 0.443567\n",
      "Training until validation scores don't improve for 1000 rounds\n",
      "Early stopping, best iteration is:\n",
      "[58]\ttraining's binary_logloss: 0.385168\tvalid_1's binary_logloss: 0.411111\n",
      "Training until validation scores don't improve for 1000 rounds\n"
     ]
    },
    {
     "name": "stderr",
     "output_type": "stream",
     "text": [
      "\u001b[32m[I 2021-10-03 20:41:12,744]\u001b[0m Trial 137 finished with value: 0.8249158249158249 and parameters: {'lambda_l1': 0.0003180449617820316, 'lambda_l2': 0.026457440924975418, 'num_leaves': 28, 'feature_fraction': 0.7516097237091065, 'bagging_fraction': 0.5682615030733486, 'bagging_freq': 6, 'min_child_samples': 37, 'max_depth': 3}. Best is trial 71 with value: 0.8428731762065096.\u001b[0m\n"
     ]
    },
    {
     "name": "stdout",
     "output_type": "stream",
     "text": [
      "Early stopping, best iteration is:\n",
      "[660]\ttraining's binary_logloss: 0.291177\tvalid_1's binary_logloss: 0.38618\n",
      "Training until validation scores don't improve for 1000 rounds\n",
      "Early stopping, best iteration is:\n",
      "[344]\ttraining's binary_logloss: 0.368413\tvalid_1's binary_logloss: 0.392134\n",
      "Training until validation scores don't improve for 1000 rounds\n",
      "Early stopping, best iteration is:\n",
      "[988]\ttraining's binary_logloss: 0.335305\tvalid_1's binary_logloss: 0.38527\n",
      "Training until validation scores don't improve for 1000 rounds\n",
      "Early stopping, best iteration is:\n",
      "[182]\ttraining's binary_logloss: 0.363437\tvalid_1's binary_logloss: 0.444589\n",
      "Training until validation scores don't improve for 1000 rounds\n",
      "Early stopping, best iteration is:\n",
      "[81]\ttraining's binary_logloss: 0.395871\tvalid_1's binary_logloss: 0.416276\n",
      "Training until validation scores don't improve for 1000 rounds\n"
     ]
    },
    {
     "name": "stderr",
     "output_type": "stream",
     "text": [
      "\u001b[32m[I 2021-10-03 20:41:14,648]\u001b[0m Trial 138 finished with value: 0.8271604938271605 and parameters: {'lambda_l1': 0.020602393040052805, 'lambda_l2': 0.006124111475977651, 'num_leaves': 21, 'feature_fraction': 0.6191194748590134, 'bagging_fraction': 0.5865074891937059, 'bagging_freq': 8, 'min_child_samples': 44, 'max_depth': 2}. Best is trial 71 with value: 0.8428731762065096.\u001b[0m\n"
     ]
    },
    {
     "name": "stdout",
     "output_type": "stream",
     "text": [
      "Early stopping, best iteration is:\n",
      "[1929]\ttraining's binary_logloss: 0.308511\tvalid_1's binary_logloss: 0.390432\n",
      "Training until validation scores don't improve for 1000 rounds\n",
      "Early stopping, best iteration is:\n",
      "[240]\ttraining's binary_logloss: 0.348014\tvalid_1's binary_logloss: 0.391356\n",
      "Training until validation scores don't improve for 1000 rounds\n",
      "Early stopping, best iteration is:\n",
      "[522]\ttraining's binary_logloss: 0.317519\tvalid_1's binary_logloss: 0.379848\n",
      "Training until validation scores don't improve for 1000 rounds\n",
      "Early stopping, best iteration is:\n",
      "[216]\ttraining's binary_logloss: 0.33286\tvalid_1's binary_logloss: 0.446855\n",
      "Training until validation scores don't improve for 1000 rounds\n",
      "Early stopping, best iteration is:\n",
      "[173]\ttraining's binary_logloss: 0.352094\tvalid_1's binary_logloss: 0.409731\n",
      "Training until validation scores don't improve for 1000 rounds\n"
     ]
    },
    {
     "name": "stderr",
     "output_type": "stream",
     "text": [
      "\u001b[32m[I 2021-10-03 20:41:16,534]\u001b[0m Trial 139 finished with value: 0.8260381593714927 and parameters: {'lambda_l1': 0.01469076949250204, 'lambda_l2': 0.0035143955076931675, 'num_leaves': 22, 'feature_fraction': 0.6460063971279358, 'bagging_fraction': 0.5291504696450479, 'bagging_freq': 8, 'min_child_samples': 41, 'max_depth': 4}. Best is trial 71 with value: 0.8428731762065096.\u001b[0m\n"
     ]
    },
    {
     "name": "stdout",
     "output_type": "stream",
     "text": [
      "Early stopping, best iteration is:\n",
      "[880]\ttraining's binary_logloss: 0.287638\tvalid_1's binary_logloss: 0.377369\n",
      "Training until validation scores don't improve for 1000 rounds\n",
      "Early stopping, best iteration is:\n",
      "[1323]\ttraining's binary_logloss: 0.293165\tvalid_1's binary_logloss: 0.384951\n",
      "Training until validation scores don't improve for 1000 rounds\n",
      "Early stopping, best iteration is:\n",
      "[216]\ttraining's binary_logloss: 0.36053\tvalid_1's binary_logloss: 0.387229\n",
      "Training until validation scores don't improve for 1000 rounds\n",
      "Early stopping, best iteration is:\n",
      "[225]\ttraining's binary_logloss: 0.338244\tvalid_1's binary_logloss: 0.456691\n",
      "Training until validation scores don't improve for 1000 rounds\n",
      "Early stopping, best iteration is:\n",
      "[756]\ttraining's binary_logloss: 0.300874\tvalid_1's binary_logloss: 0.408131\n",
      "Training until validation scores don't improve for 1000 rounds\n"
     ]
    },
    {
     "name": "stderr",
     "output_type": "stream",
     "text": [
      "\u001b[32m[I 2021-10-03 20:41:20,127]\u001b[0m Trial 140 finished with value: 0.8316498316498316 and parameters: {'lambda_l1': 0.007251407859900425, 'lambda_l2': 3.334296193101823, 'num_leaves': 17, 'feature_fraction': 0.8272302527899054, 'bagging_fraction': 0.509964980253373, 'bagging_freq': 9, 'min_child_samples': 43, 'max_depth': 5}. Best is trial 71 with value: 0.8428731762065096.\u001b[0m\n"
     ]
    },
    {
     "name": "stdout",
     "output_type": "stream",
     "text": [
      "Early stopping, best iteration is:\n",
      "[1692]\ttraining's binary_logloss: 0.275384\tvalid_1's binary_logloss: 0.378681\n",
      "Training until validation scores don't improve for 1000 rounds\n"
     ]
    },
    {
     "ename": "KeyboardInterrupt",
     "evalue": "",
     "output_type": "error",
     "traceback": [
      "\u001b[0;31m---------------------------------------------------------------------------\u001b[0m",
      "\u001b[0;31mKeyboardInterrupt\u001b[0m                         Traceback (most recent call last)",
      "\u001b[0;32m<ipython-input-52-6726e5007f3a>\u001b[0m in \u001b[0;36m<module>\u001b[0;34m\u001b[0m\n\u001b[0;32m----> 1\u001b[0;31m \u001b[0moptuna_lgb\u001b[0m\u001b[0;34m(\u001b[0m\u001b[0;34m)\u001b[0m\u001b[0;34m\u001b[0m\u001b[0;34m\u001b[0m\u001b[0m\n\u001b[0m",
      "\u001b[0;32m<ipython-input-51-431e98f722ad>\u001b[0m in \u001b[0;36moptuna_lgb\u001b[0;34m(n_trials)\u001b[0m\n\u001b[1;32m     50\u001b[0m \u001b[0;34m\u001b[0m\u001b[0m\n\u001b[1;32m     51\u001b[0m     \u001b[0mstudy\u001b[0m \u001b[0;34m=\u001b[0m \u001b[0moptuna\u001b[0m\u001b[0;34m.\u001b[0m\u001b[0mcreate_study\u001b[0m\u001b[0;34m(\u001b[0m\u001b[0mdirection\u001b[0m\u001b[0;34m=\u001b[0m\u001b[0;34m\"maximize\"\u001b[0m\u001b[0;34m)\u001b[0m\u001b[0;34m\u001b[0m\u001b[0;34m\u001b[0m\u001b[0m\n\u001b[0;32m---> 52\u001b[0;31m     \u001b[0mstudy\u001b[0m\u001b[0;34m.\u001b[0m\u001b[0moptimize\u001b[0m\u001b[0;34m(\u001b[0m\u001b[0mobjective\u001b[0m\u001b[0;34m,\u001b[0m \u001b[0mn_trials\u001b[0m\u001b[0;34m=\u001b[0m\u001b[0mn_trials\u001b[0m\u001b[0;34m)\u001b[0m\u001b[0;34m\u001b[0m\u001b[0;34m\u001b[0m\u001b[0m\n\u001b[0m\u001b[1;32m     53\u001b[0m \u001b[0;34m\u001b[0m\u001b[0m\n\u001b[1;32m     54\u001b[0m     \u001b[0mprint\u001b[0m\u001b[0;34m(\u001b[0m\u001b[0;34m\"Number of finished trials: {}\"\u001b[0m\u001b[0;34m.\u001b[0m\u001b[0mformat\u001b[0m\u001b[0;34m(\u001b[0m\u001b[0mlen\u001b[0m\u001b[0;34m(\u001b[0m\u001b[0mstudy\u001b[0m\u001b[0;34m.\u001b[0m\u001b[0mtrials\u001b[0m\u001b[0;34m)\u001b[0m\u001b[0;34m)\u001b[0m\u001b[0;34m)\u001b[0m\u001b[0;34m\u001b[0m\u001b[0;34m\u001b[0m\u001b[0m\n",
      "\u001b[0;32m/Users/tianxiangzhou/opt/anaconda3/lib/python3.7/site-packages/optuna/study.py\u001b[0m in \u001b[0;36moptimize\u001b[0;34m(self, func, n_trials, timeout, n_jobs, catch, callbacks, gc_after_trial, show_progress_bar)\u001b[0m\n\u001b[1;32m    383\u001b[0m             \u001b[0mcallbacks\u001b[0m\u001b[0;34m=\u001b[0m\u001b[0mcallbacks\u001b[0m\u001b[0;34m,\u001b[0m\u001b[0;34m\u001b[0m\u001b[0;34m\u001b[0m\u001b[0m\n\u001b[1;32m    384\u001b[0m             \u001b[0mgc_after_trial\u001b[0m\u001b[0;34m=\u001b[0m\u001b[0mgc_after_trial\u001b[0m\u001b[0;34m,\u001b[0m\u001b[0;34m\u001b[0m\u001b[0;34m\u001b[0m\u001b[0m\n\u001b[0;32m--> 385\u001b[0;31m             \u001b[0mshow_progress_bar\u001b[0m\u001b[0;34m=\u001b[0m\u001b[0mshow_progress_bar\u001b[0m\u001b[0;34m,\u001b[0m\u001b[0;34m\u001b[0m\u001b[0;34m\u001b[0m\u001b[0m\n\u001b[0m\u001b[1;32m    386\u001b[0m         )\n\u001b[1;32m    387\u001b[0m \u001b[0;34m\u001b[0m\u001b[0m\n",
      "\u001b[0;32m/Users/tianxiangzhou/opt/anaconda3/lib/python3.7/site-packages/optuna/_optimize.py\u001b[0m in \u001b[0;36m_optimize\u001b[0;34m(study, func, n_trials, timeout, n_jobs, catch, callbacks, gc_after_trial, show_progress_bar)\u001b[0m\n\u001b[1;32m     71\u001b[0m                 \u001b[0mreseed_sampler_rng\u001b[0m\u001b[0;34m=\u001b[0m\u001b[0;32mFalse\u001b[0m\u001b[0;34m,\u001b[0m\u001b[0;34m\u001b[0m\u001b[0;34m\u001b[0m\u001b[0m\n\u001b[1;32m     72\u001b[0m                 \u001b[0mtime_start\u001b[0m\u001b[0;34m=\u001b[0m\u001b[0;32mNone\u001b[0m\u001b[0;34m,\u001b[0m\u001b[0;34m\u001b[0m\u001b[0;34m\u001b[0m\u001b[0m\n\u001b[0;32m---> 73\u001b[0;31m                 \u001b[0mprogress_bar\u001b[0m\u001b[0;34m=\u001b[0m\u001b[0mprogress_bar\u001b[0m\u001b[0;34m,\u001b[0m\u001b[0;34m\u001b[0m\u001b[0;34m\u001b[0m\u001b[0m\n\u001b[0m\u001b[1;32m     74\u001b[0m             )\n\u001b[1;32m     75\u001b[0m         \u001b[0;32melse\u001b[0m\u001b[0;34m:\u001b[0m\u001b[0;34m\u001b[0m\u001b[0;34m\u001b[0m\u001b[0m\n",
      "\u001b[0;32m/Users/tianxiangzhou/opt/anaconda3/lib/python3.7/site-packages/optuna/_optimize.py\u001b[0m in \u001b[0;36m_optimize_sequential\u001b[0;34m(study, func, n_trials, timeout, catch, callbacks, gc_after_trial, reseed_sampler_rng, time_start, progress_bar)\u001b[0m\n\u001b[1;32m    162\u001b[0m \u001b[0;34m\u001b[0m\u001b[0m\n\u001b[1;32m    163\u001b[0m         \u001b[0;32mtry\u001b[0m\u001b[0;34m:\u001b[0m\u001b[0;34m\u001b[0m\u001b[0;34m\u001b[0m\u001b[0m\n\u001b[0;32m--> 164\u001b[0;31m             \u001b[0mtrial\u001b[0m \u001b[0;34m=\u001b[0m \u001b[0m_run_trial\u001b[0m\u001b[0;34m(\u001b[0m\u001b[0mstudy\u001b[0m\u001b[0;34m,\u001b[0m \u001b[0mfunc\u001b[0m\u001b[0;34m,\u001b[0m \u001b[0mcatch\u001b[0m\u001b[0;34m)\u001b[0m\u001b[0;34m\u001b[0m\u001b[0;34m\u001b[0m\u001b[0m\n\u001b[0m\u001b[1;32m    165\u001b[0m         \u001b[0;32mexcept\u001b[0m \u001b[0mException\u001b[0m\u001b[0;34m:\u001b[0m\u001b[0;34m\u001b[0m\u001b[0;34m\u001b[0m\u001b[0m\n\u001b[1;32m    166\u001b[0m             \u001b[0;32mraise\u001b[0m\u001b[0;34m\u001b[0m\u001b[0;34m\u001b[0m\u001b[0m\n",
      "\u001b[0;32m/Users/tianxiangzhou/opt/anaconda3/lib/python3.7/site-packages/optuna/_optimize.py\u001b[0m in \u001b[0;36m_run_trial\u001b[0;34m(study, func, catch)\u001b[0m\n\u001b[1;32m    209\u001b[0m \u001b[0;34m\u001b[0m\u001b[0m\n\u001b[1;32m    210\u001b[0m     \u001b[0;32mtry\u001b[0m\u001b[0;34m:\u001b[0m\u001b[0;34m\u001b[0m\u001b[0;34m\u001b[0m\u001b[0m\n\u001b[0;32m--> 211\u001b[0;31m         \u001b[0mvalue_or_values\u001b[0m \u001b[0;34m=\u001b[0m \u001b[0mfunc\u001b[0m\u001b[0;34m(\u001b[0m\u001b[0mtrial\u001b[0m\u001b[0;34m)\u001b[0m\u001b[0;34m\u001b[0m\u001b[0;34m\u001b[0m\u001b[0m\n\u001b[0m\u001b[1;32m    212\u001b[0m     \u001b[0;32mexcept\u001b[0m \u001b[0mexceptions\u001b[0m\u001b[0;34m.\u001b[0m\u001b[0mTrialPruned\u001b[0m \u001b[0;32mas\u001b[0m \u001b[0me\u001b[0m\u001b[0;34m:\u001b[0m\u001b[0;34m\u001b[0m\u001b[0;34m\u001b[0m\u001b[0m\n\u001b[1;32m    213\u001b[0m         \u001b[0;31m# TODO(mamu): Handle multi-objective cases.\u001b[0m\u001b[0;34m\u001b[0m\u001b[0;34m\u001b[0m\u001b[0;34m\u001b[0m\u001b[0m\n",
      "\u001b[0;32m<ipython-input-51-431e98f722ad>\u001b[0m in \u001b[0;36mobjective\u001b[0;34m(trial)\u001b[0m\n\u001b[1;32m     40\u001b[0m                             \u001b[0mnum_boost_round\u001b[0m\u001b[0;34m=\u001b[0m\u001b[0;36m5000\u001b[0m\u001b[0;34m,\u001b[0m\u001b[0;34m\u001b[0m\u001b[0;34m\u001b[0m\u001b[0m\n\u001b[1;32m     41\u001b[0m                             \u001b[0mverbose_eval\u001b[0m\u001b[0;34m=\u001b[0m\u001b[0;34m-\u001b[0m\u001b[0;36m1\u001b[0m\u001b[0;34m,\u001b[0m\u001b[0;34m\u001b[0m\u001b[0;34m\u001b[0m\u001b[0m\n\u001b[0;32m---> 42\u001b[0;31m                             \u001b[0mearly_stopping_rounds\u001b[0m\u001b[0;34m=\u001b[0m\u001b[0;36m1000\u001b[0m\u001b[0;34m\u001b[0m\u001b[0;34m\u001b[0m\u001b[0m\n\u001b[0m\u001b[1;32m     43\u001b[0m                             )\n\u001b[1;32m     44\u001b[0m             \u001b[0moof_preds\u001b[0m \u001b[0;34m=\u001b[0m \u001b[0mgbm\u001b[0m\u001b[0;34m.\u001b[0m\u001b[0mpredict\u001b[0m\u001b[0;34m(\u001b[0m\u001b[0mvalid_x\u001b[0m\u001b[0;34m,\u001b[0m \u001b[0mnum_iteration\u001b[0m\u001b[0;34m=\u001b[0m\u001b[0mgbm\u001b[0m\u001b[0;34m.\u001b[0m\u001b[0mbest_iteration\u001b[0m\u001b[0;34m)\u001b[0m\u001b[0;34m\u001b[0m\u001b[0;34m\u001b[0m\u001b[0m\n",
      "\u001b[0;32m/Users/tianxiangzhou/opt/anaconda3/lib/python3.7/site-packages/lightgbm/engine.py\u001b[0m in \u001b[0;36mtrain\u001b[0;34m(params, train_set, num_boost_round, valid_sets, valid_names, fobj, feval, init_model, feature_name, categorical_feature, early_stopping_rounds, evals_result, verbose_eval, learning_rates, keep_training_booster, callbacks)\u001b[0m\n\u001b[1;32m    247\u001b[0m                                     evaluation_result_list=None))\n\u001b[1;32m    248\u001b[0m \u001b[0;34m\u001b[0m\u001b[0m\n\u001b[0;32m--> 249\u001b[0;31m         \u001b[0mbooster\u001b[0m\u001b[0;34m.\u001b[0m\u001b[0mupdate\u001b[0m\u001b[0;34m(\u001b[0m\u001b[0mfobj\u001b[0m\u001b[0;34m=\u001b[0m\u001b[0mfobj\u001b[0m\u001b[0;34m)\u001b[0m\u001b[0;34m\u001b[0m\u001b[0;34m\u001b[0m\u001b[0m\n\u001b[0m\u001b[1;32m    250\u001b[0m \u001b[0;34m\u001b[0m\u001b[0m\n\u001b[1;32m    251\u001b[0m         \u001b[0mevaluation_result_list\u001b[0m \u001b[0;34m=\u001b[0m \u001b[0;34m[\u001b[0m\u001b[0;34m]\u001b[0m\u001b[0;34m\u001b[0m\u001b[0;34m\u001b[0m\u001b[0m\n",
      "\u001b[0;32m/Users/tianxiangzhou/opt/anaconda3/lib/python3.7/site-packages/lightgbm/basic.py\u001b[0m in \u001b[0;36mupdate\u001b[0;34m(self, train_set, fobj)\u001b[0m\n\u001b[1;32m   2643\u001b[0m             _safe_call(_LIB.LGBM_BoosterUpdateOneIter(\n\u001b[1;32m   2644\u001b[0m                 \u001b[0mself\u001b[0m\u001b[0;34m.\u001b[0m\u001b[0mhandle\u001b[0m\u001b[0;34m,\u001b[0m\u001b[0;34m\u001b[0m\u001b[0;34m\u001b[0m\u001b[0m\n\u001b[0;32m-> 2645\u001b[0;31m                 ctypes.byref(is_finished)))\n\u001b[0m\u001b[1;32m   2646\u001b[0m             \u001b[0mself\u001b[0m\u001b[0;34m.\u001b[0m\u001b[0m__is_predicted_cur_iter\u001b[0m \u001b[0;34m=\u001b[0m \u001b[0;34m[\u001b[0m\u001b[0;32mFalse\u001b[0m \u001b[0;32mfor\u001b[0m \u001b[0m_\u001b[0m \u001b[0;32min\u001b[0m \u001b[0mrange\u001b[0m\u001b[0;34m(\u001b[0m\u001b[0mself\u001b[0m\u001b[0;34m.\u001b[0m\u001b[0m__num_dataset\u001b[0m\u001b[0;34m)\u001b[0m\u001b[0;34m]\u001b[0m\u001b[0;34m\u001b[0m\u001b[0;34m\u001b[0m\u001b[0m\n\u001b[1;32m   2647\u001b[0m             \u001b[0;32mreturn\u001b[0m \u001b[0mis_finished\u001b[0m\u001b[0;34m.\u001b[0m\u001b[0mvalue\u001b[0m \u001b[0;34m==\u001b[0m \u001b[0;36m1\u001b[0m\u001b[0;34m\u001b[0m\u001b[0;34m\u001b[0m\u001b[0m\n",
      "\u001b[0;31mKeyboardInterrupt\u001b[0m: "
     ]
    }
   ],
   "source": [
    "optuna_lgb()"
   ]
  },
  {
   "cell_type": "markdown",
   "metadata": {
    "cell_id": "00050-86d00ef8-576f-4849-9c16-824908353491",
    "deepnote_cell_type": "markdown",
    "id": "RCkXAOnxL8Lk"
   },
   "source": [
    "## XGBoost"
   ]
  },
  {
   "cell_type": "code",
   "execution_count": null,
   "metadata": {
    "cell_id": "00051-1ff7f2eb-aeae-4a3c-bd2d-f8ecdcd724d2",
    "deepnote_cell_type": "code",
    "deepnote_to_be_reexecuted": true,
    "execution_millis": 53863,
    "execution_start": 1633264616584,
    "id": "C9NgxHbDL8Lk",
    "outputId": "078df67f-66ff-4633-b391-08efdc11c3ad",
    "source_hash": "6bd16997"
   },
   "outputs": [
    {
     "name": "stderr",
     "output_type": "stream",
     "text": [
      "[6]\tvalidation-auc:0.87801\n",
      "[7]\tvalidation-auc:0.87654\n",
      "[8]\tvalidation-auc:0.87179\n",
      "[9]\tvalidation-auc:0.87286\n",
      "[0]\tvalidation-auc:0.82487\n",
      "[1]\tvalidation-auc:0.85308\n",
      "[2]\tvalidation-auc:0.85054\n",
      "[3]\tvalidation-auc:0.84880\n",
      "[4]\tvalidation-auc:0.85107\n",
      "[5]\tvalidation-auc:0.84626\n",
      "[6]\tvalidation-auc:0.82995\n",
      "[7]\tvalidation-auc:0.82874\n",
      "[8]\tvalidation-auc:0.82707\n",
      "[9]\tvalidation-auc:0.83135\n",
      "[0]\tvalidation-auc:0.86350\n",
      "[1]\tvalidation-auc:0.86190\n",
      "[2]\tvalidation-auc:0.86150\n",
      "[3]\tvalidation-auc:0.86110\n",
      "[4]\tvalidation-auc:0.86143\n",
      "[5]\tvalidation-auc:0.86023\n",
      "[6]\tvalidation-auc:0.86805\n",
      "[7]\tvalidation-auc:0.86765\n",
      "[8]\tvalidation-auc:0.86704\n",
      "[9]\tvalidation-auc:0.86678\n",
      "[0]\tvalidation-auc:0.84823\n",
      "[1]\tvalidation-auc:0.84756\n",
      "[2]\tvalidation-auc:0.85627\n",
      "[3]\tvalidation-auc:0.85840\n",
      "[4]\tvalidation-auc:0.86132\n",
      "[5]\tvalidation-auc:0.86139\n",
      "[6]\tvalidation-auc:0.86252\n",
      "[7]\tvalidation-auc:0.86518\n",
      "[8]\tvalidation-auc:0.86637\n",
      "[9]\tvalidation-auc:0.86451\n",
      "\u001b[32m[I 2021-10-03 12:37:26,970]\u001b[0m Trial 60 finished with value: 0.8146067415730337 and parameters: {'booster': 'dart', 'lambda': 4.85331680298883e-07, 'alpha': 0.01812493413654589, 'max_depth': 5, 'eta': 0.08262537184150962, 'gamma': 0.48071564527211014, 'grow_policy': 'depthwise', 'sample_type': 'weighted', 'normalize_type': 'forest', 'rate_drop': 0.00037443921132358695, 'skip_drop': 5.888435333611357e-06}. Best is trial 17 with value: 0.8314606741573034.\u001b[0m\n",
      "[0]\tvalidation-auc:0.89736\n",
      "[1]\tvalidation-auc:0.90692\n",
      "[2]\tvalidation-auc:0.90586\n",
      "[3]\tvalidation-auc:0.90692\n",
      "[4]\tvalidation-auc:0.90771\n",
      "[5]\tvalidation-auc:0.90771\n",
      "[6]\tvalidation-auc:0.90527\n",
      "[7]\tvalidation-auc:0.90712\n",
      "[8]\tvalidation-auc:0.90804\n",
      "[9]\tvalidation-auc:0.90988\n",
      "[0]\tvalidation-auc:0.88382\n",
      "[1]\tvalidation-auc:0.88255\n",
      "[2]\tvalidation-auc:0.87039\n",
      "[3]\tvalidation-auc:0.86664\n",
      "IOPub message rate exceeded.\n",
      "The notebook server will temporarily stop sending output\n",
      "to the client in order to avoid crashing it.\n",
      "To change this limit, set the config variable\n",
      "`--NotebookApp.iopub_msg_rate_limit`.\n",
      "\n",
      "Current values:\n",
      "NotebookApp.iopub_msg_rate_limit=50.0 (msgs/sec)\n",
      "NotebookApp.rate_limit_window=3.0 (secs)\n",
      "\n",
      "[0]\tvalidation-auc:0.86832\n",
      "[1]\tvalidation-auc:0.86832\n",
      "[2]\tvalidation-auc:0.86832\n",
      "[3]\tvalidation-auc:0.86832\n",
      "[4]\tvalidation-auc:0.86832\n",
      "[5]\tvalidation-auc:0.86832\n",
      "[6]\tvalidation-auc:0.86832\n",
      "[7]\tvalidation-auc:0.86832\n",
      "[8]\tvalidation-auc:0.86832\n",
      "[9]\tvalidation-auc:0.86832\n",
      "[0]\tvalidation-auc:0.85321\n",
      "[1]\tvalidation-auc:0.85321\n",
      "[2]\tvalidation-auc:0.85321\n",
      "[3]\tvalidation-auc:0.85321\n",
      "[4]\tvalidation-auc:0.85321\n",
      "[5]\tvalidation-auc:0.85321\n",
      "[6]\tvalidation-auc:0.85321\n",
      "[7]\tvalidation-auc:0.85321\n",
      "[8]\tvalidation-auc:0.85321\n",
      "[9]\tvalidation-auc:0.85321\n",
      "\u001b[32m[I 2021-10-03 12:37:28,590]\u001b[0m Trial 62 finished with value: 0.8258426966292135 and parameters: {'booster': 'gbtree', 'lambda': 3.731661238568383e-08, 'alpha': 0.04989419513003384, 'max_depth': 4, 'eta': 0.002182930345966282, 'gamma': 1.2524159313383428e-05, 'grow_policy': 'depthwise'}. Best is trial 17 with value: 0.8314606741573034.\u001b[0m\n",
      "[0]\tvalidation-auc:0.86555\n",
      "[1]\tvalidation-auc:0.86555\n",
      "[2]\tvalidation-auc:0.86555\n",
      "[3]\tvalidation-auc:0.86555\n",
      "[4]\tvalidation-auc:0.86555\n",
      "[5]\tvalidation-auc:0.86555\n",
      "\u001b[32m[I 2021-10-03 12:37:28,704]\u001b[0m Trial 63 pruned. Trial was pruned at iteration 5.\u001b[0m\n",
      "[0]\tvalidation-auc:0.89802\n",
      "[1]\tvalidation-auc:0.90659\n",
      "[2]\tvalidation-auc:0.90534\n",
      "[3]\tvalidation-auc:0.90389\n",
      "[4]\tvalidation-auc:0.90507\n",
      "[5]\tvalidation-auc:0.90389\n",
      "[6]\tvalidation-auc:0.90415\n",
      "[7]\tvalidation-auc:0.90560\n",
      "[8]\tvalidation-auc:0.90455\n",
      "[9]\tvalidation-auc:0.90507\n",
      "[0]\tvalidation-auc:0.86504\n",
      "[1]\tvalidation-auc:0.86517\n",
      "[2]\tvalidation-auc:0.86517\n",
      "[3]\tvalidation-auc:0.86504\n",
      "[4]\tvalidation-auc:0.86491\n",
      "[5]\tvalidation-auc:0.86491\n",
      "[6]\tvalidation-auc:0.86477\n",
      "[7]\tvalidation-auc:0.87065\n",
      "[8]\tvalidation-auc:0.87079\n",
      "[9]\tvalidation-auc:0.87065\n",
      "[0]\tvalidation-auc:0.81705\n",
      "[1]\tvalidation-auc:0.82273\n",
      "[2]\tvalidation-auc:0.82487\n",
      "[3]\tvalidation-auc:0.82300\n",
      "[4]\tvalidation-auc:0.82380\n",
      "[5]\tvalidation-auc:0.82781\n",
      "[6]\tvalidation-auc:0.82995\n",
      "[7]\tvalidation-auc:0.82914\n",
      "[8]\tvalidation-auc:0.82968\n",
      "[9]\tvalidation-auc:0.82861\n",
      "[0]\tvalidation-auc:0.86504\n",
      "[1]\tvalidation-auc:0.86344\n",
      "[2]\tvalidation-auc:0.86564\n",
      "[3]\tvalidation-auc:0.86564\n",
      "[4]\tvalidation-auc:0.86564\n",
      "[5]\tvalidation-auc:0.86564\n",
      "[6]\tvalidation-auc:0.86564\n",
      "[7]\tvalidation-auc:0.86564\n",
      "[8]\tvalidation-auc:0.86564\n",
      "[9]\tvalidation-auc:0.86564\n",
      "[0]\tvalidation-auc:0.84716\n",
      "[1]\tvalidation-auc:0.84676\n",
      "[2]\tvalidation-auc:0.84650\n",
      "[3]\tvalidation-auc:0.84650\n",
      "[4]\tvalidation-auc:0.84650\n",
      "[5]\tvalidation-auc:0.84650\n",
      "[6]\tvalidation-auc:0.84650\n",
      "[7]\tvalidation-auc:0.84842\n",
      "[8]\tvalidation-auc:0.85447\n",
      "[9]\tvalidation-auc:0.85441\n",
      "\u001b[32m[I 2021-10-03 12:37:29,574]\u001b[0m Trial 64 finished with value: 0.8202247191011236 and parameters: {'booster': 'gbtree', 'lambda': 0.0009617709976788073, 'alpha': 3.643626320827828e-05, 'max_depth': 5, 'eta': 0.016936968438293207, 'gamma': 1.0213775324701063e-05, 'grow_policy': 'lossguide'}. Best is trial 17 with value: 0.8314606741573034.\u001b[0m\n",
      "[0]\tvalidation-auc:0.89802\n",
      "[1]\tvalidation-auc:0.90520\n",
      "[2]\tvalidation-auc:0.90665\n",
      "[3]\tvalidation-auc:0.90402\n",
      "[4]\tvalidation-auc:0.90613\n",
      "[5]\tvalidation-auc:0.90481\n",
      "[6]\tvalidation-auc:0.90586\n",
      "[7]\tvalidation-auc:0.90725\n",
      "[8]\tvalidation-auc:0.90738\n",
      "[9]\tvalidation-auc:0.90738\n",
      "[0]\tvalidation-auc:0.86504\n",
      "[1]\tvalidation-auc:0.86517\n",
      "[2]\tvalidation-auc:0.86517\n",
      "[3]\tvalidation-auc:0.86491\n",
      "[4]\tvalidation-auc:0.86557\n",
      "[5]\tvalidation-auc:0.86798\n",
      "[6]\tvalidation-auc:0.86758\n",
      "[7]\tvalidation-auc:0.86885\n",
      "[8]\tvalidation-auc:0.86885\n",
      "[9]\tvalidation-auc:0.86979\n",
      "[0]\tvalidation-auc:0.81705\n",
      "[1]\tvalidation-auc:0.82019\n",
      "[2]\tvalidation-auc:0.81939\n",
      "[3]\tvalidation-auc:0.82781\n",
      "[4]\tvalidation-auc:0.84599\n",
      "[5]\tvalidation-auc:0.84639\n",
      "[6]\tvalidation-auc:0.82741\n",
      "[7]\tvalidation-auc:0.85167\n",
      "[8]\tvalidation-auc:0.85047\n",
      "[9]\tvalidation-auc:0.83296\n",
      "[0]\tvalidation-auc:0.86504\n",
      "[1]\tvalidation-auc:0.86564\n",
      "[2]\tvalidation-auc:0.86564\n",
      "[3]\tvalidation-auc:0.86564\n",
      "[4]\tvalidation-auc:0.86564\n",
      "[5]\tvalidation-auc:0.86457\n",
      "[6]\tvalidation-auc:0.86444\n",
      "[7]\tvalidation-auc:0.86424\n",
      "[8]\tvalidation-auc:0.86317\n",
      "[9]\tvalidation-auc:0.86437\n",
      "[0]\tvalidation-auc:0.84716\n",
      "[1]\tvalidation-auc:0.84676\n",
      "[2]\tvalidation-auc:0.84676\n",
      "[3]\tvalidation-auc:0.84676\n",
      "[4]\tvalidation-auc:0.84676\n",
      "[5]\tvalidation-auc:0.85687\n",
      "[6]\tvalidation-auc:0.85926\n",
      "[7]\tvalidation-auc:0.86192\n",
      "[8]\tvalidation-auc:0.86139\n",
      "[9]\tvalidation-auc:0.86219\n",
      "\u001b[32m[I 2021-10-03 12:37:30,480]\u001b[0m Trial 65 finished with value: 0.8258426966292135 and parameters: {'booster': 'dart', 'lambda': 0.0004013964707723722, 'alpha': 1.6057030141749645e-06, 'max_depth': 5, 'eta': 0.05189365254432956, 'gamma': 6.10068349762778e-07, 'grow_policy': 'lossguide', 'sample_type': 'uniform', 'normalize_type': 'forest', 'rate_drop': 0.4454608892255955, 'skip_drop': 6.292123912132045e-08}. Best is trial 17 with value: 0.8314606741573034.\u001b[0m\n",
      "[0]\tvalidation-auc:0.89736\n",
      "[1]\tvalidation-auc:0.90692\n",
      "[2]\tvalidation-auc:0.90586\n",
      "[3]\tvalidation-auc:0.90692\n",
      "[4]\tvalidation-auc:0.90771\n",
      "[5]\tvalidation-auc:0.90771\n",
      "[6]\tvalidation-auc:0.90540\n",
      "[7]\tvalidation-auc:0.90712\n",
      "[8]\tvalidation-auc:0.90725\n",
      "IOPub message rate exceeded.\n",
      "The notebook server will temporarily stop sending output\n",
      "to the client in order to avoid crashing it.\n",
      "To change this limit, set the config variable\n",
      "`--NotebookApp.iopub_msg_rate_limit`.\n",
      "\n",
      "Current values:\n",
      "NotebookApp.iopub_msg_rate_limit=50.0 (msgs/sec)\n",
      "NotebookApp.rate_limit_window=3.0 (secs)\n",
      "\n",
      "[4]\tvalidation-auc:0.81631\n",
      "[5]\tvalidation-auc:0.81671\n",
      "[6]\tvalidation-auc:0.81691\n",
      "[7]\tvalidation-auc:0.81678\n",
      "[8]\tvalidation-auc:0.81678\n",
      "[9]\tvalidation-auc:0.81671\n",
      "[0]\tvalidation-auc:0.86832\n",
      "[1]\tvalidation-auc:0.86832\n",
      "[2]\tvalidation-auc:0.86832\n",
      "[3]\tvalidation-auc:0.86832\n",
      "[4]\tvalidation-auc:0.86832\n",
      "[5]\tvalidation-auc:0.86832\n",
      "[6]\tvalidation-auc:0.86832\n",
      "[7]\tvalidation-auc:0.86832\n",
      "[8]\tvalidation-auc:0.86832\n",
      "[9]\tvalidation-auc:0.86832\n",
      "[0]\tvalidation-auc:0.85321\n",
      "[1]\tvalidation-auc:0.85321\n",
      "[2]\tvalidation-auc:0.85321\n",
      "[3]\tvalidation-auc:0.85321\n",
      "[4]\tvalidation-auc:0.85321\n",
      "[5]\tvalidation-auc:0.85321\n",
      "[6]\tvalidation-auc:0.85321\n",
      "[7]\tvalidation-auc:0.85321\n",
      "[8]\tvalidation-auc:0.85321\n",
      "[9]\tvalidation-auc:0.85494\n",
      "\u001b[32m[I 2021-10-03 12:37:32,274]\u001b[0m Trial 68 finished with value: 0.8258426966292135 and parameters: {'booster': 'dart', 'lambda': 2.5424672157217165e-06, 'alpha': 5.986530328163185e-06, 'max_depth': 4, 'eta': 0.008651769048656593, 'gamma': 0.000586807412841958, 'grow_policy': 'depthwise', 'sample_type': 'weighted', 'normalize_type': 'tree', 'rate_drop': 0.0010972391867099568, 'skip_drop': 1.1970937584777183e-05}. Best is trial 17 with value: 0.8314606741573034.\u001b[0m\n",
      "[0]\tvalidation-auc:0.89736\n",
      "[1]\tvalidation-auc:0.90507\n",
      "[2]\tvalidation-auc:0.90520\n",
      "[3]\tvalidation-auc:0.90599\n",
      "[4]\tvalidation-auc:0.90613\n",
      "[5]\tvalidation-auc:0.90771\n",
      "[6]\tvalidation-auc:0.90408\n",
      "[7]\tvalidation-auc:0.90718\n",
      "[8]\tvalidation-auc:0.91034\n",
      "[9]\tvalidation-auc:0.91047\n",
      "[0]\tvalidation-auc:0.88382\n",
      "[1]\tvalidation-auc:0.88255\n",
      "[2]\tvalidation-auc:0.87039\n",
      "[3]\tvalidation-auc:0.86771\n",
      "[4]\tvalidation-auc:0.87447\n",
      "[5]\tvalidation-auc:0.87487\n",
      "[6]\tvalidation-auc:0.87340\n",
      "[7]\tvalidation-auc:0.87380\n",
      "[8]\tvalidation-auc:0.87159\n",
      "[9]\tvalidation-auc:0.87152\n",
      "[0]\tvalidation-auc:0.81504\n",
      "[1]\tvalidation-auc:0.81551\n",
      "[2]\tvalidation-auc:0.81611\n",
      "[3]\tvalidation-auc:0.81805\n",
      "[4]\tvalidation-auc:0.81771\n",
      "[5]\tvalidation-auc:0.81551\n",
      "[6]\tvalidation-auc:0.81705\n",
      "[7]\tvalidation-auc:0.81912\n",
      "[8]\tvalidation-auc:0.81357\n",
      "[9]\tvalidation-auc:0.81564\n",
      "[0]\tvalidation-auc:0.86832\n",
      "[1]\tvalidation-auc:0.86832\n",
      "[2]\tvalidation-auc:0.86798\n",
      "[3]\tvalidation-auc:0.86504\n",
      "[4]\tvalidation-auc:0.86671\n",
      "[5]\tvalidation-auc:0.86624\n",
      "[6]\tvalidation-auc:0.86985\n",
      "[7]\tvalidation-auc:0.86985\n",
      "[8]\tvalidation-auc:0.86878\n",
      "[9]\tvalidation-auc:0.86731\n",
      "[0]\tvalidation-auc:0.85321\n",
      "[1]\tvalidation-auc:0.86438\n",
      "[2]\tvalidation-auc:0.86219\n",
      "[3]\tvalidation-auc:0.86259\n",
      "[4]\tvalidation-auc:0.86618\n",
      "[5]\tvalidation-auc:0.86711\n",
      "[6]\tvalidation-auc:0.86863\n",
      "[7]\tvalidation-auc:0.86671\n",
      "[8]\tvalidation-auc:0.86664\n",
      "[9]\tvalidation-auc:0.87083\n",
      "\u001b[32m[I 2021-10-03 12:37:33,179]\u001b[0m Trial 69 finished with value: 0.8202247191011236 and parameters: {'booster': 'dart', 'lambda': 9.136688304128347e-07, 'alpha': 1.2717542143149302e-06, 'max_depth': 4, 'eta': 0.12119997689108794, 'gamma': 1.3446370695992782e-05, 'grow_policy': 'lossguide', 'sample_type': 'weighted', 'normalize_type': 'tree', 'rate_drop': 0.009516947289393717, 'skip_drop': 0.0038531084499119485}. Best is trial 17 with value: 0.8314606741573034.\u001b[0m\n",
      "[0]\tvalidation-auc:0.84539\n",
      "[1]\tvalidation-auc:0.84539\n",
      "[2]\tvalidation-auc:0.84539\n",
      "[3]\tvalidation-auc:0.84539\n",
      "[4]\tvalidation-auc:0.85883\n",
      "\u001b[32m[I 2021-10-03 12:37:33,277]\u001b[0m Trial 70 pruned. Trial was pruned at iteration 5.\u001b[0m\n",
      "[0]\tvalidation-auc:0.89802\n",
      "[1]\tvalidation-auc:0.90659\n",
      "[2]\tvalidation-auc:0.90698\n",
      "[3]\tvalidation-auc:0.90553\n",
      "[4]\tvalidation-auc:0.90507\n",
      "[5]\tvalidation-auc:0.90520\n",
      "[6]\tvalidation-auc:0.90375\n",
      "[7]\tvalidation-auc:0.90389\n",
      "[8]\tvalidation-auc:0.90375\n",
      "[9]\tvalidation-auc:0.90481\n",
      "[0]\tvalidation-auc:0.86504\n",
      "[1]\tvalidation-auc:0.86517\n",
      "[2]\tvalidation-auc:0.86517\n",
      "[3]\tvalidation-auc:0.86504\n",
      "[4]\tvalidation-auc:0.86504\n",
      "[5]\tvalidation-auc:0.86504\n",
      "[6]\tvalidation-auc:0.86504\n",
      "[7]\tvalidation-auc:0.86544\n",
      "[8]\tvalidation-auc:0.86544\n",
      "[9]\tvalidation-auc:0.86477\n",
      "[0]\tvalidation-auc:0.82086\n",
      "[1]\tvalidation-auc:0.82527\n",
      "[2]\tvalidation-auc:0.82647\n",
      "[3]\tvalidation-auc:0.82767\n",
      "[4]\tvalidation-auc:0.83061\n",
      "[5]\tvalidation-auc:0.82821\n",
      "[6]\tvalidation-auc:0.82554\n",
      "[7]\tvalidation-auc:0.82714\n",
      "[8]\tvalidation-auc:0.82554\n",
      "[9]\tvalidation-auc:0.82554\n",
      "[0]\tvalidation-auc:0.86504\n",
      "[1]\tvalidation-auc:0.86344\n",
      "[2]\tvalidation-auc:0.86344\n",
      "[3]\tvalidation-auc:0.86344\n",
      "[4]\tvalidation-auc:0.86564\n",
      "[5]\tvalidation-auc:0.86564\n",
      "[6]\tvalidation-auc:0.86564\n",
      "[7]\tvalidation-auc:0.86564\n",
      "[8]\tvalidation-auc:0.86564\n",
      "[9]\tvalidation-auc:0.86564\n",
      "[0]\tvalidation-auc:0.84716\n",
      "[1]\tvalidation-auc:0.84676\n",
      "[2]\tvalidation-auc:0.84650\n",
      "[3]\tvalidation-auc:0.84650\n",
      "[4]\tvalidation-auc:0.84650\n",
      "[5]\tvalidation-auc:0.84650\n",
      "[6]\tvalidation-auc:0.84650\n",
      "[7]\tvalidation-auc:0.84650\n",
      "[8]\tvalidation-auc:0.84650\n",
      "[9]\tvalidation-auc:0.84650\n",
      "\u001b[32m[I 2021-10-03 12:37:34,189]\u001b[0m Trial 71 finished with value: 0.8258426966292135 and parameters: {'booster': 'dart', 'lambda': 0.0052368367744415265, 'alpha': 1.4032478816360485e-05, 'max_depth': 5, 'eta': 0.008165944524531362, 'gamma': 4.3705988221491084e-05, 'grow_policy': 'lossguide', 'sample_type': 'uniform', 'normalize_type': 'forest', 'rate_drop': 0.04113680417083692, 'skip_drop': 4.1713221736171466e-06}. Best is trial 17 with value: 0.8314606741573034.\u001b[0m\n",
      "[0]\tvalidation-auc:0.88643\n",
      "[1]\tvalidation-auc:0.88485\n",
      "[2]\tvalidation-auc:0.88603\n",
      "[3]\tvalidation-auc:0.88590\n",
      "[4]\tvalidation-auc:0.88577\n",
      "IOPub message rate exceeded.\n",
      "The notebook server will temporarily stop sending output\n",
      "to the client in order to avoid crashing it.\n",
      "To change this limit, set the config variable\n",
      "`--NotebookApp.iopub_msg_rate_limit`.\n",
      "\n",
      "Current values:\n",
      "NotebookApp.iopub_msg_rate_limit=50.0 (msgs/sec)\n",
      "NotebookApp.rate_limit_window=3.0 (secs)\n",
      "\n",
      "[9]\tvalidation-auc:0.90665\n",
      "[0]\tvalidation-auc:0.86504\n",
      "[1]\tvalidation-auc:0.86598\n",
      "[2]\tvalidation-auc:0.87921\n",
      "[3]\tvalidation-auc:0.88135\n",
      "[4]\tvalidation-auc:0.87707\n",
      "[5]\tvalidation-auc:0.87600\n",
      "[6]\tvalidation-auc:0.87440\n",
      "[7]\tvalidation-auc:0.87594\n",
      "[8]\tvalidation-auc:0.88068\n",
      "[9]\tvalidation-auc:0.88229\n",
      "[0]\tvalidation-auc:0.81705\n",
      "[1]\tvalidation-auc:0.84813\n",
      "[2]\tvalidation-auc:0.82914\n",
      "[3]\tvalidation-auc:0.83569\n",
      "[4]\tvalidation-auc:0.84592\n",
      "[5]\tvalidation-auc:0.84011\n",
      "[6]\tvalidation-auc:0.83008\n",
      "[7]\tvalidation-auc:0.82694\n",
      "[8]\tvalidation-auc:0.83102\n",
      "[9]\tvalidation-auc:0.83262\n",
      "[0]\tvalidation-auc:0.86504\n",
      "[1]\tvalidation-auc:0.86190\n",
      "[2]\tvalidation-auc:0.86003\n",
      "[3]\tvalidation-auc:0.85742\n",
      "[4]\tvalidation-auc:0.86832\n",
      "[5]\tvalidation-auc:0.86604\n",
      "[6]\tvalidation-auc:0.86938\n",
      "[7]\tvalidation-auc:0.86805\n",
      "[8]\tvalidation-auc:0.86671\n",
      "[9]\tvalidation-auc:0.87634\n",
      "[0]\tvalidation-auc:0.84716\n",
      "[1]\tvalidation-auc:0.85833\n",
      "[2]\tvalidation-auc:0.86152\n",
      "[3]\tvalidation-auc:0.86631\n",
      "[4]\tvalidation-auc:0.86518\n",
      "[5]\tvalidation-auc:0.86730\n",
      "[6]\tvalidation-auc:0.86219\n",
      "[7]\tvalidation-auc:0.86232\n",
      "[8]\tvalidation-auc:0.86531\n",
      "[9]\tvalidation-auc:0.86511\n",
      "\u001b[32m[I 2021-10-03 12:37:36,089]\u001b[0m Trial 74 finished with value: 0.8033707865168539 and parameters: {'booster': 'dart', 'lambda': 0.0017493695830286876, 'alpha': 2.5497444109608903e-07, 'max_depth': 5, 'eta': 0.21574328151106806, 'gamma': 6.632361106264565e-06, 'grow_policy': 'lossguide', 'sample_type': 'uniform', 'normalize_type': 'forest', 'rate_drop': 0.024402605042929185, 'skip_drop': 4.057365080397497e-08}. Best is trial 17 with value: 0.8314606741573034.\u001b[0m\n",
      "[0]\tvalidation-auc:0.89559\n",
      "[1]\tvalidation-auc:0.89539\n",
      "[2]\tvalidation-auc:0.89526\n",
      "[3]\tvalidation-auc:0.89526\n",
      "[4]\tvalidation-auc:0.89526\n",
      "\u001b[32m[I 2021-10-03 12:37:36,207]\u001b[0m Trial 75 pruned. Trial was pruned at iteration 5.\u001b[0m\n",
      "[0]\tvalidation-auc:0.86555\n",
      "[1]\tvalidation-auc:0.86555\n",
      "[2]\tvalidation-auc:0.86555\n",
      "[3]\tvalidation-auc:0.86555\n",
      "[4]\tvalidation-auc:0.86555\n",
      "[5]\tvalidation-auc:0.86555\n",
      "\u001b[32m[I 2021-10-03 12:37:36,341]\u001b[0m Trial 76 pruned. Trial was pruned at iteration 5.\u001b[0m\n",
      "[0]\tvalidation-auc:0.89736\n",
      "[1]\tvalidation-auc:0.90257\n",
      "[2]\tvalidation-auc:0.90777\n",
      "[3]\tvalidation-auc:0.90382\n",
      "[4]\tvalidation-auc:0.89736\n",
      "[5]\tvalidation-auc:0.89644\n",
      "[6]\tvalidation-auc:0.89572\n",
      "[7]\tvalidation-auc:0.90375\n",
      "[8]\tvalidation-auc:0.90955\n",
      "[9]\tvalidation-auc:0.90784\n",
      "[0]\tvalidation-auc:0.88382\n",
      "[1]\tvalidation-auc:0.87754\n",
      "[2]\tvalidation-auc:0.87975\n",
      "[3]\tvalidation-auc:0.88583\n",
      "[4]\tvalidation-auc:0.88416\n",
      "[5]\tvalidation-auc:0.88148\n",
      "[6]\tvalidation-auc:0.89178\n",
      "[7]\tvalidation-auc:0.88529\n",
      "[8]\tvalidation-auc:0.89131\n",
      "[9]\tvalidation-auc:0.89953\n",
      "[0]\tvalidation-auc:0.82346\n",
      "[1]\tvalidation-auc:0.81176\n",
      "[2]\tvalidation-auc:0.81558\n",
      "[3]\tvalidation-auc:0.84057\n",
      "[4]\tvalidation-auc:0.84893\n",
      "[5]\tvalidation-auc:0.84138\n",
      "[6]\tvalidation-auc:0.83897\n",
      "[7]\tvalidation-auc:0.82868\n",
      "[8]\tvalidation-auc:0.81999\n",
      "[9]\tvalidation-auc:0.81364\n",
      "[0]\tvalidation-auc:0.86832\n",
      "[1]\tvalidation-auc:0.86791\n",
      "[2]\tvalidation-auc:0.86283\n",
      "[3]\tvalidation-auc:0.87500\n",
      "[4]\tvalidation-auc:0.87774\n",
      "[5]\tvalidation-auc:0.87654\n",
      "[6]\tvalidation-auc:0.88128\n",
      "[7]\tvalidation-auc:0.87567\n",
      "[8]\tvalidation-auc:0.87152\n",
      "[9]\tvalidation-auc:0.87119\n",
      "[0]\tvalidation-auc:0.85321\n",
      "[1]\tvalidation-auc:0.86830\n",
      "[2]\tvalidation-auc:0.86977\n",
      "[3]\tvalidation-auc:0.86471\n",
      "[4]\tvalidation-auc:0.86930\n",
      "[5]\tvalidation-auc:0.86730\n",
      "[6]\tvalidation-auc:0.86777\n",
      "[7]\tvalidation-auc:0.86172\n",
      "[8]\tvalidation-auc:0.86086\n",
      "[9]\tvalidation-auc:0.85899\n",
      "\u001b[32m[I 2021-10-03 12:37:37,298]\u001b[0m Trial 77 finished with value: 0.8146067415730337 and parameters: {'booster': 'dart', 'lambda': 0.025671907661555988, 'alpha': 2.0250150030148883e-06, 'max_depth': 4, 'eta': 0.5702846089786248, 'gamma': 5.6986814795142914e-08, 'grow_policy': 'lossguide', 'sample_type': 'weighted', 'normalize_type': 'tree', 'rate_drop': 0.0034809693088214168, 'skip_drop': 1.0541425295651058e-08}. Best is trial 17 with value: 0.8314606741573034.\u001b[0m\n",
      "[0]\tvalidation-auc:0.73096\n",
      "[1]\tvalidation-auc:0.76423\n",
      "[2]\tvalidation-auc:0.76871\n",
      "[3]\tvalidation-auc:0.77187\n",
      "[4]\tvalidation-auc:0.76607\n",
      "[5]\tvalidation-auc:0.75343\n",
      "\u001b[32m[I 2021-10-03 12:37:37,399]\u001b[0m Trial 78 pruned. Trial was pruned at iteration 5.\u001b[0m\n",
      "[0]\tvalidation-auc:0.90125\n",
      "[1]\tvalidation-auc:0.90277\n",
      "[2]\tvalidation-auc:0.90678\n",
      "[3]\tvalidation-auc:0.90553\n",
      "[4]\tvalidation-auc:0.90461\n",
      "[5]\tvalidation-auc:0.90481\n",
      "[6]\tvalidation-auc:0.90455\n",
      "[7]\tvalidation-auc:0.90626\n",
      "[8]\tvalidation-auc:0.90982\n",
      "[9]\tvalidation-auc:0.90982\n",
      "[0]\tvalidation-auc:0.88382\n",
      "[1]\tvalidation-auc:0.88416\n",
      "[2]\tvalidation-auc:0.87199\n",
      "[3]\tvalidation-auc:0.87500\n",
      "[4]\tvalidation-auc:0.87861\n",
      "[5]\tvalidation-auc:0.87560\n",
      "[6]\tvalidation-auc:0.87694\n",
      "[7]\tvalidation-auc:0.87640\n",
      "[8]\tvalidation-auc:0.87500\n",
      "[9]\tvalidation-auc:0.87640\n",
      "[0]\tvalidation-auc:0.82346\n",
      "[1]\tvalidation-auc:0.83516\n",
      "[2]\tvalidation-auc:0.83817\n",
      "[3]\tvalidation-auc:0.83803\n",
      "[4]\tvalidation-auc:0.81778\n",
      "[5]\tvalidation-auc:0.81664\n",
      "IOPub message rate exceeded.\n",
      "The notebook server will temporarily stop sending output\n",
      "to the client in order to avoid crashing it.\n",
      "To change this limit, set the config variable\n",
      "`--NotebookApp.iopub_msg_rate_limit`.\n",
      "\n",
      "Current values:\n",
      "NotebookApp.iopub_msg_rate_limit=50.0 (msgs/sec)\n",
      "NotebookApp.rate_limit_window=3.0 (secs)\n",
      "\n",
      "[0]\tvalidation-auc:0.86036\n",
      "[1]\tvalidation-auc:0.86029\n",
      "[2]\tvalidation-auc:0.85976\n",
      "[3]\tvalidation-auc:0.86751\n",
      "[4]\tvalidation-auc:0.86571\n",
      "[5]\tvalidation-auc:0.86818\n",
      "[6]\tvalidation-auc:0.86818\n",
      "[7]\tvalidation-auc:0.87005\n",
      "[8]\tvalidation-auc:0.86938\n",
      "[9]\tvalidation-auc:0.87059\n",
      "[0]\tvalidation-auc:0.84916\n",
      "[1]\tvalidation-auc:0.85853\n",
      "[2]\tvalidation-auc:0.85215\n",
      "[3]\tvalidation-auc:0.85321\n",
      "[4]\tvalidation-auc:0.85640\n",
      "[5]\tvalidation-auc:0.85281\n",
      "[6]\tvalidation-auc:0.85860\n",
      "[7]\tvalidation-auc:0.85886\n",
      "[8]\tvalidation-auc:0.85846\n",
      "[9]\tvalidation-auc:0.85820\n",
      "\u001b[32m[I 2021-10-03 12:37:39,176]\u001b[0m Trial 80 finished with value: 0.8258426966292135 and parameters: {'booster': 'dart', 'lambda': 0.26539862675530257, 'alpha': 4.536519030895734e-07, 'max_depth': 5, 'eta': 0.035521645311325845, 'gamma': 0.0013006013268663224, 'grow_policy': 'depthwise', 'sample_type': 'weighted', 'normalize_type': 'forest', 'rate_drop': 6.934559060287144e-07, 'skip_drop': 0.42447850451860886}. Best is trial 17 with value: 0.8314606741573034.\u001b[0m\n",
      "[0]\tvalidation-auc:0.89690\n",
      "[1]\tvalidation-auc:0.89420\n",
      "[2]\tvalidation-auc:0.89901\n",
      "[3]\tvalidation-auc:0.89928\n",
      "[4]\tvalidation-auc:0.90020\n",
      "\u001b[32m[I 2021-10-03 12:37:39,278]\u001b[0m Trial 81 pruned. Trial was pruned at iteration 5.\u001b[0m\n",
      "[0]\tvalidation-auc:0.89736\n",
      "[1]\tvalidation-auc:0.89736\n",
      "[2]\tvalidation-auc:0.90560\n",
      "[3]\tvalidation-auc:0.90665\n",
      "[4]\tvalidation-auc:0.89809\n",
      "[5]\tvalidation-auc:0.90560\n",
      "[6]\tvalidation-auc:0.90665\n",
      "[7]\tvalidation-auc:0.90560\n",
      "[8]\tvalidation-auc:0.90560\n",
      "[9]\tvalidation-auc:0.90665\n",
      "[0]\tvalidation-auc:0.88382\n",
      "[1]\tvalidation-auc:0.88382\n",
      "[2]\tvalidation-auc:0.88382\n",
      "[3]\tvalidation-auc:0.88382\n",
      "[4]\tvalidation-auc:0.88382\n",
      "[5]\tvalidation-auc:0.88382\n",
      "[6]\tvalidation-auc:0.88382\n",
      "[7]\tvalidation-auc:0.88382\n",
      "[8]\tvalidation-auc:0.88382\n",
      "[9]\tvalidation-auc:0.88382\n",
      "[0]\tvalidation-auc:0.81491\n",
      "[1]\tvalidation-auc:0.81464\n",
      "[2]\tvalidation-auc:0.81651\n",
      "[3]\tvalidation-auc:0.81624\n",
      "[4]\tvalidation-auc:0.81624\n",
      "[5]\tvalidation-auc:0.81624\n",
      "[6]\tvalidation-auc:0.81624\n",
      "[7]\tvalidation-auc:0.81671\n",
      "[8]\tvalidation-auc:0.81631\n",
      "[9]\tvalidation-auc:0.81631\n",
      "[0]\tvalidation-auc:0.86832\n",
      "[1]\tvalidation-auc:0.86832\n",
      "[2]\tvalidation-auc:0.86832\n",
      "[3]\tvalidation-auc:0.86832\n",
      "[4]\tvalidation-auc:0.86832\n",
      "[5]\tvalidation-auc:0.86832\n",
      "[6]\tvalidation-auc:0.86832\n",
      "[7]\tvalidation-auc:0.86832\n",
      "[8]\tvalidation-auc:0.86832\n",
      "[9]\tvalidation-auc:0.86832\n",
      "[0]\tvalidation-auc:0.85321\n",
      "[1]\tvalidation-auc:0.85321\n",
      "[2]\tvalidation-auc:0.85321\n",
      "[3]\tvalidation-auc:0.85321\n",
      "[4]\tvalidation-auc:0.85321\n",
      "[5]\tvalidation-auc:0.85321\n",
      "[6]\tvalidation-auc:0.85321\n",
      "[7]\tvalidation-auc:0.85321\n",
      "[8]\tvalidation-auc:0.85321\n",
      "[9]\tvalidation-auc:0.85321\n",
      "\u001b[32m[I 2021-10-03 12:37:40,184]\u001b[0m Trial 82 finished with value: 0.8258426966292135 and parameters: {'booster': 'dart', 'lambda': 6.217027918111109e-05, 'alpha': 8.64947654029062e-05, 'max_depth': 4, 'eta': 0.005752758170643897, 'gamma': 0.004431823287959903, 'grow_policy': 'depthwise', 'sample_type': 'uniform', 'normalize_type': 'tree', 'rate_drop': 1.44713143483796e-05, 'skip_drop': 1.6950164558632385e-05}. Best is trial 17 with value: 0.8314606741573034.\u001b[0m\n",
      "[0]\tvalidation-auc:0.90125\n",
      "[1]\tvalidation-auc:0.90599\n",
      "[2]\tvalidation-auc:0.90349\n",
      "[3]\tvalidation-auc:0.90599\n",
      "[4]\tvalidation-auc:0.90336\n",
      "[5]\tvalidation-auc:0.90599\n",
      "[6]\tvalidation-auc:0.90586\n",
      "[7]\tvalidation-auc:0.90599\n",
      "[8]\tvalidation-auc:0.90586\n",
      "\u001b[32m[I 2021-10-03 12:37:40,298]\u001b[0m Trial 83 pruned. Trial was pruned at iteration 9.\u001b[0m\n",
      "[0]\tvalidation-auc:0.86555\n",
      "[1]\tvalidation-auc:0.86555\n",
      "[2]\tvalidation-auc:0.86555\n",
      "[3]\tvalidation-auc:0.86555\n",
      "[4]\tvalidation-auc:0.86555\n",
      "[5]\tvalidation-auc:0.86555\n",
      "\u001b[32m[I 2021-10-03 12:37:40,472]\u001b[0m Trial 84 pruned. Trial was pruned at iteration 5.\u001b[0m\n",
      "[0]\tvalidation-auc:0.89993\n",
      "[1]\tvalidation-auc:0.90712\n",
      "[2]\tvalidation-auc:0.90751\n",
      "[3]\tvalidation-auc:0.90389\n",
      "[4]\tvalidation-auc:0.90507\n",
      "[5]\tvalidation-auc:0.90520\n",
      "[6]\tvalidation-auc:0.90336\n",
      "[7]\tvalidation-auc:0.90389\n",
      "[8]\tvalidation-auc:0.90375\n",
      "[9]\tvalidation-auc:0.90481\n",
      "[0]\tvalidation-auc:0.86504\n",
      "[1]\tvalidation-auc:0.86517\n",
      "[2]\tvalidation-auc:0.86517\n",
      "[3]\tvalidation-auc:0.86504\n",
      "[4]\tvalidation-auc:0.86504\n",
      "[5]\tvalidation-auc:0.86504\n",
      "[6]\tvalidation-auc:0.86544\n",
      "[7]\tvalidation-auc:0.86544\n",
      "[8]\tvalidation-auc:0.86477\n",
      "[9]\tvalidation-auc:0.86477\n",
      "[0]\tvalidation-auc:0.81658\n",
      "[1]\tvalidation-auc:0.82373\n",
      "[2]\tvalidation-auc:0.82493\n",
      "[3]\tvalidation-auc:0.82533\n",
      "[4]\tvalidation-auc:0.82667\n",
      "[5]\tvalidation-auc:0.82386\n",
      "[6]\tvalidation-auc:0.82420\n",
      "[7]\tvalidation-auc:0.82427\n",
      "[8]\tvalidation-auc:0.82427\n",
      "[9]\tvalidation-auc:0.82968\n",
      "[0]\tvalidation-auc:0.86504\n",
      "[1]\tvalidation-auc:0.86344\n",
      "[2]\tvalidation-auc:0.86344\n",
      "[3]\tvalidation-auc:0.86344\n",
      "[4]\tvalidation-auc:0.86564\n",
      "[5]\tvalidation-auc:0.86564\n",
      "[6]\tvalidation-auc:0.86564\n",
      "[7]\tvalidation-auc:0.86564\n",
      "[8]\tvalidation-auc:0.86564\n",
      "[9]\tvalidation-auc:0.86564\n",
      "[0]\tvalidation-auc:0.84756\n",
      "[1]\tvalidation-auc:0.84710\n",
      "[2]\tvalidation-auc:0.84676\n",
      "[3]\tvalidation-auc:0.84676\n",
      "[4]\tvalidation-auc:0.84676\n",
      "IOPub message rate exceeded.\n",
      "The notebook server will temporarily stop sending output\n",
      "to the client in order to avoid crashing it.\n",
      "To change this limit, set the config variable\n",
      "`--NotebookApp.iopub_msg_rate_limit`.\n",
      "\n",
      "Current values:\n",
      "NotebookApp.iopub_msg_rate_limit=50.0 (msgs/sec)\n",
      "NotebookApp.rate_limit_window=3.0 (secs)\n",
      "\n",
      "[9]\tvalidation-auc:0.86491\n",
      "\u001b[32m[I 2021-10-03 12:37:42,400]\u001b[0m Trial 87 finished with value: 0.8314606741573034 and parameters: {'booster': 'dart', 'lambda': 0.0005243803112736027, 'alpha': 1.3083632606274026e-06, 'max_depth': 4, 'eta': 0.013667767710958246, 'gamma': 4.902276900208558e-07, 'grow_policy': 'lossguide', 'sample_type': 'uniform', 'normalize_type': 'forest', 'rate_drop': 0.0004912397173939965, 'skip_drop': 3.342476011546571e-05}. Best is trial 17 with value: 0.8314606741573034.\u001b[0m\n",
      "[0]\tvalidation-auc:0.85349\n",
      "[1]\tvalidation-auc:0.86087\n",
      "[2]\tvalidation-auc:0.86627\n",
      "[3]\tvalidation-auc:0.87194\n",
      "[4]\tvalidation-auc:0.87536\n",
      "\u001b[32m[I 2021-10-03 12:37:42,511]\u001b[0m Trial 88 pruned. Trial was pruned at iteration 5.\u001b[0m\n",
      "[0]\tvalidation-auc:0.89783\n",
      "[1]\tvalidation-auc:0.89736\n",
      "[2]\tvalidation-auc:0.90560\n",
      "[3]\tvalidation-auc:0.90665\n",
      "[4]\tvalidation-auc:0.90560\n",
      "[5]\tvalidation-auc:0.90560\n",
      "[6]\tvalidation-auc:0.90665\n",
      "[7]\tvalidation-auc:0.90560\n",
      "[8]\tvalidation-auc:0.90678\n",
      "[9]\tvalidation-auc:0.90678\n",
      "[0]\tvalidation-auc:0.88382\n",
      "[1]\tvalidation-auc:0.88382\n",
      "[2]\tvalidation-auc:0.88382\n",
      "[3]\tvalidation-auc:0.88382\n",
      "[4]\tvalidation-auc:0.88382\n",
      "[5]\tvalidation-auc:0.88382\n",
      "[6]\tvalidation-auc:0.88349\n",
      "[7]\tvalidation-auc:0.88349\n",
      "[8]\tvalidation-auc:0.88349\n",
      "[9]\tvalidation-auc:0.88349\n",
      "[0]\tvalidation-auc:0.81404\n",
      "[1]\tvalidation-auc:0.81464\n",
      "[2]\tvalidation-auc:0.81651\n",
      "[3]\tvalidation-auc:0.81631\n",
      "[4]\tvalidation-auc:0.81624\n",
      "[5]\tvalidation-auc:0.81671\n",
      "[6]\tvalidation-auc:0.81685\n",
      "[7]\tvalidation-auc:0.81671\n",
      "[8]\tvalidation-auc:0.81671\n",
      "[9]\tvalidation-auc:0.81377\n",
      "[0]\tvalidation-auc:0.86832\n",
      "[1]\tvalidation-auc:0.86832\n",
      "[2]\tvalidation-auc:0.86832\n",
      "[3]\tvalidation-auc:0.86832\n",
      "[4]\tvalidation-auc:0.86832\n",
      "[5]\tvalidation-auc:0.86832\n",
      "[6]\tvalidation-auc:0.86832\n",
      "[7]\tvalidation-auc:0.86832\n",
      "[8]\tvalidation-auc:0.86832\n",
      "[9]\tvalidation-auc:0.86832\n",
      "[0]\tvalidation-auc:0.85321\n",
      "[1]\tvalidation-auc:0.85321\n",
      "[2]\tvalidation-auc:0.85321\n",
      "[3]\tvalidation-auc:0.85321\n",
      "[4]\tvalidation-auc:0.85321\n",
      "[5]\tvalidation-auc:0.85321\n",
      "[6]\tvalidation-auc:0.85321\n",
      "[7]\tvalidation-auc:0.85321\n",
      "[8]\tvalidation-auc:0.85321\n",
      "[9]\tvalidation-auc:0.85494\n",
      "\u001b[32m[I 2021-10-03 12:37:43,469]\u001b[0m Trial 89 finished with value: 0.8258426966292135 and parameters: {'booster': 'dart', 'lambda': 3.251160066922199e-06, 'alpha': 3.7877905420529394e-05, 'max_depth': 4, 'eta': 0.009074387412846998, 'gamma': 0.056577008798004466, 'grow_policy': 'lossguide', 'sample_type': 'uniform', 'normalize_type': 'forest', 'rate_drop': 0.00011682195037490701, 'skip_drop': 3.1971398482120404e-05}. Best is trial 17 with value: 0.8314606741573034.\u001b[0m\n",
      "[0]\tvalidation-auc:0.86555\n",
      "[1]\tvalidation-auc:0.86555\n",
      "[2]\tvalidation-auc:0.86555\n",
      "[3]\tvalidation-auc:0.86555\n",
      "[4]\tvalidation-auc:0.86555\n",
      "\u001b[32m[I 2021-10-03 12:37:43,575]\u001b[0m Trial 90 pruned. Trial was pruned at iteration 5.\u001b[0m\n",
      "[0]\tvalidation-auc:0.89736\n",
      "[1]\tvalidation-auc:0.89736\n",
      "[2]\tvalidation-auc:0.90560\n",
      "[3]\tvalidation-auc:0.90665\n",
      "[4]\tvalidation-auc:0.89809\n",
      "[5]\tvalidation-auc:0.90560\n",
      "[6]\tvalidation-auc:0.90665\n",
      "[7]\tvalidation-auc:0.90560\n",
      "[8]\tvalidation-auc:0.90560\n",
      "[9]\tvalidation-auc:0.90665\n",
      "[0]\tvalidation-auc:0.88382\n",
      "[1]\tvalidation-auc:0.88382\n",
      "[2]\tvalidation-auc:0.88382\n",
      "[3]\tvalidation-auc:0.88382\n",
      "[4]\tvalidation-auc:0.88382\n",
      "[5]\tvalidation-auc:0.88382\n",
      "[6]\tvalidation-auc:0.88382\n",
      "[7]\tvalidation-auc:0.88382\n",
      "[8]\tvalidation-auc:0.88382\n",
      "[9]\tvalidation-auc:0.88382\n",
      "[0]\tvalidation-auc:0.81491\n",
      "[1]\tvalidation-auc:0.81464\n",
      "[2]\tvalidation-auc:0.81651\n",
      "[3]\tvalidation-auc:0.81624\n",
      "[4]\tvalidation-auc:0.81624\n",
      "[5]\tvalidation-auc:0.81624\n",
      "[6]\tvalidation-auc:0.81624\n",
      "[7]\tvalidation-auc:0.81671\n",
      "[8]\tvalidation-auc:0.81631\n",
      "[9]\tvalidation-auc:0.81671\n",
      "[0]\tvalidation-auc:0.86832\n",
      "[1]\tvalidation-auc:0.86832\n",
      "[2]\tvalidation-auc:0.86832\n",
      "[3]\tvalidation-auc:0.86832\n",
      "[4]\tvalidation-auc:0.86832\n",
      "[5]\tvalidation-auc:0.86832\n",
      "[6]\tvalidation-auc:0.86832\n",
      "[7]\tvalidation-auc:0.86832\n",
      "[8]\tvalidation-auc:0.86832\n",
      "[9]\tvalidation-auc:0.86832\n",
      "[0]\tvalidation-auc:0.85321\n",
      "[1]\tvalidation-auc:0.85321\n",
      "[2]\tvalidation-auc:0.85321\n",
      "[3]\tvalidation-auc:0.85321\n",
      "[4]\tvalidation-auc:0.85321\n",
      "[5]\tvalidation-auc:0.85321\n",
      "[6]\tvalidation-auc:0.85321\n",
      "[7]\tvalidation-auc:0.85321\n",
      "[8]\tvalidation-auc:0.85321\n",
      "[9]\tvalidation-auc:0.85321\n",
      "\u001b[32m[I 2021-10-03 12:37:44,489]\u001b[0m Trial 91 finished with value: 0.8258426966292135 and parameters: {'booster': 'dart', 'lambda': 3.997664084115465e-08, 'alpha': 0.0031108738261424428, 'max_depth': 4, 'eta': 0.006175129712479162, 'gamma': 0.08404559736310496, 'grow_policy': 'lossguide', 'sample_type': 'uniform', 'normalize_type': 'forest', 'rate_drop': 9.400835019226847e-05, 'skip_drop': 6.242028406419888e-05}. Best is trial 17 with value: 0.8314606741573034.\u001b[0m\n",
      "[0]\tvalidation-auc:0.89736\n",
      "[1]\tvalidation-auc:0.90599\n",
      "[2]\tvalidation-auc:0.90560\n",
      "[3]\tvalidation-auc:0.90665\n",
      "[4]\tvalidation-auc:0.90560\n",
      "[5]\tvalidation-auc:0.90678\n",
      "[6]\tvalidation-auc:0.90678\n",
      "[7]\tvalidation-auc:0.90790\n",
      "[8]\tvalidation-auc:0.90896\n",
      "[9]\tvalidation-auc:0.90738\n",
      "[0]\tvalidation-auc:0.88382\n",
      "[1]\tvalidation-auc:0.88382\n",
      "[2]\tvalidation-auc:0.88382\n",
      "[3]\tvalidation-auc:0.88382\n",
      "[4]\tvalidation-auc:0.88349\n",
      "[5]\tvalidation-auc:0.88349\n",
      "[6]\tvalidation-auc:0.88349\n",
      "[7]\tvalidation-auc:0.88416\n",
      "[8]\tvalidation-auc:0.88416\n",
      "[9]\tvalidation-auc:0.88349\n",
      "[0]\tvalidation-auc:0.81491\n",
      "[1]\tvalidation-auc:0.81464\n",
      "[2]\tvalidation-auc:0.81651\n",
      "[3]\tvalidation-auc:0.81671\n",
      "[4]\tvalidation-auc:0.81671\n",
      "IOPub message rate exceeded.\n",
      "The notebook server will temporarily stop sending output\n",
      "to the client in order to avoid crashing it.\n",
      "To change this limit, set the config variable\n",
      "`--NotebookApp.iopub_msg_rate_limit`.\n",
      "\n",
      "Current values:\n",
      "NotebookApp.iopub_msg_rate_limit=50.0 (msgs/sec)\n",
      "NotebookApp.rate_limit_window=3.0 (secs)\n",
      "\n",
      "[0]\tvalidation-auc:0.86725\n",
      "[1]\tvalidation-auc:0.86725\n",
      "[2]\tvalidation-auc:0.86725\n",
      "[3]\tvalidation-auc:0.86725\n",
      "[4]\tvalidation-auc:0.86725\n",
      "[5]\tvalidation-auc:0.86725\n",
      "[6]\tvalidation-auc:0.86725\n",
      "[7]\tvalidation-auc:0.86725\n",
      "[8]\tvalidation-auc:0.86725\n",
      "[9]\tvalidation-auc:0.86725\n",
      "[0]\tvalidation-auc:0.85321\n",
      "[1]\tvalidation-auc:0.85321\n",
      "[2]\tvalidation-auc:0.85321\n",
      "[3]\tvalidation-auc:0.85321\n",
      "[4]\tvalidation-auc:0.85321\n",
      "[5]\tvalidation-auc:0.85321\n",
      "[6]\tvalidation-auc:0.85707\n",
      "[7]\tvalidation-auc:0.85494\n",
      "[8]\tvalidation-auc:0.86491\n",
      "[9]\tvalidation-auc:0.86491\n",
      "\u001b[32m[I 2021-10-03 12:37:46,301]\u001b[0m Trial 93 finished with value: 0.8314606741573034 and parameters: {'booster': 'dart', 'lambda': 3.6540563079817734e-08, 'alpha': 0.002867807864667495, 'max_depth': 4, 'eta': 0.014926632368565942, 'gamma': 0.5877669901253205, 'grow_policy': 'depthwise', 'sample_type': 'uniform', 'normalize_type': 'forest', 'rate_drop': 0.000565104297714575, 'skip_drop': 0.000137009555063639}. Best is trial 17 with value: 0.8314606741573034.\u001b[0m\n",
      "[0]\tvalidation-auc:0.89736\n",
      "[1]\tvalidation-auc:0.90599\n",
      "[2]\tvalidation-auc:0.90560\n",
      "[3]\tvalidation-auc:0.90665\n",
      "[4]\tvalidation-auc:0.90560\n",
      "[5]\tvalidation-auc:0.90678\n",
      "[6]\tvalidation-auc:0.90678\n",
      "[7]\tvalidation-auc:0.90771\n",
      "[8]\tvalidation-auc:0.90896\n",
      "[9]\tvalidation-auc:0.90738\n",
      "[0]\tvalidation-auc:0.88382\n",
      "[1]\tvalidation-auc:0.88382\n",
      "[2]\tvalidation-auc:0.88382\n",
      "[3]\tvalidation-auc:0.88382\n",
      "[4]\tvalidation-auc:0.88349\n",
      "[5]\tvalidation-auc:0.88349\n",
      "[6]\tvalidation-auc:0.88349\n",
      "[7]\tvalidation-auc:0.88416\n",
      "[8]\tvalidation-auc:0.88416\n",
      "[9]\tvalidation-auc:0.88349\n",
      "[0]\tvalidation-auc:0.81491\n",
      "[1]\tvalidation-auc:0.81464\n",
      "[2]\tvalidation-auc:0.81651\n",
      "[3]\tvalidation-auc:0.81671\n",
      "[4]\tvalidation-auc:0.81671\n",
      "[5]\tvalidation-auc:0.81685\n",
      "[6]\tvalidation-auc:0.81430\n",
      "[7]\tvalidation-auc:0.81671\n",
      "[8]\tvalidation-auc:0.81404\n",
      "[9]\tvalidation-auc:0.81430\n",
      "[0]\tvalidation-auc:0.86832\n",
      "[1]\tvalidation-auc:0.86832\n",
      "[2]\tvalidation-auc:0.86832\n",
      "[3]\tvalidation-auc:0.86832\n",
      "[4]\tvalidation-auc:0.86832\n",
      "[5]\tvalidation-auc:0.86832\n",
      "[6]\tvalidation-auc:0.86832\n",
      "[7]\tvalidation-auc:0.86832\n",
      "[8]\tvalidation-auc:0.86832\n",
      "[9]\tvalidation-auc:0.86832\n",
      "[0]\tvalidation-auc:0.85321\n",
      "[1]\tvalidation-auc:0.85321\n",
      "[2]\tvalidation-auc:0.85321\n",
      "[3]\tvalidation-auc:0.85321\n",
      "[4]\tvalidation-auc:0.85321\n",
      "[5]\tvalidation-auc:0.85321\n",
      "[6]\tvalidation-auc:0.85707\n",
      "[7]\tvalidation-auc:0.85494\n",
      "[8]\tvalidation-auc:0.85707\n",
      "[9]\tvalidation-auc:0.86491\n",
      "\u001b[32m[I 2021-10-03 12:37:47,191]\u001b[0m Trial 94 finished with value: 0.8314606741573034 and parameters: {'booster': 'dart', 'lambda': 2.684428512496811e-08, 'alpha': 0.0027934771923474725, 'max_depth': 4, 'eta': 0.014373545980513382, 'gamma': 0.347665826181007, 'grow_policy': 'depthwise', 'sample_type': 'uniform', 'normalize_type': 'forest', 'rate_drop': 0.0003932150409923984, 'skip_drop': 0.0001993326251356074}. Best is trial 17 with value: 0.8314606741573034.\u001b[0m\n",
      "[0]\tvalidation-auc:0.89736\n",
      "[1]\tvalidation-auc:0.90599\n",
      "[2]\tvalidation-auc:0.90560\n",
      "[3]\tvalidation-auc:0.90665\n",
      "[4]\tvalidation-auc:0.90560\n",
      "[5]\tvalidation-auc:0.90678\n",
      "[6]\tvalidation-auc:0.90771\n",
      "[7]\tvalidation-auc:0.90790\n",
      "[8]\tvalidation-auc:0.90738\n",
      "[9]\tvalidation-auc:0.90738\n",
      "[0]\tvalidation-auc:0.88382\n",
      "[1]\tvalidation-auc:0.88382\n",
      "[2]\tvalidation-auc:0.88382\n",
      "[3]\tvalidation-auc:0.88382\n",
      "[4]\tvalidation-auc:0.88382\n",
      "[5]\tvalidation-auc:0.88349\n",
      "[6]\tvalidation-auc:0.88349\n",
      "[7]\tvalidation-auc:0.88349\n",
      "[8]\tvalidation-auc:0.88349\n",
      "[9]\tvalidation-auc:0.88349\n",
      "[0]\tvalidation-auc:0.82346\n",
      "[1]\tvalidation-auc:0.81464\n",
      "[2]\tvalidation-auc:0.81651\n",
      "[3]\tvalidation-auc:0.81671\n",
      "[4]\tvalidation-auc:0.81671\n",
      "[5]\tvalidation-auc:0.81377\n",
      "[6]\tvalidation-auc:0.81377\n",
      "[7]\tvalidation-auc:0.81671\n",
      "[8]\tvalidation-auc:0.81404\n",
      "[9]\tvalidation-auc:0.81430\n",
      "[0]\tvalidation-auc:0.86832\n",
      "[1]\tvalidation-auc:0.86832\n",
      "[2]\tvalidation-auc:0.86832\n",
      "[3]\tvalidation-auc:0.86832\n",
      "[4]\tvalidation-auc:0.86832\n",
      "[5]\tvalidation-auc:0.86832\n",
      "[6]\tvalidation-auc:0.86832\n",
      "[7]\tvalidation-auc:0.86832\n",
      "[8]\tvalidation-auc:0.86832\n",
      "[9]\tvalidation-auc:0.86832\n",
      "[0]\tvalidation-auc:0.85321\n",
      "[1]\tvalidation-auc:0.85321\n",
      "[2]\tvalidation-auc:0.85321\n",
      "[3]\tvalidation-auc:0.85321\n",
      "[4]\tvalidation-auc:0.85321\n",
      "[5]\tvalidation-auc:0.85707\n",
      "[6]\tvalidation-auc:0.85707\n",
      "[7]\tvalidation-auc:0.85707\n",
      "[8]\tvalidation-auc:0.86491\n",
      "[9]\tvalidation-auc:0.86564\n",
      "\u001b[32m[I 2021-10-03 12:37:48,087]\u001b[0m Trial 95 finished with value: 0.8258426966292135 and parameters: {'booster': 'dart', 'lambda': 2.3164569052838487e-07, 'alpha': 0.005770763151272351, 'max_depth': 4, 'eta': 0.015955459241644772, 'gamma': 0.391739877177327, 'grow_policy': 'depthwise', 'sample_type': 'uniform', 'normalize_type': 'forest', 'rate_drop': 0.002326027449129923, 'skip_drop': 0.00013469040887659857}. Best is trial 17 with value: 0.8314606741573034.\u001b[0m\n",
      "[0]\tvalidation-auc:0.89736\n",
      "[1]\tvalidation-auc:0.90599\n",
      "[2]\tvalidation-auc:0.90560\n",
      "[3]\tvalidation-auc:0.90665\n",
      "[4]\tvalidation-auc:0.90560\n",
      "[5]\tvalidation-auc:0.90678\n",
      "[6]\tvalidation-auc:0.90771\n",
      "[7]\tvalidation-auc:0.90790\n",
      "[8]\tvalidation-auc:0.90896\n",
      "[9]\tvalidation-auc:0.90738\n",
      "[0]\tvalidation-auc:0.88382\n",
      "[1]\tvalidation-auc:0.88382\n",
      "[2]\tvalidation-auc:0.88382\n",
      "[3]\tvalidation-auc:0.88382\n",
      "[4]\tvalidation-auc:0.88349\n",
      "[5]\tvalidation-auc:0.88349\n",
      "[6]\tvalidation-auc:0.88349\n",
      "[7]\tvalidation-auc:0.88416\n",
      "[8]\tvalidation-auc:0.88416\n",
      "IOPub message rate exceeded.\n",
      "The notebook server will temporarily stop sending output\n",
      "to the client in order to avoid crashing it.\n",
      "To change this limit, set the config variable\n",
      "`--NotebookApp.iopub_msg_rate_limit`.\n",
      "\n",
      "Current values:\n",
      "NotebookApp.iopub_msg_rate_limit=50.0 (msgs/sec)\n",
      "NotebookApp.rate_limit_window=3.0 (secs)\n",
      "\n",
      "[0]\tvalidation-auc:0.81491\n",
      "[1]\tvalidation-auc:0.81544\n",
      "[2]\tvalidation-auc:0.81404\n",
      "[3]\tvalidation-auc:0.83483\n",
      "[4]\tvalidation-auc:0.81872\n",
      "[5]\tvalidation-auc:0.81858\n",
      "[6]\tvalidation-auc:0.81765\n",
      "[7]\tvalidation-auc:0.81872\n",
      "[8]\tvalidation-auc:0.81738\n",
      "[9]\tvalidation-auc:0.81725\n",
      "[0]\tvalidation-auc:0.86832\n",
      "[1]\tvalidation-auc:0.86832\n",
      "[2]\tvalidation-auc:0.86832\n",
      "[3]\tvalidation-auc:0.86798\n",
      "[4]\tvalidation-auc:0.86892\n",
      "[5]\tvalidation-auc:0.86798\n",
      "[6]\tvalidation-auc:0.86778\n",
      "[7]\tvalidation-auc:0.86771\n",
      "[8]\tvalidation-auc:0.86524\n",
      "[9]\tvalidation-auc:0.86598\n",
      "[0]\tvalidation-auc:0.85321\n",
      "[1]\tvalidation-auc:0.85614\n",
      "[2]\tvalidation-auc:0.86544\n",
      "[3]\tvalidation-auc:0.85933\n",
      "[4]\tvalidation-auc:0.85673\n",
      "[5]\tvalidation-auc:0.85826\n",
      "[6]\tvalidation-auc:0.86238\n",
      "[7]\tvalidation-auc:0.85966\n",
      "[8]\tvalidation-auc:0.85873\n",
      "[9]\tvalidation-auc:0.86232\n",
      "\u001b[32m[I 2021-10-03 12:37:50,104]\u001b[0m Trial 98 finished with value: 0.8258426966292135 and parameters: {'booster': 'gbtree', 'lambda': 1.274907672497667e-07, 'alpha': 0.00342031664157743, 'max_depth': 4, 'eta': 0.07525564989520916, 'gamma': 0.25260513004954616, 'grow_policy': 'depthwise'}. Best is trial 17 with value: 0.8314606741573034.\u001b[0m\n",
      "[0]\tvalidation-auc:0.86555\n",
      "[1]\tvalidation-auc:0.86555\n",
      "[2]\tvalidation-auc:0.86555\n",
      "[3]\tvalidation-auc:0.86555\n",
      "[4]\tvalidation-auc:0.86555\n",
      "[5]\tvalidation-auc:0.86555\n",
      "\u001b[32m[I 2021-10-03 12:37:50,311]\u001b[0m Trial 99 pruned. Trial was pruned at iteration 5.\u001b[0m\n",
      "FrozenTrial(number=17, values=[0.8314606741573034], datetime_start=datetime.datetime(2021, 10, 3, 12, 37, 5, 288815), datetime_complete=datetime.datetime(2021, 10, 3, 12, 37, 6, 185429), params={'booster': 'dart', 'lambda': 0.001659826509827184, 'alpha': 4.6851548528451845e-06, 'max_depth': 4, 'eta': 0.03642406752426057, 'gamma': 5.739686412915303e-06, 'grow_policy': 'lossguide', 'sample_type': 'uniform', 'normalize_type': 'tree', 'rate_drop': 0.03415476777463969, 'skip_drop': 1.8246950742715343e-08}, distributions={'booster': CategoricalDistribution(choices=('gbtree', 'gblinear', 'dart')), 'lambda': LogUniformDistribution(high=1.0, low=1e-08), 'alpha': LogUniformDistribution(high=1.0, low=1e-08), 'max_depth': IntUniformDistribution(high=9, low=1, step=1), 'eta': LogUniformDistribution(high=1.0, low=1e-08), 'gamma': LogUniformDistribution(high=1.0, low=1e-08), 'grow_policy': CategoricalDistribution(choices=('depthwise', 'lossguide')), 'sample_type': CategoricalDistribution(choices=('uniform', 'weighted')), 'normalize_type': CategoricalDistribution(choices=('tree', 'forest')), 'rate_drop': LogUniformDistribution(high=1.0, low=1e-08), 'skip_drop': LogUniformDistribution(high=1.0, low=1e-08)}, user_attrs={}, system_attrs={}, intermediate_values={0: 0.897365, 1: 0.905995, 2: 0.906522, 3: 0.90975, 4: 0.908037, 5: 0.908432, 6: 0.9083, 7: 0.906983, 8: 0.905468, 9: 0.907444}, trial_id=17, state=TrialState.COMPLETE, value=None)\n"
     ]
    }
   ],
   "source": [
    "#optuna example\n",
    "#https://github.com/optuna/optuna-examples/blob/main/xgboost/xgboost_integration.py\n",
    "import xgboost as xgb\n",
    "def objective(trial):\n",
    "    param = {\n",
    "            \"verbosity\": 0,\n",
    "            \"objective\": \"binary:logistic\",  #binary:logistic\n",
    "            \"eval_metric\": \"auc\",  #map\n",
    "            \"booster\": trial.suggest_categorical(\"booster\", [\"gbtree\", \"gblinear\", \"dart\"]),\n",
    "            \"lambda\": trial.suggest_float(\"lambda\", 1e-8, 1.0, log=True),\n",
    "            \"alpha\": trial.suggest_float(\"alpha\", 1e-8, 1.0, log=True),\n",
    "        }\n",
    "\n",
    "    if param[\"booster\"] == \"gbtree\" or param[\"booster\"] == \"dart\":\n",
    "        param[\"max_depth\"] = trial.suggest_int(\"max_depth\", 1, 9)\n",
    "        param[\"eta\"] = trial.suggest_float(\"eta\", 1e-8, 1.0, log=True)\n",
    "        param[\"gamma\"] = trial.suggest_float(\"gamma\", 1e-8, 1.0, log=True)\n",
    "        param[\"grow_policy\"] = trial.suggest_categorical(\"grow_policy\", [\"depthwise\", \"lossguide\"])\n",
    "    if param[\"booster\"] == \"dart\":\n",
    "        param[\"sample_type\"] = trial.suggest_categorical(\"sample_type\", [\"uniform\", \"weighted\"])\n",
    "        param[\"normalize_type\"] = trial.suggest_categorical(\"normalize_type\", [\"tree\", \"forest\"])\n",
    "        param[\"rate_drop\"] = trial.suggest_float(\"rate_drop\", 1e-8, 1.0, log=True)\n",
    "        param[\"skip_drop\"] = trial.suggest_float(\"skip_drop\", 1e-8, 1.0, log=True)\n",
    "\n",
    "    for i in range(5):\n",
    "        train_x = train.query(f'fold!={i}').drop(['fold', 'Survived'], axis=1)\n",
    "        train_y = train.query(f'fold!={i}').Survived\n",
    "\n",
    "        valid_x = train.query(f'fold=={i}').drop(['fold', 'Survived'], axis=1)\n",
    "        valid_y = train.query(f'fold=={i}').Survived\n",
    "\n",
    "        dtrain = xgb.DMatrix(train_x, label=train_y)\n",
    "        dvalid = xgb.DMatrix(valid_x, label=valid_y)\n",
    "        \n",
    "        accuracy = []\n",
    "        # Add a callback for pruning.\n",
    "        pruning_callback = optuna.integration.XGBoostPruningCallback(trial, \"validation-auc\")\n",
    "        bst = xgb.train(param, dtrain, evals=[(dvalid, \"validation\")], callbacks=[pruning_callback])\n",
    "        preds = bst.predict(dvalid)\n",
    "        pred_labels = np.rint(preds)\n",
    "        accuracy.append(sklearn.metrics.accuracy_score(valid_y, pred_labels))\n",
    "        \n",
    "        \n",
    "        joblib.dump(bst, f'xgboost_fold{i}.pkl')\n",
    "    return np.mean(accuracy)\n",
    "\n",
    "    \n",
    "if __name__ == \"__main__\":\n",
    "    study = optuna.create_study(\n",
    "        pruner=optuna.pruners.MedianPruner(n_warmup_steps=5), direction=\"maximize\"\n",
    "    )\n",
    "    study.optimize(objective, n_trials=100)\n",
    "    print(study.best_trial)"
   ]
  },
  {
   "cell_type": "markdown",
   "metadata": {
    "cell_id": "00060-1fe17c39-06ca-47d2-a6df-62e439193f95",
    "deepnote_cell_type": "text-cell-h3",
    "is_collapsed": false,
    "tags": []
   },
   "source": [
    "### Logistic"
   ]
  },
  {
   "cell_type": "code",
   "execution_count": null,
   "metadata": {
    "cell_id": "00061-5a247cae-871b-4809-9fcb-c6fd300300b7",
    "deepnote_cell_type": "code",
    "deepnote_to_be_reexecuted": false,
    "execution_millis": 105902,
    "execution_start": 1633266398682,
    "source_hash": "2f3b61af",
    "tags": []
   },
   "outputs": [],
   "source": [
    "#logistic\n",
    "from sklearn import linear_model\n",
    "\n",
    "#Step 1. Define an objective function to be maximized.\n",
    "def objective(trial):\n",
    "\n",
    "    classifier_name = 'LogReg'\n",
    "    logreg_c = trial.suggest_float(\"logreg_c\", 1e-10, 1e10, log=True)\n",
    "    classifier_obj = linear_model.LogisticRegression(C=logreg_c)\n",
    "        \n",
    "    for i in range(5):\n",
    "        train_x = train.query(f'fold!={i}').drop(['fold', 'Survived'], axis=1)\n",
    "        train_y = train.query(f'fold!={i}').Survived\n",
    "\n",
    "        valid_x = train.query(f'fold=={i}').drop(['fold', 'Survived'], axis=1)\n",
    "        valid_y = train.query(f'fold=={i}').Survived\n",
    "    \n",
    "        #save the five fold accuracy\n",
    "        accuracy = []\n",
    "\n",
    "        gbm = classifier_obj\n",
    "        gbm.fit(train_x, train_y)\n",
    "        preds = gbm.predict(valid_x)\n",
    "        pred_labels = np.rint(preds)\n",
    "        accuracy.append(accuracy_score(valid_y, pred_labels))\n",
    "                \n",
    "        #save the best model for each fold \n",
    "        joblib.dump(gbm, f'logistic_fold{i}.pkl')\n",
    "        \n",
    "    return np.mean(accuracy)\n",
    "\n",
    "if __name__ == \"__main__\":\n",
    "    study = optuna.create_study(direction=\"maximize\")\n",
    "    study.optimize(objective, n_trials=500, timeout=600)\n",
    "\n",
    "    print(\"Number of finished trials: {}\".format(len(study.trials)))\n",
    "\n",
    "    print(\"Best trial:\")\n",
    "    trial = study.best_trial\n",
    "\n",
    "    print(\"  Value: {}\".format(trial.value))\n",
    "\n",
    "    print(\"  Params: \")\n",
    "    for key, value in trial.params.items():\n",
    "        print(\"    {}: {}\".format(key, value))"
   ]
  },
  {
   "cell_type": "markdown",
   "metadata": {
    "cell_id": "00062-d7e31d0d-3f27-4063-b1ff-ac8e7c3b9079",
    "deepnote_cell_type": "text-cell-h3",
    "is_collapsed": false,
    "tags": []
   },
   "source": [
    "### Catboost"
   ]
  },
  {
   "cell_type": "code",
   "execution_count": null,
   "metadata": {
    "cell_id": "00063-3bf23da2-69dc-401f-b92f-257e6159fe8a",
    "deepnote_cell_type": "code",
    "deepnote_to_be_reexecuted": false,
    "execution_millis": 283058,
    "execution_start": 1633266504583,
    "source_hash": "d0286765",
    "tags": []
   },
   "outputs": [
    {
     "name": "stderr",
     "output_type": "stream",
     "text": [
      "\u001b[32m[I 2021-10-03 13:08:24,691]\u001b[0m A new study created in memory with name: no-name-15ab1b0f-08e1-47e8-b6be-f4e20cc0912e\u001b[0m\n",
      "\u001b[32m[I 2021-10-03 13:08:31,783]\u001b[0m Trial 0 finished with value: 0.8089887640449438 and parameters: {'objective': 'Logloss', 'colsample_bylevel': 0.055062637218881695, 'depth': 8, 'boosting_type': 'Ordered', 'bootstrap_type': 'Bayesian', 'bagging_temperature': 3.6933611318320017}. Best is trial 0 with value: 0.8089887640449438.\u001b[0m\n",
      "\u001b[32m[I 2021-10-03 13:08:37,234]\u001b[0m Trial 1 finished with value: 0.8146067415730337 and parameters: {'objective': 'CrossEntropy', 'colsample_bylevel': 0.08407485346821005, 'depth': 10, 'boosting_type': 'Ordered', 'bootstrap_type': 'MVS'}. Best is trial 1 with value: 0.8146067415730337.\u001b[0m\n",
      "\u001b[32m[I 2021-10-03 13:08:39,011]\u001b[0m Trial 2 finished with value: 0.8258426966292135 and parameters: {'objective': 'Logloss', 'colsample_bylevel': 0.01250352878243508, 'depth': 9, 'boosting_type': 'Plain', 'bootstrap_type': 'Bayesian', 'bagging_temperature': 9.190912206263489}. Best is trial 2 with value: 0.8258426966292135.\u001b[0m\n",
      "\u001b[32m[I 2021-10-03 13:08:45,993]\u001b[0m Trial 3 finished with value: 0.8258426966292135 and parameters: {'objective': 'CrossEntropy', 'colsample_bylevel': 0.09376954569033953, 'depth': 10, 'boosting_type': 'Ordered', 'bootstrap_type': 'Bayesian', 'bagging_temperature': 8.995498670116092}. Best is trial 2 with value: 0.8258426966292135.\u001b[0m\n",
      "\u001b[32m[I 2021-10-03 13:08:53,031]\u001b[0m Trial 4 finished with value: 0.8146067415730337 and parameters: {'objective': 'Logloss', 'colsample_bylevel': 0.03773233126379757, 'depth': 5, 'boosting_type': 'Ordered', 'bootstrap_type': 'MVS'}. Best is trial 2 with value: 0.8258426966292135.\u001b[0m\n",
      "\u001b[32m[I 2021-10-03 13:08:59,214]\u001b[0m Trial 5 finished with value: 0.8202247191011236 and parameters: {'objective': 'Logloss', 'colsample_bylevel': 0.09092405927289225, 'depth': 3, 'boosting_type': 'Ordered', 'bootstrap_type': 'MVS'}. Best is trial 2 with value: 0.8258426966292135.\u001b[0m\n",
      "\u001b[32m[I 2021-10-03 13:09:04,539]\u001b[0m Trial 6 finished with value: 0.8258426966292135 and parameters: {'objective': 'CrossEntropy', 'colsample_bylevel': 0.09058514948713035, 'depth': 9, 'boosting_type': 'Ordered', 'bootstrap_type': 'MVS'}. Best is trial 2 with value: 0.8258426966292135.\u001b[0m\n",
      "\u001b[32m[I 2021-10-03 13:09:06,148]\u001b[0m Trial 7 finished with value: 0.8202247191011236 and parameters: {'objective': 'Logloss', 'colsample_bylevel': 0.016198140310914745, 'depth': 9, 'boosting_type': 'Plain', 'bootstrap_type': 'Bernoulli', 'subsample': 0.3482742319492169}. Best is trial 2 with value: 0.8258426966292135.\u001b[0m\n",
      "\u001b[32m[I 2021-10-03 13:09:08,024]\u001b[0m Trial 8 finished with value: 0.8314606741573034 and parameters: {'objective': 'Logloss', 'colsample_bylevel': 0.042452650121309256, 'depth': 10, 'boosting_type': 'Plain', 'bootstrap_type': 'MVS'}. Best is trial 8 with value: 0.8314606741573034.\u001b[0m\n",
      "\u001b[32m[I 2021-10-03 13:09:15,549]\u001b[0m Trial 9 finished with value: 0.8258426966292135 and parameters: {'objective': 'Logloss', 'colsample_bylevel': 0.05679943350079526, 'depth': 5, 'boosting_type': 'Ordered', 'bootstrap_type': 'Bernoulli', 'subsample': 0.4825542185901064}. Best is trial 8 with value: 0.8314606741573034.\u001b[0m\n",
      "\u001b[32m[I 2021-10-03 13:09:17,560]\u001b[0m Trial 10 finished with value: 0.8146067415730337 and parameters: {'objective': 'CrossEntropy', 'colsample_bylevel': 0.03777223361608809, 'depth': 12, 'boosting_type': 'Plain', 'bootstrap_type': 'MVS'}. Best is trial 8 with value: 0.8314606741573034.\u001b[0m\n",
      "\u001b[32m[I 2021-10-03 13:09:19,370]\u001b[0m Trial 11 finished with value: 0.8146067415730337 and parameters: {'objective': 'Logloss', 'colsample_bylevel': 0.015868389030398153, 'depth': 12, 'boosting_type': 'Plain', 'bootstrap_type': 'Bayesian', 'bagging_temperature': 9.599286183070692}. Best is trial 8 with value: 0.8314606741573034.\u001b[0m\n",
      "\u001b[32m[I 2021-10-03 13:09:21,405]\u001b[0m Trial 12 finished with value: 0.8258426966292135 and parameters: {'objective': 'Logloss', 'colsample_bylevel': 0.03135947619545187, 'depth': 7, 'boosting_type': 'Plain', 'bootstrap_type': 'Bayesian', 'bagging_temperature': 6.049082589705376}. Best is trial 8 with value: 0.8314606741573034.\u001b[0m\n",
      "\u001b[32m[I 2021-10-03 13:09:23,622]\u001b[0m Trial 13 finished with value: 0.8089887640449438 and parameters: {'objective': 'Logloss', 'colsample_bylevel': 0.07095361815952128, 'depth': 1, 'boosting_type': 'Plain', 'bootstrap_type': 'Bayesian', 'bagging_temperature': 0.4470249737123124}. Best is trial 8 with value: 0.8314606741573034.\u001b[0m\n",
      "\u001b[32m[I 2021-10-03 13:09:25,342]\u001b[0m Trial 14 finished with value: 0.797752808988764 and parameters: {'objective': 'Logloss', 'colsample_bylevel': 0.028630756273115586, 'depth': 11, 'boosting_type': 'Plain', 'bootstrap_type': 'Bernoulli', 'subsample': 0.8800455722023632}. Best is trial 8 with value: 0.8314606741573034.\u001b[0m\n",
      "\u001b[32m[I 2021-10-03 13:09:27,440]\u001b[0m Trial 15 finished with value: 0.8033707865168539 and parameters: {'objective': 'Logloss', 'colsample_bylevel': 0.046246174547771614, 'depth': 6, 'boosting_type': 'Plain', 'bootstrap_type': 'Bayesian', 'bagging_temperature': 6.589258410835308}. Best is trial 8 with value: 0.8314606741573034.\u001b[0m\n",
      "\u001b[32m[I 2021-10-03 13:09:29,211]\u001b[0m Trial 16 finished with value: 0.8033707865168539 and parameters: {'objective': 'Logloss', 'colsample_bylevel': 0.010333440476950236, 'depth': 8, 'boosting_type': 'Plain', 'bootstrap_type': 'MVS'}. Best is trial 8 with value: 0.8314606741573034.\u001b[0m\n",
      "\u001b[32m[I 2021-10-03 13:09:31,156]\u001b[0m Trial 17 finished with value: 0.848314606741573 and parameters: {'objective': 'Logloss', 'colsample_bylevel': 0.06700801207938462, 'depth': 10, 'boosting_type': 'Plain', 'bootstrap_type': 'Bayesian', 'bagging_temperature': 3.202966772019119}. Best is trial 17 with value: 0.848314606741573.\u001b[0m\n",
      "\u001b[32m[I 2021-10-03 13:09:32,908]\u001b[0m Trial 18 finished with value: 0.8314606741573034 and parameters: {'objective': 'CrossEntropy', 'colsample_bylevel': 0.0697118565328455, 'depth': 11, 'boosting_type': 'Plain', 'bootstrap_type': 'MVS'}. Best is trial 17 with value: 0.848314606741573.\u001b[0m\n",
      "\u001b[32m[I 2021-10-03 13:09:34,547]\u001b[0m Trial 19 finished with value: 0.8370786516853933 and parameters: {'objective': 'CrossEntropy', 'colsample_bylevel': 0.0737400983566646, 'depth': 12, 'boosting_type': 'Plain', 'bootstrap_type': 'Bernoulli', 'subsample': 0.146533215873363}. Best is trial 17 with value: 0.848314606741573.\u001b[0m\n",
      "\u001b[32m[I 2021-10-03 13:09:36,248]\u001b[0m Trial 20 finished with value: 0.8370786516853933 and parameters: {'objective': 'CrossEntropy', 'colsample_bylevel': 0.07019534383066636, 'depth': 12, 'boosting_type': 'Plain', 'bootstrap_type': 'Bernoulli', 'subsample': 0.12296892289834106}. Best is trial 17 with value: 0.848314606741573.\u001b[0m\n",
      "\u001b[32m[I 2021-10-03 13:09:37,946]\u001b[0m Trial 21 finished with value: 0.8370786516853933 and parameters: {'objective': 'CrossEntropy', 'colsample_bylevel': 0.06974402069307466, 'depth': 12, 'boosting_type': 'Plain', 'bootstrap_type': 'Bernoulli', 'subsample': 0.1109032275777737}. Best is trial 17 with value: 0.848314606741573.\u001b[0m\n",
      "\u001b[32m[I 2021-10-03 13:09:39,894]\u001b[0m Trial 22 finished with value: 0.8426966292134831 and parameters: {'objective': 'CrossEntropy', 'colsample_bylevel': 0.08185139181548942, 'depth': 11, 'boosting_type': 'Plain', 'bootstrap_type': 'Bernoulli', 'subsample': 0.10579870459201207}. Best is trial 17 with value: 0.848314606741573.\u001b[0m\n",
      "\u001b[32m[I 2021-10-03 13:09:41,637]\u001b[0m Trial 23 finished with value: 0.8258426966292135 and parameters: {'objective': 'CrossEntropy', 'colsample_bylevel': 0.07994783196376067, 'depth': 11, 'boosting_type': 'Plain', 'bootstrap_type': 'Bernoulli', 'subsample': 0.2739558946918691}. Best is trial 17 with value: 0.848314606741573.\u001b[0m\n",
      "\u001b[32m[I 2021-10-03 13:09:43,291]\u001b[0m Trial 24 finished with value: 0.8258426966292135 and parameters: {'objective': 'CrossEntropy', 'colsample_bylevel': 0.06276887181616281, 'depth': 11, 'boosting_type': 'Plain', 'bootstrap_type': 'Bernoulli', 'subsample': 0.7033315075732632}. Best is trial 17 with value: 0.848314606741573.\u001b[0m\n",
      "\u001b[32m[I 2021-10-03 13:09:45,084]\u001b[0m Trial 25 finished with value: 0.8426966292134831 and parameters: {'objective': 'CrossEntropy', 'colsample_bylevel': 0.08133257599511134, 'depth': 10, 'boosting_type': 'Plain', 'bootstrap_type': 'Bernoulli', 'subsample': 0.3427221689651065}. Best is trial 17 with value: 0.848314606741573.\u001b[0m\n",
      "\u001b[32m[I 2021-10-03 13:09:46,955]\u001b[0m Trial 26 finished with value: 0.8314606741573034 and parameters: {'objective': 'CrossEntropy', 'colsample_bylevel': 0.0814286316278809, 'depth': 8, 'boosting_type': 'Plain', 'bootstrap_type': 'Bernoulli', 'subsample': 0.41213803592053844}. Best is trial 17 with value: 0.848314606741573.\u001b[0m\n",
      "\u001b[32m[I 2021-10-03 13:09:48,691]\u001b[0m Trial 27 finished with value: 0.8202247191011236 and parameters: {'objective': 'CrossEntropy', 'colsample_bylevel': 0.0629166879721977, 'depth': 7, 'boosting_type': 'Plain', 'bootstrap_type': 'Bernoulli', 'subsample': 0.5732430121768233}. Best is trial 17 with value: 0.848314606741573.\u001b[0m\n",
      "\u001b[32m[I 2021-10-03 13:09:50,339]\u001b[0m Trial 28 finished with value: 0.8370786516853933 and parameters: {'objective': 'CrossEntropy', 'colsample_bylevel': 0.09906807527100309, 'depth': 10, 'boosting_type': 'Plain', 'bootstrap_type': 'Bernoulli', 'subsample': 0.26581098827889366}. Best is trial 17 with value: 0.848314606741573.\u001b[0m\n",
      "\u001b[32m[I 2021-10-03 13:09:52,355]\u001b[0m Trial 29 finished with value: 0.8146067415730337 and parameters: {'objective': 'CrossEntropy', 'colsample_bylevel': 0.05272660538757282, 'depth': 9, 'boosting_type': 'Plain', 'bootstrap_type': 'Bayesian', 'bagging_temperature': 2.1721861470886843}. Best is trial 17 with value: 0.848314606741573.\u001b[0m\n",
      "\u001b[32m[I 2021-10-03 13:09:54,493]\u001b[0m Trial 30 finished with value: 0.8426966292134831 and parameters: {'objective': 'CrossEntropy', 'colsample_bylevel': 0.07730524102362092, 'depth': 8, 'boosting_type': 'Plain', 'bootstrap_type': 'Bayesian', 'bagging_temperature': 3.3971444374805846}. Best is trial 17 with value: 0.848314606741573.\u001b[0m\n",
      "\u001b[32m[I 2021-10-03 13:09:56,697]\u001b[0m Trial 31 finished with value: 0.8539325842696629 and parameters: {'objective': 'CrossEntropy', 'colsample_bylevel': 0.07792100766286185, 'depth': 8, 'boosting_type': 'Plain', 'bootstrap_type': 'Bayesian', 'bagging_temperature': 3.5845553229478737}. Best is trial 31 with value: 0.8539325842696629.\u001b[0m\n",
      "\u001b[32m[I 2021-10-03 13:09:58,640]\u001b[0m Trial 32 finished with value: 0.8370786516853933 and parameters: {'objective': 'CrossEntropy', 'colsample_bylevel': 0.07728678428656421, 'depth': 8, 'boosting_type': 'Plain', 'bootstrap_type': 'Bayesian', 'bagging_temperature': 3.56816834922162}. Best is trial 31 with value: 0.8539325842696629.\u001b[0m\n",
      "\u001b[32m[I 2021-10-03 13:10:00,698]\u001b[0m Trial 33 finished with value: 0.8258426966292135 and parameters: {'objective': 'CrossEntropy', 'colsample_bylevel': 0.0873832998997767, 'depth': 6, 'boosting_type': 'Plain', 'bootstrap_type': 'Bayesian', 'bagging_temperature': 3.646450734454745}. Best is trial 31 with value: 0.8539325842696629.\u001b[0m\n",
      "\u001b[32m[I 2021-10-03 13:10:09,319]\u001b[0m Trial 34 finished with value: 0.8033707865168539 and parameters: {'objective': 'CrossEntropy', 'colsample_bylevel': 0.06314803875172605, 'depth': 7, 'boosting_type': 'Ordered', 'bootstrap_type': 'Bayesian', 'bagging_temperature': 1.865246591914841}. Best is trial 31 with value: 0.8539325842696629.\u001b[0m\n",
      "\u001b[32m[I 2021-10-03 13:10:11,495]\u001b[0m Trial 35 finished with value: 0.8539325842696629 and parameters: {'objective': 'CrossEntropy', 'colsample_bylevel': 0.08507265221042046, 'depth': 9, 'boosting_type': 'Plain', 'bootstrap_type': 'Bayesian', 'bagging_temperature': 4.9664939455472155}. Best is trial 31 with value: 0.8539325842696629.\u001b[0m\n",
      "\u001b[32m[I 2021-10-03 13:10:16,953]\u001b[0m Trial 36 finished with value: 0.8146067415730337 and parameters: {'objective': 'CrossEntropy', 'colsample_bylevel': 0.09786526872343557, 'depth': 8, 'boosting_type': 'Ordered', 'bootstrap_type': 'Bayesian', 'bagging_temperature': 4.940297507832339}. Best is trial 31 with value: 0.8539325842696629.\u001b[0m\n",
      "\u001b[32m[I 2021-10-03 13:10:18,856]\u001b[0m Trial 37 finished with value: 0.848314606741573 and parameters: {'objective': 'CrossEntropy', 'colsample_bylevel': 0.08686897509678085, 'depth': 10, 'boosting_type': 'Plain', 'bootstrap_type': 'Bayesian', 'bagging_temperature': 5.197509090620712}. Best is trial 31 with value: 0.8539325842696629.\u001b[0m\n",
      "\u001b[32m[I 2021-10-03 13:10:25,526]\u001b[0m Trial 38 finished with value: 0.8146067415730337 and parameters: {'objective': 'CrossEntropy', 'colsample_bylevel': 0.08804275722763297, 'depth': 9, 'boosting_type': 'Ordered', 'bootstrap_type': 'Bayesian', 'bagging_temperature': 5.047457409328691}. Best is trial 31 with value: 0.8539325842696629.\u001b[0m\n",
      "\u001b[32m[I 2021-10-03 13:10:27,425]\u001b[0m Trial 39 finished with value: 0.8539325842696629 and parameters: {'objective': 'Logloss', 'colsample_bylevel': 0.09540861387410157, 'depth': 9, 'boosting_type': 'Plain', 'bootstrap_type': 'Bayesian', 'bagging_temperature': 5.164026177061086}. Best is trial 31 with value: 0.8539325842696629.\u001b[0m\n",
      "\u001b[32m[I 2021-10-03 13:10:29,439]\u001b[0m Trial 40 finished with value: 0.8370786516853933 and parameters: {'objective': 'CrossEntropy', 'colsample_bylevel': 0.09372318574079429, 'depth': 9, 'boosting_type': 'Plain', 'bootstrap_type': 'Bayesian', 'bagging_temperature': 5.392211211416205}. Best is trial 31 with value: 0.8539325842696629.\u001b[0m\n",
      "\u001b[32m[I 2021-10-03 13:10:31,713]\u001b[0m Trial 41 finished with value: 0.8539325842696629 and parameters: {'objective': 'Logloss', 'colsample_bylevel': 0.08616325068283133, 'depth': 10, 'boosting_type': 'Plain', 'bootstrap_type': 'Bayesian', 'bagging_temperature': 6.792892895434569}. Best is trial 31 with value: 0.8539325842696629.\u001b[0m\n",
      "\u001b[32m[I 2021-10-03 13:10:34,058]\u001b[0m Trial 42 finished with value: 0.8370786516853933 and parameters: {'objective': 'Logloss', 'colsample_bylevel': 0.0861447884644679, 'depth': 9, 'boosting_type': 'Plain', 'bootstrap_type': 'Bayesian', 'bagging_temperature': 6.707117136117311}. Best is trial 31 with value: 0.8539325842696629.\u001b[0m\n",
      "\u001b[32m[I 2021-10-03 13:10:36,057]\u001b[0m Trial 43 finished with value: 0.8202247191011236 and parameters: {'objective': 'Logloss', 'colsample_bylevel': 0.09414690936292912, 'depth': 10, 'boosting_type': 'Plain', 'bootstrap_type': 'Bayesian', 'bagging_temperature': 7.630643250770118}. Best is trial 31 with value: 0.8539325842696629.\u001b[0m\n",
      "\u001b[32m[I 2021-10-03 13:10:37,775]\u001b[0m Trial 44 finished with value: 0.8595505617977528 and parameters: {'objective': 'Logloss', 'colsample_bylevel': 0.09069460391268805, 'depth': 9, 'boosting_type': 'Plain', 'bootstrap_type': 'Bayesian', 'bagging_temperature': 4.463040845533523}. Best is trial 44 with value: 0.8595505617977528.\u001b[0m\n",
      "\u001b[32m[I 2021-10-03 13:10:44,697]\u001b[0m Trial 45 finished with value: 0.8426966292134831 and parameters: {'objective': 'Logloss', 'colsample_bylevel': 0.0921478850737289, 'depth': 7, 'boosting_type': 'Ordered', 'bootstrap_type': 'Bayesian', 'bagging_temperature': 4.585456456641375}. Best is trial 44 with value: 0.8595505617977528.\u001b[0m\n",
      "\u001b[32m[I 2021-10-03 13:10:46,727]\u001b[0m Trial 46 finished with value: 0.848314606741573 and parameters: {'objective': 'Logloss', 'colsample_bylevel': 0.09597872297562557, 'depth': 9, 'boosting_type': 'Plain', 'bootstrap_type': 'Bayesian', 'bagging_temperature': 4.38263786861702}. Best is trial 44 with value: 0.8595505617977528.\u001b[0m\n",
      "\u001b[32m[I 2021-10-03 13:10:48,873]\u001b[0m Trial 47 finished with value: 0.848314606741573 and parameters: {'objective': 'Logloss', 'colsample_bylevel': 0.09054834814981272, 'depth': 4, 'boosting_type': 'Plain', 'bootstrap_type': 'Bayesian', 'bagging_temperature': 7.790995600373479}. Best is trial 44 with value: 0.8595505617977528.\u001b[0m\n",
      "\u001b[32m[I 2021-10-03 13:10:51,129]\u001b[0m Trial 48 finished with value: 0.8426966292134831 and parameters: {'objective': 'Logloss', 'colsample_bylevel': 0.07641891343669037, 'depth': 8, 'boosting_type': 'Plain', 'bootstrap_type': 'Bayesian', 'bagging_temperature': 6.323991965232805}. Best is trial 44 with value: 0.8595505617977528.\u001b[0m\n",
      "\u001b[32m[I 2021-10-03 13:10:58,638]\u001b[0m Trial 49 finished with value: 0.8258426966292135 and parameters: {'objective': 'Logloss', 'colsample_bylevel': 0.08419181749404257, 'depth': 9, 'boosting_type': 'Ordered', 'bootstrap_type': 'Bayesian', 'bagging_temperature': 5.874023249294773}. Best is trial 44 with value: 0.8595505617977528.\u001b[0m\n",
      "\u001b[32m[I 2021-10-03 13:11:00,388]\u001b[0m Trial 50 finished with value: 0.848314606741573 and parameters: {'objective': 'Logloss', 'colsample_bylevel': 0.0998989627790747, 'depth': 6, 'boosting_type': 'Plain', 'bootstrap_type': 'Bayesian', 'bagging_temperature': 2.4632316263859693}. Best is trial 44 with value: 0.8595505617977528.\u001b[0m\n",
      "\u001b[32m[I 2021-10-03 13:11:02,043]\u001b[0m Trial 51 finished with value: 0.8314606741573034 and parameters: {'objective': 'Logloss', 'colsample_bylevel': 0.09051765319744465, 'depth': 5, 'boosting_type': 'Plain', 'bootstrap_type': 'Bayesian', 'bagging_temperature': 2.640210756797865}. Best is trial 44 with value: 0.8595505617977528.\u001b[0m\n",
      "\u001b[32m[I 2021-10-03 13:11:03,936]\u001b[0m Trial 52 finished with value: 0.848314606741573 and parameters: {'objective': 'Logloss', 'colsample_bylevel': 0.09976448241547153, 'depth': 7, 'boosting_type': 'Plain', 'bootstrap_type': 'Bayesian', 'bagging_temperature': 4.150884062749915}. Best is trial 44 with value: 0.8595505617977528.\u001b[0m\n",
      "\u001b[32m[I 2021-10-03 13:11:06,102]\u001b[0m Trial 53 finished with value: 0.848314606741573 and parameters: {'objective': 'Logloss', 'colsample_bylevel': 0.09457703440910284, 'depth': 7, 'boosting_type': 'Plain', 'bootstrap_type': 'Bayesian', 'bagging_temperature': 4.3473443320010725}. Best is trial 44 with value: 0.8595505617977528.\u001b[0m\n",
      "\u001b[32m[I 2021-10-03 13:11:08,798]\u001b[0m Trial 54 finished with value: 0.8033707865168539 and parameters: {'objective': 'Logloss', 'colsample_bylevel': 0.08941803474800798, 'depth': 1, 'boosting_type': 'Plain', 'bootstrap_type': 'Bayesian', 'bagging_temperature': 4.16520558334279}. Best is trial 44 with value: 0.8595505617977528.\u001b[0m\n",
      "\u001b[32m[I 2021-10-03 13:11:11,309]\u001b[0m Trial 55 finished with value: 0.8370786516853933 and parameters: {'objective': 'Logloss', 'colsample_bylevel': 0.08453742725947729, 'depth': 6, 'boosting_type': 'Plain', 'bootstrap_type': 'MVS'}. Best is trial 44 with value: 0.8595505617977528.\u001b[0m\n",
      "\u001b[32m[I 2021-10-03 13:11:13,981]\u001b[0m Trial 56 finished with value: 0.8539325842696629 and parameters: {'objective': 'Logloss', 'colsample_bylevel': 0.09488501782909746, 'depth': 8, 'boosting_type': 'Plain', 'bootstrap_type': 'Bayesian', 'bagging_temperature': 5.584099844335277}. Best is trial 44 with value: 0.8595505617977528.\u001b[0m\n",
      "\u001b[32m[I 2021-10-03 13:11:16,106]\u001b[0m Trial 57 finished with value: 0.8370786516853933 and parameters: {'objective': 'Logloss', 'colsample_bylevel': 0.07440045876198745, 'depth': 9, 'boosting_type': 'Plain', 'bootstrap_type': 'Bayesian', 'bagging_temperature': 7.2799531300121565}. Best is trial 44 with value: 0.8595505617977528.\u001b[0m\n",
      "\u001b[32m[I 2021-10-03 13:11:18,477]\u001b[0m Trial 58 finished with value: 0.8370786516853933 and parameters: {'objective': 'Logloss', 'colsample_bylevel': 0.09209602189974174, 'depth': 8, 'boosting_type': 'Plain', 'bootstrap_type': 'Bayesian', 'bagging_temperature': 5.477802721465405}. Best is trial 44 with value: 0.8595505617977528.\u001b[0m\n",
      "\u001b[32m[I 2021-10-03 13:11:20,757]\u001b[0m Trial 59 finished with value: 0.8314606741573034 and parameters: {'objective': 'Logloss', 'colsample_bylevel': 0.09639507903038619, 'depth': 10, 'boosting_type': 'Plain', 'bootstrap_type': 'MVS'}. Best is trial 44 with value: 0.8595505617977528.\u001b[0m\n",
      "\u001b[32m[I 2021-10-03 13:11:23,348]\u001b[0m Trial 60 finished with value: 0.8258426966292135 and parameters: {'objective': 'Logloss', 'colsample_bylevel': 0.0840430097507266, 'depth': 2, 'boosting_type': 'Plain', 'bootstrap_type': 'Bayesian', 'bagging_temperature': 8.472088107351547}. Best is trial 44 with value: 0.8595505617977528.\u001b[0m\n",
      "\u001b[32m[I 2021-10-03 13:11:25,744]\u001b[0m Trial 61 finished with value: 0.8539325842696629 and parameters: {'objective': 'Logloss', 'colsample_bylevel': 0.08768333352439577, 'depth': 10, 'boosting_type': 'Plain', 'bootstrap_type': 'Bayesian', 'bagging_temperature': 5.68633740427788}. Best is trial 44 with value: 0.8595505617977528.\u001b[0m\n",
      "\u001b[32m[I 2021-10-03 13:11:28,088]\u001b[0m Trial 62 finished with value: 0.8370786516853933 and parameters: {'objective': 'Logloss', 'colsample_bylevel': 0.08925734523814993, 'depth': 10, 'boosting_type': 'Plain', 'bootstrap_type': 'Bayesian', 'bagging_temperature': 5.788604103562028}. Best is trial 44 with value: 0.8595505617977528.\u001b[0m\n",
      "\u001b[32m[I 2021-10-03 13:11:30,450]\u001b[0m Trial 63 finished with value: 0.848314606741573 and parameters: {'objective': 'Logloss', 'colsample_bylevel': 0.0797911224672465, 'depth': 11, 'boosting_type': 'Plain', 'bootstrap_type': 'Bayesian', 'bagging_temperature': 7.082902292818595}. Best is trial 44 with value: 0.8595505617977528.\u001b[0m\n",
      "\u001b[32m[I 2021-10-03 13:11:32,607]\u001b[0m Trial 64 finished with value: 0.8426966292134831 and parameters: {'objective': 'Logloss', 'colsample_bylevel': 0.08333956664721676, 'depth': 9, 'boosting_type': 'Plain', 'bootstrap_type': 'Bayesian', 'bagging_temperature': 6.117464655797855}. Best is trial 44 with value: 0.8595505617977528.\u001b[0m\n",
      "\u001b[32m[I 2021-10-03 13:11:34,642]\u001b[0m Trial 65 finished with value: 0.8426966292134831 and parameters: {'objective': 'Logloss', 'colsample_bylevel': 0.09329123629787578, 'depth': 8, 'boosting_type': 'Plain', 'bootstrap_type': 'Bayesian', 'bagging_temperature': 4.825788445977662}. Best is trial 44 with value: 0.8595505617977528.\u001b[0m\n",
      "\u001b[32m[I 2021-10-03 13:11:36,852]\u001b[0m Trial 66 finished with value: 0.8314606741573034 and parameters: {'objective': 'Logloss', 'colsample_bylevel': 0.07872047461227803, 'depth': 10, 'boosting_type': 'Plain', 'bootstrap_type': 'Bayesian', 'bagging_temperature': 5.673774824994176}. Best is trial 44 with value: 0.8595505617977528.\u001b[0m\n",
      "\u001b[32m[I 2021-10-03 13:11:39,199]\u001b[0m Trial 67 finished with value: 0.8426966292134831 and parameters: {'objective': 'Logloss', 'colsample_bylevel': 0.07266164876465699, 'depth': 11, 'boosting_type': 'Plain', 'bootstrap_type': 'Bayesian', 'bagging_temperature': 6.723404495544541}. Best is trial 44 with value: 0.8595505617977528.\u001b[0m\n",
      "\u001b[32m[I 2021-10-03 13:11:41,447]\u001b[0m Trial 68 finished with value: 0.8426966292134831 and parameters: {'objective': 'Logloss', 'colsample_bylevel': 0.09627528232526915, 'depth': 9, 'boosting_type': 'Plain', 'bootstrap_type': 'MVS'}. Best is trial 44 with value: 0.8595505617977528.\u001b[0m\n",
      "\u001b[32m[I 2021-10-03 13:11:43,641]\u001b[0m Trial 69 finished with value: 0.8258426966292135 and parameters: {'objective': 'Logloss', 'colsample_bylevel': 0.08610949962003604, 'depth': 10, 'boosting_type': 'Plain', 'bootstrap_type': 'Bayesian', 'bagging_temperature': 3.076145092085359}. Best is trial 44 with value: 0.8595505617977528.\u001b[0m\n",
      "\u001b[32m[I 2021-10-03 13:11:52,641]\u001b[0m Trial 70 finished with value: 0.8089887640449438 and parameters: {'objective': 'Logloss', 'colsample_bylevel': 0.06618538093149874, 'depth': 8, 'boosting_type': 'Ordered', 'bootstrap_type': 'Bayesian', 'bagging_temperature': 3.9496907236476324}. Best is trial 44 with value: 0.8595505617977528.\u001b[0m\n",
      "\u001b[32m[I 2021-10-03 13:11:54,618]\u001b[0m Trial 71 finished with value: 0.8258426966292135 and parameters: {'objective': 'Logloss', 'colsample_bylevel': 0.09653712795296655, 'depth': 6, 'boosting_type': 'Plain', 'bootstrap_type': 'Bayesian', 'bagging_temperature': 1.4197679661464742}. Best is trial 44 with value: 0.8595505617977528.\u001b[0m\n",
      "\u001b[32m[I 2021-10-03 13:11:56,865]\u001b[0m Trial 72 finished with value: 0.8426966292134831 and parameters: {'objective': 'Logloss', 'colsample_bylevel': 0.08138125714312379, 'depth': 11, 'boosting_type': 'Plain', 'bootstrap_type': 'Bayesian', 'bagging_temperature': 7.043795509204241}. Best is trial 44 with value: 0.8595505617977528.\u001b[0m\n",
      "\u001b[32m[I 2021-10-03 13:11:59,026]\u001b[0m Trial 73 finished with value: 0.8258426966292135 and parameters: {'objective': 'Logloss', 'colsample_bylevel': 0.02553464028101603, 'depth': 12, 'boosting_type': 'Plain', 'bootstrap_type': 'Bayesian', 'bagging_temperature': 8.176399889879884}. Best is trial 44 with value: 0.8595505617977528.\u001b[0m\n",
      "\u001b[32m[I 2021-10-03 13:12:01,239]\u001b[0m Trial 74 finished with value: 0.8314606741573034 and parameters: {'objective': 'Logloss', 'colsample_bylevel': 0.09953495552958155, 'depth': 5, 'boosting_type': 'Plain', 'bootstrap_type': 'Bayesian', 'bagging_temperature': 2.844514861355645}. Best is trial 44 with value: 0.8595505617977528.\u001b[0m\n",
      "\u001b[32m[I 2021-10-03 13:12:03,417]\u001b[0m Trial 75 finished with value: 0.8426966292134831 and parameters: {'objective': 'CrossEntropy', 'colsample_bylevel': 0.09561376224623616, 'depth': 9, 'boosting_type': 'Plain', 'bootstrap_type': 'Bayesian', 'bagging_temperature': 5.008749978987725}. Best is trial 44 with value: 0.8595505617977528.\u001b[0m\n",
      "\u001b[32m[I 2021-10-03 13:12:05,604]\u001b[0m Trial 76 finished with value: 0.8370786516853933 and parameters: {'objective': 'CrossEntropy', 'colsample_bylevel': 0.0873303679550915, 'depth': 10, 'boosting_type': 'Plain', 'bootstrap_type': 'Bayesian', 'bagging_temperature': 5.239483255871262}. Best is trial 44 with value: 0.8595505617977528.\u001b[0m\n",
      "\u001b[32m[I 2021-10-03 13:12:07,956]\u001b[0m Trial 77 finished with value: 0.8202247191011236 and parameters: {'objective': 'Logloss', 'colsample_bylevel': 0.09088394569535795, 'depth': 3, 'boosting_type': 'Plain', 'bootstrap_type': 'Bayesian', 'bagging_temperature': 7.869835231215374}. Best is trial 44 with value: 0.8595505617977528.\u001b[0m\n",
      "\u001b[32m[I 2021-10-03 13:12:10,308]\u001b[0m Trial 78 finished with value: 0.8426966292134831 and parameters: {'objective': 'CrossEntropy', 'colsample_bylevel': 0.05658080366686344, 'depth': 10, 'boosting_type': 'Plain', 'bootstrap_type': 'Bayesian', 'bagging_temperature': 4.719267255455602}. Best is trial 44 with value: 0.8595505617977528.\u001b[0m\n",
      "\u001b[32m[I 2021-10-03 13:12:12,564]\u001b[0m Trial 79 finished with value: 0.8426966292134831 and parameters: {'objective': 'CrossEntropy', 'colsample_bylevel': 0.08603073440099701, 'depth': 9, 'boosting_type': 'Plain', 'bootstrap_type': 'Bayesian', 'bagging_temperature': 3.7864387858236337}. Best is trial 44 with value: 0.8595505617977528.\u001b[0m\n",
      "\u001b[32m[I 2021-10-03 13:12:20,759]\u001b[0m Trial 80 finished with value: 0.8146067415730337 and parameters: {'objective': 'CrossEntropy', 'colsample_bylevel': 0.08832207040508272, 'depth': 8, 'boosting_type': 'Ordered', 'bootstrap_type': 'Bayesian', 'bagging_temperature': 6.3642986529424075}. Best is trial 44 with value: 0.8595505617977528.\u001b[0m\n",
      "\u001b[32m[I 2021-10-03 13:12:23,001]\u001b[0m Trial 81 finished with value: 0.8539325842696629 and parameters: {'objective': 'CrossEntropy', 'colsample_bylevel': 0.09253415695333181, 'depth': 9, 'boosting_type': 'Plain', 'bootstrap_type': 'Bayesian', 'bagging_temperature': 4.524167920212667}. Best is trial 44 with value: 0.8595505617977528.\u001b[0m\n",
      "\u001b[32m[I 2021-10-03 13:12:25,195]\u001b[0m Trial 82 finished with value: 0.8258426966292135 and parameters: {'objective': 'CrossEntropy', 'colsample_bylevel': 0.06519459795419157, 'depth': 10, 'boosting_type': 'Plain', 'bootstrap_type': 'Bayesian', 'bagging_temperature': 3.3013536817991476}. Best is trial 44 with value: 0.8595505617977528.\u001b[0m\n",
      "\u001b[32m[I 2021-10-03 13:12:27,539]\u001b[0m Trial 83 finished with value: 0.8539325842696629 and parameters: {'objective': 'CrossEntropy', 'colsample_bylevel': 0.09281131419407249, 'depth': 9, 'boosting_type': 'Plain', 'bootstrap_type': 'Bayesian', 'bagging_temperature': 4.547495707685675}. Best is trial 44 with value: 0.8595505617977528.\u001b[0m\n",
      "\u001b[32m[I 2021-10-03 13:12:29,589]\u001b[0m Trial 84 finished with value: 0.8426966292134831 and parameters: {'objective': 'CrossEntropy', 'colsample_bylevel': 0.09298534646402104, 'depth': 9, 'boosting_type': 'Plain', 'bootstrap_type': 'Bayesian', 'bagging_temperature': 4.52287920588251}. Best is trial 44 with value: 0.8595505617977528.\u001b[0m\n",
      "\u001b[32m[I 2021-10-03 13:12:31,500]\u001b[0m Trial 85 finished with value: 0.848314606741573 and parameters: {'objective': 'CrossEntropy', 'colsample_bylevel': 0.09177055597519786, 'depth': 8, 'boosting_type': 'Plain', 'bootstrap_type': 'Bayesian', 'bagging_temperature': 5.444296933151829}. Best is trial 44 with value: 0.8595505617977528.\u001b[0m\n",
      "\u001b[32m[I 2021-10-03 13:12:33,316]\u001b[0m Trial 86 finished with value: 0.8314606741573034 and parameters: {'objective': 'CrossEntropy', 'colsample_bylevel': 0.08258183399106182, 'depth': 9, 'boosting_type': 'Plain', 'bootstrap_type': 'MVS'}. Best is trial 44 with value: 0.8595505617977528.\u001b[0m\n",
      "\u001b[32m[I 2021-10-03 13:12:35,259]\u001b[0m Trial 87 finished with value: 0.8539325842696629 and parameters: {'objective': 'CrossEntropy', 'colsample_bylevel': 0.09773779398889643, 'depth': 9, 'boosting_type': 'Plain', 'bootstrap_type': 'Bayesian', 'bagging_temperature': 3.648716338987519}. Best is trial 44 with value: 0.8595505617977528.\u001b[0m\n",
      "\u001b[32m[I 2021-10-03 13:12:37,460]\u001b[0m Trial 88 finished with value: 0.8426966292134831 and parameters: {'objective': 'CrossEntropy', 'colsample_bylevel': 0.09728292394751707, 'depth': 9, 'boosting_type': 'Plain', 'bootstrap_type': 'Bayesian', 'bagging_temperature': 4.819278742831864}. Best is trial 44 with value: 0.8595505617977528.\u001b[0m\n",
      "\u001b[32m[I 2021-10-03 13:12:39,331]\u001b[0m Trial 89 finished with value: 0.8426966292134831 and parameters: {'objective': 'CrossEntropy', 'colsample_bylevel': 0.08923491812113579, 'depth': 8, 'boosting_type': 'Plain', 'bootstrap_type': 'Bayesian', 'bagging_temperature': 3.6921084364901247}. Best is trial 44 with value: 0.8595505617977528.\u001b[0m\n",
      "\u001b[32m[I 2021-10-03 13:12:41,333]\u001b[0m Trial 90 finished with value: 0.8314606741573034 and parameters: {'objective': 'CrossEntropy', 'colsample_bylevel': 0.050604736393100425, 'depth': 11, 'boosting_type': 'Plain', 'bootstrap_type': 'Bayesian', 'bagging_temperature': 6.106666549321574}. Best is trial 44 with value: 0.8595505617977528.\u001b[0m\n",
      "\u001b[32m[I 2021-10-03 13:12:43,446]\u001b[0m Trial 91 finished with value: 0.8370786516853933 and parameters: {'objective': 'CrossEntropy', 'colsample_bylevel': 0.09759464166607701, 'depth': 9, 'boosting_type': 'Plain', 'bootstrap_type': 'Bayesian', 'bagging_temperature': 4.179339241607835}. Best is trial 44 with value: 0.8595505617977528.\u001b[0m\n",
      "\u001b[32m[I 2021-10-03 13:12:46,337]\u001b[0m Trial 92 finished with value: 0.8426966292134831 and parameters: {'objective': 'CrossEntropy', 'colsample_bylevel': 0.09425699170186624, 'depth': 9, 'boosting_type': 'Plain', 'bootstrap_type': 'Bayesian', 'bagging_temperature': 5.172033348607753}. Best is trial 44 with value: 0.8595505617977528.\u001b[0m\n",
      "\u001b[32m[I 2021-10-03 13:12:48,761]\u001b[0m Trial 93 finished with value: 0.8539325842696629 and parameters: {'objective': 'CrossEntropy', 'colsample_bylevel': 0.0856401897900808, 'depth': 10, 'boosting_type': 'Plain', 'bootstrap_type': 'Bayesian', 'bagging_temperature': 4.54575081407767}. Best is trial 44 with value: 0.8595505617977528.\u001b[0m\n",
      "\u001b[32m[I 2021-10-03 13:12:50,935]\u001b[0m Trial 94 finished with value: 0.8370786516853933 and parameters: {'objective': 'CrossEntropy', 'colsample_bylevel': 0.0849621110285082, 'depth': 8, 'boosting_type': 'Plain', 'bootstrap_type': 'Bayesian', 'bagging_temperature': 4.552530046443738}. Best is trial 44 with value: 0.8595505617977528.\u001b[0m\n",
      "\u001b[32m[I 2021-10-03 13:12:53,166]\u001b[0m Trial 95 finished with value: 0.8370786516853933 and parameters: {'objective': 'CrossEntropy', 'colsample_bylevel': 0.09063977028528543, 'depth': 10, 'boosting_type': 'Plain', 'bootstrap_type': 'Bayesian', 'bagging_temperature': 3.9483203232277178}. Best is trial 44 with value: 0.8595505617977528.\u001b[0m\n",
      "\u001b[32m[I 2021-10-03 13:12:55,745]\u001b[0m Trial 96 finished with value: 0.8426966292134831 and parameters: {'objective': 'CrossEntropy', 'colsample_bylevel': 0.07923486946277104, 'depth': 10, 'boosting_type': 'Plain', 'bootstrap_type': 'Bernoulli', 'subsample': 0.9574837753285659}. Best is trial 44 with value: 0.8595505617977528.\u001b[0m\n",
      "\u001b[32m[I 2021-10-03 13:12:57,928]\u001b[0m Trial 97 finished with value: 0.848314606741573 and parameters: {'objective': 'CrossEntropy', 'colsample_bylevel': 0.08738902574268473, 'depth': 10, 'boosting_type': 'Plain', 'bootstrap_type': 'Bayesian', 'bagging_temperature': 5.689562210663122}. Best is trial 44 with value: 0.8595505617977528.\u001b[0m\n",
      "\u001b[32m[I 2021-10-03 13:13:05,551]\u001b[0m Trial 98 finished with value: 0.8258426966292135 and parameters: {'objective': 'CrossEntropy', 'colsample_bylevel': 0.09275540377567147, 'depth': 7, 'boosting_type': 'Ordered', 'bootstrap_type': 'Bayesian', 'bagging_temperature': 4.953454134816027}. Best is trial 44 with value: 0.8595505617977528.\u001b[0m\n",
      "\u001b[32m[I 2021-10-03 13:13:07,595]\u001b[0m Trial 99 finished with value: 0.848314606741573 and parameters: {'objective': 'Logloss', 'colsample_bylevel': 0.09460455098716186, 'depth': 9, 'boosting_type': 'Plain', 'bootstrap_type': 'Bayesian', 'bagging_temperature': 4.351785277822695}. Best is trial 44 with value: 0.8595505617977528.\u001b[0m\n",
      "Number of finished trials: 100\n",
      "Best trial:\n",
      "  Value: 0.8595505617977528\n",
      "  Params: \n",
      "    objective: Logloss\n",
      "    colsample_bylevel: 0.09069460391268805\n",
      "    depth: 9\n",
      "    boosting_type: Plain\n",
      "    bootstrap_type: Bayesian\n",
      "    bagging_temperature: 4.463040845533523\n"
     ]
    }
   ],
   "source": [
    "#optuna catboost example\n",
    "#https://github.com/optuna/optuna-examples/blob/main/catboost/catboost_simple.py\n",
    "import catboost as cb\n",
    "def objective(trial):\n",
    "    param = {\n",
    "        \"objective\": trial.suggest_categorical(\"objective\", [\"Logloss\", \"CrossEntropy\"]),\n",
    "        \"colsample_bylevel\": trial.suggest_float(\"colsample_bylevel\", 0.01, 0.1),\n",
    "        \"depth\": trial.suggest_int(\"depth\", 1, 12),\n",
    "        \"boosting_type\": trial.suggest_categorical(\"boosting_type\", [\"Ordered\", \"Plain\"]),\n",
    "        \"bootstrap_type\": trial.suggest_categorical(\n",
    "            \"bootstrap_type\", [\"Bayesian\", \"Bernoulli\", \"MVS\"]\n",
    "        ),\n",
    "        \"used_ram_limit\": \"3gb\",\n",
    "    }\n",
    "\n",
    "    if param[\"bootstrap_type\"] == \"Bayesian\":\n",
    "        param[\"bagging_temperature\"] = trial.suggest_float(\"bagging_temperature\", 0, 10)\n",
    "    elif param[\"bootstrap_type\"] == \"Bernoulli\":\n",
    "        param[\"subsample\"] = trial.suggest_float(\"subsample\", 0.1, 1)\n",
    "\n",
    "    for i in range(5):\n",
    "        train_x = train.query(f'fold!={i}').drop(['fold', 'Survived'], axis=1)\n",
    "        train_y = train.query(f'fold!={i}').Survived\n",
    "\n",
    "        valid_x = train.query(f'fold=={i}').drop(['fold', 'Survived'], axis=1)\n",
    "        valid_y = train.query(f'fold=={i}').Survived\n",
    "        \n",
    "        #save the five fold accuracy\n",
    "        accuracy = []\n",
    "        \n",
    "        gbm = cb.CatBoostClassifier(**param)\n",
    "        gbm.fit(train_x, train_y, eval_set=[(valid_x, valid_y)], verbose=0, early_stopping_rounds=100)\n",
    "        preds = gbm.predict(valid_x)\n",
    "        pred_labels = np.rint(preds)\n",
    "        accuracy.append(accuracy_score(valid_y, pred_labels))\n",
    "        \n",
    "        #save the best model for each fold \n",
    "        joblib.dump(gbm, f'catboost_fold{i}.pkl')\n",
    "    return np.mean(accuracy)\n",
    "\n",
    "if __name__ == \"__main__\":\n",
    "    study = optuna.create_study(direction=\"maximize\")\n",
    "    study.optimize(objective, n_trials=100, timeout=600)\n",
    "\n",
    "    print(\"Number of finished trials: {}\".format(len(study.trials)))\n",
    "\n",
    "    print(\"Best trial:\")\n",
    "    trial = study.best_trial\n",
    "\n",
    "    print(\"  Value: {}\".format(trial.value))\n",
    "\n",
    "    print(\"  Params: \")\n",
    "    for key, value in trial.params.items():\n",
    "        print(\"    {}: {}\".format(key, value))"
   ]
  },
  {
   "cell_type": "markdown",
   "metadata": {
    "cell_id": "00060-17e9db58-ae46-4888-bd4b-ac3601e88d03",
    "deepnote_cell_type": "text-cell-p",
    "is_collapsed": false,
    "tags": []
   },
   "source": []
  },
  {
   "cell_type": "markdown",
   "metadata": {
    "cell_id": "00052-d950e938-9f79-4e37-aa07-4ef37dfb5242",
    "deepnote_cell_type": "markdown",
    "id": "v4d2_k5xL8Lk"
   },
   "source": [
    "## Ensemble lgb and xgboost"
   ]
  },
  {
   "cell_type": "code",
   "execution_count": null,
   "metadata": {
    "cell_id": "00053-ba98df56-25bd-4039-998b-ef69da6769dc",
    "deepnote_cell_type": "code",
    "deepnote_to_be_reexecuted": false,
    "execution_millis": 4,
    "execution_start": 1633266787649,
    "id": "Q7cd-wmrL8Lk",
    "source_hash": "f3eb278a"
   },
   "outputs": [],
   "source": [
    "X_train = train.drop(['Survived', 'fold'], axis=1).values\n",
    "y_train = train[['Survived']].values"
   ]
  },
  {
   "cell_type": "code",
   "execution_count": null,
   "metadata": {
    "cell_id": "00054-6642aa25-0181-45c0-b91d-01f193d024d2",
    "deepnote_cell_type": "code",
    "deepnote_to_be_reexecuted": false,
    "execution_millis": 0,
    "execution_start": 1633266787658,
    "id": "kP-m4G0lL8Ll",
    "source_hash": "286e5f26"
   },
   "outputs": [],
   "source": [
    "test2 = test.drop(['Survived', 'fold'], axis=1).values"
   ]
  },
  {
   "cell_type": "code",
   "execution_count": null,
   "metadata": {
    "cell_id": "00074-2c5d7085-a465-44a6-96df-48d275e16b4f",
    "deepnote_cell_type": "code",
    "deepnote_to_be_reexecuted": true,
    "execution_millis": 99,
    "execution_start": 1633265334600,
    "source_hash": "b623e53d",
    "tags": []
   },
   "outputs": [
    {
     "data": {
      "application/vnd.deepnote.dataframe.v2+json": {
       "column_count": 18,
       "columns": [
        {
         "dtype": "float64",
         "name": "Survived",
         "stats": {
          "histogram": [
           {
            "bin_end": 0.1,
            "bin_start": 0,
            "count": 0
           },
           {
            "bin_end": 0.2,
            "bin_start": 0.1,
            "count": 0
           },
           {
            "bin_end": 0.30000000000000004,
            "bin_start": 0.2,
            "count": 0
           },
           {
            "bin_end": 0.4,
            "bin_start": 0.30000000000000004,
            "count": 0
           },
           {
            "bin_end": 0.5,
            "bin_start": 0.4,
            "count": 0
           },
           {
            "bin_end": 0.6000000000000001,
            "bin_start": 0.5,
            "count": 0
           },
           {
            "bin_end": 0.7000000000000001,
            "bin_start": 0.6000000000000001,
            "count": 0
           },
           {
            "bin_end": 0.8,
            "bin_start": 0.7000000000000001,
            "count": 0
           },
           {
            "bin_end": 0.9,
            "bin_start": 0.8,
            "count": 0
           },
           {
            "bin_end": 1,
            "bin_start": 0.9,
            "count": 0
           }
          ],
          "max": null,
          "min": null,
          "nan_count": 418,
          "unique_count": 0
         }
        },
        {
         "dtype": "int64",
         "name": "Pclass",
         "stats": {
          "histogram": [
           {
            "bin_end": 1.2,
            "bin_start": 1,
            "count": 107
           },
           {
            "bin_end": 1.4,
            "bin_start": 1.2,
            "count": 0
           },
           {
            "bin_end": 1.6,
            "bin_start": 1.4,
            "count": 0
           },
           {
            "bin_end": 1.8,
            "bin_start": 1.6,
            "count": 0
           },
           {
            "bin_end": 2,
            "bin_start": 1.8,
            "count": 0
           },
           {
            "bin_end": 2.2,
            "bin_start": 2,
            "count": 93
           },
           {
            "bin_end": 2.4000000000000004,
            "bin_start": 2.2,
            "count": 0
           },
           {
            "bin_end": 2.6,
            "bin_start": 2.4000000000000004,
            "count": 0
           },
           {
            "bin_end": 2.8,
            "bin_start": 2.6,
            "count": 0
           },
           {
            "bin_end": 3,
            "bin_start": 2.8,
            "count": 218
           }
          ],
          "max": "3",
          "min": "1",
          "nan_count": 0,
          "unique_count": 3
         }
        },
        {
         "dtype": "int64",
         "name": "Sex",
         "stats": {
          "histogram": [
           {
            "bin_end": 0.1,
            "bin_start": 0,
            "count": 152
           },
           {
            "bin_end": 0.2,
            "bin_start": 0.1,
            "count": 0
           },
           {
            "bin_end": 0.30000000000000004,
            "bin_start": 0.2,
            "count": 0
           },
           {
            "bin_end": 0.4,
            "bin_start": 0.30000000000000004,
            "count": 0
           },
           {
            "bin_end": 0.5,
            "bin_start": 0.4,
            "count": 0
           },
           {
            "bin_end": 0.6000000000000001,
            "bin_start": 0.5,
            "count": 0
           },
           {
            "bin_end": 0.7000000000000001,
            "bin_start": 0.6000000000000001,
            "count": 0
           },
           {
            "bin_end": 0.8,
            "bin_start": 0.7000000000000001,
            "count": 0
           },
           {
            "bin_end": 0.9,
            "bin_start": 0.8,
            "count": 0
           },
           {
            "bin_end": 1,
            "bin_start": 0.9,
            "count": 266
           }
          ],
          "max": "1",
          "min": "0",
          "nan_count": 0,
          "unique_count": 2
         }
        },
        {
         "dtype": "int64",
         "name": "Age",
         "stats": {
          "histogram": [
           {
            "bin_end": 1.9,
            "bin_start": 0,
            "count": 54
           },
           {
            "bin_end": 3.8,
            "bin_start": 1.9,
            "count": 34
           },
           {
            "bin_end": 5.699999999999999,
            "bin_start": 3.8,
            "count": 45
           },
           {
            "bin_end": 7.6,
            "bin_start": 5.699999999999999,
            "count": 40
           },
           {
            "bin_end": 9.5,
            "bin_start": 7.6,
            "count": 84
           },
           {
            "bin_end": 11.399999999999999,
            "bin_start": 9.5,
            "count": 0
           },
           {
            "bin_end": 13.299999999999999,
            "bin_start": 11.399999999999999,
            "count": 40
           },
           {
            "bin_end": 15.2,
            "bin_start": 13.299999999999999,
            "count": 39
           },
           {
            "bin_end": 17.099999999999998,
            "bin_start": 15.2,
            "count": 43
           },
           {
            "bin_end": 19,
            "bin_start": 17.099999999999998,
            "count": 39
           }
          ],
          "max": "19",
          "min": "0",
          "nan_count": 0,
          "unique_count": 10
         }
        },
        {
         "dtype": "int64",
         "name": "Ticket",
         "stats": {
          "histogram": [
           {
            "bin_end": 0.3,
            "bin_start": 0,
            "count": 27
           },
           {
            "bin_end": 0.6,
            "bin_start": 0.3,
            "count": 0
           },
           {
            "bin_end": 0.8999999999999999,
            "bin_start": 0.6,
            "count": 0
           },
           {
            "bin_end": 1.2,
            "bin_start": 0.8999999999999999,
            "count": 63
           },
           {
            "bin_end": 1.5,
            "bin_start": 1.2,
            "count": 0
           },
           {
            "bin_end": 1.7999999999999998,
            "bin_start": 1.5,
            "count": 0
           },
           {
            "bin_end": 2.1,
            "bin_start": 1.7999999999999998,
            "count": 296
           },
           {
            "bin_end": 2.4,
            "bin_start": 2.1,
            "count": 0
           },
           {
            "bin_end": 2.6999999999999997,
            "bin_start": 2.4,
            "count": 0
           },
           {
            "bin_end": 3,
            "bin_start": 2.6999999999999997,
            "count": 32
           }
          ],
          "max": "3",
          "min": "0",
          "nan_count": 0,
          "unique_count": 4
         }
        },
        {
         "dtype": "int64",
         "name": "Fare",
         "stats": {
          "histogram": [
           {
            "bin_end": 2.7,
            "bin_start": 1,
            "count": 42
           },
           {
            "bin_end": 4.4,
            "bin_start": 2.7,
            "count": 94
           },
           {
            "bin_end": 6.1,
            "bin_start": 4.4,
            "count": 0
           },
           {
            "bin_end": 7.8,
            "bin_start": 6.1,
            "count": 31
           },
           {
            "bin_end": 9.5,
            "bin_start": 7.8,
            "count": 43
           },
           {
            "bin_end": 11.2,
            "bin_start": 9.5,
            "count": 83
           },
           {
            "bin_end": 12.9,
            "bin_start": 11.2,
            "count": 0
           },
           {
            "bin_end": 14.6,
            "bin_start": 12.9,
            "count": 41
           },
           {
            "bin_end": 16.299999999999997,
            "bin_start": 14.6,
            "count": 43
           },
           {
            "bin_end": 18,
            "bin_start": 16.299999999999997,
            "count": 41
           }
          ],
          "max": "18",
          "min": "1",
          "nan_count": 0,
          "unique_count": 10
         }
        },
        {
         "dtype": "int64",
         "name": "Cabin",
         "stats": {
          "histogram": [
           {
            "bin_end": 0.5,
            "bin_start": 0,
            "count": 18
           },
           {
            "bin_end": 1,
            "bin_start": 0.5,
            "count": 0
           },
           {
            "bin_end": 1.5,
            "bin_start": 1,
            "count": 35
           },
           {
            "bin_end": 2,
            "bin_start": 1.5,
            "count": 0
           },
           {
            "bin_end": 2.5,
            "bin_start": 2,
            "count": 13
           },
           {
            "bin_end": 3,
            "bin_start": 2.5,
            "count": 0
           },
           {
            "bin_end": 3.5,
            "bin_start": 3,
            "count": 9
           },
           {
            "bin_end": 4,
            "bin_start": 3.5,
            "count": 0
           },
           {
            "bin_end": 4.5,
            "bin_start": 4,
            "count": 327
           },
           {
            "bin_end": 5,
            "bin_start": 4.5,
            "count": 16
           }
          ],
          "max": "5",
          "min": "0",
          "nan_count": 0,
          "unique_count": 6
         }
        },
        {
         "dtype": "int64",
         "name": "Embarked",
         "stats": {
          "histogram": [
           {
            "bin_end": 0.2,
            "bin_start": 0,
            "count": 102
           },
           {
            "bin_end": 0.4,
            "bin_start": 0.2,
            "count": 0
           },
           {
            "bin_end": 0.6000000000000001,
            "bin_start": 0.4,
            "count": 0
           },
           {
            "bin_end": 0.8,
            "bin_start": 0.6000000000000001,
            "count": 0
           },
           {
            "bin_end": 1,
            "bin_start": 0.8,
            "count": 0
           },
           {
            "bin_end": 1.2000000000000002,
            "bin_start": 1,
            "count": 46
           },
           {
            "bin_end": 1.4000000000000001,
            "bin_start": 1.2000000000000002,
            "count": 0
           },
           {
            "bin_end": 1.6,
            "bin_start": 1.4000000000000001,
            "count": 0
           },
           {
            "bin_end": 1.8,
            "bin_start": 1.6,
            "count": 0
           },
           {
            "bin_end": 2,
            "bin_start": 1.8,
            "count": 270
           }
          ],
          "max": "2",
          "min": "0",
          "nan_count": 0,
          "unique_count": 3
         }
        },
        {
         "dtype": "float64",
         "name": "fold",
         "stats": {
          "histogram": [
           {
            "bin_end": 0.1,
            "bin_start": 0,
            "count": 0
           },
           {
            "bin_end": 0.2,
            "bin_start": 0.1,
            "count": 0
           },
           {
            "bin_end": 0.30000000000000004,
            "bin_start": 0.2,
            "count": 0
           },
           {
            "bin_end": 0.4,
            "bin_start": 0.30000000000000004,
            "count": 0
           },
           {
            "bin_end": 0.5,
            "bin_start": 0.4,
            "count": 0
           },
           {
            "bin_end": 0.6000000000000001,
            "bin_start": 0.5,
            "count": 0
           },
           {
            "bin_end": 0.7000000000000001,
            "bin_start": 0.6000000000000001,
            "count": 0
           },
           {
            "bin_end": 0.8,
            "bin_start": 0.7000000000000001,
            "count": 0
           },
           {
            "bin_end": 0.9,
            "bin_start": 0.8,
            "count": 0
           },
           {
            "bin_end": 1,
            "bin_start": 0.9,
            "count": 0
           }
          ],
          "max": null,
          "min": null,
          "nan_count": 418,
          "unique_count": 0
         }
        },
        {
         "dtype": "float64",
         "name": "Family_size",
         "stats": {
          "histogram": [
           {
            "bin_end": 0.2,
            "bin_start": 0,
            "count": 384
           },
           {
            "bin_end": 0.4,
            "bin_start": 0.2,
            "count": 0
           },
           {
            "bin_end": 0.6000000000000001,
            "bin_start": 0.4,
            "count": 0
           },
           {
            "bin_end": 0.8,
            "bin_start": 0.6000000000000001,
            "count": 0
           },
           {
            "bin_end": 1,
            "bin_start": 0.8,
            "count": 0
           },
           {
            "bin_end": 1.2000000000000002,
            "bin_start": 1,
            "count": 21
           },
           {
            "bin_end": 1.4000000000000001,
            "bin_start": 1.2000000000000002,
            "count": 0
           },
           {
            "bin_end": 1.6,
            "bin_start": 1.4000000000000001,
            "count": 0
           },
           {
            "bin_end": 1.8,
            "bin_start": 1.6,
            "count": 0
           },
           {
            "bin_end": 2,
            "bin_start": 1.8,
            "count": 13
           }
          ],
          "max": "2.0",
          "min": "0.0",
          "nan_count": 0,
          "unique_count": 3
         }
        },
        {
         "dtype": "int64",
         "name": "Cabin Num",
         "stats": {
          "histogram": [
           {
            "bin_end": 10.3,
            "bin_start": 0,
            "count": 341
           },
           {
            "bin_end": 20.6,
            "bin_start": 10.3,
            "count": 7
           },
           {
            "bin_end": 30.900000000000002,
            "bin_start": 20.6,
            "count": 13
           },
           {
            "bin_end": 41.2,
            "bin_start": 30.900000000000002,
            "count": 13
           },
           {
            "bin_end": 51.5,
            "bin_start": 41.2,
            "count": 13
           },
           {
            "bin_end": 61.800000000000004,
            "bin_start": 51.5,
            "count": 11
           },
           {
            "bin_end": 72.10000000000001,
            "bin_start": 61.800000000000004,
            "count": 7
           },
           {
            "bin_end": 82.4,
            "bin_start": 72.10000000000001,
            "count": 4
           },
           {
            "bin_end": 92.7,
            "bin_start": 82.4,
            "count": 5
           },
           {
            "bin_end": 103,
            "bin_start": 92.7,
            "count": 4
           }
          ],
          "max": "103",
          "min": "0",
          "nan_count": 0,
          "unique_count": 58
         }
        },
        {
         "dtype": "uint8",
         "name": "title_Dr",
         "stats": {
          "histogram": [
           {
            "bin_end": 0.1,
            "bin_start": 0,
            "count": 417
           },
           {
            "bin_end": 0.2,
            "bin_start": 0.1,
            "count": 0
           },
           {
            "bin_end": 0.30000000000000004,
            "bin_start": 0.2,
            "count": 0
           },
           {
            "bin_end": 0.4,
            "bin_start": 0.30000000000000004,
            "count": 0
           },
           {
            "bin_end": 0.5,
            "bin_start": 0.4,
            "count": 0
           },
           {
            "bin_end": 0.6000000000000001,
            "bin_start": 0.5,
            "count": 0
           },
           {
            "bin_end": 0.7000000000000001,
            "bin_start": 0.6000000000000001,
            "count": 0
           },
           {
            "bin_end": 0.8,
            "bin_start": 0.7000000000000001,
            "count": 0
           },
           {
            "bin_end": 0.9,
            "bin_start": 0.8,
            "count": 0
           },
           {
            "bin_end": 1,
            "bin_start": 0.9,
            "count": 1
           }
          ],
          "max": "1",
          "min": "0",
          "nan_count": 0,
          "unique_count": 2
         }
        },
        {
         "dtype": "uint8",
         "name": "title_ELSE",
         "stats": {
          "histogram": [
           {
            "bin_end": 0.1,
            "bin_start": 0,
            "count": 414
           },
           {
            "bin_end": 0.2,
            "bin_start": 0.1,
            "count": 0
           },
           {
            "bin_end": 0.30000000000000004,
            "bin_start": 0.2,
            "count": 0
           },
           {
            "bin_end": 0.4,
            "bin_start": 0.30000000000000004,
            "count": 0
           },
           {
            "bin_end": 0.5,
            "bin_start": 0.4,
            "count": 0
           },
           {
            "bin_end": 0.6000000000000001,
            "bin_start": 0.5,
            "count": 0
           },
           {
            "bin_end": 0.7000000000000001,
            "bin_start": 0.6000000000000001,
            "count": 0
           },
           {
            "bin_end": 0.8,
            "bin_start": 0.7000000000000001,
            "count": 0
           },
           {
            "bin_end": 0.9,
            "bin_start": 0.8,
            "count": 0
           },
           {
            "bin_end": 1,
            "bin_start": 0.9,
            "count": 4
           }
          ],
          "max": "1",
          "min": "0",
          "nan_count": 0,
          "unique_count": 2
         }
        },
        {
         "dtype": "uint8",
         "name": "title_Master",
         "stats": {
          "histogram": [
           {
            "bin_end": 0.1,
            "bin_start": 0,
            "count": 397
           },
           {
            "bin_end": 0.2,
            "bin_start": 0.1,
            "count": 0
           },
           {
            "bin_end": 0.30000000000000004,
            "bin_start": 0.2,
            "count": 0
           },
           {
            "bin_end": 0.4,
            "bin_start": 0.30000000000000004,
            "count": 0
           },
           {
            "bin_end": 0.5,
            "bin_start": 0.4,
            "count": 0
           },
           {
            "bin_end": 0.6000000000000001,
            "bin_start": 0.5,
            "count": 0
           },
           {
            "bin_end": 0.7000000000000001,
            "bin_start": 0.6000000000000001,
            "count": 0
           },
           {
            "bin_end": 0.8,
            "bin_start": 0.7000000000000001,
            "count": 0
           },
           {
            "bin_end": 0.9,
            "bin_start": 0.8,
            "count": 0
           },
           {
            "bin_end": 1,
            "bin_start": 0.9,
            "count": 21
           }
          ],
          "max": "1",
          "min": "0",
          "nan_count": 0,
          "unique_count": 2
         }
        },
        {
         "dtype": "uint8",
         "name": "title_Miss",
         "stats": {
          "histogram": [
           {
            "bin_end": 0.1,
            "bin_start": 0,
            "count": 340
           },
           {
            "bin_end": 0.2,
            "bin_start": 0.1,
            "count": 0
           },
           {
            "bin_end": 0.30000000000000004,
            "bin_start": 0.2,
            "count": 0
           },
           {
            "bin_end": 0.4,
            "bin_start": 0.30000000000000004,
            "count": 0
           },
           {
            "bin_end": 0.5,
            "bin_start": 0.4,
            "count": 0
           },
           {
            "bin_end": 0.6000000000000001,
            "bin_start": 0.5,
            "count": 0
           },
           {
            "bin_end": 0.7000000000000001,
            "bin_start": 0.6000000000000001,
            "count": 0
           },
           {
            "bin_end": 0.8,
            "bin_start": 0.7000000000000001,
            "count": 0
           },
           {
            "bin_end": 0.9,
            "bin_start": 0.8,
            "count": 0
           },
           {
            "bin_end": 1,
            "bin_start": 0.9,
            "count": 78
           }
          ],
          "max": "1",
          "min": "0",
          "nan_count": 0,
          "unique_count": 2
         }
        },
        {
         "dtype": "uint8",
         "name": "title_Mr",
         "stats": {
          "histogram": [
           {
            "bin_end": 0.1,
            "bin_start": 0,
            "count": 178
           },
           {
            "bin_end": 0.2,
            "bin_start": 0.1,
            "count": 0
           },
           {
            "bin_end": 0.30000000000000004,
            "bin_start": 0.2,
            "count": 0
           },
           {
            "bin_end": 0.4,
            "bin_start": 0.30000000000000004,
            "count": 0
           },
           {
            "bin_end": 0.5,
            "bin_start": 0.4,
            "count": 0
           },
           {
            "bin_end": 0.6000000000000001,
            "bin_start": 0.5,
            "count": 0
           },
           {
            "bin_end": 0.7000000000000001,
            "bin_start": 0.6000000000000001,
            "count": 0
           },
           {
            "bin_end": 0.8,
            "bin_start": 0.7000000000000001,
            "count": 0
           },
           {
            "bin_end": 0.9,
            "bin_start": 0.8,
            "count": 0
           },
           {
            "bin_end": 1,
            "bin_start": 0.9,
            "count": 240
           }
          ],
          "max": "1",
          "min": "0",
          "nan_count": 0,
          "unique_count": 2
         }
        },
        {
         "dtype": "uint8",
         "name": "title_Mrs",
         "stats": {
          "histogram": [
           {
            "bin_end": 0.1,
            "bin_start": 0,
            "count": 346
           },
           {
            "bin_end": 0.2,
            "bin_start": 0.1,
            "count": 0
           },
           {
            "bin_end": 0.30000000000000004,
            "bin_start": 0.2,
            "count": 0
           },
           {
            "bin_end": 0.4,
            "bin_start": 0.30000000000000004,
            "count": 0
           },
           {
            "bin_end": 0.5,
            "bin_start": 0.4,
            "count": 0
           },
           {
            "bin_end": 0.6000000000000001,
            "bin_start": 0.5,
            "count": 0
           },
           {
            "bin_end": 0.7000000000000001,
            "bin_start": 0.6000000000000001,
            "count": 0
           },
           {
            "bin_end": 0.8,
            "bin_start": 0.7000000000000001,
            "count": 0
           },
           {
            "bin_end": 0.9,
            "bin_start": 0.8,
            "count": 0
           },
           {
            "bin_end": 1,
            "bin_start": 0.9,
            "count": 72
           }
          ],
          "max": "1",
          "min": "0",
          "nan_count": 0,
          "unique_count": 2
         }
        },
        {
         "dtype": "uint8",
         "name": "title_Rev",
         "stats": {
          "histogram": [
           {
            "bin_end": 0.1,
            "bin_start": 0,
            "count": 416
           },
           {
            "bin_end": 0.2,
            "bin_start": 0.1,
            "count": 0
           },
           {
            "bin_end": 0.30000000000000004,
            "bin_start": 0.2,
            "count": 0
           },
           {
            "bin_end": 0.4,
            "bin_start": 0.30000000000000004,
            "count": 0
           },
           {
            "bin_end": 0.5,
            "bin_start": 0.4,
            "count": 0
           },
           {
            "bin_end": 0.6000000000000001,
            "bin_start": 0.5,
            "count": 0
           },
           {
            "bin_end": 0.7000000000000001,
            "bin_start": 0.6000000000000001,
            "count": 0
           },
           {
            "bin_end": 0.8,
            "bin_start": 0.7000000000000001,
            "count": 0
           },
           {
            "bin_end": 0.9,
            "bin_start": 0.8,
            "count": 0
           },
           {
            "bin_end": 1,
            "bin_start": 0.9,
            "count": 2
           }
          ],
          "max": "1",
          "min": "0",
          "nan_count": 0,
          "unique_count": 2
         }
        },
        {
         "dtype": "int64",
         "name": "_deepnote_index_column"
        }
       ],
       "row_count": 418,
       "rows_bottom": [
        {
         "Age": 5,
         "Cabin": 0,
         "Cabin Num": 22,
         "Embarked": 2,
         "Family_size": 0,
         "Fare": 18,
         "Pclass": 1,
         "Sex": 1,
         "Survived": "nan",
         "Ticket": 2,
         "_deepnote_index_column": 390,
         "fold": "nan",
         "title_Dr": 0,
         "title_ELSE": 0,
         "title_Master": 0,
         "title_Miss": 0,
         "title_Mr": 1,
         "title_Mrs": 0,
         "title_Rev": 0
        },
        {
         "Age": 19,
         "Cabin": 2,
         "Cabin Num": 25,
         "Embarked": 2,
         "Family_size": 0,
         "Fare": 13,
         "Pclass": 1,
         "Sex": 0,
         "Survived": "nan",
         "Ticket": 3,
         "_deepnote_index_column": 391,
         "fold": "nan",
         "title_Dr": 0,
         "title_ELSE": 0,
         "title_Master": 0,
         "title_Miss": 0,
         "title_Mr": 0,
         "title_Mrs": 1,
         "title_Rev": 0
        },
        {
         "Age": 0,
         "Cabin": 4,
         "Cabin Num": 0,
         "Embarked": 2,
         "Family_size": 0,
         "Fare": 10,
         "Pclass": 3,
         "Sex": 1,
         "Survived": "nan",
         "Ticket": 0,
         "_deepnote_index_column": 392,
         "fold": "nan",
         "title_Dr": 0,
         "title_ELSE": 0,
         "title_Master": 1,
         "title_Miss": 0,
         "title_Mr": 0,
         "title_Mrs": 0,
         "title_Rev": 0
        },
        {
         "Age": 16,
         "Cabin": 4,
         "Cabin Num": 0,
         "Embarked": 2,
         "Family_size": 0,
         "Fare": 7,
         "Pclass": 2,
         "Sex": 1,
         "Survived": "nan",
         "Ticket": 0,
         "_deepnote_index_column": 393,
         "fold": "nan",
         "title_Dr": 0,
         "title_ELSE": 0,
         "title_Master": 0,
         "title_Miss": 0,
         "title_Mr": 1,
         "title_Mrs": 0,
         "title_Rev": 0
        },
        {
         "Age": 9,
         "Cabin": 4,
         "Cabin Num": 0,
         "Embarked": 2,
         "Family_size": 1,
         "Fare": 11,
         "Pclass": 3,
         "Sex": 1,
         "Survived": "nan",
         "Ticket": 2,
         "_deepnote_index_column": 394,
         "fold": "nan",
         "title_Dr": 0,
         "title_ELSE": 0,
         "title_Master": 0,
         "title_Miss": 0,
         "title_Mr": 1,
         "title_Mrs": 0,
         "title_Rev": 0
        },
        {
         "Age": 0,
         "Cabin": 1,
         "Cabin Num": 28,
         "Embarked": 2,
         "Family_size": 0,
         "Fare": 16,
         "Pclass": 1,
         "Sex": 0,
         "Survived": "nan",
         "Ticket": 2,
         "_deepnote_index_column": 395,
         "fold": "nan",
         "title_Dr": 0,
         "title_ELSE": 0,
         "title_Master": 0,
         "title_Miss": 0,
         "title_Mr": 0,
         "title_Mrs": 1,
         "title_Rev": 0
        },
        {
         "Age": 7,
         "Cabin": 4,
         "Cabin Num": 0,
         "Embarked": 1,
         "Family_size": 0,
         "Fare": 1,
         "Pclass": 3,
         "Sex": 1,
         "Survived": "nan",
         "Ticket": 2,
         "_deepnote_index_column": 396,
         "fold": "nan",
         "title_Dr": 0,
         "title_ELSE": 0,
         "title_Master": 0,
         "title_Miss": 0,
         "title_Mr": 1,
         "title_Mrs": 0,
         "title_Rev": 0
        },
        {
         "Age": 16,
         "Cabin": 0,
         "Cabin Num": 38,
         "Embarked": 0,
         "Family_size": 0,
         "Fare": 16,
         "Pclass": 1,
         "Sex": 0,
         "Survived": "nan",
         "Ticket": 2,
         "_deepnote_index_column": 397,
         "fold": "nan",
         "title_Dr": 0,
         "title_ELSE": 0,
         "title_Master": 0,
         "title_Miss": 0,
         "title_Mr": 0,
         "title_Mrs": 1,
         "title_Rev": 0
        },
        {
         "Age": 5,
         "Cabin": 4,
         "Cabin Num": 0,
         "Embarked": 2,
         "Family_size": 0,
         "Fare": 3,
         "Pclass": 3,
         "Sex": 1,
         "Survived": "nan",
         "Ticket": 2,
         "_deepnote_index_column": 398,
         "fold": "nan",
         "title_Dr": 0,
         "title_ELSE": 0,
         "title_Master": 0,
         "title_Miss": 0,
         "title_Mr": 1,
         "title_Mrs": 0,
         "title_Rev": 0
        },
        {
         "Age": 12,
         "Cabin": 4,
         "Cabin Num": 0,
         "Embarked": 1,
         "Family_size": 0,
         "Fare": 3,
         "Pclass": 3,
         "Sex": 1,
         "Survived": "nan",
         "Ticket": 2,
         "_deepnote_index_column": 399,
         "fold": "nan",
         "title_Dr": 0,
         "title_ELSE": 0,
         "title_Master": 0,
         "title_Miss": 0,
         "title_Mr": 1,
         "title_Mrs": 0,
         "title_Rev": 0
        },
        {
         "Age": 12,
         "Cabin": 1,
         "Cabin Num": 6,
         "Embarked": 2,
         "Family_size": 0,
         "Fare": 18,
         "Pclass": 1,
         "Sex": 0,
         "Survived": "nan",
         "Ticket": 2,
         "_deepnote_index_column": 400,
         "fold": "nan",
         "title_Dr": 0,
         "title_ELSE": 0,
         "title_Master": 0,
         "title_Miss": 1,
         "title_Mr": 0,
         "title_Mrs": 0,
         "title_Rev": 0
        },
        {
         "Age": 14,
         "Cabin": 4,
         "Cabin Num": 0,
         "Embarked": 2,
         "Family_size": 0,
         "Fare": 10,
         "Pclass": 2,
         "Sex": 1,
         "Survived": "nan",
         "Ticket": 2,
         "_deepnote_index_column": 401,
         "fold": "nan",
         "title_Dr": 0,
         "title_ELSE": 0,
         "title_Master": 0,
         "title_Miss": 0,
         "title_Mr": 1,
         "title_Mrs": 0,
         "title_Rev": 0
        },
        {
         "Age": 5,
         "Cabin": 4,
         "Cabin Num": 0,
         "Embarked": 0,
         "Family_size": 0,
         "Fare": 16,
         "Pclass": 1,
         "Sex": 0,
         "Survived": "nan",
         "Ticket": 2,
         "_deepnote_index_column": 402,
         "fold": "nan",
         "title_Dr": 0,
         "title_ELSE": 0,
         "title_Master": 0,
         "title_Miss": 1,
         "title_Mr": 0,
         "title_Mrs": 0,
         "title_Rev": 0
        },
        {
         "Age": 0,
         "Cabin": 4,
         "Cabin Num": 0,
         "Embarked": 2,
         "Family_size": 0,
         "Fare": 16,
         "Pclass": 1,
         "Sex": 1,
         "Survived": "nan",
         "Ticket": 2,
         "_deepnote_index_column": 403,
         "fold": "nan",
         "title_Dr": 0,
         "title_ELSE": 0,
         "title_Master": 0,
         "title_Miss": 0,
         "title_Mr": 1,
         "title_Mrs": 0,
         "title_Rev": 0
        },
        {
         "Age": 16,
         "Cabin": 2,
         "Cabin Num": 37,
         "Embarked": 0,
         "Family_size": 0,
         "Fare": 13,
         "Pclass": 1,
         "Sex": 1,
         "Survived": "nan",
         "Ticket": 2,
         "_deepnote_index_column": 404,
         "fold": "nan",
         "title_Dr": 0,
         "title_ELSE": 0,
         "title_Master": 0,
         "title_Miss": 0,
         "title_Mr": 1,
         "title_Mrs": 0,
         "title_Rev": 0
        },
        {
         "Age": 3,
         "Cabin": 2,
         "Cabin Num": 35,
         "Embarked": 0,
         "Family_size": 0,
         "Fare": 9,
         "Pclass": 2,
         "Sex": 1,
         "Survived": "nan",
         "Ticket": 1,
         "_deepnote_index_column": 405,
         "fold": "nan",
         "title_Dr": 0,
         "title_ELSE": 0,
         "title_Master": 0,
         "title_Miss": 0,
         "title_Mr": 1,
         "title_Mrs": 0,
         "title_Rev": 0
        },
        {
         "Age": 5,
         "Cabin": 4,
         "Cabin Num": 0,
         "Embarked": 2,
         "Family_size": 0,
         "Fare": 7,
         "Pclass": 2,
         "Sex": 1,
         "Survived": "nan",
         "Ticket": 2,
         "_deepnote_index_column": 406,
         "fold": "nan",
         "title_Dr": 0,
         "title_ELSE": 0,
         "title_Master": 0,
         "title_Miss": 0,
         "title_Mr": 1,
         "title_Mrs": 0,
         "title_Rev": 0
        },
        {
         "Age": 19,
         "Cabin": 1,
         "Cabin Num": 70,
         "Embarked": 0,
         "Family_size": 0,
         "Fare": 18,
         "Pclass": 1,
         "Sex": 1,
         "Survived": "nan",
         "Ticket": 2,
         "_deepnote_index_column": 407,
         "fold": "nan",
         "title_Dr": 0,
         "title_ELSE": 0,
         "title_Master": 0,
         "title_Miss": 0,
         "title_Mr": 1,
         "title_Mrs": 0,
         "title_Rev": 0
        },
        {
         "Age": 8,
         "Cabin": 4,
         "Cabin Num": 0,
         "Embarked": 1,
         "Family_size": 0,
         "Fare": 3,
         "Pclass": 3,
         "Sex": 0,
         "Survived": "nan",
         "Ticket": 2,
         "_deepnote_index_column": 408,
         "fold": "nan",
         "title_Dr": 0,
         "title_ELSE": 0,
         "title_Master": 0,
         "title_Miss": 1,
         "title_Mr": 0,
         "title_Mrs": 0,
         "title_Rev": 0
        },
        {
         "Age": 0,
         "Cabin": 4,
         "Cabin Num": 0,
         "Embarked": 2,
         "Family_size": 0,
         "Fare": 9,
         "Pclass": 3,
         "Sex": 0,
         "Survived": "nan",
         "Ticket": 1,
         "_deepnote_index_column": 409,
         "fold": "nan",
         "title_Dr": 0,
         "title_ELSE": 0,
         "title_Master": 0,
         "title_Miss": 1,
         "title_Mr": 0,
         "title_Mrs": 0,
         "title_Rev": 0
        },
        {
         "Age": 8,
         "Cabin": 4,
         "Cabin Num": 0,
         "Embarked": 1,
         "Family_size": 0,
         "Fare": 3,
         "Pclass": 3,
         "Sex": 0,
         "Survived": "nan",
         "Ticket": 2,
         "_deepnote_index_column": 410,
         "fold": "nan",
         "title_Dr": 0,
         "title_ELSE": 0,
         "title_Master": 0,
         "title_Miss": 1,
         "title_Mr": 0,
         "title_Mrs": 0,
         "title_Rev": 0
        },
        {
         "Age": 14,
         "Cabin": 1,
         "Cabin Num": 68,
         "Embarked": 1,
         "Family_size": 0,
         "Fare": 18,
         "Pclass": 1,
         "Sex": 0,
         "Survived": "nan",
         "Ticket": 2,
         "_deepnote_index_column": 411,
         "fold": "nan",
         "title_Dr": 0,
         "title_ELSE": 0,
         "title_Master": 0,
         "title_Miss": 0,
         "title_Mr": 0,
         "title_Mrs": 1,
         "title_Rev": 0
        },
        {
         "Age": 9,
         "Cabin": 4,
         "Cabin Num": 0,
         "Embarked": 2,
         "Family_size": 0,
         "Fare": 3,
         "Pclass": 3,
         "Sex": 0,
         "Survived": "nan",
         "Ticket": 2,
         "_deepnote_index_column": 412,
         "fold": "nan",
         "title_Dr": 0,
         "title_ELSE": 0,
         "title_Master": 0,
         "title_Miss": 1,
         "title_Mr": 0,
         "title_Mrs": 0,
         "title_Rev": 0
        },
        {
         "Age": 8,
         "Cabin": 4,
         "Cabin Num": 0,
         "Embarked": 2,
         "Family_size": 0,
         "Fare": 4,
         "Pclass": 3,
         "Sex": 1,
         "Survived": "nan",
         "Ticket": 1,
         "_deepnote_index_column": 413,
         "fold": "nan",
         "title_Dr": 0,
         "title_ELSE": 0,
         "title_Master": 0,
         "title_Miss": 0,
         "title_Mr": 1,
         "title_Mrs": 0,
         "title_Rev": 0
        },
        {
         "Age": 14,
         "Cabin": 1,
         "Cabin Num": 90,
         "Embarked": 0,
         "Family_size": 0,
         "Fare": 18,
         "Pclass": 1,
         "Sex": 0,
         "Survived": "nan",
         "Ticket": 3,
         "_deepnote_index_column": 414,
         "fold": "nan",
         "title_Dr": 0,
         "title_ELSE": 1,
         "title_Master": 0,
         "title_Miss": 0,
         "title_Mr": 0,
         "title_Mrs": 0,
         "title_Rev": 0
        },
        {
         "Age": 14,
         "Cabin": 4,
         "Cabin Num": 0,
         "Embarked": 2,
         "Family_size": 0,
         "Fare": 1,
         "Pclass": 3,
         "Sex": 1,
         "Survived": "nan",
         "Ticket": 1,
         "_deepnote_index_column": 415,
         "fold": "nan",
         "title_Dr": 0,
         "title_ELSE": 0,
         "title_Master": 0,
         "title_Miss": 0,
         "title_Mr": 1,
         "title_Mrs": 0,
         "title_Rev": 0
        },
        {
         "Age": 8,
         "Cabin": 4,
         "Cabin Num": 0,
         "Embarked": 2,
         "Family_size": 0,
         "Fare": 4,
         "Pclass": 3,
         "Sex": 1,
         "Survived": "nan",
         "Ticket": 2,
         "_deepnote_index_column": 416,
         "fold": "nan",
         "title_Dr": 0,
         "title_ELSE": 0,
         "title_Master": 0,
         "title_Miss": 0,
         "title_Mr": 1,
         "title_Mrs": 0,
         "title_Rev": 0
        },
        {
         "Age": 3,
         "Cabin": 4,
         "Cabin Num": 0,
         "Embarked": 0,
         "Family_size": 0,
         "Fare": 11,
         "Pclass": 3,
         "Sex": 1,
         "Survived": "nan",
         "Ticket": 2,
         "_deepnote_index_column": 417,
         "fold": "nan",
         "title_Dr": 0,
         "title_ELSE": 0,
         "title_Master": 1,
         "title_Miss": 0,
         "title_Mr": 0,
         "title_Mrs": 0,
         "title_Rev": 0
        }
       ],
       "rows_top": [
        {
         "Age": 14,
         "Cabin": 4,
         "Cabin Num": 0,
         "Embarked": 1,
         "Family_size": 0,
         "Fare": 4,
         "Pclass": 3,
         "Sex": 1,
         "Survived": "nan",
         "Ticket": 2,
         "_deepnote_index_column": 0,
         "fold": "nan",
         "title_Dr": 0,
         "title_ELSE": 0,
         "title_Master": 0,
         "title_Miss": 0,
         "title_Mr": 1,
         "title_Mrs": 0,
         "title_Rev": 0
        },
        {
         "Age": 16,
         "Cabin": 4,
         "Cabin Num": 0,
         "Embarked": 2,
         "Family_size": 0,
         "Fare": 1,
         "Pclass": 3,
         "Sex": 0,
         "Survived": "nan",
         "Ticket": 2,
         "_deepnote_index_column": 1,
         "fold": "nan",
         "title_Dr": 0,
         "title_ELSE": 0,
         "title_Master": 0,
         "title_Miss": 0,
         "title_Mr": 0,
         "title_Mrs": 1,
         "title_Rev": 0
        },
        {
         "Age": 19,
         "Cabin": 4,
         "Cabin Num": 0,
         "Embarked": 1,
         "Family_size": 0,
         "Fare": 7,
         "Pclass": 2,
         "Sex": 1,
         "Survived": "nan",
         "Ticket": 2,
         "_deepnote_index_column": 2,
         "fold": "nan",
         "title_Dr": 0,
         "title_ELSE": 0,
         "title_Master": 0,
         "title_Miss": 0,
         "title_Mr": 1,
         "title_Mrs": 0,
         "title_Rev": 0
        },
        {
         "Age": 9,
         "Cabin": 4,
         "Cabin Num": 0,
         "Embarked": 2,
         "Family_size": 0,
         "Fare": 7,
         "Pclass": 3,
         "Sex": 1,
         "Survived": "nan",
         "Ticket": 2,
         "_deepnote_index_column": 3,
         "fold": "nan",
         "title_Dr": 0,
         "title_ELSE": 0,
         "title_Master": 0,
         "title_Miss": 0,
         "title_Mr": 1,
         "title_Mrs": 0,
         "title_Rev": 0
        },
        {
         "Age": 5,
         "Cabin": 4,
         "Cabin Num": 0,
         "Embarked": 2,
         "Family_size": 0,
         "Fare": 9,
         "Pclass": 3,
         "Sex": 0,
         "Survived": "nan",
         "Ticket": 2,
         "_deepnote_index_column": 4,
         "fold": "nan",
         "title_Dr": 0,
         "title_ELSE": 0,
         "title_Master": 0,
         "title_Miss": 0,
         "title_Mr": 0,
         "title_Mrs": 1,
         "title_Rev": 0
        },
        {
         "Age": 0,
         "Cabin": 4,
         "Cabin Num": 0,
         "Embarked": 2,
         "Family_size": 0,
         "Fare": 7,
         "Pclass": 3,
         "Sex": 1,
         "Survived": "nan",
         "Ticket": 2,
         "_deepnote_index_column": 5,
         "fold": "nan",
         "title_Dr": 0,
         "title_ELSE": 0,
         "title_Master": 0,
         "title_Miss": 0,
         "title_Mr": 1,
         "title_Mrs": 0,
         "title_Rev": 0
        },
        {
         "Age": 12,
         "Cabin": 4,
         "Cabin Num": 0,
         "Embarked": 1,
         "Family_size": 0,
         "Fare": 1,
         "Pclass": 3,
         "Sex": 0,
         "Survived": "nan",
         "Ticket": 2,
         "_deepnote_index_column": 6,
         "fold": "nan",
         "title_Dr": 0,
         "title_ELSE": 0,
         "title_Master": 0,
         "title_Miss": 1,
         "title_Mr": 0,
         "title_Mrs": 0,
         "title_Rev": 0
        },
        {
         "Age": 7,
         "Cabin": 4,
         "Cabin Num": 0,
         "Embarked": 2,
         "Family_size": 0,
         "Fare": 13,
         "Pclass": 2,
         "Sex": 1,
         "Survived": "nan",
         "Ticket": 2,
         "_deepnote_index_column": 7,
         "fold": "nan",
         "title_Dr": 0,
         "title_ELSE": 0,
         "title_Master": 0,
         "title_Miss": 0,
         "title_Mr": 1,
         "title_Mrs": 0,
         "title_Rev": 0
        },
        {
         "Age": 0,
         "Cabin": 4,
         "Cabin Num": 0,
         "Embarked": 0,
         "Family_size": 0,
         "Fare": 1,
         "Pclass": 3,
         "Sex": 0,
         "Survived": "nan",
         "Ticket": 2,
         "_deepnote_index_column": 8,
         "fold": "nan",
         "title_Dr": 0,
         "title_ELSE": 0,
         "title_Master": 0,
         "title_Miss": 0,
         "title_Mr": 0,
         "title_Mrs": 1,
         "title_Rev": 0
        },
        {
         "Age": 5,
         "Cabin": 4,
         "Cabin Num": 0,
         "Embarked": 2,
         "Family_size": 0,
         "Fare": 11,
         "Pclass": 3,
         "Sex": 1,
         "Survived": "nan",
         "Ticket": 1,
         "_deepnote_index_column": 9,
         "fold": "nan",
         "title_Dr": 0,
         "title_ELSE": 0,
         "title_Master": 0,
         "title_Miss": 0,
         "title_Mr": 1,
         "title_Mrs": 0,
         "title_Rev": 0
        },
        {
         "Age": 8,
         "Cabin": 4,
         "Cabin Num": 0,
         "Embarked": 2,
         "Family_size": 0,
         "Fare": 4,
         "Pclass": 3,
         "Sex": 1,
         "Survived": "nan",
         "Ticket": 2,
         "_deepnote_index_column": 10,
         "fold": "nan",
         "title_Dr": 0,
         "title_ELSE": 0,
         "title_Master": 0,
         "title_Miss": 0,
         "title_Mr": 1,
         "title_Mrs": 0,
         "title_Rev": 0
        },
        {
         "Age": 16,
         "Cabin": 4,
         "Cabin Num": 0,
         "Embarked": 2,
         "Family_size": 0,
         "Fare": 11,
         "Pclass": 1,
         "Sex": 1,
         "Survived": "nan",
         "Ticket": 2,
         "_deepnote_index_column": 11,
         "fold": "nan",
         "title_Dr": 0,
         "title_ELSE": 0,
         "title_Master": 0,
         "title_Miss": 0,
         "title_Mr": 1,
         "title_Mrs": 0,
         "title_Rev": 0
        },
        {
         "Age": 5,
         "Cabin": 0,
         "Cabin Num": 42,
         "Embarked": 2,
         "Family_size": 0,
         "Fare": 18,
         "Pclass": 1,
         "Sex": 0,
         "Survived": "nan",
         "Ticket": 2,
         "_deepnote_index_column": 12,
         "fold": "nan",
         "title_Dr": 0,
         "title_ELSE": 0,
         "title_Master": 0,
         "title_Miss": 0,
         "title_Mr": 0,
         "title_Mrs": 1,
         "title_Rev": 0
        },
        {
         "Age": 19,
         "Cabin": 4,
         "Cabin Num": 0,
         "Embarked": 2,
         "Family_size": 0,
         "Fare": 11,
         "Pclass": 2,
         "Sex": 1,
         "Survived": "nan",
         "Ticket": 2,
         "_deepnote_index_column": 13,
         "fold": "nan",
         "title_Dr": 0,
         "title_ELSE": 0,
         "title_Master": 0,
         "title_Miss": 0,
         "title_Mr": 1,
         "title_Mrs": 0,
         "title_Rev": 0
        },
        {
         "Age": 16,
         "Cabin": 3,
         "Cabin Num": 28,
         "Embarked": 2,
         "Family_size": 0,
         "Fare": 16,
         "Pclass": 1,
         "Sex": 0,
         "Survived": "nan",
         "Ticket": 1,
         "_deepnote_index_column": 14,
         "fold": "nan",
         "title_Dr": 0,
         "title_ELSE": 0,
         "title_Master": 0,
         "title_Miss": 0,
         "title_Mr": 0,
         "title_Mrs": 1,
         "title_Rev": 0
        },
        {
         "Age": 7,
         "Cabin": 4,
         "Cabin Num": 0,
         "Embarked": 0,
         "Family_size": 0,
         "Fare": 13,
         "Pclass": 2,
         "Sex": 0,
         "Survived": "nan",
         "Ticket": 1,
         "_deepnote_index_column": 15,
         "fold": "nan",
         "title_Dr": 0,
         "title_ELSE": 0,
         "title_Master": 0,
         "title_Miss": 0,
         "title_Mr": 0,
         "title_Mrs": 1,
         "title_Rev": 0
        },
        {
         "Age": 14,
         "Cabin": 4,
         "Cabin Num": 0,
         "Embarked": 1,
         "Family_size": 0,
         "Fare": 9,
         "Pclass": 2,
         "Sex": 1,
         "Survived": "nan",
         "Ticket": 2,
         "_deepnote_index_column": 16,
         "fold": "nan",
         "title_Dr": 0,
         "title_ELSE": 0,
         "title_Master": 0,
         "title_Miss": 0,
         "title_Mr": 1,
         "title_Mrs": 0,
         "title_Rev": 0
        },
        {
         "Age": 5,
         "Cabin": 4,
         "Cabin Num": 0,
         "Embarked": 0,
         "Family_size": 0,
         "Fare": 1,
         "Pclass": 3,
         "Sex": 1,
         "Survived": "nan",
         "Ticket": 2,
         "_deepnote_index_column": 17,
         "fold": "nan",
         "title_Dr": 0,
         "title_ELSE": 0,
         "title_Master": 0,
         "title_Miss": 0,
         "title_Mr": 1,
         "title_Mrs": 0,
         "title_Rev": 0
        },
        {
         "Age": 9,
         "Cabin": 4,
         "Cabin Num": 0,
         "Embarked": 2,
         "Family_size": 0,
         "Fare": 4,
         "Pclass": 3,
         "Sex": 0,
         "Survived": "nan",
         "Ticket": 1,
         "_deepnote_index_column": 18,
         "fold": "nan",
         "title_Dr": 0,
         "title_ELSE": 0,
         "title_Master": 0,
         "title_Miss": 1,
         "title_Mr": 0,
         "title_Mrs": 0,
         "title_Rev": 0
        },
        {
         "Age": 16,
         "Cabin": 4,
         "Cabin Num": 0,
         "Embarked": 0,
         "Family_size": 0,
         "Fare": 1,
         "Pclass": 3,
         "Sex": 0,
         "Survived": "nan",
         "Ticket": 2,
         "_deepnote_index_column": 19,
         "fold": "nan",
         "title_Dr": 0,
         "title_ELSE": 0,
         "title_Master": 0,
         "title_Miss": 0,
         "title_Mr": 0,
         "title_Mrs": 1,
         "title_Rev": 0
        },
        {
         "Age": 19,
         "Cabin": 4,
         "Cabin Num": 0,
         "Embarked": 0,
         "Family_size": 0,
         "Fare": 16,
         "Pclass": 1,
         "Sex": 1,
         "Survived": "nan",
         "Ticket": 3,
         "_deepnote_index_column": 20,
         "fold": "nan",
         "title_Dr": 0,
         "title_ELSE": 0,
         "title_Master": 0,
         "title_Miss": 0,
         "title_Mr": 1,
         "title_Mrs": 0,
         "title_Rev": 0
        },
        {
         "Age": 0,
         "Cabin": 4,
         "Cabin Num": 0,
         "Embarked": 2,
         "Family_size": 0,
         "Fare": 1,
         "Pclass": 3,
         "Sex": 1,
         "Survived": "nan",
         "Ticket": 1,
         "_deepnote_index_column": 21,
         "fold": "nan",
         "title_Dr": 0,
         "title_ELSE": 0,
         "title_Master": 1,
         "title_Miss": 0,
         "title_Mr": 0,
         "title_Mrs": 0,
         "title_Rev": 0
        },
        {
         "Age": 14,
         "Cabin": 4,
         "Cabin Num": 0,
         "Embarked": 2,
         "Family_size": 0,
         "Fare": 13,
         "Pclass": 1,
         "Sex": 0,
         "Survived": "nan",
         "Ticket": 3,
         "_deepnote_index_column": 22,
         "fold": "nan",
         "title_Dr": 0,
         "title_ELSE": 0,
         "title_Master": 0,
         "title_Miss": 0,
         "title_Mr": 0,
         "title_Mrs": 1,
         "title_Rev": 0
        },
        {
         "Age": 5,
         "Cabin": 4,
         "Cabin Num": 0,
         "Embarked": 0,
         "Family_size": 0,
         "Fare": 16,
         "Pclass": 1,
         "Sex": 1,
         "Survived": "nan",
         "Ticket": 3,
         "_deepnote_index_column": 23,
         "fold": "nan",
         "title_Dr": 0,
         "title_ELSE": 0,
         "title_Master": 0,
         "title_Miss": 0,
         "title_Mr": 1,
         "title_Mrs": 0,
         "title_Rev": 0
        },
        {
         "Age": 16,
         "Cabin": 0,
         "Cabin Num": 54,
         "Embarked": 0,
         "Family_size": 1,
         "Fare": 18,
         "Pclass": 1,
         "Sex": 0,
         "Survived": "nan",
         "Ticket": 3,
         "_deepnote_index_column": 24,
         "fold": "nan",
         "title_Dr": 0,
         "title_ELSE": 0,
         "title_Master": 0,
         "title_Miss": 0,
         "title_Mr": 0,
         "title_Mrs": 1,
         "title_Rev": 0
        },
        {
         "Age": 19,
         "Cabin": 4,
         "Cabin Num": 0,
         "Embarked": 2,
         "Family_size": 0,
         "Fare": 10,
         "Pclass": 3,
         "Sex": 1,
         "Survived": "nan",
         "Ticket": 1,
         "_deepnote_index_column": 25,
         "fold": "nan",
         "title_Dr": 0,
         "title_ELSE": 0,
         "title_Master": 0,
         "title_Miss": 0,
         "title_Mr": 1,
         "title_Mrs": 0,
         "title_Rev": 0
        },
        {
         "Age": 5,
         "Cabin": 0,
         "Cabin Num": 33,
         "Embarked": 0,
         "Family_size": 0,
         "Fare": 16,
         "Pclass": 1,
         "Sex": 0,
         "Survived": "nan",
         "Ticket": 2,
         "_deepnote_index_column": 26,
         "fold": "nan",
         "title_Dr": 0,
         "title_ELSE": 0,
         "title_Master": 0,
         "title_Miss": 1,
         "title_Mr": 0,
         "title_Mrs": 0,
         "title_Rev": 0
        }
       ]
      },
      "text/html": [
       "<div>\n",
       "<style scoped>\n",
       "    .dataframe tbody tr th:only-of-type {\n",
       "        vertical-align: middle;\n",
       "    }\n",
       "\n",
       "    .dataframe tbody tr th {\n",
       "        vertical-align: top;\n",
       "    }\n",
       "\n",
       "    .dataframe thead th {\n",
       "        text-align: right;\n",
       "    }\n",
       "</style>\n",
       "<table border=\"1\" class=\"dataframe\">\n",
       "  <thead>\n",
       "    <tr style=\"text-align: right;\">\n",
       "      <th></th>\n",
       "      <th>Survived</th>\n",
       "      <th>Pclass</th>\n",
       "      <th>Sex</th>\n",
       "      <th>Age</th>\n",
       "      <th>Ticket</th>\n",
       "      <th>Fare</th>\n",
       "      <th>Cabin</th>\n",
       "      <th>Embarked</th>\n",
       "      <th>fold</th>\n",
       "      <th>Family_size</th>\n",
       "      <th>Cabin Num</th>\n",
       "      <th>title_Dr</th>\n",
       "      <th>title_ELSE</th>\n",
       "      <th>title_Master</th>\n",
       "      <th>title_Miss</th>\n",
       "      <th>title_Mr</th>\n",
       "      <th>title_Mrs</th>\n",
       "      <th>title_Rev</th>\n",
       "    </tr>\n",
       "  </thead>\n",
       "  <tbody>\n",
       "    <tr>\n",
       "      <th>0</th>\n",
       "      <td>NaN</td>\n",
       "      <td>3</td>\n",
       "      <td>1</td>\n",
       "      <td>14</td>\n",
       "      <td>2</td>\n",
       "      <td>4</td>\n",
       "      <td>4</td>\n",
       "      <td>1</td>\n",
       "      <td>NaN</td>\n",
       "      <td>0.0</td>\n",
       "      <td>0</td>\n",
       "      <td>0</td>\n",
       "      <td>0</td>\n",
       "      <td>0</td>\n",
       "      <td>0</td>\n",
       "      <td>1</td>\n",
       "      <td>0</td>\n",
       "      <td>0</td>\n",
       "    </tr>\n",
       "    <tr>\n",
       "      <th>1</th>\n",
       "      <td>NaN</td>\n",
       "      <td>3</td>\n",
       "      <td>0</td>\n",
       "      <td>16</td>\n",
       "      <td>2</td>\n",
       "      <td>1</td>\n",
       "      <td>4</td>\n",
       "      <td>2</td>\n",
       "      <td>NaN</td>\n",
       "      <td>0.0</td>\n",
       "      <td>0</td>\n",
       "      <td>0</td>\n",
       "      <td>0</td>\n",
       "      <td>0</td>\n",
       "      <td>0</td>\n",
       "      <td>0</td>\n",
       "      <td>1</td>\n",
       "      <td>0</td>\n",
       "    </tr>\n",
       "    <tr>\n",
       "      <th>2</th>\n",
       "      <td>NaN</td>\n",
       "      <td>2</td>\n",
       "      <td>1</td>\n",
       "      <td>19</td>\n",
       "      <td>2</td>\n",
       "      <td>7</td>\n",
       "      <td>4</td>\n",
       "      <td>1</td>\n",
       "      <td>NaN</td>\n",
       "      <td>0.0</td>\n",
       "      <td>0</td>\n",
       "      <td>0</td>\n",
       "      <td>0</td>\n",
       "      <td>0</td>\n",
       "      <td>0</td>\n",
       "      <td>1</td>\n",
       "      <td>0</td>\n",
       "      <td>0</td>\n",
       "    </tr>\n",
       "    <tr>\n",
       "      <th>3</th>\n",
       "      <td>NaN</td>\n",
       "      <td>3</td>\n",
       "      <td>1</td>\n",
       "      <td>9</td>\n",
       "      <td>2</td>\n",
       "      <td>7</td>\n",
       "      <td>4</td>\n",
       "      <td>2</td>\n",
       "      <td>NaN</td>\n",
       "      <td>0.0</td>\n",
       "      <td>0</td>\n",
       "      <td>0</td>\n",
       "      <td>0</td>\n",
       "      <td>0</td>\n",
       "      <td>0</td>\n",
       "      <td>1</td>\n",
       "      <td>0</td>\n",
       "      <td>0</td>\n",
       "    </tr>\n",
       "    <tr>\n",
       "      <th>4</th>\n",
       "      <td>NaN</td>\n",
       "      <td>3</td>\n",
       "      <td>0</td>\n",
       "      <td>5</td>\n",
       "      <td>2</td>\n",
       "      <td>9</td>\n",
       "      <td>4</td>\n",
       "      <td>2</td>\n",
       "      <td>NaN</td>\n",
       "      <td>0.0</td>\n",
       "      <td>0</td>\n",
       "      <td>0</td>\n",
       "      <td>0</td>\n",
       "      <td>0</td>\n",
       "      <td>0</td>\n",
       "      <td>0</td>\n",
       "      <td>1</td>\n",
       "      <td>0</td>\n",
       "    </tr>\n",
       "    <tr>\n",
       "      <th>...</th>\n",
       "      <td>...</td>\n",
       "      <td>...</td>\n",
       "      <td>...</td>\n",
       "      <td>...</td>\n",
       "      <td>...</td>\n",
       "      <td>...</td>\n",
       "      <td>...</td>\n",
       "      <td>...</td>\n",
       "      <td>...</td>\n",
       "      <td>...</td>\n",
       "      <td>...</td>\n",
       "      <td>...</td>\n",
       "      <td>...</td>\n",
       "      <td>...</td>\n",
       "      <td>...</td>\n",
       "      <td>...</td>\n",
       "      <td>...</td>\n",
       "      <td>...</td>\n",
       "    </tr>\n",
       "    <tr>\n",
       "      <th>413</th>\n",
       "      <td>NaN</td>\n",
       "      <td>3</td>\n",
       "      <td>1</td>\n",
       "      <td>8</td>\n",
       "      <td>1</td>\n",
       "      <td>4</td>\n",
       "      <td>4</td>\n",
       "      <td>2</td>\n",
       "      <td>NaN</td>\n",
       "      <td>0.0</td>\n",
       "      <td>0</td>\n",
       "      <td>0</td>\n",
       "      <td>0</td>\n",
       "      <td>0</td>\n",
       "      <td>0</td>\n",
       "      <td>1</td>\n",
       "      <td>0</td>\n",
       "      <td>0</td>\n",
       "    </tr>\n",
       "    <tr>\n",
       "      <th>414</th>\n",
       "      <td>NaN</td>\n",
       "      <td>1</td>\n",
       "      <td>0</td>\n",
       "      <td>14</td>\n",
       "      <td>3</td>\n",
       "      <td>18</td>\n",
       "      <td>1</td>\n",
       "      <td>0</td>\n",
       "      <td>NaN</td>\n",
       "      <td>0.0</td>\n",
       "      <td>90</td>\n",
       "      <td>0</td>\n",
       "      <td>1</td>\n",
       "      <td>0</td>\n",
       "      <td>0</td>\n",
       "      <td>0</td>\n",
       "      <td>0</td>\n",
       "      <td>0</td>\n",
       "    </tr>\n",
       "    <tr>\n",
       "      <th>415</th>\n",
       "      <td>NaN</td>\n",
       "      <td>3</td>\n",
       "      <td>1</td>\n",
       "      <td>14</td>\n",
       "      <td>1</td>\n",
       "      <td>1</td>\n",
       "      <td>4</td>\n",
       "      <td>2</td>\n",
       "      <td>NaN</td>\n",
       "      <td>0.0</td>\n",
       "      <td>0</td>\n",
       "      <td>0</td>\n",
       "      <td>0</td>\n",
       "      <td>0</td>\n",
       "      <td>0</td>\n",
       "      <td>1</td>\n",
       "      <td>0</td>\n",
       "      <td>0</td>\n",
       "    </tr>\n",
       "    <tr>\n",
       "      <th>416</th>\n",
       "      <td>NaN</td>\n",
       "      <td>3</td>\n",
       "      <td>1</td>\n",
       "      <td>8</td>\n",
       "      <td>2</td>\n",
       "      <td>4</td>\n",
       "      <td>4</td>\n",
       "      <td>2</td>\n",
       "      <td>NaN</td>\n",
       "      <td>0.0</td>\n",
       "      <td>0</td>\n",
       "      <td>0</td>\n",
       "      <td>0</td>\n",
       "      <td>0</td>\n",
       "      <td>0</td>\n",
       "      <td>1</td>\n",
       "      <td>0</td>\n",
       "      <td>0</td>\n",
       "    </tr>\n",
       "    <tr>\n",
       "      <th>417</th>\n",
       "      <td>NaN</td>\n",
       "      <td>3</td>\n",
       "      <td>1</td>\n",
       "      <td>3</td>\n",
       "      <td>2</td>\n",
       "      <td>11</td>\n",
       "      <td>4</td>\n",
       "      <td>0</td>\n",
       "      <td>NaN</td>\n",
       "      <td>0.0</td>\n",
       "      <td>0</td>\n",
       "      <td>0</td>\n",
       "      <td>0</td>\n",
       "      <td>1</td>\n",
       "      <td>0</td>\n",
       "      <td>0</td>\n",
       "      <td>0</td>\n",
       "      <td>0</td>\n",
       "    </tr>\n",
       "  </tbody>\n",
       "</table>\n",
       "<p>418 rows × 18 columns</p>\n",
       "</div>"
      ],
      "text/plain": [
       "     Survived  Pclass  Sex  Age  Ticket  Fare  Cabin  Embarked  fold  \\\n",
       "0         NaN       3    1   14       2     4      4         1   NaN   \n",
       "1         NaN       3    0   16       2     1      4         2   NaN   \n",
       "2         NaN       2    1   19       2     7      4         1   NaN   \n",
       "3         NaN       3    1    9       2     7      4         2   NaN   \n",
       "4         NaN       3    0    5       2     9      4         2   NaN   \n",
       "..        ...     ...  ...  ...     ...   ...    ...       ...   ...   \n",
       "413       NaN       3    1    8       1     4      4         2   NaN   \n",
       "414       NaN       1    0   14       3    18      1         0   NaN   \n",
       "415       NaN       3    1   14       1     1      4         2   NaN   \n",
       "416       NaN       3    1    8       2     4      4         2   NaN   \n",
       "417       NaN       3    1    3       2    11      4         0   NaN   \n",
       "\n",
       "     Family_size  Cabin Num  title_Dr  title_ELSE  title_Master  title_Miss  \\\n",
       "0            0.0          0         0           0             0           0   \n",
       "1            0.0          0         0           0             0           0   \n",
       "2            0.0          0         0           0             0           0   \n",
       "3            0.0          0         0           0             0           0   \n",
       "4            0.0          0         0           0             0           0   \n",
       "..           ...        ...       ...         ...           ...         ...   \n",
       "413          0.0          0         0           0             0           0   \n",
       "414          0.0         90         0           1             0           0   \n",
       "415          0.0          0         0           0             0           0   \n",
       "416          0.0          0         0           0             0           0   \n",
       "417          0.0          0         0           0             1           0   \n",
       "\n",
       "     title_Mr  title_Mrs  title_Rev  \n",
       "0           1          0          0  \n",
       "1           0          1          0  \n",
       "2           1          0          0  \n",
       "3           1          0          0  \n",
       "4           0          1          0  \n",
       "..        ...        ...        ...  \n",
       "413         1          0          0  \n",
       "414         0          0          0  \n",
       "415         1          0          0  \n",
       "416         1          0          0  \n",
       "417         0          0          0  \n",
       "\n",
       "[418 rows x 18 columns]"
      ]
     },
     "execution_count": 248,
     "metadata": {},
     "output_type": "execute_result"
    }
   ],
   "source": []
  },
  {
   "cell_type": "code",
   "execution_count": null,
   "metadata": {
    "cell_id": "00055-dcde84bb-2acf-4eb2-873b-1adf6220a912",
    "deepnote_cell_type": "code",
    "deepnote_to_be_reexecuted": false,
    "execution_millis": 629,
    "execution_start": 1633266787667,
    "id": "YkkUBix-L8Ll",
    "source_hash": "1202c875"
   },
   "outputs": [],
   "source": [
    "#get the mean of best fold in lgb\n",
    "lgb_pred = np.zeros(418)\n",
    "for i in range(5):\n",
    "    model = joblib.load(f'./lgb_fold{i}.pkl')\n",
    "    lgb_pred += model.predict(test2) / 5\n",
    "    \n",
    "lgb_pred = lgb_pred.round().astype(int)"
   ]
  },
  {
   "cell_type": "code",
   "execution_count": null,
   "metadata": {
    "cell_id": "00056-e3bdf786-559f-4035-a3c9-109a9fa943b5",
    "deepnote_cell_type": "code",
    "deepnote_to_be_reexecuted": true,
    "execution_millis": 1096,
    "execution_start": 1633265029291,
    "id": "n_ymLVwML8Ll",
    "source_hash": "76816c23"
   },
   "outputs": [],
   "source": [
    "#get the mean of best fold in xgboost\n",
    "xgboost_pred = np.zeros(418)\n",
    "for i in range(5):\n",
    "    model = joblib.load(f'./xgboost_fold{i}.pkl')\n",
    "    model = xgb.XGBClassifier()\n",
    "    model.fit(X_train, y_train)\n",
    "    xgboost_pred += model.predict_proba(test2)[:,1] / 5\n",
    "    \n",
    "xgboost_pred = xgboost_pred.round().astype(int)"
   ]
  },
  {
   "cell_type": "code",
   "execution_count": null,
   "metadata": {
    "cell_id": "00068-61ab6373-d401-46a0-a2f7-97a877cb51ac",
    "deepnote_cell_type": "code",
    "deepnote_to_be_reexecuted": false,
    "execution_millis": 16,
    "execution_start": 1633266788306,
    "source_hash": "e2cb140d",
    "tags": []
   },
   "outputs": [],
   "source": [
    "#get the mean of best fold in logistic  0.8426966292134831 0.78947 selected nice\n",
    "logistic_pred = np.zeros(418)\n",
    "for i in range(5):\n",
    "    model = joblib.load(f'./logistic_fold{i}.pkl')\n",
    "    logistic_pred += model.predict(test2) / 5\n",
    "    \n",
    "logistic_pred = logistic_pred.round().astype(int)"
   ]
  },
  {
   "cell_type": "code",
   "execution_count": null,
   "metadata": {
    "cell_id": "00071-3605637a-dd1c-49e0-bdce-4beae213a744",
    "deepnote_cell_type": "code",
    "deepnote_to_be_reexecuted": false,
    "execution_millis": 30,
    "execution_start": 1633266788327,
    "source_hash": "58d06d11",
    "tags": []
   },
   "outputs": [],
   "source": [
    "#get the mean of best fold in catboost  0.8426966292134831  nice  0.77990 selected\n",
    "catboost_pred = np.zeros(418)\n",
    "for i in range(5):\n",
    "    model = joblib.load(f'./catboost_fold{i}.pkl')\n",
    "    catboost_pred += model.predict(test2) / 5\n",
    "    \n",
    "catboost_pred = catboost_pred.round().astype(int)"
   ]
  },
  {
   "cell_type": "code",
   "execution_count": null,
   "metadata": {
    "cell_id": "00057-bdb85ccc-21a6-4f19-9c66-ed96b2f6831d",
    "deepnote_cell_type": "code",
    "deepnote_to_be_reexecuted": false,
    "execution_millis": 4,
    "execution_start": 1633267015889,
    "id": "bmFJbv-4L8Ll",
    "source_hash": "69cdc06f"
   },
   "outputs": [],
   "source": [
    "#combine\n",
    "f_pro = (lgb_pred + xgboost_pred + catboost_pred + logistic_pred)/4    #predict probability [0, 1]\n"
   ]
  },
  {
   "cell_type": "code",
   "execution_count": null,
   "metadata": {
    "cell_id": "00058-dd6e70f4-ca13-430b-947f-9c1b39f76f36",
    "deepnote_cell_type": "code",
    "deepnote_to_be_reexecuted": false,
    "execution_millis": 6,
    "execution_start": 1633267017760,
    "id": "9OflF4aDL8Lm",
    "source_hash": "5657d436"
   },
   "outputs": [],
   "source": [
    "pred = []\n",
    "for i in f_pro:\n",
    "    if i > 0.5:\n",
    "        pred.append(1)\n",
    "    else:\n",
    "        pred.append(0)"
   ]
  },
  {
   "cell_type": "code",
   "execution_count": null,
   "metadata": {
    "cell_id": "00059-3635f330-b3d2-4396-a593-c31678d51937",
    "deepnote_cell_type": "code",
    "deepnote_to_be_reexecuted": false,
    "execution_millis": 1,
    "execution_start": 1633267019857,
    "id": "sHkn2NRoL8Lm",
    "source_hash": "97562538"
   },
   "outputs": [],
   "source": [
    "sub.Survived = pred"
   ]
  },
  {
   "cell_type": "code",
   "execution_count": null,
   "metadata": {
    "cell_id": "00060-78ea0b21-1192-4299-9e85-31ca5261722c",
    "deepnote_cell_type": "code",
    "deepnote_to_be_reexecuted": true,
    "execution_millis": 38,
    "execution_start": 1633264191765,
    "id": "sW_VfRz7L8Lm",
    "outputId": "9861fc3a-6db5-4d41-e2e1-12b5601ec94f",
    "source_hash": "d977bc2a"
   },
   "outputs": [
    {
     "data": {
      "application/vnd.deepnote.dataframe.v2+json": {
       "column_count": 2,
       "columns": [
        {
         "dtype": "int64",
         "name": "PassengerId",
         "stats": {
          "histogram": [
           {
            "bin_end": 933.7,
            "bin_start": 892,
            "count": 42
           },
           {
            "bin_end": 975.4,
            "bin_start": 933.7,
            "count": 42
           },
           {
            "bin_end": 1017.1,
            "bin_start": 975.4,
            "count": 42
           },
           {
            "bin_end": 1058.8,
            "bin_start": 1017.1,
            "count": 41
           },
           {
            "bin_end": 1100.5,
            "bin_start": 1058.8,
            "count": 42
           },
           {
            "bin_end": 1142.2,
            "bin_start": 1100.5,
            "count": 42
           },
           {
            "bin_end": 1183.9,
            "bin_start": 1142.2,
            "count": 41
           },
           {
            "bin_end": 1225.6,
            "bin_start": 1183.9,
            "count": 42
           },
           {
            "bin_end": 1267.3,
            "bin_start": 1225.6,
            "count": 42
           },
           {
            "bin_end": 1309,
            "bin_start": 1267.3,
            "count": 42
           }
          ],
          "max": "1309",
          "min": "892",
          "nan_count": 0,
          "unique_count": 418
         }
        },
        {
         "dtype": "int64",
         "name": "Survived",
         "stats": {
          "histogram": [
           {
            "bin_end": 0.1,
            "bin_start": 0,
            "count": 264
           },
           {
            "bin_end": 0.2,
            "bin_start": 0.1,
            "count": 0
           },
           {
            "bin_end": 0.30000000000000004,
            "bin_start": 0.2,
            "count": 0
           },
           {
            "bin_end": 0.4,
            "bin_start": 0.30000000000000004,
            "count": 0
           },
           {
            "bin_end": 0.5,
            "bin_start": 0.4,
            "count": 0
           },
           {
            "bin_end": 0.6000000000000001,
            "bin_start": 0.5,
            "count": 0
           },
           {
            "bin_end": 0.7000000000000001,
            "bin_start": 0.6000000000000001,
            "count": 0
           },
           {
            "bin_end": 0.8,
            "bin_start": 0.7000000000000001,
            "count": 0
           },
           {
            "bin_end": 0.9,
            "bin_start": 0.8,
            "count": 0
           },
           {
            "bin_end": 1,
            "bin_start": 0.9,
            "count": 154
           }
          ],
          "max": "1",
          "min": "0",
          "nan_count": 0,
          "unique_count": 2
         }
        },
        {
         "dtype": "int64",
         "name": "_deepnote_index_column"
        }
       ],
       "row_count": 418,
       "rows_bottom": null,
       "rows_top": [
        {
         "PassengerId": 892,
         "Survived": 0,
         "_deepnote_index_column": 0
        },
        {
         "PassengerId": 893,
         "Survived": 0,
         "_deepnote_index_column": 1
        },
        {
         "PassengerId": 894,
         "Survived": 0,
         "_deepnote_index_column": 2
        },
        {
         "PassengerId": 895,
         "Survived": 0,
         "_deepnote_index_column": 3
        },
        {
         "PassengerId": 896,
         "Survived": 0,
         "_deepnote_index_column": 4
        },
        {
         "PassengerId": 897,
         "Survived": 0,
         "_deepnote_index_column": 5
        },
        {
         "PassengerId": 898,
         "Survived": 1,
         "_deepnote_index_column": 6
        },
        {
         "PassengerId": 899,
         "Survived": 0,
         "_deepnote_index_column": 7
        },
        {
         "PassengerId": 900,
         "Survived": 1,
         "_deepnote_index_column": 8
        },
        {
         "PassengerId": 901,
         "Survived": 0,
         "_deepnote_index_column": 9
        },
        {
         "PassengerId": 902,
         "Survived": 0,
         "_deepnote_index_column": 10
        },
        {
         "PassengerId": 903,
         "Survived": 0,
         "_deepnote_index_column": 11
        },
        {
         "PassengerId": 904,
         "Survived": 1,
         "_deepnote_index_column": 12
        },
        {
         "PassengerId": 905,
         "Survived": 0,
         "_deepnote_index_column": 13
        },
        {
         "PassengerId": 906,
         "Survived": 1,
         "_deepnote_index_column": 14
        },
        {
         "PassengerId": 907,
         "Survived": 1,
         "_deepnote_index_column": 15
        },
        {
         "PassengerId": 908,
         "Survived": 0,
         "_deepnote_index_column": 16
        },
        {
         "PassengerId": 909,
         "Survived": 0,
         "_deepnote_index_column": 17
        },
        {
         "PassengerId": 910,
         "Survived": 0,
         "_deepnote_index_column": 18
        },
        {
         "PassengerId": 911,
         "Survived": 1,
         "_deepnote_index_column": 19
        },
        {
         "PassengerId": 912,
         "Survived": 0,
         "_deepnote_index_column": 20
        },
        {
         "PassengerId": 913,
         "Survived": 1,
         "_deepnote_index_column": 21
        },
        {
         "PassengerId": 914,
         "Survived": 1,
         "_deepnote_index_column": 22
        },
        {
         "PassengerId": 915,
         "Survived": 0,
         "_deepnote_index_column": 23
        },
        {
         "PassengerId": 916,
         "Survived": 1,
         "_deepnote_index_column": 24
        },
        {
         "PassengerId": 917,
         "Survived": 0,
         "_deepnote_index_column": 25
        },
        {
         "PassengerId": 918,
         "Survived": 1,
         "_deepnote_index_column": 26
        },
        {
         "PassengerId": 919,
         "Survived": 0,
         "_deepnote_index_column": 27
        },
        {
         "PassengerId": 920,
         "Survived": 0,
         "_deepnote_index_column": 28
        },
        {
         "PassengerId": 921,
         "Survived": 0,
         "_deepnote_index_column": 29
        },
        {
         "PassengerId": 922,
         "Survived": 0,
         "_deepnote_index_column": 30
        },
        {
         "PassengerId": 923,
         "Survived": 0,
         "_deepnote_index_column": 31
        },
        {
         "PassengerId": 924,
         "Survived": 0,
         "_deepnote_index_column": 32
        },
        {
         "PassengerId": 925,
         "Survived": 0,
         "_deepnote_index_column": 33
        },
        {
         "PassengerId": 926,
         "Survived": 0,
         "_deepnote_index_column": 34
        },
        {
         "PassengerId": 927,
         "Survived": 0,
         "_deepnote_index_column": 35
        },
        {
         "PassengerId": 928,
         "Survived": 0,
         "_deepnote_index_column": 36
        },
        {
         "PassengerId": 929,
         "Survived": 0,
         "_deepnote_index_column": 37
        },
        {
         "PassengerId": 930,
         "Survived": 0,
         "_deepnote_index_column": 38
        },
        {
         "PassengerId": 931,
         "Survived": 0,
         "_deepnote_index_column": 39
        },
        {
         "PassengerId": 932,
         "Survived": 0,
         "_deepnote_index_column": 40
        },
        {
         "PassengerId": 933,
         "Survived": 0,
         "_deepnote_index_column": 41
        },
        {
         "PassengerId": 934,
         "Survived": 0,
         "_deepnote_index_column": 42
        },
        {
         "PassengerId": 935,
         "Survived": 1,
         "_deepnote_index_column": 43
        },
        {
         "PassengerId": 936,
         "Survived": 1,
         "_deepnote_index_column": 44
        },
        {
         "PassengerId": 937,
         "Survived": 0,
         "_deepnote_index_column": 45
        },
        {
         "PassengerId": 938,
         "Survived": 0,
         "_deepnote_index_column": 46
        },
        {
         "PassengerId": 939,
         "Survived": 0,
         "_deepnote_index_column": 47
        },
        {
         "PassengerId": 940,
         "Survived": 1,
         "_deepnote_index_column": 48
        },
        {
         "PassengerId": 941,
         "Survived": 1,
         "_deepnote_index_column": 49
        },
        {
         "PassengerId": 942,
         "Survived": 0,
         "_deepnote_index_column": 50
        },
        {
         "PassengerId": 943,
         "Survived": 0,
         "_deepnote_index_column": 51
        },
        {
         "PassengerId": 944,
         "Survived": 1,
         "_deepnote_index_column": 52
        },
        {
         "PassengerId": 945,
         "Survived": 1,
         "_deepnote_index_column": 53
        },
        {
         "PassengerId": 946,
         "Survived": 0,
         "_deepnote_index_column": 54
        },
        {
         "PassengerId": 947,
         "Survived": 0,
         "_deepnote_index_column": 55
        },
        {
         "PassengerId": 948,
         "Survived": 0,
         "_deepnote_index_column": 56
        },
        {
         "PassengerId": 949,
         "Survived": 0,
         "_deepnote_index_column": 57
        },
        {
         "PassengerId": 950,
         "Survived": 0,
         "_deepnote_index_column": 58
        },
        {
         "PassengerId": 951,
         "Survived": 1,
         "_deepnote_index_column": 59
        },
        {
         "PassengerId": 952,
         "Survived": 0,
         "_deepnote_index_column": 60
        },
        {
         "PassengerId": 953,
         "Survived": 0,
         "_deepnote_index_column": 61
        },
        {
         "PassengerId": 954,
         "Survived": 0,
         "_deepnote_index_column": 62
        },
        {
         "PassengerId": 955,
         "Survived": 1,
         "_deepnote_index_column": 63
        },
        {
         "PassengerId": 956,
         "Survived": 1,
         "_deepnote_index_column": 64
        },
        {
         "PassengerId": 957,
         "Survived": 1,
         "_deepnote_index_column": 65
        },
        {
         "PassengerId": 958,
         "Survived": 1,
         "_deepnote_index_column": 66
        },
        {
         "PassengerId": 959,
         "Survived": 0,
         "_deepnote_index_column": 67
        },
        {
         "PassengerId": 960,
         "Survived": 1,
         "_deepnote_index_column": 68
        },
        {
         "PassengerId": 961,
         "Survived": 1,
         "_deepnote_index_column": 69
        },
        {
         "PassengerId": 962,
         "Survived": 1,
         "_deepnote_index_column": 70
        },
        {
         "PassengerId": 963,
         "Survived": 0,
         "_deepnote_index_column": 71
        },
        {
         "PassengerId": 964,
         "Survived": 0,
         "_deepnote_index_column": 72
        },
        {
         "PassengerId": 965,
         "Survived": 1,
         "_deepnote_index_column": 73
        },
        {
         "PassengerId": 966,
         "Survived": 1,
         "_deepnote_index_column": 74
        },
        {
         "PassengerId": 967,
         "Survived": 1,
         "_deepnote_index_column": 75
        },
        {
         "PassengerId": 968,
         "Survived": 0,
         "_deepnote_index_column": 76
        },
        {
         "PassengerId": 969,
         "Survived": 1,
         "_deepnote_index_column": 77
        },
        {
         "PassengerId": 970,
         "Survived": 0,
         "_deepnote_index_column": 78
        },
        {
         "PassengerId": 971,
         "Survived": 1,
         "_deepnote_index_column": 79
        },
        {
         "PassengerId": 972,
         "Survived": 1,
         "_deepnote_index_column": 80
        },
        {
         "PassengerId": 973,
         "Survived": 0,
         "_deepnote_index_column": 81
        },
        {
         "PassengerId": 974,
         "Survived": 0,
         "_deepnote_index_column": 82
        },
        {
         "PassengerId": 975,
         "Survived": 0,
         "_deepnote_index_column": 83
        },
        {
         "PassengerId": 976,
         "Survived": 0,
         "_deepnote_index_column": 84
        },
        {
         "PassengerId": 977,
         "Survived": 0,
         "_deepnote_index_column": 85
        },
        {
         "PassengerId": 978,
         "Survived": 1,
         "_deepnote_index_column": 86
        },
        {
         "PassengerId": 979,
         "Survived": 1,
         "_deepnote_index_column": 87
        },
        {
         "PassengerId": 980,
         "Survived": 1,
         "_deepnote_index_column": 88
        },
        {
         "PassengerId": 981,
         "Survived": 1,
         "_deepnote_index_column": 89
        },
        {
         "PassengerId": 982,
         "Survived": 0,
         "_deepnote_index_column": 90
        },
        {
         "PassengerId": 983,
         "Survived": 0,
         "_deepnote_index_column": 91
        },
        {
         "PassengerId": 984,
         "Survived": 1,
         "_deepnote_index_column": 92
        },
        {
         "PassengerId": 985,
         "Survived": 0,
         "_deepnote_index_column": 93
        },
        {
         "PassengerId": 986,
         "Survived": 0,
         "_deepnote_index_column": 94
        },
        {
         "PassengerId": 987,
         "Survived": 0,
         "_deepnote_index_column": 95
        },
        {
         "PassengerId": 988,
         "Survived": 1,
         "_deepnote_index_column": 96
        },
        {
         "PassengerId": 989,
         "Survived": 0,
         "_deepnote_index_column": 97
        },
        {
         "PassengerId": 990,
         "Survived": 1,
         "_deepnote_index_column": 98
        },
        {
         "PassengerId": 991,
         "Survived": 0,
         "_deepnote_index_column": 99
        },
        {
         "PassengerId": 992,
         "Survived": 1,
         "_deepnote_index_column": 100
        },
        {
         "PassengerId": 993,
         "Survived": 0,
         "_deepnote_index_column": 101
        },
        {
         "PassengerId": 994,
         "Survived": 0,
         "_deepnote_index_column": 102
        },
        {
         "PassengerId": 995,
         "Survived": 0,
         "_deepnote_index_column": 103
        },
        {
         "PassengerId": 996,
         "Survived": 1,
         "_deepnote_index_column": 104
        },
        {
         "PassengerId": 997,
         "Survived": 0,
         "_deepnote_index_column": 105
        },
        {
         "PassengerId": 998,
         "Survived": 0,
         "_deepnote_index_column": 106
        },
        {
         "PassengerId": 999,
         "Survived": 0,
         "_deepnote_index_column": 107
        },
        {
         "PassengerId": 1000,
         "Survived": 0,
         "_deepnote_index_column": 108
        },
        {
         "PassengerId": 1001,
         "Survived": 0,
         "_deepnote_index_column": 109
        },
        {
         "PassengerId": 1002,
         "Survived": 0,
         "_deepnote_index_column": 110
        },
        {
         "PassengerId": 1003,
         "Survived": 1,
         "_deepnote_index_column": 111
        },
        {
         "PassengerId": 1004,
         "Survived": 1,
         "_deepnote_index_column": 112
        },
        {
         "PassengerId": 1005,
         "Survived": 1,
         "_deepnote_index_column": 113
        },
        {
         "PassengerId": 1006,
         "Survived": 1,
         "_deepnote_index_column": 114
        },
        {
         "PassengerId": 1007,
         "Survived": 0,
         "_deepnote_index_column": 115
        },
        {
         "PassengerId": 1008,
         "Survived": 0,
         "_deepnote_index_column": 116
        },
        {
         "PassengerId": 1009,
         "Survived": 1,
         "_deepnote_index_column": 117
        },
        {
         "PassengerId": 1010,
         "Survived": 0,
         "_deepnote_index_column": 118
        },
        {
         "PassengerId": 1011,
         "Survived": 1,
         "_deepnote_index_column": 119
        },
        {
         "PassengerId": 1012,
         "Survived": 1,
         "_deepnote_index_column": 120
        },
        {
         "PassengerId": 1013,
         "Survived": 0,
         "_deepnote_index_column": 121
        },
        {
         "PassengerId": 1014,
         "Survived": 1,
         "_deepnote_index_column": 122
        },
        {
         "PassengerId": 1015,
         "Survived": 0,
         "_deepnote_index_column": 123
        },
        {
         "PassengerId": 1016,
         "Survived": 0,
         "_deepnote_index_column": 124
        },
        {
         "PassengerId": 1017,
         "Survived": 1,
         "_deepnote_index_column": 125
        },
        {
         "PassengerId": 1018,
         "Survived": 0,
         "_deepnote_index_column": 126
        },
        {
         "PassengerId": 1019,
         "Survived": 1,
         "_deepnote_index_column": 127
        },
        {
         "PassengerId": 1020,
         "Survived": 0,
         "_deepnote_index_column": 128
        },
        {
         "PassengerId": 1021,
         "Survived": 0,
         "_deepnote_index_column": 129
        },
        {
         "PassengerId": 1022,
         "Survived": 0,
         "_deepnote_index_column": 130
        },
        {
         "PassengerId": 1023,
         "Survived": 1,
         "_deepnote_index_column": 131
        },
        {
         "PassengerId": 1024,
         "Survived": 0,
         "_deepnote_index_column": 132
        },
        {
         "PassengerId": 1025,
         "Survived": 0,
         "_deepnote_index_column": 133
        },
        {
         "PassengerId": 1026,
         "Survived": 0,
         "_deepnote_index_column": 134
        },
        {
         "PassengerId": 1027,
         "Survived": 0,
         "_deepnote_index_column": 135
        },
        {
         "PassengerId": 1028,
         "Survived": 0,
         "_deepnote_index_column": 136
        },
        {
         "PassengerId": 1029,
         "Survived": 0,
         "_deepnote_index_column": 137
        },
        {
         "PassengerId": 1030,
         "Survived": 1,
         "_deepnote_index_column": 138
        },
        {
         "PassengerId": 1031,
         "Survived": 0,
         "_deepnote_index_column": 139
        },
        {
         "PassengerId": 1032,
         "Survived": 0,
         "_deepnote_index_column": 140
        },
        {
         "PassengerId": 1033,
         "Survived": 1,
         "_deepnote_index_column": 141
        },
        {
         "PassengerId": 1034,
         "Survived": 0,
         "_deepnote_index_column": 142
        },
        {
         "PassengerId": 1035,
         "Survived": 0,
         "_deepnote_index_column": 143
        },
        {
         "PassengerId": 1036,
         "Survived": 0,
         "_deepnote_index_column": 144
        },
        {
         "PassengerId": 1037,
         "Survived": 0,
         "_deepnote_index_column": 145
        },
        {
         "PassengerId": 1038,
         "Survived": 0,
         "_deepnote_index_column": 146
        },
        {
         "PassengerId": 1039,
         "Survived": 0,
         "_deepnote_index_column": 147
        },
        {
         "PassengerId": 1040,
         "Survived": 0,
         "_deepnote_index_column": 148
        },
        {
         "PassengerId": 1041,
         "Survived": 0,
         "_deepnote_index_column": 149
        },
        {
         "PassengerId": 1042,
         "Survived": 1,
         "_deepnote_index_column": 150
        },
        {
         "PassengerId": 1043,
         "Survived": 0,
         "_deepnote_index_column": 151
        },
        {
         "PassengerId": 1044,
         "Survived": 0,
         "_deepnote_index_column": 152
        },
        {
         "PassengerId": 1045,
         "Survived": 0,
         "_deepnote_index_column": 153
        },
        {
         "PassengerId": 1046,
         "Survived": 0,
         "_deepnote_index_column": 154
        },
        {
         "PassengerId": 1047,
         "Survived": 0,
         "_deepnote_index_column": 155
        },
        {
         "PassengerId": 1048,
         "Survived": 1,
         "_deepnote_index_column": 156
        },
        {
         "PassengerId": 1049,
         "Survived": 0,
         "_deepnote_index_column": 157
        },
        {
         "PassengerId": 1050,
         "Survived": 0,
         "_deepnote_index_column": 158
        },
        {
         "PassengerId": 1051,
         "Survived": 1,
         "_deepnote_index_column": 159
        },
        {
         "PassengerId": 1052,
         "Survived": 1,
         "_deepnote_index_column": 160
        },
        {
         "PassengerId": 1053,
         "Survived": 1,
         "_deepnote_index_column": 161
        },
        {
         "PassengerId": 1054,
         "Survived": 1,
         "_deepnote_index_column": 162
        },
        {
         "PassengerId": 1055,
         "Survived": 0,
         "_deepnote_index_column": 163
        },
        {
         "PassengerId": 1056,
         "Survived": 0,
         "_deepnote_index_column": 164
        },
        {
         "PassengerId": 1057,
         "Survived": 0,
         "_deepnote_index_column": 165
        },
        {
         "PassengerId": 1058,
         "Survived": 0,
         "_deepnote_index_column": 166
        },
        {
         "PassengerId": 1059,
         "Survived": 0,
         "_deepnote_index_column": 167
        },
        {
         "PassengerId": 1060,
         "Survived": 1,
         "_deepnote_index_column": 168
        },
        {
         "PassengerId": 1061,
         "Survived": 0,
         "_deepnote_index_column": 169
        },
        {
         "PassengerId": 1062,
         "Survived": 0,
         "_deepnote_index_column": 170
        },
        {
         "PassengerId": 1063,
         "Survived": 0,
         "_deepnote_index_column": 171
        },
        {
         "PassengerId": 1064,
         "Survived": 0,
         "_deepnote_index_column": 172
        },
        {
         "PassengerId": 1065,
         "Survived": 0,
         "_deepnote_index_column": 173
        },
        {
         "PassengerId": 1066,
         "Survived": 0,
         "_deepnote_index_column": 174
        },
        {
         "PassengerId": 1067,
         "Survived": 1,
         "_deepnote_index_column": 175
        },
        {
         "PassengerId": 1068,
         "Survived": 1,
         "_deepnote_index_column": 176
        },
        {
         "PassengerId": 1069,
         "Survived": 0,
         "_deepnote_index_column": 177
        },
        {
         "PassengerId": 1070,
         "Survived": 1,
         "_deepnote_index_column": 178
        },
        {
         "PassengerId": 1071,
         "Survived": 1,
         "_deepnote_index_column": 179
        },
        {
         "PassengerId": 1072,
         "Survived": 0,
         "_deepnote_index_column": 180
        },
        {
         "PassengerId": 1073,
         "Survived": 1,
         "_deepnote_index_column": 181
        },
        {
         "PassengerId": 1074,
         "Survived": 1,
         "_deepnote_index_column": 182
        },
        {
         "PassengerId": 1075,
         "Survived": 0,
         "_deepnote_index_column": 183
        },
        {
         "PassengerId": 1076,
         "Survived": 1,
         "_deepnote_index_column": 184
        },
        {
         "PassengerId": 1077,
         "Survived": 0,
         "_deepnote_index_column": 185
        },
        {
         "PassengerId": 1078,
         "Survived": 1,
         "_deepnote_index_column": 186
        },
        {
         "PassengerId": 1079,
         "Survived": 0,
         "_deepnote_index_column": 187
        },
        {
         "PassengerId": 1080,
         "Survived": 0,
         "_deepnote_index_column": 188
        },
        {
         "PassengerId": 1081,
         "Survived": 0,
         "_deepnote_index_column": 189
        },
        {
         "PassengerId": 1082,
         "Survived": 0,
         "_deepnote_index_column": 190
        },
        {
         "PassengerId": 1083,
         "Survived": 0,
         "_deepnote_index_column": 191
        },
        {
         "PassengerId": 1084,
         "Survived": 1,
         "_deepnote_index_column": 192
        },
        {
         "PassengerId": 1085,
         "Survived": 0,
         "_deepnote_index_column": 193
        },
        {
         "PassengerId": 1086,
         "Survived": 1,
         "_deepnote_index_column": 194
        },
        {
         "PassengerId": 1087,
         "Survived": 0,
         "_deepnote_index_column": 195
        },
        {
         "PassengerId": 1088,
         "Survived": 1,
         "_deepnote_index_column": 196
        },
        {
         "PassengerId": 1089,
         "Survived": 1,
         "_deepnote_index_column": 197
        },
        {
         "PassengerId": 1090,
         "Survived": 0,
         "_deepnote_index_column": 198
        },
        {
         "PassengerId": 1091,
         "Survived": 1,
         "_deepnote_index_column": 199
        },
        {
         "PassengerId": 1092,
         "Survived": 1,
         "_deepnote_index_column": 200
        },
        {
         "PassengerId": 1093,
         "Survived": 1,
         "_deepnote_index_column": 201
        },
        {
         "PassengerId": 1094,
         "Survived": 1,
         "_deepnote_index_column": 202
        },
        {
         "PassengerId": 1095,
         "Survived": 1,
         "_deepnote_index_column": 203
        },
        {
         "PassengerId": 1096,
         "Survived": 0,
         "_deepnote_index_column": 204
        },
        {
         "PassengerId": 1097,
         "Survived": 0,
         "_deepnote_index_column": 205
        },
        {
         "PassengerId": 1098,
         "Survived": 1,
         "_deepnote_index_column": 206
        },
        {
         "PassengerId": 1099,
         "Survived": 0,
         "_deepnote_index_column": 207
        },
        {
         "PassengerId": 1100,
         "Survived": 1,
         "_deepnote_index_column": 208
        },
        {
         "PassengerId": 1101,
         "Survived": 0,
         "_deepnote_index_column": 209
        },
        {
         "PassengerId": 1102,
         "Survived": 0,
         "_deepnote_index_column": 210
        },
        {
         "PassengerId": 1103,
         "Survived": 0,
         "_deepnote_index_column": 211
        },
        {
         "PassengerId": 1104,
         "Survived": 0,
         "_deepnote_index_column": 212
        },
        {
         "PassengerId": 1105,
         "Survived": 1,
         "_deepnote_index_column": 213
        },
        {
         "PassengerId": 1106,
         "Survived": 0,
         "_deepnote_index_column": 214
        },
        {
         "PassengerId": 1107,
         "Survived": 0,
         "_deepnote_index_column": 215
        },
        {
         "PassengerId": 1108,
         "Survived": 1,
         "_deepnote_index_column": 216
        },
        {
         "PassengerId": 1109,
         "Survived": 0,
         "_deepnote_index_column": 217
        },
        {
         "PassengerId": 1110,
         "Survived": 1,
         "_deepnote_index_column": 218
        },
        {
         "PassengerId": 1111,
         "Survived": 0,
         "_deepnote_index_column": 219
        },
        {
         "PassengerId": 1112,
         "Survived": 1,
         "_deepnote_index_column": 220
        },
        {
         "PassengerId": 1113,
         "Survived": 0,
         "_deepnote_index_column": 221
        },
        {
         "PassengerId": 1114,
         "Survived": 1,
         "_deepnote_index_column": 222
        },
        {
         "PassengerId": 1115,
         "Survived": 0,
         "_deepnote_index_column": 223
        },
        {
         "PassengerId": 1116,
         "Survived": 1,
         "_deepnote_index_column": 224
        },
        {
         "PassengerId": 1117,
         "Survived": 1,
         "_deepnote_index_column": 225
        },
        {
         "PassengerId": 1118,
         "Survived": 0,
         "_deepnote_index_column": 226
        },
        {
         "PassengerId": 1119,
         "Survived": 1,
         "_deepnote_index_column": 227
        },
        {
         "PassengerId": 1120,
         "Survived": 0,
         "_deepnote_index_column": 228
        },
        {
         "PassengerId": 1121,
         "Survived": 0,
         "_deepnote_index_column": 229
        },
        {
         "PassengerId": 1122,
         "Survived": 0,
         "_deepnote_index_column": 230
        },
        {
         "PassengerId": 1123,
         "Survived": 1,
         "_deepnote_index_column": 231
        },
        {
         "PassengerId": 1124,
         "Survived": 0,
         "_deepnote_index_column": 232
        },
        {
         "PassengerId": 1125,
         "Survived": 0,
         "_deepnote_index_column": 233
        },
        {
         "PassengerId": 1126,
         "Survived": 0,
         "_deepnote_index_column": 234
        },
        {
         "PassengerId": 1127,
         "Survived": 0,
         "_deepnote_index_column": 235
        },
        {
         "PassengerId": 1128,
         "Survived": 0,
         "_deepnote_index_column": 236
        },
        {
         "PassengerId": 1129,
         "Survived": 0,
         "_deepnote_index_column": 237
        },
        {
         "PassengerId": 1130,
         "Survived": 1,
         "_deepnote_index_column": 238
        },
        {
         "PassengerId": 1131,
         "Survived": 1,
         "_deepnote_index_column": 239
        },
        {
         "PassengerId": 1132,
         "Survived": 1,
         "_deepnote_index_column": 240
        },
        {
         "PassengerId": 1133,
         "Survived": 1,
         "_deepnote_index_column": 241
        },
        {
         "PassengerId": 1134,
         "Survived": 1,
         "_deepnote_index_column": 242
        },
        {
         "PassengerId": 1135,
         "Survived": 0,
         "_deepnote_index_column": 243
        },
        {
         "PassengerId": 1136,
         "Survived": 0,
         "_deepnote_index_column": 244
        },
        {
         "PassengerId": 1137,
         "Survived": 1,
         "_deepnote_index_column": 245
        },
        {
         "PassengerId": 1138,
         "Survived": 1,
         "_deepnote_index_column": 246
        },
        {
         "PassengerId": 1139,
         "Survived": 0,
         "_deepnote_index_column": 247
        },
        {
         "PassengerId": 1140,
         "Survived": 1,
         "_deepnote_index_column": 248
        },
        {
         "PassengerId": 1141,
         "Survived": 1,
         "_deepnote_index_column": 249
        },
        {
         "PassengerId": 1142,
         "Survived": 1,
         "_deepnote_index_column": 250
        },
        {
         "PassengerId": 1143,
         "Survived": 0,
         "_deepnote_index_column": 251
        },
        {
         "PassengerId": 1144,
         "Survived": 0,
         "_deepnote_index_column": 252
        },
        {
         "PassengerId": 1145,
         "Survived": 0,
         "_deepnote_index_column": 253
        },
        {
         "PassengerId": 1146,
         "Survived": 0,
         "_deepnote_index_column": 254
        },
        {
         "PassengerId": 1147,
         "Survived": 0,
         "_deepnote_index_column": 255
        },
        {
         "PassengerId": 1148,
         "Survived": 0,
         "_deepnote_index_column": 256
        },
        {
         "PassengerId": 1149,
         "Survived": 0,
         "_deepnote_index_column": 257
        },
        {
         "PassengerId": 1150,
         "Survived": 1,
         "_deepnote_index_column": 258
        },
        {
         "PassengerId": 1151,
         "Survived": 0,
         "_deepnote_index_column": 259
        },
        {
         "PassengerId": 1152,
         "Survived": 0,
         "_deepnote_index_column": 260
        },
        {
         "PassengerId": 1153,
         "Survived": 0,
         "_deepnote_index_column": 261
        },
        {
         "PassengerId": 1154,
         "Survived": 1,
         "_deepnote_index_column": 262
        },
        {
         "PassengerId": 1155,
         "Survived": 1,
         "_deepnote_index_column": 263
        },
        {
         "PassengerId": 1156,
         "Survived": 0,
         "_deepnote_index_column": 264
        },
        {
         "PassengerId": 1157,
         "Survived": 0,
         "_deepnote_index_column": 265
        },
        {
         "PassengerId": 1158,
         "Survived": 0,
         "_deepnote_index_column": 266
        },
        {
         "PassengerId": 1159,
         "Survived": 0,
         "_deepnote_index_column": 267
        },
        {
         "PassengerId": 1160,
         "Survived": 1,
         "_deepnote_index_column": 268
        },
        {
         "PassengerId": 1161,
         "Survived": 0,
         "_deepnote_index_column": 269
        },
        {
         "PassengerId": 1162,
         "Survived": 0,
         "_deepnote_index_column": 270
        },
        {
         "PassengerId": 1163,
         "Survived": 0,
         "_deepnote_index_column": 271
        },
        {
         "PassengerId": 1164,
         "Survived": 1,
         "_deepnote_index_column": 272
        },
        {
         "PassengerId": 1165,
         "Survived": 1,
         "_deepnote_index_column": 273
        },
        {
         "PassengerId": 1166,
         "Survived": 0,
         "_deepnote_index_column": 274
        },
        {
         "PassengerId": 1167,
         "Survived": 1,
         "_deepnote_index_column": 275
        },
        {
         "PassengerId": 1168,
         "Survived": 0,
         "_deepnote_index_column": 276
        },
        {
         "PassengerId": 1169,
         "Survived": 0,
         "_deepnote_index_column": 277
        },
        {
         "PassengerId": 1170,
         "Survived": 0,
         "_deepnote_index_column": 278
        },
        {
         "PassengerId": 1171,
         "Survived": 0,
         "_deepnote_index_column": 279
        },
        {
         "PassengerId": 1172,
         "Survived": 0,
         "_deepnote_index_column": 280
        },
        {
         "PassengerId": 1173,
         "Survived": 1,
         "_deepnote_index_column": 281
        },
        {
         "PassengerId": 1174,
         "Survived": 1,
         "_deepnote_index_column": 282
        },
        {
         "PassengerId": 1175,
         "Survived": 1,
         "_deepnote_index_column": 283
        },
        {
         "PassengerId": 1176,
         "Survived": 1,
         "_deepnote_index_column": 284
        },
        {
         "PassengerId": 1177,
         "Survived": 0,
         "_deepnote_index_column": 285
        },
        {
         "PassengerId": 1178,
         "Survived": 0,
         "_deepnote_index_column": 286
        },
        {
         "PassengerId": 1179,
         "Survived": 1,
         "_deepnote_index_column": 287
        },
        {
         "PassengerId": 1180,
         "Survived": 0,
         "_deepnote_index_column": 288
        },
        {
         "PassengerId": 1181,
         "Survived": 0,
         "_deepnote_index_column": 289
        },
        {
         "PassengerId": 1182,
         "Survived": 0,
         "_deepnote_index_column": 290
        },
        {
         "PassengerId": 1183,
         "Survived": 1,
         "_deepnote_index_column": 291
        },
        {
         "PassengerId": 1184,
         "Survived": 0,
         "_deepnote_index_column": 292
        },
        {
         "PassengerId": 1185,
         "Survived": 1,
         "_deepnote_index_column": 293
        },
        {
         "PassengerId": 1186,
         "Survived": 0,
         "_deepnote_index_column": 294
        },
        {
         "PassengerId": 1187,
         "Survived": 0,
         "_deepnote_index_column": 295
        },
        {
         "PassengerId": 1188,
         "Survived": 1,
         "_deepnote_index_column": 296
        },
        {
         "PassengerId": 1189,
         "Survived": 0,
         "_deepnote_index_column": 297
        },
        {
         "PassengerId": 1190,
         "Survived": 0,
         "_deepnote_index_column": 298
        },
        {
         "PassengerId": 1191,
         "Survived": 0,
         "_deepnote_index_column": 299
        },
        {
         "PassengerId": 1192,
         "Survived": 0,
         "_deepnote_index_column": 300
        },
        {
         "PassengerId": 1193,
         "Survived": 0,
         "_deepnote_index_column": 301
        },
        {
         "PassengerId": 1194,
         "Survived": 0,
         "_deepnote_index_column": 302
        },
        {
         "PassengerId": 1195,
         "Survived": 0,
         "_deepnote_index_column": 303
        },
        {
         "PassengerId": 1196,
         "Survived": 1,
         "_deepnote_index_column": 304
        },
        {
         "PassengerId": 1197,
         "Survived": 1,
         "_deepnote_index_column": 305
        },
        {
         "PassengerId": 1198,
         "Survived": 0,
         "_deepnote_index_column": 306
        },
        {
         "PassengerId": 1199,
         "Survived": 0,
         "_deepnote_index_column": 307
        },
        {
         "PassengerId": 1200,
         "Survived": 0,
         "_deepnote_index_column": 308
        },
        {
         "PassengerId": 1201,
         "Survived": 0,
         "_deepnote_index_column": 309
        },
        {
         "PassengerId": 1202,
         "Survived": 0,
         "_deepnote_index_column": 310
        },
        {
         "PassengerId": 1203,
         "Survived": 0,
         "_deepnote_index_column": 311
        },
        {
         "PassengerId": 1204,
         "Survived": 0,
         "_deepnote_index_column": 312
        },
        {
         "PassengerId": 1205,
         "Survived": 1,
         "_deepnote_index_column": 313
        },
        {
         "PassengerId": 1206,
         "Survived": 1,
         "_deepnote_index_column": 314
        },
        {
         "PassengerId": 1207,
         "Survived": 1,
         "_deepnote_index_column": 315
        },
        {
         "PassengerId": 1208,
         "Survived": 0,
         "_deepnote_index_column": 316
        },
        {
         "PassengerId": 1209,
         "Survived": 0,
         "_deepnote_index_column": 317
        },
        {
         "PassengerId": 1210,
         "Survived": 0,
         "_deepnote_index_column": 318
        },
        {
         "PassengerId": 1211,
         "Survived": 0,
         "_deepnote_index_column": 319
        },
        {
         "PassengerId": 1212,
         "Survived": 0,
         "_deepnote_index_column": 320
        },
        {
         "PassengerId": 1213,
         "Survived": 0,
         "_deepnote_index_column": 321
        },
        {
         "PassengerId": 1214,
         "Survived": 0,
         "_deepnote_index_column": 322
        },
        {
         "PassengerId": 1215,
         "Survived": 0,
         "_deepnote_index_column": 323
        },
        {
         "PassengerId": 1216,
         "Survived": 1,
         "_deepnote_index_column": 324
        },
        {
         "PassengerId": 1217,
         "Survived": 0,
         "_deepnote_index_column": 325
        },
        {
         "PassengerId": 1218,
         "Survived": 1,
         "_deepnote_index_column": 326
        },
        {
         "PassengerId": 1219,
         "Survived": 0,
         "_deepnote_index_column": 327
        },
        {
         "PassengerId": 1220,
         "Survived": 0,
         "_deepnote_index_column": 328
        },
        {
         "PassengerId": 1221,
         "Survived": 0,
         "_deepnote_index_column": 329
        },
        {
         "PassengerId": 1222,
         "Survived": 1,
         "_deepnote_index_column": 330
        },
        {
         "PassengerId": 1223,
         "Survived": 0,
         "_deepnote_index_column": 331
        },
        {
         "PassengerId": 1224,
         "Survived": 0,
         "_deepnote_index_column": 332
        },
        {
         "PassengerId": 1225,
         "Survived": 1,
         "_deepnote_index_column": 333
        },
        {
         "PassengerId": 1226,
         "Survived": 0,
         "_deepnote_index_column": 334
        },
        {
         "PassengerId": 1227,
         "Survived": 0,
         "_deepnote_index_column": 335
        },
        {
         "PassengerId": 1228,
         "Survived": 0,
         "_deepnote_index_column": 336
        },
        {
         "PassengerId": 1229,
         "Survived": 0,
         "_deepnote_index_column": 337
        },
        {
         "PassengerId": 1230,
         "Survived": 0,
         "_deepnote_index_column": 338
        },
        {
         "PassengerId": 1231,
         "Survived": 0,
         "_deepnote_index_column": 339
        },
        {
         "PassengerId": 1232,
         "Survived": 0,
         "_deepnote_index_column": 340
        },
        {
         "PassengerId": 1233,
         "Survived": 0,
         "_deepnote_index_column": 341
        },
        {
         "PassengerId": 1234,
         "Survived": 0,
         "_deepnote_index_column": 342
        },
        {
         "PassengerId": 1235,
         "Survived": 1,
         "_deepnote_index_column": 343
        },
        {
         "PassengerId": 1236,
         "Survived": 1,
         "_deepnote_index_column": 344
        },
        {
         "PassengerId": 1237,
         "Survived": 1,
         "_deepnote_index_column": 345
        },
        {
         "PassengerId": 1238,
         "Survived": 0,
         "_deepnote_index_column": 346
        },
        {
         "PassengerId": 1239,
         "Survived": 1,
         "_deepnote_index_column": 347
        },
        {
         "PassengerId": 1240,
         "Survived": 0,
         "_deepnote_index_column": 348
        },
        {
         "PassengerId": 1241,
         "Survived": 1,
         "_deepnote_index_column": 349
        },
        {
         "PassengerId": 1242,
         "Survived": 1,
         "_deepnote_index_column": 350
        },
        {
         "PassengerId": 1243,
         "Survived": 0,
         "_deepnote_index_column": 351
        },
        {
         "PassengerId": 1244,
         "Survived": 0,
         "_deepnote_index_column": 352
        },
        {
         "PassengerId": 1245,
         "Survived": 0,
         "_deepnote_index_column": 353
        },
        {
         "PassengerId": 1246,
         "Survived": 0,
         "_deepnote_index_column": 354
        },
        {
         "PassengerId": 1247,
         "Survived": 0,
         "_deepnote_index_column": 355
        },
        {
         "PassengerId": 1248,
         "Survived": 1,
         "_deepnote_index_column": 356
        },
        {
         "PassengerId": 1249,
         "Survived": 0,
         "_deepnote_index_column": 357
        },
        {
         "PassengerId": 1250,
         "Survived": 0,
         "_deepnote_index_column": 358
        },
        {
         "PassengerId": 1251,
         "Survived": 0,
         "_deepnote_index_column": 359
        },
        {
         "PassengerId": 1252,
         "Survived": 0,
         "_deepnote_index_column": 360
        },
        {
         "PassengerId": 1253,
         "Survived": 1,
         "_deepnote_index_column": 361
        },
        {
         "PassengerId": 1254,
         "Survived": 1,
         "_deepnote_index_column": 362
        },
        {
         "PassengerId": 1255,
         "Survived": 0,
         "_deepnote_index_column": 363
        },
        {
         "PassengerId": 1256,
         "Survived": 1,
         "_deepnote_index_column": 364
        },
        {
         "PassengerId": 1257,
         "Survived": 0,
         "_deepnote_index_column": 365
        },
        {
         "PassengerId": 1258,
         "Survived": 0,
         "_deepnote_index_column": 366
        },
        {
         "PassengerId": 1259,
         "Survived": 1,
         "_deepnote_index_column": 367
        },
        {
         "PassengerId": 1260,
         "Survived": 1,
         "_deepnote_index_column": 368
        },
        {
         "PassengerId": 1261,
         "Survived": 0,
         "_deepnote_index_column": 369
        },
        {
         "PassengerId": 1262,
         "Survived": 0,
         "_deepnote_index_column": 370
        },
        {
         "PassengerId": 1263,
         "Survived": 1,
         "_deepnote_index_column": 371
        },
        {
         "PassengerId": 1264,
         "Survived": 0,
         "_deepnote_index_column": 372
        },
        {
         "PassengerId": 1265,
         "Survived": 0,
         "_deepnote_index_column": 373
        },
        {
         "PassengerId": 1266,
         "Survived": 1,
         "_deepnote_index_column": 374
        },
        {
         "PassengerId": 1267,
         "Survived": 1,
         "_deepnote_index_column": 375
        },
        {
         "PassengerId": 1268,
         "Survived": 0,
         "_deepnote_index_column": 376
        },
        {
         "PassengerId": 1269,
         "Survived": 0,
         "_deepnote_index_column": 377
        },
        {
         "PassengerId": 1270,
         "Survived": 0,
         "_deepnote_index_column": 378
        },
        {
         "PassengerId": 1271,
         "Survived": 0,
         "_deepnote_index_column": 379
        },
        {
         "PassengerId": 1272,
         "Survived": 0,
         "_deepnote_index_column": 380
        },
        {
         "PassengerId": 1273,
         "Survived": 0,
         "_deepnote_index_column": 381
        },
        {
         "PassengerId": 1274,
         "Survived": 1,
         "_deepnote_index_column": 382
        },
        {
         "PassengerId": 1275,
         "Survived": 1,
         "_deepnote_index_column": 383
        },
        {
         "PassengerId": 1276,
         "Survived": 0,
         "_deepnote_index_column": 384
        },
        {
         "PassengerId": 1277,
         "Survived": 1,
         "_deepnote_index_column": 385
        },
        {
         "PassengerId": 1278,
         "Survived": 0,
         "_deepnote_index_column": 386
        },
        {
         "PassengerId": 1279,
         "Survived": 0,
         "_deepnote_index_column": 387
        },
        {
         "PassengerId": 1280,
         "Survived": 0,
         "_deepnote_index_column": 388
        },
        {
         "PassengerId": 1281,
         "Survived": 0,
         "_deepnote_index_column": 389
        },
        {
         "PassengerId": 1282,
         "Survived": 0,
         "_deepnote_index_column": 390
        },
        {
         "PassengerId": 1283,
         "Survived": 1,
         "_deepnote_index_column": 391
        },
        {
         "PassengerId": 1284,
         "Survived": 1,
         "_deepnote_index_column": 392
        },
        {
         "PassengerId": 1285,
         "Survived": 0,
         "_deepnote_index_column": 393
        },
        {
         "PassengerId": 1286,
         "Survived": 0,
         "_deepnote_index_column": 394
        },
        {
         "PassengerId": 1287,
         "Survived": 1,
         "_deepnote_index_column": 395
        },
        {
         "PassengerId": 1288,
         "Survived": 0,
         "_deepnote_index_column": 396
        },
        {
         "PassengerId": 1289,
         "Survived": 1,
         "_deepnote_index_column": 397
        },
        {
         "PassengerId": 1290,
         "Survived": 0,
         "_deepnote_index_column": 398
        },
        {
         "PassengerId": 1291,
         "Survived": 0,
         "_deepnote_index_column": 399
        },
        {
         "PassengerId": 1292,
         "Survived": 1,
         "_deepnote_index_column": 400
        },
        {
         "PassengerId": 1293,
         "Survived": 0,
         "_deepnote_index_column": 401
        },
        {
         "PassengerId": 1294,
         "Survived": 1,
         "_deepnote_index_column": 402
        },
        {
         "PassengerId": 1295,
         "Survived": 0,
         "_deepnote_index_column": 403
        },
        {
         "PassengerId": 1296,
         "Survived": 1,
         "_deepnote_index_column": 404
        },
        {
         "PassengerId": 1297,
         "Survived": 1,
         "_deepnote_index_column": 405
        },
        {
         "PassengerId": 1298,
         "Survived": 0,
         "_deepnote_index_column": 406
        },
        {
         "PassengerId": 1299,
         "Survived": 0,
         "_deepnote_index_column": 407
        },
        {
         "PassengerId": 1300,
         "Survived": 1,
         "_deepnote_index_column": 408
        },
        {
         "PassengerId": 1301,
         "Survived": 1,
         "_deepnote_index_column": 409
        },
        {
         "PassengerId": 1302,
         "Survived": 1,
         "_deepnote_index_column": 410
        },
        {
         "PassengerId": 1303,
         "Survived": 1,
         "_deepnote_index_column": 411
        },
        {
         "PassengerId": 1304,
         "Survived": 1,
         "_deepnote_index_column": 412
        },
        {
         "PassengerId": 1305,
         "Survived": 0,
         "_deepnote_index_column": 413
        },
        {
         "PassengerId": 1306,
         "Survived": 1,
         "_deepnote_index_column": 414
        },
        {
         "PassengerId": 1307,
         "Survived": 0,
         "_deepnote_index_column": 415
        },
        {
         "PassengerId": 1308,
         "Survived": 0,
         "_deepnote_index_column": 416
        },
        {
         "PassengerId": 1309,
         "Survived": 1,
         "_deepnote_index_column": 417
        }
       ]
      },
      "text/html": [
       "<div>\n",
       "<style scoped>\n",
       "    .dataframe tbody tr th:only-of-type {\n",
       "        vertical-align: middle;\n",
       "    }\n",
       "\n",
       "    .dataframe tbody tr th {\n",
       "        vertical-align: top;\n",
       "    }\n",
       "\n",
       "    .dataframe thead th {\n",
       "        text-align: right;\n",
       "    }\n",
       "</style>\n",
       "<table border=\"1\" class=\"dataframe\">\n",
       "  <thead>\n",
       "    <tr style=\"text-align: right;\">\n",
       "      <th></th>\n",
       "      <th>PassengerId</th>\n",
       "      <th>Survived</th>\n",
       "    </tr>\n",
       "  </thead>\n",
       "  <tbody>\n",
       "    <tr>\n",
       "      <th>0</th>\n",
       "      <td>892</td>\n",
       "      <td>0</td>\n",
       "    </tr>\n",
       "    <tr>\n",
       "      <th>1</th>\n",
       "      <td>893</td>\n",
       "      <td>0</td>\n",
       "    </tr>\n",
       "    <tr>\n",
       "      <th>2</th>\n",
       "      <td>894</td>\n",
       "      <td>0</td>\n",
       "    </tr>\n",
       "    <tr>\n",
       "      <th>3</th>\n",
       "      <td>895</td>\n",
       "      <td>0</td>\n",
       "    </tr>\n",
       "    <tr>\n",
       "      <th>4</th>\n",
       "      <td>896</td>\n",
       "      <td>0</td>\n",
       "    </tr>\n",
       "    <tr>\n",
       "      <th>...</th>\n",
       "      <td>...</td>\n",
       "      <td>...</td>\n",
       "    </tr>\n",
       "    <tr>\n",
       "      <th>413</th>\n",
       "      <td>1305</td>\n",
       "      <td>0</td>\n",
       "    </tr>\n",
       "    <tr>\n",
       "      <th>414</th>\n",
       "      <td>1306</td>\n",
       "      <td>1</td>\n",
       "    </tr>\n",
       "    <tr>\n",
       "      <th>415</th>\n",
       "      <td>1307</td>\n",
       "      <td>0</td>\n",
       "    </tr>\n",
       "    <tr>\n",
       "      <th>416</th>\n",
       "      <td>1308</td>\n",
       "      <td>0</td>\n",
       "    </tr>\n",
       "    <tr>\n",
       "      <th>417</th>\n",
       "      <td>1309</td>\n",
       "      <td>1</td>\n",
       "    </tr>\n",
       "  </tbody>\n",
       "</table>\n",
       "<p>418 rows × 2 columns</p>\n",
       "</div>"
      ],
      "text/plain": [
       "     PassengerId  Survived\n",
       "0            892         0\n",
       "1            893         0\n",
       "2            894         0\n",
       "3            895         0\n",
       "4            896         0\n",
       "..           ...       ...\n",
       "413         1305         0\n",
       "414         1306         1\n",
       "415         1307         0\n",
       "416         1308         0\n",
       "417         1309         1\n",
       "\n",
       "[418 rows x 2 columns]"
      ]
     },
     "execution_count": 183,
     "metadata": {},
     "output_type": "execute_result"
    }
   ],
   "source": [
    "sub"
   ]
  },
  {
   "cell_type": "code",
   "execution_count": null,
   "metadata": {
    "cell_id": "00061-177fcdd7-b12d-4f93-9eba-98545cc0b71f",
    "deepnote_cell_type": "code",
    "deepnote_to_be_reexecuted": false,
    "execution_millis": 4,
    "execution_start": 1633267031457,
    "id": "99KujNUQL8Lm",
    "source_hash": "b264e9cb"
   },
   "outputs": [],
   "source": [
    "sub.to_csv('submission_lastly.csv', index=False)"
   ]
  },
  {
   "cell_type": "code",
   "execution_count": null,
   "metadata": {
    "cell_id": "00062-4b292bc4-dee0-476c-87f0-6552a481e648",
    "deepnote_cell_type": "code",
    "deepnote_to_be_reexecuted": true,
    "id": "hdxlipA3L8Lm",
    "source_hash": "b623e53d"
   },
   "outputs": [],
   "source": []
  },
  {
   "cell_type": "markdown",
   "metadata": {
    "created_in_deepnote_cell": true,
    "deepnote_cell_type": "markdown",
    "tags": []
   },
   "source": [
    "<a style='text-decoration:none;line-height:16px;display:flex;color:#5B5B62;padding:10px;justify-content:end;' href='https://deepnote.com?utm_source=created-in-deepnote-cell&projectId=6f45f37b-2499-4526-9eb4-651deeca3084' target=\"_blank\">\n",
    "<img alt='Created in deepnote.com' style='display:inline;max-height:16px;margin:0px;margin-right:7.5px;' src='data:image/svg+xml;base64,PD94bWwgdmVyc2lvbj0iMS4wIiBlbmNvZGluZz0iVVRGLTgiPz4KPHN2ZyB3aWR0aD0iODBweCIgaGVpZ2h0PSI4MHB4IiB2aWV3Qm94PSIwIDAgODAgODAiIHZlcnNpb249IjEuMSIgeG1sbnM9Imh0dHA6Ly93d3cudzMub3JnLzIwMDAvc3ZnIiB4bWxuczp4bGluaz0iaHR0cDovL3d3dy53My5vcmcvMTk5OS94bGluayI+CiAgICA8IS0tIEdlbmVyYXRvcjogU2tldGNoIDU0LjEgKDc2NDkwKSAtIGh0dHBzOi8vc2tldGNoYXBwLmNvbSAtLT4KICAgIDx0aXRsZT5Hcm91cCAzPC90aXRsZT4KICAgIDxkZXNjPkNyZWF0ZWQgd2l0aCBTa2V0Y2guPC9kZXNjPgogICAgPGcgaWQ9IkxhbmRpbmciIHN0cm9rZT0ibm9uZSIgc3Ryb2tlLXdpZHRoPSIxIiBmaWxsPSJub25lIiBmaWxsLXJ1bGU9ImV2ZW5vZGQiPgogICAgICAgIDxnIGlkPSJBcnRib2FyZCIgdHJhbnNmb3JtPSJ0cmFuc2xhdGUoLTEyMzUuMDAwMDAwLCAtNzkuMDAwMDAwKSI+CiAgICAgICAgICAgIDxnIGlkPSJHcm91cC0zIiB0cmFuc2Zvcm09InRyYW5zbGF0ZSgxMjM1LjAwMDAwMCwgNzkuMDAwMDAwKSI+CiAgICAgICAgICAgICAgICA8cG9seWdvbiBpZD0iUGF0aC0yMCIgZmlsbD0iIzAyNjVCNCIgcG9pbnRzPSIyLjM3NjIzNzYyIDgwIDM4LjA0NzY2NjcgODAgNTcuODIxNzgyMiA3My44MDU3NTkyIDU3LjgyMTc4MjIgMzIuNzU5MjczOSAzOS4xNDAyMjc4IDMxLjY4MzE2ODMiPjwvcG9seWdvbj4KICAgICAgICAgICAgICAgIDxwYXRoIGQ9Ik0zNS4wMDc3MTgsODAgQzQyLjkwNjIwMDcsNzYuNDU0OTM1OCA0Ny41NjQ5MTY3LDcxLjU0MjI2NzEgNDguOTgzODY2LDY1LjI2MTk5MzkgQzUxLjExMjI4OTksNTUuODQxNTg0MiA0MS42NzcxNzk1LDQ5LjIxMjIyODQgMjUuNjIzOTg0Niw0OS4yMTIyMjg0IEMyNS40ODQ5Mjg5LDQ5LjEyNjg0NDggMjkuODI2MTI5Niw0My4yODM4MjQ4IDM4LjY0NzU4NjksMzEuNjgzMTY4MyBMNzIuODcxMjg3MSwzMi41NTQ0MjUgTDY1LjI4MDk3Myw2Ny42NzYzNDIxIEw1MS4xMTIyODk5LDc3LjM3NjE0NCBMMzUuMDA3NzE4LDgwIFoiIGlkPSJQYXRoLTIyIiBmaWxsPSIjMDAyODY4Ij48L3BhdGg+CiAgICAgICAgICAgICAgICA8cGF0aCBkPSJNMCwzNy43MzA0NDA1IEwyNy4xMTQ1MzcsMC4yNTcxMTE0MzYgQzYyLjM3MTUxMjMsLTEuOTkwNzE3MDEgODAsMTAuNTAwMzkyNyA4MCwzNy43MzA0NDA1IEM4MCw2NC45NjA0ODgyIDY0Ljc3NjUwMzgsNzkuMDUwMzQxNCAzNC4zMjk1MTEzLDgwIEM0Ny4wNTUzNDg5LDc3LjU2NzA4MDggNTMuNDE4MjY3Nyw3MC4zMTM2MTAzIDUzLjQxODI2NzcsNTguMjM5NTg4NSBDNTMuNDE4MjY3Nyw0MC4xMjg1NTU3IDM2LjMwMzk1NDQsMzcuNzMwNDQwNSAyNS4yMjc0MTcsMzcuNzMwNDQwNSBDMTcuODQzMDU4NiwzNy43MzA0NDA1IDkuNDMzOTE5NjYsMzcuNzMwNDQwNSAwLDM3LjczMDQ0MDUgWiIgaWQ9IlBhdGgtMTkiIGZpbGw9IiMzNzkzRUYiPjwvcGF0aD4KICAgICAgICAgICAgPC9nPgogICAgICAgIDwvZz4KICAgIDwvZz4KPC9zdmc+' > </img>\n",
    "Created in <span style='font-weight:600;margin-left:4px;'>Deepnote</span></a>"
   ]
  }
 ],
 "metadata": {
  "colab": {
   "name": "titanic_0.82634.ipynb",
   "provenance": []
  },
  "deepnote": {},
  "deepnote_execution_queue": [],
  "deepnote_notebook_id": "f2cf0a64-0330-4f45-bdb1-eb2c31e5a468",
  "kernelspec": {
   "display_name": "Python 3",
   "language": "python",
   "name": "python3"
  },
  "language_info": {
   "codemirror_mode": {
    "name": "ipython",
    "version": 3
   },
   "file_extension": ".py",
   "mimetype": "text/x-python",
   "name": "python",
   "nbconvert_exporter": "python",
   "pygments_lexer": "ipython3",
   "version": "3.7.6"
  }
 },
 "nbformat": 4,
 "nbformat_minor": 1
}
