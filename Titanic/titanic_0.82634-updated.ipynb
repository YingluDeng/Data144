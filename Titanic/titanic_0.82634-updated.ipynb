{
 "cells": [
  {
   "cell_type": "code",
   "execution_count": 1,
   "metadata": {
    "_cell_guid": "b1076dfc-b9ad-4769-8c92-a6c4dae69d19",
    "_uuid": "8f2839f25d086af736a60e9eeb907d3b93b6e0e5"
   },
   "outputs": [],
   "source": [
    "#load the library\n",
    "import numpy as np\n",
    "import pandas as pd\n",
    "\n",
    "import sklearn.datasets\n",
    "import sklearn.metrics\n",
    "from sklearn.model_selection import train_test_split\n",
    "from sklearn import preprocessing\n",
    "from sklearn.metrics import log_loss\n",
    "from sklearn.model_selection import StratifiedKFold\n",
    "from sklearn.preprocessing import QuantileTransformer\n",
    "from sklearn.metrics import accuracy_score\n",
    "from sklearn import linear_model\n",
    "from sklearn import ensemble\n",
    "from sklearn import datasets\n",
    "from sklearn import model_selection\n",
    "from sklearn.ensemble import VotingClassifier \n",
    "from sklearn.linear_model import LogisticRegression \n",
    "# from sklearn.svm import SVC \n",
    "from sklearn.tree import DecisionTreeClassifier \n",
    "from sklearn.datasets import load_iris \n",
    "from sklearn.metrics import accuracy_score \n",
    "from sklearn.model_selection import train_test_split\n",
    "\n",
    "import lightgbm as lgb\n",
    "import optuna\n",
    "import warnings\n",
    "from tqdm import tqdm\n",
    "import time\n",
    "from sklearn.decomposition import TruncatedSVD, PCA\n",
    "import joblib\n",
    "import matplotlib.pyplot as plt\n",
    "warnings.filterwarnings('ignore')"
   ]
  },
  {
   "cell_type": "code",
   "execution_count": 2,
   "metadata": {},
   "outputs": [],
   "source": [
    "#transfrom categorical data to numbers\n",
    "def label_encoding(train: pd.DataFrame, test: pd.DataFrame, encode_cols):\n",
    "    n_train = len(train)\n",
    "    train = pd.concat([train, test], sort=False).reset_index(drop=True)\n",
    "    for f in encode_cols:\n",
    "        try:\n",
    "            lbl = preprocessing.LabelEncoder()\n",
    "            train[f] = lbl.fit_transform(list(train[f].values))\n",
    "        except:\n",
    "            print(f)\n",
    "    test = train[n_train:].reset_index(drop=True)\n",
    "    train = train[:n_train]\n",
    "    return train, test"
   ]
  },
  {
   "cell_type": "code",
   "execution_count": 3,
   "metadata": {
    "_cell_guid": "79c7e3d0-c299-4dcb-8224-4455121ee9b0",
    "_uuid": "d629ff2d2480ee46fbb7e2d37f6b5fab8052498a"
   },
   "outputs": [],
   "source": [
    "#import data\n",
    "train = pd.read_csv('train.csv')\n",
    "test = pd.read_csv('test.csv')\n",
    "sub = pd.read_csv('gender_submission.csv')"
   ]
  },
  {
   "cell_type": "code",
   "execution_count": 4,
   "metadata": {},
   "outputs": [
    {
     "data": {
      "text/html": [
       "<div>\n",
       "<style scoped>\n",
       "    .dataframe tbody tr th:only-of-type {\n",
       "        vertical-align: middle;\n",
       "    }\n",
       "\n",
       "    .dataframe tbody tr th {\n",
       "        vertical-align: top;\n",
       "    }\n",
       "\n",
       "    .dataframe thead th {\n",
       "        text-align: right;\n",
       "    }\n",
       "</style>\n",
       "<table border=\"1\" class=\"dataframe\">\n",
       "  <thead>\n",
       "    <tr style=\"text-align: right;\">\n",
       "      <th></th>\n",
       "      <th>PassengerId</th>\n",
       "      <th>Survived</th>\n",
       "      <th>Pclass</th>\n",
       "      <th>Name</th>\n",
       "      <th>Sex</th>\n",
       "      <th>Age</th>\n",
       "      <th>SibSp</th>\n",
       "      <th>Parch</th>\n",
       "      <th>Ticket</th>\n",
       "      <th>Fare</th>\n",
       "      <th>Cabin</th>\n",
       "      <th>Embarked</th>\n",
       "    </tr>\n",
       "  </thead>\n",
       "  <tbody>\n",
       "    <tr>\n",
       "      <th>0</th>\n",
       "      <td>1</td>\n",
       "      <td>0</td>\n",
       "      <td>3</td>\n",
       "      <td>Braund, Mr. Owen Harris</td>\n",
       "      <td>male</td>\n",
       "      <td>22.0</td>\n",
       "      <td>1</td>\n",
       "      <td>0</td>\n",
       "      <td>A/5 21171</td>\n",
       "      <td>7.2500</td>\n",
       "      <td>NaN</td>\n",
       "      <td>S</td>\n",
       "    </tr>\n",
       "    <tr>\n",
       "      <th>1</th>\n",
       "      <td>2</td>\n",
       "      <td>1</td>\n",
       "      <td>1</td>\n",
       "      <td>Cumings, Mrs. John Bradley (Florence Briggs Th...</td>\n",
       "      <td>female</td>\n",
       "      <td>38.0</td>\n",
       "      <td>1</td>\n",
       "      <td>0</td>\n",
       "      <td>PC 17599</td>\n",
       "      <td>71.2833</td>\n",
       "      <td>C85</td>\n",
       "      <td>C</td>\n",
       "    </tr>\n",
       "    <tr>\n",
       "      <th>2</th>\n",
       "      <td>3</td>\n",
       "      <td>1</td>\n",
       "      <td>3</td>\n",
       "      <td>Heikkinen, Miss. Laina</td>\n",
       "      <td>female</td>\n",
       "      <td>26.0</td>\n",
       "      <td>0</td>\n",
       "      <td>0</td>\n",
       "      <td>STON/O2. 3101282</td>\n",
       "      <td>7.9250</td>\n",
       "      <td>NaN</td>\n",
       "      <td>S</td>\n",
       "    </tr>\n",
       "    <tr>\n",
       "      <th>3</th>\n",
       "      <td>4</td>\n",
       "      <td>1</td>\n",
       "      <td>1</td>\n",
       "      <td>Futrelle, Mrs. Jacques Heath (Lily May Peel)</td>\n",
       "      <td>female</td>\n",
       "      <td>35.0</td>\n",
       "      <td>1</td>\n",
       "      <td>0</td>\n",
       "      <td>113803</td>\n",
       "      <td>53.1000</td>\n",
       "      <td>C123</td>\n",
       "      <td>S</td>\n",
       "    </tr>\n",
       "    <tr>\n",
       "      <th>4</th>\n",
       "      <td>5</td>\n",
       "      <td>0</td>\n",
       "      <td>3</td>\n",
       "      <td>Allen, Mr. William Henry</td>\n",
       "      <td>male</td>\n",
       "      <td>35.0</td>\n",
       "      <td>0</td>\n",
       "      <td>0</td>\n",
       "      <td>373450</td>\n",
       "      <td>8.0500</td>\n",
       "      <td>NaN</td>\n",
       "      <td>S</td>\n",
       "    </tr>\n",
       "  </tbody>\n",
       "</table>\n",
       "</div>"
      ],
      "text/plain": [
       "   PassengerId  Survived  Pclass  \\\n",
       "0            1         0       3   \n",
       "1            2         1       1   \n",
       "2            3         1       3   \n",
       "3            4         1       1   \n",
       "4            5         0       3   \n",
       "\n",
       "                                                Name     Sex   Age  SibSp  \\\n",
       "0                            Braund, Mr. Owen Harris    male  22.0      1   \n",
       "1  Cumings, Mrs. John Bradley (Florence Briggs Th...  female  38.0      1   \n",
       "2                             Heikkinen, Miss. Laina  female  26.0      0   \n",
       "3       Futrelle, Mrs. Jacques Heath (Lily May Peel)  female  35.0      1   \n",
       "4                           Allen, Mr. William Henry    male  35.0      0   \n",
       "\n",
       "   Parch            Ticket     Fare Cabin Embarked  \n",
       "0      0         A/5 21171   7.2500   NaN        S  \n",
       "1      0          PC 17599  71.2833   C85        C  \n",
       "2      0  STON/O2. 3101282   7.9250   NaN        S  \n",
       "3      0            113803  53.1000  C123        S  \n",
       "4      0            373450   8.0500   NaN        S  "
      ]
     },
     "execution_count": 4,
     "metadata": {},
     "output_type": "execute_result"
    }
   ],
   "source": [
    "train.head()"
   ]
  },
  {
   "cell_type": "code",
   "execution_count": 5,
   "metadata": {},
   "outputs": [
    {
     "data": {
      "text/html": [
       "<div>\n",
       "<style scoped>\n",
       "    .dataframe tbody tr th:only-of-type {\n",
       "        vertical-align: middle;\n",
       "    }\n",
       "\n",
       "    .dataframe tbody tr th {\n",
       "        vertical-align: top;\n",
       "    }\n",
       "\n",
       "    .dataframe thead th {\n",
       "        text-align: right;\n",
       "    }\n",
       "</style>\n",
       "<table border=\"1\" class=\"dataframe\">\n",
       "  <thead>\n",
       "    <tr style=\"text-align: right;\">\n",
       "      <th></th>\n",
       "      <th>PassengerId</th>\n",
       "      <th>Pclass</th>\n",
       "      <th>Name</th>\n",
       "      <th>Sex</th>\n",
       "      <th>Age</th>\n",
       "      <th>SibSp</th>\n",
       "      <th>Parch</th>\n",
       "      <th>Ticket</th>\n",
       "      <th>Fare</th>\n",
       "      <th>Cabin</th>\n",
       "      <th>Embarked</th>\n",
       "    </tr>\n",
       "  </thead>\n",
       "  <tbody>\n",
       "    <tr>\n",
       "      <th>0</th>\n",
       "      <td>892</td>\n",
       "      <td>3</td>\n",
       "      <td>Kelly, Mr. James</td>\n",
       "      <td>male</td>\n",
       "      <td>34.5</td>\n",
       "      <td>0</td>\n",
       "      <td>0</td>\n",
       "      <td>330911</td>\n",
       "      <td>7.8292</td>\n",
       "      <td>NaN</td>\n",
       "      <td>Q</td>\n",
       "    </tr>\n",
       "    <tr>\n",
       "      <th>1</th>\n",
       "      <td>893</td>\n",
       "      <td>3</td>\n",
       "      <td>Wilkes, Mrs. James (Ellen Needs)</td>\n",
       "      <td>female</td>\n",
       "      <td>47.0</td>\n",
       "      <td>1</td>\n",
       "      <td>0</td>\n",
       "      <td>363272</td>\n",
       "      <td>7.0000</td>\n",
       "      <td>NaN</td>\n",
       "      <td>S</td>\n",
       "    </tr>\n",
       "    <tr>\n",
       "      <th>2</th>\n",
       "      <td>894</td>\n",
       "      <td>2</td>\n",
       "      <td>Myles, Mr. Thomas Francis</td>\n",
       "      <td>male</td>\n",
       "      <td>62.0</td>\n",
       "      <td>0</td>\n",
       "      <td>0</td>\n",
       "      <td>240276</td>\n",
       "      <td>9.6875</td>\n",
       "      <td>NaN</td>\n",
       "      <td>Q</td>\n",
       "    </tr>\n",
       "    <tr>\n",
       "      <th>3</th>\n",
       "      <td>895</td>\n",
       "      <td>3</td>\n",
       "      <td>Wirz, Mr. Albert</td>\n",
       "      <td>male</td>\n",
       "      <td>27.0</td>\n",
       "      <td>0</td>\n",
       "      <td>0</td>\n",
       "      <td>315154</td>\n",
       "      <td>8.6625</td>\n",
       "      <td>NaN</td>\n",
       "      <td>S</td>\n",
       "    </tr>\n",
       "    <tr>\n",
       "      <th>4</th>\n",
       "      <td>896</td>\n",
       "      <td>3</td>\n",
       "      <td>Hirvonen, Mrs. Alexander (Helga E Lindqvist)</td>\n",
       "      <td>female</td>\n",
       "      <td>22.0</td>\n",
       "      <td>1</td>\n",
       "      <td>1</td>\n",
       "      <td>3101298</td>\n",
       "      <td>12.2875</td>\n",
       "      <td>NaN</td>\n",
       "      <td>S</td>\n",
       "    </tr>\n",
       "  </tbody>\n",
       "</table>\n",
       "</div>"
      ],
      "text/plain": [
       "   PassengerId  Pclass                                          Name     Sex  \\\n",
       "0          892       3                              Kelly, Mr. James    male   \n",
       "1          893       3              Wilkes, Mrs. James (Ellen Needs)  female   \n",
       "2          894       2                     Myles, Mr. Thomas Francis    male   \n",
       "3          895       3                              Wirz, Mr. Albert    male   \n",
       "4          896       3  Hirvonen, Mrs. Alexander (Helga E Lindqvist)  female   \n",
       "\n",
       "    Age  SibSp  Parch   Ticket     Fare Cabin Embarked  \n",
       "0  34.5      0      0   330911   7.8292   NaN        Q  \n",
       "1  47.0      1      0   363272   7.0000   NaN        S  \n",
       "2  62.0      0      0   240276   9.6875   NaN        Q  \n",
       "3  27.0      0      0   315154   8.6625   NaN        S  \n",
       "4  22.0      1      1  3101298  12.2875   NaN        S  "
      ]
     },
     "execution_count": 5,
     "metadata": {},
     "output_type": "execute_result"
    }
   ],
   "source": [
    "test.head()"
   ]
  },
  {
   "cell_type": "code",
   "execution_count": 6,
   "metadata": {},
   "outputs": [
    {
     "data": {
      "text/html": [
       "<div>\n",
       "<style scoped>\n",
       "    .dataframe tbody tr th:only-of-type {\n",
       "        vertical-align: middle;\n",
       "    }\n",
       "\n",
       "    .dataframe tbody tr th {\n",
       "        vertical-align: top;\n",
       "    }\n",
       "\n",
       "    .dataframe thead th {\n",
       "        text-align: right;\n",
       "    }\n",
       "</style>\n",
       "<table border=\"1\" class=\"dataframe\">\n",
       "  <thead>\n",
       "    <tr style=\"text-align: right;\">\n",
       "      <th></th>\n",
       "      <th>PassengerId</th>\n",
       "      <th>Survived</th>\n",
       "    </tr>\n",
       "  </thead>\n",
       "  <tbody>\n",
       "    <tr>\n",
       "      <th>0</th>\n",
       "      <td>892</td>\n",
       "      <td>0</td>\n",
       "    </tr>\n",
       "    <tr>\n",
       "      <th>1</th>\n",
       "      <td>893</td>\n",
       "      <td>1</td>\n",
       "    </tr>\n",
       "    <tr>\n",
       "      <th>2</th>\n",
       "      <td>894</td>\n",
       "      <td>0</td>\n",
       "    </tr>\n",
       "    <tr>\n",
       "      <th>3</th>\n",
       "      <td>895</td>\n",
       "      <td>0</td>\n",
       "    </tr>\n",
       "    <tr>\n",
       "      <th>4</th>\n",
       "      <td>896</td>\n",
       "      <td>1</td>\n",
       "    </tr>\n",
       "  </tbody>\n",
       "</table>\n",
       "</div>"
      ],
      "text/plain": [
       "   PassengerId  Survived\n",
       "0          892         0\n",
       "1          893         1\n",
       "2          894         0\n",
       "3          895         0\n",
       "4          896         1"
      ]
     },
     "execution_count": 6,
     "metadata": {},
     "output_type": "execute_result"
    }
   ],
   "source": [
    "sub.head()"
   ]
  },
  {
   "cell_type": "code",
   "execution_count": 7,
   "metadata": {},
   "outputs": [
    {
     "data": {
      "text/plain": [
       "(891, 12)"
      ]
     },
     "execution_count": 7,
     "metadata": {},
     "output_type": "execute_result"
    }
   ],
   "source": [
    "train.shape"
   ]
  },
  {
   "cell_type": "markdown",
   "metadata": {},
   "source": [
    "## Fill NAs"
   ]
  },
  {
   "cell_type": "code",
   "execution_count": 8,
   "metadata": {},
   "outputs": [
    {
     "data": {
      "text/plain": [
       "True"
      ]
     },
     "execution_count": 8,
     "metadata": {},
     "output_type": "execute_result"
    }
   ],
   "source": [
    "sub.PassengerId.to_list() == test.PassengerId.to_list()"
   ]
  },
  {
   "cell_type": "code",
   "execution_count": 9,
   "metadata": {},
   "outputs": [
    {
     "data": {
      "text/plain": [
       "PassengerId      0\n",
       "Survived         0\n",
       "Pclass           0\n",
       "Name             0\n",
       "Sex              0\n",
       "Age            177\n",
       "SibSp            0\n",
       "Parch            0\n",
       "Ticket           0\n",
       "Fare             0\n",
       "Cabin          687\n",
       "Embarked         2\n",
       "dtype: int64"
      ]
     },
     "execution_count": 9,
     "metadata": {},
     "output_type": "execute_result"
    }
   ],
   "source": [
    "train.isna().sum()"
   ]
  },
  {
   "cell_type": "code",
   "execution_count": 10,
   "metadata": {},
   "outputs": [],
   "source": [
    "## fill age\n",
    "train.Age = train.Age.fillna(np.mean(train.Age))"
   ]
  },
  {
   "cell_type": "code",
   "execution_count": 11,
   "metadata": {},
   "outputs": [],
   "source": [
    "train.Cabin = train.Cabin.fillna('Unknown')"
   ]
  },
  {
   "cell_type": "code",
   "execution_count": 12,
   "metadata": {},
   "outputs": [],
   "source": [
    "train.Embarked = train.Embarked.fillna('Unknown')"
   ]
  },
  {
   "cell_type": "code",
   "execution_count": 13,
   "metadata": {},
   "outputs": [
    {
     "data": {
      "text/plain": [
       "PassengerId    0\n",
       "Survived       0\n",
       "Pclass         0\n",
       "Name           0\n",
       "Sex            0\n",
       "Age            0\n",
       "SibSp          0\n",
       "Parch          0\n",
       "Ticket         0\n",
       "Fare           0\n",
       "Cabin          0\n",
       "Embarked       0\n",
       "dtype: int64"
      ]
     },
     "execution_count": 13,
     "metadata": {},
     "output_type": "execute_result"
    }
   ],
   "source": [
    "train.isna().sum()"
   ]
  },
  {
   "cell_type": "code",
   "execution_count": 14,
   "metadata": {},
   "outputs": [
    {
     "data": {
      "text/plain": [
       "PassengerId      0\n",
       "Pclass           0\n",
       "Name             0\n",
       "Sex              0\n",
       "Age             86\n",
       "SibSp            0\n",
       "Parch            0\n",
       "Ticket           0\n",
       "Fare             1\n",
       "Cabin          327\n",
       "Embarked         0\n",
       "dtype: int64"
      ]
     },
     "execution_count": 14,
     "metadata": {},
     "output_type": "execute_result"
    }
   ],
   "source": [
    "test.isna().sum()"
   ]
  },
  {
   "cell_type": "code",
   "execution_count": 15,
   "metadata": {},
   "outputs": [],
   "source": [
    "test.Age = test.Age.fillna(np.mean(train.Age))\n",
    "test.Fare = test.Fare.fillna(np.mean(test.Fare))"
   ]
  },
  {
   "cell_type": "code",
   "execution_count": 16,
   "metadata": {},
   "outputs": [],
   "source": [
    "test.Cabin = test.Cabin.fillna('Unknown')"
   ]
  },
  {
   "cell_type": "code",
   "execution_count": 17,
   "metadata": {},
   "outputs": [
    {
     "data": {
      "text/plain": [
       "PassengerId    0\n",
       "Pclass         0\n",
       "Name           0\n",
       "Sex            0\n",
       "Age            0\n",
       "SibSp          0\n",
       "Parch          0\n",
       "Ticket         0\n",
       "Fare           0\n",
       "Cabin          0\n",
       "Embarked       0\n",
       "dtype: int64"
      ]
     },
     "execution_count": 17,
     "metadata": {},
     "output_type": "execute_result"
    }
   ],
   "source": [
    "test.isna().sum()"
   ]
  },
  {
   "cell_type": "markdown",
   "metadata": {},
   "source": [
    "## Split folds"
   ]
  },
  {
   "cell_type": "code",
   "execution_count": 18,
   "metadata": {},
   "outputs": [],
   "source": [
    "#do k fold validation\n",
    "skf = StratifiedKFold(n_splits=5, shuffle=True, random_state=42)"
   ]
  },
  {
   "cell_type": "code",
   "execution_count": 19,
   "metadata": {},
   "outputs": [],
   "source": [
    "train['fold'] = -999\n",
    "for fold_id, (train_index, valid_index) in enumerate(skf.split(X=train, y=train.Survived.values)):\n",
    "    train.loc[valid_index, 'fold'] = fold_id"
   ]
  },
  {
   "cell_type": "code",
   "execution_count": 20,
   "metadata": {},
   "outputs": [
    {
     "data": {
      "text/plain": [
       "0    179\n",
       "1    178\n",
       "2    178\n",
       "3    178\n",
       "4    178\n",
       "Name: fold, dtype: int64"
      ]
     },
     "execution_count": 20,
     "metadata": {},
     "output_type": "execute_result"
    }
   ],
   "source": [
    "train.fold.value_counts()"
   ]
  },
  {
   "cell_type": "markdown",
   "metadata": {},
   "source": [
    "## Feature Engineering"
   ]
  },
  {
   "cell_type": "markdown",
   "metadata": {},
   "source": [
    "#### 1. Name Title (Change the name to title and label encoding)"
   ]
  },
  {
   "cell_type": "code",
   "execution_count": 21,
   "metadata": {},
   "outputs": [
    {
     "data": {
      "text/html": [
       "<div>\n",
       "<style scoped>\n",
       "    .dataframe tbody tr th:only-of-type {\n",
       "        vertical-align: middle;\n",
       "    }\n",
       "\n",
       "    .dataframe tbody tr th {\n",
       "        vertical-align: top;\n",
       "    }\n",
       "\n",
       "    .dataframe thead th {\n",
       "        text-align: right;\n",
       "    }\n",
       "</style>\n",
       "<table border=\"1\" class=\"dataframe\">\n",
       "  <thead>\n",
       "    <tr style=\"text-align: right;\">\n",
       "      <th>Sex</th>\n",
       "      <th>female</th>\n",
       "      <th>male</th>\n",
       "    </tr>\n",
       "    <tr>\n",
       "      <th>Title</th>\n",
       "      <th></th>\n",
       "      <th></th>\n",
       "    </tr>\n",
       "  </thead>\n",
       "  <tbody>\n",
       "    <tr>\n",
       "      <th>Capt</th>\n",
       "      <td>0</td>\n",
       "      <td>1</td>\n",
       "    </tr>\n",
       "    <tr>\n",
       "      <th>Col</th>\n",
       "      <td>0</td>\n",
       "      <td>2</td>\n",
       "    </tr>\n",
       "    <tr>\n",
       "      <th>Countess</th>\n",
       "      <td>1</td>\n",
       "      <td>0</td>\n",
       "    </tr>\n",
       "    <tr>\n",
       "      <th>Don</th>\n",
       "      <td>0</td>\n",
       "      <td>1</td>\n",
       "    </tr>\n",
       "    <tr>\n",
       "      <th>Dr</th>\n",
       "      <td>1</td>\n",
       "      <td>6</td>\n",
       "    </tr>\n",
       "    <tr>\n",
       "      <th>Jonkheer</th>\n",
       "      <td>0</td>\n",
       "      <td>1</td>\n",
       "    </tr>\n",
       "    <tr>\n",
       "      <th>Lady</th>\n",
       "      <td>1</td>\n",
       "      <td>0</td>\n",
       "    </tr>\n",
       "    <tr>\n",
       "      <th>Major</th>\n",
       "      <td>0</td>\n",
       "      <td>2</td>\n",
       "    </tr>\n",
       "    <tr>\n",
       "      <th>Master</th>\n",
       "      <td>0</td>\n",
       "      <td>40</td>\n",
       "    </tr>\n",
       "    <tr>\n",
       "      <th>Miss</th>\n",
       "      <td>182</td>\n",
       "      <td>0</td>\n",
       "    </tr>\n",
       "    <tr>\n",
       "      <th>Mlle</th>\n",
       "      <td>2</td>\n",
       "      <td>0</td>\n",
       "    </tr>\n",
       "    <tr>\n",
       "      <th>Mme</th>\n",
       "      <td>1</td>\n",
       "      <td>0</td>\n",
       "    </tr>\n",
       "    <tr>\n",
       "      <th>Mr</th>\n",
       "      <td>0</td>\n",
       "      <td>517</td>\n",
       "    </tr>\n",
       "    <tr>\n",
       "      <th>Mrs</th>\n",
       "      <td>125</td>\n",
       "      <td>0</td>\n",
       "    </tr>\n",
       "    <tr>\n",
       "      <th>Ms</th>\n",
       "      <td>1</td>\n",
       "      <td>0</td>\n",
       "    </tr>\n",
       "    <tr>\n",
       "      <th>Rev</th>\n",
       "      <td>0</td>\n",
       "      <td>6</td>\n",
       "    </tr>\n",
       "    <tr>\n",
       "      <th>Sir</th>\n",
       "      <td>0</td>\n",
       "      <td>1</td>\n",
       "    </tr>\n",
       "  </tbody>\n",
       "</table>\n",
       "</div>"
      ],
      "text/plain": [
       "Sex       female  male\n",
       "Title                 \n",
       "Capt           0     1\n",
       "Col            0     2\n",
       "Countess       1     0\n",
       "Don            0     1\n",
       "Dr             1     6\n",
       "Jonkheer       0     1\n",
       "Lady           1     0\n",
       "Major          0     2\n",
       "Master         0    40\n",
       "Miss         182     0\n",
       "Mlle           2     0\n",
       "Mme            1     0\n",
       "Mr             0   517\n",
       "Mrs          125     0\n",
       "Ms             1     0\n",
       "Rev            0     6\n",
       "Sir            0     1"
      ]
     },
     "execution_count": 21,
     "metadata": {},
     "output_type": "execute_result"
    }
   ],
   "source": [
    "train['Title'] = train.Name.str.extract(' ([A-Za-z]+)\\.', expand=False)\n",
    "pd.crosstab(train['Title'], train['Sex'])"
   ]
  },
  {
   "cell_type": "code",
   "execution_count": 22,
   "metadata": {},
   "outputs": [
    {
     "data": {
      "text/html": [
       "<div>\n",
       "<style scoped>\n",
       "    .dataframe tbody tr th:only-of-type {\n",
       "        vertical-align: middle;\n",
       "    }\n",
       "\n",
       "    .dataframe tbody tr th {\n",
       "        vertical-align: top;\n",
       "    }\n",
       "\n",
       "    .dataframe thead th {\n",
       "        text-align: right;\n",
       "    }\n",
       "</style>\n",
       "<table border=\"1\" class=\"dataframe\">\n",
       "  <thead>\n",
       "    <tr style=\"text-align: right;\">\n",
       "      <th></th>\n",
       "      <th>Title</th>\n",
       "      <th>Survived</th>\n",
       "    </tr>\n",
       "  </thead>\n",
       "  <tbody>\n",
       "    <tr>\n",
       "      <th>0</th>\n",
       "      <td>Master</td>\n",
       "      <td>0.575000</td>\n",
       "    </tr>\n",
       "    <tr>\n",
       "      <th>1</th>\n",
       "      <td>Miss</td>\n",
       "      <td>0.702703</td>\n",
       "    </tr>\n",
       "    <tr>\n",
       "      <th>2</th>\n",
       "      <td>Mr</td>\n",
       "      <td>0.156673</td>\n",
       "    </tr>\n",
       "    <tr>\n",
       "      <th>3</th>\n",
       "      <td>Mrs</td>\n",
       "      <td>0.793651</td>\n",
       "    </tr>\n",
       "    <tr>\n",
       "      <th>4</th>\n",
       "      <td>Rare</td>\n",
       "      <td>0.347826</td>\n",
       "    </tr>\n",
       "  </tbody>\n",
       "</table>\n",
       "</div>"
      ],
      "text/plain": [
       "    Title  Survived\n",
       "0  Master  0.575000\n",
       "1    Miss  0.702703\n",
       "2      Mr  0.156673\n",
       "3     Mrs  0.793651\n",
       "4    Rare  0.347826"
      ]
     },
     "execution_count": 22,
     "metadata": {},
     "output_type": "execute_result"
    }
   ],
   "source": [
    "train['Title'] = train['Title'].replace(['Lady', 'Countess','Capt', 'Col', 'Don', \n",
    "                                             'Dr', 'Major', 'Rev', 'Sir', 'Jonkheer', 'Dona'], 'Rare')\n",
    "train['Title'] = train['Title'].replace('Mlle', 'Miss')\n",
    "train['Title'] = train['Title'].replace('Ms', 'Miss')\n",
    "train['Title'] = train['Title'].replace('Mme', 'Mrs')\n",
    "    \n",
    "train[['Title', 'Survived']].groupby(['Title'], as_index=False).mean()"
   ]
  },
  {
   "cell_type": "code",
   "execution_count": 23,
   "metadata": {},
   "outputs": [
    {
     "data": {
      "text/html": [
       "<div>\n",
       "<style scoped>\n",
       "    .dataframe tbody tr th:only-of-type {\n",
       "        vertical-align: middle;\n",
       "    }\n",
       "\n",
       "    .dataframe tbody tr th {\n",
       "        vertical-align: top;\n",
       "    }\n",
       "\n",
       "    .dataframe thead th {\n",
       "        text-align: right;\n",
       "    }\n",
       "</style>\n",
       "<table border=\"1\" class=\"dataframe\">\n",
       "  <thead>\n",
       "    <tr style=\"text-align: right;\">\n",
       "      <th>Sex</th>\n",
       "      <th>female</th>\n",
       "      <th>male</th>\n",
       "    </tr>\n",
       "    <tr>\n",
       "      <th>Title</th>\n",
       "      <th></th>\n",
       "      <th></th>\n",
       "    </tr>\n",
       "  </thead>\n",
       "  <tbody>\n",
       "    <tr>\n",
       "      <th>Col</th>\n",
       "      <td>0</td>\n",
       "      <td>2</td>\n",
       "    </tr>\n",
       "    <tr>\n",
       "      <th>Dona</th>\n",
       "      <td>1</td>\n",
       "      <td>0</td>\n",
       "    </tr>\n",
       "    <tr>\n",
       "      <th>Dr</th>\n",
       "      <td>0</td>\n",
       "      <td>1</td>\n",
       "    </tr>\n",
       "    <tr>\n",
       "      <th>Master</th>\n",
       "      <td>0</td>\n",
       "      <td>21</td>\n",
       "    </tr>\n",
       "    <tr>\n",
       "      <th>Miss</th>\n",
       "      <td>78</td>\n",
       "      <td>0</td>\n",
       "    </tr>\n",
       "    <tr>\n",
       "      <th>Mr</th>\n",
       "      <td>0</td>\n",
       "      <td>240</td>\n",
       "    </tr>\n",
       "    <tr>\n",
       "      <th>Mrs</th>\n",
       "      <td>72</td>\n",
       "      <td>0</td>\n",
       "    </tr>\n",
       "    <tr>\n",
       "      <th>Ms</th>\n",
       "      <td>1</td>\n",
       "      <td>0</td>\n",
       "    </tr>\n",
       "    <tr>\n",
       "      <th>Rev</th>\n",
       "      <td>0</td>\n",
       "      <td>2</td>\n",
       "    </tr>\n",
       "  </tbody>\n",
       "</table>\n",
       "</div>"
      ],
      "text/plain": [
       "Sex     female  male\n",
       "Title               \n",
       "Col          0     2\n",
       "Dona         1     0\n",
       "Dr           0     1\n",
       "Master       0    21\n",
       "Miss        78     0\n",
       "Mr           0   240\n",
       "Mrs         72     0\n",
       "Ms           1     0\n",
       "Rev          0     2"
      ]
     },
     "execution_count": 23,
     "metadata": {},
     "output_type": "execute_result"
    }
   ],
   "source": [
    "test['Title'] = test.Name.str.extract(' ([A-Za-z]+)\\.', expand=False)\n",
    "pd.crosstab(test['Title'], test['Sex'])"
   ]
  },
  {
   "cell_type": "code",
   "execution_count": 24,
   "metadata": {},
   "outputs": [],
   "source": [
    "test['Title'] = test['Title'].replace(['Lady', 'Countess','Capt', 'Col', 'Don', \n",
    "                                             'Dr', 'Major', 'Rev', 'Sir', 'Jonkheer', 'Dona'], 'Rare')\n",
    "\n",
    "test['Title'] = test['Title'].replace('Mlle', 'Miss')\n",
    "test['Title'] = test['Title'].replace('Ms', 'Miss')\n",
    "test['Title'] = test['Title'].replace('Mme', 'Mrs')"
   ]
  },
  {
   "cell_type": "code",
   "execution_count": 25,
   "metadata": {},
   "outputs": [],
   "source": [
    "title_mapping = {\"Mr\": 1, \"Miss\": 2, \"Mrs\": 3, \"Master\": 4, \"Rare\": 5}\n",
    "\n",
    "train['Title'] = train['Title'].map(title_mapping)\n",
    "train['Title'] = train['Title'].fillna(0)\n",
    "test['Title'] = test['Title'].map(title_mapping)\n",
    "test['Title'] = test['Title'].fillna(0)"
   ]
  },
  {
   "cell_type": "code",
   "execution_count": 26,
   "metadata": {},
   "outputs": [],
   "source": [
    "# train = train.drop('Name', axis=1)\n",
    "# test = test.drop('Name', axis=1)"
   ]
  },
  {
   "cell_type": "code",
   "execution_count": 27,
   "metadata": {},
   "outputs": [
    {
     "data": {
      "text/html": [
       "<div>\n",
       "<style scoped>\n",
       "    .dataframe tbody tr th:only-of-type {\n",
       "        vertical-align: middle;\n",
       "    }\n",
       "\n",
       "    .dataframe tbody tr th {\n",
       "        vertical-align: top;\n",
       "    }\n",
       "\n",
       "    .dataframe thead th {\n",
       "        text-align: right;\n",
       "    }\n",
       "</style>\n",
       "<table border=\"1\" class=\"dataframe\">\n",
       "  <thead>\n",
       "    <tr style=\"text-align: right;\">\n",
       "      <th></th>\n",
       "      <th>PassengerId</th>\n",
       "      <th>Survived</th>\n",
       "      <th>Pclass</th>\n",
       "      <th>Name</th>\n",
       "      <th>Sex</th>\n",
       "      <th>Age</th>\n",
       "      <th>SibSp</th>\n",
       "      <th>Parch</th>\n",
       "      <th>Ticket</th>\n",
       "      <th>Fare</th>\n",
       "      <th>Cabin</th>\n",
       "      <th>Embarked</th>\n",
       "      <th>fold</th>\n",
       "      <th>Title</th>\n",
       "    </tr>\n",
       "  </thead>\n",
       "  <tbody>\n",
       "    <tr>\n",
       "      <th>0</th>\n",
       "      <td>1</td>\n",
       "      <td>0</td>\n",
       "      <td>3</td>\n",
       "      <td>Braund, Mr. Owen Harris</td>\n",
       "      <td>male</td>\n",
       "      <td>22.0</td>\n",
       "      <td>1</td>\n",
       "      <td>0</td>\n",
       "      <td>A/5 21171</td>\n",
       "      <td>7.2500</td>\n",
       "      <td>Unknown</td>\n",
       "      <td>S</td>\n",
       "      <td>1</td>\n",
       "      <td>1</td>\n",
       "    </tr>\n",
       "    <tr>\n",
       "      <th>1</th>\n",
       "      <td>2</td>\n",
       "      <td>1</td>\n",
       "      <td>1</td>\n",
       "      <td>Cumings, Mrs. John Bradley (Florence Briggs Th...</td>\n",
       "      <td>female</td>\n",
       "      <td>38.0</td>\n",
       "      <td>1</td>\n",
       "      <td>0</td>\n",
       "      <td>PC 17599</td>\n",
       "      <td>71.2833</td>\n",
       "      <td>C85</td>\n",
       "      <td>C</td>\n",
       "      <td>4</td>\n",
       "      <td>3</td>\n",
       "    </tr>\n",
       "    <tr>\n",
       "      <th>2</th>\n",
       "      <td>3</td>\n",
       "      <td>1</td>\n",
       "      <td>3</td>\n",
       "      <td>Heikkinen, Miss. Laina</td>\n",
       "      <td>female</td>\n",
       "      <td>26.0</td>\n",
       "      <td>0</td>\n",
       "      <td>0</td>\n",
       "      <td>STON/O2. 3101282</td>\n",
       "      <td>7.9250</td>\n",
       "      <td>Unknown</td>\n",
       "      <td>S</td>\n",
       "      <td>3</td>\n",
       "      <td>2</td>\n",
       "    </tr>\n",
       "    <tr>\n",
       "      <th>3</th>\n",
       "      <td>4</td>\n",
       "      <td>1</td>\n",
       "      <td>1</td>\n",
       "      <td>Futrelle, Mrs. Jacques Heath (Lily May Peel)</td>\n",
       "      <td>female</td>\n",
       "      <td>35.0</td>\n",
       "      <td>1</td>\n",
       "      <td>0</td>\n",
       "      <td>113803</td>\n",
       "      <td>53.1000</td>\n",
       "      <td>C123</td>\n",
       "      <td>S</td>\n",
       "      <td>3</td>\n",
       "      <td>3</td>\n",
       "    </tr>\n",
       "    <tr>\n",
       "      <th>4</th>\n",
       "      <td>5</td>\n",
       "      <td>0</td>\n",
       "      <td>3</td>\n",
       "      <td>Allen, Mr. William Henry</td>\n",
       "      <td>male</td>\n",
       "      <td>35.0</td>\n",
       "      <td>0</td>\n",
       "      <td>0</td>\n",
       "      <td>373450</td>\n",
       "      <td>8.0500</td>\n",
       "      <td>Unknown</td>\n",
       "      <td>S</td>\n",
       "      <td>0</td>\n",
       "      <td>1</td>\n",
       "    </tr>\n",
       "  </tbody>\n",
       "</table>\n",
       "</div>"
      ],
      "text/plain": [
       "   PassengerId  Survived  Pclass  \\\n",
       "0            1         0       3   \n",
       "1            2         1       1   \n",
       "2            3         1       3   \n",
       "3            4         1       1   \n",
       "4            5         0       3   \n",
       "\n",
       "                                                Name     Sex   Age  SibSp  \\\n",
       "0                            Braund, Mr. Owen Harris    male  22.0      1   \n",
       "1  Cumings, Mrs. John Bradley (Florence Briggs Th...  female  38.0      1   \n",
       "2                             Heikkinen, Miss. Laina  female  26.0      0   \n",
       "3       Futrelle, Mrs. Jacques Heath (Lily May Peel)  female  35.0      1   \n",
       "4                           Allen, Mr. William Henry    male  35.0      0   \n",
       "\n",
       "   Parch            Ticket     Fare    Cabin Embarked  fold  Title  \n",
       "0      0         A/5 21171   7.2500  Unknown        S     1      1  \n",
       "1      0          PC 17599  71.2833      C85        C     4      3  \n",
       "2      0  STON/O2. 3101282   7.9250  Unknown        S     3      2  \n",
       "3      0            113803  53.1000     C123        S     3      3  \n",
       "4      0            373450   8.0500  Unknown        S     0      1  "
      ]
     },
     "execution_count": 27,
     "metadata": {},
     "output_type": "execute_result"
    }
   ],
   "source": [
    "train.head()"
   ]
  },
  {
   "cell_type": "code",
   "execution_count": 28,
   "metadata": {},
   "outputs": [
    {
     "data": {
      "text/html": [
       "<div>\n",
       "<style scoped>\n",
       "    .dataframe tbody tr th:only-of-type {\n",
       "        vertical-align: middle;\n",
       "    }\n",
       "\n",
       "    .dataframe tbody tr th {\n",
       "        vertical-align: top;\n",
       "    }\n",
       "\n",
       "    .dataframe thead th {\n",
       "        text-align: right;\n",
       "    }\n",
       "</style>\n",
       "<table border=\"1\" class=\"dataframe\">\n",
       "  <thead>\n",
       "    <tr style=\"text-align: right;\">\n",
       "      <th></th>\n",
       "      <th>PassengerId</th>\n",
       "      <th>Pclass</th>\n",
       "      <th>Name</th>\n",
       "      <th>Sex</th>\n",
       "      <th>Age</th>\n",
       "      <th>SibSp</th>\n",
       "      <th>Parch</th>\n",
       "      <th>Ticket</th>\n",
       "      <th>Fare</th>\n",
       "      <th>Cabin</th>\n",
       "      <th>Embarked</th>\n",
       "      <th>Title</th>\n",
       "    </tr>\n",
       "  </thead>\n",
       "  <tbody>\n",
       "    <tr>\n",
       "      <th>0</th>\n",
       "      <td>892</td>\n",
       "      <td>3</td>\n",
       "      <td>Kelly, Mr. James</td>\n",
       "      <td>male</td>\n",
       "      <td>34.5</td>\n",
       "      <td>0</td>\n",
       "      <td>0</td>\n",
       "      <td>330911</td>\n",
       "      <td>7.8292</td>\n",
       "      <td>Unknown</td>\n",
       "      <td>Q</td>\n",
       "      <td>1</td>\n",
       "    </tr>\n",
       "    <tr>\n",
       "      <th>1</th>\n",
       "      <td>893</td>\n",
       "      <td>3</td>\n",
       "      <td>Wilkes, Mrs. James (Ellen Needs)</td>\n",
       "      <td>female</td>\n",
       "      <td>47.0</td>\n",
       "      <td>1</td>\n",
       "      <td>0</td>\n",
       "      <td>363272</td>\n",
       "      <td>7.0000</td>\n",
       "      <td>Unknown</td>\n",
       "      <td>S</td>\n",
       "      <td>3</td>\n",
       "    </tr>\n",
       "    <tr>\n",
       "      <th>2</th>\n",
       "      <td>894</td>\n",
       "      <td>2</td>\n",
       "      <td>Myles, Mr. Thomas Francis</td>\n",
       "      <td>male</td>\n",
       "      <td>62.0</td>\n",
       "      <td>0</td>\n",
       "      <td>0</td>\n",
       "      <td>240276</td>\n",
       "      <td>9.6875</td>\n",
       "      <td>Unknown</td>\n",
       "      <td>Q</td>\n",
       "      <td>1</td>\n",
       "    </tr>\n",
       "    <tr>\n",
       "      <th>3</th>\n",
       "      <td>895</td>\n",
       "      <td>3</td>\n",
       "      <td>Wirz, Mr. Albert</td>\n",
       "      <td>male</td>\n",
       "      <td>27.0</td>\n",
       "      <td>0</td>\n",
       "      <td>0</td>\n",
       "      <td>315154</td>\n",
       "      <td>8.6625</td>\n",
       "      <td>Unknown</td>\n",
       "      <td>S</td>\n",
       "      <td>1</td>\n",
       "    </tr>\n",
       "    <tr>\n",
       "      <th>4</th>\n",
       "      <td>896</td>\n",
       "      <td>3</td>\n",
       "      <td>Hirvonen, Mrs. Alexander (Helga E Lindqvist)</td>\n",
       "      <td>female</td>\n",
       "      <td>22.0</td>\n",
       "      <td>1</td>\n",
       "      <td>1</td>\n",
       "      <td>3101298</td>\n",
       "      <td>12.2875</td>\n",
       "      <td>Unknown</td>\n",
       "      <td>S</td>\n",
       "      <td>3</td>\n",
       "    </tr>\n",
       "  </tbody>\n",
       "</table>\n",
       "</div>"
      ],
      "text/plain": [
       "   PassengerId  Pclass                                          Name     Sex  \\\n",
       "0          892       3                              Kelly, Mr. James    male   \n",
       "1          893       3              Wilkes, Mrs. James (Ellen Needs)  female   \n",
       "2          894       2                     Myles, Mr. Thomas Francis    male   \n",
       "3          895       3                              Wirz, Mr. Albert    male   \n",
       "4          896       3  Hirvonen, Mrs. Alexander (Helga E Lindqvist)  female   \n",
       "\n",
       "    Age  SibSp  Parch   Ticket     Fare    Cabin Embarked  Title  \n",
       "0  34.5      0      0   330911   7.8292  Unknown        Q      1  \n",
       "1  47.0      1      0   363272   7.0000  Unknown        S      3  \n",
       "2  62.0      0      0   240276   9.6875  Unknown        Q      1  \n",
       "3  27.0      0      0   315154   8.6625  Unknown        S      1  \n",
       "4  22.0      1      1  3101298  12.2875  Unknown        S      3  "
      ]
     },
     "execution_count": 28,
     "metadata": {},
     "output_type": "execute_result"
    }
   ],
   "source": [
    "test.head()"
   ]
  },
  {
   "cell_type": "markdown",
   "metadata": {},
   "source": [
    "#### 2.  Cut the Age and Fare column to different bins "
   ]
  },
  {
   "cell_type": "code",
   "execution_count": 29,
   "metadata": {},
   "outputs": [
    {
     "data": {
      "text/html": [
       "<div>\n",
       "<style scoped>\n",
       "    .dataframe tbody tr th:only-of-type {\n",
       "        vertical-align: middle;\n",
       "    }\n",
       "\n",
       "    .dataframe tbody tr th {\n",
       "        vertical-align: top;\n",
       "    }\n",
       "\n",
       "    .dataframe thead th {\n",
       "        text-align: right;\n",
       "    }\n",
       "</style>\n",
       "<table border=\"1\" class=\"dataframe\">\n",
       "  <thead>\n",
       "    <tr style=\"text-align: right;\">\n",
       "      <th></th>\n",
       "      <th>PassengerId</th>\n",
       "      <th>Survived</th>\n",
       "      <th>Pclass</th>\n",
       "      <th>Age</th>\n",
       "      <th>SibSp</th>\n",
       "      <th>Parch</th>\n",
       "      <th>Fare</th>\n",
       "      <th>fold</th>\n",
       "      <th>Title</th>\n",
       "    </tr>\n",
       "  </thead>\n",
       "  <tbody>\n",
       "    <tr>\n",
       "      <th>count</th>\n",
       "      <td>891.000000</td>\n",
       "      <td>891.000000</td>\n",
       "      <td>891.000000</td>\n",
       "      <td>891.000000</td>\n",
       "      <td>891.000000</td>\n",
       "      <td>891.000000</td>\n",
       "      <td>891.000000</td>\n",
       "      <td>891.000000</td>\n",
       "      <td>891.000000</td>\n",
       "    </tr>\n",
       "    <tr>\n",
       "      <th>mean</th>\n",
       "      <td>446.000000</td>\n",
       "      <td>0.383838</td>\n",
       "      <td>2.308642</td>\n",
       "      <td>29.699118</td>\n",
       "      <td>0.523008</td>\n",
       "      <td>0.381594</td>\n",
       "      <td>32.204208</td>\n",
       "      <td>1.997755</td>\n",
       "      <td>1.728395</td>\n",
       "    </tr>\n",
       "    <tr>\n",
       "      <th>std</th>\n",
       "      <td>257.353842</td>\n",
       "      <td>0.486592</td>\n",
       "      <td>0.836071</td>\n",
       "      <td>13.002015</td>\n",
       "      <td>1.102743</td>\n",
       "      <td>0.806057</td>\n",
       "      <td>49.693429</td>\n",
       "      <td>1.415800</td>\n",
       "      <td>1.030039</td>\n",
       "    </tr>\n",
       "    <tr>\n",
       "      <th>min</th>\n",
       "      <td>1.000000</td>\n",
       "      <td>0.000000</td>\n",
       "      <td>1.000000</td>\n",
       "      <td>0.420000</td>\n",
       "      <td>0.000000</td>\n",
       "      <td>0.000000</td>\n",
       "      <td>0.000000</td>\n",
       "      <td>0.000000</td>\n",
       "      <td>1.000000</td>\n",
       "    </tr>\n",
       "    <tr>\n",
       "      <th>25%</th>\n",
       "      <td>223.500000</td>\n",
       "      <td>0.000000</td>\n",
       "      <td>2.000000</td>\n",
       "      <td>22.000000</td>\n",
       "      <td>0.000000</td>\n",
       "      <td>0.000000</td>\n",
       "      <td>7.910400</td>\n",
       "      <td>1.000000</td>\n",
       "      <td>1.000000</td>\n",
       "    </tr>\n",
       "    <tr>\n",
       "      <th>50%</th>\n",
       "      <td>446.000000</td>\n",
       "      <td>0.000000</td>\n",
       "      <td>3.000000</td>\n",
       "      <td>29.699118</td>\n",
       "      <td>0.000000</td>\n",
       "      <td>0.000000</td>\n",
       "      <td>14.454200</td>\n",
       "      <td>2.000000</td>\n",
       "      <td>1.000000</td>\n",
       "    </tr>\n",
       "    <tr>\n",
       "      <th>75%</th>\n",
       "      <td>668.500000</td>\n",
       "      <td>1.000000</td>\n",
       "      <td>3.000000</td>\n",
       "      <td>35.000000</td>\n",
       "      <td>1.000000</td>\n",
       "      <td>0.000000</td>\n",
       "      <td>31.000000</td>\n",
       "      <td>3.000000</td>\n",
       "      <td>2.000000</td>\n",
       "    </tr>\n",
       "    <tr>\n",
       "      <th>max</th>\n",
       "      <td>891.000000</td>\n",
       "      <td>1.000000</td>\n",
       "      <td>3.000000</td>\n",
       "      <td>80.000000</td>\n",
       "      <td>8.000000</td>\n",
       "      <td>6.000000</td>\n",
       "      <td>512.329200</td>\n",
       "      <td>4.000000</td>\n",
       "      <td>5.000000</td>\n",
       "    </tr>\n",
       "  </tbody>\n",
       "</table>\n",
       "</div>"
      ],
      "text/plain": [
       "       PassengerId    Survived      Pclass         Age       SibSp  \\\n",
       "count   891.000000  891.000000  891.000000  891.000000  891.000000   \n",
       "mean    446.000000    0.383838    2.308642   29.699118    0.523008   \n",
       "std     257.353842    0.486592    0.836071   13.002015    1.102743   \n",
       "min       1.000000    0.000000    1.000000    0.420000    0.000000   \n",
       "25%     223.500000    0.000000    2.000000   22.000000    0.000000   \n",
       "50%     446.000000    0.000000    3.000000   29.699118    0.000000   \n",
       "75%     668.500000    1.000000    3.000000   35.000000    1.000000   \n",
       "max     891.000000    1.000000    3.000000   80.000000    8.000000   \n",
       "\n",
       "            Parch        Fare        fold       Title  \n",
       "count  891.000000  891.000000  891.000000  891.000000  \n",
       "mean     0.381594   32.204208    1.997755    1.728395  \n",
       "std      0.806057   49.693429    1.415800    1.030039  \n",
       "min      0.000000    0.000000    0.000000    1.000000  \n",
       "25%      0.000000    7.910400    1.000000    1.000000  \n",
       "50%      0.000000   14.454200    2.000000    1.000000  \n",
       "75%      0.000000   31.000000    3.000000    2.000000  \n",
       "max      6.000000  512.329200    4.000000    5.000000  "
      ]
     },
     "execution_count": 29,
     "metadata": {},
     "output_type": "execute_result"
    }
   ],
   "source": [
    "train.describe()"
   ]
  },
  {
   "cell_type": "code",
   "execution_count": 30,
   "metadata": {},
   "outputs": [
    {
     "data": {
      "text/html": [
       "<div>\n",
       "<style scoped>\n",
       "    .dataframe tbody tr th:only-of-type {\n",
       "        vertical-align: middle;\n",
       "    }\n",
       "\n",
       "    .dataframe tbody tr th {\n",
       "        vertical-align: top;\n",
       "    }\n",
       "\n",
       "    .dataframe thead th {\n",
       "        text-align: right;\n",
       "    }\n",
       "</style>\n",
       "<table border=\"1\" class=\"dataframe\">\n",
       "  <thead>\n",
       "    <tr style=\"text-align: right;\">\n",
       "      <th></th>\n",
       "      <th>PassengerId</th>\n",
       "      <th>Pclass</th>\n",
       "      <th>Age</th>\n",
       "      <th>SibSp</th>\n",
       "      <th>Parch</th>\n",
       "      <th>Fare</th>\n",
       "      <th>Title</th>\n",
       "    </tr>\n",
       "  </thead>\n",
       "  <tbody>\n",
       "    <tr>\n",
       "      <th>count</th>\n",
       "      <td>418.000000</td>\n",
       "      <td>418.000000</td>\n",
       "      <td>418.000000</td>\n",
       "      <td>418.000000</td>\n",
       "      <td>418.000000</td>\n",
       "      <td>418.000000</td>\n",
       "      <td>418.000000</td>\n",
       "    </tr>\n",
       "    <tr>\n",
       "      <th>mean</th>\n",
       "      <td>1100.500000</td>\n",
       "      <td>2.265550</td>\n",
       "      <td>30.154603</td>\n",
       "      <td>0.447368</td>\n",
       "      <td>0.392344</td>\n",
       "      <td>35.627188</td>\n",
       "      <td>1.741627</td>\n",
       "    </tr>\n",
       "    <tr>\n",
       "      <th>std</th>\n",
       "      <td>120.810458</td>\n",
       "      <td>0.841838</td>\n",
       "      <td>12.636666</td>\n",
       "      <td>0.896760</td>\n",
       "      <td>0.981429</td>\n",
       "      <td>55.840500</td>\n",
       "      <td>1.006091</td>\n",
       "    </tr>\n",
       "    <tr>\n",
       "      <th>min</th>\n",
       "      <td>892.000000</td>\n",
       "      <td>1.000000</td>\n",
       "      <td>0.170000</td>\n",
       "      <td>0.000000</td>\n",
       "      <td>0.000000</td>\n",
       "      <td>0.000000</td>\n",
       "      <td>1.000000</td>\n",
       "    </tr>\n",
       "    <tr>\n",
       "      <th>25%</th>\n",
       "      <td>996.250000</td>\n",
       "      <td>1.000000</td>\n",
       "      <td>23.000000</td>\n",
       "      <td>0.000000</td>\n",
       "      <td>0.000000</td>\n",
       "      <td>7.895800</td>\n",
       "      <td>1.000000</td>\n",
       "    </tr>\n",
       "    <tr>\n",
       "      <th>50%</th>\n",
       "      <td>1100.500000</td>\n",
       "      <td>3.000000</td>\n",
       "      <td>29.699118</td>\n",
       "      <td>0.000000</td>\n",
       "      <td>0.000000</td>\n",
       "      <td>14.454200</td>\n",
       "      <td>1.000000</td>\n",
       "    </tr>\n",
       "    <tr>\n",
       "      <th>75%</th>\n",
       "      <td>1204.750000</td>\n",
       "      <td>3.000000</td>\n",
       "      <td>35.750000</td>\n",
       "      <td>1.000000</td>\n",
       "      <td>0.000000</td>\n",
       "      <td>31.500000</td>\n",
       "      <td>2.000000</td>\n",
       "    </tr>\n",
       "    <tr>\n",
       "      <th>max</th>\n",
       "      <td>1309.000000</td>\n",
       "      <td>3.000000</td>\n",
       "      <td>76.000000</td>\n",
       "      <td>8.000000</td>\n",
       "      <td>9.000000</td>\n",
       "      <td>512.329200</td>\n",
       "      <td>5.000000</td>\n",
       "    </tr>\n",
       "  </tbody>\n",
       "</table>\n",
       "</div>"
      ],
      "text/plain": [
       "       PassengerId      Pclass         Age       SibSp       Parch  \\\n",
       "count   418.000000  418.000000  418.000000  418.000000  418.000000   \n",
       "mean   1100.500000    2.265550   30.154603    0.447368    0.392344   \n",
       "std     120.810458    0.841838   12.636666    0.896760    0.981429   \n",
       "min     892.000000    1.000000    0.170000    0.000000    0.000000   \n",
       "25%     996.250000    1.000000   23.000000    0.000000    0.000000   \n",
       "50%    1100.500000    3.000000   29.699118    0.000000    0.000000   \n",
       "75%    1204.750000    3.000000   35.750000    1.000000    0.000000   \n",
       "max    1309.000000    3.000000   76.000000    8.000000    9.000000   \n",
       "\n",
       "             Fare       Title  \n",
       "count  418.000000  418.000000  \n",
       "mean    35.627188    1.741627  \n",
       "std     55.840500    1.006091  \n",
       "min      0.000000    1.000000  \n",
       "25%      7.895800    1.000000  \n",
       "50%     14.454200    1.000000  \n",
       "75%     31.500000    2.000000  \n",
       "max    512.329200    5.000000  "
      ]
     },
     "execution_count": 30,
     "metadata": {},
     "output_type": "execute_result"
    }
   ],
   "source": [
    "test.describe()"
   ]
  },
  {
   "cell_type": "code",
   "execution_count": 31,
   "metadata": {},
   "outputs": [],
   "source": [
    "train['Fare'] = pd.qcut(train['Fare'], 10)\n",
    "test['Fare'] = pd.qcut(test['Fare'], 10)"
   ]
  },
  {
   "cell_type": "code",
   "execution_count": 32,
   "metadata": {},
   "outputs": [],
   "source": [
    "train['Age'] = pd.qcut(train['Age'], 10, duplicates='drop')\n",
    "test['Age'] = pd.qcut(test['Age'], 10, duplicates='drop')"
   ]
  },
  {
   "cell_type": "code",
   "execution_count": 33,
   "metadata": {},
   "outputs": [
    {
     "data": {
      "text/plain": [
       "numpy.int64"
      ]
     },
     "execution_count": 33,
     "metadata": {},
     "output_type": "execute_result"
    }
   ],
   "source": [
    "type(train['SibSp'][0])"
   ]
  },
  {
   "cell_type": "code",
   "execution_count": 34,
   "metadata": {},
   "outputs": [],
   "source": [
    "train['SibSp'] = pd.qcut(train['SibSp'], 4, duplicates='drop')\n",
    "test['SibSp'] = pd.qcut(test['SibSp'], 4, duplicates='drop')"
   ]
  },
  {
   "cell_type": "code",
   "execution_count": 35,
   "metadata": {},
   "outputs": [],
   "source": [
    "train['Fare'] = str(train['Fare'])\n",
    "test['Fare'] = str(test['Fare'])\n",
    "\n",
    "train['Age'] = str(train['Age'])\n",
    "test['Age'] = str(test['Age'])\n",
    "\n",
    "train['SibSp'] = str(train['SibSp'])\n",
    "test['SibSp'] = str(test['SibSp'])"
   ]
  },
  {
   "cell_type": "code",
   "execution_count": 36,
   "metadata": {},
   "outputs": [
    {
     "data": {
      "text/html": [
       "<div>\n",
       "<style scoped>\n",
       "    .dataframe tbody tr th:only-of-type {\n",
       "        vertical-align: middle;\n",
       "    }\n",
       "\n",
       "    .dataframe tbody tr th {\n",
       "        vertical-align: top;\n",
       "    }\n",
       "\n",
       "    .dataframe thead th {\n",
       "        text-align: right;\n",
       "    }\n",
       "</style>\n",
       "<table border=\"1\" class=\"dataframe\">\n",
       "  <thead>\n",
       "    <tr style=\"text-align: right;\">\n",
       "      <th></th>\n",
       "      <th>PassengerId</th>\n",
       "      <th>Survived</th>\n",
       "      <th>Pclass</th>\n",
       "      <th>Name</th>\n",
       "      <th>Sex</th>\n",
       "      <th>Age</th>\n",
       "      <th>SibSp</th>\n",
       "      <th>Parch</th>\n",
       "      <th>Ticket</th>\n",
       "      <th>Fare</th>\n",
       "      <th>Cabin</th>\n",
       "      <th>Embarked</th>\n",
       "      <th>fold</th>\n",
       "      <th>Title</th>\n",
       "    </tr>\n",
       "  </thead>\n",
       "  <tbody>\n",
       "    <tr>\n",
       "      <th>0</th>\n",
       "      <td>1</td>\n",
       "      <td>0</td>\n",
       "      <td>3</td>\n",
       "      <td>Braund, Mr. Owen Harris</td>\n",
       "      <td>male</td>\n",
       "      <td>0        (20.0, 24.0]\\n1        (32.5, 38.0]\\n...</td>\n",
       "      <td>0      (-0.001, 1.0]\\n1      (-0.001, 1.0]\\n2 ...</td>\n",
       "      <td>0</td>\n",
       "      <td>A/5 21171</td>\n",
       "      <td>0        (-0.001, 7.55]\\n1      (39.688, 77.95...</td>\n",
       "      <td>Unknown</td>\n",
       "      <td>S</td>\n",
       "      <td>1</td>\n",
       "      <td>1</td>\n",
       "    </tr>\n",
       "    <tr>\n",
       "      <th>1</th>\n",
       "      <td>2</td>\n",
       "      <td>1</td>\n",
       "      <td>1</td>\n",
       "      <td>Cumings, Mrs. John Bradley (Florence Briggs Th...</td>\n",
       "      <td>female</td>\n",
       "      <td>0        (20.0, 24.0]\\n1        (32.5, 38.0]\\n...</td>\n",
       "      <td>0      (-0.001, 1.0]\\n1      (-0.001, 1.0]\\n2 ...</td>\n",
       "      <td>0</td>\n",
       "      <td>PC 17599</td>\n",
       "      <td>0        (-0.001, 7.55]\\n1      (39.688, 77.95...</td>\n",
       "      <td>C85</td>\n",
       "      <td>C</td>\n",
       "      <td>4</td>\n",
       "      <td>3</td>\n",
       "    </tr>\n",
       "    <tr>\n",
       "      <th>2</th>\n",
       "      <td>3</td>\n",
       "      <td>1</td>\n",
       "      <td>3</td>\n",
       "      <td>Heikkinen, Miss. Laina</td>\n",
       "      <td>female</td>\n",
       "      <td>0        (20.0, 24.0]\\n1        (32.5, 38.0]\\n...</td>\n",
       "      <td>0      (-0.001, 1.0]\\n1      (-0.001, 1.0]\\n2 ...</td>\n",
       "      <td>0</td>\n",
       "      <td>STON/O2. 3101282</td>\n",
       "      <td>0        (-0.001, 7.55]\\n1      (39.688, 77.95...</td>\n",
       "      <td>Unknown</td>\n",
       "      <td>S</td>\n",
       "      <td>3</td>\n",
       "      <td>2</td>\n",
       "    </tr>\n",
       "    <tr>\n",
       "      <th>3</th>\n",
       "      <td>4</td>\n",
       "      <td>1</td>\n",
       "      <td>1</td>\n",
       "      <td>Futrelle, Mrs. Jacques Heath (Lily May Peel)</td>\n",
       "      <td>female</td>\n",
       "      <td>0        (20.0, 24.0]\\n1        (32.5, 38.0]\\n...</td>\n",
       "      <td>0      (-0.001, 1.0]\\n1      (-0.001, 1.0]\\n2 ...</td>\n",
       "      <td>0</td>\n",
       "      <td>113803</td>\n",
       "      <td>0        (-0.001, 7.55]\\n1      (39.688, 77.95...</td>\n",
       "      <td>C123</td>\n",
       "      <td>S</td>\n",
       "      <td>3</td>\n",
       "      <td>3</td>\n",
       "    </tr>\n",
       "    <tr>\n",
       "      <th>4</th>\n",
       "      <td>5</td>\n",
       "      <td>0</td>\n",
       "      <td>3</td>\n",
       "      <td>Allen, Mr. William Henry</td>\n",
       "      <td>male</td>\n",
       "      <td>0        (20.0, 24.0]\\n1        (32.5, 38.0]\\n...</td>\n",
       "      <td>0      (-0.001, 1.0]\\n1      (-0.001, 1.0]\\n2 ...</td>\n",
       "      <td>0</td>\n",
       "      <td>373450</td>\n",
       "      <td>0        (-0.001, 7.55]\\n1      (39.688, 77.95...</td>\n",
       "      <td>Unknown</td>\n",
       "      <td>S</td>\n",
       "      <td>0</td>\n",
       "      <td>1</td>\n",
       "    </tr>\n",
       "  </tbody>\n",
       "</table>\n",
       "</div>"
      ],
      "text/plain": [
       "   PassengerId  Survived  Pclass  \\\n",
       "0            1         0       3   \n",
       "1            2         1       1   \n",
       "2            3         1       3   \n",
       "3            4         1       1   \n",
       "4            5         0       3   \n",
       "\n",
       "                                                Name     Sex  \\\n",
       "0                            Braund, Mr. Owen Harris    male   \n",
       "1  Cumings, Mrs. John Bradley (Florence Briggs Th...  female   \n",
       "2                             Heikkinen, Miss. Laina  female   \n",
       "3       Futrelle, Mrs. Jacques Heath (Lily May Peel)  female   \n",
       "4                           Allen, Mr. William Henry    male   \n",
       "\n",
       "                                                 Age  \\\n",
       "0  0        (20.0, 24.0]\\n1        (32.5, 38.0]\\n...   \n",
       "1  0        (20.0, 24.0]\\n1        (32.5, 38.0]\\n...   \n",
       "2  0        (20.0, 24.0]\\n1        (32.5, 38.0]\\n...   \n",
       "3  0        (20.0, 24.0]\\n1        (32.5, 38.0]\\n...   \n",
       "4  0        (20.0, 24.0]\\n1        (32.5, 38.0]\\n...   \n",
       "\n",
       "                                               SibSp  Parch            Ticket  \\\n",
       "0  0      (-0.001, 1.0]\\n1      (-0.001, 1.0]\\n2 ...      0         A/5 21171   \n",
       "1  0      (-0.001, 1.0]\\n1      (-0.001, 1.0]\\n2 ...      0          PC 17599   \n",
       "2  0      (-0.001, 1.0]\\n1      (-0.001, 1.0]\\n2 ...      0  STON/O2. 3101282   \n",
       "3  0      (-0.001, 1.0]\\n1      (-0.001, 1.0]\\n2 ...      0            113803   \n",
       "4  0      (-0.001, 1.0]\\n1      (-0.001, 1.0]\\n2 ...      0            373450   \n",
       "\n",
       "                                                Fare    Cabin Embarked  fold  \\\n",
       "0  0        (-0.001, 7.55]\\n1      (39.688, 77.95...  Unknown        S     1   \n",
       "1  0        (-0.001, 7.55]\\n1      (39.688, 77.95...      C85        C     4   \n",
       "2  0        (-0.001, 7.55]\\n1      (39.688, 77.95...  Unknown        S     3   \n",
       "3  0        (-0.001, 7.55]\\n1      (39.688, 77.95...     C123        S     3   \n",
       "4  0        (-0.001, 7.55]\\n1      (39.688, 77.95...  Unknown        S     0   \n",
       "\n",
       "   Title  \n",
       "0      1  \n",
       "1      3  \n",
       "2      2  \n",
       "3      3  \n",
       "4      1  "
      ]
     },
     "execution_count": 36,
     "metadata": {},
     "output_type": "execute_result"
    }
   ],
   "source": [
    "train.head()"
   ]
  },
  {
   "cell_type": "code",
   "execution_count": 37,
   "metadata": {},
   "outputs": [
    {
     "data": {
      "text/html": [
       "<div>\n",
       "<style scoped>\n",
       "    .dataframe tbody tr th:only-of-type {\n",
       "        vertical-align: middle;\n",
       "    }\n",
       "\n",
       "    .dataframe tbody tr th {\n",
       "        vertical-align: top;\n",
       "    }\n",
       "\n",
       "    .dataframe thead th {\n",
       "        text-align: right;\n",
       "    }\n",
       "</style>\n",
       "<table border=\"1\" class=\"dataframe\">\n",
       "  <thead>\n",
       "    <tr style=\"text-align: right;\">\n",
       "      <th></th>\n",
       "      <th>PassengerId</th>\n",
       "      <th>Pclass</th>\n",
       "      <th>Name</th>\n",
       "      <th>Sex</th>\n",
       "      <th>Age</th>\n",
       "      <th>SibSp</th>\n",
       "      <th>Parch</th>\n",
       "      <th>Ticket</th>\n",
       "      <th>Fare</th>\n",
       "      <th>Cabin</th>\n",
       "      <th>Embarked</th>\n",
       "      <th>Title</th>\n",
       "    </tr>\n",
       "  </thead>\n",
       "  <tbody>\n",
       "    <tr>\n",
       "      <th>0</th>\n",
       "      <td>892</td>\n",
       "      <td>3</td>\n",
       "      <td>Kelly, Mr. James</td>\n",
       "      <td>male</td>\n",
       "      <td>0        (31.9, 39.0]\\n1        (39.0, 48.0]\\n...</td>\n",
       "      <td>0      (-0.001, 1.0]\\n1      (-0.001, 1.0]\\n2 ...</td>\n",
       "      <td>0</td>\n",
       "      <td>330911</td>\n",
       "      <td>0         (7.796, 8.05]\\n1       (-0.001, 7.64...</td>\n",
       "      <td>Unknown</td>\n",
       "      <td>Q</td>\n",
       "      <td>1</td>\n",
       "    </tr>\n",
       "    <tr>\n",
       "      <th>1</th>\n",
       "      <td>893</td>\n",
       "      <td>3</td>\n",
       "      <td>Wilkes, Mrs. James (Ellen Needs)</td>\n",
       "      <td>female</td>\n",
       "      <td>0        (31.9, 39.0]\\n1        (39.0, 48.0]\\n...</td>\n",
       "      <td>0      (-0.001, 1.0]\\n1      (-0.001, 1.0]\\n2 ...</td>\n",
       "      <td>0</td>\n",
       "      <td>363272</td>\n",
       "      <td>0         (7.796, 8.05]\\n1       (-0.001, 7.64...</td>\n",
       "      <td>Unknown</td>\n",
       "      <td>S</td>\n",
       "      <td>3</td>\n",
       "    </tr>\n",
       "    <tr>\n",
       "      <th>2</th>\n",
       "      <td>894</td>\n",
       "      <td>2</td>\n",
       "      <td>Myles, Mr. Thomas Francis</td>\n",
       "      <td>male</td>\n",
       "      <td>0        (31.9, 39.0]\\n1        (39.0, 48.0]\\n...</td>\n",
       "      <td>0      (-0.001, 1.0]\\n1      (-0.001, 1.0]\\n2 ...</td>\n",
       "      <td>0</td>\n",
       "      <td>240276</td>\n",
       "      <td>0         (7.796, 8.05]\\n1       (-0.001, 7.64...</td>\n",
       "      <td>Unknown</td>\n",
       "      <td>Q</td>\n",
       "      <td>1</td>\n",
       "    </tr>\n",
       "    <tr>\n",
       "      <th>3</th>\n",
       "      <td>895</td>\n",
       "      <td>3</td>\n",
       "      <td>Wirz, Mr. Albert</td>\n",
       "      <td>male</td>\n",
       "      <td>0        (31.9, 39.0]\\n1        (39.0, 48.0]\\n...</td>\n",
       "      <td>0      (-0.001, 1.0]\\n1      (-0.001, 1.0]\\n2 ...</td>\n",
       "      <td>0</td>\n",
       "      <td>315154</td>\n",
       "      <td>0         (7.796, 8.05]\\n1       (-0.001, 7.64...</td>\n",
       "      <td>Unknown</td>\n",
       "      <td>S</td>\n",
       "      <td>1</td>\n",
       "    </tr>\n",
       "    <tr>\n",
       "      <th>4</th>\n",
       "      <td>896</td>\n",
       "      <td>3</td>\n",
       "      <td>Hirvonen, Mrs. Alexander (Helga E Lindqvist)</td>\n",
       "      <td>female</td>\n",
       "      <td>0        (31.9, 39.0]\\n1        (39.0, 48.0]\\n...</td>\n",
       "      <td>0      (-0.001, 1.0]\\n1      (-0.001, 1.0]\\n2 ...</td>\n",
       "      <td>1</td>\n",
       "      <td>3101298</td>\n",
       "      <td>0         (7.796, 8.05]\\n1       (-0.001, 7.64...</td>\n",
       "      <td>Unknown</td>\n",
       "      <td>S</td>\n",
       "      <td>3</td>\n",
       "    </tr>\n",
       "  </tbody>\n",
       "</table>\n",
       "</div>"
      ],
      "text/plain": [
       "   PassengerId  Pclass                                          Name     Sex  \\\n",
       "0          892       3                              Kelly, Mr. James    male   \n",
       "1          893       3              Wilkes, Mrs. James (Ellen Needs)  female   \n",
       "2          894       2                     Myles, Mr. Thomas Francis    male   \n",
       "3          895       3                              Wirz, Mr. Albert    male   \n",
       "4          896       3  Hirvonen, Mrs. Alexander (Helga E Lindqvist)  female   \n",
       "\n",
       "                                                 Age  \\\n",
       "0  0        (31.9, 39.0]\\n1        (39.0, 48.0]\\n...   \n",
       "1  0        (31.9, 39.0]\\n1        (39.0, 48.0]\\n...   \n",
       "2  0        (31.9, 39.0]\\n1        (39.0, 48.0]\\n...   \n",
       "3  0        (31.9, 39.0]\\n1        (39.0, 48.0]\\n...   \n",
       "4  0        (31.9, 39.0]\\n1        (39.0, 48.0]\\n...   \n",
       "\n",
       "                                               SibSp  Parch   Ticket  \\\n",
       "0  0      (-0.001, 1.0]\\n1      (-0.001, 1.0]\\n2 ...      0   330911   \n",
       "1  0      (-0.001, 1.0]\\n1      (-0.001, 1.0]\\n2 ...      0   363272   \n",
       "2  0      (-0.001, 1.0]\\n1      (-0.001, 1.0]\\n2 ...      0   240276   \n",
       "3  0      (-0.001, 1.0]\\n1      (-0.001, 1.0]\\n2 ...      0   315154   \n",
       "4  0      (-0.001, 1.0]\\n1      (-0.001, 1.0]\\n2 ...      1  3101298   \n",
       "\n",
       "                                                Fare    Cabin Embarked  Title  \n",
       "0  0         (7.796, 8.05]\\n1       (-0.001, 7.64...  Unknown        Q      1  \n",
       "1  0         (7.796, 8.05]\\n1       (-0.001, 7.64...  Unknown        S      3  \n",
       "2  0         (7.796, 8.05]\\n1       (-0.001, 7.64...  Unknown        Q      1  \n",
       "3  0         (7.796, 8.05]\\n1       (-0.001, 7.64...  Unknown        S      1  \n",
       "4  0         (7.796, 8.05]\\n1       (-0.001, 7.64...  Unknown        S      3  "
      ]
     },
     "execution_count": 37,
     "metadata": {},
     "output_type": "execute_result"
    }
   ],
   "source": [
    "test.head()"
   ]
  },
  {
   "cell_type": "markdown",
   "metadata": {},
   "source": [
    "## Label Encoding"
   ]
  },
  {
   "cell_type": "code",
   "execution_count": 38,
   "metadata": {},
   "outputs": [],
   "source": [
    "# train.Name = train.Name.str.extract('([A-Za-z]+)\\.', expand=False)\n",
    "# test.Name = test.Name.str.extract('([A-Za-z]+)\\.', expand=False)"
   ]
  },
  {
   "cell_type": "code",
   "execution_count": 39,
   "metadata": {},
   "outputs": [],
   "source": [
    "train = train.drop('Name', axis=1)\n",
    "test = test.drop('Name', axis=1)"
   ]
  },
  {
   "cell_type": "code",
   "execution_count": 40,
   "metadata": {},
   "outputs": [],
   "source": [
    "train = train.drop('PassengerId', axis=1)\n",
    "test = test.drop('PassengerId', axis=1)"
   ]
  },
  {
   "cell_type": "code",
   "execution_count": 41,
   "metadata": {},
   "outputs": [],
   "source": [
    "train, test = label_encoding(train, test, ['Sex', 'Ticket', 'Cabin', 'Embarked', 'Age', 'Fare', 'SibSp'] )"
   ]
  },
  {
   "cell_type": "markdown",
   "metadata": {},
   "source": [
    "# Building Model"
   ]
  },
  {
   "cell_type": "markdown",
   "metadata": {},
   "source": [
    "## LGB"
   ]
  },
  {
   "cell_type": "code",
   "execution_count": 44,
   "metadata": {},
   "outputs": [],
   "source": [
    "def optuna_lgb(n_trials=100):\n",
    "    \n",
    "    def objective(trial):\n",
    "\n",
    "        params = {\n",
    "            \"objective\": \"binary\",\n",
    "            \"metric\": \"binary_logloss\",\n",
    "            \"verbosity\": -1,\n",
    "            \"boosting_type\": \"gbdt\",\n",
    "            \"lambda_l1\": trial.suggest_float(\"lambda_l1\", 1e-5, 10, log=True),\n",
    "            \"lambda_l2\": trial.suggest_float(\"lambda_l2\", 1e-5, 10, log=True),\n",
    "            \"num_leaves\": trial.suggest_int(\"num_leaves\", 2, 62),\n",
    "            \"feature_fraction\": trial.suggest_float(\"feature_fraction\", 0.4, 0.9),\n",
    "            \"bagging_fraction\": trial.suggest_float(\"bagging_fraction\", 0.4, 0.9),\n",
    "            \"bagging_freq\": trial.suggest_int(\"bagging_freq\", 2, 9),\n",
    "            \"min_child_samples\": trial.suggest_int(\"min_child_samples\", 33, 93),\n",
    "            \"max_depth\": trial.suggest_int(\"max_depth\", 2, 7)\n",
    "        }\n",
    "\n",
    "        # initialize oof \n",
    "        oof_train = np.zeros((len(train),))\n",
    "\n",
    "        for i in range(5):\n",
    "            train_x = train.query(f'fold!={i}').drop(['fold', 'Survived'], axis=1)\n",
    "            train_y = train.query(f'fold!={i}').Survived\n",
    "\n",
    "            valid_x = train.query(f'fold=={i}').drop(['fold', 'Survived'], axis=1)\n",
    "            valid_y = train.query(f'fold=={i}').Survived\n",
    "            \n",
    "            lgb_train = lgb.Dataset(train_x,\n",
    "                                    train_y)\n",
    "\n",
    "            lgb_eval = lgb.Dataset(valid_x,\n",
    "                                   valid_y,\n",
    "                                   reference=lgb_train)\n",
    "\n",
    "            gbm = lgb.train(params,\n",
    "                            lgb_train,\n",
    "                            valid_sets=[lgb_train, lgb_eval],\n",
    "                            num_boost_round=5000,\n",
    "                            verbose_eval=-1, \n",
    "                            early_stopping_rounds=1000\n",
    "                            )\n",
    "            oof_preds = gbm.predict(valid_x, num_iteration=gbm.best_iteration)\n",
    "            oof_train[valid_x.index] = gbm.predict(valid_x,\n",
    "                                                   num_iteration=gbm.best_iteration)\n",
    "            \n",
    "            \n",
    "        return accuracy_score(train.Survived, oof_train.round())\n",
    "    \n",
    "    study = optuna.create_study(direction=\"maximize\")\n",
    "    study.optimize(objective, n_trials=n_trials)\n",
    "\n",
    "    print(\"Number of finished trials: {}\".format(len(study.trials)))\n",
    "\n",
    "    print(\"Best trial:\")\n",
    "    trial = study.best_trial\n",
    "\n",
    "    print(\"  Value: {}\".format(trial.value))\n",
    "\n",
    "    print(\"  Params: \")\n",
    "    for key, value in trial.params.items():\n",
    "        print(\"    {}: {}\".format(key, value))\n",
    "    \n",
    "    best_params = {\n",
    "        \"objective\": \"binary\",\n",
    "        \"metric\": \"binary_logloss\",\n",
    "        \"verbosity\": -1,\n",
    "        \"boosting_type\": \"gbdt\",\n",
    "    }\n",
    "    best_params.update(study.best_params)\n",
    "    ## save trained model\n",
    "    # initialize oof \n",
    "    oof_train = np.zeros((len(train),))\n",
    "    print('*'*50)\n",
    "    print('Exporting best models')\n",
    "    print('*' * 50)\n",
    "    # split folds using RSGKF\n",
    "    for i in range(5):\n",
    "        train_x = train.query(f'fold!={i}').drop(['fold', 'Survived'], axis=1)\n",
    "        train_y = train.query(f'fold!={i}').Survived\n",
    "\n",
    "        valid_x = train.query(f'fold=={i}').drop(['fold', 'Survived'], axis=1)\n",
    "        valid_y = train.query(f'fold=={i}').Survived\n",
    "\n",
    "        lgb_train = lgb.Dataset(train_x,\n",
    "                                train_y)\n",
    "\n",
    "        lgb_eval = lgb.Dataset(valid_x,\n",
    "                               valid_y,\n",
    "                               reference=lgb_train)\n",
    "\n",
    "        gbm = lgb.train(best_params,\n",
    "                        lgb_train,\n",
    "                        valid_sets=[lgb_train, lgb_eval],\n",
    "                        num_boost_round=50000,\n",
    "                        verbose_eval=-1, \n",
    "                        early_stopping_rounds=1001\n",
    "                        )\n",
    "\n",
    "        oof_preds = gbm.predict(valid_x, num_iteration=gbm.best_iteration)\n",
    "        oof_train[valid_x.index] = gbm.predict(valid_x, num_iteration=gbm.best_iteration)\n",
    "\n",
    "        joblib.dump(gbm, f'lgb_fold{i}.pkl')"
   ]
  },
  {
   "cell_type": "code",
   "execution_count": null,
   "metadata": {},
   "outputs": [
    {
     "name": "stderr",
     "output_type": "stream",
     "text": [
      "\u001b[32m[I 2021-10-02 20:06:30,993]\u001b[0m A new study created in memory with name: no-name-3e6934d0-a518-4e1f-8c05-50467b58a0ce\u001b[0m\n"
     ]
    },
    {
     "name": "stdout",
     "output_type": "stream",
     "text": [
      "Training until validation scores don't improve for 1000 rounds\n",
      "Early stopping, best iteration is:\n",
      "[93]\ttraining's binary_logloss: 0.380899\tvalid_1's binary_logloss: 0.415107\n",
      "Training until validation scores don't improve for 1000 rounds\n",
      "Early stopping, best iteration is:\n",
      "[226]\ttraining's binary_logloss: 0.353536\tvalid_1's binary_logloss: 0.399172\n",
      "Training until validation scores don't improve for 1000 rounds\n",
      "Early stopping, best iteration is:\n",
      "[131]\ttraining's binary_logloss: 0.359263\tvalid_1's binary_logloss: 0.458907\n",
      "Training until validation scores don't improve for 1000 rounds\n",
      "Early stopping, best iteration is:\n",
      "[516]\ttraining's binary_logloss: 0.315719\tvalid_1's binary_logloss: 0.413806\n",
      "Training until validation scores don't improve for 1000 rounds\n"
     ]
    },
    {
     "name": "stderr",
     "output_type": "stream",
     "text": [
      "\u001b[32m[I 2021-10-02 20:06:32,904]\u001b[0m Trial 0 finished with value: 0.8170594837261503 and parameters: {'lambda_l1': 0.4504811473905986, 'lambda_l2': 1.355569361399226, 'num_leaves': 29, 'feature_fraction': 0.5243510836328067, 'bagging_fraction': 0.7409490661146226, 'bagging_freq': 3, 'min_child_samples': 42, 'max_depth': 3}. Best is trial 0 with value: 0.8170594837261503.\u001b[0m\n"
     ]
    },
    {
     "name": "stdout",
     "output_type": "stream",
     "text": [
      "Early stopping, best iteration is:\n",
      "[35]\ttraining's binary_logloss: 0.41142\tvalid_1's binary_logloss: 0.42258\n",
      "Training until validation scores don't improve for 1000 rounds\n",
      "Early stopping, best iteration is:\n",
      "[352]\ttraining's binary_logloss: 0.357577\tvalid_1's binary_logloss: 0.413776\n",
      "Training until validation scores don't improve for 1000 rounds\n",
      "Early stopping, best iteration is:\n",
      "[579]\ttraining's binary_logloss: 0.336561\tvalid_1's binary_logloss: 0.389818\n",
      "Training until validation scores don't improve for 1000 rounds\n",
      "Early stopping, best iteration is:\n",
      "[162]\ttraining's binary_logloss: 0.377119\tvalid_1's binary_logloss: 0.453438\n",
      "Training until validation scores don't improve for 1000 rounds\n",
      "Early stopping, best iteration is:\n",
      "[287]\ttraining's binary_logloss: 0.360804\tvalid_1's binary_logloss: 0.42291\n",
      "Training until validation scores don't improve for 1000 rounds\n"
     ]
    },
    {
     "name": "stderr",
     "output_type": "stream",
     "text": [
      "\u001b[32m[I 2021-10-02 20:06:35,124]\u001b[0m Trial 1 finished with value: 0.8159371492704826 and parameters: {'lambda_l1': 0.0029842956381218428, 'lambda_l2': 0.1537110283963997, 'num_leaves': 8, 'feature_fraction': 0.6438285308285523, 'bagging_fraction': 0.5542362596910381, 'bagging_freq': 3, 'min_child_samples': 69, 'max_depth': 5}. Best is trial 0 with value: 0.8170594837261503.\u001b[0m\n"
     ]
    },
    {
     "name": "stdout",
     "output_type": "stream",
     "text": [
      "Early stopping, best iteration is:\n",
      "[181]\ttraining's binary_logloss: 0.378781\tvalid_1's binary_logloss: 0.42141\n",
      "Training until validation scores don't improve for 1000 rounds\n",
      "Early stopping, best iteration is:\n",
      "[56]\ttraining's binary_logloss: 0.405591\tvalid_1's binary_logloss: 0.422184\n",
      "Training until validation scores don't improve for 1000 rounds\n",
      "Early stopping, best iteration is:\n",
      "[372]\ttraining's binary_logloss: 0.376161\tvalid_1's binary_logloss: 0.401964\n",
      "Training until validation scores don't improve for 1000 rounds\n",
      "Early stopping, best iteration is:\n",
      "[346]\ttraining's binary_logloss: 0.363408\tvalid_1's binary_logloss: 0.455083\n",
      "Training until validation scores don't improve for 1000 rounds\n",
      "Early stopping, best iteration is:\n",
      "[49]\ttraining's binary_logloss: 0.407429\tvalid_1's binary_logloss: 0.42643\n",
      "Training until validation scores don't improve for 1000 rounds\n"
     ]
    },
    {
     "name": "stderr",
     "output_type": "stream",
     "text": [
      "\u001b[32m[I 2021-10-02 20:06:36,470]\u001b[0m Trial 2 finished with value: 0.8092031425364759 and parameters: {'lambda_l1': 2.7155974357696264, 'lambda_l2': 1.012579738721704e-05, 'num_leaves': 46, 'feature_fraction': 0.6641668020607965, 'bagging_fraction': 0.885716233543129, 'bagging_freq': 4, 'min_child_samples': 69, 'max_depth': 7}. Best is trial 0 with value: 0.8170594837261503.\u001b[0m\n"
     ]
    },
    {
     "name": "stdout",
     "output_type": "stream",
     "text": [
      "Early stopping, best iteration is:\n",
      "[52]\ttraining's binary_logloss: 0.409649\tvalid_1's binary_logloss: 0.419858\n",
      "Training until validation scores don't improve for 1000 rounds\n",
      "Early stopping, best iteration is:\n",
      "[116]\ttraining's binary_logloss: 0.413331\tvalid_1's binary_logloss: 0.420534\n",
      "Training until validation scores don't improve for 1000 rounds\n",
      "Early stopping, best iteration is:\n",
      "[384]\ttraining's binary_logloss: 0.390866\tvalid_1's binary_logloss: 0.413715\n",
      "Training until validation scores don't improve for 1000 rounds\n",
      "Early stopping, best iteration is:\n",
      "[294]\ttraining's binary_logloss: 0.382088\tvalid_1's binary_logloss: 0.453006\n",
      "Training until validation scores don't improve for 1000 rounds\n",
      "Early stopping, best iteration is:\n",
      "[275]\ttraining's binary_logloss: 0.39428\tvalid_1's binary_logloss: 0.430183\n",
      "Training until validation scores don't improve for 1000 rounds\n"
     ]
    },
    {
     "name": "stderr",
     "output_type": "stream",
     "text": [
      "\u001b[32m[I 2021-10-02 20:06:38,216]\u001b[0m Trial 3 finished with value: 0.8002244668911336 and parameters: {'lambda_l1': 0.002948170294275909, 'lambda_l2': 0.8523345334415832, 'num_leaves': 7, 'feature_fraction': 0.5686279694072874, 'bagging_fraction': 0.46768358710518443, 'bagging_freq': 2, 'min_child_samples': 75, 'max_depth': 5}. Best is trial 0 with value: 0.8170594837261503.\u001b[0m\n"
     ]
    },
    {
     "name": "stdout",
     "output_type": "stream",
     "text": [
      "Early stopping, best iteration is:\n",
      "[86]\ttraining's binary_logloss: 0.42318\tvalid_1's binary_logloss: 0.421405\n",
      "Training until validation scores don't improve for 1000 rounds\n",
      "Early stopping, best iteration is:\n",
      "[58]\ttraining's binary_logloss: 0.375836\tvalid_1's binary_logloss: 0.417382\n",
      "Training until validation scores don't improve for 1000 rounds\n",
      "Early stopping, best iteration is:\n",
      "[173]\ttraining's binary_logloss: 0.337934\tvalid_1's binary_logloss: 0.40672\n",
      "Training until validation scores don't improve for 1000 rounds\n",
      "Early stopping, best iteration is:\n",
      "[71]\ttraining's binary_logloss: 0.363201\tvalid_1's binary_logloss: 0.456189\n",
      "Training until validation scores don't improve for 1000 rounds\n",
      "Early stopping, best iteration is:\n",
      "[264]\ttraining's binary_logloss: 0.31354\tvalid_1's binary_logloss: 0.409884\n",
      "Training until validation scores don't improve for 1000 rounds\n"
     ]
    },
    {
     "name": "stderr",
     "output_type": "stream",
     "text": [
      "\u001b[32m[I 2021-10-02 20:06:40,362]\u001b[0m Trial 4 finished with value: 0.8237934904601572 and parameters: {'lambda_l1': 0.0005580365404479516, 'lambda_l2': 0.0020782633832178475, 'num_leaves': 38, 'feature_fraction': 0.4666220280644362, 'bagging_fraction': 0.8284922754787871, 'bagging_freq': 5, 'min_child_samples': 38, 'max_depth': 4}. Best is trial 4 with value: 0.8237934904601572.\u001b[0m\n"
     ]
    },
    {
     "name": "stdout",
     "output_type": "stream",
     "text": [
      "Early stopping, best iteration is:\n",
      "[32]\ttraining's binary_logloss: 0.400755\tvalid_1's binary_logloss: 0.424322\n",
      "Training until validation scores don't improve for 1000 rounds\n",
      "Early stopping, best iteration is:\n",
      "[514]\ttraining's binary_logloss: 0.345565\tvalid_1's binary_logloss: 0.418958\n",
      "Training until validation scores don't improve for 1000 rounds\n",
      "Early stopping, best iteration is:\n",
      "[539]\ttraining's binary_logloss: 0.348432\tvalid_1's binary_logloss: 0.393975\n",
      "Training until validation scores don't improve for 1000 rounds\n",
      "Early stopping, best iteration is:\n",
      "[805]\ttraining's binary_logloss: 0.314349\tvalid_1's binary_logloss: 0.44108\n",
      "Training until validation scores don't improve for 1000 rounds\n",
      "Early stopping, best iteration is:\n",
      "[83]\ttraining's binary_logloss: 0.403194\tvalid_1's binary_logloss: 0.42071\n",
      "Training until validation scores don't improve for 1000 rounds\n"
     ]
    },
    {
     "name": "stderr",
     "output_type": "stream",
     "text": [
      "\u001b[32m[I 2021-10-02 20:06:42,156]\u001b[0m Trial 5 finished with value: 0.8249158249158249 and parameters: {'lambda_l1': 0.3803761729413972, 'lambda_l2': 1.5294700323918282e-05, 'num_leaves': 4, 'feature_fraction': 0.7661070489101585, 'bagging_fraction': 0.6141218229468189, 'bagging_freq': 7, 'min_child_samples': 69, 'max_depth': 3}. Best is trial 5 with value: 0.8249158249158249.\u001b[0m\n"
     ]
    },
    {
     "name": "stdout",
     "output_type": "stream",
     "text": [
      "Early stopping, best iteration is:\n",
      "[83]\ttraining's binary_logloss: 0.405824\tvalid_1's binary_logloss: 0.420931\n",
      "Training until validation scores don't improve for 1000 rounds\n",
      "Early stopping, best iteration is:\n",
      "[300]\ttraining's binary_logloss: 0.344879\tvalid_1's binary_logloss: 0.411552\n",
      "Training until validation scores don't improve for 1000 rounds\n",
      "Early stopping, best iteration is:\n",
      "[384]\ttraining's binary_logloss: 0.336742\tvalid_1's binary_logloss: 0.392202\n",
      "Training until validation scores don't improve for 1000 rounds\n",
      "Early stopping, best iteration is:\n",
      "[235]\ttraining's binary_logloss: 0.346018\tvalid_1's binary_logloss: 0.450082\n",
      "Training until validation scores don't improve for 1000 rounds\n",
      "Early stopping, best iteration is:\n",
      "[272]\ttraining's binary_logloss: 0.347448\tvalid_1's binary_logloss: 0.41947\n",
      "Training until validation scores don't improve for 1000 rounds\n"
     ]
    },
    {
     "name": "stderr",
     "output_type": "stream",
     "text": [
      "\u001b[32m[I 2021-10-02 20:06:44,233]\u001b[0m Trial 6 finished with value: 0.8204264870931538 and parameters: {'lambda_l1': 0.00020080054882700002, 'lambda_l2': 0.5112568579625436, 'num_leaves': 22, 'feature_fraction': 0.7124321256171078, 'bagging_fraction': 0.5330430490556606, 'bagging_freq': 2, 'min_child_samples': 55, 'max_depth': 4}. Best is trial 5 with value: 0.8249158249158249.\u001b[0m\n"
     ]
    },
    {
     "name": "stdout",
     "output_type": "stream",
     "text": [
      "Early stopping, best iteration is:\n",
      "[86]\ttraining's binary_logloss: 0.391662\tvalid_1's binary_logloss: 0.420893\n",
      "Training until validation scores don't improve for 1000 rounds\n",
      "Early stopping, best iteration is:\n",
      "[478]\ttraining's binary_logloss: 0.382857\tvalid_1's binary_logloss: 0.423698\n",
      "Training until validation scores don't improve for 1000 rounds\n",
      "Early stopping, best iteration is:\n",
      "[466]\ttraining's binary_logloss: 0.385954\tvalid_1's binary_logloss: 0.408794\n",
      "Training until validation scores don't improve for 1000 rounds\n",
      "Early stopping, best iteration is:\n",
      "[709]\ttraining's binary_logloss: 0.35955\tvalid_1's binary_logloss: 0.460269\n",
      "Training until validation scores don't improve for 1000 rounds\n",
      "Early stopping, best iteration is:\n",
      "[480]\ttraining's binary_logloss: 0.380275\tvalid_1's binary_logloss: 0.422577\n",
      "Training until validation scores don't improve for 1000 rounds\n"
     ]
    },
    {
     "name": "stderr",
     "output_type": "stream",
     "text": [
      "\u001b[32m[I 2021-10-02 20:06:46,722]\u001b[0m Trial 7 finished with value: 0.8058361391694725 and parameters: {'lambda_l1': 0.0031719871638297556, 'lambda_l2': 2.5147356099067957, 'num_leaves': 42, 'feature_fraction': 0.45584574640327935, 'bagging_fraction': 0.5133050295193166, 'bagging_freq': 6, 'min_child_samples': 73, 'max_depth': 5}. Best is trial 5 with value: 0.8249158249158249.\u001b[0m\n"
     ]
    },
    {
     "name": "stdout",
     "output_type": "stream",
     "text": [
      "Early stopping, best iteration is:\n",
      "[72]\ttraining's binary_logloss: 0.425429\tvalid_1's binary_logloss: 0.427797\n",
      "Training until validation scores don't improve for 1000 rounds\n",
      "Early stopping, best iteration is:\n",
      "[298]\ttraining's binary_logloss: 0.421\tvalid_1's binary_logloss: 0.426873\n",
      "Training until validation scores don't improve for 1000 rounds\n",
      "Early stopping, best iteration is:\n",
      "[412]\ttraining's binary_logloss: 0.426236\tvalid_1's binary_logloss: 0.424683\n",
      "Training until validation scores don't improve for 1000 rounds\n",
      "Early stopping, best iteration is:\n",
      "[252]\ttraining's binary_logloss: 0.413189\tvalid_1's binary_logloss: 0.471838\n",
      "Training until validation scores don't improve for 1000 rounds\n",
      "Early stopping, best iteration is:\n",
      "[304]\ttraining's binary_logloss: 0.425363\tvalid_1's binary_logloss: 0.442118\n",
      "Training until validation scores don't improve for 1000 rounds\n"
     ]
    },
    {
     "name": "stderr",
     "output_type": "stream",
     "text": [
      "\u001b[32m[I 2021-10-02 20:06:48,172]\u001b[0m Trial 8 finished with value: 0.7878787878787878 and parameters: {'lambda_l1': 9.613030521448657, 'lambda_l2': 0.002911761626199151, 'num_leaves': 17, 'feature_fraction': 0.6383315438503145, 'bagging_fraction': 0.6544974899212388, 'bagging_freq': 9, 'min_child_samples': 56, 'max_depth': 6}. Best is trial 5 with value: 0.8249158249158249.\u001b[0m\n"
     ]
    },
    {
     "name": "stdout",
     "output_type": "stream",
     "text": [
      "Early stopping, best iteration is:\n",
      "[312]\ttraining's binary_logloss: 0.425395\tvalid_1's binary_logloss: 0.414739\n",
      "Training until validation scores don't improve for 1000 rounds\n",
      "Early stopping, best iteration is:\n",
      "[1193]\ttraining's binary_logloss: 0.345919\tvalid_1's binary_logloss: 0.412766\n",
      "Training until validation scores don't improve for 1000 rounds\n",
      "Early stopping, best iteration is:\n",
      "[663]\ttraining's binary_logloss: 0.37202\tvalid_1's binary_logloss: 0.411247\n",
      "Training until validation scores don't improve for 1000 rounds\n",
      "Early stopping, best iteration is:\n",
      "[333]\ttraining's binary_logloss: 0.379273\tvalid_1's binary_logloss: 0.456484\n",
      "Training until validation scores don't improve for 1000 rounds\n",
      "Early stopping, best iteration is:\n",
      "[806]\ttraining's binary_logloss: 0.359307\tvalid_1's binary_logloss: 0.422459\n",
      "Training until validation scores don't improve for 1000 rounds\n"
     ]
    },
    {
     "name": "stderr",
     "output_type": "stream",
     "text": [
      "\u001b[32m[I 2021-10-02 20:06:50,070]\u001b[0m Trial 9 finished with value: 0.8114478114478114 and parameters: {'lambda_l1': 0.006682526600189171, 'lambda_l2': 7.077761783256009e-05, 'num_leaves': 17, 'feature_fraction': 0.41160912476374917, 'bagging_fraction': 0.44571359700856117, 'bagging_freq': 3, 'min_child_samples': 61, 'max_depth': 2}. Best is trial 5 with value: 0.8249158249158249.\u001b[0m\n"
     ]
    },
    {
     "name": "stdout",
     "output_type": "stream",
     "text": [
      "Early stopping, best iteration is:\n",
      "[69]\ttraining's binary_logloss: 0.425122\tvalid_1's binary_logloss: 0.421028\n",
      "Training until validation scores don't improve for 1000 rounds\n",
      "Early stopping, best iteration is:\n",
      "[48]\ttraining's binary_logloss: 0.428091\tvalid_1's binary_logloss: 0.424851\n",
      "Training until validation scores don't improve for 1000 rounds\n",
      "Early stopping, best iteration is:\n",
      "[615]\ttraining's binary_logloss: 0.367492\tvalid_1's binary_logloss: 0.408102\n",
      "Training until validation scores don't improve for 1000 rounds\n",
      "Early stopping, best iteration is:\n",
      "[313]\ttraining's binary_logloss: 0.376702\tvalid_1's binary_logloss: 0.448871\n",
      "Training until validation scores don't improve for 1000 rounds\n",
      "Early stopping, best iteration is:\n",
      "[104]\ttraining's binary_logloss: 0.41164\tvalid_1's binary_logloss: 0.42425\n",
      "Training until validation scores don't improve for 1000 rounds\n"
     ]
    },
    {
     "name": "stderr",
     "output_type": "stream",
     "text": [
      "\u001b[32m[I 2021-10-02 20:06:51,394]\u001b[0m Trial 10 finished with value: 0.8002244668911336 and parameters: {'lambda_l1': 0.18421534202468115, 'lambda_l2': 0.000172972000111517, 'num_leaves': 60, 'feature_fraction': 0.89076708907018, 'bagging_fraction': 0.6603831415987613, 'bagging_freq': 8, 'min_child_samples': 91, 'max_depth': 2}. Best is trial 5 with value: 0.8249158249158249.\u001b[0m\n"
     ]
    },
    {
     "name": "stdout",
     "output_type": "stream",
     "text": [
      "Early stopping, best iteration is:\n",
      "[41]\ttraining's binary_logloss: 0.435002\tvalid_1's binary_logloss: 0.425614\n",
      "Training until validation scores don't improve for 1000 rounds\n",
      "Early stopping, best iteration is:\n",
      "[69]\ttraining's binary_logloss: 0.370364\tvalid_1's binary_logloss: 0.408478\n",
      "Training until validation scores don't improve for 1000 rounds\n",
      "Early stopping, best iteration is:\n",
      "[66]\ttraining's binary_logloss: 0.3705\tvalid_1's binary_logloss: 0.410174\n",
      "Training until validation scores don't improve for 1000 rounds\n",
      "Early stopping, best iteration is:\n",
      "[36]\ttraining's binary_logloss: 0.382626\tvalid_1's binary_logloss: 0.454656\n",
      "Training until validation scores don't improve for 1000 rounds\n",
      "Early stopping, best iteration is:\n",
      "[42]\ttraining's binary_logloss: 0.383099\tvalid_1's binary_logloss: 0.40479\n",
      "Training until validation scores don't improve for 1000 rounds\n"
     ]
    },
    {
     "name": "stderr",
     "output_type": "stream",
     "text": [
      "\u001b[32m[I 2021-10-02 20:06:52,893]\u001b[0m Trial 11 finished with value: 0.813692480359147 and parameters: {'lambda_l1': 1.2290811304149426e-05, 'lambda_l2': 0.00434811151804349, 'num_leaves': 47, 'feature_fraction': 0.8119233424709122, 'bagging_fraction': 0.8435973628374025, 'bagging_freq': 6, 'min_child_samples': 34, 'max_depth': 3}. Best is trial 5 with value: 0.8249158249158249.\u001b[0m\n"
     ]
    },
    {
     "name": "stdout",
     "output_type": "stream",
     "text": [
      "Early stopping, best iteration is:\n",
      "[28]\ttraining's binary_logloss: 0.397935\tvalid_1's binary_logloss: 0.421758\n",
      "Training until validation scores don't improve for 1000 rounds\n",
      "Early stopping, best iteration is:\n",
      "[406]\ttraining's binary_logloss: 0.346595\tvalid_1's binary_logloss: 0.412641\n",
      "Training until validation scores don't improve for 1000 rounds\n",
      "Early stopping, best iteration is:\n",
      "[525]\ttraining's binary_logloss: 0.339026\tvalid_1's binary_logloss: 0.397355\n",
      "Training until validation scores don't improve for 1000 rounds\n",
      "Early stopping, best iteration is:\n",
      "[186]\ttraining's binary_logloss: 0.365516\tvalid_1's binary_logloss: 0.454157\n",
      "Training until validation scores don't improve for 1000 rounds\n",
      "Early stopping, best iteration is:\n",
      "[89]\ttraining's binary_logloss: 0.396097\tvalid_1's binary_logloss: 0.424107\n",
      "Training until validation scores don't improve for 1000 rounds\n"
     ]
    },
    {
     "name": "stderr",
     "output_type": "stream",
     "text": [
      "\u001b[32m[I 2021-10-02 20:06:54,663]\u001b[0m Trial 12 finished with value: 0.8204264870931538 and parameters: {'lambda_l1': 8.421859826567292e-05, 'lambda_l2': 0.0002187080015675822, 'num_leaves': 35, 'feature_fraction': 0.7667376102682876, 'bagging_fraction': 0.7738309072644889, 'bagging_freq': 7, 'min_child_samples': 85, 'max_depth': 3}. Best is trial 5 with value: 0.8249158249158249.\u001b[0m\n"
     ]
    },
    {
     "name": "stdout",
     "output_type": "stream",
     "text": [
      "Early stopping, best iteration is:\n",
      "[40]\ttraining's binary_logloss: 0.422946\tvalid_1's binary_logloss: 0.428896\n",
      "Training until validation scores don't improve for 1000 rounds\n",
      "Early stopping, best iteration is:\n",
      "[30]\ttraining's binary_logloss: 0.412835\tvalid_1's binary_logloss: 0.417324\n",
      "Training until validation scores don't improve for 1000 rounds\n",
      "Early stopping, best iteration is:\n",
      "[106]\ttraining's binary_logloss: 0.368148\tvalid_1's binary_logloss: 0.394802\n",
      "Training until validation scores don't improve for 1000 rounds\n",
      "Early stopping, best iteration is:\n",
      "[70]\ttraining's binary_logloss: 0.372725\tvalid_1's binary_logloss: 0.462302\n",
      "Training until validation scores don't improve for 1000 rounds\n",
      "Early stopping, best iteration is:\n",
      "[34]\ttraining's binary_logloss: 0.40515\tvalid_1's binary_logloss: 0.418516\n",
      "Training until validation scores don't improve for 1000 rounds\n"
     ]
    },
    {
     "name": "stderr",
     "output_type": "stream",
     "text": [
      "\u001b[32m[I 2021-10-02 20:06:56,285]\u001b[0m Trial 13 finished with value: 0.8092031425364759 and parameters: {'lambda_l1': 0.07861673281195386, 'lambda_l2': 1.2079962060255868e-05, 'num_leaves': 62, 'feature_fraction': 0.8855319250312598, 'bagging_fraction': 0.6010010765933788, 'bagging_freq': 5, 'min_child_samples': 45, 'max_depth': 4}. Best is trial 5 with value: 0.8249158249158249.\u001b[0m\n"
     ]
    },
    {
     "name": "stdout",
     "output_type": "stream",
     "text": [
      "Early stopping, best iteration is:\n",
      "[35]\ttraining's binary_logloss: 0.406627\tvalid_1's binary_logloss: 0.419142\n",
      "Training until validation scores don't improve for 1000 rounds\n",
      "Early stopping, best iteration is:\n",
      "[49]\ttraining's binary_logloss: 0.414819\tvalid_1's binary_logloss: 0.422457\n",
      "Training until validation scores don't improve for 1000 rounds\n",
      "Early stopping, best iteration is:\n",
      "[526]\ttraining's binary_logloss: 0.330567\tvalid_1's binary_logloss: 0.399266\n",
      "Training until validation scores don't improve for 1000 rounds\n",
      "Early stopping, best iteration is:\n",
      "[175]\ttraining's binary_logloss: 0.363766\tvalid_1's binary_logloss: 0.46345\n",
      "Training until validation scores don't improve for 1000 rounds\n",
      "Early stopping, best iteration is:\n",
      "[203]\ttraining's binary_logloss: 0.360353\tvalid_1's binary_logloss: 0.424924\n",
      "Training until validation scores don't improve for 1000 rounds\n"
     ]
    },
    {
     "name": "stderr",
     "output_type": "stream",
     "text": [
      "\u001b[32m[I 2021-10-02 20:06:58,268]\u001b[0m Trial 14 finished with value: 0.8159371492704826 and parameters: {'lambda_l1': 0.042334425324681596, 'lambda_l2': 0.0585154342761068, 'num_leaves': 53, 'feature_fraction': 0.8080467638561853, 'bagging_fraction': 0.7201131898015998, 'bagging_freq': 7, 'min_child_samples': 81, 'max_depth': 4}. Best is trial 5 with value: 0.8249158249158249.\u001b[0m\n"
     ]
    },
    {
     "name": "stdout",
     "output_type": "stream",
     "text": [
      "Early stopping, best iteration is:\n",
      "[38]\ttraining's binary_logloss: 0.419331\tvalid_1's binary_logloss: 0.427101\n",
      "Training until validation scores don't improve for 1000 rounds\n",
      "Early stopping, best iteration is:\n",
      "[60]\ttraining's binary_logloss: 0.385573\tvalid_1's binary_logloss: 0.426698\n",
      "Training until validation scores don't improve for 1000 rounds\n",
      "Early stopping, best iteration is:\n",
      "[115]\ttraining's binary_logloss: 0.370341\tvalid_1's binary_logloss: 0.404162\n",
      "Training until validation scores don't improve for 1000 rounds\n",
      "Early stopping, best iteration is:\n",
      "[75]\ttraining's binary_logloss: 0.368628\tvalid_1's binary_logloss: 0.460949\n",
      "Training until validation scores don't improve for 1000 rounds\n",
      "Early stopping, best iteration is:\n",
      "[135]\ttraining's binary_logloss: 0.363614\tvalid_1's binary_logloss: 0.409973\n",
      "Training until validation scores don't improve for 1000 rounds\n"
     ]
    },
    {
     "name": "stderr",
     "output_type": "stream",
     "text": [
      "\u001b[32m[I 2021-10-02 20:07:00,136]\u001b[0m Trial 15 finished with value: 0.8159371492704826 and parameters: {'lambda_l1': 0.0003808096867006085, 'lambda_l2': 0.0016557166444350069, 'num_leaves': 34, 'feature_fraction': 0.5396138506192121, 'bagging_fraction': 0.807210400695324, 'bagging_freq': 5, 'min_child_samples': 47, 'max_depth': 3}. Best is trial 5 with value: 0.8249158249158249.\u001b[0m\n"
     ]
    },
    {
     "name": "stdout",
     "output_type": "stream",
     "text": [
      "Early stopping, best iteration is:\n",
      "[33]\ttraining's binary_logloss: 0.40307\tvalid_1's binary_logloss: 0.422045\n",
      "Training until validation scores don't improve for 1000 rounds\n",
      "Early stopping, best iteration is:\n",
      "[197]\ttraining's binary_logloss: 0.421015\tvalid_1's binary_logloss: 0.433131\n",
      "Training until validation scores don't improve for 1000 rounds\n",
      "Early stopping, best iteration is:\n",
      "[1210]\ttraining's binary_logloss: 0.397446\tvalid_1's binary_logloss: 0.414623\n",
      "Training until validation scores don't improve for 1000 rounds\n",
      "Early stopping, best iteration is:\n",
      "[2887]\ttraining's binary_logloss: 0.361405\tvalid_1's binary_logloss: 0.45482\n",
      "Training until validation scores don't improve for 1000 rounds\n",
      "Early stopping, best iteration is:\n",
      "[390]\ttraining's binary_logloss: 0.4068\tvalid_1's binary_logloss: 0.438853\n",
      "Training until validation scores don't improve for 1000 rounds\n"
     ]
    },
    {
     "name": "stderr",
     "output_type": "stream",
     "text": [
      "\u001b[32m[I 2021-10-02 20:07:01,982]\u001b[0m Trial 16 finished with value: 0.8013468013468014 and parameters: {'lambda_l1': 1.472942857657385, 'lambda_l2': 0.02534838334057833, 'num_leaves': 2, 'feature_fraction': 0.7289348760305594, 'bagging_fraction': 0.6936013333713027, 'bagging_freq': 9, 'min_child_samples': 38, 'max_depth': 2}. Best is trial 5 with value: 0.8249158249158249.\u001b[0m\n"
     ]
    },
    {
     "name": "stdout",
     "output_type": "stream",
     "text": [
      "Early stopping, best iteration is:\n",
      "[99]\ttraining's binary_logloss: 0.434671\tvalid_1's binary_logloss: 0.422306\n",
      "Training until validation scores don't improve for 1000 rounds\n",
      "Early stopping, best iteration is:\n",
      "[253]\ttraining's binary_logloss: 0.367713\tvalid_1's binary_logloss: 0.412037\n",
      "Training until validation scores don't improve for 1000 rounds\n",
      "Early stopping, best iteration is:\n",
      "[538]\ttraining's binary_logloss: 0.344095\tvalid_1's binary_logloss: 0.399325\n",
      "Training until validation scores don't improve for 1000 rounds\n",
      "Early stopping, best iteration is:\n",
      "[380]\ttraining's binary_logloss: 0.345047\tvalid_1's binary_logloss: 0.442196\n",
      "Training until validation scores don't improve for 1000 rounds\n",
      "Early stopping, best iteration is:\n",
      "[204]\ttraining's binary_logloss: 0.371017\tvalid_1's binary_logloss: 0.417297\n",
      "Training until validation scores don't improve for 1000 rounds\n"
     ]
    },
    {
     "name": "stderr",
     "output_type": "stream",
     "text": [
      "\u001b[32m[I 2021-10-02 20:07:03,676]\u001b[0m Trial 17 finished with value: 0.8159371492704826 and parameters: {'lambda_l1': 0.032160167775220655, 'lambda_l2': 0.0005876776076462019, 'num_leaves': 27, 'feature_fraction': 0.40414616255900027, 'bagging_fraction': 0.5888811030706198, 'bagging_freq': 7, 'min_child_samples': 62, 'max_depth': 6}. Best is trial 5 with value: 0.8249158249158249.\u001b[0m\n"
     ]
    },
    {
     "name": "stdout",
     "output_type": "stream",
     "text": [
      "Early stopping, best iteration is:\n",
      "[84]\ttraining's binary_logloss: 0.404893\tvalid_1's binary_logloss: 0.424643\n",
      "Training until validation scores don't improve for 1000 rounds\n",
      "Early stopping, best iteration is:\n",
      "[169]\ttraining's binary_logloss: 0.346088\tvalid_1's binary_logloss: 0.418557\n",
      "Training until validation scores don't improve for 1000 rounds\n",
      "Early stopping, best iteration is:\n",
      "[78]\ttraining's binary_logloss: 0.375381\tvalid_1's binary_logloss: 0.404835\n",
      "Training until validation scores don't improve for 1000 rounds\n",
      "Early stopping, best iteration is:\n",
      "[33]\ttraining's binary_logloss: 0.393496\tvalid_1's binary_logloss: 0.462508\n",
      "Training until validation scores don't improve for 1000 rounds\n",
      "Early stopping, best iteration is:\n",
      "[131]\ttraining's binary_logloss: 0.350151\tvalid_1's binary_logloss: 0.412014\n",
      "Training until validation scores don't improve for 1000 rounds\n"
     ]
    },
    {
     "name": "stderr",
     "output_type": "stream",
     "text": [
      "\u001b[32m[I 2021-10-02 20:07:05,387]\u001b[0m Trial 18 finished with value: 0.8035914702581369 and parameters: {'lambda_l1': 2.7591636609590507e-05, 'lambda_l2': 3.5736021632716456e-05, 'num_leaves': 42, 'feature_fraction': 0.5882361898294418, 'bagging_fraction': 0.8888767110606888, 'bagging_freq': 8, 'min_child_samples': 53, 'max_depth': 4}. Best is trial 5 with value: 0.8249158249158249.\u001b[0m\n"
     ]
    },
    {
     "name": "stdout",
     "output_type": "stream",
     "text": [
      "Early stopping, best iteration is:\n",
      "[46]\ttraining's binary_logloss: 0.38732\tvalid_1's binary_logloss: 0.41775\n",
      "Training until validation scores don't improve for 1000 rounds\n",
      "Early stopping, best iteration is:\n",
      "[1647]\ttraining's binary_logloss: 0.337925\tvalid_1's binary_logloss: 0.417022\n",
      "Training until validation scores don't improve for 1000 rounds\n",
      "Early stopping, best iteration is:\n",
      "[775]\ttraining's binary_logloss: 0.371654\tvalid_1's binary_logloss: 0.39962\n",
      "Training until validation scores don't improve for 1000 rounds\n",
      "Early stopping, best iteration is:\n",
      "[570]\ttraining's binary_logloss: 0.371145\tvalid_1's binary_logloss: 0.455304\n",
      "Training until validation scores don't improve for 1000 rounds\n",
      "Early stopping, best iteration is:\n",
      "[545]\ttraining's binary_logloss: 0.376626\tvalid_1's binary_logloss: 0.42451\n",
      "Training until validation scores don't improve for 1000 rounds\n"
     ]
    },
    {
     "name": "stderr",
     "output_type": "stream",
     "text": [
      "\u001b[32m[I 2021-10-02 20:07:07,479]\u001b[0m Trial 19 finished with value: 0.813692480359147 and parameters: {'lambda_l1': 0.0006877677647999567, 'lambda_l2': 8.497627292267405, 'num_leaves': 37, 'feature_fraction': 0.4862840514048295, 'bagging_fraction': 0.6351804303685772, 'bagging_freq': 4, 'min_child_samples': 82, 'max_depth': 3}. Best is trial 5 with value: 0.8249158249158249.\u001b[0m\n"
     ]
    },
    {
     "name": "stdout",
     "output_type": "stream",
     "text": [
      "Early stopping, best iteration is:\n",
      "[93]\ttraining's binary_logloss: 0.422069\tvalid_1's binary_logloss: 0.424037\n",
      "Training until validation scores don't improve for 1000 rounds\n",
      "Early stopping, best iteration is:\n",
      "[72]\ttraining's binary_logloss: 0.353485\tvalid_1's binary_logloss: 0.411301\n",
      "Training until validation scores don't improve for 1000 rounds\n",
      "Early stopping, best iteration is:\n",
      "[68]\ttraining's binary_logloss: 0.357666\tvalid_1's binary_logloss: 0.406512\n",
      "Training until validation scores don't improve for 1000 rounds\n",
      "Early stopping, best iteration is:\n",
      "[24]\ttraining's binary_logloss: 0.39658\tvalid_1's binary_logloss: 0.459563\n",
      "Training until validation scores don't improve for 1000 rounds\n",
      "Early stopping, best iteration is:\n",
      "[37]\ttraining's binary_logloss: 0.379518\tvalid_1's binary_logloss: 0.411983\n",
      "Training until validation scores don't improve for 1000 rounds\n"
     ]
    },
    {
     "name": "stderr",
     "output_type": "stream",
     "text": [
      "\u001b[32m[I 2021-10-02 20:07:09,418]\u001b[0m Trial 20 finished with value: 0.8114478114478114 and parameters: {'lambda_l1': 0.7959941384308493, 'lambda_l2': 0.013569330079685199, 'num_leaves': 55, 'feature_fraction': 0.8244062464415807, 'bagging_fraction': 0.8213885571810318, 'bagging_freq': 6, 'min_child_samples': 33, 'max_depth': 6}. Best is trial 5 with value: 0.8249158249158249.\u001b[0m\n"
     ]
    },
    {
     "name": "stdout",
     "output_type": "stream",
     "text": [
      "Early stopping, best iteration is:\n",
      "[32]\ttraining's binary_logloss: 0.387915\tvalid_1's binary_logloss: 0.426612\n",
      "Training until validation scores don't improve for 1000 rounds\n",
      "Early stopping, best iteration is:\n",
      "[300]\ttraining's binary_logloss: 0.334795\tvalid_1's binary_logloss: 0.418507\n",
      "Training until validation scores don't improve for 1000 rounds\n",
      "Early stopping, best iteration is:\n",
      "[154]\ttraining's binary_logloss: 0.368037\tvalid_1's binary_logloss: 0.390927\n",
      "Training until validation scores don't improve for 1000 rounds\n",
      "Early stopping, best iteration is:\n",
      "[172]\ttraining's binary_logloss: 0.348134\tvalid_1's binary_logloss: 0.451818\n",
      "Training until validation scores don't improve for 1000 rounds\n",
      "Early stopping, best iteration is:\n",
      "[160]\ttraining's binary_logloss: 0.361438\tvalid_1's binary_logloss: 0.421031\n",
      "Training until validation scores don't improve for 1000 rounds\n"
     ]
    },
    {
     "name": "stderr",
     "output_type": "stream",
     "text": [
      "\u001b[32m[I 2021-10-02 20:07:11,491]\u001b[0m Trial 21 finished with value: 0.8170594837261503 and parameters: {'lambda_l1': 0.00016746119443718, 'lambda_l2': 0.242645765438608, 'num_leaves': 21, 'feature_fraction': 0.7129872969380782, 'bagging_fraction': 0.5331178115500114, 'bagging_freq': 2, 'min_child_samples': 49, 'max_depth': 4}. Best is trial 5 with value: 0.8249158249158249.\u001b[0m\n"
     ]
    },
    {
     "name": "stdout",
     "output_type": "stream",
     "text": [
      "Early stopping, best iteration is:\n",
      "[32]\ttraining's binary_logloss: 0.417494\tvalid_1's binary_logloss: 0.42451\n",
      "Training until validation scores don't improve for 1000 rounds\n",
      "Early stopping, best iteration is:\n",
      "[406]\ttraining's binary_logloss: 0.352523\tvalid_1's binary_logloss: 0.411036\n",
      "Training until validation scores don't improve for 1000 rounds\n",
      "Early stopping, best iteration is:\n",
      "[525]\ttraining's binary_logloss: 0.343544\tvalid_1's binary_logloss: 0.402958\n",
      "Training until validation scores don't improve for 1000 rounds\n",
      "Early stopping, best iteration is:\n",
      "[245]\ttraining's binary_logloss: 0.358559\tvalid_1's binary_logloss: 0.451973\n",
      "Training until validation scores don't improve for 1000 rounds\n",
      "Early stopping, best iteration is:\n",
      "[497]\ttraining's binary_logloss: 0.33834\tvalid_1's binary_logloss: 0.426262\n",
      "Training until validation scores don't improve for 1000 rounds\n"
     ]
    },
    {
     "name": "stderr",
     "output_type": "stream",
     "text": [
      "\u001b[32m[I 2021-10-02 20:07:13,370]\u001b[0m Trial 22 finished with value: 0.8159371492704826 and parameters: {'lambda_l1': 6.351839084917967e-05, 'lambda_l2': 0.00047126937286371453, 'num_leaves': 36, 'feature_fraction': 0.7659882743290284, 'bagging_fraction': 0.7635940457427337, 'bagging_freq': 7, 'min_child_samples': 88, 'max_depth': 3}. Best is trial 5 with value: 0.8249158249158249.\u001b[0m\n"
     ]
    },
    {
     "name": "stdout",
     "output_type": "stream",
     "text": [
      "Early stopping, best iteration is:\n",
      "[36]\ttraining's binary_logloss: 0.427765\tvalid_1's binary_logloss: 0.429916\n",
      "Training until validation scores don't improve for 1000 rounds\n",
      "Early stopping, best iteration is:\n",
      "[621]\ttraining's binary_logloss: 0.349034\tvalid_1's binary_logloss: 0.416512\n",
      "Training until validation scores don't improve for 1000 rounds\n",
      "Early stopping, best iteration is:\n",
      "[97]\ttraining's binary_logloss: 0.41142\tvalid_1's binary_logloss: 0.409163\n",
      "Training until validation scores don't improve for 1000 rounds\n",
      "Early stopping, best iteration is:\n",
      "[689]\ttraining's binary_logloss: 0.334347\tvalid_1's binary_logloss: 0.448492\n",
      "Training until validation scores don't improve for 1000 rounds\n",
      "Early stopping, best iteration is:\n",
      "[104]\ttraining's binary_logloss: 0.40828\tvalid_1's binary_logloss: 0.420578\n",
      "Training until validation scores don't improve for 1000 rounds\n"
     ]
    },
    {
     "name": "stderr",
     "output_type": "stream",
     "text": [
      "\u001b[32m[I 2021-10-02 20:07:15,331]\u001b[0m Trial 23 finished with value: 0.8170594837261503 and parameters: {'lambda_l1': 0.0011490294308718397, 'lambda_l2': 5.51788439360499, 'num_leaves': 24, 'feature_fraction': 0.6903130291476831, 'bagging_fraction': 0.4815755935577627, 'bagging_freq': 8, 'min_child_samples': 57, 'max_depth': 4}. Best is trial 5 with value: 0.8249158249158249.\u001b[0m\n"
     ]
    },
    {
     "name": "stdout",
     "output_type": "stream",
     "text": [
      "Early stopping, best iteration is:\n",
      "[95]\ttraining's binary_logloss: 0.412374\tvalid_1's binary_logloss: 0.425924\n",
      "Training until validation scores don't improve for 1000 rounds\n",
      "Early stopping, best iteration is:\n",
      "[469]\ttraining's binary_logloss: 0.336553\tvalid_1's binary_logloss: 0.420237\n",
      "Training until validation scores don't improve for 1000 rounds\n",
      "Early stopping, best iteration is:\n",
      "[362]\ttraining's binary_logloss: 0.351669\tvalid_1's binary_logloss: 0.39444\n",
      "Training until validation scores don't improve for 1000 rounds\n",
      "Early stopping, best iteration is:\n",
      "[441]\ttraining's binary_logloss: 0.330902\tvalid_1's binary_logloss: 0.453078\n",
      "Training until validation scores don't improve for 1000 rounds\n",
      "Early stopping, best iteration is:\n",
      "[247]\ttraining's binary_logloss: 0.359167\tvalid_1's binary_logloss: 0.420956\n",
      "Training until validation scores don't improve for 1000 rounds\n"
     ]
    },
    {
     "name": "stderr",
     "output_type": "stream",
     "text": [
      "\u001b[32m[I 2021-10-02 20:07:17,049]\u001b[0m Trial 24 finished with value: 0.8237934904601572 and parameters: {'lambda_l1': 5.7148912456361556e-05, 'lambda_l2': 4.440692941300799e-05, 'num_leaves': 31, 'feature_fraction': 0.7658381305648688, 'bagging_fraction': 0.8026073732811317, 'bagging_freq': 7, 'min_child_samples': 83, 'max_depth': 3}. Best is trial 5 with value: 0.8249158249158249.\u001b[0m\n"
     ]
    },
    {
     "name": "stdout",
     "output_type": "stream",
     "text": [
      "Early stopping, best iteration is:\n",
      "[38]\ttraining's binary_logloss: 0.418592\tvalid_1's binary_logloss: 0.423934\n",
      "Training until validation scores don't improve for 1000 rounds\n",
      "Early stopping, best iteration is:\n",
      "[165]\ttraining's binary_logloss: 0.420368\tvalid_1's binary_logloss: 0.424617\n",
      "Training until validation scores don't improve for 1000 rounds\n",
      "Early stopping, best iteration is:\n",
      "[390]\ttraining's binary_logloss: 0.398142\tvalid_1's binary_logloss: 0.412651\n",
      "Training until validation scores don't improve for 1000 rounds\n",
      "Early stopping, best iteration is:\n",
      "[575]\ttraining's binary_logloss: 0.374256\tvalid_1's binary_logloss: 0.457364\n",
      "Training until validation scores don't improve for 1000 rounds\n",
      "Early stopping, best iteration is:\n",
      "[1056]\ttraining's binary_logloss: 0.367774\tvalid_1's binary_logloss: 0.429516\n",
      "Training until validation scores don't improve for 1000 rounds\n"
     ]
    },
    {
     "name": "stderr",
     "output_type": "stream",
     "text": [
      "\u001b[32m[I 2021-10-02 20:07:18,938]\u001b[0m Trial 25 finished with value: 0.8069584736251403 and parameters: {'lambda_l1': 1.5133414818313516e-05, 'lambda_l2': 3.255957614298729e-05, 'num_leaves': 12, 'feature_fraction': 0.7630456948716922, 'bagging_fraction': 0.4032213398947696, 'bagging_freq': 5, 'min_child_samples': 77, 'max_depth': 2}. Best is trial 5 with value: 0.8249158249158249.\u001b[0m\n"
     ]
    },
    {
     "name": "stdout",
     "output_type": "stream",
     "text": [
      "Early stopping, best iteration is:\n",
      "[115]\ttraining's binary_logloss: 0.425934\tvalid_1's binary_logloss: 0.415412\n",
      "Training until validation scores don't improve for 1000 rounds\n",
      "Early stopping, best iteration is:\n",
      "[42]\ttraining's binary_logloss: 0.413509\tvalid_1's binary_logloss: 0.424434\n",
      "Training until validation scores don't improve for 1000 rounds\n",
      "Early stopping, best iteration is:\n",
      "[461]\ttraining's binary_logloss: 0.343084\tvalid_1's binary_logloss: 0.400796\n",
      "Training until validation scores don't improve for 1000 rounds\n",
      "Early stopping, best iteration is:\n",
      "[342]\ttraining's binary_logloss: 0.341653\tvalid_1's binary_logloss: 0.451335\n",
      "Training until validation scores don't improve for 1000 rounds\n",
      "Early stopping, best iteration is:\n",
      "[378]\ttraining's binary_logloss: 0.344266\tvalid_1's binary_logloss: 0.427927\n",
      "Training until validation scores don't improve for 1000 rounds\n"
     ]
    },
    {
     "name": "stderr",
     "output_type": "stream",
     "text": [
      "\u001b[32m[I 2021-10-02 20:07:21,233]\u001b[0m Trial 26 finished with value: 0.8159371492704826 and parameters: {'lambda_l1': 4.699307286964497e-05, 'lambda_l2': 1.5839268599652006e-05, 'num_leaves': 41, 'feature_fraction': 0.8430293451656626, 'bagging_fraction': 0.8555107820951179, 'bagging_freq': 6, 'min_child_samples': 93, 'max_depth': 3}. Best is trial 5 with value: 0.8249158249158249.\u001b[0m\n"
     ]
    },
    {
     "name": "stdout",
     "output_type": "stream",
     "text": [
      "Early stopping, best iteration is:\n",
      "[34]\ttraining's binary_logloss: 0.42088\tvalid_1's binary_logloss: 0.426734\n",
      "Training until validation scores don't improve for 1000 rounds\n",
      "Early stopping, best iteration is:\n",
      "[48]\ttraining's binary_logloss: 0.414147\tvalid_1's binary_logloss: 0.423736\n",
      "Training until validation scores don't improve for 1000 rounds\n",
      "Early stopping, best iteration is:\n",
      "[183]\ttraining's binary_logloss: 0.386215\tvalid_1's binary_logloss: 0.397328\n",
      "Training until validation scores don't improve for 1000 rounds\n",
      "Early stopping, best iteration is:\n",
      "[215]\ttraining's binary_logloss: 0.370317\tvalid_1's binary_logloss: 0.443459\n",
      "Training until validation scores don't improve for 1000 rounds\n",
      "Early stopping, best iteration is:\n",
      "[250]\ttraining's binary_logloss: 0.376475\tvalid_1's binary_logloss: 0.421034\n",
      "Training until validation scores don't improve for 1000 rounds\n"
     ]
    },
    {
     "name": "stderr",
     "output_type": "stream",
     "text": [
      "\u001b[32m[I 2021-10-02 20:07:23,880]\u001b[0m Trial 27 finished with value: 0.8080808080808081 and parameters: {'lambda_l1': 0.014532829317548426, 'lambda_l2': 0.00010123286133813184, 'num_leaves': 30, 'feature_fraction': 0.8735318060376324, 'bagging_fraction': 0.6972641048990507, 'bagging_freq': 8, 'min_child_samples': 67, 'max_depth': 2}. Best is trial 5 with value: 0.8249158249158249.\u001b[0m\n"
     ]
    },
    {
     "name": "stdout",
     "output_type": "stream",
     "text": [
      "Early stopping, best iteration is:\n",
      "[53]\ttraining's binary_logloss: 0.415724\tvalid_1's binary_logloss: 0.421926\n",
      "Training until validation scores don't improve for 1000 rounds\n",
      "Early stopping, best iteration is:\n",
      "[217]\ttraining's binary_logloss: 0.436321\tvalid_1's binary_logloss: 0.434133\n",
      "Training until validation scores don't improve for 1000 rounds\n",
      "Early stopping, best iteration is:\n",
      "[2640]\ttraining's binary_logloss: 0.422141\tvalid_1's binary_logloss: 0.422644\n",
      "Training until validation scores don't improve for 1000 rounds\n",
      "Early stopping, best iteration is:\n",
      "[3076]\ttraining's binary_logloss: 0.408879\tvalid_1's binary_logloss: 0.465957\n",
      "Training until validation scores don't improve for 1000 rounds\n",
      "Early stopping, best iteration is:\n",
      "[1189]\ttraining's binary_logloss: 0.422588\tvalid_1's binary_logloss: 0.445352\n",
      "Training until validation scores don't improve for 1000 rounds\n"
     ]
    },
    {
     "name": "stderr",
     "output_type": "stream",
     "text": [
      "\u001b[32m[I 2021-10-02 20:07:26,318]\u001b[0m Trial 28 finished with value: 0.8013468013468014 and parameters: {'lambda_l1': 7.113721196077097, 'lambda_l2': 0.0008755616531856684, 'num_leaves': 2, 'feature_fraction': 0.7892349450459863, 'bagging_fraction': 0.797729720673325, 'bagging_freq': 4, 'min_child_samples': 78, 'max_depth': 5}. Best is trial 5 with value: 0.8249158249158249.\u001b[0m\n"
     ]
    },
    {
     "name": "stdout",
     "output_type": "stream",
     "text": [
      "Early stopping, best iteration is:\n",
      "[267]\ttraining's binary_logloss: 0.438355\tvalid_1's binary_logloss: 0.421814\n",
      "Training until validation scores don't improve for 1000 rounds\n",
      "Early stopping, best iteration is:\n",
      "[149]\ttraining's binary_logloss: 0.372691\tvalid_1's binary_logloss: 0.418315\n",
      "Training until validation scores don't improve for 1000 rounds\n",
      "Early stopping, best iteration is:\n",
      "[157]\ttraining's binary_logloss: 0.3749\tvalid_1's binary_logloss: 0.395258\n",
      "Training until validation scores don't improve for 1000 rounds\n",
      "Early stopping, best iteration is:\n",
      "[211]\ttraining's binary_logloss: 0.350403\tvalid_1's binary_logloss: 0.449829\n",
      "Training until validation scores don't improve for 1000 rounds\n",
      "Early stopping, best iteration is:\n",
      "[91]\ttraining's binary_logloss: 0.386429\tvalid_1's binary_logloss: 0.416588\n",
      "Training until validation scores don't improve for 1000 rounds\n"
     ]
    },
    {
     "name": "stderr",
     "output_type": "stream",
     "text": [
      "\u001b[32m[I 2021-10-02 20:07:28,445]\u001b[0m Trial 29 finished with value: 0.8215488215488216 and parameters: {'lambda_l1': 0.3120366724844097, 'lambda_l2': 3.057327861838708e-05, 'num_leaves': 52, 'feature_fraction': 0.8527829592260256, 'bagging_fraction': 0.7347099508948298, 'bagging_freq': 7, 'min_child_samples': 65, 'max_depth': 3}. Best is trial 5 with value: 0.8249158249158249.\u001b[0m\n"
     ]
    },
    {
     "name": "stdout",
     "output_type": "stream",
     "text": [
      "Early stopping, best iteration is:\n",
      "[38]\ttraining's binary_logloss: 0.413821\tvalid_1's binary_logloss: 0.425105\n",
      "Training until validation scores don't improve for 1000 rounds\n",
      "Early stopping, best iteration is:\n",
      "[1000]\ttraining's binary_logloss: 0.314794\tvalid_1's binary_logloss: 0.418238\n",
      "Training until validation scores don't improve for 1000 rounds\n",
      "Early stopping, best iteration is:\n",
      "[385]\ttraining's binary_logloss: 0.363053\tvalid_1's binary_logloss: 0.392611\n",
      "Training until validation scores don't improve for 1000 rounds\n",
      "Early stopping, best iteration is:\n",
      "[575]\ttraining's binary_logloss: 0.32795\tvalid_1's binary_logloss: 0.448027\n",
      "Training until validation scores don't improve for 1000 rounds\n",
      "Early stopping, best iteration is:\n",
      "[650]\ttraining's binary_logloss: 0.331269\tvalid_1's binary_logloss: 0.420154\n",
      "Training until validation scores don't improve for 1000 rounds\n"
     ]
    },
    {
     "name": "stderr",
     "output_type": "stream",
     "text": [
      "\u001b[32m[I 2021-10-02 20:07:31,342]\u001b[0m Trial 30 finished with value: 0.8181818181818182 and parameters: {'lambda_l1': 0.0009279383366349533, 'lambda_l2': 0.0070698489189733255, 'num_leaves': 28, 'feature_fraction': 0.6121395941967127, 'bagging_fraction': 0.6047870704367573, 'bagging_freq': 5, 'min_child_samples': 73, 'max_depth': 4}. Best is trial 5 with value: 0.8249158249158249.\u001b[0m\n"
     ]
    },
    {
     "name": "stdout",
     "output_type": "stream",
     "text": [
      "Early stopping, best iteration is:\n",
      "[60]\ttraining's binary_logloss: 0.414639\tvalid_1's binary_logloss: 0.422995\n",
      "Training until validation scores don't improve for 1000 rounds\n",
      "Early stopping, best iteration is:\n",
      "[148]\ttraining's binary_logloss: 0.371966\tvalid_1's binary_logloss: 0.417957\n",
      "Training until validation scores don't improve for 1000 rounds\n",
      "Early stopping, best iteration is:\n",
      "[155]\ttraining's binary_logloss: 0.376663\tvalid_1's binary_logloss: 0.394829\n",
      "Training until validation scores don't improve for 1000 rounds\n",
      "Early stopping, best iteration is:\n",
      "[272]\ttraining's binary_logloss: 0.341746\tvalid_1's binary_logloss: 0.449799\n",
      "Training until validation scores don't improve for 1000 rounds\n",
      "Early stopping, best iteration is:\n",
      "[90]\ttraining's binary_logloss: 0.385691\tvalid_1's binary_logloss: 0.417073\n",
      "Training until validation scores don't improve for 1000 rounds\n"
     ]
    },
    {
     "name": "stderr",
     "output_type": "stream",
     "text": [
      "\u001b[32m[I 2021-10-02 20:07:34,248]\u001b[0m Trial 31 finished with value: 0.8249158249158249 and parameters: {'lambda_l1': 0.23300699682297749, 'lambda_l2': 3.7111923443706896e-05, 'num_leaves': 51, 'feature_fraction': 0.8549988599788725, 'bagging_fraction': 0.7359631892435693, 'bagging_freq': 7, 'min_child_samples': 65, 'max_depth': 3}. Best is trial 5 with value: 0.8249158249158249.\u001b[0m\n"
     ]
    },
    {
     "name": "stdout",
     "output_type": "stream",
     "text": [
      "Early stopping, best iteration is:\n",
      "[38]\ttraining's binary_logloss: 0.412844\tvalid_1's binary_logloss: 0.425828\n",
      "Training until validation scores don't improve for 1000 rounds\n",
      "Early stopping, best iteration is:\n",
      "[41]\ttraining's binary_logloss: 0.407006\tvalid_1's binary_logloss: 0.41691\n",
      "Training until validation scores don't improve for 1000 rounds\n",
      "Early stopping, best iteration is:\n",
      "[439]\ttraining's binary_logloss: 0.322916\tvalid_1's binary_logloss: 0.394995\n",
      "Training until validation scores don't improve for 1000 rounds\n",
      "Early stopping, best iteration is:\n",
      "[420]\ttraining's binary_logloss: 0.311149\tvalid_1's binary_logloss: 0.455469\n",
      "Training until validation scores don't improve for 1000 rounds\n",
      "Early stopping, best iteration is:\n",
      "[78]\ttraining's binary_logloss: 0.387661\tvalid_1's binary_logloss: 0.420314\n",
      "Training until validation scores don't improve for 1000 rounds\n"
     ]
    },
    {
     "name": "stderr",
     "output_type": "stream",
     "text": [
      "\u001b[32m[I 2021-10-02 20:07:36,477]\u001b[0m Trial 32 finished with value: 0.8181818181818182 and parameters: {'lambda_l1': 0.09389237998808884, 'lambda_l2': 7.422093462927043e-05, 'num_leaves': 48, 'feature_fraction': 0.7392475402430174, 'bagging_fraction': 0.7691065743296377, 'bagging_freq': 6, 'min_child_samples': 61, 'max_depth': 3}. Best is trial 5 with value: 0.8249158249158249.\u001b[0m\n"
     ]
    },
    {
     "name": "stdout",
     "output_type": "stream",
     "text": [
      "Early stopping, best iteration is:\n",
      "[37]\ttraining's binary_logloss: 0.409277\tvalid_1's binary_logloss: 0.42291\n",
      "Training until validation scores don't improve for 1000 rounds\n",
      "Early stopping, best iteration is:\n",
      "[812]\ttraining's binary_logloss: 0.310831\tvalid_1's binary_logloss: 0.42217\n",
      "Training until validation scores don't improve for 1000 rounds\n",
      "Early stopping, best iteration is:\n",
      "[266]\ttraining's binary_logloss: 0.360508\tvalid_1's binary_logloss: 0.397845\n",
      "Training until validation scores don't improve for 1000 rounds\n",
      "Early stopping, best iteration is:\n",
      "[400]\ttraining's binary_logloss: 0.332578\tvalid_1's binary_logloss: 0.45203\n",
      "Training until validation scores don't improve for 1000 rounds\n",
      "Early stopping, best iteration is:\n",
      "[694]\ttraining's binary_logloss: 0.314603\tvalid_1's binary_logloss: 0.42332\n",
      "Training until validation scores don't improve for 1000 rounds\n"
     ]
    },
    {
     "name": "stderr",
     "output_type": "stream",
     "text": [
      "\u001b[32m[I 2021-10-02 20:07:38,485]\u001b[0m Trial 33 finished with value: 0.8159371492704826 and parameters: {'lambda_l1': 0.5592900381646889, 'lambda_l2': 1.057307313131306e-05, 'num_leaves': 57, 'feature_fraction': 0.681144190856175, 'bagging_fraction': 0.8490406160671695, 'bagging_freq': 7, 'min_child_samples': 71, 'max_depth': 3}. Best is trial 5 with value: 0.8249158249158249.\u001b[0m\n"
     ]
    },
    {
     "name": "stdout",
     "output_type": "stream",
     "text": [
      "Early stopping, best iteration is:\n",
      "[35]\ttraining's binary_logloss: 0.414455\tvalid_1's binary_logloss: 0.422492\n",
      "Training until validation scores don't improve for 1000 rounds\n",
      "Early stopping, best iteration is:\n",
      "[50]\ttraining's binary_logloss: 0.414796\tvalid_1's binary_logloss: 0.41996\n",
      "Training until validation scores don't improve for 1000 rounds\n",
      "Early stopping, best iteration is:\n",
      "[608]\ttraining's binary_logloss: 0.355321\tvalid_1's binary_logloss: 0.395627\n",
      "Training until validation scores don't improve for 1000 rounds\n",
      "Early stopping, best iteration is:\n",
      "[920]\ttraining's binary_logloss: 0.325746\tvalid_1's binary_logloss: 0.442308\n",
      "Training until validation scores don't improve for 1000 rounds\n",
      "Early stopping, best iteration is:\n",
      "[104]\ttraining's binary_logloss: 0.400322\tvalid_1's binary_logloss: 0.429054\n",
      "Training until validation scores don't improve for 1000 rounds\n"
     ]
    },
    {
     "name": "stderr",
     "output_type": "stream",
     "text": [
      "\u001b[32m[I 2021-10-02 20:07:40,091]\u001b[0m Trial 34 finished with value: 0.8170594837261503 and parameters: {'lambda_l1': 1.9698953537531738, 'lambda_l2': 0.00025024266362583795, 'num_leaves': 49, 'feature_fraction': 0.8602608309727277, 'bagging_fraction': 0.6900656396349593, 'bagging_freq': 8, 'min_child_samples': 68, 'max_depth': 3}. Best is trial 5 with value: 0.8249158249158249.\u001b[0m\n"
     ]
    },
    {
     "name": "stdout",
     "output_type": "stream",
     "text": [
      "Early stopping, best iteration is:\n",
      "[51]\ttraining's binary_logloss: 0.416648\tvalid_1's binary_logloss: 0.420966\n",
      "Training until validation scores don't improve for 1000 rounds\n",
      "Early stopping, best iteration is:\n",
      "[93]\ttraining's binary_logloss: 0.392843\tvalid_1's binary_logloss: 0.417415\n",
      "Training until validation scores don't improve for 1000 rounds\n",
      "Early stopping, best iteration is:\n",
      "[453]\ttraining's binary_logloss: 0.348195\tvalid_1's binary_logloss: 0.397898\n",
      "Training until validation scores don't improve for 1000 rounds\n",
      "Early stopping, best iteration is:\n",
      "[562]\ttraining's binary_logloss: 0.331603\tvalid_1's binary_logloss: 0.444509\n",
      "Training until validation scores don't improve for 1000 rounds\n",
      "Early stopping, best iteration is:\n",
      "[321]\ttraining's binary_logloss: 0.363106\tvalid_1's binary_logloss: 0.41777\n",
      "Training until validation scores don't improve for 1000 rounds\n"
     ]
    },
    {
     "name": "stderr",
     "output_type": "stream",
     "text": [
      "\u001b[32m[I 2021-10-02 20:07:41,570]\u001b[0m Trial 35 finished with value: 0.8092031425364759 and parameters: {'lambda_l1': 0.22704327524921405, 'lambda_l2': 2.2243921941698047e-05, 'num_leaves': 39, 'feature_fraction': 0.7950315620598551, 'bagging_fraction': 0.7908760449880475, 'bagging_freq': 6, 'min_child_samples': 64, 'max_depth': 2}. Best is trial 5 with value: 0.8249158249158249.\u001b[0m\n"
     ]
    },
    {
     "name": "stdout",
     "output_type": "stream",
     "text": [
      "Early stopping, best iteration is:\n",
      "[37]\ttraining's binary_logloss: 0.418904\tvalid_1's binary_logloss: 0.419405\n",
      "Training until validation scores don't improve for 1000 rounds\n",
      "Early stopping, best iteration is:\n",
      "[105]\ttraining's binary_logloss: 0.400263\tvalid_1's binary_logloss: 0.421456\n",
      "Training until validation scores don't improve for 1000 rounds\n",
      "Early stopping, best iteration is:\n",
      "[171]\ttraining's binary_logloss: 0.399133\tvalid_1's binary_logloss: 0.410573\n",
      "Training until validation scores don't improve for 1000 rounds\n",
      "Early stopping, best iteration is:\n",
      "[92]\ttraining's binary_logloss: 0.394792\tvalid_1's binary_logloss: 0.463881\n",
      "Training until validation scores don't improve for 1000 rounds\n"
     ]
    },
    {
     "name": "stderr",
     "output_type": "stream",
     "text": [
      "\u001b[32m[I 2021-10-02 20:07:42,643]\u001b[0m Trial 36 finished with value: 0.8069584736251403 and parameters: {'lambda_l1': 4.4027441390398, 'lambda_l2': 7.161341708079643e-05, 'num_leaves': 44, 'feature_fraction': 0.8338603656915154, 'bagging_fraction': 0.8972200335596717, 'bagging_freq': 9, 'min_child_samples': 59, 'max_depth': 4}. Best is trial 5 with value: 0.8249158249158249.\u001b[0m\n"
     ]
    },
    {
     "name": "stdout",
     "output_type": "stream",
     "text": [
      "Early stopping, best iteration is:\n",
      "[54]\ttraining's binary_logloss: 0.40493\tvalid_1's binary_logloss: 0.422058\n",
      "Training until validation scores don't improve for 1000 rounds\n",
      "Early stopping, best iteration is:\n",
      "[44]\ttraining's binary_logloss: 0.409274\tvalid_1's binary_logloss: 0.418499\n",
      "Training until validation scores don't improve for 1000 rounds\n",
      "Early stopping, best iteration is:\n",
      "[194]\ttraining's binary_logloss: 0.362468\tvalid_1's binary_logloss: 0.418437\n",
      "Training until validation scores don't improve for 1000 rounds\n",
      "Early stopping, best iteration is:\n",
      "[319]\ttraining's binary_logloss: 0.346327\tvalid_1's binary_logloss: 0.393674\n",
      "Training until validation scores don't improve for 1000 rounds\n",
      "Early stopping, best iteration is:\n",
      "[289]\ttraining's binary_logloss: 0.336151\tvalid_1's binary_logloss: 0.44905\n",
      "Training until validation scores don't improve for 1000 rounds\n",
      "Early stopping, best iteration is:\n",
      "[112]\ttraining's binary_logloss: 0.385535\tvalid_1's binary_logloss: 0.41974\n",
      "Training until validation scores don't improve for 1000 rounds\n"
     ]
    },
    {
     "name": "stderr",
     "output_type": "stream",
     "text": [
      "\u001b[32m[I 2021-10-02 20:07:44,873]\u001b[0m Trial 37 finished with value: 0.8181818181818182 and parameters: {'lambda_l1': 0.0027217361473225615, 'lambda_l2': 0.0017195909508147997, 'num_leaves': 7, 'feature_fraction': 0.625029920720095, 'bagging_fraction': 0.7348573381754889, 'bagging_freq': 7, 'min_child_samples': 71, 'max_depth': 5}. Best is trial 5 with value: 0.8249158249158249.\u001b[0m\n"
     ]
    },
    {
     "name": "stdout",
     "output_type": "stream",
     "text": [
      "Early stopping, best iteration is:\n",
      "[46]\ttraining's binary_logloss: 0.412286\tvalid_1's binary_logloss: 0.425071\n",
      "Training until validation scores don't improve for 1000 rounds\n",
      "Early stopping, best iteration is:\n",
      "[35]\ttraining's binary_logloss: 0.415774\tvalid_1's binary_logloss: 0.424105\n",
      "Training until validation scores don't improve for 1000 rounds\n",
      "Early stopping, best iteration is:\n",
      "[257]\ttraining's binary_logloss: 0.352294\tvalid_1's binary_logloss: 0.383964\n",
      "Training until validation scores don't improve for 1000 rounds\n",
      "Early stopping, best iteration is:\n",
      "[175]\ttraining's binary_logloss: 0.355022\tvalid_1's binary_logloss: 0.453967\n",
      "Training until validation scores don't improve for 1000 rounds\n",
      "Early stopping, best iteration is:\n",
      "[372]\ttraining's binary_logloss: 0.328978\tvalid_1's binary_logloss: 0.420621\n",
      "Training until validation scores don't improve for 1000 rounds\n"
     ]
    },
    {
     "name": "stderr",
     "output_type": "stream",
     "text": [
      "\u001b[32m[I 2021-10-02 20:07:46,777]\u001b[0m Trial 38 finished with value: 0.8170594837261503 and parameters: {'lambda_l1': 0.011600475113868582, 'lambda_l2': 4.713989160285185e-05, 'num_leaves': 32, 'feature_fraction': 0.6629072117058984, 'bagging_fraction': 0.8280850259350949, 'bagging_freq': 5, 'min_child_samples': 80, 'max_depth': 4}. Best is trial 5 with value: 0.8249158249158249.\u001b[0m\n"
     ]
    },
    {
     "name": "stdout",
     "output_type": "stream",
     "text": [
      "Early stopping, best iteration is:\n",
      "[32]\ttraining's binary_logloss: 0.416596\tvalid_1's binary_logloss: 0.421905\n",
      "Training until validation scores don't improve for 1000 rounds\n",
      "Early stopping, best iteration is:\n",
      "[904]\ttraining's binary_logloss: 0.345608\tvalid_1's binary_logloss: 0.416667\n",
      "Training until validation scores don't improve for 1000 rounds\n",
      "Early stopping, best iteration is:\n",
      "[599]\ttraining's binary_logloss: 0.363006\tvalid_1's binary_logloss: 0.396753\n",
      "Training until validation scores don't improve for 1000 rounds\n",
      "Early stopping, best iteration is:\n",
      "[637]\ttraining's binary_logloss: 0.351353\tvalid_1's binary_logloss: 0.445133\n",
      "Training until validation scores don't improve for 1000 rounds\n",
      "Early stopping, best iteration is:\n",
      "[593]\ttraining's binary_logloss: 0.362326\tvalid_1's binary_logloss: 0.410563\n",
      "Training until validation scores don't improve for 1000 rounds\n"
     ]
    },
    {
     "name": "stderr",
     "output_type": "stream",
     "text": [
      "\u001b[32m[I 2021-10-02 20:07:48,720]\u001b[0m Trial 39 finished with value: 0.8159371492704826 and parameters: {'lambda_l1': 0.00018098629924339984, 'lambda_l2': 0.0001332532240630377, 'num_leaves': 10, 'feature_fraction': 0.4452467316363963, 'bagging_fraction': 0.8666588305275628, 'bagging_freq': 8, 'min_child_samples': 86, 'max_depth': 2}. Best is trial 5 with value: 0.8249158249158249.\u001b[0m\n"
     ]
    },
    {
     "name": "stdout",
     "output_type": "stream",
     "text": [
      "Early stopping, best iteration is:\n",
      "[40]\ttraining's binary_logloss: 0.427299\tvalid_1's binary_logloss: 0.423919\n",
      "Training until validation scores don't improve for 1000 rounds\n",
      "Early stopping, best iteration is:\n",
      "[216]\ttraining's binary_logloss: 0.358307\tvalid_1's binary_logloss: 0.413125\n",
      "Training until validation scores don't improve for 1000 rounds\n",
      "Early stopping, best iteration is:\n",
      "[462]\ttraining's binary_logloss: 0.329815\tvalid_1's binary_logloss: 0.396893\n",
      "Training until validation scores don't improve for 1000 rounds\n",
      "Early stopping, best iteration is:\n",
      "[241]\ttraining's binary_logloss: 0.343758\tvalid_1's binary_logloss: 0.455578\n",
      "Training until validation scores don't improve for 1000 rounds\n",
      "Early stopping, best iteration is:\n",
      "[30]\ttraining's binary_logloss: 0.417259\tvalid_1's binary_logloss: 0.428989\n",
      "Training until validation scores don't improve for 1000 rounds\n"
     ]
    },
    {
     "name": "stderr",
     "output_type": "stream",
     "text": [
      "\u001b[32m[I 2021-10-02 20:07:50,738]\u001b[0m Trial 40 finished with value: 0.8159371492704826 and parameters: {'lambda_l1': 1.0262057926508457, 'lambda_l2': 1.2666378331618557e-05, 'num_leaves': 18, 'feature_fraction': 0.8977663786390948, 'bagging_fraction': 0.5672170146581684, 'bagging_freq': 6, 'min_child_samples': 51, 'max_depth': 5}. Best is trial 5 with value: 0.8249158249158249.\u001b[0m\n"
     ]
    },
    {
     "name": "stdout",
     "output_type": "stream",
     "text": [
      "Early stopping, best iteration is:\n",
      "[72]\ttraining's binary_logloss: 0.396796\tvalid_1's binary_logloss: 0.420533\n",
      "Training until validation scores don't improve for 1000 rounds\n",
      "Early stopping, best iteration is:\n",
      "[104]\ttraining's binary_logloss: 0.379437\tvalid_1's binary_logloss: 0.418019\n",
      "Training until validation scores don't improve for 1000 rounds\n",
      "Early stopping, best iteration is:\n",
      "[161]\ttraining's binary_logloss: 0.372652\tvalid_1's binary_logloss: 0.395869\n",
      "Training until validation scores don't improve for 1000 rounds\n",
      "Early stopping, best iteration is:\n",
      "[213]\ttraining's binary_logloss: 0.350052\tvalid_1's binary_logloss: 0.44896\n",
      "Training until validation scores don't improve for 1000 rounds\n",
      "Early stopping, best iteration is:\n",
      "[87]\ttraining's binary_logloss: 0.384895\tvalid_1's binary_logloss: 0.416243\n",
      "Training until validation scores don't improve for 1000 rounds\n"
     ]
    },
    {
     "name": "stderr",
     "output_type": "stream",
     "text": [
      "\u001b[32m[I 2021-10-02 20:07:52,218]\u001b[0m Trial 41 finished with value: 0.819304152637486 and parameters: {'lambda_l1': 0.1392874889156677, 'lambda_l2': 2.462512267135832e-05, 'num_leaves': 51, 'feature_fraction': 0.8480678924600755, 'bagging_fraction': 0.744284532303657, 'bagging_freq': 7, 'min_child_samples': 65, 'max_depth': 3}. Best is trial 5 with value: 0.8249158249158249.\u001b[0m\n"
     ]
    },
    {
     "name": "stdout",
     "output_type": "stream",
     "text": [
      "Early stopping, best iteration is:\n",
      "[39]\ttraining's binary_logloss: 0.410256\tvalid_1's binary_logloss: 0.425033\n",
      "Training until validation scores don't improve for 1000 rounds\n",
      "Early stopping, best iteration is:\n",
      "[201]\ttraining's binary_logloss: 0.37797\tvalid_1's binary_logloss: 0.418976\n",
      "Training until validation scores don't improve for 1000 rounds\n",
      "Early stopping, best iteration is:\n",
      "[536]\ttraining's binary_logloss: 0.347528\tvalid_1's binary_logloss: 0.391481\n",
      "Training until validation scores don't improve for 1000 rounds\n",
      "Early stopping, best iteration is:\n",
      "[274]\ttraining's binary_logloss: 0.357109\tvalid_1's binary_logloss: 0.450176\n",
      "Training until validation scores don't improve for 1000 rounds\n",
      "Early stopping, best iteration is:\n",
      "[91]\ttraining's binary_logloss: 0.401326\tvalid_1's binary_logloss: 0.424059\n",
      "Training until validation scores don't improve for 1000 rounds\n"
     ]
    },
    {
     "name": "stderr",
     "output_type": "stream",
     "text": [
      "\u001b[32m[I 2021-10-02 20:07:53,698]\u001b[0m Trial 42 finished with value: 0.8204264870931538 and parameters: {'lambda_l1': 0.39552304746674, 'lambda_l2': 0.00030948029308068515, 'num_leaves': 58, 'feature_fraction': 0.7764633254695763, 'bagging_fraction': 0.6551008440426935, 'bagging_freq': 7, 'min_child_samples': 75, 'max_depth': 3}. Best is trial 5 with value: 0.8249158249158249.\u001b[0m\n"
     ]
    },
    {
     "name": "stdout",
     "output_type": "stream",
     "text": [
      "Early stopping, best iteration is:\n",
      "[84]\ttraining's binary_logloss: 0.405574\tvalid_1's binary_logloss: 0.4285\n",
      "Training until validation scores don't improve for 1000 rounds\n",
      "Early stopping, best iteration is:\n",
      "[48]\ttraining's binary_logloss: 0.407017\tvalid_1's binary_logloss: 0.42052\n",
      "Training until validation scores don't improve for 1000 rounds\n",
      "Early stopping, best iteration is:\n",
      "[174]\ttraining's binary_logloss: 0.37465\tvalid_1's binary_logloss: 0.388822\n",
      "Training until validation scores don't improve for 1000 rounds\n",
      "Early stopping, best iteration is:\n",
      "[204]\ttraining's binary_logloss: 0.353551\tvalid_1's binary_logloss: 0.453072\n",
      "Training until validation scores don't improve for 1000 rounds\n",
      "Early stopping, best iteration is:\n",
      "[104]\ttraining's binary_logloss: 0.385154\tvalid_1's binary_logloss: 0.415271\n",
      "Training until validation scores don't improve for 1000 rounds\n"
     ]
    },
    {
     "name": "stderr",
     "output_type": "stream",
     "text": [
      "\u001b[32m[I 2021-10-02 20:07:55,154]\u001b[0m Trial 43 finished with value: 0.8103254769921436 and parameters: {'lambda_l1': 0.396692619479503, 'lambda_l2': 4.678062672049877e-05, 'num_leaves': 45, 'feature_fraction': 0.8663771191835021, 'bagging_fraction': 0.7135450289910875, 'bagging_freq': 8, 'min_child_samples': 65, 'max_depth': 3}. Best is trial 5 with value: 0.8249158249158249.\u001b[0m\n"
     ]
    },
    {
     "name": "stdout",
     "output_type": "stream",
     "text": [
      "Early stopping, best iteration is:\n",
      "[52]\ttraining's binary_logloss: 0.407162\tvalid_1's binary_logloss: 0.423543\n",
      "Training until validation scores don't improve for 1000 rounds\n",
      "Early stopping, best iteration is:\n",
      "[165]\ttraining's binary_logloss: 0.383114\tvalid_1's binary_logloss: 0.419335\n",
      "Training until validation scores don't improve for 1000 rounds\n",
      "Early stopping, best iteration is:\n",
      "[612]\ttraining's binary_logloss: 0.338589\tvalid_1's binary_logloss: 0.394761\n",
      "Training until validation scores don't improve for 1000 rounds\n",
      "Early stopping, best iteration is:\n",
      "[690]\ttraining's binary_logloss: 0.323737\tvalid_1's binary_logloss: 0.448148\n",
      "Training until validation scores don't improve for 1000 rounds\n",
      "Early stopping, best iteration is:\n",
      "[430]\ttraining's binary_logloss: 0.351224\tvalid_1's binary_logloss: 0.410388\n",
      "Training until validation scores don't improve for 1000 rounds\n"
     ]
    },
    {
     "name": "stderr",
     "output_type": "stream",
     "text": [
      "\u001b[32m[I 2021-10-02 20:07:56,713]\u001b[0m Trial 44 finished with value: 0.8125701459034792 and parameters: {'lambda_l1': 0.0580455024571168, 'lambda_l2': 1.096496867445155e-05, 'num_leaves': 53, 'feature_fraction': 0.7336453785187026, 'bagging_fraction': 0.6785812934160843, 'bagging_freq': 6, 'min_child_samples': 58, 'max_depth': 2}. Best is trial 5 with value: 0.8249158249158249.\u001b[0m\n"
     ]
    },
    {
     "name": "stdout",
     "output_type": "stream",
     "text": [
      "Early stopping, best iteration is:\n",
      "[42]\ttraining's binary_logloss: 0.418341\tvalid_1's binary_logloss: 0.421106\n",
      "Training until validation scores don't improve for 1000 rounds\n",
      "Early stopping, best iteration is:\n",
      "[96]\ttraining's binary_logloss: 0.372325\tvalid_1's binary_logloss: 0.406362\n",
      "Training until validation scores don't improve for 1000 rounds\n",
      "Early stopping, best iteration is:\n",
      "[272]\ttraining's binary_logloss: 0.335094\tvalid_1's binary_logloss: 0.398857\n",
      "Training until validation scores don't improve for 1000 rounds\n",
      "Early stopping, best iteration is:\n",
      "[183]\ttraining's binary_logloss: 0.341986\tvalid_1's binary_logloss: 0.45479\n",
      "Training until validation scores don't improve for 1000 rounds\n",
      "Early stopping, best iteration is:\n",
      "[83]\ttraining's binary_logloss: 0.378777\tvalid_1's binary_logloss: 0.407821\n",
      "Training until validation scores don't improve for 1000 rounds\n"
     ]
    },
    {
     "name": "stderr",
     "output_type": "stream",
     "text": [
      "\u001b[32m[I 2021-10-02 20:07:58,322]\u001b[0m Trial 45 finished with value: 0.8181818181818182 and parameters: {'lambda_l1': 0.20663628376504242, 'lambda_l2': 0.00014463388448273496, 'num_leaves': 60, 'feature_fraction': 0.8976247395726936, 'bagging_fraction': 0.6280650230770854, 'bagging_freq': 7, 'min_child_samples': 42, 'max_depth': 3}. Best is trial 5 with value: 0.8249158249158249.\u001b[0m\n"
     ]
    },
    {
     "name": "stdout",
     "output_type": "stream",
     "text": [
      "Early stopping, best iteration is:\n",
      "[39]\ttraining's binary_logloss: 0.398303\tvalid_1's binary_logloss: 0.417686\n",
      "Training until validation scores don't improve for 1000 rounds\n",
      "Early stopping, best iteration is:\n",
      "[33]\ttraining's binary_logloss: 0.412945\tvalid_1's binary_logloss: 0.419802\n",
      "Training until validation scores don't improve for 1000 rounds\n",
      "Early stopping, best iteration is:\n",
      "[227]\ttraining's binary_logloss: 0.349464\tvalid_1's binary_logloss: 0.396469\n",
      "Training until validation scores don't improve for 1000 rounds\n",
      "Early stopping, best iteration is:\n",
      "[96]\ttraining's binary_logloss: 0.369021\tvalid_1's binary_logloss: 0.449064\n",
      "Training until validation scores don't improve for 1000 rounds\n",
      "Early stopping, best iteration is:\n",
      "[492]\ttraining's binary_logloss: 0.303203\tvalid_1's binary_logloss: 0.430158\n",
      "Training until validation scores don't improve for 1000 rounds\n"
     ]
    },
    {
     "name": "stderr",
     "output_type": "stream",
     "text": [
      "\u001b[32m[I 2021-10-02 20:08:00,785]\u001b[0m Trial 46 finished with value: 0.813692480359147 and parameters: {'lambda_l1': 0.006863018405174881, 'lambda_l2': 2.227201710074095e-05, 'num_leaves': 52, 'feature_fraction': 0.8218078959428204, 'bagging_fraction': 0.7356712844961757, 'bagging_freq': 3, 'min_child_samples': 70, 'max_depth': 4}. Best is trial 5 with value: 0.8249158249158249.\u001b[0m\n"
     ]
    },
    {
     "name": "stdout",
     "output_type": "stream",
     "text": [
      "Early stopping, best iteration is:\n",
      "[71]\ttraining's binary_logloss: 0.38863\tvalid_1's binary_logloss: 0.420497\n",
      "Training until validation scores don't improve for 1000 rounds\n",
      "Early stopping, best iteration is:\n",
      "[129]\ttraining's binary_logloss: 0.398187\tvalid_1's binary_logloss: 0.419657\n",
      "Training until validation scores don't improve for 1000 rounds\n",
      "Early stopping, best iteration is:\n",
      "[914]\ttraining's binary_logloss: 0.369293\tvalid_1's binary_logloss: 0.396028\n",
      "Training until validation scores don't improve for 1000 rounds\n",
      "Early stopping, best iteration is:\n",
      "[517]\ttraining's binary_logloss: 0.366269\tvalid_1's binary_logloss: 0.455454\n",
      "Training until validation scores don't improve for 1000 rounds\n",
      "Early stopping, best iteration is:\n",
      "[295]\ttraining's binary_logloss: 0.384064\tvalid_1's binary_logloss: 0.426163\n",
      "Training until validation scores don't improve for 1000 rounds\n"
     ]
    },
    {
     "name": "stderr",
     "output_type": "stream",
     "text": [
      "\u001b[32m[I 2021-10-02 20:08:02,927]\u001b[0m Trial 47 finished with value: 0.8092031425364759 and parameters: {'lambda_l1': 3.390628806556972, 'lambda_l2': 0.06911956069014165, 'num_leaves': 50, 'feature_fraction': 0.5250549696161615, 'bagging_fraction': 0.7527656885578375, 'bagging_freq': 4, 'min_child_samples': 55, 'max_depth': 3}. Best is trial 5 with value: 0.8249158249158249.\u001b[0m\n"
     ]
    },
    {
     "name": "stdout",
     "output_type": "stream",
     "text": [
      "Early stopping, best iteration is:\n",
      "[97]\ttraining's binary_logloss: 0.402839\tvalid_1's binary_logloss: 0.417267\n",
      "Training until validation scores don't improve for 1000 rounds\n",
      "Early stopping, best iteration is:\n",
      "[62]\ttraining's binary_logloss: 0.406707\tvalid_1's binary_logloss: 0.420461\n",
      "Training until validation scores don't improve for 1000 rounds\n",
      "Early stopping, best iteration is:\n",
      "[674]\ttraining's binary_logloss: 0.341752\tvalid_1's binary_logloss: 0.394895\n",
      "Training until validation scores don't improve for 1000 rounds\n",
      "Early stopping, best iteration is:\n",
      "[284]\ttraining's binary_logloss: 0.361209\tvalid_1's binary_logloss: 0.443372\n",
      "Training until validation scores don't improve for 1000 rounds\n",
      "Early stopping, best iteration is:\n",
      "[477]\ttraining's binary_logloss: 0.349739\tvalid_1's binary_logloss: 0.416575\n",
      "Training until validation scores don't improve for 1000 rounds\n"
     ]
    },
    {
     "name": "stderr",
     "output_type": "stream",
     "text": [
      "\u001b[32m[I 2021-10-02 20:08:06,087]\u001b[0m Trial 48 finished with value: 0.8159371492704826 and parameters: {'lambda_l1': 0.3203739441028716, 'lambda_l2': 0.0007722854352537299, 'num_leaves': 39, 'feature_fraction': 0.8045237815894684, 'bagging_fraction': 0.7802499072519691, 'bagging_freq': 9, 'min_child_samples': 67, 'max_depth': 2}. Best is trial 5 with value: 0.8249158249158249.\u001b[0m\n"
     ]
    },
    {
     "name": "stdout",
     "output_type": "stream",
     "text": [
      "Early stopping, best iteration is:\n",
      "[48]\ttraining's binary_logloss: 0.4142\tvalid_1's binary_logloss: 0.422455\n",
      "Training until validation scores don't improve for 1000 rounds\n",
      "Early stopping, best iteration is:\n",
      "[40]\ttraining's binary_logloss: 0.408994\tvalid_1's binary_logloss: 0.42149\n",
      "Training until validation scores don't improve for 1000 rounds\n",
      "Early stopping, best iteration is:\n",
      "[312]\ttraining's binary_logloss: 0.337933\tvalid_1's binary_logloss: 0.391402\n",
      "Training until validation scores don't improve for 1000 rounds\n",
      "Early stopping, best iteration is:\n",
      "[449]\ttraining's binary_logloss: 0.306861\tvalid_1's binary_logloss: 0.456879\n",
      "Training until validation scores don't improve for 1000 rounds\n",
      "Early stopping, best iteration is:\n",
      "[164]\ttraining's binary_logloss: 0.360962\tvalid_1's binary_logloss: 0.420547\n",
      "Training until validation scores don't improve for 1000 rounds\n"
     ]
    },
    {
     "name": "stderr",
     "output_type": "stream",
     "text": [
      "\u001b[32m[I 2021-10-02 20:08:08,832]\u001b[0m Trial 49 finished with value: 0.813692480359147 and parameters: {'lambda_l1': 0.027478781865564503, 'lambda_l2': 4.296877597739594e-05, 'num_leaves': 62, 'feature_fraction': 0.7497711022769634, 'bagging_fraction': 0.8281980455902465, 'bagging_freq': 6, 'min_child_samples': 75, 'max_depth': 4}. Best is trial 5 with value: 0.8249158249158249.\u001b[0m\n"
     ]
    },
    {
     "name": "stdout",
     "output_type": "stream",
     "text": [
      "Early stopping, best iteration is:\n",
      "[34]\ttraining's binary_logloss: 0.414049\tvalid_1's binary_logloss: 0.419789\n",
      "Training until validation scores don't improve for 1000 rounds\n",
      "Early stopping, best iteration is:\n",
      "[150]\ttraining's binary_logloss: 0.370372\tvalid_1's binary_logloss: 0.420717\n",
      "Training until validation scores don't improve for 1000 rounds\n",
      "Early stopping, best iteration is:\n",
      "[316]\ttraining's binary_logloss: 0.345651\tvalid_1's binary_logloss: 0.392761\n",
      "Training until validation scores don't improve for 1000 rounds\n",
      "Early stopping, best iteration is:\n",
      "[219]\ttraining's binary_logloss: 0.346555\tvalid_1's binary_logloss: 0.448202\n",
      "Training until validation scores don't improve for 1000 rounds\n",
      "Early stopping, best iteration is:\n",
      "[91]\ttraining's binary_logloss: 0.385529\tvalid_1's binary_logloss: 0.4179\n",
      "Training until validation scores don't improve for 1000 rounds\n"
     ]
    },
    {
     "name": "stderr",
     "output_type": "stream",
     "text": [
      "\u001b[32m[I 2021-10-02 20:08:10,915]\u001b[0m Trial 50 finished with value: 0.8215488215488216 and parameters: {'lambda_l1': 0.0003421268739919571, 'lambda_l2': 0.00027760702112457054, 'num_leaves': 55, 'feature_fraction': 0.7064410075734505, 'bagging_fraction': 0.7173173258033112, 'bagging_freq': 7, 'min_child_samples': 61, 'max_depth': 3}. Best is trial 5 with value: 0.8249158249158249.\u001b[0m\n"
     ]
    },
    {
     "name": "stdout",
     "output_type": "stream",
     "text": [
      "Early stopping, best iteration is:\n",
      "[46]\ttraining's binary_logloss: 0.408793\tvalid_1's binary_logloss: 0.426304\n",
      "Training until validation scores don't improve for 1000 rounds\n",
      "Early stopping, best iteration is:\n",
      "[41]\ttraining's binary_logloss: 0.395075\tvalid_1's binary_logloss: 0.407503\n",
      "Training until validation scores don't improve for 1000 rounds\n",
      "Early stopping, best iteration is:\n",
      "[81]\ttraining's binary_logloss: 0.372836\tvalid_1's binary_logloss: 0.403314\n",
      "Training until validation scores don't improve for 1000 rounds\n",
      "Early stopping, best iteration is:\n",
      "[42]\ttraining's binary_logloss: 0.387524\tvalid_1's binary_logloss: 0.45676\n",
      "Training until validation scores don't improve for 1000 rounds\n",
      "Early stopping, best iteration is:\n",
      "[44]\ttraining's binary_logloss: 0.390275\tvalid_1's binary_logloss: 0.405099\n",
      "Training until validation scores don't improve for 1000 rounds\n"
     ]
    },
    {
     "name": "stderr",
     "output_type": "stream",
     "text": [
      "\u001b[32m[I 2021-10-02 20:08:13,430]\u001b[0m Trial 51 finished with value: 0.8125701459034792 and parameters: {'lambda_l1': 0.00035674641992618434, 'lambda_l2': 0.0017337865554916264, 'num_leaves': 55, 'feature_fraction': 0.6726422100039252, 'bagging_fraction': 0.7162135603629649, 'bagging_freq': 7, 'min_child_samples': 37, 'max_depth': 3}. Best is trial 5 with value: 0.8249158249158249.\u001b[0m\n"
     ]
    },
    {
     "name": "stdout",
     "output_type": "stream",
     "text": [
      "Early stopping, best iteration is:\n",
      "[35]\ttraining's binary_logloss: 0.394166\tvalid_1's binary_logloss: 0.421211\n",
      "Training until validation scores don't improve for 1000 rounds\n",
      "Early stopping, best iteration is:\n",
      "[148]\ttraining's binary_logloss: 0.367601\tvalid_1's binary_logloss: 0.420483\n",
      "Training until validation scores don't improve for 1000 rounds\n",
      "Early stopping, best iteration is:\n",
      "[356]\ttraining's binary_logloss: 0.331301\tvalid_1's binary_logloss: 0.395913\n",
      "Training until validation scores don't improve for 1000 rounds\n",
      "Early stopping, best iteration is:\n",
      "[197]\ttraining's binary_logloss: 0.346703\tvalid_1's binary_logloss: 0.44933\n",
      "Training until validation scores don't improve for 1000 rounds\n",
      "Early stopping, best iteration is:\n",
      "[89]\ttraining's binary_logloss: 0.382098\tvalid_1's binary_logloss: 0.413453\n",
      "Training until validation scores don't improve for 1000 rounds\n"
     ]
    },
    {
     "name": "stderr",
     "output_type": "stream",
     "text": [
      "\u001b[32m[I 2021-10-02 20:08:16,173]\u001b[0m Trial 52 finished with value: 0.8204264870931538 and parameters: {'lambda_l1': 0.00010805009220762044, 'lambda_l2': 0.00029427712203097367, 'num_leaves': 55, 'feature_fraction': 0.7088640518687457, 'bagging_fraction': 0.8136070682614512, 'bagging_freq': 7, 'min_child_samples': 62, 'max_depth': 3}. Best is trial 5 with value: 0.8249158249158249.\u001b[0m\n"
     ]
    },
    {
     "name": "stdout",
     "output_type": "stream",
     "text": [
      "Early stopping, best iteration is:\n",
      "[34]\ttraining's binary_logloss: 0.413072\tvalid_1's binary_logloss: 0.420933\n",
      "Training until validation scores don't improve for 1000 rounds\n",
      "Early stopping, best iteration is:\n",
      "[176]\ttraining's binary_logloss: 0.357655\tvalid_1's binary_logloss: 0.416748\n",
      "Training until validation scores don't improve for 1000 rounds\n",
      "Early stopping, best iteration is:\n",
      "[237]\ttraining's binary_logloss: 0.351614\tvalid_1's binary_logloss: 0.391717\n",
      "Training until validation scores don't improve for 1000 rounds\n",
      "Early stopping, best iteration is:\n",
      "[211]\ttraining's binary_logloss: 0.340581\tvalid_1's binary_logloss: 0.445842\n",
      "Training until validation scores don't improve for 1000 rounds\n",
      "Early stopping, best iteration is:\n",
      "[104]\ttraining's binary_logloss: 0.375357\tvalid_1's binary_logloss: 0.420243\n",
      "Training until validation scores don't improve for 1000 rounds\n"
     ]
    },
    {
     "name": "stderr",
     "output_type": "stream",
     "text": [
      "\u001b[32m[I 2021-10-02 20:08:18,721]\u001b[0m Trial 53 finished with value: 0.8170594837261503 and parameters: {'lambda_l1': 2.9822995868188786e-05, 'lambda_l2': 0.0037369358209691467, 'num_leaves': 46, 'feature_fraction': 0.7008866089436059, 'bagging_fraction': 0.6744110558926846, 'bagging_freq': 8, 'min_child_samples': 60, 'max_depth': 4}. Best is trial 5 with value: 0.8249158249158249.\u001b[0m\n"
     ]
    },
    {
     "name": "stdout",
     "output_type": "stream",
     "text": [
      "Early stopping, best iteration is:\n",
      "[41]\ttraining's binary_logloss: 0.410742\tvalid_1's binary_logloss: 0.424659\n",
      "Training until validation scores don't improve for 1000 rounds\n",
      "Early stopping, best iteration is:\n",
      "[49]\ttraining's binary_logloss: 0.398519\tvalid_1's binary_logloss: 0.414108\n",
      "Training until validation scores don't improve for 1000 rounds\n",
      "Early stopping, best iteration is:\n",
      "[133]\ttraining's binary_logloss: 0.366094\tvalid_1's binary_logloss: 0.404689\n",
      "Training until validation scores don't improve for 1000 rounds\n",
      "Early stopping, best iteration is:\n",
      "[105]\ttraining's binary_logloss: 0.362397\tvalid_1's binary_logloss: 0.460689\n",
      "Training until validation scores don't improve for 1000 rounds\n",
      "Early stopping, best iteration is:\n",
      "[73]\ttraining's binary_logloss: 0.382139\tvalid_1's binary_logloss: 0.421305\n",
      "Training until validation scores don't improve for 1000 rounds\n"
     ]
    },
    {
     "name": "stderr",
     "output_type": "stream",
     "text": [
      "\u001b[32m[I 2021-10-02 20:08:22,171]\u001b[0m Trial 54 finished with value: 0.8159371492704826 and parameters: {'lambda_l1': 0.0004081199437269939, 'lambda_l2': 0.0001050824639974072, 'num_leaves': 59, 'feature_fraction': 0.7879629069133159, 'bagging_fraction': 0.7577377196171039, 'bagging_freq': 7, 'min_child_samples': 53, 'max_depth': 3}. Best is trial 5 with value: 0.8249158249158249.\u001b[0m\n"
     ]
    },
    {
     "name": "stdout",
     "output_type": "stream",
     "text": [
      "Early stopping, best iteration is:\n",
      "[40]\ttraining's binary_logloss: 0.399161\tvalid_1's binary_logloss: 0.420927\n",
      "Training until validation scores don't improve for 1000 rounds\n",
      "Early stopping, best iteration is:\n",
      "[140]\ttraining's binary_logloss: 0.401607\tvalid_1's binary_logloss: 0.426611\n",
      "Training until validation scores don't improve for 1000 rounds\n",
      "Early stopping, best iteration is:\n",
      "[385]\ttraining's binary_logloss: 0.370971\tvalid_1's binary_logloss: 0.402592\n",
      "Training until validation scores don't improve for 1000 rounds\n",
      "Early stopping, best iteration is:\n",
      "[200]\ttraining's binary_logloss: 0.378413\tvalid_1's binary_logloss: 0.454329\n",
      "Training until validation scores don't improve for 1000 rounds\n",
      "Early stopping, best iteration is:\n",
      "[682]\ttraining's binary_logloss: 0.339012\tvalid_1's binary_logloss: 0.426107\n",
      "Training until validation scores don't improve for 1000 rounds\n"
     ]
    },
    {
     "name": "stderr",
     "output_type": "stream",
     "text": [
      "\u001b[32m[I 2021-10-02 20:08:26,768]\u001b[0m Trial 55 finished with value: 0.8013468013468014 and parameters: {'lambda_l1': 0.0001111997928714946, 'lambda_l2': 0.0004340320837324267, 'num_leaves': 25, 'feature_fraction': 0.6503558946831809, 'bagging_fraction': 0.6382973063940245, 'bagging_freq': 5, 'min_child_samples': 89, 'max_depth': 3}. Best is trial 5 with value: 0.8249158249158249.\u001b[0m\n"
     ]
    },
    {
     "name": "stdout",
     "output_type": "stream",
     "text": [
      "Early stopping, best iteration is:\n",
      "[1820]\ttraining's binary_logloss: 0.289469\tvalid_1's binary_logloss: 0.426572\n",
      "Training until validation scores don't improve for 1000 rounds\n",
      "Early stopping, best iteration is:\n",
      "[793]\ttraining's binary_logloss: 0.336968\tvalid_1's binary_logloss: 0.421907\n",
      "Training until validation scores don't improve for 1000 rounds\n",
      "Early stopping, best iteration is:\n",
      "[441]\ttraining's binary_logloss: 0.363224\tvalid_1's binary_logloss: 0.399605\n",
      "Training until validation scores don't improve for 1000 rounds\n",
      "Early stopping, best iteration is:\n",
      "[805]\ttraining's binary_logloss: 0.329182\tvalid_1's binary_logloss: 0.444576\n",
      "Training until validation scores don't improve for 1000 rounds\n",
      "Early stopping, best iteration is:\n",
      "[250]\ttraining's binary_logloss: 0.377233\tvalid_1's binary_logloss: 0.417407\n",
      "Training until validation scores don't improve for 1000 rounds\n"
     ]
    },
    {
     "name": "stderr",
     "output_type": "stream",
     "text": [
      "\u001b[32m[I 2021-10-02 20:08:31,032]\u001b[0m Trial 56 finished with value: 0.819304152637486 and parameters: {'lambda_l1': 0.0021126225667602995, 'lambda_l2': 0.00017199235768052988, 'num_leaves': 14, 'feature_fraction': 0.7242824351906845, 'bagging_fraction': 0.8738479197118055, 'bagging_freq': 7, 'min_child_samples': 83, 'max_depth': 2}. Best is trial 5 with value: 0.8249158249158249.\u001b[0m\n"
     ]
    },
    {
     "name": "stdout",
     "output_type": "stream",
     "text": [
      "Early stopping, best iteration is:\n",
      "[34]\ttraining's binary_logloss: 0.426116\tvalid_1's binary_logloss: 0.416985\n",
      "Training until validation scores don't improve for 1000 rounds\n",
      "Early stopping, best iteration is:\n",
      "[93]\ttraining's binary_logloss: 0.382837\tvalid_1's binary_logloss: 0.419837\n",
      "Training until validation scores don't improve for 1000 rounds\n",
      "Early stopping, best iteration is:\n",
      "[151]\ttraining's binary_logloss: 0.370938\tvalid_1's binary_logloss: 0.402597\n",
      "Training until validation scores don't improve for 1000 rounds\n",
      "Early stopping, best iteration is:\n",
      "[49]\ttraining's binary_logloss: 0.389731\tvalid_1's binary_logloss: 0.462057\n",
      "Training until validation scores don't improve for 1000 rounds\n",
      "Early stopping, best iteration is:\n",
      "[381]\ttraining's binary_logloss: 0.331922\tvalid_1's binary_logloss: 0.412451\n",
      "Training until validation scores don't improve for 1000 rounds\n"
     ]
    },
    {
     "name": "stderr",
     "output_type": "stream",
     "text": [
      "\u001b[32m[I 2021-10-02 20:08:34,538]\u001b[0m Trial 57 finished with value: 0.8035914702581369 and parameters: {'lambda_l1': 0.8697893129370783, 'lambda_l2': 0.0011521221140077301, 'num_leaves': 43, 'feature_fraction': 0.5660476335885071, 'bagging_fraction': 0.7860881555509845, 'bagging_freq': 8, 'min_child_samples': 44, 'max_depth': 3}. Best is trial 5 with value: 0.8249158249158249.\u001b[0m\n"
     ]
    },
    {
     "name": "stdout",
     "output_type": "stream",
     "text": [
      "Early stopping, best iteration is:\n",
      "[43]\ttraining's binary_logloss: 0.400797\tvalid_1's binary_logloss: 0.418868\n",
      "Training until validation scores don't improve for 1000 rounds\n",
      "Early stopping, best iteration is:\n",
      "[346]\ttraining's binary_logloss: 0.338958\tvalid_1's binary_logloss: 0.421756\n",
      "Training until validation scores don't improve for 1000 rounds\n",
      "Early stopping, best iteration is:\n",
      "[454]\ttraining's binary_logloss: 0.329737\tvalid_1's binary_logloss: 0.390857\n",
      "Training until validation scores don't improve for 1000 rounds\n",
      "Early stopping, best iteration is:\n",
      "[247]\ttraining's binary_logloss: 0.34245\tvalid_1's binary_logloss: 0.459106\n",
      "Training until validation scores don't improve for 1000 rounds\n",
      "Early stopping, best iteration is:\n",
      "[176]\ttraining's binary_logloss: 0.364628\tvalid_1's binary_logloss: 0.432226\n",
      "Training until validation scores don't improve for 1000 rounds\n"
     ]
    },
    {
     "name": "stderr",
     "output_type": "stream",
     "text": [
      "\u001b[32m[I 2021-10-02 20:08:38,431]\u001b[0m Trial 58 finished with value: 0.8125701459034792 and parameters: {'lambda_l1': 0.0002682702627654606, 'lambda_l2': 1.8086926506558902e-05, 'num_leaves': 56, 'feature_fraction': 0.7654680262922686, 'bagging_fraction': 0.7216230737965112, 'bagging_freq': 6, 'min_child_samples': 73, 'max_depth': 4}. Best is trial 5 with value: 0.8249158249158249.\u001b[0m\n"
     ]
    },
    {
     "name": "stdout",
     "output_type": "stream",
     "text": [
      "Early stopping, best iteration is:\n",
      "[34]\ttraining's binary_logloss: 0.4198\tvalid_1's binary_logloss: 0.423194\n",
      "Training until validation scores don't improve for 1000 rounds\n",
      "Early stopping, best iteration is:\n",
      "[215]\ttraining's binary_logloss: 0.361276\tvalid_1's binary_logloss: 0.409426\n",
      "Training until validation scores don't improve for 1000 rounds\n",
      "Early stopping, best iteration is:\n",
      "[360]\ttraining's binary_logloss: 0.340926\tvalid_1's binary_logloss: 0.393645\n",
      "Training until validation scores don't improve for 1000 rounds\n",
      "Early stopping, best iteration is:\n",
      "[321]\ttraining's binary_logloss: 0.331536\tvalid_1's binary_logloss: 0.455833\n",
      "Training until validation scores don't improve for 1000 rounds\n",
      "Early stopping, best iteration is:\n",
      "[100]\ttraining's binary_logloss: 0.38501\tvalid_1's binary_logloss: 0.42194\n",
      "Training until validation scores don't improve for 1000 rounds\n"
     ]
    },
    {
     "name": "stderr",
     "output_type": "stream",
     "text": [
      "\u001b[32m[I 2021-10-02 20:08:40,578]\u001b[0m Trial 59 finished with value: 0.8148148148148148 and parameters: {'lambda_l1': 0.020607932958485387, 'lambda_l2': 6.453093034112831e-05, 'num_leaves': 47, 'feature_fraction': 0.7452183066643311, 'bagging_fraction': 0.6074062435107125, 'bagging_freq': 8, 'min_child_samples': 63, 'max_depth': 7}. Best is trial 5 with value: 0.8249158249158249.\u001b[0m\n"
     ]
    },
    {
     "name": "stdout",
     "output_type": "stream",
     "text": [
      "Early stopping, best iteration is:\n",
      "[95]\ttraining's binary_logloss: 0.387141\tvalid_1's binary_logloss: 0.418078\n",
      "Training until validation scores don't improve for 1000 rounds\n",
      "Early stopping, best iteration is:\n",
      "[469]\ttraining's binary_logloss: 0.348731\tvalid_1's binary_logloss: 0.419421\n",
      "Training until validation scores don't improve for 1000 rounds\n",
      "Early stopping, best iteration is:\n",
      "[461]\ttraining's binary_logloss: 0.356868\tvalid_1's binary_logloss: 0.385844\n",
      "Training until validation scores don't improve for 1000 rounds\n",
      "Early stopping, best iteration is:\n",
      "[450]\ttraining's binary_logloss: 0.34395\tvalid_1's binary_logloss: 0.451194\n",
      "Training until validation scores don't improve for 1000 rounds\n",
      "Early stopping, best iteration is:\n",
      "[368]\ttraining's binary_logloss: 0.354851\tvalid_1's binary_logloss: 0.407316\n",
      "Training until validation scores don't improve for 1000 rounds\n"
     ]
    },
    {
     "name": "stderr",
     "output_type": "stream",
     "text": [
      "\u001b[32m[I 2021-10-02 20:08:42,986]\u001b[0m Trial 60 finished with value: 0.8215488215488216 and parameters: {'lambda_l1': 0.000593291109950618, 'lambda_l2': 0.011481865439620959, 'num_leaves': 4, 'feature_fraction': 0.4853959852553847, 'bagging_fraction': 0.7014717750302036, 'bagging_freq': 6, 'min_child_samples': 67, 'max_depth': 3}. Best is trial 5 with value: 0.8249158249158249.\u001b[0m\n"
     ]
    },
    {
     "name": "stdout",
     "output_type": "stream",
     "text": [
      "Early stopping, best iteration is:\n",
      "[32]\ttraining's binary_logloss: 0.43219\tvalid_1's binary_logloss: 0.42398\n",
      "Training until validation scores don't improve for 1000 rounds\n",
      "Early stopping, best iteration is:\n",
      "[159]\ttraining's binary_logloss: 0.384764\tvalid_1's binary_logloss: 0.423633\n",
      "Training until validation scores don't improve for 1000 rounds\n",
      "Early stopping, best iteration is:\n",
      "[459]\ttraining's binary_logloss: 0.352694\tvalid_1's binary_logloss: 0.389848\n",
      "Training until validation scores don't improve for 1000 rounds\n",
      "Early stopping, best iteration is:\n",
      "[459]\ttraining's binary_logloss: 0.340905\tvalid_1's binary_logloss: 0.451495\n",
      "Training until validation scores don't improve for 1000 rounds\n",
      "Early stopping, best iteration is:\n",
      "[432]\ttraining's binary_logloss: 0.347699\tvalid_1's binary_logloss: 0.416176\n",
      "Training until validation scores don't improve for 1000 rounds\n"
     ]
    },
    {
     "name": "stderr",
     "output_type": "stream",
     "text": [
      "\u001b[32m[I 2021-10-02 20:08:46,871]\u001b[0m Trial 61 finished with value: 0.8226711560044894 and parameters: {'lambda_l1': 0.005986159908786912, 'lambda_l2': 0.016120276566192283, 'num_leaves': 5, 'feature_fraction': 0.4848121458898232, 'bagging_fraction': 0.6702058328845469, 'bagging_freq': 6, 'min_child_samples': 67, 'max_depth': 3}. Best is trial 5 with value: 0.8249158249158249.\u001b[0m\n"
     ]
    },
    {
     "name": "stdout",
     "output_type": "stream",
     "text": [
      "Early stopping, best iteration is:\n",
      "[32]\ttraining's binary_logloss: 0.430156\tvalid_1's binary_logloss: 0.426826\n",
      "Training until validation scores don't improve for 1000 rounds\n",
      "Early stopping, best iteration is:\n",
      "[596]\ttraining's binary_logloss: 0.351666\tvalid_1's binary_logloss: 0.419113\n",
      "Training until validation scores don't improve for 1000 rounds\n",
      "Early stopping, best iteration is:\n",
      "[402]\ttraining's binary_logloss: 0.368133\tvalid_1's binary_logloss: 0.391449\n",
      "Training until validation scores don't improve for 1000 rounds\n",
      "Early stopping, best iteration is:\n",
      "[429]\ttraining's binary_logloss: 0.353765\tvalid_1's binary_logloss: 0.444008\n",
      "Training until validation scores don't improve for 1000 rounds\n",
      "Early stopping, best iteration is:\n",
      "[680]\ttraining's binary_logloss: 0.338115\tvalid_1's binary_logloss: 0.420581\n",
      "Training until validation scores don't improve for 1000 rounds\n"
     ]
    },
    {
     "name": "stderr",
     "output_type": "stream",
     "text": [
      "\u001b[32m[I 2021-10-02 20:08:50,740]\u001b[0m Trial 62 finished with value: 0.8181818181818182 and parameters: {'lambda_l1': 0.0045067636613171395, 'lambda_l2': 0.0323608762970621, 'num_leaves': 4, 'feature_fraction': 0.43130571096592263, 'bagging_fraction': 0.5742257920305361, 'bagging_freq': 5, 'min_child_samples': 66, 'max_depth': 3}. Best is trial 5 with value: 0.8249158249158249.\u001b[0m\n"
     ]
    },
    {
     "name": "stdout",
     "output_type": "stream",
     "text": [
      "Early stopping, best iteration is:\n",
      "[60]\ttraining's binary_logloss: 0.417888\tvalid_1's binary_logloss: 0.42085\n",
      "Training until validation scores don't improve for 1000 rounds\n",
      "Early stopping, best iteration is:\n",
      "[906]\ttraining's binary_logloss: 0.328584\tvalid_1's binary_logloss: 0.414949\n",
      "Training until validation scores don't improve for 1000 rounds\n",
      "Early stopping, best iteration is:\n",
      "[804]\ttraining's binary_logloss: 0.335052\tvalid_1's binary_logloss: 0.386764\n",
      "Training until validation scores don't improve for 1000 rounds\n",
      "Early stopping, best iteration is:\n",
      "[450]\ttraining's binary_logloss: 0.34737\tvalid_1's binary_logloss: 0.450766\n",
      "Training until validation scores don't improve for 1000 rounds\n",
      "Early stopping, best iteration is:\n",
      "[451]\ttraining's binary_logloss: 0.351261\tvalid_1's binary_logloss: 0.411229\n",
      "Training until validation scores don't improve for 1000 rounds\n"
     ]
    },
    {
     "name": "stderr",
     "output_type": "stream",
     "text": [
      "\u001b[32m[I 2021-10-02 20:08:53,844]\u001b[0m Trial 63 finished with value: 0.8249158249158249 and parameters: {'lambda_l1': 0.0005886819247507138, 'lambda_l2': 0.011548106611840902, 'num_leaves': 4, 'feature_fraction': 0.4870545942708587, 'bagging_fraction': 0.6643644703619226, 'bagging_freq': 6, 'min_child_samples': 70, 'max_depth': 3}. Best is trial 5 with value: 0.8249158249158249.\u001b[0m\n"
     ]
    },
    {
     "name": "stdout",
     "output_type": "stream",
     "text": [
      "Early stopping, best iteration is:\n",
      "[32]\ttraining's binary_logloss: 0.436153\tvalid_1's binary_logloss: 0.426058\n",
      "Training until validation scores don't improve for 1000 rounds\n",
      "Early stopping, best iteration is:\n",
      "[969]\ttraining's binary_logloss: 0.344299\tvalid_1's binary_logloss: 0.413753\n",
      "Training until validation scores don't improve for 1000 rounds\n",
      "Early stopping, best iteration is:\n",
      "[457]\ttraining's binary_logloss: 0.376817\tvalid_1's binary_logloss: 0.398083\n",
      "Training until validation scores don't improve for 1000 rounds\n",
      "Early stopping, best iteration is:\n",
      "[690]\ttraining's binary_logloss: 0.34766\tvalid_1's binary_logloss: 0.444655\n",
      "Training until validation scores don't improve for 1000 rounds\n",
      "Early stopping, best iteration is:\n",
      "[824]\ttraining's binary_logloss: 0.345175\tvalid_1's binary_logloss: 0.413988\n",
      "Training until validation scores don't improve for 1000 rounds\n"
     ]
    },
    {
     "name": "stderr",
     "output_type": "stream",
     "text": [
      "\u001b[32m[I 2021-10-02 20:08:58,953]\u001b[0m Trial 64 finished with value: 0.8260381593714927 and parameters: {'lambda_l1': 0.0016116848963318474, 'lambda_l2': 0.017197373401043548, 'num_leaves': 9, 'feature_fraction': 0.48279186424058246, 'bagging_fraction': 0.6250814443361296, 'bagging_freq': 6, 'min_child_samples': 69, 'max_depth': 2}. Best is trial 64 with value: 0.8260381593714927.\u001b[0m\n"
     ]
    },
    {
     "name": "stdout",
     "output_type": "stream",
     "text": [
      "Early stopping, best iteration is:\n",
      "[136]\ttraining's binary_logloss: 0.407718\tvalid_1's binary_logloss: 0.421303\n",
      "Training until validation scores don't improve for 1000 rounds\n",
      "Early stopping, best iteration is:\n",
      "[721]\ttraining's binary_logloss: 0.355868\tvalid_1's binary_logloss: 0.419917\n",
      "Training until validation scores don't improve for 1000 rounds\n",
      "Early stopping, best iteration is:\n",
      "[523]\ttraining's binary_logloss: 0.369851\tvalid_1's binary_logloss: 0.401295\n",
      "Training until validation scores don't improve for 1000 rounds\n",
      "Early stopping, best iteration is:\n",
      "[575]\ttraining's binary_logloss: 0.353492\tvalid_1's binary_logloss: 0.442911\n",
      "Training until validation scores don't improve for 1000 rounds\n",
      "Early stopping, best iteration is:\n",
      "[682]\ttraining's binary_logloss: 0.354371\tvalid_1's binary_logloss: 0.41279\n",
      "Training until validation scores don't improve for 1000 rounds\n"
     ]
    },
    {
     "name": "stderr",
     "output_type": "stream",
     "text": [
      "\u001b[32m[I 2021-10-02 20:09:03,740]\u001b[0m Trial 65 finished with value: 0.813692480359147 and parameters: {'lambda_l1': 0.0016077227896979791, 'lambda_l2': 0.023146199410851744, 'num_leaves': 10, 'feature_fraction': 0.4830125692269888, 'bagging_fraction': 0.6251032798414284, 'bagging_freq': 5, 'min_child_samples': 69, 'max_depth': 2}. Best is trial 64 with value: 0.8260381593714927.\u001b[0m\n"
     ]
    },
    {
     "name": "stdout",
     "output_type": "stream",
     "text": [
      "Early stopping, best iteration is:\n",
      "[114]\ttraining's binary_logloss: 0.409545\tvalid_1's binary_logloss: 0.420905\n",
      "Training until validation scores don't improve for 1000 rounds\n",
      "Early stopping, best iteration is:\n",
      "[463]\ttraining's binary_logloss: 0.37047\tvalid_1's binary_logloss: 0.425669\n",
      "Training until validation scores don't improve for 1000 rounds\n",
      "Early stopping, best iteration is:\n",
      "[849]\ttraining's binary_logloss: 0.348669\tvalid_1's binary_logloss: 0.401282\n",
      "Training until validation scores don't improve for 1000 rounds\n",
      "Early stopping, best iteration is:\n",
      "[249]\ttraining's binary_logloss: 0.379011\tvalid_1's binary_logloss: 0.454303\n",
      "Training until validation scores don't improve for 1000 rounds\n",
      "Early stopping, best iteration is:\n",
      "[431]\ttraining's binary_logloss: 0.372118\tvalid_1's binary_logloss: 0.421934\n",
      "Training until validation scores don't improve for 1000 rounds\n"
     ]
    },
    {
     "name": "stderr",
     "output_type": "stream",
     "text": [
      "\u001b[32m[I 2021-10-02 20:09:08,386]\u001b[0m Trial 66 finished with value: 0.8069584736251403 and parameters: {'lambda_l1': 0.004978097484224344, 'lambda_l2': 0.007821257752916066, 'num_leaves': 5, 'feature_fraction': 0.5036089723933923, 'bagging_fraction': 0.6459215311413891, 'bagging_freq': 6, 'min_child_samples': 78, 'max_depth': 2}. Best is trial 64 with value: 0.8260381593714927.\u001b[0m\n"
     ]
    },
    {
     "name": "stdout",
     "output_type": "stream",
     "text": [
      "Early stopping, best iteration is:\n",
      "[35]\ttraining's binary_logloss: 0.434306\tvalid_1's binary_logloss: 0.42065\n",
      "Training until validation scores don't improve for 1000 rounds\n",
      "Early stopping, best iteration is:\n",
      "[1189]\ttraining's binary_logloss: 0.335888\tvalid_1's binary_logloss: 0.416468\n",
      "Training until validation scores don't improve for 1000 rounds\n",
      "Early stopping, best iteration is:\n",
      "[534]\ttraining's binary_logloss: 0.369005\tvalid_1's binary_logloss: 0.398574\n",
      "Training until validation scores don't improve for 1000 rounds\n",
      "Early stopping, best iteration is:\n",
      "[690]\ttraining's binary_logloss: 0.347098\tvalid_1's binary_logloss: 0.449632\n",
      "Training until validation scores don't improve for 1000 rounds\n",
      "Early stopping, best iteration is:\n",
      "[570]\ttraining's binary_logloss: 0.362456\tvalid_1's binary_logloss: 0.417285\n",
      "Training until validation scores don't improve for 1000 rounds\n"
     ]
    },
    {
     "name": "stderr",
     "output_type": "stream",
     "text": [
      "\u001b[32m[I 2021-10-02 20:09:14,570]\u001b[0m Trial 67 finished with value: 0.8204264870931538 and parameters: {'lambda_l1': 0.0007969309816905755, 'lambda_l2': 0.06972913214195633, 'num_leaves': 9, 'feature_fraction': 0.4664149814186562, 'bagging_fraction': 0.6648441170802392, 'bagging_freq': 6, 'min_child_samples': 73, 'max_depth': 2}. Best is trial 64 with value: 0.8260381593714927.\u001b[0m\n"
     ]
    },
    {
     "name": "stdout",
     "output_type": "stream",
     "text": [
      "Early stopping, best iteration is:\n",
      "[71]\ttraining's binary_logloss: 0.419225\tvalid_1's binary_logloss: 0.424211\n",
      "Training until validation scores don't improve for 1000 rounds\n",
      "Early stopping, best iteration is:\n",
      "[170]\ttraining's binary_logloss: 0.380691\tvalid_1's binary_logloss: 0.418079\n",
      "Training until validation scores don't improve for 1000 rounds\n",
      "Early stopping, best iteration is:\n",
      "[385]\ttraining's binary_logloss: 0.35648\tvalid_1's binary_logloss: 0.3892\n",
      "Training until validation scores don't improve for 1000 rounds\n",
      "Early stopping, best iteration is:\n",
      "[129]\ttraining's binary_logloss: 0.377701\tvalid_1's binary_logloss: 0.446775\n",
      "Training until validation scores don't improve for 1000 rounds\n",
      "Early stopping, best iteration is:\n",
      "[371]\ttraining's binary_logloss: 0.348411\tvalid_1's binary_logloss: 0.422982\n",
      "Training until validation scores don't improve for 1000 rounds\n"
     ]
    },
    {
     "name": "stderr",
     "output_type": "stream",
     "text": [
      "\u001b[32m[I 2021-10-02 20:09:17,079]\u001b[0m Trial 68 finished with value: 0.8159371492704826 and parameters: {'lambda_l1': 0.007598437450922701, 'lambda_l2': 0.22836122365390327, 'num_leaves': 6, 'feature_fraction': 0.54940102062417, 'bagging_fraction': 0.6174869355906499, 'bagging_freq': 5, 'min_child_samples': 70, 'max_depth': 4}. Best is trial 64 with value: 0.8260381593714927.\u001b[0m\n"
     ]
    },
    {
     "name": "stdout",
     "output_type": "stream",
     "text": [
      "Early stopping, best iteration is:\n",
      "[59]\ttraining's binary_logloss: 0.412048\tvalid_1's binary_logloss: 0.423473\n",
      "Training until validation scores don't improve for 1000 rounds\n",
      "Early stopping, best iteration is:\n",
      "[1188]\ttraining's binary_logloss: 0.398046\tvalid_1's binary_logloss: 0.424581\n",
      "Training until validation scores don't improve for 1000 rounds\n",
      "Early stopping, best iteration is:\n",
      "[628]\ttraining's binary_logloss: 0.414534\tvalid_1's binary_logloss: 0.419099\n",
      "Training until validation scores don't improve for 1000 rounds\n",
      "Early stopping, best iteration is:\n",
      "[1297]\ttraining's binary_logloss: 0.38978\tvalid_1's binary_logloss: 0.450616\n",
      "Training until validation scores don't improve for 1000 rounds\n",
      "Early stopping, best iteration is:\n",
      "[198]\ttraining's binary_logloss: 0.421335\tvalid_1's binary_logloss: 0.443788\n",
      "Training until validation scores don't improve for 1000 rounds\n"
     ]
    },
    {
     "name": "stderr",
     "output_type": "stream",
     "text": [
      "\u001b[32m[I 2021-10-02 20:09:20,627]\u001b[0m Trial 69 finished with value: 0.8092031425364759 and parameters: {'lambda_l1': 0.0033051119319732094, 'lambda_l2': 0.026355921714085854, 'num_leaves': 2, 'feature_fraction': 0.4165800819326486, 'bagging_fraction': 0.5443701623652872, 'bagging_freq': 6, 'min_child_samples': 72, 'max_depth': 2}. Best is trial 64 with value: 0.8260381593714927.\u001b[0m\n"
     ]
    },
    {
     "name": "stdout",
     "output_type": "stream",
     "text": [
      "Early stopping, best iteration is:\n",
      "[145]\ttraining's binary_logloss: 0.430256\tvalid_1's binary_logloss: 0.420191\n",
      "Training until validation scores don't improve for 1000 rounds\n",
      "Early stopping, best iteration is:\n",
      "[170]\ttraining's binary_logloss: 0.393172\tvalid_1's binary_logloss: 0.41075\n",
      "Training until validation scores don't improve for 1000 rounds\n",
      "Early stopping, best iteration is:\n",
      "[462]\ttraining's binary_logloss: 0.361684\tvalid_1's binary_logloss: 0.397119\n",
      "Training until validation scores don't improve for 1000 rounds\n",
      "Early stopping, best iteration is:\n",
      "[504]\ttraining's binary_logloss: 0.342237\tvalid_1's binary_logloss: 0.455044\n",
      "Training until validation scores don't improve for 1000 rounds\n",
      "Early stopping, best iteration is:\n",
      "[431]\ttraining's binary_logloss: 0.355043\tvalid_1's binary_logloss: 0.420868\n",
      "Training until validation scores don't improve for 1000 rounds\n"
     ]
    },
    {
     "name": "stderr",
     "output_type": "stream",
     "text": [
      "\u001b[32m[I 2021-10-02 20:09:26,400]\u001b[0m Trial 70 finished with value: 0.8181818181818182 and parameters: {'lambda_l1': 0.0011915735331308641, 'lambda_l2': 0.006023603894536259, 'num_leaves': 15, 'feature_fraction': 0.5000927377801451, 'bagging_fraction': 0.5881640472964901, 'bagging_freq': 6, 'min_child_samples': 75, 'max_depth': 4}. Best is trial 64 with value: 0.8260381593714927.\u001b[0m\n"
     ]
    },
    {
     "name": "stdout",
     "output_type": "stream",
     "text": [
      "Early stopping, best iteration is:\n",
      "[71]\ttraining's binary_logloss: 0.416454\tvalid_1's binary_logloss: 0.421994\n",
      "Training until validation scores don't improve for 1000 rounds\n",
      "Early stopping, best iteration is:\n",
      "[247]\ttraining's binary_logloss: 0.362916\tvalid_1's binary_logloss: 0.42365\n",
      "Training until validation scores don't improve for 1000 rounds\n",
      "Early stopping, best iteration is:\n",
      "[389]\ttraining's binary_logloss: 0.34836\tvalid_1's binary_logloss: 0.393575\n",
      "Training until validation scores don't improve for 1000 rounds\n",
      "Early stopping, best iteration is:\n",
      "[244]\ttraining's binary_logloss: 0.356265\tvalid_1's binary_logloss: 0.445688\n",
      "Training until validation scores don't improve for 1000 rounds\n",
      "Early stopping, best iteration is:\n",
      "[332]\ttraining's binary_logloss: 0.351325\tvalid_1's binary_logloss: 0.415708\n",
      "Training until validation scores don't improve for 1000 rounds\n"
     ]
    },
    {
     "name": "stderr",
     "output_type": "stream",
     "text": [
      "\u001b[32m[I 2021-10-02 20:09:32,879]\u001b[0m Trial 71 finished with value: 0.8249158249158249 and parameters: {'lambda_l1': 0.11461155763343435, 'lambda_l2': 0.014295070439882528, 'num_leaves': 20, 'feature_fraction': 0.46559776308301587, 'bagging_fraction': 0.8017363853812383, 'bagging_freq': 7, 'min_child_samples': 63, 'max_depth': 3}. Best is trial 64 with value: 0.8260381593714927.\u001b[0m\n"
     ]
    },
    {
     "name": "stdout",
     "output_type": "stream",
     "text": [
      "Early stopping, best iteration is:\n",
      "[40]\ttraining's binary_logloss: 0.415068\tvalid_1's binary_logloss: 0.422084\n",
      "Training until validation scores don't improve for 1000 rounds\n",
      "Early stopping, best iteration is:\n",
      "[84]\ttraining's binary_logloss: 0.39191\tvalid_1's binary_logloss: 0.424994\n",
      "Training until validation scores don't improve for 1000 rounds\n",
      "Early stopping, best iteration is:\n",
      "[320]\ttraining's binary_logloss: 0.357662\tvalid_1's binary_logloss: 0.392447\n",
      "Training until validation scores don't improve for 1000 rounds\n",
      "Early stopping, best iteration is:\n",
      "[559]\ttraining's binary_logloss: 0.32015\tvalid_1's binary_logloss: 0.450367\n",
      "Training until validation scores don't improve for 1000 rounds\n",
      "Early stopping, best iteration is:\n",
      "[251]\ttraining's binary_logloss: 0.361076\tvalid_1's binary_logloss: 0.416602\n",
      "Training until validation scores don't improve for 1000 rounds\n"
     ]
    },
    {
     "name": "stderr",
     "output_type": "stream",
     "text": [
      "\u001b[32m[I 2021-10-02 20:09:37,776]\u001b[0m Trial 72 finished with value: 0.8204264870931538 and parameters: {'lambda_l1': 0.07378118385801927, 'lambda_l2': 0.017623153641024545, 'num_leaves': 18, 'feature_fraction': 0.4612357895176522, 'bagging_fraction': 0.808843331233118, 'bagging_freq': 7, 'min_child_samples': 63, 'max_depth': 3}. Best is trial 64 with value: 0.8260381593714927.\u001b[0m\n"
     ]
    },
    {
     "name": "stdout",
     "output_type": "stream",
     "text": [
      "Early stopping, best iteration is:\n",
      "[40]\ttraining's binary_logloss: 0.41474\tvalid_1's binary_logloss: 0.42195\n",
      "Training until validation scores don't improve for 1000 rounds\n",
      "Early stopping, best iteration is:\n",
      "[696]\ttraining's binary_logloss: 0.321534\tvalid_1's binary_logloss: 0.422238\n",
      "Training until validation scores don't improve for 1000 rounds\n",
      "Early stopping, best iteration is:\n",
      "[450]\ttraining's binary_logloss: 0.342474\tvalid_1's binary_logloss: 0.387371\n",
      "Training until validation scores don't improve for 1000 rounds\n",
      "Early stopping, best iteration is:\n",
      "[227]\ttraining's binary_logloss: 0.358086\tvalid_1's binary_logloss: 0.451094\n",
      "Training until validation scores don't improve for 1000 rounds\n",
      "Early stopping, best iteration is:\n",
      "[319]\ttraining's binary_logloss: 0.351884\tvalid_1's binary_logloss: 0.411718\n",
      "Training until validation scores don't improve for 1000 rounds\n"
     ]
    },
    {
     "name": "stderr",
     "output_type": "stream",
     "text": [
      "\u001b[32m[I 2021-10-02 20:09:41,444]\u001b[0m Trial 73 finished with value: 0.819304152637486 and parameters: {'lambda_l1': 0.0005562064947428914, 'lambda_l2': 0.0429924919931128, 'num_leaves': 30, 'feature_fraction': 0.4426889473226368, 'bagging_fraction': 0.8365019926950564, 'bagging_freq': 6, 'min_child_samples': 68, 'max_depth': 3}. Best is trial 64 with value: 0.8260381593714927.\u001b[0m\n"
     ]
    },
    {
     "name": "stdout",
     "output_type": "stream",
     "text": [
      "Early stopping, best iteration is:\n",
      "[40]\ttraining's binary_logloss: 0.414137\tvalid_1's binary_logloss: 0.426442\n",
      "Training until validation scores don't improve for 1000 rounds\n",
      "Early stopping, best iteration is:\n",
      "[39]\ttraining's binary_logloss: 0.412644\tvalid_1's binary_logloss: 0.420895\n",
      "Training until validation scores don't improve for 1000 rounds\n",
      "Early stopping, best iteration is:\n",
      "[315]\ttraining's binary_logloss: 0.353126\tvalid_1's binary_logloss: 0.395191\n",
      "Training until validation scores don't improve for 1000 rounds\n",
      "Early stopping, best iteration is:\n",
      "[181]\ttraining's binary_logloss: 0.360869\tvalid_1's binary_logloss: 0.447053\n",
      "Training until validation scores don't improve for 1000 rounds\n",
      "Early stopping, best iteration is:\n",
      "[185]\ttraining's binary_logloss: 0.367203\tvalid_1's binary_logloss: 0.415462\n",
      "Training until validation scores don't improve for 1000 rounds\n"
     ]
    },
    {
     "name": "stderr",
     "output_type": "stream",
     "text": [
      "\u001b[32m[I 2021-10-02 20:09:45,148]\u001b[0m Trial 74 finished with value: 0.8125701459034792 and parameters: {'lambda_l1': 0.1593928009471811, 'lambda_l2': 0.0028278361420377525, 'num_leaves': 21, 'feature_fraction': 0.5210470268379143, 'bagging_fraction': 0.6799699019047161, 'bagging_freq': 7, 'min_child_samples': 57, 'max_depth': 3}. Best is trial 64 with value: 0.8260381593714927.\u001b[0m\n"
     ]
    },
    {
     "name": "stdout",
     "output_type": "stream",
     "text": [
      "Early stopping, best iteration is:\n",
      "[47]\ttraining's binary_logloss: 0.411048\tvalid_1's binary_logloss: 0.419924\n",
      "Training until validation scores don't improve for 1000 rounds\n",
      "Early stopping, best iteration is:\n",
      "[605]\ttraining's binary_logloss: 0.333767\tvalid_1's binary_logloss: 0.416539\n",
      "Training until validation scores don't improve for 1000 rounds\n",
      "Early stopping, best iteration is:\n",
      "[355]\ttraining's binary_logloss: 0.358992\tvalid_1's binary_logloss: 0.39525\n",
      "Training until validation scores don't improve for 1000 rounds\n",
      "Early stopping, best iteration is:\n",
      "[344]\ttraining's binary_logloss: 0.34975\tvalid_1's binary_logloss: 0.44899\n",
      "Training until validation scores don't improve for 1000 rounds\n",
      "Early stopping, best iteration is:\n",
      "[548]\ttraining's binary_logloss: 0.33469\tvalid_1's binary_logloss: 0.418867\n",
      "Training until validation scores don't improve for 1000 rounds\n"
     ]
    },
    {
     "name": "stderr",
     "output_type": "stream",
     "text": [
      "\u001b[32m[I 2021-10-02 20:09:48,684]\u001b[0m Trial 75 finished with value: 0.8215488215488216 and parameters: {'lambda_l1': 0.001418434938439685, 'lambda_l2': 0.014562750965010241, 'num_leaves': 12, 'feature_fraction': 0.46844947808354187, 'bagging_fraction': 0.6640496245655134, 'bagging_freq': 4, 'min_child_samples': 64, 'max_depth': 3}. Best is trial 64 with value: 0.8260381593714927.\u001b[0m\n"
     ]
    },
    {
     "name": "stdout",
     "output_type": "stream",
     "text": [
      "Early stopping, best iteration is:\n",
      "[92]\ttraining's binary_logloss: 0.397116\tvalid_1's binary_logloss: 0.427773\n",
      "Training until validation scores don't improve for 1000 rounds\n",
      "Early stopping, best iteration is:\n",
      "[119]\ttraining's binary_logloss: 0.390791\tvalid_1's binary_logloss: 0.420227\n",
      "Training until validation scores don't improve for 1000 rounds\n",
      "Early stopping, best iteration is:\n",
      "[670]\ttraining's binary_logloss: 0.331213\tvalid_1's binary_logloss: 0.392634\n",
      "Training until validation scores don't improve for 1000 rounds\n",
      "Early stopping, best iteration is:\n",
      "[135]\ttraining's binary_logloss: 0.377864\tvalid_1's binary_logloss: 0.448153\n",
      "Training until validation scores don't improve for 1000 rounds\n",
      "Early stopping, best iteration is:\n",
      "[372]\ttraining's binary_logloss: 0.350479\tvalid_1's binary_logloss: 0.418193\n",
      "Training until validation scores don't improve for 1000 rounds\n"
     ]
    },
    {
     "name": "stderr",
     "output_type": "stream",
     "text": [
      "\u001b[32m[I 2021-10-02 20:09:51,021]\u001b[0m Trial 76 finished with value: 0.8159371492704826 and parameters: {'lambda_l1': 0.12417851920148058, 'lambda_l2': 0.12159096105342482, 'num_leaves': 8, 'feature_fraction': 0.5071640331713686, 'bagging_fraction': 0.6446209278582135, 'bagging_freq': 5, 'min_child_samples': 69, 'max_depth': 3}. Best is trial 64 with value: 0.8260381593714927.\u001b[0m\n"
     ]
    },
    {
     "name": "stdout",
     "output_type": "stream",
     "text": [
      "Early stopping, best iteration is:\n",
      "[59]\ttraining's binary_logloss: 0.413519\tvalid_1's binary_logloss: 0.428422\n",
      "Training until validation scores don't improve for 1000 rounds\n",
      "Early stopping, best iteration is:\n",
      "[1607]\ttraining's binary_logloss: 0.389533\tvalid_1's binary_logloss: 0.431293\n",
      "Training until validation scores don't improve for 1000 rounds\n",
      "Early stopping, best iteration is:\n",
      "[3762]\ttraining's binary_logloss: 0.377309\tvalid_1's binary_logloss: 0.402609\n",
      "Training until validation scores don't improve for 1000 rounds\n",
      "Early stopping, best iteration is:\n",
      "[2866]\ttraining's binary_logloss: 0.370815\tvalid_1's binary_logloss: 0.445129\n",
      "Training until validation scores don't improve for 1000 rounds\n",
      "Early stopping, best iteration is:\n",
      "[253]\ttraining's binary_logloss: 0.416174\tvalid_1's binary_logloss: 0.440673\n",
      "Training until validation scores don't improve for 1000 rounds\n"
     ]
    },
    {
     "name": "stderr",
     "output_type": "stream",
     "text": [
      "\u001b[32m[I 2021-10-02 20:09:55,333]\u001b[0m Trial 77 finished with value: 0.8058361391694725 and parameters: {'lambda_l1': 0.6072770539259534, 'lambda_l2': 0.009389231174407502, 'num_leaves': 2, 'feature_fraction': 0.4229283728221017, 'bagging_fraction': 0.7980657386877628, 'bagging_freq': 6, 'min_child_samples': 77, 'max_depth': 5}. Best is trial 64 with value: 0.8260381593714927.\u001b[0m\n"
     ]
    },
    {
     "name": "stdout",
     "output_type": "stream",
     "text": [
      "Early stopping, best iteration is:\n",
      "[132]\ttraining's binary_logloss: 0.429292\tvalid_1's binary_logloss: 0.422377\n",
      "Training until validation scores don't improve for 1000 rounds\n",
      "Early stopping, best iteration is:\n",
      "[250]\ttraining's binary_logloss: 0.366194\tvalid_1's binary_logloss: 0.412595\n",
      "Training until validation scores don't improve for 1000 rounds\n",
      "Early stopping, best iteration is:\n",
      "[538]\ttraining's binary_logloss: 0.342269\tvalid_1's binary_logloss: 0.394463\n",
      "Training until validation scores don't improve for 1000 rounds\n",
      "Early stopping, best iteration is:\n",
      "[510]\ttraining's binary_logloss: 0.331077\tvalid_1's binary_logloss: 0.445489\n",
      "Training until validation scores don't improve for 1000 rounds\n",
      "Early stopping, best iteration is:\n",
      "[203]\ttraining's binary_logloss: 0.372559\tvalid_1's binary_logloss: 0.420134\n",
      "Training until validation scores don't improve for 1000 rounds\n"
     ]
    },
    {
     "name": "stderr",
     "output_type": "stream",
     "text": [
      "\u001b[32m[I 2021-10-02 20:09:58,947]\u001b[0m Trial 78 finished with value: 0.819304152637486 and parameters: {'lambda_l1': 1.0635418188907774e-05, 'lambda_l2': 0.6298135972932781, 'num_leaves': 33, 'feature_fraction': 0.4478158461968102, 'bagging_fraction': 0.5901852016025003, 'bagging_freq': 7, 'min_child_samples': 59, 'max_depth': 4}. Best is trial 64 with value: 0.8260381593714927.\u001b[0m\n"
     ]
    },
    {
     "name": "stdout",
     "output_type": "stream",
     "text": [
      "Early stopping, best iteration is:\n",
      "[84]\ttraining's binary_logloss: 0.403427\tvalid_1's binary_logloss: 0.421525\n",
      "Training until validation scores don't improve for 1000 rounds\n",
      "Early stopping, best iteration is:\n",
      "[677]\ttraining's binary_logloss: 0.347397\tvalid_1's binary_logloss: 0.420224\n",
      "Training until validation scores don't improve for 1000 rounds\n",
      "Early stopping, best iteration is:\n",
      "[450]\ttraining's binary_logloss: 0.363912\tvalid_1's binary_logloss: 0.395061\n",
      "Training until validation scores don't improve for 1000 rounds\n",
      "Early stopping, best iteration is:\n",
      "[613]\ttraining's binary_logloss: 0.344629\tvalid_1's binary_logloss: 0.448711\n",
      "Training until validation scores don't improve for 1000 rounds\n",
      "Early stopping, best iteration is:\n",
      "[445]\ttraining's binary_logloss: 0.361621\tvalid_1's binary_logloss: 0.406737\n",
      "Training until validation scores don't improve for 1000 rounds\n"
     ]
    },
    {
     "name": "stderr",
     "output_type": "stream",
     "text": [
      "\u001b[32m[I 2021-10-02 20:10:01,648]\u001b[0m Trial 79 finished with value: 0.8249158249158249 and parameters: {'lambda_l1': 0.002029523515374553, 'lambda_l2': 0.004409569571518833, 'num_leaves': 12, 'feature_fraction': 0.4719673759132403, 'bagging_fraction': 0.8564963530607408, 'bagging_freq': 6, 'min_child_samples': 71, 'max_depth': 2}. Best is trial 64 with value: 0.8260381593714927.\u001b[0m\n"
     ]
    },
    {
     "name": "stdout",
     "output_type": "stream",
     "text": [
      "Early stopping, best iteration is:\n",
      "[36]\ttraining's binary_logloss: 0.427733\tvalid_1's binary_logloss: 0.422651\n",
      "Training until validation scores don't improve for 1000 rounds\n",
      "Early stopping, best iteration is:\n",
      "[997]\ttraining's binary_logloss: 0.350742\tvalid_1's binary_logloss: 0.42306\n",
      "Training until validation scores don't improve for 1000 rounds\n",
      "Early stopping, best iteration is:\n",
      "[457]\ttraining's binary_logloss: 0.381055\tvalid_1's binary_logloss: 0.398468\n",
      "Training until validation scores don't improve for 1000 rounds\n",
      "Early stopping, best iteration is:\n",
      "[1568]\ttraining's binary_logloss: 0.329431\tvalid_1's binary_logloss: 0.450845\n",
      "Training until validation scores don't improve for 1000 rounds\n",
      "Early stopping, best iteration is:\n",
      "[924]\ttraining's binary_logloss: 0.353471\tvalid_1's binary_logloss: 0.416411\n",
      "Training until validation scores don't improve for 1000 rounds\n"
     ]
    },
    {
     "name": "stderr",
     "output_type": "stream",
     "text": [
      "\u001b[32m[I 2021-10-02 20:10:04,645]\u001b[0m Trial 80 finished with value: 0.8226711560044894 and parameters: {'lambda_l1': 1.2372222178303474, 'lambda_l2': 0.004949241824419122, 'num_leaves': 13, 'feature_fraction': 0.4051685423619936, 'bagging_fraction': 0.8642068119723949, 'bagging_freq': 7, 'min_child_samples': 72, 'max_depth': 2}. Best is trial 64 with value: 0.8260381593714927.\u001b[0m\n"
     ]
    },
    {
     "name": "stdout",
     "output_type": "stream",
     "text": [
      "Early stopping, best iteration is:\n",
      "[40]\ttraining's binary_logloss: 0.42601\tvalid_1's binary_logloss: 0.420454\n",
      "Training until validation scores don't improve for 1000 rounds\n",
      "Early stopping, best iteration is:\n",
      "[839]\ttraining's binary_logloss: 0.355635\tvalid_1's binary_logloss: 0.422227\n",
      "Training until validation scores don't improve for 1000 rounds\n",
      "Early stopping, best iteration is:\n",
      "[787]\ttraining's binary_logloss: 0.362674\tvalid_1's binary_logloss: 0.394396\n",
      "Training until validation scores don't improve for 1000 rounds\n",
      "Early stopping, best iteration is:\n",
      "[794]\ttraining's binary_logloss: 0.351884\tvalid_1's binary_logloss: 0.448966\n",
      "Training until validation scores don't improve for 1000 rounds\n",
      "Early stopping, best iteration is:\n",
      "[934]\ttraining's binary_logloss: 0.350909\tvalid_1's binary_logloss: 0.415047\n",
      "Training until validation scores don't improve for 1000 rounds\n"
     ]
    },
    {
     "name": "stderr",
     "output_type": "stream",
     "text": [
      "\u001b[32m[I 2021-10-02 20:10:07,519]\u001b[0m Trial 81 finished with value: 0.8204264870931538 and parameters: {'lambda_l1': 1.210469775989835, 'lambda_l2': 0.006126923704526115, 'num_leaves': 12, 'feature_fraction': 0.42713572799310245, 'bagging_fraction': 0.8744626924447965, 'bagging_freq': 7, 'min_child_samples': 70, 'max_depth': 2}. Best is trial 64 with value: 0.8260381593714927.\u001b[0m\n"
     ]
    },
    {
     "name": "stdout",
     "output_type": "stream",
     "text": [
      "Early stopping, best iteration is:\n",
      "[84]\ttraining's binary_logloss: 0.408375\tvalid_1's binary_logloss: 0.418612\n",
      "Training until validation scores don't improve for 1000 rounds\n",
      "Early stopping, best iteration is:\n",
      "[39]\ttraining's binary_logloss: 0.42278\tvalid_1's binary_logloss: 0.425389\n",
      "Training until validation scores don't improve for 1000 rounds\n",
      "Early stopping, best iteration is:\n",
      "[450]\ttraining's binary_logloss: 0.360519\tvalid_1's binary_logloss: 0.392279\n",
      "Training until validation scores don't improve for 1000 rounds\n",
      "Early stopping, best iteration is:\n",
      "[227]\ttraining's binary_logloss: 0.371522\tvalid_1's binary_logloss: 0.449046\n",
      "Training until validation scores don't improve for 1000 rounds\n",
      "Early stopping, best iteration is:\n",
      "[444]\ttraining's binary_logloss: 0.35974\tvalid_1's binary_logloss: 0.406234\n",
      "Training until validation scores don't improve for 1000 rounds\n"
     ]
    },
    {
     "name": "stderr",
     "output_type": "stream",
     "text": [
      "\u001b[32m[I 2021-10-02 20:10:09,580]\u001b[0m Trial 82 finished with value: 0.8181818181818182 and parameters: {'lambda_l1': 0.0023057629051233537, 'lambda_l2': 0.01881130613543785, 'num_leaves': 7, 'feature_fraction': 0.48006209884616446, 'bagging_fraction': 0.8397537942721778, 'bagging_freq': 6, 'min_child_samples': 65, 'max_depth': 2}. Best is trial 64 with value: 0.8260381593714927.\u001b[0m\n"
     ]
    },
    {
     "name": "stdout",
     "output_type": "stream",
     "text": [
      "Early stopping, best iteration is:\n",
      "[40]\ttraining's binary_logloss: 0.422562\tvalid_1's binary_logloss: 0.423338\n",
      "Training until validation scores don't improve for 1000 rounds\n",
      "Early stopping, best iteration is:\n",
      "[793]\ttraining's binary_logloss: 0.350196\tvalid_1's binary_logloss: 0.425089\n",
      "Training until validation scores don't improve for 1000 rounds\n",
      "Early stopping, best iteration is:\n",
      "[569]\ttraining's binary_logloss: 0.367938\tvalid_1's binary_logloss: 0.398122\n",
      "Training until validation scores don't improve for 1000 rounds\n",
      "Early stopping, best iteration is:\n",
      "[720]\ttraining's binary_logloss: 0.348906\tvalid_1's binary_logloss: 0.44642\n",
      "Training until validation scores don't improve for 1000 rounds\n",
      "Early stopping, best iteration is:\n",
      "[522]\ttraining's binary_logloss: 0.363928\tvalid_1's binary_logloss: 0.416103\n",
      "Training until validation scores don't improve for 1000 rounds\n"
     ]
    },
    {
     "name": "stderr",
     "output_type": "stream",
     "text": [
      "\u001b[32m[I 2021-10-02 20:10:12,091]\u001b[0m Trial 83 finished with value: 0.8271604938271605 and parameters: {'lambda_l1': 0.6043319259737905, 'lambda_l2': 0.002802289292840519, 'num_leaves': 15, 'feature_fraction': 0.40515811396792195, 'bagging_fraction': 0.8508822113345822, 'bagging_freq': 7, 'min_child_samples': 74, 'max_depth': 2}. Best is trial 83 with value: 0.8271604938271605.\u001b[0m\n"
     ]
    },
    {
     "name": "stdout",
     "output_type": "stream",
     "text": [
      "Early stopping, best iteration is:\n",
      "[40]\ttraining's binary_logloss: 0.427019\tvalid_1's binary_logloss: 0.422544\n",
      "Training until validation scores don't improve for 1000 rounds\n",
      "Early stopping, best iteration is:\n",
      "[1359]\ttraining's binary_logloss: 0.323003\tvalid_1's binary_logloss: 0.420777\n",
      "Training until validation scores don't improve for 1000 rounds\n",
      "Early stopping, best iteration is:\n",
      "[644]\ttraining's binary_logloss: 0.356105\tvalid_1's binary_logloss: 0.396281\n",
      "Training until validation scores don't improve for 1000 rounds\n",
      "Early stopping, best iteration is:\n",
      "[723]\ttraining's binary_logloss: 0.342025\tvalid_1's binary_logloss: 0.443639\n",
      "Training until validation scores don't improve for 1000 rounds\n",
      "Early stopping, best iteration is:\n",
      "[521]\ttraining's binary_logloss: 0.360018\tvalid_1's binary_logloss: 0.415208\n",
      "Training until validation scores don't improve for 1000 rounds\n"
     ]
    },
    {
     "name": "stderr",
     "output_type": "stream",
     "text": [
      "\u001b[32m[I 2021-10-02 20:10:14,592]\u001b[0m Trial 84 finished with value: 0.8271604938271605 and parameters: {'lambda_l1': 0.224593907492361, 'lambda_l2': 0.002265829104998683, 'num_leaves': 20, 'feature_fraction': 0.5935026835622514, 'bagging_fraction': 0.8184023035934413, 'bagging_freq': 7, 'min_child_samples': 80, 'max_depth': 2}. Best is trial 83 with value: 0.8271604938271605.\u001b[0m\n"
     ]
    },
    {
     "name": "stdout",
     "output_type": "stream",
     "text": [
      "Early stopping, best iteration is:\n",
      "[38]\ttraining's binary_logloss: 0.424472\tvalid_1's binary_logloss: 0.418685\n",
      "Training until validation scores don't improve for 1000 rounds\n",
      "Early stopping, best iteration is:\n",
      "[41]\ttraining's binary_logloss: 0.416841\tvalid_1's binary_logloss: 0.423957\n",
      "Training until validation scores don't improve for 1000 rounds\n",
      "Early stopping, best iteration is:\n",
      "[364]\ttraining's binary_logloss: 0.374983\tvalid_1's binary_logloss: 0.395749\n",
      "Training until validation scores don't improve for 1000 rounds\n",
      "Early stopping, best iteration is:\n",
      "[713]\ttraining's binary_logloss: 0.339115\tvalid_1's binary_logloss: 0.450935\n",
      "Training until validation scores don't improve for 1000 rounds\n",
      "Early stopping, best iteration is:\n",
      "[333]\ttraining's binary_logloss: 0.372925\tvalid_1's binary_logloss: 0.415831\n",
      "Training until validation scores don't improve for 1000 rounds\n"
     ]
    },
    {
     "name": "stderr",
     "output_type": "stream",
     "text": [
      "\u001b[32m[I 2021-10-02 20:10:16,341]\u001b[0m Trial 85 finished with value: 0.8114478114478114 and parameters: {'lambda_l1': 0.25953896356471545, 'lambda_l2': 0.009573264165795856, 'num_leaves': 16, 'feature_fraction': 0.5842537750096048, 'bagging_fraction': 0.8951872270215867, 'bagging_freq': 7, 'min_child_samples': 80, 'max_depth': 2}. Best is trial 83 with value: 0.8271604938271605.\u001b[0m\n"
     ]
    },
    {
     "name": "stdout",
     "output_type": "stream",
     "text": [
      "Early stopping, best iteration is:\n",
      "[40]\ttraining's binary_logloss: 0.420603\tvalid_1's binary_logloss: 0.419202\n",
      "Training until validation scores don't improve for 1000 rounds\n",
      "Early stopping, best iteration is:\n",
      "[56]\ttraining's binary_logloss: 0.42032\tvalid_1's binary_logloss: 0.423797\n",
      "Training until validation scores don't improve for 1000 rounds\n",
      "Early stopping, best iteration is:\n",
      "[1652]\ttraining's binary_logloss: 0.356244\tvalid_1's binary_logloss: 0.400626\n",
      "Training until validation scores don't improve for 1000 rounds\n",
      "Early stopping, best iteration is:\n",
      "[929]\ttraining's binary_logloss: 0.362514\tvalid_1's binary_logloss: 0.451495\n",
      "Training until validation scores don't improve for 1000 rounds\n",
      "Early stopping, best iteration is:\n",
      "[1583]\ttraining's binary_logloss: 0.353576\tvalid_1's binary_logloss: 0.42132\n",
      "Training until validation scores don't improve for 1000 rounds\n"
     ]
    },
    {
     "name": "stderr",
     "output_type": "stream",
     "text": [
      "\u001b[32m[I 2021-10-02 20:10:20,122]\u001b[0m Trial 86 finished with value: 0.813692480359147 and parameters: {'lambda_l1': 2.177432481944168, 'lambda_l2': 0.003958573552339018, 'num_leaves': 22, 'feature_fraction': 0.5397794927415396, 'bagging_fraction': 0.8182878964519555, 'bagging_freq': 8, 'min_child_samples': 83, 'max_depth': 2}. Best is trial 83 with value: 0.8271604938271605.\u001b[0m\n"
     ]
    },
    {
     "name": "stdout",
     "output_type": "stream",
     "text": [
      "Early stopping, best iteration is:\n",
      "[45]\ttraining's binary_logloss: 0.424843\tvalid_1's binary_logloss: 0.417119\n",
      "Training until validation scores don't improve for 1000 rounds\n",
      "Early stopping, best iteration is:\n",
      "[45]\ttraining's binary_logloss: 0.414858\tvalid_1's binary_logloss: 0.422029\n",
      "Training until validation scores don't improve for 1000 rounds\n",
      "Early stopping, best iteration is:\n",
      "[581]\ttraining's binary_logloss: 0.360002\tvalid_1's binary_logloss: 0.396405\n",
      "Training until validation scores don't improve for 1000 rounds\n",
      "Early stopping, best iteration is:\n",
      "[715]\ttraining's binary_logloss: 0.341631\tvalid_1's binary_logloss: 0.447564\n",
      "Training until validation scores don't improve for 1000 rounds\n",
      "Early stopping, best iteration is:\n",
      "[246]\ttraining's binary_logloss: 0.380436\tvalid_1's binary_logloss: 0.415947\n",
      "Training until validation scores don't improve for 1000 rounds\n"
     ]
    },
    {
     "name": "stderr",
     "output_type": "stream",
     "text": [
      "\u001b[32m[I 2021-10-02 20:10:22,200]\u001b[0m Trial 87 finished with value: 0.8092031425364759 and parameters: {'lambda_l1': 0.46349252460013, 'lambda_l2': 0.0026812147590312293, 'num_leaves': 19, 'feature_fraction': 0.5173121407600576, 'bagging_fraction': 0.8462446773198198, 'bagging_freq': 7, 'min_child_samples': 76, 'max_depth': 2}. Best is trial 83 with value: 0.8271604938271605.\u001b[0m\n"
     ]
    },
    {
     "name": "stdout",
     "output_type": "stream",
     "text": [
      "Early stopping, best iteration is:\n",
      "[38]\ttraining's binary_logloss: 0.423642\tvalid_1's binary_logloss: 0.422063\n",
      "Training until validation scores don't improve for 1000 rounds\n",
      "Early stopping, best iteration is:\n",
      "[45]\ttraining's binary_logloss: 0.419514\tvalid_1's binary_logloss: 0.425194\n",
      "Training until validation scores don't improve for 1000 rounds\n",
      "Early stopping, best iteration is:\n",
      "[644]\ttraining's binary_logloss: 0.354785\tvalid_1's binary_logloss: 0.394211\n",
      "Training until validation scores don't improve for 1000 rounds\n",
      "Early stopping, best iteration is:\n",
      "[750]\ttraining's binary_logloss: 0.337903\tvalid_1's binary_logloss: 0.447758\n",
      "Training until validation scores don't improve for 1000 rounds\n",
      "Early stopping, best iteration is:\n",
      "[513]\ttraining's binary_logloss: 0.361169\tvalid_1's binary_logloss: 0.417764\n",
      "Training until validation scores don't improve for 1000 rounds\n"
     ]
    },
    {
     "name": "stderr",
     "output_type": "stream",
     "text": [
      "\u001b[32m[I 2021-10-02 20:10:25,094]\u001b[0m Trial 88 finished with value: 0.8125701459034792 and parameters: {'lambda_l1': 0.09302275175610793, 'lambda_l2': 0.0023111565013160975, 'num_leaves': 26, 'feature_fraction': 0.5958113956715261, 'bagging_fraction': 0.7714851982581064, 'bagging_freq': 7, 'min_child_samples': 79, 'max_depth': 2}. Best is trial 83 with value: 0.8271604938271605.\u001b[0m\n"
     ]
    },
    {
     "name": "stdout",
     "output_type": "stream",
     "text": [
      "Early stopping, best iteration is:\n",
      "[38]\ttraining's binary_logloss: 0.426763\tvalid_1's binary_logloss: 0.425067\n",
      "Training until validation scores don't improve for 1000 rounds\n",
      "Early stopping, best iteration is:\n",
      "[565]\ttraining's binary_logloss: 0.355574\tvalid_1's binary_logloss: 0.427641\n",
      "Training until validation scores don't improve for 1000 rounds\n",
      "Early stopping, best iteration is:\n",
      "[645]\ttraining's binary_logloss: 0.356024\tvalid_1's binary_logloss: 0.396126\n",
      "Training until validation scores don't improve for 1000 rounds\n",
      "Early stopping, best iteration is:\n",
      "[478]\ttraining's binary_logloss: 0.355829\tvalid_1's binary_logloss: 0.445182\n",
      "Training until validation scores don't improve for 1000 rounds\n",
      "Early stopping, best iteration is:\n",
      "[665]\ttraining's binary_logloss: 0.351042\tvalid_1's binary_logloss: 0.410081\n",
      "Training until validation scores don't improve for 1000 rounds\n"
     ]
    },
    {
     "name": "stderr",
     "output_type": "stream",
     "text": [
      "\u001b[32m[I 2021-10-02 20:10:27,472]\u001b[0m Trial 89 finished with value: 0.8204264870931538 and parameters: {'lambda_l1': 0.049326255154979765, 'lambda_l2': 0.0010190773840170894, 'num_leaves': 23, 'feature_fraction': 0.4548460407850115, 'bagging_fraction': 0.8811063441763289, 'bagging_freq': 5, 'min_child_samples': 74, 'max_depth': 2}. Best is trial 83 with value: 0.8271604938271605.\u001b[0m\n"
     ]
    },
    {
     "name": "stdout",
     "output_type": "stream",
     "text": [
      "Early stopping, best iteration is:\n",
      "[61]\ttraining's binary_logloss: 0.415109\tvalid_1's binary_logloss: 0.422495\n",
      "Training until validation scores don't improve for 1000 rounds\n",
      "Early stopping, best iteration is:\n",
      "[906]\ttraining's binary_logloss: 0.34498\tvalid_1's binary_logloss: 0.421211\n",
      "Training until validation scores don't improve for 1000 rounds\n",
      "Early stopping, best iteration is:\n",
      "[445]\ttraining's binary_logloss: 0.375398\tvalid_1's binary_logloss: 0.396248\n",
      "Training until validation scores don't improve for 1000 rounds\n",
      "Early stopping, best iteration is:\n",
      "[640]\ttraining's binary_logloss: 0.351743\tvalid_1's binary_logloss: 0.449267\n",
      "Training until validation scores don't improve for 1000 rounds\n",
      "Early stopping, best iteration is:\n",
      "[330]\ttraining's binary_logloss: 0.377687\tvalid_1's binary_logloss: 0.413869\n",
      "Training until validation scores don't improve for 1000 rounds\n"
     ]
    },
    {
     "name": "stderr",
     "output_type": "stream",
     "text": [
      "\u001b[32m[I 2021-10-02 20:10:30,000]\u001b[0m Trial 90 finished with value: 0.8181818181818182 and parameters: {'lambda_l1': 0.6862028219882196, 'lambda_l2': 0.0018323880018066788, 'num_leaves': 20, 'feature_fraction': 0.4356020312439381, 'bagging_fraction': 0.8550542957430614, 'bagging_freq': 8, 'min_child_samples': 71, 'max_depth': 2}. Best is trial 83 with value: 0.8271604938271605.\u001b[0m\n"
     ]
    },
    {
     "name": "stdout",
     "output_type": "stream",
     "text": [
      "Early stopping, best iteration is:\n",
      "[45]\ttraining's binary_logloss: 0.423103\tvalid_1's binary_logloss: 0.422708\n",
      "Training until validation scores don't improve for 1000 rounds\n",
      "Early stopping, best iteration is:\n",
      "[1381]\ttraining's binary_logloss: 0.335903\tvalid_1's binary_logloss: 0.417062\n",
      "Training until validation scores don't improve for 1000 rounds\n",
      "Early stopping, best iteration is:\n",
      "[645]\ttraining's binary_logloss: 0.368507\tvalid_1's binary_logloss: 0.393917\n",
      "Training until validation scores don't improve for 1000 rounds\n",
      "Early stopping, best iteration is:\n",
      "[602]\ttraining's binary_logloss: 0.357814\tvalid_1's binary_logloss: 0.44754\n",
      "Training until validation scores don't improve for 1000 rounds\n",
      "Early stopping, best iteration is:\n",
      "[522]\ttraining's binary_logloss: 0.368692\tvalid_1's binary_logloss: 0.416841\n",
      "Training until validation scores don't improve for 1000 rounds\n"
     ]
    },
    {
     "name": "stderr",
     "output_type": "stream",
     "text": [
      "\u001b[32m[I 2021-10-02 20:10:33,715]\u001b[0m Trial 91 finished with value: 0.8215488215488216 and parameters: {'lambda_l1': 0.24488168462091875, 'lambda_l2': 0.001298233336480859, 'num_leaves': 11, 'feature_fraction': 0.47191239939083107, 'bagging_fraction': 0.8261689615880007, 'bagging_freq': 7, 'min_child_samples': 87, 'max_depth': 2}. Best is trial 83 with value: 0.8271604938271605.\u001b[0m\n"
     ]
    },
    {
     "name": "stdout",
     "output_type": "stream",
     "text": [
      "Early stopping, best iteration is:\n",
      "[46]\ttraining's binary_logloss: 0.426184\tvalid_1's binary_logloss: 0.421511\n",
      "Training until validation scores don't improve for 1000 rounds\n",
      "Early stopping, best iteration is:\n",
      "[799]\ttraining's binary_logloss: 0.331664\tvalid_1's binary_logloss: 0.413402\n",
      "Training until validation scores don't improve for 1000 rounds\n",
      "Early stopping, best iteration is:\n",
      "[542]\ttraining's binary_logloss: 0.354291\tvalid_1's binary_logloss: 0.391005\n",
      "Training until validation scores don't improve for 1000 rounds\n",
      "Early stopping, best iteration is:\n",
      "[353]\ttraining's binary_logloss: 0.358007\tvalid_1's binary_logloss: 0.450401\n",
      "Training until validation scores don't improve for 1000 rounds\n",
      "Early stopping, best iteration is:\n",
      "[295]\ttraining's binary_logloss: 0.368866\tvalid_1's binary_logloss: 0.418597\n",
      "Training until validation scores don't improve for 1000 rounds\n"
     ]
    },
    {
     "name": "stderr",
     "output_type": "stream",
     "text": [
      "\u001b[32m[I 2021-10-02 20:10:36,848]\u001b[0m Trial 92 finished with value: 0.8271604938271605 and parameters: {'lambda_l1': 0.0002235279749137621, 'lambda_l2': 0.03997294233231297, 'num_leaves': 15, 'feature_fraction': 0.40153916604491274, 'bagging_fraction': 0.7980021241517686, 'bagging_freq': 7, 'min_child_samples': 85, 'max_depth': 3}. Best is trial 83 with value: 0.8271604938271605.\u001b[0m\n"
     ]
    },
    {
     "name": "stdout",
     "output_type": "stream",
     "text": [
      "Early stopping, best iteration is:\n",
      "[40]\ttraining's binary_logloss: 0.426543\tvalid_1's binary_logloss: 0.429732\n",
      "Training until validation scores don't improve for 1000 rounds\n",
      "Early stopping, best iteration is:\n",
      "[821]\ttraining's binary_logloss: 0.331553\tvalid_1's binary_logloss: 0.415826\n",
      "Training until validation scores don't improve for 1000 rounds\n",
      "Early stopping, best iteration is:\n",
      "[645]\ttraining's binary_logloss: 0.346152\tvalid_1's binary_logloss: 0.391598\n",
      "Training until validation scores don't improve for 1000 rounds\n",
      "Early stopping, best iteration is:\n",
      "[398]\ttraining's binary_logloss: 0.352786\tvalid_1's binary_logloss: 0.449658\n",
      "Training until validation scores don't improve for 1000 rounds\n",
      "Early stopping, best iteration is:\n",
      "[229]\ttraining's binary_logloss: 0.377004\tvalid_1's binary_logloss: 0.418724\n",
      "Training until validation scores don't improve for 1000 rounds\n"
     ]
    },
    {
     "name": "stderr",
     "output_type": "stream",
     "text": [
      "\u001b[32m[I 2021-10-02 20:10:39,377]\u001b[0m Trial 93 finished with value: 0.8215488215488216 and parameters: {'lambda_l1': 0.00021737052645755118, 'lambda_l2': 0.04407263870281769, 'num_leaves': 16, 'feature_fraction': 0.40406579761605055, 'bagging_fraction': 0.7920719536926591, 'bagging_freq': 7, 'min_child_samples': 85, 'max_depth': 3}. Best is trial 83 with value: 0.8271604938271605.\u001b[0m\n"
     ]
    },
    {
     "name": "stdout",
     "output_type": "stream",
     "text": [
      "Early stopping, best iteration is:\n",
      "[45]\ttraining's binary_logloss: 0.421689\tvalid_1's binary_logloss: 0.427366\n",
      "Training until validation scores don't improve for 1000 rounds\n",
      "Early stopping, best iteration is:\n",
      "[406]\ttraining's binary_logloss: 0.348859\tvalid_1's binary_logloss: 0.414901\n",
      "Training until validation scores don't improve for 1000 rounds\n",
      "Early stopping, best iteration is:\n",
      "[525]\ttraining's binary_logloss: 0.342424\tvalid_1's binary_logloss: 0.399106\n",
      "Training until validation scores don't improve for 1000 rounds\n",
      "Early stopping, best iteration is:\n",
      "[235]\ttraining's binary_logloss: 0.359584\tvalid_1's binary_logloss: 0.454453\n",
      "Training until validation scores don't improve for 1000 rounds\n",
      "Early stopping, best iteration is:\n",
      "[244]\ttraining's binary_logloss: 0.366191\tvalid_1's binary_logloss: 0.424079\n",
      "Training until validation scores don't improve for 1000 rounds\n"
     ]
    },
    {
     "name": "stderr",
     "output_type": "stream",
     "text": [
      "\u001b[32m[I 2021-10-02 20:10:41,747]\u001b[0m Trial 94 finished with value: 0.8092031425364759 and parameters: {'lambda_l1': 5.964811024142487e-05, 'lambda_l2': 0.0824047086719883, 'num_leaves': 14, 'feature_fraction': 0.8791444554536215, 'bagging_fraction': 0.8017891713917388, 'bagging_freq': 7, 'min_child_samples': 93, 'max_depth': 3}. Best is trial 83 with value: 0.8271604938271605.\u001b[0m\n"
     ]
    },
    {
     "name": "stdout",
     "output_type": "stream",
     "text": [
      "Early stopping, best iteration is:\n",
      "[38]\ttraining's binary_logloss: 0.423317\tvalid_1's binary_logloss: 0.427616\n",
      "Training until validation scores don't improve for 1000 rounds\n",
      "Early stopping, best iteration is:\n",
      "[265]\ttraining's binary_logloss: 0.358717\tvalid_1's binary_logloss: 0.424301\n",
      "Training until validation scores don't improve for 1000 rounds\n",
      "Early stopping, best iteration is:\n",
      "[450]\ttraining's binary_logloss: 0.343274\tvalid_1's binary_logloss: 0.38747\n",
      "Training until validation scores don't improve for 1000 rounds\n",
      "Early stopping, best iteration is:\n",
      "[231]\ttraining's binary_logloss: 0.358163\tvalid_1's binary_logloss: 0.456244\n",
      "Training until validation scores don't improve for 1000 rounds\n"
     ]
    }
   ],
   "source": [
    "optuna_lgb() #0.8338945005611672(5 fold)  0.8451178451178452(10 fold)"
   ]
  },
  {
   "cell_type": "markdown",
   "metadata": {},
   "source": [
    "## XGBoost"
   ]
  },
  {
   "cell_type": "code",
   "execution_count": null,
   "metadata": {},
   "outputs": [],
   "source": [
    "#optuna xgboost example\n",
    "#https://github.com/optuna/optuna-examples/blob/main/xgboost/xgboost_integration.py\n",
    "import xgboost as xgb\n",
    "def objective(trial):\n",
    "    param = {\n",
    "            \"verbosity\": 0,\n",
    "            \"objective\": \"binary:logistic\",  #binary:logistic\n",
    "            \"eval_metric\": \"auc\",  #map\n",
    "            \"booster\": trial.suggest_categorical(\"booster\", [\"gbtree\", \"gblinear\", \"dart\"]),\n",
    "            \"lambda\": trial.suggest_float(\"lambda\", 1e-8, 1.0, log=True),\n",
    "            \"alpha\": trial.suggest_float(\"alpha\", 1e-8, 1.0, log=True),\n",
    "        }\n",
    "\n",
    "    if param[\"booster\"] == \"gbtree\" or param[\"booster\"] == \"dart\":\n",
    "        param[\"max_depth\"] = trial.suggest_int(\"max_depth\", 1, 9)\n",
    "        param[\"eta\"] = trial.suggest_float(\"eta\", 1e-8, 1.0, log=True)\n",
    "        param[\"gamma\"] = trial.suggest_float(\"gamma\", 1e-8, 1.0, log=True)\n",
    "        param[\"grow_policy\"] = trial.suggest_categorical(\"grow_policy\", [\"depthwise\", \"lossguide\"])\n",
    "    if param[\"booster\"] == \"dart\":\n",
    "        param[\"sample_type\"] = trial.suggest_categorical(\"sample_type\", [\"uniform\", \"weighted\"])\n",
    "        param[\"normalize_type\"] = trial.suggest_categorical(\"normalize_type\", [\"tree\", \"forest\"])\n",
    "        param[\"rate_drop\"] = trial.suggest_float(\"rate_drop\", 1e-8, 1.0, log=True)\n",
    "        param[\"skip_drop\"] = trial.suggest_float(\"skip_drop\", 1e-8, 1.0, log=True)\n",
    "\n",
    "    for i in range(5):\n",
    "        train_x = train.query(f'fold!={i}').drop(['fold', 'Survived'], axis=1)\n",
    "        train_y = train.query(f'fold!={i}').Survived\n",
    "\n",
    "        valid_x = train.query(f'fold=={i}').drop(['fold', 'Survived'], axis=1)\n",
    "        valid_y = train.query(f'fold=={i}').Survived\n",
    "\n",
    "        dtrain = xgb.DMatrix(train_x, label=train_y)\n",
    "        dvalid = xgb.DMatrix(valid_x, label=valid_y)\n",
    "        \n",
    "        accuracy = []\n",
    "        # Add a callback for pruning.\n",
    "        pruning_callback = optuna.integration.XGBoostPruningCallback(trial, \"validation-auc\")\n",
    "        bst = xgb.train(param, dtrain, evals=[(dvalid, \"validation\")], callbacks=[pruning_callback])\n",
    "        preds = bst.predict(dvalid)\n",
    "        pred_labels = np.rint(preds)\n",
    "        accuracy.append(sklearn.metrics.accuracy_score(valid_y, pred_labels))\n",
    "        \n",
    "        \n",
    "        joblib.dump(bst, f'xgboost_fold{i}.pkl')\n",
    "    return np.mean(accuracy)\n",
    "\n",
    "    \n",
    "if __name__ == \"__main__\":\n",
    "    study = optuna.create_study(\n",
    "        pruner=optuna.pruners.MedianPruner(n_warmup_steps=5), direction=\"maximize\"\n",
    "    )\n",
    "    study.optimize(objective, n_trials=100)\n",
    "    print(study.best_trial)"
   ]
  },
  {
   "cell_type": "markdown",
   "metadata": {},
   "source": [
    "## Catboost"
   ]
  },
  {
   "cell_type": "code",
   "execution_count": null,
   "metadata": {},
   "outputs": [],
   "source": [
    "#optuna catboost example\n",
    "#https://github.com/optuna/optuna-examples/blob/main/catboost/catboost_simple.py\n",
    "import catboost as cb\n",
    "def objective(trial):\n",
    "    param = {\n",
    "        \"objective\": trial.suggest_categorical(\"objective\", [\"Logloss\", \"CrossEntropy\"]),\n",
    "        \"colsample_bylevel\": trial.suggest_float(\"colsample_bylevel\", 0.01, 0.1),\n",
    "        \"depth\": trial.suggest_int(\"depth\", 1, 12),\n",
    "        \"boosting_type\": trial.suggest_categorical(\"boosting_type\", [\"Ordered\", \"Plain\"]),\n",
    "        \"bootstrap_type\": trial.suggest_categorical(\n",
    "            \"bootstrap_type\", [\"Bayesian\", \"Bernoulli\", \"MVS\"]\n",
    "        ),\n",
    "        \"used_ram_limit\": \"3gb\",\n",
    "    }\n",
    "\n",
    "    if param[\"bootstrap_type\"] == \"Bayesian\":\n",
    "        param[\"bagging_temperature\"] = trial.suggest_float(\"bagging_temperature\", 0, 10)\n",
    "    elif param[\"bootstrap_type\"] == \"Bernoulli\":\n",
    "        param[\"subsample\"] = trial.suggest_float(\"subsample\", 0.1, 1)\n",
    "\n",
    "    for i in range(5):\n",
    "        train_x = train.query(f'fold!={i}').drop(['fold', 'Survived'], axis=1)\n",
    "        train_y = train.query(f'fold!={i}').Survived\n",
    "\n",
    "        valid_x = train.query(f'fold=={i}').drop(['fold', 'Survived'], axis=1)\n",
    "        valid_y = train.query(f'fold=={i}').Survived\n",
    "        \n",
    "        #save the five fold accuracy\n",
    "        accuracy = []\n",
    "        \n",
    "        gbm = cb.CatBoostClassifier(**param)\n",
    "        gbm.fit(train_x, train_y, eval_set=[(valid_x, valid_y)], verbose=0, early_stopping_rounds=100)\n",
    "        preds = gbm.predict(valid_x)\n",
    "        pred_labels = np.rint(preds)\n",
    "        accuracy.append(accuracy_score(valid_y, pred_labels))\n",
    "        \n",
    "        #save the best model for each fold \n",
    "        joblib.dump(gbm, f'catboost_fold{i}.pkl')\n",
    "    return np.mean(accuracy)\n",
    "\n",
    "if __name__ == \"__main__\":\n",
    "    study = optuna.create_study(direction=\"maximize\")\n",
    "    study.optimize(objective, n_trials=100, timeout=600)\n",
    "\n",
    "    print(\"Number of finished trials: {}\".format(len(study.trials)))\n",
    "\n",
    "    print(\"Best trial:\")\n",
    "    trial = study.best_trial\n",
    "\n",
    "    print(\"  Value: {}\".format(trial.value))\n",
    "\n",
    "    print(\"  Params: \")\n",
    "    for key, value in trial.params.items():\n",
    "        print(\"    {}: {}\".format(key, value))"
   ]
  },
  {
   "cell_type": "markdown",
   "metadata": {},
   "source": [
    "## Logistic and Random Forest and SVC"
   ]
  },
  {
   "cell_type": "code",
   "execution_count": null,
   "metadata": {},
   "outputs": [],
   "source": [
    "#Step 1. Define an objective function to be maximized.\n",
    "def objective(trial):\n",
    "\n",
    "    classifier_name = trial.suggest_categorical(\"classifier\", [\"LogReg\", \"SVC\", \"RandomForest\"])\n",
    "    \n",
    "    # Step 2. Setup values for the hyperparameters:\n",
    "    if classifier_name == 'LogReg':\n",
    "        logreg_c = trial.suggest_float(\"logreg_c\", 1e-10, 1e10, log=True)\n",
    "        classifier_obj = linear_model.LogisticRegression(C=logreg_c)\n",
    "    elif classifier_name == \"SVC\":\n",
    "        svc_c = trial.suggest_float(\"svc_c\", 1e-10, 1e10, log=True)\n",
    "        classifier_obj = sklearn.svm.SVC(C=svc_c, gamma=\"auto\")\n",
    "    else:\n",
    "        rf_n_estimators = trial.suggest_int(\"rf_n_estimators\", 10, 1000)\n",
    "        rf_max_depth = trial.suggest_int(\"rf_max_depth\", 2, 32, log=True)\n",
    "        classifier_obj = ensemble.RandomForestClassifier(\n",
    "            max_depth=rf_max_depth, n_estimators=rf_n_estimators\n",
    "        )\n",
    "        \n",
    "    for i in range(5):\n",
    "        train_x = train.query(f'fold!={i}').drop(['fold', 'Survived'], axis=1)\n",
    "        train_y = train.query(f'fold!={i}').Survived\n",
    "\n",
    "        valid_x = train.query(f'fold=={i}').drop(['fold', 'Survived'], axis=1)\n",
    "        valid_y = train.query(f'fold=={i}').Survived\n",
    "    \n",
    "        #save the five fold accuracy\n",
    "        accuracy = []\n",
    "\n",
    "        gbm = classifier_obj\n",
    "        gbm.fit(train_x, train_y)\n",
    "        preds = gbm.predict(valid_x)\n",
    "        pred_labels = np.rint(preds)\n",
    "        accuracy.append(accuracy_score(valid_y, pred_labels))\n",
    "                \n",
    "        #save the best model for each fold \n",
    "        joblib.dump(gbm, f'log_randomf_fold{i}.pkl')\n",
    "        \n",
    "    return np.mean(accuracy)\n",
    "\n",
    "if __name__ == \"__main__\":\n",
    "    study = optuna.create_study(direction=\"maximize\")\n",
    "    study.optimize(objective, n_trials=100, timeout=600)\n",
    "\n",
    "    print(\"Number of finished trials: {}\".format(len(study.trials)))\n",
    "\n",
    "    print(\"Best trial:\")\n",
    "    trial = study.best_trial\n",
    "\n",
    "    print(\"  Value: {}\".format(trial.value))\n",
    "\n",
    "    print(\"  Params: \")\n",
    "    for key, value in trial.params.items():\n",
    "        print(\"    {}: {}\".format(key, value))"
   ]
  },
  {
   "cell_type": "markdown",
   "metadata": {},
   "source": [
    "## Logistic"
   ]
  },
  {
   "cell_type": "code",
   "execution_count": null,
   "metadata": {},
   "outputs": [],
   "source": [
    "#logistic\n",
    "\n",
    "#Step 1. Define an objective function to be maximized.\n",
    "def objective(trial):\n",
    "\n",
    "    classifier_name = 'LogReg'\n",
    "    logreg_c = trial.suggest_float(\"logreg_c\", 1e-10, 1e10, log=True)\n",
    "    classifier_obj = linear_model.LogisticRegression(C=logreg_c)\n",
    "        \n",
    "    for i in range(5):\n",
    "        train_x = train.query(f'fold!={i}').drop(['fold', 'Survived'], axis=1)\n",
    "        train_y = train.query(f'fold!={i}').Survived\n",
    "\n",
    "        valid_x = train.query(f'fold=={i}').drop(['fold', 'Survived'], axis=1)\n",
    "        valid_y = train.query(f'fold=={i}').Survived\n",
    "    \n",
    "        #save the five fold accuracy\n",
    "        accuracy = []\n",
    "\n",
    "        gbm = classifier_obj\n",
    "        gbm.fit(train_x, train_y)\n",
    "        preds = gbm.predict(valid_x)\n",
    "        pred_labels = np.rint(preds)\n",
    "        accuracy.append(accuracy_score(valid_y, pred_labels))\n",
    "                \n",
    "        #save the best model for each fold \n",
    "        joblib.dump(gbm, f'logistic_fold{i}.pkl')\n",
    "        \n",
    "    return np.mean(accuracy)\n",
    "\n",
    "if __name__ == \"__main__\":\n",
    "    study = optuna.create_study(direction=\"maximize\")\n",
    "    study.optimize(objective, n_trials=100, timeout=600)\n",
    "\n",
    "    print(\"Number of finished trials: {}\".format(len(study.trials)))\n",
    "\n",
    "    print(\"Best trial:\")\n",
    "    trial = study.best_trial\n",
    "\n",
    "    print(\"  Value: {}\".format(trial.value))\n",
    "\n",
    "    print(\"  Params: \")\n",
    "    for key, value in trial.params.items():\n",
    "        print(\"    {}: {}\".format(key, value))"
   ]
  },
  {
   "cell_type": "markdown",
   "metadata": {},
   "source": [
    "## SVC"
   ]
  },
  {
   "cell_type": "code",
   "execution_count": null,
   "metadata": {},
   "outputs": [],
   "source": [
    "#Step 1. Define an objective function to be maximized.\n",
    "def objective(trial):\n",
    "\n",
    "    # Step 2. Setup values for the hyperparameters:\n",
    "    classifier_name = \"SVC\"\n",
    "    svc_c = trial.suggest_float(\"svc_c\", 1e-10, 1e10, log=True)\n",
    "    classifier_obj = sklearn.svm.SVC(C=svc_c, gamma=\"auto\")\n",
    "        \n",
    "    for i in range(5):\n",
    "        train_x = train.query(f'fold!={i}').drop(['fold', 'Survived'], axis=1)\n",
    "        train_y = train.query(f'fold!={i}').Survived\n",
    "\n",
    "        valid_x = train.query(f'fold=={i}').drop(['fold', 'Survived'], axis=1)\n",
    "        valid_y = train.query(f'fold=={i}').Survived\n",
    "    \n",
    "        #save the five fold accuracy\n",
    "        accuracy = []\n",
    "\n",
    "        gbm = classifier_obj\n",
    "        gbm.fit(train_x, train_y)\n",
    "        preds = gbm.predict(valid_x)\n",
    "        pred_labels = np.rint(preds)\n",
    "        accuracy.append(accuracy_score(valid_y, pred_labels))\n",
    "                \n",
    "        #save the best model for each fold \n",
    "        joblib.dump(gbm, f'svc_fold{i}.pkl')\n",
    "        \n",
    "    return np.mean(accuracy)\n",
    "\n",
    "if __name__ == \"__main__\":\n",
    "    study = optuna.create_study(direction=\"maximize\")\n",
    "    study.optimize(objective, n_trials=100, timeout=600)\n",
    "\n",
    "    print(\"Number of finished trials: {}\".format(len(study.trials)))\n",
    "\n",
    "    print(\"Best trial:\")\n",
    "    trial = study.best_trial\n",
    "\n",
    "    print(\"  Value: {}\".format(trial.value))\n",
    "\n",
    "    print(\"  Params: \")\n",
    "    for key, value in trial.params.items():\n",
    "        print(\"    {}: {}\".format(key, value))"
   ]
  },
  {
   "cell_type": "markdown",
   "metadata": {},
   "source": [
    "## RandomForest"
   ]
  },
  {
   "cell_type": "code",
   "execution_count": null,
   "metadata": {},
   "outputs": [],
   "source": [
    "#Step 1. Define an objective function to be maximized.\n",
    "def objective(trial):\n",
    "\n",
    "    classifier_name = 'RandomForest'\n",
    "    rf_n_estimators = trial.suggest_int(\"rf_n_estimators\", 10, 1000)\n",
    "    rf_max_depth = trial.suggest_int(\"rf_max_depth\", 2, 32, log=True)\n",
    "#     rf_min_depth = trial.suggest_int(\"rf_min_depth\", 2, 32, log=True)\n",
    "    classifier_obj = ensemble.RandomForestClassifier(\n",
    "        max_depth=rf_max_depth, n_estimators=rf_n_estimators\n",
    "    )\n",
    "        \n",
    "    for i in range(5):\n",
    "        train_x = train.query(f'fold!={i}').drop(['fold', 'Survived'], axis=1)\n",
    "        train_y = train.query(f'fold!={i}').Survived\n",
    "\n",
    "        valid_x = train.query(f'fold=={i}').drop(['fold', 'Survived'], axis=1)\n",
    "        valid_y = train.query(f'fold=={i}').Survived\n",
    "    \n",
    "        #save the five fold accuracy\n",
    "        accuracy = []\n",
    "\n",
    "        gbm = classifier_obj\n",
    "        gbm.fit(train_x, train_y)\n",
    "        preds = gbm.predict(valid_x)\n",
    "        pred_labels = np.rint(preds)\n",
    "        accuracy.append(accuracy_score(valid_y, pred_labels))\n",
    "                \n",
    "        #save the best model for each fold \n",
    "        joblib.dump(gbm, f'rf_fold{i}.pkl')\n",
    "        \n",
    "    return np.mean(accuracy)\n",
    "\n",
    "if __name__ == \"__main__\":\n",
    "    study = optuna.create_study(direction=\"maximize\")\n",
    "    study.optimize(objective, n_trials=100, timeout=600)\n",
    "\n",
    "    print(\"Number of finished trials: {}\".format(len(study.trials)))\n",
    "\n",
    "    print(\"Best trial:\")\n",
    "    trial = study.best_trial\n",
    "\n",
    "    print(\"  Value: {}\".format(trial.value))\n",
    "\n",
    "    print(\"  Params: \")\n",
    "    for key, value in trial.params.items():\n",
    "        print(\"    {}: {}\".format(key, value))"
   ]
  },
  {
   "cell_type": "markdown",
   "metadata": {},
   "source": [
    "## Decision Tree"
   ]
  },
  {
   "cell_type": "code",
   "execution_count": null,
   "metadata": {},
   "outputs": [],
   "source": [
    "#Step 1. Define an objective function to be maximized.\n",
    "def objective(trial):\n",
    "    max_depth = trial.suggest_int(\"max_depth\", 2, 612)\n",
    "    min_samples_split = trial.suggest_int(\"min_samples_split\", 2, 612)\n",
    "    max_leaf_nodes = int(trial.suggest_int(\"max_leaf_nodes\", 2, 612))\n",
    "    criterion = trial.suggest_categorical(\"criterion\", [\"gini\", \"entropy\"])\n",
    "    DTC = DecisionTreeClassifier(min_samples_split = min_samples_split, \n",
    "                                 max_leaf_nodes = max_leaf_nodes,\n",
    "                                 criterion = criterion)\n",
    "        \n",
    "    for i in range(5):\n",
    "        train_x = train.query(f'fold!={i}').drop(['fold', 'Survived'], axis=1)\n",
    "        train_y = train.query(f'fold!={i}').Survived\n",
    "\n",
    "        valid_x = train.query(f'fold=={i}').drop(['fold', 'Survived'], axis=1)\n",
    "        valid_y = train.query(f'fold=={i}').Survived\n",
    "    \n",
    "        #save the five fold accuracy\n",
    "        accuracy = []\n",
    "\n",
    "        DTC.fit(train_x, train_y)\n",
    "        preds = DTC.predict(valid_x)\n",
    "        pred_labels = np.rint(preds)\n",
    "        accuracy.append(accuracy_score(valid_y, pred_labels))\n",
    "                \n",
    "        #save the best model for each fold \n",
    "        joblib.dump(DTC, f'dt_fold{i}.pkl')\n",
    "        \n",
    "    return np.mean(accuracy)\n",
    "\n",
    "if __name__ == \"__main__\":\n",
    "    study = optuna.create_study(direction=\"maximize\")\n",
    "    study.optimize(objective, n_trials=100, timeout=600)\n",
    "\n",
    "    print(\"Number of finished trials: {}\".format(len(study.trials)))\n",
    "\n",
    "    print(\"Best trial:\")\n",
    "    trial = study.best_trial\n",
    "\n",
    "    print(\"  Value: {}\".format(trial.value))\n",
    "\n",
    "    print(\"  Params: \")\n",
    "    for key, value in trial.params.items():\n",
    "        print(\"    {}: {}\".format(key, value))"
   ]
  },
  {
   "cell_type": "code",
   "execution_count": null,
   "metadata": {},
   "outputs": [],
   "source": []
  },
  {
   "cell_type": "markdown",
   "metadata": {},
   "source": [
    "## Ensemble Model"
   ]
  },
  {
   "cell_type": "code",
   "execution_count": null,
   "metadata": {},
   "outputs": [],
   "source": [
    "X_train = train.drop(['Survived', 'fold'], axis=1).values\n",
    "y_train = train[['Survived']].values"
   ]
  },
  {
   "cell_type": "code",
   "execution_count": null,
   "metadata": {},
   "outputs": [],
   "source": [
    "test2 = test.drop(['Survived', 'fold'], axis=1).values"
   ]
  },
  {
   "cell_type": "code",
   "execution_count": null,
   "metadata": {},
   "outputs": [],
   "source": [
    "#get the mean of best fold in lgb   0.8338945005611672  0.77990 selected\n",
    "lgb_pred = np.zeros(418)\n",
    "for i in range(5):\n",
    "    model = joblib.load(f'./lgb_fold{i}.pkl')\n",
    "    lgb_pred += model.predict(test2) / 5\n",
    "    \n",
    "lgb_pred = lgb_pred.round().astype(int)"
   ]
  },
  {
   "cell_type": "code",
   "execution_count": null,
   "metadata": {},
   "outputs": [],
   "source": [
    "#get the mean of best fold in xgboost  0.8314606741573034  0.78468 selected\n",
    "from xgboost import XGBClassifier\n",
    "xgboost_pred = np.zeros(418)\n",
    "for i in range(5):\n",
    "    model = joblib.load(f'./xgboost_fold{i}.pkl')\n",
    "    model = XGBClassifier()\n",
    "    model.fit(X_train, y_train)\n",
    "    xgboost_pred += model.predict_proba(test2)[:,1] / 5   #predict probability [0, 1]\n",
    "    \n",
    "xgboost_pred = xgboost_pred.round().astype(int)"
   ]
  },
  {
   "cell_type": "code",
   "execution_count": null,
   "metadata": {},
   "outputs": [],
   "source": [
    "#get the mean of best fold in catboost  0.8426966292134831  nice  0.77990 selected\n",
    "catboost_pred = np.zeros(418)\n",
    "for i in range(5):\n",
    "    model = joblib.load(f'./catboost_fold{i}.pkl')\n",
    "    catboost_pred += model.predict(test2) / 5\n",
    "    \n",
    "catboost_pred = catboost_pred.round().astype(int)"
   ]
  },
  {
   "cell_type": "code",
   "execution_count": null,
   "metadata": {},
   "outputs": [],
   "source": [
    "#get the mean of best fold in logistic  0.8426966292134831 0.78947 selected nice\n",
    "logistic_pred = np.zeros(418)\n",
    "for i in range(5):\n",
    "    model = joblib.load(f'./logistic_fold{i}.pkl')\n",
    "    logistic_pred += model.predict(test2) / 5\n",
    "    \n",
    "logistic_pred = logistic_pred.round().astype(int)"
   ]
  },
  {
   "cell_type": "code",
   "execution_count": null,
   "metadata": {},
   "outputs": [],
   "source": [
    "#get the mean of best fold in logistic/randomForest/svc  \n",
    "#randomForest win 0.8314606741573034\n",
    "log_ran_pred = np.zeros(418)\n",
    "for i in range(5):\n",
    "    model = joblib.load(f'./log_randomf_fold{i}.pkl')\n",
    "    log_ran_pred += model.predict(test2) / 5\n",
    "    \n",
    "log_ran_pred = log_ran_pred.round().astype(int)"
   ]
  },
  {
   "cell_type": "code",
   "execution_count": null,
   "metadata": {},
   "outputs": [],
   "source": [
    "#get the mean of best fold in svc  0.7528089887640449    0.66985\n",
    "svc_pred = np.zeros(418)\n",
    "for i in range(5):\n",
    "    model = joblib.load(f'./svc_fold{i}.pkl')\n",
    "    svc_pred += model.predict(test2) / 5\n",
    "    \n",
    "svc_pred = svc_pred.round().astype(int)"
   ]
  },
  {
   "cell_type": "code",
   "execution_count": null,
   "metadata": {},
   "outputs": [],
   "source": [
    "#get the mean of best fold in randomForest   0.8370786516853933/0.8314606741573034(add min)  0.69138/0.78468(min)\n",
    "rf_pred = np.zeros(418)\n",
    "for i in range(5):\n",
    "    model = joblib.load(f'./rf_fold{i}.pkl')\n",
    "    rf_pred += model.predict(test2) / 5\n",
    "\n",
    "    \n",
    "rf_pred = rf_pred.round().astype(int)"
   ]
  },
  {
   "cell_type": "code",
   "execution_count": null,
   "metadata": {},
   "outputs": [],
   "source": [
    "#get the mean of best fold in decisionTree   0.8258426966292135   0.78947 selected nice\n",
    "dt_pred = np.zeros(418)\n",
    "for i in range(5):\n",
    "    model = joblib.load(f'./dt_fold{i}.pkl')\n",
    "    dt_pred += model.predict(test2) / 5\n",
    "\n",
    "    \n",
    "dt_pred = dt_pred.round().astype(int)"
   ]
  },
  {
   "cell_type": "markdown",
   "metadata": {},
   "source": [
    "#### way 1:"
   ]
  },
  {
   "cell_type": "code",
   "execution_count": null,
   "metadata": {},
   "outputs": [],
   "source": [
    "#combine lgb_pred rf_pred\n",
    "f_pro = (lgb_pred + xgboost_pred + catboost_pred + logistic_pred)/4\n",
    "# f_pro = dt_pred"
   ]
  },
  {
   "cell_type": "code",
   "execution_count": null,
   "metadata": {},
   "outputs": [],
   "source": [
    "pred = []\n",
    "for i in f_pro:\n",
    "    if i > 0.5:\n",
    "        pred.append(1)\n",
    "    else:\n",
    "        pred.append(0)"
   ]
  },
  {
   "cell_type": "markdown",
   "metadata": {},
   "source": [
    "#### way 2:"
   ]
  },
  {
   "cell_type": "code",
   "execution_count": 251,
   "metadata": {},
   "outputs": [],
   "source": [
    "pred2 = []\n",
    "for i in range(418):\n",
    "    count_0 = 0\n",
    "    count_1 = 0\n",
    "    for model in [lgb_pred, xgboost_pred, catboost_pred, dt_pred, logistic_pred]:\n",
    "        if model[i] == 0:\n",
    "            count_0 += 1\n",
    "        else:\n",
    "            count_1 += 1\n",
    "            \n",
    "    if count_0 >= count_1:\n",
    "        pred2.append(0)\n",
    "    else:\n",
    "        pred2.append(1)\n",
    "# print(pred2)   "
   ]
  },
  {
   "cell_type": "code",
   "execution_count": null,
   "metadata": {},
   "outputs": [],
   "source": []
  },
  {
   "cell_type": "code",
   "execution_count": null,
   "metadata": {},
   "outputs": [],
   "source": [
    "sub.Survived = pred"
   ]
  },
  {
   "cell_type": "code",
   "execution_count": null,
   "metadata": {},
   "outputs": [],
   "source": [
    "sub"
   ]
  },
  {
   "cell_type": "code",
   "execution_count": 355,
   "metadata": {},
   "outputs": [],
   "source": [
    "sub.to_csv('submission_mean_model4.csv', index=False)"
   ]
  },
  {
   "cell_type": "code",
   "execution_count": null,
   "metadata": {},
   "outputs": [],
   "source": []
  }
 ],
 "metadata": {
  "kernelspec": {
   "display_name": "Python 3",
   "language": "python",
   "name": "python3"
  },
  "language_info": {
   "codemirror_mode": {
    "name": "ipython",
    "version": 3
   },
   "file_extension": ".py",
   "mimetype": "text/x-python",
   "name": "python",
   "nbconvert_exporter": "python",
   "pygments_lexer": "ipython3",
   "version": "3.7.6"
  }
 },
 "nbformat": 4,
 "nbformat_minor": 4
}
