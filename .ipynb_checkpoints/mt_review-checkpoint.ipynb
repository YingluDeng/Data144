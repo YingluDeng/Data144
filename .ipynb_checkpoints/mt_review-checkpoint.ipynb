{
 "cells": [
  {
   "cell_type": "code",
   "execution_count": 1,
   "metadata": {},
   "outputs": [],
   "source": [
    "import numpy as np\n",
    "import pandas as pd"
   ]
  },
  {
   "cell_type": "code",
   "execution_count": 3,
   "metadata": {},
   "outputs": [
    {
     "data": {
      "text/html": [
       "<div>\n",
       "<style scoped>\n",
       "    .dataframe tbody tr th:only-of-type {\n",
       "        vertical-align: middle;\n",
       "    }\n",
       "\n",
       "    .dataframe tbody tr th {\n",
       "        vertical-align: top;\n",
       "    }\n",
       "\n",
       "    .dataframe thead th {\n",
       "        text-align: right;\n",
       "    }\n",
       "</style>\n",
       "<table border=\"1\" class=\"dataframe\">\n",
       "  <thead>\n",
       "    <tr style=\"text-align: right;\">\n",
       "      <th></th>\n",
       "      <th>Quiz Question ID</th>\n",
       "      <th>Student Name</th>\n",
       "      <th>Answer Score</th>\n",
       "    </tr>\n",
       "  </thead>\n",
       "  <tbody>\n",
       "    <tr>\n",
       "      <th>0</th>\n",
       "      <td>DATA_TRANSFORM1</td>\n",
       "      <td>Geoff Hinton</td>\n",
       "      <td>1</td>\n",
       "    </tr>\n",
       "    <tr>\n",
       "      <th>1</th>\n",
       "      <td>KMEANS2</td>\n",
       "      <td>Geoff Hinton</td>\n",
       "      <td>0</td>\n",
       "    </tr>\n",
       "    <tr>\n",
       "      <th>2</th>\n",
       "      <td>DATA_TRANSFORM1</td>\n",
       "      <td>Grace Hopper</td>\n",
       "      <td>0</td>\n",
       "    </tr>\n",
       "    <tr>\n",
       "      <th>3</th>\n",
       "      <td>KMEANS2</td>\n",
       "      <td>Grace Hopper</td>\n",
       "      <td>1</td>\n",
       "    </tr>\n",
       "    <tr>\n",
       "      <th>4</th>\n",
       "      <td>DATA_TRANSFORM1</td>\n",
       "      <td>Dennis Hopper</td>\n",
       "      <td>0</td>\n",
       "    </tr>\n",
       "    <tr>\n",
       "      <th>5</th>\n",
       "      <td>KMEANS2</td>\n",
       "      <td>Dennis Hopper</td>\n",
       "      <td>0</td>\n",
       "    </tr>\n",
       "    <tr>\n",
       "      <th>6</th>\n",
       "      <td>SPECTRAL3</td>\n",
       "      <td>Dennis Hopper</td>\n",
       "      <td>1</td>\n",
       "    </tr>\n",
       "  </tbody>\n",
       "</table>\n",
       "</div>"
      ],
      "text/plain": [
       "  Quiz Question ID   Student Name  Answer Score\n",
       "0  DATA_TRANSFORM1   Geoff Hinton             1\n",
       "1          KMEANS2   Geoff Hinton             0\n",
       "2  DATA_TRANSFORM1   Grace Hopper             0\n",
       "3          KMEANS2   Grace Hopper             1\n",
       "4  DATA_TRANSFORM1  Dennis Hopper             0\n",
       "5          KMEANS2  Dennis Hopper             0\n",
       "6        SPECTRAL3  Dennis Hopper             1"
      ]
     },
     "execution_count": 3,
     "metadata": {},
     "output_type": "execute_result"
    }
   ],
   "source": [
    "d = {'Quiz Question ID': [\"DATA_TRANSFORM1\", \"KMEANS2\", \"DATA_TRANSFORM1\", \"KMEANS2\", \"DATA_TRANSFORM1\", \"KMEANS2\", \"SPECTRAL3\"], \n",
    "     'Student Name': [\"Geoff Hinton\", \"Geoff Hinton\", \"Grace Hopper\", \"Grace Hopper\", \"Dennis Hopper\", \"Dennis Hopper\", \"Dennis Hopper\"],\n",
    "     'Answer Score': [1, 0, 0, 1, 0, 0, 1]}\n",
    "df = pd.DataFrame(data=d)\n",
    "df"
   ]
  },
  {
   "cell_type": "code",
   "execution_count": null,
   "metadata": {},
   "outputs": [],
   "source": [
    "#population mean\n",
    "#population sd\n",
    "#z-score"
   ]
  },
  {
   "cell_type": "code",
   "execution_count": 33,
   "metadata": {},
   "outputs": [
    {
     "data": {
      "text/plain": [
       "50.0"
      ]
     },
     "execution_count": 33,
     "metadata": {},
     "output_type": "execute_result"
    }
   ],
   "source": [
    "#percent correct for Geoff Hinton\n",
    "sum(df[df[\"Student Name\"] == \"Geoff Hinton\"][\"Answer Score\"]) / len(df[df[\"Student Name\"] == \"Geoff Hinton\"]) * 100"
   ]
  },
  {
   "cell_type": "code",
   "execution_count": null,
   "metadata": {},
   "outputs": [],
   "source": []
  },
  {
   "cell_type": "code",
   "execution_count": null,
   "metadata": {},
   "outputs": [],
   "source": []
  },
  {
   "cell_type": "code",
   "execution_count": null,
   "metadata": {},
   "outputs": [],
   "source": []
  },
  {
   "cell_type": "code",
   "execution_count": null,
   "metadata": {},
   "outputs": [],
   "source": []
  },
  {
   "cell_type": "code",
   "execution_count": null,
   "metadata": {},
   "outputs": [],
   "source": []
  }
 ],
 "metadata": {
  "kernelspec": {
   "display_name": "Python 3",
   "language": "python",
   "name": "python3"
  },
  "language_info": {
   "codemirror_mode": {
    "name": "ipython",
    "version": 3
   },
   "file_extension": ".py",
   "mimetype": "text/x-python",
   "name": "python",
   "nbconvert_exporter": "python",
   "pygments_lexer": "ipython3",
   "version": "3.7.6"
  }
 },
 "nbformat": 4,
 "nbformat_minor": 4
}
