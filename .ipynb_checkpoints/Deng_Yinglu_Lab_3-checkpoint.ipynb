{
 "cells": [
  {
   "cell_type": "markdown",
   "metadata": {
    "id": "vAxKKJ84ugjs"
   },
   "source": [
    "# DMA Fall '21"
   ]
  },
  {
   "cell_type": "code",
   "execution_count": 241,
   "metadata": {
    "id": "nFr3Tjz_ugjv"
   },
   "outputs": [],
   "source": [
    "NAME = \"Yinglu Deng\"\n",
    "COLLABORATORS = \"\""
   ]
  },
  {
   "cell_type": "markdown",
   "metadata": {
    "id": "VtQyVZG7ugj0"
   },
   "source": [
    "---"
   ]
  },
  {
   "cell_type": "markdown",
   "metadata": {
    "deletable": false,
    "editable": false,
    "id": "dSxT_unDugj1",
    "nbgrader": {
     "checksum": "0ec61936c13b80ce01fa0818121a29a9",
     "grade": false,
     "grade_id": "cell-c6a6e713740ff888",
     "locked": true,
     "schema_version": 1,
     "solution": false
    }
   },
   "source": [
    "# Lab 3: Decision Trees\n",
    "\n",
    "**Please read the following instructions very carefully**\n",
    "\n",
    "## Working on the assignment / FAQs\n",
    "- **Always use the seed/random_state as *42* wherever applicable** (This is to ensure repeatability in answers, across students and coding environments) \n",
    "- Questions can be either autograded and manually graded.\n",
    "- The type of question and the points they carry are indicated in each question cell\n",
    "- An autograded question has 3 cells\n",
    "     - **Question cell** : Read only cell containing the question\n",
    "     - **Code Cell** : This is where you write the code\n",
    "     - **Grading cell** : This is where the grading occurs, and **you are required not to edit this cell**\n",
    "- Manually graded questions only have the question and code cells. **All manually graded questions are explicitly stated**\n",
    "- To avoid any ambiguity, each question also specifies what *value* must be set. Note that these are dummy values and not the answers\n",
    "- If an autograded question has multiple answers (due to differences in handling NaNs, zeros etc.), all answers will be considered.\n",
    "- Most assignments have bonus questions for extra credit, do try them out! \n",
    "- You can delete the `raise NotImplementedError()` for all questions.\n",
    "- **Submitting the assignment** : Download the '.ipynb' file from Colab and upload it to bcourses. Do not delete any outputs from cells before submitting.\n",
    "- That's about it. Happy coding!\n",
    "\n",
    "\n",
    "## About the dataset\n",
    "This assignment uses a dataset obtained from the JSE Data Archive that contains biological and self-reported activity traits of a sample of college students at a single university uploaded in 2013. The study associated with these data focused on exploring if a correspondence exists between eye color and and other traits. You will be using gender as the target/label in this lab.\n",
    "\n",
    "FEATURE DESCRIPTIONS: \n",
    "- Color (Blue, Brown, Green, Hazel, Other)\n",
    "- Age (in years)\n",
    "- YearinSchool (First, Second, Third, Fourth, Other)\n",
    "- Height (in inches)\n",
    "- Miles (distance from home town of student to Ames, IA) \n",
    "- Brothers (number of brothers)\n",
    "- Sisters (number of sisters)\n",
    "- CompTime (number of hours spent on computer per week)\n",
    "- Exercise (whether the student exercises Yes or No)\n",
    "- ExerTime (number of hours spent exercising per week)\n",
    "- MusicCDs (number of music CDs student owns)\n",
    "- PlayGames (number of hours spent playing games per week)\n",
    "- WatchTV (number of hours spent watching TV per week\n",
    "\n",
    "Background Information on the dataset: http://jse.amstat.org/v21n2/froelich/eyecolorgender.txt "
   ]
  },
  {
   "cell_type": "code",
   "execution_count": 242,
   "metadata": {
    "colab": {
     "base_uri": "https://localhost:8080/",
     "height": 254
    },
    "deletable": false,
    "editable": false,
    "id": "xeiDHBc5ugj2",
    "nbgrader": {
     "checksum": "0fb5897b9d372125635a32c3c25065db",
     "grade": false,
     "grade_id": "cell-0c1c5a5b7543f388",
     "locked": true,
     "schema_version": 1,
     "solution": false
    },
    "outputId": "96848eb8-c896-48e5-88ef-b35397560688"
   },
   "outputs": [
    {
     "name": "stdout",
     "output_type": "stream",
     "text": [
      "File ‘eye_color.csv’ already there; not retrieving.\n",
      "\n",
      "eye_color.csv  sample_data\n"
     ]
    },
    {
     "data": {
      "text/html": [
       "<div>\n",
       "<style scoped>\n",
       "    .dataframe tbody tr th:only-of-type {\n",
       "        vertical-align: middle;\n",
       "    }\n",
       "\n",
       "    .dataframe tbody tr th {\n",
       "        vertical-align: top;\n",
       "    }\n",
       "\n",
       "    .dataframe thead th {\n",
       "        text-align: right;\n",
       "    }\n",
       "</style>\n",
       "<table border=\"1\" class=\"dataframe\">\n",
       "  <thead>\n",
       "    <tr style=\"text-align: right;\">\n",
       "      <th></th>\n",
       "      <th>gender</th>\n",
       "      <th>age</th>\n",
       "      <th>year</th>\n",
       "      <th>eyecolor</th>\n",
       "      <th>height</th>\n",
       "      <th>miles</th>\n",
       "      <th>brothers</th>\n",
       "      <th>sisters</th>\n",
       "      <th>computertime</th>\n",
       "      <th>exercise</th>\n",
       "      <th>exercisehours</th>\n",
       "      <th>musiccds</th>\n",
       "      <th>playgames</th>\n",
       "      <th>watchtv</th>\n",
       "    </tr>\n",
       "  </thead>\n",
       "  <tbody>\n",
       "    <tr>\n",
       "      <th>0</th>\n",
       "      <td>female</td>\n",
       "      <td>18</td>\n",
       "      <td>first</td>\n",
       "      <td>hazel</td>\n",
       "      <td>68.0</td>\n",
       "      <td>195.0</td>\n",
       "      <td>0</td>\n",
       "      <td>1</td>\n",
       "      <td>20.0</td>\n",
       "      <td>Yes</td>\n",
       "      <td>3.0</td>\n",
       "      <td>75.0</td>\n",
       "      <td>6.0</td>\n",
       "      <td>18.0</td>\n",
       "    </tr>\n",
       "    <tr>\n",
       "      <th>1</th>\n",
       "      <td>male</td>\n",
       "      <td>20</td>\n",
       "      <td>third</td>\n",
       "      <td>brown</td>\n",
       "      <td>70.0</td>\n",
       "      <td>120.0</td>\n",
       "      <td>3</td>\n",
       "      <td>0</td>\n",
       "      <td>24.0</td>\n",
       "      <td>No</td>\n",
       "      <td>0.0</td>\n",
       "      <td>50.0</td>\n",
       "      <td>0.0</td>\n",
       "      <td>3.0</td>\n",
       "    </tr>\n",
       "    <tr>\n",
       "      <th>2</th>\n",
       "      <td>female</td>\n",
       "      <td>18</td>\n",
       "      <td>first</td>\n",
       "      <td>green</td>\n",
       "      <td>67.0</td>\n",
       "      <td>200.0</td>\n",
       "      <td>0</td>\n",
       "      <td>1</td>\n",
       "      <td>35.0</td>\n",
       "      <td>Yes</td>\n",
       "      <td>3.0</td>\n",
       "      <td>53.0</td>\n",
       "      <td>8.0</td>\n",
       "      <td>1.0</td>\n",
       "    </tr>\n",
       "    <tr>\n",
       "      <th>3</th>\n",
       "      <td>male</td>\n",
       "      <td>23</td>\n",
       "      <td>fourth</td>\n",
       "      <td>hazel</td>\n",
       "      <td>74.0</td>\n",
       "      <td>140.0</td>\n",
       "      <td>1</td>\n",
       "      <td>1</td>\n",
       "      <td>5.0</td>\n",
       "      <td>Yes</td>\n",
       "      <td>25.0</td>\n",
       "      <td>50.0</td>\n",
       "      <td>0.0</td>\n",
       "      <td>7.0</td>\n",
       "    </tr>\n",
       "    <tr>\n",
       "      <th>4</th>\n",
       "      <td>female</td>\n",
       "      <td>19</td>\n",
       "      <td>second</td>\n",
       "      <td>blue</td>\n",
       "      <td>62.0</td>\n",
       "      <td>60.0</td>\n",
       "      <td>0</td>\n",
       "      <td>1</td>\n",
       "      <td>5.0</td>\n",
       "      <td>Yes</td>\n",
       "      <td>4.0</td>\n",
       "      <td>30.0</td>\n",
       "      <td>2.0</td>\n",
       "      <td>5.0</td>\n",
       "    </tr>\n",
       "  </tbody>\n",
       "</table>\n",
       "</div>"
      ],
      "text/plain": [
       "   gender  age    year eyecolor  ...  exercisehours  musiccds  playgames  watchtv\n",
       "0  female   18   first    hazel  ...            3.0      75.0        6.0     18.0\n",
       "1    male   20   third    brown  ...            0.0      50.0        0.0      3.0\n",
       "2  female   18   first    green  ...            3.0      53.0        8.0      1.0\n",
       "3    male   23  fourth    hazel  ...           25.0      50.0        0.0      7.0\n",
       "4  female   19  second     blue  ...            4.0      30.0        2.0      5.0\n",
       "\n",
       "[5 rows x 14 columns]"
      ]
     },
     "execution_count": 242,
     "metadata": {},
     "output_type": "execute_result"
    }
   ],
   "source": [
    "from collections import Counter, defaultdict\n",
    "from itertools import combinations \n",
    "import pandas as pd\n",
    "import numpy as np\n",
    "import operator\n",
    "import math\n",
    "import itertools\n",
    "from sklearn.feature_extraction import DictVectorizer\n",
    "from sklearn import preprocessing, tree\n",
    "import matplotlib.pyplot as plt\n",
    "\n",
    "\n",
    "!wget -nc http://askoski.berkeley.edu/~zp/eye_color.csv\n",
    "!ls\n",
    "df = pd.read_csv('eye_color.csv')\n",
    "# remove NA's and reset the index\n",
    "df = df.dropna(axis=0, how='any', thresh=None, subset=None, inplace=False)\n",
    "df = df.reset_index(drop=True)\n",
    "\n",
    "df.head()"
   ]
  },
  {
   "cell_type": "markdown",
   "metadata": {
    "deletable": false,
    "editable": false,
    "id": "S2_bd_sZugj_",
    "nbgrader": {
     "checksum": "f27367e7e9ea794fdff16caaf9834f90",
     "grade": false,
     "grade_id": "cell-80cb77583712aa18",
     "locked": true,
     "schema_version": 1,
     "solution": false
    }
   },
   "source": [
    "---\n",
    "**Question 1 (0.5 points, autograded)**: How many males and females exist in the dataset?"
   ]
  },
  {
   "cell_type": "code",
   "execution_count": 243,
   "metadata": {
    "colab": {
     "base_uri": "https://localhost:8080/"
    },
    "deletable": false,
    "id": "Qq43exlvugkA",
    "nbgrader": {
     "checksum": "7bae96e9bc3cf6154faf15c8c953a12d",
     "grade": false,
     "grade_id": "cell-30e88bd16d0691ae",
     "locked": false,
     "schema_version": 1,
     "solution": true
    },
    "outputId": "f601702d-e953-4d31-b95b-4a6b9139e8d6"
   },
   "outputs": [
    {
     "data": {
      "text/plain": [
       "gender\n",
       "female    1078\n",
       "male       910\n",
       "dtype: int64"
      ]
     },
     "execution_count": 243,
     "metadata": {},
     "output_type": "execute_result"
    }
   ],
   "source": [
    "# YOUR CODE HERE\n",
    "df.groupby('gender').size()\n",
    "\n",
    "# raise NotImplementedError()"
   ]
  },
  {
   "cell_type": "code",
   "execution_count": 244,
   "metadata": {
    "deletable": false,
    "id": "qowIpB1MugkL",
    "nbgrader": {
     "checksum": "4b015ffcf2248033a4c736e194051ce0",
     "grade": false,
     "grade_id": "cell-b6afcdf2e16edeaf",
     "locked": false,
     "schema_version": 1,
     "solution": true
    }
   },
   "outputs": [],
   "source": [
    "#The value set in the variables must be integers\n",
    "num_males = 910 #Replace 0 with the actual value\n",
    "num_females = 1078 #Replace 0 with the actual value\n",
    "\n",
    "# YOUR CODE HERE\n",
    "# raise NotImplementedError()"
   ]
  },
  {
   "cell_type": "code",
   "execution_count": 245,
   "metadata": {
    "colab": {
     "base_uri": "https://localhost:8080/"
    },
    "deletable": false,
    "editable": false,
    "id": "rxROmUKRugkQ",
    "nbgrader": {
     "checksum": "b5f6c5a26715775443afa42a101640d3",
     "grade": true,
     "grade_id": "cell-148801df79f2a9ad",
     "locked": true,
     "points": 0.5,
     "schema_version": 1,
     "solution": false
    },
    "outputId": "8048cfaa-0183-4a0e-b5dd-55623bb8ca4f"
   },
   "outputs": [
    {
     "name": "stdout",
     "output_type": "stream",
     "text": [
      "910 1078\n"
     ]
    }
   ],
   "source": [
    "#This is an autograded cell, do not edit\n",
    "print(num_males, num_females)"
   ]
  },
  {
   "cell_type": "markdown",
   "metadata": {
    "deletable": false,
    "editable": false,
    "id": "LE7EGFnbugkU",
    "nbgrader": {
     "checksum": "46a9256f2edd92e7d4ab52309a6b4c57",
     "grade": false,
     "grade_id": "cell-c087e3cd6c8885e2",
     "locked": true,
     "schema_version": 1,
     "solution": false
    }
   },
   "source": [
    "---\n",
    "**Question 2 (0.5 points, autograded)**: What is the Gini Index of this dataset, using males and females as the target classes?"
   ]
  },
  {
   "cell_type": "code",
   "execution_count": 246,
   "metadata": {
    "colab": {
     "base_uri": "https://localhost:8080/"
    },
    "deletable": false,
    "id": "L5-IeBVlugkV",
    "nbgrader": {
     "checksum": "099940e4f38498b7848e39cf16effa72",
     "grade": false,
     "grade_id": "cell-77e48e0f5499c4dc",
     "locked": false,
     "schema_version": 1,
     "solution": true
    },
    "outputId": "0558dfea-701f-46e0-ebb6-c8217c2279a5"
   },
   "outputs": [
    {
     "data": {
      "text/plain": [
       "0.4964292799047807"
      ]
     },
     "execution_count": 246,
     "metadata": {},
     "output_type": "execute_result"
    }
   ],
   "source": [
    "# YOUR CODE HERE\n",
    "def gini(dataset):\n",
    "    cumsum = 0\n",
    "    for p in dataset:\n",
    "      cumsum += np.square(p / np.sum(dataset))\n",
    "    return 1 - cumsum\n",
    "\n",
    "gini(df.groupby('gender').size().tolist())\n",
    "\n",
    "# raise NotImplementedError()"
   ]
  },
  {
   "cell_type": "code",
   "execution_count": 247,
   "metadata": {
    "deletable": false,
    "id": "qWJVFWqqugkZ",
    "nbgrader": {
     "checksum": "9ad8fad77a751f201648404551610cd0",
     "grade": false,
     "grade_id": "cell-48020b6f76b01df8",
     "locked": false,
     "schema_version": 1,
     "solution": true
    }
   },
   "outputs": [],
   "source": [
    "#The value set in the variable must be float\n",
    "gini_index = 0.4964292799047807 #Replace 0 with the actual value / formula\n",
    "\n",
    "# YOUR CODE HERE\n",
    "# raise NotImplementedError()"
   ]
  },
  {
   "cell_type": "code",
   "execution_count": 248,
   "metadata": {
    "colab": {
     "base_uri": "https://localhost:8080/"
    },
    "deletable": false,
    "editable": false,
    "id": "N6nvXmTHugke",
    "nbgrader": {
     "checksum": "9e64fcb8ce6b4b69fad066fea2ced65a",
     "grade": true,
     "grade_id": "cell-7ae5a16e0caf13e6",
     "locked": true,
     "points": 0.5,
     "schema_version": 1,
     "solution": false
    },
    "outputId": "ea616003-4fcb-4510-8ac7-dcddd0d6d197"
   },
   "outputs": [
    {
     "name": "stdout",
     "output_type": "stream",
     "text": [
      "0.4964292799047807\n"
     ]
    }
   ],
   "source": [
    "#This is an autograded cell, do not edit\n",
    "print(gini_index)"
   ]
  },
  {
   "cell_type": "markdown",
   "metadata": {
    "deletable": false,
    "editable": false,
    "id": "p4XzX2Jjugkj",
    "nbgrader": {
     "checksum": "df88f99709afdfc9d92e17de990723e4",
     "grade": false,
     "grade_id": "cell-429dd5b9870bc4f0",
     "locked": true,
     "schema_version": 1,
     "solution": false
    }
   },
   "source": [
    "---\n",
    "## Best Split of a numeric feature\n",
    "**Question 3 (1.5 points, autograded)**: What is the best split point of the 'height' feature? (Still using males and females as the target classes, assuming a binary split)\n",
    "\n",
    "Recall that, to calculate the best split of this numeric field, you'll need to order your data by 'height', then consider the midpoint between each pair of consecutive heights as a potential split point, then calculate the Gini Index for that partitioning. You'll want to keep track of the best split point and its Gini Index (remember that you are trying to minimize the Gini Index). "
   ]
  },
  {
   "cell_type": "code",
   "execution_count": 249,
   "metadata": {
    "deletable": false,
    "id": "C922WXCougkm",
    "nbgrader": {
     "checksum": "39f67d746e08f968310e08a1e6302254",
     "grade": false,
     "grade_id": "cell-7e178474fbad8e3a",
     "locked": false,
     "schema_version": 1,
     "solution": true
    }
   },
   "outputs": [],
   "source": [
    "# YOUR CODE HERE\n",
    "def gini_split(dataset_1, dataset_2):\n",
    "    D1 = np.sum(dataset_1)\n",
    "    D2 = np.sum(dataset_2)\n",
    "    D = D1 + D2\n",
    "    return D1 / D * gini(dataset_1) + D2 / D * gini(dataset_2)\n",
    "\n",
    "#unique height \n",
    "height_unique = df['height'].unique()\n",
    "\n",
    "#mark down the midpoint\n",
    "midpoint = []\n",
    "for i in range(len(height_unique) - 1):\n",
    "    midpoint.append(np.mean([height_unique[i], height_unique[i+1]], axis=0))"
   ]
  },
  {
   "cell_type": "code",
   "execution_count": 250,
   "metadata": {
    "id": "10CPsypXgAY7"
   },
   "outputs": [],
   "source": [
    "#calculate the gini split index and store the result into a list\n",
    "partitioning = []\n",
    "for m in midpoint:\n",
    "    short_group = df_sort_height[df_sort_height.height <= m]\n",
    "    high_group = df_sort_height[df_sort_height.height > m]\n",
    "\n",
    "    short_split = short_group.groupby('gender').size().tolist()\n",
    "    high_split = high_group.groupby('gender').size().tolist()\n",
    "\n",
    "\n",
    "    partitioning.append([m, gini_split(short_split, high_split)])"
   ]
  },
  {
   "cell_type": "code",
   "execution_count": 251,
   "metadata": {
    "colab": {
     "base_uri": "https://localhost:8080/"
    },
    "id": "b6Uo3gbr4sVe",
    "outputId": "db809852-0cdd-4e4c-b39b-e37ae4ea9854"
   },
   "outputs": [
    {
     "name": "stdout",
     "output_type": "stream",
     "text": [
      "Best Split Point: 68.5      Gini Index: 0.2655288120702919\n"
     ]
    }
   ],
   "source": [
    "#choose the best one\n",
    "best = 100\n",
    "best_height = 0\n",
    "for p in range(len(partitioning)):\n",
    "    if partitioning[p][1] < best:\n",
    "        best = partitioning[p][1]\n",
    "        best_height = partitioning[p][0]\n",
    "\n",
    "print('Best Split Point:', best_height , '     Gini Index:', best)"
   ]
  },
  {
   "cell_type": "code",
   "execution_count": 304,
   "metadata": {
    "deletable": false,
    "id": "RiMp3KiOugkv",
    "nbgrader": {
     "checksum": "6f2ddee90f539fef475c3cf581869a7f",
     "grade": false,
     "grade_id": "cell-fdcb9f54f35480c4",
     "locked": false,
     "schema_version": 1,
     "solution": true
    }
   },
   "outputs": [],
   "source": [
    "#The value set in the variable must be float\n",
    "best_split_point = 68.5 #Replace 0 with the actual value\n",
    "\n",
    "# YOUR CODE HERE\n",
    "# raise NotImplementedError()"
   ]
  },
  {
   "cell_type": "code",
   "execution_count": 305,
   "metadata": {
    "colab": {
     "base_uri": "https://localhost:8080/"
    },
    "deletable": false,
    "editable": false,
    "id": "61AwBlXhugk0",
    "nbgrader": {
     "checksum": "2b3dd2ed02ddb601bc36a52f45defd92",
     "grade": true,
     "grade_id": "cell-323f912bd5314e78",
     "locked": true,
     "points": 1.5,
     "schema_version": 1,
     "solution": false
    },
    "outputId": "fa862f08-9b2f-4f77-95c3-3b096c863c81"
   },
   "outputs": [
    {
     "name": "stdout",
     "output_type": "stream",
     "text": [
      "68.5\n"
     ]
    }
   ],
   "source": [
    "#This is an autograded cell, do not edit\n",
    "print(best_split_point)"
   ]
  },
  {
   "cell_type": "markdown",
   "metadata": {
    "deletable": false,
    "editable": false,
    "id": "AawaoNa9ugk2",
    "nbgrader": {
     "checksum": "166316144c3f9c6f82d2963c96c19ba4",
     "grade": false,
     "grade_id": "cell-aa468156b67c5ab6",
     "locked": true,
     "schema_version": 1,
     "solution": false
    }
   },
   "source": [
    "---\n",
    "**Question 4 (0.5 points, autograded)**: What is the Gini index of the best split point of the 'height' feature? (Still using males and females as the target classes, assuming a binary split)\n"
   ]
  },
  {
   "cell_type": "code",
   "execution_count": 306,
   "metadata": {
    "colab": {
     "base_uri": "https://localhost:8080/"
    },
    "deletable": false,
    "id": "J_8GTuoSugk3",
    "nbgrader": {
     "checksum": "ee6e07cc1c224dbd0852a4105190e3f2",
     "grade": false,
     "grade_id": "cell-11b6c20fa6270892",
     "locked": false,
     "schema_version": 1,
     "solution": true
    },
    "outputId": "db39bcd3-0f77-499e-a7a6-24ade74ca8e0"
   },
   "outputs": [
    {
     "name": "stdout",
     "output_type": "stream",
     "text": [
      "0.2655288120702919\n"
     ]
    }
   ],
   "source": [
    "# YOUR CODE HERE\n",
    "# the best gini index code shows in q3\n",
    "print(best)\n",
    "\n",
    "# raise NotImplementedError()"
   ]
  },
  {
   "cell_type": "code",
   "execution_count": 312,
   "metadata": {
    "deletable": false,
    "id": "nnY4qayGugk8",
    "nbgrader": {
     "checksum": "4264def559ba5fe2e77d3688f04d9cfd",
     "grade": false,
     "grade_id": "cell-bef6191446f0b09e",
     "locked": false,
     "schema_version": 1,
     "solution": true
    }
   },
   "outputs": [],
   "source": [
    "#The value set in the variable must be float\n",
    "gini_of_best_split_point = 0.2655288120702919 #Replace 0 with the actual value\n",
    "\n",
    "# YOUR CODE HERE\n",
    "# raise NotImplementedError()"
   ]
  },
  {
   "cell_type": "code",
   "execution_count": 313,
   "metadata": {
    "colab": {
     "base_uri": "https://localhost:8080/"
    },
    "deletable": false,
    "editable": false,
    "id": "qtHNnrD8ugk_",
    "nbgrader": {
     "checksum": "0a0c63234a8f7fe57d8a19b011609fda",
     "grade": true,
     "grade_id": "cell-a483f7c52ce46218",
     "locked": true,
     "points": 0.5,
     "schema_version": 1,
     "solution": false
    },
    "outputId": "8b41665c-62f3-435c-ab9a-d3708427f6a7"
   },
   "outputs": [
    {
     "name": "stdout",
     "output_type": "stream",
     "text": [
      "0.2655288120702919\n"
     ]
    }
   ],
   "source": [
    "#This is an autograded cell, do not edit\n",
    "print(gini_of_best_split_point)"
   ]
  },
  {
   "cell_type": "markdown",
   "metadata": {
    "deletable": false,
    "editable": false,
    "id": "TILEzh_WuglE",
    "nbgrader": {
     "checksum": "3e4a285a07159ff52a5f4ffe396f74d6",
     "grade": false,
     "grade_id": "cell-3d05b5c3faef353d",
     "locked": true,
     "schema_version": 1,
     "solution": false
    }
   },
   "source": [
    "---\n",
    "**Question 5 (0.5 points, autograded)**: How much does this partitioning reduce the Gini Index over the Gini index of the overall dataset?"
   ]
  },
  {
   "cell_type": "code",
   "execution_count": 314,
   "metadata": {
    "colab": {
     "base_uri": "https://localhost:8080/"
    },
    "deletable": false,
    "id": "qOCZ13AAuglG",
    "nbgrader": {
     "checksum": "58f9b4479c238a525df6aa057e6eaa3b",
     "grade": false,
     "grade_id": "cell-1ab03a8159601e29",
     "locked": false,
     "schema_version": 1,
     "solution": true
    },
    "outputId": "1e8b390a-076d-41cd-eb08-e9402e22adfb"
   },
   "outputs": [
    {
     "data": {
      "text/plain": [
       "0.2309004678344888"
      ]
     },
     "execution_count": 314,
     "metadata": {},
     "output_type": "execute_result"
    }
   ],
   "source": [
    "# YOUR CODE HERE\n",
    "gini_index - gini_of_best_split_point\n",
    "# raise NotImplementedError()"
   ]
  },
  {
   "cell_type": "code",
   "execution_count": 315,
   "metadata": {
    "deletable": false,
    "id": "Z_jBrzFLuglN",
    "nbgrader": {
     "checksum": "0d222b71a5f4dd420fd140eeefb846d4",
     "grade": false,
     "grade_id": "cell-fbcebc71fc8bc842",
     "locked": false,
     "schema_version": 1,
     "solution": true
    }
   },
   "outputs": [],
   "source": [
    "#The value set in the variable must be float\n",
    "gini_difference = 0.2309004678344888 #Replace 0 with the actual value\n",
    "\n",
    "# YOUR CODE HERE\n",
    "# raise NotImplementedError()"
   ]
  },
  {
   "cell_type": "code",
   "execution_count": 316,
   "metadata": {
    "colab": {
     "base_uri": "https://localhost:8080/"
    },
    "deletable": false,
    "editable": false,
    "id": "XrLS99QPuglQ",
    "nbgrader": {
     "checksum": "86c116a776736ca45f3b04f15f237623",
     "grade": true,
     "grade_id": "cell-f24e621d36c96976",
     "locked": true,
     "points": 0.5,
     "schema_version": 1,
     "solution": false
    },
    "outputId": "713b1f23-de10-4532-db86-0e465585e105"
   },
   "outputs": [
    {
     "name": "stdout",
     "output_type": "stream",
     "text": [
      "0.2309004678344888\n"
     ]
    }
   ],
   "source": [
    "#This is an autograded cell, do not edit\n",
    "print(gini_difference)"
   ]
  },
  {
   "cell_type": "markdown",
   "metadata": {
    "deletable": false,
    "editable": false,
    "id": "4vI5aG7GuglS",
    "nbgrader": {
     "checksum": "a3c0d5d5951cda89ddc95d0edd3c006d",
     "grade": false,
     "grade_id": "cell-68fc7f06fbb3bd5c",
     "locked": true,
     "schema_version": 1,
     "solution": false
    }
   },
   "source": [
    "---\n",
    "**Question 6 (0.5 points, autograded)**: How many 'female' and 'male' rows are shorter than the best height split point?"
   ]
  },
  {
   "cell_type": "code",
   "execution_count": 317,
   "metadata": {
    "colab": {
     "base_uri": "https://localhost:8080/"
    },
    "deletable": false,
    "id": "Zmt1qgE5uglT",
    "nbgrader": {
     "checksum": "3d82c210dd5b8b938066fc8b9a0e70e8",
     "grade": false,
     "grade_id": "cell-cbfbed1feed2c2c6",
     "locked": false,
     "schema_version": 1,
     "solution": true
    },
    "outputId": "069beadf-7b23-452c-a8b6-279f5a1312f6"
   },
   "outputs": [
    {
     "data": {
      "text/plain": [
       "gender\n",
       "female    905\n",
       "male      142\n",
       "dtype: int64"
      ]
     },
     "execution_count": 317,
     "metadata": {},
     "output_type": "execute_result"
    }
   ],
   "source": [
    "# YOUR CODE HERE\n",
    "df_sort_height[df_sort_height.height < best_split_point].groupby('gender').size()\n",
    "\n",
    "# raise NotImplementedError()"
   ]
  },
  {
   "cell_type": "code",
   "execution_count": 322,
   "metadata": {
    "deletable": false,
    "id": "xAB5GTeauglX",
    "nbgrader": {
     "checksum": "71225beec49fc733245cd37612d3712e",
     "grade": false,
     "grade_id": "cell-fed4f19f21abcc31",
     "locked": false,
     "schema_version": 1,
     "solution": true
    }
   },
   "outputs": [],
   "source": [
    "\n",
    "#The value set in the variable must be integer\n",
    "female_rows_below = 905 #Replace 0 with the actual value\n",
    "male_rows_below = 142 #Replace 0 with the actual value\n",
    "# YOUR CODE HERE\n",
    "# raise NotImplementedError()"
   ]
  },
  {
   "cell_type": "code",
   "execution_count": 323,
   "metadata": {
    "colab": {
     "base_uri": "https://localhost:8080/"
    },
    "deletable": false,
    "editable": false,
    "id": "MiBZAc9vugld",
    "nbgrader": {
     "checksum": "12c1b2345e628bec41463cf88a60aeb0",
     "grade": true,
     "grade_id": "cell-8129604534bfec74",
     "locked": true,
     "points": 0.5,
     "schema_version": 1,
     "solution": false
    },
    "outputId": "b4a72152-4c33-448b-b87e-34397999f047"
   },
   "outputs": [
    {
     "name": "stdout",
     "output_type": "stream",
     "text": [
      "905 142\n"
     ]
    }
   ],
   "source": [
    "#This is an autograded cell, do not edit\n",
    "print(female_rows_below, male_rows_below)"
   ]
  },
  {
   "cell_type": "markdown",
   "metadata": {
    "deletable": false,
    "editable": false,
    "id": "GmBNDTILuglg",
    "nbgrader": {
     "checksum": "9fa8403981b6352444437901acb0d45c",
     "grade": false,
     "grade_id": "cell-95c30c8534082764",
     "locked": true,
     "schema_version": 1,
     "solution": false
    }
   },
   "source": [
    "---\n",
    "**Question 7 (0.5 points, autograded)**: How many 'female' and 'male' rows are taller than the best height split point?"
   ]
  },
  {
   "cell_type": "code",
   "execution_count": 324,
   "metadata": {
    "colab": {
     "base_uri": "https://localhost:8080/"
    },
    "deletable": false,
    "id": "dHJLmbwvuglh",
    "nbgrader": {
     "checksum": "9754f9fb331109f6c4b2b834211f0021",
     "grade": false,
     "grade_id": "cell-8b16da8f6a50682f",
     "locked": false,
     "schema_version": 1,
     "solution": true
    },
    "outputId": "a8e2fbaa-2d39-46ea-da6e-a499610c9f01"
   },
   "outputs": [
    {
     "data": {
      "text/plain": [
       "gender\n",
       "female    173\n",
       "male      768\n",
       "dtype: int64"
      ]
     },
     "execution_count": 324,
     "metadata": {},
     "output_type": "execute_result"
    }
   ],
   "source": [
    "# YOUR CODE HERE\n",
    "df_sort_height[df_sort_height.height > best_split_point].groupby('gender').size()\n",
    "\n",
    "# raise NotImplementedError()"
   ]
  },
  {
   "cell_type": "code",
   "execution_count": 325,
   "metadata": {
    "deletable": false,
    "id": "46G-hbpnugll",
    "nbgrader": {
     "checksum": "e2697ca1d9a6feec241ff33460d57600",
     "grade": false,
     "grade_id": "cell-2314033286696a75",
     "locked": false,
     "schema_version": 1,
     "solution": true
    }
   },
   "outputs": [],
   "source": [
    "\n",
    "#The value set in the variable must be integer\n",
    "female_rows_above = 173 #Replace 0 with the actual value\n",
    "male_rows_above = 768 #Replace 0 with the actual value\n",
    "# YOUR CODE HERE\n",
    "# raise NotImplementedError()"
   ]
  },
  {
   "cell_type": "code",
   "execution_count": 326,
   "metadata": {
    "colab": {
     "base_uri": "https://localhost:8080/"
    },
    "deletable": false,
    "editable": false,
    "id": "n2seT5oauglo",
    "nbgrader": {
     "checksum": "b2c8fbc90d6eb0473ef27e1855483904",
     "grade": true,
     "grade_id": "cell-da98dfdb73b8de96",
     "locked": true,
     "points": 0.5,
     "schema_version": 1,
     "solution": false
    },
    "outputId": "daebe8ed-0c3f-431d-fdfe-c71054b58d4a"
   },
   "outputs": [
    {
     "name": "stdout",
     "output_type": "stream",
     "text": [
      "173 768\n"
     ]
    }
   ],
   "source": [
    "#This is an autograded cell, do not edit\n",
    "print(female_rows_above, male_rows_above)"
   ]
  },
  {
   "cell_type": "markdown",
   "metadata": {
    "deletable": false,
    "editable": false,
    "id": "waG6P9fyuglt",
    "nbgrader": {
     "checksum": "1600c335755c3857d742205f32718e81",
     "grade": false,
     "grade_id": "cell-f0f3bf7078e30689",
     "locked": true,
     "schema_version": 1,
     "solution": false
    }
   },
   "source": [
    "---\n",
    "## Best Split of a Categorial Variable\n",
    "\n",
    "**Question 8 (0.5 points, autograded)**: How many possible splits are there of the eyecolor feature? (Assuming binary split)\n",
    "\n",
    "Python tip: the combinations function of the itertools module allows you to enumerate combinations of a list. You might want to Google 'power set'.\n"
   ]
  },
  {
   "cell_type": "code",
   "execution_count": 327,
   "metadata": {
    "deletable": false,
    "id": "1uYaZLJnuglu",
    "nbgrader": {
     "checksum": "2887cf4ef5a35baf851be351c05f0397",
     "grade": false,
     "grade_id": "cell-e5896ba56062be2d",
     "locked": false,
     "schema_version": 1,
     "solution": true
    }
   },
   "outputs": [],
   "source": [
    "# YOUR CODE HERE\n",
    "# powerset\n",
    "from itertools import chain, combinations\n",
    "def powerset(iterable):\n",
    "    \"powerset([1,2,3]) --> () (1,) (2,) (3,) (1,2) (1,3) (2,3) (1,2,3)\"\n",
    "    s = list(iterable)\n",
    "    return chain.from_iterable(combinations(s, r) for r in range(len(s)+1))"
   ]
  },
  {
   "cell_type": "code",
   "execution_count": 328,
   "metadata": {
    "colab": {
     "base_uri": "https://localhost:8080/"
    },
    "id": "7F446YCE9yJb",
    "outputId": "bf3c3d87-dbf4-4786-9990-15669a1d9e05"
   },
   "outputs": [
    {
     "data": {
      "text/plain": [
       "array(['blue', 'green', 'brown', 'hazel', 'other'], dtype=object)"
      ]
     },
     "execution_count": 328,
     "metadata": {},
     "output_type": "execute_result"
    }
   ],
   "source": [
    "df_sort_height.eyecolor.unique()"
   ]
  },
  {
   "cell_type": "code",
   "execution_count": 329,
   "metadata": {
    "colab": {
     "base_uri": "https://localhost:8080/"
    },
    "id": "lW3nkxQpK5FN",
    "outputId": "b2500b77-ee30-481c-b04c-e06640948e00"
   },
   "outputs": [
    {
     "data": {
      "text/plain": [
       "{1: 'blue', 2: 'green', 3: 'brown', 4: 'hazel', 5: 'other'}"
      ]
     },
     "execution_count": 329,
     "metadata": {},
     "output_type": "execute_result"
    }
   ],
   "source": [
    "color_dict = {1 : 'blue', 2 : 'green', 3 : 'brown', 4 : 'hazel', 5 : 'other'}\n",
    "color_dict"
   ]
  },
  {
   "cell_type": "code",
   "execution_count": 330,
   "metadata": {
    "colab": {
     "base_uri": "https://localhost:8080/"
    },
    "id": "5Tb0PxgE9HkS",
    "outputId": "76721903-677e-4d93-96d0-957390d9318a"
   },
   "outputs": [
    {
     "data": {
      "text/plain": [
       "[(),\n",
       " ('blue',),\n",
       " ('green',),\n",
       " ('brown',),\n",
       " ('hazel',),\n",
       " ('other',),\n",
       " ('blue', 'green'),\n",
       " ('blue', 'brown'),\n",
       " ('blue', 'hazel'),\n",
       " ('blue', 'other'),\n",
       " ('green', 'brown'),\n",
       " ('green', 'hazel'),\n",
       " ('green', 'other'),\n",
       " ('brown', 'hazel'),\n",
       " ('brown', 'other'),\n",
       " ('hazel', 'other'),\n",
       " ('blue', 'green', 'brown'),\n",
       " ('blue', 'green', 'hazel'),\n",
       " ('blue', 'green', 'other'),\n",
       " ('blue', 'brown', 'hazel'),\n",
       " ('blue', 'brown', 'other'),\n",
       " ('blue', 'hazel', 'other'),\n",
       " ('green', 'brown', 'hazel'),\n",
       " ('green', 'brown', 'other'),\n",
       " ('green', 'hazel', 'other'),\n",
       " ('brown', 'hazel', 'other'),\n",
       " ('blue', 'green', 'brown', 'hazel'),\n",
       " ('blue', 'green', 'brown', 'other'),\n",
       " ('blue', 'green', 'hazel', 'other'),\n",
       " ('blue', 'brown', 'hazel', 'other'),\n",
       " ('green', 'brown', 'hazel', 'other'),\n",
       " ('blue', 'green', 'brown', 'hazel', 'other')]"
      ]
     },
     "execution_count": 330,
     "metadata": {},
     "output_type": "execute_result"
    }
   ],
   "source": [
    "binary_split = list(powerset(['blue', 'green', 'brown', 'hazel', 'other']))\n",
    "binary_split"
   ]
  },
  {
   "cell_type": "code",
   "execution_count": 331,
   "metadata": {
    "colab": {
     "base_uri": "https://localhost:8080/"
    },
    "id": "yjs9435Y_FI7",
    "outputId": "deb50f4d-39be-4252-f672-b89c3ed0e308"
   },
   "outputs": [
    {
     "data": {
      "text/plain": [
       "15.0"
      ]
     },
     "execution_count": 331,
     "metadata": {},
     "output_type": "execute_result"
    }
   ],
   "source": [
    "(len(binary_split) - 2) / 2"
   ]
  },
  {
   "cell_type": "code",
   "execution_count": 332,
   "metadata": {
    "deletable": false,
    "id": "FozfnlkNuglx",
    "nbgrader": {
     "checksum": "c295a12954acf6f936b6a921a548717d",
     "grade": false,
     "grade_id": "cell-7cc929e1f346c97c",
     "locked": false,
     "schema_version": 1,
     "solution": true
    }
   },
   "outputs": [],
   "source": [
    "#The value set in the variable must be integer\n",
    "num_of_splits = 15 #Replace 0 with the actual value\n",
    "# YOUR CODE HERE\n",
    "# raise NotImplementedError()"
   ]
  },
  {
   "cell_type": "code",
   "execution_count": 333,
   "metadata": {
    "colab": {
     "base_uri": "https://localhost:8080/"
    },
    "deletable": false,
    "editable": false,
    "id": "cLupsW1Sugl0",
    "nbgrader": {
     "checksum": "d10ef3967a94bfbc24d620dceae732ed",
     "grade": true,
     "grade_id": "cell-e345841556e102c6",
     "locked": true,
     "points": 0.5,
     "schema_version": 1,
     "solution": false
    },
    "outputId": "023fb412-6452-484c-8b17-081a24641bf8"
   },
   "outputs": [
    {
     "name": "stdout",
     "output_type": "stream",
     "text": [
      "15\n"
     ]
    }
   ],
   "source": [
    "#This is an autograded cell, do not edit\n",
    "print(num_of_splits)"
   ]
  },
  {
   "cell_type": "markdown",
   "metadata": {
    "deletable": false,
    "editable": false,
    "id": "PuLJsUuvugl3",
    "nbgrader": {
     "checksum": "3f998cc39260ed85ff0341750544bd86",
     "grade": false,
     "grade_id": "cell-8503b7bec552f92c",
     "locked": true,
     "schema_version": 1,
     "solution": false
    }
   },
   "source": [
    "---\n",
    "**Question 9 (1 points, autograded)**: Which split of eyecolor best splits the female and male rows, as measured by the Gini Index?"
   ]
  },
  {
   "cell_type": "code",
   "execution_count": 334,
   "metadata": {
    "deletable": false,
    "id": "HLOlJnsqugl3",
    "nbgrader": {
     "checksum": "4f117805db47824ae1ef7129672c0d47",
     "grade": false,
     "grade_id": "cell-76f837f4f27e0842",
     "locked": false,
     "schema_version": 1,
     "solution": true
    }
   },
   "outputs": [],
   "source": [
    "# YOUR CODE HERE\n",
    "color_partitioning = []\n",
    "for color_tuple in binary_split[1:-1]:   #get the ('blue',)\n",
    "    color_1 = pd.DataFrame()\n",
    "    color_2 = pd.DataFrame()\n",
    "    for color_size in range(len(color_tuple)):   #how many color in one set\n",
    "        color_1 = color_1.append(df[df.eyecolor == color_tuple[color_size]])\n",
    "        color_2 = color_2.append(df[df.eyecolor != color_tuple[color_size]])\n",
    "    \n",
    "    color_1_split = color_1.groupby('gender').size().tolist()\n",
    "    color_2_split = color_2.groupby('gender').size().tolist()\n",
    "\n",
    "    color_partitioning.append([color_tuple, gini_split(color_1_split, color_2_split)])"
   ]
  },
  {
   "cell_type": "code",
   "execution_count": 335,
   "metadata": {
    "colab": {
     "base_uri": "https://localhost:8080/"
    },
    "id": "QYne_97cnlCq",
    "outputId": "856ecef6-c296-4811-96cb-c124182b6a7e"
   },
   "outputs": [
    {
     "name": "stdout",
     "output_type": "stream",
     "text": [
      "Best Split Point: ('green',)      Gini Index: 0.4930915729509777\n"
     ]
    }
   ],
   "source": [
    "#choose the best one\n",
    "best_color_split = 100\n",
    "best_index = 100\n",
    "for p in range(len(color_partitioning)):\n",
    "    if color_partitioning[p][1] < best_index:\n",
    "        best_index = color_partitioning[p][1]\n",
    "        best_color_split = color_partitioning[p][0]\n",
    "\n",
    "print('Best Split Point:', best_color_split , '     Gini Index:', best_index)"
   ]
  },
  {
   "cell_type": "code",
   "execution_count": 336,
   "metadata": {
    "deletable": false,
    "id": "iTBzhW_Vugl5",
    "nbgrader": {
     "checksum": "1904d5cda806153db739b5a397c420ce",
     "grade": false,
     "grade_id": "cell-c6d008b0007ae4d7",
     "locked": false,
     "schema_version": 1,
     "solution": true
    }
   },
   "outputs": [],
   "source": [
    "#The value set in the variable must be an array\n",
    "colour_group_1 = ['green'] #Replace [] with the actual colours/values in the group\n",
    "colour_group_2 = ['blue', 'brown', 'hazel', 'other'] #Replace [] with the actual colours/values in the group\n",
    "# YOUR CODE HERE\n",
    "# raise NotImplementedError()"
   ]
  },
  {
   "cell_type": "code",
   "execution_count": 337,
   "metadata": {
    "colab": {
     "base_uri": "https://localhost:8080/"
    },
    "deletable": false,
    "editable": false,
    "id": "DBKu0dDvugl-",
    "nbgrader": {
     "checksum": "4e306b120de04cbdc496f0bf5ca4bc75",
     "grade": true,
     "grade_id": "cell-633329070c59b89d",
     "locked": true,
     "points": 1,
     "schema_version": 1,
     "solution": false
    },
    "outputId": "78d0fcb4-acd2-4d6b-e187-189481ac42bd"
   },
   "outputs": [
    {
     "name": "stdout",
     "output_type": "stream",
     "text": [
      "['green'] ['blue', 'brown', 'hazel', 'other']\n"
     ]
    }
   ],
   "source": [
    "#This is an autograded cell, do not edit\n",
    "print(colour_group_1, colour_group_2)"
   ]
  },
  {
   "cell_type": "markdown",
   "metadata": {
    "deletable": false,
    "editable": false,
    "id": "Q0n3uxWFugmC",
    "nbgrader": {
     "checksum": "a5fa6db03e0b1d03320f702d669e6328",
     "grade": false,
     "grade_id": "cell-54d3a4d63e10789a",
     "locked": true,
     "schema_version": 1,
     "solution": false
    }
   },
   "source": [
    "---\n",
    "**Question 10 (0.5 points, autograded)**: What is the Gini Index of this best split?"
   ]
  },
  {
   "cell_type": "code",
   "execution_count": 338,
   "metadata": {
    "colab": {
     "base_uri": "https://localhost:8080/"
    },
    "deletable": false,
    "id": "SLWuwwvnugmF",
    "nbgrader": {
     "checksum": "f1b5c57dc68cb76716cb9dd1e5cb00db",
     "grade": false,
     "grade_id": "cell-f755b4ebebdcbcd3",
     "locked": false,
     "schema_version": 1,
     "solution": true
    },
    "outputId": "350abdc2-8369-4ebd-c9e1-29e96b7ab29d"
   },
   "outputs": [
    {
     "data": {
      "text/plain": [
       "0.4930915729509777"
      ]
     },
     "execution_count": 338,
     "metadata": {},
     "output_type": "execute_result"
    }
   ],
   "source": [
    "# YOUR CODE HERE\n",
    "best_index\n",
    "# raise NotImplementedError()"
   ]
  },
  {
   "cell_type": "code",
   "execution_count": 339,
   "metadata": {
    "deletable": false,
    "id": "VYJlCiCuugmJ",
    "nbgrader": {
     "checksum": "efce7c9024ee735ae78576a9e6153798",
     "grade": false,
     "grade_id": "cell-b9d691586c5addbd",
     "locked": false,
     "schema_version": 1,
     "solution": true
    }
   },
   "outputs": [],
   "source": [
    "#The value set in the variable must be float\n",
    "gini_of_best_split_group = 0.4930915729509777 #Replace 0 with the actual value\n",
    "\n",
    "# YOUR CODE HERE\n",
    "# raise NotImplementedError()"
   ]
  },
  {
   "cell_type": "code",
   "execution_count": 340,
   "metadata": {
    "colab": {
     "base_uri": "https://localhost:8080/"
    },
    "deletable": false,
    "editable": false,
    "id": "MFn6uVBcugmL",
    "nbgrader": {
     "checksum": "2d4da39818e70541f2d3a55729adbae0",
     "grade": true,
     "grade_id": "cell-7332ad4509b48564",
     "locked": true,
     "points": 0.5,
     "schema_version": 1,
     "solution": false
    },
    "outputId": "b7889ebd-032e-4002-e0c7-be0bf8d5f847"
   },
   "outputs": [
    {
     "name": "stdout",
     "output_type": "stream",
     "text": [
      "0.4930915729509777\n"
     ]
    }
   ],
   "source": [
    "#This is an autograded cell, do not edit\n",
    "print(gini_of_best_split_group)"
   ]
  },
  {
   "cell_type": "markdown",
   "metadata": {
    "deletable": false,
    "editable": false,
    "id": "_o0PW2rLugmO",
    "nbgrader": {
     "checksum": "473602565cfa2400f2ad7b85fd72b373",
     "grade": false,
     "grade_id": "cell-34f1033ad6a06232",
     "locked": true,
     "schema_version": 1,
     "solution": false
    }
   },
   "source": [
    "---\n",
    "**Question 11 (0.5 points, autograded)**: How much does this partitioning reduce the Gini Index over the Gini index of the overall dataset?"
   ]
  },
  {
   "cell_type": "code",
   "execution_count": 341,
   "metadata": {
    "colab": {
     "base_uri": "https://localhost:8080/"
    },
    "deletable": false,
    "id": "Ja5w5_ucugmP",
    "nbgrader": {
     "checksum": "bf9360740e6f25bb1c156c93c1869845",
     "grade": false,
     "grade_id": "cell-68d41651a95a23df",
     "locked": false,
     "schema_version": 1,
     "solution": true
    },
    "outputId": "c9ef5b5d-a1a1-4d80-d2fa-d7d56d2888ca"
   },
   "outputs": [
    {
     "data": {
      "text/plain": [
       "0.003337706953802977"
      ]
     },
     "execution_count": 341,
     "metadata": {},
     "output_type": "execute_result"
    }
   ],
   "source": [
    "# YOUR CODE HERE\n",
    "gini_index - gini_of_best_split_group\n",
    "# raise NotImplementedError()"
   ]
  },
  {
   "cell_type": "code",
   "execution_count": 342,
   "metadata": {
    "deletable": false,
    "id": "Z1m4Yf-NugmR",
    "nbgrader": {
     "checksum": "7d84ef913eb55fa6ab7d5f327bc8b650",
     "grade": false,
     "grade_id": "cell-7e15f66615ed4361",
     "locked": false,
     "schema_version": 1,
     "solution": true
    }
   },
   "outputs": [],
   "source": [
    "#The value set in the variable must be float\n",
    "gini_difference_2 = 0.003337706953802977 #Replace 0 with the actual value\n",
    "\n",
    "# YOUR CODE HERE\n",
    "# raise NotImplementedError()"
   ]
  },
  {
   "cell_type": "code",
   "execution_count": 343,
   "metadata": {
    "colab": {
     "base_uri": "https://localhost:8080/"
    },
    "deletable": false,
    "editable": false,
    "id": "-7ij3URDugmT",
    "nbgrader": {
     "checksum": "6ac2eb45e569ee8da44b7ed0faf33edc",
     "grade": true,
     "grade_id": "cell-a879c9d33c4f102f",
     "locked": true,
     "points": 0.5,
     "schema_version": 1,
     "solution": false
    },
    "outputId": "980b6b48-fb29-4a25-e64a-bb67689b7ad8"
   },
   "outputs": [
    {
     "name": "stdout",
     "output_type": "stream",
     "text": [
      "0.003337706953802977\n"
     ]
    }
   ],
   "source": [
    "#This is an autograded cell, do not edit\n",
    "print(gini_difference_2)"
   ]
  },
  {
   "cell_type": "markdown",
   "metadata": {
    "deletable": false,
    "editable": false,
    "id": "C0UNgzrTugmX",
    "nbgrader": {
     "checksum": "60aae9f1a5f6e166acf954ee3219986a",
     "grade": false,
     "grade_id": "cell-a47e13b3fcc0108a",
     "locked": true,
     "schema_version": 1,
     "solution": false
    }
   },
   "source": [
    "---\n",
    "**Question 12 (1 points, autograded)** : How many 'female' rows and 'male' rows are in your first partition? How many 'female' rows and 'male' rows are in your second partition?"
   ]
  },
  {
   "cell_type": "code",
   "execution_count": 344,
   "metadata": {
    "colab": {
     "base_uri": "https://localhost:8080/"
    },
    "id": "p9Wi_oripTGB",
    "outputId": "d85836ac-fdbb-4988-a1d7-5834fc10d0e1"
   },
   "outputs": [
    {
     "data": {
      "text/plain": [
       "['blue', 'brown', 'hazel', 'other']"
      ]
     },
     "execution_count": 344,
     "metadata": {},
     "output_type": "execute_result"
    }
   ],
   "source": [
    "colour_group_2"
   ]
  },
  {
   "cell_type": "code",
   "execution_count": 345,
   "metadata": {
    "colab": {
     "base_uri": "https://localhost:8080/"
    },
    "deletable": false,
    "id": "JguwfDQmugmY",
    "nbgrader": {
     "checksum": "83f6848101b44ce8d5d499484d55d3b2",
     "grade": false,
     "grade_id": "cell-da838430a7b931e1",
     "locked": false,
     "schema_version": 1,
     "solution": true
    },
    "outputId": "6b7048d6-d3a7-4636-b65a-93bf09bbe329"
   },
   "outputs": [
    {
     "data": {
      "text/plain": [
       "gender\n",
       "female    190\n",
       "male      107\n",
       "dtype: int64"
      ]
     },
     "execution_count": 345,
     "metadata": {},
     "output_type": "execute_result"
    }
   ],
   "source": [
    "# YOUR CODE HERE\n",
    "df[df.eyecolor == colour_group_1[0]].groupby('gender').size()\n",
    "# raise NotImplementedError()"
   ]
  },
  {
   "cell_type": "code",
   "execution_count": 346,
   "metadata": {
    "colab": {
     "base_uri": "https://localhost:8080/"
    },
    "id": "zwbRMzAzpZVc",
    "outputId": "a9905ca1-c823-4a2b-af79-0e8262334a05"
   },
   "outputs": [
    {
     "data": {
      "text/plain": [
       "gender\n",
       "female    888\n",
       "male      803\n",
       "dtype: int64"
      ]
     },
     "execution_count": 346,
     "metadata": {},
     "output_type": "execute_result"
    }
   ],
   "source": [
    "df[df.eyecolor != colour_group_1[0]].groupby('gender').size()"
   ]
  },
  {
   "cell_type": "code",
   "execution_count": 347,
   "metadata": {
    "deletable": false,
    "id": "H-dDxSbDugma",
    "nbgrader": {
     "checksum": "3c880462e0a6e9e9d64542752b22cbef",
     "grade": false,
     "grade_id": "cell-e4c3bc95376f6df7",
     "locked": false,
     "schema_version": 1,
     "solution": true
    }
   },
   "outputs": [],
   "source": [
    "\n",
    "#The value set in the variable must be integer, order doesn't matter\n",
    "partition1_male = 107 #Replace 0 with the actual value\n",
    "partition1_female = 190 #Replace 0 with the actual value\n",
    "partition2_male = 803 #Replace 0 with the actual value\n",
    "partition2_female = 888 #Replace 0 with the actual value\n",
    "\n",
    "# YOUR CODE HERE\n",
    "# raise NotImplementedError()"
   ]
  },
  {
   "cell_type": "code",
   "execution_count": 348,
   "metadata": {
    "colab": {
     "base_uri": "https://localhost:8080/"
    },
    "deletable": false,
    "editable": false,
    "id": "XYCfnyCNugmd",
    "nbgrader": {
     "checksum": "0fdc2e6ab8f5b169f5bfd9566d85fc01",
     "grade": true,
     "grade_id": "cell-1c022d94964cb6cc",
     "locked": true,
     "points": 1,
     "schema_version": 1,
     "solution": false
    },
    "outputId": "b0228792-4d35-4f10-bc88-9573d2076635"
   },
   "outputs": [
    {
     "name": "stdout",
     "output_type": "stream",
     "text": [
      "107 190 803 888\n"
     ]
    }
   ],
   "source": [
    "#This is an autograded cell, do not edit\n",
    "print(partition1_male, partition1_female, partition2_male, partition2_female)"
   ]
  },
  {
   "cell_type": "markdown",
   "metadata": {
    "deletable": false,
    "editable": false,
    "id": "JoFggmQGugmi",
    "nbgrader": {
     "checksum": "2d2ab95c05c31c5f214bd422e16e450b",
     "grade": false,
     "grade_id": "cell-d81b2ec1e886e1b6",
     "locked": true,
     "schema_version": 1,
     "solution": false
    }
   },
   "source": [
    "## Training a decision tree\n",
    "**Question 13 (1 points, autograded)**: Using all of the features in the original dataframe read in at the top of this notebook, train a decision tree classifier that has a depth of three (not including the root node). What is the accuracy of this classifier on the training data?\n",
    "\n",
    "Scikit-learn classifiers require class labels and features to be in numeric arrays. As such, you will need to turn your categorical features into numeric arrays using DictVectorizer. This is a helpful notebook for understanding how to do this: http://nbviewer.ipython.org/gist/sarguido/7423289. You can turn a pandas dataframe of features into a dictionary of the form needed by DictVectorizer by using df.to_dict('records'). Make sure you remove the class label first (in this case, gender). If you use the class label as a feature, your classifier will have a training accuracy of 100%! The example notebook link also shows how to turn your class labels into a numeric array using sklearn.preprocessing.LabelEncoder()."
   ]
  },
  {
   "cell_type": "code",
   "execution_count": 349,
   "metadata": {
    "colab": {
     "base_uri": "https://localhost:8080/"
    },
    "deletable": false,
    "id": "kFIx_xdyugmj",
    "nbgrader": {
     "checksum": "14960b019250231f745c6db5a38c70f7",
     "grade": false,
     "grade_id": "cell-a77a52f79c83b21a",
     "locked": false,
     "schema_version": 1,
     "solution": true
    },
    "outputId": "3101aeed-da89-4829-ed10-da28e7b3da4e"
   },
   "outputs": [
    {
     "name": "stdout",
     "output_type": "stream",
     "text": [
      "0.8646881287726358\n"
     ]
    }
   ],
   "source": [
    "# YOUR CODE HERE\n",
    "df_feature = df.drop(columns = ['gender'])\n",
    "feature_dic = df_feature.to_dict('records')\n",
    "label = df['gender']\n",
    "\n",
    "# vectorizing our categorical values is to create a DictVectorizer() object \n",
    "# use fit_transform() and toarray() to get the values into a NumPy array.\n",
    "from sklearn.feature_extraction import DictVectorizer\n",
    "vec = DictVectorizer()\n",
    "feature_data = vec.fit_transform(feature_dic).toarray()\n",
    "\n",
    "# label encoding into a numeric array\n",
    "from sklearn import preprocessing\n",
    "le = preprocessing.LabelEncoder()\n",
    "le.fit([\"female\", \"male\"])\n",
    "target = le.transform(label) #transform categorical label\n",
    "\n",
    "# fit the model\n",
    "from sklearn.tree import DecisionTreeClassifier\n",
    "model = DecisionTreeClassifier(max_depth=3)\n",
    "model = model.fit(feature_data, target)\n",
    "print(model.score(feature_data, target))"
   ]
  },
  {
   "cell_type": "code",
   "execution_count": 350,
   "metadata": {
    "deletable": false,
    "id": "CqowI-lrugmn",
    "nbgrader": {
     "checksum": "f26339bc22d99829fefeb18e1c46cb06",
     "grade": false,
     "grade_id": "cell-55c9f9a2702cf09c",
     "locked": false,
     "schema_version": 1,
     "solution": true
    }
   },
   "outputs": [],
   "source": [
    "\n",
    "#The value set in the variable must be float\n",
    "accuracy = 0.8646881287726358 #Replace 0 with the actual value\n",
    "\n",
    "# YOUR CODE HERE\n",
    "# raise NotImplementedError()"
   ]
  },
  {
   "cell_type": "code",
   "execution_count": 351,
   "metadata": {
    "colab": {
     "base_uri": "https://localhost:8080/"
    },
    "deletable": false,
    "editable": false,
    "id": "urP93Al5ugmu",
    "nbgrader": {
     "checksum": "75544e763b81e3e36748ea0f4989c6ae",
     "grade": true,
     "grade_id": "cell-329a69c83b199316",
     "locked": true,
     "points": 1,
     "schema_version": 1,
     "solution": false
    },
    "outputId": "cecf77af-2dd0-448d-cc35-0849901ad1fc"
   },
   "outputs": [
    {
     "name": "stdout",
     "output_type": "stream",
     "text": [
      "0.8646881287726358\n"
     ]
    }
   ],
   "source": [
    "#This is an autograded cell, do not edit\n",
    "print(accuracy)"
   ]
  },
  {
   "cell_type": "markdown",
   "metadata": {
    "deletable": false,
    "editable": false,
    "id": "MpU-3jviugm1",
    "nbgrader": {
     "checksum": "f23e20cb9c25f2f8d674f98079625ff2",
     "grade": false,
     "grade_id": "cell-e321872a66519e2c",
     "locked": true,
     "schema_version": 1,
     "solution": false
    }
   },
   "source": [
    "---\n",
    "**Question 14 (1 points, manually graded)**: Using the following code snippet, visualize your decision tree. In your write-up, **write down the interpretation of the rule at each node** which is used to perform the splitting.\n",
    "\n",
    "We provide **two options** to visualize decision trees. The first option uses `tree.plot_tree` and the other uses an external tool called `GraphViz`. You can **use either of the two options**.  `tree.plot_tree` is the **recommended and easier option** as it is a built-in function in `sklearn` and doesn't require any additional setup.\n",
    "\n",
    "Uncomment the code, **fill in the clf (classifier) and `feature_names` arguments**. Executing the code will display the tree visualization in the output cell. \n",
    "\n",
    "Note for users who want to install graphviz on their local machines (**you don't need to do install graphviz if you're running the notebook Colab**, which is the class' recommended way of doing assignments): \n",
    "\n",
    "\n",
    "\n",
    "> In order to install graphviz, you may need to download the tool from [this website](https://graphviz.gitlab.io), and then pip3/conda install the python libraries you do not have. Mac users can use ```brew install graphviz``` instead of following the link, and linux users can do the same using their favourite package manager (for example, Ubuntu users can use ```sudo apt-get install graphviz```, followed by the necessary pip3/conda installations.\n",
    "\n",
    "\n"
   ]
  },
  {
   "cell_type": "code",
   "execution_count": 352,
   "metadata": {
    "colab": {
     "base_uri": "https://localhost:8080/",
     "height": 792
    },
    "id": "CcYGDqUIIGZa",
    "outputId": "1a386d01-2efb-4eae-8ece-063d5077202c"
   },
   "outputs": [
    {
     "data": {
      "image/png": "[encoded data removed]",
      "text/plain": [
       "<Figure size 1008x1008 with 1 Axes>"
      ]
     },
     "metadata": {
      "needs_background": "light"
     },
     "output_type": "display_data"
    }
   ],
   "source": [
    "#Option 1 (Recommended Option) - Using `tree.plot_tree`\n",
    "clf = model\n",
    "fig, ax = plt.subplots(figsize=(14, 14))\n",
    "tree.plot_tree(clf, fontsize=10, feature_names=vec.feature_names_); "
   ]
  },
  {
   "cell_type": "markdown",
   "metadata": {
    "id": "GbT2z8E6ikmH"
   },
   "source": [
    "**Interpretation of the rule:**\n",
    "\n",
    "1.For the root node, the height = 68.5 can help us get the best gini index. So finally, we use \"height <= 68.5\" as a split point and less and equal to 68.5 will go to the left side, larger than 68.5 will go to the right side. The best gini index is 0.496. \n",
    "\n",
    "2.In the second layer, the left side node use a new feature \"playgames\" as its split point, if the playgames time less or equal to 7.75 will go to the left child, otherwise right child.\n",
    "\n",
    "3.Most of the gini indexs in the last layer will smaller than the parent node.\n"
   ]
  },
  {
   "cell_type": "code",
   "execution_count": 353,
   "metadata": {
    "deletable": false,
    "editable": false,
    "id": "H80MNiT4ugm2",
    "nbgrader": {
     "checksum": "b43dac070b745305841e22382bc87bda",
     "grade": false,
     "grade_id": "cell-5aaab8332072d23e",
     "locked": true,
     "schema_version": 1,
     "solution": false
    }
   },
   "outputs": [],
   "source": [
    "#Option 2 - Using GraphViz. Visualization is prettier, but additional setup may be required if running on your local machine (although no setup required on Colab)  \n",
    "\n",
    "from IPython.display import Image  \n",
    "import pydotplus \n",
    "import pydot\n",
    "from sklearn.externals.six import StringIO\n",
    "\n",
    "\n",
    "#clf = your classifier\n",
    "#dotfile = StringIO() \n",
    "#tree.export_graphviz(clf, out_file=dotfile,\n",
    "#                      feature_names=<Names of columns>,  \n",
    "#                          class_names=['Female', 'Male'],  \n",
    "#                          filled=True, rounded=True,  \n",
    "#                          special_characters=True)\n",
    "#graph = pydotplus.graph_from_dot_data(dotfile.getvalue())\n",
    "#Image(graph.create_png())\n",
    "\n",
    "\n",
    "#Ignore the cell below, but do not delete it. It is used to grade the image output of this cell."
   ]
  },
  {
   "cell_type": "code",
   "execution_count": 354,
   "metadata": {
    "deletable": false,
    "id": "ty3tzOLVugm8",
    "nbgrader": {
     "checksum": "cd77be0d5dbdbf44dccc26ef3ee69512",
     "grade": true,
     "grade_id": "cell-ebde7100c67bf20c",
     "locked": false,
     "points": 1,
     "schema_version": 1,
     "solution": true
    }
   },
   "outputs": [],
   "source": [
    "# YOUR CODE HERE\n",
    "# raise NotImplementedError()"
   ]
  },
  {
   "cell_type": "markdown",
   "metadata": {
    "deletable": false,
    "editable": false,
    "id": "gIOPTYuiugnF",
    "nbgrader": {
     "checksum": "29e84207b6e13109206f7ef78d0ff602",
     "grade": false,
     "grade_id": "cell-06714e6427b2d0d0",
     "locked": true,
     "schema_version": 1,
     "solution": false
    }
   },
   "source": [
    "---\n",
    "## Bonus Question (2 points, auto graded)\n",
    "For each of your leaf nodes, specify the percentage of 'female' rows in that node (out of the total number of rows at that node)\n"
   ]
  },
  {
   "cell_type": "code",
   "execution_count": 355,
   "metadata": {
    "colab": {
     "base_uri": "https://localhost:8080/"
    },
    "id": "QArm18FY0lCl",
    "outputId": "e1126f2b-f400-4765-9865-9067e3daab33"
   },
   "outputs": [
    {
     "data": {
      "text/plain": [
       "0.9325301204819277"
      ]
     },
     "execution_count": 355,
     "metadata": {},
     "output_type": "execute_result"
    }
   ],
   "source": [
    "#[\"female\", \"male\"]\n",
    "#[774, 56], [97, 45], [22, 5], [12, 36], [107, 85], [16, 121], [37, 196], [13, 366]\n",
    "\n",
    "774 / (774 + 56)"
   ]
  },
  {
   "cell_type": "code",
   "execution_count": 356,
   "metadata": {
    "colab": {
     "base_uri": "https://localhost:8080/"
    },
    "id": "b-VO9YEW2aT0",
    "outputId": "b630e561-b199-4bb1-f27c-9bf65a877144"
   },
   "outputs": [
    {
     "data": {
      "text/plain": [
       "0.6830985915492958"
      ]
     },
     "execution_count": 356,
     "metadata": {},
     "output_type": "execute_result"
    }
   ],
   "source": [
    "97 / (97 + 45)"
   ]
  },
  {
   "cell_type": "code",
   "execution_count": 357,
   "metadata": {
    "colab": {
     "base_uri": "https://localhost:8080/"
    },
    "id": "NS8j11IG2afu",
    "outputId": "ac26d678-131a-49f0-93b6-75fa6f2ea4eb"
   },
   "outputs": [
    {
     "data": {
      "text/plain": [
       "0.8148148148148148"
      ]
     },
     "execution_count": 357,
     "metadata": {},
     "output_type": "execute_result"
    }
   ],
   "source": [
    "22 / (22 + 5)"
   ]
  },
  {
   "cell_type": "code",
   "execution_count": 358,
   "metadata": {
    "colab": {
     "base_uri": "https://localhost:8080/"
    },
    "id": "RtOabfdq2a3A",
    "outputId": "a65987d2-1f5d-416c-f950-6fdc73aee684"
   },
   "outputs": [
    {
     "data": {
      "text/plain": [
       "0.25"
      ]
     },
     "execution_count": 358,
     "metadata": {},
     "output_type": "execute_result"
    }
   ],
   "source": [
    "12 / (12 + 36)"
   ]
  },
  {
   "cell_type": "code",
   "execution_count": 359,
   "metadata": {
    "colab": {
     "base_uri": "https://localhost:8080/"
    },
    "id": "872IxlWf2bBj",
    "outputId": "fae2789e-478d-46e5-8a1d-d08927855824"
   },
   "outputs": [
    {
     "data": {
      "text/plain": [
       "0.5572916666666666"
      ]
     },
     "execution_count": 359,
     "metadata": {},
     "output_type": "execute_result"
    }
   ],
   "source": [
    "107 / (107 + 85)"
   ]
  },
  {
   "cell_type": "code",
   "execution_count": 360,
   "metadata": {
    "colab": {
     "base_uri": "https://localhost:8080/"
    },
    "id": "HIaYwYB52bLV",
    "outputId": "18043b61-d263-435a-d953-6f9ca67833db"
   },
   "outputs": [
    {
     "data": {
      "text/plain": [
       "0.11678832116788321"
      ]
     },
     "execution_count": 360,
     "metadata": {},
     "output_type": "execute_result"
    }
   ],
   "source": [
    "16 / (16 + 121)"
   ]
  },
  {
   "cell_type": "code",
   "execution_count": 361,
   "metadata": {
    "colab": {
     "base_uri": "https://localhost:8080/"
    },
    "id": "cLH3eqjq2bTa",
    "outputId": "f84a7d8f-f1ef-4eda-81bd-a61a8c31bf70"
   },
   "outputs": [
    {
     "data": {
      "text/plain": [
       "0.15879828326180256"
      ]
     },
     "execution_count": 361,
     "metadata": {},
     "output_type": "execute_result"
    }
   ],
   "source": [
    "37 / (37 + 196)"
   ]
  },
  {
   "cell_type": "code",
   "execution_count": 362,
   "metadata": {
    "colab": {
     "base_uri": "https://localhost:8080/"
    },
    "id": "SBREQHug2baT",
    "outputId": "67dc5736-43a4-4c4e-deb4-59d8b4c5b471"
   },
   "outputs": [
    {
     "data": {
      "text/plain": [
       "0.03430079155672823"
      ]
     },
     "execution_count": 362,
     "metadata": {},
     "output_type": "execute_result"
    }
   ],
   "source": [
    "13 / (13 + 366)"
   ]
  },
  {
   "cell_type": "code",
   "execution_count": 363,
   "metadata": {
    "deletable": false,
    "id": "co_iRKrUugnG",
    "nbgrader": {
     "checksum": "88cda91aeb11b6f96d6c2bacf4a4804e",
     "grade": false,
     "grade_id": "cell-650a81bc31e6f608",
     "locked": false,
     "schema_version": 1,
     "solution": true
    }
   },
   "outputs": [],
   "source": [
    "#The value set in the variable must be array\n",
    "ratios = [np.array([0.9325301204819277, 0.6830985915492958, 0.8148148148148148, 0.25, 0.5572916666666666, 0.11678832116788321, 0.15879828326180256, 0.03430079155672823])] #Replace 0 with the actual value\n",
    "\n",
    "# YOUR CODE HERE\n",
    "# raise NotImplementedError()"
   ]
  },
  {
   "cell_type": "code",
   "execution_count": 364,
   "metadata": {
    "colab": {
     "base_uri": "https://localhost:8080/"
    },
    "deletable": false,
    "editable": false,
    "id": "Ugyn_t3lugnH",
    "nbgrader": {
     "checksum": "de18cf01eb62a9398145d3f1879681d5",
     "grade": true,
     "grade_id": "cell-2cc540aa430d101d",
     "locked": true,
     "points": 2,
     "schema_version": 1,
     "solution": false
    },
    "outputId": "84317234-5d2b-46da-f444-5db55dd6d12a"
   },
   "outputs": [
    {
     "name": "stdout",
     "output_type": "stream",
     "text": [
      "[array([0.93253012, 0.68309859, 0.81481481, 0.25      , 0.55729167,\n",
      "       0.11678832, 0.15879828, 0.03430079])]\n"
     ]
    }
   ],
   "source": [
    "#This is an autograded cell, do not edit\n",
    "print(ratios)"
   ]
  },
  {
   "cell_type": "code",
   "execution_count": 303,
   "metadata": {
    "id": "5cd6Q6INUIZw"
   },
   "outputs": [],
   "source": []
  }
 ],
 "metadata": {
  "colab": {
   "collapsed_sections": [],
   "name": "Deng_Yinglu_Lab 3.ipynb",
   "provenance": []
  },
  "kernelspec": {
   "display_name": "Python 3",
   "language": "python",
   "name": "python3"
  },
  "language_info": {
   "codemirror_mode": {
    "name": "ipython",
    "version": 3
   },
   "file_extension": ".py",
   "mimetype": "text/x-python",
   "name": "python",
   "nbconvert_exporter": "python",
   "pygments_lexer": "ipython3",
   "version": "3.7.6"
  }
 },
 "nbformat": 4,
 "nbformat_minor": 1
}
