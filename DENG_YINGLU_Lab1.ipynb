{
 "cells": [
  {
   "cell_type": "markdown",
   "metadata": {
    "id": "vKduyi9dItO4"
   },
   "source": [
    "Make sure you fill in any place that says `YOUR CODE HERE` or `YOUR ANSWER HERE`, as well as your name below:"
   ]
  },
  {
   "cell_type": "code",
   "execution_count": 41,
   "metadata": {
    "id": "FsEVbU41ItO7"
   },
   "outputs": [],
   "source": [
    "NAME = \"Yinglu Deng\""
   ]
  },
  {
   "cell_type": "markdown",
   "metadata": {
    "id": "M7sDljEMItPA"
   },
   "source": [
    "---"
   ]
  },
  {
   "cell_type": "markdown",
   "metadata": {
    "deletable": false,
    "editable": false,
    "id": "LJNmSc7sItPB",
    "nbgrader": {
     "checksum": "720281502b9b9c7f8930d61c682cb061",
     "grade": false,
     "grade_id": "cell-731531e531b99c39",
     "locked": true,
     "schema_version": 1,
     "solution": false
    }
   },
   "source": [
    "# Lab 1 - Data Preprocessing\n",
    "\n",
    "Data transformations are useful for preparing a dataset for answering a particular question. Part of this process involves generating features from the dataset you find relevant to the question at hand. For this lab, we will be using a Yelp reviews dataset. Each row in the dataset depicts one review along with the features of the review (the reviewer, the review text, etc.). The goal of this lab is to convert this reviews dataset into a reviewers dataset by creating different features of each reviewer.\n",
    "\n",
    "The submission for this assignment should be done *individually*.\n",
    "\n",
    "# Environment Setup\n",
    "Run this cell to setup your environment."
   ]
  },
  {
   "cell_type": "code",
   "execution_count": 42,
   "metadata": {
    "colab": {
     "base_uri": "https://localhost:8080/"
    },
    "deletable": false,
    "editable": false,
    "id": "LIH96tFzItPC",
    "nbgrader": {
     "checksum": "c4f9a2a35aae087d70dccad8514e5e4f",
     "grade": false,
     "grade_id": "cell-88d067a4407f02bf",
     "locked": true,
     "schema_version": 1,
     "solution": false
    },
    "outputId": "6dece374-67ee-4eb5-a8bc-3bb333157d59"
   },
   "outputs": [
    {
     "name": "stdout",
     "output_type": "stream",
     "text": [
      "Libraries Imported\n",
      "File ‘yelp_reviews.csv’ already there; not retrieving.\n",
      "\n",
      "Dataset Downloaded: yelp_reviews.csv\n",
      "     type             business_id  ... useful_votes  funny_votes\n",
      "0  review  mxrXVZWc6PWk81gvOVNOUw  ...            0            0\n",
      "1  review  mxrXVZWc6PWk81gvOVNOUw  ...            0            0\n",
      "2  review  kK4AzZ0YWI-U2G-paAL7Fg  ...            0            0\n",
      "3  review  mxrXVZWc6PWk81gvOVNOUw  ...            1            0\n",
      "4  review  mxrXVZWc6PWk81gvOVNOUw  ...            0            1\n",
      "\n",
      "[5 rows x 9 columns]\n",
      "Setup Complete\n"
     ]
    }
   ],
   "source": [
    "# Importing libraries\n",
    "import pandas as pd\n",
    "import math\n",
    "import numpy as np\n",
    "import os\n",
    "print('Libraries Imported')\n",
    "\n",
    "#DOWNLOADING DATASET IF NOT PRESENT\n",
    "!wget -nc http://askoski.berkeley.edu/~zp/yelp_reviews.csv\n",
    "\n",
    "#!unzip yelp_reviews.zip\n",
    "print('Dataset Downloaded: yelp_reviews.csv')\n",
    "df=pd.read_csv('yelp_reviews.csv')\n",
    "print(df.head())\n",
    "\n",
    "print('Setup Complete')"
   ]
  },
  {
   "cell_type": "markdown",
   "metadata": {
    "deletable": false,
    "editable": false,
    "id": "esN8qRHkItPG",
    "nbgrader": {
     "checksum": "51be56b978a555a682bd1a02d85a7434",
     "grade": false,
     "grade_id": "cell-63034c0f0a81dc85",
     "locked": true,
     "schema_version": 1,
     "solution": false
    }
   },
   "source": [
    "**Q1: What was the highest number of reviews for any one business_id?**\n",
    "- For this task, we will need to group the reviews dataset by business_id. This will aggregate data for each business, which is what we need. This can be done using [groupby](https://pandas.pydata.org/pandas-docs/stable/generated/pandas.DataFrame.groupby.html).\n",
    "    - ```yelp_businesses = yelp_dataset.groupby('business_id').size() ```\n",
    "    - The .size() counts the number of instances for each business_id, which gives us the number of reviews as each instance in this dataset is a review.\n",
    "    - The following command will sort this list, after which you can take note of the highest value: ```sorted_yelp_businesses = yelp_businesses.sort_values(ascending=False, inplace=False)```\n",
    "    - This approach allows you to see the data structure being used in the sort. A quicker approach to getting the max would be to use the max function: ```max(yelp_businesses)```\n",
    "<br>\n",
    "<br>"
   ]
  },
  {
   "cell_type": "code",
   "execution_count": 43,
   "metadata": {
    "colab": {
     "base_uri": "https://localhost:8080/",
     "height": 204
    },
    "id": "fw6IymkOYVjv",
    "outputId": "0a3d97ea-aac0-4e4a-a75a-f5a52666c017"
   },
   "outputs": [
    {
     "data": {
      "text/html": [
       "<div>\n",
       "<style scoped>\n",
       "    .dataframe tbody tr th:only-of-type {\n",
       "        vertical-align: middle;\n",
       "    }\n",
       "\n",
       "    .dataframe tbody tr th {\n",
       "        vertical-align: top;\n",
       "    }\n",
       "\n",
       "    .dataframe thead th {\n",
       "        text-align: right;\n",
       "    }\n",
       "</style>\n",
       "<table border=\"1\" class=\"dataframe\">\n",
       "  <thead>\n",
       "    <tr style=\"text-align: right;\">\n",
       "      <th></th>\n",
       "      <th>type</th>\n",
       "      <th>business_id</th>\n",
       "      <th>user_id</th>\n",
       "      <th>stars</th>\n",
       "      <th>text</th>\n",
       "      <th>date</th>\n",
       "      <th>cool_votes</th>\n",
       "      <th>useful_votes</th>\n",
       "      <th>funny_votes</th>\n",
       "    </tr>\n",
       "  </thead>\n",
       "  <tbody>\n",
       "    <tr>\n",
       "      <th>0</th>\n",
       "      <td>review</td>\n",
       "      <td>mxrXVZWc6PWk81gvOVNOUw</td>\n",
       "      <td>mv7shusL4Xb6TylVYBv4CA</td>\n",
       "      <td>4</td>\n",
       "      <td>Definitely try the duck dish.   I rank it amon...</td>\n",
       "      <td>2011-06-13</td>\n",
       "      <td>0</td>\n",
       "      <td>0</td>\n",
       "      <td>0</td>\n",
       "    </tr>\n",
       "    <tr>\n",
       "      <th>1</th>\n",
       "      <td>review</td>\n",
       "      <td>mxrXVZWc6PWk81gvOVNOUw</td>\n",
       "      <td>0aN5QPhs-VwK2vusKG0waQ</td>\n",
       "      <td>5</td>\n",
       "      <td>Big Ass Burger was awesome! Great $5 mojitos. ...</td>\n",
       "      <td>2011-06-25</td>\n",
       "      <td>1</td>\n",
       "      <td>0</td>\n",
       "      <td>0</td>\n",
       "    </tr>\n",
       "    <tr>\n",
       "      <th>2</th>\n",
       "      <td>review</td>\n",
       "      <td>kK4AzZ0YWI-U2G-paAL7Fg</td>\n",
       "      <td>0aN5QPhs-VwK2vusKG0waQ</td>\n",
       "      <td>5</td>\n",
       "      <td>Unbelievable sandwiches! Good service.</td>\n",
       "      <td>2011-06-25</td>\n",
       "      <td>0</td>\n",
       "      <td>0</td>\n",
       "      <td>0</td>\n",
       "    </tr>\n",
       "    <tr>\n",
       "      <th>3</th>\n",
       "      <td>review</td>\n",
       "      <td>mxrXVZWc6PWk81gvOVNOUw</td>\n",
       "      <td>1JUwyYab-uJzEx_FRd81Zg</td>\n",
       "      <td>5</td>\n",
       "      <td>Awesome, awesome, awesome! My mom and sister a...</td>\n",
       "      <td>2011-07-18</td>\n",
       "      <td>1</td>\n",
       "      <td>1</td>\n",
       "      <td>0</td>\n",
       "    </tr>\n",
       "    <tr>\n",
       "      <th>4</th>\n",
       "      <td>review</td>\n",
       "      <td>mxrXVZWc6PWk81gvOVNOUw</td>\n",
       "      <td>2Zd3Xy8hUVmZkNg7RyNjhg</td>\n",
       "      <td>4</td>\n",
       "      <td>I had the ribs they were great.  The beer sele...</td>\n",
       "      <td>2011-07-19</td>\n",
       "      <td>1</td>\n",
       "      <td>0</td>\n",
       "      <td>1</td>\n",
       "    </tr>\n",
       "  </tbody>\n",
       "</table>\n",
       "</div>"
      ],
      "text/plain": [
       "     type             business_id  ... useful_votes  funny_votes\n",
       "0  review  mxrXVZWc6PWk81gvOVNOUw  ...            0            0\n",
       "1  review  mxrXVZWc6PWk81gvOVNOUw  ...            0            0\n",
       "2  review  kK4AzZ0YWI-U2G-paAL7Fg  ...            0            0\n",
       "3  review  mxrXVZWc6PWk81gvOVNOUw  ...            1            0\n",
       "4  review  mxrXVZWc6PWk81gvOVNOUw  ...            0            1\n",
       "\n",
       "[5 rows x 9 columns]"
      ]
     },
     "execution_count": 43,
     "metadata": {},
     "output_type": "execute_result"
    }
   ],
   "source": [
    "df.head()"
   ]
  },
  {
   "cell_type": "code",
   "execution_count": 44,
   "metadata": {
    "deletable": false,
    "id": "AbKk0rohItPG",
    "nbgrader": {
     "checksum": "a4b3a58ab839a93b83e514e1db0c11e3",
     "grade": false,
     "grade_id": "cell-b9fd95d084732ea0",
     "locked": false,
     "schema_version": 1,
     "solution": true
    }
   },
   "outputs": [],
   "source": [
    "#Make sure you return the answer value in this function\n",
    "def q1(df):\n",
    "    \n",
    "    # YOUR CODE HERE\n",
    "    yelp_businesses = df.groupby('business_id').size()\n",
    "    return max(yelp_businesses.sort_values(ascending=False, inplace=False))\n",
    "\n",
    "    raise NotImplementedError()"
   ]
  },
  {
   "cell_type": "code",
   "execution_count": 45,
   "metadata": {
    "colab": {
     "base_uri": "https://localhost:8080/"
    },
    "deletable": false,
    "editable": false,
    "id": "rzD83og_ItPJ",
    "nbgrader": {
     "checksum": "e989434a5e20d93eb1500308f7ecf163",
     "grade": true,
     "grade_id": "cell-1d1402069f0f336b",
     "locked": true,
     "points": 0.5,
     "schema_version": 1,
     "solution": false
    },
    "outputId": "d86334bf-05b3-4ec5-fd82-6ff5a067021f"
   },
   "outputs": [
    {
     "name": "stdout",
     "output_type": "stream",
     "text": [
      "4128\n"
     ]
    }
   ],
   "source": [
    "#This is an autograded cell, do not edit\n",
    "print(q1(df))\n"
   ]
  },
  {
   "cell_type": "markdown",
   "metadata": {
    "deletable": false,
    "editable": false,
    "id": "fZ_McPZ-ItPL",
    "nbgrader": {
     "checksum": "6cde0278ab840df1fb90b16ca8c14a8a",
     "grade": false,
     "grade_id": "cell-c998b50208612779",
     "locked": true,
     "schema_version": 1,
     "solution": false
    }
   },
   "source": [
    "**Q2: What was the average number of reviews for a business_id?**"
   ]
  },
  {
   "cell_type": "code",
   "execution_count": 46,
   "metadata": {
    "deletable": false,
    "id": "0V-m-GMAItPM",
    "nbgrader": {
     "checksum": "6ff0153f15cd01aa6d958646c22cd2eb",
     "grade": false,
     "grade_id": "cell-bda529e7277d1978",
     "locked": false,
     "schema_version": 1,
     "solution": true
    }
   },
   "outputs": [],
   "source": [
    "#Make sure you return the answer value in this function\n",
    "def q2(df):\n",
    "    \n",
    "    # YOUR CODE HERE\n",
    "    yelp_businesses = df.groupby('business_id').size()\n",
    "    return np.mean(yelp_businesses)\n",
    "\n",
    "    raise NotImplementedError()"
   ]
  },
  {
   "cell_type": "code",
   "execution_count": 47,
   "metadata": {
    "colab": {
     "base_uri": "https://localhost:8080/"
    },
    "deletable": false,
    "editable": false,
    "id": "V_9IXDmvItPO",
    "nbgrader": {
     "checksum": "72d8375074f6e5eb294215044c460696",
     "grade": true,
     "grade_id": "cell-febce0a51b6da9da",
     "locked": true,
     "points": 0.5,
     "schema_version": 1,
     "solution": false
    },
    "outputId": "10bfd57e-ff79-4511-d036-2034b7be810d"
   },
   "outputs": [
    {
     "name": "stdout",
     "output_type": "stream",
     "text": [
      "12.63413902163123\n"
     ]
    }
   ],
   "source": [
    "#This is an autograded cell, do not edit\n",
    "print(q2(df))\n"
   ]
  },
  {
   "cell_type": "markdown",
   "metadata": {
    "deletable": false,
    "editable": false,
    "id": "T9bRVaYZItPQ",
    "nbgrader": {
     "checksum": "d6874779b6c6d2e361fc9891455b6960",
     "grade": false,
     "grade_id": "cell-a568a611d600caa2",
     "locked": true,
     "schema_version": 1,
     "solution": false
    }
   },
   "source": [
    "**Q3: What is the average number of reviews per reviewer?**"
   ]
  },
  {
   "cell_type": "code",
   "execution_count": 48,
   "metadata": {
    "deletable": false,
    "id": "J58jfsKTItPQ",
    "nbgrader": {
     "checksum": "369c594937118aa98e0aea635c345943",
     "grade": false,
     "grade_id": "cell-f92e05c4b7a28174",
     "locked": false,
     "schema_version": 1,
     "solution": true
    }
   },
   "outputs": [],
   "source": [
    "#Make sure you return the answer value in this function\n",
    "\n",
    "\n",
    "def q3(df):\n",
    "    \n",
    "    # YOUR CODE HERE\n",
    "    reviewer  = df.groupby('user_id').size()\n",
    "    return np.mean(reviewer)\n",
    "\n",
    "    raise NotImplementedError()"
   ]
  },
  {
   "cell_type": "code",
   "execution_count": 49,
   "metadata": {
    "colab": {
     "base_uri": "https://localhost:8080/"
    },
    "deletable": false,
    "editable": false,
    "id": "Wx5wcx6pItPT",
    "nbgrader": {
     "checksum": "7ed7ddd4ec46674bdd89445dc1034175",
     "grade": true,
     "grade_id": "cell-d76279e8e7d4a79f",
     "locked": true,
     "points": 0.5,
     "schema_version": 1,
     "solution": false
    },
    "outputId": "b011cf72-7d5f-42ae-bc9a-946683962f69"
   },
   "outputs": [
    {
     "name": "stdout",
     "output_type": "stream",
     "text": [
      "3.188511934933203\n"
     ]
    }
   ],
   "source": [
    "#This is an autograded cell, do not edit\n",
    "print(q3(df))\n"
   ]
  },
  {
   "cell_type": "markdown",
   "metadata": {
    "deletable": false,
    "editable": false,
    "id": "oa0doTGiItPW",
    "nbgrader": {
     "checksum": "e8d5fd42acde59c3bd19cc07db76ac1c",
     "grade": false,
     "grade_id": "cell-c76f8dc8692f2472",
     "locked": true,
     "schema_version": 1,
     "solution": false
    }
   },
   "source": [
    "**Q4: Calculate the total cool votes per reviewer, then average these totals across reviewers.**"
   ]
  },
  {
   "cell_type": "code",
   "execution_count": 50,
   "metadata": {
    "deletable": false,
    "id": "sWuWYjrSItPX",
    "nbgrader": {
     "checksum": "2db144055be1d1f506af2bbdcf924e58",
     "grade": false,
     "grade_id": "cell-f06192fbabe75195",
     "locked": false,
     "schema_version": 1,
     "solution": true
    }
   },
   "outputs": [],
   "source": [
    "#Make sure you return the answer value in this function\n",
    "def q4(df):\n",
    "    \n",
    "    # YOUR CODE HERE\n",
    "    reviewer  = df.groupby('user_id').sum()\n",
    "    return np.mean(reviewer['cool_votes'])\n",
    "\n",
    "    raise NotImplementedError()"
   ]
  },
  {
   "cell_type": "code",
   "execution_count": 51,
   "metadata": {
    "colab": {
     "base_uri": "https://localhost:8080/"
    },
    "deletable": false,
    "editable": false,
    "id": "z3o9lMo-ItPZ",
    "nbgrader": {
     "checksum": "70b555da34836694349c4923beb1950b",
     "grade": true,
     "grade_id": "cell-cabbe00e6fee304e",
     "locked": true,
     "points": 0.5,
     "schema_version": 1,
     "solution": false
    },
    "outputId": "75c2096f-9de1-40c1-f5ff-697986bf025f"
   },
   "outputs": [
    {
     "name": "stdout",
     "output_type": "stream",
     "text": [
      "1.2417282785380945\n"
     ]
    }
   ],
   "source": [
    "#This is an autograded cell, do not edit\n",
    "print(q4(df))\n"
   ]
  },
  {
   "cell_type": "markdown",
   "metadata": {
    "deletable": false,
    "editable": false,
    "id": "fDD4Lh8fItPb",
    "nbgrader": {
     "checksum": "1e80dfdd5311c1dd540fafe446ad10c3",
     "grade": false,
     "grade_id": "cell-9e278b8cd31ace62",
     "locked": true,
     "schema_version": 1,
     "solution": false
    }
   },
   "source": [
    "**Q5: Calculate the total funny votes per reviewer, then average these totals across reviewers.**"
   ]
  },
  {
   "cell_type": "code",
   "execution_count": 52,
   "metadata": {
    "deletable": false,
    "id": "KiVt8qB7ItPc",
    "nbgrader": {
     "checksum": "cb6393f6479792516d064ab368490d90",
     "grade": false,
     "grade_id": "cell-93635f0a6f297df9",
     "locked": false,
     "schema_version": 1,
     "solution": true
    }
   },
   "outputs": [],
   "source": [
    "#Make sure you return the answer value in this function\n",
    "def q5(df):\n",
    "    \n",
    "    # YOUR CODE HERE\n",
    "    return np.mean(df.groupby('user_id').sum()['funny_votes'])\n",
    "\n",
    "    raise NotImplementedError()"
   ]
  },
  {
   "cell_type": "code",
   "execution_count": 53,
   "metadata": {
    "colab": {
     "base_uri": "https://localhost:8080/"
    },
    "deletable": false,
    "editable": false,
    "id": "bWzUljWAItPe",
    "nbgrader": {
     "checksum": "d3be5fcefa0f798be6504de7f8f1b344",
     "grade": true,
     "grade_id": "cell-4c41413214d2d4f1",
     "locked": true,
     "points": 0.5,
     "schema_version": 1,
     "solution": false
    },
    "outputId": "3ed83681-5f10-4fcf-dc7c-3fdfbf5ea198"
   },
   "outputs": [
    {
     "name": "stdout",
     "output_type": "stream",
     "text": [
      "1.10126486404605\n"
     ]
    }
   ],
   "source": [
    "#This is an autograded cell, do not edit\n",
    "print(q5(df))\n"
   ]
  },
  {
   "cell_type": "markdown",
   "metadata": {
    "deletable": false,
    "editable": false,
    "id": "qx0rBKw9ItPg",
    "nbgrader": {
     "checksum": "e62dd2a28323b8d943f63dda321c3aea",
     "grade": false,
     "grade_id": "cell-9554ed7bdee76fb1",
     "locked": true,
     "schema_version": 1,
     "solution": false
    }
   },
   "source": [
    "**Q6: Calculate the total useful votes per reviewer, then average these totals across reviewers.**"
   ]
  },
  {
   "cell_type": "code",
   "execution_count": 54,
   "metadata": {
    "deletable": false,
    "id": "KIYaRM3uItPh",
    "nbgrader": {
     "checksum": "4375ea8e9efa96b5ea65a2f4f553faad",
     "grade": false,
     "grade_id": "cell-2cebd87b7f8b37d1",
     "locked": false,
     "schema_version": 1,
     "solution": true
    }
   },
   "outputs": [],
   "source": [
    "#Make sure you return the answer in this function\n",
    "def q6(df):\n",
    "    \n",
    "    # YOUR CODE HERE\n",
    "    return np.mean(df.groupby('user_id').sum()['useful_votes'])\n",
    "\n",
    "    raise NotImplementedError()"
   ]
  },
  {
   "cell_type": "code",
   "execution_count": 55,
   "metadata": {
    "colab": {
     "base_uri": "https://localhost:8080/"
    },
    "deletable": false,
    "editable": false,
    "id": "xrNe4FWdItPj",
    "nbgrader": {
     "checksum": "2435ef28744576ab65e21558b65e0a5e",
     "grade": true,
     "grade_id": "cell-1a546329acbcd0e4",
     "locked": true,
     "points": 0.5,
     "schema_version": 1,
     "solution": false
    },
    "outputId": "78ef083c-93a4-42fe-9f72-715aa3aa9ae2"
   },
   "outputs": [
    {
     "name": "stdout",
     "output_type": "stream",
     "text": [
      "2.484476138872867\n"
     ]
    }
   ],
   "source": [
    "#This is an autograded cell, do not edit\n",
    "print(q6(df))\n"
   ]
  },
  {
   "cell_type": "markdown",
   "metadata": {
    "deletable": false,
    "editable": false,
    "id": "yUBt7rj9ItP-",
    "nbgrader": {
     "checksum": "560323764f6c0effd9615228a4dd9537",
     "grade": false,
     "grade_id": "cell-328aa1a4c9a958d8",
     "locked": true,
     "schema_version": 1,
     "solution": false
    }
   },
   "source": [
    "**Q7: On average, what percentage of a reviewer's votes are cool votes?**\n",
    "\n",
    "(hint1: calculate the percentage of cool votes for each reviewer, then average across reviewers)\n",
    "\n",
    "(hint2: you should discard reviewers who have zero total votes from your calculation)"
   ]
  },
  {
   "cell_type": "code",
   "execution_count": 56,
   "metadata": {
    "deletable": false,
    "id": "LuFzcyytItP-",
    "nbgrader": {
     "checksum": "c4ca0edbf727b2adc41527ebb2129cef",
     "grade": false,
     "grade_id": "cell-54fe5dd9777347a1",
     "locked": false,
     "schema_version": 1,
     "solution": true
    }
   },
   "outputs": [],
   "source": [
    "#Make sure you return the answer in this function\n",
    "#Remember to multiply by 100 for percentages\n",
    "def q7(df):\n",
    "    \n",
    "    # YOUR CODE HERE\n",
    "    df['total_votes'] = df['cool_votes'] + df['useful_votes'] + df['funny_votes']\n",
    "    df_clean = df[df['total_votes'] != 0]       #get rid of the 0 total votes\n",
    "    df_clean = df_clean.groupby('user_id').sum()\n",
    "    df_clean['percentage_cool(%)'] = (df_clean['cool_votes'] / df_clean['total_votes']) * 100    #calculate the %\n",
    "\n",
    "    return np.mean(df_clean['percentage_cool(%)'])\n",
    "\n",
    "    raise NotImplementedError()"
   ]
  },
  {
   "cell_type": "code",
   "execution_count": 57,
   "metadata": {
    "colab": {
     "base_uri": "https://localhost:8080/"
    },
    "deletable": false,
    "editable": false,
    "id": "ftY6isjeItQA",
    "nbgrader": {
     "checksum": "6ba2d96b43cc0796b9c8ec31e17fefe9",
     "grade": true,
     "grade_id": "cell-594b1121d785d15e",
     "locked": true,
     "points": 0.5,
     "schema_version": 1,
     "solution": false
    },
    "outputId": "c5bdcceb-936b-4ad6-b9ad-9ac4b5b557e0"
   },
   "outputs": [
    {
     "name": "stdout",
     "output_type": "stream",
     "text": [
      "19.27\n"
     ]
    }
   ],
   "source": [
    "#This is an autograded cell, do not edit\n",
    "#Remember to multiply by 100 for percentages\n",
    "print(round(q7(df),2))\n"
   ]
  },
  {
   "cell_type": "markdown",
   "metadata": {
    "deletable": false,
    "editable": false,
    "id": "zKe8LJJLItQC",
    "nbgrader": {
     "checksum": "f7ca49268591f6d357d5e4d4be17e3c9",
     "grade": false,
     "grade_id": "cell-8b434399df89705e",
     "locked": true,
     "schema_version": 1,
     "solution": false
    }
   },
   "source": [
    "**Q8: On average, what percentage of a reviewer's votes are funny votes?**\n",
    "\n",
    "(hint1: calculate the percentage of funny votes for each reviewer, then average across reviewers)\n",
    "\n",
    "(hint2: you should discard reviewers who have zero total votes from your calculation)"
   ]
  },
  {
   "cell_type": "code",
   "execution_count": 58,
   "metadata": {
    "deletable": false,
    "id": "DkXVxKdXItQC",
    "nbgrader": {
     "checksum": "b869bd5447e8ea81d0af3cae06012b94",
     "grade": false,
     "grade_id": "cell-a3dc739b16a53957",
     "locked": false,
     "schema_version": 1,
     "solution": true
    }
   },
   "outputs": [],
   "source": [
    "#Make sure you return the answer in this function\n",
    "#Remember to multiply by 100 for percentages\n",
    "def q8(df):\n",
    "    \n",
    "    # YOUR CODE HERE\n",
    "    df['total_votes'] = df['cool_votes'] + df['useful_votes'] + df['funny_votes']\n",
    "    df_clean = df[df['total_votes'] != 0]       #get rid of the 0 total votes\n",
    "    df_clean = df_clean.groupby('user_id').sum()\n",
    "    df_clean['percentage_funny(%)'] = (df_clean['funny_votes'] / df_clean['total_votes']) * 100    #calculate the %\n",
    "\n",
    "    return np.mean(df_clean['percentage_funny(%)'])\n",
    "\n",
    "    raise NotImplementedError()"
   ]
  },
  {
   "cell_type": "code",
   "execution_count": 59,
   "metadata": {
    "colab": {
     "base_uri": "https://localhost:8080/"
    },
    "deletable": false,
    "editable": false,
    "id": "q6uEzM9HItQE",
    "nbgrader": {
     "checksum": "2ef3655caaaedc3e433262c7db94fb77",
     "grade": true,
     "grade_id": "cell-e7fdee0fd548baf1",
     "locked": true,
     "points": 0.5,
     "schema_version": 1,
     "solution": false
    },
    "outputId": "130f7393-fed0-4f80-baa5-0bf98e52105a"
   },
   "outputs": [
    {
     "name": "stdout",
     "output_type": "stream",
     "text": [
      "18.26\n"
     ]
    }
   ],
   "source": [
    "#This is an autograded cell, do not edit\n",
    "print(round(q8(df),2))\n"
   ]
  },
  {
   "cell_type": "markdown",
   "metadata": {
    "deletable": false,
    "editable": false,
    "id": "wYs2eqhSItQI",
    "nbgrader": {
     "checksum": "3ce1c8eefc6053b8515dc4218c5a0afb",
     "grade": false,
     "grade_id": "cell-40cd96c922286117",
     "locked": true,
     "schema_version": 1,
     "solution": false
    }
   },
   "source": [
    "**Q9: On average, what percentage of a reviewer's votes are useful votes?**\n",
    "\n",
    "(hint1: calculate the percentage of useful votes for each reviewer, then average across reviewers)\n",
    "\n",
    "(hint2: you should discard reviewers who have zero total votes from your calculation)"
   ]
  },
  {
   "cell_type": "code",
   "execution_count": 60,
   "metadata": {
    "deletable": false,
    "id": "56CBDjgrItQI",
    "nbgrader": {
     "checksum": "c8e322eafbf209672785a2c9f7c97f52",
     "grade": false,
     "grade_id": "cell-38769f4cbbe9cb8f",
     "locked": false,
     "schema_version": 1,
     "solution": true
    }
   },
   "outputs": [],
   "source": [
    "#Make sure you return the answer in this function\n",
    "def q9(df):\n",
    "    \n",
    "    # YOUR CODE HERE\n",
    "    df['total_votes'] = df['cool_votes'] + df['useful_votes'] + df['funny_votes']\n",
    "    df_clean = df[df['total_votes'] != 0]       #get rid of the 0 total votes\n",
    "    df_clean = df_clean.groupby('user_id').sum()\n",
    "    df_clean['percentage_useful(%)'] = (df_clean['useful_votes'] / df_clean['total_votes']) * 100    #calculate the %\n",
    "\n",
    "    return np.mean(df_clean['percentage_useful(%)'])\n",
    "\n",
    "    raise NotImplementedError()"
   ]
  },
  {
   "cell_type": "code",
   "execution_count": 61,
   "metadata": {
    "colab": {
     "base_uri": "https://localhost:8080/"
    },
    "deletable": false,
    "editable": false,
    "id": "LvE8ZWSOItQL",
    "nbgrader": {
     "checksum": "d3aeca2366b4c12d564167261c6bc6a2",
     "grade": true,
     "grade_id": "cell-590fb1425068cc06",
     "locked": true,
     "points": 0.5,
     "schema_version": 1,
     "solution": false
    },
    "outputId": "2be051f0-bc70-4d6e-d624-2620758e57ab"
   },
   "outputs": [
    {
     "name": "stdout",
     "output_type": "stream",
     "text": [
      "62.47\n"
     ]
    }
   ],
   "source": [
    "#This is an autograded cell, do not edit\n",
    "print(round(q9(df),2))\n"
   ]
  },
  {
   "cell_type": "markdown",
   "metadata": {
    "deletable": false,
    "editable": false,
    "id": "2ixankjPItQO",
    "nbgrader": {
     "checksum": "2efdbde3ea13f0e1829d7488da2c6d92",
     "grade": false,
     "grade_id": "cell-615a3d7b2c4e0e26",
     "locked": true,
     "schema_version": 1,
     "solution": false
    }
   },
   "source": [
    "**Q10: Average review text length (in non-space characters)**"
   ]
  },
  {
   "cell_type": "code",
   "execution_count": 62,
   "metadata": {
    "deletable": false,
    "id": "qgwHiHaVItQP",
    "nbgrader": {
     "checksum": "59cc81340d9a1967bd6d3a0ffcacdcf3",
     "grade": false,
     "grade_id": "cell-75ec15303c64c506",
     "locked": false,
     "schema_version": 1,
     "solution": true
    }
   },
   "outputs": [],
   "source": [
    "#Make sure you return the answer in this function\n",
    "def q10(df):\n",
    "    \n",
    "    # YOUR CODE HERE\n",
    "    df['text_len'] = 0\n",
    "    df['text_len'] = df['text'].str.replace(\" \", \"\").str.len()\n",
    "    return np.mean(df['text_len'])\n",
    "\n",
    "    raise NotImplementedError()"
   ]
  },
  {
   "cell_type": "code",
   "execution_count": 63,
   "metadata": {
    "colab": {
     "base_uri": "https://localhost:8080/"
    },
    "deletable": false,
    "editable": false,
    "id": "_XmxRXdFItQQ",
    "nbgrader": {
     "checksum": "083e5ff6b77629d8784b8f6a30352251",
     "grade": true,
     "grade_id": "cell-d9fb4fc39a0b21c4",
     "locked": true,
     "points": 1,
     "schema_version": 1,
     "solution": false
    },
    "outputId": "6525894f-5497-413f-fb22-ec55e2095433"
   },
   "outputs": [
    {
     "name": "stdout",
     "output_type": "stream",
     "text": [
      "499.0\n"
     ]
    }
   ],
   "source": [
    "#This is an autograded cell, do not edit\n",
    "print(round(q10(df),0))\n"
   ]
  },
  {
   "cell_type": "markdown",
   "metadata": {
    "deletable": false,
    "editable": false,
    "id": "03gWN2PAItQS",
    "nbgrader": {
     "checksum": "54c8c584ece619ea786165e50a4e1002",
     "grade": false,
     "grade_id": "cell-a21a423546eb8654",
     "locked": true,
     "schema_version": 1,
     "solution": false
    }
   },
   "source": [
    "**Q11: Year in which the reviewer wrote the most reviews. Once you have this for each reviewer, subtract the minimum possible year (2004) from each so that your final feature values are 0, 1, 2 etc.**"
   ]
  },
  {
   "cell_type": "code",
   "execution_count": 64,
   "metadata": {
    "colab": {
     "base_uri": "https://localhost:8080/",
     "height": 419
    },
    "deletable": false,
    "id": "XideHYGkItQT",
    "nbgrader": {
     "checksum": "d6d5ba528ca188b45b1e36e5385caab0",
     "grade": true,
     "grade_id": "cell-5c7a809865483dca",
     "locked": false,
     "points": 1.5,
     "schema_version": 1,
     "solution": true
    },
    "outputId": "b583fa73-68e4-4b74-e469-67d7dbe117e2"
   },
   "outputs": [
    {
     "data": {
      "text/html": [
       "<div>\n",
       "<style scoped>\n",
       "    .dataframe tbody tr th:only-of-type {\n",
       "        vertical-align: middle;\n",
       "    }\n",
       "\n",
       "    .dataframe tbody tr th {\n",
       "        vertical-align: top;\n",
       "    }\n",
       "\n",
       "    .dataframe thead th {\n",
       "        text-align: right;\n",
       "    }\n",
       "</style>\n",
       "<table border=\"1\" class=\"dataframe\">\n",
       "  <thead>\n",
       "    <tr style=\"text-align: right;\">\n",
       "      <th></th>\n",
       "      <th>user_id</th>\n",
       "      <th>year</th>\n",
       "      <th>counts</th>\n",
       "    </tr>\n",
       "  </thead>\n",
       "  <tbody>\n",
       "    <tr>\n",
       "      <th>0</th>\n",
       "      <td>--1Y03CEKR3WDbBjYnsW7A</td>\n",
       "      <td>7</td>\n",
       "      <td>1</td>\n",
       "    </tr>\n",
       "    <tr>\n",
       "      <th>1</th>\n",
       "      <td>--2QZsyXGz1OhiD4-0FQLQ</td>\n",
       "      <td>10</td>\n",
       "      <td>3</td>\n",
       "    </tr>\n",
       "    <tr>\n",
       "      <th>2</th>\n",
       "      <td>--82_AVgRBsLw6Dhy8sEnA</td>\n",
       "      <td>4</td>\n",
       "      <td>1</td>\n",
       "    </tr>\n",
       "    <tr>\n",
       "      <th>3</th>\n",
       "      <td>--8A9o_NeGyt_3kzlXtSdg</td>\n",
       "      <td>12</td>\n",
       "      <td>2</td>\n",
       "    </tr>\n",
       "    <tr>\n",
       "      <th>4</th>\n",
       "      <td>--8WbseBk1NjfPiZWjQ-XQ</td>\n",
       "      <td>12</td>\n",
       "      <td>4</td>\n",
       "    </tr>\n",
       "    <tr>\n",
       "      <th>...</th>\n",
       "      <td>...</td>\n",
       "      <td>...</td>\n",
       "      <td>...</td>\n",
       "    </tr>\n",
       "    <tr>\n",
       "      <th>171634</th>\n",
       "      <td>zzv762b871Wp3SVxsFQqHw</td>\n",
       "      <td>11</td>\n",
       "      <td>1</td>\n",
       "    </tr>\n",
       "    <tr>\n",
       "      <th>171635</th>\n",
       "      <td>zzvflqB4xAcKFbIbS6HSOw</td>\n",
       "      <td>10</td>\n",
       "      <td>10</td>\n",
       "    </tr>\n",
       "    <tr>\n",
       "      <th>171636</th>\n",
       "      <td>zzwu0nG0MCUP43zNSr5k-A</td>\n",
       "      <td>11</td>\n",
       "      <td>1</td>\n",
       "    </tr>\n",
       "    <tr>\n",
       "      <th>171637</th>\n",
       "      <td>zzx-JA0qEz5eTO3GMv99NA</td>\n",
       "      <td>11</td>\n",
       "      <td>1</td>\n",
       "    </tr>\n",
       "    <tr>\n",
       "      <th>171638</th>\n",
       "      <td>zzyeArRv6I5HpEJlOCOPAQ</td>\n",
       "      <td>12</td>\n",
       "      <td>1</td>\n",
       "    </tr>\n",
       "  </tbody>\n",
       "</table>\n",
       "<p>171639 rows × 3 columns</p>\n",
       "</div>"
      ],
      "text/plain": [
       "                       user_id  year  counts\n",
       "0       --1Y03CEKR3WDbBjYnsW7A     7       1\n",
       "1       --2QZsyXGz1OhiD4-0FQLQ    10       3\n",
       "2       --82_AVgRBsLw6Dhy8sEnA     4       1\n",
       "3       --8A9o_NeGyt_3kzlXtSdg    12       2\n",
       "4       --8WbseBk1NjfPiZWjQ-XQ    12       4\n",
       "...                        ...   ...     ...\n",
       "171634  zzv762b871Wp3SVxsFQqHw    11       1\n",
       "171635  zzvflqB4xAcKFbIbS6HSOw    10      10\n",
       "171636  zzwu0nG0MCUP43zNSr5k-A    11       1\n",
       "171637  zzx-JA0qEz5eTO3GMv99NA    11       1\n",
       "171638  zzyeArRv6I5HpEJlOCOPAQ    12       1\n",
       "\n",
       "[171639 rows x 3 columns]"
      ]
     },
     "execution_count": 64,
     "metadata": {},
     "output_type": "execute_result"
    }
   ],
   "source": [
    "# YOUR CODE HERE\n",
    "df['year'] = df['date'].str[:4]     #get the year for each reviewer\n",
    "df['year'] = pd.to_datetime(df['year']).dt.year\n",
    "temp = df.groupby(['user_id', 'year']).size().reset_index(name='count')     #get the count of reviews for each reviews in the same year\n",
    "temp = temp.groupby('user_id').max() #earlier year if duplicated counts (longer time)\n",
    "temp['year'] = temp['year'] - 2004\n",
    "temp.columns = ['year', 'counts']\n",
    "temp = temp.reset_index()\n",
    "temp\n",
    "# raise NotImplementedError()"
   ]
  },
  {
   "cell_type": "markdown",
   "metadata": {
    "deletable": false,
    "editable": false,
    "id": "waqvrQeDItQV",
    "nbgrader": {
     "checksum": "93f7e9ef2385bdac5184802eb7e1ce75",
     "grade": false,
     "grade_id": "cell-da33d981591f0ff3",
     "locked": true,
     "schema_version": 1,
     "solution": false
    }
   },
   "source": [
    "**Q12: Come up with a new feature for every review. This may be derived from existing features.\n",
    "Give your feature the name *my_new_feature.* Display head() of this new feature.**"
   ]
  },
  {
   "cell_type": "code",
   "execution_count": 65,
   "metadata": {
    "colab": {
     "base_uri": "https://localhost:8080/",
     "height": 204
    },
    "deletable": false,
    "id": "j3TZ3TD2ItQW",
    "nbgrader": {
     "checksum": "787d48b01fdbfeab0810cceb64c1abb3",
     "grade": true,
     "grade_id": "cell-09bbdc6a2946b441",
     "locked": false,
     "points": 1,
     "schema_version": 1,
     "solution": true
    },
    "outputId": "89c7126e-19d9-4af1-ba67-0911587e07d6"
   },
   "outputs": [
    {
     "data": {
      "text/html": [
       "<div>\n",
       "<style scoped>\n",
       "    .dataframe tbody tr th:only-of-type {\n",
       "        vertical-align: middle;\n",
       "    }\n",
       "\n",
       "    .dataframe tbody tr th {\n",
       "        vertical-align: top;\n",
       "    }\n",
       "\n",
       "    .dataframe thead th {\n",
       "        text-align: right;\n",
       "    }\n",
       "</style>\n",
       "<table border=\"1\" class=\"dataframe\">\n",
       "  <thead>\n",
       "    <tr style=\"text-align: right;\">\n",
       "      <th></th>\n",
       "      <th>type</th>\n",
       "      <th>business_id</th>\n",
       "      <th>user_id</th>\n",
       "      <th>stars</th>\n",
       "      <th>text</th>\n",
       "      <th>date</th>\n",
       "      <th>cool_votes</th>\n",
       "      <th>useful_votes</th>\n",
       "      <th>funny_votes</th>\n",
       "      <th>total_votes</th>\n",
       "      <th>text_len</th>\n",
       "      <th>year</th>\n",
       "      <th>my_new_feature</th>\n",
       "    </tr>\n",
       "  </thead>\n",
       "  <tbody>\n",
       "    <tr>\n",
       "      <th>0</th>\n",
       "      <td>review</td>\n",
       "      <td>mxrXVZWc6PWk81gvOVNOUw</td>\n",
       "      <td>mv7shusL4Xb6TylVYBv4CA</td>\n",
       "      <td>4</td>\n",
       "      <td>Definitely try the duck dish.   I rank it amon...</td>\n",
       "      <td>2011-06-13</td>\n",
       "      <td>0</td>\n",
       "      <td>0</td>\n",
       "      <td>0</td>\n",
       "      <td>0</td>\n",
       "      <td>162</td>\n",
       "      <td>2011</td>\n",
       "      <td>4.000000</td>\n",
       "    </tr>\n",
       "    <tr>\n",
       "      <th>1</th>\n",
       "      <td>review</td>\n",
       "      <td>mxrXVZWc6PWk81gvOVNOUw</td>\n",
       "      <td>0aN5QPhs-VwK2vusKG0waQ</td>\n",
       "      <td>5</td>\n",
       "      <td>Big Ass Burger was awesome! Great $5 mojitos. ...</td>\n",
       "      <td>2011-06-25</td>\n",
       "      <td>1</td>\n",
       "      <td>0</td>\n",
       "      <td>0</td>\n",
       "      <td>1</td>\n",
       "      <td>84</td>\n",
       "      <td>2011</td>\n",
       "      <td>5.000000</td>\n",
       "    </tr>\n",
       "    <tr>\n",
       "      <th>2</th>\n",
       "      <td>review</td>\n",
       "      <td>kK4AzZ0YWI-U2G-paAL7Fg</td>\n",
       "      <td>0aN5QPhs-VwK2vusKG0waQ</td>\n",
       "      <td>5</td>\n",
       "      <td>Unbelievable sandwiches! Good service.</td>\n",
       "      <td>2011-06-25</td>\n",
       "      <td>0</td>\n",
       "      <td>0</td>\n",
       "      <td>0</td>\n",
       "      <td>0</td>\n",
       "      <td>35</td>\n",
       "      <td>2011</td>\n",
       "      <td>5.000000</td>\n",
       "    </tr>\n",
       "    <tr>\n",
       "      <th>3</th>\n",
       "      <td>review</td>\n",
       "      <td>mxrXVZWc6PWk81gvOVNOUw</td>\n",
       "      <td>1JUwyYab-uJzEx_FRd81Zg</td>\n",
       "      <td>5</td>\n",
       "      <td>Awesome, awesome, awesome! My mom and sister a...</td>\n",
       "      <td>2011-07-18</td>\n",
       "      <td>1</td>\n",
       "      <td>1</td>\n",
       "      <td>0</td>\n",
       "      <td>2</td>\n",
       "      <td>257</td>\n",
       "      <td>2011</td>\n",
       "      <td>5.000000</td>\n",
       "    </tr>\n",
       "    <tr>\n",
       "      <th>4</th>\n",
       "      <td>review</td>\n",
       "      <td>mxrXVZWc6PWk81gvOVNOUw</td>\n",
       "      <td>2Zd3Xy8hUVmZkNg7RyNjhg</td>\n",
       "      <td>4</td>\n",
       "      <td>I had the ribs they were great.  The beer sele...</td>\n",
       "      <td>2011-07-19</td>\n",
       "      <td>1</td>\n",
       "      <td>0</td>\n",
       "      <td>1</td>\n",
       "      <td>2</td>\n",
       "      <td>147</td>\n",
       "      <td>2011</td>\n",
       "      <td>3.470588</td>\n",
       "    </tr>\n",
       "  </tbody>\n",
       "</table>\n",
       "</div>"
      ],
      "text/plain": [
       "     type             business_id  ...  year  my_new_feature\n",
       "0  review  mxrXVZWc6PWk81gvOVNOUw  ...  2011        4.000000\n",
       "1  review  mxrXVZWc6PWk81gvOVNOUw  ...  2011        5.000000\n",
       "2  review  kK4AzZ0YWI-U2G-paAL7Fg  ...  2011        5.000000\n",
       "3  review  mxrXVZWc6PWk81gvOVNOUw  ...  2011        5.000000\n",
       "4  review  mxrXVZWc6PWk81gvOVNOUw  ...  2011        3.470588\n",
       "\n",
       "[5 rows x 13 columns]"
      ]
     },
     "execution_count": 65,
     "metadata": {},
     "output_type": "execute_result"
    }
   ],
   "source": [
    "# YOUR CODE HERE\n",
    "avg_star_df = df.groupby('user_id').mean()['stars'].reset_index(name='my_new_feature')  #average star of a single business\n",
    "new_df = df.merge(avg_star_df, on = 'user_id', how = 'left')\n",
    "new_df.head()\n",
    "# raise NotImplementedError()"
   ]
  },
  {
   "cell_type": "code",
   "execution_count": 65,
   "metadata": {
    "id": "87ye2H_UZrNN"
   },
   "outputs": [],
   "source": []
  }
 ],
 "metadata": {
  "colab": {
   "collapsed_sections": [],
   "name": "DENG_YINGLU_Lab1.ipynb",
   "provenance": []
  },
  "kernelspec": {
   "display_name": "Python 3",
   "language": "python",
   "name": "python3"
  },
  "language_info": {
   "codemirror_mode": {
    "name": "ipython",
    "version": 3
   },
   "file_extension": ".py",
   "mimetype": "text/x-python",
   "name": "python",
   "nbconvert_exporter": "python",
   "pygments_lexer": "ipython3",
   "version": "3.7.6"
  }
 },
 "nbformat": 4,
 "nbformat_minor": 1
}
